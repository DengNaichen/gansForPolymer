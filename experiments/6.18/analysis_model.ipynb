{
 "metadata": {
  "language_info": {
   "codemirror_mode": {
    "name": "ipython",
    "version": 3
   },
   "file_extension": ".py",
   "mimetype": "text/x-python",
   "name": "python",
   "nbconvert_exporter": "python",
   "pygments_lexer": "ipython3",
   "version": "3.7.7"
  },
  "orig_nbformat": 4,
  "kernelspec": {
   "name": "python3",
   "language": "python",
   "display_name": "Python 3"
  },
  "interpreter": {
   "hash": "7730c0d776d751709ccd13122b82dd2bb34992ff422585b887faec20c724fcc9"
  }
 },
 "nbformat": 4,
 "nbformat_minor": 2,
 "cells": [
  {
   "cell_type": "markdown",
   "metadata": {
    "pycharm": {
     "name": "#%% md\n"
    }
   },
   "source": [
    "import useful package"
   ]
  },
  {
   "cell_type": "code",
   "execution_count": 24,
   "outputs": [],
   "source": [
    "import torch\n",
    "import matplotlib.pyplot as plt\n",
    "import six_layers as model\n",
    "import Naicheng.res.process_data.process_output as pro_out\n",
    "import Naicheng.res.process_data.process_raw_data as pr\n",
    "import Naicheng.res.process_data.dire_and_coor as dc\n",
    "import Naicheng.res.process_data.loop_overlap as lp\n",
    "from Naicheng.res.process_data.dataset import tensor_dataset\n",
    "from torch.utils.data import DataLoader\n",
    "import seaborn as sns\n",
    "import Naicheng.res.fnn.functions as func\n",
    "import Naicheng.res.process_data.analysis_model as am\n",
    "import numpy as np\n",
    "import json\n",
    "import Naicheng.res.process_data.rg2 as rg"
   ],
   "metadata": {
    "collapsed": false,
    "pycharm": {
     "name": "#%%\n"
    }
   }
  },
  {
   "cell_type": "markdown",
   "source": [
    "1. read raw data\n",
    "2. calculate the n to n distance of input polymer"
   ],
   "metadata": {
    "collapsed": false,
    "pycharm": {
     "name": "#%% md\n"
    }
   }
  },
  {
   "cell_type": "code",
   "execution_count": 25,
   "outputs": [],
   "source": [
    "input_coorinate = np.load('../../data/coordinates.npy')\n",
    "input_three_dirc = np.load('../../data/three_directions.npy')"
   ],
   "metadata": {
    "collapsed": false,
    "pycharm": {
     "name": "#%%\n"
    }
   }
  },
  {
   "cell_type": "markdown",
   "source": [
    "for input data we have the n to n distance:\n",
    "\n",
    "mean value: 6.499296237636025\n",
    "\n",
    "std: 2.262412079054168\n",
    "\n",
    "mse: 5.118508415450203"
   ],
   "metadata": {
    "collapsed": false,
    "pycharm": {
     "name": "#%% md\n"
    }
   }
  },
  {
   "cell_type": "markdown",
   "source": [
    "1. epoch\n",
    "2. 0, 0.5, and 1 count\n",
    "3. without duplication\n",
    "4. cross, self avoid\n",
    "5. overlap\n",
    "6. mean, std, out_mse"
   ],
   "metadata": {
    "collapsed": false,
    "pycharm": {
     "name": "#%% md\n"
    }
   }
  },
  {
   "cell_type": "code",
   "execution_count": 26,
   "outputs": [],
   "source": [
    "# initialize model\n",
    "gen = model.GeneratorNet()"
   ],
   "metadata": {
    "collapsed": false,
    "pycharm": {
     "name": "#%%\n"
    }
   }
  },
  {
   "cell_type": "code",
   "execution_count": 27,
   "outputs": [],
   "source": [
    "# epoch = 2000\n",
    "# model_name = f'6_layers/model_gan_{epoch}.pth.tar'\n",
    "# check_point_gen = torch.load(model_name)\n",
    "# gen.load_state_dict(check_point_gen['gen_state_dict'])\n",
    "# noise = func.get_noise(8, 8)\n",
    "# output = gen(noise)\n",
    "# direction = pro_out.slice_directions(output)\n",
    "# coordinates = dc.direction_coordinate_three(direction)\n",
    "# for i in coordinates:\n",
    "#     pro_out.plot_polymer(i)"
   ],
   "metadata": {
    "collapsed": false,
    "pycharm": {
     "name": "#%%\n"
    }
   }
  },
  {
   "cell_type": "code",
   "execution_count": 28,
   "outputs": [
    {
     "data": {
      "text/plain": "  0%|          | 0/9 [00:00<?, ?it/s]",
      "application/vnd.jupyter.widget-view+json": {
       "version_major": 2,
       "version_minor": 0,
       "model_id": "8e9596564d694dfb98d24f39d3ee785a"
      }
     },
     "metadata": {},
     "output_type": "display_data"
    }
   ],
   "source": [
    "from tqdm.auto import tqdm\n",
    "total = {}\n",
    "for i in tqdm(range(19,28)):\n",
    "    epoch = 100 * (i + 1)\n",
    "    model_name = f'model_gan_{epoch}.pth.tar'\n",
    "    check_point_gen = torch.load(model_name)\n",
    "    gen.load_state_dict(check_point_gen['gen_state_dict'])\n",
    "    a = am.process_scalar_model({}, gen, input_three_dirc)\n",
    "    total[f'epoch{epoch}'] = a"
   ],
   "metadata": {
    "collapsed": false,
    "pycharm": {
     "name": "#%%\n"
    }
   }
  },
  {
   "cell_type": "code",
   "execution_count": 29,
   "outputs": [],
   "source": [
    "with open('data.json', 'w') as fp:\n",
    "    json.dump(total, fp)"
   ],
   "metadata": {
    "collapsed": false,
    "pycharm": {
     "name": "#%%\n"
    }
   }
  },
  {
   "cell_type": "code",
   "execution_count": 30,
   "outputs": [],
   "source": [
    "with open(\"data.json\", 'r') as fp:\n",
    "    data = json.load(fp)"
   ],
   "metadata": {
    "collapsed": false,
    "pycharm": {
     "name": "#%%\n"
    }
   }
  },
  {
   "cell_type": "code",
   "execution_count": 33,
   "outputs": [
    {
     "data": {
      "text/plain": "<Figure size 432x288 with 0 Axes>"
     },
     "metadata": {},
     "output_type": "display_data"
    }
   ],
   "source": [
    "import Naicheng.res.process_data.plot_with_epoch as pe\n",
    "pe.plot_tendency_with_epoch(data, 19, 28, 1, 100, True, 6.7946684375, 82.47559951171876, 1368.04750044487, \"\")"
   ],
   "metadata": {
    "collapsed": false,
    "pycharm": {
     "name": "#%%\n"
    }
   }
  },
  {
   "cell_type": "code",
   "execution_count": 20,
   "outputs": [],
   "source": [
    "import Naicheng.res.process_data.rg2 as rg\n",
    "rg2, rg4, rg6 = rg.rg2s(input_coorinate)"
   ],
   "metadata": {
    "collapsed": false,
    "pycharm": {
     "name": "#%%\n"
    }
   }
  },
  {
   "cell_type": "code",
   "execution_count": 12,
   "outputs": [
    {
     "name": "stdout",
     "output_type": "stream",
     "text": [
      "6.7946684375 82.47559951171876 1368.04750044487\n"
     ]
    }
   ],
   "source": [
    "print(rg2, rg4, rg6)\n"
   ],
   "metadata": {
    "collapsed": false,
    "pycharm": {
     "name": "#%%\n"
    }
   }
  }
 ]
}
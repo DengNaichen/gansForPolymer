{
 "cells": [
  {
   "cell_type": "code",
   "execution_count": 1,
   "metadata": {
    "collapsed": true
   },
   "outputs": [],
   "source": [
    "import numpy as np\n",
    "import torch\n",
    "from torch.utils.data import TensorDataset, DataLoader\n",
    "from torch import nn\n",
    "import seaborn as sns\n",
    "import matplotlib.pyplot as plt\n",
    "from tqdm.auto import tqdm\n",
    "import res.process_data.dire_and_coor as dc\n",
    "from res.wgan.genetator import Generator\n",
    "from res.wgan.critic import Critic\n",
    "import res.process_data.process_raw_data as prd\n",
    "from res.process_data.dataset import tensor_dataset\n",
    "from res.wgan.functions import get_gen_loss, get_crit_loss, get_gradient, gradient_penalty, get_noise\n",
    "import res.process_data.process_output as out"
   ]
  },
  {
   "cell_type": "code",
   "execution_count": 2,
   "outputs": [],
   "source": [
    "# prepare the raw data\n",
    "coordinates_input = prd.read_coordinate(16, \"Coordinates.dat\")\n",
    "directions_input = dc.coor_direction_four(coordinates_input)\n",
    "one_hot_vector = dc.one_hot_four(directions_input)"
   ],
   "metadata": {
    "collapsed": false,
    "pycharm": {
     "name": "#%%\n"
    }
   }
  },
  {
   "cell_type": "code",
   "execution_count": 3,
   "outputs": [],
   "source": [
    "direction_three_input = dc.coordinate_direction_three(coordinates_input)"
   ],
   "metadata": {
    "collapsed": false,
    "pycharm": {
     "name": "#%%\n"
    }
   }
  },
  {
   "cell_type": "code",
   "execution_count": 4,
   "outputs": [],
   "source": [
    "n_epochs = 20\n",
    "z_dim = 8\n",
    "display_step = 50\n",
    "batch_size = 128\n",
    "lr = 0.0003\n",
    "beta_1 = 0.5\n",
    "beta_2 = 0.999\n",
    "c_lambda = 10\n",
    "crit_repeats = 5\n",
    "device = 'cpu'\n",
    "shuffle = True\n",
    "num_worker = 4\n",
    "pin_memory = True"
   ],
   "metadata": {
    "collapsed": false,
    "pycharm": {
     "name": "#%%\n"
    }
   }
  },
  {
   "cell_type": "code",
   "execution_count": null,
   "outputs": [],
   "source": [
    "input_tensor = torch.Tensor(one_hot_vector)\n",
    "my_dataset = tensor_dataset(input_tensor, 15, 4)\n",
    "my_dataloader = DataLoader(dataset= my_dataset,\n",
    "                            shuffle=shuffle,\n",
    "                            batch_size=batch_size,\n",
    "                            num_workers=num_worker,\n",
    "                            pin_memory=pin_memory)"
   ],
   "metadata": {
    "collapsed": false,
    "pycharm": {
     "name": "#%%\n"
    }
   }
  },
  {
   "cell_type": "code",
   "execution_count": 7,
   "outputs": [],
   "source": [
    "gen = Generator(z_dim, im_dim=60, hidden_dim=16).to(device)\n",
    "crit = Critic(im_dim=60, hidden_dim=16).to(device)\n",
    "gen_opt = torch.optim.Adam(gen.parameters(), lr=lr, betas=(beta_1, beta_2))\n",
    "crit_opt = torch.optim.Adam(crit.parameters(), lr=lr, betas=(beta_1, beta_2))"
   ],
   "metadata": {
    "collapsed": false,
    "pycharm": {
     "name": "#%%\n"
    }
   }
  },
  {
   "cell_type": "code",
   "execution_count": 15,
   "outputs": [
    {
     "data": {
      "text/plain": "  0%|          | 0/782 [00:00<?, ?it/s]",
      "application/vnd.jupyter.widget-view+json": {
       "version_major": 2,
       "version_minor": 0,
       "model_id": "1b66eb4509534f848326ffda35b5d68a"
      }
     },
     "metadata": {},
     "output_type": "display_data"
    },
    {
     "name": "stdout",
     "output_type": "stream",
     "text": [
      "Step 50: Generator loss: -1.7135986411571502, critic loss: -0.6391650295257567\n",
      "Step 100: Generator loss: -2.268216211795807, critic loss: -0.42880485630035403\n",
      "Step 150: Generator loss: -2.8204606914520265, critic loss: -0.6754165630340576\n",
      "Step 200: Generator loss: -2.953646388053894, critic loss: -0.3967390127182007\n",
      "Step 250: Generator loss: -3.045243082046509, critic loss: -0.47101058006286606\n",
      "Step 300: Generator loss: -3.0418072032928465, critic loss: -0.4430287942886353\n",
      "Step 350: Generator loss: -2.7984656381607054, critic loss: -0.4929550275802614\n",
      "Step 400: Generator loss: -3.0947093868255617, critic loss: -0.6182500791549683\n",
      "Step 450: Generator loss: -2.7551390624046324, critic loss: -0.9638437786102291\n",
      "Step 500: Generator loss: -2.3970850133895873, critic loss: -0.7013299493789671\n",
      "Step 550: Generator loss: -2.7559445524215698, critic loss: -0.9484985914230346\n",
      "Step 600: Generator loss: -3.2986171007156373, critic loss: -0.5120085258483887\n",
      "Step 650: Generator loss: -2.8142172574996946, critic loss: -0.7638511629104616\n",
      "Step 700: Generator loss: -2.6520187878608703, critic loss: -0.4974341430664063\n",
      "Step 750: Generator loss: -3.1701249361038206, critic loss: -0.7639696407318114\n",
      "Step 800: Generator loss: -3.156769943237305, critic loss: -0.4576231250762938\n",
      "Step 850: Generator loss: -3.5186105251312254, critic loss: -0.8061479434967042\n",
      "Step 900: Generator loss: -3.035554599761963, critic loss: -0.6702908039093018\n",
      "Step 950: Generator loss: -3.0255858278274537, critic loss: -0.832018924713135\n",
      "Step 1000: Generator loss: -3.511484241485596, critic loss: -0.7739245023727419\n",
      "Step 1050: Generator loss: -3.1961052942276003, critic loss: -0.45013143348693857\n",
      "Step 1100: Generator loss: -3.4262378120422365, critic loss: -0.5593034811019897\n",
      "Step 1150: Generator loss: -3.7935709047317503, critic loss: -0.7016990337371826\n",
      "Step 1200: Generator loss: -3.1032043743133544, critic loss: -0.951761673927307\n",
      "Step 1250: Generator loss: -3.1717697763442994, critic loss: -0.7930069789886472\n",
      "Step 1300: Generator loss: -3.2230375528335573, critic loss: -0.9121861791610719\n",
      "Step 1350: Generator loss: -3.713858165740967, critic loss: -0.7755632915496826\n",
      "Step 1400: Generator loss: -4.199900140762329, critic loss: -0.9873590879440305\n",
      "Step 1450: Generator loss: -3.1882050466537475, critic loss: -1.0045342922210687\n",
      "Step 1500: Generator loss: -3.183081202507019, critic loss: -0.9906591157913208\n",
      "Step 1550: Generator loss: -2.833545832633972, critic loss: -1.1037383947372437\n",
      "Step 1600: Generator loss: -2.4334932231903075, critic loss: -1.0057952585220336\n",
      "Step 1650: Generator loss: -2.8887281608581543, critic loss: -0.8338027811050418\n",
      "Step 1700: Generator loss: -2.953546795845032, critic loss: -0.7096382226943969\n",
      "Step 1750: Generator loss: -2.625275332927704, critic loss: -0.6200985107421872\n",
      "Step 1800: Generator loss: -2.9317222690582274, critic loss: -0.6860141153335572\n",
      "Step 1850: Generator loss: -3.156416487693787, critic loss: -0.827274621963501\n",
      "Step 1900: Generator loss: -3.319913287162781, critic loss: -1.0203120918273927\n",
      "Step 1950: Generator loss: -3.839924764633179, critic loss: -1.1942038812637328\n",
      "Step 2000: Generator loss: -4.1560329151153566, critic loss: -1.1209273910522464\n",
      "Step 2050: Generator loss: -3.768402643203735, critic loss: -1.0545112562179566\n",
      "Step 2100: Generator loss: -3.6846544790267943, critic loss: -0.9838861312866213\n",
      "Step 2150: Generator loss: -3.956398243904114, critic loss: -0.9685172367095946\n",
      "Step 2200: Generator loss: -3.8046123933792115, critic loss: -1.0915908069610594\n",
      "Step 2250: Generator loss: -4.272950577735901, critic loss: -0.8920758180618285\n",
      "Step 2300: Generator loss: -4.313909816741943, critic loss: -0.9523670673370361\n",
      "Step 2350: Generator loss: -4.479259238243103, critic loss: -1.078820101737976\n",
      "Step 2400: Generator loss: -4.391729955673218, critic loss: -1.111999187469482\n",
      "Step 2450: Generator loss: -4.357453937530518, critic loss: -0.9784541435241699\n",
      "Step 2500: Generator loss: -3.990872368812561, critic loss: -0.9298238868713378\n",
      "Step 2550: Generator loss: -3.5741637992858886, critic loss: -0.9462969875335691\n",
      "Step 2600: Generator loss: -3.059756338596344, critic loss: -0.7228338117599487\n",
      "Step 2650: Generator loss: -3.6285258769989013, critic loss: -0.44650181770324715\n",
      "Step 2700: Generator loss: -3.3905693340301513, critic loss: -0.44093190765380863\n",
      "Step 2750: Generator loss: -4.639427571296692, critic loss: -1.1166176986694338\n",
      "Step 2800: Generator loss: -4.514609413146973, critic loss: -0.6414505624771119\n",
      "Step 2850: Generator loss: -4.394036793708802, critic loss: -0.6236222772598266\n",
      "Step 2900: Generator loss: -4.342421131134033, critic loss: -0.7411484966278077\n",
      "Step 2950: Generator loss: -4.007119293212891, critic loss: -0.8995784149169924\n",
      "Step 3000: Generator loss: -4.212762942314148, critic loss: -0.7018331737518309\n",
      "Step 3050: Generator loss: -4.011017107963562, critic loss: -0.6254378719329834\n",
      "Step 3100: Generator loss: -3.833973751068115, critic loss: -0.8426539983749392\n",
      "Step 3150: Generator loss: -3.943416032791138, critic loss: -0.7581242866516115\n",
      "Step 3200: Generator loss: -4.632261924743652, critic loss: -0.8350730056762695\n",
      "Step 3250: Generator loss: -4.968281259536743, critic loss: -0.8921284933090212\n",
      "Step 3300: Generator loss: -5.228409852981567, critic loss: -0.7187450132369995\n",
      "Step 3350: Generator loss: -4.985233316421509, critic loss: -0.876162420272827\n",
      "Step 3400: Generator loss: -5.002500944137573, critic loss: -0.8790201673507694\n",
      "Step 3450: Generator loss: -5.149914903640747, critic loss: -0.9960429353713991\n",
      "Step 3500: Generator loss: -5.1881122875213626, critic loss: -0.9260230236053465\n",
      "Step 3550: Generator loss: -4.789326238632202, critic loss: -1.0832604036331177\n",
      "Step 3600: Generator loss: -5.091892971992492, critic loss: -1.0237027292251586\n",
      "Step 3650: Generator loss: -5.813039665222168, critic loss: -1.0271812582015991\n",
      "Step 3700: Generator loss: -6.074276523590088, critic loss: -1.0131954650878905\n",
      "Step 3750: Generator loss: -6.139612922668457, critic loss: -1.3586012973785397\n",
      "Step 3800: Generator loss: -5.797513580322265, critic loss: -1.2087481451034545\n",
      "Step 3850: Generator loss: -5.903782453536987, critic loss: -1.1067530136108397\n",
      "Step 3900: Generator loss: -5.500671625137329, critic loss: -1.112779398918152\n",
      "Step 3950: Generator loss: -5.840290956497192, critic loss: -1.2700013427734378\n",
      "Step 4000: Generator loss: -5.350377101898193, critic loss: -1.1411419563293455\n",
      "Step 4050: Generator loss: -4.9517059326171875, critic loss: -1.0411975860595701\n",
      "Step 4100: Generator loss: -5.180817155838013, critic loss: -1.1566577997207643\n",
      "Step 4150: Generator loss: -5.658597660064697, critic loss: -1.2335816545486449\n",
      "Step 4200: Generator loss: -5.930803985595703, critic loss: -1.0368585138320923\n",
      "Step 4250: Generator loss: -6.311579761505127, critic loss: -1.1801602697372438\n",
      "Step 4300: Generator loss: -6.42005542755127, critic loss: -1.20337190914154\n",
      "Step 4350: Generator loss: -6.28191330909729, critic loss: -1.3090317153930664\n",
      "Step 4400: Generator loss: -6.446011934280396, critic loss: -1.088304027557373\n",
      "Step 4450: Generator loss: -6.299555387496948, critic loss: -1.210560797691345\n",
      "Step 4500: Generator loss: -5.479795475006103, critic loss: -1.2793419628143312\n",
      "Step 4550: Generator loss: -5.4858191776275635, critic loss: -1.2666503944396976\n",
      "Step 4600: Generator loss: -6.402565155029297, critic loss: -1.3855616550445558\n",
      "Step 4650: Generator loss: -6.381297073364258, critic loss: -1.107526576042175\n",
      "Step 4700: Generator loss: -6.281461706161499, critic loss: -1.25535915851593\n",
      "Step 4750: Generator loss: -6.978542852401733, critic loss: -1.439043368339539\n",
      "Step 4800: Generator loss: -7.112645978927612, critic loss: -1.3399830198287968\n",
      "Step 4850: Generator loss: -6.7491896438598635, critic loss: -1.2061578769683836\n",
      "Step 4900: Generator loss: -6.200276155471801, critic loss: -1.35419762134552\n",
      "Step 4950: Generator loss: -6.891132898330689, critic loss: -1.4820556974411006\n",
      "Step 5000: Generator loss: -6.999364576339722, critic loss: -1.4573660621643065\n",
      "Step 5050: Generator loss: -7.4748321151733395, critic loss: -1.4178374261856082\n",
      "Step 5100: Generator loss: -7.339831686019897, critic loss: -1.464311634063721\n",
      "Step 5150: Generator loss: -6.775353670120239, critic loss: -1.284578351020813\n",
      "Step 5200: Generator loss: -7.058633317947388, critic loss: -1.2174799699783323\n",
      "Step 5250: Generator loss: -7.344661560058594, critic loss: -1.2705694217681887\n",
      "Step 5300: Generator loss: -7.003243370056152, critic loss: -1.4457244329452512\n",
      "Step 5350: Generator loss: -6.622277879714966, critic loss: -1.4973353252410881\n",
      "Step 5400: Generator loss: -6.882263708114624, critic loss: -1.308051927566528\n",
      "Step 5450: Generator loss: -7.303915758132934, critic loss: -1.23104465007782\n",
      "Step 5500: Generator loss: -7.731477565765381, critic loss: -1.339536931037903\n",
      "Step 5550: Generator loss: -7.333989505767822, critic loss: -1.4109093914031983\n",
      "Step 5600: Generator loss: -7.152123308181762, critic loss: -1.4902142963409424\n",
      "Step 5650: Generator loss: -7.206705503463745, critic loss: -1.2997414989471434\n",
      "Step 5700: Generator loss: -7.29040192604065, critic loss: -1.1412783155441288\n",
      "Step 5750: Generator loss: -7.27521315574646, critic loss: -1.3694450740814208\n",
      "Step 5800: Generator loss: -7.096697387695312, critic loss: -1.3442742137908938\n",
      "Step 5850: Generator loss: -7.065238580703736, critic loss: -1.536582239151001\n",
      "Step 5900: Generator loss: -7.213458395004272, critic loss: -1.410554773330689\n",
      "Step 5950: Generator loss: -7.247357959747315, critic loss: -1.2612769165039064\n",
      "Step 6000: Generator loss: -7.203776292800903, critic loss: -1.3665079221725462\n",
      "Step 6050: Generator loss: -6.6764101219177245, critic loss: -1.3684069309234617\n",
      "Step 6100: Generator loss: -6.959827394485473, critic loss: -1.2933962192535402\n",
      "Step 6150: Generator loss: -7.361539278030396, critic loss: -1.3217851705551142\n",
      "Step 6200: Generator loss: -7.125056962966919, critic loss: -1.3592074499130251\n",
      "Step 6250: Generator loss: -7.05532509803772, critic loss: -1.3301853799819943\n",
      "Step 6300: Generator loss: -6.8825613880157475, critic loss: -1.1684762191772462\n",
      "Step 6350: Generator loss: -7.099161643981933, critic loss: -1.3336187095642091\n",
      "Step 6400: Generator loss: -6.757930335998535, critic loss: -1.319066294670105\n",
      "Step 6450: Generator loss: -6.618083906173706, critic loss: -1.1921399698257442\n",
      "Step 6500: Generator loss: -6.889610223770141, critic loss: -1.2249649114608763\n",
      "Step 6550: Generator loss: -6.820649271011352, critic loss: -1.1846652774810789\n",
      "Step 6600: Generator loss: -6.471104583740234, critic loss: -1.2505483274459837\n",
      "Step 6650: Generator loss: -6.405007944107056, critic loss: -1.1776488180160518\n",
      "Step 6700: Generator loss: -6.597846622467041, critic loss: -1.1309173355102538\n",
      "Step 6750: Generator loss: -6.770041885375977, critic loss: -1.1407321767807006\n",
      "Step 6800: Generator loss: -6.674604930877686, critic loss: -1.228813274383545\n",
      "Step 6850: Generator loss: -6.3862644481658934, critic loss: -1.2387274656295775\n",
      "Step 6900: Generator loss: -6.466893672943115, critic loss: -1.2521607370376586\n",
      "Step 6950: Generator loss: -6.609878320693969, critic loss: -1.1787764329910275\n",
      "Step 7000: Generator loss: -6.916432065963745, critic loss: -1.2256435995101929\n",
      "Step 7050: Generator loss: -7.137585687637329, critic loss: -1.2062706527709965\n",
      "Step 7100: Generator loss: -7.4267801094055175, critic loss: -1.202553859710693\n",
      "Step 7150: Generator loss: -7.434310693740844, critic loss: -1.2657718954086306\n",
      "Step 7200: Generator loss: -6.953178224563598, critic loss: -1.1314778070449831\n",
      "Step 7250: Generator loss: -7.024904336929321, critic loss: -1.1615259618759155\n",
      "Step 7300: Generator loss: -6.8369840717315675, critic loss: -1.1846834993362425\n",
      "Step 7350: Generator loss: -6.6037578201293945, critic loss: -1.2382611007690434\n",
      "Step 7400: Generator loss: -6.579808464050293, critic loss: -1.2756896066665648\n",
      "Step 7450: Generator loss: -6.706401271820068, critic loss: -1.2104657993316652\n",
      "Step 7500: Generator loss: -6.878500680923462, critic loss: -1.1407362031936648\n",
      "Step 7550: Generator loss: -7.004913091659546, critic loss: -1.1704936704635622\n",
      "Step 7600: Generator loss: -6.666902780532837, critic loss: -1.203200448989868\n",
      "Step 7650: Generator loss: -6.5596567726135255, critic loss: -1.1118758172988892\n",
      "Step 7700: Generator loss: -6.7386738967895505, critic loss: -1.0727767658233642\n",
      "Step 7750: Generator loss: -6.605046014785767, critic loss: -1.1348200588226318\n",
      "Step 7800: Generator loss: -6.553322906494141, critic loss: -1.1666011238098144\n",
      "Step 7850: Generator loss: -6.848663063049316, critic loss: -1.1386724491119387\n",
      "Step 7900: Generator loss: -6.8757258319854735, critic loss: -1.0461285142898562\n",
      "Step 7950: Generator loss: -7.143834896087647, critic loss: -1.1310413703918458\n",
      "Step 8000: Generator loss: -7.217609815597534, critic loss: -1.1337098464965822\n",
      "Step 8050: Generator loss: -7.299393949508667, critic loss: -1.0820794258117676\n",
      "Step 8100: Generator loss: -7.409202547073364, critic loss: -1.0784779033660887\n",
      "Step 8150: Generator loss: -7.506175584793091, critic loss: -1.0763199596405029\n",
      "Step 8200: Generator loss: -7.4642597198486325, critic loss: -1.070432205200195\n",
      "Step 8250: Generator loss: -7.555675268173218, critic loss: -0.9976452674865725\n",
      "Step 8300: Generator loss: -7.512114515304566, critic loss: -1.0305733795166017\n",
      "Step 8350: Generator loss: -7.559688558578491, critic loss: -1.067657649040222\n",
      "Step 8400: Generator loss: -7.2454072284698485, critic loss: -0.9922570104599001\n",
      "Step 8450: Generator loss: -7.271356363296508, critic loss: -1.0155174055099487\n",
      "Step 8500: Generator loss: -7.179703044891357, critic loss: -1.0412353296279906\n",
      "Step 8550: Generator loss: -7.224141149520874, critic loss: -1.041039219856262\n",
      "Step 8600: Generator loss: -7.209752445220947, critic loss: -1.0050761194229125\n",
      "Step 8650: Generator loss: -7.262715044021607, critic loss: -1.0321145877838136\n",
      "Step 8700: Generator loss: -7.711972341537476, critic loss: -1.107217239379883\n",
      "Step 8750: Generator loss: -7.680684804916382, critic loss: -1.076689185142517\n",
      "Step 8800: Generator loss: -7.799468450546264, critic loss: -1.024686491012573\n",
      "Step 8850: Generator loss: -7.874448680877686, critic loss: -1.0672750549316408\n",
      "Step 8900: Generator loss: -7.821545152664185, critic loss: -1.0945962076187135\n",
      "Step 8950: Generator loss: -7.918691387176514, critic loss: -1.0815333127975466\n",
      "Step 9000: Generator loss: -7.957438640594482, critic loss: -1.0265341591835024\n",
      "Step 9050: Generator loss: -7.97606204032898, critic loss: -1.0452979192733762\n",
      "Step 9100: Generator loss: -7.998107738494873, critic loss: -1.0304238529205323\n",
      "Step 9150: Generator loss: -7.929418907165528, critic loss: -1.0375069961547851\n",
      "Step 9200: Generator loss: -7.981289911270141, critic loss: -0.9990439262390134\n",
      "Step 9250: Generator loss: -8.029482259750367, critic loss: -1.006018455028534\n",
      "Step 9300: Generator loss: -7.995281677246094, critic loss: -0.995483149051666\n",
      "Step 9350: Generator loss: -8.068278589248656, critic loss: -1.01443048286438\n",
      "Step 9400: Generator loss: -8.164658184051513, critic loss: -1.031880509376526\n",
      "Step 9450: Generator loss: -8.109264354705811, critic loss: -1.0385765252113341\n",
      "Step 9500: Generator loss: -8.204308929443359, critic loss: -0.9940659961700438\n",
      "Step 9550: Generator loss: -8.487401990890502, critic loss: -0.9940222072601318\n",
      "Step 9600: Generator loss: -8.653366241455078, critic loss: -1.0203912053108213\n",
      "Step 9650: Generator loss: -8.724938850402832, critic loss: -0.9875310602188111\n",
      "Step 9700: Generator loss: -8.823984565734863, critic loss: -0.9494861178398132\n",
      "Step 9750: Generator loss: -8.843764667510987, critic loss: -0.9744960203170776\n",
      "Step 9800: Generator loss: -8.905524978637695, critic loss: -0.9516768913269043\n",
      "Step 9850: Generator loss: -9.091324043273925, critic loss: -0.9147613611221314\n",
      "Step 9900: Generator loss: -9.057219409942627, critic loss: -0.9017416610717774\n",
      "Step 9950: Generator loss: -8.966420555114746, critic loss: -0.926925078868866\n",
      "Step 10000: Generator loss: -8.62581835746765, critic loss: -0.941783899307251\n",
      "Step 10050: Generator loss: -9.334433670043945, critic loss: -0.9121782579421999\n",
      "Step 10100: Generator loss: -9.084626960754395, critic loss: -0.9028437256813047\n",
      "Step 10150: Generator loss: -9.3043479347229, critic loss: -0.9237837800979612\n",
      "Step 10200: Generator loss: -9.323470458984374, critic loss: -0.9278304643630981\n",
      "Step 10250: Generator loss: -9.397021675109864, critic loss: -0.9354394569396972\n",
      "Step 10300: Generator loss: -9.331540050506591, critic loss: -0.9056847743988037\n",
      "Step 10350: Generator loss: -9.21017484664917, critic loss: -0.9325222139358518\n",
      "Step 10400: Generator loss: -9.024337100982667, critic loss: -0.9139914832115172\n",
      "Step 10450: Generator loss: -9.311743927001952, critic loss: -0.9171089572906496\n",
      "Step 10500: Generator loss: -9.302619342803956, critic loss: -0.9360075607299805\n",
      "Step 10550: Generator loss: -9.324246559143067, critic loss: -0.9329322600364685\n",
      "Step 10600: Generator loss: -9.214052085876466, critic loss: -0.9323688421249388\n",
      "Step 10650: Generator loss: -9.392757816314697, critic loss: -0.9674303741455078\n",
      "Step 10700: Generator loss: -9.383988933563232, critic loss: -0.9997678384780884\n",
      "Step 10750: Generator loss: -9.276896228790283, critic loss: -0.9806960682868957\n",
      "Step 10800: Generator loss: -9.445500755310059, critic loss: -0.9972918086051941\n",
      "Step 10850: Generator loss: -9.29575761795044, critic loss: -0.9971049442291259\n",
      "Step 10900: Generator loss: -9.224726486206055, critic loss: -0.9925174264907838\n",
      "Step 10950: Generator loss: -9.199851760864258, critic loss: -1.0089136834144592\n",
      "Step 11000: Generator loss: -9.174774112701416, critic loss: -1.0043791265487672\n",
      "Step 11050: Generator loss: -9.126538047790527, critic loss: -0.9934197640419007\n",
      "Step 11100: Generator loss: -9.07428274154663, critic loss: -0.9920928344726565\n",
      "Step 11150: Generator loss: -8.97537139892578, critic loss: -0.9794819140434267\n",
      "Step 11200: Generator loss: -9.095577545166016, critic loss: -0.9710279068946839\n",
      "Step 11250: Generator loss: -9.012191562652587, critic loss: -0.9837574610710146\n",
      "Step 11300: Generator loss: -9.10022819519043, critic loss: -0.9887698116302489\n",
      "Step 11350: Generator loss: -9.090036754608155, critic loss: -0.9836675257682799\n",
      "Step 11400: Generator loss: -9.13093231201172, critic loss: -0.9802259645462034\n",
      "Step 11450: Generator loss: -9.139239807128906, critic loss: -0.9720075764656069\n",
      "Step 11500: Generator loss: -9.041723442077636, critic loss: -0.9961956949234012\n",
      "Step 11550: Generator loss: -9.166935195922852, critic loss: -0.9800851302146912\n",
      "Step 11600: Generator loss: -9.060317764282226, critic loss: -0.9837905030250549\n",
      "Step 11650: Generator loss: -9.047755966186523, critic loss: -1.0070288290977478\n",
      "Step 11700: Generator loss: -9.032992782592773, critic loss: -1.0050646157264709\n",
      "Step 11750: Generator loss: -8.86826747894287, critic loss: -0.9931838884353636\n",
      "Step 11800: Generator loss: -8.87975414276123, critic loss: -0.9721657500267029\n",
      "Step 11850: Generator loss: -8.891780900955201, critic loss: -0.9753784461021424\n",
      "Step 11900: Generator loss: -8.891066627502441, critic loss: -0.9941720943450929\n",
      "Step 11950: Generator loss: -8.935824184417724, critic loss: -0.9863250360488891\n",
      "Step 12000: Generator loss: -8.92825138092041, critic loss: -0.993954034805298\n",
      "Step 12050: Generator loss: -8.895219116210937, critic loss: -0.9812759056091309\n",
      "Step 12100: Generator loss: -8.780292530059814, critic loss: -0.9675712494850156\n",
      "Step 12150: Generator loss: -8.887039604187011, critic loss: -0.9853837456703186\n",
      "Step 12200: Generator loss: -8.842525539398194, critic loss: -0.9917892222404479\n",
      "Step 12250: Generator loss: -8.700879306793214, critic loss: -0.9791136422157283\n",
      "Step 12300: Generator loss: -8.687900676727295, critic loss: -0.9539511513710021\n",
      "Step 12350: Generator loss: -8.701919288635255, critic loss: -0.9748786478042604\n",
      "Step 12400: Generator loss: -8.642598037719727, critic loss: -0.9688736495971678\n",
      "Step 12450: Generator loss: -8.734201412200928, critic loss: -0.948182707309723\n",
      "Step 12500: Generator loss: -8.758291473388672, critic loss: -0.956928834915161\n",
      "Step 12550: Generator loss: -8.736721839904785, critic loss: -0.9753091568946837\n",
      "Step 12600: Generator loss: -8.5831609916687, critic loss: -0.9666850466728211\n",
      "Step 12650: Generator loss: -8.548481597900391, critic loss: -0.9457031993865964\n",
      "Step 12700: Generator loss: -8.513392152786254, critic loss: -0.9463803005218504\n",
      "Step 12750: Generator loss: -8.475839014053344, critic loss: -0.960935451984406\n",
      "Step 12800: Generator loss: -8.394151830673218, critic loss: -0.9486549959182736\n",
      "Step 12850: Generator loss: -8.516971225738525, critic loss: -0.9812029004096985\n",
      "Step 12900: Generator loss: -8.549565525054932, critic loss: -0.9539884376525879\n",
      "Step 12950: Generator loss: -8.425691289901733, critic loss: -0.9267008500099184\n",
      "Step 13000: Generator loss: -8.39295334815979, critic loss: -0.9515253529548642\n",
      "Step 13050: Generator loss: -8.391929397583008, critic loss: -0.9519075765609741\n",
      "Step 13100: Generator loss: -8.436021890640259, critic loss: -0.9514772920608524\n",
      "Step 13150: Generator loss: -8.451988105773927, critic loss: -0.9607916221618649\n",
      "Step 13200: Generator loss: -8.429145517349243, critic loss: -0.9679415230751038\n",
      "Step 13250: Generator loss: -8.472030172348022, critic loss: -0.9618469781875614\n",
      "Step 13300: Generator loss: -8.513953428268433, critic loss: -1.0079046001434326\n",
      "Step 13350: Generator loss: -8.418852443695068, critic loss: -1.0094899005889895\n",
      "Step 13400: Generator loss: -8.372109727859497, critic loss: -0.9667715129852295\n",
      "Step 13450: Generator loss: -8.418413715362549, critic loss: -0.9791852841377259\n",
      "Step 13500: Generator loss: -8.243134717941285, critic loss: -0.9644530901908874\n",
      "Step 13550: Generator loss: -8.35618776321411, critic loss: -0.9939492144584657\n",
      "Step 13600: Generator loss: -8.241170387268067, critic loss: -1.0065391936302184\n",
      "Step 13650: Generator loss: -8.321175680160522, critic loss: -0.9585622773170468\n",
      "Step 13700: Generator loss: -8.198674631118774, critic loss: -1.0004432678222654\n",
      "Step 13750: Generator loss: -8.226513290405274, critic loss: -0.9994647603034973\n",
      "Step 13800: Generator loss: -8.31612401008606, critic loss: -1.022631136894226\n",
      "Step 13850: Generator loss: -8.48979902267456, critic loss: -1.0269501600265505\n",
      "Step 13900: Generator loss: -8.428889455795288, critic loss: -1.0369405770301823\n",
      "Step 13950: Generator loss: -8.208011360168458, critic loss: -1.0187050938606257\n",
      "Step 14000: Generator loss: -8.24004189491272, critic loss: -1.0042038960456845\n",
      "Step 14050: Generator loss: -8.39336555480957, critic loss: -1.0067713532447815\n",
      "Step 14100: Generator loss: -8.259939346313477, critic loss: -1.02383665895462\n",
      "Step 14150: Generator loss: -8.225187406539916, critic loss: -1.0038668913841244\n",
      "Step 14200: Generator loss: -8.221376695632934, critic loss: -0.9711977934837341\n",
      "Step 14250: Generator loss: -8.236757335662842, critic loss: -0.970852183818817\n",
      "Step 14300: Generator loss: -8.171560649871827, critic loss: -0.9657982549667359\n",
      "Step 14350: Generator loss: -8.259967861175538, critic loss: -0.9568471221923827\n",
      "Step 14400: Generator loss: -8.091993474960328, critic loss: -0.9500920748710633\n",
      "Step 14450: Generator loss: -7.982932863235473, critic loss: -0.9442148709297181\n",
      "Step 14500: Generator loss: -8.126387281417847, critic loss: -0.9416628069877626\n",
      "Step 14550: Generator loss: -8.06392255783081, critic loss: -0.9575923438072206\n",
      "Step 14600: Generator loss: -8.028867368698121, critic loss: -0.9299829621315001\n",
      "Step 14650: Generator loss: -8.033321552276611, critic loss: -0.9430900406837465\n",
      "Step 14700: Generator loss: -8.08406596183777, critic loss: -0.9049481863975525\n",
      "Step 14750: Generator loss: -7.976486711502075, critic loss: -0.9330502820014953\n",
      "Step 14800: Generator loss: -7.94083004951477, critic loss: -0.9239086923599245\n",
      "Step 14850: Generator loss: -7.9374269771575925, critic loss: -0.9369654188156126\n",
      "Step 14900: Generator loss: -7.939416799545288, critic loss: -0.9479060044288636\n",
      "Step 14950: Generator loss: -7.864446802139282, critic loss: -0.9434526782035831\n",
      "Step 15000: Generator loss: -7.677479152679443, critic loss: -0.916598225593567\n",
      "Step 15050: Generator loss: -7.601493225097657, critic loss: -0.9389909987449648\n",
      "Step 15100: Generator loss: -7.608895988464355, critic loss: -0.9609312415122983\n",
      "Step 15150: Generator loss: -7.738944721221924, critic loss: -0.9556639022827147\n",
      "Step 15200: Generator loss: -7.888896026611328, critic loss: -0.972665547847748\n",
      "Step 15250: Generator loss: -7.6998943424224855, critic loss: -0.9432380461692813\n",
      "Step 15300: Generator loss: -7.6131118965148925, critic loss: -0.9717080454826358\n",
      "Step 15350: Generator loss: -7.606082849502563, critic loss: -0.9526577024459837\n",
      "Step 15400: Generator loss: -7.3863887691497805, critic loss: -0.9343588809967044\n",
      "Step 15450: Generator loss: -7.29042420387268, critic loss: -0.9372775406837464\n",
      "Step 15500: Generator loss: -7.288124990463257, critic loss: -0.9186397528648379\n",
      "Step 15550: Generator loss: -7.189587707519531, critic loss: -0.9227188744544982\n",
      "Step 15600: Generator loss: -7.14910252571106, critic loss: -0.8915842938423154\n"
     ]
    },
    {
     "data": {
      "text/plain": "  0%|          | 0/782 [00:00<?, ?it/s]",
      "application/vnd.jupyter.widget-view+json": {
       "version_major": 2,
       "version_minor": 0,
       "model_id": "e16b1f9bec8c4531b3d83bbfcef48905"
      }
     },
     "metadata": {},
     "output_type": "display_data"
    },
    {
     "data": {
      "text/plain": "  0%|          | 0/782 [00:00<?, ?it/s]",
      "application/vnd.jupyter.widget-view+json": {
       "version_major": 2,
       "version_minor": 0,
       "model_id": "af92e7e7a9af4a5fac7a28d872af1a0f"
      }
     },
     "metadata": {},
     "output_type": "display_data"
    },
    {
     "data": {
      "text/plain": "  0%|          | 0/782 [00:00<?, ?it/s]",
      "application/vnd.jupyter.widget-view+json": {
       "version_major": 2,
       "version_minor": 0,
       "model_id": "0c5aa1aa0027490683e1c0ba1addd9b2"
      }
     },
     "metadata": {},
     "output_type": "display_data"
    },
    {
     "data": {
      "text/plain": "  0%|          | 0/782 [00:00<?, ?it/s]",
      "application/vnd.jupyter.widget-view+json": {
       "version_major": 2,
       "version_minor": 0,
       "model_id": "b0380d71fde349ba919387bf625ca895"
      }
     },
     "metadata": {},
     "output_type": "display_data"
    },
    {
     "data": {
      "text/plain": "  0%|          | 0/782 [00:00<?, ?it/s]",
      "application/vnd.jupyter.widget-view+json": {
       "version_major": 2,
       "version_minor": 0,
       "model_id": "b6508e0047454d669c58114bbd6028cd"
      }
     },
     "metadata": {},
     "output_type": "display_data"
    },
    {
     "data": {
      "text/plain": "  0%|          | 0/782 [00:00<?, ?it/s]",
      "application/vnd.jupyter.widget-view+json": {
       "version_major": 2,
       "version_minor": 0,
       "model_id": "98ee754fa5994e2b9ab560cd88846345"
      }
     },
     "metadata": {},
     "output_type": "display_data"
    },
    {
     "data": {
      "text/plain": "  0%|          | 0/782 [00:00<?, ?it/s]",
      "application/vnd.jupyter.widget-view+json": {
       "version_major": 2,
       "version_minor": 0,
       "model_id": "7402cd1dac78434b8ed3edf639226d5b"
      }
     },
     "metadata": {},
     "output_type": "display_data"
    },
    {
     "data": {
      "text/plain": "  0%|          | 0/782 [00:00<?, ?it/s]",
      "application/vnd.jupyter.widget-view+json": {
       "version_major": 2,
       "version_minor": 0,
       "model_id": "91bb550352324aef910c782eb03d0057"
      }
     },
     "metadata": {},
     "output_type": "display_data"
    },
    {
     "data": {
      "text/plain": "  0%|          | 0/782 [00:00<?, ?it/s]",
      "application/vnd.jupyter.widget-view+json": {
       "version_major": 2,
       "version_minor": 0,
       "model_id": "fedca225ac5e471b967c2efff493d372"
      }
     },
     "metadata": {},
     "output_type": "display_data"
    },
    {
     "data": {
      "text/plain": "  0%|          | 0/782 [00:00<?, ?it/s]",
      "application/vnd.jupyter.widget-view+json": {
       "version_major": 2,
       "version_minor": 0,
       "model_id": "09caa72ee2f9492cbca635dc71216fef"
      }
     },
     "metadata": {},
     "output_type": "display_data"
    },
    {
     "data": {
      "text/plain": "  0%|          | 0/782 [00:00<?, ?it/s]",
      "application/vnd.jupyter.widget-view+json": {
       "version_major": 2,
       "version_minor": 0,
       "model_id": "5dcc851a86c94f6a940941767bd71a10"
      }
     },
     "metadata": {},
     "output_type": "display_data"
    },
    {
     "data": {
      "text/plain": "  0%|          | 0/782 [00:00<?, ?it/s]",
      "application/vnd.jupyter.widget-view+json": {
       "version_major": 2,
       "version_minor": 0,
       "model_id": "739fd17666064f56b4d812923f85adaa"
      }
     },
     "metadata": {},
     "output_type": "display_data"
    },
    {
     "data": {
      "text/plain": "  0%|          | 0/782 [00:00<?, ?it/s]",
      "application/vnd.jupyter.widget-view+json": {
       "version_major": 2,
       "version_minor": 0,
       "model_id": "a0d592998c7b4c6f821d81c9c315dc2d"
      }
     },
     "metadata": {},
     "output_type": "display_data"
    },
    {
     "data": {
      "text/plain": "  0%|          | 0/782 [00:00<?, ?it/s]",
      "application/vnd.jupyter.widget-view+json": {
       "version_major": 2,
       "version_minor": 0,
       "model_id": "c699d8ffbb5c458fa3c466596e5bac3c"
      }
     },
     "metadata": {},
     "output_type": "display_data"
    },
    {
     "data": {
      "text/plain": "  0%|          | 0/782 [00:00<?, ?it/s]",
      "application/vnd.jupyter.widget-view+json": {
       "version_major": 2,
       "version_minor": 0,
       "model_id": "764376566b02488d9aabbf3df95b0b5a"
      }
     },
     "metadata": {},
     "output_type": "display_data"
    },
    {
     "data": {
      "text/plain": "  0%|          | 0/782 [00:00<?, ?it/s]",
      "application/vnd.jupyter.widget-view+json": {
       "version_major": 2,
       "version_minor": 0,
       "model_id": "1905f77c111746b5a33ee63e61c21b3b"
      }
     },
     "metadata": {},
     "output_type": "display_data"
    },
    {
     "data": {
      "text/plain": "  0%|          | 0/782 [00:00<?, ?it/s]",
      "application/vnd.jupyter.widget-view+json": {
       "version_major": 2,
       "version_minor": 0,
       "model_id": "d23ef1dd30cd43f9b950ee7c69d74d94"
      }
     },
     "metadata": {},
     "output_type": "display_data"
    },
    {
     "data": {
      "text/plain": "  0%|          | 0/782 [00:00<?, ?it/s]",
      "application/vnd.jupyter.widget-view+json": {
       "version_major": 2,
       "version_minor": 0,
       "model_id": "3d9c22b2f77447939f0d4801d59c46c3"
      }
     },
     "metadata": {},
     "output_type": "display_data"
    },
    {
     "data": {
      "text/plain": "  0%|          | 0/782 [00:00<?, ?it/s]",
      "application/vnd.jupyter.widget-view+json": {
       "version_major": 2,
       "version_minor": 0,
       "model_id": "171666618837405d9f6eb3b3d13af672"
      }
     },
     "metadata": {},
     "output_type": "display_data"
    }
   ],
   "source": [
    "cur_step = 0\n",
    "generator_losses = []\n",
    "critic_losses = []\n",
    "for epoch in range(n_epochs):\n",
    "    # Dataloader returns the batches\n",
    "    for real, _ in tqdm(my_dataloader):\n",
    "        cur_batch_size = len(real)\n",
    "        # real_image = real_image.to(device)\n",
    "        real = real.view(cur_batch_size, -1).to(device)\n",
    "\n",
    "        mean_iteration_critic_loss = 0\n",
    "        for _ in range(crit_repeats):\n",
    "            ### Update critic ###\n",
    "            crit_opt.zero_grad()\n",
    "            fake_noise = get_noise(cur_batch_size, z_dim, device=device)\n",
    "            fake = gen(fake_noise)\n",
    "            crit_fake_pred = crit(fake.detach())\n",
    "            crit_real_pred = crit(real)\n",
    "\n",
    "            epsilon = torch.rand(len(real), 1, 1, 1, device=device, requires_grad=True)\n",
    "            gradient = get_gradient(crit, real, fake.detach(), epsilon)\n",
    "            gp = gradient_penalty(gradient)\n",
    "            crit_loss = get_crit_loss(crit_fake_pred, crit_real_pred, gp, c_lambda)\n",
    "\n",
    "            # Keep track of the average critic loss in this batch\n",
    "            mean_iteration_critic_loss += crit_loss.item() / crit_repeats\n",
    "            # Update gradients\n",
    "            crit_loss.backward(retain_graph=True)\n",
    "            # Update optimizer\n",
    "            crit_opt.step()\n",
    "        critic_losses += [mean_iteration_critic_loss]\n",
    "        ### Update generator ###\n",
    "        gen_opt.zero_grad()\n",
    "        fake_noise_2 = get_noise(cur_batch_size, z_dim, device=device)\n",
    "        fake_2 = gen(fake_noise_2)\n",
    "        crit_fake_pred = crit(fake_2)\n",
    "\n",
    "        gen_loss = get_gen_loss(crit_fake_pred)\n",
    "        gen_loss.backward()\n",
    "\n",
    "        # Update the weights\n",
    "        gen_opt.step()\n",
    "\n",
    "        # Keep track of the average generator loss\n",
    "        generator_losses += [gen_loss.item()]\n",
    "\n",
    "        ### Visualization code ###\n",
    "        if cur_step % display_step == 0 and cur_step > 0:\n",
    "            gen_mean = sum(generator_losses[-display_step:]) / display_step\n",
    "            crit_mean = sum(critic_losses[-display_step:]) / display_step\n",
    "            print(f\"Step {cur_step}: Generator loss: {gen_mean}, critic loss: {crit_mean}\")\n",
    "            step_bins = 20\n",
    "            num_examples = (len(generator_losses) // step_bins) * step_bins\n",
    "\n",
    "        cur_step += 1"
   ],
   "metadata": {
    "collapsed": false,
    "pycharm": {
     "name": "#%%\n"
    }
   }
  },
  {
   "cell_type": "markdown",
   "source": [
    "1. sava the parameters and load them into new one.\n",
    "2. get some output data.\n",
    "3. get the number of back folding, crossing, and self-avoiding.\n",
    "4. get the sub-array contains self-avoiding.\n",
    "5. get the string representing self-avoiding polymer.\n",
    "6. remove the duplicate from itself and check the different number.\n",
    "7. check the overlap with raw data.\n",
    "8. check some statistic value"
   ],
   "metadata": {
    "collapsed": false,
    "pycharm": {
     "name": "#%% md\n"
    }
   }
  },
  {
   "cell_type": "code",
   "execution_count": 5,
   "outputs": [],
   "source": [
    "# save the model\n",
    "# torch.save({'gen_state_dict': gen.state_dict()}, 'wgan_gen_one_hot.pth.tar')\n",
    "# torch.save({'crit_state_dict': crit.state_dict()}, 'wgan_crit_one_hot.pth.tar')"
   ],
   "metadata": {
    "collapsed": false,
    "pycharm": {
     "name": "#%%\n"
    }
   }
  },
  {
   "cell_type": "code",
   "execution_count": 6,
   "outputs": [
    {
     "data": {
      "text/plain": "<All keys matched successfully>"
     },
     "execution_count": 6,
     "metadata": {},
     "output_type": "execute_result"
    }
   ],
   "source": [
    "# # load the model\n",
    "# # create a new model, same stracture as the previous one\n",
    "gen_model = Generator(z_dim, im_dim=60, hidden_dim=16).to(device)\n",
    "crit_model = Critic(im_dim=60, hidden_dim=16).to(device)\n",
    "# get the state from stored file\n",
    "gen_checkpoint = torch.load('wgan_gen_one_hot.pth.tar')\n",
    "crit_chechpoint = torch.load('wgan_crit_one_hot.pth.tar')\n",
    "# load the state to the new model\n",
    "gen_model.load_state_dict(gen_checkpoint['gen_state_dict'])\n",
    "crit_model.load_state_dict(crit_chechpoint['crit_state_dict'])"
   ],
   "metadata": {
    "collapsed": false,
    "pycharm": {
     "name": "#%%\n"
    }
   }
  },
  {
   "cell_type": "markdown",
   "source": [
    "get output data"
   ],
   "metadata": {
    "collapsed": false,
    "pycharm": {
     "name": "#%% md\n"
    }
   }
  },
  {
   "cell_type": "code",
   "source": [
    "coordinate_output = np.zeros([16000, 16 ,2])\n",
    "for i in range(1000):\n",
    "    noise = get_noise(16, 8)\n",
    "    output = gen_model(noise).data.numpy()\n",
    "    for j in range(16):\n",
    "        one_hot_matrix = out.slicing_output(output[j], \"onehot\")\n",
    "        direction = out.one_hot_to_direction_four(one_hot_matrix)\n",
    "        coordinate = out.four_direction_to_coordinates(direction)\n",
    "        coordinate_output[(i * 16) + j] = coordinate"
   ],
   "metadata": {
    "collapsed": false,
    "pycharm": {
     "name": "#%%\n"
    }
   },
   "execution_count": 8,
   "outputs": []
  },
  {
   "cell_type": "markdown",
   "source": [
    "count the back folding and corss"
   ],
   "metadata": {
    "collapsed": false,
    "pycharm": {
     "name": "#%% md\n"
    }
   }
  },
  {
   "cell_type": "code",
   "source": [
    "folding_count, crossing_count, self_avoid = out.count_fold_cross(coordinate_output)\n",
    "print (folding_count, crossing_count, self_avoid)\n",
    "print (folding_count/16000, crossing_count/16000, self_avoid/16000)"
   ],
   "metadata": {
    "collapsed": false,
    "pycharm": {
     "name": "#%%\n"
    }
   },
   "execution_count": 9,
   "outputs": [
    {
     "name": "stdout",
     "output_type": "stream",
     "text": [
      "5038 5823 7869\n",
      "0.314875 0.3639375 0.4918125\n"
     ]
    }
   ]
  },
  {
   "cell_type": "markdown",
   "metadata": {
    "pycharm": {
     "name": "#%% md\n"
    }
   },
   "source": [
    "get the sub-array contains self-avoiding."
   ]
  },
  {
   "cell_type": "code",
   "source": [
    "self_avoid_output = out.arrange_self_avoid_polymer(coordinate_output, self_avoid)"
   ],
   "metadata": {
    "collapsed": false,
    "pycharm": {
     "name": "#%%\n"
    }
   },
   "execution_count": 10,
   "outputs": []
  },
  {
   "cell_type": "markdown",
   "source": [
    "convert coordinates to three direction, and remove duplicate"
   ],
   "metadata": {
    "collapsed": false,
    "pycharm": {
     "name": "#%% md\n"
    }
   }
  },
  {
   "cell_type": "code",
   "metadata": {
    "pycharm": {
     "name": "#%%\n"
    }
   },
   "source": [
    "direction_three = dc.coordinate_direction_three(self_avoid_output)\n",
    "removed_duplicated, directions_str = out.remove_duplicated(direction_three)"
   ],
   "execution_count": 11,
   "outputs": []
  },
  {
   "cell_type": "code",
   "execution_count": 12,
   "outputs": [
    {
     "data": {
      "text/plain": "6292"
     },
     "execution_count": 12,
     "metadata": {},
     "output_type": "execute_result"
    }
   ],
   "source": [
    "len(removed_duplicated)"
   ],
   "metadata": {
    "collapsed": false,
    "pycharm": {
     "name": "#%%\n"
    }
   }
  },
  {
   "cell_type": "markdown",
   "metadata": {
    "pycharm": {
     "name": "#%% md\n"
    }
   },
   "source": [
    "check overlap with raw data"
   ]
  },
  {
   "cell_type": "code",
   "source": [
    "direction_three_input = dc.coordinate_direction_three(coordinates_input)\n",
    "input_removed_dupicated_str, input_direction_str = out.remove_duplicated(direction_three_input)\n",
    "from tqdm.auto import tqdm\n",
    "repeat = 0\n",
    "for output in tqdm(removed_duplicated):\n",
    "    if output in input_removed_dupicated_str:\n",
    "        repeat += 1\n",
    "repeat"
   ],
   "metadata": {
    "collapsed": false,
    "pycharm": {
     "name": "#%%\n"
    }
   },
   "execution_count": 13,
   "outputs": [
    {
     "data": {
      "text/plain": "  0%|          | 0/6292 [00:00<?, ?it/s]",
      "application/vnd.jupyter.widget-view+json": {
       "version_major": 2,
       "version_minor": 0,
       "model_id": "2bf78e31a0ca4ad497b8ed9b143111b8"
      }
     },
     "metadata": {},
     "output_type": "display_data"
    },
    {
     "data": {
      "text/plain": "407"
     },
     "execution_count": 13,
     "metadata": {},
     "output_type": "execute_result"
    }
   ]
  },
  {
   "cell_type": "markdown",
   "source": [
    "get the statistic values"
   ],
   "metadata": {
    "collapsed": false,
    "pycharm": {
     "name": "#%% md\n"
    }
   }
  },
  {
   "cell_type": "code",
   "execution_count": 14,
   "outputs": [
    {
     "data": {
      "text/plain": "(6.34672323210437, 2.6295159659273137, 6.914354215066655)"
     },
     "execution_count": 14,
     "metadata": {},
     "output_type": "execute_result"
    }
   ],
   "source": [
    "distance_array = np.zeros(16000)\n",
    "for i in range(16000):\n",
    "    distance_array[i]= out.n_n_distance(coordinate_output[i])\n",
    "out.statistics(distance_array)"
   ],
   "metadata": {
    "collapsed": false,
    "pycharm": {
     "name": "#%%\n"
    }
   }
  },
  {
   "cell_type": "code",
   "execution_count": 15,
   "outputs": [
    {
     "data": {
      "text/plain": "(6.499296237636025, 2.262412079054168, 5.118508415450203)"
     },
     "execution_count": 15,
     "metadata": {},
     "output_type": "execute_result"
    }
   ],
   "source": [
    "input_distance = np.zeros(100000)\n",
    "for i in range(100000):\n",
    "    input_distance[i]= out.n_n_distance(coordinates_input[i])\n",
    "out.statistics(input_distance)"
   ],
   "metadata": {
    "collapsed": false,
    "pycharm": {
     "name": "#%%\n"
    }
   }
  },
  {
   "cell_type": "code",
   "execution_count": 17,
   "outputs": [
    {
     "data": {
      "text/plain": "<AxesSubplot:ylabel='Count'>"
     },
     "execution_count": 17,
     "metadata": {},
     "output_type": "execute_result"
    },
    {
     "data": {
      "text/plain": "<Figure size 432x288 with 1 Axes>",
      "image/png": "[encoded data removed]"
     },
     "metadata": {
      "needs_background": "light"
     },
     "output_type": "display_data"
    }
   ],
   "source": [
    "sns.histplot(data=input_distance, kde=True)"
   ],
   "metadata": {
    "collapsed": false,
    "pycharm": {
     "name": "#%%\n"
    }
   }
  },
  {
   "cell_type": "code",
   "execution_count": 18,
   "outputs": [
    {
     "data": {
      "text/plain": "<AxesSubplot:ylabel='Count'>"
     },
     "execution_count": 18,
     "metadata": {},
     "output_type": "execute_result"
    },
    {
     "data": {
      "text/plain": "<Figure size 432x288 with 1 Axes>",
      "image/png": "[encoded data removed]"
     },
     "metadata": {
      "needs_background": "light"
     },
     "output_type": "display_data"
    }
   ],
   "source": [
    "sns.histplot(data=distance_array, kde=True)"
   ],
   "metadata": {
    "collapsed": false,
    "pycharm": {
     "name": "#%%\n"
    }
   }
  },
  {
   "cell_type": "code",
   "execution_count": 25,
   "outputs": [],
   "source": [
    "output_list = []\n",
    "for k in range(100):\n",
    "    noise = get_noise(16, 8)\n",
    "    output = gen_model(noise).data.numpy()\n",
    "    for i in range(16):\n",
    "        for j in range(60):\n",
    "            output_list.append(output[i][j])"
   ],
   "metadata": {
    "collapsed": false,
    "pycharm": {
     "name": "#%%\n"
    }
   }
  },
  {
   "cell_type": "code",
   "execution_count": 26,
   "outputs": [
    {
     "data": {
      "text/plain": "<AxesSubplot:ylabel='Count'>"
     },
     "execution_count": 26,
     "metadata": {},
     "output_type": "execute_result"
    },
    {
     "data": {
      "text/plain": "<Figure size 432x288 with 1 Axes>",
      "image/png": "[encoded data removed]"
     },
     "metadata": {
      "needs_background": "light"
     },
     "output_type": "display_data"
    }
   ],
   "source": [
    "sns.histplot(data=output_list, kde=True)"
   ],
   "metadata": {
    "collapsed": false,
    "pycharm": {
     "name": "#%%\n"
    }
   }
  },
  {
   "cell_type": "code",
   "execution_count": 21,
   "outputs": [],
   "source": [
    "noise = get_noise(16, 8)\n",
    "output = gen_model(noise).data.numpy()\n"
   ],
   "metadata": {
    "collapsed": false,
    "pycharm": {
     "name": "#%%\n"
    }
   }
  },
  {
   "cell_type": "code",
   "execution_count": 24,
   "outputs": [
    {
     "data": {
      "text/plain": "60"
     },
     "execution_count": 24,
     "metadata": {},
     "output_type": "execute_result"
    }
   ],
   "source": [
    "len(output[0])"
   ],
   "metadata": {
    "collapsed": false,
    "pycharm": {
     "name": "#%%\n"
    }
   }
  },
  {
   "cell_type": "code",
   "execution_count": null,
   "outputs": [],
   "source": [],
   "metadata": {
    "collapsed": false,
    "pycharm": {
     "name": "#%%\n"
    }
   }
  }
 ],
 "metadata": {
  "kernelspec": {
   "name": "python3",
   "language": "python",
   "display_name": "Python 3"
  },
  "language_info": {
   "codemirror_mode": {
    "name": "ipython",
    "version": 2
   },
   "file_extension": ".py",
   "mimetype": "text/x-python",
   "name": "python",
   "nbconvert_exporter": "python",
   "pygments_lexer": "ipython2",
   "version": "3.8.3"
  }
 },
 "nbformat": 4,
 "nbformat_minor": 0
}
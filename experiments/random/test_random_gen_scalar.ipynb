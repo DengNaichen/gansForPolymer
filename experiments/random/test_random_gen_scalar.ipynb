{
 "cells": [
  {
   "cell_type": "code",
   "execution_count": 19,
   "metadata": {
    "collapsed": true
   },
   "outputs": [],
   "source": [
    "import torch\n",
    "from torch.utils.data import TensorDataset, DataLoader\n",
    "from torch import nn\n",
    "import numpy as np\n",
    "\n",
    "from res.Gans.training import Training\n",
    "import res.process_data.dire_and_coor as dc\n",
    "import res.process_data.process_raw_data as prd\n",
    "from res.Gans.generator import Generator\n",
    "from res.Gans.discriminator import Discriminator\n",
    "from res.process_data.dataset import tensor_dataset\n",
    "import seaborn as sns\n",
    "import res.process_data.test_nn as test_nn"
   ]
  },
  {
   "cell_type": "code",
   "execution_count": 9,
   "outputs": [
    {
     "data": {
      "text/plain": "<AxesSubplot:ylabel='Count'>"
     },
     "execution_count": 9,
     "metadata": {},
     "output_type": "execute_result"
    },
    {
     "data": {
      "text/plain": "<Figure size 432x288 with 1 Axes>",
      "image/png": "[encoded data removed]"
     },
     "metadata": {
      "needs_background": "light"
     },
     "output_type": "display_data"
    }
   ],
   "source": [
    "scalar_random = np.random.rand(100000, 15, 1)\n",
    "sns.histplot(data=((scalar_random).reshape(15 * 100000)))"
   ],
   "metadata": {
    "collapsed": false,
    "pycharm": {
     "name": "#%%\n"
    }
   }
  },
  {
   "cell_type": "code",
   "execution_count": 13,
   "outputs": [],
   "source": [
    "device = 'cuda' if torch.cuda.is_available() else 'cpu'\n",
    "z_dim = 8\n",
    "lr = 0.00001\n",
    "gen = Generator(z_dim, im_dim=15, hidden_dim=16).to(device)\n",
    "gen_opt = torch.optim.Adam(gen.parameters(), lr = lr)\n",
    "disc = Discriminator(im_dim=15, hidden_dim=16).to(device)\n",
    "disc_opt = torch.optim.Adam(disc.parameters(), lr = lr)"
   ],
   "metadata": {
    "collapsed": false,
    "pycharm": {
     "name": "#%%\n"
    }
   }
  },
  {
   "cell_type": "code",
   "execution_count": 24,
   "outputs": [
    {
     "data": {
      "text/plain": "<AxesSubplot:ylabel='Count'>"
     },
     "execution_count": 24,
     "metadata": {},
     "output_type": "execute_result"
    },
    {
     "data": {
      "text/plain": "<Figure size 432x288 with 1 Axes>",
      "image/png": "[encoded data removed]"
     },
     "metadata": {
      "needs_background": "light"
     },
     "output_type": "display_data"
    }
   ],
   "source": [
    "# check the output without training"
   ],
   "metadata": {
    "collapsed": false,
    "pycharm": {
     "name": "#%%\n"
    }
   }
  },
  {
   "cell_type": "code",
   "execution_count": 14,
   "outputs": [],
   "source": [
    "shuffle = True\n",
    "batch_size = 125\n",
    "num_worker = 0\n",
    "pin_memory = True\n",
    "\n",
    "input_tensor = torch.Tensor(scalar_random)\n",
    "my_dataset = tensor_dataset(input_tensor, 15, 1)\n",
    "my_dataloader = DataLoader(dataset= my_dataset,\n",
    "                            shuffle=shuffle,\n",
    "                            batch_size=batch_size,\n",
    "                            num_workers=num_worker,\n",
    "                            pin_memory=pin_memory)"
   ],
   "metadata": {
    "collapsed": false,
    "pycharm": {
     "name": "#%%\n"
    }
   }
  },
  {
   "cell_type": "code",
   "execution_count": 15,
   "outputs": [],
   "source": [
    "criterion = nn.BCEWithLogitsLoss()\n",
    "n_epochs = 200\n",
    "cur_step = 0\n",
    "mean_generator_loss = 0\n",
    "mean_discriminator_loss = 0\n",
    "test_generator = True\n",
    "gen_loss = False\n",
    "error = False\n",
    "display_step = 500"
   ],
   "metadata": {
    "collapsed": false,
    "pycharm": {
     "name": "#%%\n"
    }
   }
  },
  {
   "cell_type": "code",
   "execution_count": 16,
   "outputs": [
    {
     "data": {
      "text/plain": "  0%|          | 0/800 [00:00<?, ?it/s]",
      "application/vnd.jupyter.widget-view+json": {
       "version_major": 2,
       "version_minor": 0,
       "model_id": "b3aef2a3c3db43ddac01fa187343f6da"
      }
     },
     "metadata": {},
     "output_type": "display_data"
    },
    {
     "name": "stdout",
     "output_type": "stream",
     "text": [
      "Epoch 0, step 500: Generator loss: 0.6773137040138245, discriminator loss: 0.6936601616144183\n",
      "Epoch 1, step 1000: Generator loss: 0.6856426250934596, discriminator loss: 0.6927483198642729\n",
      "Epoch 1, step 1500: Generator loss: 0.6869715678691858, discriminator loss: 0.6923373365402224\n",
      "Epoch 2, step 2000: Generator loss: 0.6875321596860886, discriminator loss: 0.690767354488373\n",
      "Epoch 3, step 2500: Generator loss: 0.693296726584435, discriminator loss: 0.6902430995702746\n",
      "Epoch 3, step 3000: Generator loss: 0.6953564063310624, discriminator loss: 0.6906450428962706\n",
      "Epoch 4, step 3500: Generator loss: 0.6941838039159771, discriminator loss: 0.6914741396903987\n",
      "Epoch 5, step 4000: Generator loss: 0.6928116234540929, discriminator loss: 0.6905832239389418\n",
      "Epoch 5, step 4500: Generator loss: 0.6936675623655321, discriminator loss: 0.6903153731822974\n",
      "Epoch 6, step 5000: Generator loss: 0.6972467098236075, discriminator loss: 0.6905242133140567\n",
      "Epoch 6, step 5500: Generator loss: 0.6973037897348399, discriminator loss: 0.6913819907903671\n",
      "Epoch 7, step 6000: Generator loss: 0.695864622235298, discriminator loss: 0.6917618439197541\n",
      "Epoch 8, step 6500: Generator loss: 0.6923088258504861, discriminator loss: 0.6915804799795146\n",
      "Epoch 8, step 7000: Generator loss: 0.6905749045610425, discriminator loss: 0.6923543958663941\n",
      "Epoch 9, step 7500: Generator loss: 0.6951361048221588, discriminator loss: 0.6923423348665242\n",
      "Epoch 10, step 8000: Generator loss: 0.6969493739604948, discriminator loss: 0.6915401207208639\n",
      "Epoch 10, step 8500: Generator loss: 0.6966927812099452, discriminator loss: 0.6916648682355879\n",
      "Epoch 11, step 9000: Generator loss: 0.6957938461303707, discriminator loss: 0.6916826242208477\n",
      "Epoch 11, step 9500: Generator loss: 0.6953709361553194, discriminator loss: 0.6915517151355741\n",
      "Epoch 12, step 10000: Generator loss: 0.6950909247398374, discriminator loss: 0.6916854827404019\n",
      "Epoch 13, step 10500: Generator loss: 0.6944614219665523, discriminator loss: 0.6919442211389543\n",
      "Epoch 13, step 11000: Generator loss: 0.6943492473363876, discriminator loss: 0.6919657350778582\n",
      "Epoch 14, step 11500: Generator loss: 0.6947591363191608, discriminator loss: 0.6925161865949626\n",
      "Epoch 15, step 12000: Generator loss: 0.6958354824781423, discriminator loss: 0.6930908960103982\n",
      "Epoch 15, step 12500: Generator loss: 0.6903607875108722, discriminator loss: 0.6936560429334638\n",
      "Epoch 16, step 13000: Generator loss: 0.6900382997989652, discriminator loss: 0.693514469742775\n",
      "Epoch 16, step 13500: Generator loss: 0.6916212246418003, discriminator loss: 0.6925918021202092\n",
      "Epoch 17, step 14000: Generator loss: 0.6936614853143691, discriminator loss: 0.6920128444433206\n",
      "Epoch 18, step 14500: Generator loss: 0.6930820833444598, discriminator loss: 0.692234113574028\n",
      "Epoch 18, step 15000: Generator loss: 0.6928925186395649, discriminator loss: 0.6933764079809185\n",
      "Epoch 19, step 15500: Generator loss: 0.691286830544472, discriminator loss: 0.6933160971403128\n",
      "Epoch 20, step 16000: Generator loss: 0.6913815712928777, discriminator loss: 0.6931503531932832\n",
      "Epoch 20, step 16500: Generator loss: 0.6941310435533526, discriminator loss: 0.6931655155420298\n",
      "Epoch 21, step 17000: Generator loss: 0.6950967634916299, discriminator loss: 0.6933974721431732\n",
      "Epoch 21, step 17500: Generator loss: 0.6975755493640903, discriminator loss: 0.6940910545587534\n",
      "Epoch 22, step 18000: Generator loss: 0.6946818872690201, discriminator loss: 0.6937089074850082\n",
      "Epoch 23, step 18500: Generator loss: 0.6935095490217211, discriminator loss: 0.6935227085351945\n",
      "Epoch 23, step 19000: Generator loss: 0.6964359626770018, discriminator loss: 0.6934457733631132\n",
      "Epoch 24, step 19500: Generator loss: 0.6983952566385265, discriminator loss: 0.6929945458173754\n",
      "Epoch 25, step 20000: Generator loss: 0.6950618695020679, discriminator loss: 0.6930234619379048\n",
      "Epoch 25, step 20500: Generator loss: 0.6911050642728808, discriminator loss: 0.6931146672964097\n",
      "Epoch 26, step 21000: Generator loss: 0.6937207238674161, discriminator loss: 0.6927087389230725\n",
      "Epoch 26, step 21500: Generator loss: 0.695291200757027, discriminator loss: 0.6927472755908969\n",
      "Epoch 27, step 22000: Generator loss: 0.6932255246639251, discriminator loss: 0.6936341594457626\n",
      "Epoch 28, step 22500: Generator loss: 0.6917176027297972, discriminator loss: 0.6928167761564247\n",
      "Epoch 28, step 23000: Generator loss: 0.691039047002792, discriminator loss: 0.6927431778907774\n",
      "Epoch 29, step 23500: Generator loss: 0.6946824088096619, discriminator loss: 0.6927438548803333\n",
      "Epoch 30, step 24000: Generator loss: 0.6928693957328798, discriminator loss: 0.69345412015915\n",
      "Epoch 30, step 24500: Generator loss: 0.6941035238504408, discriminator loss: 0.6931141858100894\n",
      "Epoch 31, step 25000: Generator loss: 0.6900645927190772, discriminator loss: 0.6926807485818876\n",
      "Epoch 31, step 25500: Generator loss: 0.69374035680294, discriminator loss: 0.6934126247167587\n",
      "Epoch 32, step 26000: Generator loss: 0.6954357136487967, discriminator loss: 0.6933775770664218\n",
      "Epoch 33, step 26500: Generator loss: 0.6928893176317223, discriminator loss: 0.6936320875883101\n",
      "Epoch 33, step 27000: Generator loss: 0.6938431622982024, discriminator loss: 0.6929531486034396\n",
      "Epoch 34, step 27500: Generator loss: 0.6967727243900297, discriminator loss: 0.6929437487125395\n",
      "Epoch 35, step 28000: Generator loss: 0.6905665128231052, discriminator loss: 0.6933496377468112\n",
      "Epoch 35, step 28500: Generator loss: 0.691185815930366, discriminator loss: 0.6934675965309147\n",
      "Epoch 36, step 29000: Generator loss: 0.6925467195510869, discriminator loss: 0.6932410907745362\n",
      "Epoch 36, step 29500: Generator loss: 0.6887389582395558, discriminator loss: 0.6934038702249525\n",
      "Epoch 37, step 30000: Generator loss: 0.6927067865133291, discriminator loss: 0.6937067962884903\n",
      "Epoch 38, step 30500: Generator loss: 0.6972660841941839, discriminator loss: 0.6933620618581773\n",
      "Epoch 38, step 31000: Generator loss: 0.6924150950908659, discriminator loss: 0.6936166723966596\n",
      "Epoch 39, step 31500: Generator loss: 0.6924621300697328, discriminator loss: 0.6931516999006273\n",
      "Epoch 40, step 32000: Generator loss: 0.6935189788341523, discriminator loss: 0.6930485680103309\n",
      "Epoch 40, step 32500: Generator loss: 0.694719989657402, discriminator loss: 0.6931238583326351\n",
      "Epoch 41, step 33000: Generator loss: 0.6896287330389024, discriminator loss: 0.6933037651777268\n",
      "Epoch 41, step 33500: Generator loss: 0.690364479660989, discriminator loss: 0.6934335938692092\n",
      "Epoch 42, step 34000: Generator loss: 0.6953111805915827, discriminator loss: 0.693391017436981\n",
      "Epoch 43, step 34500: Generator loss: 0.6888599516153344, discriminator loss: 0.6930273987054821\n",
      "Epoch 43, step 35000: Generator loss: 0.6932517678737637, discriminator loss: 0.6931556609869\n",
      "Epoch 44, step 35500: Generator loss: 0.6925235589742657, discriminator loss: 0.69317826628685\n",
      "Epoch 45, step 36000: Generator loss: 0.6913208310604098, discriminator loss: 0.6933066823482514\n",
      "Epoch 45, step 36500: Generator loss: 0.6950232380628585, discriminator loss: 0.6931479955911629\n",
      "Epoch 46, step 37000: Generator loss: 0.6952333015203478, discriminator loss: 0.693111430406569\n",
      "Epoch 46, step 37500: Generator loss: 0.6914825103282931, discriminator loss: 0.6929299113750457\n",
      "Epoch 47, step 38000: Generator loss: 0.6932279285192494, discriminator loss: 0.6932404698133471\n",
      "Epoch 48, step 38500: Generator loss: 0.695056602478026, discriminator loss: 0.6935513215065002\n",
      "Epoch 48, step 39000: Generator loss: 0.6901191132068626, discriminator loss: 0.6931211613416671\n",
      "Epoch 49, step 39500: Generator loss: 0.696552112460137, discriminator loss: 0.6927672743797302\n",
      "Epoch 50, step 40000: Generator loss: 0.6929578517675409, discriminator loss: 0.6930499504804611\n",
      "Epoch 50, step 40500: Generator loss: 0.692053706765175, discriminator loss: 0.6931287955045699\n",
      "Epoch 51, step 41000: Generator loss: 0.6940813536643976, discriminator loss: 0.6933570898771283\n",
      "Epoch 51, step 41500: Generator loss: 0.6921739562749862, discriminator loss: 0.6929214180707924\n",
      "Epoch 52, step 42000: Generator loss: 0.6934897540807722, discriminator loss: 0.6934534821510315\n",
      "Epoch 53, step 42500: Generator loss: 0.6938890337944028, discriminator loss: 0.6930113466978072\n",
      "Epoch 53, step 43000: Generator loss: 0.6927184996604915, discriminator loss: 0.6936123441457743\n",
      "Epoch 54, step 43500: Generator loss: 0.6927484271526336, discriminator loss: 0.6932478457689287\n",
      "Epoch 55, step 44000: Generator loss: 0.6925395343303679, discriminator loss: 0.6932768143415449\n",
      "Epoch 55, step 44500: Generator loss: 0.6942052944898602, discriminator loss: 0.6929663196802147\n",
      "Epoch 56, step 45000: Generator loss: 0.6891117082834243, discriminator loss: 0.6930203381776803\n",
      "Epoch 56, step 45500: Generator loss: 0.6928945382833481, discriminator loss: 0.6929450503587727\n",
      "Epoch 57, step 46000: Generator loss: 0.6939050365686422, discriminator loss: 0.6932173625230788\n",
      "Epoch 58, step 46500: Generator loss: 0.6925046691894534, discriminator loss: 0.6937592210769645\n",
      "Epoch 58, step 47000: Generator loss: 0.6930082117319101, discriminator loss: 0.6929724596738815\n",
      "Epoch 59, step 47500: Generator loss: 0.6930582584142683, discriminator loss: 0.6932139667272558\n",
      "Epoch 60, step 48000: Generator loss: 0.6933131830692291, discriminator loss: 0.6932721207141871\n",
      "Epoch 60, step 48500: Generator loss: 0.6937149579524994, discriminator loss: 0.6932675882577892\n",
      "Epoch 61, step 49000: Generator loss: 0.6907955770492553, discriminator loss: 0.6931243181228646\n",
      "Epoch 61, step 49500: Generator loss: 0.6939813036918637, discriminator loss: 0.6932271828651426\n",
      "Epoch 62, step 50000: Generator loss: 0.6925095903873448, discriminator loss: 0.6929494028091429\n",
      "Epoch 63, step 50500: Generator loss: 0.6925433384180067, discriminator loss: 0.693418915390967\n",
      "Epoch 63, step 51000: Generator loss: 0.6929223462343225, discriminator loss: 0.6930588920116423\n",
      "Epoch 64, step 51500: Generator loss: 0.6981525011062628, discriminator loss: 0.693415641546249\n",
      "Epoch 65, step 52000: Generator loss: 0.6939687122106557, discriminator loss: 0.6928246043920518\n",
      "Epoch 65, step 52500: Generator loss: 0.6934900331497197, discriminator loss: 0.6931091631650916\n",
      "Epoch 66, step 53000: Generator loss: 0.6945164961814881, discriminator loss: 0.6927026065587992\n",
      "Epoch 66, step 53500: Generator loss: 0.6939061396121974, discriminator loss: 0.6931393107175825\n",
      "Epoch 67, step 54000: Generator loss: 0.6946105667352676, discriminator loss: 0.6931891521215433\n",
      "Epoch 68, step 54500: Generator loss: 0.6890127999782568, discriminator loss: 0.6933356397151951\n",
      "Epoch 68, step 55000: Generator loss: 0.6948796017169956, discriminator loss: 0.6931761035919191\n",
      "Epoch 69, step 55500: Generator loss: 0.6922668120861052, discriminator loss: 0.6932954499721522\n",
      "Epoch 70, step 56000: Generator loss: 0.6926339782476434, discriminator loss: 0.6933551052808765\n",
      "Epoch 70, step 56500: Generator loss: 0.6935579612255102, discriminator loss: 0.6932811783552165\n",
      "Epoch 71, step 57000: Generator loss: 0.6934585922956465, discriminator loss: 0.6933213227987287\n",
      "Epoch 71, step 57500: Generator loss: 0.6936959530115134, discriminator loss: 0.6932844697237012\n",
      "Epoch 72, step 58000: Generator loss: 0.6894292014837261, discriminator loss: 0.6929466749429699\n",
      "Epoch 73, step 58500: Generator loss: 0.6970709741115575, discriminator loss: 0.6932519375085833\n",
      "Epoch 73, step 59000: Generator loss: 0.6902903864383694, discriminator loss: 0.6930559406280508\n",
      "Epoch 74, step 59500: Generator loss: 0.6913880790472032, discriminator loss: 0.6932277652025217\n",
      "Epoch 75, step 60000: Generator loss: 0.6939911307096481, discriminator loss: 0.6934741780757904\n",
      "Epoch 75, step 60500: Generator loss: 0.6944791450500484, discriminator loss: 0.6932963354587555\n",
      "Epoch 76, step 61000: Generator loss: 0.6938797980546952, discriminator loss: 0.6932224919795984\n",
      "Epoch 76, step 61500: Generator loss: 0.6921730411052706, discriminator loss: 0.6931391856670375\n",
      "Epoch 77, step 62000: Generator loss: 0.6957825810909274, discriminator loss: 0.6929901698827746\n",
      "Epoch 78, step 62500: Generator loss: 0.6924353306293497, discriminator loss: 0.693150186657906\n",
      "Epoch 78, step 63000: Generator loss: 0.6890687780380256, discriminator loss: 0.6932498726844784\n",
      "Epoch 79, step 63500: Generator loss: 0.6949862759113312, discriminator loss: 0.6931354504823681\n",
      "Epoch 80, step 64000: Generator loss: 0.6940047328472134, discriminator loss: 0.6932178665399553\n",
      "Epoch 80, step 64500: Generator loss: 0.6901823002099993, discriminator loss: 0.693219761490822\n",
      "Epoch 81, step 65000: Generator loss: 0.6972565624713902, discriminator loss: 0.6930275555849077\n",
      "Epoch 81, step 65500: Generator loss: 0.6944629169702532, discriminator loss: 0.6932465041875838\n",
      "Epoch 82, step 66000: Generator loss: 0.693888437271118, discriminator loss: 0.6933672044277183\n",
      "Epoch 83, step 66500: Generator loss: 0.6900594028234488, discriminator loss: 0.6930415576696403\n",
      "Epoch 83, step 67000: Generator loss: 0.6903720890283581, discriminator loss: 0.6933673419952391\n",
      "Epoch 84, step 67500: Generator loss: 0.6984239505529406, discriminator loss: 0.6930704004764559\n",
      "Epoch 85, step 68000: Generator loss: 0.6920464968681328, discriminator loss: 0.6934065134525305\n",
      "Epoch 85, step 68500: Generator loss: 0.6873697158098225, discriminator loss: 0.6933183497190468\n",
      "Epoch 86, step 69000: Generator loss: 0.6956597729921341, discriminator loss: 0.6932086642980573\n",
      "Epoch 86, step 69500: Generator loss: 0.6947534803152081, discriminator loss: 0.6930656733512878\n",
      "Epoch 87, step 70000: Generator loss: 0.6902527147531516, discriminator loss: 0.6932262305021288\n",
      "Epoch 88, step 70500: Generator loss: 0.6939964832067494, discriminator loss: 0.6931726795434952\n",
      "Epoch 88, step 71000: Generator loss: 0.6945255230665204, discriminator loss: 0.693120682954788\n",
      "Epoch 89, step 71500: Generator loss: 0.6916067678928377, discriminator loss: 0.6930972743034356\n",
      "Epoch 90, step 72000: Generator loss: 0.6926381086111068, discriminator loss: 0.6932136694192879\n",
      "Epoch 90, step 72500: Generator loss: 0.6942902069091802, discriminator loss: 0.6931807337999348\n",
      "Epoch 91, step 73000: Generator loss: 0.6938358129262929, discriminator loss: 0.6931728944778442\n",
      "Epoch 91, step 73500: Generator loss: 0.6904077280759812, discriminator loss: 0.6931110054254522\n",
      "Epoch 92, step 74000: Generator loss: 0.6973382655382161, discriminator loss: 0.6930370692014697\n",
      "Epoch 93, step 74500: Generator loss: 0.6929883037805564, discriminator loss: 0.6931833119392399\n",
      "Epoch 93, step 75000: Generator loss: 0.6900515938997267, discriminator loss: 0.6932319041490557\n",
      "Epoch 94, step 75500: Generator loss: 0.6947904037237164, discriminator loss: 0.6931172790527343\n",
      "Epoch 95, step 76000: Generator loss: 0.6939586983919146, discriminator loss: 0.6930461914539336\n",
      "Epoch 95, step 76500: Generator loss: 0.6913741265535349, discriminator loss: 0.6933621438741688\n",
      "Epoch 96, step 77000: Generator loss: 0.691919405817985, discriminator loss: 0.6931723752021802\n",
      "Epoch 96, step 77500: Generator loss: 0.6957297399044033, discriminator loss: 0.6929229105710982\n",
      "Epoch 97, step 78000: Generator loss: 0.6914824752807622, discriminator loss: 0.6931623746156689\n",
      "Epoch 98, step 78500: Generator loss: 0.6938001829385761, discriminator loss: 0.693265036940575\n",
      "Epoch 98, step 79000: Generator loss: 0.6954932349920269, discriminator loss: 0.6930923514366142\n",
      "Epoch 99, step 79500: Generator loss: 0.6933703565597535, discriminator loss: 0.6932499825954432\n",
      "Epoch 100, step 80000: Generator loss: 0.6931579661369324, discriminator loss: 0.6930950151681892\n",
      "Epoch 100, step 80500: Generator loss: 0.693385218143463, discriminator loss: 0.6932408801317218\n",
      "Epoch 101, step 81000: Generator loss: 0.6908239729404451, discriminator loss: 0.6931682811975484\n",
      "Epoch 101, step 81500: Generator loss: 0.6930126564502709, discriminator loss: 0.6931535893678668\n",
      "Epoch 102, step 82000: Generator loss: 0.6934016927480687, discriminator loss: 0.6932145299911501\n",
      "Epoch 103, step 82500: Generator loss: 0.6924714614152915, discriminator loss: 0.6931441502571108\n",
      "Epoch 103, step 83000: Generator loss: 0.6948894351720818, discriminator loss: 0.6930842747688299\n",
      "Epoch 104, step 83500: Generator loss: 0.6933922468423842, discriminator loss: 0.6932773036956782\n",
      "Epoch 105, step 84000: Generator loss: 0.6921862908601767, discriminator loss: 0.6932575854063036\n",
      "Epoch 105, step 84500: Generator loss: 0.6938652776479712, discriminator loss: 0.6933242852687828\n",
      "Epoch 106, step 85000: Generator loss: 0.6925111348628993, discriminator loss: 0.6931874520778656\n",
      "Epoch 106, step 85500: Generator loss: 0.693836909294129, discriminator loss: 0.6931971560716622\n",
      "Epoch 107, step 86000: Generator loss: 0.6933475065231319, discriminator loss: 0.6931271626949309\n",
      "Epoch 108, step 86500: Generator loss: 0.6923374289274218, discriminator loss: 0.6931839536428449\n",
      "Epoch 108, step 87000: Generator loss: 0.695182285904885, discriminator loss: 0.6932127648591988\n",
      "Epoch 109, step 87500: Generator loss: 0.6904195265769951, discriminator loss: 0.6931179308891297\n",
      "Epoch 110, step 88000: Generator loss: 0.6936852004528047, discriminator loss: 0.6931949735879895\n",
      "Epoch 110, step 88500: Generator loss: 0.6916238707304005, discriminator loss: 0.6931704194545745\n",
      "Epoch 111, step 89000: Generator loss: 0.6929801191091538, discriminator loss: 0.693047171473503\n",
      "Epoch 111, step 89500: Generator loss: 0.6933439813852309, discriminator loss: 0.6932799717187885\n",
      "Epoch 112, step 90000: Generator loss: 0.6927149538993834, discriminator loss: 0.6931852146387109\n",
      "Epoch 113, step 90500: Generator loss: 0.6922239202260972, discriminator loss: 0.6931764448881144\n",
      "Epoch 113, step 91000: Generator loss: 0.6949762351512914, discriminator loss: 0.6931459621191026\n",
      "Epoch 114, step 91500: Generator loss: 0.6920640888214112, discriminator loss: 0.6931958025693894\n",
      "Epoch 115, step 92000: Generator loss: 0.6937966233491891, discriminator loss: 0.6930658957958213\n",
      "Epoch 115, step 92500: Generator loss: 0.6928949208259585, discriminator loss: 0.6932287845611578\n",
      "Epoch 116, step 93000: Generator loss: 0.6927882678508759, discriminator loss: 0.6930082336664203\n",
      "Epoch 116, step 93500: Generator loss: 0.6944719451665882, discriminator loss: 0.6932037636041641\n",
      "Epoch 117, step 94000: Generator loss: 0.6917753826379778, discriminator loss: 0.6933250615596768\n",
      "Epoch 118, step 94500: Generator loss: 0.6939688903093345, discriminator loss: 0.6931010937690735\n",
      "Epoch 118, step 95000: Generator loss: 0.6929816960096362, discriminator loss: 0.6932020484209059\n",
      "Epoch 119, step 95500: Generator loss: 0.6923740290403363, discriminator loss: 0.693183431267738\n",
      "Epoch 120, step 96000: Generator loss: 0.6937752244472499, discriminator loss: 0.6931442970037464\n",
      "Epoch 120, step 96500: Generator loss: 0.6921734350919722, discriminator loss: 0.6931397638320923\n",
      "Epoch 121, step 97000: Generator loss: 0.6939227503538133, discriminator loss: 0.6930861986875534\n",
      "Epoch 121, step 97500: Generator loss: 0.693354769706726, discriminator loss: 0.6932428849935536\n",
      "Epoch 122, step 98000: Generator loss: 0.6925640850067138, discriminator loss: 0.6932423552274698\n",
      "Epoch 123, step 98500: Generator loss: 0.6946379112005238, discriminator loss: 0.6930188647508617\n",
      "Epoch 123, step 99000: Generator loss: 0.6924921232461926, discriminator loss: 0.6931935708522794\n",
      "Epoch 124, step 99500: Generator loss: 0.6924039133787149, discriminator loss: 0.6930904463529579\n",
      "Epoch 125, step 100000: Generator loss: 0.6930599455833433, discriminator loss: 0.6930050170421598\n",
      "Epoch 125, step 100500: Generator loss: 0.6940146923065188, discriminator loss: 0.6932326042652129\n",
      "Epoch 126, step 101000: Generator loss: 0.6924577554464336, discriminator loss: 0.6933771624565126\n",
      "Epoch 126, step 101500: Generator loss: 0.6935064549446117, discriminator loss: 0.6931516426801683\n",
      "Epoch 127, step 102000: Generator loss: 0.6920290417671202, discriminator loss: 0.6931236826181413\n",
      "Epoch 128, step 102500: Generator loss: 0.6934094510078431, discriminator loss: 0.6931748250722881\n",
      "Epoch 128, step 103000: Generator loss: 0.6926054584980011, discriminator loss: 0.6931131479740142\n",
      "Epoch 129, step 103500: Generator loss: 0.693558321833611, discriminator loss: 0.6931807160377497\n",
      "Epoch 130, step 104000: Generator loss: 0.6948484063148491, discriminator loss: 0.6930612170696253\n",
      "Epoch 130, step 104500: Generator loss: 0.691247046113014, discriminator loss: 0.6932167930603028\n",
      "Epoch 131, step 105000: Generator loss: 0.693188209295273, discriminator loss: 0.6932608627080914\n",
      "Epoch 131, step 105500: Generator loss: 0.6938877350091928, discriminator loss: 0.6930488200187681\n",
      "Epoch 132, step 106000: Generator loss: 0.6927506774663931, discriminator loss: 0.6931681303977961\n",
      "Epoch 133, step 106500: Generator loss: 0.6927318345308305, discriminator loss: 0.6930526685714722\n",
      "Epoch 133, step 107000: Generator loss: 0.6936771730184556, discriminator loss: 0.6932345268726348\n",
      "Epoch 134, step 107500: Generator loss: 0.6940076117515566, discriminator loss: 0.6931260440349576\n",
      "Epoch 135, step 108000: Generator loss: 0.6909312393665314, discriminator loss: 0.6931571891307831\n",
      "Epoch 135, step 108500: Generator loss: 0.6939212136268613, discriminator loss: 0.693170476794243\n",
      "Epoch 136, step 109000: Generator loss: 0.6942045426368716, discriminator loss: 0.6931256990432738\n",
      "Epoch 136, step 109500: Generator loss: 0.6933708432912823, discriminator loss: 0.6932009371519082\n",
      "Epoch 137, step 110000: Generator loss: 0.692482107877731, discriminator loss: 0.6931832084655767\n",
      "Epoch 138, step 110500: Generator loss: 0.6933440757989883, discriminator loss: 0.6931830482482906\n",
      "Epoch 138, step 111000: Generator loss: 0.6930044642686845, discriminator loss: 0.6931160306930542\n",
      "Epoch 139, step 111500: Generator loss: 0.6928278042078019, discriminator loss: 0.6930943728685377\n",
      "Epoch 140, step 112000: Generator loss: 0.6932671083211894, discriminator loss: 0.6932450940608973\n",
      "Epoch 140, step 112500: Generator loss: 0.6931901396512988, discriminator loss: 0.6931446957588195\n",
      "Epoch 141, step 113000: Generator loss: 0.6929951040744786, discriminator loss: 0.6931453030109405\n",
      "Epoch 141, step 113500: Generator loss: 0.6932686120271684, discriminator loss: 0.693203675508499\n",
      "Epoch 142, step 114000: Generator loss: 0.6932699505090724, discriminator loss: 0.6931818213462833\n",
      "Epoch 143, step 114500: Generator loss: 0.6931837625503539, discriminator loss: 0.6931713558435436\n",
      "Epoch 143, step 115000: Generator loss: 0.6930466823577885, discriminator loss: 0.6931962163448331\n",
      "Epoch 144, step 115500: Generator loss: 0.6925180569887156, discriminator loss: 0.6931298944950111\n",
      "Epoch 145, step 116000: Generator loss: 0.6938164712190633, discriminator loss: 0.6931920768022538\n",
      "Epoch 145, step 116500: Generator loss: 0.6939078060388559, discriminator loss: 0.6931558903455733\n",
      "Epoch 146, step 117000: Generator loss: 0.6913945659399036, discriminator loss: 0.6931696394681929\n",
      "Epoch 146, step 117500: Generator loss: 0.6946127592325212, discriminator loss: 0.6930988379716867\n",
      "Epoch 147, step 118000: Generator loss: 0.6932464467287068, discriminator loss: 0.6931254181861874\n",
      "Epoch 148, step 118500: Generator loss: 0.6921685490608209, discriminator loss: 0.6932406643629068\n",
      "Epoch 148, step 119000: Generator loss: 0.6935310951471334, discriminator loss: 0.6932165606021888\n",
      "Epoch 149, step 119500: Generator loss: 0.6926130094528206, discriminator loss: 0.6931255284547801\n",
      "Epoch 150, step 120000: Generator loss: 0.6929447687864303, discriminator loss: 0.6932370189428327\n",
      "Epoch 150, step 120500: Generator loss: 0.6930053932666775, discriminator loss: 0.6931227426528933\n",
      "Epoch 151, step 121000: Generator loss: 0.6934169893264766, discriminator loss: 0.6932024385929105\n",
      "Epoch 151, step 121500: Generator loss: 0.6938273906707761, discriminator loss: 0.6931037067174908\n",
      "Epoch 152, step 122000: Generator loss: 0.692955867409706, discriminator loss: 0.6930899853706363\n",
      "Epoch 153, step 122500: Generator loss: 0.6931345614194865, discriminator loss: 0.6931795334815982\n",
      "Epoch 153, step 123000: Generator loss: 0.6935200194120407, discriminator loss: 0.6930506644248956\n",
      "Epoch 154, step 123500: Generator loss: 0.692376520752907, discriminator loss: 0.6932464872598649\n",
      "Epoch 155, step 124000: Generator loss: 0.6938283617496489, discriminator loss: 0.6930546418428415\n",
      "Epoch 155, step 124500: Generator loss: 0.692303814411163, discriminator loss: 0.693355627179146\n",
      "Epoch 156, step 125000: Generator loss: 0.6947381401062008, discriminator loss: 0.69302219247818\n",
      "Epoch 156, step 125500: Generator loss: 0.6924626218080526, discriminator loss: 0.6931737838983535\n",
      "Epoch 157, step 126000: Generator loss: 0.6917671766281132, discriminator loss: 0.6931761977672571\n",
      "Epoch 158, step 126500: Generator loss: 0.6942488560676574, discriminator loss: 0.693171036720276\n",
      "Epoch 158, step 127000: Generator loss: 0.6934196113348001, discriminator loss: 0.6931988041400907\n",
      "Epoch 159, step 127500: Generator loss: 0.691998042345047, discriminator loss: 0.6931215842962263\n",
      "Epoch 160, step 128000: Generator loss: 0.6953750759363178, discriminator loss: 0.6930716328620906\n",
      "Epoch 160, step 128500: Generator loss: 0.6919686250686647, discriminator loss: 0.6932066472768783\n",
      "Epoch 161, step 129000: Generator loss: 0.6929812891483307, discriminator loss: 0.6932881703376764\n",
      "Epoch 161, step 129500: Generator loss: 0.6926596556901924, discriminator loss: 0.693148273229599\n",
      "Epoch 162, step 130000: Generator loss: 0.6931819492578511, discriminator loss: 0.6933957493305203\n",
      "Epoch 163, step 130500: Generator loss: 0.6931412947177887, discriminator loss: 0.6931518507003787\n",
      "Epoch 163, step 131000: Generator loss: 0.693274285197258, discriminator loss: 0.6932661074399952\n",
      "Epoch 164, step 131500: Generator loss: 0.6927790874242782, discriminator loss: 0.6931927481889729\n",
      "Epoch 165, step 132000: Generator loss: 0.6920492596626279, discriminator loss: 0.6932046170234685\n",
      "Epoch 165, step 132500: Generator loss: 0.6942125562429433, discriminator loss: 0.693127616405487\n",
      "Epoch 166, step 133000: Generator loss: 0.6928822808265684, discriminator loss: 0.6931284549236303\n",
      "Epoch 166, step 133500: Generator loss: 0.6929276186227804, discriminator loss: 0.6933005627393728\n",
      "Epoch 167, step 134000: Generator loss: 0.6937354679107671, discriminator loss: 0.6931807174682618\n",
      "Epoch 168, step 134500: Generator loss: 0.6928509807586682, discriminator loss: 0.6931203342676165\n",
      "Epoch 168, step 135000: Generator loss: 0.6940853877067565, discriminator loss: 0.6931748565435406\n",
      "Epoch 169, step 135500: Generator loss: 0.6912309737205502, discriminator loss: 0.6931614755392068\n",
      "Epoch 170, step 136000: Generator loss: 0.694596321940422, discriminator loss: 0.6931428287029266\n",
      "Epoch 170, step 136500: Generator loss: 0.6927424218654631, discriminator loss: 0.6930433027744292\n",
      "Epoch 171, step 137000: Generator loss: 0.6940522207021711, discriminator loss: 0.6931248954534528\n",
      "Epoch 171, step 137500: Generator loss: 0.6925057562589644, discriminator loss: 0.693130895495415\n",
      "Epoch 172, step 138000: Generator loss: 0.6934369248151779, discriminator loss: 0.693091233253478\n",
      "Epoch 173, step 138500: Generator loss: 0.6928432704210287, discriminator loss: 0.6932744716405872\n",
      "Epoch 173, step 139000: Generator loss: 0.6937566298246373, discriminator loss: 0.6930732829570768\n",
      "Epoch 174, step 139500: Generator loss: 0.6916072944402696, discriminator loss: 0.6932367153167722\n",
      "Epoch 175, step 140000: Generator loss: 0.6955609807968145, discriminator loss: 0.6931235115528114\n",
      "Epoch 175, step 140500: Generator loss: 0.6912992503643037, discriminator loss: 0.6932703926563265\n",
      "Epoch 176, step 141000: Generator loss: 0.6929314051866532, discriminator loss: 0.693165906190872\n",
      "Epoch 176, step 141500: Generator loss: 0.6938402963876728, discriminator loss: 0.6930894334316248\n",
      "Epoch 177, step 142000: Generator loss: 0.6922146633863444, discriminator loss: 0.6932430855035794\n",
      "Epoch 178, step 142500: Generator loss: 0.6949047287702564, discriminator loss: 0.6931225433349602\n",
      "Epoch 178, step 143000: Generator loss: 0.6927137105464931, discriminator loss: 0.6931522952318203\n",
      "Epoch 179, step 143500: Generator loss: 0.6926883099079131, discriminator loss: 0.6932679507732397\n",
      "Epoch 180, step 144000: Generator loss: 0.6931412431001666, discriminator loss: 0.6931000525951392\n",
      "Epoch 180, step 144500: Generator loss: 0.6912558424472809, discriminator loss: 0.6931886937618253\n",
      "Epoch 181, step 145000: Generator loss: 0.694890824913979, discriminator loss: 0.6931998099088664\n",
      "Epoch 181, step 145500: Generator loss: 0.6928603390455242, discriminator loss: 0.6931488626003278\n",
      "Epoch 182, step 146000: Generator loss: 0.693868650197983, discriminator loss: 0.6931743056774147\n",
      "Epoch 183, step 146500: Generator loss: 0.693283210992813, discriminator loss: 0.6931568539142607\n",
      "Epoch 183, step 147000: Generator loss: 0.6927272021770478, discriminator loss: 0.6931439205408101\n",
      "Epoch 184, step 147500: Generator loss: 0.6928918398618698, discriminator loss: 0.6930644038915635\n",
      "Epoch 185, step 148000: Generator loss: 0.6928091840744017, discriminator loss: 0.6932615724802023\n",
      "Epoch 185, step 148500: Generator loss: 0.6943972576856611, discriminator loss: 0.6932036306858069\n",
      "Epoch 186, step 149000: Generator loss: 0.6930800446271904, discriminator loss: 0.6930977289676662\n",
      "Epoch 186, step 149500: Generator loss: 0.6928612449169159, discriminator loss: 0.6932609357833865\n",
      "Epoch 187, step 150000: Generator loss: 0.6928007351160044, discriminator loss: 0.6931492159366607\n",
      "Epoch 188, step 150500: Generator loss: 0.693038121938706, discriminator loss: 0.693211051225663\n",
      "Epoch 188, step 151000: Generator loss: 0.6926901215314863, discriminator loss: 0.6930980829000474\n",
      "Epoch 189, step 151500: Generator loss: 0.6937000873088832, discriminator loss: 0.6932655771970747\n",
      "Epoch 190, step 152000: Generator loss: 0.6930640140771869, discriminator loss: 0.693180236697197\n",
      "Epoch 190, step 152500: Generator loss: 0.6931030400991434, discriminator loss: 0.6930611196756361\n",
      "Epoch 191, step 153000: Generator loss: 0.6928811415433873, discriminator loss: 0.6932959471940995\n",
      "Epoch 191, step 153500: Generator loss: 0.6937980411052702, discriminator loss: 0.6931457290649417\n",
      "Epoch 192, step 154000: Generator loss: 0.6926023070812218, discriminator loss: 0.6931006913185123\n",
      "Epoch 193, step 154500: Generator loss: 0.6937072237730026, discriminator loss: 0.6931107890605915\n",
      "Epoch 193, step 155000: Generator loss: 0.6926834636926649, discriminator loss: 0.6931393741369247\n",
      "Epoch 194, step 155500: Generator loss: 0.6927350859642023, discriminator loss: 0.6932666857242585\n",
      "Epoch 195, step 156000: Generator loss: 0.6938847980499262, discriminator loss: 0.693035410046577\n",
      "Epoch 195, step 156500: Generator loss: 0.6923176666498192, discriminator loss: 0.6931939349174498\n",
      "Epoch 196, step 157000: Generator loss: 0.6927506666183473, discriminator loss: 0.6932200049161906\n",
      "Epoch 196, step 157500: Generator loss: 0.694533218383789, discriminator loss: 0.6931934083700181\n",
      "Epoch 197, step 158000: Generator loss: 0.6932517194747928, discriminator loss: 0.6929802707433705\n",
      "Epoch 198, step 158500: Generator loss: 0.6919444475173953, discriminator loss: 0.6933621307611462\n",
      "Epoch 198, step 159000: Generator loss: 0.6925943969488149, discriminator loss: 0.6931203151941299\n",
      "Epoch 199, step 159500: Generator loss: 0.6933690428733823, discriminator loss: 0.6931706826686858\n"
     ]
    },
    {
     "data": {
      "text/plain": "  0%|          | 0/800 [00:00<?, ?it/s]",
      "application/vnd.jupyter.widget-view+json": {
       "version_major": 2,
       "version_minor": 0,
       "model_id": "d85f45b194bb465c9791b0b44ca67b27"
      }
     },
     "metadata": {},
     "output_type": "display_data"
    },
    {
     "data": {
      "text/plain": "  0%|          | 0/800 [00:00<?, ?it/s]",
      "application/vnd.jupyter.widget-view+json": {
       "version_major": 2,
       "version_minor": 0,
       "model_id": "b54f6e64e3b54b0c8beb79f72bf8c013"
      }
     },
     "metadata": {},
     "output_type": "display_data"
    },
    {
     "data": {
      "text/plain": "  0%|          | 0/800 [00:00<?, ?it/s]",
      "application/vnd.jupyter.widget-view+json": {
       "version_major": 2,
       "version_minor": 0,
       "model_id": "859c6e2c321f421888b266db5cae9d35"
      }
     },
     "metadata": {},
     "output_type": "display_data"
    },
    {
     "data": {
      "text/plain": "  0%|          | 0/800 [00:00<?, ?it/s]",
      "application/vnd.jupyter.widget-view+json": {
       "version_major": 2,
       "version_minor": 0,
       "model_id": "ed16a0062b3540dfa1ae4ae30b81f7f2"
      }
     },
     "metadata": {},
     "output_type": "display_data"
    },
    {
     "data": {
      "text/plain": "  0%|          | 0/800 [00:00<?, ?it/s]",
      "application/vnd.jupyter.widget-view+json": {
       "version_major": 2,
       "version_minor": 0,
       "model_id": "5abbaf8f5a0a4a0b8d309ab5c0c8404e"
      }
     },
     "metadata": {},
     "output_type": "display_data"
    },
    {
     "data": {
      "text/plain": "  0%|          | 0/800 [00:00<?, ?it/s]",
      "application/vnd.jupyter.widget-view+json": {
       "version_major": 2,
       "version_minor": 0,
       "model_id": "5b95e140c50e4c6093af2d22b3db81b0"
      }
     },
     "metadata": {},
     "output_type": "display_data"
    },
    {
     "data": {
      "text/plain": "  0%|          | 0/800 [00:00<?, ?it/s]",
      "application/vnd.jupyter.widget-view+json": {
       "version_major": 2,
       "version_minor": 0,
       "model_id": "310d8eae187143aca196058e66d7a7ff"
      }
     },
     "metadata": {},
     "output_type": "display_data"
    },
    {
     "data": {
      "text/plain": "  0%|          | 0/800 [00:00<?, ?it/s]",
      "application/vnd.jupyter.widget-view+json": {
       "version_major": 2,
       "version_minor": 0,
       "model_id": "87bc2a5b7c124707afba918c7090761b"
      }
     },
     "metadata": {},
     "output_type": "display_data"
    },
    {
     "data": {
      "text/plain": "  0%|          | 0/800 [00:00<?, ?it/s]",
      "application/vnd.jupyter.widget-view+json": {
       "version_major": 2,
       "version_minor": 0,
       "model_id": "6063e02024a545c4afa251666277c511"
      }
     },
     "metadata": {},
     "output_type": "display_data"
    },
    {
     "data": {
      "text/plain": "  0%|          | 0/800 [00:00<?, ?it/s]",
      "application/vnd.jupyter.widget-view+json": {
       "version_major": 2,
       "version_minor": 0,
       "model_id": "c530a493fa90411ba438344acd689807"
      }
     },
     "metadata": {},
     "output_type": "display_data"
    },
    {
     "data": {
      "text/plain": "  0%|          | 0/800 [00:00<?, ?it/s]",
      "application/vnd.jupyter.widget-view+json": {
       "version_major": 2,
       "version_minor": 0,
       "model_id": "155da08cde0d4525a9b5f04ff598ffea"
      }
     },
     "metadata": {},
     "output_type": "display_data"
    },
    {
     "data": {
      "text/plain": "  0%|          | 0/800 [00:00<?, ?it/s]",
      "application/vnd.jupyter.widget-view+json": {
       "version_major": 2,
       "version_minor": 0,
       "model_id": "9b11388be01943698160f7b71eb9673e"
      }
     },
     "metadata": {},
     "output_type": "display_data"
    },
    {
     "data": {
      "text/plain": "  0%|          | 0/800 [00:00<?, ?it/s]",
      "application/vnd.jupyter.widget-view+json": {
       "version_major": 2,
       "version_minor": 0,
       "model_id": "b14d4fe390924be2abf609c585d7ba06"
      }
     },
     "metadata": {},
     "output_type": "display_data"
    },
    {
     "data": {
      "text/plain": "  0%|          | 0/800 [00:00<?, ?it/s]",
      "application/vnd.jupyter.widget-view+json": {
       "version_major": 2,
       "version_minor": 0,
       "model_id": "c81ac9a2ae2d40e0a7782ef2ea9a5cb7"
      }
     },
     "metadata": {},
     "output_type": "display_data"
    },
    {
     "data": {
      "text/plain": "  0%|          | 0/800 [00:00<?, ?it/s]",
      "application/vnd.jupyter.widget-view+json": {
       "version_major": 2,
       "version_minor": 0,
       "model_id": "6d9855a243534c9ca59a5aaae3a30ac6"
      }
     },
     "metadata": {},
     "output_type": "display_data"
    },
    {
     "data": {
      "text/plain": "  0%|          | 0/800 [00:00<?, ?it/s]",
      "application/vnd.jupyter.widget-view+json": {
       "version_major": 2,
       "version_minor": 0,
       "model_id": "0947c4fde8514065970cdd0dca38ec0e"
      }
     },
     "metadata": {},
     "output_type": "display_data"
    },
    {
     "data": {
      "text/plain": "  0%|          | 0/800 [00:00<?, ?it/s]",
      "application/vnd.jupyter.widget-view+json": {
       "version_major": 2,
       "version_minor": 0,
       "model_id": "6eae0e4bc4f0452b82acd70f95308f18"
      }
     },
     "metadata": {},
     "output_type": "display_data"
    },
    {
     "data": {
      "text/plain": "  0%|          | 0/800 [00:00<?, ?it/s]",
      "application/vnd.jupyter.widget-view+json": {
       "version_major": 2,
       "version_minor": 0,
       "model_id": "0c954e793dda411bb92dac5773e201f7"
      }
     },
     "metadata": {},
     "output_type": "display_data"
    },
    {
     "data": {
      "text/plain": "  0%|          | 0/800 [00:00<?, ?it/s]",
      "application/vnd.jupyter.widget-view+json": {
       "version_major": 2,
       "version_minor": 0,
       "model_id": "4a1e0e1a18f54b93a500cc89d4c722ac"
      }
     },
     "metadata": {},
     "output_type": "display_data"
    },
    {
     "data": {
      "text/plain": "  0%|          | 0/800 [00:00<?, ?it/s]",
      "application/vnd.jupyter.widget-view+json": {
       "version_major": 2,
       "version_minor": 0,
       "model_id": "049e0527cb874fb38c347c3c4c7fbb0a"
      }
     },
     "metadata": {},
     "output_type": "display_data"
    },
    {
     "data": {
      "text/plain": "  0%|          | 0/800 [00:00<?, ?it/s]",
      "application/vnd.jupyter.widget-view+json": {
       "version_major": 2,
       "version_minor": 0,
       "model_id": "7be04299f2e54cf9a91c3b56b028972a"
      }
     },
     "metadata": {},
     "output_type": "display_data"
    },
    {
     "data": {
      "text/plain": "  0%|          | 0/800 [00:00<?, ?it/s]",
      "application/vnd.jupyter.widget-view+json": {
       "version_major": 2,
       "version_minor": 0,
       "model_id": "eb2360f92e324fe79db1651169444432"
      }
     },
     "metadata": {},
     "output_type": "display_data"
    },
    {
     "data": {
      "text/plain": "  0%|          | 0/800 [00:00<?, ?it/s]",
      "application/vnd.jupyter.widget-view+json": {
       "version_major": 2,
       "version_minor": 0,
       "model_id": "0d6a3df3fa40427d8cfde0f54d4667e3"
      }
     },
     "metadata": {},
     "output_type": "display_data"
    },
    {
     "data": {
      "text/plain": "  0%|          | 0/800 [00:00<?, ?it/s]",
      "application/vnd.jupyter.widget-view+json": {
       "version_major": 2,
       "version_minor": 0,
       "model_id": "35908b4b241d40609ae2a7871286e25b"
      }
     },
     "metadata": {},
     "output_type": "display_data"
    },
    {
     "data": {
      "text/plain": "  0%|          | 0/800 [00:00<?, ?it/s]",
      "application/vnd.jupyter.widget-view+json": {
       "version_major": 2,
       "version_minor": 0,
       "model_id": "1eb677ae45614ae8956544625af58483"
      }
     },
     "metadata": {},
     "output_type": "display_data"
    },
    {
     "data": {
      "text/plain": "  0%|          | 0/800 [00:00<?, ?it/s]",
      "application/vnd.jupyter.widget-view+json": {
       "version_major": 2,
       "version_minor": 0,
       "model_id": "ff076ea84a9c4d5f82521ba8afb86613"
      }
     },
     "metadata": {},
     "output_type": "display_data"
    },
    {
     "data": {
      "text/plain": "  0%|          | 0/800 [00:00<?, ?it/s]",
      "application/vnd.jupyter.widget-view+json": {
       "version_major": 2,
       "version_minor": 0,
       "model_id": "002b84354a314aa6b0ae989316635f38"
      }
     },
     "metadata": {},
     "output_type": "display_data"
    },
    {
     "data": {
      "text/plain": "  0%|          | 0/800 [00:00<?, ?it/s]",
      "application/vnd.jupyter.widget-view+json": {
       "version_major": 2,
       "version_minor": 0,
       "model_id": "ba41a16a2f2640d3bc35500060efe9d8"
      }
     },
     "metadata": {},
     "output_type": "display_data"
    },
    {
     "data": {
      "text/plain": "  0%|          | 0/800 [00:00<?, ?it/s]",
      "application/vnd.jupyter.widget-view+json": {
       "version_major": 2,
       "version_minor": 0,
       "model_id": "6917524e76234c01b7595057f568feed"
      }
     },
     "metadata": {},
     "output_type": "display_data"
    },
    {
     "data": {
      "text/plain": "  0%|          | 0/800 [00:00<?, ?it/s]",
      "application/vnd.jupyter.widget-view+json": {
       "version_major": 2,
       "version_minor": 0,
       "model_id": "9b72e15e318846acbbe4ebf7b4201a24"
      }
     },
     "metadata": {},
     "output_type": "display_data"
    },
    {
     "data": {
      "text/plain": "  0%|          | 0/800 [00:00<?, ?it/s]",
      "application/vnd.jupyter.widget-view+json": {
       "version_major": 2,
       "version_minor": 0,
       "model_id": "962e90dffb6f472e84e9b70eeff46654"
      }
     },
     "metadata": {},
     "output_type": "display_data"
    },
    {
     "data": {
      "text/plain": "  0%|          | 0/800 [00:00<?, ?it/s]",
      "application/vnd.jupyter.widget-view+json": {
       "version_major": 2,
       "version_minor": 0,
       "model_id": "c19f1fccd1f5470f85ffba7c22b34e96"
      }
     },
     "metadata": {},
     "output_type": "display_data"
    },
    {
     "data": {
      "text/plain": "  0%|          | 0/800 [00:00<?, ?it/s]",
      "application/vnd.jupyter.widget-view+json": {
       "version_major": 2,
       "version_minor": 0,
       "model_id": "abcf856c6818415789cc777282b08dff"
      }
     },
     "metadata": {},
     "output_type": "display_data"
    },
    {
     "data": {
      "text/plain": "  0%|          | 0/800 [00:00<?, ?it/s]",
      "application/vnd.jupyter.widget-view+json": {
       "version_major": 2,
       "version_minor": 0,
       "model_id": "5127356bde1b4929bc875a716f79960f"
      }
     },
     "metadata": {},
     "output_type": "display_data"
    },
    {
     "data": {
      "text/plain": "  0%|          | 0/800 [00:00<?, ?it/s]",
      "application/vnd.jupyter.widget-view+json": {
       "version_major": 2,
       "version_minor": 0,
       "model_id": "7707b596fd2e480981ba7a1edf6f1ad6"
      }
     },
     "metadata": {},
     "output_type": "display_data"
    },
    {
     "data": {
      "text/plain": "  0%|          | 0/800 [00:00<?, ?it/s]",
      "application/vnd.jupyter.widget-view+json": {
       "version_major": 2,
       "version_minor": 0,
       "model_id": "889f7bb7d99b4bb280e851d028b11e01"
      }
     },
     "metadata": {},
     "output_type": "display_data"
    },
    {
     "data": {
      "text/plain": "  0%|          | 0/800 [00:00<?, ?it/s]",
      "application/vnd.jupyter.widget-view+json": {
       "version_major": 2,
       "version_minor": 0,
       "model_id": "642eefdeeca6457cadc2a0b975bda12f"
      }
     },
     "metadata": {},
     "output_type": "display_data"
    },
    {
     "data": {
      "text/plain": "  0%|          | 0/800 [00:00<?, ?it/s]",
      "application/vnd.jupyter.widget-view+json": {
       "version_major": 2,
       "version_minor": 0,
       "model_id": "2b49f7e40e0e415dbc24b5aa8a93e08a"
      }
     },
     "metadata": {},
     "output_type": "display_data"
    },
    {
     "data": {
      "text/plain": "  0%|          | 0/800 [00:00<?, ?it/s]",
      "application/vnd.jupyter.widget-view+json": {
       "version_major": 2,
       "version_minor": 0,
       "model_id": "3854e2ef1da7425fb4a6124b6dcf2a5c"
      }
     },
     "metadata": {},
     "output_type": "display_data"
    },
    {
     "data": {
      "text/plain": "  0%|          | 0/800 [00:00<?, ?it/s]",
      "application/vnd.jupyter.widget-view+json": {
       "version_major": 2,
       "version_minor": 0,
       "model_id": "670c24cd51ac451caecdfb4f61dd4594"
      }
     },
     "metadata": {},
     "output_type": "display_data"
    },
    {
     "data": {
      "text/plain": "  0%|          | 0/800 [00:00<?, ?it/s]",
      "application/vnd.jupyter.widget-view+json": {
       "version_major": 2,
       "version_minor": 0,
       "model_id": "8719df676a5c45d0bd0aa842187d48ae"
      }
     },
     "metadata": {},
     "output_type": "display_data"
    },
    {
     "data": {
      "text/plain": "  0%|          | 0/800 [00:00<?, ?it/s]",
      "application/vnd.jupyter.widget-view+json": {
       "version_major": 2,
       "version_minor": 0,
       "model_id": "0692c77022b5498ca0184f34f64f1164"
      }
     },
     "metadata": {},
     "output_type": "display_data"
    },
    {
     "data": {
      "text/plain": "  0%|          | 0/800 [00:00<?, ?it/s]",
      "application/vnd.jupyter.widget-view+json": {
       "version_major": 2,
       "version_minor": 0,
       "model_id": "247a7e76b3154ad8973a83f5fe80a439"
      }
     },
     "metadata": {},
     "output_type": "display_data"
    },
    {
     "data": {
      "text/plain": "  0%|          | 0/800 [00:00<?, ?it/s]",
      "application/vnd.jupyter.widget-view+json": {
       "version_major": 2,
       "version_minor": 0,
       "model_id": "3d81a167570344febaea95094dae5a98"
      }
     },
     "metadata": {},
     "output_type": "display_data"
    },
    {
     "data": {
      "text/plain": "  0%|          | 0/800 [00:00<?, ?it/s]",
      "application/vnd.jupyter.widget-view+json": {
       "version_major": 2,
       "version_minor": 0,
       "model_id": "419129e6212f47f5a46797d6999e29fc"
      }
     },
     "metadata": {},
     "output_type": "display_data"
    },
    {
     "data": {
      "text/plain": "  0%|          | 0/800 [00:00<?, ?it/s]",
      "application/vnd.jupyter.widget-view+json": {
       "version_major": 2,
       "version_minor": 0,
       "model_id": "483969a89d244c239c033711181d4c86"
      }
     },
     "metadata": {},
     "output_type": "display_data"
    },
    {
     "data": {
      "text/plain": "  0%|          | 0/800 [00:00<?, ?it/s]",
      "application/vnd.jupyter.widget-view+json": {
       "version_major": 2,
       "version_minor": 0,
       "model_id": "e802e94e1e9c49f593cbf53362112b26"
      }
     },
     "metadata": {},
     "output_type": "display_data"
    },
    {
     "data": {
      "text/plain": "  0%|          | 0/800 [00:00<?, ?it/s]",
      "application/vnd.jupyter.widget-view+json": {
       "version_major": 2,
       "version_minor": 0,
       "model_id": "afb77987826d41b7ace0eb2af851cf79"
      }
     },
     "metadata": {},
     "output_type": "display_data"
    },
    {
     "data": {
      "text/plain": "  0%|          | 0/800 [00:00<?, ?it/s]",
      "application/vnd.jupyter.widget-view+json": {
       "version_major": 2,
       "version_minor": 0,
       "model_id": "7849c597a6904791815fb99e6c54b5ac"
      }
     },
     "metadata": {},
     "output_type": "display_data"
    },
    {
     "data": {
      "text/plain": "  0%|          | 0/800 [00:00<?, ?it/s]",
      "application/vnd.jupyter.widget-view+json": {
       "version_major": 2,
       "version_minor": 0,
       "model_id": "d0fe936f4f764d9b9301d954ffbd0377"
      }
     },
     "metadata": {},
     "output_type": "display_data"
    },
    {
     "data": {
      "text/plain": "  0%|          | 0/800 [00:00<?, ?it/s]",
      "application/vnd.jupyter.widget-view+json": {
       "version_major": 2,
       "version_minor": 0,
       "model_id": "e4028149446f457e84190701b98fccb4"
      }
     },
     "metadata": {},
     "output_type": "display_data"
    },
    {
     "data": {
      "text/plain": "  0%|          | 0/800 [00:00<?, ?it/s]",
      "application/vnd.jupyter.widget-view+json": {
       "version_major": 2,
       "version_minor": 0,
       "model_id": "4b96f8fb47ef4143a32ba35408ee1945"
      }
     },
     "metadata": {},
     "output_type": "display_data"
    },
    {
     "data": {
      "text/plain": "  0%|          | 0/800 [00:00<?, ?it/s]",
      "application/vnd.jupyter.widget-view+json": {
       "version_major": 2,
       "version_minor": 0,
       "model_id": "04979c3ccf314385b64ae901e45cfbe7"
      }
     },
     "metadata": {},
     "output_type": "display_data"
    },
    {
     "data": {
      "text/plain": "  0%|          | 0/800 [00:00<?, ?it/s]",
      "application/vnd.jupyter.widget-view+json": {
       "version_major": 2,
       "version_minor": 0,
       "model_id": "e8e6e94079944061b51d1a78c9131a8c"
      }
     },
     "metadata": {},
     "output_type": "display_data"
    },
    {
     "data": {
      "text/plain": "  0%|          | 0/800 [00:00<?, ?it/s]",
      "application/vnd.jupyter.widget-view+json": {
       "version_major": 2,
       "version_minor": 0,
       "model_id": "c7ffa242c24f4d4aa37db0f7b1c215cf"
      }
     },
     "metadata": {},
     "output_type": "display_data"
    },
    {
     "data": {
      "text/plain": "  0%|          | 0/800 [00:00<?, ?it/s]",
      "application/vnd.jupyter.widget-view+json": {
       "version_major": 2,
       "version_minor": 0,
       "model_id": "a750e7545aa240778b7e693c72400784"
      }
     },
     "metadata": {},
     "output_type": "display_data"
    },
    {
     "data": {
      "text/plain": "  0%|          | 0/800 [00:00<?, ?it/s]",
      "application/vnd.jupyter.widget-view+json": {
       "version_major": 2,
       "version_minor": 0,
       "model_id": "92da9de59e3d4e91b959f303d58214b0"
      }
     },
     "metadata": {},
     "output_type": "display_data"
    },
    {
     "data": {
      "text/plain": "  0%|          | 0/800 [00:00<?, ?it/s]",
      "application/vnd.jupyter.widget-view+json": {
       "version_major": 2,
       "version_minor": 0,
       "model_id": "efc5edfe688944978f3a0f1e877a8a20"
      }
     },
     "metadata": {},
     "output_type": "display_data"
    },
    {
     "data": {
      "text/plain": "  0%|          | 0/800 [00:00<?, ?it/s]",
      "application/vnd.jupyter.widget-view+json": {
       "version_major": 2,
       "version_minor": 0,
       "model_id": "5ac19235d3d74d3ca8dd6029c22e2356"
      }
     },
     "metadata": {},
     "output_type": "display_data"
    },
    {
     "data": {
      "text/plain": "  0%|          | 0/800 [00:00<?, ?it/s]",
      "application/vnd.jupyter.widget-view+json": {
       "version_major": 2,
       "version_minor": 0,
       "model_id": "0fce74d6e7b74864a781a838f7b88b50"
      }
     },
     "metadata": {},
     "output_type": "display_data"
    },
    {
     "data": {
      "text/plain": "  0%|          | 0/800 [00:00<?, ?it/s]",
      "application/vnd.jupyter.widget-view+json": {
       "version_major": 2,
       "version_minor": 0,
       "model_id": "5846914d99a14667ab77579cb2f08f6f"
      }
     },
     "metadata": {},
     "output_type": "display_data"
    },
    {
     "data": {
      "text/plain": "  0%|          | 0/800 [00:00<?, ?it/s]",
      "application/vnd.jupyter.widget-view+json": {
       "version_major": 2,
       "version_minor": 0,
       "model_id": "12b96f956a604345befe93657a1a583a"
      }
     },
     "metadata": {},
     "output_type": "display_data"
    },
    {
     "data": {
      "text/plain": "  0%|          | 0/800 [00:00<?, ?it/s]",
      "application/vnd.jupyter.widget-view+json": {
       "version_major": 2,
       "version_minor": 0,
       "model_id": "5b05ba6c71d7471c9b99c87ffd6de442"
      }
     },
     "metadata": {},
     "output_type": "display_data"
    },
    {
     "data": {
      "text/plain": "  0%|          | 0/800 [00:00<?, ?it/s]",
      "application/vnd.jupyter.widget-view+json": {
       "version_major": 2,
       "version_minor": 0,
       "model_id": "063fe65c3bd14d388bead02ac3251385"
      }
     },
     "metadata": {},
     "output_type": "display_data"
    },
    {
     "data": {
      "text/plain": "  0%|          | 0/800 [00:00<?, ?it/s]",
      "application/vnd.jupyter.widget-view+json": {
       "version_major": 2,
       "version_minor": 0,
       "model_id": "e6af0a14a81a48499bf5feddd5d0ecde"
      }
     },
     "metadata": {},
     "output_type": "display_data"
    },
    {
     "data": {
      "text/plain": "  0%|          | 0/800 [00:00<?, ?it/s]",
      "application/vnd.jupyter.widget-view+json": {
       "version_major": 2,
       "version_minor": 0,
       "model_id": "3e0b6d55ef0f4818befccbf26833348a"
      }
     },
     "metadata": {},
     "output_type": "display_data"
    },
    {
     "data": {
      "text/plain": "  0%|          | 0/800 [00:00<?, ?it/s]",
      "application/vnd.jupyter.widget-view+json": {
       "version_major": 2,
       "version_minor": 0,
       "model_id": "558a27e321454fdf9089c03f1bf77a51"
      }
     },
     "metadata": {},
     "output_type": "display_data"
    },
    {
     "data": {
      "text/plain": "  0%|          | 0/800 [00:00<?, ?it/s]",
      "application/vnd.jupyter.widget-view+json": {
       "version_major": 2,
       "version_minor": 0,
       "model_id": "e8af939b533e4319a3545dbd95e3ed2e"
      }
     },
     "metadata": {},
     "output_type": "display_data"
    },
    {
     "data": {
      "text/plain": "  0%|          | 0/800 [00:00<?, ?it/s]",
      "application/vnd.jupyter.widget-view+json": {
       "version_major": 2,
       "version_minor": 0,
       "model_id": "6c4fcfb8555d41b380c0a30309932eaa"
      }
     },
     "metadata": {},
     "output_type": "display_data"
    },
    {
     "data": {
      "text/plain": "  0%|          | 0/800 [00:00<?, ?it/s]",
      "application/vnd.jupyter.widget-view+json": {
       "version_major": 2,
       "version_minor": 0,
       "model_id": "9b20ccd38b13479e9f288dcae8402529"
      }
     },
     "metadata": {},
     "output_type": "display_data"
    },
    {
     "data": {
      "text/plain": "  0%|          | 0/800 [00:00<?, ?it/s]",
      "application/vnd.jupyter.widget-view+json": {
       "version_major": 2,
       "version_minor": 0,
       "model_id": "31c2b6346fcc4ee39897311c9eea221a"
      }
     },
     "metadata": {},
     "output_type": "display_data"
    },
    {
     "data": {
      "text/plain": "  0%|          | 0/800 [00:00<?, ?it/s]",
      "application/vnd.jupyter.widget-view+json": {
       "version_major": 2,
       "version_minor": 0,
       "model_id": "f29309050cf24b239e36c139d12e0fa8"
      }
     },
     "metadata": {},
     "output_type": "display_data"
    },
    {
     "data": {
      "text/plain": "  0%|          | 0/800 [00:00<?, ?it/s]",
      "application/vnd.jupyter.widget-view+json": {
       "version_major": 2,
       "version_minor": 0,
       "model_id": "0f23c8bc2fa54947ac22d6f2740db482"
      }
     },
     "metadata": {},
     "output_type": "display_data"
    },
    {
     "data": {
      "text/plain": "  0%|          | 0/800 [00:00<?, ?it/s]",
      "application/vnd.jupyter.widget-view+json": {
       "version_major": 2,
       "version_minor": 0,
       "model_id": "b935a93380f045f8b754694ba53651b9"
      }
     },
     "metadata": {},
     "output_type": "display_data"
    },
    {
     "data": {
      "text/plain": "  0%|          | 0/800 [00:00<?, ?it/s]",
      "application/vnd.jupyter.widget-view+json": {
       "version_major": 2,
       "version_minor": 0,
       "model_id": "e85144c885ae49eaa30a0ccb335d4e49"
      }
     },
     "metadata": {},
     "output_type": "display_data"
    },
    {
     "data": {
      "text/plain": "  0%|          | 0/800 [00:00<?, ?it/s]",
      "application/vnd.jupyter.widget-view+json": {
       "version_major": 2,
       "version_minor": 0,
       "model_id": "8fda582a10cd4abe90dd0d431b0a4031"
      }
     },
     "metadata": {},
     "output_type": "display_data"
    },
    {
     "data": {
      "text/plain": "  0%|          | 0/800 [00:00<?, ?it/s]",
      "application/vnd.jupyter.widget-view+json": {
       "version_major": 2,
       "version_minor": 0,
       "model_id": "b8f78d535bf34f4d8a031604d2b36815"
      }
     },
     "metadata": {},
     "output_type": "display_data"
    },
    {
     "data": {
      "text/plain": "  0%|          | 0/800 [00:00<?, ?it/s]",
      "application/vnd.jupyter.widget-view+json": {
       "version_major": 2,
       "version_minor": 0,
       "model_id": "bd3f7ea262094dcdb10f9301bdcca23f"
      }
     },
     "metadata": {},
     "output_type": "display_data"
    },
    {
     "data": {
      "text/plain": "  0%|          | 0/800 [00:00<?, ?it/s]",
      "application/vnd.jupyter.widget-view+json": {
       "version_major": 2,
       "version_minor": 0,
       "model_id": "b7749ad534cb4b918ac9f6fb68e87b3b"
      }
     },
     "metadata": {},
     "output_type": "display_data"
    },
    {
     "data": {
      "text/plain": "  0%|          | 0/800 [00:00<?, ?it/s]",
      "application/vnd.jupyter.widget-view+json": {
       "version_major": 2,
       "version_minor": 0,
       "model_id": "428a7995ac164648b71313f09980e6bd"
      }
     },
     "metadata": {},
     "output_type": "display_data"
    },
    {
     "data": {
      "text/plain": "  0%|          | 0/800 [00:00<?, ?it/s]",
      "application/vnd.jupyter.widget-view+json": {
       "version_major": 2,
       "version_minor": 0,
       "model_id": "144541d6bc914532991fee6caa450bc3"
      }
     },
     "metadata": {},
     "output_type": "display_data"
    },
    {
     "data": {
      "text/plain": "  0%|          | 0/800 [00:00<?, ?it/s]",
      "application/vnd.jupyter.widget-view+json": {
       "version_major": 2,
       "version_minor": 0,
       "model_id": "e035cbe389f741239c516331e6f1afce"
      }
     },
     "metadata": {},
     "output_type": "display_data"
    },
    {
     "data": {
      "text/plain": "  0%|          | 0/800 [00:00<?, ?it/s]",
      "application/vnd.jupyter.widget-view+json": {
       "version_major": 2,
       "version_minor": 0,
       "model_id": "0203ce285d834ee7acf9a59e5ec11e53"
      }
     },
     "metadata": {},
     "output_type": "display_data"
    },
    {
     "data": {
      "text/plain": "  0%|          | 0/800 [00:00<?, ?it/s]",
      "application/vnd.jupyter.widget-view+json": {
       "version_major": 2,
       "version_minor": 0,
       "model_id": "005f8c9c7029419f8e29e8983c5d0c48"
      }
     },
     "metadata": {},
     "output_type": "display_data"
    },
    {
     "data": {
      "text/plain": "  0%|          | 0/800 [00:00<?, ?it/s]",
      "application/vnd.jupyter.widget-view+json": {
       "version_major": 2,
       "version_minor": 0,
       "model_id": "610e5f9173d7477b97c571ce18d54d12"
      }
     },
     "metadata": {},
     "output_type": "display_data"
    },
    {
     "data": {
      "text/plain": "  0%|          | 0/800 [00:00<?, ?it/s]",
      "application/vnd.jupyter.widget-view+json": {
       "version_major": 2,
       "version_minor": 0,
       "model_id": "a10c3183b95f4352aa2fa48245814a5a"
      }
     },
     "metadata": {},
     "output_type": "display_data"
    },
    {
     "data": {
      "text/plain": "  0%|          | 0/800 [00:00<?, ?it/s]",
      "application/vnd.jupyter.widget-view+json": {
       "version_major": 2,
       "version_minor": 0,
       "model_id": "54e272eac0e44506bd68ae806188fe7d"
      }
     },
     "metadata": {},
     "output_type": "display_data"
    },
    {
     "data": {
      "text/plain": "  0%|          | 0/800 [00:00<?, ?it/s]",
      "application/vnd.jupyter.widget-view+json": {
       "version_major": 2,
       "version_minor": 0,
       "model_id": "cf9adfca0c9445e28843a70036d4f079"
      }
     },
     "metadata": {},
     "output_type": "display_data"
    },
    {
     "data": {
      "text/plain": "  0%|          | 0/800 [00:00<?, ?it/s]",
      "application/vnd.jupyter.widget-view+json": {
       "version_major": 2,
       "version_minor": 0,
       "model_id": "e9159b3eb218444ea4dddd4b26cf7240"
      }
     },
     "metadata": {},
     "output_type": "display_data"
    },
    {
     "data": {
      "text/plain": "  0%|          | 0/800 [00:00<?, ?it/s]",
      "application/vnd.jupyter.widget-view+json": {
       "version_major": 2,
       "version_minor": 0,
       "model_id": "96d766fa7e364b4286a621530805e66d"
      }
     },
     "metadata": {},
     "output_type": "display_data"
    },
    {
     "data": {
      "text/plain": "  0%|          | 0/800 [00:00<?, ?it/s]",
      "application/vnd.jupyter.widget-view+json": {
       "version_major": 2,
       "version_minor": 0,
       "model_id": "dec153d0273d4f4aa1192299dc8f015e"
      }
     },
     "metadata": {},
     "output_type": "display_data"
    },
    {
     "data": {
      "text/plain": "  0%|          | 0/800 [00:00<?, ?it/s]",
      "application/vnd.jupyter.widget-view+json": {
       "version_major": 2,
       "version_minor": 0,
       "model_id": "02d0add46fce43f29fe8d7a6fd696690"
      }
     },
     "metadata": {},
     "output_type": "display_data"
    },
    {
     "data": {
      "text/plain": "  0%|          | 0/800 [00:00<?, ?it/s]",
      "application/vnd.jupyter.widget-view+json": {
       "version_major": 2,
       "version_minor": 0,
       "model_id": "f7b3038241bb450da1e83a990bd85ec5"
      }
     },
     "metadata": {},
     "output_type": "display_data"
    },
    {
     "data": {
      "text/plain": "  0%|          | 0/800 [00:00<?, ?it/s]",
      "application/vnd.jupyter.widget-view+json": {
       "version_major": 2,
       "version_minor": 0,
       "model_id": "4b2896a36b32407188d390c776d15288"
      }
     },
     "metadata": {},
     "output_type": "display_data"
    },
    {
     "data": {
      "text/plain": "  0%|          | 0/800 [00:00<?, ?it/s]",
      "application/vnd.jupyter.widget-view+json": {
       "version_major": 2,
       "version_minor": 0,
       "model_id": "b0d07fdd8f304c4eaa42a883a5cc3603"
      }
     },
     "metadata": {},
     "output_type": "display_data"
    },
    {
     "data": {
      "text/plain": "  0%|          | 0/800 [00:00<?, ?it/s]",
      "application/vnd.jupyter.widget-view+json": {
       "version_major": 2,
       "version_minor": 0,
       "model_id": "ab5461708b904837aee96186148eb32a"
      }
     },
     "metadata": {},
     "output_type": "display_data"
    },
    {
     "data": {
      "text/plain": "  0%|          | 0/800 [00:00<?, ?it/s]",
      "application/vnd.jupyter.widget-view+json": {
       "version_major": 2,
       "version_minor": 0,
       "model_id": "69c2d8986a0f4e6eab856a98974054cd"
      }
     },
     "metadata": {},
     "output_type": "display_data"
    },
    {
     "data": {
      "text/plain": "  0%|          | 0/800 [00:00<?, ?it/s]",
      "application/vnd.jupyter.widget-view+json": {
       "version_major": 2,
       "version_minor": 0,
       "model_id": "fc17891cd6c24157bb2436a9b971b014"
      }
     },
     "metadata": {},
     "output_type": "display_data"
    },
    {
     "data": {
      "text/plain": "  0%|          | 0/800 [00:00<?, ?it/s]",
      "application/vnd.jupyter.widget-view+json": {
       "version_major": 2,
       "version_minor": 0,
       "model_id": "9328fc2c17da4619981f5e706e051fee"
      }
     },
     "metadata": {},
     "output_type": "display_data"
    },
    {
     "data": {
      "text/plain": "  0%|          | 0/800 [00:00<?, ?it/s]",
      "application/vnd.jupyter.widget-view+json": {
       "version_major": 2,
       "version_minor": 0,
       "model_id": "19c5b5311d4e45c0bd3cd9f3ac295243"
      }
     },
     "metadata": {},
     "output_type": "display_data"
    },
    {
     "data": {
      "text/plain": "  0%|          | 0/800 [00:00<?, ?it/s]",
      "application/vnd.jupyter.widget-view+json": {
       "version_major": 2,
       "version_minor": 0,
       "model_id": "2430a8cc4c85439fabfc090f3233adf3"
      }
     },
     "metadata": {},
     "output_type": "display_data"
    },
    {
     "data": {
      "text/plain": "  0%|          | 0/800 [00:00<?, ?it/s]",
      "application/vnd.jupyter.widget-view+json": {
       "version_major": 2,
       "version_minor": 0,
       "model_id": "d4424564bdd44b45be5d68fdcbe41500"
      }
     },
     "metadata": {},
     "output_type": "display_data"
    },
    {
     "data": {
      "text/plain": "  0%|          | 0/800 [00:00<?, ?it/s]",
      "application/vnd.jupyter.widget-view+json": {
       "version_major": 2,
       "version_minor": 0,
       "model_id": "87a29d85bd6e4c5090bc73ab9f8d8771"
      }
     },
     "metadata": {},
     "output_type": "display_data"
    },
    {
     "data": {
      "text/plain": "  0%|          | 0/800 [00:00<?, ?it/s]",
      "application/vnd.jupyter.widget-view+json": {
       "version_major": 2,
       "version_minor": 0,
       "model_id": "b10a523563b24891958a5ad75448f247"
      }
     },
     "metadata": {},
     "output_type": "display_data"
    },
    {
     "data": {
      "text/plain": "  0%|          | 0/800 [00:00<?, ?it/s]",
      "application/vnd.jupyter.widget-view+json": {
       "version_major": 2,
       "version_minor": 0,
       "model_id": "e4941854a9424147b33409969391ba76"
      }
     },
     "metadata": {},
     "output_type": "display_data"
    },
    {
     "data": {
      "text/plain": "  0%|          | 0/800 [00:00<?, ?it/s]",
      "application/vnd.jupyter.widget-view+json": {
       "version_major": 2,
       "version_minor": 0,
       "model_id": "e59ebbffdd534f4589610a7e071cc356"
      }
     },
     "metadata": {},
     "output_type": "display_data"
    },
    {
     "data": {
      "text/plain": "  0%|          | 0/800 [00:00<?, ?it/s]",
      "application/vnd.jupyter.widget-view+json": {
       "version_major": 2,
       "version_minor": 0,
       "model_id": "c42a8e79ad85449bb18ef8b2000716a5"
      }
     },
     "metadata": {},
     "output_type": "display_data"
    },
    {
     "data": {
      "text/plain": "  0%|          | 0/800 [00:00<?, ?it/s]",
      "application/vnd.jupyter.widget-view+json": {
       "version_major": 2,
       "version_minor": 0,
       "model_id": "dc6b27228fbf4123a56b52c3c29e3af6"
      }
     },
     "metadata": {},
     "output_type": "display_data"
    },
    {
     "data": {
      "text/plain": "  0%|          | 0/800 [00:00<?, ?it/s]",
      "application/vnd.jupyter.widget-view+json": {
       "version_major": 2,
       "version_minor": 0,
       "model_id": "e05c1dcb1c514bbf9297c1228a94f77e"
      }
     },
     "metadata": {},
     "output_type": "display_data"
    },
    {
     "data": {
      "text/plain": "  0%|          | 0/800 [00:00<?, ?it/s]",
      "application/vnd.jupyter.widget-view+json": {
       "version_major": 2,
       "version_minor": 0,
       "model_id": "6d47bd30efbd4eb5aa362b5926dfeb61"
      }
     },
     "metadata": {},
     "output_type": "display_data"
    },
    {
     "data": {
      "text/plain": "  0%|          | 0/800 [00:00<?, ?it/s]",
      "application/vnd.jupyter.widget-view+json": {
       "version_major": 2,
       "version_minor": 0,
       "model_id": "2d0f7e1e1cbc430c979120cadf499bd0"
      }
     },
     "metadata": {},
     "output_type": "display_data"
    },
    {
     "data": {
      "text/plain": "  0%|          | 0/800 [00:00<?, ?it/s]",
      "application/vnd.jupyter.widget-view+json": {
       "version_major": 2,
       "version_minor": 0,
       "model_id": "6bd9a9e958b74edfb8325ed76c15415d"
      }
     },
     "metadata": {},
     "output_type": "display_data"
    },
    {
     "data": {
      "text/plain": "  0%|          | 0/800 [00:00<?, ?it/s]",
      "application/vnd.jupyter.widget-view+json": {
       "version_major": 2,
       "version_minor": 0,
       "model_id": "de215ffc5709441481d80f8ac594353d"
      }
     },
     "metadata": {},
     "output_type": "display_data"
    },
    {
     "data": {
      "text/plain": "  0%|          | 0/800 [00:00<?, ?it/s]",
      "application/vnd.jupyter.widget-view+json": {
       "version_major": 2,
       "version_minor": 0,
       "model_id": "a2a41eaa2e7e44abadc78d8ad45a5804"
      }
     },
     "metadata": {},
     "output_type": "display_data"
    },
    {
     "data": {
      "text/plain": "  0%|          | 0/800 [00:00<?, ?it/s]",
      "application/vnd.jupyter.widget-view+json": {
       "version_major": 2,
       "version_minor": 0,
       "model_id": "0774ffe604234ef7ba4bf60419f3f838"
      }
     },
     "metadata": {},
     "output_type": "display_data"
    },
    {
     "data": {
      "text/plain": "  0%|          | 0/800 [00:00<?, ?it/s]",
      "application/vnd.jupyter.widget-view+json": {
       "version_major": 2,
       "version_minor": 0,
       "model_id": "f9e136cad47849e182861ce84b961cac"
      }
     },
     "metadata": {},
     "output_type": "display_data"
    },
    {
     "data": {
      "text/plain": "  0%|          | 0/800 [00:00<?, ?it/s]",
      "application/vnd.jupyter.widget-view+json": {
       "version_major": 2,
       "version_minor": 0,
       "model_id": "3637d482a2b548228d731e3bf9631c6c"
      }
     },
     "metadata": {},
     "output_type": "display_data"
    },
    {
     "data": {
      "text/plain": "  0%|          | 0/800 [00:00<?, ?it/s]",
      "application/vnd.jupyter.widget-view+json": {
       "version_major": 2,
       "version_minor": 0,
       "model_id": "e37a96f5a73446dabbc22e74f4bb7d33"
      }
     },
     "metadata": {},
     "output_type": "display_data"
    },
    {
     "data": {
      "text/plain": "  0%|          | 0/800 [00:00<?, ?it/s]",
      "application/vnd.jupyter.widget-view+json": {
       "version_major": 2,
       "version_minor": 0,
       "model_id": "7217a406016c43e0be4ba2f969cbe6ba"
      }
     },
     "metadata": {},
     "output_type": "display_data"
    },
    {
     "data": {
      "text/plain": "  0%|          | 0/800 [00:00<?, ?it/s]",
      "application/vnd.jupyter.widget-view+json": {
       "version_major": 2,
       "version_minor": 0,
       "model_id": "08331664180941f8a10a9192f4b69010"
      }
     },
     "metadata": {},
     "output_type": "display_data"
    },
    {
     "data": {
      "text/plain": "  0%|          | 0/800 [00:00<?, ?it/s]",
      "application/vnd.jupyter.widget-view+json": {
       "version_major": 2,
       "version_minor": 0,
       "model_id": "e085c340a4fd4e3084218bc961cbf116"
      }
     },
     "metadata": {},
     "output_type": "display_data"
    },
    {
     "data": {
      "text/plain": "  0%|          | 0/800 [00:00<?, ?it/s]",
      "application/vnd.jupyter.widget-view+json": {
       "version_major": 2,
       "version_minor": 0,
       "model_id": "7beada605347450592325e2720904fb6"
      }
     },
     "metadata": {},
     "output_type": "display_data"
    },
    {
     "data": {
      "text/plain": "  0%|          | 0/800 [00:00<?, ?it/s]",
      "application/vnd.jupyter.widget-view+json": {
       "version_major": 2,
       "version_minor": 0,
       "model_id": "5bdeff6109b24d339f19c4da6c025774"
      }
     },
     "metadata": {},
     "output_type": "display_data"
    },
    {
     "data": {
      "text/plain": "  0%|          | 0/800 [00:00<?, ?it/s]",
      "application/vnd.jupyter.widget-view+json": {
       "version_major": 2,
       "version_minor": 0,
       "model_id": "8880445e50fa4c18ab847063c4dcd006"
      }
     },
     "metadata": {},
     "output_type": "display_data"
    },
    {
     "data": {
      "text/plain": "  0%|          | 0/800 [00:00<?, ?it/s]",
      "application/vnd.jupyter.widget-view+json": {
       "version_major": 2,
       "version_minor": 0,
       "model_id": "6e2bc345270c47af81089effca9bb2e6"
      }
     },
     "metadata": {},
     "output_type": "display_data"
    },
    {
     "data": {
      "text/plain": "  0%|          | 0/800 [00:00<?, ?it/s]",
      "application/vnd.jupyter.widget-view+json": {
       "version_major": 2,
       "version_minor": 0,
       "model_id": "17280aa8b60f46159d1cb5b57d7b2563"
      }
     },
     "metadata": {},
     "output_type": "display_data"
    },
    {
     "data": {
      "text/plain": "  0%|          | 0/800 [00:00<?, ?it/s]",
      "application/vnd.jupyter.widget-view+json": {
       "version_major": 2,
       "version_minor": 0,
       "model_id": "701d3feec758485fb20ad5aa35766b6b"
      }
     },
     "metadata": {},
     "output_type": "display_data"
    },
    {
     "data": {
      "text/plain": "  0%|          | 0/800 [00:00<?, ?it/s]",
      "application/vnd.jupyter.widget-view+json": {
       "version_major": 2,
       "version_minor": 0,
       "model_id": "d87b84ffcdee443e92a6b2463d036a6a"
      }
     },
     "metadata": {},
     "output_type": "display_data"
    },
    {
     "data": {
      "text/plain": "  0%|          | 0/800 [00:00<?, ?it/s]",
      "application/vnd.jupyter.widget-view+json": {
       "version_major": 2,
       "version_minor": 0,
       "model_id": "ccde6e76b3f341edaff1ba22d2b8741d"
      }
     },
     "metadata": {},
     "output_type": "display_data"
    },
    {
     "data": {
      "text/plain": "  0%|          | 0/800 [00:00<?, ?it/s]",
      "application/vnd.jupyter.widget-view+json": {
       "version_major": 2,
       "version_minor": 0,
       "model_id": "8a6a857ed5e34a3a923796ef1ef2544b"
      }
     },
     "metadata": {},
     "output_type": "display_data"
    },
    {
     "data": {
      "text/plain": "  0%|          | 0/800 [00:00<?, ?it/s]",
      "application/vnd.jupyter.widget-view+json": {
       "version_major": 2,
       "version_minor": 0,
       "model_id": "1ecf67909c7e4b5ba628367a3fb9a3b9"
      }
     },
     "metadata": {},
     "output_type": "display_data"
    },
    {
     "data": {
      "text/plain": "  0%|          | 0/800 [00:00<?, ?it/s]",
      "application/vnd.jupyter.widget-view+json": {
       "version_major": 2,
       "version_minor": 0,
       "model_id": "29dbf7b6215249b98b9cd4b02d766a50"
      }
     },
     "metadata": {},
     "output_type": "display_data"
    },
    {
     "data": {
      "text/plain": "  0%|          | 0/800 [00:00<?, ?it/s]",
      "application/vnd.jupyter.widget-view+json": {
       "version_major": 2,
       "version_minor": 0,
       "model_id": "ec42e8f46d854e83af233ebafcada2f7"
      }
     },
     "metadata": {},
     "output_type": "display_data"
    },
    {
     "data": {
      "text/plain": "  0%|          | 0/800 [00:00<?, ?it/s]",
      "application/vnd.jupyter.widget-view+json": {
       "version_major": 2,
       "version_minor": 0,
       "model_id": "41092ede2eed4aa8861c9eb6b625d857"
      }
     },
     "metadata": {},
     "output_type": "display_data"
    },
    {
     "data": {
      "text/plain": "  0%|          | 0/800 [00:00<?, ?it/s]",
      "application/vnd.jupyter.widget-view+json": {
       "version_major": 2,
       "version_minor": 0,
       "model_id": "ee53a00b4ed44b7e8411ca14f8d37da1"
      }
     },
     "metadata": {},
     "output_type": "display_data"
    },
    {
     "data": {
      "text/plain": "  0%|          | 0/800 [00:00<?, ?it/s]",
      "application/vnd.jupyter.widget-view+json": {
       "version_major": 2,
       "version_minor": 0,
       "model_id": "399bd9c347364eb2aa947e1f6dde3c79"
      }
     },
     "metadata": {},
     "output_type": "display_data"
    },
    {
     "data": {
      "text/plain": "  0%|          | 0/800 [00:00<?, ?it/s]",
      "application/vnd.jupyter.widget-view+json": {
       "version_major": 2,
       "version_minor": 0,
       "model_id": "e4aa1c8117f44635b25177e2a9202b9d"
      }
     },
     "metadata": {},
     "output_type": "display_data"
    },
    {
     "data": {
      "text/plain": "  0%|          | 0/800 [00:00<?, ?it/s]",
      "application/vnd.jupyter.widget-view+json": {
       "version_major": 2,
       "version_minor": 0,
       "model_id": "15d48d2b87814fdd89900f9eadcb0bb4"
      }
     },
     "metadata": {},
     "output_type": "display_data"
    },
    {
     "data": {
      "text/plain": "  0%|          | 0/800 [00:00<?, ?it/s]",
      "application/vnd.jupyter.widget-view+json": {
       "version_major": 2,
       "version_minor": 0,
       "model_id": "1b15b3db6b464e61aae7179d4a01a32c"
      }
     },
     "metadata": {},
     "output_type": "display_data"
    },
    {
     "data": {
      "text/plain": "  0%|          | 0/800 [00:00<?, ?it/s]",
      "application/vnd.jupyter.widget-view+json": {
       "version_major": 2,
       "version_minor": 0,
       "model_id": "0ab71f615861477a8213e810b307b2b0"
      }
     },
     "metadata": {},
     "output_type": "display_data"
    },
    {
     "data": {
      "text/plain": "  0%|          | 0/800 [00:00<?, ?it/s]",
      "application/vnd.jupyter.widget-view+json": {
       "version_major": 2,
       "version_minor": 0,
       "model_id": "aefd2f3e76af4d048f0bf7687d1af708"
      }
     },
     "metadata": {},
     "output_type": "display_data"
    },
    {
     "data": {
      "text/plain": "  0%|          | 0/800 [00:00<?, ?it/s]",
      "application/vnd.jupyter.widget-view+json": {
       "version_major": 2,
       "version_minor": 0,
       "model_id": "7e4f91d3feea4ac99002676b6398497b"
      }
     },
     "metadata": {},
     "output_type": "display_data"
    },
    {
     "data": {
      "text/plain": "  0%|          | 0/800 [00:00<?, ?it/s]",
      "application/vnd.jupyter.widget-view+json": {
       "version_major": 2,
       "version_minor": 0,
       "model_id": "6d4a0d1a848745769e35410848feaef3"
      }
     },
     "metadata": {},
     "output_type": "display_data"
    },
    {
     "data": {
      "text/plain": "  0%|          | 0/800 [00:00<?, ?it/s]",
      "application/vnd.jupyter.widget-view+json": {
       "version_major": 2,
       "version_minor": 0,
       "model_id": "f29afac2df414d19bc52767f5ab1f66f"
      }
     },
     "metadata": {},
     "output_type": "display_data"
    },
    {
     "data": {
      "text/plain": "  0%|          | 0/800 [00:00<?, ?it/s]",
      "application/vnd.jupyter.widget-view+json": {
       "version_major": 2,
       "version_minor": 0,
       "model_id": "cf1cfa94886345249a4d67141e600937"
      }
     },
     "metadata": {},
     "output_type": "display_data"
    },
    {
     "data": {
      "text/plain": "  0%|          | 0/800 [00:00<?, ?it/s]",
      "application/vnd.jupyter.widget-view+json": {
       "version_major": 2,
       "version_minor": 0,
       "model_id": "e2eb5587eac94d5d9f5b8267d6e2f0a0"
      }
     },
     "metadata": {},
     "output_type": "display_data"
    },
    {
     "data": {
      "text/plain": "  0%|          | 0/800 [00:00<?, ?it/s]",
      "application/vnd.jupyter.widget-view+json": {
       "version_major": 2,
       "version_minor": 0,
       "model_id": "f58df2c58bfe478da7799073f35c3532"
      }
     },
     "metadata": {},
     "output_type": "display_data"
    },
    {
     "data": {
      "text/plain": "  0%|          | 0/800 [00:00<?, ?it/s]",
      "application/vnd.jupyter.widget-view+json": {
       "version_major": 2,
       "version_minor": 0,
       "model_id": "1a33948c75de4c4394cc4329876446ac"
      }
     },
     "metadata": {},
     "output_type": "display_data"
    },
    {
     "data": {
      "text/plain": "  0%|          | 0/800 [00:00<?, ?it/s]",
      "application/vnd.jupyter.widget-view+json": {
       "version_major": 2,
       "version_minor": 0,
       "model_id": "2d1f681ddb84447a80572520bd390813"
      }
     },
     "metadata": {},
     "output_type": "display_data"
    },
    {
     "data": {
      "text/plain": "  0%|          | 0/800 [00:00<?, ?it/s]",
      "application/vnd.jupyter.widget-view+json": {
       "version_major": 2,
       "version_minor": 0,
       "model_id": "38199ca06b0844bd848ded2bc56a024a"
      }
     },
     "metadata": {},
     "output_type": "display_data"
    },
    {
     "data": {
      "text/plain": "  0%|          | 0/800 [00:00<?, ?it/s]",
      "application/vnd.jupyter.widget-view+json": {
       "version_major": 2,
       "version_minor": 0,
       "model_id": "c62e59cbe8a14b70b8721df5c1c99867"
      }
     },
     "metadata": {},
     "output_type": "display_data"
    },
    {
     "data": {
      "text/plain": "  0%|          | 0/800 [00:00<?, ?it/s]",
      "application/vnd.jupyter.widget-view+json": {
       "version_major": 2,
       "version_minor": 0,
       "model_id": "03320c1a6e7b40aeb8a9643a7ada6aee"
      }
     },
     "metadata": {},
     "output_type": "display_data"
    },
    {
     "data": {
      "text/plain": "  0%|          | 0/800 [00:00<?, ?it/s]",
      "application/vnd.jupyter.widget-view+json": {
       "version_major": 2,
       "version_minor": 0,
       "model_id": "11d7bab7734d4476b324aab58f5b933a"
      }
     },
     "metadata": {},
     "output_type": "display_data"
    },
    {
     "data": {
      "text/plain": "  0%|          | 0/800 [00:00<?, ?it/s]",
      "application/vnd.jupyter.widget-view+json": {
       "version_major": 2,
       "version_minor": 0,
       "model_id": "b6d923347d9c42abae169b2ddc98bdee"
      }
     },
     "metadata": {},
     "output_type": "display_data"
    },
    {
     "data": {
      "text/plain": "  0%|          | 0/800 [00:00<?, ?it/s]",
      "application/vnd.jupyter.widget-view+json": {
       "version_major": 2,
       "version_minor": 0,
       "model_id": "eac33857688e451fb210a80fdec60cf9"
      }
     },
     "metadata": {},
     "output_type": "display_data"
    },
    {
     "data": {
      "text/plain": "  0%|          | 0/800 [00:00<?, ?it/s]",
      "application/vnd.jupyter.widget-view+json": {
       "version_major": 2,
       "version_minor": 0,
       "model_id": "a72a43f557ba47f693b8ed269e04a4cf"
      }
     },
     "metadata": {},
     "output_type": "display_data"
    },
    {
     "data": {
      "text/plain": "  0%|          | 0/800 [00:00<?, ?it/s]",
      "application/vnd.jupyter.widget-view+json": {
       "version_major": 2,
       "version_minor": 0,
       "model_id": "d1119c9c2357462f8bf354668031a3d5"
      }
     },
     "metadata": {},
     "output_type": "display_data"
    },
    {
     "data": {
      "text/plain": "  0%|          | 0/800 [00:00<?, ?it/s]",
      "application/vnd.jupyter.widget-view+json": {
       "version_major": 2,
       "version_minor": 0,
       "model_id": "b79182ce081641e5a7aa3b117306fc47"
      }
     },
     "metadata": {},
     "output_type": "display_data"
    },
    {
     "data": {
      "text/plain": "  0%|          | 0/800 [00:00<?, ?it/s]",
      "application/vnd.jupyter.widget-view+json": {
       "version_major": 2,
       "version_minor": 0,
       "model_id": "f6246277b0a046178bee5367bd75df4d"
      }
     },
     "metadata": {},
     "output_type": "display_data"
    },
    {
     "data": {
      "text/plain": "  0%|          | 0/800 [00:00<?, ?it/s]",
      "application/vnd.jupyter.widget-view+json": {
       "version_major": 2,
       "version_minor": 0,
       "model_id": "7bd93257d4634f959f34d0f4f01a0014"
      }
     },
     "metadata": {},
     "output_type": "display_data"
    },
    {
     "data": {
      "text/plain": "  0%|          | 0/800 [00:00<?, ?it/s]",
      "application/vnd.jupyter.widget-view+json": {
       "version_major": 2,
       "version_minor": 0,
       "model_id": "4e05871d81de4475a88d0e0ed7667c4d"
      }
     },
     "metadata": {},
     "output_type": "display_data"
    },
    {
     "data": {
      "text/plain": "  0%|          | 0/800 [00:00<?, ?it/s]",
      "application/vnd.jupyter.widget-view+json": {
       "version_major": 2,
       "version_minor": 0,
       "model_id": "c5313c907cc34b139516e0dec70cc6f1"
      }
     },
     "metadata": {},
     "output_type": "display_data"
    },
    {
     "data": {
      "text/plain": "  0%|          | 0/800 [00:00<?, ?it/s]",
      "application/vnd.jupyter.widget-view+json": {
       "version_major": 2,
       "version_minor": 0,
       "model_id": "94a32dbce1854a7895b2723fe153b070"
      }
     },
     "metadata": {},
     "output_type": "display_data"
    },
    {
     "data": {
      "text/plain": "  0%|          | 0/800 [00:00<?, ?it/s]",
      "application/vnd.jupyter.widget-view+json": {
       "version_major": 2,
       "version_minor": 0,
       "model_id": "3e5c9ad9092548e69125ddbb4c482c4c"
      }
     },
     "metadata": {},
     "output_type": "display_data"
    },
    {
     "data": {
      "text/plain": "  0%|          | 0/800 [00:00<?, ?it/s]",
      "application/vnd.jupyter.widget-view+json": {
       "version_major": 2,
       "version_minor": 0,
       "model_id": "ef30792aee0b48598cf3cbdd75832a20"
      }
     },
     "metadata": {},
     "output_type": "display_data"
    },
    {
     "data": {
      "text/plain": "  0%|          | 0/800 [00:00<?, ?it/s]",
      "application/vnd.jupyter.widget-view+json": {
       "version_major": 2,
       "version_minor": 0,
       "model_id": "aa9a0e515a05484c8c9255efb851b47a"
      }
     },
     "metadata": {},
     "output_type": "display_data"
    },
    {
     "data": {
      "text/plain": "  0%|          | 0/800 [00:00<?, ?it/s]",
      "application/vnd.jupyter.widget-view+json": {
       "version_major": 2,
       "version_minor": 0,
       "model_id": "095186279d6646488aaa5bea72be84cd"
      }
     },
     "metadata": {},
     "output_type": "display_data"
    },
    {
     "data": {
      "text/plain": "  0%|          | 0/800 [00:00<?, ?it/s]",
      "application/vnd.jupyter.widget-view+json": {
       "version_major": 2,
       "version_minor": 0,
       "model_id": "d3ac8b93e91d40679df1429dc363d5a2"
      }
     },
     "metadata": {},
     "output_type": "display_data"
    },
    {
     "data": {
      "text/plain": "  0%|          | 0/800 [00:00<?, ?it/s]",
      "application/vnd.jupyter.widget-view+json": {
       "version_major": 2,
       "version_minor": 0,
       "model_id": "962dc9dc29b144bbbf71688199e8b9e2"
      }
     },
     "metadata": {},
     "output_type": "display_data"
    },
    {
     "data": {
      "text/plain": "  0%|          | 0/800 [00:00<?, ?it/s]",
      "application/vnd.jupyter.widget-view+json": {
       "version_major": 2,
       "version_minor": 0,
       "model_id": "02d4b61921a546ed840f4e98da11a524"
      }
     },
     "metadata": {},
     "output_type": "display_data"
    },
    {
     "data": {
      "text/plain": "  0%|          | 0/800 [00:00<?, ?it/s]",
      "application/vnd.jupyter.widget-view+json": {
       "version_major": 2,
       "version_minor": 0,
       "model_id": "af96ee53e9a4426a96fa7cdf17665782"
      }
     },
     "metadata": {},
     "output_type": "display_data"
    },
    {
     "data": {
      "text/plain": "  0%|          | 0/800 [00:00<?, ?it/s]",
      "application/vnd.jupyter.widget-view+json": {
       "version_major": 2,
       "version_minor": 0,
       "model_id": "3f4a8acf8dc44893a6ea6b8780b4720c"
      }
     },
     "metadata": {},
     "output_type": "display_data"
    },
    {
     "data": {
      "text/plain": "  0%|          | 0/800 [00:00<?, ?it/s]",
      "application/vnd.jupyter.widget-view+json": {
       "version_major": 2,
       "version_minor": 0,
       "model_id": "5e60ae13366f4ae5961a946edc08b9e8"
      }
     },
     "metadata": {},
     "output_type": "display_data"
    },
    {
     "data": {
      "text/plain": "  0%|          | 0/800 [00:00<?, ?it/s]",
      "application/vnd.jupyter.widget-view+json": {
       "version_major": 2,
       "version_minor": 0,
       "model_id": "ef5b9537e1f74ff596cbd168be6cd2b9"
      }
     },
     "metadata": {},
     "output_type": "display_data"
    },
    {
     "data": {
      "text/plain": "  0%|          | 0/800 [00:00<?, ?it/s]",
      "application/vnd.jupyter.widget-view+json": {
       "version_major": 2,
       "version_minor": 0,
       "model_id": "d914690f306045629fefdda597e0cf1c"
      }
     },
     "metadata": {},
     "output_type": "display_data"
    },
    {
     "data": {
      "text/plain": "  0%|          | 0/800 [00:00<?, ?it/s]",
      "application/vnd.jupyter.widget-view+json": {
       "version_major": 2,
       "version_minor": 0,
       "model_id": "e15d317c29d944f3b1b2af46b8914d7f"
      }
     },
     "metadata": {},
     "output_type": "display_data"
    },
    {
     "data": {
      "text/plain": "  0%|          | 0/800 [00:00<?, ?it/s]",
      "application/vnd.jupyter.widget-view+json": {
       "version_major": 2,
       "version_minor": 0,
       "model_id": "ac50229977584df38567b05e1be685e6"
      }
     },
     "metadata": {},
     "output_type": "display_data"
    },
    {
     "data": {
      "text/plain": "  0%|          | 0/800 [00:00<?, ?it/s]",
      "application/vnd.jupyter.widget-view+json": {
       "version_major": 2,
       "version_minor": 0,
       "model_id": "97d2013b8aa641228fb140d5dcfe15ce"
      }
     },
     "metadata": {},
     "output_type": "display_data"
    },
    {
     "data": {
      "text/plain": "  0%|          | 0/800 [00:00<?, ?it/s]",
      "application/vnd.jupyter.widget-view+json": {
       "version_major": 2,
       "version_minor": 0,
       "model_id": "55cc51bbf8be48eeb58bfbfc1c2f560f"
      }
     },
     "metadata": {},
     "output_type": "display_data"
    },
    {
     "data": {
      "text/plain": "  0%|          | 0/800 [00:00<?, ?it/s]",
      "application/vnd.jupyter.widget-view+json": {
       "version_major": 2,
       "version_minor": 0,
       "model_id": "2f6c64e279b44bfb83456ebcd6d6a7a9"
      }
     },
     "metadata": {},
     "output_type": "display_data"
    },
    {
     "data": {
      "text/plain": "  0%|          | 0/800 [00:00<?, ?it/s]",
      "application/vnd.jupyter.widget-view+json": {
       "version_major": 2,
       "version_minor": 0,
       "model_id": "44764a8bbeb04f299ad6eb3c2ee722dc"
      }
     },
     "metadata": {},
     "output_type": "display_data"
    },
    {
     "data": {
      "text/plain": "  0%|          | 0/800 [00:00<?, ?it/s]",
      "application/vnd.jupyter.widget-view+json": {
       "version_major": 2,
       "version_minor": 0,
       "model_id": "dcc1ae80fb7849f4a00a83824d98a135"
      }
     },
     "metadata": {},
     "output_type": "display_data"
    },
    {
     "data": {
      "text/plain": "  0%|          | 0/800 [00:00<?, ?it/s]",
      "application/vnd.jupyter.widget-view+json": {
       "version_major": 2,
       "version_minor": 0,
       "model_id": "7343afce29384c5ca6975e5eb725bd41"
      }
     },
     "metadata": {},
     "output_type": "display_data"
    },
    {
     "data": {
      "text/plain": "  0%|          | 0/800 [00:00<?, ?it/s]",
      "application/vnd.jupyter.widget-view+json": {
       "version_major": 2,
       "version_minor": 0,
       "model_id": "8eb1a6c0774945438275f7d5352ce0df"
      }
     },
     "metadata": {},
     "output_type": "display_data"
    },
    {
     "data": {
      "text/plain": "  0%|          | 0/800 [00:00<?, ?it/s]",
      "application/vnd.jupyter.widget-view+json": {
       "version_major": 2,
       "version_minor": 0,
       "model_id": "7c48628dab7f4da99fa616da4b226db4"
      }
     },
     "metadata": {},
     "output_type": "display_data"
    },
    {
     "data": {
      "text/plain": "  0%|          | 0/800 [00:00<?, ?it/s]",
      "application/vnd.jupyter.widget-view+json": {
       "version_major": 2,
       "version_minor": 0,
       "model_id": "2f614edafaf2423dae360427929ff987"
      }
     },
     "metadata": {},
     "output_type": "display_data"
    },
    {
     "data": {
      "text/plain": "  0%|          | 0/800 [00:00<?, ?it/s]",
      "application/vnd.jupyter.widget-view+json": {
       "version_major": 2,
       "version_minor": 0,
       "model_id": "6f735c4c950f45e1b3acf61cf6abcc85"
      }
     },
     "metadata": {},
     "output_type": "display_data"
    },
    {
     "data": {
      "text/plain": "  0%|          | 0/800 [00:00<?, ?it/s]",
      "application/vnd.jupyter.widget-view+json": {
       "version_major": 2,
       "version_minor": 0,
       "model_id": "c953a60f207f4fd88d58e8364d8a71f8"
      }
     },
     "metadata": {},
     "output_type": "display_data"
    },
    {
     "data": {
      "text/plain": "  0%|          | 0/800 [00:00<?, ?it/s]",
      "application/vnd.jupyter.widget-view+json": {
       "version_major": 2,
       "version_minor": 0,
       "model_id": "51375e3fd9f844b8a8fb5464c9b2a42e"
      }
     },
     "metadata": {},
     "output_type": "display_data"
    },
    {
     "data": {
      "text/plain": "  0%|          | 0/800 [00:00<?, ?it/s]",
      "application/vnd.jupyter.widget-view+json": {
       "version_major": 2,
       "version_minor": 0,
       "model_id": "6939722f3e2a45d2adbcb64bfa86771e"
      }
     },
     "metadata": {},
     "output_type": "display_data"
    },
    {
     "data": {
      "text/plain": "  0%|          | 0/800 [00:00<?, ?it/s]",
      "application/vnd.jupyter.widget-view+json": {
       "version_major": 2,
       "version_minor": 0,
       "model_id": "4cab8b8334b94397b267e882dac15be5"
      }
     },
     "metadata": {},
     "output_type": "display_data"
    },
    {
     "data": {
      "text/plain": "  0%|          | 0/800 [00:00<?, ?it/s]",
      "application/vnd.jupyter.widget-view+json": {
       "version_major": 2,
       "version_minor": 0,
       "model_id": "8137e3f5ee4941c1a72155fafeca5df7"
      }
     },
     "metadata": {},
     "output_type": "display_data"
    },
    {
     "data": {
      "text/plain": "  0%|          | 0/800 [00:00<?, ?it/s]",
      "application/vnd.jupyter.widget-view+json": {
       "version_major": 2,
       "version_minor": 0,
       "model_id": "63f977c97be54f749a0139b4d1fcf851"
      }
     },
     "metadata": {},
     "output_type": "display_data"
    },
    {
     "data": {
      "text/plain": "  0%|          | 0/800 [00:00<?, ?it/s]",
      "application/vnd.jupyter.widget-view+json": {
       "version_major": 2,
       "version_minor": 0,
       "model_id": "c6b9b729076d4deabe89c2e2219de04f"
      }
     },
     "metadata": {},
     "output_type": "display_data"
    },
    {
     "data": {
      "text/plain": "  0%|          | 0/800 [00:00<?, ?it/s]",
      "application/vnd.jupyter.widget-view+json": {
       "version_major": 2,
       "version_minor": 0,
       "model_id": "7c3c345368444d778161f8c87d536015"
      }
     },
     "metadata": {},
     "output_type": "display_data"
    },
    {
     "data": {
      "text/plain": "  0%|          | 0/800 [00:00<?, ?it/s]",
      "application/vnd.jupyter.widget-view+json": {
       "version_major": 2,
       "version_minor": 0,
       "model_id": "d0e0af4606e0452ea5349168d9c5d5d0"
      }
     },
     "metadata": {},
     "output_type": "display_data"
    },
    {
     "data": {
      "text/plain": "  0%|          | 0/800 [00:00<?, ?it/s]",
      "application/vnd.jupyter.widget-view+json": {
       "version_major": 2,
       "version_minor": 0,
       "model_id": "2bb7926cd998489885b6026c8d2126fa"
      }
     },
     "metadata": {},
     "output_type": "display_data"
    },
    {
     "data": {
      "text/plain": "  0%|          | 0/800 [00:00<?, ?it/s]",
      "application/vnd.jupyter.widget-view+json": {
       "version_major": 2,
       "version_minor": 0,
       "model_id": "c2a5b05113df4fecb58fefe18536409e"
      }
     },
     "metadata": {},
     "output_type": "display_data"
    },
    {
     "data": {
      "text/plain": "  0%|          | 0/800 [00:00<?, ?it/s]",
      "application/vnd.jupyter.widget-view+json": {
       "version_major": 2,
       "version_minor": 0,
       "model_id": "fcd13db6f3ad47f2836afcc9840127be"
      }
     },
     "metadata": {},
     "output_type": "display_data"
    },
    {
     "data": {
      "text/plain": "([0.0013858357667922974,\n  0.0027705527544021604,\n  0.004157466530799865,\n  0.005543145537376403,\n  0.006928525567054748,\n  0.008313711524009705,\n  0.009698225855827332,\n  0.011083902120590211,\n  0.012468669176101685,\n  0.013854783773422242,\n  0.015240736961364746,\n  0.01662534165382385,\n  0.018011051416397094,\n  0.019396673679351807,\n  0.02078221595287323,\n  0.02216780149936676,\n  0.02355379331111908,\n  0.024938946366310118,\n  0.02632366096973419,\n  0.027709345936775206,\n  0.02909426128864288,\n  0.030481012821197508,\n  0.031866188287734985,\n  0.03325233840942383,\n  0.03463760101795196,\n  0.036023443818092346,\n  0.037409547209739685,\n  0.03879537045955658,\n  0.04018102824687958,\n  0.041567327141761784,\n  0.0429529744386673,\n  0.04433833158016205,\n  0.045725046753883364,\n  0.04711116588115692,\n  0.048497149825096134,\n  0.04988232958316803,\n  0.051266828417778014,\n  0.05265234053134918,\n  0.054037475466728206,\n  0.0554227932691574,\n  0.056808128952980035,\n  0.0581934493780136,\n  0.05957840859889983,\n  0.06096259319782256,\n  0.062348743081092825,\n  0.06373411643505096,\n  0.06511897206306458,\n  0.06650392103195191,\n  0.06788784432411193,\n  0.0692727884054184,\n  0.07065712225437164,\n  0.07204190266132354,\n  0.07342684209346771,\n  0.074812047123909,\n  0.07619709801673889,\n  0.07758227145671845,\n  0.07896749651432038,\n  0.08035248577594757,\n  0.08173844110965729,\n  0.08312384402751923,\n  0.08450882518291473,\n  0.08589383590221406,\n  0.0872782131433487,\n  0.08866315257549287,\n  0.09004766499996186,\n  0.09143303167819977,\n  0.09281812000274658,\n  0.09420220875740051,\n  0.09558797645568848,\n  0.09697302889823914,\n  0.09835831165313721,\n  0.09974398493766785,\n  0.10112713909149171,\n  0.10251250529289246,\n  0.10389733409881592,\n  0.10528411376476288,\n  0.10666932070255279,\n  0.10805396306514739,\n  0.10943780148029326,\n  0.11082331693172454,\n  0.11220904958248137,\n  0.11359469711780547,\n  0.11498013913631439,\n  0.11636470639705657,\n  0.11774967873096465,\n  0.1191341060400009,\n  0.1205181951522827,\n  0.12190367460250852,\n  0.12328877234458921,\n  0.12467328953742979,\n  0.12605919790267942,\n  0.12744482827186582,\n  0.12883023858070372,\n  0.1302147855758667,\n  0.13160008454322814,\n  0.13298515486717222,\n  0.13437033104896542,\n  0.13575506103038784,\n  0.13714111936092374,\n  0.13852495932579037,\n  0.1399090182781219,\n  0.14129427838325498,\n  0.14267925059795378,\n  0.14406392085552214,\n  0.14544921565055846,\n  0.14683350896835326,\n  0.14821853208541869,\n  0.14960373711585997,\n  0.150988530755043,\n  0.15237375032901762,\n  0.15375870966911315,\n  0.15514330148696898,\n  0.15652781176567077,\n  0.15791225838661194,\n  0.15929521322250367,\n  0.16067942905426028,\n  0.16206419682502748,\n  0.16344863212108615,\n  0.1648328461647034,\n  0.16621730875968935,\n  0.16760136008262635,\n  0.16898621726036073,\n  0.1703698891401291,\n  0.17175481998920442,\n  0.17313885259628298,\n  0.1745239692926407,\n  0.175907812833786,\n  0.17729207682609557,\n  0.1786764738559723,\n  0.18006086587905884,\n  0.18144643616676331,\n  0.18283106863498688,\n  0.18421619129180908,\n  0.18560168695449827,\n  0.18698740303516387,\n  0.18837092959880827,\n  0.18975605380535124,\n  0.19114087617397307,\n  0.19252440071105956,\n  0.19390876388549802,\n  0.19529345250129698,\n  0.1966773247718811,\n  0.1980617401599884,\n  0.199445108294487,\n  0.20083059501647949,\n  0.2022147557735443,\n  0.20359935665130616,\n  0.20498277878761292,\n  0.20636781144142152,\n  0.207752019405365,\n  0.2091360228061676,\n  0.21052050232887268,\n  0.2119054114818573,\n  0.2132902693748474,\n  0.21467462611198423,\n  0.21605885517597195,\n  0.21744252347946164,\n  0.21882687914371488,\n  0.22021186053752898,\n  0.2215957428216934,\n  0.22297877728939053,\n  0.2243634647130966,\n  0.2257477079629898,\n  0.22713129866123197,\n  0.22851607835292814,\n  0.2299020366668701,\n  0.23128577172756193,\n  0.23266955626010893,\n  0.2340534337759018,\n  0.23543766057491303,\n  0.23682232177257537,\n  0.23820585548877715,\n  0.23959111320972443,\n  0.2409747928380966,\n  0.24235921454429626,\n  0.24374394917488099,\n  0.24512913608551026,\n  0.24651387381553652,\n  0.24789773130416873,\n  0.24928154885768894,\n  0.25066593921184543,\n  0.2520508395433426,\n  0.2534344481229782,\n  0.2548191395998001,\n  0.25620312941074375,\n  0.2575870745182038,\n  0.25897068297863013,\n  0.26035396754741674,\n  0.2617382261753083,\n  0.2631224138736725,\n  0.2645065310001374,\n  0.2658918374776841,\n  0.2672770140171052,\n  0.26866044855117804,\n  0.2700443985462189,\n  0.2714293744564057,\n  0.2728127794265748,\n  0.2741974873542786,\n  0.2755814783573151,\n  0.2769669060707093,\n  0.27835183572769173,\n  0.2797363748550416,\n  0.28112065947055825,\n  0.28250545394420634,\n  0.28388953566551217,\n  0.28527471113204966,\n  0.28665864181518563,\n  0.28804272592067726,\n  0.2894263194799424,\n  0.2908101576566697,\n  0.29219498431682595,\n  0.29357925236225135,\n  0.2949643427133561,\n  0.2963487399816514,\n  0.2977342969179154,\n  0.29911981737613685,\n  0.3005041375160218,\n  0.3018887436389924,\n  0.30327363395690926,\n  0.3046573468446732,\n  0.3060414439439774,\n  0.3074261612892151,\n  0.3088098948001862,\n  0.3101942296028138,\n  0.3115772333145142,\n  0.31296103870868686,\n  0.3143447443246842,\n  0.31572906649112703,\n  0.3171126657724381,\n  0.3184963120222092,\n  0.3198799651861191,\n  0.3212631219625473,\n  0.3226481167078018,\n  0.324031678199768,\n  0.32541688024997706,\n  0.32680120551586145,\n  0.3281849454641341,\n  0.3295694352388381,\n  0.330953514099121,\n  0.3323375446796416,\n  0.33372143721580494,\n  0.3351049479246138,\n  0.33648949491977675,\n  0.33787434184551224,\n  0.33925806319713575,\n  0.34064153516292556,\n  0.3420261031389235,\n  0.3434099637269972,\n  0.3447943452596663,\n  0.3461788955926894,\n  0.3475627982616423,\n  0.34894638621807084,\n  0.350331209540367,\n  0.35171639144420613,\n  0.3531003042459487,\n  0.35448362052440635,\n  0.35586725413799275,\n  0.35725207126140585,\n  0.3586371756792068,\n  0.36002121591567987,\n  0.3614056160449981,\n  0.36278927707672115,\n  0.36417354750633235,\n  0.3655581879615783,\n  0.3669432973861694,\n  0.368327914237976,\n  0.36971242129802695,\n  0.37109682404994954,\n  0.3724814435243605,\n  0.3738646026849745,\n  0.37524861359596234,\n  0.3766333169937132,\n  0.37801742637157426,\n  0.37940190684795366,\n  0.3807852288484572,\n  0.38217012059688554,\n  0.38355360174179065,\n  0.3849381251335143,\n  0.38632239580154404,\n  0.3877064902782439,\n  0.38909023880958543,\n  0.3904747538566588,\n  0.39185877275466907,\n  0.39324348425865163,\n  0.3946271586418151,\n  0.3960113531351088,\n  0.39739550149440755,\n  0.39877936208248127,\n  0.4001639665365218,\n  0.40154826080799094,\n  0.4029327361583709,\n  0.40431725549697867,\n  0.4057018719911574,\n  0.40708707869052874,\n  0.4084710599184035,\n  0.4098560535907744,\n  0.4112402400970458,\n  0.41262370705604545,\n  0.41400838637351983,\n  0.4153934363126754,\n  0.416777818083763,\n  0.4181619203090667,\n  0.4195452680587768,\n  0.42092917275428765,\n  0.42231380939483637,\n  0.42369779896736137,\n  0.4250826623439788,\n  0.4264674075841903,\n  0.42785127484798424,\n  0.4292347437143325,\n  0.430618938922882,\n  0.4320038917064666,\n  0.43338807678222646,\n  0.43477308261394493,\n  0.43615719330310815,\n  0.4375419355630874,\n  0.4389262118339538,\n  0.4403103342056274,\n  0.44169360077381126,\n  0.44307822811603537,\n  0.444462666273117,\n  0.4458460193872451,\n  0.44723058819770806,\n  0.4486151415109634,\n  0.45000066649913784,\n  0.45138428246974943,\n  0.4527686437368393,\n  0.4541519908905029,\n  0.45553596782684325,\n  0.4569195841550827,\n  0.45830490052700046,\n  0.4596890903711319,\n  0.46107329642772676,\n  0.46245716226100925,\n  0.463840704202652,\n  0.46522498655319217,\n  0.4666099424362183,\n  0.46799503731727604,\n  0.46937954378128055,\n  0.47076370692253117,\n  0.472148489356041,\n  0.47353335976600647,\n  0.4749178674221039,\n  0.4763009886741638,\n  0.477684419631958,\n  0.47906884098052976,\n  0.48045253860950465,\n  0.48183644294738764,\n  0.4832203376293182,\n  0.4846054060459137,\n  0.48598977160453793,\n  0.48737477421760556,\n  0.488759464263916,\n  0.4901439805030822,\n  0.4915280418395996,\n  0.49291250658035274,\n  0.4942965567111969,\n  0.4956803798675537,\n  0.4970643310546875,\n  0.4984495714902878,\n  0.4998340301513672,\n  0.5012184855937958,\n  0.5026030888557435,\n  0.5039880547523499,\n  0.5053733698129654,\n  0.506757549405098,\n  0.5081409108638764,\n  0.5095253969430924,\n  0.5109098592996598,\n  0.512293872833252,\n  0.5136782475709916,\n  0.515062592625618,\n  0.5164491947889328,\n  0.5178335871696472,\n  0.5192170720100403,\n  0.5206017026901245,\n  0.5219854173660279,\n  0.523369435787201,\n  0.5247535732984543,\n  0.5261373035907746,\n  0.5275226719379426,\n  0.5289059574604035,\n  0.5302909692525865,\n  0.5316744227409363,\n  0.5330586116313935,\n  0.5344440656900407,\n  0.5358283816576005,\n  0.537212949872017,\n  0.5385981665849686,\n  0.5399815374612809,\n  0.5413658472299576,\n  0.5427502956390381,\n  0.5441348307132721,\n  0.5455183660984039,\n  0.546901216506958,\n  0.548285736322403,\n  0.5496703908443451,\n  0.5510553026199341,\n  0.5524399762153626,\n  0.5538233752250672,\n  0.5552080593109131,\n  0.5565933697223664,\n  0.5579781435728074,\n  0.5593632103204728,\n  0.5607477254867554,\n  0.5621321580410005,\n  0.5635166776180268,\n  0.5649018001556397,\n  0.566286601305008,\n  0.5676707518100739,\n  0.5690569808483124,\n  0.5704414186477661,\n  0.5718256194591522,\n  0.5732095284461975,\n  0.5745941746234894,\n  0.5759787635803223,\n  0.5773628326654434,\n  0.5787463955879212,\n  0.5801296781301499,\n  0.5815140767097474,\n  0.5828986916542054,\n  0.584282665848732,\n  0.5856672569513321,\n  0.5870517035722733,\n  0.5884365998506547,\n  0.5898211826086045,\n  0.5912050745487214,\n  0.5925889763832093,\n  0.5939732359647751,\n  0.5953586505651475,\n  0.5967433482408524,\n  0.5981276825666428,\n  0.5995124322175981,\n  0.6008970869779588,\n  0.6022811781167986,\n  0.6036664777994157,\n  0.605051176428795,\n  0.6064351695775987,\n  0.6078197551965715,\n  0.6092045208215715,\n  0.610589450120926,\n  0.6119743816852571,\n  0.6133590611219407,\n  0.6147439595460893,\n  0.6161281143426897,\n  0.6175117160081864,\n  0.6188949466943742,\n  0.6202793883085251,\n  0.6216648961305619,\n  0.6230493770837784,\n  0.6244338814020157,\n  0.6258187166452408,\n  0.627202781200409,\n  0.6285869462490082,\n  0.6299716260433198,\n  0.6313564023971558,\n  0.6327411510944367,\n  0.6341260331869126,\n  0.6355108474493028,\n  0.6368953957557679,\n  0.6382803802490236,\n  0.6396655755043031,\n  0.6410491020679475,\n  0.6424336965084078,\n  0.6438179764747621,\n  0.645201371908188,\n  0.6465860075950625,\n  0.6479703943729402,\n  0.6493546509742738,\n  0.6507397413253786,\n  0.6521230962276461,\n  0.6535083870887758,\n  0.6548923752307894,\n  0.6562774565219881,\n  0.6576626524925234,\n  0.6590472418069842,\n  0.6604300307035448,\n  0.6618139837980272,\n  0.6631983084678652,\n  0.66458277630806,\n  0.6659669258594516,\n  0.667350871562958,\n  0.6687359523773196,\n  0.6701216170787815,\n  0.6715064406394962,\n  0.6728912007808688,\n  0.6742758154869083,\n  0.6756605505943302,\n  0.6770444843769077,\n  0.6784287481307987,\n  0.6798129916191105,\n  0.6811982228755954,\n  0.6825829054117206,\n  0.6839674321413044,\n  0.6853515304327015,\n  0.6867364684343341,\n  0.688120939254761,\n  0.6895066846609118,\n  0.6908910191059116,\n  0.6922763884067539,\n  0.6936601616144183,\n  0.001383702039718628,\n  0.002768721342086792,\n  0.004152435898780823,\n  0.005538029432296753,\n  0.006922903060913086,\n  0.008308509945869446,\n  0.0096931654214859,\n  0.01107818853855133,\n  0.012462360024452208,\n  0.013846766114234924,\n  0.015232056498527526,\n  0.016616281390190123,\n  0.018001200318336484,\n  0.01938517010211944,\n  0.020770451903343198,\n  0.022154103994369505,\n  0.023539350628852842,\n  0.024922898411750792,\n  0.026307690739631653,\n  0.027692626357078552,\n  0.029077740550041198,\n  0.030463322281837464,\n  0.03184863603115082,\n  0.03323430383205414,\n  0.03461872231960297,\n  0.03600335681438446,\n  0.03738800024986268,\n  0.03877308082580567,\n  0.04015781474113465,\n  0.041543827533721926,\n  0.0429282523393631,\n  0.044313305735588074,\n  0.04569843828678131,\n  0.04708385980129241,\n  0.04846900558471679,\n  0.04985404062271118,\n  0.05123941016197204,\n  0.05262466573715209,\n  0.05400941240787505,\n  0.05539323461055755,\n  0.05677848494052886,\n  0.05816278564929961,\n  0.059547616958618155,\n  0.06093334615230559,\n  0.062319371223449695,\n  0.06370360302925109,\n  0.0650884402990341,\n  0.06647262442111967,\n  0.06785678303241728,\n  0.06924122548103331,\n  0.07062694942951202,\n  0.07201125133037567,\n  0.07339621198177337,\n  0.07478142237663268,\n  0.07616555428504942,\n  0.07755043911933898,\n  0.07893552875518799,\n  0.08032062315940856,\n  0.08170449662208557,\n  0.0830892024040222,\n  0.08447414398193358,\n  0.08585881340503691,\n  0.08724354016780853,\n  0.08862891042232512,\n  0.09001425170898436,\n  0.09140037238597869,\n  0.09278502070903777,\n  0.09417026484012603,\n  0.09555409228801727,\n  0.09693823778629303,\n  0.09832202136516571,\n  0.09970646953582764,\n  0.10109091734886169,\n  0.10247564435005188,\n  0.10386071407794953,\n  0.10524581563472749,\n  0.10663091957569124,\n  0.10801588141918184,\n  0.10940067231655122,\n  0.11078524732589723,\n  0.1121692876815796,\n  0.11355409145355226,\n  0.11493866193294526,\n  0.11632368052005769,\n  0.11770903789997102,\n  0.11909369742870332,\n  0.12047945368289949,\n  0.12186479401588442,\n  0.12324937081336977,\n  0.12463536548614504,\n  0.12601993930339817,\n  0.12740533399581913,\n  0.12879002761840824,\n  0.13017573904991153,\n  0.1315610721111298,\n  0.132945417881012,\n  0.13433091688156132,\n  0.13571679294109348,\n  0.13710217630863195,\n  0.13848697805404667,\n  0.13987231087684635,\n  0.14125747370719913,\n  0.142643340587616,\n  0.14402842855453493,\n  0.14541396665573122,\n  0.14679878854751588,\n  0.14818394446372987,\n  0.14957012033462525,\n  0.15095526134967804,\n  0.1523400744199753,\n  0.1537255711555481,\n  0.15511009073257448,\n  0.15649499666690828,\n  0.15788045251369479,\n  0.15926478946208955,\n  0.16064986097812653,\n  0.16203389966487886,\n  0.16341915237903595,\n  0.16480347776412965,\n  0.16618799018859864,\n  0.16757432007789613,\n  0.16895852851867676,\n  0.17034274744987488,\n  0.17172802340984344,\n  0.1731125705242157,\n  0.1744976975917816,\n  0.17588250327110289,\n  0.1772678654193878,\n  0.17865145182609557,\n  0.18003668439388273,\n  0.18142151796817776,\n  0.1828065297603607,\n  0.18419132328033444,\n  0.18557671511173246,\n  0.1869621751308441,\n  0.18834734654426571,\n  0.18973131442070004,\n  0.19111557352542874,\n  0.19250049602985378,\n  0.19388554728031154,\n  0.19527071583271022,\n  0.19665585398674007,\n  0.19804113090038294,\n  0.19942593324184413,\n  0.2008109627962112,\n  0.20219625616073603,\n  0.20358129215240472,\n  0.20496599912643426,\n  0.20635192310810083,\n  0.20773791611194603,\n  0.209123643875122,\n  0.21050907325744622,\n  0.21189416480064385,\n  0.2132806754112243,\n  0.21466575050353998,\n  0.21605213308334345,\n  0.21743596124649042,\n  0.2188210041522979,\n  0.22020678699016566,\n  0.22159345757961268,\n  0.2229777826070785,\n  0.22436097586154935,\n  0.2257464802265167,\n  0.22713164019584653,\n  0.22851618766784665,\n  0.22990122687816616,\n  0.2312866228818893,\n  0.23267246806621547,\n  0.234056602358818,\n  0.23544111073017115,\n  0.23682622778415674,\n  0.23821221506595605,\n  0.23959696018695825,\n  0.24098236382007593,\n  0.24236737704277034,\n  0.24375296008586878,\n  0.2451398736238479,\n  0.24652606570720667,\n  0.24791115558147425,\n  0.24929667294025415,\n  0.25068202757835384,\n  0.2520672373771667,\n  0.2534518382549285,\n  0.2548372678756713,\n  0.25622357964515674,\n  0.25760853683948504,\n  0.2589938231706618,\n  0.2603796432018278,\n  0.2617644448280333,\n  0.2631508452892302,\n  0.26453670191764816,\n  0.2659218333959578,\n  0.26730726850032793,\n  0.2686927304267882,\n  0.27007795715332017,\n  0.27146250200271593,\n  0.27284770679473863,\n  0.27423293972015367,\n  0.2756185858249663,\n  0.27700437855720506,\n  0.27838984918594345,\n  0.2797743481397627,\n  0.28115958535671215,\n  0.2825453897714613,\n  0.2839313490390776,\n  0.28531604266166666,\n  0.28670173478126504,\n  0.28808731353282907,\n  0.28947300422191596,\n  0.2908591326475141,\n  0.2922447785139082,\n  0.2936305981874464,\n  0.2950172768831251,\n  0.29640353000164016,\n  0.2977893595695494,\n  0.2991752579212187,\n  0.30056013238430007,\n  0.3019448487758635,\n  0.3033305658102034,\n  0.3047156126499175,\n  0.3061006264686583,\n  0.3074857597351073,\n  0.30887178850173935,\n  0.31025729012489306,\n  0.3116433346271514,\n  0.31302764058113086,\n  0.31441207003593435,\n  0.3157967133522033,\n  0.3171834518909453,\n  0.3185690000057219,\n  0.31995449542999255,\n  0.321340832710266,\n  0.3227264981269835,\n  0.3241107435226439,\n  0.32549758231639847,\n  0.3268836947679518,\n  0.32826922774314865,\n  0.32965477943420396,\n  0.3310395547151564,\n  0.3324262756109236,\n  0.3338123012781141,\n  0.3351980093717573,\n  0.33658376348018626,\n  0.33796950531005837,\n  0.3393547675609586,\n  0.34074016284942604,\n  0.34212510609626745,\n  0.343511660814285,\n  0.344897793292999,\n  0.34628331804275486,\n  0.34766848230361913,\n  0.3490538494586942,\n  0.3504386198520658,\n  0.35182467770576453,\n  0.3532095997333524,\n  0.3545953888893125,\n  0.35598030161857586,\n  0.35736668062210064,\n  0.35875221252441386,\n  0.3601387069225309,\n  0.3615234520435331,\n  0.36290820980071997,\n  0.3642945215702054,\n  0.3656792932748792,\n  0.3670651904344556,\n  0.36845056354999517,\n  0.36983692133426643,\n  0.37122232758998847,\n  0.37260804522037483,\n  0.37399425470828984,\n  0.3753790572881696,\n  0.3767650269269941,\n  0.37814981687068916,\n  0.37953608524799326,\n  0.38092176687717416,\n  0.3823069611787794,\n  0.383692539334297,\n  0.3850775969028471,\n  0.386463451862335,\n  0.38784963226318336,\n  0.38923440742492654,\n  0.3906195156574247,\n  0.39200523805618265,\n  0.39339055657386757,\n  0.3947761006355283,\n  0.3961606497764585,\n  0.39754608309268924,\n  0.39893121278285953,\n  0.4003174159526822,\n  0.4017041056156156,\n  0.403090760707855,\n  0.40447686553001383,\n  0.4058635859489439,\n  0.40724977827072123,\n  0.40863500106334666,\n  0.41002005565166455,\n  0.41140524685382823,\n  0.41279116845130903,\n  0.4141770994663237,\n  0.4155614483356474,\n  0.4169477459192274,\n  0.4183328129053114,\n  0.4197185673713682,\n  0.421103828191757,\n  0.4224889748096464,\n  0.4238749682903288,\n  0.425260677218437,\n  0.42664687764644604,\n  0.4280319995880125,\n  0.42941772222518904,\n  0.4308034739494322,\n  0.43218931102752667,\n  0.433574868917465,\n  0.4349605150222776,\n  0.4363464403152464,\n  0.4377317762374876,\n  0.4391168086528776,\n  0.44050232386589033,\n  0.441888312101364,\n  0.44327513134479507,\n  0.44466024732589704,\n  0.4460460112094877,\n  0.4474325478076933,\n  0.44881887364387496,\n  0.4502046141624449,\n  0.4515908122062681,\n  0.45297569847106917,\n  0.4543629643917082,\n  0.45574887275695786,\n  0.4571341946125029,\n  0.45852009427547435,\n  0.45990606915950755,\n  0.4612920805215833,\n  0.46267757594585396,\n  0.4640627413988111,\n  0.46544825911521887,\n  0.46683402895927406,\n  0.46821914029121375,\n  0.46960421609878517,\n  0.47099007380008673,\n  0.47237475359439823,\n  0.4737605241537092,\n  0.4751467370986936,\n  0.4765321350097654,\n  0.4779184010028837,\n  0.47930387783050515,\n  0.48069042253494243,\n  0.4820769317150114,\n  0.48346322584152207,\n  0.4848493362665175,\n  0.4862351701259612,\n  0.4876207787990569,\n  0.4890071086883544,\n  0.49039341425895683,\n  0.4917789916992187,\n  0.49316559505462637,\n  0.4945511150360106,\n  0.49593680799007406,\n  0.4973226222991942,\n  0.49870783114433276,\n  0.5000929787158965,\n  0.5014790313243865,\n  0.5028640075922012,\n  0.5042493032217025,\n  0.5056355100870131,\n  0.5070213552713393,\n  0.50840836250782,\n  0.5097931859493254,\n  0.5111799778938292,\n  0.5125658617019652,\n  0.5139527409076688,\n  0.5153378767967222,\n  0.5167245621681211,\n  0.5181102207899092,\n  0.5194955745935439,\n  0.520881189584732,\n  0.5222680072784422,\n  0.523653818130493,\n  0.5250401412248611,\n  0.52642647087574,\n  0.5278124297857284,\n  0.5291986101865768,\n  0.5305837581157684,\n  0.5319701801538467,\n  0.5333556032180785,\n  0.5347415311336516,\n  0.5361279551982878,\n  0.5375142554044722,\n  0.5389013694524764,\n  0.5402865428924559,\n  0.5416728510856628,\n  0.5430588653087616,\n  0.5444443709850311,\n  0.5458305611610412,\n  0.5472169100046157,\n  0.5486029628515242,\n  0.5499896297454833,\n  0.5513757336139677,\n  0.552760267138481,\n  0.5541464473009109,\n  0.5555332388877868,\n  0.5569193291664123,\n  0.5583053191900252,\n  0.5596914583444594,\n  0.5610779606103896,\n  0.5624642859697341,\n  0.5638514736890792,\n  0.5652379657030104,\n  0.5666236330270766,\n  0.5680098348855971,\n  0.5693956955671309,\n  0.5707810746431349,\n  0.5721673165559766,\n  0.5735534836053846,\n  0.5749390088319776,\n  0.5763249841928479,\n  0.5777113920450208,\n  0.5790972892045971,\n  0.5804832876920697,\n  0.5818688400983807,\n  0.5832535814046856,\n  0.5846389582157132,\n  0.5860246363878248,\n  0.5874108911752698,\n  0.5887968871593472,\n  0.5901829171180721,\n  0.5915691355466839,\n  0.5929558814764019,\n  0.5943418673276897,\n  0.5957274972200389,\n  0.5971130760908122,\n  0.5984989029169078,\n  0.599885728001594,\n  0.6012727771997446,\n  0.6026581858396525,\n  0.6040441516637797,\n  0.6054312289953226,\n  0.606816675305366,\n  0.6082036817073817,\n  0.6095882787704463,\n  0.6109738095998759,\n  0.6123599866628642,\n  0.6137457572221751,\n  0.6151314278841014,\n  0.6165178078413005,\n  0.6179036164283748,\n  0.619290182113647,\n  0.6206759072542185,\n  0.6220620845556254,\n  0.6234480293989176,\n  0.6248343125581736,\n  0.6262202469110483,\n  0.6276066789627069,\n  0.6289921241998667,\n  0.6303782376050944,\n  0.6317646229267115,\n  0.6331503179073329,\n  0.6345372209548945,\n  0.6359234008789058,\n  0.6373090243339533,\n  0.6386955714225764,\n  0.6400815229415888,\n  0.6414672583341593,\n  0.6428529154062266,\n  0.6442399399280543,\n  0.6456252624988551,\n  0.6470116724967951,\n  0.6483973257541651,\n  0.649782547473907,\n  0.6511686098575586,\n  0.6525535238981242,\n  0.6539393608570093,\n  0.6553258013725275,\n  0.6567124657630915,\n  0.6580984101295466,\n  0.6594850723743434,\n  0.6608714318275447,\n  0.6622578696012492,\n  0.6636437069177623,\n  0.6650302160978313,\n  0.6664160150289531,\n  0.6678021671771999,\n  0.6691875231266017,\n  0.6705740311145778,\n  0.6719600011110302,\n  0.673345665812492,\n  0.6747303763628002,\n  0.6761163145303722,\n  0.6775020939111706,\n  0.6788884081840512,\n  0.6802747581005093,\n  0.6816604889631268,\n  0.6830459796190259,\n  0.6844317173957822,\n  0.6858172681331632,\n  0.6872042183876036,\n  0.688590059995651,\n  0.6899755125045774,\n  0.6913613009452818,\n  ...],\n [0.0013322874307632447,\n  0.0026644859313964845,\n  0.003996958255767822,\n  0.005329424262046814,\n  0.006661903381347657,\n  0.007994516611099244,\n  0.009327449917793275,\n  0.010660458564758302,\n  0.011993461489677431,\n  0.01332639229297638,\n  0.014659584879875185,\n  0.015992786526679993,\n  0.01732622253894806,\n  0.018659611225128173,\n  0.019993108510971067,\n  0.02132674419879913,\n  0.022660585284233092,\n  0.023994314432144163,\n  0.02532842457294464,\n  0.026662588238716124,\n  0.027996646523475645,\n  0.02933097720146179,\n  0.03066527414321899,\n  0.031999707698822016,\n  0.0333341349363327,\n  0.03466885137557983,\n  0.036003700017929074,\n  0.037338576912879944,\n  0.038673367738723756,\n  0.040008215069770814,\n  0.04134337615966797,\n  0.042678652644157405,\n  0.04401391494274139,\n  0.04534925091266632,\n  0.046684744000434875,\n  0.04802044320106506,\n  0.04935619056224823,\n  0.05069215774536133,\n  0.05202816224098206,\n  0.05336439442634583,\n  0.05470056426525116,\n  0.05603694260120392,\n  0.057373514771461485,\n  0.05870994985103607,\n  0.060046584248542784,\n  0.06138324892520904,\n  0.06272006452083588,\n  0.0640570056438446,\n  0.06539418363571167,\n  0.06673138129711151,\n  0.06806877505779266,\n  0.06940607845783232,\n  0.07074357521533965,\n  0.07208126425743103,\n  0.07341888689994812,\n  0.07475661921501159,\n  0.07609444642066955,\n  0.07743227088451385,\n  0.07877032005786895,\n  0.08010832798480987,\n  0.08144649016857146,\n  0.08278467750549315,\n  0.08412308025360106,\n  0.08546166753768919,\n  0.08680027270317076,\n  0.0881388119459152,\n  0.08947743022441862,\n  0.09081612169742583,\n  0.0921548192501068,\n  0.09349388754367827,\n  0.09483292925357817,\n  0.09617223048210143,\n  0.09751156604290007,\n  0.09885070681571959,\n  0.1001901031732559,\n  0.10152954542636869,\n  0.10286881422996519,\n  0.10420827615261076,\n  0.10554806733131407,\n  0.10688781750202177,\n  0.1082276813983917,\n  0.10956799006462095,\n  0.11090809142589567,\n  0.11224832069873808,\n  0.11358869755268095,\n  0.1149291567802429,\n  0.11626965236663817,\n  0.11761006093025206,\n  0.1189507323503494,\n  0.12029171442985533,\n  0.12163272368907926,\n  0.12297361671924589,\n  0.12431469106674192,\n  0.12565585458278655,\n  0.12699706029891966,\n  0.12833833372592923,\n  0.12967969429492948,\n  0.13102124643325802,\n  0.1323628212213516,\n  0.13370447349548337,\n  0.13504626917839047,\n  0.13638822317123409,\n  0.1377300951480865,\n  0.13907222819328305,\n  0.1404143699407577,\n  0.14175661718845362,\n  0.1430988992452621,\n  0.14444119834899896,\n  0.14578373253345484,\n  0.14712643921375268,\n  0.14846917080879204,\n  0.14981189727783195,\n  0.15115481197834008,\n  0.15249780797958368,\n  0.15384103691577905,\n  0.15518409872055047,\n  0.15652738606929772,\n  0.15787064325809472,\n  0.15921405565738672,\n  0.16055742752552027,\n  0.16190113353729244,\n  0.16324495768547054,\n  0.1645887104272842,\n  0.16593267166614528,\n  0.16727659296989436,\n  0.16862050390243524,\n  0.16996475720405574,\n  0.17130886447429652,\n  0.1726531941890716,\n  0.17399739181995386,\n  0.17534194815158838,\n  0.17668648099899287,\n  0.17803103566169734,\n  0.1793757374286651,\n  0.18072063481807704,\n  0.1820657622814178,\n  0.18341075956821437,\n  0.18475588691234585,\n  0.1861009917259216,\n  0.18744631230831144,\n  0.18879183816909786,\n  0.19013721704483028,\n  0.19148252201080318,\n  0.19282815396785732,\n  0.19417378938198085,\n  0.19551961231231685,\n  0.19686543571949,\n  0.1982113682031631,\n  0.19955721759796138,\n  0.20090335714817043,\n  0.20224967598915095,\n  0.20359598720073693,\n  0.20494246280193323,\n  0.20628888928890224,\n  0.20763535571098324,\n  0.2089820413589477,\n  0.21032869422435757,\n  0.21167537307739254,\n  0.21302228283882138,\n  0.21436901915073392,\n  0.21571603298187253,\n  0.21706311428546904,\n  0.218410343170166,\n  0.2197577928304672,\n  0.22110505628585814,\n  0.22245259928703306,\n  0.22380010557174682,\n  0.22514779174327848,\n  0.22649538421630858,\n  0.22784316694736478,\n  0.229190905213356,\n  0.23053875482082364,\n  0.2318866748809814,\n  0.23323470366001126,\n  0.23458296334743498,\n  0.23593108487129208,\n  0.2372793673276901,\n  0.23862782573699948,\n  0.23997622489929196,\n  0.24132461869716643,\n  0.2426730132102966,\n  0.24402155852317808,\n  0.24537022137641906,\n  0.24671902406215668,\n  0.24806769275665283,\n  0.24941677081584931,\n  0.250765859246254,\n  0.25211511099338535,\n  0.25346442604064945,\n  0.25481390678882604,\n  0.25616333806514746,\n  0.25751248097419743,\n  0.25886183464527135,\n  0.2602114162445069,\n  0.26156094634532934,\n  0.26291058516502386,\n  0.2642603294849396,\n  0.26561027181148533,\n  0.2669601619243622,\n  0.26831006193161017,\n  0.26966003239154823,\n  0.2710099525451661,\n  0.27236022853851327,\n  0.2737106248140336,\n  0.2750609695911408,\n  0.27641135060787203,\n  0.27776181781291964,\n  0.2791125054359436,\n  0.28046313107013704,\n  0.281813920378685,\n  0.28316461896896367,\n  0.28451541268825536,\n  0.2858663380146027,\n  0.28721739256381995,\n  0.288568481206894,\n  0.28991961324214943,\n  0.291270711183548,\n  0.29262196302413945,\n  0.2939734361171723,\n  0.29532491731643684,\n  0.2966762831211091,\n  0.29802796220779426,\n  0.29937957084178934,\n  0.3007314180135728,\n  0.30208300924301157,\n  0.3034349718093873,\n  0.3047868156433106,\n  0.3061388927698136,\n  0.30749093854427345,\n  0.3088428622484208,\n  0.3101949402093888,\n  0.3115472929477692,\n  0.3128996797800065,\n  0.3142521046400071,\n  0.3156047415733338,\n  0.31695730257034305,\n  0.31830978775024416,\n  0.31966224002838134,\n  0.3210150042772293,\n  0.3223676971197128,\n  0.3237205156087875,\n  0.32507333958148954,\n  0.3264265378713608,\n  0.32777961587905885,\n  0.3291328823566437,\n  0.33048606717586515,\n  0.33183948957920073,\n  0.33319284403324123,\n  0.3345461690425872,\n  0.33589967262744896,\n  0.33725323748588554,\n  0.33860676300525655,\n  0.3399603353738784,\n  0.341314071536064,\n  0.34266769194602953,\n  0.3440215240716933,\n  0.3453752961158751,\n  0.34672928190231306,\n  0.34808333611488324,\n  0.34943741321563704,\n  0.35079165744781476,\n  0.3521458039283751,\n  0.35349994921684247,\n  0.3548541319370268,\n  0.35620847201347333,\n  0.3575628538131712,\n  0.3589173929691313,\n  0.36027202296257,\n  0.3616269016265867,\n  0.3629816211462019,\n  0.36433652138710004,\n  0.3656914612054823,\n  0.36704636883735636,\n  0.3684015347957609,\n  0.36975647330284095,\n  0.37111149334907506,\n  0.3724668074846265,\n  0.37382201898097966,\n  0.3751774890422819,\n  0.37653318941593145,\n  0.37788855290412876,\n  0.3792440807819364,\n  0.380599666714668,\n  0.3819554530382154,\n  0.3833112400770185,\n  0.3846669244766233,\n  0.3860227564573286,\n  0.38737894535064676,\n  0.3887351164817808,\n  0.39009116375446296,\n  0.39144737160205817,\n  0.39280362403392766,\n  0.3941598919630048,\n  0.39551627981662724,\n  0.39687271606922125,\n  0.3982292608022687,\n  0.39958599340915657,\n  0.40094272637367223,\n  0.40229941439628575,\n  0.4036560326814649,\n  0.4050126452445981,\n  0.40636947393417333,\n  0.40772631287574745,\n  0.40908331143856025,\n  0.4104402606487272,\n  0.41179737961292245,\n  0.41315436375141124,\n  0.41451140880584697,\n  0.41586879909038527,\n  0.4172262376546858,\n  0.41858359062671646,\n  0.4199411444664,\n  0.42129841649532307,\n  0.42265574288368213,\n  0.4240131468772887,\n  0.42537079656124105,\n  0.42672840821743,\n  0.4280858026742934,\n  0.42944356060028066,\n  0.4308013080358504,\n  0.4321592196226119,\n  0.4335171219110488,\n  0.4348751791715621,\n  0.43623295927047717,\n  0.4375909323692321,\n  0.43894917106628406,\n  0.4403074402809142,\n  0.44166563904285416,\n  0.4430238931179045,\n  0.4443822035789488,\n  0.44574052512645707,\n  0.4470989851951598,\n  0.44845741021633134,\n  0.449815957546234,\n  0.4511742676496504,\n  0.4525329173803328,\n  0.45389161455631244,\n  0.4552503852844237,\n  0.4566091616153716,\n  0.4579679681062697,\n  0.4593269119262694,\n  0.46068590092658984,\n  0.4620447174310683,\n  0.4634038484096526,\n  0.46476280283927907,\n  0.4661219227313994,\n  0.4674812567234038,\n  0.46884058332443224,\n  0.4701996436119078,\n  0.4715589568614958,\n  0.4729185529947279,\n  0.4742779409885405,\n  0.47563744962215404,\n  0.4769968943595884,\n  0.4783562978506086,\n  0.479715915083885,\n  0.48107543432712535,\n  0.4824351202249525,\n  0.48379467225074746,\n  0.48515454006195047,\n  0.48651435232162454,\n  0.4878745092153547,\n  0.4892344064712522,\n  0.4905945457220075,\n  0.49195460474491093,\n  0.4933149931430814,\n  0.49467526221275304,\n  0.4960355569124219,\n  0.4973957921266553,\n  0.49875616633892034,\n  0.5001165003776548,\n  0.5014769120216367,\n  0.5028371881246564,\n  0.5041975919008252,\n  0.5055580101013181,\n  0.506918366551399,\n  0.5082789696454999,\n  0.5096394569873807,\n  0.5110001103878018,\n  0.5123607435226437,\n  0.5137215049266812,\n  0.5150823411941525,\n  0.5164432121515271,\n  0.5178040602207181,\n  0.5191651015281674,\n  0.5205261313915249,\n  0.5218872497081753,\n  0.5232482949495313,\n  0.5246093748807904,\n  0.5259706398248669,\n  0.5273317606449124,\n  0.5286929792165753,\n  0.5300542095899579,\n  0.5314155247211453,\n  0.5327767862081524,\n  0.5341383143663403,\n  0.5355000046491619,\n  0.5368615682125087,\n  0.5382229299545284,\n  0.5395844553709026,\n  0.5409462968111034,\n  0.5423078761100765,\n  0.5436695154905314,\n  0.545031371235847,\n  0.5463930848836894,\n  0.5477548284530636,\n  0.5491165802478786,\n  0.5504783326387401,\n  0.5518401979207989,\n  0.5532020727396008,\n  0.5545641438961025,\n  0.555926082372665,\n  0.5572881182432171,\n  0.5586502146720883,\n  0.5600124714374539,\n  0.5613747081756588,\n  0.5627370018959041,\n  0.5640993702411647,\n  0.565461890339851,\n  0.5668242158889766,\n  0.568186620354652,\n  0.5695491447448726,\n  0.5709117128849025,\n  0.5722744133472438,\n  0.5736367424726482,\n  0.5749991449117656,\n  0.5763618377447124,\n  0.5777245250940318,\n  0.5790872385501857,\n  0.5804501589536663,\n  0.5818131098747249,\n  0.5831760886907573,\n  0.5845390226840969,\n  0.5859020982980724,\n  0.5872650222778316,\n  0.5886281030178065,\n  0.5899911584854122,\n  0.5913542561531062,\n  0.5927173476219173,\n  0.5940807429552074,\n  0.5954439127445217,\n  0.5968072613477703,\n  0.5981705269813533,\n  0.599533854603767,\n  0.6008973354101177,\n  0.60226088809967,\n  0.6036245534420009,\n  0.6049881205558773,\n  0.6063518033027645,\n  0.6077155315876003,\n  0.6090791950225826,\n  0.6104431250095363,\n  0.6118069175481793,\n  0.6131708204746243,\n  0.6145346118211743,\n  0.6158986433744428,\n  0.6172624818086622,\n  0.6186265467405316,\n  0.6199905124902723,\n  0.6213544878959654,\n  0.6227184630632399,\n  0.6240825073719023,\n  0.6254465190172194,\n  0.6268107427358626,\n  0.628174880504608,\n  0.6295391455888747,\n  0.6309035843610762,\n  0.632268039703369,\n  0.6336325486898421,\n  0.6349970264434813,\n  0.6363614615201949,\n  0.6377260460853575,\n  0.6390902788639068,\n  0.6404547350406646,\n  0.6418192850351333,\n  0.6431839900016784,\n  0.644548403739929,\n  0.6459131524562834,\n  0.6472780083417892,\n  0.6486427159309387,\n  0.6500075861215591,\n  0.6513722511529921,\n  0.6527370904684066,\n  0.6541020404100417,\n  0.6554670890569686,\n  0.6568322328329086,\n  0.6581974165439606,\n  0.6595625137090683,\n  0.6609276772737502,\n  0.6622929929494857,\n  0.6636582769155502,\n  0.6650237563848496,\n  0.6663888816833496,\n  0.6677545156478882,\n  0.6691201232671738,\n  0.6704856323003769,\n  0.6718510154485703,\n  0.6732164111137391,\n  0.6745821214914323,\n  0.6759480072259904,\n  0.6773137040138245,\n  0.0013658899068832399,\n  0.0027316102981567386,\n  0.004097511887550354,\n  0.0054631148576736455,\n  0.006829111099243165,\n  0.008195049047470093,\n  0.009561084032058716,\n  0.010927080392837525,\n  0.012293102622032166,\n  0.013659146666526794,\n  0.01502531361579895,\n  0.01639143908023834,\n  0.017757521986961365,\n  0.019124054670333863,\n  0.020490385413169863,\n  0.02185652053356171,\n  0.023222673535346988,\n  0.024589009642601016,\n  0.025955743193626406,\n  0.02732217693328858,\n  0.028688633084297185,\n  0.03005550634860993,\n  0.031422280907630926,\n  0.03278891861438752,\n  0.03415568017959596,\n  0.03552235245704652,\n  0.03688923156261445,\n  0.03825622940063477,\n  0.03962333393096924,\n  0.04099031853675843,\n  0.04235742962360382,\n  0.04372436845302582,\n  0.04509154748916626,\n  0.04645856297016144,\n  0.047825718998909,\n  0.049192919015884407,\n  0.050560250639915476,\n  0.051927738547325145,\n  0.05329523503780366,\n  0.05466250252723695,\n  0.05602972531318666,\n  0.05739698755741121,\n  0.05876461625099184,\n  0.06013209307193758,\n  0.061499655008316056,\n  0.06286725997924807,\n  0.06423483359813692,\n  0.0656025415658951,\n  0.06697013723850252,\n  0.0683374584913254,\n  0.06970515429973605,\n  0.07107273614406588,\n  0.07244056630134585,\n  0.07380840682983401,\n  0.07517629599571231,\n  0.07654439878463748,\n  0.07791239786148074,\n  0.07928047263622287,\n  0.0806484298706055,\n  0.08201648604869846,\n  0.0833844499588013,\n  0.08475277495384219,\n  0.08612111473083499,\n  0.08748918211460116,\n  0.08885734999179842,\n  0.09022541892528536,\n  0.09159353291988376,\n  0.09296191418170932,\n  0.09433015739917758,\n  0.09569846808910372,\n  0.09706689107418062,\n  0.09843528985977175,\n  0.09980382239818575,\n  0.10117250120639804,\n  0.10254112529754641,\n  0.10390956962108615,\n  0.10527833831310275,\n  0.10664698827266696,\n  0.10801555347442629,\n  0.10938424503803255,\n  0.11075293314456942,\n  0.11212173485755923,\n  0.11349042582511905,\n  0.11485914993286135,\n  0.11622804260253909,\n  0.11759714376926425,\n  0.11896614742279056,\n  0.1203349349498749,\n  0.1217039124965668,\n  0.12307288396358493,\n  0.12444196116924289,\n  0.12581121993064884,\n  0.12718021082878117,\n  0.12854924333095555,\n  0.12991814661026005,\n  0.13128743481636052,\n  0.1326567239761353,\n  0.13402608513832096,\n  0.1353954808712006,\n  0.13676470279693606,\n  0.13813389444351198,\n  0.13950325226783755,\n  0.14087242615222934,\n  0.14224178659915926,\n  0.14361140990257265,\n  0.14498065400123597,\n  0.14634999489784242,\n  0.14771950614452364,\n  0.1490886676311493,\n  0.1504582444429398,\n  0.15182804381847384,\n  0.15319734823703768,\n  0.1545669006109238,\n  0.15593657553195955,\n  0.1573059837818146,\n  0.15867558789253236,\n  0.16004527521133424,\n  0.1614147849082947,\n  0.16278440356254578,\n  0.16415407025814058,\n  0.1655237616300583,\n  0.16689341068267824,\n  0.1682629133462906,\n  0.16963242053985597,\n  0.17100224518775942,\n  0.1723722497224808,\n  0.1737422938346863,\n  0.17511205375194552,\n  0.17648181390762332,\n  0.1778517727851868,\n  0.17922187864780428,\n  0.18059167265892032,\n  0.18196154618263247,\n  0.18333135867118838,\n  0.1847014232873917,\n  0.1860717070102692,\n  0.1874417110681534,\n  0.1888117904663086,\n  0.190181768655777,\n  0.19155176758766176,\n  0.19292179715633395,\n  0.19429177320003513,\n  0.19566195380687718,\n  0.19703210186958317,\n  0.19840209865570071,\n  0.1997722288370133,\n  0.20114235115051274,\n  0.2025124561786652,\n  0.2038826211690903,\n  0.20525284624099735,\n  0.206623321056366,\n  0.20799365091323854,\n  0.2093639485836029,\n  0.21073454892635346,\n  0.2121051106452942,\n  0.2134753065109253,\n  0.21484569787979127,\n  0.2162162847518921,\n  0.21758678901195527,\n  0.2189571717977524,\n  0.22032762742042544,\n  0.22169804251194003,\n  0.22306830549240114,\n  0.2244386010169983,\n  0.2258093345165253,\n  0.22717983984947207,\n  0.22855052161216738,\n  0.22992081344127657,\n  0.23129160380363467,\n  0.23266229069232944,\n  0.2340329412221909,\n  0.23540389978885654,\n  0.2367746723890305,\n  0.23814537668228153,\n  0.23951617503166203,\n  0.24088675487041478,\n  0.24225780582427983,\n  0.24362854921817784,\n  0.24499901306629185,\n  0.246369992017746,\n  0.24774071347713475,\n  0.2491118021011353,\n  0.2504828811883927,\n  0.25185379326343543,\n  0.2532247767448426,\n  0.25459562706947336,\n  0.25596662926673897,\n  0.25733795893192296,\n  0.25870830678939827,\n  0.26007946455478675,\n  0.26145033729076395,\n  0.2628213516473771,\n  0.26419219470024113,\n  0.26556313157081607,\n  0.2669344221353531,\n  0.26830563211441044,\n  0.2696767811775208,\n  0.27104793488979345,\n  0.2724191006422043,\n  0.2737900986671448,\n  0.2751612315177918,\n  0.27653264904022223,\n  0.2779040932655335,\n  0.27927528798580176,\n  0.28064635229110724,\n  0.28201741576194767,\n  0.28338852202892306,\n  0.2847598226070404,\n  0.28613099694252014,\n  0.28750225400924684,\n  0.28887330222129826,\n  0.2902445590496064,\n  0.2916158368587495,\n  0.29298723399639137,\n  0.2943584790229798,\n  0.2957298599481583,\n  0.29710131835937503,\n  0.29847266399860384,\n  0.2998441389799118,\n  0.3012155649662018,\n  0.30258721125125887,\n  0.30395876967906954,\n  0.305330291390419,\n  0.30670184290409086,\n  0.3080730477571487,\n  0.3094446210861206,\n  0.31081615197658535,\n  0.31218752264976496,\n  0.3135589070320129,\n  0.31493048942089075,\n  0.316302331328392,\n  0.31767395770549767,\n  0.3190457845926284,\n  0.3204172275066375,\n  0.3217889721393584,\n  0.3231607881784438,\n  0.32453228497505177,\n  0.32590396046638476,\n  0.327275643467903,\n  0.32864736211299883,\n  0.33001888132095325,\n  0.3313905931711196,\n  0.3327620928287505,\n  0.3341337205171584,\n  0.33550538146495806,\n  0.33687703883647907,\n  0.3382490528821944,\n  0.33962104308605184,\n  0.34099265563487996,\n  0.34236444306373587,\n  0.34373621594905845,\n  0.34510794889926905,\n  0.3464798083305358,\n  0.3478515056371688,\n  0.3492231038808822,\n  0.35059497594833366,\n  0.35196683633327475,\n  0.35333890652656547,\n  0.35471047186851495,\n  0.3560823581218719,\n  0.3574543150663375,\n  0.3588263537883758,\n  0.3601986882686614,\n  0.36157077622413625,\n  0.3629429278373717,\n  0.3643150483369826,\n  0.36568715775012955,\n  0.3670591547489165,\n  0.36843138980865464,\n  0.3698035252094267,\n  0.37117550528049453,\n  0.37254747509956343,\n  0.3739196573495863,\n  0.3752916647195814,\n  0.3766640489101408,\n  0.37803603470325453,\n  0.3794079147577284,\n  0.3807805078029631,\n  0.38215284359455093,\n  0.3835247695446013,\n  0.3848969383239745,\n  0.38626893270015705,\n  0.3876408976316451,\n  0.38901325106620777,\n  0.39038554489612565,\n  0.3917578564882277,\n  0.3931303257942198,\n  0.39450230455398544,\n  0.3958746787309645,\n  0.3972470532655714,\n  0.39861961805820445,\n  0.39999158680438973,\n  0.40136374902725197,\n  0.4027358716726301,\n  0.40410822916030864,\n  0.4054802842140196,\n  0.4068524466753004,\n  0.40822430777549723,\n  0.40959683167934396,\n  0.4109690021276472,\n  0.4123411319255827,\n  0.41371329569816573,\n  0.4150857408046721,\n  0.41645813870429976,\n  0.41783021116256697,\n  0.4192025158405302,\n  0.4205745762586592,\n  0.42194721150398234,\n  0.42331943905353525,\n  0.4246919169425962,\n  0.42606423556804635,\n  0.42743657147884345,\n  0.42880904126167274,\n  0.43018161094188667,\n  0.43155401086807227,\n  0.43292635619640324,\n  0.4342988263368604,\n  0.43567096555232976,\n  0.4370434937477109,\n  0.4384158422946927,\n  0.4397883759737012,\n  0.4411609095335004,\n  0.4425335583686826,\n  0.4439060356616971,\n  0.4452791098356244,\n  0.4466522516012189,\n  0.44802480864524813,\n  0.44939747762680027,\n  0.45077023577690095,\n  0.45214293003082245,\n  0.45351527881622283,\n  0.45488777005672426,\n  0.4562604080438611,\n  0.45763285636901824,\n  0.4590055041313168,\n  0.4603783092498776,\n  0.4617508314847943,\n  0.46312334048747983,\n  0.46449573242664305,\n  0.4658683580160138,\n  0.4672410541772839,\n  0.4686137895584103,\n  0.4699866998195645,\n  0.4713595290184018,\n  0.4727321901321408,\n  0.47410499298572506,\n  0.47547759616374935,\n  0.4768502974510189,\n  0.4782232358455654,\n  0.479596124053001,\n  0.48096876752376516,\n  0.4823415278196331,\n  0.48371476781368217,\n  0.4850877436399456,\n  0.4864604930877682,\n  0.4878331532478329,\n  0.4892060720920559,\n  0.49057910799980126,\n  0.4919518636465069,\n  0.49332455956935845,\n  0.49469732177257497,\n  0.49607056975364644,\n  0.4974435720443722,\n  0.49881677341461145,\n  0.5001895796060558,\n  0.5015626357793804,\n  0.5029358983039852,\n  0.5043087350130078,\n  0.505682070612907,\n  0.5070550396442409,\n  0.5084277669191356,\n  0.5098010184764857,\n  0.5111739478111262,\n  0.5125471718311305,\n  0.5139202908277507,\n  0.5152933446168895,\n  0.5166666733026499,\n  0.5180398080348964,\n  0.5194127837419505,\n  0.5207862082719799,\n  0.5221590054035182,\n  0.5235319207906719,\n  0.5249048135280605,\n  0.5262780497074123,\n  0.5276513499021526,\n  0.5290245374441143,\n  0.5303976955413814,\n  0.5317707943916317,\n  0.5331437704563137,\n  0.5345167560577389,\n  0.5358903299570079,\n  0.537264005541801,\n  0.538637381792068,\n  0.5400105768442149,\n  0.5413838716745372,\n  0.5427569876909251,\n  0.5441303769350047,\n  0.5455039350986476,\n  0.5468768730163569,\n  0.5482499796152109,\n  0.5496232314109797,\n  0.550996493339538,\n  0.552370164752006,\n  0.5537433216571802,\n  0.5551162643432611,\n  0.5564895560741419,\n  0.557863085508346,\n  0.5592364583015436,\n  0.5606097203493112,\n  0.5619831683635705,\n  0.5633567425012582,\n  0.5647301604747766,\n  0.5661035524606699,\n  0.567477079391479,\n  0.5688504291772837,\n  0.5702238880395883,\n  0.5715976141691202,\n  0.5729712592363352,\n  0.5743447682857508,\n  0.5757183367013925,\n  0.577091953992843,\n  0.5784655923843377,\n  0.5798392617702477,\n  0.5812128165960305,\n  0.5825861343145364,\n  0.5839598410129541,\n  0.5853334674835199,\n  0.5867072135210031,\n  0.5880809749364847,\n  0.5894550275802607,\n  0.5908287453651423,\n  0.5922031682729716,\n  0.5935769774913783,\n  0.5949507198333736,\n  0.5963243873119349,\n  0.5976986041069026,\n  0.5990720961093897,\n  0.6004457595348353,\n  0.6018193122148509,\n  0.6031930397748941,\n  0.6045668399333948,\n  0.6059403926134104,\n  0.6073142297267908,\n  0.6086878669261927,\n  0.610061760783195,\n  0.6114354982376093,\n  0.6128091235160822,\n  0.6141828365325922,\n  0.6155569561719889,\n  0.6169307949542994,\n  0.6183049138784403,\n  0.6196784424781794,\n  0.6210521363019937,\n  0.622425972104072,\n  0.6238002793788905,\n  0.6251740920543666,\n  0.6265481299161906,\n  0.6279220335483546,\n  0.6292957305908199,\n  0.6306697486639019,\n  0.632043835520744,\n  0.6334178155660626,\n  0.6347915046215054,\n  0.636165660858154,\n  0.6375396336317058,\n  0.6389136284589764,\n  0.6402882580757138,\n  0.6416623711585995,\n  0.643036470174789,\n  0.6444108167886731,\n  0.6457853446006772,\n  0.6471596062183377,\n  0.6485337486267087,\n  0.64990797150135,\n  0.6512823497056958,\n  0.6526567593812939,\n  0.6540313198566433,\n  0.6554052176475521,\n  0.6567793947458264,\n  0.6581537171602245,\n  0.6595278277397152,\n  0.6609023876190182,\n  0.6622769873142239,\n  0.6636515209674831,\n  0.665025705337524,\n  0.6664000942707058,\n  0.6677746292352672,\n  0.6691490933895107,\n  0.6705236282348629,\n  0.6718980524539944,\n  0.6732724692821499,\n  0.6746465518474575,\n  0.6760210232734676,\n  0.6773953688144679,\n  0.6787696267366404,\n  0.6801445455551143,\n  0.6815190192461009,\n  0.682893242001533,\n  0.6842680605649943,\n  ...])"
     },
     "execution_count": 16,
     "metadata": {},
     "output_type": "execute_result"
    }
   ],
   "source": [
    "Training(gen, disc, criterion, z_dim, n_epochs,\n",
    "         my_dataloader, device, disc_opt, gen_opt,\n",
    "         cur_step, display_step, mean_discriminator_loss,\n",
    "         mean_generator_loss)"
   ],
   "metadata": {
    "collapsed": false,
    "pycharm": {
     "name": "#%%\n"
    }
   }
  },
  {
   "cell_type": "code",
   "execution_count": 17,
   "outputs": [],
   "source": [
    "# save the model\n",
    "torch.save({'gen_state_dict': gen.state_dict()}, 'gan_gen_scalar_random.pth.tar')\n",
    "torch.save({'disc_state_dict': disc.state_dict()}, 'gan_disc_scalar_random.pth.tar')"
   ],
   "metadata": {
    "collapsed": false,
    "pycharm": {
     "name": "#%%\n"
    }
   }
  },
  {
   "cell_type": "code",
   "execution_count": 18,
   "outputs": [
    {
     "data": {
      "text/plain": "<All keys matched successfully>"
     },
     "execution_count": 18,
     "metadata": {},
     "output_type": "execute_result"
    }
   ],
   "source": [
    "# load the model\n",
    "# create a new model, same structure as the previous one\n",
    "gen_model = Generator(z_dim, im_dim=15, hidden_dim=16).to(device)\n",
    "crit_model = Discriminator(im_dim=15, hidden_dim=16).to(device)\n",
    "# get the state from stored file\n",
    "gen_checkpoint = torch.load('gan_gen_scalar_random.pth.tar')\n",
    "crit_chechpoint = torch.load('gan_disc_scalar_random.pth.tar')\n",
    "# load the state to the new model\n",
    "gen_model.load_state_dict(gen_checkpoint['gen_state_dict'])\n",
    "crit_model.load_state_dict(crit_chechpoint['disc_state_dict'])"
   ],
   "metadata": {
    "collapsed": false,
    "pycharm": {
     "name": "#%%\n"
    }
   }
  },
  {
   "cell_type": "code",
   "execution_count": 27,
   "outputs": [
    {
     "data": {
      "text/plain": "<AxesSubplot:ylabel='Count'>"
     },
     "execution_count": 27,
     "metadata": {},
     "output_type": "execute_result"
    },
    {
     "data": {
      "text/plain": "<Figure size 432x288 with 1 Axes>",
      "image/png": "[encoded data removed]"
     },
     "metadata": {
      "needs_background": "light"
     },
     "output_type": "display_data"
    }
   ],
   "source": [
    "# check the output\n",
    "before_training = test_nn.check_output(gen, 1000, 16, 8, 15)\n",
    "sns.histplot(data=before_training, kde=True, color=\"y\")\n",
    "after_training = test_nn.check_output(gen_model, 1000, 16, 8, 15)\n",
    "sns.histplot(data=after_training, kde=True, color='blue')"
   ],
   "metadata": {
    "collapsed": false,
    "pycharm": {
     "name": "#%%\n"
    }
   }
  },
  {
   "cell_type": "code",
   "execution_count": null,
   "outputs": [],
   "source": [],
   "metadata": {
    "collapsed": false,
    "pycharm": {
     "name": "#%%\n"
    }
   }
  }
 ],
 "metadata": {
  "kernelspec": {
   "display_name": "Python 3",
   "language": "python",
   "name": "python3"
  },
  "language_info": {
   "codemirror_mode": {
    "name": "ipython",
    "version": 2
   },
   "file_extension": ".py",
   "mimetype": "text/x-python",
   "name": "python",
   "nbconvert_exporter": "python",
   "pygments_lexer": "ipython2",
   "version": "2.7.6"
  }
 },
 "nbformat": 4,
 "nbformat_minor": 0
}
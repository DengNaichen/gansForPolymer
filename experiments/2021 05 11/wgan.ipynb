{
 "cells": [
  {
   "cell_type": "code",
   "execution_count": null,
   "outputs": [],
   "source": [
    "import numpy as np\n",
    "import torch\n",
    "from torch.utils.data import TensorDataset, DataLoader\n",
    "from torch import nn\n",
    "import seaborn as sns\n",
    "import matplotlib.pyplot as plt\n",
    "\n",
    "import res.fnn.training as training\n",
    "import res.fnn.functions as func\n",
    "from res.fnn.generator import Generator\n",
    "from res.fnn.discriminator import Discriminator\n",
    "\n",
    "import res.process_data.process_raw_data as prd\n",
    "import res.process_data.dire_and_coor as dc\n",
    "import res.process_data.process_output as out\n",
    "from res.process_data.dataset import tensor_dataset"
   ],
   "metadata": {
    "collapsed": false,
    "pycharm": {
     "name": "#%%\n"
    }
   }
  },
  {
   "cell_type": "code",
   "execution_count": null,
   "outputs": [],
   "source": [
    "# prepare the raw data\n",
    "coordinates_input = prd.read_coordinate(16, '../../data/Coordinates.dat')\n",
    "directions_input = dc.coor_direction_four(coordinates_input)\n",
    "one_hot_vector = dc.one_hot_four(directions_input)"
   ],
   "metadata": {
    "collapsed": false,
    "pycharm": {
     "name": "#%%\n"
    }
   }
  },
  {
   "cell_type": "code",
   "execution_count": null,
   "outputs": [],
   "source": [
    "n_epochs = 5\n",
    "z_dim = 8\n",
    "display_step = 50\n",
    "batch_size = 128\n",
    "lr = 0.0003\n",
    "beta_1 = 0.5\n",
    "beta_2 = 0.999\n",
    "c_lambda = 10\n",
    "disc_repeats = 5\n",
    "device = 'cpu'\n",
    "shuffle = True\n",
    "num_worker = 4\n",
    "pin_memory = True"
   ],
   "metadata": {
    "collapsed": false,
    "pycharm": {
     "name": "#%%\n"
    }
   }
  },
  {
   "cell_type": "code",
   "execution_count": null,
   "outputs": [],
   "source": [
    "input_tensor = torch.Tensor(one_hot_vector)\n",
    "dataset = tensor_dataset(input_tensor, 15, 4)\n",
    "dataloader = DataLoader(dataset= dataset,\n",
    "                            shuffle=shuffle,\n",
    "                            batch_size=batch_size,\n",
    "                            num_workers=num_worker,\n",
    "                            pin_memory=pin_memory)"
   ],
   "metadata": {
    "collapsed": false,
    "pycharm": {
     "name": "#%%\n"
    }
   }
  },
  {
   "cell_type": "code",
   "execution_count": null,
   "outputs": [],
   "source": [
    "gen = Generator(z_dim, im_dim=60, hidden_dim=16).to(device)\n",
    "disc = Discriminator(im_dim=60, hidden_dim=16).to(device)\n",
    "\n",
    "gen_opt = torch.optim.Adam(gen.parameters(), lr=lr, betas=(beta_1, beta_2))\n",
    "disc_opt = torch.optim.Adam(disc.parameters(), lr=lr, betas=(beta_1, beta_2))"
   ],
   "metadata": {
    "collapsed": false,
    "pycharm": {
     "name": "#%%\n"
    }
   }
  },
  {
   "cell_type": "code",
   "execution_count": null,
   "outputs": [],
   "source": [
    "training.training_wloss(n_epochs, dataloader, device, disc_repeats, gen, gen_opt,\n",
    "                   disc, disc_opt, z_dim, c_lambda, display_step)"
   ],
   "metadata": {
    "collapsed": false,
    "pycharm": {
     "name": "#%%\n"
    }
   }
  },
  {
   "cell_type": "code",
   "execution_count": null,
   "outputs": [],
   "source": [
    "out.process_model('test', n_epochs, gen, disc, z_dim, 60, 16, 'onehot', coordinates_input)\n",
    "\n",
    "\n"
   ],
   "metadata": {
    "collapsed": false,
    "pycharm": {
     "name": "#%%\n"
    }
   }
  }
 ],
 "metadata": {
  "kernelspec": {
   "name": "python3",
   "language": "python",
   "display_name": "Python 3"
  },
  "language_info": {
   "codemirror_mode": {
    "name": "ipython",
    "version": 2
   },
   "file_extension": ".py",
   "mimetype": "text/x-python",
   "name": "python",
   "nbconvert_exporter": "python",
   "pygments_lexer": "ipython2",
   "version": "3.8.3"
  }
 },
 "nbformat": 4,
 "nbformat_minor": 0
}
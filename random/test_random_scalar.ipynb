{
 "cells": [
  {
   "cell_type": "code",
   "execution_count": 7,
   "metadata": {
    "collapsed": true
   },
   "outputs": [],
   "source": [
    "import numpy as np\n",
    "import seaborn as sns\n",
    "import torch\n",
    "from torch.utils.data import TensorDataset, DataLoader\n",
    "\n",
    "import res.process_data.process_output as out\n",
    "from res.wgan.training import Training\n",
    "from res.wgan.functions import get_noise\n",
    "from res.process_data.dataset import tensor_dataset\n",
    "from res.wgan.training import Training\n",
    "from res.wgan.critic import Critic\n",
    "import res.process_data.process_output as out\n",
    "from res.wgan.genetator import Generator\n",
    "import res.process_data.test_nn as test_nn\n",
    "\n",
    "# write random datasets"
   ]
  },
  {
   "cell_type": "code",
   "execution_count": 2,
   "outputs": [
    {
     "data": {
      "text/plain": "<AxesSubplot:ylabel='Count'>"
     },
     "execution_count": 2,
     "metadata": {},
     "output_type": "execute_result"
    },
    {
     "data": {
      "text/plain": "<Figure size 432x288 with 1 Axes>",
      "image/png": "[encoded data removed]"
     },
     "metadata": {
      "needs_background": "light"
     },
     "output_type": "display_data"
    }
   ],
   "source": [
    "# for scalar\n",
    "scalar_random = np.random.rand(100000, 15, 1)\n",
    "sns.histplot(data=((scalar_random).reshape(15 * 100000)))\n",
    "# for one hot vector\n",
    "one_hot_random = np.random.rand(100000, 15, 4)\n",
    "sns.histplot(data=((one_hot_random).reshape(15 * 100000 * 4)))"
   ],
   "metadata": {
    "collapsed": false,
    "pycharm": {
     "name": "#%%\n"
    }
   }
  },
  {
   "cell_type": "code",
   "execution_count": 3,
   "outputs": [],
   "source": [
    "n_epochs = 20\n",
    "z_dim = 8\n",
    "display_step = 50\n",
    "batch_size = 128\n",
    "lr = 0.0003\n",
    "beta_1 = 0.5\n",
    "beta_2 = 0.999\n",
    "c_lambda = 10\n",
    "crit_repeats = 5\n",
    "device = 'cpu'\n",
    "shuffle = True\n",
    "num_worker = 4\n",
    "pin_memory = True"
   ],
   "metadata": {
    "collapsed": false,
    "pycharm": {
     "name": "#%%\n"
    }
   }
  },
  {
   "cell_type": "code",
   "execution_count": 4,
   "outputs": [],
   "source": [
    "input_tensor = torch.Tensor(scalar_random)\n",
    "dataset = tensor_dataset(input_tensor, 15, 1)\n",
    "dataloader = DataLoader(dataset= dataset,\n",
    "                            shuffle=shuffle,\n",
    "                            batch_size=batch_size,\n",
    "                            num_workers=num_worker,\n",
    "                            pin_memory=pin_memory)"
   ],
   "metadata": {
    "collapsed": false,
    "pycharm": {
     "name": "#%%\n"
    }
   }
  },
  {
   "cell_type": "code",
   "execution_count": 5,
   "outputs": [],
   "source": [
    "gen = Generator(z_dim, im_dim=15, hidden_dim=16).to(device)\n",
    "crit = Critic(im_dim=15, hidden_dim=16).to(device)\n",
    "gen_opt = torch.optim.Adam(gen.parameters(), lr=lr, betas=(beta_1, beta_2))\n",
    "crit_opt = torch.optim.Adam(crit.parameters(), lr=lr, betas=(beta_1, beta_2))"
   ],
   "metadata": {
    "collapsed": false,
    "pycharm": {
     "name": "#%%\n"
    }
   }
  },
  {
   "cell_type": "code",
   "execution_count": 8,
   "outputs": [
    {
     "data": {
      "text/plain": "<AxesSubplot:ylabel='Count'>"
     },
     "execution_count": 8,
     "metadata": {},
     "output_type": "execute_result"
    },
    {
     "data": {
      "text/plain": "<Figure size 432x288 with 1 Axes>",
      "image/png": "[encoded data removed]"
     },
     "metadata": {
      "needs_background": "light"
     },
     "output_type": "display_data"
    }
   ],
   "source": [
    "# check the output of generator before training\n",
    "before_training = test_nn.check_output(gen, 100, 16, 8, 15)\n",
    "sns.histplot(data=before_training, kde=True)"
   ],
   "metadata": {
    "collapsed": false,
    "pycharm": {
     "name": "#%%\n"
    }
   }
  },
  {
   "cell_type": "markdown",
   "source": [
    "Train model"
   ],
   "metadata": {
    "collapsed": false
   }
  },
  {
   "cell_type": "code",
   "execution_count": 9,
   "outputs": [
    {
     "data": {
      "text/plain": "  0%|          | 0/782 [00:00<?, ?it/s]",
      "application/vnd.jupyter.widget-view+json": {
       "version_major": 2,
       "version_minor": 0,
       "model_id": "968576c30ab7431f8d4c4eb5624b1f0a"
      }
     },
     "metadata": {},
     "output_type": "display_data"
    },
    {
     "name": "stdout",
     "output_type": "stream",
     "text": [
      "Step 50: Generator loss: -0.8553186058998108, critic loss: 6.371762336730956\n",
      "Step 100: Generator loss: -1.0786105585098267, critic loss: 6.995898038864134\n",
      "Step 150: Generator loss: -1.9935903477668762, critic loss: 6.4346105613708495\n",
      "Step 200: Generator loss: -3.9499526166915895, critic loss: 5.787077911376953\n",
      "Step 250: Generator loss: -5.005586366653443, critic loss: 5.805804140090943\n",
      "Step 300: Generator loss: -5.127828493118286, critic loss: 5.885743923187256\n",
      "Step 350: Generator loss: -5.186797704696655, critic loss: 5.99878529548645\n",
      "Step 400: Generator loss: -5.321716241836548, critic loss: 5.994237533569335\n",
      "Step 450: Generator loss: -5.388534307479858, critic loss: 6.016683280944825\n",
      "Step 500: Generator loss: -5.430181827545166, critic loss: 6.0184914531707765\n",
      "Step 550: Generator loss: -5.452038993835449, critic loss: 6.051867507934569\n",
      "Step 600: Generator loss: -5.483541374206543, critic loss: 6.041000291824343\n",
      "Step 650: Generator loss: -5.517578477859497, critic loss: 6.053291261672975\n",
      "Step 700: Generator loss: -5.52877257347107, critic loss: 6.054939844131471\n",
      "Step 750: Generator loss: -5.551065311431885, critic loss: 6.060562192916869\n",
      "Step 800: Generator loss: -5.558671350479126, critic loss: 6.073165838241576\n",
      "Step 850: Generator loss: -5.580252599716187, critic loss: 6.069797834396363\n",
      "Step 900: Generator loss: -5.603315534591675, critic loss: 6.068640336990358\n",
      "Step 950: Generator loss: -5.607429008483887, critic loss: 6.080666334152222\n",
      "Step 1000: Generator loss: -5.611727161407471, critic loss: 6.077438203811646\n",
      "Step 1050: Generator loss: -5.6381901836395265, critic loss: 6.065592418670653\n",
      "Step 1100: Generator loss: -5.645195236206055, critic loss: 6.077822593688963\n",
      "Step 1150: Generator loss: -5.639706506729126, critic loss: 6.083540782928465\n",
      "Step 1200: Generator loss: -5.6445465183258055, critic loss: 6.08895562553406\n",
      "Step 1250: Generator loss: -5.660517320632935, critic loss: 6.0813999767303475\n",
      "Step 1300: Generator loss: -5.667112579345703, critic loss: 6.075058115005495\n",
      "Step 1350: Generator loss: -5.655905313491822, critic loss: 6.083452922821044\n",
      "Step 1400: Generator loss: -5.665693244934082, critic loss: 6.075486431121824\n",
      "Step 1450: Generator loss: -5.688021478652954, critic loss: 6.069377267837525\n",
      "Step 1500: Generator loss: -5.703016328811645, critic loss: 6.058160625457763\n",
      "Step 1550: Generator loss: -5.698786773681641, critic loss: 6.068745370864868\n",
      "Step 1600: Generator loss: -5.702132225036621, critic loss: 6.055100879669189\n",
      "Step 1650: Generator loss: -5.701129751205444, critic loss: 6.057081398010255\n",
      "Step 1700: Generator loss: -5.680360813140869, critic loss: 6.074979600906372\n",
      "Step 1750: Generator loss: -5.695102043151856, critic loss: 6.074210447311404\n",
      "Step 1800: Generator loss: -5.712391567230225, critic loss: 6.069652309417727\n",
      "Step 1850: Generator loss: -5.694486284255982, critic loss: 6.058138841629027\n",
      "Step 1900: Generator loss: -5.6654048252105715, critic loss: 6.05550053024292\n",
      "Step 1950: Generator loss: -5.666182489395141, critic loss: 6.038059635162354\n",
      "Step 2000: Generator loss: -5.6521075820922855, critic loss: 6.048098585128787\n",
      "Step 2050: Generator loss: -5.6589471626281735, critic loss: 6.0561720333099345\n",
      "Step 2100: Generator loss: -5.648552007675171, critic loss: 6.053746883392335\n",
      "Step 2150: Generator loss: -5.652532529830933, critic loss: 6.04789414215088\n",
      "Step 2200: Generator loss: -5.668975782394409, critic loss: 6.043874980926514\n",
      "Step 2250: Generator loss: -5.6559271812438965, critic loss: 6.046498458862306\n",
      "Step 2300: Generator loss: -5.664531583786011, critic loss: 6.053678327560425\n",
      "Step 2350: Generator loss: -5.696517925262452, critic loss: 6.049638896942136\n",
      "Step 2400: Generator loss: -5.6971173763275145, critic loss: 6.048734218597412\n",
      "Step 2450: Generator loss: -5.711873483657837, critic loss: 6.03584899330139\n",
      "Step 2500: Generator loss: -5.715015096664429, critic loss: 6.0275193824768065\n",
      "Step 2550: Generator loss: -5.702742280960083, critic loss: 6.03575548171997\n",
      "Step 2600: Generator loss: -5.7077249240875245, critic loss: 6.022551349639891\n",
      "Step 2650: Generator loss: -5.690541496276856, critic loss: 6.03263912010193\n",
      "Step 2700: Generator loss: -5.693751316070557, critic loss: 6.031813739776613\n",
      "Step 2750: Generator loss: -5.69650652885437, critic loss: 6.019462791442873\n",
      "Step 2800: Generator loss: -5.678367376327515, critic loss: 6.030232402801511\n",
      "Step 2850: Generator loss: -5.652069292068481, critic loss: 6.011901308059694\n",
      "Step 2900: Generator loss: -5.641371698379516, critic loss: 5.994220222473143\n",
      "Step 2950: Generator loss: -5.62084662437439, critic loss: 6.013882881164551\n",
      "Step 3000: Generator loss: -5.615836067199707, critic loss: 5.986556846618655\n",
      "Step 3050: Generator loss: -5.6221209907531735, critic loss: 5.998101770401002\n",
      "Step 3100: Generator loss: -5.621816596984863, critic loss: 5.996511749267578\n",
      "Step 3150: Generator loss: -5.6120302200317385, critic loss: 5.9987952995300295\n",
      "Step 3200: Generator loss: -5.623150787353516, critic loss: 5.9962657299041755\n",
      "Step 3250: Generator loss: -5.618950729370117, critic loss: 5.989037981033326\n",
      "Step 3300: Generator loss: -5.616436080932617, critic loss: 5.989616338729859\n",
      "Step 3350: Generator loss: -5.635012435913086, critic loss: 5.986532205581665\n",
      "Step 3400: Generator loss: -5.641488618850708, critic loss: 5.9733032073974615\n",
      "Step 3450: Generator loss: -5.628726787567139, critic loss: 5.979085199356079\n",
      "Step 3500: Generator loss: -5.652998332977295, critic loss: 5.961989191055296\n",
      "Step 3550: Generator loss: -5.654883279800415, critic loss: 5.973043773651125\n",
      "Step 3600: Generator loss: -5.644536075592041, critic loss: 5.978942567825316\n",
      "Step 3650: Generator loss: -5.644224443435669, critic loss: 5.9704012756347655\n",
      "Step 3700: Generator loss: -5.652108116149902, critic loss: 5.978699077606203\n",
      "Step 3750: Generator loss: -5.656613702774048, critic loss: 5.9597443504333505\n",
      "Step 3800: Generator loss: -5.659488229751587, critic loss: 5.971804021835326\n",
      "Step 3850: Generator loss: -5.662790174484253, critic loss: 5.968138021469115\n",
      "Step 3900: Generator loss: -5.677646942138672, critic loss: 5.9556605224609385\n",
      "Step 3950: Generator loss: -5.65293249130249, critic loss: 5.968646747589113\n",
      "Step 4000: Generator loss: -5.6791344738006595, critic loss: 5.949426515579223\n",
      "Step 4050: Generator loss: -5.660064897537231, critic loss: 5.967921613693236\n",
      "Step 4100: Generator loss: -5.678784942626953, critic loss: 5.954249086380006\n",
      "Step 4150: Generator loss: -5.673064832687378, critic loss: 5.9567458438873295\n",
      "Step 4200: Generator loss: -5.659346666336059, critic loss: 5.963299556732176\n",
      "Step 4250: Generator loss: -5.667296762466431, critic loss: 5.957291612625124\n",
      "Step 4300: Generator loss: -5.68645471572876, critic loss: 5.962161699295045\n",
      "Step 4350: Generator loss: -5.666453638076782, critic loss: 5.973458108901977\n",
      "Step 4400: Generator loss: -5.682268610000611, critic loss: 5.956006731033326\n",
      "Step 4450: Generator loss: -5.691696071624756, critic loss: 5.958142831802369\n",
      "Step 4500: Generator loss: -5.699677038192749, critic loss: 5.954773447036741\n",
      "Step 4550: Generator loss: -5.689766855239868, critic loss: 5.951523836135866\n",
      "Step 4600: Generator loss: -5.694096040725708, critic loss: 5.957103496551512\n",
      "Step 4650: Generator loss: -5.709931926727295, critic loss: 5.94714204597473\n",
      "Step 4700: Generator loss: -5.705403165817261, critic loss: 5.967973140716555\n",
      "Step 4750: Generator loss: -5.70449465751648, critic loss: 5.967614233016969\n",
      "Step 4800: Generator loss: -5.706507482528687, critic loss: 5.968418481826783\n",
      "Step 4850: Generator loss: -5.723243246078491, critic loss: 5.961031656265257\n",
      "Step 4900: Generator loss: -5.713945817947388, critic loss: 5.962534181594848\n",
      "Step 4950: Generator loss: -5.703970251083374, critic loss: 5.967562936782837\n",
      "Step 5000: Generator loss: -5.723718738555908, critic loss: 5.948420743942263\n",
      "Step 5050: Generator loss: -5.733140878677368, critic loss: 5.950199966430667\n",
      "Step 5100: Generator loss: -5.7034198188781735, critic loss: 5.958376977920533\n",
      "Step 5150: Generator loss: -5.702396297454834, critic loss: 5.977552963256835\n",
      "Step 5200: Generator loss: -5.714195737838745, critic loss: 5.9454906730651835\n",
      "Step 5250: Generator loss: -5.713164749145508, critic loss: 5.955234529495238\n",
      "Step 5300: Generator loss: -5.70498384475708, critic loss: 5.973071405410767\n",
      "Step 5350: Generator loss: -5.715010280609131, critic loss: 5.947973461151121\n",
      "Step 5400: Generator loss: -5.709529943466187, critic loss: 5.9568743267059325\n",
      "Step 5450: Generator loss: -5.717215938568115, critic loss: 5.96262463760376\n",
      "Step 5500: Generator loss: -5.716831188201905, critic loss: 5.970659667968748\n",
      "Step 5550: Generator loss: -5.738043985366821, critic loss: 5.932995990753174\n",
      "Step 5600: Generator loss: -5.720672073364258, critic loss: 5.944321506500245\n",
      "Step 5650: Generator loss: -5.720494127273559, critic loss: 5.951358701705934\n",
      "Step 5700: Generator loss: -5.719289016723633, critic loss: 5.949845876693725\n",
      "Step 5750: Generator loss: -5.7243242359161375, critic loss: 5.937804922103882\n",
      "Step 5800: Generator loss: -5.725735683441162, critic loss: 5.940574417114259\n",
      "Step 5850: Generator loss: -5.724668445587159, critic loss: 5.958953989028931\n",
      "Step 5900: Generator loss: -5.729185466766357, critic loss: 5.9410165233612044\n",
      "Step 5950: Generator loss: -5.7212310314178465, critic loss: 5.948297832489015\n",
      "Step 6000: Generator loss: -5.7267877388000485, critic loss: 5.958604984283447\n",
      "Step 6050: Generator loss: -5.730239143371582, critic loss: 5.951093408584595\n",
      "Step 6100: Generator loss: -5.741471424102783, critic loss: 5.956583606719971\n",
      "Step 6150: Generator loss: -5.7313610935211186, critic loss: 5.939623550415039\n",
      "Step 6200: Generator loss: -5.736101160049438, critic loss: 5.946774578094482\n",
      "Step 6250: Generator loss: -5.750639324188232, critic loss: 5.937334136962888\n",
      "Step 6300: Generator loss: -5.758954105377197, critic loss: 5.940644273757937\n",
      "Step 6350: Generator loss: -5.7571400451660155, critic loss: 5.942101715087891\n",
      "Step 6400: Generator loss: -5.751795816421509, critic loss: 5.944608285903932\n",
      "Step 6450: Generator loss: -5.752959623336792, critic loss: 5.94810180091858\n",
      "Step 6500: Generator loss: -5.738305644989014, critic loss: 5.942131992340088\n",
      "Step 6550: Generator loss: -5.73023980140686, critic loss: 5.95019747161865\n",
      "Step 6600: Generator loss: -5.732517023086547, critic loss: 5.957841550827028\n",
      "Step 6650: Generator loss: -5.75520489692688, critic loss: 5.935878156661987\n",
      "Step 6700: Generator loss: -5.745474052429199, critic loss: 5.928205585479736\n",
      "Step 6750: Generator loss: -5.73182843208313, critic loss: 5.951126424789428\n",
      "Step 6800: Generator loss: -5.740038585662842, critic loss: 5.936523237228393\n",
      "Step 6850: Generator loss: -5.7407910346984865, critic loss: 5.955056829452514\n",
      "Step 6900: Generator loss: -5.751228761672974, critic loss: 5.9455475463867185\n",
      "Step 6950: Generator loss: -5.736917514801025, critic loss: 5.950071582794191\n",
      "Step 7000: Generator loss: -5.749356069564819, critic loss: 5.9446523342132584\n",
      "Step 7050: Generator loss: -5.747639770507813, critic loss: 5.93602997779846\n",
      "Step 7100: Generator loss: -5.748493452072143, critic loss: 5.951172477722167\n",
      "Step 7150: Generator loss: -5.746480970382691, critic loss: 5.949508735656738\n",
      "Step 7200: Generator loss: -5.769721212387085, critic loss: 5.938771392822266\n",
      "Step 7250: Generator loss: -5.7711464786529545, critic loss: 5.932384407043457\n",
      "Step 7300: Generator loss: -5.753733901977539, critic loss: 5.944060373306275\n",
      "Step 7350: Generator loss: -5.760197801589966, critic loss: 5.941896682739257\n",
      "Step 7400: Generator loss: -5.761464681625366, critic loss: 5.9460703506469725\n",
      "Step 7450: Generator loss: -5.759840259552002, critic loss: 5.94546870613098\n",
      "Step 7500: Generator loss: -5.777856817245484, critic loss: 5.942895774841307\n",
      "Step 7550: Generator loss: -5.779554872512818, critic loss: 5.947571514129639\n",
      "Step 7600: Generator loss: -5.7881953907012935, critic loss: 5.930043897628785\n",
      "Step 7650: Generator loss: -5.777037496566773, critic loss: 5.946659406661986\n",
      "Step 7700: Generator loss: -5.757891082763672, critic loss: 5.956182622909547\n",
      "Step 7750: Generator loss: -5.787767944335937, critic loss: 5.916843181610108\n",
      "Step 7800: Generator loss: -5.760354824066162, critic loss: 5.9417801609039325\n",
      "Step 7850: Generator loss: -5.764895257949829, critic loss: 5.927144351959227\n",
      "Step 7900: Generator loss: -5.74992262840271, critic loss: 5.939170005798342\n",
      "Step 7950: Generator loss: -5.759855508804321, critic loss: 5.938584951400758\n",
      "Step 8000: Generator loss: -5.768366479873658, critic loss: 5.930558649063109\n",
      "Step 8050: Generator loss: -5.756687335968017, critic loss: 5.939521587371827\n",
      "Step 8100: Generator loss: -5.774541063308716, critic loss: 5.913169843673707\n",
      "Step 8150: Generator loss: -5.7608739948272705, critic loss: 5.94098715019226\n",
      "Step 8200: Generator loss: -5.758437938690186, critic loss: 5.942874172210694\n",
      "Step 8250: Generator loss: -5.774382333755494, critic loss: 5.931794397354124\n",
      "Step 8300: Generator loss: -5.768047904968261, critic loss: 5.92623538017273\n",
      "Step 8350: Generator loss: -5.76243143081665, critic loss: 5.920589288711547\n",
      "Step 8400: Generator loss: -5.76711874961853, critic loss: 5.932791023254396\n",
      "Step 8450: Generator loss: -5.770173034667969, critic loss: 5.920196443557739\n",
      "Step 8500: Generator loss: -5.756099901199341, critic loss: 5.930587093353271\n",
      "Step 8550: Generator loss: -5.762939949035644, critic loss: 5.924384996414185\n",
      "Step 8600: Generator loss: -5.75468635559082, critic loss: 5.936121690750123\n",
      "Step 8650: Generator loss: -5.775660009384155, critic loss: 5.923900568008423\n",
      "Step 8700: Generator loss: -5.7559126853942875, critic loss: 5.937136651992798\n",
      "Step 8750: Generator loss: -5.771234064102173, critic loss: 5.925604036331177\n",
      "Step 8800: Generator loss: -5.768898429870606, critic loss: 5.941141494750976\n",
      "Step 8850: Generator loss: -5.779359683990479, critic loss: 5.925805498123169\n",
      "Step 8900: Generator loss: -5.780040216445923, critic loss: 5.9268088779449455\n",
      "Step 8950: Generator loss: -5.810592803955078, critic loss: 5.940897138595581\n",
      "Step 9000: Generator loss: -5.799933061599732, critic loss: 5.939576522827147\n",
      "Step 9050: Generator loss: -5.813160400390625, critic loss: 5.929132289886475\n",
      "Step 9100: Generator loss: -5.82339921951294, critic loss: 5.909958847045898\n",
      "Step 9150: Generator loss: -5.811129903793335, critic loss: 5.918684347152709\n",
      "Step 9200: Generator loss: -5.812547512054444, critic loss: 5.9368478813171395\n",
      "Step 9250: Generator loss: -5.806319532394409, critic loss: 5.919386720657347\n",
      "Step 9300: Generator loss: -5.809014091491699, critic loss: 5.937415025711059\n",
      "Step 9350: Generator loss: -5.791921215057373, critic loss: 5.947461402893067\n",
      "Step 9400: Generator loss: -5.804675769805908, critic loss: 5.924293689727785\n",
      "Step 9450: Generator loss: -5.788642301559448, critic loss: 5.937773262023923\n",
      "Step 9500: Generator loss: -5.813433828353882, critic loss: 5.92651803779602\n",
      "Step 9550: Generator loss: -5.800050258636475, critic loss: 5.934193813323975\n",
      "Step 9600: Generator loss: -5.821637134552002, critic loss: 5.927461708068848\n",
      "Step 9650: Generator loss: -5.805615539550781, critic loss: 5.928216093063355\n",
      "Step 9700: Generator loss: -5.800356397628784, critic loss: 5.925349361419677\n",
      "Step 9750: Generator loss: -5.811971292495728, critic loss: 5.92986539077759\n",
      "Step 9800: Generator loss: -5.839773540496826, critic loss: 5.909849815368651\n",
      "Step 9850: Generator loss: -5.8255423736572265, critic loss: 5.932704990386964\n",
      "Step 9900: Generator loss: -5.815484685897827, critic loss: 5.92225407600403\n",
      "Step 9950: Generator loss: -5.826752061843872, critic loss: 5.932452854156495\n",
      "Step 10000: Generator loss: -5.83401195526123, critic loss: 5.929086687088014\n",
      "Step 10050: Generator loss: -5.822429695129395, critic loss: 5.936478712081911\n",
      "Step 10100: Generator loss: -5.833086881637573, critic loss: 5.930587434768675\n",
      "Step 10150: Generator loss: -5.82997953414917, critic loss: 5.928541156768799\n",
      "Step 10200: Generator loss: -5.854994392395019, critic loss: 5.918162462234497\n",
      "Step 10250: Generator loss: -5.8351669597625735, critic loss: 5.918648544311522\n",
      "Step 10300: Generator loss: -5.820388879776001, critic loss: 5.934361055374145\n",
      "Step 10350: Generator loss: -5.842960548400879, critic loss: 5.913434291839602\n",
      "Step 10400: Generator loss: -5.830327758789062, critic loss: 5.926333358764649\n",
      "Step 10450: Generator loss: -5.844637861251831, critic loss: 5.928734056472778\n",
      "Step 10500: Generator loss: -5.841176862716675, critic loss: 5.928944282531737\n",
      "Step 10550: Generator loss: -5.838744211196899, critic loss: 5.918172187805174\n",
      "Step 10600: Generator loss: -5.83979437828064, critic loss: 5.921850509643553\n",
      "Step 10650: Generator loss: -5.831552762985229, critic loss: 5.94059974861145\n",
      "Step 10700: Generator loss: -5.829999923706055, critic loss: 5.92345891189575\n",
      "Step 10750: Generator loss: -5.832437219619751, critic loss: 5.9239089584350575\n",
      "Step 10800: Generator loss: -5.818697872161866, critic loss: 5.942740608215332\n",
      "Step 10850: Generator loss: -5.862801475524902, critic loss: 5.915118993759154\n",
      "Step 10900: Generator loss: -5.860548219680786, critic loss: 5.923752975463868\n",
      "Step 10950: Generator loss: -5.874779300689697, critic loss: 5.914156805038451\n",
      "Step 11000: Generator loss: -5.878641042709351, critic loss: 5.920877120971679\n",
      "Step 11050: Generator loss: -5.879789228439331, critic loss: 5.917219005584717\n",
      "Step 11100: Generator loss: -5.864045848846436, critic loss: 5.917638120651244\n",
      "Step 11150: Generator loss: -5.886975173950195, critic loss: 5.924587009429932\n",
      "Step 11200: Generator loss: -5.886979112625122, critic loss: 5.915832216262817\n",
      "Step 11250: Generator loss: -5.887353849411011, critic loss: 5.927425270080565\n",
      "Step 11300: Generator loss: -5.902891311645508, critic loss: 5.930943260192873\n",
      "Step 11350: Generator loss: -5.907641658782959, critic loss: 5.918073541641237\n",
      "Step 11400: Generator loss: -5.904225721359253, critic loss: 5.9112044639587396\n",
      "Step 11450: Generator loss: -5.901493005752563, critic loss: 5.911979423522948\n",
      "Step 11500: Generator loss: -5.887072019577026, critic loss: 5.932939962387084\n",
      "Step 11550: Generator loss: -5.911572246551514, critic loss: 5.925099470138549\n",
      "Step 11600: Generator loss: -5.910777730941772, critic loss: 5.916938037872314\n",
      "Step 11650: Generator loss: -5.902099103927612, critic loss: 5.936533702850343\n",
      "Step 11700: Generator loss: -5.921038169860839, critic loss: 5.933853837966919\n",
      "Step 11750: Generator loss: -5.925749082565307, critic loss: 5.91918208503723\n",
      "Step 11800: Generator loss: -5.928620758056641, critic loss: 5.927932140350342\n",
      "Step 11850: Generator loss: -5.927497682571411, critic loss: 5.923381546020506\n",
      "Step 11900: Generator loss: -5.921526508331299, critic loss: 5.9225570201873765\n",
      "Step 11950: Generator loss: -5.915740804672241, critic loss: 5.934509075164795\n",
      "Step 12000: Generator loss: -5.922410917282105, critic loss: 5.924883888244629\n",
      "Step 12050: Generator loss: -5.894458932876587, critic loss: 5.934830698013304\n",
      "Step 12100: Generator loss: -5.895215740203858, critic loss: 5.924876699447632\n",
      "Step 12150: Generator loss: -5.915442028045654, critic loss: 5.914531871795657\n",
      "Step 12200: Generator loss: -5.907851486206055, critic loss: 5.926450897216797\n",
      "Step 12250: Generator loss: -5.907785997390747, critic loss: 5.940020349502564\n",
      "Step 12300: Generator loss: -5.909413433074951, critic loss: 5.938216392517088\n",
      "Step 12350: Generator loss: -5.910862588882447, critic loss: 5.925694095611572\n",
      "Step 12400: Generator loss: -5.9128957366943355, critic loss: 5.925909912109376\n",
      "Step 12450: Generator loss: -5.928518152236938, critic loss: 5.927898334503174\n",
      "Step 12500: Generator loss: -5.934963254928589, critic loss: 5.916176784515383\n",
      "Step 12550: Generator loss: -5.916476402282715, critic loss: 5.936205419540403\n",
      "Step 12600: Generator loss: -5.958680953979492, critic loss: 5.912621038436888\n",
      "Step 12650: Generator loss: -5.918152437210083, critic loss: 5.937164752960207\n",
      "Step 12700: Generator loss: -5.935352735519409, critic loss: 5.928701641082764\n",
      "Step 12750: Generator loss: -5.929500102996826, critic loss: 5.925599576950073\n",
      "Step 12800: Generator loss: -5.926788854598999, critic loss: 5.9294320030212395\n",
      "Step 12850: Generator loss: -5.9467612075805665, critic loss: 5.90836743736267\n",
      "Step 12900: Generator loss: -5.93304552078247, critic loss: 5.930882795333863\n",
      "Step 12950: Generator loss: -5.934237041473389, critic loss: 5.919183406829833\n",
      "Step 13000: Generator loss: -5.914825553894043, critic loss: 5.942507400512695\n",
      "Step 13050: Generator loss: -5.922337083816529, critic loss: 5.933839679718017\n",
      "Step 13100: Generator loss: -5.935722742080689, critic loss: 5.927826511383056\n",
      "Step 13150: Generator loss: -5.916037540435791, critic loss: 5.947166982650757\n",
      "Step 13200: Generator loss: -5.945389890670777, critic loss: 5.920374382019044\n",
      "Step 13250: Generator loss: -5.938190279006958, critic loss: 5.940792226791382\n",
      "Step 13300: Generator loss: -5.948298826217651, critic loss: 5.920276168823242\n",
      "Step 13350: Generator loss: -5.937839603424072, critic loss: 5.929838722229005\n",
      "Step 13400: Generator loss: -5.9439295959472656, critic loss: 5.935902187347412\n",
      "Step 13450: Generator loss: -5.954618844985962, critic loss: 5.928904632568361\n",
      "Step 13500: Generator loss: -5.9272384929656985, critic loss: 5.947986051559448\n",
      "Step 13550: Generator loss: -5.970091609954834, critic loss: 5.918545501708983\n",
      "Step 13600: Generator loss: -5.961561031341553, critic loss: 5.918194986343382\n",
      "Step 13650: Generator loss: -5.9329078674316404, critic loss: 5.930561475753783\n",
      "Step 13700: Generator loss: -5.955964021682739, critic loss: 5.923840873718262\n",
      "Step 13750: Generator loss: -5.945918455123901, critic loss: 5.925874534606932\n",
      "Step 13800: Generator loss: -5.962125434875488, critic loss: 5.92935166168213\n",
      "Step 13850: Generator loss: -5.937112922668457, critic loss: 5.935701992034911\n",
      "Step 13900: Generator loss: -5.961228609085083, critic loss: 5.921437175750732\n",
      "Step 13950: Generator loss: -5.953088665008545, critic loss: 5.9324682941436775\n",
      "Step 14000: Generator loss: -5.959815883636475, critic loss: 5.916525598526002\n",
      "Step 14050: Generator loss: -5.942733612060547, critic loss: 5.933869033813477\n",
      "Step 14100: Generator loss: -5.971850452423095, critic loss: 5.920217498779297\n",
      "Step 14150: Generator loss: -5.943930673599243, critic loss: 5.936609548568725\n",
      "Step 14200: Generator loss: -5.969800100326538, critic loss: 5.9056068229675285\n",
      "Step 14250: Generator loss: -5.981952819824219, critic loss: 5.916696697235109\n",
      "Step 14300: Generator loss: -5.964493713378906, critic loss: 5.9421773815155055\n",
      "Step 14350: Generator loss: -5.954581136703491, critic loss: 5.937327922821044\n",
      "Step 14400: Generator loss: -5.977511796951294, critic loss: 5.941013496398925\n",
      "Step 14450: Generator loss: -5.979784879684448, critic loss: 5.925604784011841\n",
      "Step 14500: Generator loss: -5.993979501724243, critic loss: 5.91511858177185\n",
      "Step 14550: Generator loss: -5.966838808059692, critic loss: 5.916551458358766\n",
      "Step 14600: Generator loss: -5.985466527938843, critic loss: 5.897219812393189\n",
      "Step 14650: Generator loss: -5.955195407867432, critic loss: 5.9407163181304945\n",
      "Step 14700: Generator loss: -5.951817464828491, critic loss: 5.933672378540037\n",
      "Step 14750: Generator loss: -5.96041576385498, critic loss: 5.936334087371824\n",
      "Step 14800: Generator loss: -5.960174837112427, critic loss: 5.925057794570924\n",
      "Step 14850: Generator loss: -5.95016637802124, critic loss: 5.939296304702756\n",
      "Step 14900: Generator loss: -5.960025777816773, critic loss: 5.933923728942873\n",
      "Step 14950: Generator loss: -5.981697006225586, critic loss: 5.924831483840944\n",
      "Step 15000: Generator loss: -5.960466213226319, critic loss: 5.9331416053771955\n",
      "Step 15050: Generator loss: -5.964387016296387, critic loss: 5.928638357162474\n",
      "Step 15100: Generator loss: -5.955951490402222, critic loss: 5.937513662338257\n",
      "Step 15150: Generator loss: -5.958476600646972, critic loss: 5.934634185791017\n",
      "Step 15200: Generator loss: -5.959258546829224, critic loss: 5.919734878540038\n",
      "Step 15250: Generator loss: -5.994266004562378, critic loss: 5.934342243194581\n",
      "Step 15300: Generator loss: -5.984858617782593, critic loss: 5.941937187194825\n",
      "Step 15350: Generator loss: -6.0169428443908695, critic loss: 5.914227275848389\n",
      "Step 15400: Generator loss: -5.99784686088562, critic loss: 5.925310922622681\n",
      "Step 15450: Generator loss: -6.003657960891724, critic loss: 5.912152112960815\n",
      "Step 15500: Generator loss: -6.001325435638428, critic loss: 5.911282312393188\n",
      "Step 15550: Generator loss: -6.015192785263062, critic loss: 5.909694131851195\n",
      "Step 15600: Generator loss: -5.9928466415405275, critic loss: 5.92419326210022\n"
     ]
    },
    {
     "data": {
      "text/plain": "  0%|          | 0/782 [00:00<?, ?it/s]",
      "application/vnd.jupyter.widget-view+json": {
       "version_major": 2,
       "version_minor": 0,
       "model_id": "d9dded15708e4678ac454f96c3b702c9"
      }
     },
     "metadata": {},
     "output_type": "display_data"
    },
    {
     "data": {
      "text/plain": "  0%|          | 0/782 [00:00<?, ?it/s]",
      "application/vnd.jupyter.widget-view+json": {
       "version_major": 2,
       "version_minor": 0,
       "model_id": "801d22a91f314e14a2384f0fe12b01d6"
      }
     },
     "metadata": {},
     "output_type": "display_data"
    },
    {
     "data": {
      "text/plain": "  0%|          | 0/782 [00:00<?, ?it/s]",
      "application/vnd.jupyter.widget-view+json": {
       "version_major": 2,
       "version_minor": 0,
       "model_id": "2b90f3714af04971944f5e0d23e555ca"
      }
     },
     "metadata": {},
     "output_type": "display_data"
    },
    {
     "data": {
      "text/plain": "  0%|          | 0/782 [00:00<?, ?it/s]",
      "application/vnd.jupyter.widget-view+json": {
       "version_major": 2,
       "version_minor": 0,
       "model_id": "5387740d58d242e98c60e760b160b0c8"
      }
     },
     "metadata": {},
     "output_type": "display_data"
    },
    {
     "data": {
      "text/plain": "  0%|          | 0/782 [00:00<?, ?it/s]",
      "application/vnd.jupyter.widget-view+json": {
       "version_major": 2,
       "version_minor": 0,
       "model_id": "354efebb48664b9d838b754d6d4cb958"
      }
     },
     "metadata": {},
     "output_type": "display_data"
    },
    {
     "data": {
      "text/plain": "  0%|          | 0/782 [00:00<?, ?it/s]",
      "application/vnd.jupyter.widget-view+json": {
       "version_major": 2,
       "version_minor": 0,
       "model_id": "6eb4e6a5909c4be090d6018d92bfc123"
      }
     },
     "metadata": {},
     "output_type": "display_data"
    },
    {
     "data": {
      "text/plain": "  0%|          | 0/782 [00:00<?, ?it/s]",
      "application/vnd.jupyter.widget-view+json": {
       "version_major": 2,
       "version_minor": 0,
       "model_id": "93fdfc19232c428cb191b6f6cc6bd508"
      }
     },
     "metadata": {},
     "output_type": "display_data"
    },
    {
     "data": {
      "text/plain": "  0%|          | 0/782 [00:00<?, ?it/s]",
      "application/vnd.jupyter.widget-view+json": {
       "version_major": 2,
       "version_minor": 0,
       "model_id": "42fbe2cbbbf84585b311684e6c375fe1"
      }
     },
     "metadata": {},
     "output_type": "display_data"
    },
    {
     "data": {
      "text/plain": "  0%|          | 0/782 [00:00<?, ?it/s]",
      "application/vnd.jupyter.widget-view+json": {
       "version_major": 2,
       "version_minor": 0,
       "model_id": "5efab3660d3e44df835874042101e2ee"
      }
     },
     "metadata": {},
     "output_type": "display_data"
    },
    {
     "data": {
      "text/plain": "  0%|          | 0/782 [00:00<?, ?it/s]",
      "application/vnd.jupyter.widget-view+json": {
       "version_major": 2,
       "version_minor": 0,
       "model_id": "2c5a89acdcae440fa9872b5e6121ceb5"
      }
     },
     "metadata": {},
     "output_type": "display_data"
    },
    {
     "data": {
      "text/plain": "  0%|          | 0/782 [00:00<?, ?it/s]",
      "application/vnd.jupyter.widget-view+json": {
       "version_major": 2,
       "version_minor": 0,
       "model_id": "9543405529c540cabdaf7a290b021fcc"
      }
     },
     "metadata": {},
     "output_type": "display_data"
    },
    {
     "data": {
      "text/plain": "  0%|          | 0/782 [00:00<?, ?it/s]",
      "application/vnd.jupyter.widget-view+json": {
       "version_major": 2,
       "version_minor": 0,
       "model_id": "596aee76a38247569286d19039619f7b"
      }
     },
     "metadata": {},
     "output_type": "display_data"
    },
    {
     "data": {
      "text/plain": "  0%|          | 0/782 [00:00<?, ?it/s]",
      "application/vnd.jupyter.widget-view+json": {
       "version_major": 2,
       "version_minor": 0,
       "model_id": "abd3a8a0049c48dfb92a27e57521665d"
      }
     },
     "metadata": {},
     "output_type": "display_data"
    },
    {
     "data": {
      "text/plain": "  0%|          | 0/782 [00:00<?, ?it/s]",
      "application/vnd.jupyter.widget-view+json": {
       "version_major": 2,
       "version_minor": 0,
       "model_id": "d61e36c5e52d4d47825dd5c580e6ccf0"
      }
     },
     "metadata": {},
     "output_type": "display_data"
    },
    {
     "data": {
      "text/plain": "  0%|          | 0/782 [00:00<?, ?it/s]",
      "application/vnd.jupyter.widget-view+json": {
       "version_major": 2,
       "version_minor": 0,
       "model_id": "200ad5eead664ea591a58cbd63698db0"
      }
     },
     "metadata": {},
     "output_type": "display_data"
    },
    {
     "data": {
      "text/plain": "  0%|          | 0/782 [00:00<?, ?it/s]",
      "application/vnd.jupyter.widget-view+json": {
       "version_major": 2,
       "version_minor": 0,
       "model_id": "8ebee3727305495092e427f2c5148155"
      }
     },
     "metadata": {},
     "output_type": "display_data"
    },
    {
     "data": {
      "text/plain": "  0%|          | 0/782 [00:00<?, ?it/s]",
      "application/vnd.jupyter.widget-view+json": {
       "version_major": 2,
       "version_minor": 0,
       "model_id": "ff2aeff856824695aeb249daa8472ef1"
      }
     },
     "metadata": {},
     "output_type": "display_data"
    },
    {
     "data": {
      "text/plain": "  0%|          | 0/782 [00:00<?, ?it/s]",
      "application/vnd.jupyter.widget-view+json": {
       "version_major": 2,
       "version_minor": 0,
       "model_id": "e947069dee22445bbe2bd2600c643624"
      }
     },
     "metadata": {},
     "output_type": "display_data"
    },
    {
     "data": {
      "text/plain": "  0%|          | 0/782 [00:00<?, ?it/s]",
      "application/vnd.jupyter.widget-view+json": {
       "version_major": 2,
       "version_minor": 0,
       "model_id": "c4ed6c2196a04539a377bb03ac39e23b"
      }
     },
     "metadata": {},
     "output_type": "display_data"
    }
   ],
   "source": [
    "Training(n_epochs, dataloader, device, crit_repeats, gen, gen_opt,\n",
    "             crit, crit_opt, z_dim, c_lambda, display_step)"
   ],
   "metadata": {
    "collapsed": false,
    "pycharm": {
     "name": "#%%\n"
    }
   }
  },
  {
   "cell_type": "code",
   "execution_count": 10,
   "outputs": [],
   "source": [
    "# save the model\n",
    "torch.save({'gen_state_dict': gen.state_dict()}, 'wgan_gen_scalar_random.pth.tar')\n",
    "torch.save({'crit_state_dict': crit.state_dict()}, 'wgan_crit_scalar_random.pth.tar')"
   ],
   "metadata": {
    "collapsed": false,
    "pycharm": {
     "name": "#%%\n"
    }
   }
  },
  {
   "cell_type": "code",
   "execution_count": 11,
   "outputs": [
    {
     "data": {
      "text/plain": "<All keys matched successfully>"
     },
     "execution_count": 11,
     "metadata": {},
     "output_type": "execute_result"
    }
   ],
   "source": [
    "# load the model\n",
    "# create a new model, same structure as the previous one\n",
    "gen_model = Generator(z_dim, im_dim=15, hidden_dim=16).to(device)\n",
    "crit_model = Critic(im_dim=15, hidden_dim=16).to(device)\n",
    "# get the state from stored file\n",
    "gen_checkpoint = torch.load('wgan_gen_scalar_random.pth.tar')\n",
    "crit_chechpoint = torch.load('wgan_crit_scalar_random.pth.tar')\n",
    "# load the state to the new model\n",
    "gen_model.load_state_dict(gen_checkpoint['gen_state_dict'])\n",
    "crit_model.load_state_dict(crit_chechpoint['crit_state_dict'])"
   ],
   "metadata": {
    "collapsed": false,
    "pycharm": {
     "name": "#%%\n"
    }
   }
  },
  {
   "cell_type": "code",
   "execution_count": 12,
   "outputs": [
    {
     "data": {
      "text/plain": "<AxesSubplot:ylabel='Count'>"
     },
     "execution_count": 12,
     "metadata": {},
     "output_type": "execute_result"
    },
    {
     "data": {
      "text/plain": "<Figure size 432x288 with 1 Axes>",
      "image/png": "[encoded data removed]"
     },
     "metadata": {
      "needs_background": "light"
     },
     "output_type": "display_data"
    }
   ],
   "source": [
    "# check the output\n",
    "after_training = test_nn.check_output(gen_model, 100, 16, 8, 15)\n",
    "sns.histplot(data=after_training, kde=True)\n"
   ],
   "metadata": {
    "collapsed": false,
    "pycharm": {
     "name": "#%%\n"
    }
   }
  }
 ],
 "metadata": {
  "kernelspec": {
   "display_name": "Python 3",
   "language": "python",
   "name": "python3"
  },
  "language_info": {
   "codemirror_mode": {
    "name": "ipython",
    "version": 2
   },
   "file_extension": ".py",
   "mimetype": "text/x-python",
   "name": "python",
   "nbconvert_exporter": "python",
   "pygments_lexer": "ipython2",
   "version": "2.7.6"
  }
 },
 "nbformat": 4,
 "nbformat_minor": 0
}
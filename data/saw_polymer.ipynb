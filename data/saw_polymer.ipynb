{
 "cells": [
  {
   "cell_type": "code",
   "execution_count": 15,
   "metadata": {
    "collapsed": true
   },
   "outputs": [],
   "source": [
    "import numpy as np\n",
    "from PolymerCpp.helpers import getCppWLC2D\n",
    "import matplotlib.pyplot as plt\n",
    "from scipy.stats import linregress"
   ]
  },
  {
   "cell_type": "code",
   "execution_count": 3,
   "outputs": [],
   "source": [
    "def plot_polymer(coordinate):\n",
    "    x, y = [], []\n",
    "    for i in coordinate:\n",
    "        x.append(i[0])\n",
    "        y.append(i[1])\n",
    "    plt.plot(x, y, '-o')\n",
    "    plt.show()"
   ],
   "metadata": {
    "collapsed": false,
    "pycharm": {
     "name": "#%%\n"
    }
   }
  },
  {
   "cell_type": "code",
   "execution_count": 21,
   "outputs": [],
   "source": [],
   "metadata": {
    "collapsed": false,
    "pycharm": {
     "name": "#%%\n"
    }
   }
  },
  {
   "cell_type": "code",
   "execution_count": 22,
   "outputs": [
    {
     "data": {
      "text/plain": "<Figure size 432x288 with 1 Axes>",
      "image/png": "[encoded data removed]"
     },
     "metadata": {
      "needs_background": "light"
     },
     "output_type": "display_data"
    }
   ],
   "source": [
    "plot_polymer(np.array([first, second, third]))"
   ],
   "metadata": {
    "collapsed": false,
    "pycharm": {
     "name": "#%%\n"
    }
   }
  },
  {
   "cell_type": "markdown",
   "source": [
    "how to compute orientation\n",
    "the answer is slope\n",
    "Assume we have three points: p1,p2,p3\n",
    "and the slope between p1p2 and s1 ,between p2p3 and s2\n",
    "if s1 > s2: the orientation is clockwise\n",
    "if s1 < s2: the orientation is counterclockwise\n",
    "otherwise: no orientation\n",
    "\n",
    "$$s_{1} = \\dfrac{y_{2} - y_{1}}{x_{2} - x_{1}}$$\n",
    "\n",
    "$$s_{2} = \\dfrac{y_{3} - y_{2}}{x_{3} - x_{2}}$$\n",
    "\n",
    "$$s_{2} - s_{1} = \\dfrac{y_{2} - y_{1}}{x_{2} - x_{1}} - \\dfrac{y_{3} - y_{2}}{x_{3} - x_{2}}$$\n",
    "\n",
    "$$s_{2} - s_{1} = (y_{2} - y_{1})(x_{3} - x_{2}) - (y_{3} - y_{2})(x_{2} - x_{1})$$\n"
   ],
   "metadata": {
    "collapsed": false,
    "pycharm": {
     "name": "#%% md\n"
    }
   }
  },
  {
   "cell_type": "code",
   "execution_count": 38,
   "outputs": [],
   "source": [
    "def orientation(p_1, p_2, p_3):\n",
    "    val = (p_2[1] - p_1[1]) * (p_3[0] - p_2[0]) - (p_3[1] - p_2[1]) * (p_2[0] - p_1[0])\n",
    "    if val > 0: # clockwise\n",
    "        return 1\n",
    "    elif val < 0: #counterclockwise\n",
    "        return 2\n",
    "    else: # parallel\n",
    "        return 0\n",
    "\n",
    "def do_intersect(p1,p2,q1,q2):\n",
    "    o1 = orientation(p1, q1, p2)\n",
    "    o2 = orientation(p1, q1, q2)\n",
    "    o3 = orientation(p2, q2, p1)\n",
    "    o4 = orientation(p2, q2, q1)\n",
    "    if (o1 != o2) and (o3 != o4):\n",
    "        return True\n",
    "    # # Special Cases\n",
    "    # # p1 , q1 and p2 are collinear and p2 lies on segment p1q1\n",
    "    # if o1 == 0:\n",
    "    #     return True\n",
    "    # # p1 , q1 and q2 are collinear and q2 lies on segment p1q1\n",
    "    # if o2 == 0:\n",
    "    #     return True\n",
    "    # # p2 , q2 and p1 are collinear and p1 lies on segment p2q2\n",
    "    # if o3 == 0:\n",
    "    #     return True\n",
    "    # # p2 , q2 and q1 are collinear and q1 lies on segment p2q2\n",
    "    # if o4 == 0:\n",
    "    #     return True\n",
    "    # If none of the cases\n",
    "    return False"
   ],
   "metadata": {
    "collapsed": false,
    "pycharm": {
     "name": "#%%\n"
    }
   }
  },
  {
   "cell_type": "code",
   "execution_count": 36,
   "outputs": [
    {
     "data": {
      "text/plain": "<Figure size 432x288 with 1 Axes>",
      "image/png": "[encoded data removed]"
     },
     "metadata": {
      "needs_background": "light"
     },
     "output_type": "display_data"
    }
   ],
   "source": [
    "# first monomer\n",
    "first = np.array([0,0])\n",
    "# second monomer\n",
    "second = np.array([1,0])\n",
    "cumulate = 0\n",
    "# third monomer\n",
    "angle = np.random.uniform(-np.pi, np.pi, 1)\n",
    "cumulate += angle\n",
    "third = np.array([second[0] + np.sin(cumulate), second[1] + np.cos(cumulate)]).reshape(2,)\n",
    "# fourth\n",
    "angle = np.random.uniform(-np.pi, np.pi, 1)\n",
    "cumulate += angle\n",
    "fourth = np.array([third[0] + np.sin(cumulate), third[1] + np.cos(cumulate)]).reshape(2,)\n",
    "coordinates = np.array([first,second,third,fourth])\n",
    "plot_polymer(coordinates)"
   ],
   "metadata": {
    "collapsed": false,
    "pycharm": {
     "name": "#%%\n"
    }
   }
  },
  {
   "cell_type": "code",
   "execution_count": 39,
   "outputs": [
    {
     "name": "stdout",
     "output_type": "stream",
     "text": [
      "False\n"
     ]
    }
   ],
   "source": [
    "print(do_intersect(first,second,third,fourth))"
   ],
   "metadata": {
    "collapsed": false,
    "pycharm": {
     "name": "#%%\n"
    }
   }
  },
  {
   "cell_type": "code",
   "execution_count": null,
   "outputs": [],
   "source": [],
   "metadata": {
    "collapsed": false,
    "pycharm": {
     "name": "#%%\n"
    }
   }
  }
 ],
 "metadata": {
  "kernelspec": {
   "display_name": "Python 3",
   "language": "python",
   "name": "python3"
  },
  "language_info": {
   "codemirror_mode": {
    "name": "ipython",
    "version": 2
   },
   "file_extension": ".py",
   "mimetype": "text/x-python",
   "name": "python",
   "nbconvert_exporter": "python",
   "pygments_lexer": "ipython2",
   "version": "2.7.6"
  }
 },
 "nbformat": 4,
 "nbformat_minor": 0
}
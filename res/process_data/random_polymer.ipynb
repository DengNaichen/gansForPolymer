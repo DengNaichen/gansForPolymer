{
 "cells": [
  {
   "cell_type": "code",
   "execution_count": 4,
   "metadata": {
    "collapsed": true
   },
   "outputs": [],
   "source": [
    "import numpy as np\n",
    "import res.process_data.directions_coordinates as dc\n",
    "import sincos"
   ]
  },
  {
   "cell_type": "markdown",
   "source": [
    "## Off-lattices random polymer"
   ],
   "metadata": {
    "collapsed": false,
    "pycharm": {
     "name": "#%% md\n"
    }
   }
  },
  {
   "cell_type": "code",
   "execution_count": 7,
   "outputs": [],
   "source": [
    "polymer_length = 64\n",
    "size = (100000, polymer_length - 1, 1)\n",
    "directions = np.random.uniform(-np.pi, np.pi, size)\n",
    "sin_cos = sincos.directions_sin_cos_off_lattices(directions)\n",
    "coordinates = dc.direction_coordinate_off_lattices(directions)"
   ],
   "metadata": {
    "collapsed": false,
    "pycharm": {
     "name": "#%%\n"
    }
   }
  },
  {
   "cell_type": "code",
   "execution_count": 8,
   "outputs": [],
   "source": [
    "np.save(f'../../data/random/off_lattices/{polymer_length}/directions.npy', directions)\n",
    "np.save(f'../../data/random/off_lattices/{polymer_length}/coordinates.npy', coordinates)\n",
    "np.save(f'../../data/random/off_lattices/{polymer_length}/sin_cos.npy', sin_cos)"
   ],
   "metadata": {
    "collapsed": false,
    "pycharm": {
     "name": "#%%\n"
    }
   }
  },
  {
   "cell_type": "markdown",
   "source": [
    "## On-lattices random polymer"
   ],
   "metadata": {
    "collapsed": false,
    "pycharm": {
     "name": "#%% md\n"
    }
   }
  },
  {
   "cell_type": "code",
   "execution_count": 8,
   "outputs": [],
   "source": [
    "polymer_length = 32\n",
    "size = (100000, polymer_length - 2, 1)\n",
    "directions = np.random.randint(0, 4, size) / 4\n",
    "sin_cos = sincos.directions_sin_cos_on_lattices(directions)\n",
    "coordinates = dc.direction_coordinate_on_lattices(directions)"
   ],
   "metadata": {
    "collapsed": false,
    "pycharm": {
     "name": "#%%\n"
    }
   }
  },
  {
   "cell_type": "code",
   "execution_count": 9,
   "outputs": [],
   "source": [
    "np.save(f'../../data/random/on_lattices/{polymer_length}/directions.npy', directions)\n",
    "np.save(f'../../data/random/on_lattices/{polymer_length}/coordinates.npy', coordinates)\n",
    "np.save(f'../../data/random/on_lattices/{polymer_length}/sin_cos.npy', sin_cos)\n",
    "\n"
   ],
   "metadata": {
    "collapsed": false,
    "pycharm": {
     "name": "#%%\n"
    }
   }
  },
  {
   "cell_type": "code",
   "execution_count": null,
   "outputs": [],
   "source": [],
   "metadata": {
    "collapsed": false,
    "pycharm": {
     "name": "#%%\n"
    }
   }
  }
 ],
 "metadata": {
  "kernelspec": {
   "name": "python397jvsc74a57bd0a484108a100215486129c0ad108ce22c45b7345c332f31f73c42bc75d883ba26",
   "language": "python",
   "display_name": "Python 3.9.7 64-bit ('nn': conda)"
  },
  "language_info": {
   "codemirror_mode": {
    "name": "ipython",
    "version": 2
   },
   "file_extension": ".py",
   "mimetype": "text/x-python",
   "name": "python",
   "nbconvert_exporter": "python",
   "pygments_lexer": "ipython2",
   "version": "2.7.6"
  }
 },
 "nbformat": 4,
 "nbformat_minor": 0
}
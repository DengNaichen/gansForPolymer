{
 "cells": [
  {
   "cell_type": "code",
   "execution_count": 1,
   "outputs": [],
   "source": [
    "from torch.utils.data import Dataset\n",
    "import torch\n",
    "import numpy as np\n",
    "import res.process_data.dire_and_coor as dc"
   ],
   "metadata": {
    "collapsed": false,
    "pycharm": {
     "name": "#%%\n"
    }
   }
  },
  {
   "cell_type": "code",
   "execution_count": 2,
   "outputs": [],
   "source": [
    "# get self avoid polymer\n",
    "self_avoid_directions = np.load('../../data/self_avoid/16/directions.npy')\n",
    "self_avoid_coordinates = np.load('../../data/self_avoid/16/coorinates.npy')"
   ],
   "metadata": {
    "collapsed": false,
    "pycharm": {
     "name": "#%%\n"
    }
   }
  },
  {
   "cell_type": "code",
   "execution_count": 3,
   "outputs": [],
   "source": [
    "# get random polymer\n",
    "random = np.random.randint(0, 4, size=(120000, 14, 1)) / 4\n",
    "a = np.zeros((120000, 15, 1))\n",
    "# make the first one is forward\n",
    "for i in range(len(random)):\n",
    "    a[i] = np.vstack(([0], random[i]))"
   ],
   "metadata": {
    "collapsed": false,
    "pycharm": {
     "name": "#%%\n"
    }
   }
  },
  {
   "cell_type": "code",
   "execution_count": 4,
   "outputs": [],
   "source": [
    "# remove self avoid data\n",
    "random_coordinate = dc.direction_coordinate_three(a, 16)"
   ],
   "metadata": {
    "collapsed": false,
    "pycharm": {
     "name": "#%%\n"
    }
   }
  },
  {
   "cell_type": "code",
   "execution_count": 5,
   "outputs": [],
   "source": [
    "def check_fold_cross(coordinate):\n",
    "    \"\"\"\n",
    "    check if a single polymer is folding or crossing\n",
    "    \"\"\"\n",
    "    assert np.shape(coordinate) == (16, 2)\n",
    "    folding_count = 0\n",
    "    crossing_count = 0\n",
    "    for i in range(0, len(coordinate)):\n",
    "        temp = coordinate[i]\n",
    "        if (temp == coordinate[:i]).all(axis=1).any():\n",
    "            if np.array_equal(temp, coordinate[:i][-2]):\n",
    "                folding_count += 1\n",
    "            else:\n",
    "                crossing_count += 1\n",
    "    return [folding_count, crossing_count]"
   ],
   "metadata": {
    "collapsed": false,
    "pycharm": {
     "name": "#%%\n"
    }
   }
  },
  {
   "cell_type": "code",
   "execution_count": 17,
   "outputs": [],
   "source": [
    "c = []\n",
    "for i in range(len(random_coordinate)):\n",
    "    if check_fold_cross(random_coordinate[i]) != [0,0]:\n",
    "        c.append(i) # self avoid"
   ],
   "metadata": {
    "collapsed": false,
    "pycharm": {
     "name": "#%%\n"
    }
   }
  },
  {
   "cell_type": "code",
   "execution_count": 18,
   "outputs": [
    {
     "ename": "IndexError",
     "evalue": "index 119292 is out of bounds for axis 0 with size 119292",
     "output_type": "error",
     "traceback": [
      "\u001B[0;31m---------------------------------------------------------------------------\u001B[0m",
      "\u001B[0;31mIndexError\u001B[0m                                Traceback (most recent call last)",
      "\u001B[0;32m/var/folders/98/lhwgh_tx6c33q4w0sw0tnn2c0000gn/T/ipykernel_6944/1448070350.py\u001B[0m in \u001B[0;36m<module>\u001B[0;34m\u001B[0m\n\u001B[1;32m      1\u001B[0m \u001B[0moutput\u001B[0m \u001B[0;34m=\u001B[0m \u001B[0mnp\u001B[0m\u001B[0;34m.\u001B[0m\u001B[0mzeros\u001B[0m\u001B[0;34m(\u001B[0m\u001B[0;34m(\u001B[0m\u001B[0mlen\u001B[0m\u001B[0;34m(\u001B[0m\u001B[0mc\u001B[0m\u001B[0;34m)\u001B[0m\u001B[0;34m,\u001B[0m \u001B[0;36m14\u001B[0m\u001B[0;34m,\u001B[0m \u001B[0;36m1\u001B[0m\u001B[0;34m)\u001B[0m\u001B[0;34m)\u001B[0m\u001B[0;34m\u001B[0m\u001B[0;34m\u001B[0m\u001B[0m\n\u001B[1;32m      2\u001B[0m \u001B[0;32mfor\u001B[0m \u001B[0mi\u001B[0m \u001B[0;32min\u001B[0m \u001B[0mc\u001B[0m\u001B[0;34m:\u001B[0m\u001B[0;34m\u001B[0m\u001B[0;34m\u001B[0m\u001B[0m\n\u001B[0;32m----> 3\u001B[0;31m     \u001B[0moutput\u001B[0m\u001B[0;34m[\u001B[0m\u001B[0mi\u001B[0m\u001B[0;34m]\u001B[0m \u001B[0;34m=\u001B[0m \u001B[0mrandom\u001B[0m\u001B[0;34m[\u001B[0m\u001B[0mi\u001B[0m\u001B[0;34m]\u001B[0m\u001B[0;34m\u001B[0m\u001B[0;34m\u001B[0m\u001B[0m\n\u001B[0m",
      "\u001B[0;31mIndexError\u001B[0m: index 119292 is out of bounds for axis 0 with size 119292"
     ]
    }
   ],
   "source": [
    "output = np.zeros((len(c), 14, 1))\n",
    "for i in c:\n",
    "    output[i] = random[i]"
   ],
   "metadata": {
    "collapsed": false,
    "pycharm": {
     "name": "#%%\n"
    }
   }
  },
  {
   "cell_type": "code",
   "execution_count": null,
   "metadata": {
    "collapsed": true
   },
   "outputs": [],
   "source": [
    "class tensor_dataset(Dataset):\n",
    "    def __init__(self, input_tensor, row_dim, column_dim):\n",
    "        self.input_tensor = input_tensor\n",
    "        self.row_dim = row_dim\n",
    "        self.column_dim = column_dim\n",
    "\n",
    "    def __len__(self):\n",
    "        return len(self.input_tensor)\n",
    "\n",
    "    def __getitem__(self, index: int):\n",
    "        tensor_id = index\n",
    "        tensor = self.input_tensor[tensor_id]\n",
    "        # convert the tensor from [x,y] to [1, x, y]\n",
    "        tensor = torch.reshape(tensor, [1, self.row_dim, self.column_dim])\n",
    "        # all label is 1(no label)\n",
    "        tensor_label = torch.tensor(1)\n",
    "        return tensor, tensor_label"
   ]
  },
  {
   "cell_type": "code",
   "execution_count": null,
   "outputs": [],
   "source": [],
   "metadata": {
    "collapsed": false,
    "pycharm": {
     "name": "#%%\n"
    }
   }
  }
 ],
 "metadata": {
  "kernelspec": {
   "display_name": "Python 3",
   "language": "python",
   "name": "python3"
  },
  "language_info": {
   "codemirror_mode": {
    "name": "ipython",
    "version": 2
   },
   "file_extension": ".py",
   "mimetype": "text/x-python",
   "name": "python",
   "nbconvert_exporter": "python",
   "pygments_lexer": "ipython2",
   "version": "2.7.6"
  }
 },
 "nbformat": 4,
 "nbformat_minor": 0
}
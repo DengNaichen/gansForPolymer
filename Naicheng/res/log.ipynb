{
 "cells": [
  {
   "cell_type": "code",
   "execution_count": 1,
   "metadata": {
    "collapsed": false,
    "pycharm": {
     "name": "#%%\n"
    }
   },
   "outputs": [],
   "source": [
    "import torch\n",
    "import numpy as np\n",
    "import matplotlib.pyplot as plt\n",
    "import seaborn as sns\n",
    "import process_data.dire_and_coor as dc\n",
    "import functions as func\n",
    "import process_data.n_n_distance as nn\n",
    "import json"
   ]
  },
  {
   "cell_type": "markdown",
   "metadata": {
    "collapsed": true,
    "pycharm": {
     "name": "#%% md\n"
    }
   },
   "source": [
    "## 27 Oct\n",
    "1. random walk training for single node\n",
    "2. 14 in, 14 out\n",
    "3. the input noise is normal distribution\n",
    "4. the expected output of generator is 4 peaks: 0, 1/4, 1/2, 3/4\n",
    "5. lr = 0.001, generator(sigmoid, sigmoid), discriminator(leaky relu, sigmoid)\n",
    "6. adam is using"
   ]
  },
  {
   "cell_type": "code",
   "execution_count": 2,
   "metadata": {
    "collapsed": false,
    "pycharm": {
     "name": "#%%\n"
    }
   },
   "outputs": [],
   "source": [
    "# load the model\n",
    "import fnn.single_node as single_node\n",
    "generator = single_node.GeneratorNet(14, 14)"
   ]
  },
  {
   "cell_type": "code",
   "execution_count": 48,
   "metadata": {
    "collapsed": false,
    "pycharm": {
     "name": "#%%\n"
    }
   },
   "outputs": [],
   "source": [
    "with open('../experiments/11_3/batch_size_128/four_layers_gen.json', 'r') as fp:\n",
    "    data = json.load(fp)\n",
    "with open('../experiments/11_3/batch_size_128/four_layers_disc.json', 'r') as fp:\n",
    "    data_1 = json.load(fp)"
   ]
  },
  {
   "cell_type": "code",
   "execution_count": 49,
   "outputs": [],
   "source": [
    "c = []\n",
    "d = []\n",
    "for i in data:\n",
    "    c += data[i]\n",
    "    d += data_1[i]"
   ],
   "metadata": {
    "collapsed": false,
    "pycharm": {
     "name": "#%%\n"
    }
   }
  },
  {
   "cell_type": "code",
   "execution_count": 50,
   "outputs": [
    {
     "data": {
      "text/plain": "[<matplotlib.lines.Line2D at 0x7fe57592fe80>]"
     },
     "execution_count": 50,
     "metadata": {},
     "output_type": "execute_result"
    },
    {
     "data": {
      "text/plain": "<Figure size 432x288 with 1 Axes>",
      "image/png": "[encoded data removed]"
     },
     "metadata": {
      "needs_background": "light"
     },
     "output_type": "display_data"
    }
   ],
   "source": [
    "plt.plot(c)\n",
    "plt.plot(d)"
   ],
   "metadata": {
    "collapsed": false,
    "pycharm": {
     "name": "#%%\n"
    }
   }
  },
  {
   "cell_type": "code",
   "execution_count": 3,
   "metadata": {
    "collapsed": false,
    "pycharm": {
     "name": "#%%\n"
    }
   },
   "outputs": [
    {
     "ename": "NameError",
     "evalue": "name 'generator' is not defined",
     "output_type": "error",
     "traceback": [
      "\u001B[0;31m---------------------------------------------------------------------------\u001B[0m",
      "\u001B[0;31mNameError\u001B[0m                                 Traceback (most recent call last)",
      "\u001B[0;32m/var/folders/98/lhwgh_tx6c33q4w0sw0tnn2c0000gn/T/ipykernel_2033/830618557.py\u001B[0m in \u001B[0;36m<module>\u001B[0;34m\u001B[0m\n\u001B[1;32m     36\u001B[0m \u001B[0;34m\u001B[0m\u001B[0m\n\u001B[1;32m     37\u001B[0m \u001B[0mnoise\u001B[0m \u001B[0;34m=\u001B[0m \u001B[0mfunc\u001B[0m\u001B[0;34m.\u001B[0m\u001B[0mget_noise\u001B[0m\u001B[0;34m(\u001B[0m\u001B[0;36m100000\u001B[0m\u001B[0;34m,\u001B[0m \u001B[0;36m14\u001B[0m\u001B[0;34m)\u001B[0m\u001B[0;34m\u001B[0m\u001B[0;34m\u001B[0m\u001B[0m\n\u001B[0;32m---> 38\u001B[0;31m \u001B[0moutput\u001B[0m \u001B[0;34m=\u001B[0m \u001B[0mgenerator\u001B[0m\u001B[0;34m(\u001B[0m\u001B[0mnoise\u001B[0m\u001B[0;34m)\u001B[0m\u001B[0;34m.\u001B[0m\u001B[0mdata\u001B[0m\u001B[0;34m.\u001B[0m\u001B[0mnumpy\u001B[0m\u001B[0;34m(\u001B[0m\u001B[0;34m)\u001B[0m\u001B[0;34m\u001B[0m\u001B[0;34m\u001B[0m\u001B[0m\n\u001B[0m\u001B[1;32m     39\u001B[0m \u001B[0;32mfor\u001B[0m \u001B[0mpar\u001B[0m \u001B[0;32min\u001B[0m \u001B[0mgenerator\u001B[0m\u001B[0;34m.\u001B[0m\u001B[0mparameters\u001B[0m\u001B[0;34m(\u001B[0m\u001B[0;34m)\u001B[0m\u001B[0;34m:\u001B[0m\u001B[0;34m\u001B[0m\u001B[0;34m\u001B[0m\u001B[0m\n\u001B[1;32m     40\u001B[0m     \u001B[0mprint\u001B[0m\u001B[0;34m(\u001B[0m\u001B[0mpar\u001B[0m\u001B[0;34m)\u001B[0m\u001B[0;34m\u001B[0m\u001B[0;34m\u001B[0m\u001B[0m\n",
      "\u001B[0;31mNameError\u001B[0m: name 'generator' is not defined"
     ]
    }
   ],
   "source": [
    "def check_output_hist(gen, number_bin, z_dim, num_polymer, epoch):\n",
    "\n",
    "    noise = func.get_noise(num_polymer, z_dim)\n",
    "    output = gen(noise).data.numpy()\n",
    "    output = output.reshape(-1,1)\n",
    "\n",
    "    plt.hist(output, density=True, bins=number_bin)\n",
    "    plt.title(f'output of generator{epoch}')\n",
    "    plt.show()\n",
    "\n",
    "    # output = np.round(output * 4) / 4\n",
    "    # sns.histplot(output)\n",
    "    # plt.title('output of generator after round')\n",
    "    # plt.show()\n",
    "\n",
    "\n",
    "def round_and_reshape(model, num_polymer, z_dim, shifted=True):\n",
    "    # load model\n",
    "    # get output\n",
    "    noise = func.get_noise(num_polymer, z_dim)\n",
    "    output = model(noise).data.numpy()\n",
    "    # round and reshape output\n",
    "    output = np.round(output * 4) / 4\n",
    "    if shifted:\n",
    "        output += (0.75/2)\n",
    "    for i in range(len(output)):\n",
    "        for j in range(len(output[i])):\n",
    "            if output[i][j] == 1.:\n",
    "                output[i][j] = 0\n",
    "    directions_14 = output.reshape((num_polymer, 14, 1))\n",
    "    directions = np.zeros((num_polymer, 15, 1))\n",
    "    for i in range(len(directions)):\n",
    "        directions[i] = np.vstack(([0], directions_14[i]))\n",
    "    return directions\n",
    "\n",
    "\n",
    "# noise = func.get_noise(100000, 14)\n",
    "# output = generator(noise).data.numpy()\n",
    "# for par in generator.parameters():\n",
    "#     print(par)"
   ]
  },
  {
   "cell_type": "markdown",
   "metadata": {
    "collapsed": false,
    "pycharm": {
     "name": "#%% md\n"
    }
   },
   "source": [
    "## conclusion we can draw for now\n",
    "1. the single node won't work for GAN, single node means no hidden layers, no matter how many"
   ]
  },
  {
   "cell_type": "code",
   "execution_count": 4,
   "outputs": [
    {
     "data": {
      "text/plain": "<Figure size 432x288 with 1 Axes>",
      "image/png": "[encoded data removed]"
     },
     "metadata": {
      "needs_background": "light"
     },
     "output_type": "display_data"
    }
   ],
   "source": [
    "import fnn.four_layers as four_layers\n",
    "generator = four_layers.GeneratorNet(14, 28)\n",
    "# for i in range(1, 19):\n",
    "check_point = torch.load(f'../experiments/11_5/four_layers_sin_cos_gen_{2000}.pth.tar')\n",
    "generator.load_state_dict(check_point['gen_state_dict'])\n",
    "check_output_hist(generator, 100, 14, 100000, 2000)"
   ],
   "metadata": {
    "collapsed": false,
    "pycharm": {
     "name": "#%%\n"
    }
   }
  },
  {
   "cell_type": "code",
   "execution_count": 5,
   "outputs": [],
   "source": [
    "num_polymer = 10000\n",
    "z_dim = 14\n",
    "noise = func.get_noise(num_polymer, z_dim)\n",
    "output = generator(noise).data.numpy()\n",
    "\n",
    "output = output.reshape(num_polymer, 14, 2)\n",
    "# convert sin cos coordinates to turn directions\n",
    "directions = np.zeros([num_polymer, 14, 1])\n",
    "convert = {\n",
    "    \"backward\": 0,\n",
    "    \"right_turn\": 1/4,\n",
    "    \"forward\": 1 / 2,\n",
    "    \"left_turn\": 3 / 4\n",
    "}\n",
    "\n",
    "for index, direction in enumerate(directions):\n",
    "# test = np.zeros((14, 1))\n",
    "#     j = 0\n",
    "    for j, item in enumerate(output[index]):\n",
    "        if item[np.argmax(np.abs(item))] < 0:\n",
    "            if np.argmax(np.abs(item)) == 0:\n",
    "                # the result is [-1,0]\n",
    "                direction[j] = convert['backward']\n",
    "            else:\n",
    "                # result is [0,-1]\n",
    "                direction[j] = convert['left_turn']\n",
    "        elif item[np.argmax(np.abs(item))] > 0:\n",
    "            if np.argmax(np.abs(item)) == 0:\n",
    "                # the result is [1,0]\n",
    "                direction[j] = convert['forward']\n",
    "            else:\n",
    "                # result is [0,1]\n",
    "                direction[j] = convert['right_turn']"
   ],
   "metadata": {
    "collapsed": false,
    "pycharm": {
     "name": "#%%\n"
    }
   }
  },
  {
   "cell_type": "code",
   "execution_count": 6,
   "outputs": [],
   "source": [
    "a = np.zeros((10000, 15, 1))\n",
    "# make the first one is forward\n",
    "for i in range(len(a)):\n",
    "    a[i] = np.vstack(([0], directions[i]))\n",
    "coordinates = dc.direction_coordinate_three(a, 16)"
   ],
   "metadata": {
    "collapsed": false,
    "pycharm": {
     "name": "#%%\n"
    }
   }
  },
  {
   "cell_type": "code",
   "execution_count": 7,
   "outputs": [
    {
     "data": {
      "text/plain": "3.8045236232674386"
     },
     "execution_count": 7,
     "metadata": {},
     "output_type": "execute_result"
    }
   ],
   "source": [
    "nn.n_n_distance(coordinates)"
   ],
   "metadata": {
    "collapsed": false,
    "pycharm": {
     "name": "#%%\n"
    }
   }
  },
  {
   "cell_type": "code",
   "execution_count": 8,
   "outputs": [
    {
     "data": {
      "text/plain": "0.9576066666666667"
     },
     "execution_count": 8,
     "metadata": {},
     "output_type": "execute_result"
    }
   ],
   "source": [
    "3.79 * 3.79 / 15"
   ],
   "metadata": {
    "collapsed": false,
    "pycharm": {
     "name": "#%%\n"
    }
   }
  },
  {
   "cell_type": "code",
   "execution_count": 12,
   "outputs": [],
   "source": [
    "def direction_to_str(directions):\n",
    "    st_all = []\n",
    "    for direction in directions:\n",
    "        st = \"\"\n",
    "        for i in direction:\n",
    "            st += str(int(i[0] * 4))\n",
    "        st_all.append(st)\n",
    "    return st_all"
   ],
   "metadata": {
    "collapsed": false,
    "pycharm": {
     "name": "#%%\n"
    }
   }
  },
  {
   "cell_type": "code",
   "execution_count": 13,
   "outputs": [],
   "source": [
    "c = direction_to_str(directions)"
   ],
   "metadata": {
    "collapsed": false,
    "pycharm": {
     "name": "#%%\n"
    }
   }
  },
  {
   "cell_type": "code",
   "execution_count": 14,
   "outputs": [],
   "source": [
    "list_2 = list(set(c))"
   ],
   "metadata": {
    "collapsed": false,
    "pycharm": {
     "name": "#%%\n"
    }
   }
  },
  {
   "cell_type": "code",
   "execution_count": 15,
   "outputs": [
    {
     "data": {
      "text/plain": "9092"
     },
     "execution_count": 15,
     "metadata": {},
     "output_type": "execute_result"
    }
   ],
   "source": [
    "len(list_2)\n"
   ],
   "metadata": {
    "collapsed": false,
    "pycharm": {
     "name": "#%%\n"
    }
   }
  },
  {
   "cell_type": "code",
   "execution_count": null,
   "outputs": [],
   "source": [],
   "metadata": {
    "collapsed": false,
    "pycharm": {
     "name": "#%%\n"
    }
   }
  }
 ],
 "metadata": {
  "kernelspec": {
   "display_name": "Python 3",
   "language": "python",
   "name": "python3"
  },
  "language_info": {
   "codemirror_mode": {
    "name": "ipython",
    "version": 2
   },
   "file_extension": ".py",
   "mimetype": "text/x-python",
   "name": "python",
   "nbconvert_exporter": "python",
   "pygments_lexer": "ipython2",
   "version": "2.7.6"
  }
 },
 "nbformat": 4,
 "nbformat_minor": 0
}
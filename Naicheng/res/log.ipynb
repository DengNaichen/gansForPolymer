{
 "cells": [
  {
   "cell_type": "code",
   "execution_count": 1,
   "metadata": {
    "collapsed": false,
    "pycharm": {
     "name": "#%%\n"
    }
   },
   "outputs": [],
   "source": [
    "import torch\n",
    "import numpy as np\n",
    "import matplotlib.pyplot as plt\n",
    "import seaborn as sns\n",
    "import process_data.dire_and_coor as dc\n",
    "import functions as func\n",
    "import process_data.n_n_distance as nn\n",
    "import json"
   ]
  },
  {
   "cell_type": "markdown",
   "metadata": {
    "collapsed": false,
    "pycharm": {
     "name": "#%% md\n"
    }
   },
   "source": [
    "## Nov 5\n",
    "### random polymer for 4 layers"
   ]
  },
  {
   "cell_type": "code",
   "execution_count": 2,
   "outputs": [],
   "source": [
    "def check_output_hist(gen, number_bin, z_dim, num_polymer, epoch):\n",
    "\n",
    "    noise = func.get_noise(num_polymer, z_dim)\n",
    "    output = gen(noise).data.numpy()\n",
    "    output = output.reshape(-1,1)\n",
    "\n",
    "    plt.hist(output, density=True, bins=number_bin)\n",
    "    plt.title(f'output of generator{epoch}')\n",
    "    plt.show()\n",
    "\n",
    "    output = np.round(output)\n",
    "    sns.histplot(output)\n",
    "    plt.title('output of generator after round')\n",
    "    plt.show()\n",
    "\n",
    "\n",
    "def round_and_reshape(model, num_polymer, z_dim, shifted=True):\n",
    "    # load model\n",
    "    # get output\n",
    "    noise = func.get_noise(num_polymer, z_dim)\n",
    "    output = model(noise).data.numpy()\n",
    "    # round and reshape output\n",
    "    output = np.round(output * 4) / 4\n",
    "    if shifted:\n",
    "        output += (0.75/2)\n",
    "    for i in range(len(output)):\n",
    "        for j in range(len(output[i])):\n",
    "            if output[i][j] == 1.:\n",
    "                output[i][j] = 0\n",
    "    directions_14 = output.reshape((num_polymer, 14, 1))\n",
    "    directions = np.zeros((num_polymer, 15, 1))\n",
    "    for i in range(len(directions)):\n",
    "        directions[i] = np.vstack(([0], directions_14[i]))\n",
    "    return directions\n",
    "\n",
    "def directions_to_str(directions):\n",
    "    st_all = []\n",
    "    for direction in directions:\n",
    "        st = \"\"\n",
    "        for i in direction:\n",
    "            st += str(int(i[0] * 4))\n",
    "        st_all.append(st)\n",
    "    return st_all"
   ],
   "metadata": {
    "collapsed": false,
    "pycharm": {
     "name": "#%%\n"
    }
   }
  },
  {
   "cell_type": "markdown",
   "metadata": {
    "collapsed": false,
    "pycharm": {
     "name": "#%% md\n"
    }
   },
   "source": [
    "## conclusion we can draw for now\n",
    "1. the single node won't work for GAN, single node means no hidden layers, no matter how many"
   ]
  },
  {
   "cell_type": "code",
   "execution_count": 9,
   "outputs": [
    {
     "data": {
      "text/plain": "<AxesSubplot:ylabel='Count'>"
     },
     "execution_count": 9,
     "metadata": {},
     "output_type": "execute_result"
    },
    {
     "data": {
      "text/plain": "<Figure size 432x288 with 1 Axes>",
      "image/png": "[encoded data removed]"
     },
     "metadata": {
      "needs_background": "light"
     },
     "output_type": "display_data"
    }
   ],
   "source": [
    "input_sin_cos = np.load('../data/self_avoid/16/directions.npy')\n",
    "input_coordinates = np.load('../data/self_avoid/16/coorinates.npy')\n",
    "input_hist = input_sin_cos.reshape(-1, 1)\n",
    "sns.histplot(input_hist)"
   ],
   "metadata": {
    "collapsed": false,
    "pycharm": {
     "name": "#%%\n"
    }
   }
  },
  {
   "cell_type": "code",
   "execution_count": 5,
   "outputs": [
    {
     "data": {
      "text/plain": "<Figure size 432x288 with 1 Axes>",
      "image/png": "[encoded data removed]"
     },
     "metadata": {
      "needs_background": "light"
     },
     "output_type": "display_data"
    },
    {
     "data": {
      "text/plain": "<Figure size 432x288 with 1 Axes>",
      "image/png": "[encoded data removed]"
     },
     "metadata": {
      "needs_background": "light"
     },
     "output_type": "display_data"
    }
   ],
   "source": [
    "import fnn.four_layers as four_layers\n",
    "generator = four_layers.GeneratorNet(14, 28)\n",
    "# for i in range(1, 19):\n",
    "# check_point = torch.load(f'../experiments/11_5/four_layers_sin_cos_gen_{2000}.pth.tar')\n",
    "check_point = torch.load(f'../experiments/11_7/four_layers_sincos_gen_{2000}.pth.tar')\n",
    "generator.load_state_dict(check_point['gen_state_dict'])\n",
    "check_output_hist(generator, 100, 14, 100000, 2000)"
   ],
   "metadata": {
    "collapsed": false,
    "pycharm": {
     "name": "#%%\n"
    }
   }
  },
  {
   "cell_type": "code",
   "execution_count": 6,
   "outputs": [],
   "source": [
    "num_polymer = 10000\n",
    "z_dim = 14\n",
    "noise = func.get_noise(num_polymer, z_dim)\n",
    "output = generator(noise).data.numpy()\n",
    "\n",
    "output = output.reshape(num_polymer, 14, 2)\n",
    "# convert sin cos coordinates to turn directions\n",
    "directions = np.zeros([num_polymer, 14, 1])\n",
    "convert = {\n",
    "    \"backward\": 0,\n",
    "    \"right_turn\": 1/4,\n",
    "    \"forward\": 1 / 2,\n",
    "    \"left_turn\": 3 / 4\n",
    "}\n",
    "\n",
    "for index, direction in enumerate(directions):\n",
    "# test = np.zeros((14, 1))\n",
    "#     j = 0\n",
    "    for j, item in enumerate(output[index]):\n",
    "        if item[np.argmax(np.abs(item))] < 0:\n",
    "            if np.argmax(np.abs(item)) == 0:\n",
    "                # the result is [-1,0]\n",
    "                direction[j] = convert['backward']\n",
    "            else:\n",
    "                # result is [0,-1]\n",
    "                direction[j] = convert['left_turn']\n",
    "        elif item[np.argmax(np.abs(item))] > 0:\n",
    "            if np.argmax(np.abs(item)) == 0:\n",
    "                # the result is [1,0]\n",
    "                direction[j] = convert['forward']\n",
    "            else:\n",
    "                # result is [0,1]\n",
    "                direction[j] = convert['right_turn']"
   ],
   "metadata": {
    "collapsed": false,
    "pycharm": {
     "name": "#%%\n"
    }
   }
  },
  {
   "cell_type": "code",
   "execution_count": 7,
   "outputs": [],
   "source": [
    "a = np.zeros((10000, 15, 1))\n",
    "# make the first one is forward\n",
    "for i in range(len(a)):\n",
    "    a[i] = np.vstack(([0], directions[i]))\n",
    "coordinates = dc.direction_coordinate_three(a, 16)"
   ],
   "metadata": {
    "collapsed": false,
    "pycharm": {
     "name": "#%%\n"
    }
   }
  },
  {
   "cell_type": "code",
   "execution_count": 8,
   "outputs": [
    {
     "name": "stdout",
     "output_type": "stream",
     "text": [
      "5.99559838548247\n",
      "1.5480568465014455\n"
     ]
    }
   ],
   "source": [
    "nndistance = nn.n_n_distance(coordinates)\n",
    "print(nndistance)\n",
    "ratio = nndistance / np.sqrt(15)\n",
    "print(ratio)"
   ],
   "metadata": {
    "collapsed": false,
    "pycharm": {
     "name": "#%%\n"
    }
   }
  },
  {
   "cell_type": "code",
   "execution_count": 10,
   "outputs": [
    {
     "name": "stdout",
     "output_type": "stream",
     "text": [
      "6.8818137144215115\n"
     ]
    }
   ],
   "source": [
    "input_nn = nn.n_n_distance(input_coordinates)\n",
    "print(input_nn)"
   ],
   "metadata": {
    "collapsed": false,
    "pycharm": {
     "name": "#%%\n"
    }
   }
  },
  {
   "cell_type": "code",
   "execution_count": 20,
   "outputs": [
    {
     "name": "stdout",
     "output_type": "stream",
     "text": [
      "9085\n"
     ]
    }
   ],
   "source": [
    "c = directions_to_str(directions)\n",
    "list_2 = list(set(c))\n",
    "num_independent_polymer = len(list_2)\n",
    "print(num_independent_polymer)"
   ],
   "metadata": {
    "collapsed": false,
    "pycharm": {
     "name": "#%%\n"
    }
   }
  },
  {
   "cell_type": "code",
   "execution_count": 21,
   "outputs": [],
   "source": [
    "# load real polymer\n",
    "real_direction = np.load('../data/random/16/directions.npy')\n",
    "real_direction_str = directions_to_str(real_direction)"
   ],
   "metadata": {
    "collapsed": false,
    "pycharm": {
     "name": "#%%\n"
    }
   }
  },
  {
   "cell_type": "code",
   "execution_count": 26,
   "outputs": [
    {
     "name": "stdout",
     "output_type": "stream",
     "text": [
      "5\n"
     ]
    }
   ],
   "source": [
    "overlap_count = 0\n",
    "for i in c:\n",
    "    if i in real_direction_str:\n",
    "        overlap_count += 1\n",
    "print(overlap_count)"
   ],
   "metadata": {
    "collapsed": false,
    "pycharm": {
     "name": "#%%\n"
    }
   }
  },
  {
   "cell_type": "code",
   "execution_count": 27,
   "outputs": [
    {
     "name": "stdout",
     "output_type": "stream",
     "text": [
      "the overlap percentage is 0.05%\n"
     ]
    }
   ],
   "source": [
    "print(f'the overlap percentage is {overlap_count / 10000 * 100}%')"
   ],
   "metadata": {
    "collapsed": false,
    "pycharm": {
     "name": "#%%\n"
    }
   }
  },
  {
   "cell_type": "markdown",
   "source": [
    "## Nov 7\n",
    "### self avoid polymer for 4 layers\n",
    "### z dimension is 14"
   ],
   "metadata": {
    "collapsed": false,
    "pycharm": {
     "name": "#%% md\n"
    }
   }
  },
  {
   "cell_type": "code",
   "execution_count": 12,
   "outputs": [],
   "source": [
    "#\n",
    "def check_fold_cross(coordinate):\n",
    "    \"\"\"\n",
    "    check if a single polymer is folding or crossing\n",
    "    \"\"\"\n",
    "    assert np.shape(coordinate) == (16, 2)\n",
    "    folding_count = 0\n",
    "    crossing_count = 0\n",
    "    for i in range(0, len(coordinate)):\n",
    "        temp = coordinate[i]\n",
    "        if (temp == coordinate[:i]).all(axis=1).any():\n",
    "            if np.array_equal(temp, coordinate[:i][-2]):\n",
    "                folding_count += 1\n",
    "            else:\n",
    "                crossing_count += 1\n",
    "    return [folding_count, crossing_count]\n"
   ],
   "metadata": {
    "collapsed": false,
    "pycharm": {
     "name": "#%%\n"
    }
   }
  },
  {
   "cell_type": "code",
   "execution_count": 14,
   "outputs": [],
   "source": [
    "check_list = []\n",
    "for coordinate in coordinates:\n",
    "    check_list.append(check_fold_cross(coordinate))\n",
    "\n"
   ],
   "metadata": {
    "collapsed": false,
    "pycharm": {
     "name": "#%%\n"
    }
   }
  },
  {
   "cell_type": "code",
   "execution_count": 16,
   "outputs": [],
   "source": [
    "count = 1\n",
    "for i in check_list:\n",
    "    if i == [0,0]:\n",
    "        count += 1\n",
    "\n",
    "\n"
   ],
   "metadata": {
    "collapsed": false,
    "pycharm": {
     "name": "#%%\n"
    }
   }
  },
  {
   "cell_type": "code",
   "execution_count": 17,
   "outputs": [
    {
     "data": {
      "text/plain": "0.4841"
     },
     "execution_count": 17,
     "metadata": {},
     "output_type": "execute_result"
    }
   ],
   "source": [
    "count/10000\n"
   ],
   "metadata": {
    "collapsed": false,
    "pycharm": {
     "name": "#%%\n"
    }
   }
  },
  {
   "cell_type": "code",
   "execution_count": null,
   "outputs": [],
   "source": [],
   "metadata": {
    "collapsed": false,
    "pycharm": {
     "name": "#%%\n"
    }
   }
  }
 ],
 "metadata": {
  "kernelspec": {
   "display_name": "Python 3",
   "language": "python",
   "name": "python3"
  },
  "language_info": {
   "codemirror_mode": {
    "name": "ipython",
    "version": 2
   },
   "file_extension": ".py",
   "mimetype": "text/x-python",
   "name": "python",
   "nbconvert_exporter": "python",
   "pygments_lexer": "ipython2",
   "version": "2.7.6"
  }
 },
 "nbformat": 4,
 "nbformat_minor": 0
}
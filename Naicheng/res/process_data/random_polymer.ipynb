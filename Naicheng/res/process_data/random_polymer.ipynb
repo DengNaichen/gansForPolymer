{
 "cells": [
  {
   "cell_type": "code",
   "execution_count": 2,
   "metadata": {
    "collapsed": true
   },
   "outputs": [],
   "source": [
    "import numpy as np\n",
    "import res.process_data.dire_and_coor as dc"
   ]
  },
  {
   "cell_type": "code",
   "execution_count": 3,
   "outputs": [],
   "source": [
    "# first generate 16 monomers\n",
    "# forward = 0, backward = 1/3, left = 2/3, right = 1\n",
    "# so the length of per polymer is 16, and the len of array is 15"
   ],
   "metadata": {
    "collapsed": false,
    "pycharm": {
     "name": "#%%\n"
    }
   }
  },
  {
   "cell_type": "code",
   "execution_count": 4,
   "outputs": [],
   "source": [
    "sixteen = np.random.randint(4, size = (100000, 14, 1)) / 4\n",
    "# a = np.zeros((100000, 15, 1))\n",
    "# make the first one is forward\n",
    "# for i in range(len(sixteen)):\n",
    "#     a[i] = np.vstack(([0], sixteen[i]))"
   ],
   "metadata": {
    "collapsed": false,
    "pycharm": {
     "name": "#%%\n"
    }
   }
  },
  {
   "cell_type": "code",
   "execution_count": 5,
   "outputs": [],
   "source": [
    "np.save('../../data/random/16monos/directions.npy', sixteen)\n",
    "# coordinates_16 = dc.direction_coordinate_three(a, 16)\n",
    "# np.save('../../data/random/16monos/coordinates.npy', coordinates_16)"
   ],
   "metadata": {
    "collapsed": false,
    "pycharm": {
     "name": "#%%\n"
    }
   }
  },
  {
   "cell_type": "code",
   "execution_count": 14,
   "outputs": [],
   "source": [
    "# distance_array = np.zeros(100000)\n",
    "# for i in range(100000):\n",
    "#     distance_array[i] = n_n_distance(coordinates_16[i])"
   ],
   "metadata": {
    "collapsed": false,
    "pycharm": {
     "name": "#%%\n"
    }
   }
  },
  {
   "cell_type": "code",
   "execution_count": 16,
   "outputs": [
    {
     "name": "stdout",
     "output_type": "stream",
     "text": [
      "3.456361190703273\n",
      "1.7575685817060593\n"
     ]
    }
   ],
   "source": [
    "print(np.mean(distance_array))\n",
    "print(np.std(distance_array))"
   ],
   "metadata": {
    "collapsed": false,
    "pycharm": {
     "name": "#%%\n"
    }
   }
  },
  {
   "cell_type": "code",
   "execution_count": 17,
   "outputs": [],
   "source": [
    "three_two = np.random.randint(4, size= (100000, 30, 1)) / 4\n",
    "\n",
    "a = np.zeros((100000, 31, 1))\n",
    "# make the first one is forward\n",
    "for i in range(len(three_two)):\n",
    "    a[i] = np.vstack(([0], three_two[i]))\n",
    "\n",
    "np.save('../../data/random/32monos/four_directions.npy', a)\n",
    "coordinates_32 = dc.direction_coordinate_three(a, 32)\n",
    "np.save('../../data/random/32monos/coordinates.npy', coordinates_32)"
   ],
   "metadata": {
    "collapsed": false,
    "pycharm": {
     "name": "#%%\n"
    }
   }
  },
  {
   "cell_type": "code",
   "execution_count": 18,
   "outputs": [
    {
     "name": "stdout",
     "output_type": "stream",
     "text": [
      "4.957537108464943\n",
      "2.5489342514457007\n"
     ]
    }
   ],
   "source": [
    "distance_array = np.zeros(100000)\n",
    "for i in range(100000):\n",
    "    distance_array[i] = n_n_distance(coordinates_32[i])\n",
    "print(np.mean(distance_array))\n",
    "print(np.std(distance_array))"
   ],
   "metadata": {
    "collapsed": false,
    "pycharm": {
     "name": "#%%\n"
    }
   }
  },
  {
   "cell_type": "code",
   "execution_count": 19,
   "outputs": [],
   "source": [
    "six_four = np.random.randint(4, size= (100000, 62, 1)) / 3\n",
    "a = np.zeros((100000, 63, 1))\n",
    "# make the first one is forward\n",
    "for i in range(len(a)):\n",
    "    a[i] = np.vstack(([0], six_four[i]))\n",
    "\n",
    "np.save('../../data/random/64monos/four_directions.npy', a)\n",
    "coordinates_64 = dc.direction_coordinate_three(a, 64)\n",
    "np.save('../../data/random/64monos/coordinates.npy', coordinates_64)"
   ],
   "metadata": {
    "collapsed": false,
    "pycharm": {
     "name": "#%%\n"
    }
   }
  },
  {
   "cell_type": "code",
   "execution_count": 27,
   "outputs": [],
   "source": [
    "coordinates_16 = np.load('../../data/random/16monos/coordinates.npy')\n",
    "coordinates_32 = np.load('../../data/random/32monos/coordinates.npy')\n",
    "coordinates_64 = np.load('../../data/random/64monos/coordinates.npy')\n"
   ],
   "metadata": {
    "collapsed": false,
    "pycharm": {
     "name": "#%%\n"
    }
   }
  },
  {
   "cell_type": "code",
   "execution_count": 7,
   "outputs": [],
   "source": [],
   "metadata": {
    "collapsed": false,
    "pycharm": {
     "name": "#%%\n"
    }
   }
  },
  {
   "cell_type": "code",
   "execution_count": 8,
   "outputs": [],
   "source": [],
   "metadata": {
    "collapsed": false,
    "pycharm": {
     "name": "#%%\n"
    }
   }
  },
  {
   "cell_type": "code",
   "execution_count": 12,
   "outputs": [],
   "source": [
    "from tqdm.auto import tqdm\n",
    "up = np.array([0,1])\n",
    "down = np.array([0,-1])\n",
    "right = np.array([1,0])\n",
    "left = np.array([-1,0])\n",
    "a = np.zeros([10000, 16, 2])\n",
    "dirc = {0: up,1: down,2: right,3: left}\n",
    "for i in a:\n",
    "    for j in range(1,16):\n",
    "        i[j] = i[j - 1] + dirc[np.random.randint(0, 4)]"
   ],
   "metadata": {
    "collapsed": false,
    "pycharm": {
     "name": "#%%\n"
    }
   }
  },
  {
   "cell_type": "code",
   "execution_count": 13,
   "outputs": [
    {
     "name": "stdout",
     "output_type": "stream",
     "text": [
      "3.4381545494834596\n",
      "1.7583780292832898\n"
     ]
    }
   ],
   "source": [
    "distance_array = np.zeros(10000)\n",
    "for i in range(10000):\n",
    "    distance_array[i] = n_n_distance(a[i])\n",
    "print(np.mean(distance_array))\n",
    "print(np.std(distance_array))"
   ],
   "metadata": {
    "collapsed": false,
    "pycharm": {
     "name": "#%%\n"
    }
   }
  },
  {
   "cell_type": "code",
   "execution_count": 28,
   "outputs": [
    {
     "name": "stdout",
     "output_type": "stream",
     "text": [
      "4.957537108464943\n",
      "2.5489342514457007\n"
     ]
    }
   ],
   "source": [
    "distance_array = np.zeros(100000)\n",
    "for i in range(100000):\n",
    "    distance_array[i] = n_n_distance(coordinates_32[i])\n",
    "print(np.mean(distance_array))\n",
    "print(np.std(distance_array))"
   ],
   "metadata": {
    "collapsed": false,
    "pycharm": {
     "name": "#%%\n"
    }
   }
  },
  {
   "cell_type": "code",
   "execution_count": 29,
   "outputs": [
    {
     "name": "stdout",
     "output_type": "stream",
     "text": [
      "0.0\n",
      "0.0\n"
     ]
    }
   ],
   "source": [
    "distance_array = np.zeros(100000)\n",
    "for i in range(100000):\n",
    "    distance_array[i] = n_n_distance(coordinates_64[i])\n",
    "print(np.mean(distance_array))\n",
    "print(np.std(distance_array))\n"
   ],
   "metadata": {
    "collapsed": false,
    "pycharm": {
     "name": "#%%\n"
    }
   }
  },
  {
   "cell_type": "code",
   "execution_count": 10,
   "outputs": [
    {
     "data": {
      "text/plain": "3.872983346207417"
     },
     "execution_count": 10,
     "metadata": {},
     "output_type": "execute_result"
    }
   ],
   "source": [
    "import numpy as np\n",
    "# 3.4381545494834596 1, 4\n",
    "# 3.456361190703273, 1 , 5\n",
    "# 3.4506018295955156, 1, 6\n",
    "np.sqrt(15)"
   ],
   "metadata": {
    "collapsed": false,
    "pycharm": {
     "name": "#%%\n"
    }
   }
  },
  {
   "cell_type": "code",
   "execution_count": 16,
   "outputs": [
    {
     "data": {
      "text/plain": "<Figure size 432x288 with 1 Axes>",
      "image/png": "[encoded data removed]"
     },
     "metadata": {
      "needs_background": "light"
     },
     "output_type": "display_data"
    }
   ],
   "source": [
    "import numpy\n",
    "import pylab\n",
    "import random\n",
    "n = 100000\n",
    "x = numpy.zeros(n)\n",
    "y = numpy.zeros(n)\n",
    "for i in range(1, n):\n",
    "    val = random.randint(1, 4)\n",
    "if val == 1:\n",
    "    x[i] = x[i - 1] + 1\n",
    "    y[i] = y[i - 1]\n",
    "elif val == 2:\n",
    "    x[i] = x[i - 1] - 1\n",
    "    y[i] = y[i - 1]\n",
    "elif val == 3:\n",
    "    x[i] = x[i - 1]\n",
    "    y[i] = y[i - 1] + 1\n",
    "else:\n",
    "    x[i] = x[i - 1]\n",
    "    y[i] = y[i - 1] - 1\n",
    "#plotting stuff:\n",
    "pylab.title(\"Random Walk ($n = \" + str(n) + \"$ steps)\")\n",
    "pylab.plot(x, y)\n",
    "pylab.savefig(\"rand_walk\"+str(n)+\".png\",bbox_inches=\"tight\",dpi=600)\n",
    "pylab.show()"
   ],
   "metadata": {
    "collapsed": false,
    "pycharm": {
     "name": "#%%\n"
    }
   }
  },
  {
   "cell_type": "code",
   "execution_count": 40,
   "outputs": [],
   "source": [
    "import numpy\n",
    "import pylab\n",
    "import random\n",
    "\n",
    "# defining the number of steps\n",
    "def random_walk():\n",
    "    n = 16\n",
    "\n",
    "    #creating two array for containing x and y coordinate\n",
    "    #of size equals to the number of size and filled up with 0's\n",
    "    x = numpy.zeros(n)\n",
    "    y = numpy.zeros(n)\n",
    "\n",
    "    # filling the coordinates with random variables\n",
    "    for i in range(1, n):\n",
    "        val = random.randint(1, 4)\n",
    "        if val == 1:\n",
    "            x[i] = x[i - 1] + 1\n",
    "            y[i] = y[i - 1]\n",
    "        elif val == 2:\n",
    "            x[i] = x[i - 1] - 1\n",
    "            y[i] = y[i - 1]\n",
    "        elif val == 3:\n",
    "            x[i] = x[i - 1]\n",
    "            y[i] = y[i - 1] + 1\n",
    "        else:\n",
    "            x[i] = x[i - 1]\n",
    "            y[i] = y[i - 1] - 1\n",
    "# plotting stuff:\n",
    "# pylab.title(\"Random Walk ($n = \" + str(n) + \"$ steps)\")\n",
    "# pylab.plot(x, y)\n",
    "# # pylab.savefig(\"rand_walk\"+str(n)+\".png\",bbox_inches=\"tight\",dpi=600)\n",
    "# pylab.show()\n",
    "    return x, y"
   ],
   "metadata": {
    "collapsed": false,
    "pycharm": {
     "name": "#%%\n"
    }
   }
  },
  {
   "cell_type": "code",
   "execution_count": 41,
   "outputs": [],
   "source": [
    "coordinate = np.zeros([100000, 16, 2])\n",
    "for i in coordinate:\n",
    "    x, y = random_walk()\n",
    "    for j in range(len(a)):\n",
    "        i[j][0], i[j][1] = x[j], y[j]"
   ],
   "metadata": {
    "collapsed": false,
    "pycharm": {
     "name": "#%%\n"
    }
   }
  },
  {
   "cell_type": "code",
   "execution_count": 42,
   "outputs": [
    {
     "name": "stdout",
     "output_type": "stream",
     "text": [
      "3.454432575216058\n",
      "1.760038517557542\n"
     ]
    }
   ],
   "source": [
    "distance_array = np.zeros(100000)\n",
    "for i in range(100000):\n",
    "    distance_array[i] = n_n_distance(coordinate[i])\n",
    "print(np.mean(distance_array))\n",
    "print(np.std(distance_array))"
   ],
   "metadata": {
    "collapsed": false,
    "pycharm": {
     "name": "#%%\n"
    }
   }
  },
  {
   "cell_type": "code",
   "execution_count": null,
   "outputs": [],
   "source": [
    "x q"
   ],
   "metadata": {
    "collapsed": false,
    "pycharm": {
     "name": "#%%\n"
    }
   }
  }
 ],
 "metadata": {
  "kernelspec": {
   "name": "python397jvsc74a57bd0a484108a100215486129c0ad108ce22c45b7345c332f31f73c42bc75d883ba26",
   "language": "python",
   "display_name": "Python 3.9.7 64-bit ('nn': conda)"
  },
  "language_info": {
   "codemirror_mode": {
    "name": "ipython",
    "version": 2
   },
   "file_extension": ".py",
   "mimetype": "text/x-python",
   "name": "python",
   "nbconvert_exporter": "python",
   "pygments_lexer": "ipython2",
   "version": "2.7.6"
  }
 },
 "nbformat": 4,
 "nbformat_minor": 0
}
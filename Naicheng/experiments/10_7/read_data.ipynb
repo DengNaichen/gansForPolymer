{
 "cells": [
  {
   "cell_type": "code",
   "execution_count": 1,
   "source": [
    "import torch\n",
    "import numpy as np\n",
    "import sys, os\n",
    "currentdir = os.path.dirname(os.path.abspath(''))\n",
    "parentdir = os.path.dirname(currentdir)\n",
    "sys.path.append(parentdir)\n",
    "print(parentdir)"
   ],
   "outputs": [
    {
     "output_type": "stream",
     "name": "stdout",
     "text": [
      "/Users/dengnaicheng/Developer/intro_GANs/gansForPolymer/Naicheng\n"
     ]
    }
   ],
   "metadata": {}
  },
  {
   "cell_type": "markdown",
   "source": [
    "### read the coordinate data from Prof Chen"
   ],
   "metadata": {}
  },
  {
   "cell_type": "code",
   "execution_count": 2,
   "source": [
    "import res.process_data.process_raw_data as pr\n",
    "coordinate = pr.read_coordinate(16, '../../data/Coordinates.dat')"
   ],
   "outputs": [],
   "metadata": {}
  },
  {
   "cell_type": "code",
   "execution_count": 3,
   "source": [
    "import res.process_data.dire_and_coor as dc"
   ],
   "outputs": [],
   "metadata": {}
  },
  {
   "cell_type": "code",
   "execution_count": 4,
   "source": [
    "directions = dc.coordinates_directions_three(coordinate)"
   ],
   "outputs": [],
   "metadata": {}
  },
  {
   "cell_type": "code",
   "execution_count": 5,
   "source": [
    "directions"
   ],
   "outputs": [
    {
     "output_type": "execute_result",
     "data": {
      "text/plain": [
       "array([[[0.  ],\n",
       "        [0.75],\n",
       "        [0.5 ],\n",
       "        ...,\n",
       "        [0.25],\n",
       "        [0.5 ],\n",
       "        [0.25]],\n",
       "\n",
       "       [[0.  ],\n",
       "        [0.5 ],\n",
       "        [0.5 ],\n",
       "        ...,\n",
       "        [0.5 ],\n",
       "        [0.5 ],\n",
       "        [0.5 ]],\n",
       "\n",
       "       [[0.  ],\n",
       "        [0.5 ],\n",
       "        [0.25],\n",
       "        ...,\n",
       "        [0.75],\n",
       "        [0.75],\n",
       "        [0.25]],\n",
       "\n",
       "       ...,\n",
       "\n",
       "       [[0.  ],\n",
       "        [0.25],\n",
       "        [0.5 ],\n",
       "        ...,\n",
       "        [0.25],\n",
       "        [0.25],\n",
       "        [0.75]],\n",
       "\n",
       "       [[0.  ],\n",
       "        [0.75],\n",
       "        [0.5 ],\n",
       "        ...,\n",
       "        [0.5 ],\n",
       "        [0.75],\n",
       "        [0.25]],\n",
       "\n",
       "       [[0.  ],\n",
       "        [0.5 ],\n",
       "        [0.5 ],\n",
       "        ...,\n",
       "        [0.75],\n",
       "        [0.25],\n",
       "        [0.5 ]]])"
      ]
     },
     "metadata": {},
     "execution_count": 5
    }
   ],
   "metadata": {}
  },
  {
   "cell_type": "code",
   "execution_count": 8,
   "source": [
    "a = dc.direction_coordinate_three(directions, 16)"
   ],
   "outputs": [],
   "metadata": {}
  },
  {
   "cell_type": "code",
   "execution_count": 17,
   "source": [
    "import matplotlib.pyplot as plt\n",
    "n = 4\n",
    "def plot_polymer(coordinate):\n",
    "    x, y = [], []\n",
    "    for i in coordinate:\n",
    "        x.append(i[0])\n",
    "        y.append(i[1])\n",
    "    plt.plot(x, y)\n",
    "    plt.show()\n",
    "plot_polymer(coordinate[n])\n",
    "plot_polymer(a[n])"
   ],
   "outputs": [
    {
     "output_type": "display_data",
     "data": {
      "image/png": "[encoded data removed]",
      "text/plain": [
       "<Figure size 432x288 with 1 Axes>"
      ]
     },
     "metadata": {
      "needs_background": "light"
     }
    },
    {
     "output_type": "display_data",
     "data": {
      "image/png": "[encoded data removed]",
      "text/plain": [
       "<Figure size 432x288 with 1 Axes>"
      ]
     },
     "metadata": {
      "needs_background": "light"
     }
    }
   ],
   "metadata": {}
  },
  {
   "cell_type": "code",
   "execution_count": 13,
   "source": [],
   "outputs": [
    {
     "output_type": "display_data",
     "data": {
      "image/png": "[encoded data removed]",
      "text/plain": [
       "<Figure size 432x288 with 1 Axes>"
      ]
     },
     "metadata": {
      "needs_background": "light"
     }
    }
   ],
   "metadata": {}
  },
  {
   "cell_type": "code",
   "execution_count": 18,
   "source": [
    "np.save('../../data/self_avoid/coorinates_16.npy', coordinate)"
   ],
   "outputs": [],
   "metadata": {}
  },
  {
   "cell_type": "code",
   "execution_count": 19,
   "source": [
    "np.save('../../data/self_avoid/directions_16.npy', directions)"
   ],
   "outputs": [],
   "metadata": {}
  },
  {
   "cell_type": "code",
   "execution_count": null,
   "source": [],
   "outputs": [],
   "metadata": {}
  }
 ],
 "metadata": {
  "orig_nbformat": 4,
  "language_info": {
   "name": "python",
   "version": "3.7.7",
   "mimetype": "text/x-python",
   "codemirror_mode": {
    "name": "ipython",
    "version": 3
   },
   "pygments_lexer": "ipython3",
   "nbconvert_exporter": "python",
   "file_extension": ".py"
  },
  "kernelspec": {
   "name": "python3",
   "display_name": "Python 3.7.7 64-bit ('nn': conda)"
  },
  "interpreter": {
   "hash": "7730c0d776d751709ccd13122b82dd2bb34992ff422585b887faec20c724fcc9"
  }
 },
 "nbformat": 4,
 "nbformat_minor": 2
}
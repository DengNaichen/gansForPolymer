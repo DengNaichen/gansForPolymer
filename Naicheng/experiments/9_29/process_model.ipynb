{
 "cells": [
  {
   "cell_type": "code",
   "execution_count": 12,
   "source": [
    "import torch\n",
    "import model as model\n",
    "import numpy as np"
   ],
   "outputs": [],
   "metadata": {
    "collapsed": true
   }
  },
  {
   "cell_type": "code",
   "execution_count": 4,
   "source": [
    "import sys, os\n",
    "currentdir = os.path.dirname(os.path.abspath(''))\n",
    "parentdir = os.path.dirname(currentdir)\n",
    "sys.path.append(parentdir)\n",
    "print(parentdir)"
   ],
   "outputs": [
    {
     "output_type": "stream",
     "name": "stdout",
     "text": [
      "/Users/dengnaicheng/Developer/intro_GANs/gansForPolymer/Naicheng\n"
     ]
    }
   ],
   "metadata": {}
  },
  {
   "cell_type": "code",
   "execution_count": 59,
   "source": [
    "import res.fnn.functions as func\n",
    "from res.process_data.dataset import tensor_dataset\n",
    "from res.fnn.training import training_bce\n",
    "import res.process_data.process_output as pro_out\n",
    "import res.process_data.slice_output as so\n",
    "import res.process_data.dire_and_coor as dc"
   ],
   "outputs": [],
   "metadata": {}
  },
  {
   "cell_type": "code",
   "execution_count": 92,
   "source": [
    "# check the un-trained model\n",
    "generator = model.GeneratorNet()\n",
    "noise = func.get_noise(1000, 8)\n",
    "output = generator(noise).data.numpy()\n",
    "directions = np.round(so.slice_direction(output) * 4) / 4\n",
    "print(directions)"
   ],
   "outputs": [
    {
     "output_type": "stream",
     "name": "stdout",
     "text": [
      "[[[0.5]\n",
      "  [0.5]\n",
      "  [0.5]\n",
      "  ...\n",
      "  [0.5]\n",
      "  [0.5]\n",
      "  [0.5]]\n",
      "\n",
      " [[0.5]\n",
      "  [0.5]\n",
      "  [0.5]\n",
      "  ...\n",
      "  [0.5]\n",
      "  [0.5]\n",
      "  [0.5]]\n",
      "\n",
      " [[0.5]\n",
      "  [0.5]\n",
      "  [0.5]\n",
      "  ...\n",
      "  [0.5]\n",
      "  [0.5]\n",
      "  [0.5]]\n",
      "\n",
      " ...\n",
      "\n",
      " [[0.5]\n",
      "  [0.5]\n",
      "  [0.5]\n",
      "  ...\n",
      "  [0.5]\n",
      "  [0.5]\n",
      "  [0.5]]\n",
      "\n",
      " [[0.5]\n",
      "  [0.5]\n",
      "  [0.5]\n",
      "  ...\n",
      "  [0.5]\n",
      "  [0.5]\n",
      "  [0.5]]\n",
      "\n",
      " [[0.5]\n",
      "  [0.5]\n",
      "  [0.5]\n",
      "  ...\n",
      "  [0.5]\n",
      "  [0.5]\n",
      "  [0.5]]]\n"
     ]
    }
   ],
   "metadata": {}
  },
  {
   "cell_type": "code",
   "execution_count": 93,
   "source": [
    "# check the trained model\n",
    "generator = model.GeneratorNet()\n",
    "checkpoint = torch.load('models/model_gan_2400.pth.tar')\n",
    "generator.state_dict(checkpoint['gen_state_dict'])\n",
    "noise = func.get_noise(1000, 8)\n",
    "output = generator(noise).data.numpy()\n",
    "directions = np.round(so.slice_direction(output) * 4) / 4\n",
    "print(directions)"
   ],
   "outputs": [
    {
     "output_type": "stream",
     "name": "stdout",
     "text": [
      "[[[0.5]\n",
      "  [0.5]\n",
      "  [0.5]\n",
      "  ...\n",
      "  [0.5]\n",
      "  [0.5]\n",
      "  [0.5]]\n",
      "\n",
      " [[0.5]\n",
      "  [0.5]\n",
      "  [0.5]\n",
      "  ...\n",
      "  [0.5]\n",
      "  [0.5]\n",
      "  [0.5]]\n",
      "\n",
      " [[0.5]\n",
      "  [0.5]\n",
      "  [0.5]\n",
      "  ...\n",
      "  [0.5]\n",
      "  [0.5]\n",
      "  [0.5]]\n",
      "\n",
      " ...\n",
      "\n",
      " [[0.5]\n",
      "  [0.5]\n",
      "  [0.5]\n",
      "  ...\n",
      "  [0.5]\n",
      "  [0.5]\n",
      "  [0.5]]\n",
      "\n",
      " [[0.5]\n",
      "  [0.5]\n",
      "  [0.5]\n",
      "  ...\n",
      "  [0.5]\n",
      "  [0.5]\n",
      "  [0.5]]\n",
      "\n",
      " [[0.5]\n",
      "  [0.5]\n",
      "  [0.5]\n",
      "  ...\n",
      "  [0.5]\n",
      "  [0.5]\n",
      "  [0.5]]]\n"
     ]
    }
   ],
   "metadata": {}
  },
  {
   "cell_type": "markdown",
   "source": [
    "## Nothing changes"
   ],
   "metadata": {}
  },
  {
   "cell_type": "markdown",
   "source": [],
   "metadata": {}
  }
 ],
 "metadata": {
  "kernelspec": {
   "name": "python3",
   "display_name": "Python 3.7.7 64-bit ('nn': conda)"
  },
  "language_info": {
   "name": "python",
   "version": "3.7.7",
   "mimetype": "text/x-python",
   "codemirror_mode": {
    "name": "ipython",
    "version": 3
   },
   "pygments_lexer": "ipython3",
   "nbconvert_exporter": "python",
   "file_extension": ".py"
  },
  "interpreter": {
   "hash": "7730c0d776d751709ccd13122b82dd2bb34992ff422585b887faec20c724fcc9"
  }
 },
 "nbformat": 4,
 "nbformat_minor": 2
}
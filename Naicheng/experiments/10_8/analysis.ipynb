{
 "cells": [
  {
   "cell_type": "code",
   "execution_count": 1,
   "metadata": {
    "collapsed": true
   },
   "outputs": [],
   "source": [
    "import torch\n",
    "import numpy as np\n",
    "from torch.utils.data import DataLoader\n",
    "import os, sys\n",
    "import seaborn as sns\n",
    "import matplotlib.pyplot as plt\n",
    "\n",
    "currentdir = os.path.dirname(os.path.abspath(''))\n",
    "parentdir = os.path.dirname(currentdir)\n",
    "grandparentdir = os.path.dirname(parentdir)\n",
    "sys.path.append(grandparentdir)"
   ]
  },
  {
   "cell_type": "code",
   "execution_count": 2,
   "outputs": [
    {
     "name": "stdout",
     "output_type": "stream",
     "text": [
      "/Users/dengnaicheng/Developer/intro_GANs/gansForPolymer/Naicheng/res/fnn\n"
     ]
    }
   ],
   "source": [
    "from res.process_data.dataset import tensor_dataset\n",
    "from res.fnn.training import training_bce\n",
    "import res.process_data.process_output as pro_out\n",
    "import res.fnn.functions as func\n",
    "import res.process_data.dire_and_coor as dc\n",
    "import res.process_data.n_n_distance as nndistance\n",
    "from res.process_data.dataset import tensor_dataset"
   ],
   "metadata": {
    "collapsed": false,
    "pycharm": {
     "name": "#%%\n"
    }
   }
  },
  {
   "cell_type": "markdown",
   "source": [
    "## single node\n",
    "### check the target output"
   ],
   "metadata": {
    "collapsed": false,
    "pycharm": {
     "name": "#%% md\n"
    }
   }
  },
  {
   "cell_type": "markdown",
   "source": [
    "## input random walk"
   ],
   "metadata": {
    "collapsed": false,
    "pycharm": {
     "name": "#%% md\n"
    }
   }
  },
  {
   "cell_type": "code",
   "execution_count": 3,
   "outputs": [
    {
     "name": "stdout",
     "output_type": "stream",
     "text": [
      "3.8775610891383776\n",
      "15.035480000000002\n"
     ]
    }
   ],
   "source": [
    "coor_input = np.load('../../data/random/16monos/coordinates.npy')\n",
    "input_distance = nndistance.n_n_distance(coor_input)\n",
    "print(input_distance)\n",
    "print(input_distance ** 2)"
   ],
   "metadata": {
    "collapsed": false,
    "pycharm": {
     "name": "#%%\n"
    }
   }
  },
  {
   "cell_type": "code",
   "execution_count": 4,
   "outputs": [
    {
     "ename": "NameError",
     "evalue": "name 'model' is not defined",
     "output_type": "error",
     "traceback": [
      "\u001B[0;31m---------------------------------------------------------------------------\u001B[0m",
      "\u001B[0;31mNameError\u001B[0m                                 Traceback (most recent call last)",
      "\u001B[0;32m<ipython-input-4-1c04852a2446>\u001B[0m in \u001B[0;36m<module>\u001B[0;34m\u001B[0m\n\u001B[1;32m      5\u001B[0m                                 \u001B[0;34m\"left\"\u001B[0m\u001B[0;34m:\u001B[0m \u001B[0;36m0\u001B[0m\u001B[0;34m,\u001B[0m\u001B[0;34m\u001B[0m\u001B[0;34m\u001B[0m\u001B[0m\n\u001B[1;32m      6\u001B[0m                                 \"right\": 0}\n\u001B[0;32m----> 7\u001B[0;31m     \u001B[0mgenerator\u001B[0m \u001B[0;34m=\u001B[0m \u001B[0mmodel\u001B[0m\u001B[0;34m.\u001B[0m\u001B[0mGeneratorNet\u001B[0m\u001B[0;34m(\u001B[0m\u001B[0;34m)\u001B[0m\u001B[0;34m\u001B[0m\u001B[0;34m\u001B[0m\u001B[0m\n\u001B[0m\u001B[1;32m      8\u001B[0m     \u001B[0mcheckpoint\u001B[0m \u001B[0;34m=\u001B[0m \u001B[0mtorch\u001B[0m\u001B[0;34m.\u001B[0m\u001B[0mload\u001B[0m\u001B[0;34m(\u001B[0m\u001B[0;34mf'random_models/three_layers/model_gan_{i * 100}.pth.tar'\u001B[0m\u001B[0;34m)\u001B[0m\u001B[0;34m\u001B[0m\u001B[0;34m\u001B[0m\u001B[0m\n\u001B[1;32m      9\u001B[0m     \u001B[0mgenerator\u001B[0m\u001B[0;34m.\u001B[0m\u001B[0mload_state_dict\u001B[0m\u001B[0;34m(\u001B[0m\u001B[0mcheckpoint\u001B[0m\u001B[0;34m[\u001B[0m\u001B[0;34m'gen_state_dict'\u001B[0m\u001B[0;34m]\u001B[0m\u001B[0;34m)\u001B[0m\u001B[0;34m\u001B[0m\u001B[0;34m\u001B[0m\u001B[0m\n",
      "\u001B[0;31mNameError\u001B[0m: name 'model' is not defined"
     ]
    }
   ],
   "source": [
    "target = {}\n",
    "for i in range(1, 21):\n",
    "    target[f'epoch{i * 100}'] = {\"backward\": 0,\n",
    "                                \"forward\": 0,\n",
    "                                \"left\": 0,\n",
    "                                \"right\": 0}\n",
    "    generator = model.GeneratorNet()\n",
    "    checkpoint = torch.load(f'random_models/three_layers/model_gan_{i * 100}.pth.tar')\n",
    "    generator.load_state_dict(checkpoint['gen_state_dict'])\n",
    "    noise = func.get_noise(10000, 8)\n",
    "    output = generator(noise).data.numpy().reshape(150000)\n",
    "    # sns.histplot(output)\n",
    "    # plt.show()\n",
    "    for j in output:\n",
    "        if j < 0.1:\n",
    "            target[f'epoch{i * 100}']['backward'] += 1\n",
    "        elif 0.2 < j < 0.3:\n",
    "            target[f'epoch{i * 100}']['right'] += 1\n",
    "        elif 0.4 < j < 0.5:\n",
    "            target[f'epoch{i * 100}']['forward'] += 1\n",
    "        elif 0.7 < j < 0.8:\n",
    "            target[f'epoch{i * 100}']['left'] += 1"
   ],
   "metadata": {
    "collapsed": false,
    "pycharm": {
     "name": "#%%\n"
    }
   }
  },
  {
   "cell_type": "code",
   "execution_count": 5,
   "outputs": [
    {
     "ename": "KeyError",
     "evalue": "'epoch400'",
     "output_type": "error",
     "traceback": [
      "\u001B[0;31m---------------------------------------------------------------------------\u001B[0m",
      "\u001B[0;31mKeyError\u001B[0m                                  Traceback (most recent call last)",
      "\u001B[0;32m<ipython-input-5-12fd5a71d0da>\u001B[0m in \u001B[0;36m<module>\u001B[0;34m\u001B[0m\n\u001B[1;32m      4\u001B[0m \u001B[0md\u001B[0m \u001B[0;34m=\u001B[0m \u001B[0;34m[\u001B[0m\u001B[0;34m]\u001B[0m\u001B[0;34m\u001B[0m\u001B[0;34m\u001B[0m\u001B[0m\n\u001B[1;32m      5\u001B[0m \u001B[0;32mfor\u001B[0m \u001B[0mi\u001B[0m \u001B[0;32min\u001B[0m \u001B[0mrange\u001B[0m\u001B[0;34m(\u001B[0m\u001B[0;36m1\u001B[0m\u001B[0;34m,\u001B[0m \u001B[0;36m21\u001B[0m\u001B[0;34m,\u001B[0m \u001B[0;36m3\u001B[0m\u001B[0;34m)\u001B[0m\u001B[0;34m:\u001B[0m\u001B[0;34m\u001B[0m\u001B[0;34m\u001B[0m\u001B[0m\n\u001B[0;32m----> 6\u001B[0;31m     \u001B[0ma\u001B[0m\u001B[0;34m.\u001B[0m\u001B[0mappend\u001B[0m\u001B[0;34m(\u001B[0m\u001B[0mtarget\u001B[0m\u001B[0;34m[\u001B[0m\u001B[0;34mf'epoch{i * 100}'\u001B[0m\u001B[0;34m]\u001B[0m\u001B[0;34m[\u001B[0m\u001B[0;34m'backward'\u001B[0m\u001B[0;34m]\u001B[0m\u001B[0;34m)\u001B[0m\u001B[0;34m\u001B[0m\u001B[0;34m\u001B[0m\u001B[0m\n\u001B[0m\u001B[1;32m      7\u001B[0m     \u001B[0mb\u001B[0m\u001B[0;34m.\u001B[0m\u001B[0mappend\u001B[0m\u001B[0;34m(\u001B[0m\u001B[0mtarget\u001B[0m\u001B[0;34m[\u001B[0m\u001B[0;34mf'epoch{i * 100}'\u001B[0m\u001B[0;34m]\u001B[0m\u001B[0;34m[\u001B[0m\u001B[0;34m'forward'\u001B[0m\u001B[0;34m]\u001B[0m\u001B[0;34m)\u001B[0m\u001B[0;34m\u001B[0m\u001B[0;34m\u001B[0m\u001B[0m\n\u001B[1;32m      8\u001B[0m     \u001B[0mc\u001B[0m\u001B[0;34m.\u001B[0m\u001B[0mappend\u001B[0m\u001B[0;34m(\u001B[0m\u001B[0mtarget\u001B[0m\u001B[0;34m[\u001B[0m\u001B[0;34mf'epoch{i * 100}'\u001B[0m\u001B[0;34m]\u001B[0m\u001B[0;34m[\u001B[0m\u001B[0;34m'left'\u001B[0m\u001B[0;34m]\u001B[0m\u001B[0;34m)\u001B[0m\u001B[0;34m\u001B[0m\u001B[0;34m\u001B[0m\u001B[0m\n",
      "\u001B[0;31mKeyError\u001B[0m: 'epoch400'"
     ]
    }
   ],
   "source": [
    "a = []\n",
    "b = []\n",
    "c = []\n",
    "d = []\n",
    "for i in range(1, 21, 3):\n",
    "    a.append(target[f'epoch{i * 100}']['backward'])\n",
    "    b.append(target[f'epoch{i * 100}']['forward'])\n",
    "    c.append(target[f'epoch{i * 100}']['left'])\n",
    "    d.append(target[f'epoch{i * 100}']['right'])\n",
    "plt.plot(a, label='backward')\n",
    "plt.plot(b, label ='forward')\n",
    "plt.plot(c, label = 'left')\n",
    "plt.plot(d, label = 'right')\n",
    "plt.legend()"
   ],
   "metadata": {
    "collapsed": false,
    "pycharm": {
     "name": "#%%\n"
    }
   }
  },
  {
   "cell_type": "code",
   "execution_count": 6,
   "outputs": [],
   "source": [
    "## check the n to n distance"
   ],
   "metadata": {
    "collapsed": false,
    "pycharm": {
     "name": "#%%\n"
    }
   }
  },
  {
   "cell_type": "code",
   "execution_count": 4,
   "outputs": [
    {
     "name": "stdout",
     "output_type": "stream",
     "text": [
      "[[0.]\n",
      " [0.]\n",
      " [0.]\n",
      " ...\n",
      " [0.]\n",
      " [0.]\n",
      " [0.]]\n"
     ]
    }
   ],
   "source": [
    "import single_node as model\n",
    "i = 20\n",
    "generator = model.GeneratorNet()\n",
    "checkpoint = torch.load(f'random_models/single_node/model_gan_{i * 100}.pth.tar')\n",
    "generator.load_state_dict(checkpoint['gen_state_dict'])\n",
    "noise = func.get_noise(10000, 8)\n",
    "output = generator(noise).data.numpy()"
   ],
   "metadata": {
    "collapsed": false,
    "pycharm": {
     "name": "#%%\n"
    }
   }
  },
  {
   "cell_type": "markdown",
   "source": [
    "check single node properties\n",
    "1. check the parameters"
   ],
   "metadata": {
    "collapsed": false,
    "pycharm": {
     "name": "#%% md\n"
    }
   }
  },
  {
   "cell_type": "code",
   "execution_count": 10,
   "outputs": [
    {
     "name": "stdout",
     "output_type": "stream",
     "text": [
      "tensor([[0.2500, 0.0000, 0.2500, 0.0000, 0.5000, 0.2500, 0.0000, 0.7500]])\n",
      "[[0.]]\n",
      "---\n",
      "tensor([[0.5000, 0.7500, 0.5000, 0.5000, 0.2500, 0.7500, 0.0000, 0.0000]])\n",
      "[[0.]]\n",
      "---\n",
      "tensor([[0.5000, 0.5000, 0.5000, 0.7500, 0.0000, 0.7500, 0.0000, 0.0000]])\n",
      "[[0.]]\n",
      "---\n",
      "tensor([[0.7500, 0.7500, 0.0000, 0.0000, 0.5000, 0.2500, 0.5000, 0.5000]])\n",
      "[[0.]]\n",
      "---\n",
      "tensor([[0.5000, 0.7500, 0.5000, 0.2500, 0.7500, 0.0000, 0.7500, 0.0000]])\n",
      "[[0.]]\n",
      "---\n",
      "tensor([[0.7500, 0.2500, 0.5000, 0.2500, 0.7500, 0.0000, 0.7500, 0.0000]])\n",
      "[[0.]]\n",
      "---\n",
      "tensor([[0.0000, 0.7500, 0.5000, 0.2500, 0.2500, 0.2500, 0.0000, 0.0000]])\n",
      "[[0.]]\n",
      "---\n",
      "tensor([[0.7500, 0.5000, 0.5000, 0.2500, 0.0000, 0.5000, 0.5000, 0.2500]])\n",
      "[[0.]]\n",
      "---\n",
      "tensor([[0.5000, 0.0000, 0.0000, 0.5000, 0.5000, 0.2500, 0.5000, 0.7500]])\n",
      "[[0.]]\n",
      "---\n",
      "tensor([[0.0000, 0.0000, 0.5000, 0.5000, 0.7500, 0.2500, 0.2500, 0.0000]])\n",
      "[[0.]]\n",
      "---\n",
      "tensor([[0.7500, 0.0000, 0.7500, 0.0000, 0.7500, 0.0000, 0.0000, 0.2500]])\n",
      "[[0.]]\n",
      "---\n",
      "tensor([[0.0000, 0.7500, 0.2500, 0.5000, 0.7500, 0.5000, 0.7500, 0.2500]])\n",
      "[[0.]]\n",
      "---\n",
      "tensor([[0.5000, 0.5000, 0.7500, 0.0000, 0.2500, 0.2500, 0.0000, 0.7500]])\n",
      "[[0.]]\n",
      "---\n",
      "tensor([[0.5000, 0.7500, 0.2500, 0.2500, 0.2500, 0.0000, 0.7500, 0.7500]])\n",
      "[[0.]]\n",
      "---\n",
      "tensor([[0.5000, 0.0000, 0.7500, 0.7500, 0.0000, 0.0000, 0.7500, 0.0000]])\n",
      "[[0.]]\n",
      "---\n",
      "tensor([[0.7500, 0.2500, 0.5000, 0.7500, 0.7500, 0.7500, 0.5000, 0.0000]])\n",
      "[[0.]]\n",
      "---\n",
      "tensor([[0.5000, 0.7500, 0.7500, 0.7500, 0.7500, 0.2500, 0.7500, 0.2500]])\n",
      "[[0.]]\n",
      "---\n",
      "tensor([[0.0000, 0.2500, 0.5000, 0.0000, 0.0000, 0.5000, 0.7500, 0.2500]])\n",
      "[[0.]]\n",
      "---\n",
      "tensor([[0.2500, 0.2500, 0.0000, 0.0000, 0.0000, 0.2500, 0.5000, 0.5000]])\n",
      "[[0.]]\n",
      "---\n",
      "tensor([[0.2500, 0.2500, 0.0000, 0.7500, 0.7500, 0.0000, 0.5000, 0.7500]])\n",
      "[[0.]]\n",
      "---\n"
     ]
    }
   ],
   "source": [
    "for i in range(20):\n",
    "    # noise_single = func.get_noise(1, 8)\n",
    "    noise_single = func.get_noise(1,8)\n",
    "    print(noise_single)\n",
    "    real_output = generator(noise_single)\n",
    "    print('---')"
   ],
   "metadata": {
    "collapsed": false,
    "pycharm": {
     "name": "#%%\n"
    }
   }
  },
  {
   "cell_type": "code",
   "execution_count": 12,
   "outputs": [
    {
     "name": "stdout",
     "output_type": "stream",
     "text": [
      "Parameter containing:\n",
      "tensor([[ 0.0027, -0.0060, -0.0034, -0.0062,  0.0100,  0.0066,  0.0059,  0.0081]],\n",
      "       requires_grad=True)\n",
      "0\n",
      "Parameter containing:\n",
      "tensor([-0.1084], requires_grad=True)\n",
      "1\n",
      "Parameter containing:\n",
      "tensor([[-8.5719e+00],\n",
      "        [-2.5396e+00],\n",
      "        [-2.6911e-01],\n",
      "        [-9.4946e-01],\n",
      "        [-6.4407e-02],\n",
      "        [-3.7138e-01],\n",
      "        [ 5.2769e-02],\n",
      "        [ 4.4616e-01],\n",
      "        [-3.2238e-01],\n",
      "        [ 4.0677e-01],\n",
      "        [-1.2645e+00],\n",
      "        [ 1.2883e-02],\n",
      "        [-6.4543e-01],\n",
      "        [-5.4203e-03],\n",
      "        [ 1.4449e+00]], requires_grad=True)\n",
      "2\n",
      "Parameter containing:\n",
      "tensor([-15.2514,   5.5576,  -0.3495,  -2.9737,  -1.0758,   0.9719,  -3.8360,\n",
      "         -3.4223,   0.8375,   0.8938,   1.0845,   0.8597,  -3.8776,   0.7691,\n",
      "         -6.6384], requires_grad=True)\n",
      "3\n"
     ]
    }
   ],
   "source": [
    "a = []\n",
    "for count, item  in enumerate(generator.parameters()):\n",
    "    print(item)\n",
    "    a.append(item.data.numpy())\n",
    "    print(count)"
   ],
   "metadata": {
    "collapsed": false,
    "pycharm": {
     "name": "#%%\n"
    }
   }
  },
  {
   "cell_type": "markdown",
   "source": [
    "what ever the input is, the output is always zero\n",
    "so zero * everything is zero\n"
   ],
   "metadata": {
    "collapsed": false,
    "pycharm": {
     "name": "#%% md\n"
    }
   }
  },
  {
   "cell_type": "code",
   "execution_count": 14,
   "outputs": [],
   "source": [
    "first_weight = np.copy(a[0])\n",
    "first_bias = np.copy(a[1])"
   ],
   "metadata": {
    "collapsed": false,
    "pycharm": {
     "name": "#%%\n"
    }
   }
  },
  {
   "cell_type": "code",
   "execution_count": 15,
   "outputs": [
    {
     "data": {
      "text/plain": "(1, 8)"
     },
     "execution_count": 15,
     "metadata": {},
     "output_type": "execute_result"
    }
   ],
   "source": [
    "np.shape(first_weight)\n"
   ],
   "metadata": {
    "collapsed": false,
    "pycharm": {
     "name": "#%%\n"
    }
   }
  },
  {
   "cell_type": "code",
   "execution_count": 18,
   "outputs": [],
   "source": [
    "noise = func.get_noise(1,8)"
   ],
   "metadata": {
    "collapsed": false,
    "pycharm": {
     "name": "#%%\n"
    }
   }
  },
  {
   "cell_type": "code",
   "execution_count": 21,
   "outputs": [
    {
     "data": {
      "text/plain": "array([[-0.09733726]], dtype=float32)"
     },
     "execution_count": 21,
     "metadata": {},
     "output_type": "execute_result"
    }
   ],
   "source": [
    "np.dot(noise_single, first_weight.transpose()) + first_bias"
   ],
   "metadata": {
    "collapsed": false,
    "pycharm": {
     "name": "#%%\n"
    }
   }
  },
  {
   "cell_type": "code",
   "execution_count": null,
   "outputs": [],
   "source": [],
   "metadata": {
    "collapsed": false,
    "pycharm": {
     "name": "#%%\n"
    }
   }
  }
 ],
 "metadata": {
  "kernelspec": {
   "display_name": "Python 3",
   "language": "python",
   "name": "python3"
  },
  "language_info": {
   "codemirror_mode": {
    "name": "ipython",
    "version": 2
   },
   "file_extension": ".py",
   "mimetype": "text/x-python",
   "name": "python",
   "nbconvert_exporter": "python",
   "pygments_lexer": "ipython2",
   "version": "2.7.6"
  }
 },
 "nbformat": 4,
 "nbformat_minor": 0
}
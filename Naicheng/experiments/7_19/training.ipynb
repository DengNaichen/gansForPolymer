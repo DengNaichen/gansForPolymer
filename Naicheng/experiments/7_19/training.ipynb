{
 "cells": [
  {
   "cell_type": "code",
   "execution_count": 6,
   "metadata": {
    "collapsed": true
   },
   "outputs": [],
   "source": [
    "import four_layers as model\n",
    "import torch\n",
    "import numpy as np\n",
    "from Naicheng.res.process_data.dataset import tensor_dataset\n",
    "from torch.utils.data import DataLoader\n",
    "import Naicheng.res.process_data.one_hot as oh"
   ]
  },
  {
   "cell_type": "code",
   "execution_count": 7,
   "outputs": [],
   "source": [
    "input_coorinate = np.load('../../data/coordinates.npy')\n",
    "input_three_dirc = np.load('../../data/three_directions.npy')\n",
    "input_one_hot = oh.one_hot_three(input_three_dirc)"
   ],
   "metadata": {
    "collapsed": false,
    "pycharm": {
     "name": "#%%\n"
    }
   }
  },
  {
   "cell_type": "code",
   "execution_count": 3,
   "outputs": [],
   "source": [
    "device = 'cuda' if torch.cuda.is_available() else 'cpu'\n",
    "z_dim = 8\n",
    "lr = 0.0001\n",
    "gen = model.GeneratorNet()\n",
    "gen_opt = torch.optim.Adam(gen.parameters(), lr = lr)\n",
    "disc = model.DiscriminatorNet()\n",
    "disc_opt = torch.optim.Adam(disc.parameters(), lr = lr)"
   ],
   "metadata": {
    "collapsed": false,
    "pycharm": {
     "name": "#%%\n"
    }
   }
  },
  {
   "cell_type": "code",
   "execution_count": 8,
   "outputs": [],
   "source": [
    "shuffle = True\n",
    "batch_size = 125\n",
    "num_worker = 0\n",
    "pin_memory = True\n",
    "input_tensor = torch.Tensor(input_one_hot)\n",
    "my_dataset = tensor_dataset(input_tensor, 45, 1)\n",
    "my_dataloader = DataLoader(dataset= my_dataset,\n",
    "                            shuffle=shuffle,\n",
    "                            batch_size=batch_size,\n",
    "                            num_workers=num_worker,\n",
    "                            pin_memory=pin_memory)"
   ],
   "metadata": {
    "collapsed": false,
    "pycharm": {
     "name": "#%%\n"
    }
   }
  },
  {
   "cell_type": "code",
   "execution_count": 9,
   "outputs": [],
   "source": [
    "from Naicheng.res.fnn.training import training_bce\n",
    "import Naicheng.res.process_data.process_output as pro_out\n",
    "display_step = 782"
   ],
   "metadata": {
    "collapsed": false,
    "pycharm": {
     "name": "#%%\n"
    }
   }
  },
  {
   "cell_type": "code",
   "execution_count": 10,
   "outputs": [
    {
     "data": {
      "text/plain": "  0%|          | 0/800 [00:00<?, ?it/s]",
      "application/vnd.jupyter.widget-view+json": {
       "version_major": 2,
       "version_minor": 0,
       "model_id": "0727648292bb42cfb5412df8e9aece5c"
      }
     },
     "metadata": {},
     "output_type": "display_data"
    },
    {
     "name": "stdout",
     "output_type": "stream",
     "text": [
      "Epoch 0, step 782: Generator loss: 0.917616042106047, discriminator loss: 0.5186696983206913\n",
      "Epoch 1, step 1564: Generator loss: 1.6656158956725273, discriminator loss: 0.25278577873545244\n",
      "Epoch 2, step 2346: Generator loss: 2.1870758772811025, discriminator loss: 0.198357248111911\n",
      "Epoch 3, step 3128: Generator loss: 2.577936079496007, discriminator loss: 0.18208782150960348\n",
      "Epoch 4, step 3910: Generator loss: 2.981985367472526, discriminator loss: 0.15205028110071794\n",
      "Epoch 5, step 4692: Generator loss: 3.206578664157702, discriminator loss: 0.13341542946941723\n",
      "Epoch 6, step 5474: Generator loss: 3.567304439861756, discriminator loss: 0.12376475056438034\n",
      "Epoch 7, step 6256: Generator loss: 3.8017251235444802, discriminator loss: 0.12723653257617257\n",
      "Epoch 8, step 7038: Generator loss: 3.53139902807562, discriminator loss: 0.1400676919885761\n",
      "Epoch 9, step 7820: Generator loss: 3.731248644611719, discriminator loss: 0.12859746901904387\n",
      "Epoch 10, step 8602: Generator loss: 3.5022025590052714, discriminator loss: 0.15748249426903307\n",
      "Epoch 11, step 9384: Generator loss: 3.4830736013324644, discriminator loss: 0.15672396133889627\n",
      "Epoch 12, step 10166: Generator loss: 3.403575348427224, discriminator loss: 0.16129832496614108\n",
      "Epoch 13, step 10948: Generator loss: 3.456395437955245, discriminator loss: 0.15399577438145332\n",
      "Epoch 14, step 11730: Generator loss: 3.501559548975561, discriminator loss: 0.1600514039530624\n",
      "Epoch 15, step 12512: Generator loss: 3.2902332666280003, discriminator loss: 0.17825725917582916\n",
      "Epoch 16, step 13294: Generator loss: 3.355303358238978, discriminator loss: 0.18339375742827846\n",
      "Epoch 17, step 14076: Generator loss: 3.182869802045698, discriminator loss: 0.19240793572438614\n",
      "Epoch 18, step 14858: Generator loss: 3.169814512247926, discriminator loss: 0.20083332418099667\n",
      "Epoch 19, step 15640: Generator loss: 3.087906644472379, discriminator loss: 0.2092741308900554\n",
      "Epoch 20, step 16422: Generator loss: 3.1660540274646833, discriminator loss: 0.22244149711354616\n",
      "Epoch 21, step 17204: Generator loss: 3.06992466065585, discriminator loss: 0.2160309237973468\n",
      "Epoch 22, step 17986: Generator loss: 3.157251870540706, discriminator loss: 0.21305853082700774\n",
      "Epoch 23, step 18768: Generator loss: 3.28795227980065, discriminator loss: 0.2180609768804381\n",
      "Epoch 24, step 19550: Generator loss: 3.3091414005250286, discriminator loss: 0.2221911741168145\n",
      "Epoch 25, step 20332: Generator loss: 3.361234971324498, discriminator loss: 0.2166720936575051\n",
      "Epoch 26, step 21114: Generator loss: 3.4971654527937357, discriminator loss: 0.22857601393747823\n",
      "Epoch 27, step 21896: Generator loss: 3.6106120421148638, discriminator loss: 0.22245678841076844\n",
      "Epoch 28, step 22678: Generator loss: 3.932833322478682, discriminator loss: 0.2099920644250976\n",
      "Epoch 29, step 23460: Generator loss: 4.332927217873769, discriminator loss: 0.19394172020161252\n",
      "Epoch 30, step 24242: Generator loss: 4.748567694593267, discriminator loss: 0.17682561210697287\n",
      "Epoch 31, step 25024: Generator loss: 5.247891920606806, discriminator loss: 0.16185294203174397\n",
      "Epoch 32, step 25806: Generator loss: 5.662758938796686, discriminator loss: 0.14793803673380462\n",
      "Epoch 33, step 26588: Generator loss: 6.023263455656787, discriminator loss: 0.13473227552478886\n",
      "Epoch 34, step 27370: Generator loss: 6.330193604959548, discriminator loss: 0.12000668061244521\n",
      "Epoch 35, step 28152: Generator loss: 6.4976697821751275, discriminator loss: 0.10725505013600031\n",
      "Epoch 36, step 28934: Generator loss: 6.559306295936368, discriminator loss: 0.09283669854578619\n",
      "Epoch 37, step 29716: Generator loss: 6.514920070043302, discriminator loss: 0.07981207652393811\n",
      "Epoch 38, step 30498: Generator loss: 6.4117571807578395, discriminator loss: 0.06528633276996255\n",
      "Epoch 39, step 31280: Generator loss: 6.243891283069423, discriminator loss: 0.05470278156954611\n",
      "Epoch 40, step 32062: Generator loss: 6.158404461867976, discriminator loss: 0.04608012096541917\n",
      "Epoch 41, step 32844: Generator loss: 6.105623605611076, discriminator loss: 0.040031756932997244\n",
      "Epoch 42, step 33626: Generator loss: 5.991189279824565, discriminator loss: 0.036504787351231076\n",
      "Epoch 43, step 34408: Generator loss: 5.963138654713746, discriminator loss: 0.033008000625254524\n",
      "Epoch 43, step 35190: Generator loss: 5.9453406705880685, discriminator loss: 0.031704399307184605\n",
      "Epoch 44, step 35972: Generator loss: 5.923404094813125, discriminator loss: 0.030373213760902542\n",
      "Epoch 45, step 36754: Generator loss: 5.9718291320459285, discriminator loss: 0.02835594764267528\n",
      "Epoch 46, step 37536: Generator loss: 5.979889920300538, discriminator loss: 0.02689253029239641\n",
      "Epoch 47, step 38318: Generator loss: 5.99361721146137, discriminator loss: 0.02517130701264363\n",
      "Epoch 48, step 39100: Generator loss: 6.012497767158183, discriminator loss: 0.02455997050327756\n",
      "Epoch 49, step 39882: Generator loss: 5.912663357337116, discriminator loss: 0.023905953888119193\n",
      "Epoch 50, step 40664: Generator loss: 5.835919405188404, discriminator loss: 0.024187813959587034\n",
      "Epoch 51, step 41446: Generator loss: 5.814827349484728, discriminator loss: 0.02549376484343682\n",
      "Epoch 52, step 42228: Generator loss: 5.754115213213673, discriminator loss: 0.026213118090422902\n",
      "Epoch 53, step 43010: Generator loss: 5.686192845444547, discriminator loss: 0.027302901167065272\n",
      "Epoch 54, step 43792: Generator loss: 5.68726749493338, discriminator loss: 0.026391275879710203\n",
      "Epoch 55, step 44574: Generator loss: 5.554127344390012, discriminator loss: 0.0272725242249015\n",
      "Epoch 56, step 45356: Generator loss: 5.580592222530827, discriminator loss: 0.026747262240220775\n",
      "Epoch 57, step 46138: Generator loss: 5.516648548643307, discriminator loss: 0.02796099054278174\n",
      "Epoch 58, step 46920: Generator loss: 5.470934330654871, discriminator loss: 0.026831543374666117\n",
      "Epoch 59, step 47702: Generator loss: 5.373759428253566, discriminator loss: 0.027727395741511937\n",
      "Epoch 60, step 48484: Generator loss: 5.399958333700817, discriminator loss: 0.026677919076838977\n",
      "Epoch 61, step 49266: Generator loss: 5.37494207343177, discriminator loss: 0.026660522879244232\n",
      "Epoch 62, step 50048: Generator loss: 5.2469479501095, discriminator loss: 0.02770906978565484\n",
      "Epoch 63, step 50830: Generator loss: 5.274578287168534, discriminator loss: 0.02641760500486168\n",
      "Epoch 64, step 51612: Generator loss: 5.254000943640002, discriminator loss: 0.026478403472982345\n",
      "Epoch 65, step 52394: Generator loss: 5.211031247282889, discriminator loss: 0.02746568380317908\n",
      "Epoch 66, step 53176: Generator loss: 5.234990505306313, discriminator loss: 0.02631214878889866\n",
      "Epoch 67, step 53958: Generator loss: 5.221866966208525, discriminator loss: 0.02565928385831189\n",
      "Epoch 68, step 54740: Generator loss: 5.197220819380588, discriminator loss: 0.02593893153370234\n",
      "Epoch 69, step 55522: Generator loss: 5.128409755809227, discriminator loss: 0.02687146831863583\n",
      "Epoch 70, step 56304: Generator loss: 5.211806124738421, discriminator loss: 0.025010953699012288\n",
      "Epoch 71, step 57086: Generator loss: 5.146447655489988, discriminator loss: 0.02631991896498471\n",
      "Epoch 72, step 57868: Generator loss: 5.1206492231325065, discriminator loss: 0.02641915014404279\n",
      "Epoch 73, step 58650: Generator loss: 5.178026682885409, discriminator loss: 0.024809706405333982\n",
      "Epoch 74, step 59432: Generator loss: 5.103759601597901, discriminator loss: 0.026852916540277893\n",
      "Epoch 75, step 60214: Generator loss: 5.133094338199976, discriminator loss: 0.025604429367162736\n",
      "Epoch 76, step 60996: Generator loss: 5.130376987140195, discriminator loss: 0.025442401410790273\n",
      "Epoch 77, step 61778: Generator loss: 5.0765714547823135, discriminator loss: 0.026269369391853096\n",
      "Epoch 78, step 62560: Generator loss: 5.126527105146046, discriminator loss: 0.025023311463808675\n",
      "Epoch 79, step 63342: Generator loss: 5.057912796659552, discriminator loss: 0.026228233171469707\n",
      "Epoch 80, step 64124: Generator loss: 5.078994804635989, discriminator loss: 0.02541560701438751\n",
      "Epoch 81, step 64906: Generator loss: 5.080398223589149, discriminator loss: 0.025657444794559843\n",
      "Epoch 82, step 65688: Generator loss: 5.109081070746294, discriminator loss: 0.02505328730010731\n",
      "Epoch 83, step 66470: Generator loss: 5.042980491047923, discriminator loss: 0.026167272554967744\n",
      "Epoch 84, step 67252: Generator loss: 5.041136694686197, discriminator loss: 0.02557759517607282\n",
      "Epoch 85, step 68034: Generator loss: 5.115541323981313, discriminator loss: 0.024854014790497814\n",
      "Epoch 86, step 68816: Generator loss: 5.022453043466941, discriminator loss: 0.025914722049901834\n",
      "Epoch 86, step 69598: Generator loss: 5.059900724674431, discriminator loss: 0.025424669995722918\n",
      "Epoch 87, step 70380: Generator loss: 5.044020100932605, discriminator loss: 0.025398602398038587\n",
      "Epoch 88, step 71162: Generator loss: 5.064968932924979, discriminator loss: 0.02558379074620545\n",
      "Epoch 89, step 71944: Generator loss: 5.044494039262349, discriminator loss: 0.024947065413426926\n",
      "Epoch 90, step 72726: Generator loss: 5.039306493061583, discriminator loss: 0.02540856249757883\n",
      "Epoch 91, step 73508: Generator loss: 5.057369830358358, discriminator loss: 0.02543880967030307\n",
      "Epoch 92, step 74290: Generator loss: 5.040363408720394, discriminator loss: 0.025296721043234292\n",
      "Epoch 93, step 75072: Generator loss: 5.048979057375426, discriminator loss: 0.024655918294773493\n",
      "Epoch 94, step 75854: Generator loss: 5.007173102834952, discriminator loss: 0.025910936140269507\n",
      "Epoch 95, step 76636: Generator loss: 5.056213689887009, discriminator loss: 0.025219161921809636\n",
      "Epoch 96, step 77418: Generator loss: 5.031216657984896, discriminator loss: 0.025436749777999593\n",
      "Epoch 97, step 78200: Generator loss: 5.011843222181509, discriminator loss: 0.025728278688888717\n",
      "Epoch 98, step 78982: Generator loss: 5.030899466151162, discriminator loss: 0.024797363772445263\n",
      "Epoch 99, step 79764: Generator loss: 5.014377714118081, discriminator loss: 0.0252619157905531\n",
      "Epoch 0, step 782: Generator loss: 5.043311886775217, discriminator loss: 0.025145936630489998\n",
      "Epoch 1, step 1564: Generator loss: 5.025873289083894, discriminator loss: 0.025359064042258572\n",
      "Epoch 2, step 2346: Generator loss: 5.00364126695696, discriminator loss: 0.025263866900032905\n",
      "Epoch 3, step 3128: Generator loss: 5.034665104678225, discriminator loss: 0.02496696741211815\n",
      "Epoch 4, step 3910: Generator loss: 5.009735329376767, discriminator loss: 0.02504203610462816\n",
      "Epoch 5, step 4692: Generator loss: 5.032154688749784, discriminator loss: 0.025573477329736315\n",
      "Epoch 6, step 5474: Generator loss: 5.052025805958707, discriminator loss: 0.02444278264848181\n",
      "Epoch 7, step 6256: Generator loss: 5.00480417339393, discriminator loss: 0.025146856941247023\n",
      "Epoch 8, step 7038: Generator loss: 4.9993050067930875, discriminator loss: 0.025395338536690324\n",
      "Epoch 9, step 7820: Generator loss: 4.991484667029227, discriminator loss: 0.02584461103934233\n",
      "Epoch 10, step 8602: Generator loss: 5.0124990976679955, discriminator loss: 0.024877914251959708\n",
      "Epoch 11, step 9384: Generator loss: 5.023162524108689, discriminator loss: 0.02460728783447469\n",
      "Epoch 12, step 10166: Generator loss: 5.021766215029273, discriminator loss: 0.024910540710610638\n",
      "Epoch 13, step 10948: Generator loss: 5.001967844145987, discriminator loss: 0.02493351833898419\n",
      "Epoch 14, step 11730: Generator loss: 5.016945700511306, discriminator loss: 0.025415711806339173\n",
      "Epoch 15, step 12512: Generator loss: 5.000592136626957, discriminator loss: 0.025446654620456508\n",
      "Epoch 16, step 13294: Generator loss: 4.999680112999725, discriminator loss: 0.025205823577954752\n",
      "Epoch 17, step 14076: Generator loss: 4.999500555150649, discriminator loss: 0.02536579361602264\n",
      "Epoch 18, step 14858: Generator loss: 4.995710457072541, discriminator loss: 0.024998002345590357\n",
      "Epoch 19, step 15640: Generator loss: 5.017904681013066, discriminator loss: 0.024786201415254776\n",
      "Epoch 20, step 16422: Generator loss: 4.983206655058414, discriminator loss: 0.025404960449125207\n",
      "Epoch 21, step 17204: Generator loss: 5.0075895078956725, discriminator loss: 0.02488876093382043\n",
      "Epoch 22, step 17986: Generator loss: 4.963843744429174, discriminator loss: 0.025447609362756946\n",
      "Epoch 23, step 18768: Generator loss: 4.996414800434159, discriminator loss: 0.025045639522078306\n",
      "Epoch 24, step 19550: Generator loss: 5.001505345029911, discriminator loss: 0.024772179757525953\n",
      "Epoch 25, step 20332: Generator loss: 4.9485387326506425, discriminator loss: 0.02546198794837383\n",
      "Epoch 26, step 21114: Generator loss: 4.960880461861107, discriminator loss: 0.025524737626311796\n",
      "Epoch 27, step 21896: Generator loss: 4.988323698873102, discriminator loss: 0.024871554562126492\n",
      "Epoch 28, step 22678: Generator loss: 5.014775568871848, discriminator loss: 0.024451428550340777\n",
      "Epoch 29, step 23460: Generator loss: 4.972300929486594, discriminator loss: 0.025200457950515672\n",
      "Epoch 30, step 24242: Generator loss: 4.94725012901189, discriminator loss: 0.025726614718246815\n",
      "Epoch 31, step 25024: Generator loss: 4.988181866038485, discriminator loss: 0.024705684256127763\n",
      "Epoch 32, step 25806: Generator loss: 5.003097196978984, discriminator loss: 0.024603504325201288\n",
      "Epoch 33, step 26588: Generator loss: 4.9501432024914305, discriminator loss: 0.025477253348992944\n",
      "Epoch 34, step 27370: Generator loss: 4.970788091040027, discriminator loss: 0.025084593763832187\n",
      "Epoch 35, step 28152: Generator loss: 4.976818174352427, discriminator loss: 0.025411114068654227\n",
      "Epoch 36, step 28934: Generator loss: 4.991274064154271, discriminator loss: 0.024522294095643573\n",
      "Epoch 37, step 29716: Generator loss: 4.989465367153783, discriminator loss: 0.024932030491474917\n",
      "Epoch 38, step 30498: Generator loss: 4.963656646821197, discriminator loss: 0.025366177630272553\n",
      "Epoch 39, step 31280: Generator loss: 4.988329745924389, discriminator loss: 0.02502214580701659\n",
      "Epoch 40, step 32062: Generator loss: 4.96699666733022, discriminator loss: 0.02501416795999005\n",
      "Epoch 41, step 32844: Generator loss: 4.982815272972716, discriminator loss: 0.024933331557597173\n",
      "Epoch 42, step 33626: Generator loss: 4.9901080777882925, discriminator loss: 0.024845057461575143\n",
      "Epoch 43, step 34408: Generator loss: 4.966726398833873, discriminator loss: 0.025091054687357478\n",
      "Epoch 43, step 35190: Generator loss: 4.951306377835287, discriminator loss: 0.025362247152163484\n",
      "Epoch 44, step 35972: Generator loss: 4.988002881979402, discriminator loss: 0.024764511722635444\n",
      "Epoch 45, step 36754: Generator loss: 4.95156312293714, discriminator loss: 0.025128338117952783\n",
      "Epoch 46, step 37536: Generator loss: 4.951527751010398, discriminator loss: 0.02533771741427862\n",
      "Epoch 47, step 38318: Generator loss: 4.955559333572005, discriminator loss: 0.024771896710493065\n",
      "Epoch 48, step 39100: Generator loss: 4.98856945659803, discriminator loss: 0.024848824157320027\n",
      "Epoch 49, step 39882: Generator loss: 4.9616490306756775, discriminator loss: 0.024696552501324458\n",
      "Epoch 50, step 40664: Generator loss: 4.959664456374813, discriminator loss: 0.025136238720882536\n",
      "Epoch 51, step 41446: Generator loss: 5.024250562843464, discriminator loss: 0.02440556663813793\n",
      "Epoch 52, step 42228: Generator loss: 4.968158778632081, discriminator loss: 0.025230776986328755\n",
      "Epoch 53, step 43010: Generator loss: 4.974585857537695, discriminator loss: 0.02473284787250693\n",
      "Epoch 54, step 43792: Generator loss: 4.946528366459599, discriminator loss: 0.025056781412204698\n",
      "Epoch 55, step 44574: Generator loss: 4.962528749500095, discriminator loss: 0.02478939268941686\n",
      "Epoch 56, step 45356: Generator loss: 4.954046942693805, discriminator loss: 0.02477684238171704\n",
      "Epoch 57, step 46138: Generator loss: 4.960050903012981, discriminator loss: 0.024876740062907046\n",
      "Epoch 58, step 46920: Generator loss: 4.965106819596743, discriminator loss: 0.025134947601124554\n",
      "Epoch 59, step 47702: Generator loss: 4.931509748444231, discriminator loss: 0.025561388750510554\n",
      "Epoch 60, step 48484: Generator loss: 4.960561925492935, discriminator loss: 0.024690228007028768\n",
      "Epoch 61, step 49266: Generator loss: 4.931034852781562, discriminator loss: 0.025470123561682708\n",
      "Epoch 62, step 50048: Generator loss: 5.000917343837212, discriminator loss: 0.023856971959542984\n",
      "Epoch 63, step 50830: Generator loss: 4.908358973920201, discriminator loss: 0.02570839440408387\n",
      "Epoch 64, step 51612: Generator loss: 4.967437572796327, discriminator loss: 0.024603943053759247\n",
      "Epoch 65, step 52394: Generator loss: 4.942509753624805, discriminator loss: 0.025445965832085027\n",
      "Epoch 66, step 53176: Generator loss: 4.977181955981436, discriminator loss: 0.024336945349195737\n",
      "Epoch 67, step 53958: Generator loss: 4.919908680269484, discriminator loss: 0.02591549208068558\n",
      "Epoch 68, step 54740: Generator loss: 5.004113116837523, discriminator loss: 0.023785934544732913\n",
      "Epoch 69, step 55522: Generator loss: 4.939109444923106, discriminator loss: 0.025109180577082675\n",
      "Epoch 70, step 56304: Generator loss: 4.959555396643445, discriminator loss: 0.02497182941109495\n",
      "Epoch 71, step 57086: Generator loss: 4.9626878429861625, discriminator loss: 0.02471633310473814\n",
      "Epoch 72, step 57868: Generator loss: 4.950534900436017, discriminator loss: 0.02494156083700668\n",
      "Epoch 73, step 58650: Generator loss: 4.9520477712001965, discriminator loss: 0.02509635992144543\n",
      "Epoch 74, step 59432: Generator loss: 4.965679502853045, discriminator loss: 0.024875546030550127\n",
      "Epoch 75, step 60214: Generator loss: 4.943632786841031, discriminator loss: 0.024798439766216072\n",
      "Epoch 76, step 60996: Generator loss: 4.956511781038831, discriminator loss: 0.024923236781011927\n",
      "Epoch 77, step 61778: Generator loss: 4.940002088351626, discriminator loss: 0.025183539132556658\n",
      "Epoch 78, step 62560: Generator loss: 4.9420291590873555, discriminator loss: 0.024862380822182013\n",
      "Epoch 79, step 63342: Generator loss: 4.949394309612183, discriminator loss: 0.02529742480571267\n",
      "Epoch 80, step 64124: Generator loss: 4.922663348410131, discriminator loss: 0.025397581548508623\n",
      "Epoch 81, step 64906: Generator loss: 4.9451082972309415, discriminator loss: 0.024838642827878305\n",
      "Epoch 82, step 65688: Generator loss: 4.962239413615079, discriminator loss: 0.0242931240901013\n",
      "Epoch 83, step 66470: Generator loss: 4.962428415522855, discriminator loss: 0.02495591331671097\n",
      "Epoch 84, step 67252: Generator loss: 27.0201930670482, discriminator loss: 0.6992943450681086\n",
      "Epoch 85, step 68034: Generator loss: 24.824868491238654, discriminator loss: 0.253205539950448\n",
      "Epoch 86, step 68816: Generator loss: 17.87723518820369, discriminator loss: 0.09948278612421801\n",
      "Epoch 86, step 69598: Generator loss: 20.58108862708597, discriminator loss: 0.02970897256030643\n",
      "Epoch 87, step 70380: Generator loss: 10.227146775826169, discriminator loss: 0.066540663195637\n",
      "Epoch 88, step 71162: Generator loss: 8.244470531983144, discriminator loss: 0.0485530895314387\n",
      "Epoch 89, step 71944: Generator loss: 7.942923203453686, discriminator loss: 0.06377006068175467\n",
      "Epoch 90, step 72726: Generator loss: 6.806052530513093, discriminator loss: 0.029501007694472343\n",
      "Epoch 91, step 73508: Generator loss: 20.114408601580372, discriminator loss: 0.044400750886641464\n",
      "Epoch 92, step 74290: Generator loss: 27.4726445790752, discriminator loss: 0.017127644989032687\n",
      "Epoch 93, step 75072: Generator loss: 42.95624592237151, discriminator loss: 0.3097101696945958\n",
      "Epoch 94, step 75854: Generator loss: 22.52924273873838, discriminator loss: 0.23477715510360525\n",
      "Epoch 95, step 76636: Generator loss: 7.419291196881653, discriminator loss: 0.056968748166352154\n",
      "Epoch 96, step 77418: Generator loss: 5.95967978894558, discriminator loss: 0.03271673194935452\n",
      "Epoch 97, step 78200: Generator loss: 6.308980538717012, discriminator loss: 0.012906490119776735\n",
      "Epoch 98, step 78982: Generator loss: 8.085761258364329, discriminator loss: 0.03228571792037877\n",
      "Epoch 99, step 79764: Generator loss: 13.99025224053953, discriminator loss: 0.02847915447382266\n",
      "Epoch 0, step 782: Generator loss: 19.457764140175442, discriminator loss: 0.019433095343847896\n",
      "Epoch 1, step 1564: Generator loss: 32.14702463515885, discriminator loss: 0.029038863339530745\n",
      "Epoch 2, step 2346: Generator loss: 29.380747892667582, discriminator loss: 0.06023580120234196\n",
      "Epoch 3, step 3128: Generator loss: 18.15402998277905, discriminator loss: 0.020603963191697088\n",
      "Epoch 4, step 3910: Generator loss: 22.196550961345647, discriminator loss: 0.044356089547782446\n",
      "Epoch 5, step 4692: Generator loss: 19.67510396562273, discriminator loss: 0.038522909272654435\n",
      "Epoch 6, step 5474: Generator loss: 31.76949661162198, discriminator loss: 0.10031969601574561\n",
      "Epoch 7, step 6256: Generator loss: 21.981377155274703, discriminator loss: 0.2023586068311919\n",
      "Epoch 8, step 7038: Generator loss: 11.19688278025069, discriminator loss: 0.08698450282687678\n",
      "Epoch 9, step 7820: Generator loss: 8.568620573529195, discriminator loss: 0.06249818507143689\n",
      "Epoch 10, step 8602: Generator loss: 9.42772573949126, discriminator loss: 0.0322071969633579\n",
      "Epoch 11, step 9384: Generator loss: 16.662651210794674, discriminator loss: 0.04839090951536767\n",
      "Epoch 12, step 10166: Generator loss: 20.662040587276486, discriminator loss: 0.046492995680285996\n",
      "Epoch 13, step 10948: Generator loss: 17.684317356485227, discriminator loss: 0.08408736939127538\n",
      "Epoch 14, step 11730: Generator loss: 21.467924814394983, discriminator loss: 0.058852198506470915\n",
      "Epoch 15, step 12512: Generator loss: 31.11205571264865, discriminator loss: 0.09718414694559105\n",
      "Epoch 16, step 13294: Generator loss: 24.57705325055913, discriminator loss: 0.15399893507470971\n",
      "Epoch 17, step 14076: Generator loss: 13.650940231654952, discriminator loss: 0.0839434970251244\n",
      "Epoch 18, step 14858: Generator loss: 8.83340653129245, discriminator loss: 0.0328169953086368\n",
      "Epoch 19, step 15640: Generator loss: 9.874162222113451, discriminator loss: 0.010599506916204354\n",
      "Epoch 20, step 16422: Generator loss: 15.859387933140832, discriminator loss: 0.016424579844858293\n",
      "Epoch 21, step 17204: Generator loss: 12.8202753506048, discriminator loss: 0.008443062452499962\n",
      "Epoch 22, step 17986: Generator loss: 14.971574879668244, discriminator loss: 0.03373922204771172\n",
      "Epoch 23, step 18768: Generator loss: 16.503601992526605, discriminator loss: 0.06222418825263563\n",
      "Epoch 24, step 19550: Generator loss: 15.104958515337971, discriminator loss: 0.08804121594938566\n",
      "Epoch 25, step 20332: Generator loss: 25.388541500891552, discriminator loss: 0.20981705016882302\n",
      "Epoch 26, step 21114: Generator loss: 11.503190713465376, discriminator loss: 0.12456654511211095\n",
      "Epoch 27, step 21896: Generator loss: 15.532790014506007, discriminator loss: 0.06623231491093025\n",
      "Epoch 28, step 22678: Generator loss: 12.84532479739861, discriminator loss: 0.09201431409825028\n",
      "Epoch 29, step 23460: Generator loss: 16.637766583191475, discriminator loss: 0.03744305929173815\n",
      "Epoch 30, step 24242: Generator loss: 18.610066139484633, discriminator loss: 0.02020213328173282\n",
      "Epoch 31, step 25024: Generator loss: 20.754699091167403, discriminator loss: 0.029381329718920043\n",
      "Epoch 32, step 25806: Generator loss: 23.42933541246695, discriminator loss: 0.015453369127508488\n",
      "Epoch 33, step 26588: Generator loss: 23.642254012320034, discriminator loss: 0.011698384439181753\n",
      "Epoch 34, step 27370: Generator loss: 26.155322237087965, discriminator loss: 0.009876833357901819\n",
      "Epoch 35, step 28152: Generator loss: 9.972019364614335, discriminator loss: 0.08368380204893541\n",
      "Epoch 36, step 28934: Generator loss: 9.814732501573888, discriminator loss: 0.02342758629786908\n",
      "Epoch 37, step 29716: Generator loss: 16.12031834570649, discriminator loss: 0.0459797018336344\n",
      "Epoch 38, step 30498: Generator loss: 14.46587613415533, discriminator loss: 0.043422453139094055\n",
      "Epoch 39, step 31280: Generator loss: 18.247858926768206, discriminator loss: 0.04823730007657191\n",
      "Epoch 40, step 32062: Generator loss: 18.81821338965763, discriminator loss: 0.08555716943100586\n",
      "Epoch 41, step 32844: Generator loss: 17.69612823910726, discriminator loss: 0.06594653980261013\n",
      "Epoch 42, step 33626: Generator loss: 14.03022690990089, discriminator loss: 0.04438059498279661\n",
      "Epoch 43, step 34408: Generator loss: 20.588476671282287, discriminator loss: 0.032895166797282396\n",
      "Epoch 43, step 35190: Generator loss: 18.408127293257436, discriminator loss: 0.03608139278605348\n",
      "Epoch 44, step 35972: Generator loss: 6.823230259253849, discriminator loss: 0.02612732893482444\n",
      "Epoch 45, step 36754: Generator loss: 7.948984459537992, discriminator loss: 0.022366574052256803\n",
      "Epoch 46, step 37536: Generator loss: 17.09284641675632, discriminator loss: 0.0517705959624306\n",
      "Epoch 47, step 38318: Generator loss: 20.547974826734713, discriminator loss: 0.04801732646454721\n",
      "Epoch 48, step 39100: Generator loss: 25.625629789688997, discriminator loss: 0.0669131525530173\n",
      "Epoch 49, step 39882: Generator loss: 10.789881436111372, discriminator loss: 0.05658118422035979\n",
      "Epoch 50, step 40664: Generator loss: 16.780478150643372, discriminator loss: 0.02472035555020714\n",
      "Epoch 51, step 41446: Generator loss: 14.521969269608595, discriminator loss: 0.005822383800259176\n",
      "Epoch 52, step 42228: Generator loss: 21.226584838174492, discriminator loss: 0.021729480378236563\n",
      "Epoch 53, step 43010: Generator loss: 24.273747131952558, discriminator loss: 0.018606050709976143\n",
      "Epoch 54, step 43792: Generator loss: 14.18741453029311, discriminator loss: 0.014418448028101091\n",
      "Epoch 55, step 44574: Generator loss: 9.061921041030093, discriminator loss: 0.005873870888866045\n",
      "Epoch 56, step 45356: Generator loss: 11.473858873557557, discriminator loss: 0.004240154315533442\n",
      "Epoch 57, step 46138: Generator loss: 9.402091411678386, discriminator loss: 0.0021563570927772\n",
      "Epoch 58, step 46920: Generator loss: 10.67437602187057, discriminator loss: 0.0031654442072581524\n",
      "Epoch 59, step 47702: Generator loss: 19.60154220210318, discriminator loss: 0.040580502161478314\n",
      "Epoch 60, step 48484: Generator loss: 28.489171048869235, discriminator loss: 0.09839445061240609\n",
      "Epoch 61, step 49266: Generator loss: 12.51692066290189, discriminator loss: 0.1873998557410353\n",
      "Epoch 62, step 50048: Generator loss: 13.081528867297152, discriminator loss: 0.08857821068986096\n",
      "Epoch 63, step 50830: Generator loss: 9.687834687245152, discriminator loss: 0.02433473297008941\n",
      "Epoch 64, step 51612: Generator loss: 9.728975458218324, discriminator loss: 0.008615078718360992\n",
      "Epoch 65, step 52394: Generator loss: 15.445149416813749, discriminator loss: 0.015507233099208196\n",
      "Epoch 66, step 53176: Generator loss: 12.216857143070401, discriminator loss: 0.010482606422767948\n",
      "Epoch 67, step 53958: Generator loss: 12.479122071619845, discriminator loss: 0.01253499368255835\n",
      "Epoch 68, step 54740: Generator loss: 12.893357017156113, discriminator loss: 0.03843324947735272\n",
      "Epoch 69, step 55522: Generator loss: 11.861686676664444, discriminator loss: 0.03860012891695211\n",
      "Epoch 70, step 56304: Generator loss: 13.7506868259986, discriminator loss: 0.03587701371552355\n",
      "Epoch 71, step 57086: Generator loss: 19.912033849360085, discriminator loss: 0.05891979877274872\n",
      "Epoch 72, step 57868: Generator loss: 17.329151136491006, discriminator loss: 0.05101553865594073\n",
      "Epoch 73, step 58650: Generator loss: 12.70493563483742, discriminator loss: 0.031592415147901697\n",
      "Epoch 74, step 59432: Generator loss: 12.668832402095147, discriminator loss: 0.024538635002637324\n",
      "Epoch 75, step 60214: Generator loss: 11.108310209820631, discriminator loss: 0.05204932603453914\n",
      "Epoch 76, step 60996: Generator loss: 14.19915085375461, discriminator loss: 0.07864716792743548\n",
      "Epoch 77, step 61778: Generator loss: 10.761102642854482, discriminator loss: 0.04480486585641916\n",
      "Epoch 78, step 62560: Generator loss: 13.444456005950132, discriminator loss: 0.03786318196648311\n",
      "Epoch 79, step 63342: Generator loss: 18.809583023685935, discriminator loss: 0.0651646870988733\n",
      "Epoch 80, step 64124: Generator loss: 17.992309243477806, discriminator loss: 0.08804308011880166\n",
      "Epoch 81, step 64906: Generator loss: 14.578129058603738, discriminator loss: 0.033563577300866544\n",
      "Epoch 82, step 65688: Generator loss: 7.33689428138002, discriminator loss: 0.05218044091063695\n",
      "Epoch 83, step 66470: Generator loss: 9.360315380803758, discriminator loss: 0.039805928141276474\n",
      "Epoch 84, step 67252: Generator loss: 13.175299089582984, discriminator loss: 0.026607002643600365\n",
      "Epoch 85, step 68034: Generator loss: 18.372333949789084, discriminator loss: 0.06170477744553935\n",
      "Epoch 86, step 68816: Generator loss: 9.774028618927197, discriminator loss: 0.049533614698830754\n",
      "Epoch 86, step 69598: Generator loss: 8.733753774477092, discriminator loss: 0.0266075109708054\n",
      "Epoch 87, step 70380: Generator loss: 9.260619494616227, discriminator loss: 0.046354590497120186\n",
      "Epoch 88, step 71162: Generator loss: 9.935563900281707, discriminator loss: 0.034593553942404334\n",
      "Epoch 89, step 71944: Generator loss: 11.19935341625262, discriminator loss: 0.07191831053560947\n",
      "Epoch 90, step 72726: Generator loss: 10.3137756168385, discriminator loss: 0.04135014114918093\n",
      "Epoch 91, step 73508: Generator loss: 5.956306676425589, discriminator loss: 0.036739419413316037\n",
      "Epoch 92, step 74290: Generator loss: 10.448164918538554, discriminator loss: 0.023235190916932113\n",
      "Epoch 93, step 75072: Generator loss: 10.777150196797397, discriminator loss: 0.10479712696231491\n",
      "Epoch 94, step 75854: Generator loss: 6.986864000330195, discriminator loss: 0.06231297267948651\n",
      "Epoch 95, step 76636: Generator loss: 6.345921142022013, discriminator loss: 0.08442284585788964\n",
      "Epoch 96, step 77418: Generator loss: 6.289625509620634, discriminator loss: 0.08243736693435504\n",
      "Epoch 97, step 78200: Generator loss: 5.039256103813187, discriminator loss: 0.10369307211007167\n",
      "Epoch 98, step 78982: Generator loss: 4.69545683653459, discriminator loss: 0.07500902134472566\n",
      "Epoch 99, step 79764: Generator loss: 5.075924733715596, discriminator loss: 0.04770762198592734\n",
      "Epoch 0, step 782: Generator loss: 5.362604786063095, discriminator loss: 0.06932958504161256\n",
      "Epoch 1, step 1564: Generator loss: 5.121059412541593, discriminator loss: 0.07940501771519522\n",
      "Epoch 2, step 2346: Generator loss: 5.446077237653611, discriminator loss: 0.06273103031494165\n",
      "Epoch 3, step 3128: Generator loss: 4.990501987964596, discriminator loss: 0.07191713477301474\n",
      "Epoch 4, step 3910: Generator loss: 5.104622996981491, discriminator loss: 0.06425047603309575\n",
      "Epoch 5, step 4692: Generator loss: 5.006013642186706, discriminator loss: 0.074581240949309\n",
      "Epoch 6, step 5474: Generator loss: 5.093934839948665, discriminator loss: 0.06277232308445681\n",
      "Epoch 7, step 6256: Generator loss: 5.191777056745252, discriminator loss: 0.0533530030142316\n",
      "Epoch 8, step 7038: Generator loss: 4.876300818475008, discriminator loss: 0.06822598544056611\n",
      "Epoch 9, step 7820: Generator loss: 4.973644198054247, discriminator loss: 0.05315174918879022\n",
      "Epoch 10, step 8602: Generator loss: 5.358986491132576, discriminator loss: 0.04130325201765426\n",
      "Epoch 11, step 9384: Generator loss: 5.743544306596513, discriminator loss: 0.0322584499928938\n",
      "Epoch 12, step 10166: Generator loss: 5.574448656243137, discriminator loss: 0.04572366756479946\n",
      "Epoch 13, step 10948: Generator loss: 5.832828015622579, discriminator loss: 0.03871533399581192\n",
      "Epoch 14, step 11730: Generator loss: 5.549373115724919, discriminator loss: 0.033668634174463134\n",
      "Epoch 15, step 12512: Generator loss: 5.897807213351549, discriminator loss: 0.039276248044774975\n",
      "Epoch 16, step 13294: Generator loss: 6.553771153740259, discriminator loss: 0.03654606981486408\n",
      "Epoch 17, step 14076: Generator loss: 5.922530618165159, discriminator loss: 0.04422202052565202\n",
      "Epoch 18, step 14858: Generator loss: 5.958361157370958, discriminator loss: 0.047973513032745586\n",
      "Epoch 19, step 15640: Generator loss: 6.055242402474288, discriminator loss: 0.047042921111654604\n",
      "Epoch 20, step 16422: Generator loss: 5.768556649727589, discriminator loss: 0.03462834030096815\n",
      "Epoch 21, step 17204: Generator loss: 5.601413229237427, discriminator loss: 0.03678175023830766\n",
      "Epoch 22, step 17986: Generator loss: 5.784171558706961, discriminator loss: 0.03274534237178046\n",
      "Epoch 23, step 18768: Generator loss: 5.893978095115606, discriminator loss: 0.026394182905469025\n",
      "Epoch 24, step 19550: Generator loss: 5.894405827802779, discriminator loss: 0.023428333085089865\n",
      "Epoch 25, step 20332: Generator loss: 6.35541291858838, discriminator loss: 0.0306543292968398\n",
      "Epoch 26, step 21114: Generator loss: 6.4019564313961705, discriminator loss: 0.025110042900504427\n",
      "Epoch 27, step 21896: Generator loss: 6.834158435806899, discriminator loss: 0.02543893269599053\n",
      "Epoch 28, step 22678: Generator loss: 6.903681648966607, discriminator loss: 0.021535456593087702\n",
      "Epoch 29, step 23460: Generator loss: 6.583186185573368, discriminator loss: 0.027230007601949543\n",
      "Epoch 30, step 24242: Generator loss: 6.962691357678458, discriminator loss: 0.02454036277393711\n",
      "Epoch 31, step 25024: Generator loss: 6.481572484726178, discriminator loss: 0.026546588772848295\n",
      "Epoch 32, step 25806: Generator loss: 6.570318217777537, discriminator loss: 0.024614656230022725\n",
      "Epoch 33, step 26588: Generator loss: 6.5830828460586, discriminator loss: 0.02880725922935958\n",
      "Epoch 34, step 27370: Generator loss: 7.0165260612507305, discriminator loss: 0.03564122302339784\n",
      "Epoch 35, step 28152: Generator loss: 6.505816179163305, discriminator loss: 0.035113671481314036\n",
      "Epoch 36, step 28934: Generator loss: 6.347703406268072, discriminator loss: 0.025128699267757067\n",
      "Epoch 37, step 29716: Generator loss: 7.293194066533039, discriminator loss: 0.026022550259011793\n",
      "Epoch 38, step 30498: Generator loss: 6.741417154936537, discriminator loss: 0.02311922700824383\n",
      "Epoch 39, step 31280: Generator loss: 7.025660653248459, discriminator loss: 0.022668526931594386\n",
      "Epoch 40, step 32062: Generator loss: 6.884157927139946, discriminator loss: 0.014565433995128914\n",
      "Epoch 41, step 32844: Generator loss: 7.355088000407302, discriminator loss: 0.033193359360196475\n",
      "Epoch 42, step 33626: Generator loss: 7.321132652594917, discriminator loss: 0.04326775657695472\n",
      "Epoch 43, step 34408: Generator loss: 6.615467750202972, discriminator loss: 0.03120210384795217\n",
      "Epoch 43, step 35190: Generator loss: 6.9590676599146475, discriminator loss: 0.041392916087906746\n",
      "Epoch 44, step 35972: Generator loss: 6.699419821619684, discriminator loss: 0.023001133211795477\n",
      "Epoch 45, step 36754: Generator loss: 6.814008595693439, discriminator loss: 0.026157951405536284\n",
      "Epoch 46, step 37536: Generator loss: 6.859812423701167, discriminator loss: 0.035568749665192176\n",
      "Epoch 47, step 38318: Generator loss: 6.614531249951222, discriminator loss: 0.032001239808259606\n",
      "Epoch 48, step 39100: Generator loss: 6.547136020782357, discriminator loss: 0.034531519171850905\n",
      "Epoch 49, step 39882: Generator loss: 6.3001653599312215, discriminator loss: 0.022445090373804145\n",
      "Epoch 50, step 40664: Generator loss: 6.874976499611148, discriminator loss: 0.04789471424951711\n",
      "Epoch 51, step 41446: Generator loss: 6.847038676976551, discriminator loss: 0.029738504601859235\n",
      "Epoch 52, step 42228: Generator loss: 6.509589636112416, discriminator loss: 0.03930137726797453\n",
      "Epoch 53, step 43010: Generator loss: 6.691464160104544, discriminator loss: 0.03207007383086893\n",
      "Epoch 54, step 43792: Generator loss: 6.544006484243881, discriminator loss: 0.03763059563363149\n",
      "Epoch 55, step 44574: Generator loss: 6.323850201828714, discriminator loss: 0.038809740322801614\n",
      "Epoch 56, step 45356: Generator loss: 6.270012143932641, discriminator loss: 0.03333396749342303\n",
      "Epoch 57, step 46138: Generator loss: 6.351390038609802, discriminator loss: 0.032720627095859975\n",
      "Epoch 58, step 46920: Generator loss: 6.251568755225447, discriminator loss: 0.0315349896181175\n",
      "Epoch 59, step 47702: Generator loss: 6.266358282255088, discriminator loss: 0.03459456135980933\n",
      "Epoch 60, step 48484: Generator loss: 6.315548902887221, discriminator loss: 0.02272828428588015\n",
      "Epoch 61, step 49266: Generator loss: 6.830307505014917, discriminator loss: 0.034474098540144646\n",
      "Epoch 62, step 50048: Generator loss: 6.387031447856932, discriminator loss: 0.055798178730422976\n",
      "Epoch 63, step 50830: Generator loss: 6.114921461285834, discriminator loss: 0.051103073547420344\n",
      "Epoch 64, step 51612: Generator loss: 5.92294543051658, discriminator loss: 0.04830459795554006\n",
      "Epoch 65, step 52394: Generator loss: 6.216264588753591, discriminator loss: 0.037512641841941044\n",
      "Epoch 66, step 53176: Generator loss: 5.971983857167039, discriminator loss: 0.03495713383199938\n",
      "Epoch 67, step 53958: Generator loss: 6.155267103858619, discriminator loss: 0.03324786798261547\n",
      "Epoch 68, step 54740: Generator loss: 6.364141268498452, discriminator loss: 0.02964292172297281\n",
      "Epoch 69, step 55522: Generator loss: 6.197719441045576, discriminator loss: 0.023546934216235625\n",
      "Epoch 70, step 56304: Generator loss: 6.5129115392484875, discriminator loss: 0.021781482101094145\n",
      "Epoch 71, step 57086: Generator loss: 6.365846783303849, discriminator loss: 0.035440189763308136\n",
      "Epoch 72, step 57868: Generator loss: 6.226552347392979, discriminator loss: 0.03631940129203513\n",
      "Epoch 73, step 58650: Generator loss: 6.265098051037022, discriminator loss: 0.03511663464516103\n",
      "Epoch 74, step 59432: Generator loss: 6.4569342862004815, discriminator loss: 0.03369533306325944\n",
      "Epoch 75, step 60214: Generator loss: 6.663505450538965, discriminator loss: 0.022979570564616247\n",
      "Epoch 76, step 60996: Generator loss: 6.523310414360613, discriminator loss: 0.02086477263091022\n",
      "Epoch 77, step 61778: Generator loss: 6.776514378350099, discriminator loss: 0.029789223673913023\n",
      "Epoch 78, step 62560: Generator loss: 6.73339632648946, discriminator loss: 0.03160013606988578\n",
      "Epoch 79, step 63342: Generator loss: 6.604077256244171, discriminator loss: 0.028729803358500026\n",
      "Epoch 80, step 64124: Generator loss: 6.437294875264477, discriminator loss: 0.029091686667467146\n",
      "Epoch 81, step 64906: Generator loss: 6.778585116881549, discriminator loss: 0.023977066668005358\n",
      "Epoch 82, step 65688: Generator loss: 6.5734720778892095, discriminator loss: 0.02005817446604019\n",
      "Epoch 83, step 66470: Generator loss: 6.547206202431404, discriminator loss: 0.03454017791452833\n",
      "Epoch 84, step 67252: Generator loss: 6.348982110962554, discriminator loss: 0.031120753931917735\n",
      "Epoch 85, step 68034: Generator loss: 6.366702328557554, discriminator loss: 0.02825426444818583\n",
      "Epoch 86, step 68816: Generator loss: 6.619508062177303, discriminator loss: 0.02717376364957151\n",
      "Epoch 86, step 69598: Generator loss: 6.53981854116825, discriminator loss: 0.026967568238309855\n",
      "Epoch 87, step 70380: Generator loss: 6.687266901630875, discriminator loss: 0.03745944983125818\n",
      "Epoch 88, step 71162: Generator loss: 6.454092623327701, discriminator loss: 0.04429620378972282\n",
      "Epoch 89, step 71944: Generator loss: 6.236086149654725, discriminator loss: 0.042211474492298034\n",
      "Epoch 90, step 72726: Generator loss: 6.113655449484315, discriminator loss: 0.039153403679952216\n",
      "Epoch 91, step 73508: Generator loss: 6.070095642753266, discriminator loss: 0.037383428163816936\n",
      "Epoch 92, step 74290: Generator loss: 6.065862079410603, discriminator loss: 0.03250598202607194\n",
      "Epoch 93, step 75072: Generator loss: 6.458414077758784, discriminator loss: 0.030472740483925183\n",
      "Epoch 94, step 75854: Generator loss: 6.447455128135591, discriminator loss: 0.028224814099633632\n",
      "Epoch 95, step 76636: Generator loss: 6.516823436902929, discriminator loss: 0.025349101490255363\n",
      "Epoch 96, step 77418: Generator loss: 6.612880151899879, discriminator loss: 0.027326713563860055\n",
      "Epoch 97, step 78200: Generator loss: 6.623331789470389, discriminator loss: 0.033607092979566544\n",
      "Epoch 98, step 78982: Generator loss: 6.496165229841263, discriminator loss: 0.03736093408390017\n",
      "Epoch 99, step 79764: Generator loss: 6.582558570920352, discriminator loss: 0.04509981595518066\n",
      "Epoch 0, step 782: Generator loss: 6.302940727804633, discriminator loss: 0.041944314063529095\n",
      "Epoch 1, step 1564: Generator loss: 6.2263049634216365, discriminator loss: 0.042998423295505184\n",
      "Epoch 2, step 2346: Generator loss: 6.197406462086434, discriminator loss: 0.04003506567260092\n",
      "Epoch 3, step 3128: Generator loss: 6.3102126914217, discriminator loss: 0.032241240495106085\n",
      "Epoch 4, step 3910: Generator loss: 6.4375431799827645, discriminator loss: 0.03136818468227718\n",
      "Epoch 5, step 4692: Generator loss: 6.288068451235058, discriminator loss: 0.04968760929801652\n",
      "Epoch 6, step 5474: Generator loss: 6.051048116001018, discriminator loss: 0.05378340227205473\n",
      "Epoch 7, step 6256: Generator loss: 5.871000560653175, discriminator loss: 0.044187918156528325\n",
      "Epoch 8, step 7038: Generator loss: 6.184602580716854, discriminator loss: 0.036593646085594844\n",
      "Epoch 9, step 7820: Generator loss: 6.132137892496252, discriminator loss: 0.035538148419583776\n",
      "Epoch 10, step 8602: Generator loss: 6.452285307447626, discriminator loss: 0.030467029204806477\n",
      "Epoch 11, step 9384: Generator loss: 6.237949487803235, discriminator loss: 0.04393775754755891\n",
      "Epoch 12, step 10166: Generator loss: 6.019140948419994, discriminator loss: 0.04365503958419265\n",
      "Epoch 13, step 10948: Generator loss: 6.140924723252009, discriminator loss: 0.03513753582077945\n",
      "Epoch 14, step 11730: Generator loss: 6.204206263622669, discriminator loss: 0.03196375223133913\n",
      "Epoch 15, step 12512: Generator loss: 6.43473303531442, discriminator loss: 0.03108524082465543\n",
      "Epoch 16, step 13294: Generator loss: 6.345476257831542, discriminator loss: 0.042252189750709324\n",
      "Epoch 17, step 14076: Generator loss: 6.112518559331474, discriminator loss: 0.04545592394766998\n",
      "Epoch 18, step 14858: Generator loss: 6.2481457656606665, discriminator loss: 0.03288965493731222\n",
      "Epoch 19, step 15640: Generator loss: 6.3565424592293835, discriminator loss: 0.02878886761049719\n",
      "Epoch 20, step 16422: Generator loss: 6.392167000514464, discriminator loss: 0.036176806686760515\n",
      "Epoch 21, step 17204: Generator loss: 6.338696207841645, discriminator loss: 0.04154752711634459\n",
      "Epoch 22, step 17986: Generator loss: 6.385538688401126, discriminator loss: 0.034715597970349246\n",
      "Epoch 23, step 18768: Generator loss: 6.30698029952281, discriminator loss: 0.03128356026018715\n",
      "Epoch 24, step 19550: Generator loss: 6.423231824889511, discriminator loss: 0.035664965057402576\n",
      "Epoch 25, step 20332: Generator loss: 6.129424297596192, discriminator loss: 0.048699337791989684\n",
      "Epoch 26, step 21114: Generator loss: 6.205416747676133, discriminator loss: 0.04092227244604371\n",
      "Epoch 27, step 21896: Generator loss: 6.164821472924084, discriminator loss: 0.042868802239975454\n",
      "Epoch 28, step 22678: Generator loss: 5.951366845299219, discriminator loss: 0.04589616295064584\n",
      "Epoch 29, step 23460: Generator loss: 6.042357355127552, discriminator loss: 0.043030292907481976\n",
      "Epoch 30, step 24242: Generator loss: 6.123563508548393, discriminator loss: 0.04864425569072445\n",
      "Epoch 31, step 25024: Generator loss: 6.007614749166973, discriminator loss: 0.05166716270191629\n",
      "Epoch 32, step 25806: Generator loss: 5.95918893326274, discriminator loss: 0.046191161783064295\n",
      "Epoch 33, step 26588: Generator loss: 5.911048986722748, discriminator loss: 0.047885637510034364\n",
      "Epoch 34, step 27370: Generator loss: 5.84560783439889, discriminator loss: 0.04515707162220764\n",
      "Epoch 35, step 28152: Generator loss: 6.062302254045097, discriminator loss: 0.041997867175485135\n",
      "Epoch 36, step 28934: Generator loss: 6.056465666007508, discriminator loss: 0.043911842904422765\n",
      "Epoch 37, step 29716: Generator loss: 5.883587524409187, discriminator loss: 0.05351064615713822\n",
      "Epoch 38, step 30498: Generator loss: 5.913887995893085, discriminator loss: 0.048793068894630566\n",
      "Epoch 39, step 31280: Generator loss: 5.928718966901153, discriminator loss: 0.04381012696001085\n",
      "Epoch 40, step 32062: Generator loss: 5.9159032871656105, discriminator loss: 0.04765576873894049\n",
      "Epoch 41, step 32844: Generator loss: 5.8952669359533925, discriminator loss: 0.04579169569415573\n",
      "Epoch 42, step 33626: Generator loss: 5.8664744351526075, discriminator loss: 0.04701746430467164\n",
      "Epoch 43, step 34408: Generator loss: 5.91058404305402, discriminator loss: 0.0474851898178506\n",
      "Epoch 43, step 35190: Generator loss: 5.910679494023625, discriminator loss: 0.04795017469760099\n",
      "Epoch 44, step 35972: Generator loss: 5.832573925442705, discriminator loss: 0.04783185862797927\n",
      "Epoch 45, step 36754: Generator loss: 6.020877639960762, discriminator loss: 0.04322284945260603\n",
      "Epoch 46, step 37536: Generator loss: 5.98207225458092, discriminator loss: 0.0473357824998124\n",
      "Epoch 47, step 38318: Generator loss: 5.928085405808281, discriminator loss: 0.043151179324988014\n",
      "Epoch 48, step 39100: Generator loss: 5.892889477102948, discriminator loss: 0.04482354318587312\n",
      "Epoch 49, step 39882: Generator loss: 5.999668014628808, discriminator loss: 0.04761595897081185\n",
      "Epoch 50, step 40664: Generator loss: 5.908109783821401, discriminator loss: 0.04913754065228091\n",
      "Epoch 51, step 41446: Generator loss: 5.9025224810061205, discriminator loss: 0.0565889945826576\n",
      "Epoch 52, step 42228: Generator loss: 5.779488966593043, discriminator loss: 0.05327841285866264\n",
      "Epoch 53, step 43010: Generator loss: 5.857583306939401, discriminator loss: 0.044782327798902614\n",
      "Epoch 54, step 43792: Generator loss: 5.769559866327145, discriminator loss: 0.04551412221615958\n",
      "Epoch 55, step 44574: Generator loss: 6.070325737414159, discriminator loss: 0.0404208746555325\n",
      "Epoch 56, step 45356: Generator loss: 5.924498144622964, discriminator loss: 0.04709452516970978\n",
      "Epoch 57, step 46138: Generator loss: 6.04081412166585, discriminator loss: 0.040539181617962765\n",
      "Epoch 58, step 46920: Generator loss: 5.961701799231727, discriminator loss: 0.046376452041680304\n",
      "Epoch 59, step 47702: Generator loss: 5.861220180530993, discriminator loss: 0.05548338103346294\n",
      "Epoch 60, step 48484: Generator loss: 5.997345038387166, discriminator loss: 0.04866981967126054\n",
      "Epoch 61, step 49266: Generator loss: 5.85100118522449, discriminator loss: 0.06054542355758652\n",
      "Epoch 62, step 50048: Generator loss: 5.723433651277781, discriminator loss: 0.05202182194056071\n",
      "Epoch 63, step 50830: Generator loss: 5.724814455832369, discriminator loss: 0.04972486885840938\n",
      "Epoch 64, step 51612: Generator loss: 5.757208604641882, discriminator loss: 0.05518665017984106\n",
      "Epoch 65, step 52394: Generator loss: 5.641448252646205, discriminator loss: 0.051143023614173756\n",
      "Epoch 66, step 53176: Generator loss: 5.8282917728814425, discriminator loss: 0.0458070373494902\n",
      "Epoch 67, step 53958: Generator loss: 5.9772065130950915, discriminator loss: 0.05372636686638947\n",
      "Epoch 68, step 54740: Generator loss: 5.548416314527513, discriminator loss: 0.05580755021742272\n",
      "Epoch 69, step 55522: Generator loss: 5.737380561316413, discriminator loss: 0.05934281748555161\n",
      "Epoch 70, step 56304: Generator loss: 5.6968981481879, discriminator loss: 0.05106713045614746\n",
      "Epoch 71, step 57086: Generator loss: 5.740290778372296, discriminator loss: 0.04976105090478428\n",
      "Epoch 72, step 57868: Generator loss: 5.823781238492487, discriminator loss: 0.05396866469996534\n",
      "Epoch 73, step 58650: Generator loss: 5.688305301739437, discriminator loss: 0.049850307078674744\n",
      "Epoch 74, step 59432: Generator loss: 5.683061069844628, discriminator loss: 0.05148584031931049\n",
      "Epoch 75, step 60214: Generator loss: 5.8254785635282325, discriminator loss: 0.049098207199674455\n",
      "Epoch 76, step 60996: Generator loss: 5.68259707192326, discriminator loss: 0.054634520822726275\n",
      "Epoch 77, step 61778: Generator loss: 5.7560991381135445, discriminator loss: 0.05498260411950753\n",
      "Epoch 78, step 62560: Generator loss: 5.876018308312687, discriminator loss: 0.045083323704397944\n",
      "Epoch 79, step 63342: Generator loss: 5.807636051226762, discriminator loss: 0.05907209946290423\n",
      "Epoch 80, step 64124: Generator loss: 5.516355703553886, discriminator loss: 0.0613087230466802\n",
      "Epoch 81, step 64906: Generator loss: 5.629694094133498, discriminator loss: 0.050961475326891686\n",
      "Epoch 82, step 65688: Generator loss: 5.779658974284095, discriminator loss: 0.05073058705829328\n",
      "Epoch 83, step 66470: Generator loss: 5.704340524380778, discriminator loss: 0.05833981390280257\n",
      "Epoch 84, step 67252: Generator loss: 5.656456657687709, discriminator loss: 0.0520550931298919\n",
      "Epoch 85, step 68034: Generator loss: 5.7323671472651805, discriminator loss: 0.05896030833034795\n",
      "Epoch 86, step 68816: Generator loss: 5.626653850535911, discriminator loss: 0.056181509698005117\n",
      "Epoch 86, step 69598: Generator loss: 5.827536025620487, discriminator loss: 0.04292107736596558\n",
      "Epoch 87, step 70380: Generator loss: 5.561049822346328, discriminator loss: 0.05909898685758263\n",
      "Epoch 88, step 71162: Generator loss: 5.668631712798883, discriminator loss: 0.05190581524782735\n",
      "Epoch 89, step 71944: Generator loss: 5.660220889484183, discriminator loss: 0.049845659119241416\n",
      "Epoch 90, step 72726: Generator loss: 5.573727682728295, discriminator loss: 0.04864343470307852\n",
      "Epoch 91, step 73508: Generator loss: 5.79836018250116, discriminator loss: 0.05369097053471118\n",
      "Epoch 92, step 74290: Generator loss: 5.665877090390682, discriminator loss: 0.06671038427440182\n",
      "Epoch 93, step 75072: Generator loss: 5.64892185801435, discriminator loss: 0.061147152341406844\n",
      "Epoch 94, step 75854: Generator loss: 5.61443272149167, discriminator loss: 0.05716992239170074\n",
      "Epoch 95, step 76636: Generator loss: 5.423642761567059, discriminator loss: 0.05928324831678245\n",
      "Epoch 96, step 77418: Generator loss: 5.523004991014292, discriminator loss: 0.06463540494537263\n",
      "Epoch 97, step 78200: Generator loss: 5.540294355138796, discriminator loss: 0.04920639089830314\n",
      "Epoch 98, step 78982: Generator loss: 5.520961641960438, discriminator loss: 0.05225639974893736\n",
      "Epoch 99, step 79764: Generator loss: 5.578699641215529, discriminator loss: 0.05133490199389888\n",
      "Epoch 0, step 782: Generator loss: 5.719134077086772, discriminator loss: 0.05421507137272586\n",
      "Epoch 1, step 1564: Generator loss: 5.5090740086782315, discriminator loss: 0.06295045656259259\n",
      "Epoch 2, step 2346: Generator loss: 5.802060757146766, discriminator loss: 0.04996828188288411\n",
      "Epoch 3, step 3128: Generator loss: 5.541106450283319, discriminator loss: 0.05838071482370383\n",
      "Epoch 4, step 3910: Generator loss: 5.5253991635559165, discriminator loss: 0.055361090888938626\n",
      "Epoch 5, step 4692: Generator loss: 5.4243639716711805, discriminator loss: 0.05709481646742707\n",
      "Epoch 6, step 5474: Generator loss: 5.572226190201161, discriminator loss: 0.05163184250883587\n",
      "Epoch 7, step 6256: Generator loss: 5.4085583570973075, discriminator loss: 0.061745559369140064\n",
      "Epoch 8, step 7038: Generator loss: 5.625240882034498, discriminator loss: 0.053583180953455566\n",
      "Epoch 9, step 7820: Generator loss: 5.718543643536765, discriminator loss: 0.06116255337272384\n",
      "Epoch 10, step 8602: Generator loss: 5.595083554382512, discriminator loss: 0.05279249161758155\n",
      "Epoch 11, step 9384: Generator loss: 5.3585719909814244, discriminator loss: 0.0696476374090652\n",
      "Epoch 12, step 10166: Generator loss: 5.5964452805726435, discriminator loss: 0.05168239124085935\n",
      "Epoch 13, step 10948: Generator loss: 5.518816026580303, discriminator loss: 0.05044211238108171\n",
      "Epoch 14, step 11730: Generator loss: 5.489185580817033, discriminator loss: 0.05135996248442056\n",
      "Epoch 15, step 12512: Generator loss: 5.511258043596507, discriminator loss: 0.06879450697237456\n",
      "Epoch 16, step 13294: Generator loss: 5.59424006237703, discriminator loss: 0.054075534250634855\n",
      "Epoch 17, step 14076: Generator loss: 5.798428778148369, discriminator loss: 0.05063973582776084\n",
      "Epoch 18, step 14858: Generator loss: 5.771348727633584, discriminator loss: 0.051763558480412274\n",
      "Epoch 19, step 15640: Generator loss: 5.383089102137724, discriminator loss: 0.06161795293702683\n",
      "Epoch 20, step 16422: Generator loss: 5.508736088452743, discriminator loss: 0.05996653891961707\n",
      "Epoch 21, step 17204: Generator loss: 5.408069286200096, discriminator loss: 0.046835177193950715\n",
      "Epoch 22, step 17986: Generator loss: 5.644579529457382, discriminator loss: 0.06483396206496528\n",
      "Epoch 23, step 18768: Generator loss: 5.382219381649474, discriminator loss: 0.058196506215273724\n",
      "Epoch 24, step 19550: Generator loss: 5.527761326421555, discriminator loss: 0.05327741342984955\n",
      "Epoch 25, step 20332: Generator loss: 5.643361932481343, discriminator loss: 0.04752285083543862\n",
      "Epoch 26, step 21114: Generator loss: 5.580368077968392, discriminator loss: 0.05707706936249205\n",
      "Epoch 27, step 21896: Generator loss: 5.72674135783749, discriminator loss: 0.05295394258001994\n",
      "Epoch 28, step 22678: Generator loss: 5.760982093908597, discriminator loss: 0.05306533194692506\n",
      "Epoch 29, step 23460: Generator loss: 5.854869761430386, discriminator loss: 0.04256540305419443\n",
      "Epoch 30, step 24242: Generator loss: 5.538195756390268, discriminator loss: 0.051253972667367066\n",
      "Epoch 31, step 25024: Generator loss: 5.485775463416447, discriminator loss: 0.06661638380040213\n",
      "Epoch 32, step 25806: Generator loss: 5.562535520709688, discriminator loss: 0.05686820888667914\n",
      "Epoch 33, step 26588: Generator loss: 5.379666332698548, discriminator loss: 0.06851822796427767\n",
      "Epoch 34, step 27370: Generator loss: 5.56530181770129, discriminator loss: 0.05814819585036513\n",
      "Epoch 35, step 28152: Generator loss: 5.554153479578545, discriminator loss: 0.047314333522220725\n",
      "Epoch 36, step 28934: Generator loss: 5.769504259919273, discriminator loss: 0.06594803672679277\n",
      "Epoch 37, step 29716: Generator loss: 5.303520066049092, discriminator loss: 0.060650824384568494\n",
      "Epoch 38, step 30498: Generator loss: 5.483433172221075, discriminator loss: 0.05198482009451212\n",
      "Epoch 39, step 31280: Generator loss: 5.450869638291774, discriminator loss: 0.06390040532192756\n",
      "Epoch 40, step 32062: Generator loss: 5.563047561499156, discriminator loss: 0.0523744119174035\n",
      "Epoch 41, step 32844: Generator loss: 5.572640778768402, discriminator loss: 0.04651468576591874\n",
      "Epoch 42, step 33626: Generator loss: 5.563023608663808, discriminator loss: 0.06199646303477831\n",
      "Epoch 43, step 34408: Generator loss: 5.4261107591107125, discriminator loss: 0.05490747912336728\n",
      "Epoch 43, step 35190: Generator loss: 5.404639512376719, discriminator loss: 0.06162299909045361\n",
      "Epoch 44, step 35972: Generator loss: 5.440093631939511, discriminator loss: 0.054739663372640385\n",
      "Epoch 45, step 36754: Generator loss: 5.612921978201709, discriminator loss: 0.05651922778243118\n",
      "Epoch 46, step 37536: Generator loss: 5.53215593877046, discriminator loss: 0.05382258514695039\n",
      "Epoch 47, step 38318: Generator loss: 5.3934856790410945, discriminator loss: 0.055525327434815745\n",
      "Epoch 48, step 39100: Generator loss: 5.320877758133442, discriminator loss: 0.04537221831460124\n",
      "Epoch 49, step 39882: Generator loss: 5.594065857970199, discriminator loss: 0.04836771654767819\n",
      "Epoch 50, step 40664: Generator loss: 5.623629582812421, discriminator loss: 0.04599594005831345\n",
      "Epoch 51, step 41446: Generator loss: 5.833832170652309, discriminator loss: 0.04330141766263587\n",
      "Epoch 52, step 42228: Generator loss: 5.46492034090144, discriminator loss: 0.05898047954110842\n",
      "Epoch 53, step 43010: Generator loss: 5.53912058022931, discriminator loss: 0.04537807624546521\n",
      "Epoch 54, step 43792: Generator loss: 5.445537534211295, discriminator loss: 0.054885610092497976\n",
      "Epoch 55, step 44574: Generator loss: 5.459734957541338, discriminator loss: 0.050106210246458324\n",
      "Epoch 56, step 45356: Generator loss: 5.563383804867641, discriminator loss: 0.052467091939747905\n",
      "Epoch 57, step 46138: Generator loss: 5.516062473702003, discriminator loss: 0.049304083183222026\n",
      "Epoch 58, step 46920: Generator loss: 5.4434241516815725, discriminator loss: 0.05202074411570492\n",
      "Epoch 59, step 47702: Generator loss: 5.520030674117302, discriminator loss: 0.05185197018291754\n",
      "Epoch 60, step 48484: Generator loss: 5.503842012961501, discriminator loss: 0.04977908029156684\n",
      "Epoch 61, step 49266: Generator loss: 5.549859086570831, discriminator loss: 0.043121968648489314\n",
      "Epoch 62, step 50048: Generator loss: 5.487526165554894, discriminator loss: 0.05001322017706297\n",
      "Epoch 63, step 50830: Generator loss: 5.406236461361353, discriminator loss: 0.053034725828844186\n",
      "Epoch 64, step 51612: Generator loss: 5.546714066849339, discriminator loss: 0.048841025030045115\n",
      "Epoch 65, step 52394: Generator loss: 5.5795765209685735, discriminator loss: 0.04997219830927681\n",
      "Epoch 66, step 53176: Generator loss: 5.4154239145996055, discriminator loss: 0.051267940470058025\n",
      "Epoch 67, step 53958: Generator loss: 5.5262262735830205, discriminator loss: 0.04600667202954787\n",
      "Epoch 68, step 54740: Generator loss: 5.43393135375684, discriminator loss: 0.05303230707157311\n",
      "Epoch 69, step 55522: Generator loss: 5.498724293525871, discriminator loss: 0.04786027058758923\n",
      "Epoch 70, step 56304: Generator loss: 5.557698824216651, discriminator loss: 0.04638349006662285\n",
      "Epoch 71, step 57086: Generator loss: 5.483824304302636, discriminator loss: 0.05278751812279795\n",
      "Epoch 72, step 57868: Generator loss: 5.449571557666936, discriminator loss: 0.046756061120316\n",
      "Epoch 73, step 58650: Generator loss: 5.551325406564774, discriminator loss: 0.05072854964962926\n",
      "Epoch 74, step 59432: Generator loss: 5.435450522795969, discriminator loss: 0.04921698285376315\n",
      "Epoch 75, step 60214: Generator loss: 5.5264994646887065, discriminator loss: 0.04758473983525165\n",
      "Epoch 76, step 60996: Generator loss: 5.5423601259051125, discriminator loss: 0.04731164486600022\n",
      "Epoch 77, step 61778: Generator loss: 5.441288371220268, discriminator loss: 0.052596829783962185\n",
      "Epoch 78, step 62560: Generator loss: 5.489064864795227, discriminator loss: 0.04723499195597818\n",
      "Epoch 79, step 63342: Generator loss: 5.528065138765604, discriminator loss: 0.05245657692618116\n",
      "Epoch 80, step 64124: Generator loss: 5.355344808924834, discriminator loss: 0.051019815773324415\n",
      "Epoch 81, step 64906: Generator loss: 5.432502116083789, discriminator loss: 0.048086260013101324\n",
      "Epoch 82, step 65688: Generator loss: 5.432688956980205, discriminator loss: 0.0503382676523988\n",
      "Epoch 83, step 66470: Generator loss: 5.412158003243643, discriminator loss: 0.050014138843416434\n",
      "Epoch 84, step 67252: Generator loss: 5.476480443154459, discriminator loss: 0.04871584105726959\n",
      "Epoch 85, step 68034: Generator loss: 5.417030828993036, discriminator loss: 0.05262810734750892\n",
      "Epoch 86, step 68816: Generator loss: 5.376408356839739, discriminator loss: 0.04936720676662977\n",
      "Epoch 86, step 69598: Generator loss: 5.430462770754725, discriminator loss: 0.04987241652415466\n",
      "Epoch 87, step 70380: Generator loss: 5.371007582720579, discriminator loss: 0.05345348393439753\n",
      "Epoch 88, step 71162: Generator loss: 5.43861686421173, discriminator loss: 0.048238307655052985\n",
      "Epoch 89, step 71944: Generator loss: 5.407563162581696, discriminator loss: 0.05272470319362554\n",
      "Epoch 90, step 72726: Generator loss: 5.298860588951796, discriminator loss: 0.04999602841489648\n",
      "Epoch 91, step 73508: Generator loss: 5.371634098574935, discriminator loss: 0.04963669825888347\n",
      "Epoch 92, step 74290: Generator loss: 5.359402257158324, discriminator loss: 0.05400021097627577\n",
      "Epoch 93, step 75072: Generator loss: 5.362314201681819, discriminator loss: 0.0502127639834991\n",
      "Epoch 94, step 75854: Generator loss: 5.349769662408269, discriminator loss: 0.05157455230188904\n",
      "Epoch 95, step 76636: Generator loss: 5.341963338120214, discriminator loss: 0.05098024727133536\n",
      "Epoch 96, step 77418: Generator loss: 5.325095829756367, discriminator loss: 0.05107501241833428\n",
      "Epoch 97, step 78200: Generator loss: 5.347569836375043, discriminator loss: 0.05176275570774477\n",
      "Epoch 98, step 78982: Generator loss: 5.296983723140438, discriminator loss: 0.051704468349676014\n",
      "Epoch 99, step 79764: Generator loss: 5.260360661065177, discriminator loss: 0.05208268718820193\n",
      "Epoch 0, step 782: Generator loss: 5.317637541105064, discriminator loss: 0.05103129845069692\n",
      "Epoch 1, step 1564: Generator loss: 5.300275504436638, discriminator loss: 0.051719542928611674\n",
      "Epoch 2, step 2346: Generator loss: 5.333127423625467, discriminator loss: 0.051335508987555324\n",
      "Epoch 3, step 3128: Generator loss: 5.307914177779951, discriminator loss: 0.05150835774600732\n",
      "Epoch 4, step 3910: Generator loss: 5.259184906244884, discriminator loss: 0.05198021495328912\n",
      "Epoch 5, step 4692: Generator loss: 5.310285328599191, discriminator loss: 0.051824331787340985\n",
      "Epoch 6, step 5474: Generator loss: 5.2953475472872285, discriminator loss: 0.05283574921810218\n",
      "Epoch 7, step 6256: Generator loss: 5.272268428826884, discriminator loss: 0.05238509312381631\n",
      "Epoch 8, step 7038: Generator loss: 5.265496149697267, discriminator loss: 0.05207097866093676\n",
      "Epoch 9, step 7820: Generator loss: 5.26878556875926, discriminator loss: 0.05276660968566215\n",
      "Epoch 10, step 8602: Generator loss: 5.26914523568604, discriminator loss: 0.05159784569059645\n",
      "Epoch 11, step 9384: Generator loss: 5.229391057777894, discriminator loss: 0.053018009483032986\n",
      "Epoch 12, step 10166: Generator loss: 5.2378642754176745, discriminator loss: 0.05303005979555995\n",
      "Epoch 13, step 10948: Generator loss: 5.23531315576695, discriminator loss: 0.052635156653125945\n",
      "Epoch 14, step 11730: Generator loss: 5.254773051537525, discriminator loss: 0.0529276229651964\n",
      "Epoch 15, step 12512: Generator loss: 5.257205782643974, discriminator loss: 0.05214305371141351\n",
      "Epoch 16, step 13294: Generator loss: 5.258550593920074, discriminator loss: 0.05190551003484091\n",
      "Epoch 17, step 14076: Generator loss: 5.241267772586761, discriminator loss: 0.053210206643637736\n",
      "Epoch 18, step 14858: Generator loss: 5.243475221307071, discriminator loss: 0.05243857184429755\n",
      "Epoch 19, step 15640: Generator loss: 5.269605799404248, discriminator loss: 0.05201205729609329\n",
      "Epoch 20, step 16422: Generator loss: 5.234704887775504, discriminator loss: 0.05335408538375099\n",
      "Epoch 21, step 17204: Generator loss: 5.190650146025829, discriminator loss: 0.05357093493218347\n",
      "Epoch 22, step 17986: Generator loss: 5.231175611695965, discriminator loss: 0.05293775684035877\n",
      "Epoch 23, step 18768: Generator loss: 5.222935511328066, discriminator loss: 0.05397709939852741\n",
      "Epoch 24, step 19550: Generator loss: 5.208087504062507, discriminator loss: 0.05243594819903752\n",
      "Epoch 25, step 20332: Generator loss: 5.2363004221026, discriminator loss: 0.054096724791571425\n",
      "Epoch 26, step 21114: Generator loss: 5.194364944077519, discriminator loss: 0.05486938212414641\n",
      "Epoch 27, step 21896: Generator loss: 5.193459303482718, discriminator loss: 0.0538954646755343\n",
      "Epoch 28, step 22678: Generator loss: 5.201229304608794, discriminator loss: 0.05384752552306087\n",
      "Epoch 29, step 23460: Generator loss: 5.152178286896339, discriminator loss: 0.054988736860797076\n",
      "Epoch 30, step 24242: Generator loss: 5.212666456656686, discriminator loss: 0.05260753403167671\n",
      "Epoch 31, step 25024: Generator loss: 5.200606797967114, discriminator loss: 0.053726276154141515\n",
      "Epoch 32, step 25806: Generator loss: 5.146182907816701, discriminator loss: 0.054822757653177547\n",
      "Epoch 33, step 26588: Generator loss: 5.171179383612048, discriminator loss: 0.05488147605520191\n",
      "Epoch 34, step 27370: Generator loss: 5.186618375656245, discriminator loss: 0.054761896558972976\n",
      "Epoch 35, step 28152: Generator loss: 5.201944023751846, discriminator loss: 0.054532723094019915\n",
      "Epoch 36, step 28934: Generator loss: 5.13164715693735, discriminator loss: 0.055075888647019115\n",
      "Epoch 37, step 29716: Generator loss: 5.187939009703032, discriminator loss: 0.053753667043002794\n",
      "Epoch 38, step 30498: Generator loss: 5.131357373483949, discriminator loss: 0.05572380188762038\n",
      "Epoch 39, step 31280: Generator loss: 5.150846177049913, discriminator loss: 0.05486534766452698\n",
      "Epoch 40, step 32062: Generator loss: 5.133178558495951, discriminator loss: 0.0540328669859587\n",
      "Epoch 41, step 32844: Generator loss: 5.16916449966333, discriminator loss: 0.054419812788029265\n",
      "Epoch 42, step 33626: Generator loss: 5.168553152962417, discriminator loss: 0.05468923111667723\n",
      "Epoch 43, step 34408: Generator loss: 5.178780669141615, discriminator loss: 0.0549082773227883\n",
      "Epoch 43, step 35190: Generator loss: 5.1362418347917265, discriminator loss: 0.055211265701228966\n",
      "Epoch 44, step 35972: Generator loss: 5.1196633159657035, discriminator loss: 0.05514497734734893\n",
      "Epoch 45, step 36754: Generator loss: 5.118894319705037, discriminator loss: 0.055877373133407245\n",
      "Epoch 46, step 37536: Generator loss: 5.125989084658419, discriminator loss: 0.055047072577373624\n",
      "Epoch 47, step 38318: Generator loss: 5.166905622043265, discriminator loss: 0.0552201724141988\n",
      "Epoch 48, step 39100: Generator loss: 5.090704644122695, discriminator loss: 0.05555513126137279\n",
      "Epoch 49, step 39882: Generator loss: 5.106885192949143, discriminator loss: 0.054831230837870795\n",
      "Epoch 50, step 40664: Generator loss: 5.146904857567207, discriminator loss: 0.05554826247155706\n",
      "Epoch 51, step 41446: Generator loss: 5.12267210843313, discriminator loss: 0.054318291386422655\n",
      "Epoch 52, step 42228: Generator loss: 5.1168747198246285, discriminator loss: 0.0554369985033064\n",
      "Epoch 53, step 43010: Generator loss: 5.102426033800527, discriminator loss: 0.05580635152547565\n",
      "Epoch 54, step 43792: Generator loss: 5.109058489884857, discriminator loss: 0.054970859243865605\n",
      "Epoch 55, step 44574: Generator loss: 5.126926964201281, discriminator loss: 0.05545087403539196\n",
      "Epoch 56, step 45356: Generator loss: 5.117818448854531, discriminator loss: 0.0560074493674861\n",
      "Epoch 57, step 46138: Generator loss: 5.094683747767175, discriminator loss: 0.055839557952159426\n",
      "Epoch 58, step 46920: Generator loss: 5.089367203700266, discriminator loss: 0.05602458385450533\n",
      "Epoch 59, step 47702: Generator loss: 5.088780690337087, discriminator loss: 0.056185684637273726\n",
      "Epoch 60, step 48484: Generator loss: 5.139476850514522, discriminator loss: 0.055061093450564404\n",
      "Epoch 61, step 49266: Generator loss: 5.036511475472808, discriminator loss: 0.05703493293322373\n",
      "Epoch 62, step 50048: Generator loss: 5.116939695899741, discriminator loss: 0.0544579397312953\n",
      "Epoch 63, step 50830: Generator loss: 5.108552831518072, discriminator loss: 0.05571743733037617\n",
      "Epoch 64, step 51612: Generator loss: 5.101614747205972, discriminator loss: 0.055203609275715014\n",
      "Epoch 65, step 52394: Generator loss: 5.114459521325342, discriminator loss: 0.05499345279725079\n",
      "Epoch 66, step 53176: Generator loss: 5.044375015951488, discriminator loss: 0.056487015677172965\n",
      "Epoch 67, step 53958: Generator loss: 5.059669806219424, discriminator loss: 0.05573907162150962\n",
      "Epoch 68, step 54740: Generator loss: 5.073579632107863, discriminator loss: 0.05720701210362752\n",
      "Epoch 69, step 55522: Generator loss: 5.102778085967153, discriminator loss: 0.05569468007144298\n",
      "Epoch 70, step 56304: Generator loss: 5.043230206155411, discriminator loss: 0.05553885550497821\n",
      "Epoch 71, step 57086: Generator loss: 5.084405977097918, discriminator loss: 0.05645645119468955\n",
      "Epoch 72, step 57868: Generator loss: 5.089228446526294, discriminator loss: 0.05612051703840912\n",
      "Epoch 73, step 58650: Generator loss: 5.062381161448293, discriminator loss: 0.056449707690388186\n",
      "Epoch 74, step 59432: Generator loss: 5.031167325461311, discriminator loss: 0.05714620896460263\n",
      "Epoch 75, step 60214: Generator loss: 5.049467442895441, discriminator loss: 0.05679899939666966\n",
      "Epoch 76, step 60996: Generator loss: 5.050545821104511, discriminator loss: 0.055832930646427074\n",
      "Epoch 77, step 61778: Generator loss: 5.082416585034416, discriminator loss: 0.055325433920325795\n",
      "Epoch 78, step 62560: Generator loss: 5.054750661410946, discriminator loss: 0.056850529469959374\n",
      "Epoch 79, step 63342: Generator loss: 5.057984427722823, discriminator loss: 0.05689267608125116\n",
      "Epoch 80, step 64124: Generator loss: 5.050610141071215, discriminator loss: 0.05585381249799524\n",
      "Epoch 81, step 64906: Generator loss: 5.080677702603741, discriminator loss: 0.05619814800803578\n",
      "Epoch 82, step 65688: Generator loss: 5.081060457107663, discriminator loss: 0.054976268178399866\n",
      "Epoch 83, step 66470: Generator loss: 5.05181412623666, discriminator loss: 0.05730310582277148\n",
      "Epoch 84, step 67252: Generator loss: 5.045182808585783, discriminator loss: 0.05589153844972744\n",
      "Epoch 85, step 68034: Generator loss: 5.035264838991868, discriminator loss: 0.056557185852619075\n",
      "Epoch 86, step 68816: Generator loss: 5.030249466371658, discriminator loss: 0.0562075423815137\n",
      "Epoch 86, step 69598: Generator loss: 5.060407724526836, discriminator loss: 0.056011342705534706\n",
      "Epoch 87, step 70380: Generator loss: 5.0441385522827815, discriminator loss: 0.05658988192286866\n",
      "Epoch 88, step 71162: Generator loss: 5.045701414118036, discriminator loss: 0.055860926338788246\n",
      "Epoch 89, step 71944: Generator loss: 5.051590307899145, discriminator loss: 0.05749990652217661\n",
      "Epoch 90, step 72726: Generator loss: 5.018159223639446, discriminator loss: 0.05676512769840252\n",
      "Epoch 91, step 73508: Generator loss: 5.031126506493219, discriminator loss: 0.05722334913556912\n",
      "Epoch 92, step 74290: Generator loss: 4.993759835162733, discriminator loss: 0.05592235194547745\n",
      "Epoch 93, step 75072: Generator loss: 5.03265818854427, discriminator loss: 0.056209444210095244\n",
      "Epoch 94, step 75854: Generator loss: 5.051387455152426, discriminator loss: 0.0559489612712922\n",
      "Epoch 95, step 76636: Generator loss: 5.002854719186374, discriminator loss: 0.05685586962120037\n",
      "Epoch 96, step 77418: Generator loss: 5.024850098373334, discriminator loss: 0.05666213959236362\n",
      "Epoch 97, step 78200: Generator loss: 5.0035294163257475, discriminator loss: 0.05759604437910307\n",
      "Epoch 98, step 78982: Generator loss: 4.99937789153565, discriminator loss: 0.05729264904723486\n",
      "Epoch 99, step 79764: Generator loss: 4.968889721214315, discriminator loss: 0.05675892135881058\n",
      "Epoch 0, step 782: Generator loss: 4.983319063015904, discriminator loss: 0.057117085731195325\n",
      "Epoch 1, step 1564: Generator loss: 4.985131845449849, discriminator loss: 0.05818203718179973\n",
      "Epoch 2, step 2346: Generator loss: 5.006402566304903, discriminator loss: 0.05795560811010315\n",
      "Epoch 3, step 3128: Generator loss: 5.001848518391094, discriminator loss: 0.05645548066486369\n",
      "Epoch 4, step 3910: Generator loss: 5.005667663291284, discriminator loss: 0.057302653479873386\n",
      "Epoch 5, step 4692: Generator loss: 5.003160427293506, discriminator loss: 0.05628136713224494\n",
      "Epoch 6, step 5474: Generator loss: 4.970946967449337, discriminator loss: 0.05711287583636544\n",
      "Epoch 7, step 6256: Generator loss: 4.988580138482092, discriminator loss: 0.05735751742418485\n",
      "Epoch 8, step 7038: Generator loss: 4.975776460164645, discriminator loss: 0.056916791466934194\n",
      "Epoch 9, step 7820: Generator loss: 4.994196874101455, discriminator loss: 0.0570972839470409\n",
      "Epoch 10, step 8602: Generator loss: 4.99469926473124, discriminator loss: 0.05688858314957996\n",
      "Epoch 11, step 9384: Generator loss: 4.999480682870618, discriminator loss: 0.05752570665729665\n",
      "Epoch 12, step 10166: Generator loss: 4.98417566499442, discriminator loss: 0.057709989435684915\n",
      "Epoch 13, step 10948: Generator loss: 4.970542490634771, discriminator loss: 0.056865752017235045\n",
      "Epoch 14, step 11730: Generator loss: 4.955743839063912, discriminator loss: 0.057640906069618233\n",
      "Epoch 15, step 12512: Generator loss: 4.971028990147969, discriminator loss: 0.057737718687614216\n",
      "Epoch 16, step 13294: Generator loss: 4.963391815609941, discriminator loss: 0.057473840239598374\n",
      "Epoch 17, step 14076: Generator loss: 4.948097605229644, discriminator loss: 0.0577239763513303\n",
      "Epoch 18, step 14858: Generator loss: 4.9687063681805, discriminator loss: 0.0568426503464008\n",
      "Epoch 19, step 15640: Generator loss: 4.971352253423627, discriminator loss: 0.05722970730813266\n",
      "Epoch 20, step 16422: Generator loss: 4.99003331191704, discriminator loss: 0.057562011409589005\n",
      "Epoch 21, step 17204: Generator loss: 4.920270439913816, discriminator loss: 0.05884786214931957\n",
      "Epoch 22, step 17986: Generator loss: 4.965207081011801, discriminator loss: 0.05710191866192407\n",
      "Epoch 23, step 18768: Generator loss: 4.923942124447248, discriminator loss: 0.058040471149660926\n",
      "Epoch 24, step 19550: Generator loss: 4.951898906541908, discriminator loss: 0.05736106378562229\n",
      "Epoch 25, step 20332: Generator loss: 4.94392102819574, discriminator loss: 0.05778012782349577\n",
      "Epoch 26, step 21114: Generator loss: 4.971977123519034, discriminator loss: 0.0580472650037378\n",
      "Epoch 27, step 21896: Generator loss: 4.950303707586219, discriminator loss: 0.05677357999979503\n",
      "Epoch 28, step 22678: Generator loss: 4.956412478785988, discriminator loss: 0.057384420898469\n",
      "Epoch 29, step 23460: Generator loss: 4.933329652947232, discriminator loss: 0.05744801777774637\n",
      "Epoch 30, step 24242: Generator loss: 4.956161190481749, discriminator loss: 0.05718939904245024\n",
      "Epoch 31, step 25024: Generator loss: 4.980238614484789, discriminator loss: 0.05687081464744929\n",
      "Epoch 32, step 25806: Generator loss: 4.950995980626187, discriminator loss: 0.05769376029901196\n",
      "Epoch 33, step 26588: Generator loss: 4.89981303068683, discriminator loss: 0.057436550913802564\n",
      "Epoch 34, step 27370: Generator loss: 4.969856898802927, discriminator loss: 0.057668671030979925\n",
      "Epoch 35, step 28152: Generator loss: 4.922974863930431, discriminator loss: 0.05749550237513294\n",
      "Epoch 36, step 28934: Generator loss: 4.903918615082656, discriminator loss: 0.05893837620416074\n",
      "Epoch 37, step 29716: Generator loss: 4.934772382306933, discriminator loss: 0.05614407541816269\n",
      "Epoch 38, step 30498: Generator loss: 4.9075690010929325, discriminator loss: 0.057726485776188594\n",
      "Epoch 39, step 31280: Generator loss: 4.943350096187923, discriminator loss: 0.05724321110197883\n",
      "Epoch 40, step 32062: Generator loss: 4.949059263214737, discriminator loss: 0.05809143789426977\n",
      "Epoch 41, step 32844: Generator loss: 4.921644780337053, discriminator loss: 0.05839940734431535\n",
      "Epoch 42, step 33626: Generator loss: 4.932933885423127, discriminator loss: 0.05746490143053703\n",
      "Epoch 43, step 34408: Generator loss: 4.913455376539692, discriminator loss: 0.05744399052694471\n",
      "Epoch 43, step 35190: Generator loss: 4.921437837278751, discriminator loss: 0.05739487684510472\n",
      "Epoch 44, step 35972: Generator loss: 4.909243172087021, discriminator loss: 0.057721197636097704\n",
      "Epoch 45, step 36754: Generator loss: 4.939257788841071, discriminator loss: 0.05845713150828051\n",
      "Epoch 46, step 37536: Generator loss: 4.918564865351333, discriminator loss: 0.058030141635423936\n",
      "Epoch 47, step 38318: Generator loss: 4.896628277990818, discriminator loss: 0.05756844195734972\n",
      "Epoch 48, step 39100: Generator loss: 4.9594060600261205, discriminator loss: 0.057410331557283326\n",
      "Epoch 49, step 39882: Generator loss: 4.922069164798082, discriminator loss: 0.05730353711920857\n",
      "Epoch 50, step 40664: Generator loss: 4.9424917563757935, discriminator loss: 0.05769220770925024\n",
      "Epoch 51, step 41446: Generator loss: 4.918867812437176, discriminator loss: 0.05799179188454592\n",
      "Epoch 52, step 42228: Generator loss: 4.92675579722276, discriminator loss: 0.058434104109826066\n",
      "Epoch 53, step 43010: Generator loss: 4.900200700515984, discriminator loss: 0.05869115361124464\n",
      "Epoch 54, step 43792: Generator loss: 4.943735515979857, discriminator loss: 0.05690306951375227\n",
      "Epoch 55, step 44574: Generator loss: 4.919224825051743, discriminator loss: 0.05757630502809873\n",
      "Epoch 56, step 45356: Generator loss: 4.930597560789893, discriminator loss: 0.05778463129335266\n",
      "Epoch 57, step 46138: Generator loss: 4.9190534990461945, discriminator loss: 0.058708513561693425\n",
      "Epoch 58, step 46920: Generator loss: 4.868882278652147, discriminator loss: 0.05826404146359433\n",
      "Epoch 59, step 47702: Generator loss: 4.897172404067285, discriminator loss: 0.05849996873694456\n",
      "Epoch 60, step 48484: Generator loss: 4.906656421358938, discriminator loss: 0.058292054444970764\n",
      "Epoch 61, step 49266: Generator loss: 4.910153428002085, discriminator loss: 0.05800101083115009\n",
      "Epoch 62, step 50048: Generator loss: 4.9211814220604095, discriminator loss: 0.05804073517127417\n",
      "Epoch 63, step 50830: Generator loss: 4.89819440024588, discriminator loss: 0.05742202015698448\n",
      "Epoch 64, step 51612: Generator loss: 4.86112769546411, discriminator loss: 0.05736152735679317\n",
      "Epoch 65, step 52394: Generator loss: 4.907765957400627, discriminator loss: 0.0583853842988324\n",
      "Epoch 66, step 53176: Generator loss: 4.8998718981242835, discriminator loss: 0.05734082159188478\n",
      "Epoch 67, step 53958: Generator loss: 4.901460737218639, discriminator loss: 0.05770676476580793\n",
      "Epoch 68, step 54740: Generator loss: 4.919022418044111, discriminator loss: 0.0580532944182416\n",
      "Epoch 69, step 55522: Generator loss: 4.892882492841057, discriminator loss: 0.058735189820065724\n",
      "Epoch 70, step 56304: Generator loss: 4.862675846690106, discriminator loss: 0.059452510699677434\n",
      "Epoch 71, step 57086: Generator loss: 4.909632361453519, discriminator loss: 0.05769156827770004\n",
      "Epoch 72, step 57868: Generator loss: 4.872773302180678, discriminator loss: 0.057980473998867375\n",
      "Epoch 73, step 58650: Generator loss: 4.895600448788885, discriminator loss: 0.057368117251226224\n",
      "Epoch 74, step 59432: Generator loss: 4.874973391023133, discriminator loss: 0.05919242105530131\n",
      "Epoch 75, step 60214: Generator loss: 4.887739666892443, discriminator loss: 0.05705834083887925\n",
      "Epoch 76, step 60996: Generator loss: 4.882686712552824, discriminator loss: 0.058121568412589045\n",
      "Epoch 77, step 61778: Generator loss: 4.880197958568177, discriminator loss: 0.05855231923634752\n",
      "Epoch 78, step 62560: Generator loss: 4.900955870328357, discriminator loss: 0.0581561605710432\n",
      "Epoch 79, step 63342: Generator loss: 4.890909027260589, discriminator loss: 0.0577430010539815\n",
      "Epoch 80, step 64124: Generator loss: 4.87783637193158, discriminator loss: 0.05892391225842335\n",
      "Epoch 81, step 64906: Generator loss: 4.843636965812618, discriminator loss: 0.05921094989656564\n",
      "Epoch 82, step 65688: Generator loss: 4.863939045640203, discriminator loss: 0.058123233890079874\n",
      "Epoch 83, step 66470: Generator loss: 4.882245371103894, discriminator loss: 0.05819389135803067\n",
      "Epoch 84, step 67252: Generator loss: 4.859661043757359, discriminator loss: 0.05813589111766043\n",
      "Epoch 85, step 68034: Generator loss: 4.874760215544641, discriminator loss: 0.05844888816494738\n",
      "Epoch 86, step 68816: Generator loss: 4.846270099015495, discriminator loss: 0.05813508305717685\n",
      "Epoch 86, step 69598: Generator loss: 4.856079721694709, discriminator loss: 0.058706729317946224\n",
      "Epoch 87, step 70380: Generator loss: 4.914211597588965, discriminator loss: 0.05810506293512021\n",
      "Epoch 88, step 71162: Generator loss: 4.853567824644201, discriminator loss: 0.05798247417606544\n",
      "Epoch 89, step 71944: Generator loss: 4.875634066589041, discriminator loss: 0.05811160402324838\n",
      "Epoch 90, step 72726: Generator loss: 4.872551913761427, discriminator loss: 0.05898004969524796\n",
      "Epoch 91, step 73508: Generator loss: 4.864498065865556, discriminator loss: 0.057236152540301656\n",
      "Epoch 92, step 74290: Generator loss: 4.887916540550759, discriminator loss: 0.057938320042989336\n",
      "Epoch 93, step 75072: Generator loss: 4.871165057887204, discriminator loss: 0.05790369035771398\n",
      "Epoch 94, step 75854: Generator loss: 4.8628142020281615, discriminator loss: 0.058159937427076654\n",
      "Epoch 95, step 76636: Generator loss: 4.862376784424643, discriminator loss: 0.05872942455817976\n",
      "Epoch 96, step 77418: Generator loss: 4.910117846925547, discriminator loss: 0.05676644230904566\n",
      "Epoch 97, step 78200: Generator loss: 4.838127467943279, discriminator loss: 0.059258685483004135\n",
      "Epoch 98, step 78982: Generator loss: 4.846702497633521, discriminator loss: 0.05899138160078499\n",
      "Epoch 99, step 79764: Generator loss: 4.870434528116676, discriminator loss: 0.057423585049255446\n",
      "Epoch 0, step 782: Generator loss: 4.877546228716132, discriminator loss: 0.058222500621662746\n",
      "Epoch 1, step 1564: Generator loss: 4.8660545641808906, discriminator loss: 0.05791375010638782\n",
      "Epoch 2, step 2346: Generator loss: 4.884949104865186, discriminator loss: 0.05750745926123781\n",
      "Epoch 3, step 3128: Generator loss: 4.882822130037385, discriminator loss: 0.05820557086840469\n",
      "Epoch 4, step 3910: Generator loss: 4.848814943562379, discriminator loss: 0.058760689548871724\n",
      "Epoch 5, step 4692: Generator loss: 4.874800696092496, discriminator loss: 0.05884427892263317\n",
      "Epoch 6, step 5474: Generator loss: 4.846451003228309, discriminator loss: 0.058621294129535095\n",
      "Epoch 7, step 6256: Generator loss: 4.896143262648522, discriminator loss: 0.057851357640379415\n",
      "Epoch 8, step 7038: Generator loss: 4.88716480372202, discriminator loss: 0.05764200004851422\n",
      "Epoch 9, step 7820: Generator loss: 4.832188053814044, discriminator loss: 0.058762704224690133\n",
      "Epoch 10, step 8602: Generator loss: 4.854229350224176, discriminator loss: 0.058524586198389336\n",
      "Epoch 11, step 9384: Generator loss: 4.864403508203413, discriminator loss: 0.05889555796518772\n",
      "Epoch 12, step 10166: Generator loss: 4.859473404067256, discriminator loss: 0.05861810120561006\n",
      "Epoch 13, step 10948: Generator loss: 4.883538090664405, discriminator loss: 0.05868841268246061\n",
      "Epoch 14, step 11730: Generator loss: 4.836836592925478, discriminator loss: 0.05874758867708891\n",
      "Epoch 15, step 12512: Generator loss: 4.829356170981134, discriminator loss: 0.05828709842618123\n",
      "Epoch 16, step 13294: Generator loss: 4.871333691775041, discriminator loss: 0.058549765636787154\n",
      "Epoch 17, step 14076: Generator loss: 4.84399529430263, discriminator loss: 0.05898916300819695\n",
      "Epoch 18, step 14858: Generator loss: 4.910929792677345, discriminator loss: 0.05682715260997758\n",
      "Epoch 19, step 15640: Generator loss: 4.815167027666134, discriminator loss: 0.05922939504503898\n",
      "Epoch 20, step 16422: Generator loss: 4.827057275015982, discriminator loss: 0.0589565704945865\n",
      "Epoch 21, step 17204: Generator loss: 4.84756774304773, discriminator loss: 0.05713974507025364\n",
      "Epoch 22, step 17986: Generator loss: 4.859221857831902, discriminator loss: 0.0587715513687438\n",
      "Epoch 23, step 18768: Generator loss: 4.849139261123766, discriminator loss: 0.05845456223582367\n",
      "Epoch 24, step 19550: Generator loss: 4.865144232654819, discriminator loss: 0.05727193400482927\n",
      "Epoch 25, step 20332: Generator loss: 4.813613804404996, discriminator loss: 0.05833311686935405\n",
      "Epoch 26, step 21114: Generator loss: 4.826606472434897, discriminator loss: 0.05830687521587664\n",
      "Epoch 27, step 21896: Generator loss: 4.806941192168407, discriminator loss: 0.059126157096832464\n",
      "Epoch 28, step 22678: Generator loss: 4.841317967685595, discriminator loss: 0.05749127839494242\n",
      "Epoch 29, step 23460: Generator loss: 4.842867400640113, discriminator loss: 0.05939332935649458\n",
      "Epoch 30, step 24242: Generator loss: 4.843677919539042, discriminator loss: 0.05860400133673341\n",
      "Epoch 31, step 25024: Generator loss: 4.798417777356593, discriminator loss: 0.05963657872008203\n",
      "Epoch 32, step 25806: Generator loss: 4.83560329507989, discriminator loss: 0.05938735109327548\n",
      "Epoch 33, step 26588: Generator loss: 4.851860473223049, discriminator loss: 0.05773711143194908\n",
      "Epoch 34, step 27370: Generator loss: 4.800278990469932, discriminator loss: 0.06014635152948063\n",
      "Epoch 35, step 28152: Generator loss: 4.842131439682158, discriminator loss: 0.05807651825787505\n",
      "Epoch 36, step 28934: Generator loss: 4.827055578036685, discriminator loss: 0.05990953257073978\n",
      "Epoch 37, step 29716: Generator loss: 4.866749957394419, discriminator loss: 0.057980123492877185\n",
      "Epoch 38, step 30498: Generator loss: 4.795683637604381, discriminator loss: 0.05977887015484866\n",
      "Epoch 39, step 31280: Generator loss: 4.857560922422681, discriminator loss: 0.05838659522540465\n",
      "Epoch 40, step 32062: Generator loss: 4.813158018814636, discriminator loss: 0.059326354692906896\n",
      "Epoch 41, step 32844: Generator loss: 4.857445061359261, discriminator loss: 0.058441554198560744\n",
      "Epoch 42, step 33626: Generator loss: 4.830957607844904, discriminator loss: 0.05838696996602788\n",
      "Epoch 43, step 34408: Generator loss: 4.8179148664254985, discriminator loss: 0.05951746078589195\n",
      "Epoch 43, step 35190: Generator loss: 4.834311720660275, discriminator loss: 0.057859140473282174\n",
      "Epoch 44, step 35972: Generator loss: 4.844702459052398, discriminator loss: 0.05851561041391648\n",
      "Epoch 45, step 36754: Generator loss: 4.849646473174814, discriminator loss: 0.05783672556114355\n",
      "Epoch 46, step 37536: Generator loss: 4.835734067975401, discriminator loss: 0.058660350788784836\n",
      "Epoch 47, step 38318: Generator loss: 4.874845023045455, discriminator loss: 0.058574117667725314\n",
      "Epoch 48, step 39100: Generator loss: 4.829947961870671, discriminator loss: 0.058635221909769684\n",
      "Epoch 49, step 39882: Generator loss: 4.823356315607917, discriminator loss: 0.05822385347607883\n",
      "Epoch 50, step 40664: Generator loss: 4.8449988029801965, discriminator loss: 0.05852904499215468\n",
      "Epoch 51, step 41446: Generator loss: 4.829353538010733, discriminator loss: 0.05926657270025609\n",
      "Epoch 52, step 42228: Generator loss: 4.809824661220737, discriminator loss: 0.058122577888848295\n",
      "Epoch 53, step 43010: Generator loss: 4.809503544322063, discriminator loss: 0.05935007532524977\n",
      "Epoch 54, step 43792: Generator loss: 4.819292384340328, discriminator loss: 0.058563593089047024\n",
      "Epoch 55, step 44574: Generator loss: 4.850217402133791, discriminator loss: 0.05879842429933951\n",
      "Epoch 56, step 45356: Generator loss: 4.837153723172827, discriminator loss: 0.05851683474462624\n",
      "Epoch 57, step 46138: Generator loss: 4.825296250755535, discriminator loss: 0.0585349005018182\n",
      "Epoch 58, step 46920: Generator loss: 4.8420481120838845, discriminator loss: 0.059013850000851326\n",
      "Epoch 59, step 47702: Generator loss: 4.805344393186255, discriminator loss: 0.05925173494640905\n",
      "Epoch 60, step 48484: Generator loss: 4.848839581774932, discriminator loss: 0.05781410687395831\n",
      "Epoch 61, step 49266: Generator loss: 4.831370545775083, discriminator loss: 0.05944025398605996\n",
      "Epoch 62, step 50048: Generator loss: 4.8389768490705904, discriminator loss: 0.05854929604536628\n",
      "Epoch 63, step 50830: Generator loss: 4.830786378792174, discriminator loss: 0.05789517106183466\n",
      "Epoch 64, step 51612: Generator loss: 4.8130310215913426, discriminator loss: 0.05828376903610727\n",
      "Epoch 65, step 52394: Generator loss: 4.813350764686799, discriminator loss: 0.0593043172974949\n",
      "Epoch 66, step 53176: Generator loss: 4.840760792612728, discriminator loss: 0.05842909401120704\n",
      "Epoch 67, step 53958: Generator loss: 4.820853441267671, discriminator loss: 0.058499393223658616\n",
      "Epoch 68, step 54740: Generator loss: 4.830856809835607, discriminator loss: 0.058445934103825745\n",
      "Epoch 69, step 55522: Generator loss: 4.839619297505642, discriminator loss: 0.05796460724552469\n",
      "Epoch 70, step 56304: Generator loss: 4.8447199940986305, discriminator loss: 0.058573452670060484\n",
      "Epoch 71, step 57086: Generator loss: 4.798871575109188, discriminator loss: 0.05949178098789067\n",
      "Epoch 72, step 57868: Generator loss: 4.84885575704258, discriminator loss: 0.05828732622268099\n",
      "Epoch 73, step 58650: Generator loss: 4.808107653542248, discriminator loss: 0.059218056673836714\n",
      "Epoch 74, step 59432: Generator loss: 4.8277891788946095, discriminator loss: 0.05864023087817769\n",
      "Epoch 75, step 60214: Generator loss: 4.82170174127955, discriminator loss: 0.05910237200196136\n",
      "Epoch 76, step 60996: Generator loss: 4.833930480815565, discriminator loss: 0.059389902082274224\n",
      "Epoch 77, step 61778: Generator loss: 4.817247017570165, discriminator loss: 0.059207880740885156\n",
      "Epoch 78, step 62560: Generator loss: 4.812907928700948, discriminator loss: 0.058887165668599195\n",
      "Epoch 79, step 63342: Generator loss: 4.7891654785331825, discriminator loss: 0.05935352778448092\n",
      "Epoch 80, step 64124: Generator loss: 4.818045318584, discriminator loss: 0.0582507741959084\n",
      "Epoch 81, step 64906: Generator loss: 4.813183471065042, discriminator loss: 0.058798985866605834\n",
      "Epoch 82, step 65688: Generator loss: 4.79502124005876, discriminator loss: 0.05911903093566602\n",
      "Epoch 83, step 66470: Generator loss: 4.845856133019524, discriminator loss: 0.05894806363936657\n",
      "Epoch 84, step 67252: Generator loss: 4.8262089268325905, discriminator loss: 0.05887250052383905\n",
      "Epoch 85, step 68034: Generator loss: 4.803496557733292, discriminator loss: 0.05847147867188355\n",
      "Epoch 86, step 68816: Generator loss: 4.806648828184512, discriminator loss: 0.05916434401036495\n",
      "Epoch 86, step 69598: Generator loss: 4.805625525276983, discriminator loss: 0.05958135786306714\n",
      "Epoch 87, step 70380: Generator loss: 4.8218670421853975, discriminator loss: 0.058550828477115326\n",
      "Epoch 88, step 71162: Generator loss: 4.788656540843837, discriminator loss: 0.0588285860431659\n",
      "Epoch 89, step 71944: Generator loss: 4.80603975408218, discriminator loss: 0.05901216710810469\n",
      "Epoch 90, step 72726: Generator loss: 4.838127760021271, discriminator loss: 0.05950437478311453\n",
      "Epoch 91, step 73508: Generator loss: 4.812502970780866, discriminator loss: 0.05888185040939527\n",
      "Epoch 92, step 74290: Generator loss: 4.810355782813725, discriminator loss: 0.0598189126774002\n",
      "Epoch 93, step 75072: Generator loss: 4.785774288275045, discriminator loss: 0.05877143755088304\n",
      "Epoch 94, step 75854: Generator loss: 4.777034360429513, discriminator loss: 0.06019079983424957\n",
      "Epoch 95, step 76636: Generator loss: 4.814566818344622, discriminator loss: 0.059104572556426954\n",
      "Epoch 96, step 77418: Generator loss: 4.796276684612255, discriminator loss: 0.05914865695821395\n",
      "Epoch 97, step 78200: Generator loss: 4.8433491317817285, discriminator loss: 0.057433113827348656\n",
      "Epoch 98, step 78982: Generator loss: 4.777850957172915, discriminator loss: 0.05940720357138984\n",
      "Epoch 99, step 79764: Generator loss: 4.85380944083719, discriminator loss: 0.057462088541006234\n",
      "Epoch 0, step 782: Generator loss: 4.805800269022011, discriminator loss: 0.05944919262719732\n",
      "Epoch 1, step 1564: Generator loss: 4.798090313401668, discriminator loss: 0.05881536142933934\n",
      "Epoch 2, step 2346: Generator loss: 4.8110208566231565, discriminator loss: 0.05895467768149345\n",
      "Epoch 3, step 3128: Generator loss: 4.796199664435425, discriminator loss: 0.0595971492697935\n",
      "Epoch 4, step 3910: Generator loss: 4.806966795031069, discriminator loss: 0.058113500266276326\n",
      "Epoch 5, step 4692: Generator loss: 4.813388876902785, discriminator loss: 0.05910206667583457\n",
      "Epoch 6, step 5474: Generator loss: 4.794611722307132, discriminator loss: 0.05918458323506512\n",
      "Epoch 7, step 6256: Generator loss: 4.827466583008044, discriminator loss: 0.05875457778020431\n",
      "Epoch 8, step 7038: Generator loss: 4.811229542393209, discriminator loss: 0.059004039161831466\n",
      "Epoch 9, step 7820: Generator loss: 4.818244805421369, discriminator loss: 0.059447354082103894\n",
      "Epoch 10, step 8602: Generator loss: 4.7878751669393464, discriminator loss: 0.05979032075518503\n",
      "Epoch 11, step 9384: Generator loss: 4.803691390225336, discriminator loss: 0.05893457055215714\n",
      "Epoch 12, step 10166: Generator loss: 4.795464417513682, discriminator loss: 0.05934900581917683\n",
      "Epoch 13, step 10948: Generator loss: 4.819864718810369, discriminator loss: 0.05837899352283316\n",
      "Epoch 14, step 11730: Generator loss: 4.792398908863901, discriminator loss: 0.059860782804982325\n",
      "Epoch 15, step 12512: Generator loss: 4.775288258062305, discriminator loss: 0.05825625154811445\n",
      "Epoch 16, step 13294: Generator loss: 4.786436088859575, discriminator loss: 0.06008479884370703\n",
      "Epoch 17, step 14076: Generator loss: 4.8174420256748824, discriminator loss: 0.05838584416257715\n",
      "Epoch 18, step 14858: Generator loss: 4.767628272171217, discriminator loss: 0.05975322566254784\n",
      "Epoch 19, step 15640: Generator loss: 4.824911342557433, discriminator loss: 0.05865498694479273\n",
      "Epoch 20, step 16422: Generator loss: 4.813176886199992, discriminator loss: 0.059106448386579004\n",
      "Epoch 21, step 17204: Generator loss: 4.75967808147831, discriminator loss: 0.059565402063614936\n",
      "Epoch 22, step 17986: Generator loss: 4.788858560040171, discriminator loss: 0.05899184497425807\n",
      "Epoch 23, step 18768: Generator loss: 4.877299982568491, discriminator loss: 0.057949715539279495\n",
      "Epoch 24, step 19550: Generator loss: 4.778717130651258, discriminator loss: 0.0597670784212954\n",
      "Epoch 25, step 20332: Generator loss: 4.774381999164589, discriminator loss: 0.05958114598241761\n",
      "Epoch 26, step 21114: Generator loss: 4.760441523378767, discriminator loss: 0.06011115160682589\n",
      "Epoch 27, step 21896: Generator loss: 4.832148739139135, discriminator loss: 0.058064643556818965\n",
      "Epoch 28, step 22678: Generator loss: 4.749974971537088, discriminator loss: 0.06025639377639199\n",
      "Epoch 29, step 23460: Generator loss: 4.794722694875031, discriminator loss: 0.059413675047323894\n",
      "Epoch 30, step 24242: Generator loss: 4.800733041275497, discriminator loss: 0.05821083464523977\n",
      "Epoch 31, step 25024: Generator loss: 4.761593899153685, discriminator loss: 0.060665979902819654\n",
      "Epoch 32, step 25806: Generator loss: 4.798192810219567, discriminator loss: 0.05845770665118114\n",
      "Epoch 33, step 26588: Generator loss: 4.760548828812823, discriminator loss: 0.05988117510362358\n",
      "Epoch 34, step 27370: Generator loss: 4.762385642741945, discriminator loss: 0.06072759941872928\n",
      "Epoch 35, step 28152: Generator loss: 4.765772096336347, discriminator loss: 0.059054277153671376\n",
      "Epoch 36, step 28934: Generator loss: 4.780866932990906, discriminator loss: 0.058894366992975754\n",
      "Epoch 37, step 29716: Generator loss: 4.79194765901931, discriminator loss: 0.05962665166224701\n",
      "Epoch 38, step 30498: Generator loss: 4.765159547176504, discriminator loss: 0.06028379066525705\n",
      "Epoch 39, step 31280: Generator loss: 4.765583384677273, discriminator loss: 0.05868557282268547\n",
      "Epoch 40, step 32062: Generator loss: 4.779052531322861, discriminator loss: 0.05947350065731216\n",
      "Epoch 41, step 32844: Generator loss: 4.754937659139219, discriminator loss: 0.05873980490333592\n",
      "Epoch 42, step 33626: Generator loss: 4.785761063056229, discriminator loss: 0.05950025626389153\n",
      "Epoch 43, step 34408: Generator loss: 4.774980949318926, discriminator loss: 0.05966327851876388\n",
      "Epoch 43, step 35190: Generator loss: 4.74816098664423, discriminator loss: 0.059963578227288164\n",
      "Epoch 44, step 35972: Generator loss: 4.769820957232616, discriminator loss: 0.05925601505724443\n",
      "Epoch 45, step 36754: Generator loss: 4.783365124326838, discriminator loss: 0.059374871371966516\n",
      "Epoch 46, step 37536: Generator loss: 4.734350364531394, discriminator loss: 0.060310801382764956\n",
      "Epoch 47, step 38318: Generator loss: 4.815719147167539, discriminator loss: 0.058351006154018586\n",
      "Epoch 48, step 39100: Generator loss: 4.7791956471055395, discriminator loss: 0.05883857295455418\n",
      "Epoch 49, step 39882: Generator loss: 4.737649313934019, discriminator loss: 0.060861675341463604\n",
      "Epoch 50, step 40664: Generator loss: 4.708145600145736, discriminator loss: 0.06022345308271584\n",
      "Epoch 51, step 41446: Generator loss: 4.7459471884286035, discriminator loss: 0.06043121077672907\n",
      "Epoch 52, step 42228: Generator loss: 4.770125739714681, discriminator loss: 0.059257797555059485\n",
      "Epoch 53, step 43010: Generator loss: 4.734231619578797, discriminator loss: 0.059940569057508\n",
      "Epoch 54, step 43792: Generator loss: 4.756720277659434, discriminator loss: 0.059525586247844264\n",
      "Epoch 55, step 44574: Generator loss: 4.78156425337047, discriminator loss: 0.05953927793542439\n",
      "Epoch 56, step 45356: Generator loss: 4.752944222496596, discriminator loss: 0.060211746910553546\n",
      "Epoch 57, step 46138: Generator loss: 4.780050442956594, discriminator loss: 0.05870617042674351\n",
      "Epoch 58, step 46920: Generator loss: 4.768320453136479, discriminator loss: 0.05982481370158396\n",
      "Epoch 59, step 47702: Generator loss: 4.758865304005421, discriminator loss: 0.059738688685400096\n",
      "Epoch 60, step 48484: Generator loss: 4.738294007528174, discriminator loss: 0.059687399043394276\n",
      "Epoch 61, step 49266: Generator loss: 4.742823582476058, discriminator loss: 0.060555456262177246\n",
      "Epoch 62, step 50048: Generator loss: 4.7551336404307705, discriminator loss: 0.05955868753035316\n",
      "Epoch 63, step 50830: Generator loss: 4.767389416999524, discriminator loss: 0.059698765230415146\n",
      "Epoch 64, step 51612: Generator loss: 4.767737537393788, discriminator loss: 0.05906465071517868\n",
      "Epoch 65, step 52394: Generator loss: 4.751182192121934, discriminator loss: 0.06002967225868837\n",
      "Epoch 66, step 53176: Generator loss: 4.743339440401873, discriminator loss: 0.060174933644225985\n",
      "Epoch 67, step 53958: Generator loss: 4.766311519895981, discriminator loss: 0.06013751893883088\n",
      "Epoch 68, step 54740: Generator loss: 4.7632560071433, discriminator loss: 0.06055694604721258\n",
      "Epoch 69, step 55522: Generator loss: 4.746787068788966, discriminator loss: 0.058971397987212085\n",
      "Epoch 70, step 56304: Generator loss: 4.719710967729774, discriminator loss: 0.06061991343222309\n",
      "Epoch 71, step 57086: Generator loss: 4.757405112771434, discriminator loss: 0.05888762826914604\n",
      "Epoch 72, step 57868: Generator loss: 4.743702584825211, discriminator loss: 0.059663555053684376\n",
      "Epoch 73, step 58650: Generator loss: 4.751937513156317, discriminator loss: 0.06063416038456436\n",
      "Epoch 74, step 59432: Generator loss: 4.738686003038649, discriminator loss: 0.05961620467393409\n",
      "Epoch 75, step 60214: Generator loss: 4.770775754738339, discriminator loss: 0.059928052651379175\n",
      "Epoch 76, step 60996: Generator loss: 4.710721042759885, discriminator loss: 0.06021084340737033\n",
      "Epoch 77, step 61778: Generator loss: 4.7657437550137365, discriminator loss: 0.059411286515757736\n",
      "Epoch 78, step 62560: Generator loss: 4.75374783030556, discriminator loss: 0.059852563707000754\n",
      "Epoch 79, step 63342: Generator loss: 4.739047612070736, discriminator loss: 0.059864998397314934\n",
      "Epoch 80, step 64124: Generator loss: 4.736667987330786, discriminator loss: 0.06039406530930634\n",
      "Epoch 81, step 64906: Generator loss: 4.751307657002796, discriminator loss: 0.05903739658901299\n",
      "Epoch 82, step 65688: Generator loss: 4.742561148255685, discriminator loss: 0.05977940101824373\n",
      "Epoch 83, step 66470: Generator loss: 4.756011272635294, discriminator loss: 0.059430052305969545\n",
      "Epoch 84, step 67252: Generator loss: 4.720988887045392, discriminator loss: 0.06054315838457826\n",
      "Epoch 85, step 68034: Generator loss: 4.768105964831384, discriminator loss: 0.059411297449865924\n",
      "Epoch 86, step 68816: Generator loss: 4.719648007541662, discriminator loss: 0.06008410751057405\n",
      "Epoch 86, step 69598: Generator loss: 4.7282851565524435, discriminator loss: 0.06007803999759311\n",
      "Epoch 87, step 70380: Generator loss: 4.730145265988988, discriminator loss: 0.06037140317747122\n",
      "Epoch 88, step 71162: Generator loss: 4.718435875899959, discriminator loss: 0.060122392906109434\n",
      "Epoch 89, step 71944: Generator loss: 4.697994099248705, discriminator loss: 0.06089000689113495\n",
      "Epoch 90, step 72726: Generator loss: 4.750542168117238, discriminator loss: 0.0592261785605584\n",
      "Epoch 91, step 73508: Generator loss: 4.743770621926585, discriminator loss: 0.06060329640565242\n",
      "Epoch 92, step 74290: Generator loss: 4.739446586050343, discriminator loss: 0.0597030655016451\n",
      "Epoch 93, step 75072: Generator loss: 4.708881777570685, discriminator loss: 0.06077037161440044\n",
      "Epoch 94, step 75854: Generator loss: 4.751677933251464, discriminator loss: 0.059595832831042896\n",
      "Epoch 95, step 76636: Generator loss: 4.715317896869784, discriminator loss: 0.060807817203500016\n",
      "Epoch 96, step 77418: Generator loss: 4.7091122929702305, discriminator loss: 0.060369876408687434\n",
      "Epoch 97, step 78200: Generator loss: 4.762076504090247, discriminator loss: 0.06019732755992344\n",
      "Epoch 98, step 78982: Generator loss: 4.718957989417074, discriminator loss: 0.06079179875771776\n",
      "Epoch 99, step 79764: Generator loss: 4.750754610656772, discriminator loss: 0.06036868741821573\n",
      "Epoch 0, step 782: Generator loss: 4.713526395885531, discriminator loss: 0.05974416625197703\n",
      "Epoch 1, step 1564: Generator loss: 4.737332310518031, discriminator loss: 0.05999438772502041\n",
      "Epoch 2, step 2346: Generator loss: 4.764654854679356, discriminator loss: 0.06007748710877645\n",
      "Epoch 3, step 3128: Generator loss: 4.694263575936826, discriminator loss: 0.061164298734349025\n",
      "Epoch 4, step 3910: Generator loss: 4.7251704897722036, discriminator loss: 0.060259763945770616\n",
      "Epoch 5, step 4692: Generator loss: 4.70458098872543, discriminator loss: 0.05952159933926877\n",
      "Epoch 6, step 5474: Generator loss: 4.696246408745453, discriminator loss: 0.06070271074114478\n",
      "Epoch 7, step 6256: Generator loss: 4.697968014060998, discriminator loss: 0.06165390657713569\n",
      "Epoch 8, step 7038: Generator loss: 4.735314317371541, discriminator loss: 0.05980465813394628\n",
      "Epoch 9, step 7820: Generator loss: 4.724982613187924, discriminator loss: 0.0592835700256116\n",
      "Epoch 10, step 8602: Generator loss: 4.700231401511782, discriminator loss: 0.06099790023982791\n",
      "Epoch 11, step 9384: Generator loss: 4.73410261134662, discriminator loss: 0.05925570097525641\n",
      "Epoch 12, step 10166: Generator loss: 4.706800980031333, discriminator loss: 0.06125069459271443\n",
      "Epoch 13, step 10948: Generator loss: 4.741098428931077, discriminator loss: 0.05929123259880738\n",
      "Epoch 14, step 11730: Generator loss: 4.7299268065816005, discriminator loss: 0.06015510558057818\n",
      "Epoch 15, step 12512: Generator loss: 4.717280493977731, discriminator loss: 0.059836701297051195\n",
      "Epoch 16, step 13294: Generator loss: 4.715804651265256, discriminator loss: 0.06097964999859058\n",
      "Epoch 17, step 14076: Generator loss: 4.74501800781016, discriminator loss: 0.05914761738546787\n",
      "Epoch 18, step 14858: Generator loss: 4.70736808971981, discriminator loss: 0.06009192648998769\n",
      "Epoch 19, step 15640: Generator loss: 4.728012218499727, discriminator loss: 0.06087935051125717\n",
      "Epoch 20, step 16422: Generator loss: 4.71016387012608, discriminator loss: 0.060539278615018344\n",
      "Epoch 21, step 17204: Generator loss: 4.706954014575698, discriminator loss: 0.06045736264689916\n",
      "Epoch 22, step 17986: Generator loss: 4.666251475243919, discriminator loss: 0.06100885877671559\n",
      "Epoch 23, step 18768: Generator loss: 4.679870363391573, discriminator loss: 0.06077684869137039\n",
      "Epoch 24, step 19550: Generator loss: 4.726393876783072, discriminator loss: 0.060286420978643826\n",
      "Epoch 25, step 20332: Generator loss: 4.715555038903374, discriminator loss: 0.060641828324178915\n",
      "Epoch 26, step 21114: Generator loss: 4.682622462587285, discriminator loss: 0.061404541263456805\n",
      "Epoch 27, step 21896: Generator loss: 4.693027707926761, discriminator loss: 0.06075684160775391\n",
      "Epoch 28, step 22678: Generator loss: 4.72388855697554, discriminator loss: 0.060567003493780885\n",
      "Epoch 29, step 23460: Generator loss: 4.742389371632922, discriminator loss: 0.05941989252110343\n",
      "Epoch 30, step 24242: Generator loss: 4.699599144403893, discriminator loss: 0.06207258587636419\n",
      "Epoch 31, step 25024: Generator loss: 4.676443300283782, discriminator loss: 0.06039637600755335\n",
      "Epoch 32, step 25806: Generator loss: 4.723486846670164, discriminator loss: 0.06064810139863083\n",
      "Epoch 33, step 26588: Generator loss: 4.708220378822072, discriminator loss: 0.05931707415634486\n",
      "Epoch 34, step 27370: Generator loss: 4.670856025822634, discriminator loss: 0.06143875730931373\n",
      "Epoch 35, step 28152: Generator loss: 4.720953758415355, discriminator loss: 0.059164975099313316\n",
      "Epoch 36, step 28934: Generator loss: 4.716118894879477, discriminator loss: 0.06008774877580647\n",
      "Epoch 37, step 29716: Generator loss: 4.735521261954248, discriminator loss: 0.0604704013832695\n",
      "Epoch 38, step 30498: Generator loss: 4.698447920172415, discriminator loss: 0.06145064691034012\n",
      "Epoch 39, step 31280: Generator loss: 4.684999679970317, discriminator loss: 0.06088585960690667\n",
      "Epoch 40, step 32062: Generator loss: 4.6906973300382635, discriminator loss: 0.061117434202481405\n",
      "Epoch 41, step 32844: Generator loss: 4.727289880328165, discriminator loss: 0.06042453247334459\n",
      "Epoch 42, step 33626: Generator loss: 4.705342106502081, discriminator loss: 0.061262268238388956\n",
      "Epoch 43, step 34408: Generator loss: 4.696669142569418, discriminator loss: 0.06077756038855032\n",
      "Epoch 43, step 35190: Generator loss: 4.683756638670815, discriminator loss: 0.061232243089334\n",
      "Epoch 44, step 35972: Generator loss: 4.6770863386676105, discriminator loss: 0.060670584911847354\n",
      "Epoch 45, step 36754: Generator loss: 4.675934509243195, discriminator loss: 0.060834822437876045\n",
      "Epoch 46, step 37536: Generator loss: 4.702745238228539, discriminator loss: 0.06075710874608219\n",
      "Epoch 47, step 38318: Generator loss: 4.677005857457898, discriminator loss: 0.06076329376648569\n",
      "Epoch 48, step 39100: Generator loss: 4.71027975436062, discriminator loss: 0.060471710594147\n",
      "Epoch 49, step 39882: Generator loss: 4.684671853814282, discriminator loss: 0.061010562231206815\n",
      "Epoch 50, step 40664: Generator loss: 4.685029610038716, discriminator loss: 0.060726037489540946\n",
      "Epoch 51, step 41446: Generator loss: 4.6641721865710055, discriminator loss: 0.06096458771501853\n",
      "Epoch 52, step 42228: Generator loss: 4.684005089733002, discriminator loss: 0.0614954019227372\n",
      "Epoch 53, step 43010: Generator loss: 4.661121650120183, discriminator loss: 0.06180064835230753\n",
      "Epoch 54, step 43792: Generator loss: 4.709560136965773, discriminator loss: 0.06023891184888683\n",
      "Epoch 55, step 44574: Generator loss: 4.636608153352955, discriminator loss: 0.06238932498847424\n",
      "Epoch 56, step 45356: Generator loss: 4.706153659869342, discriminator loss: 0.06011162749122431\n",
      "Epoch 57, step 46138: Generator loss: 4.67603257671951, discriminator loss: 0.06106375598841726\n",
      "Epoch 58, step 46920: Generator loss: 4.688789545117744, discriminator loss: 0.06053419002686696\n",
      "Epoch 59, step 47702: Generator loss: 4.645018895873632, discriminator loss: 0.06188677087940672\n",
      "Epoch 60, step 48484: Generator loss: 4.688413625483011, discriminator loss: 0.06069566704490037\n",
      "Epoch 61, step 49266: Generator loss: 4.719493178760306, discriminator loss: 0.06044695405360985\n",
      "Epoch 62, step 50048: Generator loss: 4.677100874883749, discriminator loss: 0.061915557776742146\n",
      "Epoch 63, step 50830: Generator loss: 4.7500886380519995, discriminator loss: 0.05953452948366508\n",
      "Epoch 64, step 51612: Generator loss: 4.690514784639753, discriminator loss: 0.06134197146624634\n",
      "Epoch 65, step 52394: Generator loss: 4.707756607123956, discriminator loss: 0.0607704508851956\n",
      "Epoch 66, step 53176: Generator loss: 4.672550961184685, discriminator loss: 0.06180730235079293\n",
      "Epoch 67, step 53958: Generator loss: 4.656337512423628, discriminator loss: 0.06099918100963848\n",
      "Epoch 68, step 54740: Generator loss: 4.6798073288119975, discriminator loss: 0.06004422367848171\n",
      "Epoch 69, step 55522: Generator loss: 4.642710012852986, discriminator loss: 0.06314949469898094\n",
      "Epoch 70, step 56304: Generator loss: 4.668120058601167, discriminator loss: 0.06135797197513677\n",
      "Epoch 71, step 57086: Generator loss: 4.712073034642598, discriminator loss: 0.06065517922510841\n",
      "Epoch 72, step 57868: Generator loss: 4.687300123522047, discriminator loss: 0.060466659356556485\n",
      "Epoch 73, step 58650: Generator loss: 4.678633543536489, discriminator loss: 0.061187494897505176\n",
      "Epoch 74, step 59432: Generator loss: 4.6627817550278685, discriminator loss: 0.061918171940852605\n",
      "Epoch 75, step 60214: Generator loss: 4.674868144037778, discriminator loss: 0.06152841459264234\n",
      "Epoch 76, step 60996: Generator loss: 4.6946457767730525, discriminator loss: 0.060014805383742154\n",
      "Epoch 77, step 61778: Generator loss: 4.639714238588771, discriminator loss: 0.06276121857406962\n",
      "Epoch 78, step 62560: Generator loss: 4.661153279302066, discriminator loss: 0.06100671159346468\n",
      "Epoch 79, step 63342: Generator loss: 4.685167721165415, discriminator loss: 0.06116632944273067\n",
      "Epoch 80, step 64124: Generator loss: 4.638141248537141, discriminator loss: 0.061714110658992426\n",
      "Epoch 81, step 64906: Generator loss: 4.686218231840202, discriminator loss: 0.060283573107350934\n",
      "Epoch 82, step 65688: Generator loss: 4.657341418973626, discriminator loss: 0.06232756264436315\n",
      "Epoch 83, step 66470: Generator loss: 4.655611128453399, discriminator loss: 0.061567434049008996\n",
      "Epoch 84, step 67252: Generator loss: 4.6546613090788265, discriminator loss: 0.061537592010834606\n",
      "Epoch 85, step 68034: Generator loss: 4.677067916411567, discriminator loss: 0.0615272078153385\n",
      "Epoch 86, step 68816: Generator loss: 4.667843055237287, discriminator loss: 0.06132429723253911\n",
      "Epoch 86, step 69598: Generator loss: 4.668483530468956, discriminator loss: 0.06147580349679728\n",
      "Epoch 87, step 70380: Generator loss: 4.6546379099111705, discriminator loss: 0.06208166714324175\n",
      "Epoch 88, step 71162: Generator loss: 4.669123511180243, discriminator loss: 0.061073697611565746\n",
      "Epoch 89, step 71944: Generator loss: 4.681559102919404, discriminator loss: 0.0609657910111767\n",
      "Epoch 90, step 72726: Generator loss: 4.6671066125640515, discriminator loss: 0.0611880048418708\n",
      "Epoch 91, step 73508: Generator loss: 4.675223827362065, discriminator loss: 0.06064515861341989\n",
      "Epoch 92, step 74290: Generator loss: 4.635571985293531, discriminator loss: 0.060479598224658475\n",
      "Epoch 93, step 75072: Generator loss: 4.666805849050931, discriminator loss: 0.06129867168943706\n",
      "Epoch 94, step 75854: Generator loss: 4.6509073676965444, discriminator loss: 0.06173856687181828\n",
      "Epoch 95, step 76636: Generator loss: 4.672129863363393, discriminator loss: 0.06091483870444964\n",
      "Epoch 96, step 77418: Generator loss: 4.666374861431852, discriminator loss: 0.06108292096468343\n",
      "Epoch 97, step 78200: Generator loss: 4.695018389035978, discriminator loss: 0.06091809395672113\n",
      "Epoch 98, step 78982: Generator loss: 4.696270589023597, discriminator loss: 0.06112675610905906\n",
      "Epoch 99, step 79764: Generator loss: 4.714192392880956, discriminator loss: 0.06073902711829607\n"
     ]
    },
    {
     "data": {
      "text/plain": "  0%|          | 0/800 [00:00<?, ?it/s]",
      "application/vnd.jupyter.widget-view+json": {
       "version_major": 2,
       "version_minor": 0,
       "model_id": "88e6d04c759a4cb59e8e361985c01f03"
      }
     },
     "metadata": {},
     "output_type": "display_data"
    },
    {
     "data": {
      "text/plain": "  0%|          | 0/800 [00:00<?, ?it/s]",
      "application/vnd.jupyter.widget-view+json": {
       "version_major": 2,
       "version_minor": 0,
       "model_id": "c14655ca706d4050be200f35285fb651"
      }
     },
     "metadata": {},
     "output_type": "display_data"
    },
    {
     "data": {
      "text/plain": "  0%|          | 0/800 [00:00<?, ?it/s]",
      "application/vnd.jupyter.widget-view+json": {
       "version_major": 2,
       "version_minor": 0,
       "model_id": "b5e7fb3306ca4db3ab4c4ad598a2c122"
      }
     },
     "metadata": {},
     "output_type": "display_data"
    },
    {
     "data": {
      "text/plain": "  0%|          | 0/800 [00:00<?, ?it/s]",
      "application/vnd.jupyter.widget-view+json": {
       "version_major": 2,
       "version_minor": 0,
       "model_id": "5dbcef9ad4ab47dfa51fe5a891baf41d"
      }
     },
     "metadata": {},
     "output_type": "display_data"
    },
    {
     "data": {
      "text/plain": "  0%|          | 0/800 [00:00<?, ?it/s]",
      "application/vnd.jupyter.widget-view+json": {
       "version_major": 2,
       "version_minor": 0,
       "model_id": "2aae3de50f8b4564a9e04d7be0adfed9"
      }
     },
     "metadata": {},
     "output_type": "display_data"
    },
    {
     "data": {
      "text/plain": "  0%|          | 0/800 [00:00<?, ?it/s]",
      "application/vnd.jupyter.widget-view+json": {
       "version_major": 2,
       "version_minor": 0,
       "model_id": "5d81d53eca72466c8684baae381ded6e"
      }
     },
     "metadata": {},
     "output_type": "display_data"
    },
    {
     "data": {
      "text/plain": "  0%|          | 0/800 [00:00<?, ?it/s]",
      "application/vnd.jupyter.widget-view+json": {
       "version_major": 2,
       "version_minor": 0,
       "model_id": "dcac9d0b076e43ad8fb59b33017794de"
      }
     },
     "metadata": {},
     "output_type": "display_data"
    },
    {
     "data": {
      "text/plain": "  0%|          | 0/800 [00:00<?, ?it/s]",
      "application/vnd.jupyter.widget-view+json": {
       "version_major": 2,
       "version_minor": 0,
       "model_id": "3a108e9fb72a401f898e2af7674b1bb9"
      }
     },
     "metadata": {},
     "output_type": "display_data"
    },
    {
     "data": {
      "text/plain": "  0%|          | 0/800 [00:00<?, ?it/s]",
      "application/vnd.jupyter.widget-view+json": {
       "version_major": 2,
       "version_minor": 0,
       "model_id": "a6b5c4d6485a4bb2873750cb6f3290f4"
      }
     },
     "metadata": {},
     "output_type": "display_data"
    },
    {
     "data": {
      "text/plain": "  0%|          | 0/800 [00:00<?, ?it/s]",
      "application/vnd.jupyter.widget-view+json": {
       "version_major": 2,
       "version_minor": 0,
       "model_id": "9d9f743e3a1b426d8fc96c903d73a582"
      }
     },
     "metadata": {},
     "output_type": "display_data"
    },
    {
     "data": {
      "text/plain": "  0%|          | 0/800 [00:00<?, ?it/s]",
      "application/vnd.jupyter.widget-view+json": {
       "version_major": 2,
       "version_minor": 0,
       "model_id": "f34a6db73bdc4188b401db0a875d629b"
      }
     },
     "metadata": {},
     "output_type": "display_data"
    },
    {
     "data": {
      "text/plain": "  0%|          | 0/800 [00:00<?, ?it/s]",
      "application/vnd.jupyter.widget-view+json": {
       "version_major": 2,
       "version_minor": 0,
       "model_id": "a24d2bd77f454c19b388871e22414a04"
      }
     },
     "metadata": {},
     "output_type": "display_data"
    },
    {
     "data": {
      "text/plain": "  0%|          | 0/800 [00:00<?, ?it/s]",
      "application/vnd.jupyter.widget-view+json": {
       "version_major": 2,
       "version_minor": 0,
       "model_id": "d607e0ac93364372a6dc0a62e803a9ce"
      }
     },
     "metadata": {},
     "output_type": "display_data"
    },
    {
     "data": {
      "text/plain": "  0%|          | 0/800 [00:00<?, ?it/s]",
      "application/vnd.jupyter.widget-view+json": {
       "version_major": 2,
       "version_minor": 0,
       "model_id": "d1b00abc4d184bfcbafbde09aa098fc6"
      }
     },
     "metadata": {},
     "output_type": "display_data"
    },
    {
     "data": {
      "text/plain": "  0%|          | 0/800 [00:00<?, ?it/s]",
      "application/vnd.jupyter.widget-view+json": {
       "version_major": 2,
       "version_minor": 0,
       "model_id": "15864ce42c87455c97b3d21d729782f4"
      }
     },
     "metadata": {},
     "output_type": "display_data"
    },
    {
     "data": {
      "text/plain": "  0%|          | 0/800 [00:00<?, ?it/s]",
      "application/vnd.jupyter.widget-view+json": {
       "version_major": 2,
       "version_minor": 0,
       "model_id": "2daa63f9e04741f0a8f58ddc34ba6343"
      }
     },
     "metadata": {},
     "output_type": "display_data"
    },
    {
     "data": {
      "text/plain": "  0%|          | 0/800 [00:00<?, ?it/s]",
      "application/vnd.jupyter.widget-view+json": {
       "version_major": 2,
       "version_minor": 0,
       "model_id": "c3a1b35ee95f412eb568a14763534349"
      }
     },
     "metadata": {},
     "output_type": "display_data"
    },
    {
     "data": {
      "text/plain": "  0%|          | 0/800 [00:00<?, ?it/s]",
      "application/vnd.jupyter.widget-view+json": {
       "version_major": 2,
       "version_minor": 0,
       "model_id": "da87527b765e40aa8bbebe2c3985f52c"
      }
     },
     "metadata": {},
     "output_type": "display_data"
    },
    {
     "data": {
      "text/plain": "  0%|          | 0/800 [00:00<?, ?it/s]",
      "application/vnd.jupyter.widget-view+json": {
       "version_major": 2,
       "version_minor": 0,
       "model_id": "fdf20c1d0f664c5dbbc2d5896d8f7568"
      }
     },
     "metadata": {},
     "output_type": "display_data"
    },
    {
     "data": {
      "text/plain": "  0%|          | 0/800 [00:00<?, ?it/s]",
      "application/vnd.jupyter.widget-view+json": {
       "version_major": 2,
       "version_minor": 0,
       "model_id": "bb823bc31ab9475f8515b8ceaef48cc6"
      }
     },
     "metadata": {},
     "output_type": "display_data"
    },
    {
     "data": {
      "text/plain": "  0%|          | 0/800 [00:00<?, ?it/s]",
      "application/vnd.jupyter.widget-view+json": {
       "version_major": 2,
       "version_minor": 0,
       "model_id": "f478cd6b810041529ec6e9d479f9837e"
      }
     },
     "metadata": {},
     "output_type": "display_data"
    },
    {
     "data": {
      "text/plain": "  0%|          | 0/800 [00:00<?, ?it/s]",
      "application/vnd.jupyter.widget-view+json": {
       "version_major": 2,
       "version_minor": 0,
       "model_id": "4a7f9f5525214115bccf2669074c1292"
      }
     },
     "metadata": {},
     "output_type": "display_data"
    },
    {
     "data": {
      "text/plain": "  0%|          | 0/800 [00:00<?, ?it/s]",
      "application/vnd.jupyter.widget-view+json": {
       "version_major": 2,
       "version_minor": 0,
       "model_id": "408bc03beba74dd2b19c3bacd442682c"
      }
     },
     "metadata": {},
     "output_type": "display_data"
    },
    {
     "data": {
      "text/plain": "  0%|          | 0/800 [00:00<?, ?it/s]",
      "application/vnd.jupyter.widget-view+json": {
       "version_major": 2,
       "version_minor": 0,
       "model_id": "6ab7d00e42254650893e9e23a6745bfd"
      }
     },
     "metadata": {},
     "output_type": "display_data"
    },
    {
     "data": {
      "text/plain": "  0%|          | 0/800 [00:00<?, ?it/s]",
      "application/vnd.jupyter.widget-view+json": {
       "version_major": 2,
       "version_minor": 0,
       "model_id": "9e54bde002374f00bea81463c8ab0742"
      }
     },
     "metadata": {},
     "output_type": "display_data"
    },
    {
     "data": {
      "text/plain": "  0%|          | 0/800 [00:00<?, ?it/s]",
      "application/vnd.jupyter.widget-view+json": {
       "version_major": 2,
       "version_minor": 0,
       "model_id": "a634cc1828ae443694673473162d51a5"
      }
     },
     "metadata": {},
     "output_type": "display_data"
    },
    {
     "data": {
      "text/plain": "  0%|          | 0/800 [00:00<?, ?it/s]",
      "application/vnd.jupyter.widget-view+json": {
       "version_major": 2,
       "version_minor": 0,
       "model_id": "8efe00d595bb4c19a0bbd730e32b82e5"
      }
     },
     "metadata": {},
     "output_type": "display_data"
    },
    {
     "data": {
      "text/plain": "  0%|          | 0/800 [00:00<?, ?it/s]",
      "application/vnd.jupyter.widget-view+json": {
       "version_major": 2,
       "version_minor": 0,
       "model_id": "ea7230cfbdc04bfabcd3ff2b425cdbd5"
      }
     },
     "metadata": {},
     "output_type": "display_data"
    },
    {
     "data": {
      "text/plain": "  0%|          | 0/800 [00:00<?, ?it/s]",
      "application/vnd.jupyter.widget-view+json": {
       "version_major": 2,
       "version_minor": 0,
       "model_id": "3bf8376aef534c259d2bb2d591b6f2eb"
      }
     },
     "metadata": {},
     "output_type": "display_data"
    },
    {
     "data": {
      "text/plain": "  0%|          | 0/800 [00:00<?, ?it/s]",
      "application/vnd.jupyter.widget-view+json": {
       "version_major": 2,
       "version_minor": 0,
       "model_id": "09e38c6f37f44e83871f79c422245d2a"
      }
     },
     "metadata": {},
     "output_type": "display_data"
    },
    {
     "data": {
      "text/plain": "  0%|          | 0/800 [00:00<?, ?it/s]",
      "application/vnd.jupyter.widget-view+json": {
       "version_major": 2,
       "version_minor": 0,
       "model_id": "fc27044798a3486cbe290de3c7462015"
      }
     },
     "metadata": {},
     "output_type": "display_data"
    },
    {
     "data": {
      "text/plain": "  0%|          | 0/800 [00:00<?, ?it/s]",
      "application/vnd.jupyter.widget-view+json": {
       "version_major": 2,
       "version_minor": 0,
       "model_id": "61ac831db8004033a5a871de39a93e5e"
      }
     },
     "metadata": {},
     "output_type": "display_data"
    },
    {
     "data": {
      "text/plain": "  0%|          | 0/800 [00:00<?, ?it/s]",
      "application/vnd.jupyter.widget-view+json": {
       "version_major": 2,
       "version_minor": 0,
       "model_id": "e1f51925a204488aa15c8ec8d8c4f78f"
      }
     },
     "metadata": {},
     "output_type": "display_data"
    },
    {
     "data": {
      "text/plain": "  0%|          | 0/800 [00:00<?, ?it/s]",
      "application/vnd.jupyter.widget-view+json": {
       "version_major": 2,
       "version_minor": 0,
       "model_id": "c63d1ace42244a579aa55f9663331f44"
      }
     },
     "metadata": {},
     "output_type": "display_data"
    },
    {
     "data": {
      "text/plain": "  0%|          | 0/800 [00:00<?, ?it/s]",
      "application/vnd.jupyter.widget-view+json": {
       "version_major": 2,
       "version_minor": 0,
       "model_id": "a4c8c265248b4311aa26add3ceb49331"
      }
     },
     "metadata": {},
     "output_type": "display_data"
    },
    {
     "data": {
      "text/plain": "  0%|          | 0/800 [00:00<?, ?it/s]",
      "application/vnd.jupyter.widget-view+json": {
       "version_major": 2,
       "version_minor": 0,
       "model_id": "86a558835be44c1f82da31ce1c89e911"
      }
     },
     "metadata": {},
     "output_type": "display_data"
    },
    {
     "data": {
      "text/plain": "  0%|          | 0/800 [00:00<?, ?it/s]",
      "application/vnd.jupyter.widget-view+json": {
       "version_major": 2,
       "version_minor": 0,
       "model_id": "f5708d15b5ad425a84aae4cd7b5a4acf"
      }
     },
     "metadata": {},
     "output_type": "display_data"
    },
    {
     "data": {
      "text/plain": "  0%|          | 0/800 [00:00<?, ?it/s]",
      "application/vnd.jupyter.widget-view+json": {
       "version_major": 2,
       "version_minor": 0,
       "model_id": "03a668ba80dd4db8b3a40d65e81ed610"
      }
     },
     "metadata": {},
     "output_type": "display_data"
    },
    {
     "data": {
      "text/plain": "  0%|          | 0/800 [00:00<?, ?it/s]",
      "application/vnd.jupyter.widget-view+json": {
       "version_major": 2,
       "version_minor": 0,
       "model_id": "2a0807d4c8ca4df0a2d309de4329f029"
      }
     },
     "metadata": {},
     "output_type": "display_data"
    },
    {
     "data": {
      "text/plain": "  0%|          | 0/800 [00:00<?, ?it/s]",
      "application/vnd.jupyter.widget-view+json": {
       "version_major": 2,
       "version_minor": 0,
       "model_id": "78f5717e13b0478c900bb571582d59f6"
      }
     },
     "metadata": {},
     "output_type": "display_data"
    },
    {
     "data": {
      "text/plain": "  0%|          | 0/800 [00:00<?, ?it/s]",
      "application/vnd.jupyter.widget-view+json": {
       "version_major": 2,
       "version_minor": 0,
       "model_id": "acea35a5f00243fabeabacfbd33fdf46"
      }
     },
     "metadata": {},
     "output_type": "display_data"
    },
    {
     "data": {
      "text/plain": "  0%|          | 0/800 [00:00<?, ?it/s]",
      "application/vnd.jupyter.widget-view+json": {
       "version_major": 2,
       "version_minor": 0,
       "model_id": "9cbf7a09ff03433089d5489f488a9d64"
      }
     },
     "metadata": {},
     "output_type": "display_data"
    },
    {
     "data": {
      "text/plain": "  0%|          | 0/800 [00:00<?, ?it/s]",
      "application/vnd.jupyter.widget-view+json": {
       "version_major": 2,
       "version_minor": 0,
       "model_id": "8c97e3e18ad843d49a6804dc6f6d4deb"
      }
     },
     "metadata": {},
     "output_type": "display_data"
    },
    {
     "data": {
      "text/plain": "  0%|          | 0/800 [00:00<?, ?it/s]",
      "application/vnd.jupyter.widget-view+json": {
       "version_major": 2,
       "version_minor": 0,
       "model_id": "caf74c01496545638b9a3e424b6a88fa"
      }
     },
     "metadata": {},
     "output_type": "display_data"
    },
    {
     "data": {
      "text/plain": "  0%|          | 0/800 [00:00<?, ?it/s]",
      "application/vnd.jupyter.widget-view+json": {
       "version_major": 2,
       "version_minor": 0,
       "model_id": "e4ff30ade85b496799d5d2701a9006d1"
      }
     },
     "metadata": {},
     "output_type": "display_data"
    },
    {
     "data": {
      "text/plain": "  0%|          | 0/800 [00:00<?, ?it/s]",
      "application/vnd.jupyter.widget-view+json": {
       "version_major": 2,
       "version_minor": 0,
       "model_id": "9a9375e401764b628715e64aa2cba27b"
      }
     },
     "metadata": {},
     "output_type": "display_data"
    },
    {
     "data": {
      "text/plain": "  0%|          | 0/800 [00:00<?, ?it/s]",
      "application/vnd.jupyter.widget-view+json": {
       "version_major": 2,
       "version_minor": 0,
       "model_id": "4749e4f9d695473e950a695a2b918e93"
      }
     },
     "metadata": {},
     "output_type": "display_data"
    },
    {
     "data": {
      "text/plain": "  0%|          | 0/800 [00:00<?, ?it/s]",
      "application/vnd.jupyter.widget-view+json": {
       "version_major": 2,
       "version_minor": 0,
       "model_id": "89951df8900c48e8b5220e3e0907078a"
      }
     },
     "metadata": {},
     "output_type": "display_data"
    },
    {
     "data": {
      "text/plain": "  0%|          | 0/800 [00:00<?, ?it/s]",
      "application/vnd.jupyter.widget-view+json": {
       "version_major": 2,
       "version_minor": 0,
       "model_id": "b02ff84e6df543d4af7befc52d1c72c5"
      }
     },
     "metadata": {},
     "output_type": "display_data"
    },
    {
     "data": {
      "text/plain": "  0%|          | 0/800 [00:00<?, ?it/s]",
      "application/vnd.jupyter.widget-view+json": {
       "version_major": 2,
       "version_minor": 0,
       "model_id": "9723f8d1c45c46c48978c7c864ada14e"
      }
     },
     "metadata": {},
     "output_type": "display_data"
    },
    {
     "data": {
      "text/plain": "  0%|          | 0/800 [00:00<?, ?it/s]",
      "application/vnd.jupyter.widget-view+json": {
       "version_major": 2,
       "version_minor": 0,
       "model_id": "1e385ace51f84c6dad6870721b8b4087"
      }
     },
     "metadata": {},
     "output_type": "display_data"
    },
    {
     "data": {
      "text/plain": "  0%|          | 0/800 [00:00<?, ?it/s]",
      "application/vnd.jupyter.widget-view+json": {
       "version_major": 2,
       "version_minor": 0,
       "model_id": "102a337b139c45589ef34c4befd7dbae"
      }
     },
     "metadata": {},
     "output_type": "display_data"
    },
    {
     "data": {
      "text/plain": "  0%|          | 0/800 [00:00<?, ?it/s]",
      "application/vnd.jupyter.widget-view+json": {
       "version_major": 2,
       "version_minor": 0,
       "model_id": "d5f60008d37648429ad2d7913b43b31a"
      }
     },
     "metadata": {},
     "output_type": "display_data"
    },
    {
     "data": {
      "text/plain": "  0%|          | 0/800 [00:00<?, ?it/s]",
      "application/vnd.jupyter.widget-view+json": {
       "version_major": 2,
       "version_minor": 0,
       "model_id": "7aacdb25023e4711a331d8996b0fda69"
      }
     },
     "metadata": {},
     "output_type": "display_data"
    },
    {
     "data": {
      "text/plain": "  0%|          | 0/800 [00:00<?, ?it/s]",
      "application/vnd.jupyter.widget-view+json": {
       "version_major": 2,
       "version_minor": 0,
       "model_id": "622571960a2740ef9d586f42c4fd4502"
      }
     },
     "metadata": {},
     "output_type": "display_data"
    },
    {
     "data": {
      "text/plain": "  0%|          | 0/800 [00:00<?, ?it/s]",
      "application/vnd.jupyter.widget-view+json": {
       "version_major": 2,
       "version_minor": 0,
       "model_id": "25bec4b617494b769ef10671dbb45232"
      }
     },
     "metadata": {},
     "output_type": "display_data"
    },
    {
     "data": {
      "text/plain": "  0%|          | 0/800 [00:00<?, ?it/s]",
      "application/vnd.jupyter.widget-view+json": {
       "version_major": 2,
       "version_minor": 0,
       "model_id": "d4a39e5ed5fb4934a3472d9af1280a33"
      }
     },
     "metadata": {},
     "output_type": "display_data"
    },
    {
     "data": {
      "text/plain": "  0%|          | 0/800 [00:00<?, ?it/s]",
      "application/vnd.jupyter.widget-view+json": {
       "version_major": 2,
       "version_minor": 0,
       "model_id": "d6ef010db0a94a639c0e2382f9622c79"
      }
     },
     "metadata": {},
     "output_type": "display_data"
    },
    {
     "data": {
      "text/plain": "  0%|          | 0/800 [00:00<?, ?it/s]",
      "application/vnd.jupyter.widget-view+json": {
       "version_major": 2,
       "version_minor": 0,
       "model_id": "60cbc45f551247f38c6d11da36e083fe"
      }
     },
     "metadata": {},
     "output_type": "display_data"
    },
    {
     "data": {
      "text/plain": "  0%|          | 0/800 [00:00<?, ?it/s]",
      "application/vnd.jupyter.widget-view+json": {
       "version_major": 2,
       "version_minor": 0,
       "model_id": "a18e016ffca54cc996214cf0787b25f8"
      }
     },
     "metadata": {},
     "output_type": "display_data"
    },
    {
     "data": {
      "text/plain": "  0%|          | 0/800 [00:00<?, ?it/s]",
      "application/vnd.jupyter.widget-view+json": {
       "version_major": 2,
       "version_minor": 0,
       "model_id": "56f8f328bfc445908f45ba778505cb26"
      }
     },
     "metadata": {},
     "output_type": "display_data"
    },
    {
     "data": {
      "text/plain": "  0%|          | 0/800 [00:00<?, ?it/s]",
      "application/vnd.jupyter.widget-view+json": {
       "version_major": 2,
       "version_minor": 0,
       "model_id": "7894c6b55bde4cc987cd4a2b0774780e"
      }
     },
     "metadata": {},
     "output_type": "display_data"
    },
    {
     "data": {
      "text/plain": "  0%|          | 0/800 [00:00<?, ?it/s]",
      "application/vnd.jupyter.widget-view+json": {
       "version_major": 2,
       "version_minor": 0,
       "model_id": "6dd8fe82e66442e9b1ab3393b669d11b"
      }
     },
     "metadata": {},
     "output_type": "display_data"
    },
    {
     "data": {
      "text/plain": "  0%|          | 0/800 [00:00<?, ?it/s]",
      "application/vnd.jupyter.widget-view+json": {
       "version_major": 2,
       "version_minor": 0,
       "model_id": "888a447506024ca7b4d3955b669d2d66"
      }
     },
     "metadata": {},
     "output_type": "display_data"
    },
    {
     "data": {
      "text/plain": "  0%|          | 0/800 [00:00<?, ?it/s]",
      "application/vnd.jupyter.widget-view+json": {
       "version_major": 2,
       "version_minor": 0,
       "model_id": "f5dc74ac0b5c4d978ee00e0bc66c0877"
      }
     },
     "metadata": {},
     "output_type": "display_data"
    },
    {
     "data": {
      "text/plain": "  0%|          | 0/800 [00:00<?, ?it/s]",
      "application/vnd.jupyter.widget-view+json": {
       "version_major": 2,
       "version_minor": 0,
       "model_id": "ff00f81a7e214ee0bb5626d97927cbe2"
      }
     },
     "metadata": {},
     "output_type": "display_data"
    },
    {
     "data": {
      "text/plain": "  0%|          | 0/800 [00:00<?, ?it/s]",
      "application/vnd.jupyter.widget-view+json": {
       "version_major": 2,
       "version_minor": 0,
       "model_id": "422b076f3a63490e95a5f376acf169c2"
      }
     },
     "metadata": {},
     "output_type": "display_data"
    },
    {
     "data": {
      "text/plain": "  0%|          | 0/800 [00:00<?, ?it/s]",
      "application/vnd.jupyter.widget-view+json": {
       "version_major": 2,
       "version_minor": 0,
       "model_id": "961d99edc17149798c4108b495aaa3cd"
      }
     },
     "metadata": {},
     "output_type": "display_data"
    },
    {
     "data": {
      "text/plain": "  0%|          | 0/800 [00:00<?, ?it/s]",
      "application/vnd.jupyter.widget-view+json": {
       "version_major": 2,
       "version_minor": 0,
       "model_id": "c56a1efcc1814eceb3eca153b2ecf752"
      }
     },
     "metadata": {},
     "output_type": "display_data"
    },
    {
     "data": {
      "text/plain": "  0%|          | 0/800 [00:00<?, ?it/s]",
      "application/vnd.jupyter.widget-view+json": {
       "version_major": 2,
       "version_minor": 0,
       "model_id": "30acdce4df12418f9460d6ad3da0dcec"
      }
     },
     "metadata": {},
     "output_type": "display_data"
    },
    {
     "data": {
      "text/plain": "  0%|          | 0/800 [00:00<?, ?it/s]",
      "application/vnd.jupyter.widget-view+json": {
       "version_major": 2,
       "version_minor": 0,
       "model_id": "7021d601c5194cb195f6effe31b54928"
      }
     },
     "metadata": {},
     "output_type": "display_data"
    },
    {
     "data": {
      "text/plain": "  0%|          | 0/800 [00:00<?, ?it/s]",
      "application/vnd.jupyter.widget-view+json": {
       "version_major": 2,
       "version_minor": 0,
       "model_id": "d3020f7c63fd491989b924605707d075"
      }
     },
     "metadata": {},
     "output_type": "display_data"
    },
    {
     "data": {
      "text/plain": "  0%|          | 0/800 [00:00<?, ?it/s]",
      "application/vnd.jupyter.widget-view+json": {
       "version_major": 2,
       "version_minor": 0,
       "model_id": "d05d49e3614d455491db4f4f8a0bb70f"
      }
     },
     "metadata": {},
     "output_type": "display_data"
    },
    {
     "data": {
      "text/plain": "  0%|          | 0/800 [00:00<?, ?it/s]",
      "application/vnd.jupyter.widget-view+json": {
       "version_major": 2,
       "version_minor": 0,
       "model_id": "1fa19b34ad464b619fac7bab4d1ee2ea"
      }
     },
     "metadata": {},
     "output_type": "display_data"
    },
    {
     "data": {
      "text/plain": "  0%|          | 0/800 [00:00<?, ?it/s]",
      "application/vnd.jupyter.widget-view+json": {
       "version_major": 2,
       "version_minor": 0,
       "model_id": "5d68cd0e81b841968237c199834f8535"
      }
     },
     "metadata": {},
     "output_type": "display_data"
    },
    {
     "data": {
      "text/plain": "  0%|          | 0/800 [00:00<?, ?it/s]",
      "application/vnd.jupyter.widget-view+json": {
       "version_major": 2,
       "version_minor": 0,
       "model_id": "ea4ae7356f6545db9c173582a8ad7ce1"
      }
     },
     "metadata": {},
     "output_type": "display_data"
    },
    {
     "data": {
      "text/plain": "  0%|          | 0/800 [00:00<?, ?it/s]",
      "application/vnd.jupyter.widget-view+json": {
       "version_major": 2,
       "version_minor": 0,
       "model_id": "a5322ef69c8b45baac2a3f4ef6cbadbf"
      }
     },
     "metadata": {},
     "output_type": "display_data"
    },
    {
     "data": {
      "text/plain": "  0%|          | 0/800 [00:00<?, ?it/s]",
      "application/vnd.jupyter.widget-view+json": {
       "version_major": 2,
       "version_minor": 0,
       "model_id": "b0e54f74cd564e5fb8120c139be75e51"
      }
     },
     "metadata": {},
     "output_type": "display_data"
    },
    {
     "data": {
      "text/plain": "  0%|          | 0/800 [00:00<?, ?it/s]",
      "application/vnd.jupyter.widget-view+json": {
       "version_major": 2,
       "version_minor": 0,
       "model_id": "f40d4985a63b4333a6cde991a3ba4721"
      }
     },
     "metadata": {},
     "output_type": "display_data"
    },
    {
     "data": {
      "text/plain": "  0%|          | 0/800 [00:00<?, ?it/s]",
      "application/vnd.jupyter.widget-view+json": {
       "version_major": 2,
       "version_minor": 0,
       "model_id": "dfeaf88982c54784abb9b160c91c8c8d"
      }
     },
     "metadata": {},
     "output_type": "display_data"
    },
    {
     "data": {
      "text/plain": "  0%|          | 0/800 [00:00<?, ?it/s]",
      "application/vnd.jupyter.widget-view+json": {
       "version_major": 2,
       "version_minor": 0,
       "model_id": "316a5b3aa5dd49c6bb024903c22b5479"
      }
     },
     "metadata": {},
     "output_type": "display_data"
    },
    {
     "data": {
      "text/plain": "  0%|          | 0/800 [00:00<?, ?it/s]",
      "application/vnd.jupyter.widget-view+json": {
       "version_major": 2,
       "version_minor": 0,
       "model_id": "c0150418e2954eaa9964a33f618646e8"
      }
     },
     "metadata": {},
     "output_type": "display_data"
    },
    {
     "data": {
      "text/plain": "  0%|          | 0/800 [00:00<?, ?it/s]",
      "application/vnd.jupyter.widget-view+json": {
       "version_major": 2,
       "version_minor": 0,
       "model_id": "96f56d66954e4d23b92694a00f442a8c"
      }
     },
     "metadata": {},
     "output_type": "display_data"
    },
    {
     "data": {
      "text/plain": "  0%|          | 0/800 [00:00<?, ?it/s]",
      "application/vnd.jupyter.widget-view+json": {
       "version_major": 2,
       "version_minor": 0,
       "model_id": "c7d54cb1988945d895b98458161dfc99"
      }
     },
     "metadata": {},
     "output_type": "display_data"
    },
    {
     "data": {
      "text/plain": "  0%|          | 0/800 [00:00<?, ?it/s]",
      "application/vnd.jupyter.widget-view+json": {
       "version_major": 2,
       "version_minor": 0,
       "model_id": "170aa8a23002488b88044595ac0989f1"
      }
     },
     "metadata": {},
     "output_type": "display_data"
    },
    {
     "data": {
      "text/plain": "  0%|          | 0/800 [00:00<?, ?it/s]",
      "application/vnd.jupyter.widget-view+json": {
       "version_major": 2,
       "version_minor": 0,
       "model_id": "5dadc25ee8f1416ca97810705f8689e4"
      }
     },
     "metadata": {},
     "output_type": "display_data"
    },
    {
     "data": {
      "text/plain": "  0%|          | 0/800 [00:00<?, ?it/s]",
      "application/vnd.jupyter.widget-view+json": {
       "version_major": 2,
       "version_minor": 0,
       "model_id": "f8580f129f1e4b428ce35ef272d1f57f"
      }
     },
     "metadata": {},
     "output_type": "display_data"
    },
    {
     "data": {
      "text/plain": "  0%|          | 0/800 [00:00<?, ?it/s]",
      "application/vnd.jupyter.widget-view+json": {
       "version_major": 2,
       "version_minor": 0,
       "model_id": "94f22b405a3a44618f8379cd3eadd807"
      }
     },
     "metadata": {},
     "output_type": "display_data"
    },
    {
     "data": {
      "text/plain": "  0%|          | 0/800 [00:00<?, ?it/s]",
      "application/vnd.jupyter.widget-view+json": {
       "version_major": 2,
       "version_minor": 0,
       "model_id": "4aa22b17458f4284a511b2c6b1282a23"
      }
     },
     "metadata": {},
     "output_type": "display_data"
    },
    {
     "data": {
      "text/plain": "  0%|          | 0/800 [00:00<?, ?it/s]",
      "application/vnd.jupyter.widget-view+json": {
       "version_major": 2,
       "version_minor": 0,
       "model_id": "176f4c31546b4dfe8eca5b77cd035a49"
      }
     },
     "metadata": {},
     "output_type": "display_data"
    },
    {
     "data": {
      "text/plain": "  0%|          | 0/800 [00:00<?, ?it/s]",
      "application/vnd.jupyter.widget-view+json": {
       "version_major": 2,
       "version_minor": 0,
       "model_id": "05ec834d23a946bebbaf0942ecc99bb2"
      }
     },
     "metadata": {},
     "output_type": "display_data"
    },
    {
     "data": {
      "text/plain": "  0%|          | 0/800 [00:00<?, ?it/s]",
      "application/vnd.jupyter.widget-view+json": {
       "version_major": 2,
       "version_minor": 0,
       "model_id": "954701388078430aaef510fc24bc625e"
      }
     },
     "metadata": {},
     "output_type": "display_data"
    },
    {
     "data": {
      "text/plain": "  0%|          | 0/800 [00:00<?, ?it/s]",
      "application/vnd.jupyter.widget-view+json": {
       "version_major": 2,
       "version_minor": 0,
       "model_id": "763b55f5555a48739895eca5bc2bc55f"
      }
     },
     "metadata": {},
     "output_type": "display_data"
    },
    {
     "data": {
      "text/plain": "  0%|          | 0/800 [00:00<?, ?it/s]",
      "application/vnd.jupyter.widget-view+json": {
       "version_major": 2,
       "version_minor": 0,
       "model_id": "6a9139a7605d4c7a904b08c711e4cf3c"
      }
     },
     "metadata": {},
     "output_type": "display_data"
    },
    {
     "data": {
      "text/plain": "  0%|          | 0/800 [00:00<?, ?it/s]",
      "application/vnd.jupyter.widget-view+json": {
       "version_major": 2,
       "version_minor": 0,
       "model_id": "546d0524cbe94e3f854a38777384bee0"
      }
     },
     "metadata": {},
     "output_type": "display_data"
    },
    {
     "data": {
      "text/plain": "  0%|          | 0/800 [00:00<?, ?it/s]",
      "application/vnd.jupyter.widget-view+json": {
       "version_major": 2,
       "version_minor": 0,
       "model_id": "698ede88fbeb40628e71fb93ff841b8c"
      }
     },
     "metadata": {},
     "output_type": "display_data"
    },
    {
     "data": {
      "text/plain": "  0%|          | 0/800 [00:00<?, ?it/s]",
      "application/vnd.jupyter.widget-view+json": {
       "version_major": 2,
       "version_minor": 0,
       "model_id": "e37c54ddc4e04803b8ed9bb80d012b73"
      }
     },
     "metadata": {},
     "output_type": "display_data"
    },
    {
     "data": {
      "text/plain": "  0%|          | 0/800 [00:00<?, ?it/s]",
      "application/vnd.jupyter.widget-view+json": {
       "version_major": 2,
       "version_minor": 0,
       "model_id": "d015c0ded05a43d49c6efc3d9ed1d9c0"
      }
     },
     "metadata": {},
     "output_type": "display_data"
    },
    {
     "data": {
      "text/plain": "  0%|          | 0/800 [00:00<?, ?it/s]",
      "application/vnd.jupyter.widget-view+json": {
       "version_major": 2,
       "version_minor": 0,
       "model_id": "6fb1a1745e744484906883d570a639bb"
      }
     },
     "metadata": {},
     "output_type": "display_data"
    },
    {
     "data": {
      "text/plain": "  0%|          | 0/800 [00:00<?, ?it/s]",
      "application/vnd.jupyter.widget-view+json": {
       "version_major": 2,
       "version_minor": 0,
       "model_id": "d26ba9d0194445948f5596bb97a847a1"
      }
     },
     "metadata": {},
     "output_type": "display_data"
    },
    {
     "data": {
      "text/plain": "  0%|          | 0/800 [00:00<?, ?it/s]",
      "application/vnd.jupyter.widget-view+json": {
       "version_major": 2,
       "version_minor": 0,
       "model_id": "5892e824bbc04ce08223cafd2c56424f"
      }
     },
     "metadata": {},
     "output_type": "display_data"
    },
    {
     "data": {
      "text/plain": "  0%|          | 0/800 [00:00<?, ?it/s]",
      "application/vnd.jupyter.widget-view+json": {
       "version_major": 2,
       "version_minor": 0,
       "model_id": "10304af1fdb240c6a6a8c99a468e6562"
      }
     },
     "metadata": {},
     "output_type": "display_data"
    },
    {
     "data": {
      "text/plain": "  0%|          | 0/800 [00:00<?, ?it/s]",
      "application/vnd.jupyter.widget-view+json": {
       "version_major": 2,
       "version_minor": 0,
       "model_id": "dec9ab589f4244ef84fc4cf7401d503b"
      }
     },
     "metadata": {},
     "output_type": "display_data"
    },
    {
     "data": {
      "text/plain": "  0%|          | 0/800 [00:00<?, ?it/s]",
      "application/vnd.jupyter.widget-view+json": {
       "version_major": 2,
       "version_minor": 0,
       "model_id": "dd5117e79c0444898ae87de0449c1632"
      }
     },
     "metadata": {},
     "output_type": "display_data"
    },
    {
     "data": {
      "text/plain": "  0%|          | 0/800 [00:00<?, ?it/s]",
      "application/vnd.jupyter.widget-view+json": {
       "version_major": 2,
       "version_minor": 0,
       "model_id": "bc3e75c121cc43dbb50f415829d94dea"
      }
     },
     "metadata": {},
     "output_type": "display_data"
    },
    {
     "data": {
      "text/plain": "  0%|          | 0/800 [00:00<?, ?it/s]",
      "application/vnd.jupyter.widget-view+json": {
       "version_major": 2,
       "version_minor": 0,
       "model_id": "7750dd0a9f4b435da3ecfba331443dc8"
      }
     },
     "metadata": {},
     "output_type": "display_data"
    },
    {
     "data": {
      "text/plain": "  0%|          | 0/800 [00:00<?, ?it/s]",
      "application/vnd.jupyter.widget-view+json": {
       "version_major": 2,
       "version_minor": 0,
       "model_id": "33647665712944d5a9576d4a74730d3e"
      }
     },
     "metadata": {},
     "output_type": "display_data"
    },
    {
     "data": {
      "text/plain": "  0%|          | 0/800 [00:00<?, ?it/s]",
      "application/vnd.jupyter.widget-view+json": {
       "version_major": 2,
       "version_minor": 0,
       "model_id": "13905d396a314bd2bf33ab4cb6536d79"
      }
     },
     "metadata": {},
     "output_type": "display_data"
    },
    {
     "data": {
      "text/plain": "  0%|          | 0/800 [00:00<?, ?it/s]",
      "application/vnd.jupyter.widget-view+json": {
       "version_major": 2,
       "version_minor": 0,
       "model_id": "600bdebb81e5483785c85139beafd8bb"
      }
     },
     "metadata": {},
     "output_type": "display_data"
    },
    {
     "data": {
      "text/plain": "  0%|          | 0/800 [00:00<?, ?it/s]",
      "application/vnd.jupyter.widget-view+json": {
       "version_major": 2,
       "version_minor": 0,
       "model_id": "66e8ba166d9946fc990c56ace48ed7db"
      }
     },
     "metadata": {},
     "output_type": "display_data"
    },
    {
     "data": {
      "text/plain": "  0%|          | 0/800 [00:00<?, ?it/s]",
      "application/vnd.jupyter.widget-view+json": {
       "version_major": 2,
       "version_minor": 0,
       "model_id": "d0d037e979b5457f838cd2563ff3c0fd"
      }
     },
     "metadata": {},
     "output_type": "display_data"
    },
    {
     "data": {
      "text/plain": "  0%|          | 0/800 [00:00<?, ?it/s]",
      "application/vnd.jupyter.widget-view+json": {
       "version_major": 2,
       "version_minor": 0,
       "model_id": "caf28db8b6f54ca1b40bfbb09f616428"
      }
     },
     "metadata": {},
     "output_type": "display_data"
    },
    {
     "data": {
      "text/plain": "  0%|          | 0/800 [00:00<?, ?it/s]",
      "application/vnd.jupyter.widget-view+json": {
       "version_major": 2,
       "version_minor": 0,
       "model_id": "86ee1b32982a4099a0a6d6469ffcbee4"
      }
     },
     "metadata": {},
     "output_type": "display_data"
    },
    {
     "data": {
      "text/plain": "  0%|          | 0/800 [00:00<?, ?it/s]",
      "application/vnd.jupyter.widget-view+json": {
       "version_major": 2,
       "version_minor": 0,
       "model_id": "0c6482cb52f248b388ecfbedcafca809"
      }
     },
     "metadata": {},
     "output_type": "display_data"
    },
    {
     "data": {
      "text/plain": "  0%|          | 0/800 [00:00<?, ?it/s]",
      "application/vnd.jupyter.widget-view+json": {
       "version_major": 2,
       "version_minor": 0,
       "model_id": "cbf23fe2f56b4ee38ed6a1f9202cb9b1"
      }
     },
     "metadata": {},
     "output_type": "display_data"
    },
    {
     "data": {
      "text/plain": "  0%|          | 0/800 [00:00<?, ?it/s]",
      "application/vnd.jupyter.widget-view+json": {
       "version_major": 2,
       "version_minor": 0,
       "model_id": "00cbc673bede4ce29c5537ab9d7e7519"
      }
     },
     "metadata": {},
     "output_type": "display_data"
    },
    {
     "data": {
      "text/plain": "  0%|          | 0/800 [00:00<?, ?it/s]",
      "application/vnd.jupyter.widget-view+json": {
       "version_major": 2,
       "version_minor": 0,
       "model_id": "897a841af49b4f208eb18bf2f6b08dc5"
      }
     },
     "metadata": {},
     "output_type": "display_data"
    },
    {
     "data": {
      "text/plain": "  0%|          | 0/800 [00:00<?, ?it/s]",
      "application/vnd.jupyter.widget-view+json": {
       "version_major": 2,
       "version_minor": 0,
       "model_id": "7d32673ce6c542229b3c98c03cd1d3b0"
      }
     },
     "metadata": {},
     "output_type": "display_data"
    },
    {
     "data": {
      "text/plain": "  0%|          | 0/800 [00:00<?, ?it/s]",
      "application/vnd.jupyter.widget-view+json": {
       "version_major": 2,
       "version_minor": 0,
       "model_id": "02a0ff94debe4c5ab911fe81b6cca322"
      }
     },
     "metadata": {},
     "output_type": "display_data"
    },
    {
     "data": {
      "text/plain": "  0%|          | 0/800 [00:00<?, ?it/s]",
      "application/vnd.jupyter.widget-view+json": {
       "version_major": 2,
       "version_minor": 0,
       "model_id": "005c634c64ab475d996f4360c3cd5160"
      }
     },
     "metadata": {},
     "output_type": "display_data"
    },
    {
     "data": {
      "text/plain": "  0%|          | 0/800 [00:00<?, ?it/s]",
      "application/vnd.jupyter.widget-view+json": {
       "version_major": 2,
       "version_minor": 0,
       "model_id": "407619457ad540bb87dd9fc8f1c34932"
      }
     },
     "metadata": {},
     "output_type": "display_data"
    },
    {
     "data": {
      "text/plain": "  0%|          | 0/800 [00:00<?, ?it/s]",
      "application/vnd.jupyter.widget-view+json": {
       "version_major": 2,
       "version_minor": 0,
       "model_id": "c5b8e19efe5a47ef8b5c68c3a17a9ca8"
      }
     },
     "metadata": {},
     "output_type": "display_data"
    },
    {
     "data": {
      "text/plain": "  0%|          | 0/800 [00:00<?, ?it/s]",
      "application/vnd.jupyter.widget-view+json": {
       "version_major": 2,
       "version_minor": 0,
       "model_id": "f96b02bb602e4ef0a71602783328905b"
      }
     },
     "metadata": {},
     "output_type": "display_data"
    },
    {
     "data": {
      "text/plain": "  0%|          | 0/800 [00:00<?, ?it/s]",
      "application/vnd.jupyter.widget-view+json": {
       "version_major": 2,
       "version_minor": 0,
       "model_id": "99f8f8f1d8cf4d2e9290b6f11651fc6d"
      }
     },
     "metadata": {},
     "output_type": "display_data"
    },
    {
     "data": {
      "text/plain": "  0%|          | 0/800 [00:00<?, ?it/s]",
      "application/vnd.jupyter.widget-view+json": {
       "version_major": 2,
       "version_minor": 0,
       "model_id": "819914abb7ba403aa851a930224957dd"
      }
     },
     "metadata": {},
     "output_type": "display_data"
    },
    {
     "data": {
      "text/plain": "  0%|          | 0/800 [00:00<?, ?it/s]",
      "application/vnd.jupyter.widget-view+json": {
       "version_major": 2,
       "version_minor": 0,
       "model_id": "0de2972434e742c0bc3810d81a6d021f"
      }
     },
     "metadata": {},
     "output_type": "display_data"
    },
    {
     "data": {
      "text/plain": "  0%|          | 0/800 [00:00<?, ?it/s]",
      "application/vnd.jupyter.widget-view+json": {
       "version_major": 2,
       "version_minor": 0,
       "model_id": "8dc73f46f1364dd1a5d6e5a4641e5c20"
      }
     },
     "metadata": {},
     "output_type": "display_data"
    },
    {
     "data": {
      "text/plain": "  0%|          | 0/800 [00:00<?, ?it/s]",
      "application/vnd.jupyter.widget-view+json": {
       "version_major": 2,
       "version_minor": 0,
       "model_id": "822471414fbf4111b1286d405eb7af4b"
      }
     },
     "metadata": {},
     "output_type": "display_data"
    },
    {
     "data": {
      "text/plain": "  0%|          | 0/800 [00:00<?, ?it/s]",
      "application/vnd.jupyter.widget-view+json": {
       "version_major": 2,
       "version_minor": 0,
       "model_id": "e7feac2540bc4796a5e38ab0dd2c82f1"
      }
     },
     "metadata": {},
     "output_type": "display_data"
    },
    {
     "data": {
      "text/plain": "  0%|          | 0/800 [00:00<?, ?it/s]",
      "application/vnd.jupyter.widget-view+json": {
       "version_major": 2,
       "version_minor": 0,
       "model_id": "7ab183ea0aa2496e86466fa1ee30d94d"
      }
     },
     "metadata": {},
     "output_type": "display_data"
    },
    {
     "data": {
      "text/plain": "  0%|          | 0/800 [00:00<?, ?it/s]",
      "application/vnd.jupyter.widget-view+json": {
       "version_major": 2,
       "version_minor": 0,
       "model_id": "23fb62e3ec1f4264826ae02ae11e7d07"
      }
     },
     "metadata": {},
     "output_type": "display_data"
    },
    {
     "data": {
      "text/plain": "  0%|          | 0/800 [00:00<?, ?it/s]",
      "application/vnd.jupyter.widget-view+json": {
       "version_major": 2,
       "version_minor": 0,
       "model_id": "a490171d6e6b45a785af9c3a1a061124"
      }
     },
     "metadata": {},
     "output_type": "display_data"
    },
    {
     "data": {
      "text/plain": "  0%|          | 0/800 [00:00<?, ?it/s]",
      "application/vnd.jupyter.widget-view+json": {
       "version_major": 2,
       "version_minor": 0,
       "model_id": "4d958a373b534661957ea6dcb72e9544"
      }
     },
     "metadata": {},
     "output_type": "display_data"
    },
    {
     "data": {
      "text/plain": "  0%|          | 0/800 [00:00<?, ?it/s]",
      "application/vnd.jupyter.widget-view+json": {
       "version_major": 2,
       "version_minor": 0,
       "model_id": "80c8f0f5949345e297bd21b33862b8c2"
      }
     },
     "metadata": {},
     "output_type": "display_data"
    },
    {
     "data": {
      "text/plain": "  0%|          | 0/800 [00:00<?, ?it/s]",
      "application/vnd.jupyter.widget-view+json": {
       "version_major": 2,
       "version_minor": 0,
       "model_id": "222c2249784a4f78b1ab502ae20ff6d2"
      }
     },
     "metadata": {},
     "output_type": "display_data"
    },
    {
     "data": {
      "text/plain": "  0%|          | 0/800 [00:00<?, ?it/s]",
      "application/vnd.jupyter.widget-view+json": {
       "version_major": 2,
       "version_minor": 0,
       "model_id": "8efaa3833b014fbb9dbd8daedbcf9b06"
      }
     },
     "metadata": {},
     "output_type": "display_data"
    },
    {
     "data": {
      "text/plain": "  0%|          | 0/800 [00:00<?, ?it/s]",
      "application/vnd.jupyter.widget-view+json": {
       "version_major": 2,
       "version_minor": 0,
       "model_id": "a0dfda353aca4b6994c54b3c6406bc3b"
      }
     },
     "metadata": {},
     "output_type": "display_data"
    },
    {
     "data": {
      "text/plain": "  0%|          | 0/800 [00:00<?, ?it/s]",
      "application/vnd.jupyter.widget-view+json": {
       "version_major": 2,
       "version_minor": 0,
       "model_id": "30bc71faa9cc41f1a47b0481f17420fa"
      }
     },
     "metadata": {},
     "output_type": "display_data"
    },
    {
     "data": {
      "text/plain": "  0%|          | 0/800 [00:00<?, ?it/s]",
      "application/vnd.jupyter.widget-view+json": {
       "version_major": 2,
       "version_minor": 0,
       "model_id": "76298366c54149fbaf4c9db21ac86766"
      }
     },
     "metadata": {},
     "output_type": "display_data"
    },
    {
     "data": {
      "text/plain": "  0%|          | 0/800 [00:00<?, ?it/s]",
      "application/vnd.jupyter.widget-view+json": {
       "version_major": 2,
       "version_minor": 0,
       "model_id": "c59207514e8842488ce94aba33d0e1b3"
      }
     },
     "metadata": {},
     "output_type": "display_data"
    },
    {
     "data": {
      "text/plain": "  0%|          | 0/800 [00:00<?, ?it/s]",
      "application/vnd.jupyter.widget-view+json": {
       "version_major": 2,
       "version_minor": 0,
       "model_id": "65b5c9f44300405d924bd5e565d4e1fe"
      }
     },
     "metadata": {},
     "output_type": "display_data"
    },
    {
     "data": {
      "text/plain": "  0%|          | 0/800 [00:00<?, ?it/s]",
      "application/vnd.jupyter.widget-view+json": {
       "version_major": 2,
       "version_minor": 0,
       "model_id": "596f2f646c2e484dba92a1203d727138"
      }
     },
     "metadata": {},
     "output_type": "display_data"
    },
    {
     "data": {
      "text/plain": "  0%|          | 0/800 [00:00<?, ?it/s]",
      "application/vnd.jupyter.widget-view+json": {
       "version_major": 2,
       "version_minor": 0,
       "model_id": "021e80cef3e740f2a3580d360166fd13"
      }
     },
     "metadata": {},
     "output_type": "display_data"
    },
    {
     "data": {
      "text/plain": "  0%|          | 0/800 [00:00<?, ?it/s]",
      "application/vnd.jupyter.widget-view+json": {
       "version_major": 2,
       "version_minor": 0,
       "model_id": "252c3fcb776049d29d75e6a6d95ad74c"
      }
     },
     "metadata": {},
     "output_type": "display_data"
    },
    {
     "data": {
      "text/plain": "  0%|          | 0/800 [00:00<?, ?it/s]",
      "application/vnd.jupyter.widget-view+json": {
       "version_major": 2,
       "version_minor": 0,
       "model_id": "ffa0114592cf4851a606caba5651a242"
      }
     },
     "metadata": {},
     "output_type": "display_data"
    },
    {
     "data": {
      "text/plain": "  0%|          | 0/800 [00:00<?, ?it/s]",
      "application/vnd.jupyter.widget-view+json": {
       "version_major": 2,
       "version_minor": 0,
       "model_id": "57436d11a26f431c963ac503fb89b88d"
      }
     },
     "metadata": {},
     "output_type": "display_data"
    },
    {
     "data": {
      "text/plain": "  0%|          | 0/800 [00:00<?, ?it/s]",
      "application/vnd.jupyter.widget-view+json": {
       "version_major": 2,
       "version_minor": 0,
       "model_id": "04bd3be9213d443281f3b448ef91070b"
      }
     },
     "metadata": {},
     "output_type": "display_data"
    },
    {
     "data": {
      "text/plain": "  0%|          | 0/800 [00:00<?, ?it/s]",
      "application/vnd.jupyter.widget-view+json": {
       "version_major": 2,
       "version_minor": 0,
       "model_id": "ca2ce10d96834f6dadfed1ac2ec8ec5b"
      }
     },
     "metadata": {},
     "output_type": "display_data"
    },
    {
     "data": {
      "text/plain": "  0%|          | 0/800 [00:00<?, ?it/s]",
      "application/vnd.jupyter.widget-view+json": {
       "version_major": 2,
       "version_minor": 0,
       "model_id": "c1bcd06bfeda42ce83b25f621068507e"
      }
     },
     "metadata": {},
     "output_type": "display_data"
    },
    {
     "data": {
      "text/plain": "  0%|          | 0/800 [00:00<?, ?it/s]",
      "application/vnd.jupyter.widget-view+json": {
       "version_major": 2,
       "version_minor": 0,
       "model_id": "6c4c170abd7a4d48a00fd98a1baba561"
      }
     },
     "metadata": {},
     "output_type": "display_data"
    },
    {
     "data": {
      "text/plain": "  0%|          | 0/800 [00:00<?, ?it/s]",
      "application/vnd.jupyter.widget-view+json": {
       "version_major": 2,
       "version_minor": 0,
       "model_id": "61856a9d15b740c3a959e529e3cb75df"
      }
     },
     "metadata": {},
     "output_type": "display_data"
    },
    {
     "data": {
      "text/plain": "  0%|          | 0/800 [00:00<?, ?it/s]",
      "application/vnd.jupyter.widget-view+json": {
       "version_major": 2,
       "version_minor": 0,
       "model_id": "0f67f6b60fa8417cac4c1156bd49dd8d"
      }
     },
     "metadata": {},
     "output_type": "display_data"
    },
    {
     "data": {
      "text/plain": "  0%|          | 0/800 [00:00<?, ?it/s]",
      "application/vnd.jupyter.widget-view+json": {
       "version_major": 2,
       "version_minor": 0,
       "model_id": "f67e11d652b9484aaca24fab11b39714"
      }
     },
     "metadata": {},
     "output_type": "display_data"
    },
    {
     "data": {
      "text/plain": "  0%|          | 0/800 [00:00<?, ?it/s]",
      "application/vnd.jupyter.widget-view+json": {
       "version_major": 2,
       "version_minor": 0,
       "model_id": "3d99a15a849f4636b7deda7e808746fe"
      }
     },
     "metadata": {},
     "output_type": "display_data"
    },
    {
     "data": {
      "text/plain": "  0%|          | 0/800 [00:00<?, ?it/s]",
      "application/vnd.jupyter.widget-view+json": {
       "version_major": 2,
       "version_minor": 0,
       "model_id": "e3d7f617e1fa46548f2119baa6e79ce7"
      }
     },
     "metadata": {},
     "output_type": "display_data"
    },
    {
     "data": {
      "text/plain": "  0%|          | 0/800 [00:00<?, ?it/s]",
      "application/vnd.jupyter.widget-view+json": {
       "version_major": 2,
       "version_minor": 0,
       "model_id": "65c9b18a46d1480483f7186c3772a794"
      }
     },
     "metadata": {},
     "output_type": "display_data"
    },
    {
     "data": {
      "text/plain": "  0%|          | 0/800 [00:00<?, ?it/s]",
      "application/vnd.jupyter.widget-view+json": {
       "version_major": 2,
       "version_minor": 0,
       "model_id": "c1bb0521cebb4c80b56f65c89fd64b45"
      }
     },
     "metadata": {},
     "output_type": "display_data"
    },
    {
     "data": {
      "text/plain": "  0%|          | 0/800 [00:00<?, ?it/s]",
      "application/vnd.jupyter.widget-view+json": {
       "version_major": 2,
       "version_minor": 0,
       "model_id": "2289fa9feda14d869f328792f160f626"
      }
     },
     "metadata": {},
     "output_type": "display_data"
    },
    {
     "data": {
      "text/plain": "  0%|          | 0/800 [00:00<?, ?it/s]",
      "application/vnd.jupyter.widget-view+json": {
       "version_major": 2,
       "version_minor": 0,
       "model_id": "3119128019544c18a41af93d8a35a326"
      }
     },
     "metadata": {},
     "output_type": "display_data"
    },
    {
     "data": {
      "text/plain": "  0%|          | 0/800 [00:00<?, ?it/s]",
      "application/vnd.jupyter.widget-view+json": {
       "version_major": 2,
       "version_minor": 0,
       "model_id": "6cabc4275d8344b2a1861a979c62077e"
      }
     },
     "metadata": {},
     "output_type": "display_data"
    },
    {
     "data": {
      "text/plain": "  0%|          | 0/800 [00:00<?, ?it/s]",
      "application/vnd.jupyter.widget-view+json": {
       "version_major": 2,
       "version_minor": 0,
       "model_id": "45bfbc86ca4246f9869c68c63a96ebcf"
      }
     },
     "metadata": {},
     "output_type": "display_data"
    },
    {
     "data": {
      "text/plain": "  0%|          | 0/800 [00:00<?, ?it/s]",
      "application/vnd.jupyter.widget-view+json": {
       "version_major": 2,
       "version_minor": 0,
       "model_id": "fd6bc79345094ee2bbe30fdb03a6d247"
      }
     },
     "metadata": {},
     "output_type": "display_data"
    },
    {
     "data": {
      "text/plain": "  0%|          | 0/800 [00:00<?, ?it/s]",
      "application/vnd.jupyter.widget-view+json": {
       "version_major": 2,
       "version_minor": 0,
       "model_id": "acebaa2dc4d042c4b4f46695b0b9cc2e"
      }
     },
     "metadata": {},
     "output_type": "display_data"
    },
    {
     "data": {
      "text/plain": "  0%|          | 0/800 [00:00<?, ?it/s]",
      "application/vnd.jupyter.widget-view+json": {
       "version_major": 2,
       "version_minor": 0,
       "model_id": "4a9dd3f50c46424da670f4b8ab980dfb"
      }
     },
     "metadata": {},
     "output_type": "display_data"
    },
    {
     "data": {
      "text/plain": "  0%|          | 0/800 [00:00<?, ?it/s]",
      "application/vnd.jupyter.widget-view+json": {
       "version_major": 2,
       "version_minor": 0,
       "model_id": "39284fb21b5149d097ba50644bcfa48d"
      }
     },
     "metadata": {},
     "output_type": "display_data"
    },
    {
     "data": {
      "text/plain": "  0%|          | 0/800 [00:00<?, ?it/s]",
      "application/vnd.jupyter.widget-view+json": {
       "version_major": 2,
       "version_minor": 0,
       "model_id": "4e834f9d1f74482eb4e5e4f8784a5d35"
      }
     },
     "metadata": {},
     "output_type": "display_data"
    },
    {
     "data": {
      "text/plain": "  0%|          | 0/800 [00:00<?, ?it/s]",
      "application/vnd.jupyter.widget-view+json": {
       "version_major": 2,
       "version_minor": 0,
       "model_id": "b85b51d628e3474db1f8329fbeeb348c"
      }
     },
     "metadata": {},
     "output_type": "display_data"
    },
    {
     "data": {
      "text/plain": "  0%|          | 0/800 [00:00<?, ?it/s]",
      "application/vnd.jupyter.widget-view+json": {
       "version_major": 2,
       "version_minor": 0,
       "model_id": "296ffa3307e340958a11925e46e3abc7"
      }
     },
     "metadata": {},
     "output_type": "display_data"
    },
    {
     "data": {
      "text/plain": "  0%|          | 0/800 [00:00<?, ?it/s]",
      "application/vnd.jupyter.widget-view+json": {
       "version_major": 2,
       "version_minor": 0,
       "model_id": "4792d14e28694a2b9da332686cb68879"
      }
     },
     "metadata": {},
     "output_type": "display_data"
    },
    {
     "data": {
      "text/plain": "  0%|          | 0/800 [00:00<?, ?it/s]",
      "application/vnd.jupyter.widget-view+json": {
       "version_major": 2,
       "version_minor": 0,
       "model_id": "53148d780e054f9a9a81fcefefd1d184"
      }
     },
     "metadata": {},
     "output_type": "display_data"
    },
    {
     "data": {
      "text/plain": "  0%|          | 0/800 [00:00<?, ?it/s]",
      "application/vnd.jupyter.widget-view+json": {
       "version_major": 2,
       "version_minor": 0,
       "model_id": "149b70b04cb544eda75aee73beb7cdfb"
      }
     },
     "metadata": {},
     "output_type": "display_data"
    },
    {
     "data": {
      "text/plain": "  0%|          | 0/800 [00:00<?, ?it/s]",
      "application/vnd.jupyter.widget-view+json": {
       "version_major": 2,
       "version_minor": 0,
       "model_id": "5d1c82f75b054bbdb97d94ed0c695caf"
      }
     },
     "metadata": {},
     "output_type": "display_data"
    },
    {
     "data": {
      "text/plain": "  0%|          | 0/800 [00:00<?, ?it/s]",
      "application/vnd.jupyter.widget-view+json": {
       "version_major": 2,
       "version_minor": 0,
       "model_id": "29ab19d59b004a15a7b8e6714d62dfa0"
      }
     },
     "metadata": {},
     "output_type": "display_data"
    },
    {
     "data": {
      "text/plain": "  0%|          | 0/800 [00:00<?, ?it/s]",
      "application/vnd.jupyter.widget-view+json": {
       "version_major": 2,
       "version_minor": 0,
       "model_id": "8ca5da9450cf455c8a4db1107ec53276"
      }
     },
     "metadata": {},
     "output_type": "display_data"
    },
    {
     "data": {
      "text/plain": "  0%|          | 0/800 [00:00<?, ?it/s]",
      "application/vnd.jupyter.widget-view+json": {
       "version_major": 2,
       "version_minor": 0,
       "model_id": "8877fafcbdf94967b746b4cadb027626"
      }
     },
     "metadata": {},
     "output_type": "display_data"
    },
    {
     "data": {
      "text/plain": "  0%|          | 0/800 [00:00<?, ?it/s]",
      "application/vnd.jupyter.widget-view+json": {
       "version_major": 2,
       "version_minor": 0,
       "model_id": "ee1afcf32a20466ca54b39d4dfe91ad9"
      }
     },
     "metadata": {},
     "output_type": "display_data"
    },
    {
     "data": {
      "text/plain": "  0%|          | 0/800 [00:00<?, ?it/s]",
      "application/vnd.jupyter.widget-view+json": {
       "version_major": 2,
       "version_minor": 0,
       "model_id": "1fa38bc38ae14979a9bd8415b7eb4e80"
      }
     },
     "metadata": {},
     "output_type": "display_data"
    },
    {
     "data": {
      "text/plain": "  0%|          | 0/800 [00:00<?, ?it/s]",
      "application/vnd.jupyter.widget-view+json": {
       "version_major": 2,
       "version_minor": 0,
       "model_id": "9a2795ae01424b518d0bf97af7f20d8e"
      }
     },
     "metadata": {},
     "output_type": "display_data"
    },
    {
     "data": {
      "text/plain": "  0%|          | 0/800 [00:00<?, ?it/s]",
      "application/vnd.jupyter.widget-view+json": {
       "version_major": 2,
       "version_minor": 0,
       "model_id": "ec6d92f318644f8fa05fa3e1028a4fb1"
      }
     },
     "metadata": {},
     "output_type": "display_data"
    },
    {
     "data": {
      "text/plain": "  0%|          | 0/800 [00:00<?, ?it/s]",
      "application/vnd.jupyter.widget-view+json": {
       "version_major": 2,
       "version_minor": 0,
       "model_id": "39f61a936a9f4e74b5451700927c04d1"
      }
     },
     "metadata": {},
     "output_type": "display_data"
    },
    {
     "data": {
      "text/plain": "  0%|          | 0/800 [00:00<?, ?it/s]",
      "application/vnd.jupyter.widget-view+json": {
       "version_major": 2,
       "version_minor": 0,
       "model_id": "9cc27166fd0c468f93045b63dea83809"
      }
     },
     "metadata": {},
     "output_type": "display_data"
    },
    {
     "data": {
      "text/plain": "  0%|          | 0/800 [00:00<?, ?it/s]",
      "application/vnd.jupyter.widget-view+json": {
       "version_major": 2,
       "version_minor": 0,
       "model_id": "75dc42b983714bcc86a3567eeede141a"
      }
     },
     "metadata": {},
     "output_type": "display_data"
    },
    {
     "data": {
      "text/plain": "  0%|          | 0/800 [00:00<?, ?it/s]",
      "application/vnd.jupyter.widget-view+json": {
       "version_major": 2,
       "version_minor": 0,
       "model_id": "b027b9243fc34f3c870bf8d7e7885ed1"
      }
     },
     "metadata": {},
     "output_type": "display_data"
    },
    {
     "data": {
      "text/plain": "  0%|          | 0/800 [00:00<?, ?it/s]",
      "application/vnd.jupyter.widget-view+json": {
       "version_major": 2,
       "version_minor": 0,
       "model_id": "aed7ede8c7d24e1390d9d45253fdc9fd"
      }
     },
     "metadata": {},
     "output_type": "display_data"
    },
    {
     "data": {
      "text/plain": "  0%|          | 0/800 [00:00<?, ?it/s]",
      "application/vnd.jupyter.widget-view+json": {
       "version_major": 2,
       "version_minor": 0,
       "model_id": "6aa16f35d86e4f3b8d5e19fa73e0e2df"
      }
     },
     "metadata": {},
     "output_type": "display_data"
    },
    {
     "data": {
      "text/plain": "  0%|          | 0/800 [00:00<?, ?it/s]",
      "application/vnd.jupyter.widget-view+json": {
       "version_major": 2,
       "version_minor": 0,
       "model_id": "4e2295bf3eb74a26b9e30e332da08ff7"
      }
     },
     "metadata": {},
     "output_type": "display_data"
    },
    {
     "data": {
      "text/plain": "  0%|          | 0/800 [00:00<?, ?it/s]",
      "application/vnd.jupyter.widget-view+json": {
       "version_major": 2,
       "version_minor": 0,
       "model_id": "a0f1725c714f4c368be71e05397a96e7"
      }
     },
     "metadata": {},
     "output_type": "display_data"
    },
    {
     "data": {
      "text/plain": "  0%|          | 0/800 [00:00<?, ?it/s]",
      "application/vnd.jupyter.widget-view+json": {
       "version_major": 2,
       "version_minor": 0,
       "model_id": "c923553af6ad43baa9ed83db03cdf4bc"
      }
     },
     "metadata": {},
     "output_type": "display_data"
    },
    {
     "data": {
      "text/plain": "  0%|          | 0/800 [00:00<?, ?it/s]",
      "application/vnd.jupyter.widget-view+json": {
       "version_major": 2,
       "version_minor": 0,
       "model_id": "5bdf04c5d06f41e08f205144e12d06db"
      }
     },
     "metadata": {},
     "output_type": "display_data"
    },
    {
     "data": {
      "text/plain": "  0%|          | 0/800 [00:00<?, ?it/s]",
      "application/vnd.jupyter.widget-view+json": {
       "version_major": 2,
       "version_minor": 0,
       "model_id": "2d848eca98d1403f967a61a6951dc618"
      }
     },
     "metadata": {},
     "output_type": "display_data"
    },
    {
     "data": {
      "text/plain": "  0%|          | 0/800 [00:00<?, ?it/s]",
      "application/vnd.jupyter.widget-view+json": {
       "version_major": 2,
       "version_minor": 0,
       "model_id": "a986b55042fa46ef890b152778a8f69e"
      }
     },
     "metadata": {},
     "output_type": "display_data"
    },
    {
     "data": {
      "text/plain": "  0%|          | 0/800 [00:00<?, ?it/s]",
      "application/vnd.jupyter.widget-view+json": {
       "version_major": 2,
       "version_minor": 0,
       "model_id": "258f7308814d4478bec27e695824fb78"
      }
     },
     "metadata": {},
     "output_type": "display_data"
    },
    {
     "data": {
      "text/plain": "  0%|          | 0/800 [00:00<?, ?it/s]",
      "application/vnd.jupyter.widget-view+json": {
       "version_major": 2,
       "version_minor": 0,
       "model_id": "a6892d643a8c4d27b56880bfd73b551c"
      }
     },
     "metadata": {},
     "output_type": "display_data"
    },
    {
     "data": {
      "text/plain": "  0%|          | 0/800 [00:00<?, ?it/s]",
      "application/vnd.jupyter.widget-view+json": {
       "version_major": 2,
       "version_minor": 0,
       "model_id": "8b11796b3e5b40cf9d6e83c76c64d601"
      }
     },
     "metadata": {},
     "output_type": "display_data"
    },
    {
     "data": {
      "text/plain": "  0%|          | 0/800 [00:00<?, ?it/s]",
      "application/vnd.jupyter.widget-view+json": {
       "version_major": 2,
       "version_minor": 0,
       "model_id": "b280fc0e3c8d470f910f8f7a76fb5404"
      }
     },
     "metadata": {},
     "output_type": "display_data"
    },
    {
     "data": {
      "text/plain": "  0%|          | 0/800 [00:00<?, ?it/s]",
      "application/vnd.jupyter.widget-view+json": {
       "version_major": 2,
       "version_minor": 0,
       "model_id": "56ac0c06b80c49dda2088d4bca0f590e"
      }
     },
     "metadata": {},
     "output_type": "display_data"
    },
    {
     "data": {
      "text/plain": "  0%|          | 0/800 [00:00<?, ?it/s]",
      "application/vnd.jupyter.widget-view+json": {
       "version_major": 2,
       "version_minor": 0,
       "model_id": "678135e26a994af2bfe0c87cdd9888b6"
      }
     },
     "metadata": {},
     "output_type": "display_data"
    },
    {
     "data": {
      "text/plain": "  0%|          | 0/800 [00:00<?, ?it/s]",
      "application/vnd.jupyter.widget-view+json": {
       "version_major": 2,
       "version_minor": 0,
       "model_id": "3b2b59b37c4b4b20aa3990aa276e7934"
      }
     },
     "metadata": {},
     "output_type": "display_data"
    },
    {
     "data": {
      "text/plain": "  0%|          | 0/800 [00:00<?, ?it/s]",
      "application/vnd.jupyter.widget-view+json": {
       "version_major": 2,
       "version_minor": 0,
       "model_id": "6d14a2844f484926b52891894d84eae3"
      }
     },
     "metadata": {},
     "output_type": "display_data"
    },
    {
     "data": {
      "text/plain": "  0%|          | 0/800 [00:00<?, ?it/s]",
      "application/vnd.jupyter.widget-view+json": {
       "version_major": 2,
       "version_minor": 0,
       "model_id": "5c310de8dbd14db0abd8a8701c7a48a7"
      }
     },
     "metadata": {},
     "output_type": "display_data"
    },
    {
     "data": {
      "text/plain": "  0%|          | 0/800 [00:00<?, ?it/s]",
      "application/vnd.jupyter.widget-view+json": {
       "version_major": 2,
       "version_minor": 0,
       "model_id": "2fc7186e6ee2499c96351ee01ad99abc"
      }
     },
     "metadata": {},
     "output_type": "display_data"
    },
    {
     "data": {
      "text/plain": "  0%|          | 0/800 [00:00<?, ?it/s]",
      "application/vnd.jupyter.widget-view+json": {
       "version_major": 2,
       "version_minor": 0,
       "model_id": "98d2ee856fcb4164a15d3826a576ef87"
      }
     },
     "metadata": {},
     "output_type": "display_data"
    },
    {
     "data": {
      "text/plain": "  0%|          | 0/800 [00:00<?, ?it/s]",
      "application/vnd.jupyter.widget-view+json": {
       "version_major": 2,
       "version_minor": 0,
       "model_id": "025ffb19614d420ea6766e6c541e3d2b"
      }
     },
     "metadata": {},
     "output_type": "display_data"
    },
    {
     "data": {
      "text/plain": "  0%|          | 0/800 [00:00<?, ?it/s]",
      "application/vnd.jupyter.widget-view+json": {
       "version_major": 2,
       "version_minor": 0,
       "model_id": "80a2397013784a9190648d55e74da144"
      }
     },
     "metadata": {},
     "output_type": "display_data"
    },
    {
     "data": {
      "text/plain": "  0%|          | 0/800 [00:00<?, ?it/s]",
      "application/vnd.jupyter.widget-view+json": {
       "version_major": 2,
       "version_minor": 0,
       "model_id": "9a21211e690c4f1580f3a4242cb5f372"
      }
     },
     "metadata": {},
     "output_type": "display_data"
    },
    {
     "data": {
      "text/plain": "  0%|          | 0/800 [00:00<?, ?it/s]",
      "application/vnd.jupyter.widget-view+json": {
       "version_major": 2,
       "version_minor": 0,
       "model_id": "a9ff538287b54edfb3155cab6cb235c6"
      }
     },
     "metadata": {},
     "output_type": "display_data"
    },
    {
     "data": {
      "text/plain": "  0%|          | 0/800 [00:00<?, ?it/s]",
      "application/vnd.jupyter.widget-view+json": {
       "version_major": 2,
       "version_minor": 0,
       "model_id": "6f87643a82aa4fd58f39caf20a14590f"
      }
     },
     "metadata": {},
     "output_type": "display_data"
    },
    {
     "data": {
      "text/plain": "  0%|          | 0/800 [00:00<?, ?it/s]",
      "application/vnd.jupyter.widget-view+json": {
       "version_major": 2,
       "version_minor": 0,
       "model_id": "bc2006efd7e34fabacb04a65562cdaa6"
      }
     },
     "metadata": {},
     "output_type": "display_data"
    },
    {
     "data": {
      "text/plain": "  0%|          | 0/800 [00:00<?, ?it/s]",
      "application/vnd.jupyter.widget-view+json": {
       "version_major": 2,
       "version_minor": 0,
       "model_id": "5adb5497b9784b50943956b2dbb379c0"
      }
     },
     "metadata": {},
     "output_type": "display_data"
    },
    {
     "data": {
      "text/plain": "  0%|          | 0/800 [00:00<?, ?it/s]",
      "application/vnd.jupyter.widget-view+json": {
       "version_major": 2,
       "version_minor": 0,
       "model_id": "51333bf1171c420d88ff4fd61e42bb64"
      }
     },
     "metadata": {},
     "output_type": "display_data"
    },
    {
     "data": {
      "text/plain": "  0%|          | 0/800 [00:00<?, ?it/s]",
      "application/vnd.jupyter.widget-view+json": {
       "version_major": 2,
       "version_minor": 0,
       "model_id": "d4c385d7ab5e4cf297a28d1c0240e064"
      }
     },
     "metadata": {},
     "output_type": "display_data"
    },
    {
     "data": {
      "text/plain": "  0%|          | 0/800 [00:00<?, ?it/s]",
      "application/vnd.jupyter.widget-view+json": {
       "version_major": 2,
       "version_minor": 0,
       "model_id": "7e40dbb82f9942e98415e2957d4a1fe8"
      }
     },
     "metadata": {},
     "output_type": "display_data"
    },
    {
     "data": {
      "text/plain": "  0%|          | 0/800 [00:00<?, ?it/s]",
      "application/vnd.jupyter.widget-view+json": {
       "version_major": 2,
       "version_minor": 0,
       "model_id": "9e450e93807f489680c7f7fbed6f0706"
      }
     },
     "metadata": {},
     "output_type": "display_data"
    },
    {
     "data": {
      "text/plain": "  0%|          | 0/800 [00:00<?, ?it/s]",
      "application/vnd.jupyter.widget-view+json": {
       "version_major": 2,
       "version_minor": 0,
       "model_id": "ef42997160b64aeea6046b92021b4806"
      }
     },
     "metadata": {},
     "output_type": "display_data"
    },
    {
     "data": {
      "text/plain": "  0%|          | 0/800 [00:00<?, ?it/s]",
      "application/vnd.jupyter.widget-view+json": {
       "version_major": 2,
       "version_minor": 0,
       "model_id": "6c6ded1cf80b49a289ff5bab58b8c993"
      }
     },
     "metadata": {},
     "output_type": "display_data"
    },
    {
     "data": {
      "text/plain": "  0%|          | 0/800 [00:00<?, ?it/s]",
      "application/vnd.jupyter.widget-view+json": {
       "version_major": 2,
       "version_minor": 0,
       "model_id": "b1549f521c404092bca5cf8536b6dccc"
      }
     },
     "metadata": {},
     "output_type": "display_data"
    },
    {
     "data": {
      "text/plain": "  0%|          | 0/800 [00:00<?, ?it/s]",
      "application/vnd.jupyter.widget-view+json": {
       "version_major": 2,
       "version_minor": 0,
       "model_id": "486f811d45dd4c7c9049055121fe2da0"
      }
     },
     "metadata": {},
     "output_type": "display_data"
    },
    {
     "data": {
      "text/plain": "  0%|          | 0/800 [00:00<?, ?it/s]",
      "application/vnd.jupyter.widget-view+json": {
       "version_major": 2,
       "version_minor": 0,
       "model_id": "906c03b281c44ece8b644605c6bcd6d7"
      }
     },
     "metadata": {},
     "output_type": "display_data"
    },
    {
     "data": {
      "text/plain": "  0%|          | 0/800 [00:00<?, ?it/s]",
      "application/vnd.jupyter.widget-view+json": {
       "version_major": 2,
       "version_minor": 0,
       "model_id": "a3bea1701f6a423485bdbc4b6834cf96"
      }
     },
     "metadata": {},
     "output_type": "display_data"
    },
    {
     "data": {
      "text/plain": "  0%|          | 0/800 [00:00<?, ?it/s]",
      "application/vnd.jupyter.widget-view+json": {
       "version_major": 2,
       "version_minor": 0,
       "model_id": "d6e625e8d4d5489bbb8c204882650fa1"
      }
     },
     "metadata": {},
     "output_type": "display_data"
    },
    {
     "data": {
      "text/plain": "  0%|          | 0/800 [00:00<?, ?it/s]",
      "application/vnd.jupyter.widget-view+json": {
       "version_major": 2,
       "version_minor": 0,
       "model_id": "9eab47cc4b7240a8a7c1380986d59041"
      }
     },
     "metadata": {},
     "output_type": "display_data"
    },
    {
     "data": {
      "text/plain": "  0%|          | 0/800 [00:00<?, ?it/s]",
      "application/vnd.jupyter.widget-view+json": {
       "version_major": 2,
       "version_minor": 0,
       "model_id": "cc33cd0288de488796401af37ae637f8"
      }
     },
     "metadata": {},
     "output_type": "display_data"
    },
    {
     "data": {
      "text/plain": "  0%|          | 0/800 [00:00<?, ?it/s]",
      "application/vnd.jupyter.widget-view+json": {
       "version_major": 2,
       "version_minor": 0,
       "model_id": "672b4489e4004f7bb83ecce8bd951054"
      }
     },
     "metadata": {},
     "output_type": "display_data"
    },
    {
     "data": {
      "text/plain": "  0%|          | 0/800 [00:00<?, ?it/s]",
      "application/vnd.jupyter.widget-view+json": {
       "version_major": 2,
       "version_minor": 0,
       "model_id": "dfe201cdac304404957f860a9de5b2ef"
      }
     },
     "metadata": {},
     "output_type": "display_data"
    },
    {
     "data": {
      "text/plain": "  0%|          | 0/800 [00:00<?, ?it/s]",
      "application/vnd.jupyter.widget-view+json": {
       "version_major": 2,
       "version_minor": 0,
       "model_id": "9a8d0dadd52647d08f0ee632da03a6a8"
      }
     },
     "metadata": {},
     "output_type": "display_data"
    },
    {
     "data": {
      "text/plain": "  0%|          | 0/800 [00:00<?, ?it/s]",
      "application/vnd.jupyter.widget-view+json": {
       "version_major": 2,
       "version_minor": 0,
       "model_id": "3a4b5ac26863481c9dfa4f38dfbe7e3b"
      }
     },
     "metadata": {},
     "output_type": "display_data"
    },
    {
     "data": {
      "text/plain": "  0%|          | 0/800 [00:00<?, ?it/s]",
      "application/vnd.jupyter.widget-view+json": {
       "version_major": 2,
       "version_minor": 0,
       "model_id": "4f2552c081bc448da5a25f2e04fef1eb"
      }
     },
     "metadata": {},
     "output_type": "display_data"
    },
    {
     "data": {
      "text/plain": "  0%|          | 0/800 [00:00<?, ?it/s]",
      "application/vnd.jupyter.widget-view+json": {
       "version_major": 2,
       "version_minor": 0,
       "model_id": "d175035cf5c640f89348f2ea9c2b465d"
      }
     },
     "metadata": {},
     "output_type": "display_data"
    },
    {
     "data": {
      "text/plain": "  0%|          | 0/800 [00:00<?, ?it/s]",
      "application/vnd.jupyter.widget-view+json": {
       "version_major": 2,
       "version_minor": 0,
       "model_id": "59011bafd8b64053959dd98c761b244b"
      }
     },
     "metadata": {},
     "output_type": "display_data"
    },
    {
     "data": {
      "text/plain": "  0%|          | 0/800 [00:00<?, ?it/s]",
      "application/vnd.jupyter.widget-view+json": {
       "version_major": 2,
       "version_minor": 0,
       "model_id": "4df796022e0f4711b124d5a13fbb09e8"
      }
     },
     "metadata": {},
     "output_type": "display_data"
    },
    {
     "data": {
      "text/plain": "  0%|          | 0/800 [00:00<?, ?it/s]",
      "application/vnd.jupyter.widget-view+json": {
       "version_major": 2,
       "version_minor": 0,
       "model_id": "42b96f2045f349d289b6414c948a457a"
      }
     },
     "metadata": {},
     "output_type": "display_data"
    },
    {
     "data": {
      "text/plain": "  0%|          | 0/800 [00:00<?, ?it/s]",
      "application/vnd.jupyter.widget-view+json": {
       "version_major": 2,
       "version_minor": 0,
       "model_id": "14a38b9cee6c402f8f916b759a87c569"
      }
     },
     "metadata": {},
     "output_type": "display_data"
    },
    {
     "data": {
      "text/plain": "  0%|          | 0/800 [00:00<?, ?it/s]",
      "application/vnd.jupyter.widget-view+json": {
       "version_major": 2,
       "version_minor": 0,
       "model_id": "096332f27153474e8c535b356e2508ff"
      }
     },
     "metadata": {},
     "output_type": "display_data"
    },
    {
     "data": {
      "text/plain": "  0%|          | 0/800 [00:00<?, ?it/s]",
      "application/vnd.jupyter.widget-view+json": {
       "version_major": 2,
       "version_minor": 0,
       "model_id": "0ea38830de4b4e96b2a948c2a0c25bdd"
      }
     },
     "metadata": {},
     "output_type": "display_data"
    },
    {
     "data": {
      "text/plain": "  0%|          | 0/800 [00:00<?, ?it/s]",
      "application/vnd.jupyter.widget-view+json": {
       "version_major": 2,
       "version_minor": 0,
       "model_id": "d9dd73c5de62454aabcc491c226fed23"
      }
     },
     "metadata": {},
     "output_type": "display_data"
    },
    {
     "data": {
      "text/plain": "  0%|          | 0/800 [00:00<?, ?it/s]",
      "application/vnd.jupyter.widget-view+json": {
       "version_major": 2,
       "version_minor": 0,
       "model_id": "a130e6d3acaa4d0c9170f47433fdf02a"
      }
     },
     "metadata": {},
     "output_type": "display_data"
    },
    {
     "data": {
      "text/plain": "  0%|          | 0/800 [00:00<?, ?it/s]",
      "application/vnd.jupyter.widget-view+json": {
       "version_major": 2,
       "version_minor": 0,
       "model_id": "b4aa5f26fe1f451599a14f8e2824cf1b"
      }
     },
     "metadata": {},
     "output_type": "display_data"
    },
    {
     "data": {
      "text/plain": "  0%|          | 0/800 [00:00<?, ?it/s]",
      "application/vnd.jupyter.widget-view+json": {
       "version_major": 2,
       "version_minor": 0,
       "model_id": "c4ece71aa2aa4b09837e6fd0e89bc8c2"
      }
     },
     "metadata": {},
     "output_type": "display_data"
    },
    {
     "data": {
      "text/plain": "  0%|          | 0/800 [00:00<?, ?it/s]",
      "application/vnd.jupyter.widget-view+json": {
       "version_major": 2,
       "version_minor": 0,
       "model_id": "ba64cfaf38c740b28b3e7681c5c08663"
      }
     },
     "metadata": {},
     "output_type": "display_data"
    },
    {
     "data": {
      "text/plain": "  0%|          | 0/800 [00:00<?, ?it/s]",
      "application/vnd.jupyter.widget-view+json": {
       "version_major": 2,
       "version_minor": 0,
       "model_id": "3a57d07b610b490280dc7b26d42aa4ba"
      }
     },
     "metadata": {},
     "output_type": "display_data"
    },
    {
     "data": {
      "text/plain": "  0%|          | 0/800 [00:00<?, ?it/s]",
      "application/vnd.jupyter.widget-view+json": {
       "version_major": 2,
       "version_minor": 0,
       "model_id": "e273d4dc43ed40ab80597c3571478ca6"
      }
     },
     "metadata": {},
     "output_type": "display_data"
    },
    {
     "data": {
      "text/plain": "  0%|          | 0/800 [00:00<?, ?it/s]",
      "application/vnd.jupyter.widget-view+json": {
       "version_major": 2,
       "version_minor": 0,
       "model_id": "a4cc0268be2e42929ecddb473aee8bcf"
      }
     },
     "metadata": {},
     "output_type": "display_data"
    },
    {
     "data": {
      "text/plain": "  0%|          | 0/800 [00:00<?, ?it/s]",
      "application/vnd.jupyter.widget-view+json": {
       "version_major": 2,
       "version_minor": 0,
       "model_id": "f8c56fb88e7a490e89227cf878d1b686"
      }
     },
     "metadata": {},
     "output_type": "display_data"
    },
    {
     "data": {
      "text/plain": "  0%|          | 0/800 [00:00<?, ?it/s]",
      "application/vnd.jupyter.widget-view+json": {
       "version_major": 2,
       "version_minor": 0,
       "model_id": "0ef3956ea3ae42cea702e1ba6da910e6"
      }
     },
     "metadata": {},
     "output_type": "display_data"
    },
    {
     "data": {
      "text/plain": "  0%|          | 0/800 [00:00<?, ?it/s]",
      "application/vnd.jupyter.widget-view+json": {
       "version_major": 2,
       "version_minor": 0,
       "model_id": "76f274b4c3224e92be62c7696b8c72e7"
      }
     },
     "metadata": {},
     "output_type": "display_data"
    },
    {
     "data": {
      "text/plain": "  0%|          | 0/800 [00:00<?, ?it/s]",
      "application/vnd.jupyter.widget-view+json": {
       "version_major": 2,
       "version_minor": 0,
       "model_id": "3be2a292a887429da9e24b4c119cbf58"
      }
     },
     "metadata": {},
     "output_type": "display_data"
    },
    {
     "data": {
      "text/plain": "  0%|          | 0/800 [00:00<?, ?it/s]",
      "application/vnd.jupyter.widget-view+json": {
       "version_major": 2,
       "version_minor": 0,
       "model_id": "05000cb6f16b485e81d65d87c3b9abf8"
      }
     },
     "metadata": {},
     "output_type": "display_data"
    },
    {
     "data": {
      "text/plain": "  0%|          | 0/800 [00:00<?, ?it/s]",
      "application/vnd.jupyter.widget-view+json": {
       "version_major": 2,
       "version_minor": 0,
       "model_id": "2b044891e57c482dbdcaf4a9b911e5ce"
      }
     },
     "metadata": {},
     "output_type": "display_data"
    },
    {
     "data": {
      "text/plain": "  0%|          | 0/800 [00:00<?, ?it/s]",
      "application/vnd.jupyter.widget-view+json": {
       "version_major": 2,
       "version_minor": 0,
       "model_id": "9a98ca2293d14d198e6225220fef15ee"
      }
     },
     "metadata": {},
     "output_type": "display_data"
    },
    {
     "data": {
      "text/plain": "  0%|          | 0/800 [00:00<?, ?it/s]",
      "application/vnd.jupyter.widget-view+json": {
       "version_major": 2,
       "version_minor": 0,
       "model_id": "6e491adef997431585a4d6f312729ff2"
      }
     },
     "metadata": {},
     "output_type": "display_data"
    },
    {
     "data": {
      "text/plain": "  0%|          | 0/800 [00:00<?, ?it/s]",
      "application/vnd.jupyter.widget-view+json": {
       "version_major": 2,
       "version_minor": 0,
       "model_id": "ea2849b19d0f471ebadf4ff6763cde86"
      }
     },
     "metadata": {},
     "output_type": "display_data"
    },
    {
     "data": {
      "text/plain": "  0%|          | 0/800 [00:00<?, ?it/s]",
      "application/vnd.jupyter.widget-view+json": {
       "version_major": 2,
       "version_minor": 0,
       "model_id": "745f27fd5e3f4db1957a4d27195a32c3"
      }
     },
     "metadata": {},
     "output_type": "display_data"
    },
    {
     "data": {
      "text/plain": "  0%|          | 0/800 [00:00<?, ?it/s]",
      "application/vnd.jupyter.widget-view+json": {
       "version_major": 2,
       "version_minor": 0,
       "model_id": "d2367b4c47fd461e8a4f6e1fc9545664"
      }
     },
     "metadata": {},
     "output_type": "display_data"
    },
    {
     "data": {
      "text/plain": "  0%|          | 0/800 [00:00<?, ?it/s]",
      "application/vnd.jupyter.widget-view+json": {
       "version_major": 2,
       "version_minor": 0,
       "model_id": "487747da0b624ca5971e1591bcaeca9b"
      }
     },
     "metadata": {},
     "output_type": "display_data"
    },
    {
     "data": {
      "text/plain": "  0%|          | 0/800 [00:00<?, ?it/s]",
      "application/vnd.jupyter.widget-view+json": {
       "version_major": 2,
       "version_minor": 0,
       "model_id": "09bf4646c3df4d649cdbb4d012d22a4e"
      }
     },
     "metadata": {},
     "output_type": "display_data"
    },
    {
     "data": {
      "text/plain": "  0%|          | 0/800 [00:00<?, ?it/s]",
      "application/vnd.jupyter.widget-view+json": {
       "version_major": 2,
       "version_minor": 0,
       "model_id": "7ba57db2febf407cb2462af69e099c99"
      }
     },
     "metadata": {},
     "output_type": "display_data"
    },
    {
     "data": {
      "text/plain": "  0%|          | 0/800 [00:00<?, ?it/s]",
      "application/vnd.jupyter.widget-view+json": {
       "version_major": 2,
       "version_minor": 0,
       "model_id": "46c777ed391447c6ac807f5db60bcd59"
      }
     },
     "metadata": {},
     "output_type": "display_data"
    },
    {
     "data": {
      "text/plain": "  0%|          | 0/800 [00:00<?, ?it/s]",
      "application/vnd.jupyter.widget-view+json": {
       "version_major": 2,
       "version_minor": 0,
       "model_id": "fb6aed5cbf384ce6a35e75e3ce5da5f3"
      }
     },
     "metadata": {},
     "output_type": "display_data"
    },
    {
     "data": {
      "text/plain": "  0%|          | 0/800 [00:00<?, ?it/s]",
      "application/vnd.jupyter.widget-view+json": {
       "version_major": 2,
       "version_minor": 0,
       "model_id": "c82d589b365a4bdc9001e382654ee581"
      }
     },
     "metadata": {},
     "output_type": "display_data"
    },
    {
     "data": {
      "text/plain": "  0%|          | 0/800 [00:00<?, ?it/s]",
      "application/vnd.jupyter.widget-view+json": {
       "version_major": 2,
       "version_minor": 0,
       "model_id": "ec56883717d04798a9e8637f0fe0e8cb"
      }
     },
     "metadata": {},
     "output_type": "display_data"
    },
    {
     "data": {
      "text/plain": "  0%|          | 0/800 [00:00<?, ?it/s]",
      "application/vnd.jupyter.widget-view+json": {
       "version_major": 2,
       "version_minor": 0,
       "model_id": "a3c1428478584706a48a2b8582554e80"
      }
     },
     "metadata": {},
     "output_type": "display_data"
    },
    {
     "data": {
      "text/plain": "  0%|          | 0/800 [00:00<?, ?it/s]",
      "application/vnd.jupyter.widget-view+json": {
       "version_major": 2,
       "version_minor": 0,
       "model_id": "d88e43fa370b496697abf06ed2a5e77e"
      }
     },
     "metadata": {},
     "output_type": "display_data"
    },
    {
     "data": {
      "text/plain": "  0%|          | 0/800 [00:00<?, ?it/s]",
      "application/vnd.jupyter.widget-view+json": {
       "version_major": 2,
       "version_minor": 0,
       "model_id": "25809f07640046378357ed647bdc1c12"
      }
     },
     "metadata": {},
     "output_type": "display_data"
    },
    {
     "data": {
      "text/plain": "  0%|          | 0/800 [00:00<?, ?it/s]",
      "application/vnd.jupyter.widget-view+json": {
       "version_major": 2,
       "version_minor": 0,
       "model_id": "cc43ee073e914deebfb5da3b8432ddba"
      }
     },
     "metadata": {},
     "output_type": "display_data"
    },
    {
     "data": {
      "text/plain": "  0%|          | 0/800 [00:00<?, ?it/s]",
      "application/vnd.jupyter.widget-view+json": {
       "version_major": 2,
       "version_minor": 0,
       "model_id": "8d19ef4596ae4d66a98e252d29fda3e5"
      }
     },
     "metadata": {},
     "output_type": "display_data"
    },
    {
     "data": {
      "text/plain": "  0%|          | 0/800 [00:00<?, ?it/s]",
      "application/vnd.jupyter.widget-view+json": {
       "version_major": 2,
       "version_minor": 0,
       "model_id": "d2afd5b185b64d59aa959611f68a1681"
      }
     },
     "metadata": {},
     "output_type": "display_data"
    },
    {
     "data": {
      "text/plain": "  0%|          | 0/800 [00:00<?, ?it/s]",
      "application/vnd.jupyter.widget-view+json": {
       "version_major": 2,
       "version_minor": 0,
       "model_id": "fd5d5785de3d4118ad03579c7b5a3454"
      }
     },
     "metadata": {},
     "output_type": "display_data"
    },
    {
     "data": {
      "text/plain": "  0%|          | 0/800 [00:00<?, ?it/s]",
      "application/vnd.jupyter.widget-view+json": {
       "version_major": 2,
       "version_minor": 0,
       "model_id": "16232955bae841ea826f9a9d74f04560"
      }
     },
     "metadata": {},
     "output_type": "display_data"
    },
    {
     "data": {
      "text/plain": "  0%|          | 0/800 [00:00<?, ?it/s]",
      "application/vnd.jupyter.widget-view+json": {
       "version_major": 2,
       "version_minor": 0,
       "model_id": "b1f99238f56c4321b40f21afcb44c2b9"
      }
     },
     "metadata": {},
     "output_type": "display_data"
    },
    {
     "data": {
      "text/plain": "  0%|          | 0/800 [00:00<?, ?it/s]",
      "application/vnd.jupyter.widget-view+json": {
       "version_major": 2,
       "version_minor": 0,
       "model_id": "2f764b5ada444d8ba65f2a1e1eabd50e"
      }
     },
     "metadata": {},
     "output_type": "display_data"
    },
    {
     "data": {
      "text/plain": "  0%|          | 0/800 [00:00<?, ?it/s]",
      "application/vnd.jupyter.widget-view+json": {
       "version_major": 2,
       "version_minor": 0,
       "model_id": "49d3102c3e294e3bb9f34066b39af714"
      }
     },
     "metadata": {},
     "output_type": "display_data"
    },
    {
     "data": {
      "text/plain": "  0%|          | 0/800 [00:00<?, ?it/s]",
      "application/vnd.jupyter.widget-view+json": {
       "version_major": 2,
       "version_minor": 0,
       "model_id": "f1f2433e26bb45f682bc45895a88f0be"
      }
     },
     "metadata": {},
     "output_type": "display_data"
    },
    {
     "data": {
      "text/plain": "  0%|          | 0/800 [00:00<?, ?it/s]",
      "application/vnd.jupyter.widget-view+json": {
       "version_major": 2,
       "version_minor": 0,
       "model_id": "6d571bce0bbd42a2b85b6e16a5799f73"
      }
     },
     "metadata": {},
     "output_type": "display_data"
    },
    {
     "data": {
      "text/plain": "  0%|          | 0/800 [00:00<?, ?it/s]",
      "application/vnd.jupyter.widget-view+json": {
       "version_major": 2,
       "version_minor": 0,
       "model_id": "25f8d34f0acb43a7a84f547d8a89d1ba"
      }
     },
     "metadata": {},
     "output_type": "display_data"
    },
    {
     "data": {
      "text/plain": "  0%|          | 0/800 [00:00<?, ?it/s]",
      "application/vnd.jupyter.widget-view+json": {
       "version_major": 2,
       "version_minor": 0,
       "model_id": "36e0949e7da94d3c9af7520e79947e05"
      }
     },
     "metadata": {},
     "output_type": "display_data"
    },
    {
     "data": {
      "text/plain": "  0%|          | 0/800 [00:00<?, ?it/s]",
      "application/vnd.jupyter.widget-view+json": {
       "version_major": 2,
       "version_minor": 0,
       "model_id": "6971a9a962f041168ee916f51aa990a5"
      }
     },
     "metadata": {},
     "output_type": "display_data"
    },
    {
     "data": {
      "text/plain": "  0%|          | 0/800 [00:00<?, ?it/s]",
      "application/vnd.jupyter.widget-view+json": {
       "version_major": 2,
       "version_minor": 0,
       "model_id": "11376b2057464c6fb7948dc671235c41"
      }
     },
     "metadata": {},
     "output_type": "display_data"
    },
    {
     "data": {
      "text/plain": "  0%|          | 0/800 [00:00<?, ?it/s]",
      "application/vnd.jupyter.widget-view+json": {
       "version_major": 2,
       "version_minor": 0,
       "model_id": "945369746c714968a65c9c70139a8987"
      }
     },
     "metadata": {},
     "output_type": "display_data"
    },
    {
     "data": {
      "text/plain": "  0%|          | 0/800 [00:00<?, ?it/s]",
      "application/vnd.jupyter.widget-view+json": {
       "version_major": 2,
       "version_minor": 0,
       "model_id": "0b652ca995b24ef0a017cb797fc33ed6"
      }
     },
     "metadata": {},
     "output_type": "display_data"
    },
    {
     "data": {
      "text/plain": "  0%|          | 0/800 [00:00<?, ?it/s]",
      "application/vnd.jupyter.widget-view+json": {
       "version_major": 2,
       "version_minor": 0,
       "model_id": "f22090720a7e47c0972168ad08611ddb"
      }
     },
     "metadata": {},
     "output_type": "display_data"
    },
    {
     "data": {
      "text/plain": "  0%|          | 0/800 [00:00<?, ?it/s]",
      "application/vnd.jupyter.widget-view+json": {
       "version_major": 2,
       "version_minor": 0,
       "model_id": "d8b38d38dfee40178719dff464b7914b"
      }
     },
     "metadata": {},
     "output_type": "display_data"
    },
    {
     "data": {
      "text/plain": "  0%|          | 0/800 [00:00<?, ?it/s]",
      "application/vnd.jupyter.widget-view+json": {
       "version_major": 2,
       "version_minor": 0,
       "model_id": "20b4b0e677af4f6681206f074c2a6390"
      }
     },
     "metadata": {},
     "output_type": "display_data"
    },
    {
     "data": {
      "text/plain": "  0%|          | 0/800 [00:00<?, ?it/s]",
      "application/vnd.jupyter.widget-view+json": {
       "version_major": 2,
       "version_minor": 0,
       "model_id": "06d5bc4e78af4f40a5691132714e20de"
      }
     },
     "metadata": {},
     "output_type": "display_data"
    },
    {
     "data": {
      "text/plain": "  0%|          | 0/800 [00:00<?, ?it/s]",
      "application/vnd.jupyter.widget-view+json": {
       "version_major": 2,
       "version_minor": 0,
       "model_id": "45c46adceb5e423a94ffb9e09ed0522a"
      }
     },
     "metadata": {},
     "output_type": "display_data"
    },
    {
     "data": {
      "text/plain": "  0%|          | 0/800 [00:00<?, ?it/s]",
      "application/vnd.jupyter.widget-view+json": {
       "version_major": 2,
       "version_minor": 0,
       "model_id": "e18a224896dc440285472c15698da600"
      }
     },
     "metadata": {},
     "output_type": "display_data"
    },
    {
     "data": {
      "text/plain": "  0%|          | 0/800 [00:00<?, ?it/s]",
      "application/vnd.jupyter.widget-view+json": {
       "version_major": 2,
       "version_minor": 0,
       "model_id": "54fc7ae6f86b43549def434682077187"
      }
     },
     "metadata": {},
     "output_type": "display_data"
    },
    {
     "data": {
      "text/plain": "  0%|          | 0/800 [00:00<?, ?it/s]",
      "application/vnd.jupyter.widget-view+json": {
       "version_major": 2,
       "version_minor": 0,
       "model_id": "b1365e08218b4984bb84cbda2b800ca0"
      }
     },
     "metadata": {},
     "output_type": "display_data"
    },
    {
     "data": {
      "text/plain": "  0%|          | 0/800 [00:00<?, ?it/s]",
      "application/vnd.jupyter.widget-view+json": {
       "version_major": 2,
       "version_minor": 0,
       "model_id": "22044e280e024a1fa6d3bf018486ae70"
      }
     },
     "metadata": {},
     "output_type": "display_data"
    },
    {
     "data": {
      "text/plain": "  0%|          | 0/800 [00:00<?, ?it/s]",
      "application/vnd.jupyter.widget-view+json": {
       "version_major": 2,
       "version_minor": 0,
       "model_id": "a094cc554fa54fcd892b3b24ecad0043"
      }
     },
     "metadata": {},
     "output_type": "display_data"
    },
    {
     "data": {
      "text/plain": "  0%|          | 0/800 [00:00<?, ?it/s]",
      "application/vnd.jupyter.widget-view+json": {
       "version_major": 2,
       "version_minor": 0,
       "model_id": "299f4290a4a34823904542c70cb18d4f"
      }
     },
     "metadata": {},
     "output_type": "display_data"
    },
    {
     "data": {
      "text/plain": "  0%|          | 0/800 [00:00<?, ?it/s]",
      "application/vnd.jupyter.widget-view+json": {
       "version_major": 2,
       "version_minor": 0,
       "model_id": "346fcfd02da74932994924764efcd75a"
      }
     },
     "metadata": {},
     "output_type": "display_data"
    },
    {
     "data": {
      "text/plain": "  0%|          | 0/800 [00:00<?, ?it/s]",
      "application/vnd.jupyter.widget-view+json": {
       "version_major": 2,
       "version_minor": 0,
       "model_id": "9fb9e7f7c8e34937a4c4e5f8cfb907a4"
      }
     },
     "metadata": {},
     "output_type": "display_data"
    },
    {
     "data": {
      "text/plain": "  0%|          | 0/800 [00:00<?, ?it/s]",
      "application/vnd.jupyter.widget-view+json": {
       "version_major": 2,
       "version_minor": 0,
       "model_id": "ecfad7aad6264537b95e0931d3f9771a"
      }
     },
     "metadata": {},
     "output_type": "display_data"
    },
    {
     "data": {
      "text/plain": "  0%|          | 0/800 [00:00<?, ?it/s]",
      "application/vnd.jupyter.widget-view+json": {
       "version_major": 2,
       "version_minor": 0,
       "model_id": "46c03077c8904c93be6d8e50cb063b8e"
      }
     },
     "metadata": {},
     "output_type": "display_data"
    },
    {
     "data": {
      "text/plain": "  0%|          | 0/800 [00:00<?, ?it/s]",
      "application/vnd.jupyter.widget-view+json": {
       "version_major": 2,
       "version_minor": 0,
       "model_id": "54a7f211ad654728abdb20b946e3e338"
      }
     },
     "metadata": {},
     "output_type": "display_data"
    },
    {
     "data": {
      "text/plain": "  0%|          | 0/800 [00:00<?, ?it/s]",
      "application/vnd.jupyter.widget-view+json": {
       "version_major": 2,
       "version_minor": 0,
       "model_id": "b66a25dedc9144ed8c8bbc076e1378cd"
      }
     },
     "metadata": {},
     "output_type": "display_data"
    },
    {
     "data": {
      "text/plain": "  0%|          | 0/800 [00:00<?, ?it/s]",
      "application/vnd.jupyter.widget-view+json": {
       "version_major": 2,
       "version_minor": 0,
       "model_id": "f801085b4f6647ce83d765ca51cf3639"
      }
     },
     "metadata": {},
     "output_type": "display_data"
    },
    {
     "data": {
      "text/plain": "  0%|          | 0/800 [00:00<?, ?it/s]",
      "application/vnd.jupyter.widget-view+json": {
       "version_major": 2,
       "version_minor": 0,
       "model_id": "89e40149adec4e04bb30c78c6fffc09f"
      }
     },
     "metadata": {},
     "output_type": "display_data"
    },
    {
     "data": {
      "text/plain": "  0%|          | 0/800 [00:00<?, ?it/s]",
      "application/vnd.jupyter.widget-view+json": {
       "version_major": 2,
       "version_minor": 0,
       "model_id": "d19b99a649f54e3982b0879f4c2a9aa1"
      }
     },
     "metadata": {},
     "output_type": "display_data"
    },
    {
     "data": {
      "text/plain": "  0%|          | 0/800 [00:00<?, ?it/s]",
      "application/vnd.jupyter.widget-view+json": {
       "version_major": 2,
       "version_minor": 0,
       "model_id": "3c7bd531aedc4db8ae6e58680f7ade00"
      }
     },
     "metadata": {},
     "output_type": "display_data"
    },
    {
     "data": {
      "text/plain": "  0%|          | 0/800 [00:00<?, ?it/s]",
      "application/vnd.jupyter.widget-view+json": {
       "version_major": 2,
       "version_minor": 0,
       "model_id": "0967bb55074a4365b8d212cfb4ab8320"
      }
     },
     "metadata": {},
     "output_type": "display_data"
    },
    {
     "data": {
      "text/plain": "  0%|          | 0/800 [00:00<?, ?it/s]",
      "application/vnd.jupyter.widget-view+json": {
       "version_major": 2,
       "version_minor": 0,
       "model_id": "b9aaa249ab574b21994700a44d243660"
      }
     },
     "metadata": {},
     "output_type": "display_data"
    },
    {
     "data": {
      "text/plain": "  0%|          | 0/800 [00:00<?, ?it/s]",
      "application/vnd.jupyter.widget-view+json": {
       "version_major": 2,
       "version_minor": 0,
       "model_id": "9d7ad0e8872e462d8bd435388a1ca4ce"
      }
     },
     "metadata": {},
     "output_type": "display_data"
    },
    {
     "data": {
      "text/plain": "  0%|          | 0/800 [00:00<?, ?it/s]",
      "application/vnd.jupyter.widget-view+json": {
       "version_major": 2,
       "version_minor": 0,
       "model_id": "f2c62595f2f24458a56e88786ec6c8e6"
      }
     },
     "metadata": {},
     "output_type": "display_data"
    },
    {
     "data": {
      "text/plain": "  0%|          | 0/800 [00:00<?, ?it/s]",
      "application/vnd.jupyter.widget-view+json": {
       "version_major": 2,
       "version_minor": 0,
       "model_id": "caaa75df2f7448708d60d06d25b2c1a5"
      }
     },
     "metadata": {},
     "output_type": "display_data"
    },
    {
     "data": {
      "text/plain": "  0%|          | 0/800 [00:00<?, ?it/s]",
      "application/vnd.jupyter.widget-view+json": {
       "version_major": 2,
       "version_minor": 0,
       "model_id": "76e5d034c60e46c6bb5c8c1f4962ec60"
      }
     },
     "metadata": {},
     "output_type": "display_data"
    },
    {
     "data": {
      "text/plain": "  0%|          | 0/800 [00:00<?, ?it/s]",
      "application/vnd.jupyter.widget-view+json": {
       "version_major": 2,
       "version_minor": 0,
       "model_id": "10e6e501ba5f44fdb27259e2f21eec49"
      }
     },
     "metadata": {},
     "output_type": "display_data"
    },
    {
     "data": {
      "text/plain": "  0%|          | 0/800 [00:00<?, ?it/s]",
      "application/vnd.jupyter.widget-view+json": {
       "version_major": 2,
       "version_minor": 0,
       "model_id": "04abf4d0abf84f689c32040469ed1b32"
      }
     },
     "metadata": {},
     "output_type": "display_data"
    },
    {
     "data": {
      "text/plain": "  0%|          | 0/800 [00:00<?, ?it/s]",
      "application/vnd.jupyter.widget-view+json": {
       "version_major": 2,
       "version_minor": 0,
       "model_id": "7575f2d32d8146c89477f42b14898981"
      }
     },
     "metadata": {},
     "output_type": "display_data"
    },
    {
     "data": {
      "text/plain": "  0%|          | 0/800 [00:00<?, ?it/s]",
      "application/vnd.jupyter.widget-view+json": {
       "version_major": 2,
       "version_minor": 0,
       "model_id": "c1a10e7156234693a16bce022b38da06"
      }
     },
     "metadata": {},
     "output_type": "display_data"
    },
    {
     "data": {
      "text/plain": "  0%|          | 0/800 [00:00<?, ?it/s]",
      "application/vnd.jupyter.widget-view+json": {
       "version_major": 2,
       "version_minor": 0,
       "model_id": "817bf28ce8b44ce9866d6ce24207b221"
      }
     },
     "metadata": {},
     "output_type": "display_data"
    },
    {
     "data": {
      "text/plain": "  0%|          | 0/800 [00:00<?, ?it/s]",
      "application/vnd.jupyter.widget-view+json": {
       "version_major": 2,
       "version_minor": 0,
       "model_id": "871c1335006d44aba87a0fa2c7f500af"
      }
     },
     "metadata": {},
     "output_type": "display_data"
    },
    {
     "data": {
      "text/plain": "  0%|          | 0/800 [00:00<?, ?it/s]",
      "application/vnd.jupyter.widget-view+json": {
       "version_major": 2,
       "version_minor": 0,
       "model_id": "395668a1395f47bc88581113f3b7acd4"
      }
     },
     "metadata": {},
     "output_type": "display_data"
    },
    {
     "data": {
      "text/plain": "  0%|          | 0/800 [00:00<?, ?it/s]",
      "application/vnd.jupyter.widget-view+json": {
       "version_major": 2,
       "version_minor": 0,
       "model_id": "7f24fe22b3a7423c9a6e4a7adfb8f858"
      }
     },
     "metadata": {},
     "output_type": "display_data"
    },
    {
     "data": {
      "text/plain": "  0%|          | 0/800 [00:00<?, ?it/s]",
      "application/vnd.jupyter.widget-view+json": {
       "version_major": 2,
       "version_minor": 0,
       "model_id": "51658430bd984830987175a02146bada"
      }
     },
     "metadata": {},
     "output_type": "display_data"
    },
    {
     "data": {
      "text/plain": "  0%|          | 0/800 [00:00<?, ?it/s]",
      "application/vnd.jupyter.widget-view+json": {
       "version_major": 2,
       "version_minor": 0,
       "model_id": "578e11699b464d0e9733310fc1f0ef26"
      }
     },
     "metadata": {},
     "output_type": "display_data"
    },
    {
     "data": {
      "text/plain": "  0%|          | 0/800 [00:00<?, ?it/s]",
      "application/vnd.jupyter.widget-view+json": {
       "version_major": 2,
       "version_minor": 0,
       "model_id": "7114cbf79ea74068b14fdefa9949d105"
      }
     },
     "metadata": {},
     "output_type": "display_data"
    },
    {
     "data": {
      "text/plain": "  0%|          | 0/800 [00:00<?, ?it/s]",
      "application/vnd.jupyter.widget-view+json": {
       "version_major": 2,
       "version_minor": 0,
       "model_id": "fc88424687e74db0a9110dbdebf27f93"
      }
     },
     "metadata": {},
     "output_type": "display_data"
    },
    {
     "data": {
      "text/plain": "  0%|          | 0/800 [00:00<?, ?it/s]",
      "application/vnd.jupyter.widget-view+json": {
       "version_major": 2,
       "version_minor": 0,
       "model_id": "102c1e1340374d60a004bbd779d1f076"
      }
     },
     "metadata": {},
     "output_type": "display_data"
    },
    {
     "data": {
      "text/plain": "  0%|          | 0/800 [00:00<?, ?it/s]",
      "application/vnd.jupyter.widget-view+json": {
       "version_major": 2,
       "version_minor": 0,
       "model_id": "e96c425cbc224f64b4fa6e70be7cf015"
      }
     },
     "metadata": {},
     "output_type": "display_data"
    },
    {
     "data": {
      "text/plain": "  0%|          | 0/800 [00:00<?, ?it/s]",
      "application/vnd.jupyter.widget-view+json": {
       "version_major": 2,
       "version_minor": 0,
       "model_id": "7c99e9012f5747eb978ae631d698696c"
      }
     },
     "metadata": {},
     "output_type": "display_data"
    },
    {
     "data": {
      "text/plain": "  0%|          | 0/800 [00:00<?, ?it/s]",
      "application/vnd.jupyter.widget-view+json": {
       "version_major": 2,
       "version_minor": 0,
       "model_id": "41cb06b075f74418832967d25a10ce59"
      }
     },
     "metadata": {},
     "output_type": "display_data"
    },
    {
     "data": {
      "text/plain": "  0%|          | 0/800 [00:00<?, ?it/s]",
      "application/vnd.jupyter.widget-view+json": {
       "version_major": 2,
       "version_minor": 0,
       "model_id": "83e9c2dbdc3d4184be2e82e4df851283"
      }
     },
     "metadata": {},
     "output_type": "display_data"
    },
    {
     "data": {
      "text/plain": "  0%|          | 0/800 [00:00<?, ?it/s]",
      "application/vnd.jupyter.widget-view+json": {
       "version_major": 2,
       "version_minor": 0,
       "model_id": "c7a405cabf734a76a7b1343b4f52bead"
      }
     },
     "metadata": {},
     "output_type": "display_data"
    },
    {
     "data": {
      "text/plain": "  0%|          | 0/800 [00:00<?, ?it/s]",
      "application/vnd.jupyter.widget-view+json": {
       "version_major": 2,
       "version_minor": 0,
       "model_id": "9e0d181a47a14ef1ae19c875fd21970b"
      }
     },
     "metadata": {},
     "output_type": "display_data"
    },
    {
     "data": {
      "text/plain": "  0%|          | 0/800 [00:00<?, ?it/s]",
      "application/vnd.jupyter.widget-view+json": {
       "version_major": 2,
       "version_minor": 0,
       "model_id": "ce832c66f90e461fbaf8577e573642f4"
      }
     },
     "metadata": {},
     "output_type": "display_data"
    },
    {
     "data": {
      "text/plain": "  0%|          | 0/800 [00:00<?, ?it/s]",
      "application/vnd.jupyter.widget-view+json": {
       "version_major": 2,
       "version_minor": 0,
       "model_id": "15f025c6f4264a51916397ff4d0c25fb"
      }
     },
     "metadata": {},
     "output_type": "display_data"
    },
    {
     "data": {
      "text/plain": "  0%|          | 0/800 [00:00<?, ?it/s]",
      "application/vnd.jupyter.widget-view+json": {
       "version_major": 2,
       "version_minor": 0,
       "model_id": "2b6e11271eaf42f3bd1bd50222c260ab"
      }
     },
     "metadata": {},
     "output_type": "display_data"
    },
    {
     "data": {
      "text/plain": "  0%|          | 0/800 [00:00<?, ?it/s]",
      "application/vnd.jupyter.widget-view+json": {
       "version_major": 2,
       "version_minor": 0,
       "model_id": "49f72ccfe62d4e3bafd43a188913cc69"
      }
     },
     "metadata": {},
     "output_type": "display_data"
    },
    {
     "data": {
      "text/plain": "  0%|          | 0/800 [00:00<?, ?it/s]",
      "application/vnd.jupyter.widget-view+json": {
       "version_major": 2,
       "version_minor": 0,
       "model_id": "f315f4a864c0484d8983071e508cf667"
      }
     },
     "metadata": {},
     "output_type": "display_data"
    },
    {
     "data": {
      "text/plain": "  0%|          | 0/800 [00:00<?, ?it/s]",
      "application/vnd.jupyter.widget-view+json": {
       "version_major": 2,
       "version_minor": 0,
       "model_id": "3ba2c901dde34e2d8d12fcd40c8e12b9"
      }
     },
     "metadata": {},
     "output_type": "display_data"
    },
    {
     "data": {
      "text/plain": "  0%|          | 0/800 [00:00<?, ?it/s]",
      "application/vnd.jupyter.widget-view+json": {
       "version_major": 2,
       "version_minor": 0,
       "model_id": "cea41e76c49945908cb307af492e83a0"
      }
     },
     "metadata": {},
     "output_type": "display_data"
    },
    {
     "data": {
      "text/plain": "  0%|          | 0/800 [00:00<?, ?it/s]",
      "application/vnd.jupyter.widget-view+json": {
       "version_major": 2,
       "version_minor": 0,
       "model_id": "bb9a7838653a45da802431b8b6c67248"
      }
     },
     "metadata": {},
     "output_type": "display_data"
    },
    {
     "data": {
      "text/plain": "  0%|          | 0/800 [00:00<?, ?it/s]",
      "application/vnd.jupyter.widget-view+json": {
       "version_major": 2,
       "version_minor": 0,
       "model_id": "172e469cff06440dbc167e4748b3ac0e"
      }
     },
     "metadata": {},
     "output_type": "display_data"
    },
    {
     "data": {
      "text/plain": "  0%|          | 0/800 [00:00<?, ?it/s]",
      "application/vnd.jupyter.widget-view+json": {
       "version_major": 2,
       "version_minor": 0,
       "model_id": "fb55f352db5842c6856e84fa5c60e94c"
      }
     },
     "metadata": {},
     "output_type": "display_data"
    },
    {
     "data": {
      "text/plain": "  0%|          | 0/800 [00:00<?, ?it/s]",
      "application/vnd.jupyter.widget-view+json": {
       "version_major": 2,
       "version_minor": 0,
       "model_id": "986af12c395f4ff88afb4284f5011ec0"
      }
     },
     "metadata": {},
     "output_type": "display_data"
    },
    {
     "data": {
      "text/plain": "  0%|          | 0/800 [00:00<?, ?it/s]",
      "application/vnd.jupyter.widget-view+json": {
       "version_major": 2,
       "version_minor": 0,
       "model_id": "5f9c5d7760aa484dbf589c4d30a8c0e7"
      }
     },
     "metadata": {},
     "output_type": "display_data"
    },
    {
     "data": {
      "text/plain": "  0%|          | 0/800 [00:00<?, ?it/s]",
      "application/vnd.jupyter.widget-view+json": {
       "version_major": 2,
       "version_minor": 0,
       "model_id": "ba83f1201637434791a0827354a08793"
      }
     },
     "metadata": {},
     "output_type": "display_data"
    },
    {
     "data": {
      "text/plain": "  0%|          | 0/800 [00:00<?, ?it/s]",
      "application/vnd.jupyter.widget-view+json": {
       "version_major": 2,
       "version_minor": 0,
       "model_id": "79b4820fe5394e65975947689b557974"
      }
     },
     "metadata": {},
     "output_type": "display_data"
    },
    {
     "data": {
      "text/plain": "  0%|          | 0/800 [00:00<?, ?it/s]",
      "application/vnd.jupyter.widget-view+json": {
       "version_major": 2,
       "version_minor": 0,
       "model_id": "c2862651d56f408b8a69ee9970d75cfe"
      }
     },
     "metadata": {},
     "output_type": "display_data"
    },
    {
     "data": {
      "text/plain": "  0%|          | 0/800 [00:00<?, ?it/s]",
      "application/vnd.jupyter.widget-view+json": {
       "version_major": 2,
       "version_minor": 0,
       "model_id": "21e0384d1e3f44df8ec00a31921a4acb"
      }
     },
     "metadata": {},
     "output_type": "display_data"
    },
    {
     "data": {
      "text/plain": "  0%|          | 0/800 [00:00<?, ?it/s]",
      "application/vnd.jupyter.widget-view+json": {
       "version_major": 2,
       "version_minor": 0,
       "model_id": "0249539f16764ba9a42cf58326d8e7e0"
      }
     },
     "metadata": {},
     "output_type": "display_data"
    },
    {
     "data": {
      "text/plain": "  0%|          | 0/800 [00:00<?, ?it/s]",
      "application/vnd.jupyter.widget-view+json": {
       "version_major": 2,
       "version_minor": 0,
       "model_id": "0bd3f4857dee4f349249cfe9aa39508e"
      }
     },
     "metadata": {},
     "output_type": "display_data"
    },
    {
     "data": {
      "text/plain": "  0%|          | 0/800 [00:00<?, ?it/s]",
      "application/vnd.jupyter.widget-view+json": {
       "version_major": 2,
       "version_minor": 0,
       "model_id": "399f5cc191a64bb28cda73c533dea365"
      }
     },
     "metadata": {},
     "output_type": "display_data"
    },
    {
     "data": {
      "text/plain": "  0%|          | 0/800 [00:00<?, ?it/s]",
      "application/vnd.jupyter.widget-view+json": {
       "version_major": 2,
       "version_minor": 0,
       "model_id": "05ec68e4197f44158a85e146c8f7cc82"
      }
     },
     "metadata": {},
     "output_type": "display_data"
    },
    {
     "data": {
      "text/plain": "  0%|          | 0/800 [00:00<?, ?it/s]",
      "application/vnd.jupyter.widget-view+json": {
       "version_major": 2,
       "version_minor": 0,
       "model_id": "e72582d44c824616981d34bee7329eee"
      }
     },
     "metadata": {},
     "output_type": "display_data"
    },
    {
     "data": {
      "text/plain": "  0%|          | 0/800 [00:00<?, ?it/s]",
      "application/vnd.jupyter.widget-view+json": {
       "version_major": 2,
       "version_minor": 0,
       "model_id": "10d778bf25ee4677be99cad1fe6fbb1d"
      }
     },
     "metadata": {},
     "output_type": "display_data"
    },
    {
     "data": {
      "text/plain": "  0%|          | 0/800 [00:00<?, ?it/s]",
      "application/vnd.jupyter.widget-view+json": {
       "version_major": 2,
       "version_minor": 0,
       "model_id": "0d70209c82e642f38d6ef96ee26772e5"
      }
     },
     "metadata": {},
     "output_type": "display_data"
    },
    {
     "data": {
      "text/plain": "  0%|          | 0/800 [00:00<?, ?it/s]",
      "application/vnd.jupyter.widget-view+json": {
       "version_major": 2,
       "version_minor": 0,
       "model_id": "a3a15499c94b4c31b22cc0eaeb434602"
      }
     },
     "metadata": {},
     "output_type": "display_data"
    },
    {
     "data": {
      "text/plain": "  0%|          | 0/800 [00:00<?, ?it/s]",
      "application/vnd.jupyter.widget-view+json": {
       "version_major": 2,
       "version_minor": 0,
       "model_id": "29057aa3fda945c380b7ff0d71d935e5"
      }
     },
     "metadata": {},
     "output_type": "display_data"
    },
    {
     "data": {
      "text/plain": "  0%|          | 0/800 [00:00<?, ?it/s]",
      "application/vnd.jupyter.widget-view+json": {
       "version_major": 2,
       "version_minor": 0,
       "model_id": "c1e06f35f72f4b16a0bc947988824119"
      }
     },
     "metadata": {},
     "output_type": "display_data"
    },
    {
     "data": {
      "text/plain": "  0%|          | 0/800 [00:00<?, ?it/s]",
      "application/vnd.jupyter.widget-view+json": {
       "version_major": 2,
       "version_minor": 0,
       "model_id": "3b91cd22ceeb4051919c6da152517dbb"
      }
     },
     "metadata": {},
     "output_type": "display_data"
    },
    {
     "data": {
      "text/plain": "  0%|          | 0/800 [00:00<?, ?it/s]",
      "application/vnd.jupyter.widget-view+json": {
       "version_major": 2,
       "version_minor": 0,
       "model_id": "2b000092ac51451c9e6f9a4ae7ecea8b"
      }
     },
     "metadata": {},
     "output_type": "display_data"
    },
    {
     "data": {
      "text/plain": "  0%|          | 0/800 [00:00<?, ?it/s]",
      "application/vnd.jupyter.widget-view+json": {
       "version_major": 2,
       "version_minor": 0,
       "model_id": "1cd613bb8f0c426c908505255ebdf495"
      }
     },
     "metadata": {},
     "output_type": "display_data"
    },
    {
     "data": {
      "text/plain": "  0%|          | 0/800 [00:00<?, ?it/s]",
      "application/vnd.jupyter.widget-view+json": {
       "version_major": 2,
       "version_minor": 0,
       "model_id": "61617cda040444bcae5036976341fbd1"
      }
     },
     "metadata": {},
     "output_type": "display_data"
    },
    {
     "data": {
      "text/plain": "  0%|          | 0/800 [00:00<?, ?it/s]",
      "application/vnd.jupyter.widget-view+json": {
       "version_major": 2,
       "version_minor": 0,
       "model_id": "207811a8b75348daacb0b46645e9928d"
      }
     },
     "metadata": {},
     "output_type": "display_data"
    },
    {
     "data": {
      "text/plain": "  0%|          | 0/800 [00:00<?, ?it/s]",
      "application/vnd.jupyter.widget-view+json": {
       "version_major": 2,
       "version_minor": 0,
       "model_id": "d6dcb5ebee224736a328917a61e2a111"
      }
     },
     "metadata": {},
     "output_type": "display_data"
    },
    {
     "data": {
      "text/plain": "  0%|          | 0/800 [00:00<?, ?it/s]",
      "application/vnd.jupyter.widget-view+json": {
       "version_major": 2,
       "version_minor": 0,
       "model_id": "3ba58b056fdb4eabaa2df73536e7e64a"
      }
     },
     "metadata": {},
     "output_type": "display_data"
    },
    {
     "data": {
      "text/plain": "  0%|          | 0/800 [00:00<?, ?it/s]",
      "application/vnd.jupyter.widget-view+json": {
       "version_major": 2,
       "version_minor": 0,
       "model_id": "f7c64ff76ea44953a4ea730235e60936"
      }
     },
     "metadata": {},
     "output_type": "display_data"
    },
    {
     "data": {
      "text/plain": "  0%|          | 0/800 [00:00<?, ?it/s]",
      "application/vnd.jupyter.widget-view+json": {
       "version_major": 2,
       "version_minor": 0,
       "model_id": "54b747dbbc38413690a6e7d2d7543be5"
      }
     },
     "metadata": {},
     "output_type": "display_data"
    },
    {
     "data": {
      "text/plain": "  0%|          | 0/800 [00:00<?, ?it/s]",
      "application/vnd.jupyter.widget-view+json": {
       "version_major": 2,
       "version_minor": 0,
       "model_id": "c59dc08bd7d14a3fa9b425488b92b6b2"
      }
     },
     "metadata": {},
     "output_type": "display_data"
    },
    {
     "data": {
      "text/plain": "  0%|          | 0/800 [00:00<?, ?it/s]",
      "application/vnd.jupyter.widget-view+json": {
       "version_major": 2,
       "version_minor": 0,
       "model_id": "42aa256108b2478389384326d654a036"
      }
     },
     "metadata": {},
     "output_type": "display_data"
    },
    {
     "data": {
      "text/plain": "  0%|          | 0/800 [00:00<?, ?it/s]",
      "application/vnd.jupyter.widget-view+json": {
       "version_major": 2,
       "version_minor": 0,
       "model_id": "f21319505875401d9a9cf69fdacf7577"
      }
     },
     "metadata": {},
     "output_type": "display_data"
    },
    {
     "data": {
      "text/plain": "  0%|          | 0/800 [00:00<?, ?it/s]",
      "application/vnd.jupyter.widget-view+json": {
       "version_major": 2,
       "version_minor": 0,
       "model_id": "2d7083b0b40f420c91db8c1f404796d6"
      }
     },
     "metadata": {},
     "output_type": "display_data"
    },
    {
     "data": {
      "text/plain": "  0%|          | 0/800 [00:00<?, ?it/s]",
      "application/vnd.jupyter.widget-view+json": {
       "version_major": 2,
       "version_minor": 0,
       "model_id": "8c804e4426274a9bb9c20416a0fb3022"
      }
     },
     "metadata": {},
     "output_type": "display_data"
    },
    {
     "data": {
      "text/plain": "  0%|          | 0/800 [00:00<?, ?it/s]",
      "application/vnd.jupyter.widget-view+json": {
       "version_major": 2,
       "version_minor": 0,
       "model_id": "8baccebaf3dd41078336a4402135b995"
      }
     },
     "metadata": {},
     "output_type": "display_data"
    },
    {
     "data": {
      "text/plain": "  0%|          | 0/800 [00:00<?, ?it/s]",
      "application/vnd.jupyter.widget-view+json": {
       "version_major": 2,
       "version_minor": 0,
       "model_id": "893e5f9a9f8849b2b0d4fb5d85ca8db6"
      }
     },
     "metadata": {},
     "output_type": "display_data"
    },
    {
     "data": {
      "text/plain": "  0%|          | 0/800 [00:00<?, ?it/s]",
      "application/vnd.jupyter.widget-view+json": {
       "version_major": 2,
       "version_minor": 0,
       "model_id": "98257cf2afc24d65ba1835956366c292"
      }
     },
     "metadata": {},
     "output_type": "display_data"
    },
    {
     "data": {
      "text/plain": "  0%|          | 0/800 [00:00<?, ?it/s]",
      "application/vnd.jupyter.widget-view+json": {
       "version_major": 2,
       "version_minor": 0,
       "model_id": "0e8ba87fba7d4ebeaa6a05a335044495"
      }
     },
     "metadata": {},
     "output_type": "display_data"
    },
    {
     "data": {
      "text/plain": "  0%|          | 0/800 [00:00<?, ?it/s]",
      "application/vnd.jupyter.widget-view+json": {
       "version_major": 2,
       "version_minor": 0,
       "model_id": "86df399ae8b34f4099268bddb3faa790"
      }
     },
     "metadata": {},
     "output_type": "display_data"
    },
    {
     "data": {
      "text/plain": "  0%|          | 0/800 [00:00<?, ?it/s]",
      "application/vnd.jupyter.widget-view+json": {
       "version_major": 2,
       "version_minor": 0,
       "model_id": "52707ede088a410a8bf684af56670816"
      }
     },
     "metadata": {},
     "output_type": "display_data"
    },
    {
     "data": {
      "text/plain": "  0%|          | 0/800 [00:00<?, ?it/s]",
      "application/vnd.jupyter.widget-view+json": {
       "version_major": 2,
       "version_minor": 0,
       "model_id": "800c20735a0148f2b269f64613c3e54b"
      }
     },
     "metadata": {},
     "output_type": "display_data"
    },
    {
     "data": {
      "text/plain": "  0%|          | 0/800 [00:00<?, ?it/s]",
      "application/vnd.jupyter.widget-view+json": {
       "version_major": 2,
       "version_minor": 0,
       "model_id": "7e77128cd0574630837556f348939919"
      }
     },
     "metadata": {},
     "output_type": "display_data"
    },
    {
     "data": {
      "text/plain": "  0%|          | 0/800 [00:00<?, ?it/s]",
      "application/vnd.jupyter.widget-view+json": {
       "version_major": 2,
       "version_minor": 0,
       "model_id": "91ea0b0b1d874614a10d9bcb81d09281"
      }
     },
     "metadata": {},
     "output_type": "display_data"
    },
    {
     "data": {
      "text/plain": "  0%|          | 0/800 [00:00<?, ?it/s]",
      "application/vnd.jupyter.widget-view+json": {
       "version_major": 2,
       "version_minor": 0,
       "model_id": "87a475a4e72b46fa8b47ed3f4bfb723f"
      }
     },
     "metadata": {},
     "output_type": "display_data"
    },
    {
     "data": {
      "text/plain": "  0%|          | 0/800 [00:00<?, ?it/s]",
      "application/vnd.jupyter.widget-view+json": {
       "version_major": 2,
       "version_minor": 0,
       "model_id": "faf90f42428d430c8dff9ff13382552d"
      }
     },
     "metadata": {},
     "output_type": "display_data"
    },
    {
     "data": {
      "text/plain": "  0%|          | 0/800 [00:00<?, ?it/s]",
      "application/vnd.jupyter.widget-view+json": {
       "version_major": 2,
       "version_minor": 0,
       "model_id": "e76fddcbabfa40079cafa9ea76f59ad8"
      }
     },
     "metadata": {},
     "output_type": "display_data"
    },
    {
     "data": {
      "text/plain": "  0%|          | 0/800 [00:00<?, ?it/s]",
      "application/vnd.jupyter.widget-view+json": {
       "version_major": 2,
       "version_minor": 0,
       "model_id": "5a3938b25345473d9fa086ddcc57cf02"
      }
     },
     "metadata": {},
     "output_type": "display_data"
    },
    {
     "data": {
      "text/plain": "  0%|          | 0/800 [00:00<?, ?it/s]",
      "application/vnd.jupyter.widget-view+json": {
       "version_major": 2,
       "version_minor": 0,
       "model_id": "5ce051f6a4514b62a65de9fe60032449"
      }
     },
     "metadata": {},
     "output_type": "display_data"
    },
    {
     "data": {
      "text/plain": "  0%|          | 0/800 [00:00<?, ?it/s]",
      "application/vnd.jupyter.widget-view+json": {
       "version_major": 2,
       "version_minor": 0,
       "model_id": "a464ea6ace044f438f91a72926c0d6b9"
      }
     },
     "metadata": {},
     "output_type": "display_data"
    },
    {
     "data": {
      "text/plain": "  0%|          | 0/800 [00:00<?, ?it/s]",
      "application/vnd.jupyter.widget-view+json": {
       "version_major": 2,
       "version_minor": 0,
       "model_id": "78d0c4a9826a4346a962746438db427c"
      }
     },
     "metadata": {},
     "output_type": "display_data"
    },
    {
     "data": {
      "text/plain": "  0%|          | 0/800 [00:00<?, ?it/s]",
      "application/vnd.jupyter.widget-view+json": {
       "version_major": 2,
       "version_minor": 0,
       "model_id": "cae84948a08a43b7ba419f6189f37e8e"
      }
     },
     "metadata": {},
     "output_type": "display_data"
    },
    {
     "data": {
      "text/plain": "  0%|          | 0/800 [00:00<?, ?it/s]",
      "application/vnd.jupyter.widget-view+json": {
       "version_major": 2,
       "version_minor": 0,
       "model_id": "5fd91b9045e9406bae2fad3228040420"
      }
     },
     "metadata": {},
     "output_type": "display_data"
    },
    {
     "data": {
      "text/plain": "  0%|          | 0/800 [00:00<?, ?it/s]",
      "application/vnd.jupyter.widget-view+json": {
       "version_major": 2,
       "version_minor": 0,
       "model_id": "78a6a8a245b544fe9c154c377608780d"
      }
     },
     "metadata": {},
     "output_type": "display_data"
    },
    {
     "data": {
      "text/plain": "  0%|          | 0/800 [00:00<?, ?it/s]",
      "application/vnd.jupyter.widget-view+json": {
       "version_major": 2,
       "version_minor": 0,
       "model_id": "5292142f0e054b02aa612e19dddc3e11"
      }
     },
     "metadata": {},
     "output_type": "display_data"
    },
    {
     "data": {
      "text/plain": "  0%|          | 0/800 [00:00<?, ?it/s]",
      "application/vnd.jupyter.widget-view+json": {
       "version_major": 2,
       "version_minor": 0,
       "model_id": "9a06e643a5eb4468bbaf23ab6ec51a15"
      }
     },
     "metadata": {},
     "output_type": "display_data"
    },
    {
     "data": {
      "text/plain": "  0%|          | 0/800 [00:00<?, ?it/s]",
      "application/vnd.jupyter.widget-view+json": {
       "version_major": 2,
       "version_minor": 0,
       "model_id": "8b4ea042e4a5490ab365d16b0784067a"
      }
     },
     "metadata": {},
     "output_type": "display_data"
    },
    {
     "data": {
      "text/plain": "  0%|          | 0/800 [00:00<?, ?it/s]",
      "application/vnd.jupyter.widget-view+json": {
       "version_major": 2,
       "version_minor": 0,
       "model_id": "1babd98eb2074f50825f33fe10898a2c"
      }
     },
     "metadata": {},
     "output_type": "display_data"
    },
    {
     "data": {
      "text/plain": "  0%|          | 0/800 [00:00<?, ?it/s]",
      "application/vnd.jupyter.widget-view+json": {
       "version_major": 2,
       "version_minor": 0,
       "model_id": "d6e235f3946f4126baad6f298ce75a0c"
      }
     },
     "metadata": {},
     "output_type": "display_data"
    },
    {
     "data": {
      "text/plain": "  0%|          | 0/800 [00:00<?, ?it/s]",
      "application/vnd.jupyter.widget-view+json": {
       "version_major": 2,
       "version_minor": 0,
       "model_id": "72ed132ad0b44a3791b8fb97b943c6d7"
      }
     },
     "metadata": {},
     "output_type": "display_data"
    },
    {
     "data": {
      "text/plain": "  0%|          | 0/800 [00:00<?, ?it/s]",
      "application/vnd.jupyter.widget-view+json": {
       "version_major": 2,
       "version_minor": 0,
       "model_id": "a48286456009453d9c6ad3bb2eb775ba"
      }
     },
     "metadata": {},
     "output_type": "display_data"
    },
    {
     "data": {
      "text/plain": "  0%|          | 0/800 [00:00<?, ?it/s]",
      "application/vnd.jupyter.widget-view+json": {
       "version_major": 2,
       "version_minor": 0,
       "model_id": "3fd0507bc8314fa2bf0aa9d4726ed6c4"
      }
     },
     "metadata": {},
     "output_type": "display_data"
    },
    {
     "data": {
      "text/plain": "  0%|          | 0/800 [00:00<?, ?it/s]",
      "application/vnd.jupyter.widget-view+json": {
       "version_major": 2,
       "version_minor": 0,
       "model_id": "dd7f5321981544128115874c3a6f9465"
      }
     },
     "metadata": {},
     "output_type": "display_data"
    },
    {
     "data": {
      "text/plain": "  0%|          | 0/800 [00:00<?, ?it/s]",
      "application/vnd.jupyter.widget-view+json": {
       "version_major": 2,
       "version_minor": 0,
       "model_id": "4cb3d69ab9c448de90cbe90760ef5e8b"
      }
     },
     "metadata": {},
     "output_type": "display_data"
    },
    {
     "data": {
      "text/plain": "  0%|          | 0/800 [00:00<?, ?it/s]",
      "application/vnd.jupyter.widget-view+json": {
       "version_major": 2,
       "version_minor": 0,
       "model_id": "8bd8de8e9a1e49db9abe31011cb2cc58"
      }
     },
     "metadata": {},
     "output_type": "display_data"
    },
    {
     "data": {
      "text/plain": "  0%|          | 0/800 [00:00<?, ?it/s]",
      "application/vnd.jupyter.widget-view+json": {
       "version_major": 2,
       "version_minor": 0,
       "model_id": "0706bebbcc694766b032b62d90524b35"
      }
     },
     "metadata": {},
     "output_type": "display_data"
    },
    {
     "data": {
      "text/plain": "  0%|          | 0/800 [00:00<?, ?it/s]",
      "application/vnd.jupyter.widget-view+json": {
       "version_major": 2,
       "version_minor": 0,
       "model_id": "61150c7edb314849811f645d9ac754c1"
      }
     },
     "metadata": {},
     "output_type": "display_data"
    },
    {
     "data": {
      "text/plain": "  0%|          | 0/800 [00:00<?, ?it/s]",
      "application/vnd.jupyter.widget-view+json": {
       "version_major": 2,
       "version_minor": 0,
       "model_id": "de9f806481144b80bb28b7f4bf90442c"
      }
     },
     "metadata": {},
     "output_type": "display_data"
    },
    {
     "data": {
      "text/plain": "  0%|          | 0/800 [00:00<?, ?it/s]",
      "application/vnd.jupyter.widget-view+json": {
       "version_major": 2,
       "version_minor": 0,
       "model_id": "79c7f627cd2b4e00845851bd682dd6d7"
      }
     },
     "metadata": {},
     "output_type": "display_data"
    },
    {
     "data": {
      "text/plain": "  0%|          | 0/800 [00:00<?, ?it/s]",
      "application/vnd.jupyter.widget-view+json": {
       "version_major": 2,
       "version_minor": 0,
       "model_id": "e6471dfa63074e8ab81f3296100ce2f1"
      }
     },
     "metadata": {},
     "output_type": "display_data"
    },
    {
     "data": {
      "text/plain": "  0%|          | 0/800 [00:00<?, ?it/s]",
      "application/vnd.jupyter.widget-view+json": {
       "version_major": 2,
       "version_minor": 0,
       "model_id": "e74396404e8f4f2aab1b646049bc86ee"
      }
     },
     "metadata": {},
     "output_type": "display_data"
    },
    {
     "data": {
      "text/plain": "  0%|          | 0/800 [00:00<?, ?it/s]",
      "application/vnd.jupyter.widget-view+json": {
       "version_major": 2,
       "version_minor": 0,
       "model_id": "a0938b02730f4e8cb3fdbc70e4b5e674"
      }
     },
     "metadata": {},
     "output_type": "display_data"
    },
    {
     "data": {
      "text/plain": "  0%|          | 0/800 [00:00<?, ?it/s]",
      "application/vnd.jupyter.widget-view+json": {
       "version_major": 2,
       "version_minor": 0,
       "model_id": "1187d67efd7d475696e4b79bc95934eb"
      }
     },
     "metadata": {},
     "output_type": "display_data"
    },
    {
     "data": {
      "text/plain": "  0%|          | 0/800 [00:00<?, ?it/s]",
      "application/vnd.jupyter.widget-view+json": {
       "version_major": 2,
       "version_minor": 0,
       "model_id": "59db3510ca304862b1272e83c93b4840"
      }
     },
     "metadata": {},
     "output_type": "display_data"
    },
    {
     "data": {
      "text/plain": "  0%|          | 0/800 [00:00<?, ?it/s]",
      "application/vnd.jupyter.widget-view+json": {
       "version_major": 2,
       "version_minor": 0,
       "model_id": "6435e14ef0d84edf9babc142fe8e5889"
      }
     },
     "metadata": {},
     "output_type": "display_data"
    },
    {
     "data": {
      "text/plain": "  0%|          | 0/800 [00:00<?, ?it/s]",
      "application/vnd.jupyter.widget-view+json": {
       "version_major": 2,
       "version_minor": 0,
       "model_id": "391ab7630913431eadeeecfb41a2431c"
      }
     },
     "metadata": {},
     "output_type": "display_data"
    },
    {
     "data": {
      "text/plain": "  0%|          | 0/800 [00:00<?, ?it/s]",
      "application/vnd.jupyter.widget-view+json": {
       "version_major": 2,
       "version_minor": 0,
       "model_id": "b2073ac414ce4bfe927e64fe91533015"
      }
     },
     "metadata": {},
     "output_type": "display_data"
    },
    {
     "data": {
      "text/plain": "  0%|          | 0/800 [00:00<?, ?it/s]",
      "application/vnd.jupyter.widget-view+json": {
       "version_major": 2,
       "version_minor": 0,
       "model_id": "e2ab474f2db949b78a8efc9cc338dcb8"
      }
     },
     "metadata": {},
     "output_type": "display_data"
    },
    {
     "data": {
      "text/plain": "  0%|          | 0/800 [00:00<?, ?it/s]",
      "application/vnd.jupyter.widget-view+json": {
       "version_major": 2,
       "version_minor": 0,
       "model_id": "4dd8027e770f4d89a65a5352285cf921"
      }
     },
     "metadata": {},
     "output_type": "display_data"
    },
    {
     "data": {
      "text/plain": "  0%|          | 0/800 [00:00<?, ?it/s]",
      "application/vnd.jupyter.widget-view+json": {
       "version_major": 2,
       "version_minor": 0,
       "model_id": "f30bcd85d6e5482e8b04b0f77640067d"
      }
     },
     "metadata": {},
     "output_type": "display_data"
    },
    {
     "data": {
      "text/plain": "  0%|          | 0/800 [00:00<?, ?it/s]",
      "application/vnd.jupyter.widget-view+json": {
       "version_major": 2,
       "version_minor": 0,
       "model_id": "eba72223ed86460da1bd0ce6760d2f62"
      }
     },
     "metadata": {},
     "output_type": "display_data"
    },
    {
     "data": {
      "text/plain": "  0%|          | 0/800 [00:00<?, ?it/s]",
      "application/vnd.jupyter.widget-view+json": {
       "version_major": 2,
       "version_minor": 0,
       "model_id": "93156409e8384de7bb46170675584d21"
      }
     },
     "metadata": {},
     "output_type": "display_data"
    },
    {
     "data": {
      "text/plain": "  0%|          | 0/800 [00:00<?, ?it/s]",
      "application/vnd.jupyter.widget-view+json": {
       "version_major": 2,
       "version_minor": 0,
       "model_id": "4a2deaf342db4c769bd459a640a8b286"
      }
     },
     "metadata": {},
     "output_type": "display_data"
    },
    {
     "data": {
      "text/plain": "  0%|          | 0/800 [00:00<?, ?it/s]",
      "application/vnd.jupyter.widget-view+json": {
       "version_major": 2,
       "version_minor": 0,
       "model_id": "34784e553d6947419c199571c4dc03e0"
      }
     },
     "metadata": {},
     "output_type": "display_data"
    },
    {
     "data": {
      "text/plain": "  0%|          | 0/800 [00:00<?, ?it/s]",
      "application/vnd.jupyter.widget-view+json": {
       "version_major": 2,
       "version_minor": 0,
       "model_id": "f7228f82917943e2ac69d1bb3e2d13f5"
      }
     },
     "metadata": {},
     "output_type": "display_data"
    },
    {
     "data": {
      "text/plain": "  0%|          | 0/800 [00:00<?, ?it/s]",
      "application/vnd.jupyter.widget-view+json": {
       "version_major": 2,
       "version_minor": 0,
       "model_id": "7e89bc7d5d6f4e0e8a13779d7a392d18"
      }
     },
     "metadata": {},
     "output_type": "display_data"
    },
    {
     "data": {
      "text/plain": "  0%|          | 0/800 [00:00<?, ?it/s]",
      "application/vnd.jupyter.widget-view+json": {
       "version_major": 2,
       "version_minor": 0,
       "model_id": "e004dd423c984227964e16be99443048"
      }
     },
     "metadata": {},
     "output_type": "display_data"
    },
    {
     "data": {
      "text/plain": "  0%|          | 0/800 [00:00<?, ?it/s]",
      "application/vnd.jupyter.widget-view+json": {
       "version_major": 2,
       "version_minor": 0,
       "model_id": "b08ec82ea27d46238e0216de5858c7f4"
      }
     },
     "metadata": {},
     "output_type": "display_data"
    },
    {
     "data": {
      "text/plain": "  0%|          | 0/800 [00:00<?, ?it/s]",
      "application/vnd.jupyter.widget-view+json": {
       "version_major": 2,
       "version_minor": 0,
       "model_id": "3ef9957a45ec45aaa712f41846fbd719"
      }
     },
     "metadata": {},
     "output_type": "display_data"
    },
    {
     "data": {
      "text/plain": "  0%|          | 0/800 [00:00<?, ?it/s]",
      "application/vnd.jupyter.widget-view+json": {
       "version_major": 2,
       "version_minor": 0,
       "model_id": "4a017c384e874efdb8fd8518d4f6b693"
      }
     },
     "metadata": {},
     "output_type": "display_data"
    },
    {
     "data": {
      "text/plain": "  0%|          | 0/800 [00:00<?, ?it/s]",
      "application/vnd.jupyter.widget-view+json": {
       "version_major": 2,
       "version_minor": 0,
       "model_id": "9634966f1dfa4431b40728045f6ebe84"
      }
     },
     "metadata": {},
     "output_type": "display_data"
    },
    {
     "data": {
      "text/plain": "  0%|          | 0/800 [00:00<?, ?it/s]",
      "application/vnd.jupyter.widget-view+json": {
       "version_major": 2,
       "version_minor": 0,
       "model_id": "d3df53dc405a49afbc32e7a6637ee5e4"
      }
     },
     "metadata": {},
     "output_type": "display_data"
    },
    {
     "data": {
      "text/plain": "  0%|          | 0/800 [00:00<?, ?it/s]",
      "application/vnd.jupyter.widget-view+json": {
       "version_major": 2,
       "version_minor": 0,
       "model_id": "fcb82fbe94df4ee5a87670060b9ccb39"
      }
     },
     "metadata": {},
     "output_type": "display_data"
    },
    {
     "data": {
      "text/plain": "  0%|          | 0/800 [00:00<?, ?it/s]",
      "application/vnd.jupyter.widget-view+json": {
       "version_major": 2,
       "version_minor": 0,
       "model_id": "bee950fabd5646e98a0f3f0bb3843b8f"
      }
     },
     "metadata": {},
     "output_type": "display_data"
    },
    {
     "data": {
      "text/plain": "  0%|          | 0/800 [00:00<?, ?it/s]",
      "application/vnd.jupyter.widget-view+json": {
       "version_major": 2,
       "version_minor": 0,
       "model_id": "27b2dd35a0e5438bb08e55c38be7713a"
      }
     },
     "metadata": {},
     "output_type": "display_data"
    },
    {
     "data": {
      "text/plain": "  0%|          | 0/800 [00:00<?, ?it/s]",
      "application/vnd.jupyter.widget-view+json": {
       "version_major": 2,
       "version_minor": 0,
       "model_id": "855099b802864b04887f7bbfcf4c90fb"
      }
     },
     "metadata": {},
     "output_type": "display_data"
    },
    {
     "data": {
      "text/plain": "  0%|          | 0/800 [00:00<?, ?it/s]",
      "application/vnd.jupyter.widget-view+json": {
       "version_major": 2,
       "version_minor": 0,
       "model_id": "051a6b58f5b242d2887237644585c4d0"
      }
     },
     "metadata": {},
     "output_type": "display_data"
    },
    {
     "data": {
      "text/plain": "  0%|          | 0/800 [00:00<?, ?it/s]",
      "application/vnd.jupyter.widget-view+json": {
       "version_major": 2,
       "version_minor": 0,
       "model_id": "9bf054e23a074f98a7bea0e351b8ec58"
      }
     },
     "metadata": {},
     "output_type": "display_data"
    },
    {
     "data": {
      "text/plain": "  0%|          | 0/800 [00:00<?, ?it/s]",
      "application/vnd.jupyter.widget-view+json": {
       "version_major": 2,
       "version_minor": 0,
       "model_id": "63abd05db75644d6845b6a6ed3b8e1da"
      }
     },
     "metadata": {},
     "output_type": "display_data"
    },
    {
     "data": {
      "text/plain": "  0%|          | 0/800 [00:00<?, ?it/s]",
      "application/vnd.jupyter.widget-view+json": {
       "version_major": 2,
       "version_minor": 0,
       "model_id": "f15f6b449e3440feaf95df9c385b3f80"
      }
     },
     "metadata": {},
     "output_type": "display_data"
    },
    {
     "data": {
      "text/plain": "  0%|          | 0/800 [00:00<?, ?it/s]",
      "application/vnd.jupyter.widget-view+json": {
       "version_major": 2,
       "version_minor": 0,
       "model_id": "17f40da9b78e4e1d85d13ed6a0348680"
      }
     },
     "metadata": {},
     "output_type": "display_data"
    },
    {
     "data": {
      "text/plain": "  0%|          | 0/800 [00:00<?, ?it/s]",
      "application/vnd.jupyter.widget-view+json": {
       "version_major": 2,
       "version_minor": 0,
       "model_id": "cf980f10c3524865b828745793ea505e"
      }
     },
     "metadata": {},
     "output_type": "display_data"
    },
    {
     "data": {
      "text/plain": "  0%|          | 0/800 [00:00<?, ?it/s]",
      "application/vnd.jupyter.widget-view+json": {
       "version_major": 2,
       "version_minor": 0,
       "model_id": "f5adabe48a7946c78450a418bd871166"
      }
     },
     "metadata": {},
     "output_type": "display_data"
    },
    {
     "data": {
      "text/plain": "  0%|          | 0/800 [00:00<?, ?it/s]",
      "application/vnd.jupyter.widget-view+json": {
       "version_major": 2,
       "version_minor": 0,
       "model_id": "23b4f68aa5244dfbbff3911e15cec1dc"
      }
     },
     "metadata": {},
     "output_type": "display_data"
    },
    {
     "data": {
      "text/plain": "  0%|          | 0/800 [00:00<?, ?it/s]",
      "application/vnd.jupyter.widget-view+json": {
       "version_major": 2,
       "version_minor": 0,
       "model_id": "30758e7421474d5eb2947af73e60722a"
      }
     },
     "metadata": {},
     "output_type": "display_data"
    },
    {
     "data": {
      "text/plain": "  0%|          | 0/800 [00:00<?, ?it/s]",
      "application/vnd.jupyter.widget-view+json": {
       "version_major": 2,
       "version_minor": 0,
       "model_id": "cac66c9c494b4e5a9da9f2a92e2f71e2"
      }
     },
     "metadata": {},
     "output_type": "display_data"
    },
    {
     "data": {
      "text/plain": "  0%|          | 0/800 [00:00<?, ?it/s]",
      "application/vnd.jupyter.widget-view+json": {
       "version_major": 2,
       "version_minor": 0,
       "model_id": "e2f04a7a9c7b40219741b5741380e65c"
      }
     },
     "metadata": {},
     "output_type": "display_data"
    },
    {
     "data": {
      "text/plain": "  0%|          | 0/800 [00:00<?, ?it/s]",
      "application/vnd.jupyter.widget-view+json": {
       "version_major": 2,
       "version_minor": 0,
       "model_id": "0b453ed0d04f4d3ca01ac86706b5eca6"
      }
     },
     "metadata": {},
     "output_type": "display_data"
    },
    {
     "data": {
      "text/plain": "  0%|          | 0/800 [00:00<?, ?it/s]",
      "application/vnd.jupyter.widget-view+json": {
       "version_major": 2,
       "version_minor": 0,
       "model_id": "09600e291ae34ef399005b6f4676eed9"
      }
     },
     "metadata": {},
     "output_type": "display_data"
    },
    {
     "data": {
      "text/plain": "  0%|          | 0/800 [00:00<?, ?it/s]",
      "application/vnd.jupyter.widget-view+json": {
       "version_major": 2,
       "version_minor": 0,
       "model_id": "7229a02680b842f9bf4b10686f792688"
      }
     },
     "metadata": {},
     "output_type": "display_data"
    },
    {
     "data": {
      "text/plain": "  0%|          | 0/800 [00:00<?, ?it/s]",
      "application/vnd.jupyter.widget-view+json": {
       "version_major": 2,
       "version_minor": 0,
       "model_id": "7e3922611338469bb22edc95bb0618ea"
      }
     },
     "metadata": {},
     "output_type": "display_data"
    },
    {
     "data": {
      "text/plain": "  0%|          | 0/800 [00:00<?, ?it/s]",
      "application/vnd.jupyter.widget-view+json": {
       "version_major": 2,
       "version_minor": 0,
       "model_id": "55db6c67c6bf473fbbdbf5e6404732ae"
      }
     },
     "metadata": {},
     "output_type": "display_data"
    },
    {
     "data": {
      "text/plain": "  0%|          | 0/800 [00:00<?, ?it/s]",
      "application/vnd.jupyter.widget-view+json": {
       "version_major": 2,
       "version_minor": 0,
       "model_id": "7260a01ba73948f5a8b182b43bd6e46a"
      }
     },
     "metadata": {},
     "output_type": "display_data"
    },
    {
     "data": {
      "text/plain": "  0%|          | 0/800 [00:00<?, ?it/s]",
      "application/vnd.jupyter.widget-view+json": {
       "version_major": 2,
       "version_minor": 0,
       "model_id": "4a454eaf9d9b42889f73d7d973ae83f3"
      }
     },
     "metadata": {},
     "output_type": "display_data"
    },
    {
     "data": {
      "text/plain": "  0%|          | 0/800 [00:00<?, ?it/s]",
      "application/vnd.jupyter.widget-view+json": {
       "version_major": 2,
       "version_minor": 0,
       "model_id": "3beb25b3657f4fcea1f3873502c37008"
      }
     },
     "metadata": {},
     "output_type": "display_data"
    },
    {
     "data": {
      "text/plain": "  0%|          | 0/800 [00:00<?, ?it/s]",
      "application/vnd.jupyter.widget-view+json": {
       "version_major": 2,
       "version_minor": 0,
       "model_id": "5b6f18e44b5740689bcb4e08f1b22bbb"
      }
     },
     "metadata": {},
     "output_type": "display_data"
    },
    {
     "data": {
      "text/plain": "  0%|          | 0/800 [00:00<?, ?it/s]",
      "application/vnd.jupyter.widget-view+json": {
       "version_major": 2,
       "version_minor": 0,
       "model_id": "2e94f0f5de14461f93cdfc3e646b8b21"
      }
     },
     "metadata": {},
     "output_type": "display_data"
    },
    {
     "data": {
      "text/plain": "  0%|          | 0/800 [00:00<?, ?it/s]",
      "application/vnd.jupyter.widget-view+json": {
       "version_major": 2,
       "version_minor": 0,
       "model_id": "a1c5f8bf49574d3cbee79e2035f51265"
      }
     },
     "metadata": {},
     "output_type": "display_data"
    },
    {
     "data": {
      "text/plain": "  0%|          | 0/800 [00:00<?, ?it/s]",
      "application/vnd.jupyter.widget-view+json": {
       "version_major": 2,
       "version_minor": 0,
       "model_id": "3577e40c52844686835ce66e1cfa9430"
      }
     },
     "metadata": {},
     "output_type": "display_data"
    },
    {
     "data": {
      "text/plain": "  0%|          | 0/800 [00:00<?, ?it/s]",
      "application/vnd.jupyter.widget-view+json": {
       "version_major": 2,
       "version_minor": 0,
       "model_id": "0fd436287ecc48a2b0413f065ea488a8"
      }
     },
     "metadata": {},
     "output_type": "display_data"
    },
    {
     "data": {
      "text/plain": "  0%|          | 0/800 [00:00<?, ?it/s]",
      "application/vnd.jupyter.widget-view+json": {
       "version_major": 2,
       "version_minor": 0,
       "model_id": "0b1dd330ae3d430e8d106528712fd580"
      }
     },
     "metadata": {},
     "output_type": "display_data"
    },
    {
     "data": {
      "text/plain": "  0%|          | 0/800 [00:00<?, ?it/s]",
      "application/vnd.jupyter.widget-view+json": {
       "version_major": 2,
       "version_minor": 0,
       "model_id": "8a6caf52e77a4230b9d5d77dcbb3b68c"
      }
     },
     "metadata": {},
     "output_type": "display_data"
    },
    {
     "data": {
      "text/plain": "  0%|          | 0/800 [00:00<?, ?it/s]",
      "application/vnd.jupyter.widget-view+json": {
       "version_major": 2,
       "version_minor": 0,
       "model_id": "5ede19af1f09406386e898f43a041804"
      }
     },
     "metadata": {},
     "output_type": "display_data"
    },
    {
     "data": {
      "text/plain": "  0%|          | 0/800 [00:00<?, ?it/s]",
      "application/vnd.jupyter.widget-view+json": {
       "version_major": 2,
       "version_minor": 0,
       "model_id": "69ddbbf78246414eb734bba670e2dbc5"
      }
     },
     "metadata": {},
     "output_type": "display_data"
    },
    {
     "data": {
      "text/plain": "  0%|          | 0/800 [00:00<?, ?it/s]",
      "application/vnd.jupyter.widget-view+json": {
       "version_major": 2,
       "version_minor": 0,
       "model_id": "16a45b337823419b8f89b66a4bb7a346"
      }
     },
     "metadata": {},
     "output_type": "display_data"
    },
    {
     "data": {
      "text/plain": "  0%|          | 0/800 [00:00<?, ?it/s]",
      "application/vnd.jupyter.widget-view+json": {
       "version_major": 2,
       "version_minor": 0,
       "model_id": "851bf2b65008475f9c6eefed6f0d4bd9"
      }
     },
     "metadata": {},
     "output_type": "display_data"
    },
    {
     "data": {
      "text/plain": "  0%|          | 0/800 [00:00<?, ?it/s]",
      "application/vnd.jupyter.widget-view+json": {
       "version_major": 2,
       "version_minor": 0,
       "model_id": "8e3681d6235844fa81e185586c999db1"
      }
     },
     "metadata": {},
     "output_type": "display_data"
    },
    {
     "data": {
      "text/plain": "  0%|          | 0/800 [00:00<?, ?it/s]",
      "application/vnd.jupyter.widget-view+json": {
       "version_major": 2,
       "version_minor": 0,
       "model_id": "9b3adca983134163bb8d0ec8edfa8a52"
      }
     },
     "metadata": {},
     "output_type": "display_data"
    },
    {
     "data": {
      "text/plain": "  0%|          | 0/800 [00:00<?, ?it/s]",
      "application/vnd.jupyter.widget-view+json": {
       "version_major": 2,
       "version_minor": 0,
       "model_id": "f34b33b41da54e6d9e15b6c9956aafc7"
      }
     },
     "metadata": {},
     "output_type": "display_data"
    },
    {
     "data": {
      "text/plain": "  0%|          | 0/800 [00:00<?, ?it/s]",
      "application/vnd.jupyter.widget-view+json": {
       "version_major": 2,
       "version_minor": 0,
       "model_id": "fcbbf598b138477e9074b6c43561c918"
      }
     },
     "metadata": {},
     "output_type": "display_data"
    },
    {
     "data": {
      "text/plain": "  0%|          | 0/800 [00:00<?, ?it/s]",
      "application/vnd.jupyter.widget-view+json": {
       "version_major": 2,
       "version_minor": 0,
       "model_id": "fcd597ed87544a609fa07f808f1ddcaf"
      }
     },
     "metadata": {},
     "output_type": "display_data"
    },
    {
     "data": {
      "text/plain": "  0%|          | 0/800 [00:00<?, ?it/s]",
      "application/vnd.jupyter.widget-view+json": {
       "version_major": 2,
       "version_minor": 0,
       "model_id": "d362f7101217455ca64ad2339ec24f3e"
      }
     },
     "metadata": {},
     "output_type": "display_data"
    },
    {
     "data": {
      "text/plain": "  0%|          | 0/800 [00:00<?, ?it/s]",
      "application/vnd.jupyter.widget-view+json": {
       "version_major": 2,
       "version_minor": 0,
       "model_id": "ffeeae2c57d1478d9ca12e4d745101f3"
      }
     },
     "metadata": {},
     "output_type": "display_data"
    },
    {
     "data": {
      "text/plain": "  0%|          | 0/800 [00:00<?, ?it/s]",
      "application/vnd.jupyter.widget-view+json": {
       "version_major": 2,
       "version_minor": 0,
       "model_id": "026b01d0eb60439eadd2a6d35f9b1bf4"
      }
     },
     "metadata": {},
     "output_type": "display_data"
    },
    {
     "data": {
      "text/plain": "  0%|          | 0/800 [00:00<?, ?it/s]",
      "application/vnd.jupyter.widget-view+json": {
       "version_major": 2,
       "version_minor": 0,
       "model_id": "496220680022433cb09d9fd5426e982e"
      }
     },
     "metadata": {},
     "output_type": "display_data"
    },
    {
     "data": {
      "text/plain": "  0%|          | 0/800 [00:00<?, ?it/s]",
      "application/vnd.jupyter.widget-view+json": {
       "version_major": 2,
       "version_minor": 0,
       "model_id": "0cf3056329d34c03b6fed3e3b12e84f1"
      }
     },
     "metadata": {},
     "output_type": "display_data"
    },
    {
     "data": {
      "text/plain": "  0%|          | 0/800 [00:00<?, ?it/s]",
      "application/vnd.jupyter.widget-view+json": {
       "version_major": 2,
       "version_minor": 0,
       "model_id": "1303fb501a6d42ad82722f45b12b1ffa"
      }
     },
     "metadata": {},
     "output_type": "display_data"
    },
    {
     "data": {
      "text/plain": "  0%|          | 0/800 [00:00<?, ?it/s]",
      "application/vnd.jupyter.widget-view+json": {
       "version_major": 2,
       "version_minor": 0,
       "model_id": "6fd35226a65f468c89f050f5d4f54568"
      }
     },
     "metadata": {},
     "output_type": "display_data"
    },
    {
     "data": {
      "text/plain": "  0%|          | 0/800 [00:00<?, ?it/s]",
      "application/vnd.jupyter.widget-view+json": {
       "version_major": 2,
       "version_minor": 0,
       "model_id": "b9080c0dd86942ba9ef0325874b7765e"
      }
     },
     "metadata": {},
     "output_type": "display_data"
    },
    {
     "data": {
      "text/plain": "  0%|          | 0/800 [00:00<?, ?it/s]",
      "application/vnd.jupyter.widget-view+json": {
       "version_major": 2,
       "version_minor": 0,
       "model_id": "f66d9912085c469ea63fcd3de1a697c4"
      }
     },
     "metadata": {},
     "output_type": "display_data"
    },
    {
     "data": {
      "text/plain": "  0%|          | 0/800 [00:00<?, ?it/s]",
      "application/vnd.jupyter.widget-view+json": {
       "version_major": 2,
       "version_minor": 0,
       "model_id": "0e70fe9b07d844fa84b637f6c27737b5"
      }
     },
     "metadata": {},
     "output_type": "display_data"
    },
    {
     "data": {
      "text/plain": "  0%|          | 0/800 [00:00<?, ?it/s]",
      "application/vnd.jupyter.widget-view+json": {
       "version_major": 2,
       "version_minor": 0,
       "model_id": "d3c1421cd5774097b7cc83d332f09cd4"
      }
     },
     "metadata": {},
     "output_type": "display_data"
    },
    {
     "data": {
      "text/plain": "  0%|          | 0/800 [00:00<?, ?it/s]",
      "application/vnd.jupyter.widget-view+json": {
       "version_major": 2,
       "version_minor": 0,
       "model_id": "9602eb3fa1fc4700bba5c43f692bb6cc"
      }
     },
     "metadata": {},
     "output_type": "display_data"
    },
    {
     "data": {
      "text/plain": "  0%|          | 0/800 [00:00<?, ?it/s]",
      "application/vnd.jupyter.widget-view+json": {
       "version_major": 2,
       "version_minor": 0,
       "model_id": "7caedad6d98b4c23a4e2616771721fa3"
      }
     },
     "metadata": {},
     "output_type": "display_data"
    },
    {
     "data": {
      "text/plain": "  0%|          | 0/800 [00:00<?, ?it/s]",
      "application/vnd.jupyter.widget-view+json": {
       "version_major": 2,
       "version_minor": 0,
       "model_id": "a82c90e4e33b478ab56fc16f502176d3"
      }
     },
     "metadata": {},
     "output_type": "display_data"
    },
    {
     "data": {
      "text/plain": "  0%|          | 0/800 [00:00<?, ?it/s]",
      "application/vnd.jupyter.widget-view+json": {
       "version_major": 2,
       "version_minor": 0,
       "model_id": "ae79ee6ec1224960aaa0683e187d2847"
      }
     },
     "metadata": {},
     "output_type": "display_data"
    },
    {
     "data": {
      "text/plain": "  0%|          | 0/800 [00:00<?, ?it/s]",
      "application/vnd.jupyter.widget-view+json": {
       "version_major": 2,
       "version_minor": 0,
       "model_id": "5cb916a5576e49cfb5ebc1913fef6bdf"
      }
     },
     "metadata": {},
     "output_type": "display_data"
    },
    {
     "data": {
      "text/plain": "  0%|          | 0/800 [00:00<?, ?it/s]",
      "application/vnd.jupyter.widget-view+json": {
       "version_major": 2,
       "version_minor": 0,
       "model_id": "b2ac05b6207849998ed6deb2b7d1a70e"
      }
     },
     "metadata": {},
     "output_type": "display_data"
    },
    {
     "data": {
      "text/plain": "  0%|          | 0/800 [00:00<?, ?it/s]",
      "application/vnd.jupyter.widget-view+json": {
       "version_major": 2,
       "version_minor": 0,
       "model_id": "4a76d95a28e9491a904975073f03a328"
      }
     },
     "metadata": {},
     "output_type": "display_data"
    },
    {
     "data": {
      "text/plain": "  0%|          | 0/800 [00:00<?, ?it/s]",
      "application/vnd.jupyter.widget-view+json": {
       "version_major": 2,
       "version_minor": 0,
       "model_id": "b75d703892c54818a595c254f1a1d0a7"
      }
     },
     "metadata": {},
     "output_type": "display_data"
    },
    {
     "data": {
      "text/plain": "  0%|          | 0/800 [00:00<?, ?it/s]",
      "application/vnd.jupyter.widget-view+json": {
       "version_major": 2,
       "version_minor": 0,
       "model_id": "d3c23aafad1e4daeb81ec250c107acf6"
      }
     },
     "metadata": {},
     "output_type": "display_data"
    },
    {
     "data": {
      "text/plain": "  0%|          | 0/800 [00:00<?, ?it/s]",
      "application/vnd.jupyter.widget-view+json": {
       "version_major": 2,
       "version_minor": 0,
       "model_id": "c45448b15eda40a7ae3e4ee5ac3b2f95"
      }
     },
     "metadata": {},
     "output_type": "display_data"
    },
    {
     "data": {
      "text/plain": "  0%|          | 0/800 [00:00<?, ?it/s]",
      "application/vnd.jupyter.widget-view+json": {
       "version_major": 2,
       "version_minor": 0,
       "model_id": "e4e97233fcbf499fb7892f48bd50f82d"
      }
     },
     "metadata": {},
     "output_type": "display_data"
    },
    {
     "data": {
      "text/plain": "  0%|          | 0/800 [00:00<?, ?it/s]",
      "application/vnd.jupyter.widget-view+json": {
       "version_major": 2,
       "version_minor": 0,
       "model_id": "cfeb884f8b6b46dfa38d9fdc52141415"
      }
     },
     "metadata": {},
     "output_type": "display_data"
    },
    {
     "data": {
      "text/plain": "  0%|          | 0/800 [00:00<?, ?it/s]",
      "application/vnd.jupyter.widget-view+json": {
       "version_major": 2,
       "version_minor": 0,
       "model_id": "1985c9b091ea4746931fc2a1f55d270b"
      }
     },
     "metadata": {},
     "output_type": "display_data"
    },
    {
     "data": {
      "text/plain": "  0%|          | 0/800 [00:00<?, ?it/s]",
      "application/vnd.jupyter.widget-view+json": {
       "version_major": 2,
       "version_minor": 0,
       "model_id": "27fbe5ba8eb342d1946b0439ee92c9cc"
      }
     },
     "metadata": {},
     "output_type": "display_data"
    },
    {
     "data": {
      "text/plain": "  0%|          | 0/800 [00:00<?, ?it/s]",
      "application/vnd.jupyter.widget-view+json": {
       "version_major": 2,
       "version_minor": 0,
       "model_id": "fd641be2087b48628b9e9632258b3fd3"
      }
     },
     "metadata": {},
     "output_type": "display_data"
    },
    {
     "data": {
      "text/plain": "  0%|          | 0/800 [00:00<?, ?it/s]",
      "application/vnd.jupyter.widget-view+json": {
       "version_major": 2,
       "version_minor": 0,
       "model_id": "d4c9a580fefa4e0aa69db57d281e694a"
      }
     },
     "metadata": {},
     "output_type": "display_data"
    },
    {
     "data": {
      "text/plain": "  0%|          | 0/800 [00:00<?, ?it/s]",
      "application/vnd.jupyter.widget-view+json": {
       "version_major": 2,
       "version_minor": 0,
       "model_id": "6be7adc2260d421fa89844010808d92f"
      }
     },
     "metadata": {},
     "output_type": "display_data"
    },
    {
     "data": {
      "text/plain": "  0%|          | 0/800 [00:00<?, ?it/s]",
      "application/vnd.jupyter.widget-view+json": {
       "version_major": 2,
       "version_minor": 0,
       "model_id": "da71b304d53e4005848e2071feaa25c2"
      }
     },
     "metadata": {},
     "output_type": "display_data"
    },
    {
     "data": {
      "text/plain": "  0%|          | 0/800 [00:00<?, ?it/s]",
      "application/vnd.jupyter.widget-view+json": {
       "version_major": 2,
       "version_minor": 0,
       "model_id": "eb54f564d8424aa4a6399bd56906d4f7"
      }
     },
     "metadata": {},
     "output_type": "display_data"
    },
    {
     "data": {
      "text/plain": "  0%|          | 0/800 [00:00<?, ?it/s]",
      "application/vnd.jupyter.widget-view+json": {
       "version_major": 2,
       "version_minor": 0,
       "model_id": "725215f09ce34c6eb9685d61175185af"
      }
     },
     "metadata": {},
     "output_type": "display_data"
    },
    {
     "data": {
      "text/plain": "  0%|          | 0/800 [00:00<?, ?it/s]",
      "application/vnd.jupyter.widget-view+json": {
       "version_major": 2,
       "version_minor": 0,
       "model_id": "5d5b98485c7e4006a2981ade00062722"
      }
     },
     "metadata": {},
     "output_type": "display_data"
    },
    {
     "data": {
      "text/plain": "  0%|          | 0/800 [00:00<?, ?it/s]",
      "application/vnd.jupyter.widget-view+json": {
       "version_major": 2,
       "version_minor": 0,
       "model_id": "a3a7f2c319ee41228ce48344cb0aa823"
      }
     },
     "metadata": {},
     "output_type": "display_data"
    },
    {
     "data": {
      "text/plain": "  0%|          | 0/800 [00:00<?, ?it/s]",
      "application/vnd.jupyter.widget-view+json": {
       "version_major": 2,
       "version_minor": 0,
       "model_id": "abebe8dac8164eea90536a1746806cda"
      }
     },
     "metadata": {},
     "output_type": "display_data"
    },
    {
     "data": {
      "text/plain": "  0%|          | 0/800 [00:00<?, ?it/s]",
      "application/vnd.jupyter.widget-view+json": {
       "version_major": 2,
       "version_minor": 0,
       "model_id": "0cc4adcaeb25426c8a97a1a17a4a3472"
      }
     },
     "metadata": {},
     "output_type": "display_data"
    },
    {
     "data": {
      "text/plain": "  0%|          | 0/800 [00:00<?, ?it/s]",
      "application/vnd.jupyter.widget-view+json": {
       "version_major": 2,
       "version_minor": 0,
       "model_id": "a2a1dec8f5624cee82cfc2fdbcb42591"
      }
     },
     "metadata": {},
     "output_type": "display_data"
    },
    {
     "data": {
      "text/plain": "  0%|          | 0/800 [00:00<?, ?it/s]",
      "application/vnd.jupyter.widget-view+json": {
       "version_major": 2,
       "version_minor": 0,
       "model_id": "3806116b25f04b22900f8eb5289c7f89"
      }
     },
     "metadata": {},
     "output_type": "display_data"
    },
    {
     "data": {
      "text/plain": "  0%|          | 0/800 [00:00<?, ?it/s]",
      "application/vnd.jupyter.widget-view+json": {
       "version_major": 2,
       "version_minor": 0,
       "model_id": "cedd6cdb9d1547e08aae6a75557660b0"
      }
     },
     "metadata": {},
     "output_type": "display_data"
    },
    {
     "data": {
      "text/plain": "  0%|          | 0/800 [00:00<?, ?it/s]",
      "application/vnd.jupyter.widget-view+json": {
       "version_major": 2,
       "version_minor": 0,
       "model_id": "6f8a0591ad4f425b89cc201eb1d1f9e5"
      }
     },
     "metadata": {},
     "output_type": "display_data"
    },
    {
     "data": {
      "text/plain": "  0%|          | 0/800 [00:00<?, ?it/s]",
      "application/vnd.jupyter.widget-view+json": {
       "version_major": 2,
       "version_minor": 0,
       "model_id": "b7b3c53afa664f6aba4fd4b910af4fff"
      }
     },
     "metadata": {},
     "output_type": "display_data"
    },
    {
     "data": {
      "text/plain": "  0%|          | 0/800 [00:00<?, ?it/s]",
      "application/vnd.jupyter.widget-view+json": {
       "version_major": 2,
       "version_minor": 0,
       "model_id": "fbf043a533654309b40db001715e6927"
      }
     },
     "metadata": {},
     "output_type": "display_data"
    },
    {
     "data": {
      "text/plain": "  0%|          | 0/800 [00:00<?, ?it/s]",
      "application/vnd.jupyter.widget-view+json": {
       "version_major": 2,
       "version_minor": 0,
       "model_id": "7b478fed32d34fb89093a0103ea07a90"
      }
     },
     "metadata": {},
     "output_type": "display_data"
    },
    {
     "data": {
      "text/plain": "  0%|          | 0/800 [00:00<?, ?it/s]",
      "application/vnd.jupyter.widget-view+json": {
       "version_major": 2,
       "version_minor": 0,
       "model_id": "31a68cb628e744ef8ea01fedf8ad6c4c"
      }
     },
     "metadata": {},
     "output_type": "display_data"
    },
    {
     "data": {
      "text/plain": "  0%|          | 0/800 [00:00<?, ?it/s]",
      "application/vnd.jupyter.widget-view+json": {
       "version_major": 2,
       "version_minor": 0,
       "model_id": "aa82c5ada6e04e0a967947ef86fad212"
      }
     },
     "metadata": {},
     "output_type": "display_data"
    },
    {
     "data": {
      "text/plain": "  0%|          | 0/800 [00:00<?, ?it/s]",
      "application/vnd.jupyter.widget-view+json": {
       "version_major": 2,
       "version_minor": 0,
       "model_id": "9c077ba55371484db121e511a1fc2aa5"
      }
     },
     "metadata": {},
     "output_type": "display_data"
    },
    {
     "data": {
      "text/plain": "  0%|          | 0/800 [00:00<?, ?it/s]",
      "application/vnd.jupyter.widget-view+json": {
       "version_major": 2,
       "version_minor": 0,
       "model_id": "e1ef99bd66134a58b9cb440d7dd0435f"
      }
     },
     "metadata": {},
     "output_type": "display_data"
    },
    {
     "data": {
      "text/plain": "  0%|          | 0/800 [00:00<?, ?it/s]",
      "application/vnd.jupyter.widget-view+json": {
       "version_major": 2,
       "version_minor": 0,
       "model_id": "739beb0119464714969201c63d4f50c0"
      }
     },
     "metadata": {},
     "output_type": "display_data"
    },
    {
     "data": {
      "text/plain": "  0%|          | 0/800 [00:00<?, ?it/s]",
      "application/vnd.jupyter.widget-view+json": {
       "version_major": 2,
       "version_minor": 0,
       "model_id": "865c45c666ef4e27944236362a1ea7ce"
      }
     },
     "metadata": {},
     "output_type": "display_data"
    },
    {
     "data": {
      "text/plain": "  0%|          | 0/800 [00:00<?, ?it/s]",
      "application/vnd.jupyter.widget-view+json": {
       "version_major": 2,
       "version_minor": 0,
       "model_id": "ea7ad8cc222244dd96588bb22daded7d"
      }
     },
     "metadata": {},
     "output_type": "display_data"
    },
    {
     "data": {
      "text/plain": "  0%|          | 0/800 [00:00<?, ?it/s]",
      "application/vnd.jupyter.widget-view+json": {
       "version_major": 2,
       "version_minor": 0,
       "model_id": "6fe7ad482dcd4cad8e995c7b26fc51d8"
      }
     },
     "metadata": {},
     "output_type": "display_data"
    },
    {
     "data": {
      "text/plain": "  0%|          | 0/800 [00:00<?, ?it/s]",
      "application/vnd.jupyter.widget-view+json": {
       "version_major": 2,
       "version_minor": 0,
       "model_id": "ef6c867e3afe4e1e87326c76b9efd204"
      }
     },
     "metadata": {},
     "output_type": "display_data"
    },
    {
     "data": {
      "text/plain": "  0%|          | 0/800 [00:00<?, ?it/s]",
      "application/vnd.jupyter.widget-view+json": {
       "version_major": 2,
       "version_minor": 0,
       "model_id": "afe665461a13454496312d3d091cf244"
      }
     },
     "metadata": {},
     "output_type": "display_data"
    },
    {
     "data": {
      "text/plain": "  0%|          | 0/800 [00:00<?, ?it/s]",
      "application/vnd.jupyter.widget-view+json": {
       "version_major": 2,
       "version_minor": 0,
       "model_id": "32d67c1082fd4c13af5664c7b6b52f7b"
      }
     },
     "metadata": {},
     "output_type": "display_data"
    },
    {
     "data": {
      "text/plain": "  0%|          | 0/800 [00:00<?, ?it/s]",
      "application/vnd.jupyter.widget-view+json": {
       "version_major": 2,
       "version_minor": 0,
       "model_id": "bfc838e641bb4f07a639b27de9180944"
      }
     },
     "metadata": {},
     "output_type": "display_data"
    },
    {
     "data": {
      "text/plain": "  0%|          | 0/800 [00:00<?, ?it/s]",
      "application/vnd.jupyter.widget-view+json": {
       "version_major": 2,
       "version_minor": 0,
       "model_id": "cd3d4f531ee6428b93f2a5be7b0368e8"
      }
     },
     "metadata": {},
     "output_type": "display_data"
    },
    {
     "data": {
      "text/plain": "  0%|          | 0/800 [00:00<?, ?it/s]",
      "application/vnd.jupyter.widget-view+json": {
       "version_major": 2,
       "version_minor": 0,
       "model_id": "c53ffac996094855a58dc1f050fdcae3"
      }
     },
     "metadata": {},
     "output_type": "display_data"
    },
    {
     "data": {
      "text/plain": "  0%|          | 0/800 [00:00<?, ?it/s]",
      "application/vnd.jupyter.widget-view+json": {
       "version_major": 2,
       "version_minor": 0,
       "model_id": "daf51e9638764b31afd6ce49bd90350f"
      }
     },
     "metadata": {},
     "output_type": "display_data"
    },
    {
     "data": {
      "text/plain": "  0%|          | 0/800 [00:00<?, ?it/s]",
      "application/vnd.jupyter.widget-view+json": {
       "version_major": 2,
       "version_minor": 0,
       "model_id": "afb7803059144a339dfde766216021a0"
      }
     },
     "metadata": {},
     "output_type": "display_data"
    },
    {
     "data": {
      "text/plain": "  0%|          | 0/800 [00:00<?, ?it/s]",
      "application/vnd.jupyter.widget-view+json": {
       "version_major": 2,
       "version_minor": 0,
       "model_id": "6a1213e7e84e4dc481058790db3eb87f"
      }
     },
     "metadata": {},
     "output_type": "display_data"
    },
    {
     "data": {
      "text/plain": "  0%|          | 0/800 [00:00<?, ?it/s]",
      "application/vnd.jupyter.widget-view+json": {
       "version_major": 2,
       "version_minor": 0,
       "model_id": "644dda5c6123488e82eec87850935223"
      }
     },
     "metadata": {},
     "output_type": "display_data"
    },
    {
     "data": {
      "text/plain": "  0%|          | 0/800 [00:00<?, ?it/s]",
      "application/vnd.jupyter.widget-view+json": {
       "version_major": 2,
       "version_minor": 0,
       "model_id": "e2b9b872c8f24da591f069b33928ad8c"
      }
     },
     "metadata": {},
     "output_type": "display_data"
    },
    {
     "data": {
      "text/plain": "  0%|          | 0/800 [00:00<?, ?it/s]",
      "application/vnd.jupyter.widget-view+json": {
       "version_major": 2,
       "version_minor": 0,
       "model_id": "c76b086b042c41f88938ecb8de3cab3c"
      }
     },
     "metadata": {},
     "output_type": "display_data"
    },
    {
     "data": {
      "text/plain": "  0%|          | 0/800 [00:00<?, ?it/s]",
      "application/vnd.jupyter.widget-view+json": {
       "version_major": 2,
       "version_minor": 0,
       "model_id": "0a8f1ec408dc4932b6a2a3d45d2694f8"
      }
     },
     "metadata": {},
     "output_type": "display_data"
    },
    {
     "data": {
      "text/plain": "  0%|          | 0/800 [00:00<?, ?it/s]",
      "application/vnd.jupyter.widget-view+json": {
       "version_major": 2,
       "version_minor": 0,
       "model_id": "ad07d485213b47e8b426c15b5d721da7"
      }
     },
     "metadata": {},
     "output_type": "display_data"
    },
    {
     "data": {
      "text/plain": "  0%|          | 0/800 [00:00<?, ?it/s]",
      "application/vnd.jupyter.widget-view+json": {
       "version_major": 2,
       "version_minor": 0,
       "model_id": "402ddb05140a4b2aaedd1e76679fb28e"
      }
     },
     "metadata": {},
     "output_type": "display_data"
    },
    {
     "data": {
      "text/plain": "  0%|          | 0/800 [00:00<?, ?it/s]",
      "application/vnd.jupyter.widget-view+json": {
       "version_major": 2,
       "version_minor": 0,
       "model_id": "b992f8baeb5c450cbe59ca2698694fe5"
      }
     },
     "metadata": {},
     "output_type": "display_data"
    },
    {
     "data": {
      "text/plain": "  0%|          | 0/800 [00:00<?, ?it/s]",
      "application/vnd.jupyter.widget-view+json": {
       "version_major": 2,
       "version_minor": 0,
       "model_id": "fde7c6aa1bd845b4b3d0b1b930b6be5d"
      }
     },
     "metadata": {},
     "output_type": "display_data"
    },
    {
     "data": {
      "text/plain": "  0%|          | 0/800 [00:00<?, ?it/s]",
      "application/vnd.jupyter.widget-view+json": {
       "version_major": 2,
       "version_minor": 0,
       "model_id": "c711fb662c2b4a7ba27a0d288f2812e4"
      }
     },
     "metadata": {},
     "output_type": "display_data"
    },
    {
     "data": {
      "text/plain": "  0%|          | 0/800 [00:00<?, ?it/s]",
      "application/vnd.jupyter.widget-view+json": {
       "version_major": 2,
       "version_minor": 0,
       "model_id": "e723453a29734f9081e9fa2aa15601f3"
      }
     },
     "metadata": {},
     "output_type": "display_data"
    },
    {
     "data": {
      "text/plain": "  0%|          | 0/800 [00:00<?, ?it/s]",
      "application/vnd.jupyter.widget-view+json": {
       "version_major": 2,
       "version_minor": 0,
       "model_id": "8768ba70f2c44975aaae23420ef927ec"
      }
     },
     "metadata": {},
     "output_type": "display_data"
    },
    {
     "data": {
      "text/plain": "  0%|          | 0/800 [00:00<?, ?it/s]",
      "application/vnd.jupyter.widget-view+json": {
       "version_major": 2,
       "version_minor": 0,
       "model_id": "127b7dbd5ae24b9db6ca82bbce97fea0"
      }
     },
     "metadata": {},
     "output_type": "display_data"
    },
    {
     "data": {
      "text/plain": "  0%|          | 0/800 [00:00<?, ?it/s]",
      "application/vnd.jupyter.widget-view+json": {
       "version_major": 2,
       "version_minor": 0,
       "model_id": "356cb513e7c8499d903d431cd2bba641"
      }
     },
     "metadata": {},
     "output_type": "display_data"
    },
    {
     "data": {
      "text/plain": "  0%|          | 0/800 [00:00<?, ?it/s]",
      "application/vnd.jupyter.widget-view+json": {
       "version_major": 2,
       "version_minor": 0,
       "model_id": "86c9858655c749d488176cdbcd794fa8"
      }
     },
     "metadata": {},
     "output_type": "display_data"
    },
    {
     "data": {
      "text/plain": "  0%|          | 0/800 [00:00<?, ?it/s]",
      "application/vnd.jupyter.widget-view+json": {
       "version_major": 2,
       "version_minor": 0,
       "model_id": "4c6d172a087e4afb88b09e4e4d881b6b"
      }
     },
     "metadata": {},
     "output_type": "display_data"
    },
    {
     "data": {
      "text/plain": "  0%|          | 0/800 [00:00<?, ?it/s]",
      "application/vnd.jupyter.widget-view+json": {
       "version_major": 2,
       "version_minor": 0,
       "model_id": "10a97546b6fe4e548f2bc353ed41a9c1"
      }
     },
     "metadata": {},
     "output_type": "display_data"
    },
    {
     "data": {
      "text/plain": "  0%|          | 0/800 [00:00<?, ?it/s]",
      "application/vnd.jupyter.widget-view+json": {
       "version_major": 2,
       "version_minor": 0,
       "model_id": "0b668872da4c49bb848fb48619f659f8"
      }
     },
     "metadata": {},
     "output_type": "display_data"
    },
    {
     "data": {
      "text/plain": "  0%|          | 0/800 [00:00<?, ?it/s]",
      "application/vnd.jupyter.widget-view+json": {
       "version_major": 2,
       "version_minor": 0,
       "model_id": "ad9b685cd52f4a32ba6685377d0490c3"
      }
     },
     "metadata": {},
     "output_type": "display_data"
    },
    {
     "data": {
      "text/plain": "  0%|          | 0/800 [00:00<?, ?it/s]",
      "application/vnd.jupyter.widget-view+json": {
       "version_major": 2,
       "version_minor": 0,
       "model_id": "785aa78a262343b4bc4d7edf9c90e3f6"
      }
     },
     "metadata": {},
     "output_type": "display_data"
    },
    {
     "data": {
      "text/plain": "  0%|          | 0/800 [00:00<?, ?it/s]",
      "application/vnd.jupyter.widget-view+json": {
       "version_major": 2,
       "version_minor": 0,
       "model_id": "e7c60755fbb448b0b2613bcb9d900808"
      }
     },
     "metadata": {},
     "output_type": "display_data"
    },
    {
     "data": {
      "text/plain": "  0%|          | 0/800 [00:00<?, ?it/s]",
      "application/vnd.jupyter.widget-view+json": {
       "version_major": 2,
       "version_minor": 0,
       "model_id": "c5389108fb064ba280cc0c68c2f99e60"
      }
     },
     "metadata": {},
     "output_type": "display_data"
    },
    {
     "data": {
      "text/plain": "  0%|          | 0/800 [00:00<?, ?it/s]",
      "application/vnd.jupyter.widget-view+json": {
       "version_major": 2,
       "version_minor": 0,
       "model_id": "1d763439684440d9b849f597ac6e3fda"
      }
     },
     "metadata": {},
     "output_type": "display_data"
    },
    {
     "data": {
      "text/plain": "  0%|          | 0/800 [00:00<?, ?it/s]",
      "application/vnd.jupyter.widget-view+json": {
       "version_major": 2,
       "version_minor": 0,
       "model_id": "515ae4077ff84b76a770ca579820559b"
      }
     },
     "metadata": {},
     "output_type": "display_data"
    },
    {
     "data": {
      "text/plain": "  0%|          | 0/800 [00:00<?, ?it/s]",
      "application/vnd.jupyter.widget-view+json": {
       "version_major": 2,
       "version_minor": 0,
       "model_id": "e8a973809f72495f8aaa3fe37818ba88"
      }
     },
     "metadata": {},
     "output_type": "display_data"
    },
    {
     "data": {
      "text/plain": "  0%|          | 0/800 [00:00<?, ?it/s]",
      "application/vnd.jupyter.widget-view+json": {
       "version_major": 2,
       "version_minor": 0,
       "model_id": "63487efb0fbc4b83b9451e955fe7b51e"
      }
     },
     "metadata": {},
     "output_type": "display_data"
    },
    {
     "data": {
      "text/plain": "  0%|          | 0/800 [00:00<?, ?it/s]",
      "application/vnd.jupyter.widget-view+json": {
       "version_major": 2,
       "version_minor": 0,
       "model_id": "b4afdb7cebf64bffa48513b9be4c1864"
      }
     },
     "metadata": {},
     "output_type": "display_data"
    },
    {
     "data": {
      "text/plain": "  0%|          | 0/800 [00:00<?, ?it/s]",
      "application/vnd.jupyter.widget-view+json": {
       "version_major": 2,
       "version_minor": 0,
       "model_id": "c8dc28c1bbbe44529582fbf74fc55111"
      }
     },
     "metadata": {},
     "output_type": "display_data"
    },
    {
     "data": {
      "text/plain": "  0%|          | 0/800 [00:00<?, ?it/s]",
      "application/vnd.jupyter.widget-view+json": {
       "version_major": 2,
       "version_minor": 0,
       "model_id": "39ff798289784b2ca2fd04290afa3041"
      }
     },
     "metadata": {},
     "output_type": "display_data"
    },
    {
     "data": {
      "text/plain": "  0%|          | 0/800 [00:00<?, ?it/s]",
      "application/vnd.jupyter.widget-view+json": {
       "version_major": 2,
       "version_minor": 0,
       "model_id": "3bb6d95ae1494ef4bbaf89e91e0c6bd2"
      }
     },
     "metadata": {},
     "output_type": "display_data"
    },
    {
     "data": {
      "text/plain": "  0%|          | 0/800 [00:00<?, ?it/s]",
      "application/vnd.jupyter.widget-view+json": {
       "version_major": 2,
       "version_minor": 0,
       "model_id": "2a77e1d5642148c7bb448d08da646ec5"
      }
     },
     "metadata": {},
     "output_type": "display_data"
    },
    {
     "data": {
      "text/plain": "  0%|          | 0/800 [00:00<?, ?it/s]",
      "application/vnd.jupyter.widget-view+json": {
       "version_major": 2,
       "version_minor": 0,
       "model_id": "d5fcca74744b436096e14b5a030fdc9e"
      }
     },
     "metadata": {},
     "output_type": "display_data"
    },
    {
     "data": {
      "text/plain": "  0%|          | 0/800 [00:00<?, ?it/s]",
      "application/vnd.jupyter.widget-view+json": {
       "version_major": 2,
       "version_minor": 0,
       "model_id": "18ca227e2d1d4dae82b722f0365853d4"
      }
     },
     "metadata": {},
     "output_type": "display_data"
    },
    {
     "data": {
      "text/plain": "  0%|          | 0/800 [00:00<?, ?it/s]",
      "application/vnd.jupyter.widget-view+json": {
       "version_major": 2,
       "version_minor": 0,
       "model_id": "4c2042c562494cfd909d5314cc8c1a86"
      }
     },
     "metadata": {},
     "output_type": "display_data"
    },
    {
     "data": {
      "text/plain": "  0%|          | 0/800 [00:00<?, ?it/s]",
      "application/vnd.jupyter.widget-view+json": {
       "version_major": 2,
       "version_minor": 0,
       "model_id": "c6fdc6ba800643eaa061e0a4f2f91f62"
      }
     },
     "metadata": {},
     "output_type": "display_data"
    },
    {
     "data": {
      "text/plain": "  0%|          | 0/800 [00:00<?, ?it/s]",
      "application/vnd.jupyter.widget-view+json": {
       "version_major": 2,
       "version_minor": 0,
       "model_id": "5c8a97d6109d4e35946c3c563c383845"
      }
     },
     "metadata": {},
     "output_type": "display_data"
    },
    {
     "data": {
      "text/plain": "  0%|          | 0/800 [00:00<?, ?it/s]",
      "application/vnd.jupyter.widget-view+json": {
       "version_major": 2,
       "version_minor": 0,
       "model_id": "0ffbff6d322843bb8cbe3b964b2c4708"
      }
     },
     "metadata": {},
     "output_type": "display_data"
    },
    {
     "data": {
      "text/plain": "  0%|          | 0/800 [00:00<?, ?it/s]",
      "application/vnd.jupyter.widget-view+json": {
       "version_major": 2,
       "version_minor": 0,
       "model_id": "6ca8bc50f25f49ed9bb3503867a01924"
      }
     },
     "metadata": {},
     "output_type": "display_data"
    },
    {
     "data": {
      "text/plain": "  0%|          | 0/800 [00:00<?, ?it/s]",
      "application/vnd.jupyter.widget-view+json": {
       "version_major": 2,
       "version_minor": 0,
       "model_id": "4d24735f7c4b4a44943b3ba68ebd48ac"
      }
     },
     "metadata": {},
     "output_type": "display_data"
    },
    {
     "data": {
      "text/plain": "  0%|          | 0/800 [00:00<?, ?it/s]",
      "application/vnd.jupyter.widget-view+json": {
       "version_major": 2,
       "version_minor": 0,
       "model_id": "a6f98da2022c4b54964bad61d21a11a3"
      }
     },
     "metadata": {},
     "output_type": "display_data"
    },
    {
     "data": {
      "text/plain": "  0%|          | 0/800 [00:00<?, ?it/s]",
      "application/vnd.jupyter.widget-view+json": {
       "version_major": 2,
       "version_minor": 0,
       "model_id": "978889fa7ad94333bfd93f8078ea672f"
      }
     },
     "metadata": {},
     "output_type": "display_data"
    },
    {
     "data": {
      "text/plain": "  0%|          | 0/800 [00:00<?, ?it/s]",
      "application/vnd.jupyter.widget-view+json": {
       "version_major": 2,
       "version_minor": 0,
       "model_id": "e5156e47e238464c849c5e8b04d33a07"
      }
     },
     "metadata": {},
     "output_type": "display_data"
    },
    {
     "data": {
      "text/plain": "  0%|          | 0/800 [00:00<?, ?it/s]",
      "application/vnd.jupyter.widget-view+json": {
       "version_major": 2,
       "version_minor": 0,
       "model_id": "8b43ff2c5ed842289b87fd586680b05a"
      }
     },
     "metadata": {},
     "output_type": "display_data"
    },
    {
     "data": {
      "text/plain": "  0%|          | 0/800 [00:00<?, ?it/s]",
      "application/vnd.jupyter.widget-view+json": {
       "version_major": 2,
       "version_minor": 0,
       "model_id": "d774cfa0b1be42c28507066ee27192f0"
      }
     },
     "metadata": {},
     "output_type": "display_data"
    },
    {
     "data": {
      "text/plain": "  0%|          | 0/800 [00:00<?, ?it/s]",
      "application/vnd.jupyter.widget-view+json": {
       "version_major": 2,
       "version_minor": 0,
       "model_id": "53abed03c63f4a13be57003c45a53c56"
      }
     },
     "metadata": {},
     "output_type": "display_data"
    },
    {
     "data": {
      "text/plain": "  0%|          | 0/800 [00:00<?, ?it/s]",
      "application/vnd.jupyter.widget-view+json": {
       "version_major": 2,
       "version_minor": 0,
       "model_id": "480e96d4225c48669357557a08cff65f"
      }
     },
     "metadata": {},
     "output_type": "display_data"
    },
    {
     "data": {
      "text/plain": "  0%|          | 0/800 [00:00<?, ?it/s]",
      "application/vnd.jupyter.widget-view+json": {
       "version_major": 2,
       "version_minor": 0,
       "model_id": "6c974699887e4b19991a8a57d3a0f985"
      }
     },
     "metadata": {},
     "output_type": "display_data"
    },
    {
     "data": {
      "text/plain": "  0%|          | 0/800 [00:00<?, ?it/s]",
      "application/vnd.jupyter.widget-view+json": {
       "version_major": 2,
       "version_minor": 0,
       "model_id": "d65c0690410547cc914950ce27b1cb9e"
      }
     },
     "metadata": {},
     "output_type": "display_data"
    },
    {
     "data": {
      "text/plain": "  0%|          | 0/800 [00:00<?, ?it/s]",
      "application/vnd.jupyter.widget-view+json": {
       "version_major": 2,
       "version_minor": 0,
       "model_id": "29eb2b466ceb44e887f452f2ffc213e6"
      }
     },
     "metadata": {},
     "output_type": "display_data"
    },
    {
     "data": {
      "text/plain": "  0%|          | 0/800 [00:00<?, ?it/s]",
      "application/vnd.jupyter.widget-view+json": {
       "version_major": 2,
       "version_minor": 0,
       "model_id": "d7ca7212e0754bb7938557aafaba945e"
      }
     },
     "metadata": {},
     "output_type": "display_data"
    },
    {
     "data": {
      "text/plain": "  0%|          | 0/800 [00:00<?, ?it/s]",
      "application/vnd.jupyter.widget-view+json": {
       "version_major": 2,
       "version_minor": 0,
       "model_id": "5411042619cc44bd823c4e72f36440f5"
      }
     },
     "metadata": {},
     "output_type": "display_data"
    },
    {
     "data": {
      "text/plain": "  0%|          | 0/800 [00:00<?, ?it/s]",
      "application/vnd.jupyter.widget-view+json": {
       "version_major": 2,
       "version_minor": 0,
       "model_id": "a849b07940e7434f9be5f77dd0f0ecb1"
      }
     },
     "metadata": {},
     "output_type": "display_data"
    },
    {
     "data": {
      "text/plain": "  0%|          | 0/800 [00:00<?, ?it/s]",
      "application/vnd.jupyter.widget-view+json": {
       "version_major": 2,
       "version_minor": 0,
       "model_id": "073955cb209a422dbd91019ab0ec0bab"
      }
     },
     "metadata": {},
     "output_type": "display_data"
    },
    {
     "data": {
      "text/plain": "  0%|          | 0/800 [00:00<?, ?it/s]",
      "application/vnd.jupyter.widget-view+json": {
       "version_major": 2,
       "version_minor": 0,
       "model_id": "b1d4a60ffa244a60930edc2261a334c7"
      }
     },
     "metadata": {},
     "output_type": "display_data"
    },
    {
     "data": {
      "text/plain": "  0%|          | 0/800 [00:00<?, ?it/s]",
      "application/vnd.jupyter.widget-view+json": {
       "version_major": 2,
       "version_minor": 0,
       "model_id": "1f374d3c85ea4f238d494e291a4c28d0"
      }
     },
     "metadata": {},
     "output_type": "display_data"
    },
    {
     "data": {
      "text/plain": "  0%|          | 0/800 [00:00<?, ?it/s]",
      "application/vnd.jupyter.widget-view+json": {
       "version_major": 2,
       "version_minor": 0,
       "model_id": "e618ab3dbc734114bd1331a84f895a39"
      }
     },
     "metadata": {},
     "output_type": "display_data"
    },
    {
     "data": {
      "text/plain": "  0%|          | 0/800 [00:00<?, ?it/s]",
      "application/vnd.jupyter.widget-view+json": {
       "version_major": 2,
       "version_minor": 0,
       "model_id": "3ad45f471f89479b950bae6ee18aae2d"
      }
     },
     "metadata": {},
     "output_type": "display_data"
    },
    {
     "data": {
      "text/plain": "  0%|          | 0/800 [00:00<?, ?it/s]",
      "application/vnd.jupyter.widget-view+json": {
       "version_major": 2,
       "version_minor": 0,
       "model_id": "2c2f8a6fe7584110b6eba07cfcda172c"
      }
     },
     "metadata": {},
     "output_type": "display_data"
    },
    {
     "data": {
      "text/plain": "  0%|          | 0/800 [00:00<?, ?it/s]",
      "application/vnd.jupyter.widget-view+json": {
       "version_major": 2,
       "version_minor": 0,
       "model_id": "4212f11808344d71bc05176283323ed2"
      }
     },
     "metadata": {},
     "output_type": "display_data"
    },
    {
     "data": {
      "text/plain": "  0%|          | 0/800 [00:00<?, ?it/s]",
      "application/vnd.jupyter.widget-view+json": {
       "version_major": 2,
       "version_minor": 0,
       "model_id": "bd3a86bca9fe4be2b16701188f35a4bf"
      }
     },
     "metadata": {},
     "output_type": "display_data"
    },
    {
     "data": {
      "text/plain": "  0%|          | 0/800 [00:00<?, ?it/s]",
      "application/vnd.jupyter.widget-view+json": {
       "version_major": 2,
       "version_minor": 0,
       "model_id": "dc92a2d4397041299c3122faff1cbce3"
      }
     },
     "metadata": {},
     "output_type": "display_data"
    },
    {
     "data": {
      "text/plain": "  0%|          | 0/800 [00:00<?, ?it/s]",
      "application/vnd.jupyter.widget-view+json": {
       "version_major": 2,
       "version_minor": 0,
       "model_id": "2b52de7260484a0ab5e7bf49928c9596"
      }
     },
     "metadata": {},
     "output_type": "display_data"
    },
    {
     "data": {
      "text/plain": "  0%|          | 0/800 [00:00<?, ?it/s]",
      "application/vnd.jupyter.widget-view+json": {
       "version_major": 2,
       "version_minor": 0,
       "model_id": "14a4f15cb6104adcb07b8f97dd7fb0ac"
      }
     },
     "metadata": {},
     "output_type": "display_data"
    },
    {
     "data": {
      "text/plain": "  0%|          | 0/800 [00:00<?, ?it/s]",
      "application/vnd.jupyter.widget-view+json": {
       "version_major": 2,
       "version_minor": 0,
       "model_id": "910b55e1a86a4562af0eacdc52abce41"
      }
     },
     "metadata": {},
     "output_type": "display_data"
    },
    {
     "data": {
      "text/plain": "  0%|          | 0/800 [00:00<?, ?it/s]",
      "application/vnd.jupyter.widget-view+json": {
       "version_major": 2,
       "version_minor": 0,
       "model_id": "e2e9652050824c0fae2ea8699896cb2c"
      }
     },
     "metadata": {},
     "output_type": "display_data"
    },
    {
     "data": {
      "text/plain": "  0%|          | 0/800 [00:00<?, ?it/s]",
      "application/vnd.jupyter.widget-view+json": {
       "version_major": 2,
       "version_minor": 0,
       "model_id": "a814b04a8a4a41c7a03f12eec99086ef"
      }
     },
     "metadata": {},
     "output_type": "display_data"
    },
    {
     "data": {
      "text/plain": "  0%|          | 0/800 [00:00<?, ?it/s]",
      "application/vnd.jupyter.widget-view+json": {
       "version_major": 2,
       "version_minor": 0,
       "model_id": "9ba1fd16a5d44fe180c8bcc17d197a2f"
      }
     },
     "metadata": {},
     "output_type": "display_data"
    },
    {
     "data": {
      "text/plain": "  0%|          | 0/800 [00:00<?, ?it/s]",
      "application/vnd.jupyter.widget-view+json": {
       "version_major": 2,
       "version_minor": 0,
       "model_id": "127d1b2d88374db6b2fe578c98ab333a"
      }
     },
     "metadata": {},
     "output_type": "display_data"
    },
    {
     "data": {
      "text/plain": "  0%|          | 0/800 [00:00<?, ?it/s]",
      "application/vnd.jupyter.widget-view+json": {
       "version_major": 2,
       "version_minor": 0,
       "model_id": "ff004de609a04a49a1472abb87303ddf"
      }
     },
     "metadata": {},
     "output_type": "display_data"
    },
    {
     "data": {
      "text/plain": "  0%|          | 0/800 [00:00<?, ?it/s]",
      "application/vnd.jupyter.widget-view+json": {
       "version_major": 2,
       "version_minor": 0,
       "model_id": "5748f06b37754522a297c710b304c7f3"
      }
     },
     "metadata": {},
     "output_type": "display_data"
    },
    {
     "data": {
      "text/plain": "  0%|          | 0/800 [00:00<?, ?it/s]",
      "application/vnd.jupyter.widget-view+json": {
       "version_major": 2,
       "version_minor": 0,
       "model_id": "38ca3208562443ca984c95b57cd244dd"
      }
     },
     "metadata": {},
     "output_type": "display_data"
    },
    {
     "data": {
      "text/plain": "  0%|          | 0/800 [00:00<?, ?it/s]",
      "application/vnd.jupyter.widget-view+json": {
       "version_major": 2,
       "version_minor": 0,
       "model_id": "4cc17f40f98a4c87b11c56f921bdc3bb"
      }
     },
     "metadata": {},
     "output_type": "display_data"
    },
    {
     "data": {
      "text/plain": "  0%|          | 0/800 [00:00<?, ?it/s]",
      "application/vnd.jupyter.widget-view+json": {
       "version_major": 2,
       "version_minor": 0,
       "model_id": "7fd13ee6f85143559f3fb31195d0948f"
      }
     },
     "metadata": {},
     "output_type": "display_data"
    },
    {
     "data": {
      "text/plain": "  0%|          | 0/800 [00:00<?, ?it/s]",
      "application/vnd.jupyter.widget-view+json": {
       "version_major": 2,
       "version_minor": 0,
       "model_id": "400354553eb4442fb21aa41b1c6cee15"
      }
     },
     "metadata": {},
     "output_type": "display_data"
    },
    {
     "data": {
      "text/plain": "  0%|          | 0/800 [00:00<?, ?it/s]",
      "application/vnd.jupyter.widget-view+json": {
       "version_major": 2,
       "version_minor": 0,
       "model_id": "cc7f966bf0164c95a55ce5701ad418c0"
      }
     },
     "metadata": {},
     "output_type": "display_data"
    },
    {
     "data": {
      "text/plain": "  0%|          | 0/800 [00:00<?, ?it/s]",
      "application/vnd.jupyter.widget-view+json": {
       "version_major": 2,
       "version_minor": 0,
       "model_id": "4e9fc3f5682248d99b947908f6819809"
      }
     },
     "metadata": {},
     "output_type": "display_data"
    },
    {
     "data": {
      "text/plain": "  0%|          | 0/800 [00:00<?, ?it/s]",
      "application/vnd.jupyter.widget-view+json": {
       "version_major": 2,
       "version_minor": 0,
       "model_id": "ce54c95fb3d3426eb9a500c6a4b45b21"
      }
     },
     "metadata": {},
     "output_type": "display_data"
    },
    {
     "data": {
      "text/plain": "  0%|          | 0/800 [00:00<?, ?it/s]",
      "application/vnd.jupyter.widget-view+json": {
       "version_major": 2,
       "version_minor": 0,
       "model_id": "6d15d140a3fa405aa69d17abe34bc2cf"
      }
     },
     "metadata": {},
     "output_type": "display_data"
    },
    {
     "data": {
      "text/plain": "  0%|          | 0/800 [00:00<?, ?it/s]",
      "application/vnd.jupyter.widget-view+json": {
       "version_major": 2,
       "version_minor": 0,
       "model_id": "b4cc91b0653d48f18198dab8b06dfb17"
      }
     },
     "metadata": {},
     "output_type": "display_data"
    },
    {
     "data": {
      "text/plain": "  0%|          | 0/800 [00:00<?, ?it/s]",
      "application/vnd.jupyter.widget-view+json": {
       "version_major": 2,
       "version_minor": 0,
       "model_id": "ad6ff1bee138443b9b56bd3ec8b3c3b0"
      }
     },
     "metadata": {},
     "output_type": "display_data"
    },
    {
     "data": {
      "text/plain": "  0%|          | 0/800 [00:00<?, ?it/s]",
      "application/vnd.jupyter.widget-view+json": {
       "version_major": 2,
       "version_minor": 0,
       "model_id": "7e4f5b45792943b7978b93738c9c3f1e"
      }
     },
     "metadata": {},
     "output_type": "display_data"
    },
    {
     "data": {
      "text/plain": "  0%|          | 0/800 [00:00<?, ?it/s]",
      "application/vnd.jupyter.widget-view+json": {
       "version_major": 2,
       "version_minor": 0,
       "model_id": "8a81fef26a7c44a0b21989e500af7bc1"
      }
     },
     "metadata": {},
     "output_type": "display_data"
    },
    {
     "data": {
      "text/plain": "  0%|          | 0/800 [00:00<?, ?it/s]",
      "application/vnd.jupyter.widget-view+json": {
       "version_major": 2,
       "version_minor": 0,
       "model_id": "58d1d840e15b41f0833f3217af327439"
      }
     },
     "metadata": {},
     "output_type": "display_data"
    },
    {
     "data": {
      "text/plain": "  0%|          | 0/800 [00:00<?, ?it/s]",
      "application/vnd.jupyter.widget-view+json": {
       "version_major": 2,
       "version_minor": 0,
       "model_id": "d66ee1d58af34672aa802f966b442370"
      }
     },
     "metadata": {},
     "output_type": "display_data"
    },
    {
     "data": {
      "text/plain": "  0%|          | 0/800 [00:00<?, ?it/s]",
      "application/vnd.jupyter.widget-view+json": {
       "version_major": 2,
       "version_minor": 0,
       "model_id": "c36f29f814154624a3efa0ad4d18ff02"
      }
     },
     "metadata": {},
     "output_type": "display_data"
    },
    {
     "data": {
      "text/plain": "  0%|          | 0/800 [00:00<?, ?it/s]",
      "application/vnd.jupyter.widget-view+json": {
       "version_major": 2,
       "version_minor": 0,
       "model_id": "fdd599be1acd44888f847d352d7028de"
      }
     },
     "metadata": {},
     "output_type": "display_data"
    },
    {
     "data": {
      "text/plain": "  0%|          | 0/800 [00:00<?, ?it/s]",
      "application/vnd.jupyter.widget-view+json": {
       "version_major": 2,
       "version_minor": 0,
       "model_id": "f38c0d3767d6476c8fb8308aacf8cb59"
      }
     },
     "metadata": {},
     "output_type": "display_data"
    },
    {
     "data": {
      "text/plain": "  0%|          | 0/800 [00:00<?, ?it/s]",
      "application/vnd.jupyter.widget-view+json": {
       "version_major": 2,
       "version_minor": 0,
       "model_id": "8508e4efca9247c9892b08b1dbb66dc4"
      }
     },
     "metadata": {},
     "output_type": "display_data"
    },
    {
     "data": {
      "text/plain": "  0%|          | 0/800 [00:00<?, ?it/s]",
      "application/vnd.jupyter.widget-view+json": {
       "version_major": 2,
       "version_minor": 0,
       "model_id": "6f188d70fdc741618f2e6f6397b0fd8f"
      }
     },
     "metadata": {},
     "output_type": "display_data"
    },
    {
     "data": {
      "text/plain": "  0%|          | 0/800 [00:00<?, ?it/s]",
      "application/vnd.jupyter.widget-view+json": {
       "version_major": 2,
       "version_minor": 0,
       "model_id": "fbe7b1e3fefe463ca7a16980a977adbd"
      }
     },
     "metadata": {},
     "output_type": "display_data"
    },
    {
     "data": {
      "text/plain": "  0%|          | 0/800 [00:00<?, ?it/s]",
      "application/vnd.jupyter.widget-view+json": {
       "version_major": 2,
       "version_minor": 0,
       "model_id": "cdbf33c6dff646ff9bb18ef7dea5022d"
      }
     },
     "metadata": {},
     "output_type": "display_data"
    },
    {
     "data": {
      "text/plain": "  0%|          | 0/800 [00:00<?, ?it/s]",
      "application/vnd.jupyter.widget-view+json": {
       "version_major": 2,
       "version_minor": 0,
       "model_id": "ef9c9f7d84864d1e97369c54eff52ebd"
      }
     },
     "metadata": {},
     "output_type": "display_data"
    },
    {
     "data": {
      "text/plain": "  0%|          | 0/800 [00:00<?, ?it/s]",
      "application/vnd.jupyter.widget-view+json": {
       "version_major": 2,
       "version_minor": 0,
       "model_id": "a9aa56d2039b4ecf95fa222ed67f00cf"
      }
     },
     "metadata": {},
     "output_type": "display_data"
    },
    {
     "data": {
      "text/plain": "  0%|          | 0/800 [00:00<?, ?it/s]",
      "application/vnd.jupyter.widget-view+json": {
       "version_major": 2,
       "version_minor": 0,
       "model_id": "ba838ec9ab194f18a656f0085c5f4fc5"
      }
     },
     "metadata": {},
     "output_type": "display_data"
    },
    {
     "data": {
      "text/plain": "  0%|          | 0/800 [00:00<?, ?it/s]",
      "application/vnd.jupyter.widget-view+json": {
       "version_major": 2,
       "version_minor": 0,
       "model_id": "611a466bc1e34894995302b15609cb7e"
      }
     },
     "metadata": {},
     "output_type": "display_data"
    },
    {
     "data": {
      "text/plain": "  0%|          | 0/800 [00:00<?, ?it/s]",
      "application/vnd.jupyter.widget-view+json": {
       "version_major": 2,
       "version_minor": 0,
       "model_id": "35dd62a502494f24a45f50963d6764dd"
      }
     },
     "metadata": {},
     "output_type": "display_data"
    },
    {
     "data": {
      "text/plain": "  0%|          | 0/800 [00:00<?, ?it/s]",
      "application/vnd.jupyter.widget-view+json": {
       "version_major": 2,
       "version_minor": 0,
       "model_id": "be3c66b84be84aeb85360b61945958aa"
      }
     },
     "metadata": {},
     "output_type": "display_data"
    },
    {
     "data": {
      "text/plain": "  0%|          | 0/800 [00:00<?, ?it/s]",
      "application/vnd.jupyter.widget-view+json": {
       "version_major": 2,
       "version_minor": 0,
       "model_id": "c60237efe1c24b95a04272b375642af8"
      }
     },
     "metadata": {},
     "output_type": "display_data"
    },
    {
     "data": {
      "text/plain": "  0%|          | 0/800 [00:00<?, ?it/s]",
      "application/vnd.jupyter.widget-view+json": {
       "version_major": 2,
       "version_minor": 0,
       "model_id": "0d72e169d52a450fa22cc796d82f209c"
      }
     },
     "metadata": {},
     "output_type": "display_data"
    },
    {
     "data": {
      "text/plain": "  0%|          | 0/800 [00:00<?, ?it/s]",
      "application/vnd.jupyter.widget-view+json": {
       "version_major": 2,
       "version_minor": 0,
       "model_id": "8103c1c158504352adb6948cc272058e"
      }
     },
     "metadata": {},
     "output_type": "display_data"
    },
    {
     "data": {
      "text/plain": "  0%|          | 0/800 [00:00<?, ?it/s]",
      "application/vnd.jupyter.widget-view+json": {
       "version_major": 2,
       "version_minor": 0,
       "model_id": "c168f71e1ef2456b8d23c0f503aef71b"
      }
     },
     "metadata": {},
     "output_type": "display_data"
    },
    {
     "data": {
      "text/plain": "  0%|          | 0/800 [00:00<?, ?it/s]",
      "application/vnd.jupyter.widget-view+json": {
       "version_major": 2,
       "version_minor": 0,
       "model_id": "3114dd2f899c4bd7953fd79ed3cc171c"
      }
     },
     "metadata": {},
     "output_type": "display_data"
    },
    {
     "data": {
      "text/plain": "  0%|          | 0/800 [00:00<?, ?it/s]",
      "application/vnd.jupyter.widget-view+json": {
       "version_major": 2,
       "version_minor": 0,
       "model_id": "f5a56ce7ca464b96b6d68aa8f915bc10"
      }
     },
     "metadata": {},
     "output_type": "display_data"
    },
    {
     "data": {
      "text/plain": "  0%|          | 0/800 [00:00<?, ?it/s]",
      "application/vnd.jupyter.widget-view+json": {
       "version_major": 2,
       "version_minor": 0,
       "model_id": "f7d9f1a593e54d21ac4d04f0b742e870"
      }
     },
     "metadata": {},
     "output_type": "display_data"
    },
    {
     "data": {
      "text/plain": "  0%|          | 0/800 [00:00<?, ?it/s]",
      "application/vnd.jupyter.widget-view+json": {
       "version_major": 2,
       "version_minor": 0,
       "model_id": "5b06e56dfebd452c99c8c90248c181ed"
      }
     },
     "metadata": {},
     "output_type": "display_data"
    },
    {
     "data": {
      "text/plain": "  0%|          | 0/800 [00:00<?, ?it/s]",
      "application/vnd.jupyter.widget-view+json": {
       "version_major": 2,
       "version_minor": 0,
       "model_id": "0a314124335046b1954c78d8c1ae2cfc"
      }
     },
     "metadata": {},
     "output_type": "display_data"
    },
    {
     "data": {
      "text/plain": "  0%|          | 0/800 [00:00<?, ?it/s]",
      "application/vnd.jupyter.widget-view+json": {
       "version_major": 2,
       "version_minor": 0,
       "model_id": "75256c4e72dd46a8b14a78ec1eaab38e"
      }
     },
     "metadata": {},
     "output_type": "display_data"
    },
    {
     "data": {
      "text/plain": "  0%|          | 0/800 [00:00<?, ?it/s]",
      "application/vnd.jupyter.widget-view+json": {
       "version_major": 2,
       "version_minor": 0,
       "model_id": "7ba82d05f5e74eb88733e21d21c2b1b8"
      }
     },
     "metadata": {},
     "output_type": "display_data"
    },
    {
     "data": {
      "text/plain": "  0%|          | 0/800 [00:00<?, ?it/s]",
      "application/vnd.jupyter.widget-view+json": {
       "version_major": 2,
       "version_minor": 0,
       "model_id": "4c6eceb27fd447a6802a99ebd91d4e21"
      }
     },
     "metadata": {},
     "output_type": "display_data"
    },
    {
     "data": {
      "text/plain": "  0%|          | 0/800 [00:00<?, ?it/s]",
      "application/vnd.jupyter.widget-view+json": {
       "version_major": 2,
       "version_minor": 0,
       "model_id": "0a9979794f3b441aac2363731c0d4f6b"
      }
     },
     "metadata": {},
     "output_type": "display_data"
    },
    {
     "data": {
      "text/plain": "  0%|          | 0/800 [00:00<?, ?it/s]",
      "application/vnd.jupyter.widget-view+json": {
       "version_major": 2,
       "version_minor": 0,
       "model_id": "07232b7656654c70aab53c70e35c386f"
      }
     },
     "metadata": {},
     "output_type": "display_data"
    },
    {
     "data": {
      "text/plain": "  0%|          | 0/800 [00:00<?, ?it/s]",
      "application/vnd.jupyter.widget-view+json": {
       "version_major": 2,
       "version_minor": 0,
       "model_id": "32f57e7092204f4781ffd978c4f409a7"
      }
     },
     "metadata": {},
     "output_type": "display_data"
    },
    {
     "data": {
      "text/plain": "  0%|          | 0/800 [00:00<?, ?it/s]",
      "application/vnd.jupyter.widget-view+json": {
       "version_major": 2,
       "version_minor": 0,
       "model_id": "02bc7d23a43c4f5d96916f6540437ee7"
      }
     },
     "metadata": {},
     "output_type": "display_data"
    },
    {
     "data": {
      "text/plain": "  0%|          | 0/800 [00:00<?, ?it/s]",
      "application/vnd.jupyter.widget-view+json": {
       "version_major": 2,
       "version_minor": 0,
       "model_id": "dfb242aaf88b45609bc54fd4061ea8ff"
      }
     },
     "metadata": {},
     "output_type": "display_data"
    },
    {
     "data": {
      "text/plain": "  0%|          | 0/800 [00:00<?, ?it/s]",
      "application/vnd.jupyter.widget-view+json": {
       "version_major": 2,
       "version_minor": 0,
       "model_id": "a13a990bcd7b4619bfdd4087b7ba3259"
      }
     },
     "metadata": {},
     "output_type": "display_data"
    },
    {
     "data": {
      "text/plain": "  0%|          | 0/800 [00:00<?, ?it/s]",
      "application/vnd.jupyter.widget-view+json": {
       "version_major": 2,
       "version_minor": 0,
       "model_id": "c67e0bf01471443e984ec3b091f0ffe5"
      }
     },
     "metadata": {},
     "output_type": "display_data"
    },
    {
     "data": {
      "text/plain": "  0%|          | 0/800 [00:00<?, ?it/s]",
      "application/vnd.jupyter.widget-view+json": {
       "version_major": 2,
       "version_minor": 0,
       "model_id": "9b1ad360b2e24206b287bea8db3ef6f4"
      }
     },
     "metadata": {},
     "output_type": "display_data"
    },
    {
     "data": {
      "text/plain": "  0%|          | 0/800 [00:00<?, ?it/s]",
      "application/vnd.jupyter.widget-view+json": {
       "version_major": 2,
       "version_minor": 0,
       "model_id": "970f9d63778e4baab999b6413e8692fa"
      }
     },
     "metadata": {},
     "output_type": "display_data"
    },
    {
     "data": {
      "text/plain": "  0%|          | 0/800 [00:00<?, ?it/s]",
      "application/vnd.jupyter.widget-view+json": {
       "version_major": 2,
       "version_minor": 0,
       "model_id": "506faeefed654934bff63f27badf93a4"
      }
     },
     "metadata": {},
     "output_type": "display_data"
    },
    {
     "data": {
      "text/plain": "  0%|          | 0/800 [00:00<?, ?it/s]",
      "application/vnd.jupyter.widget-view+json": {
       "version_major": 2,
       "version_minor": 0,
       "model_id": "b9836f1d57cd47bb8fb4c1d6af790255"
      }
     },
     "metadata": {},
     "output_type": "display_data"
    },
    {
     "data": {
      "text/plain": "  0%|          | 0/800 [00:00<?, ?it/s]",
      "application/vnd.jupyter.widget-view+json": {
       "version_major": 2,
       "version_minor": 0,
       "model_id": "dc2cc7114d5c44ac8dc9750a88a85617"
      }
     },
     "metadata": {},
     "output_type": "display_data"
    },
    {
     "data": {
      "text/plain": "  0%|          | 0/800 [00:00<?, ?it/s]",
      "application/vnd.jupyter.widget-view+json": {
       "version_major": 2,
       "version_minor": 0,
       "model_id": "c0bc9db1af234636aeac5ac404faeeb1"
      }
     },
     "metadata": {},
     "output_type": "display_data"
    },
    {
     "data": {
      "text/plain": "  0%|          | 0/800 [00:00<?, ?it/s]",
      "application/vnd.jupyter.widget-view+json": {
       "version_major": 2,
       "version_minor": 0,
       "model_id": "36f4c5bc69dc4f92af35f8e7deeb5ee1"
      }
     },
     "metadata": {},
     "output_type": "display_data"
    },
    {
     "data": {
      "text/plain": "  0%|          | 0/800 [00:00<?, ?it/s]",
      "application/vnd.jupyter.widget-view+json": {
       "version_major": 2,
       "version_minor": 0,
       "model_id": "fcde8f3ed1bc427cba6da919454e81a1"
      }
     },
     "metadata": {},
     "output_type": "display_data"
    },
    {
     "data": {
      "text/plain": "  0%|          | 0/800 [00:00<?, ?it/s]",
      "application/vnd.jupyter.widget-view+json": {
       "version_major": 2,
       "version_minor": 0,
       "model_id": "6a37405481f54c7484052bd33bb8d3a2"
      }
     },
     "metadata": {},
     "output_type": "display_data"
    },
    {
     "data": {
      "text/plain": "  0%|          | 0/800 [00:00<?, ?it/s]",
      "application/vnd.jupyter.widget-view+json": {
       "version_major": 2,
       "version_minor": 0,
       "model_id": "8244f4ee2aa046ebb8b819fd8945c3e5"
      }
     },
     "metadata": {},
     "output_type": "display_data"
    },
    {
     "data": {
      "text/plain": "  0%|          | 0/800 [00:00<?, ?it/s]",
      "application/vnd.jupyter.widget-view+json": {
       "version_major": 2,
       "version_minor": 0,
       "model_id": "e925521a40a04841b1ee6541272c1f12"
      }
     },
     "metadata": {},
     "output_type": "display_data"
    },
    {
     "data": {
      "text/plain": "  0%|          | 0/800 [00:00<?, ?it/s]",
      "application/vnd.jupyter.widget-view+json": {
       "version_major": 2,
       "version_minor": 0,
       "model_id": "64ccf8bd02e14b7682c2ead9eba5dc01"
      }
     },
     "metadata": {},
     "output_type": "display_data"
    },
    {
     "data": {
      "text/plain": "  0%|          | 0/800 [00:00<?, ?it/s]",
      "application/vnd.jupyter.widget-view+json": {
       "version_major": 2,
       "version_minor": 0,
       "model_id": "3f81b807f9e443d8b7a820a321722e19"
      }
     },
     "metadata": {},
     "output_type": "display_data"
    },
    {
     "data": {
      "text/plain": "  0%|          | 0/800 [00:00<?, ?it/s]",
      "application/vnd.jupyter.widget-view+json": {
       "version_major": 2,
       "version_minor": 0,
       "model_id": "6c6e50fc0e174a6e83702ba82d36d3be"
      }
     },
     "metadata": {},
     "output_type": "display_data"
    },
    {
     "data": {
      "text/plain": "  0%|          | 0/800 [00:00<?, ?it/s]",
      "application/vnd.jupyter.widget-view+json": {
       "version_major": 2,
       "version_minor": 0,
       "model_id": "b14c8200838544e68f67188756cc9186"
      }
     },
     "metadata": {},
     "output_type": "display_data"
    },
    {
     "data": {
      "text/plain": "  0%|          | 0/800 [00:00<?, ?it/s]",
      "application/vnd.jupyter.widget-view+json": {
       "version_major": 2,
       "version_minor": 0,
       "model_id": "4859b705fbcc4a2fb55a05bf0c5f8629"
      }
     },
     "metadata": {},
     "output_type": "display_data"
    },
    {
     "data": {
      "text/plain": "  0%|          | 0/800 [00:00<?, ?it/s]",
      "application/vnd.jupyter.widget-view+json": {
       "version_major": 2,
       "version_minor": 0,
       "model_id": "62d5ee11cc104fa2bee0867d3821752f"
      }
     },
     "metadata": {},
     "output_type": "display_data"
    },
    {
     "data": {
      "text/plain": "  0%|          | 0/800 [00:00<?, ?it/s]",
      "application/vnd.jupyter.widget-view+json": {
       "version_major": 2,
       "version_minor": 0,
       "model_id": "2dbcfcede4d14f469cd63976914edd15"
      }
     },
     "metadata": {},
     "output_type": "display_data"
    },
    {
     "data": {
      "text/plain": "  0%|          | 0/800 [00:00<?, ?it/s]",
      "application/vnd.jupyter.widget-view+json": {
       "version_major": 2,
       "version_minor": 0,
       "model_id": "3f1689ffa08b4167b7863426f64d1481"
      }
     },
     "metadata": {},
     "output_type": "display_data"
    },
    {
     "data": {
      "text/plain": "  0%|          | 0/800 [00:00<?, ?it/s]",
      "application/vnd.jupyter.widget-view+json": {
       "version_major": 2,
       "version_minor": 0,
       "model_id": "629ff4db1e3243b5a6c88f6a8957e37b"
      }
     },
     "metadata": {},
     "output_type": "display_data"
    },
    {
     "data": {
      "text/plain": "  0%|          | 0/800 [00:00<?, ?it/s]",
      "application/vnd.jupyter.widget-view+json": {
       "version_major": 2,
       "version_minor": 0,
       "model_id": "1d887f45656045b49b9dcd1b96e8b3ba"
      }
     },
     "metadata": {},
     "output_type": "display_data"
    },
    {
     "data": {
      "text/plain": "  0%|          | 0/800 [00:00<?, ?it/s]",
      "application/vnd.jupyter.widget-view+json": {
       "version_major": 2,
       "version_minor": 0,
       "model_id": "83935b8cc7734256bd59315c76318525"
      }
     },
     "metadata": {},
     "output_type": "display_data"
    },
    {
     "data": {
      "text/plain": "  0%|          | 0/800 [00:00<?, ?it/s]",
      "application/vnd.jupyter.widget-view+json": {
       "version_major": 2,
       "version_minor": 0,
       "model_id": "a41e4bc309bc438bac4c0987869a6e0a"
      }
     },
     "metadata": {},
     "output_type": "display_data"
    },
    {
     "data": {
      "text/plain": "  0%|          | 0/800 [00:00<?, ?it/s]",
      "application/vnd.jupyter.widget-view+json": {
       "version_major": 2,
       "version_minor": 0,
       "model_id": "7eaafde6e46645ed818e7503d3611a42"
      }
     },
     "metadata": {},
     "output_type": "display_data"
    },
    {
     "data": {
      "text/plain": "  0%|          | 0/800 [00:00<?, ?it/s]",
      "application/vnd.jupyter.widget-view+json": {
       "version_major": 2,
       "version_minor": 0,
       "model_id": "6e958fa05a974e6481b899706b21bd7c"
      }
     },
     "metadata": {},
     "output_type": "display_data"
    },
    {
     "data": {
      "text/plain": "  0%|          | 0/800 [00:00<?, ?it/s]",
      "application/vnd.jupyter.widget-view+json": {
       "version_major": 2,
       "version_minor": 0,
       "model_id": "145a9b6de4fb4d51b10819c9d63e0b8e"
      }
     },
     "metadata": {},
     "output_type": "display_data"
    },
    {
     "data": {
      "text/plain": "  0%|          | 0/800 [00:00<?, ?it/s]",
      "application/vnd.jupyter.widget-view+json": {
       "version_major": 2,
       "version_minor": 0,
       "model_id": "f9e8e72704e340aeb169a511ce1322c6"
      }
     },
     "metadata": {},
     "output_type": "display_data"
    },
    {
     "data": {
      "text/plain": "  0%|          | 0/800 [00:00<?, ?it/s]",
      "application/vnd.jupyter.widget-view+json": {
       "version_major": 2,
       "version_minor": 0,
       "model_id": "dc62742d42874d4a98a0c9aaf3480001"
      }
     },
     "metadata": {},
     "output_type": "display_data"
    },
    {
     "data": {
      "text/plain": "  0%|          | 0/800 [00:00<?, ?it/s]",
      "application/vnd.jupyter.widget-view+json": {
       "version_major": 2,
       "version_minor": 0,
       "model_id": "59bf27ca14b1476ebe5ac75e46f84dd8"
      }
     },
     "metadata": {},
     "output_type": "display_data"
    },
    {
     "data": {
      "text/plain": "  0%|          | 0/800 [00:00<?, ?it/s]",
      "application/vnd.jupyter.widget-view+json": {
       "version_major": 2,
       "version_minor": 0,
       "model_id": "5562247f8bda4f16aeb999357f96b2fc"
      }
     },
     "metadata": {},
     "output_type": "display_data"
    },
    {
     "data": {
      "text/plain": "  0%|          | 0/800 [00:00<?, ?it/s]",
      "application/vnd.jupyter.widget-view+json": {
       "version_major": 2,
       "version_minor": 0,
       "model_id": "60ba66ca64ee4685a968934521a58599"
      }
     },
     "metadata": {},
     "output_type": "display_data"
    },
    {
     "data": {
      "text/plain": "  0%|          | 0/800 [00:00<?, ?it/s]",
      "application/vnd.jupyter.widget-view+json": {
       "version_major": 2,
       "version_minor": 0,
       "model_id": "e63b33e32f1045dc890c4d56cc6fc8f5"
      }
     },
     "metadata": {},
     "output_type": "display_data"
    },
    {
     "data": {
      "text/plain": "  0%|          | 0/800 [00:00<?, ?it/s]",
      "application/vnd.jupyter.widget-view+json": {
       "version_major": 2,
       "version_minor": 0,
       "model_id": "37fd4e2f12af425e83eb66b3eeec1d6c"
      }
     },
     "metadata": {},
     "output_type": "display_data"
    },
    {
     "data": {
      "text/plain": "  0%|          | 0/800 [00:00<?, ?it/s]",
      "application/vnd.jupyter.widget-view+json": {
       "version_major": 2,
       "version_minor": 0,
       "model_id": "343f93ff685f4f18b1499b4156d126eb"
      }
     },
     "metadata": {},
     "output_type": "display_data"
    },
    {
     "data": {
      "text/plain": "  0%|          | 0/800 [00:00<?, ?it/s]",
      "application/vnd.jupyter.widget-view+json": {
       "version_major": 2,
       "version_minor": 0,
       "model_id": "12c0a565dd9c410284fe167fdc8bcf68"
      }
     },
     "metadata": {},
     "output_type": "display_data"
    },
    {
     "data": {
      "text/plain": "  0%|          | 0/800 [00:00<?, ?it/s]",
      "application/vnd.jupyter.widget-view+json": {
       "version_major": 2,
       "version_minor": 0,
       "model_id": "c58a58668c6a42db9bb4940e84642b73"
      }
     },
     "metadata": {},
     "output_type": "display_data"
    },
    {
     "data": {
      "text/plain": "  0%|          | 0/800 [00:00<?, ?it/s]",
      "application/vnd.jupyter.widget-view+json": {
       "version_major": 2,
       "version_minor": 0,
       "model_id": "2a086b74f12a407ebc6d5a8e0b023e58"
      }
     },
     "metadata": {},
     "output_type": "display_data"
    },
    {
     "data": {
      "text/plain": "  0%|          | 0/800 [00:00<?, ?it/s]",
      "application/vnd.jupyter.widget-view+json": {
       "version_major": 2,
       "version_minor": 0,
       "model_id": "ae2882275b164c6e9064e6191e11ef24"
      }
     },
     "metadata": {},
     "output_type": "display_data"
    },
    {
     "data": {
      "text/plain": "  0%|          | 0/800 [00:00<?, ?it/s]",
      "application/vnd.jupyter.widget-view+json": {
       "version_major": 2,
       "version_minor": 0,
       "model_id": "b3483807eed840abaa76f1cc9340ecd3"
      }
     },
     "metadata": {},
     "output_type": "display_data"
    },
    {
     "data": {
      "text/plain": "  0%|          | 0/800 [00:00<?, ?it/s]",
      "application/vnd.jupyter.widget-view+json": {
       "version_major": 2,
       "version_minor": 0,
       "model_id": "534d4ab340c14f3fb798b3b777dd1048"
      }
     },
     "metadata": {},
     "output_type": "display_data"
    },
    {
     "data": {
      "text/plain": "  0%|          | 0/800 [00:00<?, ?it/s]",
      "application/vnd.jupyter.widget-view+json": {
       "version_major": 2,
       "version_minor": 0,
       "model_id": "edf1069e64f34313ba22d42efd5e1a48"
      }
     },
     "metadata": {},
     "output_type": "display_data"
    },
    {
     "data": {
      "text/plain": "  0%|          | 0/800 [00:00<?, ?it/s]",
      "application/vnd.jupyter.widget-view+json": {
       "version_major": 2,
       "version_minor": 0,
       "model_id": "68ef6b66afe24ab7b91e4891b8f29e68"
      }
     },
     "metadata": {},
     "output_type": "display_data"
    },
    {
     "data": {
      "text/plain": "  0%|          | 0/800 [00:00<?, ?it/s]",
      "application/vnd.jupyter.widget-view+json": {
       "version_major": 2,
       "version_minor": 0,
       "model_id": "cb824988e62244ffb48710f45a2f9615"
      }
     },
     "metadata": {},
     "output_type": "display_data"
    },
    {
     "data": {
      "text/plain": "  0%|          | 0/800 [00:00<?, ?it/s]",
      "application/vnd.jupyter.widget-view+json": {
       "version_major": 2,
       "version_minor": 0,
       "model_id": "99dadbb81ecc4a0fa15930f1be9e8514"
      }
     },
     "metadata": {},
     "output_type": "display_data"
    },
    {
     "data": {
      "text/plain": "  0%|          | 0/800 [00:00<?, ?it/s]",
      "application/vnd.jupyter.widget-view+json": {
       "version_major": 2,
       "version_minor": 0,
       "model_id": "1a2f269e62a84c139063a33fcf05f020"
      }
     },
     "metadata": {},
     "output_type": "display_data"
    },
    {
     "data": {
      "text/plain": "  0%|          | 0/800 [00:00<?, ?it/s]",
      "application/vnd.jupyter.widget-view+json": {
       "version_major": 2,
       "version_minor": 0,
       "model_id": "8d4b6b6c8ea4441ea4e388c27d82ba52"
      }
     },
     "metadata": {},
     "output_type": "display_data"
    },
    {
     "data": {
      "text/plain": "  0%|          | 0/800 [00:00<?, ?it/s]",
      "application/vnd.jupyter.widget-view+json": {
       "version_major": 2,
       "version_minor": 0,
       "model_id": "1b40a213d5f541c6aea7c722f95b8d5f"
      }
     },
     "metadata": {},
     "output_type": "display_data"
    },
    {
     "data": {
      "text/plain": "  0%|          | 0/800 [00:00<?, ?it/s]",
      "application/vnd.jupyter.widget-view+json": {
       "version_major": 2,
       "version_minor": 0,
       "model_id": "dcff379e02664814bbd2a90e43301cfe"
      }
     },
     "metadata": {},
     "output_type": "display_data"
    },
    {
     "data": {
      "text/plain": "  0%|          | 0/800 [00:00<?, ?it/s]",
      "application/vnd.jupyter.widget-view+json": {
       "version_major": 2,
       "version_minor": 0,
       "model_id": "43bddfd47b254ee98b8bc84a146f85b6"
      }
     },
     "metadata": {},
     "output_type": "display_data"
    },
    {
     "data": {
      "text/plain": "  0%|          | 0/800 [00:00<?, ?it/s]",
      "application/vnd.jupyter.widget-view+json": {
       "version_major": 2,
       "version_minor": 0,
       "model_id": "a0bbcece3eec494281e6db4afcd8e57e"
      }
     },
     "metadata": {},
     "output_type": "display_data"
    },
    {
     "data": {
      "text/plain": "  0%|          | 0/800 [00:00<?, ?it/s]",
      "application/vnd.jupyter.widget-view+json": {
       "version_major": 2,
       "version_minor": 0,
       "model_id": "4c6d486bc5aa4f4a9df7f84b980bee04"
      }
     },
     "metadata": {},
     "output_type": "display_data"
    },
    {
     "data": {
      "text/plain": "  0%|          | 0/800 [00:00<?, ?it/s]",
      "application/vnd.jupyter.widget-view+json": {
       "version_major": 2,
       "version_minor": 0,
       "model_id": "6d097823043541a9a18642d31bed8a8c"
      }
     },
     "metadata": {},
     "output_type": "display_data"
    },
    {
     "data": {
      "text/plain": "  0%|          | 0/800 [00:00<?, ?it/s]",
      "application/vnd.jupyter.widget-view+json": {
       "version_major": 2,
       "version_minor": 0,
       "model_id": "9b741f8680d84be98ba9497caab0287c"
      }
     },
     "metadata": {},
     "output_type": "display_data"
    },
    {
     "data": {
      "text/plain": "  0%|          | 0/800 [00:00<?, ?it/s]",
      "application/vnd.jupyter.widget-view+json": {
       "version_major": 2,
       "version_minor": 0,
       "model_id": "8c5c9fc0df414f18a2879ef74d85b95b"
      }
     },
     "metadata": {},
     "output_type": "display_data"
    },
    {
     "data": {
      "text/plain": "  0%|          | 0/800 [00:00<?, ?it/s]",
      "application/vnd.jupyter.widget-view+json": {
       "version_major": 2,
       "version_minor": 0,
       "model_id": "e4b3f74771eb4cdaaf8d08c8d1230e95"
      }
     },
     "metadata": {},
     "output_type": "display_data"
    },
    {
     "data": {
      "text/plain": "  0%|          | 0/800 [00:00<?, ?it/s]",
      "application/vnd.jupyter.widget-view+json": {
       "version_major": 2,
       "version_minor": 0,
       "model_id": "db2855e26c5b44189af9ea34d587577e"
      }
     },
     "metadata": {},
     "output_type": "display_data"
    },
    {
     "data": {
      "text/plain": "  0%|          | 0/800 [00:00<?, ?it/s]",
      "application/vnd.jupyter.widget-view+json": {
       "version_major": 2,
       "version_minor": 0,
       "model_id": "b0556a82982f47579cfb6be2cb509a97"
      }
     },
     "metadata": {},
     "output_type": "display_data"
    },
    {
     "data": {
      "text/plain": "  0%|          | 0/800 [00:00<?, ?it/s]",
      "application/vnd.jupyter.widget-view+json": {
       "version_major": 2,
       "version_minor": 0,
       "model_id": "15162054c57049f6856e219ae78f9f5b"
      }
     },
     "metadata": {},
     "output_type": "display_data"
    },
    {
     "data": {
      "text/plain": "  0%|          | 0/800 [00:00<?, ?it/s]",
      "application/vnd.jupyter.widget-view+json": {
       "version_major": 2,
       "version_minor": 0,
       "model_id": "797d92a59bb84849a0bcb221fc56cf4d"
      }
     },
     "metadata": {},
     "output_type": "display_data"
    },
    {
     "data": {
      "text/plain": "  0%|          | 0/800 [00:00<?, ?it/s]",
      "application/vnd.jupyter.widget-view+json": {
       "version_major": 2,
       "version_minor": 0,
       "model_id": "688aebb74ddb4d849823dcfc54a44807"
      }
     },
     "metadata": {},
     "output_type": "display_data"
    },
    {
     "data": {
      "text/plain": "  0%|          | 0/800 [00:00<?, ?it/s]",
      "application/vnd.jupyter.widget-view+json": {
       "version_major": 2,
       "version_minor": 0,
       "model_id": "4f5064385a884a669e37db49e6ac0a9b"
      }
     },
     "metadata": {},
     "output_type": "display_data"
    },
    {
     "data": {
      "text/plain": "  0%|          | 0/800 [00:00<?, ?it/s]",
      "application/vnd.jupyter.widget-view+json": {
       "version_major": 2,
       "version_minor": 0,
       "model_id": "4e4d4739d47b44598e756d4be95b8f40"
      }
     },
     "metadata": {},
     "output_type": "display_data"
    },
    {
     "data": {
      "text/plain": "  0%|          | 0/800 [00:00<?, ?it/s]",
      "application/vnd.jupyter.widget-view+json": {
       "version_major": 2,
       "version_minor": 0,
       "model_id": "c2b681baf5784f4ead1354489d426d0a"
      }
     },
     "metadata": {},
     "output_type": "display_data"
    },
    {
     "data": {
      "text/plain": "  0%|          | 0/800 [00:00<?, ?it/s]",
      "application/vnd.jupyter.widget-view+json": {
       "version_major": 2,
       "version_minor": 0,
       "model_id": "1a2b24d2f23d4b60a696b138b121bc25"
      }
     },
     "metadata": {},
     "output_type": "display_data"
    },
    {
     "data": {
      "text/plain": "  0%|          | 0/800 [00:00<?, ?it/s]",
      "application/vnd.jupyter.widget-view+json": {
       "version_major": 2,
       "version_minor": 0,
       "model_id": "8e1796441ba04075bb661f6c12d86fc7"
      }
     },
     "metadata": {},
     "output_type": "display_data"
    },
    {
     "data": {
      "text/plain": "  0%|          | 0/800 [00:00<?, ?it/s]",
      "application/vnd.jupyter.widget-view+json": {
       "version_major": 2,
       "version_minor": 0,
       "model_id": "e43e8b08ec67473a83f2cda7d592c2b7"
      }
     },
     "metadata": {},
     "output_type": "display_data"
    },
    {
     "data": {
      "text/plain": "  0%|          | 0/800 [00:00<?, ?it/s]",
      "application/vnd.jupyter.widget-view+json": {
       "version_major": 2,
       "version_minor": 0,
       "model_id": "963191b6279146fabfb499875e0e9e7e"
      }
     },
     "metadata": {},
     "output_type": "display_data"
    },
    {
     "data": {
      "text/plain": "  0%|          | 0/800 [00:00<?, ?it/s]",
      "application/vnd.jupyter.widget-view+json": {
       "version_major": 2,
       "version_minor": 0,
       "model_id": "80c682ce5aff46dfaf2875f40aa19ed1"
      }
     },
     "metadata": {},
     "output_type": "display_data"
    },
    {
     "data": {
      "text/plain": "  0%|          | 0/800 [00:00<?, ?it/s]",
      "application/vnd.jupyter.widget-view+json": {
       "version_major": 2,
       "version_minor": 0,
       "model_id": "8b5da439a9784e6f9b2b02124de4451e"
      }
     },
     "metadata": {},
     "output_type": "display_data"
    },
    {
     "data": {
      "text/plain": "  0%|          | 0/800 [00:00<?, ?it/s]",
      "application/vnd.jupyter.widget-view+json": {
       "version_major": 2,
       "version_minor": 0,
       "model_id": "a74fe80d5c864f77a12069f610dea963"
      }
     },
     "metadata": {},
     "output_type": "display_data"
    },
    {
     "data": {
      "text/plain": "  0%|          | 0/800 [00:00<?, ?it/s]",
      "application/vnd.jupyter.widget-view+json": {
       "version_major": 2,
       "version_minor": 0,
       "model_id": "3c10bb80843e45d4b75852fc583970da"
      }
     },
     "metadata": {},
     "output_type": "display_data"
    },
    {
     "data": {
      "text/plain": "  0%|          | 0/800 [00:00<?, ?it/s]",
      "application/vnd.jupyter.widget-view+json": {
       "version_major": 2,
       "version_minor": 0,
       "model_id": "07d887eea76842df95daf13738242dc8"
      }
     },
     "metadata": {},
     "output_type": "display_data"
    },
    {
     "data": {
      "text/plain": "  0%|          | 0/800 [00:00<?, ?it/s]",
      "application/vnd.jupyter.widget-view+json": {
       "version_major": 2,
       "version_minor": 0,
       "model_id": "e8d9f921c60a4dce8627f8c04b10ea69"
      }
     },
     "metadata": {},
     "output_type": "display_data"
    },
    {
     "data": {
      "text/plain": "  0%|          | 0/800 [00:00<?, ?it/s]",
      "application/vnd.jupyter.widget-view+json": {
       "version_major": 2,
       "version_minor": 0,
       "model_id": "cb3629af5f7c4a5e99a6a9e1dc644f0a"
      }
     },
     "metadata": {},
     "output_type": "display_data"
    },
    {
     "data": {
      "text/plain": "  0%|          | 0/800 [00:00<?, ?it/s]",
      "application/vnd.jupyter.widget-view+json": {
       "version_major": 2,
       "version_minor": 0,
       "model_id": "f81e596bd104404a9cb1607b7466b9be"
      }
     },
     "metadata": {},
     "output_type": "display_data"
    },
    {
     "data": {
      "text/plain": "  0%|          | 0/800 [00:00<?, ?it/s]",
      "application/vnd.jupyter.widget-view+json": {
       "version_major": 2,
       "version_minor": 0,
       "model_id": "0e58f3c5b5ef429c8c0e571401789f65"
      }
     },
     "metadata": {},
     "output_type": "display_data"
    },
    {
     "data": {
      "text/plain": "  0%|          | 0/800 [00:00<?, ?it/s]",
      "application/vnd.jupyter.widget-view+json": {
       "version_major": 2,
       "version_minor": 0,
       "model_id": "97e4f67ea2174d9e89a605e610ab2aac"
      }
     },
     "metadata": {},
     "output_type": "display_data"
    },
    {
     "data": {
      "text/plain": "  0%|          | 0/800 [00:00<?, ?it/s]",
      "application/vnd.jupyter.widget-view+json": {
       "version_major": 2,
       "version_minor": 0,
       "model_id": "de84f08b038d4fc6b45550e398e117b4"
      }
     },
     "metadata": {},
     "output_type": "display_data"
    },
    {
     "data": {
      "text/plain": "  0%|          | 0/800 [00:00<?, ?it/s]",
      "application/vnd.jupyter.widget-view+json": {
       "version_major": 2,
       "version_minor": 0,
       "model_id": "7599e7230113487097c95af261e80474"
      }
     },
     "metadata": {},
     "output_type": "display_data"
    },
    {
     "data": {
      "text/plain": "  0%|          | 0/800 [00:00<?, ?it/s]",
      "application/vnd.jupyter.widget-view+json": {
       "version_major": 2,
       "version_minor": 0,
       "model_id": "d1ab2b69a432477e920e11ad60dfb5f5"
      }
     },
     "metadata": {},
     "output_type": "display_data"
    },
    {
     "data": {
      "text/plain": "  0%|          | 0/800 [00:00<?, ?it/s]",
      "application/vnd.jupyter.widget-view+json": {
       "version_major": 2,
       "version_minor": 0,
       "model_id": "3829530ffb85480092cfdeb2b5272529"
      }
     },
     "metadata": {},
     "output_type": "display_data"
    },
    {
     "data": {
      "text/plain": "  0%|          | 0/800 [00:00<?, ?it/s]",
      "application/vnd.jupyter.widget-view+json": {
       "version_major": 2,
       "version_minor": 0,
       "model_id": "33d3b0f96fde4f8f9e01e965c71e6523"
      }
     },
     "metadata": {},
     "output_type": "display_data"
    },
    {
     "data": {
      "text/plain": "  0%|          | 0/800 [00:00<?, ?it/s]",
      "application/vnd.jupyter.widget-view+json": {
       "version_major": 2,
       "version_minor": 0,
       "model_id": "c79e3367aa07479ba51e04ad80939019"
      }
     },
     "metadata": {},
     "output_type": "display_data"
    },
    {
     "data": {
      "text/plain": "  0%|          | 0/800 [00:00<?, ?it/s]",
      "application/vnd.jupyter.widget-view+json": {
       "version_major": 2,
       "version_minor": 0,
       "model_id": "b8ae8c14f9e348a7993395503aa178c7"
      }
     },
     "metadata": {},
     "output_type": "display_data"
    },
    {
     "data": {
      "text/plain": "  0%|          | 0/800 [00:00<?, ?it/s]",
      "application/vnd.jupyter.widget-view+json": {
       "version_major": 2,
       "version_minor": 0,
       "model_id": "2e4bdb57986f47fcb3f9ad40d6a75ce4"
      }
     },
     "metadata": {},
     "output_type": "display_data"
    },
    {
     "data": {
      "text/plain": "  0%|          | 0/800 [00:00<?, ?it/s]",
      "application/vnd.jupyter.widget-view+json": {
       "version_major": 2,
       "version_minor": 0,
       "model_id": "9e6ae8b870c344c985db20786b4774c2"
      }
     },
     "metadata": {},
     "output_type": "display_data"
    },
    {
     "data": {
      "text/plain": "  0%|          | 0/800 [00:00<?, ?it/s]",
      "application/vnd.jupyter.widget-view+json": {
       "version_major": 2,
       "version_minor": 0,
       "model_id": "5eec66c574a848ba988f9d1d4ff7f489"
      }
     },
     "metadata": {},
     "output_type": "display_data"
    },
    {
     "data": {
      "text/plain": "  0%|          | 0/800 [00:00<?, ?it/s]",
      "application/vnd.jupyter.widget-view+json": {
       "version_major": 2,
       "version_minor": 0,
       "model_id": "80886ea329f7489795c58cfd8434d280"
      }
     },
     "metadata": {},
     "output_type": "display_data"
    },
    {
     "data": {
      "text/plain": "  0%|          | 0/800 [00:00<?, ?it/s]",
      "application/vnd.jupyter.widget-view+json": {
       "version_major": 2,
       "version_minor": 0,
       "model_id": "d064d2600daf4d7fbabbabb8afa64083"
      }
     },
     "metadata": {},
     "output_type": "display_data"
    },
    {
     "data": {
      "text/plain": "  0%|          | 0/800 [00:00<?, ?it/s]",
      "application/vnd.jupyter.widget-view+json": {
       "version_major": 2,
       "version_minor": 0,
       "model_id": "4bbb0ffbbcee4f6e8a28d80083513b65"
      }
     },
     "metadata": {},
     "output_type": "display_data"
    },
    {
     "data": {
      "text/plain": "  0%|          | 0/800 [00:00<?, ?it/s]",
      "application/vnd.jupyter.widget-view+json": {
       "version_major": 2,
       "version_minor": 0,
       "model_id": "9d106e44294c451ab3084e14e7c601f5"
      }
     },
     "metadata": {},
     "output_type": "display_data"
    },
    {
     "data": {
      "text/plain": "  0%|          | 0/800 [00:00<?, ?it/s]",
      "application/vnd.jupyter.widget-view+json": {
       "version_major": 2,
       "version_minor": 0,
       "model_id": "d48e7c78d6d6493e95fae5f142047848"
      }
     },
     "metadata": {},
     "output_type": "display_data"
    },
    {
     "data": {
      "text/plain": "  0%|          | 0/800 [00:00<?, ?it/s]",
      "application/vnd.jupyter.widget-view+json": {
       "version_major": 2,
       "version_minor": 0,
       "model_id": "6800c6f320de47d99c35a4b48836ad5c"
      }
     },
     "metadata": {},
     "output_type": "display_data"
    },
    {
     "data": {
      "text/plain": "  0%|          | 0/800 [00:00<?, ?it/s]",
      "application/vnd.jupyter.widget-view+json": {
       "version_major": 2,
       "version_minor": 0,
       "model_id": "fc644e5abeb04635bdcfdbe2ee567c22"
      }
     },
     "metadata": {},
     "output_type": "display_data"
    },
    {
     "data": {
      "text/plain": "  0%|          | 0/800 [00:00<?, ?it/s]",
      "application/vnd.jupyter.widget-view+json": {
       "version_major": 2,
       "version_minor": 0,
       "model_id": "34f01a0d195343b1b189ba60056145f7"
      }
     },
     "metadata": {},
     "output_type": "display_data"
    },
    {
     "data": {
      "text/plain": "  0%|          | 0/800 [00:00<?, ?it/s]",
      "application/vnd.jupyter.widget-view+json": {
       "version_major": 2,
       "version_minor": 0,
       "model_id": "fb35698c0e614aa9a0953aae2ecfdc84"
      }
     },
     "metadata": {},
     "output_type": "display_data"
    },
    {
     "data": {
      "text/plain": "  0%|          | 0/800 [00:00<?, ?it/s]",
      "application/vnd.jupyter.widget-view+json": {
       "version_major": 2,
       "version_minor": 0,
       "model_id": "20cb4055839442c4a21f81f4d0bb096b"
      }
     },
     "metadata": {},
     "output_type": "display_data"
    },
    {
     "data": {
      "text/plain": "  0%|          | 0/800 [00:00<?, ?it/s]",
      "application/vnd.jupyter.widget-view+json": {
       "version_major": 2,
       "version_minor": 0,
       "model_id": "f92de208210a48758fc4c71cc7c2e840"
      }
     },
     "metadata": {},
     "output_type": "display_data"
    },
    {
     "data": {
      "text/plain": "  0%|          | 0/800 [00:00<?, ?it/s]",
      "application/vnd.jupyter.widget-view+json": {
       "version_major": 2,
       "version_minor": 0,
       "model_id": "736a70d567f0454cbec79d953d17bd99"
      }
     },
     "metadata": {},
     "output_type": "display_data"
    },
    {
     "data": {
      "text/plain": "  0%|          | 0/800 [00:00<?, ?it/s]",
      "application/vnd.jupyter.widget-view+json": {
       "version_major": 2,
       "version_minor": 0,
       "model_id": "e63450908e48498b855da2fffc3fda86"
      }
     },
     "metadata": {},
     "output_type": "display_data"
    },
    {
     "data": {
      "text/plain": "  0%|          | 0/800 [00:00<?, ?it/s]",
      "application/vnd.jupyter.widget-view+json": {
       "version_major": 2,
       "version_minor": 0,
       "model_id": "f022359a0aed4743a50a33cb96fcee4b"
      }
     },
     "metadata": {},
     "output_type": "display_data"
    },
    {
     "data": {
      "text/plain": "  0%|          | 0/800 [00:00<?, ?it/s]",
      "application/vnd.jupyter.widget-view+json": {
       "version_major": 2,
       "version_minor": 0,
       "model_id": "9ec545bf7b9c46cd9a26721f7b5ebf43"
      }
     },
     "metadata": {},
     "output_type": "display_data"
    },
    {
     "data": {
      "text/plain": "  0%|          | 0/800 [00:00<?, ?it/s]",
      "application/vnd.jupyter.widget-view+json": {
       "version_major": 2,
       "version_minor": 0,
       "model_id": "d037fbd649aa4377b01005a9bfe1b60d"
      }
     },
     "metadata": {},
     "output_type": "display_data"
    },
    {
     "data": {
      "text/plain": "  0%|          | 0/800 [00:00<?, ?it/s]",
      "application/vnd.jupyter.widget-view+json": {
       "version_major": 2,
       "version_minor": 0,
       "model_id": "c6a3ac15452e4867baf0f2b5247e3c7d"
      }
     },
     "metadata": {},
     "output_type": "display_data"
    },
    {
     "data": {
      "text/plain": "  0%|          | 0/800 [00:00<?, ?it/s]",
      "application/vnd.jupyter.widget-view+json": {
       "version_major": 2,
       "version_minor": 0,
       "model_id": "d8da4648ae1a48219065e85f21d76219"
      }
     },
     "metadata": {},
     "output_type": "display_data"
    },
    {
     "data": {
      "text/plain": "  0%|          | 0/800 [00:00<?, ?it/s]",
      "application/vnd.jupyter.widget-view+json": {
       "version_major": 2,
       "version_minor": 0,
       "model_id": "196b9afb82484173b788303bf0c24c3f"
      }
     },
     "metadata": {},
     "output_type": "display_data"
    },
    {
     "data": {
      "text/plain": "  0%|          | 0/800 [00:00<?, ?it/s]",
      "application/vnd.jupyter.widget-view+json": {
       "version_major": 2,
       "version_minor": 0,
       "model_id": "0d12ab39d3ea4de0a77b843adbe2b85c"
      }
     },
     "metadata": {},
     "output_type": "display_data"
    },
    {
     "data": {
      "text/plain": "  0%|          | 0/800 [00:00<?, ?it/s]",
      "application/vnd.jupyter.widget-view+json": {
       "version_major": 2,
       "version_minor": 0,
       "model_id": "dd9dc16999214c8c97ed51a7cfdcbaf2"
      }
     },
     "metadata": {},
     "output_type": "display_data"
    },
    {
     "data": {
      "text/plain": "  0%|          | 0/800 [00:00<?, ?it/s]",
      "application/vnd.jupyter.widget-view+json": {
       "version_major": 2,
       "version_minor": 0,
       "model_id": "f37ab0b9691346549dde3cd874c295ca"
      }
     },
     "metadata": {},
     "output_type": "display_data"
    },
    {
     "data": {
      "text/plain": "  0%|          | 0/800 [00:00<?, ?it/s]",
      "application/vnd.jupyter.widget-view+json": {
       "version_major": 2,
       "version_minor": 0,
       "model_id": "f9fb6f6cda2840debcfa0d82e62798db"
      }
     },
     "metadata": {},
     "output_type": "display_data"
    },
    {
     "data": {
      "text/plain": "  0%|          | 0/800 [00:00<?, ?it/s]",
      "application/vnd.jupyter.widget-view+json": {
       "version_major": 2,
       "version_minor": 0,
       "model_id": "37ab2d5c80d74314ad93c89ddababeda"
      }
     },
     "metadata": {},
     "output_type": "display_data"
    },
    {
     "data": {
      "text/plain": "  0%|          | 0/800 [00:00<?, ?it/s]",
      "application/vnd.jupyter.widget-view+json": {
       "version_major": 2,
       "version_minor": 0,
       "model_id": "bbe338eedca04ac782d447e5e216f1c4"
      }
     },
     "metadata": {},
     "output_type": "display_data"
    },
    {
     "data": {
      "text/plain": "  0%|          | 0/800 [00:00<?, ?it/s]",
      "application/vnd.jupyter.widget-view+json": {
       "version_major": 2,
       "version_minor": 0,
       "model_id": "77716f813bfb492086784977692e11b9"
      }
     },
     "metadata": {},
     "output_type": "display_data"
    },
    {
     "data": {
      "text/plain": "  0%|          | 0/800 [00:00<?, ?it/s]",
      "application/vnd.jupyter.widget-view+json": {
       "version_major": 2,
       "version_minor": 0,
       "model_id": "6c8768bc1b3741c099efd0db5b279c89"
      }
     },
     "metadata": {},
     "output_type": "display_data"
    },
    {
     "data": {
      "text/plain": "  0%|          | 0/800 [00:00<?, ?it/s]",
      "application/vnd.jupyter.widget-view+json": {
       "version_major": 2,
       "version_minor": 0,
       "model_id": "8e7b9693abca4a70a452e6e959306358"
      }
     },
     "metadata": {},
     "output_type": "display_data"
    },
    {
     "data": {
      "text/plain": "  0%|          | 0/800 [00:00<?, ?it/s]",
      "application/vnd.jupyter.widget-view+json": {
       "version_major": 2,
       "version_minor": 0,
       "model_id": "abfa490dcf864f7aaf56f1573f54d7d3"
      }
     },
     "metadata": {},
     "output_type": "display_data"
    },
    {
     "data": {
      "text/plain": "  0%|          | 0/800 [00:00<?, ?it/s]",
      "application/vnd.jupyter.widget-view+json": {
       "version_major": 2,
       "version_minor": 0,
       "model_id": "74fcc2aeb54f4497b84c228aa1356b9b"
      }
     },
     "metadata": {},
     "output_type": "display_data"
    },
    {
     "data": {
      "text/plain": "  0%|          | 0/800 [00:00<?, ?it/s]",
      "application/vnd.jupyter.widget-view+json": {
       "version_major": 2,
       "version_minor": 0,
       "model_id": "5028b56c385645e1913ec55e711089df"
      }
     },
     "metadata": {},
     "output_type": "display_data"
    },
    {
     "data": {
      "text/plain": "  0%|          | 0/800 [00:00<?, ?it/s]",
      "application/vnd.jupyter.widget-view+json": {
       "version_major": 2,
       "version_minor": 0,
       "model_id": "ef7d5ae29f4448d8b9c71d5924f79622"
      }
     },
     "metadata": {},
     "output_type": "display_data"
    },
    {
     "data": {
      "text/plain": "  0%|          | 0/800 [00:00<?, ?it/s]",
      "application/vnd.jupyter.widget-view+json": {
       "version_major": 2,
       "version_minor": 0,
       "model_id": "fd5ef7976c4645178d7a3ba7a4353488"
      }
     },
     "metadata": {},
     "output_type": "display_data"
    },
    {
     "data": {
      "text/plain": "  0%|          | 0/800 [00:00<?, ?it/s]",
      "application/vnd.jupyter.widget-view+json": {
       "version_major": 2,
       "version_minor": 0,
       "model_id": "6decfd03bbce4464847b6f7c3cfe9cee"
      }
     },
     "metadata": {},
     "output_type": "display_data"
    },
    {
     "data": {
      "text/plain": "  0%|          | 0/800 [00:00<?, ?it/s]",
      "application/vnd.jupyter.widget-view+json": {
       "version_major": 2,
       "version_minor": 0,
       "model_id": "bd941b292bff49a29febaa9b7e160a2b"
      }
     },
     "metadata": {},
     "output_type": "display_data"
    },
    {
     "data": {
      "text/plain": "  0%|          | 0/800 [00:00<?, ?it/s]",
      "application/vnd.jupyter.widget-view+json": {
       "version_major": 2,
       "version_minor": 0,
       "model_id": "070e4aca3cde4eaabca2cec48016c71a"
      }
     },
     "metadata": {},
     "output_type": "display_data"
    },
    {
     "data": {
      "text/plain": "  0%|          | 0/800 [00:00<?, ?it/s]",
      "application/vnd.jupyter.widget-view+json": {
       "version_major": 2,
       "version_minor": 0,
       "model_id": "a9a7fdf748f647d4bc47a22e2474dcb4"
      }
     },
     "metadata": {},
     "output_type": "display_data"
    },
    {
     "data": {
      "text/plain": "  0%|          | 0/800 [00:00<?, ?it/s]",
      "application/vnd.jupyter.widget-view+json": {
       "version_major": 2,
       "version_minor": 0,
       "model_id": "8babf21355814ebb8c5206abe02c7265"
      }
     },
     "metadata": {},
     "output_type": "display_data"
    },
    {
     "data": {
      "text/plain": "  0%|          | 0/800 [00:00<?, ?it/s]",
      "application/vnd.jupyter.widget-view+json": {
       "version_major": 2,
       "version_minor": 0,
       "model_id": "de6ce544957e400c8176aa2830e1adfe"
      }
     },
     "metadata": {},
     "output_type": "display_data"
    },
    {
     "data": {
      "text/plain": "  0%|          | 0/800 [00:00<?, ?it/s]",
      "application/vnd.jupyter.widget-view+json": {
       "version_major": 2,
       "version_minor": 0,
       "model_id": "5b4544b0054240019b781444538f7407"
      }
     },
     "metadata": {},
     "output_type": "display_data"
    },
    {
     "data": {
      "text/plain": "  0%|          | 0/800 [00:00<?, ?it/s]",
      "application/vnd.jupyter.widget-view+json": {
       "version_major": 2,
       "version_minor": 0,
       "model_id": "644547f19f09409d997f3c4531f58b92"
      }
     },
     "metadata": {},
     "output_type": "display_data"
    },
    {
     "data": {
      "text/plain": "  0%|          | 0/800 [00:00<?, ?it/s]",
      "application/vnd.jupyter.widget-view+json": {
       "version_major": 2,
       "version_minor": 0,
       "model_id": "8ee563df68ef4b3f93c9afe501ce8520"
      }
     },
     "metadata": {},
     "output_type": "display_data"
    },
    {
     "data": {
      "text/plain": "  0%|          | 0/800 [00:00<?, ?it/s]",
      "application/vnd.jupyter.widget-view+json": {
       "version_major": 2,
       "version_minor": 0,
       "model_id": "e05758e1a3f7456faec8b240c20cee12"
      }
     },
     "metadata": {},
     "output_type": "display_data"
    },
    {
     "data": {
      "text/plain": "  0%|          | 0/800 [00:00<?, ?it/s]",
      "application/vnd.jupyter.widget-view+json": {
       "version_major": 2,
       "version_minor": 0,
       "model_id": "294a1bd9382a432ea157bb38d4fff8a3"
      }
     },
     "metadata": {},
     "output_type": "display_data"
    },
    {
     "data": {
      "text/plain": "  0%|          | 0/800 [00:00<?, ?it/s]",
      "application/vnd.jupyter.widget-view+json": {
       "version_major": 2,
       "version_minor": 0,
       "model_id": "5b36b6937e984a019efe0b709e40d0e4"
      }
     },
     "metadata": {},
     "output_type": "display_data"
    },
    {
     "data": {
      "text/plain": "  0%|          | 0/800 [00:00<?, ?it/s]",
      "application/vnd.jupyter.widget-view+json": {
       "version_major": 2,
       "version_minor": 0,
       "model_id": "dd18ecb47c8c44309bbbbe9c59f78d0a"
      }
     },
     "metadata": {},
     "output_type": "display_data"
    },
    {
     "data": {
      "text/plain": "  0%|          | 0/800 [00:00<?, ?it/s]",
      "application/vnd.jupyter.widget-view+json": {
       "version_major": 2,
       "version_minor": 0,
       "model_id": "0d425dea542e4f028516f49b499675f4"
      }
     },
     "metadata": {},
     "output_type": "display_data"
    },
    {
     "data": {
      "text/plain": "  0%|          | 0/800 [00:00<?, ?it/s]",
      "application/vnd.jupyter.widget-view+json": {
       "version_major": 2,
       "version_minor": 0,
       "model_id": "f5a1a9b0b11047efbfac5b8b7aa96b5b"
      }
     },
     "metadata": {},
     "output_type": "display_data"
    },
    {
     "data": {
      "text/plain": "  0%|          | 0/800 [00:00<?, ?it/s]",
      "application/vnd.jupyter.widget-view+json": {
       "version_major": 2,
       "version_minor": 0,
       "model_id": "f1cb7caf0eb048bf81bd243cc7acbdd5"
      }
     },
     "metadata": {},
     "output_type": "display_data"
    },
    {
     "data": {
      "text/plain": "  0%|          | 0/800 [00:00<?, ?it/s]",
      "application/vnd.jupyter.widget-view+json": {
       "version_major": 2,
       "version_minor": 0,
       "model_id": "bfb5b256f2824bfbb2f0cbb0e36e4346"
      }
     },
     "metadata": {},
     "output_type": "display_data"
    },
    {
     "data": {
      "text/plain": "  0%|          | 0/800 [00:00<?, ?it/s]",
      "application/vnd.jupyter.widget-view+json": {
       "version_major": 2,
       "version_minor": 0,
       "model_id": "b902c8471c8141c1a582d024f6d957e7"
      }
     },
     "metadata": {},
     "output_type": "display_data"
    },
    {
     "data": {
      "text/plain": "  0%|          | 0/800 [00:00<?, ?it/s]",
      "application/vnd.jupyter.widget-view+json": {
       "version_major": 2,
       "version_minor": 0,
       "model_id": "62dfb8aeb52f4c86856f3d72dc198db7"
      }
     },
     "metadata": {},
     "output_type": "display_data"
    },
    {
     "data": {
      "text/plain": "  0%|          | 0/800 [00:00<?, ?it/s]",
      "application/vnd.jupyter.widget-view+json": {
       "version_major": 2,
       "version_minor": 0,
       "model_id": "974df617a1ac4c48a546a3ecedd73a75"
      }
     },
     "metadata": {},
     "output_type": "display_data"
    },
    {
     "data": {
      "text/plain": "  0%|          | 0/800 [00:00<?, ?it/s]",
      "application/vnd.jupyter.widget-view+json": {
       "version_major": 2,
       "version_minor": 0,
       "model_id": "f500e5d47fb84e3193ac73524114e6a9"
      }
     },
     "metadata": {},
     "output_type": "display_data"
    },
    {
     "data": {
      "text/plain": "  0%|          | 0/800 [00:00<?, ?it/s]",
      "application/vnd.jupyter.widget-view+json": {
       "version_major": 2,
       "version_minor": 0,
       "model_id": "561dbecbc7394da9bbbff11f8fa181e1"
      }
     },
     "metadata": {},
     "output_type": "display_data"
    },
    {
     "data": {
      "text/plain": "  0%|          | 0/800 [00:00<?, ?it/s]",
      "application/vnd.jupyter.widget-view+json": {
       "version_major": 2,
       "version_minor": 0,
       "model_id": "6a20eae1902640b08bdc474fa78f2557"
      }
     },
     "metadata": {},
     "output_type": "display_data"
    },
    {
     "data": {
      "text/plain": "  0%|          | 0/800 [00:00<?, ?it/s]",
      "application/vnd.jupyter.widget-view+json": {
       "version_major": 2,
       "version_minor": 0,
       "model_id": "58c9d2441c164e56941e685f88abd4b8"
      }
     },
     "metadata": {},
     "output_type": "display_data"
    },
    {
     "data": {
      "text/plain": "  0%|          | 0/800 [00:00<?, ?it/s]",
      "application/vnd.jupyter.widget-view+json": {
       "version_major": 2,
       "version_minor": 0,
       "model_id": "77a7d603a7574e1682025090a38a481d"
      }
     },
     "metadata": {},
     "output_type": "display_data"
    },
    {
     "data": {
      "text/plain": "  0%|          | 0/800 [00:00<?, ?it/s]",
      "application/vnd.jupyter.widget-view+json": {
       "version_major": 2,
       "version_minor": 0,
       "model_id": "7254b1db83154a6a8a746645985cbffc"
      }
     },
     "metadata": {},
     "output_type": "display_data"
    },
    {
     "data": {
      "text/plain": "  0%|          | 0/800 [00:00<?, ?it/s]",
      "application/vnd.jupyter.widget-view+json": {
       "version_major": 2,
       "version_minor": 0,
       "model_id": "c04f4fabb2994d1a99bde9600d8d19f2"
      }
     },
     "metadata": {},
     "output_type": "display_data"
    },
    {
     "data": {
      "text/plain": "  0%|          | 0/800 [00:00<?, ?it/s]",
      "application/vnd.jupyter.widget-view+json": {
       "version_major": 2,
       "version_minor": 0,
       "model_id": "d454d7629214449b8645dc704fc2fe59"
      }
     },
     "metadata": {},
     "output_type": "display_data"
    },
    {
     "data": {
      "text/plain": "  0%|          | 0/800 [00:00<?, ?it/s]",
      "application/vnd.jupyter.widget-view+json": {
       "version_major": 2,
       "version_minor": 0,
       "model_id": "a80606e661df4ea6849f6c9066b859ac"
      }
     },
     "metadata": {},
     "output_type": "display_data"
    },
    {
     "data": {
      "text/plain": "  0%|          | 0/800 [00:00<?, ?it/s]",
      "application/vnd.jupyter.widget-view+json": {
       "version_major": 2,
       "version_minor": 0,
       "model_id": "4ff9cf467d00478b83aee0064d56dec8"
      }
     },
     "metadata": {},
     "output_type": "display_data"
    },
    {
     "data": {
      "text/plain": "  0%|          | 0/800 [00:00<?, ?it/s]",
      "application/vnd.jupyter.widget-view+json": {
       "version_major": 2,
       "version_minor": 0,
       "model_id": "69470eeba6fb4cb89d54ef80b270b9f5"
      }
     },
     "metadata": {},
     "output_type": "display_data"
    },
    {
     "data": {
      "text/plain": "  0%|          | 0/800 [00:00<?, ?it/s]",
      "application/vnd.jupyter.widget-view+json": {
       "version_major": 2,
       "version_minor": 0,
       "model_id": "eafcd85477be4544b3a96c985679043f"
      }
     },
     "metadata": {},
     "output_type": "display_data"
    },
    {
     "data": {
      "text/plain": "  0%|          | 0/800 [00:00<?, ?it/s]",
      "application/vnd.jupyter.widget-view+json": {
       "version_major": 2,
       "version_minor": 0,
       "model_id": "ba59771440d844b68a7050ba089b6691"
      }
     },
     "metadata": {},
     "output_type": "display_data"
    },
    {
     "data": {
      "text/plain": "  0%|          | 0/800 [00:00<?, ?it/s]",
      "application/vnd.jupyter.widget-view+json": {
       "version_major": 2,
       "version_minor": 0,
       "model_id": "72586ff7da9c415490d4c6f8a699dbce"
      }
     },
     "metadata": {},
     "output_type": "display_data"
    },
    {
     "data": {
      "text/plain": "  0%|          | 0/800 [00:00<?, ?it/s]",
      "application/vnd.jupyter.widget-view+json": {
       "version_major": 2,
       "version_minor": 0,
       "model_id": "72fba21ffda544ebbba6e71e9388e676"
      }
     },
     "metadata": {},
     "output_type": "display_data"
    },
    {
     "data": {
      "text/plain": "  0%|          | 0/800 [00:00<?, ?it/s]",
      "application/vnd.jupyter.widget-view+json": {
       "version_major": 2,
       "version_minor": 0,
       "model_id": "d1342d3ec9574f17837d98738878b6f5"
      }
     },
     "metadata": {},
     "output_type": "display_data"
    },
    {
     "data": {
      "text/plain": "  0%|          | 0/800 [00:00<?, ?it/s]",
      "application/vnd.jupyter.widget-view+json": {
       "version_major": 2,
       "version_minor": 0,
       "model_id": "04682330b5a248e48d0d6333f1201578"
      }
     },
     "metadata": {},
     "output_type": "display_data"
    },
    {
     "data": {
      "text/plain": "  0%|          | 0/800 [00:00<?, ?it/s]",
      "application/vnd.jupyter.widget-view+json": {
       "version_major": 2,
       "version_minor": 0,
       "model_id": "cb26d7d8a02d4ff2b02736aaac90f186"
      }
     },
     "metadata": {},
     "output_type": "display_data"
    },
    {
     "data": {
      "text/plain": "  0%|          | 0/800 [00:00<?, ?it/s]",
      "application/vnd.jupyter.widget-view+json": {
       "version_major": 2,
       "version_minor": 0,
       "model_id": "dbfec4d2f58d4735a29727403ad3beb6"
      }
     },
     "metadata": {},
     "output_type": "display_data"
    },
    {
     "data": {
      "text/plain": "  0%|          | 0/800 [00:00<?, ?it/s]",
      "application/vnd.jupyter.widget-view+json": {
       "version_major": 2,
       "version_minor": 0,
       "model_id": "cc5113ad7dd14375beb1bb303601097a"
      }
     },
     "metadata": {},
     "output_type": "display_data"
    },
    {
     "data": {
      "text/plain": "  0%|          | 0/800 [00:00<?, ?it/s]",
      "application/vnd.jupyter.widget-view+json": {
       "version_major": 2,
       "version_minor": 0,
       "model_id": "fa7dd7ab26734f5a8bdb7c437ab9cc00"
      }
     },
     "metadata": {},
     "output_type": "display_data"
    },
    {
     "data": {
      "text/plain": "  0%|          | 0/800 [00:00<?, ?it/s]",
      "application/vnd.jupyter.widget-view+json": {
       "version_major": 2,
       "version_minor": 0,
       "model_id": "35e1d8c37d82435294448134b1f552b7"
      }
     },
     "metadata": {},
     "output_type": "display_data"
    },
    {
     "data": {
      "text/plain": "  0%|          | 0/800 [00:00<?, ?it/s]",
      "application/vnd.jupyter.widget-view+json": {
       "version_major": 2,
       "version_minor": 0,
       "model_id": "e727f49eadcb4173b7cce9dd31d81864"
      }
     },
     "metadata": {},
     "output_type": "display_data"
    },
    {
     "data": {
      "text/plain": "  0%|          | 0/800 [00:00<?, ?it/s]",
      "application/vnd.jupyter.widget-view+json": {
       "version_major": 2,
       "version_minor": 0,
       "model_id": "10e8479729f04dd2b83ea75752db74eb"
      }
     },
     "metadata": {},
     "output_type": "display_data"
    },
    {
     "data": {
      "text/plain": "  0%|          | 0/800 [00:00<?, ?it/s]",
      "application/vnd.jupyter.widget-view+json": {
       "version_major": 2,
       "version_minor": 0,
       "model_id": "b1d8714c9f1c44bbb72012ce006b4bb3"
      }
     },
     "metadata": {},
     "output_type": "display_data"
    },
    {
     "data": {
      "text/plain": "  0%|          | 0/800 [00:00<?, ?it/s]",
      "application/vnd.jupyter.widget-view+json": {
       "version_major": 2,
       "version_minor": 0,
       "model_id": "9cca13e6658a4fda86566f53f50abe4b"
      }
     },
     "metadata": {},
     "output_type": "display_data"
    },
    {
     "data": {
      "text/plain": "  0%|          | 0/800 [00:00<?, ?it/s]",
      "application/vnd.jupyter.widget-view+json": {
       "version_major": 2,
       "version_minor": 0,
       "model_id": "8c9d399a990d479192c008662d8d8980"
      }
     },
     "metadata": {},
     "output_type": "display_data"
    },
    {
     "data": {
      "text/plain": "  0%|          | 0/800 [00:00<?, ?it/s]",
      "application/vnd.jupyter.widget-view+json": {
       "version_major": 2,
       "version_minor": 0,
       "model_id": "3a6be211650d4b75a1fb6532f524ed17"
      }
     },
     "metadata": {},
     "output_type": "display_data"
    },
    {
     "data": {
      "text/plain": "  0%|          | 0/800 [00:00<?, ?it/s]",
      "application/vnd.jupyter.widget-view+json": {
       "version_major": 2,
       "version_minor": 0,
       "model_id": "a91ad3e045634087ac12df11d391bb82"
      }
     },
     "metadata": {},
     "output_type": "display_data"
    },
    {
     "data": {
      "text/plain": "  0%|          | 0/800 [00:00<?, ?it/s]",
      "application/vnd.jupyter.widget-view+json": {
       "version_major": 2,
       "version_minor": 0,
       "model_id": "64e55a12fe5044c0996f5a70f6639bac"
      }
     },
     "metadata": {},
     "output_type": "display_data"
    },
    {
     "data": {
      "text/plain": "  0%|          | 0/800 [00:00<?, ?it/s]",
      "application/vnd.jupyter.widget-view+json": {
       "version_major": 2,
       "version_minor": 0,
       "model_id": "20954e4e8dd44f9e945828f7855ece07"
      }
     },
     "metadata": {},
     "output_type": "display_data"
    },
    {
     "data": {
      "text/plain": "  0%|          | 0/800 [00:00<?, ?it/s]",
      "application/vnd.jupyter.widget-view+json": {
       "version_major": 2,
       "version_minor": 0,
       "model_id": "c0630a464bca43719f1a9c23a4ea2b61"
      }
     },
     "metadata": {},
     "output_type": "display_data"
    },
    {
     "data": {
      "text/plain": "  0%|          | 0/800 [00:00<?, ?it/s]",
      "application/vnd.jupyter.widget-view+json": {
       "version_major": 2,
       "version_minor": 0,
       "model_id": "ba7cb75b44484020a91d6d2dda182ff6"
      }
     },
     "metadata": {},
     "output_type": "display_data"
    },
    {
     "data": {
      "text/plain": "  0%|          | 0/800 [00:00<?, ?it/s]",
      "application/vnd.jupyter.widget-view+json": {
       "version_major": 2,
       "version_minor": 0,
       "model_id": "e9f3008bf4ca452586a759d7810e8f73"
      }
     },
     "metadata": {},
     "output_type": "display_data"
    },
    {
     "data": {
      "text/plain": "  0%|          | 0/800 [00:00<?, ?it/s]",
      "application/vnd.jupyter.widget-view+json": {
       "version_major": 2,
       "version_minor": 0,
       "model_id": "1db0dd9aa01c427f9034f5a56026468f"
      }
     },
     "metadata": {},
     "output_type": "display_data"
    },
    {
     "data": {
      "text/plain": "  0%|          | 0/800 [00:00<?, ?it/s]",
      "application/vnd.jupyter.widget-view+json": {
       "version_major": 2,
       "version_minor": 0,
       "model_id": "c66cd0b859124c1990e8c9254e103d01"
      }
     },
     "metadata": {},
     "output_type": "display_data"
    },
    {
     "data": {
      "text/plain": "  0%|          | 0/800 [00:00<?, ?it/s]",
      "application/vnd.jupyter.widget-view+json": {
       "version_major": 2,
       "version_minor": 0,
       "model_id": "5393afc09ca642eca8e143d792ca5a2c"
      }
     },
     "metadata": {},
     "output_type": "display_data"
    },
    {
     "data": {
      "text/plain": "  0%|          | 0/800 [00:00<?, ?it/s]",
      "application/vnd.jupyter.widget-view+json": {
       "version_major": 2,
       "version_minor": 0,
       "model_id": "e1688784bbe243ca8b2c7338dcc47214"
      }
     },
     "metadata": {},
     "output_type": "display_data"
    },
    {
     "data": {
      "text/plain": "  0%|          | 0/800 [00:00<?, ?it/s]",
      "application/vnd.jupyter.widget-view+json": {
       "version_major": 2,
       "version_minor": 0,
       "model_id": "4f02e6ccc40742e888c754d0f7bed3b4"
      }
     },
     "metadata": {},
     "output_type": "display_data"
    },
    {
     "data": {
      "text/plain": "  0%|          | 0/800 [00:00<?, ?it/s]",
      "application/vnd.jupyter.widget-view+json": {
       "version_major": 2,
       "version_minor": 0,
       "model_id": "6b0fa0bb96854c3b83b33532b4838ef3"
      }
     },
     "metadata": {},
     "output_type": "display_data"
    },
    {
     "data": {
      "text/plain": "  0%|          | 0/800 [00:00<?, ?it/s]",
      "application/vnd.jupyter.widget-view+json": {
       "version_major": 2,
       "version_minor": 0,
       "model_id": "a68a55b2846c46c3bc34d487e69a4ecd"
      }
     },
     "metadata": {},
     "output_type": "display_data"
    },
    {
     "data": {
      "text/plain": "  0%|          | 0/800 [00:00<?, ?it/s]",
      "application/vnd.jupyter.widget-view+json": {
       "version_major": 2,
       "version_minor": 0,
       "model_id": "fc7f0d59716d462092e8d74b3cdcb0f1"
      }
     },
     "metadata": {},
     "output_type": "display_data"
    },
    {
     "data": {
      "text/plain": "  0%|          | 0/800 [00:00<?, ?it/s]",
      "application/vnd.jupyter.widget-view+json": {
       "version_major": 2,
       "version_minor": 0,
       "model_id": "f0c0764738e94b1fb3599270067e4674"
      }
     },
     "metadata": {},
     "output_type": "display_data"
    },
    {
     "data": {
      "text/plain": "  0%|          | 0/800 [00:00<?, ?it/s]",
      "application/vnd.jupyter.widget-view+json": {
       "version_major": 2,
       "version_minor": 0,
       "model_id": "54e9ffe5afb541b3ad6664e860286a8f"
      }
     },
     "metadata": {},
     "output_type": "display_data"
    },
    {
     "data": {
      "text/plain": "  0%|          | 0/800 [00:00<?, ?it/s]",
      "application/vnd.jupyter.widget-view+json": {
       "version_major": 2,
       "version_minor": 0,
       "model_id": "a247c1d71ac1487ba949d1be2a9d79be"
      }
     },
     "metadata": {},
     "output_type": "display_data"
    },
    {
     "data": {
      "text/plain": "  0%|          | 0/800 [00:00<?, ?it/s]",
      "application/vnd.jupyter.widget-view+json": {
       "version_major": 2,
       "version_minor": 0,
       "model_id": "bbf38024baae40749a4c2dcd53efc5ff"
      }
     },
     "metadata": {},
     "output_type": "display_data"
    },
    {
     "data": {
      "text/plain": "  0%|          | 0/800 [00:00<?, ?it/s]",
      "application/vnd.jupyter.widget-view+json": {
       "version_major": 2,
       "version_minor": 0,
       "model_id": "4dcc7f807d334f32ab982d4280076722"
      }
     },
     "metadata": {},
     "output_type": "display_data"
    },
    {
     "data": {
      "text/plain": "  0%|          | 0/800 [00:00<?, ?it/s]",
      "application/vnd.jupyter.widget-view+json": {
       "version_major": 2,
       "version_minor": 0,
       "model_id": "d29f0a9567e740058042c097132f0d1d"
      }
     },
     "metadata": {},
     "output_type": "display_data"
    },
    {
     "data": {
      "text/plain": "  0%|          | 0/800 [00:00<?, ?it/s]",
      "application/vnd.jupyter.widget-view+json": {
       "version_major": 2,
       "version_minor": 0,
       "model_id": "f5581429023944ce9fe0c4a9ffcb7fa9"
      }
     },
     "metadata": {},
     "output_type": "display_data"
    },
    {
     "data": {
      "text/plain": "  0%|          | 0/800 [00:00<?, ?it/s]",
      "application/vnd.jupyter.widget-view+json": {
       "version_major": 2,
       "version_minor": 0,
       "model_id": "8252e62dbf94445199f3a25cad522665"
      }
     },
     "metadata": {},
     "output_type": "display_data"
    },
    {
     "data": {
      "text/plain": "  0%|          | 0/800 [00:00<?, ?it/s]",
      "application/vnd.jupyter.widget-view+json": {
       "version_major": 2,
       "version_minor": 0,
       "model_id": "86232e297ee64c8bb7ef0c3356c441f5"
      }
     },
     "metadata": {},
     "output_type": "display_data"
    },
    {
     "data": {
      "text/plain": "  0%|          | 0/800 [00:00<?, ?it/s]",
      "application/vnd.jupyter.widget-view+json": {
       "version_major": 2,
       "version_minor": 0,
       "model_id": "bd5a53cebd234d889380d6908e243e2e"
      }
     },
     "metadata": {},
     "output_type": "display_data"
    },
    {
     "data": {
      "text/plain": "  0%|          | 0/800 [00:00<?, ?it/s]",
      "application/vnd.jupyter.widget-view+json": {
       "version_major": 2,
       "version_minor": 0,
       "model_id": "2a68b719b3f44ec1b025c0c04cb120fc"
      }
     },
     "metadata": {},
     "output_type": "display_data"
    },
    {
     "data": {
      "text/plain": "  0%|          | 0/800 [00:00<?, ?it/s]",
      "application/vnd.jupyter.widget-view+json": {
       "version_major": 2,
       "version_minor": 0,
       "model_id": "db32789204634128bf7aa470e0c426a8"
      }
     },
     "metadata": {},
     "output_type": "display_data"
    },
    {
     "data": {
      "text/plain": "  0%|          | 0/800 [00:00<?, ?it/s]",
      "application/vnd.jupyter.widget-view+json": {
       "version_major": 2,
       "version_minor": 0,
       "model_id": "c98c3ec032e04970957c22eb133f6901"
      }
     },
     "metadata": {},
     "output_type": "display_data"
    },
    {
     "data": {
      "text/plain": "  0%|          | 0/800 [00:00<?, ?it/s]",
      "application/vnd.jupyter.widget-view+json": {
       "version_major": 2,
       "version_minor": 0,
       "model_id": "5624e050ac0d4bf590f8b6c966bc253c"
      }
     },
     "metadata": {},
     "output_type": "display_data"
    },
    {
     "data": {
      "text/plain": "  0%|          | 0/800 [00:00<?, ?it/s]",
      "application/vnd.jupyter.widget-view+json": {
       "version_major": 2,
       "version_minor": 0,
       "model_id": "0a106dea5f29469b81d4a51ddc3ee5f5"
      }
     },
     "metadata": {},
     "output_type": "display_data"
    },
    {
     "data": {
      "text/plain": "  0%|          | 0/800 [00:00<?, ?it/s]",
      "application/vnd.jupyter.widget-view+json": {
       "version_major": 2,
       "version_minor": 0,
       "model_id": "37233e0734614b61b6742c96c15afb42"
      }
     },
     "metadata": {},
     "output_type": "display_data"
    },
    {
     "data": {
      "text/plain": "  0%|          | 0/800 [00:00<?, ?it/s]",
      "application/vnd.jupyter.widget-view+json": {
       "version_major": 2,
       "version_minor": 0,
       "model_id": "55d8d41d0dc6449d8b99decbaf1aae32"
      }
     },
     "metadata": {},
     "output_type": "display_data"
    },
    {
     "data": {
      "text/plain": "  0%|          | 0/800 [00:00<?, ?it/s]",
      "application/vnd.jupyter.widget-view+json": {
       "version_major": 2,
       "version_minor": 0,
       "model_id": "513df2433d814cf8aedd0b408e2f9530"
      }
     },
     "metadata": {},
     "output_type": "display_data"
    },
    {
     "data": {
      "text/plain": "  0%|          | 0/800 [00:00<?, ?it/s]",
      "application/vnd.jupyter.widget-view+json": {
       "version_major": 2,
       "version_minor": 0,
       "model_id": "8b3227e120934ff2b01d3411f2edfafa"
      }
     },
     "metadata": {},
     "output_type": "display_data"
    },
    {
     "data": {
      "text/plain": "  0%|          | 0/800 [00:00<?, ?it/s]",
      "application/vnd.jupyter.widget-view+json": {
       "version_major": 2,
       "version_minor": 0,
       "model_id": "8322198a85f044eda0e02c8f3266e8d5"
      }
     },
     "metadata": {},
     "output_type": "display_data"
    },
    {
     "data": {
      "text/plain": "  0%|          | 0/800 [00:00<?, ?it/s]",
      "application/vnd.jupyter.widget-view+json": {
       "version_major": 2,
       "version_minor": 0,
       "model_id": "5bc8f22d378640f5a121a37040c6cede"
      }
     },
     "metadata": {},
     "output_type": "display_data"
    },
    {
     "data": {
      "text/plain": "  0%|          | 0/800 [00:00<?, ?it/s]",
      "application/vnd.jupyter.widget-view+json": {
       "version_major": 2,
       "version_minor": 0,
       "model_id": "a66ac8c65819490cba0ee4817bc9a9ae"
      }
     },
     "metadata": {},
     "output_type": "display_data"
    },
    {
     "data": {
      "text/plain": "  0%|          | 0/800 [00:00<?, ?it/s]",
      "application/vnd.jupyter.widget-view+json": {
       "version_major": 2,
       "version_minor": 0,
       "model_id": "73a832c6d573406b833257c70f2f2660"
      }
     },
     "metadata": {},
     "output_type": "display_data"
    },
    {
     "data": {
      "text/plain": "  0%|          | 0/800 [00:00<?, ?it/s]",
      "application/vnd.jupyter.widget-view+json": {
       "version_major": 2,
       "version_minor": 0,
       "model_id": "7550ade67adb4d97be7a40625ef1cfaa"
      }
     },
     "metadata": {},
     "output_type": "display_data"
    },
    {
     "data": {
      "text/plain": "  0%|          | 0/800 [00:00<?, ?it/s]",
      "application/vnd.jupyter.widget-view+json": {
       "version_major": 2,
       "version_minor": 0,
       "model_id": "e3314ad9a69b437a85d2ece905ef1ac3"
      }
     },
     "metadata": {},
     "output_type": "display_data"
    },
    {
     "data": {
      "text/plain": "  0%|          | 0/800 [00:00<?, ?it/s]",
      "application/vnd.jupyter.widget-view+json": {
       "version_major": 2,
       "version_minor": 0,
       "model_id": "f5818674562642a9a6eb67eaedeb1a09"
      }
     },
     "metadata": {},
     "output_type": "display_data"
    },
    {
     "data": {
      "text/plain": "  0%|          | 0/800 [00:00<?, ?it/s]",
      "application/vnd.jupyter.widget-view+json": {
       "version_major": 2,
       "version_minor": 0,
       "model_id": "358405a4b00a475499b07050344f6017"
      }
     },
     "metadata": {},
     "output_type": "display_data"
    },
    {
     "data": {
      "text/plain": "  0%|          | 0/800 [00:00<?, ?it/s]",
      "application/vnd.jupyter.widget-view+json": {
       "version_major": 2,
       "version_minor": 0,
       "model_id": "fbb3721b93c142fc809c5446e42a700a"
      }
     },
     "metadata": {},
     "output_type": "display_data"
    },
    {
     "data": {
      "text/plain": "  0%|          | 0/800 [00:00<?, ?it/s]",
      "application/vnd.jupyter.widget-view+json": {
       "version_major": 2,
       "version_minor": 0,
       "model_id": "3663625279534a9e9a82f3cc018f3c93"
      }
     },
     "metadata": {},
     "output_type": "display_data"
    },
    {
     "data": {
      "text/plain": "  0%|          | 0/800 [00:00<?, ?it/s]",
      "application/vnd.jupyter.widget-view+json": {
       "version_major": 2,
       "version_minor": 0,
       "model_id": "fc27fd7006964ced9052a5809555e37b"
      }
     },
     "metadata": {},
     "output_type": "display_data"
    },
    {
     "data": {
      "text/plain": "  0%|          | 0/800 [00:00<?, ?it/s]",
      "application/vnd.jupyter.widget-view+json": {
       "version_major": 2,
       "version_minor": 0,
       "model_id": "8516e2c9a2784166bcd0215d1a8e3273"
      }
     },
     "metadata": {},
     "output_type": "display_data"
    },
    {
     "data": {
      "text/plain": "  0%|          | 0/800 [00:00<?, ?it/s]",
      "application/vnd.jupyter.widget-view+json": {
       "version_major": 2,
       "version_minor": 0,
       "model_id": "aed6b52f67ff4c789f6e7060471b6168"
      }
     },
     "metadata": {},
     "output_type": "display_data"
    },
    {
     "data": {
      "text/plain": "  0%|          | 0/800 [00:00<?, ?it/s]",
      "application/vnd.jupyter.widget-view+json": {
       "version_major": 2,
       "version_minor": 0,
       "model_id": "5f4eab3b2b5e4de78ec9f9b1c162e81b"
      }
     },
     "metadata": {},
     "output_type": "display_data"
    },
    {
     "data": {
      "text/plain": "  0%|          | 0/800 [00:00<?, ?it/s]",
      "application/vnd.jupyter.widget-view+json": {
       "version_major": 2,
       "version_minor": 0,
       "model_id": "ce406acccc934af59d0d44f2873b02e0"
      }
     },
     "metadata": {},
     "output_type": "display_data"
    },
    {
     "data": {
      "text/plain": "  0%|          | 0/800 [00:00<?, ?it/s]",
      "application/vnd.jupyter.widget-view+json": {
       "version_major": 2,
       "version_minor": 0,
       "model_id": "0bd96fe8e192496286bd17ab17b54416"
      }
     },
     "metadata": {},
     "output_type": "display_data"
    },
    {
     "data": {
      "text/plain": "  0%|          | 0/800 [00:00<?, ?it/s]",
      "application/vnd.jupyter.widget-view+json": {
       "version_major": 2,
       "version_minor": 0,
       "model_id": "83b9255d27844671909fc61fa04d1a0a"
      }
     },
     "metadata": {},
     "output_type": "display_data"
    },
    {
     "data": {
      "text/plain": "  0%|          | 0/800 [00:00<?, ?it/s]",
      "application/vnd.jupyter.widget-view+json": {
       "version_major": 2,
       "version_minor": 0,
       "model_id": "67b64a46ab204364a89b7ca89f5a25c7"
      }
     },
     "metadata": {},
     "output_type": "display_data"
    },
    {
     "data": {
      "text/plain": "  0%|          | 0/800 [00:00<?, ?it/s]",
      "application/vnd.jupyter.widget-view+json": {
       "version_major": 2,
       "version_minor": 0,
       "model_id": "0a11770b519342d0ba6941be03361471"
      }
     },
     "metadata": {},
     "output_type": "display_data"
    },
    {
     "data": {
      "text/plain": "  0%|          | 0/800 [00:00<?, ?it/s]",
      "application/vnd.jupyter.widget-view+json": {
       "version_major": 2,
       "version_minor": 0,
       "model_id": "6ce2070471c041139999575dd6a8d46f"
      }
     },
     "metadata": {},
     "output_type": "display_data"
    },
    {
     "data": {
      "text/plain": "  0%|          | 0/800 [00:00<?, ?it/s]",
      "application/vnd.jupyter.widget-view+json": {
       "version_major": 2,
       "version_minor": 0,
       "model_id": "2c0339861f024bec91b5b80c6e84fa7b"
      }
     },
     "metadata": {},
     "output_type": "display_data"
    },
    {
     "data": {
      "text/plain": "  0%|          | 0/800 [00:00<?, ?it/s]",
      "application/vnd.jupyter.widget-view+json": {
       "version_major": 2,
       "version_minor": 0,
       "model_id": "45b2e421c6404d33826eef8e5ab808ab"
      }
     },
     "metadata": {},
     "output_type": "display_data"
    },
    {
     "data": {
      "text/plain": "  0%|          | 0/800 [00:00<?, ?it/s]",
      "application/vnd.jupyter.widget-view+json": {
       "version_major": 2,
       "version_minor": 0,
       "model_id": "4ef60bd6f56148dc96badf4097c8c218"
      }
     },
     "metadata": {},
     "output_type": "display_data"
    },
    {
     "data": {
      "text/plain": "  0%|          | 0/800 [00:00<?, ?it/s]",
      "application/vnd.jupyter.widget-view+json": {
       "version_major": 2,
       "version_minor": 0,
       "model_id": "a5b53569958b4fe8aff880029644e4c8"
      }
     },
     "metadata": {},
     "output_type": "display_data"
    },
    {
     "data": {
      "text/plain": "  0%|          | 0/800 [00:00<?, ?it/s]",
      "application/vnd.jupyter.widget-view+json": {
       "version_major": 2,
       "version_minor": 0,
       "model_id": "3b4b1cb7dd0143a6b1350e0cad612a89"
      }
     },
     "metadata": {},
     "output_type": "display_data"
    },
    {
     "data": {
      "text/plain": "  0%|          | 0/800 [00:00<?, ?it/s]",
      "application/vnd.jupyter.widget-view+json": {
       "version_major": 2,
       "version_minor": 0,
       "model_id": "c8e89bc47daf449ca9b2af028571ef29"
      }
     },
     "metadata": {},
     "output_type": "display_data"
    },
    {
     "data": {
      "text/plain": "  0%|          | 0/800 [00:00<?, ?it/s]",
      "application/vnd.jupyter.widget-view+json": {
       "version_major": 2,
       "version_minor": 0,
       "model_id": "9a4efd13504a4a26b015edfd0e9bfe4f"
      }
     },
     "metadata": {},
     "output_type": "display_data"
    },
    {
     "data": {
      "text/plain": "  0%|          | 0/800 [00:00<?, ?it/s]",
      "application/vnd.jupyter.widget-view+json": {
       "version_major": 2,
       "version_minor": 0,
       "model_id": "7eeb4b70af274f6cb736b32832cf84e9"
      }
     },
     "metadata": {},
     "output_type": "display_data"
    },
    {
     "data": {
      "text/plain": "  0%|          | 0/800 [00:00<?, ?it/s]",
      "application/vnd.jupyter.widget-view+json": {
       "version_major": 2,
       "version_minor": 0,
       "model_id": "4732545c5a974c6fba7640ded6984442"
      }
     },
     "metadata": {},
     "output_type": "display_data"
    },
    {
     "data": {
      "text/plain": "  0%|          | 0/800 [00:00<?, ?it/s]",
      "application/vnd.jupyter.widget-view+json": {
       "version_major": 2,
       "version_minor": 0,
       "model_id": "9c63abc22aff4374a0db84a262d171a6"
      }
     },
     "metadata": {},
     "output_type": "display_data"
    },
    {
     "data": {
      "text/plain": "  0%|          | 0/800 [00:00<?, ?it/s]",
      "application/vnd.jupyter.widget-view+json": {
       "version_major": 2,
       "version_minor": 0,
       "model_id": "a3b35376676d4c7da92b7714ed83fb2a"
      }
     },
     "metadata": {},
     "output_type": "display_data"
    },
    {
     "data": {
      "text/plain": "  0%|          | 0/800 [00:00<?, ?it/s]",
      "application/vnd.jupyter.widget-view+json": {
       "version_major": 2,
       "version_minor": 0,
       "model_id": "def2560f8f854d018e7ac97417084a54"
      }
     },
     "metadata": {},
     "output_type": "display_data"
    },
    {
     "data": {
      "text/plain": "  0%|          | 0/800 [00:00<?, ?it/s]",
      "application/vnd.jupyter.widget-view+json": {
       "version_major": 2,
       "version_minor": 0,
       "model_id": "2531ab4ff9e54297917403f6b67b0ce1"
      }
     },
     "metadata": {},
     "output_type": "display_data"
    },
    {
     "data": {
      "text/plain": "  0%|          | 0/800 [00:00<?, ?it/s]",
      "application/vnd.jupyter.widget-view+json": {
       "version_major": 2,
       "version_minor": 0,
       "model_id": "16ff59e52a5e4416ace37c544d05c968"
      }
     },
     "metadata": {},
     "output_type": "display_data"
    },
    {
     "data": {
      "text/plain": "  0%|          | 0/800 [00:00<?, ?it/s]",
      "application/vnd.jupyter.widget-view+json": {
       "version_major": 2,
       "version_minor": 0,
       "model_id": "1c652d71849f4ea884f5ecee42cb466c"
      }
     },
     "metadata": {},
     "output_type": "display_data"
    },
    {
     "data": {
      "text/plain": "  0%|          | 0/800 [00:00<?, ?it/s]",
      "application/vnd.jupyter.widget-view+json": {
       "version_major": 2,
       "version_minor": 0,
       "model_id": "9298af904a6c4ba2afc5bb7b23f4a5b8"
      }
     },
     "metadata": {},
     "output_type": "display_data"
    },
    {
     "data": {
      "text/plain": "  0%|          | 0/800 [00:00<?, ?it/s]",
      "application/vnd.jupyter.widget-view+json": {
       "version_major": 2,
       "version_minor": 0,
       "model_id": "e0241ba3c6ca4ce597c5622932ff4473"
      }
     },
     "metadata": {},
     "output_type": "display_data"
    },
    {
     "data": {
      "text/plain": "  0%|          | 0/800 [00:00<?, ?it/s]",
      "application/vnd.jupyter.widget-view+json": {
       "version_major": 2,
       "version_minor": 0,
       "model_id": "e8ec3ae213e940ecbcd7864787585464"
      }
     },
     "metadata": {},
     "output_type": "display_data"
    },
    {
     "data": {
      "text/plain": "  0%|          | 0/800 [00:00<?, ?it/s]",
      "application/vnd.jupyter.widget-view+json": {
       "version_major": 2,
       "version_minor": 0,
       "model_id": "e1fd6ceef85a46539d38bb877551835c"
      }
     },
     "metadata": {},
     "output_type": "display_data"
    },
    {
     "data": {
      "text/plain": "  0%|          | 0/800 [00:00<?, ?it/s]",
      "application/vnd.jupyter.widget-view+json": {
       "version_major": 2,
       "version_minor": 0,
       "model_id": "ca2eddc44ab64cd1bfec78b88771eb7f"
      }
     },
     "metadata": {},
     "output_type": "display_data"
    },
    {
     "data": {
      "text/plain": "  0%|          | 0/800 [00:00<?, ?it/s]",
      "application/vnd.jupyter.widget-view+json": {
       "version_major": 2,
       "version_minor": 0,
       "model_id": "cbfec6e1cc9540a7b4b0e130d8135598"
      }
     },
     "metadata": {},
     "output_type": "display_data"
    },
    {
     "data": {
      "text/plain": "  0%|          | 0/800 [00:00<?, ?it/s]",
      "application/vnd.jupyter.widget-view+json": {
       "version_major": 2,
       "version_minor": 0,
       "model_id": "2844df2950014e23bf1dbe0c74f1852c"
      }
     },
     "metadata": {},
     "output_type": "display_data"
    },
    {
     "data": {
      "text/plain": "  0%|          | 0/800 [00:00<?, ?it/s]",
      "application/vnd.jupyter.widget-view+json": {
       "version_major": 2,
       "version_minor": 0,
       "model_id": "392a01f1cd194bbea757e70fcc9e47b6"
      }
     },
     "metadata": {},
     "output_type": "display_data"
    },
    {
     "data": {
      "text/plain": "  0%|          | 0/800 [00:00<?, ?it/s]",
      "application/vnd.jupyter.widget-view+json": {
       "version_major": 2,
       "version_minor": 0,
       "model_id": "b52b480d527544ca9f23890ef21891f6"
      }
     },
     "metadata": {},
     "output_type": "display_data"
    },
    {
     "data": {
      "text/plain": "  0%|          | 0/800 [00:00<?, ?it/s]",
      "application/vnd.jupyter.widget-view+json": {
       "version_major": 2,
       "version_minor": 0,
       "model_id": "86686024d90b4f919572fb64f01ced63"
      }
     },
     "metadata": {},
     "output_type": "display_data"
    },
    {
     "data": {
      "text/plain": "  0%|          | 0/800 [00:00<?, ?it/s]",
      "application/vnd.jupyter.widget-view+json": {
       "version_major": 2,
       "version_minor": 0,
       "model_id": "4843bf9d3620476f98b9ca23df1af8be"
      }
     },
     "metadata": {},
     "output_type": "display_data"
    },
    {
     "data": {
      "text/plain": "  0%|          | 0/800 [00:00<?, ?it/s]",
      "application/vnd.jupyter.widget-view+json": {
       "version_major": 2,
       "version_minor": 0,
       "model_id": "af218374460c47a98d7647d16a17d37e"
      }
     },
     "metadata": {},
     "output_type": "display_data"
    },
    {
     "data": {
      "text/plain": "  0%|          | 0/800 [00:00<?, ?it/s]",
      "application/vnd.jupyter.widget-view+json": {
       "version_major": 2,
       "version_minor": 0,
       "model_id": "6eb4a9766d6642488f112b2d5e2647e6"
      }
     },
     "metadata": {},
     "output_type": "display_data"
    },
    {
     "data": {
      "text/plain": "  0%|          | 0/800 [00:00<?, ?it/s]",
      "application/vnd.jupyter.widget-view+json": {
       "version_major": 2,
       "version_minor": 0,
       "model_id": "2a5975825c1e42388f78f83a019027c2"
      }
     },
     "metadata": {},
     "output_type": "display_data"
    },
    {
     "data": {
      "text/plain": "  0%|          | 0/800 [00:00<?, ?it/s]",
      "application/vnd.jupyter.widget-view+json": {
       "version_major": 2,
       "version_minor": 0,
       "model_id": "1f2d75eea6c9400381fd32352467dc06"
      }
     },
     "metadata": {},
     "output_type": "display_data"
    },
    {
     "data": {
      "text/plain": "  0%|          | 0/800 [00:00<?, ?it/s]",
      "application/vnd.jupyter.widget-view+json": {
       "version_major": 2,
       "version_minor": 0,
       "model_id": "d67994ffa29e4b398ed7e60228b7153c"
      }
     },
     "metadata": {},
     "output_type": "display_data"
    },
    {
     "data": {
      "text/plain": "  0%|          | 0/800 [00:00<?, ?it/s]",
      "application/vnd.jupyter.widget-view+json": {
       "version_major": 2,
       "version_minor": 0,
       "model_id": "84307ffd148f40e38522adb2e6f333c2"
      }
     },
     "metadata": {},
     "output_type": "display_data"
    },
    {
     "data": {
      "text/plain": "  0%|          | 0/800 [00:00<?, ?it/s]",
      "application/vnd.jupyter.widget-view+json": {
       "version_major": 2,
       "version_minor": 0,
       "model_id": "49891940ce3c484591d03a49ea6bd2f5"
      }
     },
     "metadata": {},
     "output_type": "display_data"
    },
    {
     "data": {
      "text/plain": "  0%|          | 0/800 [00:00<?, ?it/s]",
      "application/vnd.jupyter.widget-view+json": {
       "version_major": 2,
       "version_minor": 0,
       "model_id": "75fc743eea2f426abcf95c342d95e9da"
      }
     },
     "metadata": {},
     "output_type": "display_data"
    },
    {
     "data": {
      "text/plain": "  0%|          | 0/800 [00:00<?, ?it/s]",
      "application/vnd.jupyter.widget-view+json": {
       "version_major": 2,
       "version_minor": 0,
       "model_id": "2beb60ecc52649eea0c208bc50e24612"
      }
     },
     "metadata": {},
     "output_type": "display_data"
    },
    {
     "data": {
      "text/plain": "  0%|          | 0/800 [00:00<?, ?it/s]",
      "application/vnd.jupyter.widget-view+json": {
       "version_major": 2,
       "version_minor": 0,
       "model_id": "12921dc537d740d7a2ed9e4b1da3d849"
      }
     },
     "metadata": {},
     "output_type": "display_data"
    },
    {
     "data": {
      "text/plain": "  0%|          | 0/800 [00:00<?, ?it/s]",
      "application/vnd.jupyter.widget-view+json": {
       "version_major": 2,
       "version_minor": 0,
       "model_id": "05c590998999471a8fdfb572cfdd0201"
      }
     },
     "metadata": {},
     "output_type": "display_data"
    },
    {
     "data": {
      "text/plain": "  0%|          | 0/800 [00:00<?, ?it/s]",
      "application/vnd.jupyter.widget-view+json": {
       "version_major": 2,
       "version_minor": 0,
       "model_id": "9df687ba76d943e8845c65b094d31834"
      }
     },
     "metadata": {},
     "output_type": "display_data"
    },
    {
     "data": {
      "text/plain": "  0%|          | 0/800 [00:00<?, ?it/s]",
      "application/vnd.jupyter.widget-view+json": {
       "version_major": 2,
       "version_minor": 0,
       "model_id": "affc7163746a476e8872fda3284d87e2"
      }
     },
     "metadata": {},
     "output_type": "display_data"
    },
    {
     "data": {
      "text/plain": "  0%|          | 0/800 [00:00<?, ?it/s]",
      "application/vnd.jupyter.widget-view+json": {
       "version_major": 2,
       "version_minor": 0,
       "model_id": "136ea498ab9e4c2fb38ac7491e7c0d50"
      }
     },
     "metadata": {},
     "output_type": "display_data"
    },
    {
     "data": {
      "text/plain": "  0%|          | 0/800 [00:00<?, ?it/s]",
      "application/vnd.jupyter.widget-view+json": {
       "version_major": 2,
       "version_minor": 0,
       "model_id": "36b9af02f1b94c7ba46ce5407047d791"
      }
     },
     "metadata": {},
     "output_type": "display_data"
    },
    {
     "data": {
      "text/plain": "  0%|          | 0/800 [00:00<?, ?it/s]",
      "application/vnd.jupyter.widget-view+json": {
       "version_major": 2,
       "version_minor": 0,
       "model_id": "862dc323928a48afa53b009d3354daa3"
      }
     },
     "metadata": {},
     "output_type": "display_data"
    },
    {
     "data": {
      "text/plain": "  0%|          | 0/800 [00:00<?, ?it/s]",
      "application/vnd.jupyter.widget-view+json": {
       "version_major": 2,
       "version_minor": 0,
       "model_id": "ec503620050c49be9283136ca0ec8878"
      }
     },
     "metadata": {},
     "output_type": "display_data"
    },
    {
     "data": {
      "text/plain": "  0%|          | 0/800 [00:00<?, ?it/s]",
      "application/vnd.jupyter.widget-view+json": {
       "version_major": 2,
       "version_minor": 0,
       "model_id": "6eb5f9aaef5f4edcb2c2e9d636fa5d14"
      }
     },
     "metadata": {},
     "output_type": "display_data"
    },
    {
     "data": {
      "text/plain": "  0%|          | 0/800 [00:00<?, ?it/s]",
      "application/vnd.jupyter.widget-view+json": {
       "version_major": 2,
       "version_minor": 0,
       "model_id": "14217c4d2f0240249bbfd3b14ba57e8b"
      }
     },
     "metadata": {},
     "output_type": "display_data"
    },
    {
     "data": {
      "text/plain": "  0%|          | 0/800 [00:00<?, ?it/s]",
      "application/vnd.jupyter.widget-view+json": {
       "version_major": 2,
       "version_minor": 0,
       "model_id": "caf4149c3d4e4173a44b52f33eb0f7ee"
      }
     },
     "metadata": {},
     "output_type": "display_data"
    },
    {
     "data": {
      "text/plain": "  0%|          | 0/800 [00:00<?, ?it/s]",
      "application/vnd.jupyter.widget-view+json": {
       "version_major": 2,
       "version_minor": 0,
       "model_id": "a8c3f57db8b4427aaae6ad51ae5fc280"
      }
     },
     "metadata": {},
     "output_type": "display_data"
    },
    {
     "data": {
      "text/plain": "  0%|          | 0/800 [00:00<?, ?it/s]",
      "application/vnd.jupyter.widget-view+json": {
       "version_major": 2,
       "version_minor": 0,
       "model_id": "8f452ee5dd9048bfae884b48317368af"
      }
     },
     "metadata": {},
     "output_type": "display_data"
    },
    {
     "data": {
      "text/plain": "  0%|          | 0/800 [00:00<?, ?it/s]",
      "application/vnd.jupyter.widget-view+json": {
       "version_major": 2,
       "version_minor": 0,
       "model_id": "d51d6213b3e141659208d40a36411a71"
      }
     },
     "metadata": {},
     "output_type": "display_data"
    },
    {
     "data": {
      "text/plain": "  0%|          | 0/800 [00:00<?, ?it/s]",
      "application/vnd.jupyter.widget-view+json": {
       "version_major": 2,
       "version_minor": 0,
       "model_id": "39c8535689e44023a6807ea66b62616b"
      }
     },
     "metadata": {},
     "output_type": "display_data"
    },
    {
     "data": {
      "text/plain": "  0%|          | 0/800 [00:00<?, ?it/s]",
      "application/vnd.jupyter.widget-view+json": {
       "version_major": 2,
       "version_minor": 0,
       "model_id": "c7c494d13b3d438ab9772d5e58694d71"
      }
     },
     "metadata": {},
     "output_type": "display_data"
    },
    {
     "data": {
      "text/plain": "  0%|          | 0/800 [00:00<?, ?it/s]",
      "application/vnd.jupyter.widget-view+json": {
       "version_major": 2,
       "version_minor": 0,
       "model_id": "e0b3bd0dd094438f9a4ae77116742526"
      }
     },
     "metadata": {},
     "output_type": "display_data"
    },
    {
     "data": {
      "text/plain": "  0%|          | 0/800 [00:00<?, ?it/s]",
      "application/vnd.jupyter.widget-view+json": {
       "version_major": 2,
       "version_minor": 0,
       "model_id": "6fe14d2ec4ae486f9ab8b6340ad8da51"
      }
     },
     "metadata": {},
     "output_type": "display_data"
    },
    {
     "data": {
      "text/plain": "  0%|          | 0/800 [00:00<?, ?it/s]",
      "application/vnd.jupyter.widget-view+json": {
       "version_major": 2,
       "version_minor": 0,
       "model_id": "762fe2f375fa4f3099a3c270917bd42f"
      }
     },
     "metadata": {},
     "output_type": "display_data"
    },
    {
     "data": {
      "text/plain": "  0%|          | 0/800 [00:00<?, ?it/s]",
      "application/vnd.jupyter.widget-view+json": {
       "version_major": 2,
       "version_minor": 0,
       "model_id": "ee702313afd24ebb9292b56ecaa3fe28"
      }
     },
     "metadata": {},
     "output_type": "display_data"
    },
    {
     "data": {
      "text/plain": "  0%|          | 0/800 [00:00<?, ?it/s]",
      "application/vnd.jupyter.widget-view+json": {
       "version_major": 2,
       "version_minor": 0,
       "model_id": "837331087a82486eadb14dafd52a9c19"
      }
     },
     "metadata": {},
     "output_type": "display_data"
    },
    {
     "data": {
      "text/plain": "  0%|          | 0/800 [00:00<?, ?it/s]",
      "application/vnd.jupyter.widget-view+json": {
       "version_major": 2,
       "version_minor": 0,
       "model_id": "42eba701a9a74749b0fe4c68addf91f0"
      }
     },
     "metadata": {},
     "output_type": "display_data"
    },
    {
     "data": {
      "text/plain": "  0%|          | 0/800 [00:00<?, ?it/s]",
      "application/vnd.jupyter.widget-view+json": {
       "version_major": 2,
       "version_minor": 0,
       "model_id": "47ec9c153f8b460a89d810778b63748c"
      }
     },
     "metadata": {},
     "output_type": "display_data"
    },
    {
     "data": {
      "text/plain": "  0%|          | 0/800 [00:00<?, ?it/s]",
      "application/vnd.jupyter.widget-view+json": {
       "version_major": 2,
       "version_minor": 0,
       "model_id": "c9f812ae84864c6dade8018ec0a5e93b"
      }
     },
     "metadata": {},
     "output_type": "display_data"
    },
    {
     "data": {
      "text/plain": "  0%|          | 0/800 [00:00<?, ?it/s]",
      "application/vnd.jupyter.widget-view+json": {
       "version_major": 2,
       "version_minor": 0,
       "model_id": "dde0ae7e9afc44e3a95baebaab43c4b2"
      }
     },
     "metadata": {},
     "output_type": "display_data"
    },
    {
     "data": {
      "text/plain": "  0%|          | 0/800 [00:00<?, ?it/s]",
      "application/vnd.jupyter.widget-view+json": {
       "version_major": 2,
       "version_minor": 0,
       "model_id": "87be6a5736954ec69551c09001e89929"
      }
     },
     "metadata": {},
     "output_type": "display_data"
    },
    {
     "data": {
      "text/plain": "  0%|          | 0/800 [00:00<?, ?it/s]",
      "application/vnd.jupyter.widget-view+json": {
       "version_major": 2,
       "version_minor": 0,
       "model_id": "94d01351ccc84b28b45d529026e01192"
      }
     },
     "metadata": {},
     "output_type": "display_data"
    },
    {
     "data": {
      "text/plain": "  0%|          | 0/800 [00:00<?, ?it/s]",
      "application/vnd.jupyter.widget-view+json": {
       "version_major": 2,
       "version_minor": 0,
       "model_id": "d96a998c3da14bd7a5be9286a5359308"
      }
     },
     "metadata": {},
     "output_type": "display_data"
    },
    {
     "data": {
      "text/plain": "  0%|          | 0/800 [00:00<?, ?it/s]",
      "application/vnd.jupyter.widget-view+json": {
       "version_major": 2,
       "version_minor": 0,
       "model_id": "ab7fffe3eb064724ac191bb535996904"
      }
     },
     "metadata": {},
     "output_type": "display_data"
    },
    {
     "data": {
      "text/plain": "  0%|          | 0/800 [00:00<?, ?it/s]",
      "application/vnd.jupyter.widget-view+json": {
       "version_major": 2,
       "version_minor": 0,
       "model_id": "074e31cb0df0476ea22b24a5895ac96a"
      }
     },
     "metadata": {},
     "output_type": "display_data"
    },
    {
     "data": {
      "text/plain": "  0%|          | 0/800 [00:00<?, ?it/s]",
      "application/vnd.jupyter.widget-view+json": {
       "version_major": 2,
       "version_minor": 0,
       "model_id": "23481a29bf0d4f5eb980bd3479f00b82"
      }
     },
     "metadata": {},
     "output_type": "display_data"
    },
    {
     "data": {
      "text/plain": "  0%|          | 0/800 [00:00<?, ?it/s]",
      "application/vnd.jupyter.widget-view+json": {
       "version_major": 2,
       "version_minor": 0,
       "model_id": "85be59423e3b45b2a1f27ba084d2d1c4"
      }
     },
     "metadata": {},
     "output_type": "display_data"
    },
    {
     "data": {
      "text/plain": "  0%|          | 0/800 [00:00<?, ?it/s]",
      "application/vnd.jupyter.widget-view+json": {
       "version_major": 2,
       "version_minor": 0,
       "model_id": "f0ef7c50b1734e3eac3892886b597f4d"
      }
     },
     "metadata": {},
     "output_type": "display_data"
    },
    {
     "data": {
      "text/plain": "  0%|          | 0/800 [00:00<?, ?it/s]",
      "application/vnd.jupyter.widget-view+json": {
       "version_major": 2,
       "version_minor": 0,
       "model_id": "7818344919144434858f0ad4fca0a215"
      }
     },
     "metadata": {},
     "output_type": "display_data"
    },
    {
     "data": {
      "text/plain": "  0%|          | 0/800 [00:00<?, ?it/s]",
      "application/vnd.jupyter.widget-view+json": {
       "version_major": 2,
       "version_minor": 0,
       "model_id": "ab918bb551b84b498fa5956f97a80712"
      }
     },
     "metadata": {},
     "output_type": "display_data"
    },
    {
     "data": {
      "text/plain": "  0%|          | 0/800 [00:00<?, ?it/s]",
      "application/vnd.jupyter.widget-view+json": {
       "version_major": 2,
       "version_minor": 0,
       "model_id": "fc722a868f9c4dfa9ec2b5b9d09143b4"
      }
     },
     "metadata": {},
     "output_type": "display_data"
    },
    {
     "data": {
      "text/plain": "  0%|          | 0/800 [00:00<?, ?it/s]",
      "application/vnd.jupyter.widget-view+json": {
       "version_major": 2,
       "version_minor": 0,
       "model_id": "dacb8f8099a348e6a814142d6b4b908a"
      }
     },
     "metadata": {},
     "output_type": "display_data"
    },
    {
     "data": {
      "text/plain": "  0%|          | 0/800 [00:00<?, ?it/s]",
      "application/vnd.jupyter.widget-view+json": {
       "version_major": 2,
       "version_minor": 0,
       "model_id": "cd16cb78a2074352a68ce28cf8dc9070"
      }
     },
     "metadata": {},
     "output_type": "display_data"
    },
    {
     "data": {
      "text/plain": "  0%|          | 0/800 [00:00<?, ?it/s]",
      "application/vnd.jupyter.widget-view+json": {
       "version_major": 2,
       "version_minor": 0,
       "model_id": "623552f298ec4a18a22311b6e1ffb675"
      }
     },
     "metadata": {},
     "output_type": "display_data"
    },
    {
     "data": {
      "text/plain": "  0%|          | 0/800 [00:00<?, ?it/s]",
      "application/vnd.jupyter.widget-view+json": {
       "version_major": 2,
       "version_minor": 0,
       "model_id": "5c64528ff8224f6f80c07f81a133f84c"
      }
     },
     "metadata": {},
     "output_type": "display_data"
    },
    {
     "data": {
      "text/plain": "  0%|          | 0/800 [00:00<?, ?it/s]",
      "application/vnd.jupyter.widget-view+json": {
       "version_major": 2,
       "version_minor": 0,
       "model_id": "2cf970b0247b4cdd83ca2fad65daedf6"
      }
     },
     "metadata": {},
     "output_type": "display_data"
    },
    {
     "data": {
      "text/plain": "  0%|          | 0/800 [00:00<?, ?it/s]",
      "application/vnd.jupyter.widget-view+json": {
       "version_major": 2,
       "version_minor": 0,
       "model_id": "5ff1687d67684dfbb74bc4a825669468"
      }
     },
     "metadata": {},
     "output_type": "display_data"
    },
    {
     "data": {
      "text/plain": "  0%|          | 0/800 [00:00<?, ?it/s]",
      "application/vnd.jupyter.widget-view+json": {
       "version_major": 2,
       "version_minor": 0,
       "model_id": "dbfc95f349194d3fbf77caf9cd37a41f"
      }
     },
     "metadata": {},
     "output_type": "display_data"
    },
    {
     "data": {
      "text/plain": "  0%|          | 0/800 [00:00<?, ?it/s]",
      "application/vnd.jupyter.widget-view+json": {
       "version_major": 2,
       "version_minor": 0,
       "model_id": "7e69b2808dfe4eeb87d664ebf94d5feb"
      }
     },
     "metadata": {},
     "output_type": "display_data"
    },
    {
     "data": {
      "text/plain": "  0%|          | 0/800 [00:00<?, ?it/s]",
      "application/vnd.jupyter.widget-view+json": {
       "version_major": 2,
       "version_minor": 0,
       "model_id": "e0a3cf6fb10945e495b4e2011b152f02"
      }
     },
     "metadata": {},
     "output_type": "display_data"
    },
    {
     "data": {
      "text/plain": "  0%|          | 0/800 [00:00<?, ?it/s]",
      "application/vnd.jupyter.widget-view+json": {
       "version_major": 2,
       "version_minor": 0,
       "model_id": "2f7eab69196345e48c3f15f37a623d6e"
      }
     },
     "metadata": {},
     "output_type": "display_data"
    },
    {
     "data": {
      "text/plain": "  0%|          | 0/800 [00:00<?, ?it/s]",
      "application/vnd.jupyter.widget-view+json": {
       "version_major": 2,
       "version_minor": 0,
       "model_id": "506b9762387343dbb169d2dcf40a6810"
      }
     },
     "metadata": {},
     "output_type": "display_data"
    },
    {
     "data": {
      "text/plain": "  0%|          | 0/800 [00:00<?, ?it/s]",
      "application/vnd.jupyter.widget-view+json": {
       "version_major": 2,
       "version_minor": 0,
       "model_id": "e1dc6ba480a9440ea10fed39c393a980"
      }
     },
     "metadata": {},
     "output_type": "display_data"
    },
    {
     "data": {
      "text/plain": "  0%|          | 0/800 [00:00<?, ?it/s]",
      "application/vnd.jupyter.widget-view+json": {
       "version_major": 2,
       "version_minor": 0,
       "model_id": "4ce172f437a343ca86a1489a1a9bc8e6"
      }
     },
     "metadata": {},
     "output_type": "display_data"
    },
    {
     "data": {
      "text/plain": "  0%|          | 0/800 [00:00<?, ?it/s]",
      "application/vnd.jupyter.widget-view+json": {
       "version_major": 2,
       "version_minor": 0,
       "model_id": "98759b078014474284e2ba7a4d34c15f"
      }
     },
     "metadata": {},
     "output_type": "display_data"
    },
    {
     "data": {
      "text/plain": "  0%|          | 0/800 [00:00<?, ?it/s]",
      "application/vnd.jupyter.widget-view+json": {
       "version_major": 2,
       "version_minor": 0,
       "model_id": "94014f6e76384e66b8caa4b251458644"
      }
     },
     "metadata": {},
     "output_type": "display_data"
    },
    {
     "data": {
      "text/plain": "  0%|          | 0/800 [00:00<?, ?it/s]",
      "application/vnd.jupyter.widget-view+json": {
       "version_major": 2,
       "version_minor": 0,
       "model_id": "20ebfade8f644930b332946649a2fd4f"
      }
     },
     "metadata": {},
     "output_type": "display_data"
    },
    {
     "data": {
      "text/plain": "  0%|          | 0/800 [00:00<?, ?it/s]",
      "application/vnd.jupyter.widget-view+json": {
       "version_major": 2,
       "version_minor": 0,
       "model_id": "1e991ef7547840abaf9a51862d5ccb50"
      }
     },
     "metadata": {},
     "output_type": "display_data"
    },
    {
     "data": {
      "text/plain": "  0%|          | 0/800 [00:00<?, ?it/s]",
      "application/vnd.jupyter.widget-view+json": {
       "version_major": 2,
       "version_minor": 0,
       "model_id": "4a882ab1114b4c079649626b6aac2578"
      }
     },
     "metadata": {},
     "output_type": "display_data"
    },
    {
     "data": {
      "text/plain": "  0%|          | 0/800 [00:00<?, ?it/s]",
      "application/vnd.jupyter.widget-view+json": {
       "version_major": 2,
       "version_minor": 0,
       "model_id": "e99cdaa1e1b447b7b7827276d0fc0108"
      }
     },
     "metadata": {},
     "output_type": "display_data"
    },
    {
     "data": {
      "text/plain": "  0%|          | 0/800 [00:00<?, ?it/s]",
      "application/vnd.jupyter.widget-view+json": {
       "version_major": 2,
       "version_minor": 0,
       "model_id": "d5b0e6ced78b430b8a86ca0f8683d126"
      }
     },
     "metadata": {},
     "output_type": "display_data"
    },
    {
     "data": {
      "text/plain": "  0%|          | 0/800 [00:00<?, ?it/s]",
      "application/vnd.jupyter.widget-view+json": {
       "version_major": 2,
       "version_minor": 0,
       "model_id": "1fa5f664ce1c4af89c5cb7de1d139832"
      }
     },
     "metadata": {},
     "output_type": "display_data"
    },
    {
     "data": {
      "text/plain": "  0%|          | 0/800 [00:00<?, ?it/s]",
      "application/vnd.jupyter.widget-view+json": {
       "version_major": 2,
       "version_minor": 0,
       "model_id": "f7182b9aeb9e45a19c6b56b0f5a3496b"
      }
     },
     "metadata": {},
     "output_type": "display_data"
    },
    {
     "data": {
      "text/plain": "  0%|          | 0/800 [00:00<?, ?it/s]",
      "application/vnd.jupyter.widget-view+json": {
       "version_major": 2,
       "version_minor": 0,
       "model_id": "f010439aa81d41c8896439a71b22a9eb"
      }
     },
     "metadata": {},
     "output_type": "display_data"
    },
    {
     "data": {
      "text/plain": "  0%|          | 0/800 [00:00<?, ?it/s]",
      "application/vnd.jupyter.widget-view+json": {
       "version_major": 2,
       "version_minor": 0,
       "model_id": "38bc6568cc974ba3a24d9b8f38112081"
      }
     },
     "metadata": {},
     "output_type": "display_data"
    },
    {
     "data": {
      "text/plain": "  0%|          | 0/800 [00:00<?, ?it/s]",
      "application/vnd.jupyter.widget-view+json": {
       "version_major": 2,
       "version_minor": 0,
       "model_id": "1de0bb97366b4e67bf0904fc97df79e3"
      }
     },
     "metadata": {},
     "output_type": "display_data"
    },
    {
     "data": {
      "text/plain": "  0%|          | 0/800 [00:00<?, ?it/s]",
      "application/vnd.jupyter.widget-view+json": {
       "version_major": 2,
       "version_minor": 0,
       "model_id": "d7b2bc9e265a4e019f6a80317ea05553"
      }
     },
     "metadata": {},
     "output_type": "display_data"
    },
    {
     "data": {
      "text/plain": "  0%|          | 0/800 [00:00<?, ?it/s]",
      "application/vnd.jupyter.widget-view+json": {
       "version_major": 2,
       "version_minor": 0,
       "model_id": "503a14d9602e43f9850a2591d0d42376"
      }
     },
     "metadata": {},
     "output_type": "display_data"
    },
    {
     "data": {
      "text/plain": "  0%|          | 0/800 [00:00<?, ?it/s]",
      "application/vnd.jupyter.widget-view+json": {
       "version_major": 2,
       "version_minor": 0,
       "model_id": "aef4b69065b74e20895aa0713278b026"
      }
     },
     "metadata": {},
     "output_type": "display_data"
    },
    {
     "data": {
      "text/plain": "  0%|          | 0/800 [00:00<?, ?it/s]",
      "application/vnd.jupyter.widget-view+json": {
       "version_major": 2,
       "version_minor": 0,
       "model_id": "cb9d73c111174aaea7ef509dc519e2c5"
      }
     },
     "metadata": {},
     "output_type": "display_data"
    },
    {
     "data": {
      "text/plain": "  0%|          | 0/800 [00:00<?, ?it/s]",
      "application/vnd.jupyter.widget-view+json": {
       "version_major": 2,
       "version_minor": 0,
       "model_id": "0a33a70a3ece4de68674fa7a1898ca3b"
      }
     },
     "metadata": {},
     "output_type": "display_data"
    },
    {
     "data": {
      "text/plain": "  0%|          | 0/800 [00:00<?, ?it/s]",
      "application/vnd.jupyter.widget-view+json": {
       "version_major": 2,
       "version_minor": 0,
       "model_id": "f188be9413534be0a70732a7b9eb8c68"
      }
     },
     "metadata": {},
     "output_type": "display_data"
    },
    {
     "data": {
      "text/plain": "  0%|          | 0/800 [00:00<?, ?it/s]",
      "application/vnd.jupyter.widget-view+json": {
       "version_major": 2,
       "version_minor": 0,
       "model_id": "7ab0d18ac9364b9183497d8c5cc33561"
      }
     },
     "metadata": {},
     "output_type": "display_data"
    },
    {
     "data": {
      "text/plain": "  0%|          | 0/800 [00:00<?, ?it/s]",
      "application/vnd.jupyter.widget-view+json": {
       "version_major": 2,
       "version_minor": 0,
       "model_id": "6f9c431b648c4c72a4f27af05a272828"
      }
     },
     "metadata": {},
     "output_type": "display_data"
    },
    {
     "data": {
      "text/plain": "  0%|          | 0/800 [00:00<?, ?it/s]",
      "application/vnd.jupyter.widget-view+json": {
       "version_major": 2,
       "version_minor": 0,
       "model_id": "87ab022f81fe4f9cafacb73aa3a82602"
      }
     },
     "metadata": {},
     "output_type": "display_data"
    },
    {
     "data": {
      "text/plain": "  0%|          | 0/800 [00:00<?, ?it/s]",
      "application/vnd.jupyter.widget-view+json": {
       "version_major": 2,
       "version_minor": 0,
       "model_id": "b85153d9c3694e2e8e8c3a0b3214c05d"
      }
     },
     "metadata": {},
     "output_type": "display_data"
    },
    {
     "data": {
      "text/plain": "  0%|          | 0/800 [00:00<?, ?it/s]",
      "application/vnd.jupyter.widget-view+json": {
       "version_major": 2,
       "version_minor": 0,
       "model_id": "7b15d4020333455d9feebac007d5c293"
      }
     },
     "metadata": {},
     "output_type": "display_data"
    },
    {
     "data": {
      "text/plain": "  0%|          | 0/800 [00:00<?, ?it/s]",
      "application/vnd.jupyter.widget-view+json": {
       "version_major": 2,
       "version_minor": 0,
       "model_id": "1f9faf2026ec4f13bd37e7f839f1a907"
      }
     },
     "metadata": {},
     "output_type": "display_data"
    },
    {
     "data": {
      "text/plain": "  0%|          | 0/800 [00:00<?, ?it/s]",
      "application/vnd.jupyter.widget-view+json": {
       "version_major": 2,
       "version_minor": 0,
       "model_id": "832b382a678b430ea344a1b95ae9885c"
      }
     },
     "metadata": {},
     "output_type": "display_data"
    },
    {
     "data": {
      "text/plain": "  0%|          | 0/800 [00:00<?, ?it/s]",
      "application/vnd.jupyter.widget-view+json": {
       "version_major": 2,
       "version_minor": 0,
       "model_id": "88ce1a7393464734adf3c5f3cb998575"
      }
     },
     "metadata": {},
     "output_type": "display_data"
    },
    {
     "data": {
      "text/plain": "  0%|          | 0/800 [00:00<?, ?it/s]",
      "application/vnd.jupyter.widget-view+json": {
       "version_major": 2,
       "version_minor": 0,
       "model_id": "f1bf0033a1124585b62649e34ca7f893"
      }
     },
     "metadata": {},
     "output_type": "display_data"
    },
    {
     "data": {
      "text/plain": "  0%|          | 0/800 [00:00<?, ?it/s]",
      "application/vnd.jupyter.widget-view+json": {
       "version_major": 2,
       "version_minor": 0,
       "model_id": "76cae4899fb54b15945fde94d2710b52"
      }
     },
     "metadata": {},
     "output_type": "display_data"
    },
    {
     "data": {
      "text/plain": "  0%|          | 0/800 [00:00<?, ?it/s]",
      "application/vnd.jupyter.widget-view+json": {
       "version_major": 2,
       "version_minor": 0,
       "model_id": "d059846e07aa42dc816fc7ae4fd52a93"
      }
     },
     "metadata": {},
     "output_type": "display_data"
    },
    {
     "data": {
      "text/plain": "  0%|          | 0/800 [00:00<?, ?it/s]",
      "application/vnd.jupyter.widget-view+json": {
       "version_major": 2,
       "version_minor": 0,
       "model_id": "4462fb955ca9421cb28ed51abc42470a"
      }
     },
     "metadata": {},
     "output_type": "display_data"
    },
    {
     "data": {
      "text/plain": "  0%|          | 0/800 [00:00<?, ?it/s]",
      "application/vnd.jupyter.widget-view+json": {
       "version_major": 2,
       "version_minor": 0,
       "model_id": "e883ab468602443899270883bcba2a56"
      }
     },
     "metadata": {},
     "output_type": "display_data"
    },
    {
     "data": {
      "text/plain": "  0%|          | 0/800 [00:00<?, ?it/s]",
      "application/vnd.jupyter.widget-view+json": {
       "version_major": 2,
       "version_minor": 0,
       "model_id": "124f4a4263fb413bbae1149f5b314c65"
      }
     },
     "metadata": {},
     "output_type": "display_data"
    },
    {
     "data": {
      "text/plain": "  0%|          | 0/800 [00:00<?, ?it/s]",
      "application/vnd.jupyter.widget-view+json": {
       "version_major": 2,
       "version_minor": 0,
       "model_id": "ee72ddf4861e482881d587f0b226fb95"
      }
     },
     "metadata": {},
     "output_type": "display_data"
    },
    {
     "data": {
      "text/plain": "  0%|          | 0/800 [00:00<?, ?it/s]",
      "application/vnd.jupyter.widget-view+json": {
       "version_major": 2,
       "version_minor": 0,
       "model_id": "f51eee4fecac498885b997acd8319d28"
      }
     },
     "metadata": {},
     "output_type": "display_data"
    },
    {
     "data": {
      "text/plain": "  0%|          | 0/800 [00:00<?, ?it/s]",
      "application/vnd.jupyter.widget-view+json": {
       "version_major": 2,
       "version_minor": 0,
       "model_id": "8b6cc48d6e2d46ad907d0ffd05e6a2b7"
      }
     },
     "metadata": {},
     "output_type": "display_data"
    },
    {
     "data": {
      "text/plain": "  0%|          | 0/800 [00:00<?, ?it/s]",
      "application/vnd.jupyter.widget-view+json": {
       "version_major": 2,
       "version_minor": 0,
       "model_id": "3f00c9ee88ff41cdb837376713c1b5ee"
      }
     },
     "metadata": {},
     "output_type": "display_data"
    },
    {
     "data": {
      "text/plain": "  0%|          | 0/800 [00:00<?, ?it/s]",
      "application/vnd.jupyter.widget-view+json": {
       "version_major": 2,
       "version_minor": 0,
       "model_id": "649b9fa1731847098ffab266993ac67d"
      }
     },
     "metadata": {},
     "output_type": "display_data"
    },
    {
     "data": {
      "text/plain": "  0%|          | 0/800 [00:00<?, ?it/s]",
      "application/vnd.jupyter.widget-view+json": {
       "version_major": 2,
       "version_minor": 0,
       "model_id": "24ca98a80e024899b5143f49347646e0"
      }
     },
     "metadata": {},
     "output_type": "display_data"
    },
    {
     "data": {
      "text/plain": "  0%|          | 0/800 [00:00<?, ?it/s]",
      "application/vnd.jupyter.widget-view+json": {
       "version_major": 2,
       "version_minor": 0,
       "model_id": "b0a0b079054a4173935870cb896825ae"
      }
     },
     "metadata": {},
     "output_type": "display_data"
    },
    {
     "data": {
      "text/plain": "  0%|          | 0/800 [00:00<?, ?it/s]",
      "application/vnd.jupyter.widget-view+json": {
       "version_major": 2,
       "version_minor": 0,
       "model_id": "77f1da0ed1184eb6869d9b63fed94915"
      }
     },
     "metadata": {},
     "output_type": "display_data"
    },
    {
     "data": {
      "text/plain": "  0%|          | 0/800 [00:00<?, ?it/s]",
      "application/vnd.jupyter.widget-view+json": {
       "version_major": 2,
       "version_minor": 0,
       "model_id": "961cc1109ec643c7a79b250fcc92fd61"
      }
     },
     "metadata": {},
     "output_type": "display_data"
    },
    {
     "data": {
      "text/plain": "  0%|          | 0/800 [00:00<?, ?it/s]",
      "application/vnd.jupyter.widget-view+json": {
       "version_major": 2,
       "version_minor": 0,
       "model_id": "f2c040ad220f4df69b329f810f5688fe"
      }
     },
     "metadata": {},
     "output_type": "display_data"
    },
    {
     "data": {
      "text/plain": "  0%|          | 0/800 [00:00<?, ?it/s]",
      "application/vnd.jupyter.widget-view+json": {
       "version_major": 2,
       "version_minor": 0,
       "model_id": "e0b428f9cf8d4e1aa1629412e4c8ca3e"
      }
     },
     "metadata": {},
     "output_type": "display_data"
    },
    {
     "data": {
      "text/plain": "  0%|          | 0/800 [00:00<?, ?it/s]",
      "application/vnd.jupyter.widget-view+json": {
       "version_major": 2,
       "version_minor": 0,
       "model_id": "bbdaf0a0aefd4f73856af153c58faff0"
      }
     },
     "metadata": {},
     "output_type": "display_data"
    },
    {
     "data": {
      "text/plain": "  0%|          | 0/800 [00:00<?, ?it/s]",
      "application/vnd.jupyter.widget-view+json": {
       "version_major": 2,
       "version_minor": 0,
       "model_id": "c78affb995344b5f8caac4b8f8b48627"
      }
     },
     "metadata": {},
     "output_type": "display_data"
    },
    {
     "data": {
      "text/plain": "  0%|          | 0/800 [00:00<?, ?it/s]",
      "application/vnd.jupyter.widget-view+json": {
       "version_major": 2,
       "version_minor": 0,
       "model_id": "fecf0b1ff3204480aa7e0deefdc39497"
      }
     },
     "metadata": {},
     "output_type": "display_data"
    },
    {
     "data": {
      "text/plain": "  0%|          | 0/800 [00:00<?, ?it/s]",
      "application/vnd.jupyter.widget-view+json": {
       "version_major": 2,
       "version_minor": 0,
       "model_id": "b4118f0ae1f34b0b939142cc7e989042"
      }
     },
     "metadata": {},
     "output_type": "display_data"
    },
    {
     "data": {
      "text/plain": "  0%|          | 0/800 [00:00<?, ?it/s]",
      "application/vnd.jupyter.widget-view+json": {
       "version_major": 2,
       "version_minor": 0,
       "model_id": "c68db2e7ff934c818cd47fded7df7d28"
      }
     },
     "metadata": {},
     "output_type": "display_data"
    },
    {
     "data": {
      "text/plain": "  0%|          | 0/800 [00:00<?, ?it/s]",
      "application/vnd.jupyter.widget-view+json": {
       "version_major": 2,
       "version_minor": 0,
       "model_id": "c2a947ce16b8416db5c8bcc52f652279"
      }
     },
     "metadata": {},
     "output_type": "display_data"
    },
    {
     "data": {
      "text/plain": "  0%|          | 0/800 [00:00<?, ?it/s]",
      "application/vnd.jupyter.widget-view+json": {
       "version_major": 2,
       "version_minor": 0,
       "model_id": "569f50e2020b4ed79223db8876e1f946"
      }
     },
     "metadata": {},
     "output_type": "display_data"
    },
    {
     "data": {
      "text/plain": "  0%|          | 0/800 [00:00<?, ?it/s]",
      "application/vnd.jupyter.widget-view+json": {
       "version_major": 2,
       "version_minor": 0,
       "model_id": "7c67ca98993d4a289419c76658d6794b"
      }
     },
     "metadata": {},
     "output_type": "display_data"
    },
    {
     "data": {
      "text/plain": "  0%|          | 0/800 [00:00<?, ?it/s]",
      "application/vnd.jupyter.widget-view+json": {
       "version_major": 2,
       "version_minor": 0,
       "model_id": "88c9f87d6c3946e4a76cca7e156f47e3"
      }
     },
     "metadata": {},
     "output_type": "display_data"
    },
    {
     "data": {
      "text/plain": "  0%|          | 0/800 [00:00<?, ?it/s]",
      "application/vnd.jupyter.widget-view+json": {
       "version_major": 2,
       "version_minor": 0,
       "model_id": "75d2fd27333c4a82a856a3f537ec4f45"
      }
     },
     "metadata": {},
     "output_type": "display_data"
    },
    {
     "data": {
      "text/plain": "  0%|          | 0/800 [00:00<?, ?it/s]",
      "application/vnd.jupyter.widget-view+json": {
       "version_major": 2,
       "version_minor": 0,
       "model_id": "3d2e7ada85dc49ccb7e53c03acfac8ba"
      }
     },
     "metadata": {},
     "output_type": "display_data"
    },
    {
     "data": {
      "text/plain": "  0%|          | 0/800 [00:00<?, ?it/s]",
      "application/vnd.jupyter.widget-view+json": {
       "version_major": 2,
       "version_minor": 0,
       "model_id": "d697539b703f4f17b3c2f4da374c87b3"
      }
     },
     "metadata": {},
     "output_type": "display_data"
    },
    {
     "data": {
      "text/plain": "  0%|          | 0/800 [00:00<?, ?it/s]",
      "application/vnd.jupyter.widget-view+json": {
       "version_major": 2,
       "version_minor": 0,
       "model_id": "4657762d5c094f1aa8235d9833979be9"
      }
     },
     "metadata": {},
     "output_type": "display_data"
    },
    {
     "data": {
      "text/plain": "  0%|          | 0/800 [00:00<?, ?it/s]",
      "application/vnd.jupyter.widget-view+json": {
       "version_major": 2,
       "version_minor": 0,
       "model_id": "1ce4aa49123f42d8af85ddfd5ceb051c"
      }
     },
     "metadata": {},
     "output_type": "display_data"
    },
    {
     "data": {
      "text/plain": "  0%|          | 0/800 [00:00<?, ?it/s]",
      "application/vnd.jupyter.widget-view+json": {
       "version_major": 2,
       "version_minor": 0,
       "model_id": "aa3f38e36e994a33a7787d0304558551"
      }
     },
     "metadata": {},
     "output_type": "display_data"
    },
    {
     "data": {
      "text/plain": "  0%|          | 0/800 [00:00<?, ?it/s]",
      "application/vnd.jupyter.widget-view+json": {
       "version_major": 2,
       "version_minor": 0,
       "model_id": "851b432b78b0410596f9420842316ed7"
      }
     },
     "metadata": {},
     "output_type": "display_data"
    },
    {
     "data": {
      "text/plain": "  0%|          | 0/800 [00:00<?, ?it/s]",
      "application/vnd.jupyter.widget-view+json": {
       "version_major": 2,
       "version_minor": 0,
       "model_id": "c64710772f7b4ba8afa1a212579dd02d"
      }
     },
     "metadata": {},
     "output_type": "display_data"
    },
    {
     "data": {
      "text/plain": "  0%|          | 0/800 [00:00<?, ?it/s]",
      "application/vnd.jupyter.widget-view+json": {
       "version_major": 2,
       "version_minor": 0,
       "model_id": "9d6b821c2f1f4f7094059bb4b3d31244"
      }
     },
     "metadata": {},
     "output_type": "display_data"
    },
    {
     "data": {
      "text/plain": "  0%|          | 0/800 [00:00<?, ?it/s]",
      "application/vnd.jupyter.widget-view+json": {
       "version_major": 2,
       "version_minor": 0,
       "model_id": "0d0c0220b975406f9c9b9ac2f5c3dfd7"
      }
     },
     "metadata": {},
     "output_type": "display_data"
    },
    {
     "data": {
      "text/plain": "  0%|          | 0/800 [00:00<?, ?it/s]",
      "application/vnd.jupyter.widget-view+json": {
       "version_major": 2,
       "version_minor": 0,
       "model_id": "621e091424604569a26c8744da7372c8"
      }
     },
     "metadata": {},
     "output_type": "display_data"
    },
    {
     "data": {
      "text/plain": "  0%|          | 0/800 [00:00<?, ?it/s]",
      "application/vnd.jupyter.widget-view+json": {
       "version_major": 2,
       "version_minor": 0,
       "model_id": "1c102fbee78246859cd5a0b9e95f4d88"
      }
     },
     "metadata": {},
     "output_type": "display_data"
    },
    {
     "data": {
      "text/plain": "  0%|          | 0/800 [00:00<?, ?it/s]",
      "application/vnd.jupyter.widget-view+json": {
       "version_major": 2,
       "version_minor": 0,
       "model_id": "79d786485ffa4deea8ade9498e9fe61d"
      }
     },
     "metadata": {},
     "output_type": "display_data"
    },
    {
     "data": {
      "text/plain": "  0%|          | 0/800 [00:00<?, ?it/s]",
      "application/vnd.jupyter.widget-view+json": {
       "version_major": 2,
       "version_minor": 0,
       "model_id": "db513892a0664f4f9667720e691360c8"
      }
     },
     "metadata": {},
     "output_type": "display_data"
    },
    {
     "data": {
      "text/plain": "  0%|          | 0/800 [00:00<?, ?it/s]",
      "application/vnd.jupyter.widget-view+json": {
       "version_major": 2,
       "version_minor": 0,
       "model_id": "54266a95d4554c60b9516bbee0d6f474"
      }
     },
     "metadata": {},
     "output_type": "display_data"
    },
    {
     "data": {
      "text/plain": "  0%|          | 0/800 [00:00<?, ?it/s]",
      "application/vnd.jupyter.widget-view+json": {
       "version_major": 2,
       "version_minor": 0,
       "model_id": "50508c309d1d4584af206228dc8cdaf6"
      }
     },
     "metadata": {},
     "output_type": "display_data"
    },
    {
     "data": {
      "text/plain": "  0%|          | 0/800 [00:00<?, ?it/s]",
      "application/vnd.jupyter.widget-view+json": {
       "version_major": 2,
       "version_minor": 0,
       "model_id": "2184a65abbb3446cba15c8991f975443"
      }
     },
     "metadata": {},
     "output_type": "display_data"
    },
    {
     "data": {
      "text/plain": "  0%|          | 0/800 [00:00<?, ?it/s]",
      "application/vnd.jupyter.widget-view+json": {
       "version_major": 2,
       "version_minor": 0,
       "model_id": "6a6dfe8adeaf4b76b9180be345ec298c"
      }
     },
     "metadata": {},
     "output_type": "display_data"
    },
    {
     "data": {
      "text/plain": "  0%|          | 0/800 [00:00<?, ?it/s]",
      "application/vnd.jupyter.widget-view+json": {
       "version_major": 2,
       "version_minor": 0,
       "model_id": "c08972ce08fc43ee80930a8f55ec28b6"
      }
     },
     "metadata": {},
     "output_type": "display_data"
    },
    {
     "data": {
      "text/plain": "  0%|          | 0/800 [00:00<?, ?it/s]",
      "application/vnd.jupyter.widget-view+json": {
       "version_major": 2,
       "version_minor": 0,
       "model_id": "c0bcc8f7a8e443dfa48058a371089156"
      }
     },
     "metadata": {},
     "output_type": "display_data"
    },
    {
     "data": {
      "text/plain": "  0%|          | 0/800 [00:00<?, ?it/s]",
      "application/vnd.jupyter.widget-view+json": {
       "version_major": 2,
       "version_minor": 0,
       "model_id": "f2ec0876762248b69efd898edca34a77"
      }
     },
     "metadata": {},
     "output_type": "display_data"
    },
    {
     "data": {
      "text/plain": "  0%|          | 0/800 [00:00<?, ?it/s]",
      "application/vnd.jupyter.widget-view+json": {
       "version_major": 2,
       "version_minor": 0,
       "model_id": "ccbc8e7ddbf244338a13ccb4a6c9d6ec"
      }
     },
     "metadata": {},
     "output_type": "display_data"
    },
    {
     "data": {
      "text/plain": "  0%|          | 0/800 [00:00<?, ?it/s]",
      "application/vnd.jupyter.widget-view+json": {
       "version_major": 2,
       "version_minor": 0,
       "model_id": "70d7761fc1fb44c4904bee6aa70c60c5"
      }
     },
     "metadata": {},
     "output_type": "display_data"
    },
    {
     "data": {
      "text/plain": "  0%|          | 0/800 [00:00<?, ?it/s]",
      "application/vnd.jupyter.widget-view+json": {
       "version_major": 2,
       "version_minor": 0,
       "model_id": "5e905ea807474a5bb9ceba24e1da4c17"
      }
     },
     "metadata": {},
     "output_type": "display_data"
    },
    {
     "data": {
      "text/plain": "  0%|          | 0/800 [00:00<?, ?it/s]",
      "application/vnd.jupyter.widget-view+json": {
       "version_major": 2,
       "version_minor": 0,
       "model_id": "2826f7821a0d405b93cdc0309b8494d2"
      }
     },
     "metadata": {},
     "output_type": "display_data"
    },
    {
     "data": {
      "text/plain": "  0%|          | 0/800 [00:00<?, ?it/s]",
      "application/vnd.jupyter.widget-view+json": {
       "version_major": 2,
       "version_minor": 0,
       "model_id": "54ce0733e56248f99ffcc35de4ad955f"
      }
     },
     "metadata": {},
     "output_type": "display_data"
    },
    {
     "data": {
      "text/plain": "  0%|          | 0/800 [00:00<?, ?it/s]",
      "application/vnd.jupyter.widget-view+json": {
       "version_major": 2,
       "version_minor": 0,
       "model_id": "e569fd3eff1e436995e03b955b2f66cf"
      }
     },
     "metadata": {},
     "output_type": "display_data"
    },
    {
     "data": {
      "text/plain": "  0%|          | 0/800 [00:00<?, ?it/s]",
      "application/vnd.jupyter.widget-view+json": {
       "version_major": 2,
       "version_minor": 0,
       "model_id": "861e4289b3174b1aab505ff4fe7c81f5"
      }
     },
     "metadata": {},
     "output_type": "display_data"
    },
    {
     "data": {
      "text/plain": "  0%|          | 0/800 [00:00<?, ?it/s]",
      "application/vnd.jupyter.widget-view+json": {
       "version_major": 2,
       "version_minor": 0,
       "model_id": "d33fc5f0cb804b9b82531717f7516a96"
      }
     },
     "metadata": {},
     "output_type": "display_data"
    },
    {
     "data": {
      "text/plain": "  0%|          | 0/800 [00:00<?, ?it/s]",
      "application/vnd.jupyter.widget-view+json": {
       "version_major": 2,
       "version_minor": 0,
       "model_id": "2b8871355e35464a858a1740756094d9"
      }
     },
     "metadata": {},
     "output_type": "display_data"
    },
    {
     "data": {
      "text/plain": "  0%|          | 0/800 [00:00<?, ?it/s]",
      "application/vnd.jupyter.widget-view+json": {
       "version_major": 2,
       "version_minor": 0,
       "model_id": "4930ae46153e40c78db8b30ea7ca8c3e"
      }
     },
     "metadata": {},
     "output_type": "display_data"
    },
    {
     "data": {
      "text/plain": "  0%|          | 0/800 [00:00<?, ?it/s]",
      "application/vnd.jupyter.widget-view+json": {
       "version_major": 2,
       "version_minor": 0,
       "model_id": "40d83374e74e40f7928ed8037b3c5c0f"
      }
     },
     "metadata": {},
     "output_type": "display_data"
    },
    {
     "data": {
      "text/plain": "  0%|          | 0/800 [00:00<?, ?it/s]",
      "application/vnd.jupyter.widget-view+json": {
       "version_major": 2,
       "version_minor": 0,
       "model_id": "573ee21cbc0943a49d5b992addbac950"
      }
     },
     "metadata": {},
     "output_type": "display_data"
    },
    {
     "data": {
      "text/plain": "  0%|          | 0/800 [00:00<?, ?it/s]",
      "application/vnd.jupyter.widget-view+json": {
       "version_major": 2,
       "version_minor": 0,
       "model_id": "0d3b4333b86241fd978af4909184f085"
      }
     },
     "metadata": {},
     "output_type": "display_data"
    },
    {
     "data": {
      "text/plain": "  0%|          | 0/800 [00:00<?, ?it/s]",
      "application/vnd.jupyter.widget-view+json": {
       "version_major": 2,
       "version_minor": 0,
       "model_id": "bb329881b5ac42f881c74c9aaacda5ee"
      }
     },
     "metadata": {},
     "output_type": "display_data"
    },
    {
     "data": {
      "text/plain": "  0%|          | 0/800 [00:00<?, ?it/s]",
      "application/vnd.jupyter.widget-view+json": {
       "version_major": 2,
       "version_minor": 0,
       "model_id": "375fc7208f7a471aaaffa6854fdbacbb"
      }
     },
     "metadata": {},
     "output_type": "display_data"
    },
    {
     "data": {
      "text/plain": "  0%|          | 0/800 [00:00<?, ?it/s]",
      "application/vnd.jupyter.widget-view+json": {
       "version_major": 2,
       "version_minor": 0,
       "model_id": "8da3fa8929b345b5b08404b080a2c249"
      }
     },
     "metadata": {},
     "output_type": "display_data"
    },
    {
     "data": {
      "text/plain": "  0%|          | 0/800 [00:00<?, ?it/s]",
      "application/vnd.jupyter.widget-view+json": {
       "version_major": 2,
       "version_minor": 0,
       "model_id": "dfaf35412f8f4f2b80676f30ab8aaa28"
      }
     },
     "metadata": {},
     "output_type": "display_data"
    },
    {
     "data": {
      "text/plain": "  0%|          | 0/800 [00:00<?, ?it/s]",
      "application/vnd.jupyter.widget-view+json": {
       "version_major": 2,
       "version_minor": 0,
       "model_id": "1bc26707fda1412f9afa5d0752a04b61"
      }
     },
     "metadata": {},
     "output_type": "display_data"
    },
    {
     "data": {
      "text/plain": "  0%|          | 0/800 [00:00<?, ?it/s]",
      "application/vnd.jupyter.widget-view+json": {
       "version_major": 2,
       "version_minor": 0,
       "model_id": "55730c50905b41af9420873c709d6e15"
      }
     },
     "metadata": {},
     "output_type": "display_data"
    },
    {
     "data": {
      "text/plain": "  0%|          | 0/800 [00:00<?, ?it/s]",
      "application/vnd.jupyter.widget-view+json": {
       "version_major": 2,
       "version_minor": 0,
       "model_id": "458385311583427db1a8a338861ab68b"
      }
     },
     "metadata": {},
     "output_type": "display_data"
    },
    {
     "data": {
      "text/plain": "  0%|          | 0/800 [00:00<?, ?it/s]",
      "application/vnd.jupyter.widget-view+json": {
       "version_major": 2,
       "version_minor": 0,
       "model_id": "33443f5ca43a4b4480342a18c20e87d6"
      }
     },
     "metadata": {},
     "output_type": "display_data"
    },
    {
     "data": {
      "text/plain": "  0%|          | 0/800 [00:00<?, ?it/s]",
      "application/vnd.jupyter.widget-view+json": {
       "version_major": 2,
       "version_minor": 0,
       "model_id": "4fd976dd27ac44d4900d1d07944c4f54"
      }
     },
     "metadata": {},
     "output_type": "display_data"
    },
    {
     "data": {
      "text/plain": "  0%|          | 0/800 [00:00<?, ?it/s]",
      "application/vnd.jupyter.widget-view+json": {
       "version_major": 2,
       "version_minor": 0,
       "model_id": "189e6bb7d816420c916320a58659a55d"
      }
     },
     "metadata": {},
     "output_type": "display_data"
    },
    {
     "data": {
      "text/plain": "  0%|          | 0/800 [00:00<?, ?it/s]",
      "application/vnd.jupyter.widget-view+json": {
       "version_major": 2,
       "version_minor": 0,
       "model_id": "6e0330ed3f4047d2a267f0490f0ef638"
      }
     },
     "metadata": {},
     "output_type": "display_data"
    },
    {
     "data": {
      "text/plain": "  0%|          | 0/800 [00:00<?, ?it/s]",
      "application/vnd.jupyter.widget-view+json": {
       "version_major": 2,
       "version_minor": 0,
       "model_id": "486f0d2d247b4c119b69502970cbb17e"
      }
     },
     "metadata": {},
     "output_type": "display_data"
    },
    {
     "data": {
      "text/plain": "  0%|          | 0/800 [00:00<?, ?it/s]",
      "application/vnd.jupyter.widget-view+json": {
       "version_major": 2,
       "version_minor": 0,
       "model_id": "abfb7a5ccd2c429fa82beeaa2f07c83b"
      }
     },
     "metadata": {},
     "output_type": "display_data"
    },
    {
     "data": {
      "text/plain": "  0%|          | 0/800 [00:00<?, ?it/s]",
      "application/vnd.jupyter.widget-view+json": {
       "version_major": 2,
       "version_minor": 0,
       "model_id": "7581166220df436a896144cf3ee06fa0"
      }
     },
     "metadata": {},
     "output_type": "display_data"
    },
    {
     "data": {
      "text/plain": "  0%|          | 0/800 [00:00<?, ?it/s]",
      "application/vnd.jupyter.widget-view+json": {
       "version_major": 2,
       "version_minor": 0,
       "model_id": "219d43f3aa68410f968e83c6cd0a564c"
      }
     },
     "metadata": {},
     "output_type": "display_data"
    },
    {
     "data": {
      "text/plain": "  0%|          | 0/800 [00:00<?, ?it/s]",
      "application/vnd.jupyter.widget-view+json": {
       "version_major": 2,
       "version_minor": 0,
       "model_id": "d1f2f65386d6481f9f160f2300e93aca"
      }
     },
     "metadata": {},
     "output_type": "display_data"
    },
    {
     "data": {
      "text/plain": "  0%|          | 0/800 [00:00<?, ?it/s]",
      "application/vnd.jupyter.widget-view+json": {
       "version_major": 2,
       "version_minor": 0,
       "model_id": "f558a55d979f4a5c8b8c64178263572e"
      }
     },
     "metadata": {},
     "output_type": "display_data"
    },
    {
     "data": {
      "text/plain": "  0%|          | 0/800 [00:00<?, ?it/s]",
      "application/vnd.jupyter.widget-view+json": {
       "version_major": 2,
       "version_minor": 0,
       "model_id": "3701131357b840ad850954e24992bb88"
      }
     },
     "metadata": {},
     "output_type": "display_data"
    },
    {
     "data": {
      "text/plain": "  0%|          | 0/800 [00:00<?, ?it/s]",
      "application/vnd.jupyter.widget-view+json": {
       "version_major": 2,
       "version_minor": 0,
       "model_id": "ae5ce8b40a8c47f0b05e56fc2145593e"
      }
     },
     "metadata": {},
     "output_type": "display_data"
    },
    {
     "data": {
      "text/plain": "  0%|          | 0/800 [00:00<?, ?it/s]",
      "application/vnd.jupyter.widget-view+json": {
       "version_major": 2,
       "version_minor": 0,
       "model_id": "0a1ed7d04f26406cbe8ce41fd08d76c1"
      }
     },
     "metadata": {},
     "output_type": "display_data"
    },
    {
     "data": {
      "text/plain": "  0%|          | 0/800 [00:00<?, ?it/s]",
      "application/vnd.jupyter.widget-view+json": {
       "version_major": 2,
       "version_minor": 0,
       "model_id": "8e30538693e143b194a935fad575a20d"
      }
     },
     "metadata": {},
     "output_type": "display_data"
    },
    {
     "data": {
      "text/plain": "  0%|          | 0/800 [00:00<?, ?it/s]",
      "application/vnd.jupyter.widget-view+json": {
       "version_major": 2,
       "version_minor": 0,
       "model_id": "8300079b10254551b26145a39f7ea47f"
      }
     },
     "metadata": {},
     "output_type": "display_data"
    },
    {
     "data": {
      "text/plain": "  0%|          | 0/800 [00:00<?, ?it/s]",
      "application/vnd.jupyter.widget-view+json": {
       "version_major": 2,
       "version_minor": 0,
       "model_id": "925223c9b1a84c94aa7e5a4d8fb58bf6"
      }
     },
     "metadata": {},
     "output_type": "display_data"
    },
    {
     "data": {
      "text/plain": "  0%|          | 0/800 [00:00<?, ?it/s]",
      "application/vnd.jupyter.widget-view+json": {
       "version_major": 2,
       "version_minor": 0,
       "model_id": "234013500e8e4fc497533c9d956680f7"
      }
     },
     "metadata": {},
     "output_type": "display_data"
    },
    {
     "data": {
      "text/plain": "  0%|          | 0/800 [00:00<?, ?it/s]",
      "application/vnd.jupyter.widget-view+json": {
       "version_major": 2,
       "version_minor": 0,
       "model_id": "4a072e51d5b54eb2b66ca2a02c9f1cd8"
      }
     },
     "metadata": {},
     "output_type": "display_data"
    },
    {
     "data": {
      "text/plain": "  0%|          | 0/800 [00:00<?, ?it/s]",
      "application/vnd.jupyter.widget-view+json": {
       "version_major": 2,
       "version_minor": 0,
       "model_id": "bc143ddb9dc847bd9a01ebc107b128cc"
      }
     },
     "metadata": {},
     "output_type": "display_data"
    },
    {
     "data": {
      "text/plain": "  0%|          | 0/800 [00:00<?, ?it/s]",
      "application/vnd.jupyter.widget-view+json": {
       "version_major": 2,
       "version_minor": 0,
       "model_id": "4777ef2dcd1c460093e04fa1156c3b25"
      }
     },
     "metadata": {},
     "output_type": "display_data"
    },
    {
     "data": {
      "text/plain": "  0%|          | 0/800 [00:00<?, ?it/s]",
      "application/vnd.jupyter.widget-view+json": {
       "version_major": 2,
       "version_minor": 0,
       "model_id": "97b79a0d4118424bba8c609ab1158a98"
      }
     },
     "metadata": {},
     "output_type": "display_data"
    },
    {
     "data": {
      "text/plain": "  0%|          | 0/800 [00:00<?, ?it/s]",
      "application/vnd.jupyter.widget-view+json": {
       "version_major": 2,
       "version_minor": 0,
       "model_id": "43552a824a0d413f9169178b734485af"
      }
     },
     "metadata": {},
     "output_type": "display_data"
    },
    {
     "data": {
      "text/plain": "  0%|          | 0/800 [00:00<?, ?it/s]",
      "application/vnd.jupyter.widget-view+json": {
       "version_major": 2,
       "version_minor": 0,
       "model_id": "f320ae9aeccd48c78b3e9dabf6704d60"
      }
     },
     "metadata": {},
     "output_type": "display_data"
    },
    {
     "data": {
      "text/plain": "  0%|          | 0/800 [00:00<?, ?it/s]",
      "application/vnd.jupyter.widget-view+json": {
       "version_major": 2,
       "version_minor": 0,
       "model_id": "57f9e0dc05f745df989c9034dc42ca2f"
      }
     },
     "metadata": {},
     "output_type": "display_data"
    },
    {
     "data": {
      "text/plain": "  0%|          | 0/800 [00:00<?, ?it/s]",
      "application/vnd.jupyter.widget-view+json": {
       "version_major": 2,
       "version_minor": 0,
       "model_id": "b8e455338dde4bce9aacad51d93404f4"
      }
     },
     "metadata": {},
     "output_type": "display_data"
    },
    {
     "data": {
      "text/plain": "  0%|          | 0/800 [00:00<?, ?it/s]",
      "application/vnd.jupyter.widget-view+json": {
       "version_major": 2,
       "version_minor": 0,
       "model_id": "1e4f13d01f6d4ac79d0226993a393940"
      }
     },
     "metadata": {},
     "output_type": "display_data"
    },
    {
     "data": {
      "text/plain": "  0%|          | 0/800 [00:00<?, ?it/s]",
      "application/vnd.jupyter.widget-view+json": {
       "version_major": 2,
       "version_minor": 0,
       "model_id": "11f47b7d6a3642f4b44205aa70a23ded"
      }
     },
     "metadata": {},
     "output_type": "display_data"
    },
    {
     "data": {
      "text/plain": "  0%|          | 0/800 [00:00<?, ?it/s]",
      "application/vnd.jupyter.widget-view+json": {
       "version_major": 2,
       "version_minor": 0,
       "model_id": "d54a2e082cdf492eacb24ffcf0bc49a0"
      }
     },
     "metadata": {},
     "output_type": "display_data"
    },
    {
     "data": {
      "text/plain": "  0%|          | 0/800 [00:00<?, ?it/s]",
      "application/vnd.jupyter.widget-view+json": {
       "version_major": 2,
       "version_minor": 0,
       "model_id": "c0fe8b19fcb24365bef6f88d0ee9479a"
      }
     },
     "metadata": {},
     "output_type": "display_data"
    },
    {
     "data": {
      "text/plain": "  0%|          | 0/800 [00:00<?, ?it/s]",
      "application/vnd.jupyter.widget-view+json": {
       "version_major": 2,
       "version_minor": 0,
       "model_id": "ac3d299237fc405ab454d5cc93c6fa5b"
      }
     },
     "metadata": {},
     "output_type": "display_data"
    },
    {
     "data": {
      "text/plain": "  0%|          | 0/800 [00:00<?, ?it/s]",
      "application/vnd.jupyter.widget-view+json": {
       "version_major": 2,
       "version_minor": 0,
       "model_id": "f02a5e91c2324790ba6344e0a707ffad"
      }
     },
     "metadata": {},
     "output_type": "display_data"
    },
    {
     "data": {
      "text/plain": "  0%|          | 0/800 [00:00<?, ?it/s]",
      "application/vnd.jupyter.widget-view+json": {
       "version_major": 2,
       "version_minor": 0,
       "model_id": "bf1ec1e0348349d2ac29223a27ea7dd0"
      }
     },
     "metadata": {},
     "output_type": "display_data"
    },
    {
     "data": {
      "text/plain": "  0%|          | 0/800 [00:00<?, ?it/s]",
      "application/vnd.jupyter.widget-view+json": {
       "version_major": 2,
       "version_minor": 0,
       "model_id": "1df96c2a1309428a9d5c9dce06ef6e2b"
      }
     },
     "metadata": {},
     "output_type": "display_data"
    },
    {
     "data": {
      "text/plain": "  0%|          | 0/800 [00:00<?, ?it/s]",
      "application/vnd.jupyter.widget-view+json": {
       "version_major": 2,
       "version_minor": 0,
       "model_id": "c6bbe3b3c2cc4003b017782b39634f2c"
      }
     },
     "metadata": {},
     "output_type": "display_data"
    },
    {
     "data": {
      "text/plain": "  0%|          | 0/800 [00:00<?, ?it/s]",
      "application/vnd.jupyter.widget-view+json": {
       "version_major": 2,
       "version_minor": 0,
       "model_id": "a6a7f26c215a4ed3bc004db1a766e6bf"
      }
     },
     "metadata": {},
     "output_type": "display_data"
    },
    {
     "data": {
      "text/plain": "  0%|          | 0/800 [00:00<?, ?it/s]",
      "application/vnd.jupyter.widget-view+json": {
       "version_major": 2,
       "version_minor": 0,
       "model_id": "5a1e2cea4ed34a36b0ffd68955b3dba8"
      }
     },
     "metadata": {},
     "output_type": "display_data"
    },
    {
     "data": {
      "text/plain": "  0%|          | 0/800 [00:00<?, ?it/s]",
      "application/vnd.jupyter.widget-view+json": {
       "version_major": 2,
       "version_minor": 0,
       "model_id": "649d9d12ecc34f1aa9cd5114555f539c"
      }
     },
     "metadata": {},
     "output_type": "display_data"
    },
    {
     "data": {
      "text/plain": "  0%|          | 0/800 [00:00<?, ?it/s]",
      "application/vnd.jupyter.widget-view+json": {
       "version_major": 2,
       "version_minor": 0,
       "model_id": "420bce33a4634d2a9299923001ee5a30"
      }
     },
     "metadata": {},
     "output_type": "display_data"
    },
    {
     "data": {
      "text/plain": "  0%|          | 0/800 [00:00<?, ?it/s]",
      "application/vnd.jupyter.widget-view+json": {
       "version_major": 2,
       "version_minor": 0,
       "model_id": "934da67293ae46e8ad2a2d49d6e728bd"
      }
     },
     "metadata": {},
     "output_type": "display_data"
    },
    {
     "data": {
      "text/plain": "  0%|          | 0/800 [00:00<?, ?it/s]",
      "application/vnd.jupyter.widget-view+json": {
       "version_major": 2,
       "version_minor": 0,
       "model_id": "bfe3368f6a43421fa36c73161b639ad0"
      }
     },
     "metadata": {},
     "output_type": "display_data"
    },
    {
     "data": {
      "text/plain": "  0%|          | 0/800 [00:00<?, ?it/s]",
      "application/vnd.jupyter.widget-view+json": {
       "version_major": 2,
       "version_minor": 0,
       "model_id": "b76b25e95d0b431bbd027273840575b1"
      }
     },
     "metadata": {},
     "output_type": "display_data"
    },
    {
     "data": {
      "text/plain": "  0%|          | 0/800 [00:00<?, ?it/s]",
      "application/vnd.jupyter.widget-view+json": {
       "version_major": 2,
       "version_minor": 0,
       "model_id": "3fda70cf3b4d420b97dc1adcd49c2eca"
      }
     },
     "metadata": {},
     "output_type": "display_data"
    },
    {
     "data": {
      "text/plain": "  0%|          | 0/800 [00:00<?, ?it/s]",
      "application/vnd.jupyter.widget-view+json": {
       "version_major": 2,
       "version_minor": 0,
       "model_id": "6dfe23086d63482c86399dd56368e3ee"
      }
     },
     "metadata": {},
     "output_type": "display_data"
    },
    {
     "data": {
      "text/plain": "  0%|          | 0/800 [00:00<?, ?it/s]",
      "application/vnd.jupyter.widget-view+json": {
       "version_major": 2,
       "version_minor": 0,
       "model_id": "95153c6a61c844deb0868fff26050191"
      }
     },
     "metadata": {},
     "output_type": "display_data"
    },
    {
     "data": {
      "text/plain": "  0%|          | 0/800 [00:00<?, ?it/s]",
      "application/vnd.jupyter.widget-view+json": {
       "version_major": 2,
       "version_minor": 0,
       "model_id": "68df813c102d422ea93dd3b4081325be"
      }
     },
     "metadata": {},
     "output_type": "display_data"
    },
    {
     "data": {
      "text/plain": "  0%|          | 0/800 [00:00<?, ?it/s]",
      "application/vnd.jupyter.widget-view+json": {
       "version_major": 2,
       "version_minor": 0,
       "model_id": "a9d5b8f37c5b4700b6d2fd68e4b2b17c"
      }
     },
     "metadata": {},
     "output_type": "display_data"
    },
    {
     "data": {
      "text/plain": "  0%|          | 0/800 [00:00<?, ?it/s]",
      "application/vnd.jupyter.widget-view+json": {
       "version_major": 2,
       "version_minor": 0,
       "model_id": "d120837712344bd882d9be5e71641ae7"
      }
     },
     "metadata": {},
     "output_type": "display_data"
    },
    {
     "data": {
      "text/plain": "  0%|          | 0/800 [00:00<?, ?it/s]",
      "application/vnd.jupyter.widget-view+json": {
       "version_major": 2,
       "version_minor": 0,
       "model_id": "fbaf6f649ee74345865a94aca46780a8"
      }
     },
     "metadata": {},
     "output_type": "display_data"
    },
    {
     "data": {
      "text/plain": "  0%|          | 0/800 [00:00<?, ?it/s]",
      "application/vnd.jupyter.widget-view+json": {
       "version_major": 2,
       "version_minor": 0,
       "model_id": "54fbe2e8ce104dd7a06fcb10967969b2"
      }
     },
     "metadata": {},
     "output_type": "display_data"
    },
    {
     "data": {
      "text/plain": "  0%|          | 0/800 [00:00<?, ?it/s]",
      "application/vnd.jupyter.widget-view+json": {
       "version_major": 2,
       "version_minor": 0,
       "model_id": "6195d857cd6e4b57ba488ab0ba0f7ee4"
      }
     },
     "metadata": {},
     "output_type": "display_data"
    },
    {
     "data": {
      "text/plain": "  0%|          | 0/800 [00:00<?, ?it/s]",
      "application/vnd.jupyter.widget-view+json": {
       "version_major": 2,
       "version_minor": 0,
       "model_id": "b74f575f513449d196f9513706d6d2af"
      }
     },
     "metadata": {},
     "output_type": "display_data"
    },
    {
     "data": {
      "text/plain": "  0%|          | 0/800 [00:00<?, ?it/s]",
      "application/vnd.jupyter.widget-view+json": {
       "version_major": 2,
       "version_minor": 0,
       "model_id": "f4b60071283740e5b300a86d1e3c0793"
      }
     },
     "metadata": {},
     "output_type": "display_data"
    },
    {
     "data": {
      "text/plain": "  0%|          | 0/800 [00:00<?, ?it/s]",
      "application/vnd.jupyter.widget-view+json": {
       "version_major": 2,
       "version_minor": 0,
       "model_id": "d3c2c360360e4173b5d1317f8083c832"
      }
     },
     "metadata": {},
     "output_type": "display_data"
    },
    {
     "data": {
      "text/plain": "  0%|          | 0/800 [00:00<?, ?it/s]",
      "application/vnd.jupyter.widget-view+json": {
       "version_major": 2,
       "version_minor": 0,
       "model_id": "3eaa185214db477096dfea894001a436"
      }
     },
     "metadata": {},
     "output_type": "display_data"
    },
    {
     "data": {
      "text/plain": "  0%|          | 0/800 [00:00<?, ?it/s]",
      "application/vnd.jupyter.widget-view+json": {
       "version_major": 2,
       "version_minor": 0,
       "model_id": "1ed68be32ded4f82874898b0388e9072"
      }
     },
     "metadata": {},
     "output_type": "display_data"
    },
    {
     "data": {
      "text/plain": "  0%|          | 0/800 [00:00<?, ?it/s]",
      "application/vnd.jupyter.widget-view+json": {
       "version_major": 2,
       "version_minor": 0,
       "model_id": "14145599d004477aa17e7f82f9165b03"
      }
     },
     "metadata": {},
     "output_type": "display_data"
    },
    {
     "data": {
      "text/plain": "  0%|          | 0/800 [00:00<?, ?it/s]",
      "application/vnd.jupyter.widget-view+json": {
       "version_major": 2,
       "version_minor": 0,
       "model_id": "cf36eb3efd6747e5b851edbba46180e6"
      }
     },
     "metadata": {},
     "output_type": "display_data"
    },
    {
     "data": {
      "text/plain": "  0%|          | 0/800 [00:00<?, ?it/s]",
      "application/vnd.jupyter.widget-view+json": {
       "version_major": 2,
       "version_minor": 0,
       "model_id": "b96ce02131064505876c35e1139d3b99"
      }
     },
     "metadata": {},
     "output_type": "display_data"
    },
    {
     "data": {
      "text/plain": "  0%|          | 0/800 [00:00<?, ?it/s]",
      "application/vnd.jupyter.widget-view+json": {
       "version_major": 2,
       "version_minor": 0,
       "model_id": "2b8cc0079ced4f6c9e5df340c83d31c0"
      }
     },
     "metadata": {},
     "output_type": "display_data"
    },
    {
     "data": {
      "text/plain": "  0%|          | 0/800 [00:00<?, ?it/s]",
      "application/vnd.jupyter.widget-view+json": {
       "version_major": 2,
       "version_minor": 0,
       "model_id": "9a68051b0eb549278b95450e8bcd8aae"
      }
     },
     "metadata": {},
     "output_type": "display_data"
    },
    {
     "data": {
      "text/plain": "  0%|          | 0/800 [00:00<?, ?it/s]",
      "application/vnd.jupyter.widget-view+json": {
       "version_major": 2,
       "version_minor": 0,
       "model_id": "f092f18d816b4d4583f8df7ecb95626c"
      }
     },
     "metadata": {},
     "output_type": "display_data"
    },
    {
     "data": {
      "text/plain": "  0%|          | 0/800 [00:00<?, ?it/s]",
      "application/vnd.jupyter.widget-view+json": {
       "version_major": 2,
       "version_minor": 0,
       "model_id": "298dec4cfee844758636b436ee0a7557"
      }
     },
     "metadata": {},
     "output_type": "display_data"
    },
    {
     "data": {
      "text/plain": "  0%|          | 0/800 [00:00<?, ?it/s]",
      "application/vnd.jupyter.widget-view+json": {
       "version_major": 2,
       "version_minor": 0,
       "model_id": "b4989ec7743342c3a29635a160e09870"
      }
     },
     "metadata": {},
     "output_type": "display_data"
    },
    {
     "data": {
      "text/plain": "  0%|          | 0/800 [00:00<?, ?it/s]",
      "application/vnd.jupyter.widget-view+json": {
       "version_major": 2,
       "version_minor": 0,
       "model_id": "536a7506d7064d47a21e1a459b4bd1a9"
      }
     },
     "metadata": {},
     "output_type": "display_data"
    },
    {
     "data": {
      "text/plain": "  0%|          | 0/800 [00:00<?, ?it/s]",
      "application/vnd.jupyter.widget-view+json": {
       "version_major": 2,
       "version_minor": 0,
       "model_id": "541046798d7c41bcbb55317d8f155801"
      }
     },
     "metadata": {},
     "output_type": "display_data"
    },
    {
     "data": {
      "text/plain": "  0%|          | 0/800 [00:00<?, ?it/s]",
      "application/vnd.jupyter.widget-view+json": {
       "version_major": 2,
       "version_minor": 0,
       "model_id": "14222dfcc66e4661a256dbd83f6243ab"
      }
     },
     "metadata": {},
     "output_type": "display_data"
    }
   ],
   "source": [
    "import json\n",
    "loss_value_disc = {}\n",
    "loss_value_gen = {}\n",
    "# n_critic = 5\n",
    "# clip_value = 0.01\n",
    "total_epoch = 0\n",
    "epoch_step = 100\n",
    "for i in range(11):\n",
    "    pro_out.save_model(gen, disc, 'model', total_epoch)\n",
    "    disc_loss, gen_loss = training_bce(gen, disc, z_dim, epoch_step, my_dataloader,\n",
    "                                       device, disc_opt, gen_opt, display_step)\n",
    "    # training_wloss(gen, disc, my_dataloader, epoch_step, z_dim,\n",
    "    #                batch_size, device, disc_opt, gen_opt, n_critic, clip_value)\n",
    "    total_epoch += epoch_step\n",
    "    loss_value_disc[f'epoch{total_epoch}'] = disc_loss\n",
    "    loss_value_gen[f'epoch{total_epoch}'] = gen_loss\n",
    "with open('gen_loss.json', 'w') as fp:\n",
    "    json.dump(loss_value_gen, fp)\n",
    "with open('disc_loss.json', 'w') as fp:\n",
    "    json.dump(loss_value_disc, fp)"
   ],
   "metadata": {
    "collapsed": false,
    "pycharm": {
     "name": "#%%\n"
    }
   }
  },
  {
   "cell_type": "code",
   "execution_count": null,
   "outputs": [],
   "source": [],
   "metadata": {
    "collapsed": false,
    "pycharm": {
     "name": "#%%\n"
    }
   }
  }
 ],
 "metadata": {
  "kernelspec": {
   "display_name": "Python 3",
   "language": "python",
   "name": "python3"
  },
  "language_info": {
   "codemirror_mode": {
    "name": "ipython",
    "version": 2
   },
   "file_extension": ".py",
   "mimetype": "text/x-python",
   "name": "python",
   "nbconvert_exporter": "python",
   "pygments_lexer": "ipython2",
   "version": "2.7.6"
  }
 },
 "nbformat": 4,
 "nbformat_minor": 0
}
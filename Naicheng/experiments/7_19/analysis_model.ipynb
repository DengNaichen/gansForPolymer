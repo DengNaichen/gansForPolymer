{
 "cells": [
  {
   "cell_type": "code",
   "execution_count": 1,
   "metadata": {
    "collapsed": true
   },
   "outputs": [],
   "source": []
  },
  {
   "cell_type": "markdown",
   "source": [
    "for input data we have the n to n distance:\n",
    "\n",
    "mean value: 6.499296237636025\n",
    "\n",
    "std: 2.262412079054168\n",
    "\n",
    "mse: 5.118508415450203"
   ],
   "metadata": {
    "collapsed": false
   }
  },
  {
   "cell_type": "markdown",
   "source": [
    "1. epoch\n",
    "2. 0, 0.5, and 1 count\n",
    "3. without duplication\n",
    "4. cross, self avoid\n",
    "5. overlap\n",
    "6. mean, std, out_mse"
   ],
   "metadata": {
    "collapsed": false
   }
  },
  {
   "cell_type": "code",
   "execution_count": 3,
   "outputs": [],
   "source": [
    "# initialize model\n",
    "gen = model.GeneratorNet()"
   ],
   "metadata": {
    "collapsed": false,
    "pycharm": {
     "name": "#%%\n"
    }
   }
  },
  {
   "cell_type": "code",
   "execution_count": 4,
   "outputs": [],
   "source": [
    "# epoch = 2000\n",
    "# model_name = f'6_layers/model_gan_{epoch}.pth.tar'\n",
    "# check_point_gen = torch.load(model_name)\n",
    "# gen.load_state_dict(check_point_gen['gen_state_dict'])\n",
    "# noise = func.get_noise(8, 8)\n",
    "# output = gen(noise)\n",
    "# direction = pro_out.slice_directions(output)\n",
    "# coordinates = dc.direction_coordinate_three(direction)\n",
    "# for i in coordinates:\n",
    "#     pro_out.plot_polymer(i)"
   ],
   "metadata": {
    "collapsed": false,
    "pycharm": {
     "name": "#%%\n"
    }
   }
  },
  {
   "cell_type": "code",
   "execution_count": 5,
   "outputs": [
    {
     "data": {
      "text/plain": "  0%|          | 0/11 [00:00<?, ?it/s]",
      "application/vnd.jupyter.widget-view+json": {
       "version_major": 2,
       "version_minor": 0,
       "model_id": "c48c9fab04e64115923abbff7facef27"
      }
     },
     "metadata": {},
     "output_type": "display_data"
    },
    {
     "ename": "KeyError",
     "evalue": "10",
     "output_type": "error",
     "traceback": [
      "\u001B[0;31m---------------------------------------------------------------------------\u001B[0m",
      "\u001B[0;31mKeyError\u001B[0m                                  Traceback (most recent call last)",
      "\u001B[0;32m<ipython-input-5-85b17bed94b4>\u001B[0m in \u001B[0;36m<module>\u001B[0;34m\u001B[0m\n\u001B[1;32m      6\u001B[0m     \u001B[0mcheck_point_gen\u001B[0m \u001B[0;34m=\u001B[0m \u001B[0mtorch\u001B[0m\u001B[0;34m.\u001B[0m\u001B[0mload\u001B[0m\u001B[0;34m(\u001B[0m\u001B[0mmodel_name\u001B[0m\u001B[0;34m)\u001B[0m\u001B[0;34m\u001B[0m\u001B[0;34m\u001B[0m\u001B[0m\n\u001B[1;32m      7\u001B[0m     \u001B[0mgen\u001B[0m\u001B[0;34m.\u001B[0m\u001B[0mload_state_dict\u001B[0m\u001B[0;34m(\u001B[0m\u001B[0mcheck_point_gen\u001B[0m\u001B[0;34m[\u001B[0m\u001B[0;34m'gen_state_dict'\u001B[0m\u001B[0;34m]\u001B[0m\u001B[0;34m)\u001B[0m\u001B[0;34m\u001B[0m\u001B[0;34m\u001B[0m\u001B[0m\n\u001B[0;32m----> 8\u001B[0;31m     \u001B[0ma\u001B[0m \u001B[0;34m=\u001B[0m \u001B[0mam\u001B[0m\u001B[0;34m.\u001B[0m\u001B[0mprocess_one_hot_model\u001B[0m\u001B[0;34m(\u001B[0m\u001B[0;34m{\u001B[0m\u001B[0;34m}\u001B[0m\u001B[0;34m,\u001B[0m \u001B[0mgen\u001B[0m\u001B[0;34m,\u001B[0m \u001B[0minput_three_dirc\u001B[0m\u001B[0;34m)\u001B[0m\u001B[0;34m\u001B[0m\u001B[0;34m\u001B[0m\u001B[0m\n\u001B[0m\u001B[1;32m      9\u001B[0m     \u001B[0;31m# a = am.process_scalar_model({}, gen, input_three_dirc)\u001B[0m\u001B[0;34m\u001B[0m\u001B[0;34m\u001B[0m\u001B[0;34m\u001B[0m\u001B[0m\n\u001B[1;32m     10\u001B[0m     \u001B[0mtotal\u001B[0m\u001B[0;34m[\u001B[0m\u001B[0;34mf'epoch{epoch}'\u001B[0m\u001B[0;34m]\u001B[0m \u001B[0;34m=\u001B[0m \u001B[0ma\u001B[0m\u001B[0;34m\u001B[0m\u001B[0;34m\u001B[0m\u001B[0m\n",
      "\u001B[0;32m~/Developer/intro_GANs/gansForPolymer/Naicheng/res/process_data/analysis_model.py\u001B[0m in \u001B[0;36mprocess_one_hot_model\u001B[0;34m(evaluate, gen, input_three_directions)\u001B[0m\n\u001B[1;32m    124\u001B[0m     evaluate, self_avoid_polymers = check_overlap(input_three_directions,\n\u001B[1;32m    125\u001B[0m                                                   output_directions, output_coordinates, evaluate)\n\u001B[0;32m--> 126\u001B[0;31m     \u001B[0mevaluate\u001B[0m \u001B[0;34m=\u001B[0m \u001B[0mget_length_of_loop\u001B[0m\u001B[0;34m(\u001B[0m\u001B[0moutput_coordinates\u001B[0m\u001B[0;34m,\u001B[0m \u001B[0mevaluate\u001B[0m\u001B[0;34m)\u001B[0m\u001B[0;34m\u001B[0m\u001B[0;34m\u001B[0m\u001B[0m\n\u001B[0m\u001B[1;32m    127\u001B[0m     \u001B[0mevaluate\u001B[0m \u001B[0;34m=\u001B[0m \u001B[0mself_avoid_rgs\u001B[0m\u001B[0;34m(\u001B[0m\u001B[0mself_avoid_polymers\u001B[0m\u001B[0;34m,\u001B[0m \u001B[0mevaluate\u001B[0m\u001B[0;34m)\u001B[0m\u001B[0;34m\u001B[0m\u001B[0;34m\u001B[0m\u001B[0m\n\u001B[1;32m    128\u001B[0m \u001B[0;34m\u001B[0m\u001B[0m\n",
      "\u001B[0;32m~/Developer/intro_GANs/gansForPolymer/Naicheng/res/process_data/analysis_model.py\u001B[0m in \u001B[0;36mget_length_of_loop\u001B[0;34m(output_coordinates, evaluate)\u001B[0m\n\u001B[1;32m     58\u001B[0m     \u001B[0mevaluate\u001B[0m\u001B[0;34m[\u001B[0m\u001B[0;34m'loop6'\u001B[0m\u001B[0;34m]\u001B[0m \u001B[0;34m=\u001B[0m \u001B[0ma\u001B[0m\u001B[0;34m[\u001B[0m\u001B[0;36m6\u001B[0m\u001B[0;34m]\u001B[0m\u001B[0;34m\u001B[0m\u001B[0;34m\u001B[0m\u001B[0m\n\u001B[1;32m     59\u001B[0m     \u001B[0mevaluate\u001B[0m\u001B[0;34m[\u001B[0m\u001B[0;34m'loop8'\u001B[0m\u001B[0;34m]\u001B[0m \u001B[0;34m=\u001B[0m \u001B[0ma\u001B[0m\u001B[0;34m[\u001B[0m\u001B[0;36m8\u001B[0m\u001B[0;34m]\u001B[0m\u001B[0;34m\u001B[0m\u001B[0;34m\u001B[0m\u001B[0m\n\u001B[0;32m---> 60\u001B[0;31m     \u001B[0mevaluate\u001B[0m\u001B[0;34m[\u001B[0m\u001B[0;34m'loop10'\u001B[0m\u001B[0;34m]\u001B[0m \u001B[0;34m=\u001B[0m \u001B[0ma\u001B[0m\u001B[0;34m[\u001B[0m\u001B[0;36m10\u001B[0m\u001B[0;34m]\u001B[0m\u001B[0;34m\u001B[0m\u001B[0;34m\u001B[0m\u001B[0m\n\u001B[0m\u001B[1;32m     61\u001B[0m     \u001B[0mevaluate\u001B[0m\u001B[0;34m[\u001B[0m\u001B[0;34m'loop12'\u001B[0m\u001B[0;34m]\u001B[0m \u001B[0;34m=\u001B[0m \u001B[0ma\u001B[0m\u001B[0;34m[\u001B[0m\u001B[0;36m12\u001B[0m\u001B[0;34m]\u001B[0m\u001B[0;34m\u001B[0m\u001B[0;34m\u001B[0m\u001B[0m\n\u001B[1;32m     62\u001B[0m     \u001B[0mevaluate\u001B[0m\u001B[0;34m[\u001B[0m\u001B[0;34m'loop14'\u001B[0m\u001B[0;34m]\u001B[0m \u001B[0;34m=\u001B[0m \u001B[0ma\u001B[0m\u001B[0;34m[\u001B[0m\u001B[0;36m14\u001B[0m\u001B[0;34m]\u001B[0m\u001B[0;34m\u001B[0m\u001B[0;34m\u001B[0m\u001B[0m\n",
      "\u001B[0;31mKeyError\u001B[0m: 10"
     ]
    }
   ],
   "source": [
    "from tqdm.auto import tqdm\n",
    "total = {}\n",
    "for i in tqdm(range(0,11)):\n",
    "    epoch = 100 * (i)\n",
    "    model_name = f'model_gan_{epoch}.pth.tar'\n",
    "    check_point_gen = torch.load(model_name)\n",
    "    gen.load_state_dict(check_point_gen['gen_state_dict'])\n",
    "    a = am.process_one_hot_model({}, gen, input_three_dirc)\n",
    "    # a = am.process_scalar_model({}, gen, input_three_dirc)\n",
    "    total[f'epoch{epoch}'] = a"
   ],
   "metadata": {
    "collapsed": false,
    "pycharm": {
     "name": "#%%\n"
    }
   }
  },
  {
   "cell_type": "code",
   "execution_count": null,
   "outputs": [],
   "source": [],
   "metadata": {
    "collapsed": false,
    "pycharm": {
     "name": "#%%\n"
    }
   }
  }
 ],
 "metadata": {
  "kernelspec": {
   "display_name": "Python 3",
   "language": "python",
   "name": "python3"
  },
  "language_info": {
   "codemirror_mode": {
    "name": "ipython",
    "version": 2
   },
   "file_extension": ".py",
   "mimetype": "text/x-python",
   "name": "python",
   "nbconvert_exporter": "python",
   "pygments_lexer": "ipython2",
   "version": "2.7.6"
  }
 },
 "nbformat": 4,
 "nbformat_minor": 0
}
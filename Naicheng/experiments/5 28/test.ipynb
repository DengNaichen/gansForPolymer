{
 "cells": [
  {
   "cell_type": "code",
   "execution_count": 1,
   "metadata": {
    "collapsed": true
   },
   "outputs": [],
   "source": [
    "import numpy as np\n",
    "import torch\n",
    "from scipy import integrate\n",
    "from torch.utils.data import DataLoader\n",
    "import seaborn as sns\n",
    "import matplotlib.pyplot as plt\n",
    "import fnn.training as training\n",
    "import fnn.functions as func\n",
    "import os\n",
    "from res.process_data.dataset import tensor_dataset\n",
    "from random import shuffle\n",
    "from fnn.generator import Generator\n",
    "from fnn.discriminator import Discriminator\n",
    "os.environ['KMP_DUPLICATE_LIB_OK'] = 'True'"
   ]
  },
  {
   "cell_type": "code",
   "execution_count": 2,
   "outputs": [
    {
     "data": {
      "text/plain": "(100000, 15, 2)"
     },
     "execution_count": 2,
     "metadata": {},
     "output_type": "execute_result"
    }
   ],
   "source": [
    "random_input = np.random.randint(low=-1, high=2, size=(100000, 15, 2))\n",
    "np.shape(random_input)"
   ],
   "metadata": {
    "collapsed": false,
    "pycharm": {
     "name": "#%%\n"
    }
   }
  },
  {
   "cell_type": "code",
   "execution_count": 3,
   "outputs": [],
   "source": [
    "z_dim = 2\n",
    "hidden_dim = 16\n",
    "im_dim = 30\n",
    "display_step = 782\n",
    "lr = 0.0003\n",
    "beta_1 = 0.5\n",
    "beta_2 = 0.999\n",
    "c_lambda = 10\n",
    "disc_repeats = 5\n",
    "batch_size = 128\n",
    "device = 'cuda' if torch.cuda.is_available() else 'cpu'"
   ],
   "metadata": {
    "collapsed": false,
    "pycharm": {
     "name": "#%%\n"
    }
   }
  },
  {
   "cell_type": "code",
   "execution_count": 4,
   "outputs": [],
   "source": [
    "gen = Generator(z_dim=2, im_dim=15, hidden_dim=hidden_dim)\n",
    "disc = Discriminator(im_dim=30, hidden_dim=hidden_dim)\n",
    "gen_opt = torch.optim.Adam(gen.parameters(), lr=lr, betas=(beta_1, beta_2))\n",
    "disc_opt = torch.optim.Adam(disc.parameters(), lr=lr, betas=(beta_1, beta_2))"
   ],
   "metadata": {
    "collapsed": false,
    "pycharm": {
     "name": "#%%\n"
    }
   }
  },
  {
   "cell_type": "code",
   "execution_count": 5,
   "outputs": [],
   "source": [
    "shuffle = True\n",
    "num_worker = 0\n",
    "pin_memory = True\n",
    "input_tensor = torch.Tensor(random_input)\n",
    "dataset = tensor_dataset(input_tensor, 15, 2)\n",
    "dataloader = DataLoader(dataset=dataset,\n",
    "                        shuffle=shuffle,\n",
    "                        batch_size=batch_size,\n",
    "                        num_workers=num_worker,\n",
    "                        pin_memory=pin_memory)"
   ],
   "metadata": {
    "collapsed": false,
    "pycharm": {
     "name": "#%%\n"
    }
   }
  },
  {
   "cell_type": "code",
   "execution_count": 6,
   "outputs": [
    {
     "data": {
      "text/plain": "  0%|          | 0/782 [00:00<?, ?it/s]",
      "application/vnd.jupyter.widget-view+json": {
       "version_major": 2,
       "version_minor": 0,
       "model_id": "631044bc24214292b451c6567e386171"
      }
     },
     "metadata": {},
     "output_type": "display_data"
    },
    {
     "data": {
      "text/plain": "  0%|          | 0/782 [00:00<?, ?it/s]",
      "application/vnd.jupyter.widget-view+json": {
       "version_major": 2,
       "version_minor": 0,
       "model_id": "ed4c626014674b2dbcbcf2df7a9f6b55"
      }
     },
     "metadata": {},
     "output_type": "display_data"
    },
    {
     "name": "stdout",
     "output_type": "stream",
     "text": [
      "Epoch 1, step 782: Generator loss: 0.7173602600079368, discriminator loss: 0.6919903691162551\n",
      "Epoch 2, step 1564: Generator loss: 0.6993685123103351, discriminator loss: 0.6897873021757509\n",
      "Epoch 3, step 2346: Generator loss: 0.7102198408692685, discriminator loss: 0.6838509089044293\n",
      "Epoch 4, step 3128: Generator loss: 0.747532672665614, discriminator loss: 0.6709260627284377\n",
      "Epoch 5, step 3910: Generator loss: 0.773326831019443, discriminator loss: 0.6619439797328257\n",
      "Epoch 6, step 4692: Generator loss: 0.7799801581046157, discriminator loss: 0.6594004387898209\n",
      "Epoch 7, step 5474: Generator loss: 0.7890529866566132, discriminator loss: 0.6562336860105504\n",
      "Epoch 8, step 6256: Generator loss: 0.788947452136013, discriminator loss: 0.6552124140817492\n",
      "Epoch 9, step 7038: Generator loss: 0.7915402054024475, discriminator loss: 0.6544620261320375\n",
      "Epoch 10, step 7820: Generator loss: 0.7926054156344867, discriminator loss: 0.6532786903936225\n",
      "Epoch 11, step 8602: Generator loss: 0.7949601078734677, discriminator loss: 0.6528086255273562\n",
      "Epoch 12, step 9384: Generator loss: 0.7944406373878875, discriminator loss: 0.6523785189442011\n",
      "Epoch 13, step 10166: Generator loss: 0.7982672930830887, discriminator loss: 0.6505312988977612\n",
      "Epoch 14, step 10948: Generator loss: 0.7986453220515001, discriminator loss: 0.650160260974904\n",
      "Epoch 15, step 11730: Generator loss: 0.8044391039692227, discriminator loss: 0.6477291735694226\n",
      "Epoch 16, step 12512: Generator loss: 0.8071464973947274, discriminator loss: 0.647900589058162\n",
      "Epoch 17, step 13294: Generator loss: 0.8085246675307176, discriminator loss: 0.6462660934918981\n",
      "Epoch 18, step 14076: Generator loss: 0.8068060034986051, discriminator loss: 0.6463591773491684\n",
      "Epoch 19, step 14858: Generator loss: 0.8103083429281669, discriminator loss: 0.6450693246806062\n",
      "Epoch 20, step 15640: Generator loss: 0.8094494679699769, discriminator loss: 0.6450275915967855\n",
      "Epoch 21, step 16422: Generator loss: 0.8115544499796067, discriminator loss: 0.6454266510198794\n",
      "Epoch 22, step 17204: Generator loss: 0.8157517994608725, discriminator loss: 0.6436082008854513\n",
      "Epoch 23, step 17986: Generator loss: 0.8153493048437406, discriminator loss: 0.6430505195542068\n",
      "Epoch 24, step 18768: Generator loss: 0.8124816558702515, discriminator loss: 0.6439628448632675\n",
      "Epoch 25, step 19550: Generator loss: 0.8141685338581309, discriminator loss: 0.6433091474616013\n",
      "Epoch 26, step 20332: Generator loss: 0.8179098119211318, discriminator loss: 0.6417540414711399\n",
      "Epoch 27, step 21114: Generator loss: 0.8252829705815183, discriminator loss: 0.637816870532682\n",
      "Epoch 28, step 21896: Generator loss: 0.8274676790627681, discriminator loss: 0.6369961939199501\n",
      "Epoch 29, step 22678: Generator loss: 0.8365609504835076, discriminator loss: 0.6334788428852929\n"
     ]
    },
    {
     "data": {
      "text/plain": "  0%|          | 0/782 [00:00<?, ?it/s]",
      "application/vnd.jupyter.widget-view+json": {
       "version_major": 2,
       "version_minor": 0,
       "model_id": "f0e8d27b80c34ca9a823825a2a0f4dd0"
      }
     },
     "metadata": {},
     "output_type": "display_data"
    },
    {
     "data": {
      "text/plain": "  0%|          | 0/782 [00:00<?, ?it/s]",
      "application/vnd.jupyter.widget-view+json": {
       "version_major": 2,
       "version_minor": 0,
       "model_id": "55e57e865dfa407bae13ab39263f8706"
      }
     },
     "metadata": {},
     "output_type": "display_data"
    },
    {
     "data": {
      "text/plain": "  0%|          | 0/782 [00:00<?, ?it/s]",
      "application/vnd.jupyter.widget-view+json": {
       "version_major": 2,
       "version_minor": 0,
       "model_id": "2b13309d75474ae6aa6352dba0481512"
      }
     },
     "metadata": {},
     "output_type": "display_data"
    },
    {
     "data": {
      "text/plain": "  0%|          | 0/782 [00:00<?, ?it/s]",
      "application/vnd.jupyter.widget-view+json": {
       "version_major": 2,
       "version_minor": 0,
       "model_id": "bdbed9f51e624ccebb2323487ed63f81"
      }
     },
     "metadata": {},
     "output_type": "display_data"
    },
    {
     "data": {
      "text/plain": "  0%|          | 0/782 [00:00<?, ?it/s]",
      "application/vnd.jupyter.widget-view+json": {
       "version_major": 2,
       "version_minor": 0,
       "model_id": "7530868a7a7a43f5a69bee82f5b3d80e"
      }
     },
     "metadata": {},
     "output_type": "display_data"
    },
    {
     "data": {
      "text/plain": "  0%|          | 0/782 [00:00<?, ?it/s]",
      "application/vnd.jupyter.widget-view+json": {
       "version_major": 2,
       "version_minor": 0,
       "model_id": "a624b799edd24dc2bb55a8eb49d5412d"
      }
     },
     "metadata": {},
     "output_type": "display_data"
    },
    {
     "data": {
      "text/plain": "  0%|          | 0/782 [00:00<?, ?it/s]",
      "application/vnd.jupyter.widget-view+json": {
       "version_major": 2,
       "version_minor": 0,
       "model_id": "c671e4110b434912b3ef954754d49b3f"
      }
     },
     "metadata": {},
     "output_type": "display_data"
    },
    {
     "data": {
      "text/plain": "  0%|          | 0/782 [00:00<?, ?it/s]",
      "application/vnd.jupyter.widget-view+json": {
       "version_major": 2,
       "version_minor": 0,
       "model_id": "519d1803ce504730baff249bf908803c"
      }
     },
     "metadata": {},
     "output_type": "display_data"
    },
    {
     "data": {
      "text/plain": "  0%|          | 0/782 [00:00<?, ?it/s]",
      "application/vnd.jupyter.widget-view+json": {
       "version_major": 2,
       "version_minor": 0,
       "model_id": "47c429cdc809405dac53badd7b43fcce"
      }
     },
     "metadata": {},
     "output_type": "display_data"
    },
    {
     "data": {
      "text/plain": "  0%|          | 0/782 [00:00<?, ?it/s]",
      "application/vnd.jupyter.widget-view+json": {
       "version_major": 2,
       "version_minor": 0,
       "model_id": "1d13a3a8464d47c49514cb4606f14b19"
      }
     },
     "metadata": {},
     "output_type": "display_data"
    },
    {
     "data": {
      "text/plain": "  0%|          | 0/782 [00:00<?, ?it/s]",
      "application/vnd.jupyter.widget-view+json": {
       "version_major": 2,
       "version_minor": 0,
       "model_id": "594e4ed52b1946088a5fd85c207e063a"
      }
     },
     "metadata": {},
     "output_type": "display_data"
    },
    {
     "data": {
      "text/plain": "  0%|          | 0/782 [00:00<?, ?it/s]",
      "application/vnd.jupyter.widget-view+json": {
       "version_major": 2,
       "version_minor": 0,
       "model_id": "721f8f3708984ec089645a04b38b3f4d"
      }
     },
     "metadata": {},
     "output_type": "display_data"
    },
    {
     "data": {
      "text/plain": "  0%|          | 0/782 [00:00<?, ?it/s]",
      "application/vnd.jupyter.widget-view+json": {
       "version_major": 2,
       "version_minor": 0,
       "model_id": "4264afcbf224435a9f76857eeabd0eda"
      }
     },
     "metadata": {},
     "output_type": "display_data"
    },
    {
     "data": {
      "text/plain": "  0%|          | 0/782 [00:00<?, ?it/s]",
      "application/vnd.jupyter.widget-view+json": {
       "version_major": 2,
       "version_minor": 0,
       "model_id": "badff7c4b39743d88c024fdcd15f791b"
      }
     },
     "metadata": {},
     "output_type": "display_data"
    },
    {
     "data": {
      "text/plain": "  0%|          | 0/782 [00:00<?, ?it/s]",
      "application/vnd.jupyter.widget-view+json": {
       "version_major": 2,
       "version_minor": 0,
       "model_id": "41716cb1bb0d461da9f29806c4ecbf2b"
      }
     },
     "metadata": {},
     "output_type": "display_data"
    },
    {
     "data": {
      "text/plain": "  0%|          | 0/782 [00:00<?, ?it/s]",
      "application/vnd.jupyter.widget-view+json": {
       "version_major": 2,
       "version_minor": 0,
       "model_id": "b7b373d53cb54364ad37e3b8ef3cab8b"
      }
     },
     "metadata": {},
     "output_type": "display_data"
    },
    {
     "data": {
      "text/plain": "  0%|          | 0/782 [00:00<?, ?it/s]",
      "application/vnd.jupyter.widget-view+json": {
       "version_major": 2,
       "version_minor": 0,
       "model_id": "70b2ea62c1474da99fa155bfd7085f40"
      }
     },
     "metadata": {},
     "output_type": "display_data"
    },
    {
     "data": {
      "text/plain": "  0%|          | 0/782 [00:00<?, ?it/s]",
      "application/vnd.jupyter.widget-view+json": {
       "version_major": 2,
       "version_minor": 0,
       "model_id": "1ca5edc7c78846a2b98f158a88613fb9"
      }
     },
     "metadata": {},
     "output_type": "display_data"
    },
    {
     "data": {
      "text/plain": "  0%|          | 0/782 [00:00<?, ?it/s]",
      "application/vnd.jupyter.widget-view+json": {
       "version_major": 2,
       "version_minor": 0,
       "model_id": "ab5de90ea7f14d18b3c25d8876ff44ac"
      }
     },
     "metadata": {},
     "output_type": "display_data"
    },
    {
     "data": {
      "text/plain": "  0%|          | 0/782 [00:00<?, ?it/s]",
      "application/vnd.jupyter.widget-view+json": {
       "version_major": 2,
       "version_minor": 0,
       "model_id": "7d2eb19f280b454ba3a22e328318d80e"
      }
     },
     "metadata": {},
     "output_type": "display_data"
    },
    {
     "data": {
      "text/plain": "  0%|          | 0/782 [00:00<?, ?it/s]",
      "application/vnd.jupyter.widget-view+json": {
       "version_major": 2,
       "version_minor": 0,
       "model_id": "2559f743aff94b6e8b9cb7674696336a"
      }
     },
     "metadata": {},
     "output_type": "display_data"
    },
    {
     "data": {
      "text/plain": "  0%|          | 0/782 [00:00<?, ?it/s]",
      "application/vnd.jupyter.widget-view+json": {
       "version_major": 2,
       "version_minor": 0,
       "model_id": "c456fcf2347b40de9adbce9c2e7789f2"
      }
     },
     "metadata": {},
     "output_type": "display_data"
    },
    {
     "data": {
      "text/plain": "  0%|          | 0/782 [00:00<?, ?it/s]",
      "application/vnd.jupyter.widget-view+json": {
       "version_major": 2,
       "version_minor": 0,
       "model_id": "8182426c114847288c1981e3bab9e4ac"
      }
     },
     "metadata": {},
     "output_type": "display_data"
    },
    {
     "data": {
      "text/plain": "  0%|          | 0/782 [00:00<?, ?it/s]",
      "application/vnd.jupyter.widget-view+json": {
       "version_major": 2,
       "version_minor": 0,
       "model_id": "595818da1ddc49438789d086ce1ad97a"
      }
     },
     "metadata": {},
     "output_type": "display_data"
    },
    {
     "data": {
      "text/plain": "  0%|          | 0/782 [00:00<?, ?it/s]",
      "application/vnd.jupyter.widget-view+json": {
       "version_major": 2,
       "version_minor": 0,
       "model_id": "db71f738e8af4711b3c021b7bd6ae3a5"
      }
     },
     "metadata": {},
     "output_type": "display_data"
    },
    {
     "data": {
      "text/plain": "  0%|          | 0/782 [00:00<?, ?it/s]",
      "application/vnd.jupyter.widget-view+json": {
       "version_major": 2,
       "version_minor": 0,
       "model_id": "d870c8318e3e41e89f7d89d5ae79357c"
      }
     },
     "metadata": {},
     "output_type": "display_data"
    },
    {
     "data": {
      "text/plain": "  0%|          | 0/782 [00:00<?, ?it/s]",
      "application/vnd.jupyter.widget-view+json": {
       "version_major": 2,
       "version_minor": 0,
       "model_id": "9703f9ae705c4460b7ae00db185d999b"
      }
     },
     "metadata": {},
     "output_type": "display_data"
    },
    {
     "data": {
      "text/plain": "  0%|          | 0/782 [00:00<?, ?it/s]",
      "application/vnd.jupyter.widget-view+json": {
       "version_major": 2,
       "version_minor": 0,
       "model_id": "7f5fd7ee28d34b7dab4723344b28a537"
      }
     },
     "metadata": {},
     "output_type": "display_data"
    }
   ],
   "source": [
    "n_epochs = 30\n",
    "training.training_bce(gen, disc, z_dim, n_epochs, dataloader, device, disc_opt, gen_opt, display_step)"
   ],
   "metadata": {
    "collapsed": false,
    "pycharm": {
     "name": "#%%\n"
    }
   }
  },
  {
   "cell_type": "code",
   "execution_count": 18,
   "outputs": [],
   "source": [
    "noise = func.get_noise(100,2)\n",
    "before_sincos_feature = gen.featuremap1.data.numpy()"
   ],
   "metadata": {
    "collapsed": false,
    "pycharm": {
     "name": "#%%\n"
    }
   }
  },
  {
   "cell_type": "code",
   "execution_count": 19,
   "outputs": [
    {
     "data": {
      "text/plain": "<AxesSubplot:ylabel='Count'>"
     },
     "execution_count": 19,
     "metadata": {},
     "output_type": "execute_result"
    },
    {
     "data": {
      "text/plain": "<Figure size 432x288 with 1 Axes>",
      "image/png": "[encoded data removed]"
     },
     "metadata": {
      "needs_background": "light"
     },
     "output_type": "display_data"
    }
   ],
   "source": [
    "a = []\n",
    "for i in before_sincos_feature:\n",
    "    for j in i:\n",
    "        a.append(j)\n",
    "sns.histplot(a)"
   ],
   "metadata": {
    "collapsed": false,
    "pycharm": {
     "name": "#%%\n"
    }
   }
  },
  {
   "cell_type": "code",
   "execution_count": 11,
   "outputs": [],
   "source": [
    "def check_output(epochs):\n",
    "    output = []\n",
    "    for i in range(100):\n",
    "        noise = func.get_noise(16, 2)\n",
    "        a = gen(noise).data.numpy()\n",
    "        for j in range(16):\n",
    "            for k in range(30):\n",
    "                output.append(a[j][k])\n",
    "    sns.histplot(output)\n",
    "    # plt.savefig(f'{epochs}_epoch.png')\n",
    "    # plt.clf()"
   ],
   "metadata": {
    "collapsed": false,
    "pycharm": {
     "name": "#%%\n"
    }
   }
  },
  {
   "cell_type": "code",
   "execution_count": 14,
   "outputs": [
    {
     "data": {
      "text/plain": "<Figure size 432x288 with 1 Axes>",
      "image/png": "[encoded data removed]"
     },
     "metadata": {
      "needs_background": "light"
     },
     "output_type": "display_data"
    }
   ],
   "source": [
    "check_output(100)"
   ],
   "metadata": {
    "collapsed": false,
    "pycharm": {
     "name": "#%%\n"
    }
   }
  },
  {
   "cell_type": "code",
   "execution_count": 22,
   "outputs": [],
   "source": [
    "torch.save({'gen_state_dict': gen.state_dict()}, 'gen_sincos_bce.pth.tar')\n",
    "torch.save({'disc_state_dict': disc.state_dict()}, 'disc_sincos_bce.pth.tar')"
   ],
   "metadata": {
    "collapsed": false,
    "pycharm": {
     "name": "#%%\n"
    }
   }
  },
  {
   "cell_type": "code",
   "execution_count": null,
   "outputs": [],
   "source": [],
   "metadata": {
    "collapsed": false,
    "pycharm": {
     "name": "#%%\n"
    }
   }
  }
 ],
 "metadata": {
  "kernelspec": {
   "display_name": "Python 3",
   "language": "python",
   "name": "python3"
  },
  "language_info": {
   "codemirror_mode": {
    "name": "ipython",
    "version": 2
   },
   "file_extension": ".py",
   "mimetype": "text/x-python",
   "name": "python",
   "nbconvert_exporter": "python",
   "pygments_lexer": "ipython2",
   "version": "2.7.6"
  }
 },
 "nbformat": 4,
 "nbformat_minor": 0
}
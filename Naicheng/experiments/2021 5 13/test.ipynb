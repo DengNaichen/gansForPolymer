{
 "cells": [
  {
   "cell_type": "code",
   "execution_count": 1,
   "metadata": {
    "collapsed": true
   },
   "outputs": [],
   "source": [
    "import numpy as np\n",
    "import torch\n",
    "from torch.utils.data import DataLoader\n",
    "import res.fnn.training as training\n",
    "import res.process_data.process_raw_data as prd\n",
    "import res.process_data.dire_and_coor as dc\n",
    "import res.process_data.process_output as out\n",
    "from res.process_data.dataset import tensor_dataset"
   ]
  },
  {
   "cell_type": "code",
   "execution_count": 2,
   "outputs": [],
   "source": [
    "coordinates_input = prd.read_coordinate(16, '../../data/Coordinates.dat')\n",
    "directions_input = dc.coordinates_directions_four(coordinates_input)\n",
    "sincos_input = dc.sin_cos(directions_input)"
   ],
   "metadata": {
    "collapsed": false,
    "pycharm": {
     "name": "#%%\n"
    }
   }
  },
  {
   "cell_type": "code",
   "execution_count": 5,
   "outputs": [
    {
     "data": {
      "text/plain": "<Figure size 432x288 with 1 Axes>",
      "image/png": "[encoded data removed]"
     },
     "metadata": {
      "needs_background": "light"
     },
     "output_type": "display_data"
    }
   ],
   "source": [
    "out.plot_polymer(coordinates_input[0])"
   ],
   "metadata": {
    "collapsed": false,
    "pycharm": {
     "name": "#%%\n"
    }
   }
  },
  {
   "cell_type": "code",
   "execution_count": 3,
   "outputs": [],
   "source": [
    "z_dim = 8\n",
    "im_dim = 30\n",
    "hidden_dim = 16\n",
    "display_step = 50\n",
    "lr = 0.0003\n",
    "beta_1 = 0.5\n",
    "beta_2 = 0.999\n",
    "c_lambda = 10\n",
    "disc_repeats = 5\n",
    "batch_size = 128\n",
    "device = 'cuda' if torch.cuda.is_available() else 'cpu'"
   ],
   "metadata": {
    "collapsed": false,
    "pycharm": {
     "name": "#%%\n"
    }
   }
  },
  {
   "cell_type": "code",
   "execution_count": 4,
   "outputs": [
    {
     "data": {
      "text/plain": "<All keys matched successfully>"
     },
     "execution_count": 4,
     "metadata": {},
     "output_type": "execute_result"
    }
   ],
   "source": [
    "from res.fnn.generator import Generator\n",
    "from res.fnn.discriminator import Discriminator\n",
    "\n",
    "gen, disc, gen_opt, disc_opt = training.initialize_model(z_dim, im_dim, hidden_dim,\n",
    "                                                         device, lr, beta_1, beta_2)\n",
    "\n",
    "gen_check_point = torch.load('wgan_sincos_real_gan_10.pth.tar', map_location='cpu')\n",
    "disc_check_point = torch.load('wgan_sincos_real_disc_10.pth.tar', map_location='cpu')\n",
    "gen.load_state_dict(gen_check_point['gen_state_dict'])\n",
    "disc.load_state_dict(disc_check_point['disc_state_dict'])"
   ],
   "metadata": {
    "collapsed": false,
    "pycharm": {
     "name": "#%%\n"
    }
   }
  },
  {
   "cell_type": "code",
   "execution_count": null,
   "outputs": [],
   "source": [
    "import res.process_data.process_output as out\n"
   ],
   "metadata": {
    "collapsed": false,
    "pycharm": {
     "name": "#%%\n"
    }
   }
  }
 ],
 "metadata": {
  "kernelspec": {
   "display_name": "Python 3",
   "language": "python",
   "name": "python3"
  },
  "language_info": {
   "codemirror_mode": {
    "name": "ipython",
    "version": 2
   },
   "file_extension": ".py",
   "mimetype": "text/x-python",
   "name": "python",
   "nbconvert_exporter": "python",
   "pygments_lexer": "ipython2",
   "version": "2.7.6"
  }
 },
 "nbformat": 4,
 "nbformat_minor": 0
}
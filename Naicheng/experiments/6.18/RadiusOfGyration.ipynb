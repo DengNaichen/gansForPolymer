{
 "cells": [
  {
   "cell_type": "code",
   "execution_count": 2,
   "metadata": {
    "collapsed": true
   },
   "outputs": [],
   "source": [
    "import torch\n",
    "import matplotlib.pyplot as plt\n",
    "import yousef_model as model\n",
    "import Naicheng.res.process_data.process_output as pro_out\n",
    "import Naicheng.res.process_data.process_raw_data as pr\n",
    "import Naicheng.res.process_data.dire_and_coor as dc\n",
    "from Naicheng.res.process_data.dataset import tensor_dataset\n",
    "from torch.utils.data import DataLoader\n",
    "import seaborn as sns\n",
    "import numpy as np\n",
    "import json"
   ]
  },
  {
   "cell_type": "code",
   "execution_count": 3,
   "outputs": [],
   "source": [
    "input_coordinate = pr.read_coordinate(16, '../../data/Coordinates.dat')\n",
    "input_three_dirc = dc.coordinates_directions_three(input_coordinate)"
   ],
   "metadata": {
    "collapsed": false,
    "pycharm": {
     "name": "#%%\n"
    }
   }
  },
  {
   "cell_type": "markdown",
   "source": [
    "$R^{2}_{g} = (r_{1}^{2} + r_{2}^{2} + r_{3}^{2} + ... r_{n}^{2})/n $\n",
    "$R^{4}_{g} = (r_{1}^{4} + r_{2}^{4} + r_{3}^{4} + ... r_{n}^{4})/n $\n",
    "$R^{6}_{g} = (r_{1}^{6} + r_{2}^{6} + r_{3}^{6} + ... r_{n}^{6})/n $"
   ],
   "metadata": {
    "collapsed": false,
    "pycharm": {
     "name": "#%% md\n"
    }
   }
  },
  {
   "cell_type": "code",
   "execution_count": 14,
   "outputs": [],
   "source": [
    "def rg2(coordinate):\n",
    "    \"\"\"\n",
    "    :param coordinate: coordinates of single polymer\n",
    "    :return:\n",
    "    \"\"\"\n",
    "    x = np.zeros(16)\n",
    "    y = np.zeros(16)\n",
    "    for i in range(16):\n",
    "        x[i] = coordinate[i][0]\n",
    "        y[i] = coordinate[i][1]\n",
    "    rg_2 = np.mean((x - np.mean(x)) ** 2 + (y - np.mean(y)) ** 2)\n",
    "    rg_4 = np.mean(np.sqrt((x - np.mean(x)) ** 2 + (y - np.mean(y)) ** 2) ** 4)\n",
    "    rg_6 = np.mean(np.sqrt((x - np.mean(x)) ** 2 + (y - np.mean(y)) ** 2) ** 6)\n",
    "    return rg_2, rg_4, rg_6"
   ],
   "metadata": {
    "collapsed": false,
    "pycharm": {
     "name": "#%%\n"
    }
   }
  },
  {
   "cell_type": "code",
   "execution_count": 15,
   "outputs": [
    {
     "name": "stdout",
     "output_type": "stream",
     "text": [
      "rg2 is 6.7946684375\n",
      "rg4 is 82.47559951171876\n",
      "rg6 is 1368.04750044487\n"
     ]
    }
   ],
   "source": [
    "rg_2 = np.zeros(100000)\n",
    "rg_4 = np.zeros(100000)\n",
    "rg_6 = np.zeros(100000)\n",
    "for i in range(100000):\n",
    "    rg_2[i], rg_4[i], rg_6[i] = rg2(input_coordinate[i])\n",
    "print(f'rg2 is {np.mean(rg_2)}')\n",
    "print(f'rg4 is {np.mean(rg_4)}')\n",
    "print(f'rg6 is {np.mean(rg_6)}')"
   ],
   "metadata": {
    "collapsed": false,
    "pycharm": {
     "name": "#%%\n"
    }
   }
  },
  {
   "cell_type": "code",
   "execution_count": 16,
   "outputs": [],
   "source": [
    "def slice_directions(output):\n",
    "    z_dim = np.shape(output)[0]\n",
    "    direction_dim = np.shape(output)[1]\n",
    "    assert direction_dim == 15, \"the input dimension should be (x, 15)\"\n",
    "    test_dirc = np.zeros([z_dim,direction_dim,1])\n",
    "    for i in range(z_dim):\n",
    "        for j in range(direction_dim):\n",
    "            test_dirc[i][j][0] = output[i][j]\n",
    "    # round direction\n",
    "    test_dirc = np.round(test_dirc * 2) / 2\n",
    "    return test_dirc"
   ],
   "metadata": {
    "collapsed": false,
    "pycharm": {
     "name": "#%%\n"
    }
   }
  },
  {
   "cell_type": "code",
   "execution_count": 17,
   "outputs": [],
   "source": [
    "epoch = 4000\n",
    "name = f'models/yousef_gan_{epoch}.pth.tar'\n",
    "gen = model.GeneratorNet()\n",
    "check_point = torch.load(name)\n",
    "gen.load_state_dict(check_point['gen_state_dict'])\n",
    "# check the output\n",
    "output_list = []\n",
    "num_ite = 100000 // 8\n",
    "output_direction = np.zeros([num_ite * 8, 15, 1])\n",
    "for i in range(num_ite):\n",
    "    noise = model.noise(8)\n",
    "    output = gen(noise).data.numpy()\n",
    "    output_direction[8 * i : 8 * (i+1)] = slice_directions(output)\n",
    "output_coor = dc.direction_coordinate_three(output_direction)"
   ],
   "metadata": {
    "collapsed": false,
    "pycharm": {
     "name": "#%%\n"
    }
   }
  },
  {
   "cell_type": "code",
   "execution_count": 19,
   "outputs": [
    {
     "name": "stdout",
     "output_type": "stream",
     "text": [
      "6.830464375\n",
      "88.6277009765625\n",
      "1602.2039971215058\n"
     ]
    }
   ],
   "source": [
    "output_rg2 = np.zeros(num_ite * 8)\n",
    "output_rg4 = np.zeros(num_ite * 8)\n",
    "output_rg6 = np.zeros(num_ite * 8)\n",
    "for i in range(len(output_rg2)):\n",
    "    output_rg2[i], output_rg4[i], output_rg6[i] = rg2(output_coor[i])\n",
    "print (np.mean(output_rg2))\n",
    "print (np.mean(output_rg4))\n",
    "print (np.mean(output_rg6))"
   ],
   "metadata": {
    "collapsed": false,
    "pycharm": {
     "name": "#%%\n"
    }
   }
  },
  {
   "cell_type": "code",
   "execution_count": 21,
   "outputs": [
    {
     "name": "stdout",
     "output_type": "stream",
     "text": [
      "1.0052682390361303\n",
      "1.074592988729589\n",
      "1.1711610865854376\n"
     ]
    }
   ],
   "source": [
    "print (np.mean(output_rg2) / np.mean(rg_2))\n",
    "print (np.mean(output_rg4) / np.mean(rg_4))\n",
    "print (np.mean(output_rg6) / np.mean(rg_6))\n",
    "\n",
    "\n"
   ],
   "metadata": {
    "collapsed": false,
    "pycharm": {
     "name": "#%%\n"
    }
   }
  }
 ],
 "metadata": {
  "kernelspec": {
   "display_name": "Python 3",
   "language": "python",
   "name": "python3"
  },
  "language_info": {
   "codemirror_mode": {
    "name": "ipython",
    "version": 2
   },
   "file_extension": ".py",
   "mimetype": "text/x-python",
   "name": "python",
   "nbconvert_exporter": "python",
   "pygments_lexer": "ipython2",
   "version": "2.7.6"
  }
 },
 "nbformat": 4,
 "nbformat_minor": 0
}
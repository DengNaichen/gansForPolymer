{
 "cells": [
  {
   "cell_type": "code",
   "execution_count": 3,
   "metadata": {
    "collapsed": true
   },
   "outputs": [],
   "source": [
    "import yousef_model as model\n",
    "import torch\n",
    "import numpy as np"
   ]
  },
  {
   "cell_type": "code",
   "execution_count": 1,
   "outputs": [],
   "source": [
    "import Naicheng.res.process_data.process_output as pro_out\n",
    "import Naicheng.res.process_data.process_raw_data as pr\n",
    "import Naicheng.res.process_data.dire_and_coor as dc\n",
    "from Naicheng.res.process_data.dataset import tensor_dataset\n",
    "from torch.utils.data import DataLoader"
   ],
   "metadata": {
    "collapsed": false,
    "pycharm": {
     "name": "#%%\n"
    }
   }
  },
  {
   "cell_type": "code",
   "execution_count": 2,
   "outputs": [],
   "source": [
    "input_coorinate = pr.read_coordinate(16, '../../data/Coordinates.dat')\n",
    "input_three_dirc = dc.coordinates_directions_three(input_coorinate)"
   ],
   "metadata": {
    "collapsed": false,
    "pycharm": {
     "name": "#%%\n"
    }
   }
  },
  {
   "cell_type": "code",
   "execution_count": 8,
   "outputs": [
    {
     "name": "stdout",
     "output_type": "stream",
     "text": [
      "638513 430762 430725\n"
     ]
    },
    {
     "data": {
      "text/plain": "<Figure size 432x288 with 1 Axes>",
      "image/png": "[encoded data removed]"
     },
     "metadata": {
      "needs_background": "light"
     },
     "output_type": "display_data"
    }
   ],
   "source": [
    "np.shape(input_three_dirc)\n",
    "input_three_dirc[0][0]\n",
    "import seaborn as sns\n",
    "input_list = []\n",
    "count_0 = 0\n",
    "count_1 = 0\n",
    "count_2 = 0\n",
    "for i in range(np.shape(input_three_dirc)[0]):\n",
    "    for j in range(np.shape(input_three_dirc)[1]):\n",
    "        if input_three_dirc[i][j][0] == 0:\n",
    "            count_0 += 1\n",
    "        elif input_three_dirc[i][j][0] == 0.5:\n",
    "            count_1 += 1\n",
    "        elif input_three_dirc[i][j][0] == 1:\n",
    "            count_2 += 1\n",
    "        input_list.append(input_three_dirc[i][j][0])\n",
    "sns.histplot(input_list)\n",
    "print(count_0, count_1, count_2)"
   ],
   "metadata": {
    "collapsed": false,
    "pycharm": {
     "name": "#%%\n"
    }
   }
  },
  {
   "cell_type": "code",
   "execution_count": 9,
   "outputs": [
    {
     "name": "stdout",
     "output_type": "stream",
     "text": [
      "0.42567533333333335 0.2871746666666667 0.28715\n"
     ]
    }
   ],
   "source": [
    "total = count_0 + count_1 + count_2\n",
    "print(count_0/total, count_1/total, count_2/total)"
   ],
   "metadata": {
    "collapsed": false,
    "pycharm": {
     "name": "#%%\n"
    }
   }
  },
  {
   "cell_type": "code",
   "execution_count": null,
   "outputs": [],
   "source": [
    "device = 'cuda' if torch.cuda.is_available() else 'cpu'\n",
    "z_dim = 8\n",
    "lr = 0.0001\n",
    "gen = model.GeneratorNet()\n",
    "gen_opt = torch.optim.Adam(gen.parameters(), lr = lr)\n",
    "disc = model.DiscriminatorNet()\n",
    "disc_opt = torch.optim.Adam(disc.parameters(), lr = lr)"
   ],
   "metadata": {
    "collapsed": false,
    "pycharm": {
     "name": "#%%\n"
    }
   }
  },
  {
   "cell_type": "code",
   "execution_count": 6,
   "outputs": [
    {
     "data": {
      "text/plain": "<All keys matched successfully>"
     },
     "execution_count": 6,
     "metadata": {},
     "output_type": "execute_result"
    }
   ],
   "source": [
    "check_point_gen = torch.load('models/yousef_gan_2000.pth.tar')\n",
    "check_point_disc = torch.load('models/yousef_disc_2000.pth.tar')\n",
    "gen.load_state_dict(check_point_gen['gen_state_dict'])\n",
    "disc.load_state_dict(check_point_disc['disc_state_dict'])"
   ],
   "metadata": {
    "collapsed": false,
    "pycharm": {
     "name": "#%%\n"
    }
   }
  },
  {
   "cell_type": "code",
   "execution_count": 7,
   "outputs": [],
   "source": [
    "shuffle = True\n",
    "batch_size = 125\n",
    "num_worker = 0\n",
    "pin_memory = True\n",
    "input_tensor = torch.Tensor(input_three_dirc)\n",
    "my_dataset = tensor_dataset(input_tensor, 15, 1)\n",
    "my_dataloader = DataLoader(dataset= my_dataset,\n",
    "                            shuffle=shuffle,\n",
    "                            batch_size=batch_size,\n",
    "                            num_workers=num_worker,\n",
    "                            pin_memory=pin_memory)"
   ],
   "metadata": {
    "collapsed": false,
    "pycharm": {
     "name": "#%%\n"
    }
   }
  },
  {
   "cell_type": "code",
   "execution_count": 8,
   "outputs": [],
   "source": [
    "from Naicheng.res.fnn.training import training_bce\n",
    "import Naicheng.res.process_data.process_output as pro_out\n",
    "display_step = 500"
   ],
   "metadata": {
    "collapsed": false,
    "pycharm": {
     "name": "#%%\n"
    }
   }
  },
  {
   "cell_type": "code",
   "execution_count": 9,
   "outputs": [
    {
     "data": {
      "text/plain": "  0%|          | 0/800 [00:00<?, ?it/s]",
      "application/vnd.jupyter.widget-view+json": {
       "version_major": 2,
       "version_minor": 0,
       "model_id": "7c97c2cab2424630b68ecc619bb6e900"
      }
     },
     "metadata": {},
     "output_type": "display_data"
    },
    {
     "name": "stdout",
     "output_type": "stream",
     "text": [
      "Epoch 0, step 500: Generator loss: 1.4101112947463992, discriminator loss: 0.4260065648555754\n",
      "Epoch 1, step 1000: Generator loss: 1.4062340221405032, discriminator loss: 0.42651998084783543\n",
      "Epoch 1, step 1500: Generator loss: 1.4104667639732364, discriminator loss: 0.42472798818349833\n",
      "Epoch 2, step 2000: Generator loss: 1.4084991726875304, discriminator loss: 0.4262961802482603\n",
      "Epoch 3, step 2500: Generator loss: 1.4105853688716887, discriminator loss: 0.42335667049884823\n",
      "Epoch 3, step 3000: Generator loss: 1.411066816329954, discriminator loss: 0.4266256911754609\n",
      "Epoch 4, step 3500: Generator loss: 1.404744246006012, discriminator loss: 0.42786779516935347\n",
      "Epoch 5, step 4000: Generator loss: 1.4094695520401008, discriminator loss: 0.4225710942149168\n",
      "Epoch 5, step 4500: Generator loss: 1.4083025178909296, discriminator loss: 0.42334112960100195\n",
      "Epoch 6, step 5000: Generator loss: 1.4027846415042882, discriminator loss: 0.4261490007042885\n",
      "Epoch 6, step 5500: Generator loss: 1.4013733022212977, discriminator loss: 0.42658004319667847\n",
      "Epoch 7, step 6000: Generator loss: 1.4081119334697714, discriminator loss: 0.4250560551285743\n",
      "Epoch 8, step 6500: Generator loss: 1.4092989046573647, discriminator loss: 0.4243023228645323\n",
      "Epoch 8, step 7000: Generator loss: 1.4127887525558478, discriminator loss: 0.42527961635589573\n",
      "Epoch 9, step 7500: Generator loss: 1.4225313627719862, discriminator loss: 0.4231759059429167\n",
      "Epoch 10, step 8000: Generator loss: 1.409547477006912, discriminator loss: 0.4261903907656672\n",
      "Epoch 10, step 8500: Generator loss: 1.4079159307479854, discriminator loss: 0.42583685094118107\n",
      "Epoch 11, step 9000: Generator loss: 1.407738914251329, discriminator loss: 0.4259450041055682\n",
      "Epoch 11, step 9500: Generator loss: 1.4089567201137552, discriminator loss: 0.4265134147405628\n",
      "Epoch 12, step 10000: Generator loss: 1.4028617696762067, discriminator loss: 0.42508512198925014\n",
      "Epoch 13, step 10500: Generator loss: 1.4082502841949465, discriminator loss: 0.4246753045320507\n",
      "Epoch 13, step 11000: Generator loss: 1.4064680657386792, discriminator loss: 0.42796940588951143\n",
      "Epoch 14, step 11500: Generator loss: 1.405953100681304, discriminator loss: 0.4258591086864478\n",
      "Epoch 15, step 12000: Generator loss: 1.406549087524414, discriminator loss: 0.4245320214629178\n",
      "Epoch 15, step 12500: Generator loss: 1.4017286603450783, discriminator loss: 0.42530927276611336\n",
      "Epoch 16, step 13000: Generator loss: 1.4069139347076416, discriminator loss: 0.42429170173406555\n",
      "Epoch 16, step 13500: Generator loss: 1.4120593283176428, discriminator loss: 0.4263361874818797\n",
      "Epoch 17, step 14000: Generator loss: 1.407674493074419, discriminator loss: 0.42560572040081024\n",
      "Epoch 18, step 14500: Generator loss: 1.4082184062004088, discriminator loss: 0.42514137417077996\n",
      "Epoch 18, step 15000: Generator loss: 1.4096749961376203, discriminator loss: 0.4271819447875026\n",
      "Epoch 19, step 15500: Generator loss: 1.4086342573165889, discriminator loss: 0.4254773360490802\n",
      "Epoch 20, step 16000: Generator loss: 1.4053087654113774, discriminator loss: 0.4258660188317298\n",
      "Epoch 20, step 16500: Generator loss: 1.4139930214881902, discriminator loss: 0.4253291327953336\n",
      "Epoch 21, step 17000: Generator loss: 1.4102070162296283, discriminator loss: 0.42545868831872985\n",
      "Epoch 21, step 17500: Generator loss: 1.4168480978012068, discriminator loss: 0.4238619875311848\n",
      "Epoch 22, step 18000: Generator loss: 1.4013050158023836, discriminator loss: 0.4267017881870272\n",
      "Epoch 23, step 18500: Generator loss: 1.4133114104270927, discriminator loss: 0.4254381263852121\n",
      "Epoch 23, step 19000: Generator loss: 1.4033605968952183, discriminator loss: 0.4244510741233822\n",
      "Epoch 24, step 19500: Generator loss: 1.404579560518263, discriminator loss: 0.4238327109217638\n",
      "Epoch 25, step 20000: Generator loss: 1.4125007634162907, discriminator loss: 0.4231489913463597\n",
      "Epoch 25, step 20500: Generator loss: 1.413467848300933, discriminator loss: 0.42345354020595527\n",
      "Epoch 26, step 21000: Generator loss: 1.4155376632213585, discriminator loss: 0.423672002673149\n",
      "Epoch 26, step 21500: Generator loss: 1.410275937080383, discriminator loss: 0.4265652020573617\n",
      "Epoch 27, step 22000: Generator loss: 1.4017281899452205, discriminator loss: 0.42542722314596215\n",
      "Epoch 28, step 22500: Generator loss: 1.4059459352493302, discriminator loss: 0.42632824844121914\n",
      "Epoch 28, step 23000: Generator loss: 1.4118935458660113, discriminator loss: 0.42326489704847364\n",
      "Epoch 29, step 23500: Generator loss: 1.4128056001663207, discriminator loss: 0.42568576341867453\n",
      "Epoch 30, step 24000: Generator loss: 1.4050158884525297, discriminator loss: 0.4256085476279258\n",
      "Epoch 30, step 24500: Generator loss: 1.4139199349880227, discriminator loss: 0.42508868789672816\n",
      "Epoch 31, step 25000: Generator loss: 1.4050921492576611, discriminator loss: 0.425479711651802\n",
      "Epoch 31, step 25500: Generator loss: 1.3959818694591515, discriminator loss: 0.426493716835976\n",
      "Epoch 32, step 26000: Generator loss: 1.4106569919586174, discriminator loss: 0.42372929745912497\n",
      "Epoch 33, step 26500: Generator loss: 1.408432559251786, discriminator loss: 0.4238256853818895\n",
      "Epoch 33, step 27000: Generator loss: 1.4114440259933467, discriminator loss: 0.42584679931402214\n",
      "Epoch 34, step 27500: Generator loss: 1.4105230941772466, discriminator loss: 0.4237170093059541\n",
      "Epoch 35, step 28000: Generator loss: 1.4120146226882935, discriminator loss: 0.4255767905116078\n",
      "Epoch 35, step 28500: Generator loss: 1.4050976040363308, discriminator loss: 0.42590885227918635\n",
      "Epoch 36, step 29000: Generator loss: 1.4077387747764585, discriminator loss: 0.42660068339109464\n",
      "Epoch 36, step 29500: Generator loss: 1.4199431734085077, discriminator loss: 0.42411010527610754\n",
      "Epoch 37, step 30000: Generator loss: 1.412377468109131, discriminator loss: 0.4233052657842639\n",
      "Epoch 38, step 30500: Generator loss: 1.414713285207748, discriminator loss: 0.42558668547868683\n",
      "Epoch 38, step 31000: Generator loss: 1.3993187901973714, discriminator loss: 0.4255868145227433\n",
      "Epoch 39, step 31500: Generator loss: 1.4116591176986695, discriminator loss: 0.4256925711631772\n",
      "Epoch 40, step 32000: Generator loss: 1.396505575895309, discriminator loss: 0.42612709426879836\n",
      "Epoch 40, step 32500: Generator loss: 1.407428535938263, discriminator loss: 0.42427092057466537\n",
      "Epoch 41, step 33000: Generator loss: 1.421648568153379, discriminator loss: 0.42263681930303587\n",
      "Epoch 41, step 33500: Generator loss: 1.4114402692317969, discriminator loss: 0.426296541273594\n",
      "Epoch 42, step 34000: Generator loss: 1.4063640697002406, discriminator loss: 0.42359837806224815\n",
      "Epoch 43, step 34500: Generator loss: 1.4070293886661522, discriminator loss: 0.4266556261181834\n",
      "Epoch 43, step 35000: Generator loss: 1.4077079114913935, discriminator loss: 0.4249181396365163\n",
      "Epoch 44, step 35500: Generator loss: 1.4089759683608993, discriminator loss: 0.42491208243370054\n",
      "Epoch 45, step 36000: Generator loss: 1.4022604351043693, discriminator loss: 0.42434228402376195\n",
      "Epoch 45, step 36500: Generator loss: 1.4092106096744546, discriminator loss: 0.42517071998119343\n",
      "Epoch 46, step 37000: Generator loss: 1.4140689098834995, discriminator loss: 0.4231974520087242\n",
      "Epoch 46, step 37500: Generator loss: 1.410571974277497, discriminator loss: 0.4239603000879285\n",
      "Epoch 47, step 38000: Generator loss: 1.4056150407791144, discriminator loss: 0.4254581913948062\n",
      "Epoch 48, step 38500: Generator loss: 1.4108394298553457, discriminator loss: 0.4257633249163628\n",
      "Epoch 48, step 39000: Generator loss: 1.4134079642295827, discriminator loss: 0.42513945645093926\n",
      "Epoch 49, step 39500: Generator loss: 1.417339618444443, discriminator loss: 0.4227042557597158\n",
      "Epoch 50, step 40000: Generator loss: 1.4184854753017422, discriminator loss: 0.4249544152617449\n",
      "Epoch 50, step 40500: Generator loss: 1.411020361661911, discriminator loss: 0.42286578607559205\n",
      "Epoch 51, step 41000: Generator loss: 1.4072736129760728, discriminator loss: 0.42541509300470354\n",
      "Epoch 51, step 41500: Generator loss: 1.4158068678379052, discriminator loss: 0.42249548900127387\n",
      "Epoch 52, step 42000: Generator loss: 1.412661405086517, discriminator loss: 0.425008845806122\n",
      "Epoch 53, step 42500: Generator loss: 1.4177546701431278, discriminator loss: 0.42331131023168567\n",
      "Epoch 53, step 43000: Generator loss: 1.4095328202247615, discriminator loss: 0.4246703592538832\n",
      "Epoch 54, step 43500: Generator loss: 1.4132713954448712, discriminator loss: 0.42349171966314286\n",
      "Epoch 55, step 44000: Generator loss: 1.4062065787315383, discriminator loss: 0.42515935134887695\n",
      "Epoch 55, step 44500: Generator loss: 1.4004594004154214, discriminator loss: 0.4256253778934478\n",
      "Epoch 56, step 45000: Generator loss: 1.4080149273872384, discriminator loss: 0.4251987240314485\n",
      "Epoch 56, step 45500: Generator loss: 1.4030436093807217, discriminator loss: 0.42651709020137835\n",
      "Epoch 57, step 46000: Generator loss: 1.4016266200542433, discriminator loss: 0.4247546120285987\n",
      "Epoch 58, step 46500: Generator loss: 1.4060939784049977, discriminator loss: 0.42578087610006327\n",
      "Epoch 58, step 47000: Generator loss: 1.4061294255256656, discriminator loss: 0.4247717592716214\n",
      "Epoch 59, step 47500: Generator loss: 1.4070907843112954, discriminator loss: 0.4236194350123406\n",
      "Epoch 60, step 48000: Generator loss: 1.4082301609516132, discriminator loss: 0.42409540557861314\n",
      "Epoch 60, step 48500: Generator loss: 1.4046569280624384, discriminator loss: 0.42499352562427467\n",
      "Epoch 61, step 49000: Generator loss: 1.4174372105598447, discriminator loss: 0.4242857051491737\n",
      "Epoch 61, step 49500: Generator loss: 1.407831409215926, discriminator loss: 0.424316063821316\n",
      "Epoch 62, step 50000: Generator loss: 1.4069180145263664, discriminator loss: 0.4257229496240617\n",
      "Epoch 63, step 50500: Generator loss: 1.4050141303539276, discriminator loss: 0.426658490240574\n",
      "Epoch 63, step 51000: Generator loss: 1.415324267864227, discriminator loss: 0.42505189007520655\n",
      "Epoch 64, step 51500: Generator loss: 1.4054452641010278, discriminator loss: 0.4274979609847071\n",
      "Epoch 65, step 52000: Generator loss: 1.410295422077179, discriminator loss: 0.4240907870531081\n",
      "Epoch 65, step 52500: Generator loss: 1.4152410364151005, discriminator loss: 0.4226721265316005\n",
      "Epoch 66, step 53000: Generator loss: 1.414360131263733, discriminator loss: 0.4230423036813735\n",
      "Epoch 66, step 53500: Generator loss: 1.412766414403916, discriminator loss: 0.42280354762077343\n",
      "Epoch 67, step 54000: Generator loss: 1.411071479320527, discriminator loss: 0.42582933479547463\n",
      "Epoch 68, step 54500: Generator loss: 1.4139137442111958, discriminator loss: 0.4258548773527145\n",
      "Epoch 68, step 55000: Generator loss: 1.4076485857963577, discriminator loss: 0.4232627650499347\n",
      "Epoch 69, step 55500: Generator loss: 1.4154694559574132, discriminator loss: 0.4245381411910054\n",
      "Epoch 70, step 56000: Generator loss: 1.4116231019496899, discriminator loss: 0.42572299879789366\n",
      "Epoch 70, step 56500: Generator loss: 1.4166859681606305, discriminator loss: 0.4248276253342626\n",
      "Epoch 71, step 57000: Generator loss: 1.4123863162994374, discriminator loss: 0.42421977096796\n",
      "Epoch 71, step 57500: Generator loss: 1.4070418817996972, discriminator loss: 0.4247409288883208\n",
      "Epoch 72, step 58000: Generator loss: 1.409090163707733, discriminator loss: 0.4249747691154478\n",
      "Epoch 73, step 58500: Generator loss: 1.4108457164764419, discriminator loss: 0.42275535845756496\n",
      "Epoch 73, step 59000: Generator loss: 1.4088403961658489, discriminator loss: 0.42392472302913675\n",
      "Epoch 74, step 59500: Generator loss: 1.4127091770172124, discriminator loss: 0.4243739700913425\n",
      "Epoch 75, step 60000: Generator loss: 1.4119697842597945, discriminator loss: 0.42499205201864243\n",
      "Epoch 75, step 60500: Generator loss: 1.4073576667308791, discriminator loss: 0.42429681140184367\n",
      "Epoch 76, step 61000: Generator loss: 1.4067841835021981, discriminator loss: 0.4256893208622933\n",
      "Epoch 76, step 61500: Generator loss: 1.4067099850177776, discriminator loss: 0.42460974097251913\n",
      "Epoch 77, step 62000: Generator loss: 1.4161415593624116, discriminator loss: 0.42249357008933985\n",
      "Epoch 78, step 62500: Generator loss: 1.4077945272922523, discriminator loss: 0.42371805852651595\n",
      "Epoch 78, step 63000: Generator loss: 1.4165757277011872, discriminator loss: 0.4233225394487382\n",
      "Epoch 79, step 63500: Generator loss: 1.4154978258609763, discriminator loss: 0.4214764336347579\n",
      "Epoch 80, step 64000: Generator loss: 1.4152294023036958, discriminator loss: 0.4234998880028727\n",
      "Epoch 80, step 64500: Generator loss: 1.415941001176835, discriminator loss: 0.42308379834890353\n",
      "Epoch 81, step 65000: Generator loss: 1.41339595413208, discriminator loss: 0.42431247329711863\n",
      "Epoch 81, step 65500: Generator loss: 1.415735562086105, discriminator loss: 0.4255844600796699\n",
      "Epoch 82, step 66000: Generator loss: 1.403665357112885, discriminator loss: 0.4258922889232635\n",
      "Epoch 83, step 66500: Generator loss: 1.409070374965668, discriminator loss: 0.4230045578479766\n",
      "Epoch 83, step 67000: Generator loss: 1.405701318502426, discriminator loss: 0.4270088204145427\n",
      "Epoch 84, step 67500: Generator loss: 1.4190762541294095, discriminator loss: 0.4224321759939191\n",
      "Epoch 85, step 68000: Generator loss: 1.409576697587966, discriminator loss: 0.4261809407472611\n",
      "Epoch 85, step 68500: Generator loss: 1.4064105715751645, discriminator loss: 0.4235241960883139\n",
      "Epoch 86, step 69000: Generator loss: 1.4109295065402987, discriminator loss: 0.42521565270423867\n",
      "Epoch 86, step 69500: Generator loss: 1.4177487902641301, discriminator loss: 0.42034323555231096\n",
      "Epoch 87, step 70000: Generator loss: 1.4089150152206413, discriminator loss: 0.4229907968640329\n",
      "Epoch 88, step 70500: Generator loss: 1.4122548332214344, discriminator loss: 0.42283461880683915\n",
      "Epoch 88, step 71000: Generator loss: 1.4068299336433392, discriminator loss: 0.4263299980759623\n",
      "Epoch 89, step 71500: Generator loss: 1.4139585275650022, discriminator loss: 0.42229199302196485\n",
      "Epoch 90, step 72000: Generator loss: 1.4095455858707433, discriminator loss: 0.4249832311272618\n",
      "Epoch 90, step 72500: Generator loss: 1.4101945440769201, discriminator loss: 0.4237636185288429\n",
      "Epoch 91, step 73000: Generator loss: 1.4163021357059484, discriminator loss: 0.4235477377176285\n",
      "Epoch 91, step 73500: Generator loss: 1.4140351800918587, discriminator loss: 0.42265111619234036\n",
      "Epoch 92, step 74000: Generator loss: 1.4080166409015658, discriminator loss: 0.4243779823780061\n",
      "Epoch 93, step 74500: Generator loss: 1.4133595049381256, discriminator loss: 0.42461479902267457\n",
      "Epoch 93, step 75000: Generator loss: 1.4102885119914998, discriminator loss: 0.4234026753306391\n",
      "Epoch 94, step 75500: Generator loss: 1.4174061293601985, discriminator loss: 0.42387271982431385\n",
      "Epoch 95, step 76000: Generator loss: 1.4258049910068504, discriminator loss: 0.42123869621753723\n",
      "Epoch 95, step 76500: Generator loss: 1.4132392287254338, discriminator loss: 0.4237721879482265\n",
      "Epoch 96, step 77000: Generator loss: 1.4182986907958992, discriminator loss: 0.4231918349862099\n",
      "Epoch 96, step 77500: Generator loss: 1.4099751079082488, discriminator loss: 0.42535187441110595\n",
      "Epoch 97, step 78000: Generator loss: 1.4067656133174904, discriminator loss: 0.42466971194744135\n",
      "Epoch 98, step 78500: Generator loss: 1.414730868101119, discriminator loss: 0.42251767593622147\n",
      "Epoch 98, step 79000: Generator loss: 1.4077121627330778, discriminator loss: 0.4272169983983041\n",
      "Epoch 99, step 79500: Generator loss: 1.4142939593791966, discriminator loss: 0.4230941306948662\n",
      "Epoch 0, step 500: Generator loss: 1.4122864904403685, discriminator loss: 0.42542652267217607\n",
      "Epoch 1, step 1000: Generator loss: 1.4098943331241611, discriminator loss: 0.42307592624425894\n",
      "Epoch 1, step 1500: Generator loss: 1.4085990262031547, discriminator loss: 0.4240692893862726\n",
      "Epoch 2, step 2000: Generator loss: 1.4057527296543133, discriminator loss: 0.4243564397096635\n",
      "Epoch 3, step 2500: Generator loss: 1.409135200500489, discriminator loss: 0.42514754509925845\n",
      "Epoch 3, step 3000: Generator loss: 1.4105299077034013, discriminator loss: 0.42441487729549443\n",
      "Epoch 4, step 3500: Generator loss: 1.4050677692890154, discriminator loss: 0.4229287624955176\n",
      "Epoch 5, step 4000: Generator loss: 1.408032616615297, discriminator loss: 0.4257722241282465\n",
      "Epoch 5, step 4500: Generator loss: 1.4084151763916004, discriminator loss: 0.42375819218158706\n",
      "Epoch 6, step 5000: Generator loss: 1.4120121245384216, discriminator loss: 0.4224094332456586\n",
      "Epoch 6, step 5500: Generator loss: 1.4087147738933563, discriminator loss: 0.4253981347680096\n",
      "Epoch 7, step 6000: Generator loss: 1.4121461098194117, discriminator loss: 0.4244009082317352\n",
      "Epoch 8, step 6500: Generator loss: 1.4077967352867122, discriminator loss: 0.4253246021866796\n",
      "Epoch 8, step 7000: Generator loss: 1.4034372482299828, discriminator loss: 0.42407125222682945\n",
      "Epoch 9, step 7500: Generator loss: 1.4144479422569283, discriminator loss: 0.42372217249870303\n",
      "Epoch 10, step 8000: Generator loss: 1.4059583666324629, discriminator loss: 0.422982746899128\n",
      "Epoch 10, step 8500: Generator loss: 1.4104246327877057, discriminator loss: 0.42597695922851575\n",
      "Epoch 11, step 9000: Generator loss: 1.4144531884193412, discriminator loss: 0.4251576467156412\n",
      "Epoch 11, step 9500: Generator loss: 1.4141075956821436, discriminator loss: 0.4240076957345006\n",
      "Epoch 12, step 10000: Generator loss: 1.404789013624192, discriminator loss: 0.4243265031576154\n",
      "Epoch 13, step 10500: Generator loss: 1.4168675429821007, discriminator loss: 0.42313622599840167\n",
      "Epoch 13, step 11000: Generator loss: 1.41088174033165, discriminator loss: 0.4237720784544948\n",
      "Epoch 14, step 11500: Generator loss: 1.4084434108734114, discriminator loss: 0.4232681310772893\n",
      "Epoch 15, step 12000: Generator loss: 1.40570259475708, discriminator loss: 0.425872853219509\n",
      "Epoch 15, step 12500: Generator loss: 1.4162480344772337, discriminator loss: 0.42330087912082665\n",
      "Epoch 16, step 13000: Generator loss: 1.4050162639617927, discriminator loss: 0.4257352894544598\n",
      "Epoch 16, step 13500: Generator loss: 1.4055841774940485, discriminator loss: 0.4243147612214088\n",
      "Epoch 17, step 14000: Generator loss: 1.4106148130893708, discriminator loss: 0.42456540566682804\n",
      "Epoch 18, step 14500: Generator loss: 1.4129018821716288, discriminator loss: 0.42298915392160447\n",
      "Epoch 18, step 15000: Generator loss: 1.4088475339412678, discriminator loss: 0.4231989570856092\n",
      "Epoch 19, step 15500: Generator loss: 1.4092468564510343, discriminator loss: 0.42222092121839533\n",
      "Epoch 20, step 16000: Generator loss: 1.4145009293556214, discriminator loss: 0.42276234459877043\n",
      "Epoch 20, step 16500: Generator loss: 1.4054751801490786, discriminator loss: 0.42475184708833663\n",
      "Epoch 21, step 17000: Generator loss: 1.4068107857704166, discriminator loss: 0.4243573234081267\n",
      "Epoch 21, step 17500: Generator loss: 1.412854815006254, discriminator loss: 0.42322128021717054\n",
      "Epoch 22, step 18000: Generator loss: 1.4124486198425275, discriminator loss: 0.42372713100910187\n",
      "Epoch 23, step 18500: Generator loss: 1.4131488304138176, discriminator loss: 0.4229166029095653\n",
      "Epoch 23, step 19000: Generator loss: 1.416339324712753, discriminator loss: 0.4252313451766968\n",
      "Epoch 24, step 19500: Generator loss: 1.4074961407184594, discriminator loss: 0.4238021999597553\n",
      "Epoch 25, step 20000: Generator loss: 1.4122865109443665, discriminator loss: 0.42462671166658394\n",
      "Epoch 25, step 20500: Generator loss: 1.404590183496476, discriminator loss: 0.42568939518928567\n",
      "Epoch 26, step 21000: Generator loss: 1.4100964818000796, discriminator loss: 0.4242916708588598\n",
      "Epoch 26, step 21500: Generator loss: 1.4073052191734308, discriminator loss: 0.42482564789056787\n",
      "Epoch 27, step 22000: Generator loss: 1.4079251856803894, discriminator loss: 0.4228154657483097\n",
      "Epoch 28, step 22500: Generator loss: 1.4060521705150588, discriminator loss: 0.42682579028606427\n",
      "Epoch 28, step 23000: Generator loss: 1.4076609652042378, discriminator loss: 0.42589136821031537\n",
      "Epoch 29, step 23500: Generator loss: 1.4014695112705229, discriminator loss: 0.4260045025348666\n",
      "Epoch 30, step 24000: Generator loss: 1.40482109761238, discriminator loss: 0.42344693845510456\n",
      "Epoch 30, step 24500: Generator loss: 1.40407034444809, discriminator loss: 0.42536231267452207\n",
      "Epoch 31, step 25000: Generator loss: 1.4059651579856873, discriminator loss: 0.42266752457618717\n",
      "Epoch 31, step 25500: Generator loss: 1.4081344738006607, discriminator loss: 0.42390384894609423\n",
      "Epoch 32, step 26000: Generator loss: 1.4084255692958825, discriminator loss: 0.4227760263085364\n",
      "Epoch 33, step 26500: Generator loss: 1.4165523540973648, discriminator loss: 0.4225886102914812\n",
      "Epoch 33, step 27000: Generator loss: 1.4161061365604404, discriminator loss: 0.42315353125333754\n",
      "Epoch 34, step 27500: Generator loss: 1.4097354707717893, discriminator loss: 0.42478312969207777\n",
      "Epoch 35, step 28000: Generator loss: 1.410118295192719, discriminator loss: 0.4227428286671638\n",
      "Epoch 35, step 28500: Generator loss: 1.4072686030864718, discriminator loss: 0.4207982788681985\n",
      "Epoch 36, step 29000: Generator loss: 1.409337909460068, discriminator loss: 0.4245446935892103\n",
      "Epoch 36, step 29500: Generator loss: 1.4047488555908205, discriminator loss: 0.4234179448485371\n",
      "Epoch 37, step 30000: Generator loss: 1.398980020046235, discriminator loss: 0.4241359194517134\n",
      "Epoch 38, step 30500: Generator loss: 1.4167415888309483, discriminator loss: 0.4208443454504011\n",
      "Epoch 38, step 31000: Generator loss: 1.4101537909507735, discriminator loss: 0.42298340636491727\n",
      "Epoch 39, step 31500: Generator loss: 1.4150253021717087, discriminator loss: 0.42330239742994324\n",
      "Epoch 40, step 32000: Generator loss: 1.409322681665419, discriminator loss: 0.4240026909112929\n",
      "Epoch 40, step 32500: Generator loss: 1.4148613681793214, discriminator loss: 0.422863848567009\n",
      "Epoch 41, step 33000: Generator loss: 1.4074850873947145, discriminator loss: 0.4231920968890193\n",
      "Epoch 41, step 33500: Generator loss: 1.4109345853328694, discriminator loss: 0.4245974603295325\n",
      "Epoch 42, step 34000: Generator loss: 1.4069753162860854, discriminator loss: 0.42385437047481545\n",
      "Epoch 43, step 34500: Generator loss: 1.4073057398796074, discriminator loss: 0.4234653191566469\n",
      "Epoch 43, step 35000: Generator loss: 1.4177962970733637, discriminator loss: 0.4219137012958525\n",
      "Epoch 44, step 35500: Generator loss: 1.4188444941043865, discriminator loss: 0.4224386850595474\n",
      "Epoch 45, step 36000: Generator loss: 1.4056237943172447, discriminator loss: 0.4238519998788835\n",
      "Epoch 45, step 36500: Generator loss: 1.4145794243812546, discriminator loss: 0.4247252609133717\n",
      "Epoch 46, step 37000: Generator loss: 1.4209986093044287, discriminator loss: 0.4213799317479133\n",
      "Epoch 46, step 37500: Generator loss: 1.4110200242996205, discriminator loss: 0.4248314073085791\n",
      "Epoch 47, step 38000: Generator loss: 1.4169045572280874, discriminator loss: 0.42201357287168456\n",
      "Epoch 48, step 38500: Generator loss: 1.4111918690204617, discriminator loss: 0.4204206880331041\n",
      "Epoch 48, step 39000: Generator loss: 1.4181707749366759, discriminator loss: 0.42366661804914474\n",
      "Epoch 49, step 39500: Generator loss: 1.4080781507492077, discriminator loss: 0.42269510453939413\n",
      "Epoch 50, step 40000: Generator loss: 1.4177964422702796, discriminator loss: 0.4222052510976792\n",
      "Epoch 50, step 40500: Generator loss: 1.403839649438858, discriminator loss: 0.42323033404350274\n",
      "Epoch 51, step 41000: Generator loss: 1.4153092832565295, discriminator loss: 0.4231350588202473\n",
      "Epoch 51, step 41500: Generator loss: 1.4100381939411148, discriminator loss: 0.42271306550502763\n",
      "Epoch 52, step 42000: Generator loss: 1.4104682173728922, discriminator loss: 0.42314353847503644\n",
      "Epoch 53, step 42500: Generator loss: 1.4160711557865144, discriminator loss: 0.4232723547220233\n",
      "Epoch 53, step 43000: Generator loss: 1.4127328076362629, discriminator loss: 0.4227762689590453\n",
      "Epoch 54, step 43500: Generator loss: 1.4172668359279628, discriminator loss: 0.4211783248782156\n",
      "Epoch 55, step 44000: Generator loss: 1.4125423212051391, discriminator loss: 0.42258289569616336\n",
      "Epoch 55, step 44500: Generator loss: 1.4167126560211167, discriminator loss: 0.4224634816646575\n",
      "Epoch 56, step 45000: Generator loss: 1.4102551386356352, discriminator loss: 0.42340593528747605\n",
      "Epoch 56, step 45500: Generator loss: 1.417810699939727, discriminator loss: 0.4216046144962312\n",
      "Epoch 57, step 46000: Generator loss: 1.4219494335651404, discriminator loss: 0.42135376054048557\n",
      "Epoch 58, step 46500: Generator loss: 1.420856714248657, discriminator loss: 0.422135893702507\n",
      "Epoch 58, step 47000: Generator loss: 1.416610035896302, discriminator loss: 0.4230329900979995\n",
      "Epoch 59, step 47500: Generator loss: 1.4138122889995577, discriminator loss: 0.4232069980502126\n",
      "Epoch 60, step 48000: Generator loss: 1.4102207012176495, discriminator loss: 0.42383923453092587\n",
      "Epoch 60, step 48500: Generator loss: 1.4090784509181975, discriminator loss: 0.4232048463225364\n",
      "Epoch 61, step 49000: Generator loss: 1.4111052460670461, discriminator loss: 0.4211312569975854\n",
      "Epoch 61, step 49500: Generator loss: 1.4182569944858545, discriminator loss: 0.4230064655542376\n",
      "Epoch 62, step 50000: Generator loss: 1.41472121834755, discriminator loss: 0.42232426375150717\n",
      "Epoch 63, step 50500: Generator loss: 1.416014276981354, discriminator loss: 0.42210865277051945\n",
      "Epoch 63, step 51000: Generator loss: 1.4138011450767507, discriminator loss: 0.42216063052415836\n",
      "Epoch 64, step 51500: Generator loss: 1.413008931159974, discriminator loss: 0.4232464016079901\n",
      "Epoch 65, step 52000: Generator loss: 1.407894503593445, discriminator loss: 0.4258725752234459\n",
      "Epoch 65, step 52500: Generator loss: 1.4187826979160314, discriminator loss: 0.42013144838809946\n",
      "Epoch 66, step 53000: Generator loss: 1.418156487464904, discriminator loss: 0.4221253093481068\n",
      "Epoch 66, step 53500: Generator loss: 1.409908699989319, discriminator loss: 0.421874456644058\n",
      "Epoch 67, step 54000: Generator loss: 1.4201772799491896, discriminator loss: 0.4224942243099212\n",
      "Epoch 68, step 54500: Generator loss: 1.4162514929771417, discriminator loss: 0.4222430623769757\n",
      "Epoch 68, step 55000: Generator loss: 1.413152366161347, discriminator loss: 0.4232648272514339\n",
      "Epoch 69, step 55500: Generator loss: 1.4112787513732905, discriminator loss: 0.42263451170921285\n",
      "Epoch 70, step 56000: Generator loss: 1.4027532620429988, discriminator loss: 0.425661592900753\n",
      "Epoch 70, step 56500: Generator loss: 1.4096102275848377, discriminator loss: 0.42368066859245257\n",
      "Epoch 71, step 57000: Generator loss: 1.4112670998573316, discriminator loss: 0.42222412276268007\n",
      "Epoch 71, step 57500: Generator loss: 1.4141668572425838, discriminator loss: 0.4220437765717505\n",
      "Epoch 72, step 58000: Generator loss: 1.4170593063831338, discriminator loss: 0.4220956921577453\n",
      "Epoch 73, step 58500: Generator loss: 1.4067876057624826, discriminator loss: 0.4253527915477748\n",
      "Epoch 73, step 59000: Generator loss: 1.4096847045421603, discriminator loss: 0.42083047580719024\n",
      "Epoch 74, step 59500: Generator loss: 1.4132353544235234, discriminator loss: 0.42410638958215763\n",
      "Epoch 75, step 60000: Generator loss: 1.4245431268215158, discriminator loss: 0.4199425055980685\n",
      "Epoch 75, step 60500: Generator loss: 1.415080409049988, discriminator loss: 0.42177385050058386\n",
      "Epoch 76, step 61000: Generator loss: 1.4149030740261073, discriminator loss: 0.4223966203331946\n",
      "Epoch 76, step 61500: Generator loss: 1.4128705146312703, discriminator loss: 0.4222411789894105\n",
      "Epoch 77, step 62000: Generator loss: 1.4224766852855686, discriminator loss: 0.4218157409429551\n",
      "Epoch 78, step 62500: Generator loss: 1.4147764384746557, discriminator loss: 0.42425795245170594\n",
      "Epoch 78, step 63000: Generator loss: 1.409758345127105, discriminator loss: 0.4221607826948167\n",
      "Epoch 79, step 63500: Generator loss: 1.416930606842042, discriminator loss: 0.4223815677165986\n",
      "Epoch 80, step 64000: Generator loss: 1.4165087413787836, discriminator loss: 0.4233699379563328\n",
      "Epoch 80, step 64500: Generator loss: 1.4128850021362298, discriminator loss: 0.42273927170038234\n",
      "Epoch 81, step 65000: Generator loss: 1.4181265177726754, discriminator loss: 0.4217657344937325\n",
      "Epoch 81, step 65500: Generator loss: 1.4142250161170962, discriminator loss: 0.42269174104928986\n",
      "Epoch 82, step 66000: Generator loss: 1.408831900835037, discriminator loss: 0.42128465783596053\n",
      "Epoch 83, step 66500: Generator loss: 1.4148033974170686, discriminator loss: 0.42212073421478197\n",
      "Epoch 83, step 67000: Generator loss: 1.4138503148555752, discriminator loss: 0.4233139123320584\n",
      "Epoch 84, step 67500: Generator loss: 1.4152707178592685, discriminator loss: 0.4206289048194884\n",
      "Epoch 85, step 68000: Generator loss: 1.4170417194366447, discriminator loss: 0.4229600219726566\n",
      "Epoch 85, step 68500: Generator loss: 1.4173557016849514, discriminator loss: 0.4214673647880551\n",
      "Epoch 86, step 69000: Generator loss: 1.4123339397907266, discriminator loss: 0.42284044045209873\n",
      "Epoch 86, step 69500: Generator loss: 1.4144526300430298, discriminator loss: 0.42190659928321883\n",
      "Epoch 87, step 70000: Generator loss: 1.407957756280899, discriminator loss: 0.42446293145418185\n",
      "Epoch 88, step 70500: Generator loss: 1.4141986668109878, discriminator loss: 0.4225585050582892\n",
      "Epoch 88, step 71000: Generator loss: 1.4176752531528485, discriminator loss: 0.4252009295821189\n",
      "Epoch 89, step 71500: Generator loss: 1.4106830208301544, discriminator loss: 0.4231031785011293\n",
      "Epoch 90, step 72000: Generator loss: 1.4149221818447115, discriminator loss: 0.42320580774545696\n",
      "Epoch 90, step 72500: Generator loss: 1.406954037666319, discriminator loss: 0.42564258611202266\n",
      "Epoch 91, step 73000: Generator loss: 1.4206269087791443, discriminator loss: 0.4233305043578148\n",
      "Epoch 91, step 73500: Generator loss: 1.412387966632844, discriminator loss: 0.42271452498436013\n",
      "Epoch 92, step 74000: Generator loss: 1.417939653873443, discriminator loss: 0.42254917770624184\n",
      "Epoch 93, step 74500: Generator loss: 1.4138616340160381, discriminator loss: 0.4226917490959169\n",
      "Epoch 93, step 75000: Generator loss: 1.423651205778121, discriminator loss: 0.42298591887950876\n",
      "Epoch 94, step 75500: Generator loss: 1.4072970159053788, discriminator loss: 0.4227270786762235\n",
      "Epoch 95, step 76000: Generator loss: 1.406560438871385, discriminator loss: 0.4233943876624111\n",
      "Epoch 95, step 76500: Generator loss: 1.414656229496002, discriminator loss: 0.4223494250178341\n",
      "Epoch 96, step 77000: Generator loss: 1.4089487397670755, discriminator loss: 0.4227634838819502\n",
      "Epoch 96, step 77500: Generator loss: 1.4185577239990228, discriminator loss: 0.42462310099601736\n",
      "Epoch 97, step 78000: Generator loss: 1.4176487493515013, discriminator loss: 0.42062499010562904\n",
      "Epoch 98, step 78500: Generator loss: 1.4132907180786136, discriminator loss: 0.42505696493387146\n",
      "Epoch 98, step 79000: Generator loss: 1.4195138070583337, discriminator loss: 0.4225049189329149\n",
      "Epoch 99, step 79500: Generator loss: 1.4181124176979065, discriminator loss: 0.4235865320563317\n",
      "Epoch 0, step 500: Generator loss: 1.4189093666076658, discriminator loss: 0.42332127732038527\n",
      "Epoch 1, step 1000: Generator loss: 1.4107358565330488, discriminator loss: 0.42285921967029555\n",
      "Epoch 1, step 1500: Generator loss: 1.4144519004821785, discriminator loss: 0.4242630692720414\n",
      "Epoch 2, step 2000: Generator loss: 1.407349988937378, discriminator loss: 0.4225199033617972\n",
      "Epoch 3, step 2500: Generator loss: 1.4140241293907159, discriminator loss: 0.42295084208250017\n",
      "Epoch 3, step 3000: Generator loss: 1.4248416004180922, discriminator loss: 0.4225525593161582\n",
      "Epoch 4, step 3500: Generator loss: 1.4198911371231073, discriminator loss: 0.42221102654933934\n",
      "Epoch 5, step 4000: Generator loss: 1.4090192217826856, discriminator loss: 0.42142399203777325\n",
      "Epoch 5, step 4500: Generator loss: 1.418705732345581, discriminator loss: 0.42122924542427087\n",
      "Epoch 6, step 5000: Generator loss: 1.4134355816841144, discriminator loss: 0.42365714591741566\n",
      "Epoch 6, step 5500: Generator loss: 1.4274474844932556, discriminator loss: 0.4200472673177722\n",
      "Epoch 7, step 6000: Generator loss: 1.4160098199844355, discriminator loss: 0.4220336390137669\n",
      "Epoch 8, step 6500: Generator loss: 1.4167152440547963, discriminator loss: 0.4226114933490753\n",
      "Epoch 8, step 7000: Generator loss: 1.4199865086078645, discriminator loss: 0.41979550695419315\n",
      "Epoch 9, step 7500: Generator loss: 1.420413873195647, discriminator loss: 0.42234488588571545\n",
      "Epoch 10, step 8000: Generator loss: 1.4155278613567344, discriminator loss: 0.4241220367550849\n",
      "Epoch 10, step 8500: Generator loss: 1.4141174287796014, discriminator loss: 0.42258286696672454\n",
      "Epoch 11, step 9000: Generator loss: 1.4193784391880044, discriminator loss: 0.4210711572766307\n",
      "Epoch 11, step 9500: Generator loss: 1.4136231131553647, discriminator loss: 0.420742765426636\n",
      "Epoch 12, step 10000: Generator loss: 1.4109894945621484, discriminator loss: 0.4230087743401528\n",
      "Epoch 13, step 10500: Generator loss: 1.4082891120910648, discriminator loss: 0.42324952375888814\n",
      "Epoch 13, step 11000: Generator loss: 1.415171954154968, discriminator loss: 0.420499498128891\n",
      "Epoch 14, step 11500: Generator loss: 1.4155296742916104, discriminator loss: 0.42432154458761223\n",
      "Epoch 15, step 12000: Generator loss: 1.4187890741825084, discriminator loss: 0.4223349468708033\n",
      "Epoch 15, step 12500: Generator loss: 1.418657827615735, discriminator loss: 0.42398567289113964\n",
      "Epoch 16, step 13000: Generator loss: 1.4083928585052492, discriminator loss: 0.42556961429119083\n",
      "Epoch 16, step 13500: Generator loss: 1.4191626927852627, discriminator loss: 0.42127159267663983\n",
      "Epoch 17, step 14000: Generator loss: 1.4148359608650205, discriminator loss: 0.4227332485318184\n",
      "Epoch 18, step 14500: Generator loss: 1.4164584918022158, discriminator loss: 0.4231850996613504\n",
      "Epoch 18, step 15000: Generator loss: 1.4173348352909085, discriminator loss: 0.42161377882957446\n",
      "Epoch 19, step 15500: Generator loss: 1.414142759561537, discriminator loss: 0.42236381763219816\n",
      "Epoch 20, step 16000: Generator loss: 1.4211045837402347, discriminator loss: 0.42222174823284164\n",
      "Epoch 20, step 16500: Generator loss: 1.4138825662136096, discriminator loss: 0.4227670157551765\n",
      "Epoch 21, step 17000: Generator loss: 1.4202766575813293, discriminator loss: 0.4205102082490922\n",
      "Epoch 21, step 17500: Generator loss: 1.4150623178482054, discriminator loss: 0.4226765049695968\n",
      "Epoch 22, step 18000: Generator loss: 1.4113336522579192, discriminator loss: 0.4259665008783341\n",
      "Epoch 23, step 18500: Generator loss: 1.4198128740787506, discriminator loss: 0.4209252321720124\n",
      "Epoch 23, step 19000: Generator loss: 1.4172669901847843, discriminator loss: 0.42199419045448266\n",
      "Epoch 24, step 19500: Generator loss: 1.4129515633583087, discriminator loss: 0.42369521218538264\n",
      "Epoch 25, step 20000: Generator loss: 1.4197183170318606, discriminator loss: 0.42180612254142735\n",
      "Epoch 25, step 20500: Generator loss: 1.4205676503181477, discriminator loss: 0.42107252770662257\n",
      "Epoch 26, step 21000: Generator loss: 1.4170418539047236, discriminator loss: 0.4231050589084623\n",
      "Epoch 26, step 21500: Generator loss: 1.418638288497925, discriminator loss: 0.42303091067075754\n",
      "Epoch 27, step 22000: Generator loss: 1.4202451591491705, discriminator loss: 0.42196883451938616\n",
      "Epoch 28, step 22500: Generator loss: 1.4181295349597933, discriminator loss: 0.42198695433139805\n",
      "Epoch 28, step 23000: Generator loss: 1.4135638172626483, discriminator loss: 0.4220703699588772\n",
      "Epoch 29, step 23500: Generator loss: 1.414554541826248, discriminator loss: 0.4216022071242329\n",
      "Epoch 30, step 24000: Generator loss: 1.407422675371171, discriminator loss: 0.4234304561018944\n",
      "Epoch 30, step 24500: Generator loss: 1.4113597176074977, discriminator loss: 0.42245309752225885\n",
      "Epoch 31, step 25000: Generator loss: 1.4199240310192096, discriminator loss: 0.41888016116619153\n",
      "Epoch 31, step 25500: Generator loss: 1.414333887815474, discriminator loss: 0.4216165813207628\n",
      "Epoch 32, step 26000: Generator loss: 1.4173936226367954, discriminator loss: 0.4230105087757108\n",
      "Epoch 33, step 26500: Generator loss: 1.4196098599433904, discriminator loss: 0.4210447950959206\n",
      "Epoch 33, step 27000: Generator loss: 1.4192024064064026, discriminator loss: 0.4221454763412476\n",
      "Epoch 34, step 27500: Generator loss: 1.4150891687870037, discriminator loss: 0.42358854192495343\n",
      "Epoch 35, step 28000: Generator loss: 1.4177621345520024, discriminator loss: 0.42347496926784495\n",
      "Epoch 35, step 28500: Generator loss: 1.4173091464042655, discriminator loss: 0.4215374010205268\n",
      "Epoch 36, step 29000: Generator loss: 1.4139861536026006, discriminator loss: 0.4223948926925657\n",
      "Epoch 36, step 29500: Generator loss: 1.4175293593406673, discriminator loss: 0.4210649606585506\n",
      "Epoch 37, step 30000: Generator loss: 1.4216178243160256, discriminator loss: 0.42374879801273374\n",
      "Epoch 38, step 30500: Generator loss: 1.4217961318492889, discriminator loss: 0.42123973292112377\n",
      "Epoch 38, step 31000: Generator loss: 1.4180046627521516, discriminator loss: 0.4219663123488424\n",
      "Epoch 39, step 31500: Generator loss: 1.4149114472866071, discriminator loss: 0.4225293086767197\n",
      "Epoch 40, step 32000: Generator loss: 1.4220528898239142, discriminator loss: 0.42188470733165795\n",
      "Epoch 40, step 32500: Generator loss: 1.4151978044509885, discriminator loss: 0.42091339790821075\n",
      "Epoch 41, step 33000: Generator loss: 1.422138846874236, discriminator loss: 0.42386097127199157\n",
      "Epoch 41, step 33500: Generator loss: 1.4209977800846088, discriminator loss: 0.42054567915201224\n",
      "Epoch 42, step 34000: Generator loss: 1.4153772041797634, discriminator loss: 0.42406272840499865\n",
      "Epoch 43, step 34500: Generator loss: 1.4132947950363137, discriminator loss: 0.4207899962067605\n",
      "Epoch 43, step 35000: Generator loss: 1.412864210367204, discriminator loss: 0.42384393554925914\n",
      "Epoch 44, step 35500: Generator loss: 1.4171271286010736, discriminator loss: 0.421486854016781\n",
      "Epoch 45, step 36000: Generator loss: 1.4151822106838232, discriminator loss: 0.4222034969329829\n",
      "Epoch 45, step 36500: Generator loss: 1.4168436665534958, discriminator loss: 0.42477754402160606\n",
      "Epoch 46, step 37000: Generator loss: 1.4187187259197218, discriminator loss: 0.42293047606945083\n",
      "Epoch 46, step 37500: Generator loss: 1.4185932221412663, discriminator loss: 0.4222309120297433\n",
      "Epoch 47, step 38000: Generator loss: 1.416244658231735, discriminator loss: 0.4218687129020694\n",
      "Epoch 48, step 38500: Generator loss: 1.420183771848678, discriminator loss: 0.4237122483849524\n",
      "Epoch 48, step 39000: Generator loss: 1.4204997410774236, discriminator loss: 0.42266733396053324\n",
      "Epoch 49, step 39500: Generator loss: 1.422411159276961, discriminator loss: 0.4220930129289625\n",
      "Epoch 50, step 40000: Generator loss: 1.4204566266536716, discriminator loss: 0.42015421855449686\n",
      "Epoch 50, step 40500: Generator loss: 1.4159033672809587, discriminator loss: 0.4230646926760675\n",
      "Epoch 51, step 41000: Generator loss: 1.420041011333463, discriminator loss: 0.4201465981006628\n",
      "Epoch 51, step 41500: Generator loss: 1.426965115070343, discriminator loss: 0.4206523952484133\n",
      "Epoch 52, step 42000: Generator loss: 1.4259125270843491, discriminator loss: 0.4204805760383606\n",
      "Epoch 53, step 42500: Generator loss: 1.4264467926025397, discriminator loss: 0.4230098868608475\n",
      "Epoch 53, step 43000: Generator loss: 1.4154083557128923, discriminator loss: 0.42060852122306785\n",
      "Epoch 54, step 43500: Generator loss: 1.4231974985599511, discriminator loss: 0.422144932091236\n",
      "Epoch 55, step 44000: Generator loss: 1.422901700019838, discriminator loss: 0.4232870916128162\n",
      "Epoch 55, step 44500: Generator loss: 1.416548561573028, discriminator loss: 0.42189494967460617\n",
      "Epoch 56, step 45000: Generator loss: 1.4226754271984106, discriminator loss: 0.41976027870178234\n",
      "Epoch 56, step 45500: Generator loss: 1.425214969158173, discriminator loss: 0.4189967690706252\n",
      "Epoch 57, step 46000: Generator loss: 1.4239161698818212, discriminator loss: 0.4224739386439326\n",
      "Epoch 58, step 46500: Generator loss: 1.4270085270404795, discriminator loss: 0.4223196320533756\n",
      "Epoch 58, step 47000: Generator loss: 1.4136249337196354, discriminator loss: 0.4220463969707488\n",
      "Epoch 59, step 47500: Generator loss: 1.4195057711601269, discriminator loss: 0.42147218161821415\n",
      "Epoch 60, step 48000: Generator loss: 1.4238630955219276, discriminator loss: 0.4205384811758993\n",
      "Epoch 60, step 48500: Generator loss: 1.4235924899578092, discriminator loss: 0.41854384410381307\n",
      "Epoch 61, step 49000: Generator loss: 1.4197459824085235, discriminator loss: 0.4238148507475851\n",
      "Epoch 61, step 49500: Generator loss: 1.417246758460998, discriminator loss: 0.42095488041639373\n",
      "Epoch 62, step 50000: Generator loss: 1.4183986041545864, discriminator loss: 0.4224288173317908\n",
      "Epoch 63, step 50500: Generator loss: 1.4135874390602083, discriminator loss: 0.42293505507707624\n",
      "Epoch 63, step 51000: Generator loss: 1.4181845715045935, discriminator loss: 0.42145101869106366\n",
      "Epoch 64, step 51500: Generator loss: 1.4262249178886408, discriminator loss: 0.42106899702548983\n",
      "Epoch 65, step 52000: Generator loss: 1.4226725115776069, discriminator loss: 0.4189916838407517\n",
      "Epoch 65, step 52500: Generator loss: 1.4267155578136443, discriminator loss: 0.41927780729532227\n",
      "Epoch 66, step 53000: Generator loss: 1.4254288547039033, discriminator loss: 0.42315118896961207\n",
      "Epoch 66, step 53500: Generator loss: 1.4152075614929194, discriminator loss: 0.42192004543542855\n",
      "Epoch 67, step 54000: Generator loss: 1.420196913242341, discriminator loss: 0.4193342003226278\n",
      "Epoch 68, step 54500: Generator loss: 1.4250217308998097, discriminator loss: 0.420088167607784\n",
      "Epoch 68, step 55000: Generator loss: 1.4276715679168703, discriminator loss: 0.42052064812183365\n",
      "Epoch 69, step 55500: Generator loss: 1.4211322164535516, discriminator loss: 0.42143515717983215\n",
      "Epoch 70, step 56000: Generator loss: 1.417271380901338, discriminator loss: 0.4213501843214034\n",
      "Epoch 70, step 56500: Generator loss: 1.428340523242951, discriminator loss: 0.42031198674440395\n",
      "Epoch 71, step 57000: Generator loss: 1.4224695088863368, discriminator loss: 0.421549662470818\n",
      "Epoch 71, step 57500: Generator loss: 1.4136448409557358, discriminator loss: 0.42350212502479534\n",
      "Epoch 72, step 58000: Generator loss: 1.4237669577598568, discriminator loss: 0.4214792910218239\n",
      "Epoch 73, step 58500: Generator loss: 1.4335077168941484, discriminator loss: 0.4176151397824287\n",
      "Epoch 73, step 59000: Generator loss: 1.429024507284164, discriminator loss: 0.4218293559551237\n",
      "Epoch 74, step 59500: Generator loss: 1.411615880966186, discriminator loss: 0.4236794893145556\n",
      "Epoch 75, step 60000: Generator loss: 1.4241082885265364, discriminator loss: 0.4215634954571722\n",
      "Epoch 75, step 60500: Generator loss: 1.4155490899086005, discriminator loss: 0.42428185111284217\n",
      "Epoch 76, step 61000: Generator loss: 1.4177682533264182, discriminator loss: 0.4236184172034261\n",
      "Epoch 76, step 61500: Generator loss: 1.417451187372207, discriminator loss: 0.4222504410147662\n",
      "Epoch 77, step 62000: Generator loss: 1.4270633823871623, discriminator loss: 0.42046614038944197\n",
      "Epoch 78, step 62500: Generator loss: 1.4170019185543057, discriminator loss: 0.42416357439756347\n",
      "Epoch 78, step 63000: Generator loss: 1.4169730262756344, discriminator loss: 0.42226674669980985\n",
      "Epoch 79, step 63500: Generator loss: 1.418811840295792, discriminator loss: 0.4198673805594442\n",
      "Epoch 80, step 64000: Generator loss: 1.4122376248836517, discriminator loss: 0.4238476400971413\n",
      "Epoch 80, step 64500: Generator loss: 1.413735211610796, discriminator loss: 0.42353213220834734\n",
      "Epoch 81, step 65000: Generator loss: 1.4146232793331135, discriminator loss: 0.42210892713069914\n",
      "Epoch 81, step 65500: Generator loss: 1.4201309719085682, discriminator loss: 0.4230180829167365\n",
      "Epoch 82, step 66000: Generator loss: 1.418263876438141, discriminator loss: 0.4213951594233513\n",
      "Epoch 83, step 66500: Generator loss: 1.4268411521911633, discriminator loss: 0.4206801307797432\n",
      "Epoch 83, step 67000: Generator loss: 1.4176586036682135, discriminator loss: 0.4220911161899568\n",
      "Epoch 84, step 67500: Generator loss: 1.4183125951290143, discriminator loss: 0.4219402704834941\n",
      "Epoch 85, step 68000: Generator loss: 1.4155911531448366, discriminator loss: 0.4219900602698329\n",
      "Epoch 85, step 68500: Generator loss: 1.4171663246154789, discriminator loss: 0.42086039108037937\n",
      "Epoch 86, step 69000: Generator loss: 1.4125825862884513, discriminator loss: 0.4220961657762528\n",
      "Epoch 86, step 69500: Generator loss: 1.418397210836411, discriminator loss: 0.4230773888826371\n",
      "Epoch 87, step 70000: Generator loss: 1.419385143518448, discriminator loss: 0.4214767017960552\n",
      "Epoch 88, step 70500: Generator loss: 1.4241445677280424, discriminator loss: 0.4214830969572073\n",
      "Epoch 88, step 71000: Generator loss: 1.42571632504463, discriminator loss: 0.42126680278778095\n",
      "Epoch 89, step 71500: Generator loss: 1.4168029961586006, discriminator loss: 0.4212012638449672\n",
      "Epoch 90, step 72000: Generator loss: 1.4334102733135232, discriminator loss: 0.41836934149265326\n",
      "Epoch 90, step 72500: Generator loss: 1.4203049151897438, discriminator loss: 0.4233503597974779\n",
      "Epoch 91, step 73000: Generator loss: 1.4242383027076737, discriminator loss: 0.42114889663457866\n",
      "Epoch 91, step 73500: Generator loss: 1.4163849935531625, discriminator loss: 0.42158200383186367\n",
      "Epoch 92, step 74000: Generator loss: 1.4145780560970298, discriminator loss: 0.4219226537942884\n",
      "Epoch 93, step 74500: Generator loss: 1.4198901457786561, discriminator loss: 0.42075023776292814\n",
      "Epoch 93, step 75000: Generator loss: 1.4191083371639266, discriminator loss: 0.4220917072892185\n",
      "Epoch 94, step 75500: Generator loss: 1.4139310002326972, discriminator loss: 0.4243792926073075\n",
      "Epoch 95, step 76000: Generator loss: 1.422434643745423, discriminator loss: 0.4221219169497492\n",
      "Epoch 95, step 76500: Generator loss: 1.4196149790287014, discriminator loss: 0.421506030857563\n",
      "Epoch 96, step 77000: Generator loss: 1.419649428367615, discriminator loss: 0.42244517993927017\n",
      "Epoch 96, step 77500: Generator loss: 1.4128213164806378, discriminator loss: 0.42311590653657893\n",
      "Epoch 97, step 78000: Generator loss: 1.4310466856956483, discriminator loss: 0.4186215162873272\n",
      "Epoch 98, step 78500: Generator loss: 1.431157526969909, discriminator loss: 0.42113608747720693\n",
      "Epoch 98, step 79000: Generator loss: 1.427603984832763, discriminator loss: 0.4209883982539179\n",
      "Epoch 99, step 79500: Generator loss: 1.4082342369556429, discriminator loss: 0.42392490333318744\n",
      "Epoch 0, step 500: Generator loss: 1.4261058223247536, discriminator loss: 0.42068862050771694\n",
      "Epoch 1, step 1000: Generator loss: 1.4135481078624719, discriminator loss: 0.4236470217704774\n",
      "Epoch 1, step 1500: Generator loss: 1.4203647682666776, discriminator loss: 0.42104261487722366\n",
      "Epoch 2, step 2000: Generator loss: 1.4146800763607037, discriminator loss: 0.42249487727880475\n",
      "Epoch 3, step 2500: Generator loss: 1.4289868075847618, discriminator loss: 0.417966442763805\n",
      "Epoch 3, step 3000: Generator loss: 1.419730291843414, discriminator loss: 0.422180571913719\n",
      "Epoch 4, step 3500: Generator loss: 1.4234561729431157, discriminator loss: 0.42074448353052163\n",
      "Epoch 5, step 4000: Generator loss: 1.4170112018585195, discriminator loss: 0.42231489276885975\n",
      "Epoch 5, step 4500: Generator loss: 1.4221598260402672, discriminator loss: 0.42056250274181345\n",
      "Epoch 6, step 5000: Generator loss: 1.4243298575878154, discriminator loss: 0.4236036373376847\n",
      "Epoch 6, step 5500: Generator loss: 1.434543628931046, discriminator loss: 0.419642583489418\n",
      "Epoch 7, step 6000: Generator loss: 1.4155110192298905, discriminator loss: 0.42377852523326937\n",
      "Epoch 8, step 6500: Generator loss: 1.4121204714775082, discriminator loss: 0.4212239524722098\n",
      "Epoch 8, step 7000: Generator loss: 1.4144158756732936, discriminator loss: 0.4227718912959096\n",
      "Epoch 9, step 7500: Generator loss: 1.420909333944321, discriminator loss: 0.423435049057007\n",
      "Epoch 10, step 8000: Generator loss: 1.4218223032951358, discriminator loss: 0.42241061466932256\n",
      "Epoch 10, step 8500: Generator loss: 1.4142872219085683, discriminator loss: 0.42284767794609057\n",
      "Epoch 11, step 9000: Generator loss: 1.417979973077774, discriminator loss: 0.4210087655186657\n",
      "Epoch 11, step 9500: Generator loss: 1.4211348085403448, discriminator loss: 0.4221328572630884\n",
      "Epoch 12, step 10000: Generator loss: 1.4183322110176086, discriminator loss: 0.4187052689194679\n",
      "Epoch 13, step 10500: Generator loss: 1.426311104297639, discriminator loss: 0.42112080007791547\n",
      "Epoch 13, step 11000: Generator loss: 1.4219984340667717, discriminator loss: 0.4231413494944573\n",
      "Epoch 14, step 11500: Generator loss: 1.4251618840694418, discriminator loss: 0.42081723207235333\n",
      "Epoch 15, step 12000: Generator loss: 1.4175798339843753, discriminator loss: 0.42125776535272613\n",
      "Epoch 15, step 12500: Generator loss: 1.4209318473339083, discriminator loss: 0.4198815657496451\n",
      "Epoch 16, step 13000: Generator loss: 1.4183078212738025, discriminator loss: 0.4206615321040154\n",
      "Epoch 16, step 13500: Generator loss: 1.4200242066383353, discriminator loss: 0.421420439898968\n",
      "Epoch 17, step 14000: Generator loss: 1.4212122669219955, discriminator loss: 0.4216330826282505\n",
      "Epoch 18, step 14500: Generator loss: 1.4194751296043409, discriminator loss: 0.42083707231283196\n",
      "Epoch 18, step 15000: Generator loss: 1.4195957031250002, discriminator loss: 0.42311800885200573\n",
      "Epoch 19, step 15500: Generator loss: 1.415082740068436, discriminator loss: 0.42151513701677296\n",
      "Epoch 20, step 16000: Generator loss: 1.4222256033420564, discriminator loss: 0.42117645817995075\n",
      "Epoch 20, step 16500: Generator loss: 1.4170404200553899, discriminator loss: 0.4223294329643245\n",
      "Epoch 21, step 17000: Generator loss: 1.422869126319884, discriminator loss: 0.4196329210996626\n",
      "Epoch 21, step 17500: Generator loss: 1.4186992716789253, discriminator loss: 0.42071501773595804\n",
      "Epoch 22, step 18000: Generator loss: 1.4208691787719727, discriminator loss: 0.4212603863477706\n",
      "Epoch 23, step 18500: Generator loss: 1.42126130247116, discriminator loss: 0.4240632433891295\n",
      "Epoch 23, step 19000: Generator loss: 1.4236709258556381, discriminator loss: 0.42106687963008893\n",
      "Epoch 24, step 19500: Generator loss: 1.4162245454788203, discriminator loss: 0.4243113375306128\n",
      "Epoch 25, step 20000: Generator loss: 1.4209457385539994, discriminator loss: 0.42029934728145546\n",
      "Epoch 25, step 20500: Generator loss: 1.4208466012477883, discriminator loss: 0.42015212887525555\n",
      "Epoch 26, step 21000: Generator loss: 1.4225697603225707, discriminator loss: 0.41986881440877966\n",
      "Epoch 26, step 21500: Generator loss: 1.4271039040088642, discriminator loss: 0.4193492867350573\n",
      "Epoch 27, step 22000: Generator loss: 1.4133145895004275, discriminator loss: 0.42381887578964195\n",
      "Epoch 28, step 22500: Generator loss: 1.4248322002887717, discriminator loss: 0.4200999249815936\n",
      "Epoch 28, step 23000: Generator loss: 1.4107371268272406, discriminator loss: 0.4225145491957663\n",
      "Epoch 29, step 23500: Generator loss: 1.4269674596786495, discriminator loss: 0.4193915631175043\n",
      "Epoch 30, step 24000: Generator loss: 1.4199403073787686, discriminator loss: 0.42221303975582153\n",
      "Epoch 30, step 24500: Generator loss: 1.4165706496238704, discriminator loss: 0.42030193859338755\n",
      "Epoch 31, step 25000: Generator loss: 1.4213857567310335, discriminator loss: 0.4221326373815536\n",
      "Epoch 31, step 25500: Generator loss: 1.4204130234718308, discriminator loss: 0.42346375441551204\n",
      "Epoch 32, step 26000: Generator loss: 1.4156418063640592, discriminator loss: 0.42285066485404954\n",
      "Epoch 33, step 26500: Generator loss: 1.4213236300945284, discriminator loss: 0.4231223890185354\n",
      "Epoch 33, step 27000: Generator loss: 1.4246563212871541, discriminator loss: 0.4210031616687772\n",
      "Epoch 34, step 27500: Generator loss: 1.4116390635967253, discriminator loss: 0.4233369618654254\n",
      "Epoch 35, step 28000: Generator loss: 1.4196996645927442, discriminator loss: 0.4227846088409426\n",
      "Epoch 35, step 28500: Generator loss: 1.415895814895629, discriminator loss: 0.42214154291152933\n",
      "Epoch 36, step 29000: Generator loss: 1.4130734992027276, discriminator loss: 0.42391021120548233\n",
      "Epoch 36, step 29500: Generator loss: 1.424802117347717, discriminator loss: 0.41907936388254136\n",
      "Epoch 37, step 30000: Generator loss: 1.418479290008545, discriminator loss: 0.42067543709278127\n",
      "Epoch 38, step 30500: Generator loss: 1.4282568132877336, discriminator loss: 0.4215807318091394\n",
      "Epoch 38, step 31000: Generator loss: 1.419425122261047, discriminator loss: 0.42260544532537475\n",
      "Epoch 39, step 31500: Generator loss: 1.4187893838882457, discriminator loss: 0.42139394879341124\n",
      "Epoch 40, step 32000: Generator loss: 1.4206749863624577, discriminator loss: 0.4228340287804609\n",
      "Epoch 40, step 32500: Generator loss: 1.4224197170734398, discriminator loss: 0.42233768159151114\n",
      "Epoch 41, step 33000: Generator loss: 1.420484392642976, discriminator loss: 0.4213012496829029\n",
      "Epoch 41, step 33500: Generator loss: 1.4187382626533505, discriminator loss: 0.4205066781044001\n",
      "Epoch 42, step 34000: Generator loss: 1.418213423728942, discriminator loss: 0.4206500471234318\n",
      "Epoch 43, step 34500: Generator loss: 1.4201772716045369, discriminator loss: 0.4218185683488847\n",
      "Epoch 43, step 35000: Generator loss: 1.4207849647998798, discriminator loss: 0.42330853444337846\n",
      "Epoch 44, step 35500: Generator loss: 1.4279512555599227, discriminator loss: 0.41876661181449876\n",
      "Epoch 45, step 36000: Generator loss: 1.4115647425651578, discriminator loss: 0.42349842822551725\n",
      "Epoch 45, step 36500: Generator loss: 1.4192449200153356, discriminator loss: 0.42014702171087265\n",
      "Epoch 46, step 37000: Generator loss: 1.4198202850818635, discriminator loss: 0.42046063417196283\n",
      "Epoch 46, step 37500: Generator loss: 1.418271531820297, discriminator loss: 0.4225326045751573\n",
      "Epoch 47, step 38000: Generator loss: 1.4233508810997002, discriminator loss: 0.4218394470214842\n",
      "Epoch 48, step 38500: Generator loss: 1.4266394670009632, discriminator loss: 0.420660037279129\n",
      "Epoch 48, step 39000: Generator loss: 1.4222987034320813, discriminator loss: 0.42249538594484337\n",
      "Epoch 49, step 39500: Generator loss: 1.4155884792804707, discriminator loss: 0.4215276184678078\n",
      "Epoch 50, step 40000: Generator loss: 1.4112171235084527, discriminator loss: 0.422477115035057\n",
      "Epoch 50, step 40500: Generator loss: 1.4195107972621919, discriminator loss: 0.423286335468292\n",
      "Epoch 51, step 41000: Generator loss: 1.429996148347855, discriminator loss: 0.4198801280856138\n",
      "Epoch 51, step 41500: Generator loss: 1.4201973173618316, discriminator loss: 0.4203764320015908\n",
      "Epoch 52, step 42000: Generator loss: 1.4198959767818446, discriminator loss: 0.4220619396567338\n",
      "Epoch 53, step 42500: Generator loss: 1.4234955191612233, discriminator loss: 0.421975496888161\n",
      "Epoch 53, step 43000: Generator loss: 1.4180705468654642, discriminator loss: 0.4210017879605296\n",
      "Epoch 54, step 43500: Generator loss: 1.4216881651878357, discriminator loss: 0.4225926815867422\n",
      "Epoch 55, step 44000: Generator loss: 1.4149014344215396, discriminator loss: 0.42083075290918376\n",
      "Epoch 55, step 44500: Generator loss: 1.4240744016170508, discriminator loss: 0.42070942205190665\n",
      "Epoch 56, step 45000: Generator loss: 1.4239254150390623, discriminator loss: 0.4207139331698419\n",
      "Epoch 56, step 45500: Generator loss: 1.435041983842849, discriminator loss: 0.4189728525877\n",
      "Epoch 57, step 46000: Generator loss: 1.4249039525985703, discriminator loss: 0.42150047457218165\n",
      "Epoch 58, step 46500: Generator loss: 1.4262302918434144, discriminator loss: 0.4204916453361516\n",
      "Epoch 58, step 47000: Generator loss: 1.423751389741897, discriminator loss: 0.42083069741725965\n",
      "Epoch 59, step 47500: Generator loss: 1.4337445743083952, discriminator loss: 0.42000067263841634\n",
      "Epoch 60, step 48000: Generator loss: 1.4153074069023126, discriminator loss: 0.42423266160488127\n",
      "Epoch 60, step 48500: Generator loss: 1.411846776247025, discriminator loss: 0.42123303425312036\n",
      "Epoch 61, step 49000: Generator loss: 1.4290295519828768, discriminator loss: 0.42021997809410144\n",
      "Epoch 61, step 49500: Generator loss: 1.4166003892421715, discriminator loss: 0.4223768020868301\n",
      "Epoch 62, step 50000: Generator loss: 1.418467423677444, discriminator loss: 0.42136748558282866\n",
      "Epoch 63, step 50500: Generator loss: 1.4174244554042807, discriminator loss: 0.4205404971241953\n",
      "Epoch 63, step 51000: Generator loss: 1.4183923370838165, discriminator loss: 0.4199146887063976\n",
      "Epoch 64, step 51500: Generator loss: 1.4165070323944087, discriminator loss: 0.4248378754854202\n",
      "Epoch 65, step 52000: Generator loss: 1.4161750504970552, discriminator loss: 0.42068729180097586\n",
      "Epoch 65, step 52500: Generator loss: 1.4294218978881839, discriminator loss: 0.41945213466882736\n",
      "Epoch 66, step 53000: Generator loss: 1.4158033413887046, discriminator loss: 0.42419971424341174\n",
      "Epoch 66, step 53500: Generator loss: 1.424281637907027, discriminator loss: 0.4203746677041052\n",
      "Epoch 67, step 54000: Generator loss: 1.4343005018234245, discriminator loss: 0.42009605735540434\n",
      "Epoch 68, step 54500: Generator loss: 1.4218681068420405, discriminator loss: 0.4173853137493132\n",
      "Epoch 68, step 55000: Generator loss: 1.4279212350845338, discriminator loss: 0.4207737962603568\n",
      "Epoch 69, step 55500: Generator loss: 1.4196305320262925, discriminator loss: 0.422028889119625\n",
      "Epoch 70, step 56000: Generator loss: 1.4209885087013252, discriminator loss: 0.42208275806903844\n",
      "Epoch 70, step 56500: Generator loss: 1.4278013944625865, discriminator loss: 0.4195150788426399\n",
      "Epoch 71, step 57000: Generator loss: 1.4235051248073574, discriminator loss: 0.42101612538099276\n",
      "Epoch 71, step 57500: Generator loss: 1.435505998134612, discriminator loss: 0.4208129593729969\n",
      "Epoch 72, step 58000: Generator loss: 1.4253416399955754, discriminator loss: 0.419046327888966\n",
      "Epoch 73, step 58500: Generator loss: 1.4184944739341743, discriminator loss: 0.42278071194887157\n",
      "Epoch 73, step 59000: Generator loss: 1.4175888659954081, discriminator loss: 0.42249798840284314\n",
      "Epoch 74, step 59500: Generator loss: 1.4208050820827482, discriminator loss: 0.42189503425359787\n",
      "Epoch 75, step 60000: Generator loss: 1.4212954847812649, discriminator loss: 0.42114887028932557\n",
      "Epoch 75, step 60500: Generator loss: 1.4153465793132765, discriminator loss: 0.421079596340656\n",
      "Epoch 76, step 61000: Generator loss: 1.42628904414177, discriminator loss: 0.4207739691734317\n",
      "Epoch 76, step 61500: Generator loss: 1.4244082410335555, discriminator loss: 0.41941738253831884\n",
      "Epoch 77, step 62000: Generator loss: 1.4171520965099338, discriminator loss: 0.42236918640136767\n",
      "Epoch 78, step 62500: Generator loss: 1.4254185092449203, discriminator loss: 0.42067708539962795\n",
      "Epoch 78, step 63000: Generator loss: 1.4194062829017633, discriminator loss: 0.4209810386300085\n",
      "Epoch 79, step 63500: Generator loss: 1.4202756843566893, discriminator loss: 0.4231882970333101\n",
      "Epoch 80, step 64000: Generator loss: 1.422127606630327, discriminator loss: 0.4187181187272068\n",
      "Epoch 80, step 64500: Generator loss: 1.4198474640846264, discriminator loss: 0.42215661174058916\n",
      "Epoch 81, step 65000: Generator loss: 1.4227648425102237, discriminator loss: 0.42053928107023236\n",
      "Epoch 81, step 65500: Generator loss: 1.4291600821018215, discriminator loss: 0.4206340156793597\n",
      "Epoch 82, step 66000: Generator loss: 1.4217991447448715, discriminator loss: 0.42171628063917166\n",
      "Epoch 83, step 66500: Generator loss: 1.416066626787186, discriminator loss: 0.4208546946048735\n",
      "Epoch 83, step 67000: Generator loss: 1.4187760446071624, discriminator loss: 0.42348739528656004\n",
      "Epoch 84, step 67500: Generator loss: 1.4178701305389412, discriminator loss: 0.4216679285168652\n",
      "Epoch 85, step 68000: Generator loss: 1.4177418587207804, discriminator loss: 0.42137272602319736\n",
      "Epoch 85, step 68500: Generator loss: 1.4128731968402866, discriminator loss: 0.423315176308155\n",
      "Epoch 86, step 69000: Generator loss: 1.4171159946918497, discriminator loss: 0.42169261437654487\n",
      "Epoch 86, step 69500: Generator loss: 1.4200043380260468, discriminator loss: 0.4202600646018982\n",
      "Epoch 87, step 70000: Generator loss: 1.4275184922218327, discriminator loss: 0.42208936643600464\n",
      "Epoch 88, step 70500: Generator loss: 1.4283915596008299, discriminator loss: 0.4182974439859389\n",
      "Epoch 88, step 71000: Generator loss: 1.4313303301334384, discriminator loss: 0.42104882884025574\n",
      "Epoch 89, step 71500: Generator loss: 1.4210053479671472, discriminator loss: 0.41954142802953737\n",
      "Epoch 90, step 72000: Generator loss: 1.4252234582901004, discriminator loss: 0.4180136764049532\n",
      "Epoch 90, step 72500: Generator loss: 1.4233157706260677, discriminator loss: 0.4208953415751457\n",
      "Epoch 91, step 73000: Generator loss: 1.4292945370674124, discriminator loss: 0.4208116269707679\n",
      "Epoch 91, step 73500: Generator loss: 1.4224226853847506, discriminator loss: 0.4220032566785811\n",
      "Epoch 92, step 74000: Generator loss: 1.4293119115829445, discriminator loss: 0.42100103735923783\n",
      "Epoch 93, step 74500: Generator loss: 1.4204580323696154, discriminator loss: 0.42376653236150713\n",
      "Epoch 93, step 75000: Generator loss: 1.4180887298583975, discriminator loss: 0.4209052035212515\n",
      "Epoch 94, step 75500: Generator loss: 1.4254039235115037, discriminator loss: 0.4224445370435712\n",
      "Epoch 95, step 76000: Generator loss: 1.4154613938331602, discriminator loss: 0.42219038790464436\n",
      "Epoch 95, step 76500: Generator loss: 1.4239181475639315, discriminator loss: 0.4224278634786605\n",
      "Epoch 96, step 77000: Generator loss: 1.426444279909134, discriminator loss: 0.420385450422764\n",
      "Epoch 96, step 77500: Generator loss: 1.4174258143901812, discriminator loss: 0.42266267359256743\n",
      "Epoch 97, step 78000: Generator loss: 1.421667997598648, discriminator loss: 0.42146397763490684\n",
      "Epoch 98, step 78500: Generator loss: 1.4244628384113323, discriminator loss: 0.4186477422118189\n",
      "Epoch 98, step 79000: Generator loss: 1.4283468213081356, discriminator loss: 0.42046840709447847\n",
      "Epoch 99, step 79500: Generator loss: 1.421936774730682, discriminator loss: 0.4217682885527613\n",
      "Epoch 0, step 500: Generator loss: 1.426864434480668, discriminator loss: 0.4226455519795422\n",
      "Epoch 1, step 1000: Generator loss: 1.4274359414577478, discriminator loss: 0.418786592662334\n",
      "Epoch 1, step 1500: Generator loss: 1.4291218113899244, discriminator loss: 0.42025806957483275\n",
      "Epoch 2, step 2000: Generator loss: 1.4202786674499517, discriminator loss: 0.420631239593029\n",
      "Epoch 3, step 2500: Generator loss: 1.4185625760555265, discriminator loss: 0.42103197419643423\n",
      "Epoch 3, step 3000: Generator loss: 1.4152511017322535, discriminator loss: 0.4229825001955034\n",
      "Epoch 4, step 3500: Generator loss: 1.4168265097141275, discriminator loss: 0.42119539737701395\n",
      "Epoch 5, step 4000: Generator loss: 1.416541793584823, discriminator loss: 0.4237346337437627\n",
      "Epoch 5, step 4500: Generator loss: 1.4195086793899536, discriminator loss: 0.42289809954166396\n",
      "Epoch 6, step 5000: Generator loss: 1.4247461333274842, discriminator loss: 0.4194464058279995\n",
      "Epoch 6, step 5500: Generator loss: 1.418909417867662, discriminator loss: 0.42077534198760996\n",
      "Epoch 7, step 6000: Generator loss: 1.4224538583755506, discriminator loss: 0.4209907642006873\n",
      "Epoch 8, step 6500: Generator loss: 1.419103351354598, discriminator loss: 0.4214271196126935\n",
      "Epoch 8, step 7000: Generator loss: 1.4247324633598326, discriminator loss: 0.4190671597123149\n",
      "Epoch 9, step 7500: Generator loss: 1.423916886806488, discriminator loss: 0.4190868057608602\n",
      "Epoch 10, step 8000: Generator loss: 1.4192023310661313, discriminator loss: 0.4213528808355334\n",
      "Epoch 10, step 8500: Generator loss: 1.419989914417266, discriminator loss: 0.42156463938951466\n",
      "Epoch 11, step 9000: Generator loss: 1.420500859498979, discriminator loss: 0.4201180955767632\n",
      "Epoch 11, step 9500: Generator loss: 1.4156980850696559, discriminator loss: 0.42060881477594375\n",
      "Epoch 12, step 10000: Generator loss: 1.428501115083695, discriminator loss: 0.42152832275629015\n",
      "Epoch 13, step 10500: Generator loss: 1.4292183742523197, discriminator loss: 0.4222812095880509\n",
      "Epoch 13, step 11000: Generator loss: 1.4203985545635207, discriminator loss: 0.4239542198777198\n",
      "Epoch 14, step 11500: Generator loss: 1.428618846178055, discriminator loss: 0.4181344687938687\n",
      "Epoch 15, step 12000: Generator loss: 1.417072936058045, discriminator loss: 0.41994347667694093\n",
      "Epoch 15, step 12500: Generator loss: 1.4264977250099171, discriminator loss: 0.4211995058059691\n",
      "Epoch 16, step 13000: Generator loss: 1.4296337041854863, discriminator loss: 0.4188342318534849\n",
      "Epoch 16, step 13500: Generator loss: 1.4289352710247032, discriminator loss: 0.4211164802312851\n",
      "Epoch 17, step 14000: Generator loss: 1.4241528832912442, discriminator loss: 0.42071790283918375\n",
      "Epoch 18, step 14500: Generator loss: 1.4201334493160238, discriminator loss: 0.42084648728370716\n",
      "Epoch 18, step 15000: Generator loss: 1.421569744825363, discriminator loss: 0.42162918317318\n",
      "Epoch 19, step 15500: Generator loss: 1.4181381952762617, discriminator loss: 0.42069551157951335\n",
      "Epoch 20, step 16000: Generator loss: 1.4195718533992765, discriminator loss: 0.42029720729589437\n",
      "Epoch 20, step 16500: Generator loss: 1.4287875003814703, discriminator loss: 0.41898086297512044\n",
      "Epoch 21, step 17000: Generator loss: 1.4280045671463009, discriminator loss: 0.42178487551212285\n",
      "Epoch 21, step 17500: Generator loss: 1.4229341390132935, discriminator loss: 0.4204331611394881\n",
      "Epoch 22, step 18000: Generator loss: 1.4428056020736693, discriminator loss: 0.4162676612138743\n",
      "Epoch 23, step 18500: Generator loss: 1.4347874190807335, discriminator loss: 0.42043991905450806\n",
      "Epoch 23, step 19000: Generator loss: 1.4217526576519002, discriminator loss: 0.4215215360522271\n",
      "Epoch 24, step 19500: Generator loss: 1.4190608849525466, discriminator loss: 0.42228968268632877\n",
      "Epoch 25, step 20000: Generator loss: 1.4213570122718808, discriminator loss: 0.4190396402478219\n",
      "Epoch 25, step 20500: Generator loss: 1.4240995743274687, discriminator loss: 0.4215042291283607\n",
      "Epoch 26, step 21000: Generator loss: 1.4269454853534698, discriminator loss: 0.4193139559030532\n",
      "Epoch 26, step 21500: Generator loss: 1.418309463262558, discriminator loss: 0.42125235760211954\n",
      "Epoch 27, step 22000: Generator loss: 1.4264653456211103, discriminator loss: 0.419710453808308\n",
      "Epoch 28, step 22500: Generator loss: 1.4220566890239708, discriminator loss: 0.4212895710468296\n",
      "Epoch 28, step 23000: Generator loss: 1.4223739161491402, discriminator loss: 0.42200908595323533\n",
      "Epoch 29, step 23500: Generator loss: 1.4130339913368217, discriminator loss: 0.4230995587110517\n",
      "Epoch 30, step 24000: Generator loss: 1.4178089821338649, discriminator loss: 0.4212832368612288\n",
      "Epoch 30, step 24500: Generator loss: 1.4217888381481167, discriminator loss: 0.4219167473912242\n",
      "Epoch 31, step 25000: Generator loss: 1.4177029042243958, discriminator loss: 0.42305971592664693\n",
      "Epoch 31, step 25500: Generator loss: 1.4160092203617103, discriminator loss: 0.42033417558670044\n",
      "Epoch 32, step 26000: Generator loss: 1.4164458386898044, discriminator loss: 0.42091475188732147\n",
      "Epoch 33, step 26500: Generator loss: 1.4193941190242758, discriminator loss: 0.4219891858100892\n",
      "Epoch 33, step 27000: Generator loss: 1.4232239134311684, discriminator loss: 0.4217683440446856\n",
      "Epoch 34, step 27500: Generator loss: 1.4246322362422947, discriminator loss: 0.4174834225773808\n",
      "Epoch 35, step 28000: Generator loss: 1.4234556350707996, discriminator loss: 0.42090874493122116\n",
      "Epoch 35, step 28500: Generator loss: 1.4250479838848107, discriminator loss: 0.4214634056091311\n",
      "Epoch 36, step 29000: Generator loss: 1.4310378870964042, discriminator loss: 0.4192070853114127\n",
      "Epoch 36, step 29500: Generator loss: 1.42204245209694, discriminator loss: 0.4232140513062474\n",
      "Epoch 37, step 30000: Generator loss: 1.4219046673774713, discriminator loss: 0.4197947256565093\n",
      "Epoch 38, step 30500: Generator loss: 1.426854454278945, discriminator loss: 0.421656456887722\n",
      "Epoch 38, step 31000: Generator loss: 1.4213547995090468, discriminator loss: 0.4219020277857781\n",
      "Epoch 39, step 31500: Generator loss: 1.4211281988620756, discriminator loss: 0.4184387984871871\n",
      "Epoch 40, step 32000: Generator loss: 1.423970667123795, discriminator loss: 0.4214253010749814\n",
      "Epoch 40, step 32500: Generator loss: 1.4234494605064396, discriminator loss: 0.42190051674842793\n",
      "Epoch 41, step 33000: Generator loss: 1.4297027771472925, discriminator loss: 0.41948789054155333\n",
      "Epoch 41, step 33500: Generator loss: 1.4193461685180657, discriminator loss: 0.42153295147418945\n",
      "Epoch 42, step 34000: Generator loss: 1.4143075449466709, discriminator loss: 0.42167379653453824\n",
      "Epoch 43, step 34500: Generator loss: 1.4165127186775204, discriminator loss: 0.4200054667592045\n",
      "Epoch 43, step 35000: Generator loss: 1.4269773933887473, discriminator loss: 0.42113712954521204\n",
      "Epoch 44, step 35500: Generator loss: 1.4205784602165221, discriminator loss: 0.41971212881803543\n",
      "Epoch 45, step 36000: Generator loss: 1.422447069168094, discriminator loss: 0.42187665754556636\n",
      "Epoch 45, step 36500: Generator loss: 1.4280072445869456, discriminator loss: 0.4202001866698264\n",
      "Epoch 46, step 37000: Generator loss: 1.4245127322673807, discriminator loss: 0.41987269705533975\n",
      "Epoch 46, step 37500: Generator loss: 1.4298861260414126, discriminator loss: 0.42053314077854165\n",
      "Epoch 47, step 38000: Generator loss: 1.4301007258892058, discriminator loss: 0.4210014571547509\n",
      "Epoch 48, step 38500: Generator loss: 1.4199751675128942, discriminator loss: 0.4208289613127704\n",
      "Epoch 48, step 39000: Generator loss: 1.424397393226623, discriminator loss: 0.42148206174373654\n",
      "Epoch 49, step 39500: Generator loss: 1.4211144042015058, discriminator loss: 0.42154289400577577\n",
      "Epoch 50, step 40000: Generator loss: 1.4208659248352067, discriminator loss: 0.42276269000768635\n",
      "Epoch 50, step 40500: Generator loss: 1.42049920153618, discriminator loss: 0.42134193301200834\n",
      "Epoch 51, step 41000: Generator loss: 1.4226607820987704, discriminator loss: 0.41946649867296276\n",
      "Epoch 51, step 41500: Generator loss: 1.4283342614173908, discriminator loss: 0.41884464341402017\n",
      "Epoch 52, step 42000: Generator loss: 1.4148642470836643, discriminator loss: 0.4244461159706116\n",
      "Epoch 53, step 42500: Generator loss: 1.4314548642635345, discriminator loss: 0.41899937927722974\n",
      "Epoch 53, step 43000: Generator loss: 1.4273446733951558, discriminator loss: 0.4228311830759042\n",
      "Epoch 54, step 43500: Generator loss: 1.4184945771694186, discriminator loss: 0.42193753874301926\n",
      "Epoch 55, step 44000: Generator loss: 1.4220755124092106, discriminator loss: 0.42057472330331797\n",
      "Epoch 55, step 44500: Generator loss: 1.4192955243587484, discriminator loss: 0.4227264068126681\n",
      "Epoch 56, step 45000: Generator loss: 1.4179641449451448, discriminator loss: 0.422429933726787\n",
      "Epoch 56, step 45500: Generator loss: 1.4083163580894476, discriminator loss: 0.42207840275764497\n",
      "Epoch 57, step 46000: Generator loss: 1.4197107839584355, discriminator loss: 0.4200066619515422\n",
      "Epoch 58, step 46500: Generator loss: 1.413870934724808, discriminator loss: 0.421453308522701\n",
      "Epoch 58, step 47000: Generator loss: 1.4177990367412572, discriminator loss: 0.42095870351791387\n",
      "Epoch 59, step 47500: Generator loss: 1.4159616134166715, discriminator loss: 0.4218252329230311\n",
      "Epoch 60, step 48000: Generator loss: 1.4200945513248444, discriminator loss: 0.42211203175783146\n",
      "Epoch 60, step 48500: Generator loss: 1.4192520091533667, discriminator loss: 0.42222521448135364\n",
      "Epoch 61, step 49000: Generator loss: 1.4171668486595177, discriminator loss: 0.42091681909561107\n",
      "Epoch 61, step 49500: Generator loss: 1.4186384429931653, discriminator loss: 0.4228077533841136\n",
      "Epoch 62, step 50000: Generator loss: 1.4181042456626884, discriminator loss: 0.4218840441107746\n",
      "Epoch 63, step 50500: Generator loss: 1.4182005848884578, discriminator loss: 0.42101218807697316\n",
      "Epoch 63, step 51000: Generator loss: 1.4072926743030547, discriminator loss: 0.4261164843440052\n",
      "Epoch 64, step 51500: Generator loss: 1.42209048485756, discriminator loss: 0.42030312609672527\n",
      "Epoch 65, step 52000: Generator loss: 1.4199272725582137, discriminator loss: 0.42085796391963975\n",
      "Epoch 65, step 52500: Generator loss: 1.4193284893035898, discriminator loss: 0.41986240679025644\n",
      "Epoch 66, step 53000: Generator loss: 1.4216296555995944, discriminator loss: 0.4218064244985583\n",
      "Epoch 66, step 53500: Generator loss: 1.415084992885591, discriminator loss: 0.4225028402805328\n",
      "Epoch 67, step 54000: Generator loss: 1.420421215295793, discriminator loss: 0.42090909838676466\n",
      "Epoch 68, step 54500: Generator loss: 1.4246523149013515, discriminator loss: 0.4213790252208715\n",
      "Epoch 68, step 55000: Generator loss: 1.4209447350502016, discriminator loss: 0.42174590033292836\n",
      "Epoch 69, step 55500: Generator loss: 1.4213639452457434, discriminator loss: 0.4222092335820197\n",
      "Epoch 70, step 56000: Generator loss: 1.417925251007079, discriminator loss: 0.4225334798097608\n",
      "Epoch 70, step 56500: Generator loss: 1.4201051049232492, discriminator loss: 0.4219352697730065\n",
      "Epoch 71, step 57000: Generator loss: 1.4170507686138176, discriminator loss: 0.4216348785161977\n",
      "Epoch 71, step 57500: Generator loss: 1.4271057093143464, discriminator loss: 0.4209238829016684\n",
      "Epoch 72, step 58000: Generator loss: 1.4064903526306158, discriminator loss: 0.4228316494822502\n",
      "Epoch 73, step 58500: Generator loss: 1.4257921173572528, discriminator loss: 0.41851563853025453\n",
      "Epoch 73, step 59000: Generator loss: 1.424067125320434, discriminator loss: 0.42033034080266934\n",
      "Epoch 74, step 59500: Generator loss: 1.4232039177417748, discriminator loss: 0.4213232793807979\n",
      "Epoch 75, step 60000: Generator loss: 1.4194846334457387, discriminator loss: 0.42184690481424353\n",
      "Epoch 75, step 60500: Generator loss: 1.4254515023231502, discriminator loss: 0.4204100474119185\n",
      "Epoch 76, step 61000: Generator loss: 1.4174663622379327, discriminator loss: 0.42335069000720965\n",
      "Epoch 76, step 61500: Generator loss: 1.4248331594467172, discriminator loss: 0.4198179334998132\n",
      "Epoch 77, step 62000: Generator loss: 1.4296275997161874, discriminator loss: 0.42201141655445085\n",
      "Epoch 78, step 62500: Generator loss: 1.4218255567550664, discriminator loss: 0.4211297451257705\n",
      "Epoch 78, step 63000: Generator loss: 1.4138369843959804, discriminator loss: 0.42423706841468783\n",
      "Epoch 79, step 63500: Generator loss: 1.4201833791732785, discriminator loss: 0.42056856530904774\n",
      "Epoch 80, step 64000: Generator loss: 1.4161116092205033, discriminator loss: 0.42060088580846766\n",
      "Epoch 80, step 64500: Generator loss: 1.4221619579792038, discriminator loss: 0.41994453042745616\n",
      "Epoch 81, step 65000: Generator loss: 1.4195605754852283, discriminator loss: 0.42080137592554095\n",
      "Epoch 81, step 65500: Generator loss: 1.4209278359413142, discriminator loss: 0.42185991770029085\n",
      "Epoch 82, step 66000: Generator loss: 1.4266100449562056, discriminator loss: 0.41975003284215917\n",
      "Epoch 83, step 66500: Generator loss: 1.4162723479270933, discriminator loss: 0.42266695839166657\n",
      "Epoch 83, step 67000: Generator loss: 1.4195097672939314, discriminator loss: 0.42149486398696934\n",
      "Epoch 84, step 67500: Generator loss: 1.4180762369632718, discriminator loss: 0.4230732099413871\n",
      "Epoch 85, step 68000: Generator loss: 1.422907919406892, discriminator loss: 0.4200190160274505\n",
      "Epoch 85, step 68500: Generator loss: 1.4193232083320622, discriminator loss: 0.4208886408805842\n",
      "Epoch 86, step 69000: Generator loss: 1.421484703302383, discriminator loss: 0.42084093153476737\n",
      "Epoch 86, step 69500: Generator loss: 1.423447472810746, discriminator loss: 0.42245283585786786\n",
      "Epoch 87, step 70000: Generator loss: 1.4215284211635602, discriminator loss: 0.4214558547139171\n",
      "Epoch 88, step 70500: Generator loss: 1.4318268961906448, discriminator loss: 0.4192778650522231\n",
      "Epoch 88, step 71000: Generator loss: 1.4191799256801616, discriminator loss: 0.42212214380502694\n",
      "Epoch 89, step 71500: Generator loss: 1.4271270611286166, discriminator loss: 0.41815838599204963\n",
      "Epoch 90, step 72000: Generator loss: 1.421257614374161, discriminator loss: 0.4211637455821038\n",
      "Epoch 90, step 72500: Generator loss: 1.421558548450469, discriminator loss: 0.42201180380582776\n",
      "Epoch 91, step 73000: Generator loss: 1.4182586424350736, discriminator loss: 0.4224510964751246\n",
      "Epoch 91, step 73500: Generator loss: 1.431800076961516, discriminator loss: 0.41730386608838993\n",
      "Epoch 92, step 74000: Generator loss: 1.4227111661434162, discriminator loss: 0.4215517560243608\n",
      "Epoch 93, step 74500: Generator loss: 1.4228245761394496, discriminator loss: 0.42224837934970866\n",
      "Epoch 93, step 75000: Generator loss: 1.4309392762184137, discriminator loss: 0.41961477655172336\n",
      "Epoch 94, step 75500: Generator loss: 1.4248382830619815, discriminator loss: 0.4185985721349713\n",
      "Epoch 95, step 76000: Generator loss: 1.4272511775493626, discriminator loss: 0.42105004072189317\n",
      "Epoch 95, step 76500: Generator loss: 1.4257708201408386, discriminator loss: 0.4211346196532253\n",
      "Epoch 96, step 77000: Generator loss: 1.42445703125, discriminator loss: 0.4211082090735432\n",
      "Epoch 96, step 77500: Generator loss: 1.4208638460636127, discriminator loss: 0.4201759424805644\n",
      "Epoch 97, step 78000: Generator loss: 1.4198132407665256, discriminator loss: 0.42134569913148884\n",
      "Epoch 98, step 78500: Generator loss: 1.4274597520828236, discriminator loss: 0.41966810506582247\n",
      "Epoch 98, step 79000: Generator loss: 1.4254764358997347, discriminator loss: 0.4208885214924811\n",
      "Epoch 99, step 79500: Generator loss: 1.4210954596996304, discriminator loss: 0.4199920871257779\n",
      "Epoch 0, step 500: Generator loss: 1.4279640648365015, discriminator loss: 0.4180036284327508\n",
      "Epoch 1, step 1000: Generator loss: 1.4221186201572404, discriminator loss: 0.42248755925893766\n",
      "Epoch 1, step 1500: Generator loss: 1.421262910842896, discriminator loss: 0.42258350884914453\n",
      "Epoch 2, step 2000: Generator loss: 1.4241856150627143, discriminator loss: 0.4202256446480752\n",
      "Epoch 3, step 2500: Generator loss: 1.4323062582015986, discriminator loss: 0.4181395148038868\n",
      "Epoch 3, step 3000: Generator loss: 1.4271053118705752, discriminator loss: 0.4218789169788361\n",
      "Epoch 4, step 3500: Generator loss: 1.4257507755756385, discriminator loss: 0.4212301986217495\n",
      "Epoch 5, step 4000: Generator loss: 1.4242096672058107, discriminator loss: 0.421174661159515\n",
      "Epoch 5, step 4500: Generator loss: 1.4243138632774344, discriminator loss: 0.4193077304959297\n",
      "Epoch 6, step 5000: Generator loss: 1.4299339613914472, discriminator loss: 0.41962177997827577\n",
      "Epoch 6, step 5500: Generator loss: 1.4209786357879635, discriminator loss: 0.4213390157818791\n",
      "Epoch 7, step 6000: Generator loss: 1.4226440174579604, discriminator loss: 0.4208449312448501\n",
      "Epoch 8, step 6500: Generator loss: 1.4253050875663738, discriminator loss: 0.41922926497459395\n",
      "Epoch 8, step 7000: Generator loss: 1.4235105507373813, discriminator loss: 0.42228857165575007\n",
      "Epoch 9, step 7500: Generator loss: 1.4240396344661728, discriminator loss: 0.4206323854327203\n",
      "Epoch 10, step 8000: Generator loss: 1.4253358945846561, discriminator loss: 0.4227825238108634\n",
      "Epoch 10, step 8500: Generator loss: 1.424761187791826, discriminator loss: 0.42049511116743116\n",
      "Epoch 11, step 9000: Generator loss: 1.4205499262809762, discriminator loss: 0.42196858388185493\n",
      "Epoch 11, step 9500: Generator loss: 1.4293021552562715, discriminator loss: 0.41929116255044896\n",
      "Epoch 12, step 10000: Generator loss: 1.4260167293548587, discriminator loss: 0.4203070279359819\n",
      "Epoch 13, step 10500: Generator loss: 1.4304590764045721, discriminator loss: 0.41924641793966266\n",
      "Epoch 13, step 11000: Generator loss: 1.4181926600933064, discriminator loss: 0.4209531517028807\n",
      "Epoch 14, step 11500: Generator loss: 1.4322541885375981, discriminator loss: 0.4201334827542307\n",
      "Epoch 15, step 12000: Generator loss: 1.4300546488761914, discriminator loss: 0.42041982513666154\n",
      "Epoch 15, step 12500: Generator loss: 1.4294050362110138, discriminator loss: 0.419480960726738\n",
      "Epoch 16, step 13000: Generator loss: 1.4424313535690303, discriminator loss: 0.41910812807083125\n",
      "Epoch 16, step 13500: Generator loss: 1.4327699854373934, discriminator loss: 0.41923467630147937\n",
      "Epoch 17, step 14000: Generator loss: 1.4281697542667382, discriminator loss: 0.41851377910375637\n",
      "Epoch 18, step 14500: Generator loss: 1.4256437370777137, discriminator loss: 0.4208266647458075\n",
      "Epoch 18, step 15000: Generator loss: 1.430014490365983, discriminator loss: 0.42113250529766133\n",
      "Epoch 19, step 15500: Generator loss: 1.4316657104492196, discriminator loss: 0.4200752876400947\n",
      "Epoch 20, step 16000: Generator loss: 1.433309810638426, discriminator loss: 0.41969996118545544\n",
      "Epoch 20, step 16500: Generator loss: 1.4232311182022088, discriminator loss: 0.4189697139859201\n",
      "Epoch 21, step 17000: Generator loss: 1.4262547476291658, discriminator loss: 0.41941759639978454\n",
      "Epoch 21, step 17500: Generator loss: 1.4305370869636531, discriminator loss: 0.41844657373428346\n",
      "Epoch 22, step 18000: Generator loss: 1.4332876148223885, discriminator loss: 0.41949532467126865\n",
      "Epoch 23, step 18500: Generator loss: 1.4256810419559498, discriminator loss: 0.41936156630516025\n",
      "Epoch 23, step 19000: Generator loss: 1.4310882799625393, discriminator loss: 0.4183016039133077\n",
      "Epoch 24, step 19500: Generator loss: 1.420706466197968, discriminator loss: 0.4205154215097427\n",
      "Epoch 25, step 20000: Generator loss: 1.4290060663223267, discriminator loss: 0.4197040100693704\n",
      "Epoch 25, step 20500: Generator loss: 1.4295671529769893, discriminator loss: 0.41931740558147423\n",
      "Epoch 26, step 21000: Generator loss: 1.4291467373371132, discriminator loss: 0.4182137224078178\n",
      "Epoch 26, step 21500: Generator loss: 1.4376696169376397, discriminator loss: 0.4162673400640488\n",
      "Epoch 27, step 22000: Generator loss: 1.4262324054241171, discriminator loss: 0.41996880918741203\n",
      "Epoch 28, step 22500: Generator loss: 1.4397245805263523, discriminator loss: 0.41846320575475654\n",
      "Epoch 28, step 23000: Generator loss: 1.4317613465786, discriminator loss: 0.41889567184448195\n",
      "Epoch 29, step 23500: Generator loss: 1.4403094625473019, discriminator loss: 0.41739248061180106\n",
      "Epoch 30, step 24000: Generator loss: 1.4322962958812706, discriminator loss: 0.4200599434375764\n",
      "Epoch 30, step 24500: Generator loss: 1.4304873454570761, discriminator loss: 0.4173319444656373\n",
      "Epoch 31, step 25000: Generator loss: 1.427750949382782, discriminator loss: 0.42067528039216995\n",
      "Epoch 31, step 25500: Generator loss: 1.4283594291210175, discriminator loss: 0.4197757661342625\n",
      "Epoch 32, step 26000: Generator loss: 1.4254335830211637, discriminator loss: 0.4210944226980208\n",
      "Epoch 33, step 26500: Generator loss: 1.4312329630851746, discriminator loss: 0.41878074389696085\n",
      "Epoch 33, step 27000: Generator loss: 1.4191780214309702, discriminator loss: 0.42188836348056846\n",
      "Epoch 34, step 27500: Generator loss: 1.4327636141777014, discriminator loss: 0.4191712691187857\n",
      "Epoch 35, step 28000: Generator loss: 1.4305280897617347, discriminator loss: 0.4182740451097487\n",
      "Epoch 35, step 28500: Generator loss: 1.4271794321537021, discriminator loss: 0.4192624535560613\n",
      "Epoch 36, step 29000: Generator loss: 1.4342442884445188, discriminator loss: 0.4213238074183465\n",
      "Epoch 36, step 29500: Generator loss: 1.4289616553783413, discriminator loss: 0.4212977867722514\n",
      "Epoch 37, step 30000: Generator loss: 1.4279930174350743, discriminator loss: 0.4186659323573117\n",
      "Epoch 38, step 30500: Generator loss: 1.4276883442401884, discriminator loss: 0.42000696337223065\n",
      "Epoch 38, step 31000: Generator loss: 1.4290763533115391, discriminator loss: 0.417602292597294\n",
      "Epoch 39, step 31500: Generator loss: 1.4287653329372416, discriminator loss: 0.41879656261205656\n",
      "Epoch 40, step 32000: Generator loss: 1.4324424846172317, discriminator loss: 0.4207053750157357\n",
      "Epoch 40, step 32500: Generator loss: 1.4313759882450094, discriminator loss: 0.41937806719541537\n",
      "Epoch 41, step 33000: Generator loss: 1.4336782722473147, discriminator loss: 0.41981665354967157\n",
      "Epoch 41, step 33500: Generator loss: 1.4271872885227206, discriminator loss: 0.4189382950663566\n",
      "Epoch 42, step 34000: Generator loss: 1.4292503306865683, discriminator loss: 0.419869858264923\n",
      "Epoch 43, step 34500: Generator loss: 1.4248488392829906, discriminator loss: 0.4190975682139395\n",
      "Epoch 43, step 35000: Generator loss: 1.4327500793933865, discriminator loss: 0.4203677231669423\n",
      "Epoch 44, step 35500: Generator loss: 1.429654312610626, discriminator loss: 0.4205705614686012\n",
      "Epoch 45, step 36000: Generator loss: 1.4315987200737001, discriminator loss: 0.41989817726612083\n",
      "Epoch 45, step 36500: Generator loss: 1.42699494433403, discriminator loss: 0.41822182315588013\n",
      "Epoch 46, step 37000: Generator loss: 1.4234203138351451, discriminator loss: 0.4208780435323718\n",
      "Epoch 46, step 37500: Generator loss: 1.4281982345581052, discriminator loss: 0.41803095263242745\n",
      "Epoch 47, step 38000: Generator loss: 1.4349041368961333, discriminator loss: 0.41690760135650634\n",
      "Epoch 48, step 38500: Generator loss: 1.4380618309974664, discriminator loss: 0.4196444635987281\n",
      "Epoch 48, step 39000: Generator loss: 1.4338798232078551, discriminator loss: 0.4199954646825789\n",
      "Epoch 49, step 39500: Generator loss: 1.4317495362758637, discriminator loss: 0.41977596479654294\n",
      "Epoch 50, step 40000: Generator loss: 1.4339522397518172, discriminator loss: 0.4189809743165973\n",
      "Epoch 50, step 40500: Generator loss: 1.4354708771705635, discriminator loss: 0.420397772014141\n",
      "Epoch 51, step 41000: Generator loss: 1.4298009514808654, discriminator loss: 0.4200231566429136\n",
      "Epoch 51, step 41500: Generator loss: 1.4356214175224307, discriminator loss: 0.4185457612276078\n",
      "Epoch 52, step 42000: Generator loss: 1.4333564267158518, discriminator loss: 0.4194275077581404\n",
      "Epoch 53, step 42500: Generator loss: 1.431249575853348, discriminator loss: 0.4207660230994227\n",
      "Epoch 53, step 43000: Generator loss: 1.4335644717216487, discriminator loss: 0.41791094917058985\n",
      "Epoch 54, step 43500: Generator loss: 1.4315203866958623, discriminator loss: 0.4187332666516305\n",
      "Epoch 55, step 44000: Generator loss: 1.4383703896999367, discriminator loss: 0.4176271837949747\n",
      "Epoch 55, step 44500: Generator loss: 1.430753024339677, discriminator loss: 0.4193954469561575\n",
      "Epoch 56, step 45000: Generator loss: 1.4329803166389465, discriminator loss: 0.41788918858766494\n",
      "Epoch 56, step 45500: Generator loss: 1.4261934707164767, discriminator loss: 0.4188800736069677\n",
      "Epoch 57, step 46000: Generator loss: 1.433228985071181, discriminator loss: 0.4180462744235988\n",
      "Epoch 58, step 46500: Generator loss: 1.4244852664470682, discriminator loss: 0.419818837165833\n",
      "Epoch 58, step 47000: Generator loss: 1.4328945360183722, discriminator loss: 0.41944274854660046\n",
      "Epoch 59, step 47500: Generator loss: 1.4417395825386041, discriminator loss: 0.4173252522945407\n",
      "Epoch 60, step 48000: Generator loss: 1.435896163463592, discriminator loss: 0.4197566921114919\n",
      "Epoch 60, step 48500: Generator loss: 1.4326578617095933, discriminator loss: 0.4185746073126792\n",
      "Epoch 61, step 49000: Generator loss: 1.4299515800476077, discriminator loss: 0.420143813252449\n",
      "Epoch 61, step 49500: Generator loss: 1.431226231813432, discriminator loss: 0.417682738006115\n",
      "Epoch 62, step 50000: Generator loss: 1.4353344633579257, discriminator loss: 0.4209283248186112\n",
      "Epoch 63, step 50500: Generator loss: 1.4380080275535603, discriminator loss: 0.4187635875940325\n",
      "Epoch 63, step 51000: Generator loss: 1.4245184152126307, discriminator loss: 0.42088363295793463\n",
      "Epoch 64, step 51500: Generator loss: 1.4352988879680653, discriminator loss: 0.4177181416749952\n",
      "Epoch 65, step 52000: Generator loss: 1.432522460937499, discriminator loss: 0.4199480496048927\n",
      "Epoch 65, step 52500: Generator loss: 1.4324511632919308, discriminator loss: 0.4177326972484591\n",
      "Epoch 66, step 53000: Generator loss: 1.4303651731014242, discriminator loss: 0.4208194758296012\n",
      "Epoch 66, step 53500: Generator loss: 1.4329559974670405, discriminator loss: 0.41996465283632306\n",
      "Epoch 67, step 54000: Generator loss: 1.4303685770034789, discriminator loss: 0.42121488583087907\n",
      "Epoch 68, step 54500: Generator loss: 1.4311567800045026, discriminator loss: 0.41959393107891085\n",
      "Epoch 68, step 55000: Generator loss: 1.435222578525542, discriminator loss: 0.41954721289873126\n",
      "Epoch 69, step 55500: Generator loss: 1.4294391372203812, discriminator loss: 0.41971179705858275\n",
      "Epoch 70, step 56000: Generator loss: 1.4316569705009443, discriminator loss: 0.41862468707561495\n",
      "Epoch 70, step 56500: Generator loss: 1.4364058716297143, discriminator loss: 0.41961144196987143\n",
      "Epoch 71, step 57000: Generator loss: 1.4268686261177055, discriminator loss: 0.42024030691385283\n",
      "Epoch 71, step 57500: Generator loss: 1.4276462361812603, discriminator loss: 0.419052631735802\n",
      "Epoch 72, step 58000: Generator loss: 1.437097308397292, discriminator loss: 0.41813114428520204\n",
      "Epoch 73, step 58500: Generator loss: 1.433842199325561, discriminator loss: 0.41880683189630474\n",
      "Epoch 73, step 59000: Generator loss: 1.4257713310718523, discriminator loss: 0.42075403231382397\n",
      "Epoch 74, step 59500: Generator loss: 1.4341845643520346, discriminator loss: 0.42081471920013397\n",
      "Epoch 75, step 60000: Generator loss: 1.4362399675846098, discriminator loss: 0.4190521861314775\n",
      "Epoch 75, step 60500: Generator loss: 1.4279562540054327, discriminator loss: 0.4197522721886631\n",
      "Epoch 76, step 61000: Generator loss: 1.4273504385948192, discriminator loss: 0.42126587271690386\n",
      "Epoch 76, step 61500: Generator loss: 1.4330894861221313, discriminator loss: 0.4193750646710401\n",
      "Epoch 77, step 62000: Generator loss: 1.4309081158638008, discriminator loss: 0.42097407668829\n",
      "Epoch 78, step 62500: Generator loss: 1.4317404427528397, discriminator loss: 0.41999082225561174\n",
      "Epoch 78, step 63000: Generator loss: 1.4291416480541228, discriminator loss: 0.42137248319387416\n",
      "Epoch 79, step 63500: Generator loss: 1.4282169322967553, discriminator loss: 0.41914395976066626\n",
      "Epoch 80, step 64000: Generator loss: 1.431418970346449, discriminator loss: 0.42113494545221325\n",
      "Epoch 80, step 64500: Generator loss: 1.4251711635589595, discriminator loss: 0.41984873861074434\n",
      "Epoch 81, step 65000: Generator loss: 1.4244603712558745, discriminator loss: 0.4206743801832199\n",
      "Epoch 81, step 65500: Generator loss: 1.42359354519844, discriminator loss: 0.42042545217275634\n",
      "Epoch 82, step 66000: Generator loss: 1.432403757333756, discriminator loss: 0.4192097586393358\n",
      "Epoch 83, step 66500: Generator loss: 1.4304461991786945, discriminator loss: 0.4205518790483475\n",
      "Epoch 83, step 67000: Generator loss: 1.4307936286926275, discriminator loss: 0.4224838024973869\n",
      "Epoch 84, step 67500: Generator loss: 1.4324670622348772, discriminator loss: 0.41818221157789226\n",
      "Epoch 85, step 68000: Generator loss: 1.4290228374004357, discriminator loss: 0.42011099374294275\n",
      "Epoch 85, step 68500: Generator loss: 1.4277330734729763, discriminator loss: 0.42137162458896654\n",
      "Epoch 86, step 69000: Generator loss: 1.4308466989994055, discriminator loss: 0.4187579115033151\n",
      "Epoch 86, step 69500: Generator loss: 1.4321025497913367, discriminator loss: 0.41897415602207194\n",
      "Epoch 87, step 70000: Generator loss: 1.438192927122115, discriminator loss: 0.4186050445437429\n",
      "Epoch 88, step 70500: Generator loss: 1.427018090724944, discriminator loss: 0.4197919705510144\n",
      "Epoch 88, step 71000: Generator loss: 1.4370420141220108, discriminator loss: 0.4200997330546381\n",
      "Epoch 89, step 71500: Generator loss: 1.4329617090225237, discriminator loss: 0.41801564985513695\n",
      "Epoch 90, step 72000: Generator loss: 1.4258631935119652, discriminator loss: 0.4206980563402175\n",
      "Epoch 90, step 72500: Generator loss: 1.4321723847389223, discriminator loss: 0.4185292195677757\n",
      "Epoch 91, step 73000: Generator loss: 1.4246055479049693, discriminator loss: 0.42233932888507847\n",
      "Epoch 91, step 73500: Generator loss: 1.4315894544124612, discriminator loss: 0.42247026097774526\n",
      "Epoch 92, step 74000: Generator loss: 1.4285480825901038, discriminator loss: 0.4202535955905914\n",
      "Epoch 93, step 74500: Generator loss: 1.4290255551338187, discriminator loss: 0.4207907108664512\n",
      "Epoch 93, step 75000: Generator loss: 1.4273173091411595, discriminator loss: 0.4203512600660325\n",
      "Epoch 94, step 75500: Generator loss: 1.4285555102825143, discriminator loss: 0.41887034952640567\n",
      "Epoch 95, step 76000: Generator loss: 1.4268460838794699, discriminator loss: 0.4201347538232806\n",
      "Epoch 95, step 76500: Generator loss: 1.4280471372604375, discriminator loss: 0.41980214852094644\n",
      "Epoch 96, step 77000: Generator loss: 1.4367365002632146, discriminator loss: 0.4203501465916637\n",
      "Epoch 96, step 77500: Generator loss: 1.4244239573478696, discriminator loss: 0.41978167372941944\n",
      "Epoch 97, step 78000: Generator loss: 1.4238276386260977, discriminator loss: 0.4217205892801281\n",
      "Epoch 98, step 78500: Generator loss: 1.4290229277610766, discriminator loss: 0.4200378822684287\n",
      "Epoch 98, step 79000: Generator loss: 1.4295843975543978, discriminator loss: 0.42185306209325796\n",
      "Epoch 99, step 79500: Generator loss: 1.4288119473457326, discriminator loss: 0.4189916918873791\n",
      "Epoch 0, step 500: Generator loss: 1.4253747010231008, discriminator loss: 0.42128136175870873\n",
      "Epoch 1, step 1000: Generator loss: 1.4300278737545022, discriminator loss: 0.4196020379066467\n",
      "Epoch 1, step 1500: Generator loss: 1.4309977238178255, discriminator loss: 0.41778455436229706\n",
      "Epoch 2, step 2000: Generator loss: 1.4257686579227458, discriminator loss: 0.41912232190370535\n",
      "Epoch 3, step 2500: Generator loss: 1.4249173588752748, discriminator loss: 0.42072485959529843\n",
      "Epoch 3, step 3000: Generator loss: 1.4306991937160496, discriminator loss: 0.4208195401430133\n",
      "Epoch 4, step 3500: Generator loss: 1.421617092370988, discriminator loss: 0.4216353994011878\n",
      "Epoch 5, step 4000: Generator loss: 1.4258605782985678, discriminator loss: 0.4188935428857805\n",
      "Epoch 5, step 4500: Generator loss: 1.4293331086635592, discriminator loss: 0.4204040858745572\n",
      "Epoch 6, step 5000: Generator loss: 1.4243444089889523, discriminator loss: 0.4219110302329061\n",
      "Epoch 6, step 5500: Generator loss: 1.4303935277462008, discriminator loss: 0.41937903869152077\n",
      "Epoch 7, step 6000: Generator loss: 1.4272639474868765, discriminator loss: 0.41819346040487276\n",
      "Epoch 8, step 6500: Generator loss: 1.4232270059585586, discriminator loss: 0.4194216217398639\n",
      "Epoch 8, step 7000: Generator loss: 1.430883332014083, discriminator loss: 0.42173881721496614\n",
      "Epoch 9, step 7500: Generator loss: 1.4299035742282875, discriminator loss: 0.4183765174746512\n",
      "Epoch 10, step 8000: Generator loss: 1.421274456262588, discriminator loss: 0.4180101804137228\n",
      "Epoch 10, step 8500: Generator loss: 1.433412352561952, discriminator loss: 0.4203174011111263\n",
      "Epoch 11, step 9000: Generator loss: 1.4314975442886364, discriminator loss: 0.4192864648699763\n",
      "Epoch 11, step 9500: Generator loss: 1.4257880966663365, discriminator loss: 0.41902856838703156\n",
      "Epoch 12, step 10000: Generator loss: 1.428191851854324, discriminator loss: 0.4191282005906107\n",
      "Epoch 13, step 10500: Generator loss: 1.4331850960254657, discriminator loss: 0.420041895389557\n",
      "Epoch 13, step 11000: Generator loss: 1.4350530056953443, discriminator loss: 0.417657770335674\n",
      "Epoch 14, step 11500: Generator loss: 1.4290830571651472, discriminator loss: 0.41878207659721334\n",
      "Epoch 15, step 12000: Generator loss: 1.434130349636077, discriminator loss: 0.41929863208532314\n",
      "Epoch 15, step 12500: Generator loss: 1.4310298383235938, discriminator loss: 0.4201053586006163\n",
      "Epoch 16, step 13000: Generator loss: 1.4349288568496699, discriminator loss: 0.4195456985235214\n",
      "Epoch 16, step 13500: Generator loss: 1.4330107722282412, discriminator loss: 0.41858789092302345\n",
      "Epoch 17, step 14000: Generator loss: 1.4274072971344007, discriminator loss: 0.42090700316429125\n",
      "Epoch 18, step 14500: Generator loss: 1.4393984887599942, discriminator loss: 0.41933650255203225\n",
      "Epoch 18, step 15000: Generator loss: 1.428772527456284, discriminator loss: 0.41775810921192186\n",
      "Epoch 19, step 15500: Generator loss: 1.4316802608966823, discriminator loss: 0.42102221280336327\n",
      "Epoch 20, step 16000: Generator loss: 1.4365011298656467, discriminator loss: 0.42176336419582344\n",
      "Epoch 20, step 16500: Generator loss: 1.4302419488430023, discriminator loss: 0.4181547832489017\n",
      "Epoch 21, step 17000: Generator loss: 1.435322242259979, discriminator loss: 0.4161191376447676\n",
      "Epoch 21, step 17500: Generator loss: 1.4384975166320784, discriminator loss: 0.42092901968955965\n",
      "Epoch 22, step 18000: Generator loss: 1.4211017527580263, discriminator loss: 0.4197809109687805\n",
      "Epoch 23, step 18500: Generator loss: 1.433620775461196, discriminator loss: 0.41747479391098014\n",
      "Epoch 23, step 19000: Generator loss: 1.432635057210922, discriminator loss: 0.4204417915344242\n",
      "Epoch 24, step 19500: Generator loss: 1.4371821579933153, discriminator loss: 0.4180986028909686\n",
      "Epoch 25, step 20000: Generator loss: 1.4349480404853818, discriminator loss: 0.41841519683599465\n",
      "Epoch 25, step 20500: Generator loss: 1.4349341378211964, discriminator loss: 0.41703698933124567\n",
      "Epoch 26, step 21000: Generator loss: 1.4268967649936686, discriminator loss: 0.42197622084617614\n",
      "Epoch 26, step 21500: Generator loss: 1.433123472452163, discriminator loss: 0.4156975213289261\n",
      "Epoch 27, step 22000: Generator loss: 1.4411739315986634, discriminator loss: 0.41855101156234753\n",
      "Epoch 28, step 22500: Generator loss: 1.4259944062232985, discriminator loss: 0.42023991972208\n",
      "Epoch 28, step 23000: Generator loss: 1.4334942986965178, discriminator loss: 0.41675888073444367\n",
      "Epoch 29, step 23500: Generator loss: 1.4292612400054947, discriminator loss: 0.42177546900510826\n",
      "Epoch 30, step 24000: Generator loss: 1.4379896516799935, discriminator loss: 0.4189176720380784\n",
      "Epoch 30, step 24500: Generator loss: 1.431504235506058, discriminator loss: 0.4193963109254836\n",
      "Epoch 31, step 25000: Generator loss: 1.43092831301689, discriminator loss: 0.42044634383916873\n",
      "Epoch 31, step 25500: Generator loss: 1.4278209972381584, discriminator loss: 0.4181129419207572\n",
      "Epoch 32, step 26000: Generator loss: 1.4236468634605393, discriminator loss: 0.41859026151895523\n",
      "Epoch 33, step 26500: Generator loss: 1.427792234659197, discriminator loss: 0.42049341410398466\n",
      "Epoch 33, step 27000: Generator loss: 1.4320001752376545, discriminator loss: 0.420761029541493\n",
      "Epoch 34, step 27500: Generator loss: 1.4282370922565468, discriminator loss: 0.41973128014802924\n",
      "Epoch 35, step 28000: Generator loss: 1.434514848232269, discriminator loss: 0.4184065138697628\n",
      "Epoch 35, step 28500: Generator loss: 1.4328378894329072, discriminator loss: 0.41884526026248914\n",
      "Epoch 36, step 29000: Generator loss: 1.4319551129341137, discriminator loss: 0.4185943848490714\n",
      "Epoch 36, step 29500: Generator loss: 1.4217002501487732, discriminator loss: 0.41912314158678055\n",
      "Epoch 37, step 30000: Generator loss: 1.4335507667064662, discriminator loss: 0.4188248669505117\n",
      "Epoch 38, step 30500: Generator loss: 1.4342359917163847, discriminator loss: 0.4200671842098238\n",
      "Epoch 38, step 31000: Generator loss: 1.4350702710151662, discriminator loss: 0.4204079445004468\n",
      "Epoch 39, step 31500: Generator loss: 1.4326193466186516, discriminator loss: 0.4182427263855935\n",
      "Epoch 40, step 32000: Generator loss: 1.4255030002593994, discriminator loss: 0.4195387196540836\n",
      "Epoch 40, step 32500: Generator loss: 1.431208740711211, discriminator loss: 0.41858652234077476\n",
      "Epoch 41, step 33000: Generator loss: 1.4203586840629587, discriminator loss: 0.4223889895081521\n",
      "Epoch 41, step 33500: Generator loss: 1.4304901018142713, discriminator loss: 0.419105037331581\n",
      "Epoch 42, step 34000: Generator loss: 1.422515149116516, discriminator loss: 0.4199830868840215\n",
      "Epoch 43, step 34500: Generator loss: 1.427505016803741, discriminator loss: 0.4177033742666248\n",
      "Epoch 43, step 35000: Generator loss: 1.425405155658723, discriminator loss: 0.42047420167922994\n",
      "Epoch 44, step 35500: Generator loss: 1.4302350213527686, discriminator loss: 0.4185457546710967\n",
      "Epoch 45, step 36000: Generator loss: 1.430260778665544, discriminator loss: 0.4175856185555455\n",
      "Epoch 45, step 36500: Generator loss: 1.429227538347244, discriminator loss: 0.4201868481636045\n",
      "Epoch 46, step 37000: Generator loss: 1.4269845066070557, discriminator loss: 0.41966687452793056\n",
      "Epoch 46, step 37500: Generator loss: 1.4317963387966157, discriminator loss: 0.41732891714572923\n",
      "Epoch 47, step 38000: Generator loss: 1.4265748758316035, discriminator loss: 0.4191023246645928\n",
      "Epoch 48, step 38500: Generator loss: 1.4288700368404395, discriminator loss: 0.41948461854457864\n",
      "Epoch 48, step 39000: Generator loss: 1.4265238261222835, discriminator loss: 0.42237506723403906\n",
      "Epoch 49, step 39500: Generator loss: 1.4340912117958067, discriminator loss: 0.4195201020240784\n",
      "Epoch 50, step 40000: Generator loss: 1.4201109836101522, discriminator loss: 0.42001807469129576\n",
      "Epoch 50, step 40500: Generator loss: 1.430832076311111, discriminator loss: 0.42068048602342584\n",
      "Epoch 51, step 41000: Generator loss: 1.420657116174698, discriminator loss: 0.4203173609972003\n",
      "Epoch 51, step 41500: Generator loss: 1.4329015150070201, discriminator loss: 0.4203159783482551\n",
      "Epoch 52, step 42000: Generator loss: 1.4226343259811411, discriminator loss: 0.420480396986007\n",
      "Epoch 53, step 42500: Generator loss: 1.4304672839641557, discriminator loss: 0.4175049037933346\n",
      "Epoch 53, step 43000: Generator loss: 1.4301623804569223, discriminator loss: 0.418745818138123\n",
      "Epoch 54, step 43500: Generator loss: 1.437760030508042, discriminator loss: 0.4186744766831393\n",
      "Epoch 55, step 44000: Generator loss: 1.4292600884437565, discriminator loss: 0.4205426495075227\n",
      "Epoch 55, step 44500: Generator loss: 1.426440354585648, discriminator loss: 0.4197543676495552\n",
      "Epoch 56, step 45000: Generator loss: 1.4293888909816748, discriminator loss: 0.41820566499233225\n",
      "Epoch 56, step 45500: Generator loss: 1.4229043235778804, discriminator loss: 0.4201246337890625\n",
      "Epoch 57, step 46000: Generator loss: 1.4284671373367295, discriminator loss: 0.4189388794898983\n",
      "Epoch 58, step 46500: Generator loss: 1.4239473109245304, discriminator loss: 0.4221834484338758\n",
      "Epoch 58, step 47000: Generator loss: 1.4251789507865908, discriminator loss: 0.42113230329751966\n",
      "Epoch 59, step 47500: Generator loss: 1.4282579712867738, discriminator loss: 0.4188898639678955\n",
      "Epoch 60, step 48000: Generator loss: 1.424748433113099, discriminator loss: 0.4214915025234227\n",
      "Epoch 60, step 48500: Generator loss: 1.4213612148761752, discriminator loss: 0.41792271143198007\n",
      "Epoch 61, step 49000: Generator loss: 1.4326667668819415, discriminator loss: 0.4180149306654925\n",
      "Epoch 61, step 49500: Generator loss: 1.4236109011173252, discriminator loss: 0.4192005404233925\n",
      "Epoch 62, step 50000: Generator loss: 1.4285615878105156, discriminator loss: 0.42063818156719185\n",
      "Epoch 63, step 50500: Generator loss: 1.4294789795875555, discriminator loss: 0.41879263037443154\n",
      "Epoch 63, step 51000: Generator loss: 1.4380779163837438, discriminator loss: 0.4198422976136207\n",
      "Epoch 64, step 51500: Generator loss: 1.4325344700813296, discriminator loss: 0.41942336302995686\n",
      "Epoch 65, step 52000: Generator loss: 1.4395026245117173, discriminator loss: 0.41879600536823275\n",
      "Epoch 65, step 52500: Generator loss: 1.4377985441684702, discriminator loss: 0.4171951235532761\n",
      "Epoch 66, step 53000: Generator loss: 1.4348017551898944, discriminator loss: 0.418989864885807\n",
      "Epoch 66, step 53500: Generator loss: 1.432871006727218, discriminator loss: 0.41890601879358297\n",
      "Epoch 67, step 54000: Generator loss: 1.4338899283409108, discriminator loss: 0.41886083340644814\n",
      "Epoch 68, step 54500: Generator loss: 1.4304184358119965, discriminator loss: 0.4195509451031687\n",
      "Epoch 68, step 55000: Generator loss: 1.4301666789054865, discriminator loss: 0.4189603691101076\n",
      "Epoch 69, step 55500: Generator loss: 1.4218591089248669, discriminator loss: 0.4197587068080902\n",
      "Epoch 70, step 56000: Generator loss: 1.4290614821910856, discriminator loss: 0.4207134778499603\n",
      "Epoch 70, step 56500: Generator loss: 1.4297326576709748, discriminator loss: 0.4175713704228399\n",
      "Epoch 71, step 57000: Generator loss: 1.424129330873489, discriminator loss: 0.4198816459178927\n",
      "Epoch 71, step 57500: Generator loss: 1.4219083857536314, discriminator loss: 0.4203995586037637\n",
      "Epoch 72, step 58000: Generator loss: 1.4341788976192462, discriminator loss: 0.4171994128227236\n",
      "Epoch 73, step 58500: Generator loss: 1.4359796297550187, discriminator loss: 0.4195456902384758\n",
      "Epoch 73, step 59000: Generator loss: 1.429315919876099, discriminator loss: 0.42011042827367817\n",
      "Epoch 74, step 59500: Generator loss: 1.4259241716861741, discriminator loss: 0.42235341942310317\n",
      "Epoch 75, step 60000: Generator loss: 1.4298467612266543, discriminator loss: 0.4184579491615295\n",
      "Epoch 75, step 60500: Generator loss: 1.4306579897403724, discriminator loss: 0.418505168735981\n",
      "Epoch 76, step 61000: Generator loss: 1.4328635306358357, discriminator loss: 0.42036461436748507\n",
      "Epoch 76, step 61500: Generator loss: 1.4358135101795186, discriminator loss: 0.41845192539691956\n",
      "Epoch 77, step 62000: Generator loss: 1.4402846012115484, discriminator loss: 0.4185839322805404\n",
      "Epoch 78, step 62500: Generator loss: 1.4374143753051758, discriminator loss: 0.41934767478704427\n",
      "Epoch 78, step 63000: Generator loss: 1.4228417713642108, discriminator loss: 0.41984429383277866\n",
      "Epoch 79, step 63500: Generator loss: 1.4334549498558053, discriminator loss: 0.41511204183101674\n",
      "Epoch 80, step 64000: Generator loss: 1.4261749248504612, discriminator loss: 0.4201575409770015\n",
      "Epoch 80, step 64500: Generator loss: 1.4301816167831414, discriminator loss: 0.42008259874582266\n",
      "Epoch 81, step 65000: Generator loss: 1.4312467126846322, discriminator loss: 0.4188757974505425\n",
      "Epoch 81, step 65500: Generator loss: 1.4317394609451284, discriminator loss: 0.4208320986032484\n",
      "Epoch 82, step 66000: Generator loss: 1.4253211753368389, discriminator loss: 0.41959446966648095\n",
      "Epoch 83, step 66500: Generator loss: 1.4345785732269276, discriminator loss: 0.41721738862991375\n",
      "Epoch 83, step 67000: Generator loss: 1.4341422150135041, discriminator loss: 0.4190552452206612\n",
      "Epoch 84, step 67500: Generator loss: 1.4232444624900826, discriminator loss: 0.4200988393425939\n",
      "Epoch 85, step 68000: Generator loss: 1.4237072935104367, discriminator loss: 0.42014813572168314\n",
      "Epoch 85, step 68500: Generator loss: 1.441037752151489, discriminator loss: 0.41858921873569527\n",
      "Epoch 86, step 69000: Generator loss: 1.432758103847504, discriminator loss: 0.41902573317289343\n",
      "Epoch 86, step 69500: Generator loss: 1.4257696816921237, discriminator loss: 0.41925520014762874\n",
      "Epoch 87, step 70000: Generator loss: 1.4246361939907068, discriminator loss: 0.4206084427237512\n",
      "Epoch 88, step 70500: Generator loss: 1.4327782433032967, discriminator loss: 0.4175223627686501\n",
      "Epoch 88, step 71000: Generator loss: 1.4340807638168345, discriminator loss: 0.4194948618412015\n",
      "Epoch 89, step 71500: Generator loss: 1.4291981005668637, discriminator loss: 0.4168881631493571\n",
      "Epoch 90, step 72000: Generator loss: 1.426791924715042, discriminator loss: 0.4190440728068353\n",
      "Epoch 90, step 72500: Generator loss: 1.425645692110062, discriminator loss: 0.41800261974334746\n",
      "Epoch 91, step 73000: Generator loss: 1.432629552841186, discriminator loss: 0.41815963357687\n",
      "Epoch 91, step 73500: Generator loss: 1.4292192721366863, discriminator loss: 0.4174071841835973\n",
      "Epoch 92, step 74000: Generator loss: 1.4299386174678788, discriminator loss: 0.4171351140737532\n",
      "Epoch 93, step 74500: Generator loss: 1.4291152210235603, discriminator loss: 0.4192790561318395\n",
      "Epoch 93, step 75000: Generator loss: 1.434573672056198, discriminator loss: 0.4188717641234401\n",
      "Epoch 94, step 75500: Generator loss: 1.4235786938667296, discriminator loss: 0.4208570143580435\n",
      "Epoch 95, step 76000: Generator loss: 1.42267025065422, discriminator loss: 0.4178455060124401\n",
      "Epoch 95, step 76500: Generator loss: 1.4249313075542447, discriminator loss: 0.42010209554433825\n",
      "Epoch 96, step 77000: Generator loss: 1.4362864563465128, discriminator loss: 0.41560305124521213\n",
      "Epoch 96, step 77500: Generator loss: 1.4355099904537205, discriminator loss: 0.4193304465413093\n",
      "Epoch 97, step 78000: Generator loss: 1.4271446127891556, discriminator loss: 0.4211930644512174\n",
      "Epoch 98, step 78500: Generator loss: 1.4302837297916398, discriminator loss: 0.4193125246167183\n",
      "Epoch 98, step 79000: Generator loss: 1.432462623357774, discriminator loss: 0.4185967592597007\n",
      "Epoch 99, step 79500: Generator loss: 1.4238112814426427, discriminator loss: 0.41901345425844216\n",
      "Epoch 0, step 500: Generator loss: 1.4290575294494616, discriminator loss: 0.4188920150995256\n",
      "Epoch 1, step 1000: Generator loss: 1.4261226072311393, discriminator loss: 0.4197350096702575\n",
      "Epoch 1, step 1500: Generator loss: 1.431108016014099, discriminator loss: 0.4200639127492908\n",
      "Epoch 2, step 2000: Generator loss: 1.4256572432517998, discriminator loss: 0.41869242721796046\n",
      "Epoch 3, step 2500: Generator loss: 1.4271933417320266, discriminator loss: 0.41931651264429076\n",
      "Epoch 3, step 3000: Generator loss: 1.428496573209762, discriminator loss: 0.41952449065446806\n",
      "Epoch 4, step 3500: Generator loss: 1.4344009580612196, discriminator loss: 0.41855671626329427\n",
      "Epoch 5, step 4000: Generator loss: 1.4308589627742767, discriminator loss: 0.4184171933531765\n",
      "Epoch 5, step 4500: Generator loss: 1.4377364490032207, discriminator loss: 0.4175987223982813\n",
      "Epoch 6, step 5000: Generator loss: 1.4256038503646862, discriminator loss: 0.41883826512098316\n",
      "Epoch 6, step 5500: Generator loss: 1.4314127092361446, discriminator loss: 0.41832217746973\n",
      "Epoch 7, step 6000: Generator loss: 1.4271733520030985, discriminator loss: 0.4162724959254261\n",
      "Epoch 8, step 6500: Generator loss: 1.4327987844944003, discriminator loss: 0.4199915387034414\n",
      "Epoch 8, step 7000: Generator loss: 1.4264101788997654, discriminator loss: 0.4197082937955858\n",
      "Epoch 9, step 7500: Generator loss: 1.4269294784069066, discriminator loss: 0.4183172114491462\n",
      "Epoch 10, step 8000: Generator loss: 1.430350209236144, discriminator loss: 0.41830393457412735\n",
      "Epoch 10, step 8500: Generator loss: 1.4386514716148384, discriminator loss: 0.4158923832178115\n",
      "Epoch 11, step 9000: Generator loss: 1.4295653710365306, discriminator loss: 0.41981795263290417\n",
      "Epoch 11, step 9500: Generator loss: 1.429755957603454, discriminator loss: 0.4174129977226254\n",
      "Epoch 12, step 10000: Generator loss: 1.426285640716553, discriminator loss: 0.4212602989673617\n",
      "Epoch 13, step 10500: Generator loss: 1.4267727937698365, discriminator loss: 0.4186946055889127\n",
      "Epoch 13, step 11000: Generator loss: 1.4290819213390342, discriminator loss: 0.41826396238803853\n",
      "Epoch 14, step 11500: Generator loss: 1.432134220838546, discriminator loss: 0.4189746497869488\n",
      "Epoch 15, step 12000: Generator loss: 1.4270976898670191, discriminator loss: 0.42084198415279367\n",
      "Epoch 15, step 12500: Generator loss: 1.43307028722763, discriminator loss: 0.41913703602552455\n",
      "Epoch 16, step 13000: Generator loss: 1.4238396427631381, discriminator loss: 0.42053391122818007\n",
      "Epoch 16, step 13500: Generator loss: 1.4343513669967645, discriminator loss: 0.42056291103363036\n",
      "Epoch 17, step 14000: Generator loss: 1.4318989975452432, discriminator loss: 0.4179161688089368\n",
      "Epoch 18, step 14500: Generator loss: 1.430238864898682, discriminator loss: 0.4185208629965782\n",
      "Epoch 18, step 15000: Generator loss: 1.426194776058197, discriminator loss: 0.41839909869432423\n",
      "Epoch 19, step 15500: Generator loss: 1.4231401782035826, discriminator loss: 0.41931838530302024\n",
      "Epoch 20, step 16000: Generator loss: 1.4268148131370537, discriminator loss: 0.4194475033283237\n",
      "Epoch 20, step 16500: Generator loss: 1.4276649143695828, discriminator loss: 0.4182910262942314\n",
      "Epoch 21, step 17000: Generator loss: 1.4331477553844456, discriminator loss: 0.41874214315414443\n",
      "Epoch 21, step 17500: Generator loss: 1.430424023389818, discriminator loss: 0.4189687811732292\n",
      "Epoch 22, step 18000: Generator loss: 1.4376480562686933, discriminator loss: 0.41822166848182696\n",
      "Epoch 23, step 18500: Generator loss: 1.4362844111919406, discriminator loss: 0.4196601540446276\n",
      "Epoch 23, step 19000: Generator loss: 1.4313951969146739, discriminator loss: 0.4180452461838722\n",
      "Epoch 24, step 19500: Generator loss: 1.428640648365021, discriminator loss: 0.4189166938066486\n",
      "Epoch 25, step 20000: Generator loss: 1.4271161503791814, discriminator loss: 0.4202740662097926\n",
      "Epoch 25, step 20500: Generator loss: 1.4324356172084807, discriminator loss: 0.4186974950432775\n",
      "Epoch 26, step 21000: Generator loss: 1.4274931731224052, discriminator loss: 0.4199567023515699\n",
      "Epoch 26, step 21500: Generator loss: 1.426092098712921, discriminator loss: 0.419001175761223\n",
      "Epoch 27, step 22000: Generator loss: 1.4288748528957367, discriminator loss: 0.41842262750864023\n",
      "Epoch 28, step 22500: Generator loss: 1.4249580647945406, discriminator loss: 0.41783708333969105\n",
      "Epoch 28, step 23000: Generator loss: 1.4298320300579066, discriminator loss: 0.4169873121976853\n",
      "Epoch 29, step 23500: Generator loss: 1.4417003178596506, discriminator loss: 0.4180306484103197\n",
      "Epoch 30, step 24000: Generator loss: 1.4298979403972614, discriminator loss: 0.4192312961816785\n",
      "Epoch 30, step 24500: Generator loss: 1.4273959639072427, discriminator loss: 0.42021100419759755\n",
      "Epoch 31, step 25000: Generator loss: 1.4329680643081666, discriminator loss: 0.41882988965511336\n",
      "Epoch 31, step 25500: Generator loss: 1.427591020345688, discriminator loss: 0.4170048469901082\n",
      "Epoch 32, step 26000: Generator loss: 1.4270913929939277, discriminator loss: 0.41776963245868676\n",
      "Epoch 33, step 26500: Generator loss: 1.430255860567095, discriminator loss: 0.4198626746535304\n",
      "Epoch 33, step 27000: Generator loss: 1.4289474575519554, discriminator loss: 0.4209221205115318\n",
      "Epoch 34, step 27500: Generator loss: 1.4313804388046263, discriminator loss: 0.4184458299279212\n",
      "Epoch 35, step 28000: Generator loss: 1.4265579857826227, discriminator loss: 0.4193698026537897\n",
      "Epoch 35, step 28500: Generator loss: 1.4247449800968166, discriminator loss: 0.4213570947647098\n",
      "Epoch 36, step 29000: Generator loss: 1.4269501588344575, discriminator loss: 0.41946106886863727\n",
      "Epoch 36, step 29500: Generator loss: 1.4253874073028552, discriminator loss: 0.4196197831034657\n",
      "Epoch 37, step 30000: Generator loss: 1.4335375037193296, discriminator loss: 0.41690528905391655\n",
      "Epoch 38, step 30500: Generator loss: 1.4292520258426664, discriminator loss: 0.42000790375471103\n",
      "Epoch 38, step 31000: Generator loss: 1.4290776832103727, discriminator loss: 0.41942076069116574\n",
      "Epoch 39, step 31500: Generator loss: 1.4329541380405426, discriminator loss: 0.4202691458463671\n",
      "Epoch 40, step 32000: Generator loss: 1.4269773008823403, discriminator loss: 0.41825425732135796\n",
      "Epoch 40, step 32500: Generator loss: 1.4303328199386582, discriminator loss: 0.4191830158233641\n",
      "Epoch 41, step 33000: Generator loss: 1.431118878841399, discriminator loss: 0.4177398918867116\n",
      "Epoch 41, step 33500: Generator loss: 1.4272372198104855, discriminator loss: 0.4187717177271842\n",
      "Epoch 42, step 34000: Generator loss: 1.4340977125167842, discriminator loss: 0.41833598721027426\n",
      "Epoch 43, step 34500: Generator loss: 1.4349655976295468, discriminator loss: 0.4171192317605018\n",
      "Epoch 43, step 35000: Generator loss: 1.4221938006877899, discriminator loss: 0.4212468267679218\n",
      "Epoch 44, step 35500: Generator loss: 1.430765041828157, discriminator loss: 0.41925080716609936\n",
      "Epoch 45, step 36000: Generator loss: 1.4296696341037767, discriminator loss: 0.41996716374158843\n",
      "Epoch 45, step 36500: Generator loss: 1.4265423443317418, discriminator loss: 0.42230385035276374\n",
      "Epoch 46, step 37000: Generator loss: 1.4257364730834974, discriminator loss: 0.41814523118734337\n",
      "Epoch 46, step 37500: Generator loss: 1.4275497093200678, discriminator loss: 0.41932619869708987\n",
      "Epoch 47, step 38000: Generator loss: 1.4336679065227518, discriminator loss: 0.41747099792957326\n",
      "Epoch 48, step 38500: Generator loss: 1.4260848171710965, discriminator loss: 0.4211643367409709\n",
      "Epoch 48, step 39000: Generator loss: 1.4290465574264526, discriminator loss: 0.4202320341467854\n",
      "Epoch 49, step 39500: Generator loss: 1.4253963291645058, discriminator loss: 0.419075000524521\n",
      "Epoch 50, step 40000: Generator loss: 1.4294368171691882, discriminator loss: 0.4182540087699891\n",
      "Epoch 50, step 40500: Generator loss: 1.4315085048675524, discriminator loss: 0.4177426321506501\n",
      "Epoch 51, step 41000: Generator loss: 1.4286690108776081, discriminator loss: 0.4204942914247511\n",
      "Epoch 51, step 41500: Generator loss: 1.4225093379020706, discriminator loss: 0.41929279732704167\n",
      "Epoch 52, step 42000: Generator loss: 1.422174731016158, discriminator loss: 0.42050887793302566\n",
      "Epoch 53, step 42500: Generator loss: 1.4198573465347288, discriminator loss: 0.41960806375741955\n",
      "Epoch 53, step 43000: Generator loss: 1.4281527030467993, discriminator loss: 0.41778070271015166\n",
      "Epoch 54, step 43500: Generator loss: 1.4236845467090604, discriminator loss: 0.4208004513382914\n",
      "Epoch 55, step 44000: Generator loss: 1.4282755599021908, discriminator loss: 0.4187130122184752\n",
      "Epoch 55, step 44500: Generator loss: 1.4316213669776923, discriminator loss: 0.41810945844650244\n",
      "Epoch 56, step 45000: Generator loss: 1.4149760208129876, discriminator loss: 0.4206639712452887\n",
      "Epoch 56, step 45500: Generator loss: 1.4282395932674425, discriminator loss: 0.41983635002374614\n",
      "Epoch 57, step 46000: Generator loss: 1.428850823163987, discriminator loss: 0.4193751057982447\n",
      "Epoch 58, step 46500: Generator loss: 1.431232821941375, discriminator loss: 0.4207131823301315\n",
      "Epoch 58, step 47000: Generator loss: 1.4236850218772896, discriminator loss: 0.4209192579388618\n",
      "Epoch 59, step 47500: Generator loss: 1.4233862786293028, discriminator loss: 0.41950814890861504\n",
      "Epoch 60, step 48000: Generator loss: 1.423278078079222, discriminator loss: 0.418540486574173\n",
      "Epoch 60, step 48500: Generator loss: 1.4281413605213171, discriminator loss: 0.41984431964159\n",
      "Epoch 61, step 49000: Generator loss: 1.420265637636185, discriminator loss: 0.418289270043373\n",
      "Epoch 61, step 49500: Generator loss: 1.4229092946052542, discriminator loss: 0.422476765155792\n",
      "Epoch 62, step 50000: Generator loss: 1.4199969017505645, discriminator loss: 0.41950396865606326\n",
      "Epoch 63, step 50500: Generator loss: 1.4227700333595266, discriminator loss: 0.421949889600277\n",
      "Epoch 63, step 51000: Generator loss: 1.426790769815445, discriminator loss: 0.4188265668153764\n",
      "Epoch 64, step 51500: Generator loss: 1.4309325046539303, discriminator loss: 0.4195893516540528\n",
      "Epoch 65, step 52000: Generator loss: 1.4315945374965668, discriminator loss: 0.4191691323518756\n",
      "Epoch 65, step 52500: Generator loss: 1.4235493586063404, discriminator loss: 0.42055134248733533\n",
      "Epoch 66, step 53000: Generator loss: 1.4286054642200472, discriminator loss: 0.4173338646888728\n",
      "Epoch 66, step 53500: Generator loss: 1.4224955520629867, discriminator loss: 0.4187842783331873\n",
      "Epoch 67, step 54000: Generator loss: 1.422493684530256, discriminator loss: 0.41984355646371846\n",
      "Epoch 68, step 54500: Generator loss: 1.4246846830844884, discriminator loss: 0.41682187372446045\n",
      "Epoch 68, step 55000: Generator loss: 1.4319527771472929, discriminator loss: 0.4183157541751859\n",
      "Epoch 69, step 55500: Generator loss: 1.4290977184772475, discriminator loss: 0.41699876761436516\n",
      "Epoch 70, step 56000: Generator loss: 1.4249892094135284, discriminator loss: 0.4197051767110827\n",
      "Epoch 70, step 56500: Generator loss: 1.4291637058258058, discriminator loss: 0.418457828462124\n",
      "Epoch 71, step 57000: Generator loss: 1.4275567011833183, discriminator loss: 0.41754889214038876\n",
      "Epoch 71, step 57500: Generator loss: 1.4237198202610006, discriminator loss: 0.4206045614480971\n",
      "Epoch 72, step 58000: Generator loss: 1.4184985799789425, discriminator loss: 0.4206109710931776\n",
      "Epoch 73, step 58500: Generator loss: 1.426374166250228, discriminator loss: 0.41747763472795496\n",
      "Epoch 73, step 59000: Generator loss: 1.4280815165042877, discriminator loss: 0.41962795543670633\n",
      "Epoch 74, step 59500: Generator loss: 1.4257053759098053, discriminator loss: 0.4187314102649688\n",
      "Epoch 75, step 60000: Generator loss: 1.4392981939315797, discriminator loss: 0.4182186373472212\n",
      "Epoch 75, step 60500: Generator loss: 1.4299031000137323, discriminator loss: 0.41843834024667753\n",
      "Epoch 76, step 61000: Generator loss: 1.4303405728340135, discriminator loss: 0.4170049512982367\n",
      "Epoch 76, step 61500: Generator loss: 1.434377134561539, discriminator loss: 0.4173798062801359\n",
      "Epoch 77, step 62000: Generator loss: 1.4277634794712075, discriminator loss: 0.4188722648024561\n",
      "Epoch 78, step 62500: Generator loss: 1.4364850380420695, discriminator loss: 0.4168927075266835\n",
      "Epoch 78, step 63000: Generator loss: 1.4272357475757593, discriminator loss: 0.4179424177408217\n",
      "Epoch 79, step 63500: Generator loss: 1.4270114130973817, discriminator loss: 0.4214667462706567\n",
      "Epoch 80, step 64000: Generator loss: 1.4303682296276106, discriminator loss: 0.4187630206942559\n",
      "Epoch 80, step 64500: Generator loss: 1.4359949338436135, discriminator loss: 0.417816833794117\n",
      "Epoch 81, step 65000: Generator loss: 1.4338796858787546, discriminator loss: 0.4180904503464697\n",
      "Epoch 81, step 65500: Generator loss: 1.4273886358737944, discriminator loss: 0.41919288414716716\n",
      "Epoch 82, step 66000: Generator loss: 1.4268647775650019, discriminator loss: 0.4199521651864052\n",
      "Epoch 83, step 66500: Generator loss: 1.426405672311784, discriminator loss: 0.41745042449235953\n",
      "Epoch 83, step 67000: Generator loss: 1.4300324835777276, discriminator loss: 0.419643825590611\n",
      "Epoch 84, step 67500: Generator loss: 1.4297997558116908, discriminator loss: 0.4169277597665787\n",
      "Epoch 85, step 68000: Generator loss: 1.4210455875396735, discriminator loss: 0.4205733881592748\n",
      "Epoch 85, step 68500: Generator loss: 1.432775646448137, discriminator loss: 0.4182511143088343\n",
      "Epoch 86, step 69000: Generator loss: 1.4212304937839502, discriminator loss: 0.42058849215507516\n",
      "Epoch 86, step 69500: Generator loss: 1.4327197382450112, discriminator loss: 0.4171903503537173\n",
      "Epoch 87, step 70000: Generator loss: 1.435856677293777, discriminator loss: 0.41753713518381125\n",
      "Epoch 88, step 70500: Generator loss: 1.431164266109467, discriminator loss: 0.4185720705986027\n",
      "Epoch 88, step 71000: Generator loss: 1.4296658146381394, discriminator loss: 0.41971644765138594\n",
      "Epoch 89, step 71500: Generator loss: 1.4250890164375296, discriminator loss: 0.4201301407814025\n",
      "Epoch 90, step 72000: Generator loss: 1.435235236406326, discriminator loss: 0.41731313675642034\n",
      "Epoch 90, step 72500: Generator loss: 1.430301712751389, discriminator loss: 0.41711138361692424\n",
      "Epoch 91, step 73000: Generator loss: 1.4219466004371653, discriminator loss: 0.41992409086227384\n",
      "Epoch 91, step 73500: Generator loss: 1.4345342206954947, discriminator loss: 0.41562980228662494\n",
      "Epoch 92, step 74000: Generator loss: 1.4228348634243, discriminator loss: 0.4196359615921974\n",
      "Epoch 93, step 74500: Generator loss: 1.4271649367809287, discriminator loss: 0.4188304960727691\n",
      "Epoch 93, step 75000: Generator loss: 1.4365746173858633, discriminator loss: 0.4168436156511304\n",
      "Epoch 94, step 75500: Generator loss: 1.4234358050823213, discriminator loss: 0.4208789696693421\n",
      "Epoch 95, step 76000: Generator loss: 1.4301412830352767, discriminator loss: 0.41979311126470564\n",
      "Epoch 95, step 76500: Generator loss: 1.4226286497116098, discriminator loss: 0.4188147667050361\n",
      "Epoch 96, step 77000: Generator loss: 1.4271640868186943, discriminator loss: 0.4192009370923043\n",
      "Epoch 96, step 77500: Generator loss: 1.4266415543556226, discriminator loss: 0.41978548288345396\n",
      "Epoch 97, step 78000: Generator loss: 1.4261558508873005, discriminator loss: 0.4205023673772812\n",
      "Epoch 98, step 78500: Generator loss: 1.422557930707932, discriminator loss: 0.4209792697429658\n",
      "Epoch 98, step 79000: Generator loss: 1.4166597213745118, discriminator loss: 0.4205346545577045\n",
      "Epoch 99, step 79500: Generator loss: 1.4289330782890304, discriminator loss: 0.41857904607057544\n",
      "Epoch 0, step 500: Generator loss: 1.4291212255954742, discriminator loss: 0.4203320389389991\n",
      "Epoch 1, step 1000: Generator loss: 1.425617050409316, discriminator loss: 0.4190992687344552\n",
      "Epoch 1, step 1500: Generator loss: 1.4260880267620095, discriminator loss: 0.4195030272603034\n",
      "Epoch 2, step 2000: Generator loss: 1.426830680370332, discriminator loss: 0.4187792173027989\n",
      "Epoch 3, step 2500: Generator loss: 1.4251389725208297, discriminator loss: 0.4200138761401173\n",
      "Epoch 3, step 3000: Generator loss: 1.4286652514934535, discriminator loss: 0.4163440673351289\n",
      "Epoch 4, step 3500: Generator loss: 1.4226526398658759, discriminator loss: 0.41956681072711954\n",
      "Epoch 5, step 4000: Generator loss: 1.4260563058853153, discriminator loss: 0.42041983497142754\n",
      "Epoch 5, step 4500: Generator loss: 1.4271369435787193, discriminator loss: 0.41904914361238466\n",
      "Epoch 6, step 5000: Generator loss: 1.4287749042510998, discriminator loss: 0.41822047990560524\n",
      "Epoch 6, step 5500: Generator loss: 1.4325082962512972, discriminator loss: 0.4168845602869986\n",
      "Epoch 7, step 6000: Generator loss: 1.4260117924213405, discriminator loss: 0.41972157835960355\n",
      "Epoch 8, step 6500: Generator loss: 1.425195376396178, discriminator loss: 0.41948753237724284\n",
      "Epoch 8, step 7000: Generator loss: 1.4280568761825545, discriminator loss: 0.4174770329594609\n",
      "Epoch 9, step 7500: Generator loss: 1.4201344964504243, discriminator loss: 0.4211098347306251\n",
      "Epoch 10, step 8000: Generator loss: 1.4329743354320525, discriminator loss: 0.41729590344429046\n",
      "Epoch 10, step 8500: Generator loss: 1.4298751392364502, discriminator loss: 0.4203512716889383\n",
      "Epoch 11, step 9000: Generator loss: 1.4247298693656902, discriminator loss: 0.4194607638716701\n",
      "Epoch 11, step 9500: Generator loss: 1.4309927036762236, discriminator loss: 0.4180743017196661\n",
      "Epoch 12, step 10000: Generator loss: 1.4233473148345925, discriminator loss: 0.4205047504901883\n",
      "Epoch 13, step 10500: Generator loss: 1.4237062029838559, discriminator loss: 0.41861873596906707\n",
      "Epoch 13, step 11000: Generator loss: 1.4283407378196722, discriminator loss: 0.4183605869412424\n",
      "Epoch 14, step 11500: Generator loss: 1.43307905936241, discriminator loss: 0.4182320585846899\n",
      "Epoch 15, step 12000: Generator loss: 1.4345765314102163, discriminator loss: 0.41751486170291907\n",
      "Epoch 15, step 12500: Generator loss: 1.4258858618736274, discriminator loss: 0.41791280734539027\n",
      "Epoch 16, step 13000: Generator loss: 1.430915315389634, discriminator loss: 0.4189254336953162\n",
      "Epoch 16, step 13500: Generator loss: 1.4296495213508604, discriminator loss: 0.42016684937477145\n",
      "Epoch 17, step 14000: Generator loss: 1.4215703964233402, discriminator loss: 0.4187421285510066\n",
      "Epoch 18, step 14500: Generator loss: 1.430770814418792, discriminator loss: 0.41694896727800373\n",
      "Epoch 18, step 15000: Generator loss: 1.4231601722240435, discriminator loss: 0.4218116489648821\n",
      "Epoch 19, step 15500: Generator loss: 1.421633424282075, discriminator loss: 0.4190985184907914\n",
      "Epoch 20, step 16000: Generator loss: 1.426863692045212, discriminator loss: 0.4181359365582461\n",
      "Epoch 20, step 16500: Generator loss: 1.4243476073741912, discriminator loss: 0.42125859779119484\n",
      "Epoch 21, step 17000: Generator loss: 1.4210024712085716, discriminator loss: 0.4181420153379437\n",
      "Epoch 21, step 17500: Generator loss: 1.4173680703639973, discriminator loss: 0.42022731316089634\n",
      "Epoch 22, step 18000: Generator loss: 1.422399029254913, discriminator loss: 0.41822774314880395\n",
      "Epoch 23, step 18500: Generator loss: 1.427215088129044, discriminator loss: 0.41838099890947317\n",
      "Epoch 23, step 19000: Generator loss: 1.432450781583785, discriminator loss: 0.41747835367918046\n",
      "Epoch 24, step 19500: Generator loss: 1.422494840145111, discriminator loss: 0.4198004391789438\n",
      "Epoch 25, step 20000: Generator loss: 1.4314813199043261, discriminator loss: 0.418867314219475\n",
      "Epoch 25, step 20500: Generator loss: 1.4329427540302275, discriminator loss: 0.41707052648067494\n",
      "Epoch 26, step 21000: Generator loss: 1.423854460716246, discriminator loss: 0.4178803982734684\n",
      "Epoch 26, step 21500: Generator loss: 1.4360703101158139, discriminator loss: 0.41803201287984887\n",
      "Epoch 27, step 22000: Generator loss: 1.4249977288246154, discriminator loss: 0.4168725451230997\n",
      "Epoch 28, step 22500: Generator loss: 1.4227243223190302, discriminator loss: 0.4189648870229718\n",
      "Epoch 28, step 23000: Generator loss: 1.4295035858154286, discriminator loss: 0.4173869866132741\n",
      "Epoch 29, step 23500: Generator loss: 1.4280931494235987, discriminator loss: 0.41828625404834746\n",
      "Epoch 30, step 24000: Generator loss: 1.4219239647388469, discriminator loss: 0.4201787248849872\n",
      "Epoch 30, step 24500: Generator loss: 1.4272103886604321, discriminator loss: 0.418676845371723\n",
      "Epoch 31, step 25000: Generator loss: 1.4241130099296562, discriminator loss: 0.41896579205989803\n",
      "Epoch 31, step 25500: Generator loss: 1.43165129351616, discriminator loss: 0.4189873068332675\n",
      "Epoch 32, step 26000: Generator loss: 1.4396712071895597, discriminator loss: 0.41616687643527944\n",
      "Epoch 33, step 26500: Generator loss: 1.428125579357148, discriminator loss: 0.419331218481064\n",
      "Epoch 33, step 27000: Generator loss: 1.4255466680526723, discriminator loss: 0.41778955686092384\n",
      "Epoch 34, step 27500: Generator loss: 1.4210030984878537, discriminator loss: 0.4202142798900601\n",
      "Epoch 35, step 28000: Generator loss: 1.4262729887962344, discriminator loss: 0.41775143122672986\n",
      "Epoch 35, step 28500: Generator loss: 1.422587316989899, discriminator loss: 0.41852541941404353\n",
      "Epoch 36, step 29000: Generator loss: 1.422806493997575, discriminator loss: 0.41923352700471894\n",
      "Epoch 36, step 29500: Generator loss: 1.4303854720592495, discriminator loss: 0.4193702664375308\n",
      "Epoch 37, step 30000: Generator loss: 1.4252597160339364, discriminator loss: 0.41646344894170745\n",
      "Epoch 38, step 30500: Generator loss: 1.4144757173061377, discriminator loss: 0.42075057119131104\n",
      "Epoch 38, step 31000: Generator loss: 1.4245799520015714, discriminator loss: 0.42054920732975026\n",
      "Epoch 39, step 31500: Generator loss: 1.4226645226478585, discriminator loss: 0.4196452583074567\n",
      "Epoch 40, step 32000: Generator loss: 1.4235235180854782, discriminator loss: 0.4188709894418723\n",
      "Epoch 40, step 32500: Generator loss: 1.4237581214904778, discriminator loss: 0.4183978856801989\n",
      "Epoch 41, step 33000: Generator loss: 1.4280658648014046, discriminator loss: 0.42016292047500586\n",
      "Epoch 41, step 33500: Generator loss: 1.4247756175994868, discriminator loss: 0.4189361330270766\n",
      "Epoch 42, step 34000: Generator loss: 1.419490740060805, discriminator loss: 0.4194352324604985\n",
      "Epoch 43, step 34500: Generator loss: 1.4234914734363568, discriminator loss: 0.417194739997387\n",
      "Epoch 43, step 35000: Generator loss: 1.424958477735519, discriminator loss: 0.4178874681591987\n",
      "Epoch 44, step 35500: Generator loss: 1.4108754293918597, discriminator loss: 0.42278504621982566\n",
      "Epoch 45, step 36000: Generator loss: 1.4228580708503722, discriminator loss: 0.41886281889677085\n",
      "Epoch 45, step 36500: Generator loss: 1.4321708729267133, discriminator loss: 0.41772320598363905\n",
      "Epoch 46, step 37000: Generator loss: 1.4269350330829615, discriminator loss: 0.4185226389765739\n",
      "Epoch 46, step 37500: Generator loss: 1.4213487036228178, discriminator loss: 0.42029990130662975\n",
      "Epoch 47, step 38000: Generator loss: 1.4279436094760893, discriminator loss: 0.419176327586174\n",
      "Epoch 48, step 38500: Generator loss: 1.4291198992729177, discriminator loss: 0.4168632683753967\n",
      "Epoch 48, step 39000: Generator loss: 1.4252002398967745, discriminator loss: 0.420159047305584\n",
      "Epoch 49, step 39500: Generator loss: 1.4220442361831676, discriminator loss: 0.418305108547211\n",
      "Epoch 50, step 40000: Generator loss: 1.4274142584800726, discriminator loss: 0.4199348293542863\n",
      "Epoch 50, step 40500: Generator loss: 1.4242113361358646, discriminator loss: 0.4171162266731262\n",
      "Epoch 51, step 41000: Generator loss: 1.4267275915145878, discriminator loss: 0.41671874803304665\n",
      "Epoch 51, step 41500: Generator loss: 1.4184279556274406, discriminator loss: 0.42040397155284864\n",
      "Epoch 52, step 42000: Generator loss: 1.4199315953254705, discriminator loss: 0.4166871665716171\n",
      "Epoch 53, step 42500: Generator loss: 1.424415708303452, discriminator loss: 0.4201966122984889\n",
      "Epoch 53, step 43000: Generator loss: 1.4191577811241154, discriminator loss: 0.4188902632594111\n",
      "Epoch 54, step 43500: Generator loss: 1.4319871642589541, discriminator loss: 0.41766765189170824\n",
      "Epoch 55, step 44000: Generator loss: 1.4171891496181488, discriminator loss: 0.4214862281084056\n",
      "Epoch 55, step 44500: Generator loss: 1.4193296413421645, discriminator loss: 0.4207478825449944\n",
      "Epoch 56, step 45000: Generator loss: 1.4182095007896416, discriminator loss: 0.4186668543219565\n",
      "Epoch 56, step 45500: Generator loss: 1.4196826164722454, discriminator loss: 0.4177983248233794\n",
      "Epoch 57, step 46000: Generator loss: 1.4233884797096268, discriminator loss: 0.4185753617286683\n",
      "Epoch 58, step 46500: Generator loss: 1.4192869353294375, discriminator loss: 0.4195463224649429\n",
      "Epoch 58, step 47000: Generator loss: 1.4204868066310878, discriminator loss: 0.42051242023706403\n",
      "Epoch 59, step 47500: Generator loss: 1.4291603119373333, discriminator loss: 0.4163651967048644\n",
      "Epoch 60, step 48000: Generator loss: 1.424615771055222, discriminator loss: 0.41853722280263866\n",
      "Epoch 60, step 48500: Generator loss: 1.4262163796424867, discriminator loss: 0.41799861234426494\n",
      "Epoch 61, step 49000: Generator loss: 1.4252696950435633, discriminator loss: 0.42101159620285017\n",
      "Epoch 61, step 49500: Generator loss: 1.4210257697105406, discriminator loss: 0.41829701310396183\n",
      "Epoch 62, step 50000: Generator loss: 1.416312178611756, discriminator loss: 0.4199110878109933\n",
      "Epoch 63, step 50500: Generator loss: 1.4233002576828009, discriminator loss: 0.4186513053178788\n",
      "Epoch 63, step 51000: Generator loss: 1.4195967781543746, discriminator loss: 0.4194462646245953\n",
      "Epoch 64, step 51500: Generator loss: 1.4249930663108812, discriminator loss: 0.417260901927948\n",
      "Epoch 65, step 52000: Generator loss: 1.417630447626114, discriminator loss: 0.42137363183498394\n",
      "Epoch 65, step 52500: Generator loss: 1.4199625420570356, discriminator loss: 0.4188701089024545\n",
      "Epoch 66, step 53000: Generator loss: 1.4283585782051103, discriminator loss: 0.419873069882393\n",
      "Epoch 66, step 53500: Generator loss: 1.425534780740737, discriminator loss: 0.41861258518695854\n",
      "Epoch 67, step 54000: Generator loss: 1.4246346940994266, discriminator loss: 0.41884571409225446\n",
      "Epoch 68, step 54500: Generator loss: 1.420802022933961, discriminator loss: 0.4194562577605246\n",
      "Epoch 68, step 55000: Generator loss: 1.419034734010695, discriminator loss: 0.4206084278225899\n",
      "Epoch 69, step 55500: Generator loss: 1.4217340974807748, discriminator loss: 0.4201928756833077\n",
      "Epoch 70, step 56000: Generator loss: 1.42323968219757, discriminator loss: 0.4190527008771898\n",
      "Epoch 70, step 56500: Generator loss: 1.4233235411643979, discriminator loss: 0.4203632063269612\n",
      "Epoch 71, step 57000: Generator loss: 1.4235694692134846, discriminator loss: 0.4188427459597587\n",
      "Epoch 71, step 57500: Generator loss: 1.417658836603165, discriminator loss: 0.41992870730161636\n",
      "Epoch 72, step 58000: Generator loss: 1.4211819570064557, discriminator loss: 0.421382694303989\n",
      "Epoch 73, step 58500: Generator loss: 1.4268601703643802, discriminator loss: 0.41768457525968566\n",
      "Epoch 73, step 59000: Generator loss: 1.4187763044834143, discriminator loss: 0.41923549735546145\n",
      "Epoch 74, step 59500: Generator loss: 1.419408815860749, discriminator loss: 0.4199315887093542\n",
      "Epoch 75, step 60000: Generator loss: 1.4265729477405535, discriminator loss: 0.41711457175016403\n",
      "Epoch 75, step 60500: Generator loss: 1.4267745840549462, discriminator loss: 0.4199509404897686\n",
      "Epoch 76, step 61000: Generator loss: 1.4238067519664768, discriminator loss: 0.41818720668554327\n",
      "Epoch 76, step 61500: Generator loss: 1.4221503953933712, discriminator loss: 0.4200314938426016\n",
      "Epoch 77, step 62000: Generator loss: 1.4266305007934574, discriminator loss: 0.41903201752901104\n",
      "Epoch 78, step 62500: Generator loss: 1.421058508634567, discriminator loss: 0.42095530229806905\n",
      "Epoch 78, step 63000: Generator loss: 1.4183471415042888, discriminator loss: 0.420795898914337\n",
      "Epoch 79, step 63500: Generator loss: 1.422420146465301, discriminator loss: 0.41905864375829716\n",
      "Epoch 80, step 64000: Generator loss: 1.4188805022239677, discriminator loss: 0.4198557980656625\n",
      "Epoch 80, step 64500: Generator loss: 1.4322508447170241, discriminator loss: 0.4183351097106935\n",
      "Epoch 81, step 65000: Generator loss: 1.4274081072807312, discriminator loss: 0.41930197018384946\n",
      "Epoch 81, step 65500: Generator loss: 1.4240445992946604, discriminator loss: 0.41908793294429775\n",
      "Epoch 82, step 66000: Generator loss: 1.4278140809535962, discriminator loss: 0.41860436606407164\n",
      "Epoch 83, step 66500: Generator loss: 1.4281799170970904, discriminator loss: 0.41960227054357563\n",
      "Epoch 83, step 67000: Generator loss: 1.4222152349948882, discriminator loss: 0.41966427052020966\n",
      "Epoch 84, step 67500: Generator loss: 1.4152123343944547, discriminator loss: 0.42031248521804776\n",
      "Epoch 85, step 68000: Generator loss: 1.4149530794620495, discriminator loss: 0.41984257775545086\n",
      "Epoch 85, step 68500: Generator loss: 1.4256748020648948, discriminator loss: 0.4175499462485315\n",
      "Epoch 86, step 69000: Generator loss: 1.4247626423835742, discriminator loss: 0.4214175593852998\n",
      "Epoch 86, step 69500: Generator loss: 1.4239822680950167, discriminator loss: 0.4165878161787988\n",
      "Epoch 87, step 70000: Generator loss: 1.4269693760871878, discriminator loss: 0.4191307591795918\n",
      "Epoch 88, step 70500: Generator loss: 1.420881126642227, discriminator loss: 0.4212438263893123\n",
      "Epoch 88, step 71000: Generator loss: 1.4207191386222846, discriminator loss: 0.4181054227352143\n",
      "Epoch 89, step 71500: Generator loss: 1.4212553870677973, discriminator loss: 0.4186439498662948\n",
      "Epoch 90, step 72000: Generator loss: 1.4153065133094789, discriminator loss: 0.4212181360721583\n",
      "Epoch 90, step 72500: Generator loss: 1.4268646748065947, discriminator loss: 0.41918631541728985\n",
      "Epoch 91, step 73000: Generator loss: 1.4216897099018089, discriminator loss: 0.4192093559503552\n",
      "Epoch 91, step 73500: Generator loss: 1.4259664251804358, discriminator loss: 0.41931716197729124\n",
      "Epoch 92, step 74000: Generator loss: 1.4302013869285588, discriminator loss: 0.41876501721143716\n",
      "Epoch 93, step 74500: Generator loss: 1.4248445835113532, discriminator loss: 0.41943675065040564\n",
      "Epoch 93, step 75000: Generator loss: 1.424389608144761, discriminator loss: 0.41815667712688404\n",
      "Epoch 94, step 75500: Generator loss: 1.4260976738929745, discriminator loss: 0.4186177663207054\n",
      "Epoch 95, step 76000: Generator loss: 1.417901207208633, discriminator loss: 0.41907286477088956\n",
      "Epoch 95, step 76500: Generator loss: 1.42070668029785, discriminator loss: 0.4215972854495051\n",
      "Epoch 96, step 77000: Generator loss: 1.4219362239837645, discriminator loss: 0.4178012739419938\n",
      "Epoch 96, step 77500: Generator loss: 1.4172094421386712, discriminator loss: 0.41983747929334625\n",
      "Epoch 97, step 78000: Generator loss: 1.427476435899734, discriminator loss: 0.4170898665189741\n",
      "Epoch 98, step 78500: Generator loss: 1.427535647630691, discriminator loss: 0.4183939728140829\n",
      "Epoch 98, step 79000: Generator loss: 1.4297092156410223, discriminator loss: 0.4194754155278208\n",
      "Epoch 99, step 79500: Generator loss: 1.4219864673614502, discriminator loss: 0.4196177079081541\n",
      "Epoch 0, step 500: Generator loss: 1.4166028141975395, discriminator loss: 0.4210383628010747\n",
      "Epoch 1, step 1000: Generator loss: 1.4106214704513549, discriminator loss: 0.4204545472264286\n",
      "Epoch 1, step 1500: Generator loss: 1.4237550096511842, discriminator loss: 0.42045706105232267\n",
      "Epoch 2, step 2000: Generator loss: 1.4180347025394444, discriminator loss: 0.41967533802986134\n",
      "Epoch 3, step 2500: Generator loss: 1.42008721780777, discriminator loss: 0.4180997857451442\n",
      "Epoch 3, step 3000: Generator loss: 1.4157148933410646, discriminator loss: 0.42084610623121266\n",
      "Epoch 4, step 3500: Generator loss: 1.4179748077392602, discriminator loss: 0.4185722393393515\n",
      "Epoch 5, step 4000: Generator loss: 1.427238509893418, discriminator loss: 0.41848756086826305\n",
      "Epoch 5, step 4500: Generator loss: 1.4228453309535973, discriminator loss: 0.41887054675817464\n",
      "Epoch 6, step 5000: Generator loss: 1.4237927346229555, discriminator loss: 0.4195604459643364\n",
      "Epoch 6, step 5500: Generator loss: 1.4169375557899475, discriminator loss: 0.419726070523262\n",
      "Epoch 7, step 6000: Generator loss: 1.4158485338687883, discriminator loss: 0.4195503042936333\n",
      "Epoch 8, step 6500: Generator loss: 1.422828145027161, discriminator loss: 0.4167132105827333\n",
      "Epoch 8, step 7000: Generator loss: 1.425430921554566, discriminator loss: 0.42011980420351047\n",
      "Epoch 9, step 7500: Generator loss: 1.4157703132629396, discriminator loss: 0.4195164550542833\n",
      "Epoch 10, step 8000: Generator loss: 1.4199697091579446, discriminator loss: 0.419173289120197\n",
      "Epoch 10, step 8500: Generator loss: 1.4158622236251823, discriminator loss: 0.42130522590875635\n",
      "Epoch 11, step 9000: Generator loss: 1.4243175995349906, discriminator loss: 0.4175881668925282\n",
      "Epoch 11, step 9500: Generator loss: 1.415352692365646, discriminator loss: 0.42096390962600727\n",
      "Epoch 12, step 10000: Generator loss: 1.421974001169204, discriminator loss: 0.41819742476940147\n",
      "Epoch 13, step 10500: Generator loss: 1.4172903959751124, discriminator loss: 0.41986806035041796\n",
      "Epoch 13, step 11000: Generator loss: 1.41347824215889, discriminator loss: 0.419757517516613\n",
      "Epoch 14, step 11500: Generator loss: 1.4193576896190645, discriminator loss: 0.4208907971382141\n",
      "Epoch 15, step 12000: Generator loss: 1.4171080245971694, discriminator loss: 0.4173784987926481\n",
      "Epoch 15, step 12500: Generator loss: 1.4138646333217608, discriminator loss: 0.41998010528087604\n",
      "Epoch 16, step 13000: Generator loss: 1.420517722368239, discriminator loss: 0.4191196771264078\n",
      "Epoch 16, step 13500: Generator loss: 1.4108244740963, discriminator loss: 0.4206053878664969\n",
      "Epoch 17, step 14000: Generator loss: 1.4134199063777924, discriminator loss: 0.4213644092679025\n",
      "Epoch 18, step 14500: Generator loss: 1.416762253999711, discriminator loss: 0.4186882874369618\n",
      "Epoch 18, step 15000: Generator loss: 1.4253948869705206, discriminator loss: 0.4192365572452547\n",
      "Epoch 19, step 15500: Generator loss: 1.4197319266796107, discriminator loss: 0.41951353204250263\n",
      "Epoch 20, step 16000: Generator loss: 1.4224762678146368, discriminator loss: 0.4201573755741123\n",
      "Epoch 20, step 16500: Generator loss: 1.4225523920059204, discriminator loss: 0.4193636893033977\n",
      "Epoch 21, step 17000: Generator loss: 1.4161640605926504, discriminator loss: 0.42119356346130404\n",
      "Epoch 21, step 17500: Generator loss: 1.414270909547804, discriminator loss: 0.41942955595254927\n",
      "Epoch 22, step 18000: Generator loss: 1.4202848057746897, discriminator loss: 0.4203617612719534\n",
      "Epoch 23, step 18500: Generator loss: 1.426406712532045, discriminator loss: 0.41776812487840664\n",
      "Epoch 23, step 19000: Generator loss: 1.4223378837108607, discriminator loss: 0.4184880273938181\n",
      "Epoch 24, step 19500: Generator loss: 1.4223013906478879, discriminator loss: 0.41933323150873164\n",
      "Epoch 25, step 20000: Generator loss: 1.4228950333595276, discriminator loss: 0.4205706429481509\n",
      "Epoch 25, step 20500: Generator loss: 1.4191360354423526, discriminator loss: 0.420113092362881\n",
      "Epoch 26, step 21000: Generator loss: 1.4218008000850673, discriminator loss: 0.41689090919494626\n",
      "Epoch 26, step 21500: Generator loss: 1.417811153411865, discriminator loss: 0.42125028938055065\n",
      "Epoch 27, step 22000: Generator loss: 1.4098548400402067, discriminator loss: 0.42228856331110015\n",
      "Epoch 28, step 22500: Generator loss: 1.4194260385036472, discriminator loss: 0.420277372360229\n",
      "Epoch 28, step 23000: Generator loss: 1.4196242012977596, discriminator loss: 0.41797118455171606\n",
      "Epoch 29, step 23500: Generator loss: 1.4163214199543004, discriminator loss: 0.4184323480129243\n",
      "Epoch 30, step 24000: Generator loss: 1.4204102027416228, discriminator loss: 0.41952870196104064\n",
      "Epoch 30, step 24500: Generator loss: 1.4186405072212218, discriminator loss: 0.41798130506277115\n",
      "Epoch 31, step 25000: Generator loss: 1.4292232708930974, discriminator loss: 0.41758780258893996\n",
      "Epoch 31, step 25500: Generator loss: 1.4298888952732087, discriminator loss: 0.41683209663629534\n",
      "Epoch 32, step 26000: Generator loss: 1.4170211188793183, discriminator loss: 0.4191982451081281\n",
      "Epoch 33, step 26500: Generator loss: 1.423233255624772, discriminator loss: 0.4192033581733703\n",
      "Epoch 33, step 27000: Generator loss: 1.4163666355609885, discriminator loss: 0.4213965219855318\n",
      "Epoch 34, step 27500: Generator loss: 1.4186643607616405, discriminator loss: 0.4204314345717433\n",
      "Epoch 35, step 28000: Generator loss: 1.4188263320922823, discriminator loss: 0.4186791373491292\n",
      "Epoch 35, step 28500: Generator loss: 1.413934813499451, discriminator loss: 0.41961379766464235\n",
      "Epoch 36, step 29000: Generator loss: 1.4129028258323668, discriminator loss: 0.4208939087390898\n",
      "Epoch 36, step 29500: Generator loss: 1.4153949894905093, discriminator loss: 0.4183966769576076\n",
      "Epoch 37, step 30000: Generator loss: 1.4199794669151284, discriminator loss: 0.41986598646640755\n",
      "Epoch 38, step 30500: Generator loss: 1.4175353662967685, discriminator loss: 0.4180340333580972\n",
      "Epoch 38, step 31000: Generator loss: 1.4159042055606856, discriminator loss: 0.42126418012380606\n",
      "Epoch 39, step 31500: Generator loss: 1.4155712034702301, discriminator loss: 0.41886069154739397\n",
      "Epoch 40, step 32000: Generator loss: 1.4192834494113915, discriminator loss: 0.419648702383041\n",
      "Epoch 40, step 32500: Generator loss: 1.414560583353043, discriminator loss: 0.42144119298458116\n",
      "Epoch 41, step 33000: Generator loss: 1.4120174524784082, discriminator loss: 0.42052689832449\n",
      "Epoch 41, step 33500: Generator loss: 1.414746924161909, discriminator loss: 0.4198981619477274\n",
      "Epoch 42, step 34000: Generator loss: 1.421313942432402, discriminator loss: 0.42005705589056036\n",
      "Epoch 43, step 34500: Generator loss: 1.4164466478824633, discriminator loss: 0.41975486278533936\n",
      "Epoch 43, step 35000: Generator loss: 1.4193174214363098, discriminator loss: 0.4186797170639038\n",
      "Epoch 44, step 35500: Generator loss: 1.4120024199485766, discriminator loss: 0.4204337345361708\n",
      "Epoch 45, step 36000: Generator loss: 1.4163761308193208, discriminator loss: 0.4202040959596632\n",
      "Epoch 45, step 36500: Generator loss: 1.422073504924774, discriminator loss: 0.418883689165115\n",
      "Epoch 46, step 37000: Generator loss: 1.405455960273742, discriminator loss: 0.4203467390537263\n",
      "Epoch 46, step 37500: Generator loss: 1.422432930469513, discriminator loss: 0.42058186149597193\n",
      "Epoch 47, step 38000: Generator loss: 1.4210274398326879, discriminator loss: 0.4198002983331681\n",
      "Epoch 48, step 38500: Generator loss: 1.4168771851062791, discriminator loss: 0.4189336188435553\n",
      "Epoch 48, step 39000: Generator loss: 1.4139733860492696, discriminator loss: 0.42038625079393427\n",
      "Epoch 49, step 39500: Generator loss: 1.4165530083179496, discriminator loss: 0.42108814734220495\n",
      "Epoch 50, step 40000: Generator loss: 1.417212285757064, discriminator loss: 0.41967191946506477\n",
      "Epoch 50, step 40500: Generator loss: 1.4155419085025782, discriminator loss: 0.4195949659347537\n",
      "Epoch 51, step 41000: Generator loss: 1.4177769703865042, discriminator loss: 0.42021556448936465\n",
      "Epoch 51, step 41500: Generator loss: 1.4145090420246125, discriminator loss: 0.4192265518307686\n",
      "Epoch 52, step 42000: Generator loss: 1.4192463068962087, discriminator loss: 0.4174383684396742\n",
      "Epoch 53, step 42500: Generator loss: 1.4258807532787312, discriminator loss: 0.4175485882759094\n",
      "Epoch 53, step 43000: Generator loss: 1.4210967755317696, discriminator loss: 0.41898750829696657\n",
      "Epoch 54, step 43500: Generator loss: 1.4053589265346513, discriminator loss: 0.42104093295335815\n",
      "Epoch 55, step 44000: Generator loss: 1.424140156507492, discriminator loss: 0.41876520049571997\n",
      "Epoch 55, step 44500: Generator loss: 1.4178536329269407, discriminator loss: 0.4183045794963838\n",
      "Epoch 56, step 45000: Generator loss: 1.411360391616823, discriminator loss: 0.4219966281652449\n",
      "Epoch 56, step 45500: Generator loss: 1.4145435237884525, discriminator loss: 0.42061854362487805\n",
      "Epoch 57, step 46000: Generator loss: 1.4143686499595638, discriminator loss: 0.4199277483820911\n",
      "Epoch 58, step 46500: Generator loss: 1.4213434488773355, discriminator loss: 0.41812666058540343\n",
      "Epoch 58, step 47000: Generator loss: 1.4168218755722042, discriminator loss: 0.4182269105911252\n",
      "Epoch 59, step 47500: Generator loss: 1.4191766185760506, discriminator loss: 0.4183148404359815\n",
      "Epoch 60, step 48000: Generator loss: 1.4206491913795483, discriminator loss: 0.42011663895845414\n",
      "Epoch 60, step 48500: Generator loss: 1.4200725078582757, discriminator loss: 0.4177257391810416\n",
      "Epoch 61, step 49000: Generator loss: 1.404699469327926, discriminator loss: 0.42106690871715563\n",
      "Epoch 61, step 49500: Generator loss: 1.4170197093486794, discriminator loss: 0.4204798880815506\n",
      "Epoch 62, step 50000: Generator loss: 1.4134554963111876, discriminator loss: 0.4216438315510754\n",
      "Epoch 63, step 50500: Generator loss: 1.4091978425979619, discriminator loss: 0.42095961087942096\n",
      "Epoch 63, step 51000: Generator loss: 1.412871530771254, discriminator loss: 0.41960014945268626\n",
      "Epoch 64, step 51500: Generator loss: 1.4123375322818765, discriminator loss: 0.42045039272308365\n",
      "Epoch 65, step 52000: Generator loss: 1.4186413855552666, discriminator loss: 0.4203152161836624\n",
      "Epoch 65, step 52500: Generator loss: 1.4169129719734181, discriminator loss: 0.41895294123888005\n",
      "Epoch 66, step 53000: Generator loss: 1.4215391383171088, discriminator loss: 0.4186293423771858\n",
      "Epoch 66, step 53500: Generator loss: 1.4242421472072608, discriminator loss: 0.41944613415002824\n",
      "Epoch 67, step 54000: Generator loss: 1.4084578437805175, discriminator loss: 0.42038872975111\n",
      "Epoch 68, step 54500: Generator loss: 1.4150093231201168, discriminator loss: 0.4207255370616915\n",
      "Epoch 68, step 55000: Generator loss: 1.4172956066131577, discriminator loss: 0.4206434494256967\n",
      "Epoch 69, step 55500: Generator loss: 1.4100005559921247, discriminator loss: 0.41930830127000845\n",
      "Epoch 70, step 56000: Generator loss: 1.4182633905410753, discriminator loss: 0.419997467577457\n",
      "Epoch 70, step 56500: Generator loss: 1.4211436574459058, discriminator loss: 0.4188960005640983\n",
      "Epoch 71, step 57000: Generator loss: 1.4121199512481684, discriminator loss: 0.4210046305656434\n",
      "Epoch 71, step 57500: Generator loss: 1.4184613244533526, discriminator loss: 0.41796238917112366\n",
      "Epoch 72, step 58000: Generator loss: 1.4150159556865711, discriminator loss: 0.4213324699401855\n",
      "Epoch 73, step 58500: Generator loss: 1.4200908229351055, discriminator loss: 0.41839547580480546\n",
      "Epoch 73, step 59000: Generator loss: 1.4139223985671991, discriminator loss: 0.42023379778862\n",
      "Epoch 74, step 59500: Generator loss: 1.4168188650608062, discriminator loss: 0.4207622437477115\n",
      "Epoch 75, step 60000: Generator loss: 1.4117264833450318, discriminator loss: 0.42037443912029226\n",
      "Epoch 75, step 60500: Generator loss: 1.419711346149445, discriminator loss: 0.4198549994826317\n",
      "Epoch 76, step 61000: Generator loss: 1.4159894802570359, discriminator loss: 0.4207467033267022\n",
      "Epoch 76, step 61500: Generator loss: 1.4063987264633189, discriminator loss: 0.4188238903880122\n",
      "Epoch 77, step 62000: Generator loss: 1.4160088825225838, discriminator loss: 0.4224161370396619\n",
      "Epoch 78, step 62500: Generator loss: 1.4166927235126496, discriminator loss: 0.4198008242249487\n",
      "Epoch 78, step 63000: Generator loss: 1.4073249747753147, discriminator loss: 0.42163044005632444\n",
      "Epoch 79, step 63500: Generator loss: 1.415993571519852, discriminator loss: 0.42027267640829086\n",
      "Epoch 80, step 64000: Generator loss: 1.4062339248657234, discriminator loss: 0.42042408645153045\n",
      "Epoch 80, step 64500: Generator loss: 1.418850859403611, discriminator loss: 0.42006720262765895\n",
      "Epoch 81, step 65000: Generator loss: 1.417100166559217, discriminator loss: 0.4177727155089382\n",
      "Epoch 81, step 65500: Generator loss: 1.4095363838672639, discriminator loss: 0.42048831152916\n",
      "Epoch 82, step 66000: Generator loss: 1.4154714877605443, discriminator loss: 0.4196214068531991\n",
      "Epoch 83, step 66500: Generator loss: 1.4140311930179594, discriminator loss: 0.41898103457689273\n",
      "Epoch 83, step 67000: Generator loss: 1.416054563999176, discriminator loss: 0.4196577244997025\n",
      "Epoch 84, step 67500: Generator loss: 1.4287277286052709, discriminator loss: 0.4161948924064639\n",
      "Epoch 85, step 68000: Generator loss: 1.4103373172283178, discriminator loss: 0.4214528922438624\n",
      "Epoch 85, step 68500: Generator loss: 1.4121972768306723, discriminator loss: 0.4199393829703331\n",
      "Epoch 86, step 69000: Generator loss: 1.4151823148727418, discriminator loss: 0.4202166061997412\n",
      "Epoch 86, step 69500: Generator loss: 1.414079104185102, discriminator loss: 0.42019457232952123\n",
      "Epoch 87, step 70000: Generator loss: 1.4160473878383646, discriminator loss: 0.4206281341314316\n",
      "Epoch 88, step 70500: Generator loss: 1.4124555459022508, discriminator loss: 0.42105660957098007\n",
      "Epoch 88, step 71000: Generator loss: 1.4171691591739637, discriminator loss: 0.41937266892194736\n",
      "Epoch 89, step 71500: Generator loss: 1.4083920626640323, discriminator loss: 0.4201777950525287\n",
      "Epoch 90, step 72000: Generator loss: 1.4101581227779396, discriminator loss: 0.42013624894619\n",
      "Epoch 90, step 72500: Generator loss: 1.4193755934238437, discriminator loss: 0.4171415002346035\n",
      "Epoch 91, step 73000: Generator loss: 1.4193370199203503, discriminator loss: 0.41996946215629594\n",
      "Epoch 91, step 73500: Generator loss: 1.4212687919139864, discriminator loss: 0.4184589851498606\n",
      "Epoch 92, step 74000: Generator loss: 1.4223200085163132, discriminator loss: 0.4207872613668443\n",
      "Epoch 93, step 74500: Generator loss: 1.424405487060546, discriminator loss: 0.4187649187445645\n",
      "Epoch 93, step 75000: Generator loss: 1.417851052761078, discriminator loss: 0.4211814386248588\n",
      "Epoch 94, step 75500: Generator loss: 1.4148999626636503, discriminator loss: 0.4204672459959988\n",
      "Epoch 95, step 76000: Generator loss: 1.4174134290218354, discriminator loss: 0.4188197640776632\n",
      "Epoch 95, step 76500: Generator loss: 1.4093244333267216, discriminator loss: 0.4211547889709469\n",
      "Epoch 96, step 77000: Generator loss: 1.4075774757862094, discriminator loss: 0.42098612660169615\n",
      "Epoch 96, step 77500: Generator loss: 1.418664967298508, discriminator loss: 0.4198650750517844\n",
      "Epoch 97, step 78000: Generator loss: 1.4150425374507902, discriminator loss: 0.4205013659596446\n",
      "Epoch 98, step 78500: Generator loss: 1.4126048641204823, discriminator loss: 0.4191987694501878\n",
      "Epoch 98, step 79000: Generator loss: 1.4074422979354861, discriminator loss: 0.4216851651668553\n",
      "Epoch 99, step 79500: Generator loss: 1.4181696865558633, discriminator loss: 0.41986397582292556\n"
     ]
    },
    {
     "data": {
      "text/plain": "  0%|          | 0/800 [00:00<?, ?it/s]",
      "application/vnd.jupyter.widget-view+json": {
       "version_major": 2,
       "version_minor": 0,
       "model_id": "84b3432a8f46485c8addd6c5acc1759a"
      }
     },
     "metadata": {},
     "output_type": "display_data"
    },
    {
     "data": {
      "text/plain": "  0%|          | 0/800 [00:00<?, ?it/s]",
      "application/vnd.jupyter.widget-view+json": {
       "version_major": 2,
       "version_minor": 0,
       "model_id": "0f24f78840964353905be73166d83b57"
      }
     },
     "metadata": {},
     "output_type": "display_data"
    },
    {
     "data": {
      "text/plain": "  0%|          | 0/800 [00:00<?, ?it/s]",
      "application/vnd.jupyter.widget-view+json": {
       "version_major": 2,
       "version_minor": 0,
       "model_id": "55360618801c4400aaf896a623b651d7"
      }
     },
     "metadata": {},
     "output_type": "display_data"
    },
    {
     "data": {
      "text/plain": "  0%|          | 0/800 [00:00<?, ?it/s]",
      "application/vnd.jupyter.widget-view+json": {
       "version_major": 2,
       "version_minor": 0,
       "model_id": "b2282b1ee50443489f4137bebcc14ec6"
      }
     },
     "metadata": {},
     "output_type": "display_data"
    },
    {
     "data": {
      "text/plain": "  0%|          | 0/800 [00:00<?, ?it/s]",
      "application/vnd.jupyter.widget-view+json": {
       "version_major": 2,
       "version_minor": 0,
       "model_id": "a8aae1a0bf13426592939f3bad023284"
      }
     },
     "metadata": {},
     "output_type": "display_data"
    },
    {
     "data": {
      "text/plain": "  0%|          | 0/800 [00:00<?, ?it/s]",
      "application/vnd.jupyter.widget-view+json": {
       "version_major": 2,
       "version_minor": 0,
       "model_id": "19a7c5a090cb46179d139d35a74050e9"
      }
     },
     "metadata": {},
     "output_type": "display_data"
    },
    {
     "data": {
      "text/plain": "  0%|          | 0/800 [00:00<?, ?it/s]",
      "application/vnd.jupyter.widget-view+json": {
       "version_major": 2,
       "version_minor": 0,
       "model_id": "0577fb7079f849b6952f056b3898ac9b"
      }
     },
     "metadata": {},
     "output_type": "display_data"
    },
    {
     "data": {
      "text/plain": "  0%|          | 0/800 [00:00<?, ?it/s]",
      "application/vnd.jupyter.widget-view+json": {
       "version_major": 2,
       "version_minor": 0,
       "model_id": "5748da9461954ca58dcd02dcca99ad17"
      }
     },
     "metadata": {},
     "output_type": "display_data"
    },
    {
     "data": {
      "text/plain": "  0%|          | 0/800 [00:00<?, ?it/s]",
      "application/vnd.jupyter.widget-view+json": {
       "version_major": 2,
       "version_minor": 0,
       "model_id": "46fa156bfc844b6a8edea82e201a05c1"
      }
     },
     "metadata": {},
     "output_type": "display_data"
    },
    {
     "data": {
      "text/plain": "  0%|          | 0/800 [00:00<?, ?it/s]",
      "application/vnd.jupyter.widget-view+json": {
       "version_major": 2,
       "version_minor": 0,
       "model_id": "c6e1ebcbb93a4c55aa3a6ed3b2f88cef"
      }
     },
     "metadata": {},
     "output_type": "display_data"
    },
    {
     "data": {
      "text/plain": "  0%|          | 0/800 [00:00<?, ?it/s]",
      "application/vnd.jupyter.widget-view+json": {
       "version_major": 2,
       "version_minor": 0,
       "model_id": "450cbeeaf4814e7abfedc37ff8bb09d0"
      }
     },
     "metadata": {},
     "output_type": "display_data"
    },
    {
     "data": {
      "text/plain": "  0%|          | 0/800 [00:00<?, ?it/s]",
      "application/vnd.jupyter.widget-view+json": {
       "version_major": 2,
       "version_minor": 0,
       "model_id": "88b360388b5b4e779891738efe54a904"
      }
     },
     "metadata": {},
     "output_type": "display_data"
    },
    {
     "data": {
      "text/plain": "  0%|          | 0/800 [00:00<?, ?it/s]",
      "application/vnd.jupyter.widget-view+json": {
       "version_major": 2,
       "version_minor": 0,
       "model_id": "fc25831d92a3406387239f238aa7a376"
      }
     },
     "metadata": {},
     "output_type": "display_data"
    },
    {
     "data": {
      "text/plain": "  0%|          | 0/800 [00:00<?, ?it/s]",
      "application/vnd.jupyter.widget-view+json": {
       "version_major": 2,
       "version_minor": 0,
       "model_id": "d65c66557bcc459fb0d945662ecc50b4"
      }
     },
     "metadata": {},
     "output_type": "display_data"
    },
    {
     "data": {
      "text/plain": "  0%|          | 0/800 [00:00<?, ?it/s]",
      "application/vnd.jupyter.widget-view+json": {
       "version_major": 2,
       "version_minor": 0,
       "model_id": "8c866fa8c5b04909b89638a3c749b79c"
      }
     },
     "metadata": {},
     "output_type": "display_data"
    },
    {
     "data": {
      "text/plain": "  0%|          | 0/800 [00:00<?, ?it/s]",
      "application/vnd.jupyter.widget-view+json": {
       "version_major": 2,
       "version_minor": 0,
       "model_id": "eef2638daecd41e887b9dc5d7b3c44c3"
      }
     },
     "metadata": {},
     "output_type": "display_data"
    },
    {
     "data": {
      "text/plain": "  0%|          | 0/800 [00:00<?, ?it/s]",
      "application/vnd.jupyter.widget-view+json": {
       "version_major": 2,
       "version_minor": 0,
       "model_id": "2e55201a1852417daaf98add3a6c3e99"
      }
     },
     "metadata": {},
     "output_type": "display_data"
    },
    {
     "data": {
      "text/plain": "  0%|          | 0/800 [00:00<?, ?it/s]",
      "application/vnd.jupyter.widget-view+json": {
       "version_major": 2,
       "version_minor": 0,
       "model_id": "2d039c718dff49028373c0863a510692"
      }
     },
     "metadata": {},
     "output_type": "display_data"
    },
    {
     "data": {
      "text/plain": "  0%|          | 0/800 [00:00<?, ?it/s]",
      "application/vnd.jupyter.widget-view+json": {
       "version_major": 2,
       "version_minor": 0,
       "model_id": "de99f988b9f74e8281bbe3121b3ced21"
      }
     },
     "metadata": {},
     "output_type": "display_data"
    },
    {
     "data": {
      "text/plain": "  0%|          | 0/800 [00:00<?, ?it/s]",
      "application/vnd.jupyter.widget-view+json": {
       "version_major": 2,
       "version_minor": 0,
       "model_id": "75a746f3534c4e019cf83830896e91fa"
      }
     },
     "metadata": {},
     "output_type": "display_data"
    },
    {
     "data": {
      "text/plain": "  0%|          | 0/800 [00:00<?, ?it/s]",
      "application/vnd.jupyter.widget-view+json": {
       "version_major": 2,
       "version_minor": 0,
       "model_id": "6162b88d4a6446f2a30229e0f248837d"
      }
     },
     "metadata": {},
     "output_type": "display_data"
    },
    {
     "data": {
      "text/plain": "  0%|          | 0/800 [00:00<?, ?it/s]",
      "application/vnd.jupyter.widget-view+json": {
       "version_major": 2,
       "version_minor": 0,
       "model_id": "bdba967f20c5480ebd9a71fe29fe184f"
      }
     },
     "metadata": {},
     "output_type": "display_data"
    },
    {
     "data": {
      "text/plain": "  0%|          | 0/800 [00:00<?, ?it/s]",
      "application/vnd.jupyter.widget-view+json": {
       "version_major": 2,
       "version_minor": 0,
       "model_id": "601fe72815e34ea7a2f138460745ae39"
      }
     },
     "metadata": {},
     "output_type": "display_data"
    },
    {
     "data": {
      "text/plain": "  0%|          | 0/800 [00:00<?, ?it/s]",
      "application/vnd.jupyter.widget-view+json": {
       "version_major": 2,
       "version_minor": 0,
       "model_id": "6e6797bfd45044308ea38e78626e4193"
      }
     },
     "metadata": {},
     "output_type": "display_data"
    },
    {
     "data": {
      "text/plain": "  0%|          | 0/800 [00:00<?, ?it/s]",
      "application/vnd.jupyter.widget-view+json": {
       "version_major": 2,
       "version_minor": 0,
       "model_id": "2d110df9f4f942d198ed9a2e83328c86"
      }
     },
     "metadata": {},
     "output_type": "display_data"
    },
    {
     "data": {
      "text/plain": "  0%|          | 0/800 [00:00<?, ?it/s]",
      "application/vnd.jupyter.widget-view+json": {
       "version_major": 2,
       "version_minor": 0,
       "model_id": "c0ad4a673e6640d79819e13feeff6659"
      }
     },
     "metadata": {},
     "output_type": "display_data"
    },
    {
     "data": {
      "text/plain": "  0%|          | 0/800 [00:00<?, ?it/s]",
      "application/vnd.jupyter.widget-view+json": {
       "version_major": 2,
       "version_minor": 0,
       "model_id": "1930778e49ba4956b030723be9d6fc09"
      }
     },
     "metadata": {},
     "output_type": "display_data"
    },
    {
     "data": {
      "text/plain": "  0%|          | 0/800 [00:00<?, ?it/s]",
      "application/vnd.jupyter.widget-view+json": {
       "version_major": 2,
       "version_minor": 0,
       "model_id": "3e35c49ddb8a42289f1b46df73d010e6"
      }
     },
     "metadata": {},
     "output_type": "display_data"
    },
    {
     "data": {
      "text/plain": "  0%|          | 0/800 [00:00<?, ?it/s]",
      "application/vnd.jupyter.widget-view+json": {
       "version_major": 2,
       "version_minor": 0,
       "model_id": "916c80c0ab924992acde35ca017cca56"
      }
     },
     "metadata": {},
     "output_type": "display_data"
    },
    {
     "data": {
      "text/plain": "  0%|          | 0/800 [00:00<?, ?it/s]",
      "application/vnd.jupyter.widget-view+json": {
       "version_major": 2,
       "version_minor": 0,
       "model_id": "14a65a84c8344c2b86583ab66d404d30"
      }
     },
     "metadata": {},
     "output_type": "display_data"
    },
    {
     "data": {
      "text/plain": "  0%|          | 0/800 [00:00<?, ?it/s]",
      "application/vnd.jupyter.widget-view+json": {
       "version_major": 2,
       "version_minor": 0,
       "model_id": "9603eea5918641a78a291d4c0cad3b52"
      }
     },
     "metadata": {},
     "output_type": "display_data"
    },
    {
     "data": {
      "text/plain": "  0%|          | 0/800 [00:00<?, ?it/s]",
      "application/vnd.jupyter.widget-view+json": {
       "version_major": 2,
       "version_minor": 0,
       "model_id": "89a2f4684a78444eb1e5e1b177bef244"
      }
     },
     "metadata": {},
     "output_type": "display_data"
    },
    {
     "data": {
      "text/plain": "  0%|          | 0/800 [00:00<?, ?it/s]",
      "application/vnd.jupyter.widget-view+json": {
       "version_major": 2,
       "version_minor": 0,
       "model_id": "a6676734e0894503b1cd6fc7f4d5357a"
      }
     },
     "metadata": {},
     "output_type": "display_data"
    },
    {
     "data": {
      "text/plain": "  0%|          | 0/800 [00:00<?, ?it/s]",
      "application/vnd.jupyter.widget-view+json": {
       "version_major": 2,
       "version_minor": 0,
       "model_id": "66bbfe77e74b48bfaf2786ce3b75b8b6"
      }
     },
     "metadata": {},
     "output_type": "display_data"
    },
    {
     "data": {
      "text/plain": "  0%|          | 0/800 [00:00<?, ?it/s]",
      "application/vnd.jupyter.widget-view+json": {
       "version_major": 2,
       "version_minor": 0,
       "model_id": "9c3c22784dd74678930ad1a41d8ff893"
      }
     },
     "metadata": {},
     "output_type": "display_data"
    },
    {
     "data": {
      "text/plain": "  0%|          | 0/800 [00:00<?, ?it/s]",
      "application/vnd.jupyter.widget-view+json": {
       "version_major": 2,
       "version_minor": 0,
       "model_id": "a6d3e524d5f44eda9634ec0737fe57fd"
      }
     },
     "metadata": {},
     "output_type": "display_data"
    },
    {
     "data": {
      "text/plain": "  0%|          | 0/800 [00:00<?, ?it/s]",
      "application/vnd.jupyter.widget-view+json": {
       "version_major": 2,
       "version_minor": 0,
       "model_id": "985a164a40a74656b7c0e6ba51791c16"
      }
     },
     "metadata": {},
     "output_type": "display_data"
    },
    {
     "data": {
      "text/plain": "  0%|          | 0/800 [00:00<?, ?it/s]",
      "application/vnd.jupyter.widget-view+json": {
       "version_major": 2,
       "version_minor": 0,
       "model_id": "53b7a097b5b7448e80744d01b9e8b3e2"
      }
     },
     "metadata": {},
     "output_type": "display_data"
    },
    {
     "data": {
      "text/plain": "  0%|          | 0/800 [00:00<?, ?it/s]",
      "application/vnd.jupyter.widget-view+json": {
       "version_major": 2,
       "version_minor": 0,
       "model_id": "51c31201e09741e6b824f717708bcbb2"
      }
     },
     "metadata": {},
     "output_type": "display_data"
    },
    {
     "data": {
      "text/plain": "  0%|          | 0/800 [00:00<?, ?it/s]",
      "application/vnd.jupyter.widget-view+json": {
       "version_major": 2,
       "version_minor": 0,
       "model_id": "6d14045bb97b406286b5309729cc5ac4"
      }
     },
     "metadata": {},
     "output_type": "display_data"
    },
    {
     "data": {
      "text/plain": "  0%|          | 0/800 [00:00<?, ?it/s]",
      "application/vnd.jupyter.widget-view+json": {
       "version_major": 2,
       "version_minor": 0,
       "model_id": "097828423de948a2b8bd35300b0bcfb8"
      }
     },
     "metadata": {},
     "output_type": "display_data"
    },
    {
     "data": {
      "text/plain": "  0%|          | 0/800 [00:00<?, ?it/s]",
      "application/vnd.jupyter.widget-view+json": {
       "version_major": 2,
       "version_minor": 0,
       "model_id": "08651901f2f942138fd80b8ab829ae56"
      }
     },
     "metadata": {},
     "output_type": "display_data"
    },
    {
     "data": {
      "text/plain": "  0%|          | 0/800 [00:00<?, ?it/s]",
      "application/vnd.jupyter.widget-view+json": {
       "version_major": 2,
       "version_minor": 0,
       "model_id": "08842c0f0db94ee39a5bdd4612cdb8ab"
      }
     },
     "metadata": {},
     "output_type": "display_data"
    },
    {
     "data": {
      "text/plain": "  0%|          | 0/800 [00:00<?, ?it/s]",
      "application/vnd.jupyter.widget-view+json": {
       "version_major": 2,
       "version_minor": 0,
       "model_id": "36cb5aa3707c4cceb9533f7ccf6f41d3"
      }
     },
     "metadata": {},
     "output_type": "display_data"
    },
    {
     "data": {
      "text/plain": "  0%|          | 0/800 [00:00<?, ?it/s]",
      "application/vnd.jupyter.widget-view+json": {
       "version_major": 2,
       "version_minor": 0,
       "model_id": "927ac86e64364772beced676c27055fb"
      }
     },
     "metadata": {},
     "output_type": "display_data"
    },
    {
     "data": {
      "text/plain": "  0%|          | 0/800 [00:00<?, ?it/s]",
      "application/vnd.jupyter.widget-view+json": {
       "version_major": 2,
       "version_minor": 0,
       "model_id": "9bcdd4bb220e4bddbca885b49c8284d7"
      }
     },
     "metadata": {},
     "output_type": "display_data"
    },
    {
     "data": {
      "text/plain": "  0%|          | 0/800 [00:00<?, ?it/s]",
      "application/vnd.jupyter.widget-view+json": {
       "version_major": 2,
       "version_minor": 0,
       "model_id": "8b642f251bb5418c9a895d833de37bc9"
      }
     },
     "metadata": {},
     "output_type": "display_data"
    },
    {
     "data": {
      "text/plain": "  0%|          | 0/800 [00:00<?, ?it/s]",
      "application/vnd.jupyter.widget-view+json": {
       "version_major": 2,
       "version_minor": 0,
       "model_id": "6ecd98177549490da19248b0da74c709"
      }
     },
     "metadata": {},
     "output_type": "display_data"
    },
    {
     "data": {
      "text/plain": "  0%|          | 0/800 [00:00<?, ?it/s]",
      "application/vnd.jupyter.widget-view+json": {
       "version_major": 2,
       "version_minor": 0,
       "model_id": "05b22b6625c34eb99ea7ce41bef50186"
      }
     },
     "metadata": {},
     "output_type": "display_data"
    },
    {
     "data": {
      "text/plain": "  0%|          | 0/800 [00:00<?, ?it/s]",
      "application/vnd.jupyter.widget-view+json": {
       "version_major": 2,
       "version_minor": 0,
       "model_id": "3975ccf231764417bbfcd02c00c5bd97"
      }
     },
     "metadata": {},
     "output_type": "display_data"
    },
    {
     "data": {
      "text/plain": "  0%|          | 0/800 [00:00<?, ?it/s]",
      "application/vnd.jupyter.widget-view+json": {
       "version_major": 2,
       "version_minor": 0,
       "model_id": "7b4c06df0dc04351a9499d63a2b28745"
      }
     },
     "metadata": {},
     "output_type": "display_data"
    },
    {
     "data": {
      "text/plain": "  0%|          | 0/800 [00:00<?, ?it/s]",
      "application/vnd.jupyter.widget-view+json": {
       "version_major": 2,
       "version_minor": 0,
       "model_id": "d4a18c1ecc294238bf18730ad194a390"
      }
     },
     "metadata": {},
     "output_type": "display_data"
    },
    {
     "data": {
      "text/plain": "  0%|          | 0/800 [00:00<?, ?it/s]",
      "application/vnd.jupyter.widget-view+json": {
       "version_major": 2,
       "version_minor": 0,
       "model_id": "8ad3cf72d99d47698e855047937016d4"
      }
     },
     "metadata": {},
     "output_type": "display_data"
    },
    {
     "data": {
      "text/plain": "  0%|          | 0/800 [00:00<?, ?it/s]",
      "application/vnd.jupyter.widget-view+json": {
       "version_major": 2,
       "version_minor": 0,
       "model_id": "cb1fe5fe50fd4eeb804e1a222ce0e2d5"
      }
     },
     "metadata": {},
     "output_type": "display_data"
    },
    {
     "data": {
      "text/plain": "  0%|          | 0/800 [00:00<?, ?it/s]",
      "application/vnd.jupyter.widget-view+json": {
       "version_major": 2,
       "version_minor": 0,
       "model_id": "aadcb3fe5eaf41178138e652f03dfcb8"
      }
     },
     "metadata": {},
     "output_type": "display_data"
    },
    {
     "data": {
      "text/plain": "  0%|          | 0/800 [00:00<?, ?it/s]",
      "application/vnd.jupyter.widget-view+json": {
       "version_major": 2,
       "version_minor": 0,
       "model_id": "1ba1d81dc26b4313a38176ba484180b5"
      }
     },
     "metadata": {},
     "output_type": "display_data"
    },
    {
     "data": {
      "text/plain": "  0%|          | 0/800 [00:00<?, ?it/s]",
      "application/vnd.jupyter.widget-view+json": {
       "version_major": 2,
       "version_minor": 0,
       "model_id": "66a333d753ae4a3d88178728cc206620"
      }
     },
     "metadata": {},
     "output_type": "display_data"
    },
    {
     "data": {
      "text/plain": "  0%|          | 0/800 [00:00<?, ?it/s]",
      "application/vnd.jupyter.widget-view+json": {
       "version_major": 2,
       "version_minor": 0,
       "model_id": "322e656860dc4cafbc9abca97f78b47f"
      }
     },
     "metadata": {},
     "output_type": "display_data"
    },
    {
     "data": {
      "text/plain": "  0%|          | 0/800 [00:00<?, ?it/s]",
      "application/vnd.jupyter.widget-view+json": {
       "version_major": 2,
       "version_minor": 0,
       "model_id": "831f1f36c8cc4063a812ccfc776e2abc"
      }
     },
     "metadata": {},
     "output_type": "display_data"
    },
    {
     "data": {
      "text/plain": "  0%|          | 0/800 [00:00<?, ?it/s]",
      "application/vnd.jupyter.widget-view+json": {
       "version_major": 2,
       "version_minor": 0,
       "model_id": "e014d72ddd1a4c83aae1527f0585395a"
      }
     },
     "metadata": {},
     "output_type": "display_data"
    },
    {
     "data": {
      "text/plain": "  0%|          | 0/800 [00:00<?, ?it/s]",
      "application/vnd.jupyter.widget-view+json": {
       "version_major": 2,
       "version_minor": 0,
       "model_id": "cec2a036f788490fb2a64405ea0933ab"
      }
     },
     "metadata": {},
     "output_type": "display_data"
    },
    {
     "data": {
      "text/plain": "  0%|          | 0/800 [00:00<?, ?it/s]",
      "application/vnd.jupyter.widget-view+json": {
       "version_major": 2,
       "version_minor": 0,
       "model_id": "9c16dfc49cdf45c2a139d89e80729d6a"
      }
     },
     "metadata": {},
     "output_type": "display_data"
    },
    {
     "data": {
      "text/plain": "  0%|          | 0/800 [00:00<?, ?it/s]",
      "application/vnd.jupyter.widget-view+json": {
       "version_major": 2,
       "version_minor": 0,
       "model_id": "a84e2dfd2177428ca9a3b9f782d1c317"
      }
     },
     "metadata": {},
     "output_type": "display_data"
    },
    {
     "data": {
      "text/plain": "  0%|          | 0/800 [00:00<?, ?it/s]",
      "application/vnd.jupyter.widget-view+json": {
       "version_major": 2,
       "version_minor": 0,
       "model_id": "7691940921cb4fc3b2c9784954f85101"
      }
     },
     "metadata": {},
     "output_type": "display_data"
    },
    {
     "data": {
      "text/plain": "  0%|          | 0/800 [00:00<?, ?it/s]",
      "application/vnd.jupyter.widget-view+json": {
       "version_major": 2,
       "version_minor": 0,
       "model_id": "4ccd51ee26714b2b90c796632e293062"
      }
     },
     "metadata": {},
     "output_type": "display_data"
    },
    {
     "data": {
      "text/plain": "  0%|          | 0/800 [00:00<?, ?it/s]",
      "application/vnd.jupyter.widget-view+json": {
       "version_major": 2,
       "version_minor": 0,
       "model_id": "1f458db2f5974f979a65a57a9a1317b0"
      }
     },
     "metadata": {},
     "output_type": "display_data"
    },
    {
     "data": {
      "text/plain": "  0%|          | 0/800 [00:00<?, ?it/s]",
      "application/vnd.jupyter.widget-view+json": {
       "version_major": 2,
       "version_minor": 0,
       "model_id": "bfa573676ff2443a9c22f4ca18e3fce8"
      }
     },
     "metadata": {},
     "output_type": "display_data"
    },
    {
     "data": {
      "text/plain": "  0%|          | 0/800 [00:00<?, ?it/s]",
      "application/vnd.jupyter.widget-view+json": {
       "version_major": 2,
       "version_minor": 0,
       "model_id": "619224fa0da840778189a10af775bd6a"
      }
     },
     "metadata": {},
     "output_type": "display_data"
    },
    {
     "data": {
      "text/plain": "  0%|          | 0/800 [00:00<?, ?it/s]",
      "application/vnd.jupyter.widget-view+json": {
       "version_major": 2,
       "version_minor": 0,
       "model_id": "e93e68f304154327baae3424c353aee0"
      }
     },
     "metadata": {},
     "output_type": "display_data"
    },
    {
     "data": {
      "text/plain": "  0%|          | 0/800 [00:00<?, ?it/s]",
      "application/vnd.jupyter.widget-view+json": {
       "version_major": 2,
       "version_minor": 0,
       "model_id": "20176235aabc4809bd8ec85c4fb5326f"
      }
     },
     "metadata": {},
     "output_type": "display_data"
    },
    {
     "data": {
      "text/plain": "  0%|          | 0/800 [00:00<?, ?it/s]",
      "application/vnd.jupyter.widget-view+json": {
       "version_major": 2,
       "version_minor": 0,
       "model_id": "fb24867cde174a8a8f2de8875ec95066"
      }
     },
     "metadata": {},
     "output_type": "display_data"
    },
    {
     "data": {
      "text/plain": "  0%|          | 0/800 [00:00<?, ?it/s]",
      "application/vnd.jupyter.widget-view+json": {
       "version_major": 2,
       "version_minor": 0,
       "model_id": "dcf4fbf00d3148e8a51eae64f10813df"
      }
     },
     "metadata": {},
     "output_type": "display_data"
    },
    {
     "data": {
      "text/plain": "  0%|          | 0/800 [00:00<?, ?it/s]",
      "application/vnd.jupyter.widget-view+json": {
       "version_major": 2,
       "version_minor": 0,
       "model_id": "90447365c0604e49887855818a24de79"
      }
     },
     "metadata": {},
     "output_type": "display_data"
    },
    {
     "data": {
      "text/plain": "  0%|          | 0/800 [00:00<?, ?it/s]",
      "application/vnd.jupyter.widget-view+json": {
       "version_major": 2,
       "version_minor": 0,
       "model_id": "94c911f59e7a4f7994fb242bd8252516"
      }
     },
     "metadata": {},
     "output_type": "display_data"
    },
    {
     "data": {
      "text/plain": "  0%|          | 0/800 [00:00<?, ?it/s]",
      "application/vnd.jupyter.widget-view+json": {
       "version_major": 2,
       "version_minor": 0,
       "model_id": "e854a2be53d64d0e9188c42de879408a"
      }
     },
     "metadata": {},
     "output_type": "display_data"
    },
    {
     "data": {
      "text/plain": "  0%|          | 0/800 [00:00<?, ?it/s]",
      "application/vnd.jupyter.widget-view+json": {
       "version_major": 2,
       "version_minor": 0,
       "model_id": "316749a5c987495aa11e2105233682e3"
      }
     },
     "metadata": {},
     "output_type": "display_data"
    },
    {
     "data": {
      "text/plain": "  0%|          | 0/800 [00:00<?, ?it/s]",
      "application/vnd.jupyter.widget-view+json": {
       "version_major": 2,
       "version_minor": 0,
       "model_id": "ca910d488a6c40c980205a397a9ec7ca"
      }
     },
     "metadata": {},
     "output_type": "display_data"
    },
    {
     "data": {
      "text/plain": "  0%|          | 0/800 [00:00<?, ?it/s]",
      "application/vnd.jupyter.widget-view+json": {
       "version_major": 2,
       "version_minor": 0,
       "model_id": "f20e5840826f4d18baac2a4954045c47"
      }
     },
     "metadata": {},
     "output_type": "display_data"
    },
    {
     "data": {
      "text/plain": "  0%|          | 0/800 [00:00<?, ?it/s]",
      "application/vnd.jupyter.widget-view+json": {
       "version_major": 2,
       "version_minor": 0,
       "model_id": "78339b35d04b4c39aa53e96a519211d3"
      }
     },
     "metadata": {},
     "output_type": "display_data"
    },
    {
     "data": {
      "text/plain": "  0%|          | 0/800 [00:00<?, ?it/s]",
      "application/vnd.jupyter.widget-view+json": {
       "version_major": 2,
       "version_minor": 0,
       "model_id": "0fa289ea603e48db9885c81fb127765d"
      }
     },
     "metadata": {},
     "output_type": "display_data"
    },
    {
     "data": {
      "text/plain": "  0%|          | 0/800 [00:00<?, ?it/s]",
      "application/vnd.jupyter.widget-view+json": {
       "version_major": 2,
       "version_minor": 0,
       "model_id": "2f1b32ce76464da08cb34947c87db93f"
      }
     },
     "metadata": {},
     "output_type": "display_data"
    },
    {
     "data": {
      "text/plain": "  0%|          | 0/800 [00:00<?, ?it/s]",
      "application/vnd.jupyter.widget-view+json": {
       "version_major": 2,
       "version_minor": 0,
       "model_id": "70b70f533fe549e1b2e93d22ba8600e8"
      }
     },
     "metadata": {},
     "output_type": "display_data"
    },
    {
     "data": {
      "text/plain": "  0%|          | 0/800 [00:00<?, ?it/s]",
      "application/vnd.jupyter.widget-view+json": {
       "version_major": 2,
       "version_minor": 0,
       "model_id": "23e17ed6159549d9b4bbfadcd7e536f5"
      }
     },
     "metadata": {},
     "output_type": "display_data"
    },
    {
     "data": {
      "text/plain": "  0%|          | 0/800 [00:00<?, ?it/s]",
      "application/vnd.jupyter.widget-view+json": {
       "version_major": 2,
       "version_minor": 0,
       "model_id": "97d035fc40b14d488d6c19150d8b10a2"
      }
     },
     "metadata": {},
     "output_type": "display_data"
    },
    {
     "data": {
      "text/plain": "  0%|          | 0/800 [00:00<?, ?it/s]",
      "application/vnd.jupyter.widget-view+json": {
       "version_major": 2,
       "version_minor": 0,
       "model_id": "4a68c361de3e46e6927b984c912e5703"
      }
     },
     "metadata": {},
     "output_type": "display_data"
    },
    {
     "data": {
      "text/plain": "  0%|          | 0/800 [00:00<?, ?it/s]",
      "application/vnd.jupyter.widget-view+json": {
       "version_major": 2,
       "version_minor": 0,
       "model_id": "02ed9033cb0b4b4a9a94f7eb895e43a8"
      }
     },
     "metadata": {},
     "output_type": "display_data"
    },
    {
     "data": {
      "text/plain": "  0%|          | 0/800 [00:00<?, ?it/s]",
      "application/vnd.jupyter.widget-view+json": {
       "version_major": 2,
       "version_minor": 0,
       "model_id": "7bda57a1b3094da191cc71e97fb047a8"
      }
     },
     "metadata": {},
     "output_type": "display_data"
    },
    {
     "data": {
      "text/plain": "  0%|          | 0/800 [00:00<?, ?it/s]",
      "application/vnd.jupyter.widget-view+json": {
       "version_major": 2,
       "version_minor": 0,
       "model_id": "9c39dac5a60b4783869974b9807bdec7"
      }
     },
     "metadata": {},
     "output_type": "display_data"
    },
    {
     "data": {
      "text/plain": "  0%|          | 0/800 [00:00<?, ?it/s]",
      "application/vnd.jupyter.widget-view+json": {
       "version_major": 2,
       "version_minor": 0,
       "model_id": "396a24b945424fdb8387fc558559d4e0"
      }
     },
     "metadata": {},
     "output_type": "display_data"
    },
    {
     "data": {
      "text/plain": "  0%|          | 0/800 [00:00<?, ?it/s]",
      "application/vnd.jupyter.widget-view+json": {
       "version_major": 2,
       "version_minor": 0,
       "model_id": "38992f4a5caa48b2beeecea91246fc3b"
      }
     },
     "metadata": {},
     "output_type": "display_data"
    },
    {
     "data": {
      "text/plain": "  0%|          | 0/800 [00:00<?, ?it/s]",
      "application/vnd.jupyter.widget-view+json": {
       "version_major": 2,
       "version_minor": 0,
       "model_id": "159902e661744259b76e82a69bd7bb15"
      }
     },
     "metadata": {},
     "output_type": "display_data"
    },
    {
     "data": {
      "text/plain": "  0%|          | 0/800 [00:00<?, ?it/s]",
      "application/vnd.jupyter.widget-view+json": {
       "version_major": 2,
       "version_minor": 0,
       "model_id": "a6795c298647465f91f04537977135f3"
      }
     },
     "metadata": {},
     "output_type": "display_data"
    },
    {
     "data": {
      "text/plain": "  0%|          | 0/800 [00:00<?, ?it/s]",
      "application/vnd.jupyter.widget-view+json": {
       "version_major": 2,
       "version_minor": 0,
       "model_id": "2d1f220aa2304c3b820bfb7399d63524"
      }
     },
     "metadata": {},
     "output_type": "display_data"
    },
    {
     "data": {
      "text/plain": "  0%|          | 0/800 [00:00<?, ?it/s]",
      "application/vnd.jupyter.widget-view+json": {
       "version_major": 2,
       "version_minor": 0,
       "model_id": "34b6e337492c49aea44544ae2521ba98"
      }
     },
     "metadata": {},
     "output_type": "display_data"
    },
    {
     "data": {
      "text/plain": "  0%|          | 0/800 [00:00<?, ?it/s]",
      "application/vnd.jupyter.widget-view+json": {
       "version_major": 2,
       "version_minor": 0,
       "model_id": "92de1ecb0149432fbaaed77d424d4267"
      }
     },
     "metadata": {},
     "output_type": "display_data"
    },
    {
     "data": {
      "text/plain": "  0%|          | 0/800 [00:00<?, ?it/s]",
      "application/vnd.jupyter.widget-view+json": {
       "version_major": 2,
       "version_minor": 0,
       "model_id": "f805383cf9fe4bb1b1c98d1d923061fd"
      }
     },
     "metadata": {},
     "output_type": "display_data"
    },
    {
     "data": {
      "text/plain": "  0%|          | 0/800 [00:00<?, ?it/s]",
      "application/vnd.jupyter.widget-view+json": {
       "version_major": 2,
       "version_minor": 0,
       "model_id": "3ee782c1d18148298690fbdf15b1542c"
      }
     },
     "metadata": {},
     "output_type": "display_data"
    },
    {
     "data": {
      "text/plain": "  0%|          | 0/800 [00:00<?, ?it/s]",
      "application/vnd.jupyter.widget-view+json": {
       "version_major": 2,
       "version_minor": 0,
       "model_id": "a07e6b96040c465c84479ef27dcbc009"
      }
     },
     "metadata": {},
     "output_type": "display_data"
    },
    {
     "data": {
      "text/plain": "  0%|          | 0/800 [00:00<?, ?it/s]",
      "application/vnd.jupyter.widget-view+json": {
       "version_major": 2,
       "version_minor": 0,
       "model_id": "f142fb915813491695aa90374f0b7a6d"
      }
     },
     "metadata": {},
     "output_type": "display_data"
    },
    {
     "data": {
      "text/plain": "  0%|          | 0/800 [00:00<?, ?it/s]",
      "application/vnd.jupyter.widget-view+json": {
       "version_major": 2,
       "version_minor": 0,
       "model_id": "7dd824fb273d4725a4093c0bc63e305d"
      }
     },
     "metadata": {},
     "output_type": "display_data"
    },
    {
     "data": {
      "text/plain": "  0%|          | 0/800 [00:00<?, ?it/s]",
      "application/vnd.jupyter.widget-view+json": {
       "version_major": 2,
       "version_minor": 0,
       "model_id": "a1379505ed5a42feb0b02f130150595a"
      }
     },
     "metadata": {},
     "output_type": "display_data"
    },
    {
     "data": {
      "text/plain": "  0%|          | 0/800 [00:00<?, ?it/s]",
      "application/vnd.jupyter.widget-view+json": {
       "version_major": 2,
       "version_minor": 0,
       "model_id": "5c4ed62ba61448df85d833bc803eea09"
      }
     },
     "metadata": {},
     "output_type": "display_data"
    },
    {
     "data": {
      "text/plain": "  0%|          | 0/800 [00:00<?, ?it/s]",
      "application/vnd.jupyter.widget-view+json": {
       "version_major": 2,
       "version_minor": 0,
       "model_id": "17bd66569aba4a5ab82b4b75d8898852"
      }
     },
     "metadata": {},
     "output_type": "display_data"
    },
    {
     "data": {
      "text/plain": "  0%|          | 0/800 [00:00<?, ?it/s]",
      "application/vnd.jupyter.widget-view+json": {
       "version_major": 2,
       "version_minor": 0,
       "model_id": "6a58ba4eba63415d859923edbeee1fc1"
      }
     },
     "metadata": {},
     "output_type": "display_data"
    },
    {
     "data": {
      "text/plain": "  0%|          | 0/800 [00:00<?, ?it/s]",
      "application/vnd.jupyter.widget-view+json": {
       "version_major": 2,
       "version_minor": 0,
       "model_id": "a251abd3956841a7acaac3da95a3b8de"
      }
     },
     "metadata": {},
     "output_type": "display_data"
    },
    {
     "data": {
      "text/plain": "  0%|          | 0/800 [00:00<?, ?it/s]",
      "application/vnd.jupyter.widget-view+json": {
       "version_major": 2,
       "version_minor": 0,
       "model_id": "9938bd51453c49939fcf1c2329d4fdd8"
      }
     },
     "metadata": {},
     "output_type": "display_data"
    },
    {
     "data": {
      "text/plain": "  0%|          | 0/800 [00:00<?, ?it/s]",
      "application/vnd.jupyter.widget-view+json": {
       "version_major": 2,
       "version_minor": 0,
       "model_id": "44d18cc376ee4257a2762802eb920888"
      }
     },
     "metadata": {},
     "output_type": "display_data"
    },
    {
     "data": {
      "text/plain": "  0%|          | 0/800 [00:00<?, ?it/s]",
      "application/vnd.jupyter.widget-view+json": {
       "version_major": 2,
       "version_minor": 0,
       "model_id": "9ebc63d0a61b4aa8b3af603432537313"
      }
     },
     "metadata": {},
     "output_type": "display_data"
    },
    {
     "data": {
      "text/plain": "  0%|          | 0/800 [00:00<?, ?it/s]",
      "application/vnd.jupyter.widget-view+json": {
       "version_major": 2,
       "version_minor": 0,
       "model_id": "f222d36c0eeb40d986b72b0bf72975b3"
      }
     },
     "metadata": {},
     "output_type": "display_data"
    },
    {
     "data": {
      "text/plain": "  0%|          | 0/800 [00:00<?, ?it/s]",
      "application/vnd.jupyter.widget-view+json": {
       "version_major": 2,
       "version_minor": 0,
       "model_id": "68923b1fc7034e30b84b9efeb0477443"
      }
     },
     "metadata": {},
     "output_type": "display_data"
    },
    {
     "data": {
      "text/plain": "  0%|          | 0/800 [00:00<?, ?it/s]",
      "application/vnd.jupyter.widget-view+json": {
       "version_major": 2,
       "version_minor": 0,
       "model_id": "bdd3dedb19c64a808f5e7c6b44c99481"
      }
     },
     "metadata": {},
     "output_type": "display_data"
    },
    {
     "data": {
      "text/plain": "  0%|          | 0/800 [00:00<?, ?it/s]",
      "application/vnd.jupyter.widget-view+json": {
       "version_major": 2,
       "version_minor": 0,
       "model_id": "bcb0152d07e6466abc6572cf9d94c2e3"
      }
     },
     "metadata": {},
     "output_type": "display_data"
    },
    {
     "data": {
      "text/plain": "  0%|          | 0/800 [00:00<?, ?it/s]",
      "application/vnd.jupyter.widget-view+json": {
       "version_major": 2,
       "version_minor": 0,
       "model_id": "b9f3ad86c0da4ff89ac5394dd3c2dc9d"
      }
     },
     "metadata": {},
     "output_type": "display_data"
    },
    {
     "data": {
      "text/plain": "  0%|          | 0/800 [00:00<?, ?it/s]",
      "application/vnd.jupyter.widget-view+json": {
       "version_major": 2,
       "version_minor": 0,
       "model_id": "3b5928607a30490987cc32e3ba5c57de"
      }
     },
     "metadata": {},
     "output_type": "display_data"
    },
    {
     "data": {
      "text/plain": "  0%|          | 0/800 [00:00<?, ?it/s]",
      "application/vnd.jupyter.widget-view+json": {
       "version_major": 2,
       "version_minor": 0,
       "model_id": "1154526ebec3486bb0e6089b1514c976"
      }
     },
     "metadata": {},
     "output_type": "display_data"
    },
    {
     "data": {
      "text/plain": "  0%|          | 0/800 [00:00<?, ?it/s]",
      "application/vnd.jupyter.widget-view+json": {
       "version_major": 2,
       "version_minor": 0,
       "model_id": "6739c40ab9b44451a1cb8c5f77d07761"
      }
     },
     "metadata": {},
     "output_type": "display_data"
    },
    {
     "data": {
      "text/plain": "  0%|          | 0/800 [00:00<?, ?it/s]",
      "application/vnd.jupyter.widget-view+json": {
       "version_major": 2,
       "version_minor": 0,
       "model_id": "f9442fbf3e2843d697ba9193e81fc3b2"
      }
     },
     "metadata": {},
     "output_type": "display_data"
    },
    {
     "data": {
      "text/plain": "  0%|          | 0/800 [00:00<?, ?it/s]",
      "application/vnd.jupyter.widget-view+json": {
       "version_major": 2,
       "version_minor": 0,
       "model_id": "4e4d9b0afb4f44d596c3fb3abfe62064"
      }
     },
     "metadata": {},
     "output_type": "display_data"
    },
    {
     "data": {
      "text/plain": "  0%|          | 0/800 [00:00<?, ?it/s]",
      "application/vnd.jupyter.widget-view+json": {
       "version_major": 2,
       "version_minor": 0,
       "model_id": "1f92cd581d504e99a7ef60866e783485"
      }
     },
     "metadata": {},
     "output_type": "display_data"
    },
    {
     "data": {
      "text/plain": "  0%|          | 0/800 [00:00<?, ?it/s]",
      "application/vnd.jupyter.widget-view+json": {
       "version_major": 2,
       "version_minor": 0,
       "model_id": "e75dd43d917f4ab0bf0a10be1212c44e"
      }
     },
     "metadata": {},
     "output_type": "display_data"
    },
    {
     "data": {
      "text/plain": "  0%|          | 0/800 [00:00<?, ?it/s]",
      "application/vnd.jupyter.widget-view+json": {
       "version_major": 2,
       "version_minor": 0,
       "model_id": "7af936f6796f49119b8799b1f00a707b"
      }
     },
     "metadata": {},
     "output_type": "display_data"
    },
    {
     "data": {
      "text/plain": "  0%|          | 0/800 [00:00<?, ?it/s]",
      "application/vnd.jupyter.widget-view+json": {
       "version_major": 2,
       "version_minor": 0,
       "model_id": "ecfeb648b75a4b55bea0ef5d73cd1ee4"
      }
     },
     "metadata": {},
     "output_type": "display_data"
    },
    {
     "data": {
      "text/plain": "  0%|          | 0/800 [00:00<?, ?it/s]",
      "application/vnd.jupyter.widget-view+json": {
       "version_major": 2,
       "version_minor": 0,
       "model_id": "03dbc430d92f498e933c2a751ea6224f"
      }
     },
     "metadata": {},
     "output_type": "display_data"
    },
    {
     "data": {
      "text/plain": "  0%|          | 0/800 [00:00<?, ?it/s]",
      "application/vnd.jupyter.widget-view+json": {
       "version_major": 2,
       "version_minor": 0,
       "model_id": "5f1de31bf7684c58a113c7f7d44ad192"
      }
     },
     "metadata": {},
     "output_type": "display_data"
    },
    {
     "data": {
      "text/plain": "  0%|          | 0/800 [00:00<?, ?it/s]",
      "application/vnd.jupyter.widget-view+json": {
       "version_major": 2,
       "version_minor": 0,
       "model_id": "dae0df346aad49008222db6439607ae8"
      }
     },
     "metadata": {},
     "output_type": "display_data"
    },
    {
     "data": {
      "text/plain": "  0%|          | 0/800 [00:00<?, ?it/s]",
      "application/vnd.jupyter.widget-view+json": {
       "version_major": 2,
       "version_minor": 0,
       "model_id": "79b7d137e4664f1bb8003ec0bd9a8649"
      }
     },
     "metadata": {},
     "output_type": "display_data"
    },
    {
     "data": {
      "text/plain": "  0%|          | 0/800 [00:00<?, ?it/s]",
      "application/vnd.jupyter.widget-view+json": {
       "version_major": 2,
       "version_minor": 0,
       "model_id": "23e4bee19c93416dae877877073ce7f3"
      }
     },
     "metadata": {},
     "output_type": "display_data"
    },
    {
     "data": {
      "text/plain": "  0%|          | 0/800 [00:00<?, ?it/s]",
      "application/vnd.jupyter.widget-view+json": {
       "version_major": 2,
       "version_minor": 0,
       "model_id": "82eaecefe4ed46d1beb815f61bfbf95c"
      }
     },
     "metadata": {},
     "output_type": "display_data"
    },
    {
     "data": {
      "text/plain": "  0%|          | 0/800 [00:00<?, ?it/s]",
      "application/vnd.jupyter.widget-view+json": {
       "version_major": 2,
       "version_minor": 0,
       "model_id": "0847a271958d40368c3ab27f9e92c182"
      }
     },
     "metadata": {},
     "output_type": "display_data"
    },
    {
     "data": {
      "text/plain": "  0%|          | 0/800 [00:00<?, ?it/s]",
      "application/vnd.jupyter.widget-view+json": {
       "version_major": 2,
       "version_minor": 0,
       "model_id": "9ab37f55cee9432493ba37bc9c0879e0"
      }
     },
     "metadata": {},
     "output_type": "display_data"
    },
    {
     "data": {
      "text/plain": "  0%|          | 0/800 [00:00<?, ?it/s]",
      "application/vnd.jupyter.widget-view+json": {
       "version_major": 2,
       "version_minor": 0,
       "model_id": "656d72e0f5bb4c4c98625b7bf9fce807"
      }
     },
     "metadata": {},
     "output_type": "display_data"
    },
    {
     "data": {
      "text/plain": "  0%|          | 0/800 [00:00<?, ?it/s]",
      "application/vnd.jupyter.widget-view+json": {
       "version_major": 2,
       "version_minor": 0,
       "model_id": "a79ac8d65c7741b8b4e4710f6338c5f8"
      }
     },
     "metadata": {},
     "output_type": "display_data"
    },
    {
     "data": {
      "text/plain": "  0%|          | 0/800 [00:00<?, ?it/s]",
      "application/vnd.jupyter.widget-view+json": {
       "version_major": 2,
       "version_minor": 0,
       "model_id": "11e44330048e4eea86dc5242226ad6dd"
      }
     },
     "metadata": {},
     "output_type": "display_data"
    },
    {
     "data": {
      "text/plain": "  0%|          | 0/800 [00:00<?, ?it/s]",
      "application/vnd.jupyter.widget-view+json": {
       "version_major": 2,
       "version_minor": 0,
       "model_id": "f5fa9dee456b421293a67ce1a8211d41"
      }
     },
     "metadata": {},
     "output_type": "display_data"
    },
    {
     "data": {
      "text/plain": "  0%|          | 0/800 [00:00<?, ?it/s]",
      "application/vnd.jupyter.widget-view+json": {
       "version_major": 2,
       "version_minor": 0,
       "model_id": "af12f474652242258ce337d9c07ffdde"
      }
     },
     "metadata": {},
     "output_type": "display_data"
    },
    {
     "data": {
      "text/plain": "  0%|          | 0/800 [00:00<?, ?it/s]",
      "application/vnd.jupyter.widget-view+json": {
       "version_major": 2,
       "version_minor": 0,
       "model_id": "f9ee818f9c38464a9853656afe5254ee"
      }
     },
     "metadata": {},
     "output_type": "display_data"
    },
    {
     "data": {
      "text/plain": "  0%|          | 0/800 [00:00<?, ?it/s]",
      "application/vnd.jupyter.widget-view+json": {
       "version_major": 2,
       "version_minor": 0,
       "model_id": "ae4b774a886e4332b07bd4cd755d3937"
      }
     },
     "metadata": {},
     "output_type": "display_data"
    },
    {
     "data": {
      "text/plain": "  0%|          | 0/800 [00:00<?, ?it/s]",
      "application/vnd.jupyter.widget-view+json": {
       "version_major": 2,
       "version_minor": 0,
       "model_id": "f1472943111e46d1b561809693139399"
      }
     },
     "metadata": {},
     "output_type": "display_data"
    },
    {
     "data": {
      "text/plain": "  0%|          | 0/800 [00:00<?, ?it/s]",
      "application/vnd.jupyter.widget-view+json": {
       "version_major": 2,
       "version_minor": 0,
       "model_id": "52d32b5add1447b380ea8492074cd016"
      }
     },
     "metadata": {},
     "output_type": "display_data"
    },
    {
     "data": {
      "text/plain": "  0%|          | 0/800 [00:00<?, ?it/s]",
      "application/vnd.jupyter.widget-view+json": {
       "version_major": 2,
       "version_minor": 0,
       "model_id": "d8d5f2b1298c4380be336d14952a2432"
      }
     },
     "metadata": {},
     "output_type": "display_data"
    },
    {
     "data": {
      "text/plain": "  0%|          | 0/800 [00:00<?, ?it/s]",
      "application/vnd.jupyter.widget-view+json": {
       "version_major": 2,
       "version_minor": 0,
       "model_id": "4a8a7b1f34f547638c1bfabcb4cb58fa"
      }
     },
     "metadata": {},
     "output_type": "display_data"
    },
    {
     "data": {
      "text/plain": "  0%|          | 0/800 [00:00<?, ?it/s]",
      "application/vnd.jupyter.widget-view+json": {
       "version_major": 2,
       "version_minor": 0,
       "model_id": "03315775890d45be9c483289421fee17"
      }
     },
     "metadata": {},
     "output_type": "display_data"
    },
    {
     "data": {
      "text/plain": "  0%|          | 0/800 [00:00<?, ?it/s]",
      "application/vnd.jupyter.widget-view+json": {
       "version_major": 2,
       "version_minor": 0,
       "model_id": "7da0e8c096df4bafae892cb7e5a1db5c"
      }
     },
     "metadata": {},
     "output_type": "display_data"
    },
    {
     "data": {
      "text/plain": "  0%|          | 0/800 [00:00<?, ?it/s]",
      "application/vnd.jupyter.widget-view+json": {
       "version_major": 2,
       "version_minor": 0,
       "model_id": "8e69b3887ed84bd9aeef67f72a2893bf"
      }
     },
     "metadata": {},
     "output_type": "display_data"
    },
    {
     "data": {
      "text/plain": "  0%|          | 0/800 [00:00<?, ?it/s]",
      "application/vnd.jupyter.widget-view+json": {
       "version_major": 2,
       "version_minor": 0,
       "model_id": "ac9880bdddf34c0f8486d2ef272f8398"
      }
     },
     "metadata": {},
     "output_type": "display_data"
    },
    {
     "data": {
      "text/plain": "  0%|          | 0/800 [00:00<?, ?it/s]",
      "application/vnd.jupyter.widget-view+json": {
       "version_major": 2,
       "version_minor": 0,
       "model_id": "101fe60a91be4d39be1cc6461acb2d31"
      }
     },
     "metadata": {},
     "output_type": "display_data"
    },
    {
     "data": {
      "text/plain": "  0%|          | 0/800 [00:00<?, ?it/s]",
      "application/vnd.jupyter.widget-view+json": {
       "version_major": 2,
       "version_minor": 0,
       "model_id": "5856fbb467794f0881c2f7be731ecdd0"
      }
     },
     "metadata": {},
     "output_type": "display_data"
    },
    {
     "data": {
      "text/plain": "  0%|          | 0/800 [00:00<?, ?it/s]",
      "application/vnd.jupyter.widget-view+json": {
       "version_major": 2,
       "version_minor": 0,
       "model_id": "9b6492456ee04a85bb75bc82fb9a5d05"
      }
     },
     "metadata": {},
     "output_type": "display_data"
    },
    {
     "data": {
      "text/plain": "  0%|          | 0/800 [00:00<?, ?it/s]",
      "application/vnd.jupyter.widget-view+json": {
       "version_major": 2,
       "version_minor": 0,
       "model_id": "0b915b48e0ef42bfa5c3f757c52a8951"
      }
     },
     "metadata": {},
     "output_type": "display_data"
    },
    {
     "data": {
      "text/plain": "  0%|          | 0/800 [00:00<?, ?it/s]",
      "application/vnd.jupyter.widget-view+json": {
       "version_major": 2,
       "version_minor": 0,
       "model_id": "934bf6c8182e4e038e98451969866eac"
      }
     },
     "metadata": {},
     "output_type": "display_data"
    },
    {
     "data": {
      "text/plain": "  0%|          | 0/800 [00:00<?, ?it/s]",
      "application/vnd.jupyter.widget-view+json": {
       "version_major": 2,
       "version_minor": 0,
       "model_id": "83f09e6b17b44c43acb1b689d9e18211"
      }
     },
     "metadata": {},
     "output_type": "display_data"
    },
    {
     "data": {
      "text/plain": "  0%|          | 0/800 [00:00<?, ?it/s]",
      "application/vnd.jupyter.widget-view+json": {
       "version_major": 2,
       "version_minor": 0,
       "model_id": "e62f821a806848d9a868eff98e5a04ea"
      }
     },
     "metadata": {},
     "output_type": "display_data"
    },
    {
     "data": {
      "text/plain": "  0%|          | 0/800 [00:00<?, ?it/s]",
      "application/vnd.jupyter.widget-view+json": {
       "version_major": 2,
       "version_minor": 0,
       "model_id": "61908ccbb2884f459a77fe362491d5a3"
      }
     },
     "metadata": {},
     "output_type": "display_data"
    },
    {
     "data": {
      "text/plain": "  0%|          | 0/800 [00:00<?, ?it/s]",
      "application/vnd.jupyter.widget-view+json": {
       "version_major": 2,
       "version_minor": 0,
       "model_id": "87a8ffab2d4e493190816e570b7656f9"
      }
     },
     "metadata": {},
     "output_type": "display_data"
    },
    {
     "data": {
      "text/plain": "  0%|          | 0/800 [00:00<?, ?it/s]",
      "application/vnd.jupyter.widget-view+json": {
       "version_major": 2,
       "version_minor": 0,
       "model_id": "4c555833eb0b491db4fc95808a1157fc"
      }
     },
     "metadata": {},
     "output_type": "display_data"
    },
    {
     "data": {
      "text/plain": "  0%|          | 0/800 [00:00<?, ?it/s]",
      "application/vnd.jupyter.widget-view+json": {
       "version_major": 2,
       "version_minor": 0,
       "model_id": "6bf4924315374a72a3be423d21fb01eb"
      }
     },
     "metadata": {},
     "output_type": "display_data"
    },
    {
     "data": {
      "text/plain": "  0%|          | 0/800 [00:00<?, ?it/s]",
      "application/vnd.jupyter.widget-view+json": {
       "version_major": 2,
       "version_minor": 0,
       "model_id": "43f93cdf3447469ea7c51332e3bc9b62"
      }
     },
     "metadata": {},
     "output_type": "display_data"
    },
    {
     "data": {
      "text/plain": "  0%|          | 0/800 [00:00<?, ?it/s]",
      "application/vnd.jupyter.widget-view+json": {
       "version_major": 2,
       "version_minor": 0,
       "model_id": "f4ca5c3729524b3b82276dcbe5a9ffe9"
      }
     },
     "metadata": {},
     "output_type": "display_data"
    },
    {
     "data": {
      "text/plain": "  0%|          | 0/800 [00:00<?, ?it/s]",
      "application/vnd.jupyter.widget-view+json": {
       "version_major": 2,
       "version_minor": 0,
       "model_id": "da5f5dec723f464495b6f7871bfc022c"
      }
     },
     "metadata": {},
     "output_type": "display_data"
    },
    {
     "data": {
      "text/plain": "  0%|          | 0/800 [00:00<?, ?it/s]",
      "application/vnd.jupyter.widget-view+json": {
       "version_major": 2,
       "version_minor": 0,
       "model_id": "205cd42218ba4223b65d1f39605c0033"
      }
     },
     "metadata": {},
     "output_type": "display_data"
    },
    {
     "data": {
      "text/plain": "  0%|          | 0/800 [00:00<?, ?it/s]",
      "application/vnd.jupyter.widget-view+json": {
       "version_major": 2,
       "version_minor": 0,
       "model_id": "724229149e8f4988ad8889bf2c8caa4f"
      }
     },
     "metadata": {},
     "output_type": "display_data"
    },
    {
     "data": {
      "text/plain": "  0%|          | 0/800 [00:00<?, ?it/s]",
      "application/vnd.jupyter.widget-view+json": {
       "version_major": 2,
       "version_minor": 0,
       "model_id": "76e443b47e7b4225bf1c855bad3b0bd2"
      }
     },
     "metadata": {},
     "output_type": "display_data"
    },
    {
     "data": {
      "text/plain": "  0%|          | 0/800 [00:00<?, ?it/s]",
      "application/vnd.jupyter.widget-view+json": {
       "version_major": 2,
       "version_minor": 0,
       "model_id": "e4269c2c219e4f1793f1fb655719acc0"
      }
     },
     "metadata": {},
     "output_type": "display_data"
    },
    {
     "data": {
      "text/plain": "  0%|          | 0/800 [00:00<?, ?it/s]",
      "application/vnd.jupyter.widget-view+json": {
       "version_major": 2,
       "version_minor": 0,
       "model_id": "13321a3c45604700b18e293b49be9480"
      }
     },
     "metadata": {},
     "output_type": "display_data"
    },
    {
     "data": {
      "text/plain": "  0%|          | 0/800 [00:00<?, ?it/s]",
      "application/vnd.jupyter.widget-view+json": {
       "version_major": 2,
       "version_minor": 0,
       "model_id": "135111da8858489aa5c20b93e686b045"
      }
     },
     "metadata": {},
     "output_type": "display_data"
    },
    {
     "data": {
      "text/plain": "  0%|          | 0/800 [00:00<?, ?it/s]",
      "application/vnd.jupyter.widget-view+json": {
       "version_major": 2,
       "version_minor": 0,
       "model_id": "3e54853dc1df48d4b21ae68d3a0c20aa"
      }
     },
     "metadata": {},
     "output_type": "display_data"
    },
    {
     "data": {
      "text/plain": "  0%|          | 0/800 [00:00<?, ?it/s]",
      "application/vnd.jupyter.widget-view+json": {
       "version_major": 2,
       "version_minor": 0,
       "model_id": "b61d3ba95f5c4fb2b677dfe299c72af0"
      }
     },
     "metadata": {},
     "output_type": "display_data"
    },
    {
     "data": {
      "text/plain": "  0%|          | 0/800 [00:00<?, ?it/s]",
      "application/vnd.jupyter.widget-view+json": {
       "version_major": 2,
       "version_minor": 0,
       "model_id": "746a735ae669489f94864f7aa05f2610"
      }
     },
     "metadata": {},
     "output_type": "display_data"
    },
    {
     "data": {
      "text/plain": "  0%|          | 0/800 [00:00<?, ?it/s]",
      "application/vnd.jupyter.widget-view+json": {
       "version_major": 2,
       "version_minor": 0,
       "model_id": "e5fa1bfc3b7d4af6a3e7d71b8bbe771b"
      }
     },
     "metadata": {},
     "output_type": "display_data"
    },
    {
     "data": {
      "text/plain": "  0%|          | 0/800 [00:00<?, ?it/s]",
      "application/vnd.jupyter.widget-view+json": {
       "version_major": 2,
       "version_minor": 0,
       "model_id": "aa6d96e75fce470286dc7b7e4cfd92ab"
      }
     },
     "metadata": {},
     "output_type": "display_data"
    },
    {
     "data": {
      "text/plain": "  0%|          | 0/800 [00:00<?, ?it/s]",
      "application/vnd.jupyter.widget-view+json": {
       "version_major": 2,
       "version_minor": 0,
       "model_id": "6d428264cbe34ac08ec6526787c51ccd"
      }
     },
     "metadata": {},
     "output_type": "display_data"
    },
    {
     "data": {
      "text/plain": "  0%|          | 0/800 [00:00<?, ?it/s]",
      "application/vnd.jupyter.widget-view+json": {
       "version_major": 2,
       "version_minor": 0,
       "model_id": "d414de4cb6dd42368d2eb5de507c79ca"
      }
     },
     "metadata": {},
     "output_type": "display_data"
    },
    {
     "data": {
      "text/plain": "  0%|          | 0/800 [00:00<?, ?it/s]",
      "application/vnd.jupyter.widget-view+json": {
       "version_major": 2,
       "version_minor": 0,
       "model_id": "5a9c32d766b245dfb172fd924dc72923"
      }
     },
     "metadata": {},
     "output_type": "display_data"
    },
    {
     "data": {
      "text/plain": "  0%|          | 0/800 [00:00<?, ?it/s]",
      "application/vnd.jupyter.widget-view+json": {
       "version_major": 2,
       "version_minor": 0,
       "model_id": "0659d5cd472e4b91b222d1be73ffa7a4"
      }
     },
     "metadata": {},
     "output_type": "display_data"
    },
    {
     "data": {
      "text/plain": "  0%|          | 0/800 [00:00<?, ?it/s]",
      "application/vnd.jupyter.widget-view+json": {
       "version_major": 2,
       "version_minor": 0,
       "model_id": "e452e0f579344418abc622f418a71d20"
      }
     },
     "metadata": {},
     "output_type": "display_data"
    },
    {
     "data": {
      "text/plain": "  0%|          | 0/800 [00:00<?, ?it/s]",
      "application/vnd.jupyter.widget-view+json": {
       "version_major": 2,
       "version_minor": 0,
       "model_id": "ee398275067d4c8cb32e50f5b242dd4b"
      }
     },
     "metadata": {},
     "output_type": "display_data"
    },
    {
     "data": {
      "text/plain": "  0%|          | 0/800 [00:00<?, ?it/s]",
      "application/vnd.jupyter.widget-view+json": {
       "version_major": 2,
       "version_minor": 0,
       "model_id": "91ad669e817f4a7d9122ff285f33ce8f"
      }
     },
     "metadata": {},
     "output_type": "display_data"
    },
    {
     "data": {
      "text/plain": "  0%|          | 0/800 [00:00<?, ?it/s]",
      "application/vnd.jupyter.widget-view+json": {
       "version_major": 2,
       "version_minor": 0,
       "model_id": "76d98063f8d7429a845483fe2fd2dbd7"
      }
     },
     "metadata": {},
     "output_type": "display_data"
    },
    {
     "data": {
      "text/plain": "  0%|          | 0/800 [00:00<?, ?it/s]",
      "application/vnd.jupyter.widget-view+json": {
       "version_major": 2,
       "version_minor": 0,
       "model_id": "6f3f65b705d64a9bb7838a089e4688bf"
      }
     },
     "metadata": {},
     "output_type": "display_data"
    },
    {
     "data": {
      "text/plain": "  0%|          | 0/800 [00:00<?, ?it/s]",
      "application/vnd.jupyter.widget-view+json": {
       "version_major": 2,
       "version_minor": 0,
       "model_id": "89edc768add84730931a9b7681cd939b"
      }
     },
     "metadata": {},
     "output_type": "display_data"
    },
    {
     "data": {
      "text/plain": "  0%|          | 0/800 [00:00<?, ?it/s]",
      "application/vnd.jupyter.widget-view+json": {
       "version_major": 2,
       "version_minor": 0,
       "model_id": "84385ccb9b414f7d8ab6ce9248bca834"
      }
     },
     "metadata": {},
     "output_type": "display_data"
    },
    {
     "data": {
      "text/plain": "  0%|          | 0/800 [00:00<?, ?it/s]",
      "application/vnd.jupyter.widget-view+json": {
       "version_major": 2,
       "version_minor": 0,
       "model_id": "d04160c306224076be54013d6629981a"
      }
     },
     "metadata": {},
     "output_type": "display_data"
    },
    {
     "data": {
      "text/plain": "  0%|          | 0/800 [00:00<?, ?it/s]",
      "application/vnd.jupyter.widget-view+json": {
       "version_major": 2,
       "version_minor": 0,
       "model_id": "8cbf99a6bf3d4ffb82f75c969f9c6535"
      }
     },
     "metadata": {},
     "output_type": "display_data"
    },
    {
     "data": {
      "text/plain": "  0%|          | 0/800 [00:00<?, ?it/s]",
      "application/vnd.jupyter.widget-view+json": {
       "version_major": 2,
       "version_minor": 0,
       "model_id": "222f1256744f4f88b858a4933d22b7ea"
      }
     },
     "metadata": {},
     "output_type": "display_data"
    },
    {
     "data": {
      "text/plain": "  0%|          | 0/800 [00:00<?, ?it/s]",
      "application/vnd.jupyter.widget-view+json": {
       "version_major": 2,
       "version_minor": 0,
       "model_id": "2d569827a29e438b808cbfdfcdd4948c"
      }
     },
     "metadata": {},
     "output_type": "display_data"
    },
    {
     "data": {
      "text/plain": "  0%|          | 0/800 [00:00<?, ?it/s]",
      "application/vnd.jupyter.widget-view+json": {
       "version_major": 2,
       "version_minor": 0,
       "model_id": "67ffc8b8701b41cb8dee8326b888f874"
      }
     },
     "metadata": {},
     "output_type": "display_data"
    },
    {
     "data": {
      "text/plain": "  0%|          | 0/800 [00:00<?, ?it/s]",
      "application/vnd.jupyter.widget-view+json": {
       "version_major": 2,
       "version_minor": 0,
       "model_id": "c44a3a6547e344db8012e273f48ed57e"
      }
     },
     "metadata": {},
     "output_type": "display_data"
    },
    {
     "data": {
      "text/plain": "  0%|          | 0/800 [00:00<?, ?it/s]",
      "application/vnd.jupyter.widget-view+json": {
       "version_major": 2,
       "version_minor": 0,
       "model_id": "1379dc8008154d16880aec6ebaa35bf8"
      }
     },
     "metadata": {},
     "output_type": "display_data"
    },
    {
     "data": {
      "text/plain": "  0%|          | 0/800 [00:00<?, ?it/s]",
      "application/vnd.jupyter.widget-view+json": {
       "version_major": 2,
       "version_minor": 0,
       "model_id": "93315f0e3bcb4b07894e77ba80397f29"
      }
     },
     "metadata": {},
     "output_type": "display_data"
    },
    {
     "data": {
      "text/plain": "  0%|          | 0/800 [00:00<?, ?it/s]",
      "application/vnd.jupyter.widget-view+json": {
       "version_major": 2,
       "version_minor": 0,
       "model_id": "38c209acf6904c7687d67656c48e078d"
      }
     },
     "metadata": {},
     "output_type": "display_data"
    },
    {
     "data": {
      "text/plain": "  0%|          | 0/800 [00:00<?, ?it/s]",
      "application/vnd.jupyter.widget-view+json": {
       "version_major": 2,
       "version_minor": 0,
       "model_id": "5d7963fb0b12426b9cfce4743e3c071e"
      }
     },
     "metadata": {},
     "output_type": "display_data"
    },
    {
     "data": {
      "text/plain": "  0%|          | 0/800 [00:00<?, ?it/s]",
      "application/vnd.jupyter.widget-view+json": {
       "version_major": 2,
       "version_minor": 0,
       "model_id": "cf653234b91e4c96a100818fd97e398c"
      }
     },
     "metadata": {},
     "output_type": "display_data"
    },
    {
     "data": {
      "text/plain": "  0%|          | 0/800 [00:00<?, ?it/s]",
      "application/vnd.jupyter.widget-view+json": {
       "version_major": 2,
       "version_minor": 0,
       "model_id": "922fefc53939421e86203d5b422d5fc4"
      }
     },
     "metadata": {},
     "output_type": "display_data"
    },
    {
     "data": {
      "text/plain": "  0%|          | 0/800 [00:00<?, ?it/s]",
      "application/vnd.jupyter.widget-view+json": {
       "version_major": 2,
       "version_minor": 0,
       "model_id": "7b053be5f9cb4c49b893dd89de7ceaf3"
      }
     },
     "metadata": {},
     "output_type": "display_data"
    },
    {
     "data": {
      "text/plain": "  0%|          | 0/800 [00:00<?, ?it/s]",
      "application/vnd.jupyter.widget-view+json": {
       "version_major": 2,
       "version_minor": 0,
       "model_id": "b395cfc461084325b1484edab8a52b73"
      }
     },
     "metadata": {},
     "output_type": "display_data"
    },
    {
     "data": {
      "text/plain": "  0%|          | 0/800 [00:00<?, ?it/s]",
      "application/vnd.jupyter.widget-view+json": {
       "version_major": 2,
       "version_minor": 0,
       "model_id": "954ced1930c2487ab757e99ea9f73a71"
      }
     },
     "metadata": {},
     "output_type": "display_data"
    },
    {
     "data": {
      "text/plain": "  0%|          | 0/800 [00:00<?, ?it/s]",
      "application/vnd.jupyter.widget-view+json": {
       "version_major": 2,
       "version_minor": 0,
       "model_id": "4d2c77dfce4b455c804b25cc148c7b78"
      }
     },
     "metadata": {},
     "output_type": "display_data"
    },
    {
     "data": {
      "text/plain": "  0%|          | 0/800 [00:00<?, ?it/s]",
      "application/vnd.jupyter.widget-view+json": {
       "version_major": 2,
       "version_minor": 0,
       "model_id": "dbe72fa85d6c43c4aab793ebfb652e63"
      }
     },
     "metadata": {},
     "output_type": "display_data"
    },
    {
     "data": {
      "text/plain": "  0%|          | 0/800 [00:00<?, ?it/s]",
      "application/vnd.jupyter.widget-view+json": {
       "version_major": 2,
       "version_minor": 0,
       "model_id": "0e6c230d1f564104997609439d7ea2bb"
      }
     },
     "metadata": {},
     "output_type": "display_data"
    },
    {
     "data": {
      "text/plain": "  0%|          | 0/800 [00:00<?, ?it/s]",
      "application/vnd.jupyter.widget-view+json": {
       "version_major": 2,
       "version_minor": 0,
       "model_id": "66c4479bf8244114bb2a20ea8766d2f0"
      }
     },
     "metadata": {},
     "output_type": "display_data"
    },
    {
     "data": {
      "text/plain": "  0%|          | 0/800 [00:00<?, ?it/s]",
      "application/vnd.jupyter.widget-view+json": {
       "version_major": 2,
       "version_minor": 0,
       "model_id": "4589f8326b6d40ddb2bbbc9e53f6b8bd"
      }
     },
     "metadata": {},
     "output_type": "display_data"
    },
    {
     "data": {
      "text/plain": "  0%|          | 0/800 [00:00<?, ?it/s]",
      "application/vnd.jupyter.widget-view+json": {
       "version_major": 2,
       "version_minor": 0,
       "model_id": "6ea130b4e7d4460f8d2019e1f1650653"
      }
     },
     "metadata": {},
     "output_type": "display_data"
    },
    {
     "data": {
      "text/plain": "  0%|          | 0/800 [00:00<?, ?it/s]",
      "application/vnd.jupyter.widget-view+json": {
       "version_major": 2,
       "version_minor": 0,
       "model_id": "283bc0967d9a4118b20af32987906391"
      }
     },
     "metadata": {},
     "output_type": "display_data"
    },
    {
     "data": {
      "text/plain": "  0%|          | 0/800 [00:00<?, ?it/s]",
      "application/vnd.jupyter.widget-view+json": {
       "version_major": 2,
       "version_minor": 0,
       "model_id": "1ddd515dae68443ea5b401a51a4140f3"
      }
     },
     "metadata": {},
     "output_type": "display_data"
    },
    {
     "data": {
      "text/plain": "  0%|          | 0/800 [00:00<?, ?it/s]",
      "application/vnd.jupyter.widget-view+json": {
       "version_major": 2,
       "version_minor": 0,
       "model_id": "7b5f176ae876472597e7495d9de755c3"
      }
     },
     "metadata": {},
     "output_type": "display_data"
    },
    {
     "data": {
      "text/plain": "  0%|          | 0/800 [00:00<?, ?it/s]",
      "application/vnd.jupyter.widget-view+json": {
       "version_major": 2,
       "version_minor": 0,
       "model_id": "8240b45eaaa6497685a8cddb105a04bf"
      }
     },
     "metadata": {},
     "output_type": "display_data"
    },
    {
     "data": {
      "text/plain": "  0%|          | 0/800 [00:00<?, ?it/s]",
      "application/vnd.jupyter.widget-view+json": {
       "version_major": 2,
       "version_minor": 0,
       "model_id": "83b078bd675e475f9c641037ef8d0d9a"
      }
     },
     "metadata": {},
     "output_type": "display_data"
    },
    {
     "data": {
      "text/plain": "  0%|          | 0/800 [00:00<?, ?it/s]",
      "application/vnd.jupyter.widget-view+json": {
       "version_major": 2,
       "version_minor": 0,
       "model_id": "d1d398487e73463ea8009272e26f90df"
      }
     },
     "metadata": {},
     "output_type": "display_data"
    },
    {
     "data": {
      "text/plain": "  0%|          | 0/800 [00:00<?, ?it/s]",
      "application/vnd.jupyter.widget-view+json": {
       "version_major": 2,
       "version_minor": 0,
       "model_id": "b7d2bda59d3b46a08ee633b2598c50c2"
      }
     },
     "metadata": {},
     "output_type": "display_data"
    },
    {
     "data": {
      "text/plain": "  0%|          | 0/800 [00:00<?, ?it/s]",
      "application/vnd.jupyter.widget-view+json": {
       "version_major": 2,
       "version_minor": 0,
       "model_id": "09123fff7dc846e29b38a011d86a2e47"
      }
     },
     "metadata": {},
     "output_type": "display_data"
    },
    {
     "data": {
      "text/plain": "  0%|          | 0/800 [00:00<?, ?it/s]",
      "application/vnd.jupyter.widget-view+json": {
       "version_major": 2,
       "version_minor": 0,
       "model_id": "c5aea5cd8d4d4be59136a00cc4141a13"
      }
     },
     "metadata": {},
     "output_type": "display_data"
    },
    {
     "data": {
      "text/plain": "  0%|          | 0/800 [00:00<?, ?it/s]",
      "application/vnd.jupyter.widget-view+json": {
       "version_major": 2,
       "version_minor": 0,
       "model_id": "f12a73d037e34b90820c4fc781946604"
      }
     },
     "metadata": {},
     "output_type": "display_data"
    },
    {
     "data": {
      "text/plain": "  0%|          | 0/800 [00:00<?, ?it/s]",
      "application/vnd.jupyter.widget-view+json": {
       "version_major": 2,
       "version_minor": 0,
       "model_id": "724cd38cc2e8419987f753c27b60873e"
      }
     },
     "metadata": {},
     "output_type": "display_data"
    },
    {
     "data": {
      "text/plain": "  0%|          | 0/800 [00:00<?, ?it/s]",
      "application/vnd.jupyter.widget-view+json": {
       "version_major": 2,
       "version_minor": 0,
       "model_id": "872a6d2fb3bc491093db8f66582c3165"
      }
     },
     "metadata": {},
     "output_type": "display_data"
    },
    {
     "data": {
      "text/plain": "  0%|          | 0/800 [00:00<?, ?it/s]",
      "application/vnd.jupyter.widget-view+json": {
       "version_major": 2,
       "version_minor": 0,
       "model_id": "fdcd55bd29644e5289a124b80fd04215"
      }
     },
     "metadata": {},
     "output_type": "display_data"
    },
    {
     "data": {
      "text/plain": "  0%|          | 0/800 [00:00<?, ?it/s]",
      "application/vnd.jupyter.widget-view+json": {
       "version_major": 2,
       "version_minor": 0,
       "model_id": "eab019b65d1448f29f3a1d1a79eaeb67"
      }
     },
     "metadata": {},
     "output_type": "display_data"
    },
    {
     "data": {
      "text/plain": "  0%|          | 0/800 [00:00<?, ?it/s]",
      "application/vnd.jupyter.widget-view+json": {
       "version_major": 2,
       "version_minor": 0,
       "model_id": "14e275a6ff224fbd8f3107b0313c0eb2"
      }
     },
     "metadata": {},
     "output_type": "display_data"
    },
    {
     "data": {
      "text/plain": "  0%|          | 0/800 [00:00<?, ?it/s]",
      "application/vnd.jupyter.widget-view+json": {
       "version_major": 2,
       "version_minor": 0,
       "model_id": "692b8a5b5d3442c9b6e8d7e8e192fc64"
      }
     },
     "metadata": {},
     "output_type": "display_data"
    },
    {
     "data": {
      "text/plain": "  0%|          | 0/800 [00:00<?, ?it/s]",
      "application/vnd.jupyter.widget-view+json": {
       "version_major": 2,
       "version_minor": 0,
       "model_id": "0c32bc4c6a254a55a0f6f3aa47be5c40"
      }
     },
     "metadata": {},
     "output_type": "display_data"
    },
    {
     "data": {
      "text/plain": "  0%|          | 0/800 [00:00<?, ?it/s]",
      "application/vnd.jupyter.widget-view+json": {
       "version_major": 2,
       "version_minor": 0,
       "model_id": "f5a5e631dd034343a6bd3b6b5f6d350e"
      }
     },
     "metadata": {},
     "output_type": "display_data"
    },
    {
     "data": {
      "text/plain": "  0%|          | 0/800 [00:00<?, ?it/s]",
      "application/vnd.jupyter.widget-view+json": {
       "version_major": 2,
       "version_minor": 0,
       "model_id": "716b01e9c8c1477ca594e2837f7fb524"
      }
     },
     "metadata": {},
     "output_type": "display_data"
    },
    {
     "data": {
      "text/plain": "  0%|          | 0/800 [00:00<?, ?it/s]",
      "application/vnd.jupyter.widget-view+json": {
       "version_major": 2,
       "version_minor": 0,
       "model_id": "5fb75f7bf289467ea07a75a4e31fe175"
      }
     },
     "metadata": {},
     "output_type": "display_data"
    },
    {
     "data": {
      "text/plain": "  0%|          | 0/800 [00:00<?, ?it/s]",
      "application/vnd.jupyter.widget-view+json": {
       "version_major": 2,
       "version_minor": 0,
       "model_id": "a886664e61d04ad8a7dc865efb8d5351"
      }
     },
     "metadata": {},
     "output_type": "display_data"
    },
    {
     "data": {
      "text/plain": "  0%|          | 0/800 [00:00<?, ?it/s]",
      "application/vnd.jupyter.widget-view+json": {
       "version_major": 2,
       "version_minor": 0,
       "model_id": "a4ef12b01e30422c83f6d46ba42d8870"
      }
     },
     "metadata": {},
     "output_type": "display_data"
    },
    {
     "data": {
      "text/plain": "  0%|          | 0/800 [00:00<?, ?it/s]",
      "application/vnd.jupyter.widget-view+json": {
       "version_major": 2,
       "version_minor": 0,
       "model_id": "df1047f9ac944ca0a74508d537073dfd"
      }
     },
     "metadata": {},
     "output_type": "display_data"
    },
    {
     "data": {
      "text/plain": "  0%|          | 0/800 [00:00<?, ?it/s]",
      "application/vnd.jupyter.widget-view+json": {
       "version_major": 2,
       "version_minor": 0,
       "model_id": "fccc1dacb7d64093a4cfb38715e49f3d"
      }
     },
     "metadata": {},
     "output_type": "display_data"
    },
    {
     "data": {
      "text/plain": "  0%|          | 0/800 [00:00<?, ?it/s]",
      "application/vnd.jupyter.widget-view+json": {
       "version_major": 2,
       "version_minor": 0,
       "model_id": "56e78b064cbc4917aaccd14f2907168d"
      }
     },
     "metadata": {},
     "output_type": "display_data"
    },
    {
     "data": {
      "text/plain": "  0%|          | 0/800 [00:00<?, ?it/s]",
      "application/vnd.jupyter.widget-view+json": {
       "version_major": 2,
       "version_minor": 0,
       "model_id": "153a039ab0874bd7a6456cd1feae6100"
      }
     },
     "metadata": {},
     "output_type": "display_data"
    },
    {
     "data": {
      "text/plain": "  0%|          | 0/800 [00:00<?, ?it/s]",
      "application/vnd.jupyter.widget-view+json": {
       "version_major": 2,
       "version_minor": 0,
       "model_id": "4689d948bc164e5ea24350a45b14a5eb"
      }
     },
     "metadata": {},
     "output_type": "display_data"
    },
    {
     "data": {
      "text/plain": "  0%|          | 0/800 [00:00<?, ?it/s]",
      "application/vnd.jupyter.widget-view+json": {
       "version_major": 2,
       "version_minor": 0,
       "model_id": "1ef31d174a9a44a0ad3231e56a4fbd72"
      }
     },
     "metadata": {},
     "output_type": "display_data"
    },
    {
     "data": {
      "text/plain": "  0%|          | 0/800 [00:00<?, ?it/s]",
      "application/vnd.jupyter.widget-view+json": {
       "version_major": 2,
       "version_minor": 0,
       "model_id": "3e9cf8e62c9b47b2a4602697f37f6568"
      }
     },
     "metadata": {},
     "output_type": "display_data"
    },
    {
     "data": {
      "text/plain": "  0%|          | 0/800 [00:00<?, ?it/s]",
      "application/vnd.jupyter.widget-view+json": {
       "version_major": 2,
       "version_minor": 0,
       "model_id": "c6218e7c8b2644728e29ccc39835507f"
      }
     },
     "metadata": {},
     "output_type": "display_data"
    },
    {
     "data": {
      "text/plain": "  0%|          | 0/800 [00:00<?, ?it/s]",
      "application/vnd.jupyter.widget-view+json": {
       "version_major": 2,
       "version_minor": 0,
       "model_id": "9fdbdaf13ea347e4878ea83395903d81"
      }
     },
     "metadata": {},
     "output_type": "display_data"
    },
    {
     "data": {
      "text/plain": "  0%|          | 0/800 [00:00<?, ?it/s]",
      "application/vnd.jupyter.widget-view+json": {
       "version_major": 2,
       "version_minor": 0,
       "model_id": "3b8b2317849c4345b2728d18c82f6649"
      }
     },
     "metadata": {},
     "output_type": "display_data"
    },
    {
     "data": {
      "text/plain": "  0%|          | 0/800 [00:00<?, ?it/s]",
      "application/vnd.jupyter.widget-view+json": {
       "version_major": 2,
       "version_minor": 0,
       "model_id": "4e5aeb90163c43bab9f4f54019c26fbb"
      }
     },
     "metadata": {},
     "output_type": "display_data"
    },
    {
     "data": {
      "text/plain": "  0%|          | 0/800 [00:00<?, ?it/s]",
      "application/vnd.jupyter.widget-view+json": {
       "version_major": 2,
       "version_minor": 0,
       "model_id": "7e493b4e7fb04f0b9c97b5a4efd15b72"
      }
     },
     "metadata": {},
     "output_type": "display_data"
    },
    {
     "data": {
      "text/plain": "  0%|          | 0/800 [00:00<?, ?it/s]",
      "application/vnd.jupyter.widget-view+json": {
       "version_major": 2,
       "version_minor": 0,
       "model_id": "888c3eb3ab5041e7aa9a677a20dfd320"
      }
     },
     "metadata": {},
     "output_type": "display_data"
    },
    {
     "data": {
      "text/plain": "  0%|          | 0/800 [00:00<?, ?it/s]",
      "application/vnd.jupyter.widget-view+json": {
       "version_major": 2,
       "version_minor": 0,
       "model_id": "3cc51d8b778f47cc9af263edcaef1f41"
      }
     },
     "metadata": {},
     "output_type": "display_data"
    },
    {
     "data": {
      "text/plain": "  0%|          | 0/800 [00:00<?, ?it/s]",
      "application/vnd.jupyter.widget-view+json": {
       "version_major": 2,
       "version_minor": 0,
       "model_id": "d4b1b9fbf2494b1a87e395e8f2553658"
      }
     },
     "metadata": {},
     "output_type": "display_data"
    },
    {
     "data": {
      "text/plain": "  0%|          | 0/800 [00:00<?, ?it/s]",
      "application/vnd.jupyter.widget-view+json": {
       "version_major": 2,
       "version_minor": 0,
       "model_id": "986c2c33b0184f90b31d020416eb0ca0"
      }
     },
     "metadata": {},
     "output_type": "display_data"
    },
    {
     "data": {
      "text/plain": "  0%|          | 0/800 [00:00<?, ?it/s]",
      "application/vnd.jupyter.widget-view+json": {
       "version_major": 2,
       "version_minor": 0,
       "model_id": "20c8448bc7fc466da8a29963c5268194"
      }
     },
     "metadata": {},
     "output_type": "display_data"
    },
    {
     "data": {
      "text/plain": "  0%|          | 0/800 [00:00<?, ?it/s]",
      "application/vnd.jupyter.widget-view+json": {
       "version_major": 2,
       "version_minor": 0,
       "model_id": "0433eb3ae46548329cb4f3fd9ae8c04c"
      }
     },
     "metadata": {},
     "output_type": "display_data"
    },
    {
     "data": {
      "text/plain": "  0%|          | 0/800 [00:00<?, ?it/s]",
      "application/vnd.jupyter.widget-view+json": {
       "version_major": 2,
       "version_minor": 0,
       "model_id": "c153eb7cd80e4083a9ecb0bff8c99a63"
      }
     },
     "metadata": {},
     "output_type": "display_data"
    },
    {
     "data": {
      "text/plain": "  0%|          | 0/800 [00:00<?, ?it/s]",
      "application/vnd.jupyter.widget-view+json": {
       "version_major": 2,
       "version_minor": 0,
       "model_id": "4aeab21b07474900886e27412639e705"
      }
     },
     "metadata": {},
     "output_type": "display_data"
    },
    {
     "data": {
      "text/plain": "  0%|          | 0/800 [00:00<?, ?it/s]",
      "application/vnd.jupyter.widget-view+json": {
       "version_major": 2,
       "version_minor": 0,
       "model_id": "374a24fec0824f05a7282a0766855a6a"
      }
     },
     "metadata": {},
     "output_type": "display_data"
    },
    {
     "data": {
      "text/plain": "  0%|          | 0/800 [00:00<?, ?it/s]",
      "application/vnd.jupyter.widget-view+json": {
       "version_major": 2,
       "version_minor": 0,
       "model_id": "3441053188ea44518cad3decf5fedb8b"
      }
     },
     "metadata": {},
     "output_type": "display_data"
    },
    {
     "data": {
      "text/plain": "  0%|          | 0/800 [00:00<?, ?it/s]",
      "application/vnd.jupyter.widget-view+json": {
       "version_major": 2,
       "version_minor": 0,
       "model_id": "7eeb16637fb348c3a389637bdac351af"
      }
     },
     "metadata": {},
     "output_type": "display_data"
    },
    {
     "data": {
      "text/plain": "  0%|          | 0/800 [00:00<?, ?it/s]",
      "application/vnd.jupyter.widget-view+json": {
       "version_major": 2,
       "version_minor": 0,
       "model_id": "099c1193b47b4c3d8a15ebeb50e4118b"
      }
     },
     "metadata": {},
     "output_type": "display_data"
    },
    {
     "data": {
      "text/plain": "  0%|          | 0/800 [00:00<?, ?it/s]",
      "application/vnd.jupyter.widget-view+json": {
       "version_major": 2,
       "version_minor": 0,
       "model_id": "9d434a9ac8e047b69da3f54c554b742c"
      }
     },
     "metadata": {},
     "output_type": "display_data"
    },
    {
     "data": {
      "text/plain": "  0%|          | 0/800 [00:00<?, ?it/s]",
      "application/vnd.jupyter.widget-view+json": {
       "version_major": 2,
       "version_minor": 0,
       "model_id": "277011d97ed74c309fe47e5d038ad77f"
      }
     },
     "metadata": {},
     "output_type": "display_data"
    },
    {
     "data": {
      "text/plain": "  0%|          | 0/800 [00:00<?, ?it/s]",
      "application/vnd.jupyter.widget-view+json": {
       "version_major": 2,
       "version_minor": 0,
       "model_id": "66bb4edb38964b35b2a51f62b4ebe046"
      }
     },
     "metadata": {},
     "output_type": "display_data"
    },
    {
     "data": {
      "text/plain": "  0%|          | 0/800 [00:00<?, ?it/s]",
      "application/vnd.jupyter.widget-view+json": {
       "version_major": 2,
       "version_minor": 0,
       "model_id": "bc9894a69ab540f188902e552026695a"
      }
     },
     "metadata": {},
     "output_type": "display_data"
    },
    {
     "data": {
      "text/plain": "  0%|          | 0/800 [00:00<?, ?it/s]",
      "application/vnd.jupyter.widget-view+json": {
       "version_major": 2,
       "version_minor": 0,
       "model_id": "4746376a6c724eca9bb6af02570b1af0"
      }
     },
     "metadata": {},
     "output_type": "display_data"
    },
    {
     "data": {
      "text/plain": "  0%|          | 0/800 [00:00<?, ?it/s]",
      "application/vnd.jupyter.widget-view+json": {
       "version_major": 2,
       "version_minor": 0,
       "model_id": "88aa609fbc284d549fe902ced0aecd65"
      }
     },
     "metadata": {},
     "output_type": "display_data"
    },
    {
     "data": {
      "text/plain": "  0%|          | 0/800 [00:00<?, ?it/s]",
      "application/vnd.jupyter.widget-view+json": {
       "version_major": 2,
       "version_minor": 0,
       "model_id": "9f52e59430444dd9a447a1424e8a1a7d"
      }
     },
     "metadata": {},
     "output_type": "display_data"
    },
    {
     "data": {
      "text/plain": "  0%|          | 0/800 [00:00<?, ?it/s]",
      "application/vnd.jupyter.widget-view+json": {
       "version_major": 2,
       "version_minor": 0,
       "model_id": "de0d11a6c0ca4c8989654362a65e5580"
      }
     },
     "metadata": {},
     "output_type": "display_data"
    },
    {
     "data": {
      "text/plain": "  0%|          | 0/800 [00:00<?, ?it/s]",
      "application/vnd.jupyter.widget-view+json": {
       "version_major": 2,
       "version_minor": 0,
       "model_id": "0bce5d0950904fbca7c6ebe4c9edbd79"
      }
     },
     "metadata": {},
     "output_type": "display_data"
    },
    {
     "data": {
      "text/plain": "  0%|          | 0/800 [00:00<?, ?it/s]",
      "application/vnd.jupyter.widget-view+json": {
       "version_major": 2,
       "version_minor": 0,
       "model_id": "334616108d4f4693a0f5f9b143fdb1da"
      }
     },
     "metadata": {},
     "output_type": "display_data"
    },
    {
     "data": {
      "text/plain": "  0%|          | 0/800 [00:00<?, ?it/s]",
      "application/vnd.jupyter.widget-view+json": {
       "version_major": 2,
       "version_minor": 0,
       "model_id": "74163354aab944e78a60fc5a8e8eda01"
      }
     },
     "metadata": {},
     "output_type": "display_data"
    },
    {
     "data": {
      "text/plain": "  0%|          | 0/800 [00:00<?, ?it/s]",
      "application/vnd.jupyter.widget-view+json": {
       "version_major": 2,
       "version_minor": 0,
       "model_id": "a0a0cf8ac2b84f64afbe944ea18d76bb"
      }
     },
     "metadata": {},
     "output_type": "display_data"
    },
    {
     "data": {
      "text/plain": "  0%|          | 0/800 [00:00<?, ?it/s]",
      "application/vnd.jupyter.widget-view+json": {
       "version_major": 2,
       "version_minor": 0,
       "model_id": "e7eb5a63b0244e98aaac62041158f9ad"
      }
     },
     "metadata": {},
     "output_type": "display_data"
    },
    {
     "data": {
      "text/plain": "  0%|          | 0/800 [00:00<?, ?it/s]",
      "application/vnd.jupyter.widget-view+json": {
       "version_major": 2,
       "version_minor": 0,
       "model_id": "ba20e45a47114282afd1ece1cce7322e"
      }
     },
     "metadata": {},
     "output_type": "display_data"
    },
    {
     "data": {
      "text/plain": "  0%|          | 0/800 [00:00<?, ?it/s]",
      "application/vnd.jupyter.widget-view+json": {
       "version_major": 2,
       "version_minor": 0,
       "model_id": "cbb625ae3c864b26899eeb41e58533d6"
      }
     },
     "metadata": {},
     "output_type": "display_data"
    },
    {
     "data": {
      "text/plain": "  0%|          | 0/800 [00:00<?, ?it/s]",
      "application/vnd.jupyter.widget-view+json": {
       "version_major": 2,
       "version_minor": 0,
       "model_id": "6ca62a62d98e438c88bc0f6b858b7faa"
      }
     },
     "metadata": {},
     "output_type": "display_data"
    },
    {
     "data": {
      "text/plain": "  0%|          | 0/800 [00:00<?, ?it/s]",
      "application/vnd.jupyter.widget-view+json": {
       "version_major": 2,
       "version_minor": 0,
       "model_id": "52023a0647634192b51042d1a61644f4"
      }
     },
     "metadata": {},
     "output_type": "display_data"
    },
    {
     "data": {
      "text/plain": "  0%|          | 0/800 [00:00<?, ?it/s]",
      "application/vnd.jupyter.widget-view+json": {
       "version_major": 2,
       "version_minor": 0,
       "model_id": "9c41da2f09b040ca9530639f21e163e3"
      }
     },
     "metadata": {},
     "output_type": "display_data"
    },
    {
     "data": {
      "text/plain": "  0%|          | 0/800 [00:00<?, ?it/s]",
      "application/vnd.jupyter.widget-view+json": {
       "version_major": 2,
       "version_minor": 0,
       "model_id": "155cd7c662e54150bc9e98e01b1bd955"
      }
     },
     "metadata": {},
     "output_type": "display_data"
    },
    {
     "data": {
      "text/plain": "  0%|          | 0/800 [00:00<?, ?it/s]",
      "application/vnd.jupyter.widget-view+json": {
       "version_major": 2,
       "version_minor": 0,
       "model_id": "87eaa69c79554374b6f68ac778596bb8"
      }
     },
     "metadata": {},
     "output_type": "display_data"
    },
    {
     "data": {
      "text/plain": "  0%|          | 0/800 [00:00<?, ?it/s]",
      "application/vnd.jupyter.widget-view+json": {
       "version_major": 2,
       "version_minor": 0,
       "model_id": "ee45fdb593104baeae1879705bc902b5"
      }
     },
     "metadata": {},
     "output_type": "display_data"
    },
    {
     "data": {
      "text/plain": "  0%|          | 0/800 [00:00<?, ?it/s]",
      "application/vnd.jupyter.widget-view+json": {
       "version_major": 2,
       "version_minor": 0,
       "model_id": "f6e7ee0b7734473ab911ad060ba89b0d"
      }
     },
     "metadata": {},
     "output_type": "display_data"
    },
    {
     "data": {
      "text/plain": "  0%|          | 0/800 [00:00<?, ?it/s]",
      "application/vnd.jupyter.widget-view+json": {
       "version_major": 2,
       "version_minor": 0,
       "model_id": "4a9aadfc3f6d4c239c9f699c1ab7942c"
      }
     },
     "metadata": {},
     "output_type": "display_data"
    },
    {
     "data": {
      "text/plain": "  0%|          | 0/800 [00:00<?, ?it/s]",
      "application/vnd.jupyter.widget-view+json": {
       "version_major": 2,
       "version_minor": 0,
       "model_id": "4adc80ec0c84445c8e038856eda8f041"
      }
     },
     "metadata": {},
     "output_type": "display_data"
    },
    {
     "data": {
      "text/plain": "  0%|          | 0/800 [00:00<?, ?it/s]",
      "application/vnd.jupyter.widget-view+json": {
       "version_major": 2,
       "version_minor": 0,
       "model_id": "68ab6cb1e0034867bbf425e12798a63d"
      }
     },
     "metadata": {},
     "output_type": "display_data"
    },
    {
     "data": {
      "text/plain": "  0%|          | 0/800 [00:00<?, ?it/s]",
      "application/vnd.jupyter.widget-view+json": {
       "version_major": 2,
       "version_minor": 0,
       "model_id": "8a351a376ce34d0bbc4d33fe2a113a08"
      }
     },
     "metadata": {},
     "output_type": "display_data"
    },
    {
     "data": {
      "text/plain": "  0%|          | 0/800 [00:00<?, ?it/s]",
      "application/vnd.jupyter.widget-view+json": {
       "version_major": 2,
       "version_minor": 0,
       "model_id": "0a8e8ac4bb8d441aa9b1185cc636e4c5"
      }
     },
     "metadata": {},
     "output_type": "display_data"
    },
    {
     "data": {
      "text/plain": "  0%|          | 0/800 [00:00<?, ?it/s]",
      "application/vnd.jupyter.widget-view+json": {
       "version_major": 2,
       "version_minor": 0,
       "model_id": "cc38936bf36249e7bb7fff0cd6320cfd"
      }
     },
     "metadata": {},
     "output_type": "display_data"
    },
    {
     "data": {
      "text/plain": "  0%|          | 0/800 [00:00<?, ?it/s]",
      "application/vnd.jupyter.widget-view+json": {
       "version_major": 2,
       "version_minor": 0,
       "model_id": "a7397c3978cb49e5a5db3e452b0e9fe6"
      }
     },
     "metadata": {},
     "output_type": "display_data"
    },
    {
     "data": {
      "text/plain": "  0%|          | 0/800 [00:00<?, ?it/s]",
      "application/vnd.jupyter.widget-view+json": {
       "version_major": 2,
       "version_minor": 0,
       "model_id": "2ffb0fefd0dc4b1b83e9d23efebb17b0"
      }
     },
     "metadata": {},
     "output_type": "display_data"
    },
    {
     "data": {
      "text/plain": "  0%|          | 0/800 [00:00<?, ?it/s]",
      "application/vnd.jupyter.widget-view+json": {
       "version_major": 2,
       "version_minor": 0,
       "model_id": "996d2b8107fb455bb8ca8e546b3698dd"
      }
     },
     "metadata": {},
     "output_type": "display_data"
    },
    {
     "data": {
      "text/plain": "  0%|          | 0/800 [00:00<?, ?it/s]",
      "application/vnd.jupyter.widget-view+json": {
       "version_major": 2,
       "version_minor": 0,
       "model_id": "99361f4fa8f3427e91ae0f33a9008605"
      }
     },
     "metadata": {},
     "output_type": "display_data"
    },
    {
     "data": {
      "text/plain": "  0%|          | 0/800 [00:00<?, ?it/s]",
      "application/vnd.jupyter.widget-view+json": {
       "version_major": 2,
       "version_minor": 0,
       "model_id": "235dc7c5cd494b3ebde2f4722cdaedd6"
      }
     },
     "metadata": {},
     "output_type": "display_data"
    },
    {
     "data": {
      "text/plain": "  0%|          | 0/800 [00:00<?, ?it/s]",
      "application/vnd.jupyter.widget-view+json": {
       "version_major": 2,
       "version_minor": 0,
       "model_id": "81f35af34aeb44749298f367ab574131"
      }
     },
     "metadata": {},
     "output_type": "display_data"
    },
    {
     "data": {
      "text/plain": "  0%|          | 0/800 [00:00<?, ?it/s]",
      "application/vnd.jupyter.widget-view+json": {
       "version_major": 2,
       "version_minor": 0,
       "model_id": "5217bece247b428c87b5ad670b7ef18e"
      }
     },
     "metadata": {},
     "output_type": "display_data"
    },
    {
     "data": {
      "text/plain": "  0%|          | 0/800 [00:00<?, ?it/s]",
      "application/vnd.jupyter.widget-view+json": {
       "version_major": 2,
       "version_minor": 0,
       "model_id": "4e5e4cdb7bfd4d6d92467044bed020a7"
      }
     },
     "metadata": {},
     "output_type": "display_data"
    },
    {
     "data": {
      "text/plain": "  0%|          | 0/800 [00:00<?, ?it/s]",
      "application/vnd.jupyter.widget-view+json": {
       "version_major": 2,
       "version_minor": 0,
       "model_id": "514c0a05774e4b02a365c0e42c995059"
      }
     },
     "metadata": {},
     "output_type": "display_data"
    },
    {
     "data": {
      "text/plain": "  0%|          | 0/800 [00:00<?, ?it/s]",
      "application/vnd.jupyter.widget-view+json": {
       "version_major": 2,
       "version_minor": 0,
       "model_id": "499a4141adbc45a6ac928b5f9b1185ab"
      }
     },
     "metadata": {},
     "output_type": "display_data"
    },
    {
     "data": {
      "text/plain": "  0%|          | 0/800 [00:00<?, ?it/s]",
      "application/vnd.jupyter.widget-view+json": {
       "version_major": 2,
       "version_minor": 0,
       "model_id": "98da902e4b614b99aa51e1d11d4bc35e"
      }
     },
     "metadata": {},
     "output_type": "display_data"
    },
    {
     "data": {
      "text/plain": "  0%|          | 0/800 [00:00<?, ?it/s]",
      "application/vnd.jupyter.widget-view+json": {
       "version_major": 2,
       "version_minor": 0,
       "model_id": "d261104a85434e7eb23dfe16c5be8555"
      }
     },
     "metadata": {},
     "output_type": "display_data"
    },
    {
     "data": {
      "text/plain": "  0%|          | 0/800 [00:00<?, ?it/s]",
      "application/vnd.jupyter.widget-view+json": {
       "version_major": 2,
       "version_minor": 0,
       "model_id": "8820e92ae65049eba941d498e8d61a41"
      }
     },
     "metadata": {},
     "output_type": "display_data"
    },
    {
     "data": {
      "text/plain": "  0%|          | 0/800 [00:00<?, ?it/s]",
      "application/vnd.jupyter.widget-view+json": {
       "version_major": 2,
       "version_minor": 0,
       "model_id": "574fcb79313a4a34a5c934947b94c4fc"
      }
     },
     "metadata": {},
     "output_type": "display_data"
    },
    {
     "data": {
      "text/plain": "  0%|          | 0/800 [00:00<?, ?it/s]",
      "application/vnd.jupyter.widget-view+json": {
       "version_major": 2,
       "version_minor": 0,
       "model_id": "6351aac34269452b9feeb07a71c52875"
      }
     },
     "metadata": {},
     "output_type": "display_data"
    },
    {
     "data": {
      "text/plain": "  0%|          | 0/800 [00:00<?, ?it/s]",
      "application/vnd.jupyter.widget-view+json": {
       "version_major": 2,
       "version_minor": 0,
       "model_id": "b6fd45f69213478eb33819ca6c390fb8"
      }
     },
     "metadata": {},
     "output_type": "display_data"
    },
    {
     "data": {
      "text/plain": "  0%|          | 0/800 [00:00<?, ?it/s]",
      "application/vnd.jupyter.widget-view+json": {
       "version_major": 2,
       "version_minor": 0,
       "model_id": "615cea0fec3848afa9c5f528788aa0ad"
      }
     },
     "metadata": {},
     "output_type": "display_data"
    },
    {
     "data": {
      "text/plain": "  0%|          | 0/800 [00:00<?, ?it/s]",
      "application/vnd.jupyter.widget-view+json": {
       "version_major": 2,
       "version_minor": 0,
       "model_id": "937b72c0e5bb414e9b93586b11f5a41f"
      }
     },
     "metadata": {},
     "output_type": "display_data"
    },
    {
     "data": {
      "text/plain": "  0%|          | 0/800 [00:00<?, ?it/s]",
      "application/vnd.jupyter.widget-view+json": {
       "version_major": 2,
       "version_minor": 0,
       "model_id": "a0f4fe1c6bcf483b947c900ed101d333"
      }
     },
     "metadata": {},
     "output_type": "display_data"
    },
    {
     "data": {
      "text/plain": "  0%|          | 0/800 [00:00<?, ?it/s]",
      "application/vnd.jupyter.widget-view+json": {
       "version_major": 2,
       "version_minor": 0,
       "model_id": "c19f818a86bf4a709c689044ec592846"
      }
     },
     "metadata": {},
     "output_type": "display_data"
    },
    {
     "data": {
      "text/plain": "  0%|          | 0/800 [00:00<?, ?it/s]",
      "application/vnd.jupyter.widget-view+json": {
       "version_major": 2,
       "version_minor": 0,
       "model_id": "a36e762fd6434e83914d3977461ab2d2"
      }
     },
     "metadata": {},
     "output_type": "display_data"
    },
    {
     "data": {
      "text/plain": "  0%|          | 0/800 [00:00<?, ?it/s]",
      "application/vnd.jupyter.widget-view+json": {
       "version_major": 2,
       "version_minor": 0,
       "model_id": "579bdc474e7c450f8bcd71fd9d86172a"
      }
     },
     "metadata": {},
     "output_type": "display_data"
    },
    {
     "data": {
      "text/plain": "  0%|          | 0/800 [00:00<?, ?it/s]",
      "application/vnd.jupyter.widget-view+json": {
       "version_major": 2,
       "version_minor": 0,
       "model_id": "bc2c77587c714744b146222054fd0350"
      }
     },
     "metadata": {},
     "output_type": "display_data"
    },
    {
     "data": {
      "text/plain": "  0%|          | 0/800 [00:00<?, ?it/s]",
      "application/vnd.jupyter.widget-view+json": {
       "version_major": 2,
       "version_minor": 0,
       "model_id": "6bbf68b58d7642b699860a7865a03cec"
      }
     },
     "metadata": {},
     "output_type": "display_data"
    },
    {
     "data": {
      "text/plain": "  0%|          | 0/800 [00:00<?, ?it/s]",
      "application/vnd.jupyter.widget-view+json": {
       "version_major": 2,
       "version_minor": 0,
       "model_id": "96b6c7f9495a4889aeb67dcd2c166542"
      }
     },
     "metadata": {},
     "output_type": "display_data"
    },
    {
     "data": {
      "text/plain": "  0%|          | 0/800 [00:00<?, ?it/s]",
      "application/vnd.jupyter.widget-view+json": {
       "version_major": 2,
       "version_minor": 0,
       "model_id": "e612f9ea883f4a4dae260ef44fe87df5"
      }
     },
     "metadata": {},
     "output_type": "display_data"
    },
    {
     "data": {
      "text/plain": "  0%|          | 0/800 [00:00<?, ?it/s]",
      "application/vnd.jupyter.widget-view+json": {
       "version_major": 2,
       "version_minor": 0,
       "model_id": "51d2036d47b343e281b6f56066446563"
      }
     },
     "metadata": {},
     "output_type": "display_data"
    },
    {
     "data": {
      "text/plain": "  0%|          | 0/800 [00:00<?, ?it/s]",
      "application/vnd.jupyter.widget-view+json": {
       "version_major": 2,
       "version_minor": 0,
       "model_id": "838bf0ef5f6a4ab2ac60bfb5661d12e6"
      }
     },
     "metadata": {},
     "output_type": "display_data"
    },
    {
     "data": {
      "text/plain": "  0%|          | 0/800 [00:00<?, ?it/s]",
      "application/vnd.jupyter.widget-view+json": {
       "version_major": 2,
       "version_minor": 0,
       "model_id": "fa18973719244ee5b6c6c85ca221a5cd"
      }
     },
     "metadata": {},
     "output_type": "display_data"
    },
    {
     "data": {
      "text/plain": "  0%|          | 0/800 [00:00<?, ?it/s]",
      "application/vnd.jupyter.widget-view+json": {
       "version_major": 2,
       "version_minor": 0,
       "model_id": "ab63f14f28ff4f5a9377fd29d89f18b2"
      }
     },
     "metadata": {},
     "output_type": "display_data"
    },
    {
     "data": {
      "text/plain": "  0%|          | 0/800 [00:00<?, ?it/s]",
      "application/vnd.jupyter.widget-view+json": {
       "version_major": 2,
       "version_minor": 0,
       "model_id": "9361d7c3a7f9483580f3f6556c85047e"
      }
     },
     "metadata": {},
     "output_type": "display_data"
    },
    {
     "data": {
      "text/plain": "  0%|          | 0/800 [00:00<?, ?it/s]",
      "application/vnd.jupyter.widget-view+json": {
       "version_major": 2,
       "version_minor": 0,
       "model_id": "1d3a581cb2304e6a935a9498898d32c0"
      }
     },
     "metadata": {},
     "output_type": "display_data"
    },
    {
     "data": {
      "text/plain": "  0%|          | 0/800 [00:00<?, ?it/s]",
      "application/vnd.jupyter.widget-view+json": {
       "version_major": 2,
       "version_minor": 0,
       "model_id": "36501ed7e2ba48cb9d457ce57a7a34b5"
      }
     },
     "metadata": {},
     "output_type": "display_data"
    },
    {
     "data": {
      "text/plain": "  0%|          | 0/800 [00:00<?, ?it/s]",
      "application/vnd.jupyter.widget-view+json": {
       "version_major": 2,
       "version_minor": 0,
       "model_id": "99cdb5675ac1413cb0edf38d65730620"
      }
     },
     "metadata": {},
     "output_type": "display_data"
    },
    {
     "data": {
      "text/plain": "  0%|          | 0/800 [00:00<?, ?it/s]",
      "application/vnd.jupyter.widget-view+json": {
       "version_major": 2,
       "version_minor": 0,
       "model_id": "03aedaeeb3c54d95b0976f9cf3bcab38"
      }
     },
     "metadata": {},
     "output_type": "display_data"
    },
    {
     "data": {
      "text/plain": "  0%|          | 0/800 [00:00<?, ?it/s]",
      "application/vnd.jupyter.widget-view+json": {
       "version_major": 2,
       "version_minor": 0,
       "model_id": "710a1f6ce81940d8a54a9779230c476f"
      }
     },
     "metadata": {},
     "output_type": "display_data"
    },
    {
     "data": {
      "text/plain": "  0%|          | 0/800 [00:00<?, ?it/s]",
      "application/vnd.jupyter.widget-view+json": {
       "version_major": 2,
       "version_minor": 0,
       "model_id": "e5115f82622c4d8eacb8ae8c1bff6b53"
      }
     },
     "metadata": {},
     "output_type": "display_data"
    },
    {
     "data": {
      "text/plain": "  0%|          | 0/800 [00:00<?, ?it/s]",
      "application/vnd.jupyter.widget-view+json": {
       "version_major": 2,
       "version_minor": 0,
       "model_id": "69615f75ed3b4c489cf9cb3f24e3e6c6"
      }
     },
     "metadata": {},
     "output_type": "display_data"
    },
    {
     "data": {
      "text/plain": "  0%|          | 0/800 [00:00<?, ?it/s]",
      "application/vnd.jupyter.widget-view+json": {
       "version_major": 2,
       "version_minor": 0,
       "model_id": "9fe37d18b2334d4f9fff12e2f362b0b8"
      }
     },
     "metadata": {},
     "output_type": "display_data"
    },
    {
     "data": {
      "text/plain": "  0%|          | 0/800 [00:00<?, ?it/s]",
      "application/vnd.jupyter.widget-view+json": {
       "version_major": 2,
       "version_minor": 0,
       "model_id": "7f368e21304c4aa3a457903e73aa9512"
      }
     },
     "metadata": {},
     "output_type": "display_data"
    },
    {
     "data": {
      "text/plain": "  0%|          | 0/800 [00:00<?, ?it/s]",
      "application/vnd.jupyter.widget-view+json": {
       "version_major": 2,
       "version_minor": 0,
       "model_id": "0248c41f8d0c4fbebecc77b38cee1cc3"
      }
     },
     "metadata": {},
     "output_type": "display_data"
    },
    {
     "data": {
      "text/plain": "  0%|          | 0/800 [00:00<?, ?it/s]",
      "application/vnd.jupyter.widget-view+json": {
       "version_major": 2,
       "version_minor": 0,
       "model_id": "03ea52a464ec4fb9ae62b59d99e46cfa"
      }
     },
     "metadata": {},
     "output_type": "display_data"
    },
    {
     "data": {
      "text/plain": "  0%|          | 0/800 [00:00<?, ?it/s]",
      "application/vnd.jupyter.widget-view+json": {
       "version_major": 2,
       "version_minor": 0,
       "model_id": "b5a766685ff143cc8cf782045a185b82"
      }
     },
     "metadata": {},
     "output_type": "display_data"
    },
    {
     "data": {
      "text/plain": "  0%|          | 0/800 [00:00<?, ?it/s]",
      "application/vnd.jupyter.widget-view+json": {
       "version_major": 2,
       "version_minor": 0,
       "model_id": "5c61eb3cf383403b86ddefb78ef5ad19"
      }
     },
     "metadata": {},
     "output_type": "display_data"
    },
    {
     "data": {
      "text/plain": "  0%|          | 0/800 [00:00<?, ?it/s]",
      "application/vnd.jupyter.widget-view+json": {
       "version_major": 2,
       "version_minor": 0,
       "model_id": "62b5ae0b55fd4f9d9fc346fdea125636"
      }
     },
     "metadata": {},
     "output_type": "display_data"
    },
    {
     "data": {
      "text/plain": "  0%|          | 0/800 [00:00<?, ?it/s]",
      "application/vnd.jupyter.widget-view+json": {
       "version_major": 2,
       "version_minor": 0,
       "model_id": "4e878dac4bb44cf2bbec0753d96188b1"
      }
     },
     "metadata": {},
     "output_type": "display_data"
    },
    {
     "data": {
      "text/plain": "  0%|          | 0/800 [00:00<?, ?it/s]",
      "application/vnd.jupyter.widget-view+json": {
       "version_major": 2,
       "version_minor": 0,
       "model_id": "431f8e4bebab4a96be05cb8fa2311cc4"
      }
     },
     "metadata": {},
     "output_type": "display_data"
    },
    {
     "data": {
      "text/plain": "  0%|          | 0/800 [00:00<?, ?it/s]",
      "application/vnd.jupyter.widget-view+json": {
       "version_major": 2,
       "version_minor": 0,
       "model_id": "841a060da32c4187b674b77504d66ea1"
      }
     },
     "metadata": {},
     "output_type": "display_data"
    },
    {
     "data": {
      "text/plain": "  0%|          | 0/800 [00:00<?, ?it/s]",
      "application/vnd.jupyter.widget-view+json": {
       "version_major": 2,
       "version_minor": 0,
       "model_id": "33b2ba4a57b34c5d9dca555a0cd3e76a"
      }
     },
     "metadata": {},
     "output_type": "display_data"
    },
    {
     "data": {
      "text/plain": "  0%|          | 0/800 [00:00<?, ?it/s]",
      "application/vnd.jupyter.widget-view+json": {
       "version_major": 2,
       "version_minor": 0,
       "model_id": "6a5e4e57bbe74f959bdca655d04aad40"
      }
     },
     "metadata": {},
     "output_type": "display_data"
    },
    {
     "data": {
      "text/plain": "  0%|          | 0/800 [00:00<?, ?it/s]",
      "application/vnd.jupyter.widget-view+json": {
       "version_major": 2,
       "version_minor": 0,
       "model_id": "b517d83fdd7e4349bc3ecac905c515c4"
      }
     },
     "metadata": {},
     "output_type": "display_data"
    },
    {
     "data": {
      "text/plain": "  0%|          | 0/800 [00:00<?, ?it/s]",
      "application/vnd.jupyter.widget-view+json": {
       "version_major": 2,
       "version_minor": 0,
       "model_id": "f5006533d8e9406b8fd6a76256b99615"
      }
     },
     "metadata": {},
     "output_type": "display_data"
    },
    {
     "data": {
      "text/plain": "  0%|          | 0/800 [00:00<?, ?it/s]",
      "application/vnd.jupyter.widget-view+json": {
       "version_major": 2,
       "version_minor": 0,
       "model_id": "2d9ce69528ec4f39918530d64c507464"
      }
     },
     "metadata": {},
     "output_type": "display_data"
    },
    {
     "data": {
      "text/plain": "  0%|          | 0/800 [00:00<?, ?it/s]",
      "application/vnd.jupyter.widget-view+json": {
       "version_major": 2,
       "version_minor": 0,
       "model_id": "c4e280deecdc4a02b64a5f3867d78a7b"
      }
     },
     "metadata": {},
     "output_type": "display_data"
    },
    {
     "data": {
      "text/plain": "  0%|          | 0/800 [00:00<?, ?it/s]",
      "application/vnd.jupyter.widget-view+json": {
       "version_major": 2,
       "version_minor": 0,
       "model_id": "77ba2cabdfec49d2a655c4c8306306e7"
      }
     },
     "metadata": {},
     "output_type": "display_data"
    },
    {
     "data": {
      "text/plain": "  0%|          | 0/800 [00:00<?, ?it/s]",
      "application/vnd.jupyter.widget-view+json": {
       "version_major": 2,
       "version_minor": 0,
       "model_id": "fbe06517b7c8496da1a4dcc58a577675"
      }
     },
     "metadata": {},
     "output_type": "display_data"
    },
    {
     "data": {
      "text/plain": "  0%|          | 0/800 [00:00<?, ?it/s]",
      "application/vnd.jupyter.widget-view+json": {
       "version_major": 2,
       "version_minor": 0,
       "model_id": "41b4381fe654409a910915c0dea2ea42"
      }
     },
     "metadata": {},
     "output_type": "display_data"
    },
    {
     "data": {
      "text/plain": "  0%|          | 0/800 [00:00<?, ?it/s]",
      "application/vnd.jupyter.widget-view+json": {
       "version_major": 2,
       "version_minor": 0,
       "model_id": "7c73368be28e4048a84b5027638bade0"
      }
     },
     "metadata": {},
     "output_type": "display_data"
    },
    {
     "data": {
      "text/plain": "  0%|          | 0/800 [00:00<?, ?it/s]",
      "application/vnd.jupyter.widget-view+json": {
       "version_major": 2,
       "version_minor": 0,
       "model_id": "7c38bba08d2b46cbbae24e4138268675"
      }
     },
     "metadata": {},
     "output_type": "display_data"
    },
    {
     "data": {
      "text/plain": "  0%|          | 0/800 [00:00<?, ?it/s]",
      "application/vnd.jupyter.widget-view+json": {
       "version_major": 2,
       "version_minor": 0,
       "model_id": "10940ded51eb473ea843e8b56534e72c"
      }
     },
     "metadata": {},
     "output_type": "display_data"
    },
    {
     "data": {
      "text/plain": "  0%|          | 0/800 [00:00<?, ?it/s]",
      "application/vnd.jupyter.widget-view+json": {
       "version_major": 2,
       "version_minor": 0,
       "model_id": "0e0945dd53a64dccbb94c1a30e8b647e"
      }
     },
     "metadata": {},
     "output_type": "display_data"
    },
    {
     "data": {
      "text/plain": "  0%|          | 0/800 [00:00<?, ?it/s]",
      "application/vnd.jupyter.widget-view+json": {
       "version_major": 2,
       "version_minor": 0,
       "model_id": "95ab76e37c2b4e389ff67e1cd4fa0676"
      }
     },
     "metadata": {},
     "output_type": "display_data"
    },
    {
     "data": {
      "text/plain": "  0%|          | 0/800 [00:00<?, ?it/s]",
      "application/vnd.jupyter.widget-view+json": {
       "version_major": 2,
       "version_minor": 0,
       "model_id": "60fdf4cbfaa84aa7a243fb01a0cc9b7a"
      }
     },
     "metadata": {},
     "output_type": "display_data"
    },
    {
     "data": {
      "text/plain": "  0%|          | 0/800 [00:00<?, ?it/s]",
      "application/vnd.jupyter.widget-view+json": {
       "version_major": 2,
       "version_minor": 0,
       "model_id": "8ac89355b0274f0e830b68e7d91c1204"
      }
     },
     "metadata": {},
     "output_type": "display_data"
    },
    {
     "data": {
      "text/plain": "  0%|          | 0/800 [00:00<?, ?it/s]",
      "application/vnd.jupyter.widget-view+json": {
       "version_major": 2,
       "version_minor": 0,
       "model_id": "d72728dca33742139b4786947c3c8899"
      }
     },
     "metadata": {},
     "output_type": "display_data"
    },
    {
     "data": {
      "text/plain": "  0%|          | 0/800 [00:00<?, ?it/s]",
      "application/vnd.jupyter.widget-view+json": {
       "version_major": 2,
       "version_minor": 0,
       "model_id": "b6ee691eaf474b7996a799a3eec51895"
      }
     },
     "metadata": {},
     "output_type": "display_data"
    },
    {
     "data": {
      "text/plain": "  0%|          | 0/800 [00:00<?, ?it/s]",
      "application/vnd.jupyter.widget-view+json": {
       "version_major": 2,
       "version_minor": 0,
       "model_id": "0a3c3b0de2714b56896eedce357e9d79"
      }
     },
     "metadata": {},
     "output_type": "display_data"
    },
    {
     "data": {
      "text/plain": "  0%|          | 0/800 [00:00<?, ?it/s]",
      "application/vnd.jupyter.widget-view+json": {
       "version_major": 2,
       "version_minor": 0,
       "model_id": "86220dcf35414dc3815736a5720cdc43"
      }
     },
     "metadata": {},
     "output_type": "display_data"
    },
    {
     "data": {
      "text/plain": "  0%|          | 0/800 [00:00<?, ?it/s]",
      "application/vnd.jupyter.widget-view+json": {
       "version_major": 2,
       "version_minor": 0,
       "model_id": "895a368ec5e34f49843b257877616e41"
      }
     },
     "metadata": {},
     "output_type": "display_data"
    },
    {
     "data": {
      "text/plain": "  0%|          | 0/800 [00:00<?, ?it/s]",
      "application/vnd.jupyter.widget-view+json": {
       "version_major": 2,
       "version_minor": 0,
       "model_id": "0edd1cd27565422e95460933ce6ece66"
      }
     },
     "metadata": {},
     "output_type": "display_data"
    },
    {
     "data": {
      "text/plain": "  0%|          | 0/800 [00:00<?, ?it/s]",
      "application/vnd.jupyter.widget-view+json": {
       "version_major": 2,
       "version_minor": 0,
       "model_id": "22c49d5e89bb41dbba4bb52dae038bf3"
      }
     },
     "metadata": {},
     "output_type": "display_data"
    },
    {
     "data": {
      "text/plain": "  0%|          | 0/800 [00:00<?, ?it/s]",
      "application/vnd.jupyter.widget-view+json": {
       "version_major": 2,
       "version_minor": 0,
       "model_id": "d2ffddfcdb0e49cbb32722e15a9866ac"
      }
     },
     "metadata": {},
     "output_type": "display_data"
    },
    {
     "data": {
      "text/plain": "  0%|          | 0/800 [00:00<?, ?it/s]",
      "application/vnd.jupyter.widget-view+json": {
       "version_major": 2,
       "version_minor": 0,
       "model_id": "becfd13bb3ea47d28c8ece8a0a64fb97"
      }
     },
     "metadata": {},
     "output_type": "display_data"
    },
    {
     "data": {
      "text/plain": "  0%|          | 0/800 [00:00<?, ?it/s]",
      "application/vnd.jupyter.widget-view+json": {
       "version_major": 2,
       "version_minor": 0,
       "model_id": "e9b8645ffcbe4fd296db24038780ba75"
      }
     },
     "metadata": {},
     "output_type": "display_data"
    },
    {
     "data": {
      "text/plain": "  0%|          | 0/800 [00:00<?, ?it/s]",
      "application/vnd.jupyter.widget-view+json": {
       "version_major": 2,
       "version_minor": 0,
       "model_id": "4526af76c4b14565a2cd6cb3221d422b"
      }
     },
     "metadata": {},
     "output_type": "display_data"
    },
    {
     "data": {
      "text/plain": "  0%|          | 0/800 [00:00<?, ?it/s]",
      "application/vnd.jupyter.widget-view+json": {
       "version_major": 2,
       "version_minor": 0,
       "model_id": "90aabbd09f214895bc3cc06f0cbd8700"
      }
     },
     "metadata": {},
     "output_type": "display_data"
    },
    {
     "data": {
      "text/plain": "  0%|          | 0/800 [00:00<?, ?it/s]",
      "application/vnd.jupyter.widget-view+json": {
       "version_major": 2,
       "version_minor": 0,
       "model_id": "5a1cc80b980542a1a86ff28b8e42f555"
      }
     },
     "metadata": {},
     "output_type": "display_data"
    },
    {
     "data": {
      "text/plain": "  0%|          | 0/800 [00:00<?, ?it/s]",
      "application/vnd.jupyter.widget-view+json": {
       "version_major": 2,
       "version_minor": 0,
       "model_id": "9e28d748291844dea54c2fc416a54816"
      }
     },
     "metadata": {},
     "output_type": "display_data"
    },
    {
     "data": {
      "text/plain": "  0%|          | 0/800 [00:00<?, ?it/s]",
      "application/vnd.jupyter.widget-view+json": {
       "version_major": 2,
       "version_minor": 0,
       "model_id": "098df27f21114e0d8176cface23f9aa2"
      }
     },
     "metadata": {},
     "output_type": "display_data"
    },
    {
     "data": {
      "text/plain": "  0%|          | 0/800 [00:00<?, ?it/s]",
      "application/vnd.jupyter.widget-view+json": {
       "version_major": 2,
       "version_minor": 0,
       "model_id": "071ff123427d4b6fb2f2d3069f00ee4d"
      }
     },
     "metadata": {},
     "output_type": "display_data"
    },
    {
     "data": {
      "text/plain": "  0%|          | 0/800 [00:00<?, ?it/s]",
      "application/vnd.jupyter.widget-view+json": {
       "version_major": 2,
       "version_minor": 0,
       "model_id": "d54333f3ad574a60a8d9f829e8e198a9"
      }
     },
     "metadata": {},
     "output_type": "display_data"
    },
    {
     "data": {
      "text/plain": "  0%|          | 0/800 [00:00<?, ?it/s]",
      "application/vnd.jupyter.widget-view+json": {
       "version_major": 2,
       "version_minor": 0,
       "model_id": "3287df35dcf24e94a9bc0bf6e6673edf"
      }
     },
     "metadata": {},
     "output_type": "display_data"
    },
    {
     "data": {
      "text/plain": "  0%|          | 0/800 [00:00<?, ?it/s]",
      "application/vnd.jupyter.widget-view+json": {
       "version_major": 2,
       "version_minor": 0,
       "model_id": "da263fd993ee452fbf579cb3d3ea1317"
      }
     },
     "metadata": {},
     "output_type": "display_data"
    },
    {
     "data": {
      "text/plain": "  0%|          | 0/800 [00:00<?, ?it/s]",
      "application/vnd.jupyter.widget-view+json": {
       "version_major": 2,
       "version_minor": 0,
       "model_id": "d2c775a1ca4245d19db2428daa48e927"
      }
     },
     "metadata": {},
     "output_type": "display_data"
    },
    {
     "data": {
      "text/plain": "  0%|          | 0/800 [00:00<?, ?it/s]",
      "application/vnd.jupyter.widget-view+json": {
       "version_major": 2,
       "version_minor": 0,
       "model_id": "4b9fb9a661d1435489163ac19f437fd7"
      }
     },
     "metadata": {},
     "output_type": "display_data"
    },
    {
     "data": {
      "text/plain": "  0%|          | 0/800 [00:00<?, ?it/s]",
      "application/vnd.jupyter.widget-view+json": {
       "version_major": 2,
       "version_minor": 0,
       "model_id": "22eff84ab73e47e3ba6221af9c7101ac"
      }
     },
     "metadata": {},
     "output_type": "display_data"
    },
    {
     "data": {
      "text/plain": "  0%|          | 0/800 [00:00<?, ?it/s]",
      "application/vnd.jupyter.widget-view+json": {
       "version_major": 2,
       "version_minor": 0,
       "model_id": "fb55d8e7d9db48b686607bab4dcd4dd9"
      }
     },
     "metadata": {},
     "output_type": "display_data"
    },
    {
     "data": {
      "text/plain": "  0%|          | 0/800 [00:00<?, ?it/s]",
      "application/vnd.jupyter.widget-view+json": {
       "version_major": 2,
       "version_minor": 0,
       "model_id": "63a99f4f49a14452890da55f32a4a647"
      }
     },
     "metadata": {},
     "output_type": "display_data"
    },
    {
     "data": {
      "text/plain": "  0%|          | 0/800 [00:00<?, ?it/s]",
      "application/vnd.jupyter.widget-view+json": {
       "version_major": 2,
       "version_minor": 0,
       "model_id": "7f7107a4bf6a46a6a29daca097cd479d"
      }
     },
     "metadata": {},
     "output_type": "display_data"
    },
    {
     "data": {
      "text/plain": "  0%|          | 0/800 [00:00<?, ?it/s]",
      "application/vnd.jupyter.widget-view+json": {
       "version_major": 2,
       "version_minor": 0,
       "model_id": "c33629c8e9484b02bad01762c51a5cee"
      }
     },
     "metadata": {},
     "output_type": "display_data"
    },
    {
     "data": {
      "text/plain": "  0%|          | 0/800 [00:00<?, ?it/s]",
      "application/vnd.jupyter.widget-view+json": {
       "version_major": 2,
       "version_minor": 0,
       "model_id": "94e1100af4794b3f84abde96ef482869"
      }
     },
     "metadata": {},
     "output_type": "display_data"
    },
    {
     "data": {
      "text/plain": "  0%|          | 0/800 [00:00<?, ?it/s]",
      "application/vnd.jupyter.widget-view+json": {
       "version_major": 2,
       "version_minor": 0,
       "model_id": "0e8a7ee8e84b4485adc54fcb880e9099"
      }
     },
     "metadata": {},
     "output_type": "display_data"
    },
    {
     "data": {
      "text/plain": "  0%|          | 0/800 [00:00<?, ?it/s]",
      "application/vnd.jupyter.widget-view+json": {
       "version_major": 2,
       "version_minor": 0,
       "model_id": "8f3ec5a7e4174b1991860b411fe015a5"
      }
     },
     "metadata": {},
     "output_type": "display_data"
    },
    {
     "data": {
      "text/plain": "  0%|          | 0/800 [00:00<?, ?it/s]",
      "application/vnd.jupyter.widget-view+json": {
       "version_major": 2,
       "version_minor": 0,
       "model_id": "a5272890dc724d8495343a85e7e87a60"
      }
     },
     "metadata": {},
     "output_type": "display_data"
    },
    {
     "data": {
      "text/plain": "  0%|          | 0/800 [00:00<?, ?it/s]",
      "application/vnd.jupyter.widget-view+json": {
       "version_major": 2,
       "version_minor": 0,
       "model_id": "c313f4a9ae684eab88fab294abb02e80"
      }
     },
     "metadata": {},
     "output_type": "display_data"
    },
    {
     "data": {
      "text/plain": "  0%|          | 0/800 [00:00<?, ?it/s]",
      "application/vnd.jupyter.widget-view+json": {
       "version_major": 2,
       "version_minor": 0,
       "model_id": "ce18035c68b64a31a9754d717b371112"
      }
     },
     "metadata": {},
     "output_type": "display_data"
    },
    {
     "data": {
      "text/plain": "  0%|          | 0/800 [00:00<?, ?it/s]",
      "application/vnd.jupyter.widget-view+json": {
       "version_major": 2,
       "version_minor": 0,
       "model_id": "0e35f9e3736c4c9481bc9ed79ab8eef9"
      }
     },
     "metadata": {},
     "output_type": "display_data"
    },
    {
     "data": {
      "text/plain": "  0%|          | 0/800 [00:00<?, ?it/s]",
      "application/vnd.jupyter.widget-view+json": {
       "version_major": 2,
       "version_minor": 0,
       "model_id": "7ab742a9949548a5930ca7a67d361040"
      }
     },
     "metadata": {},
     "output_type": "display_data"
    },
    {
     "data": {
      "text/plain": "  0%|          | 0/800 [00:00<?, ?it/s]",
      "application/vnd.jupyter.widget-view+json": {
       "version_major": 2,
       "version_minor": 0,
       "model_id": "ea908ac339a14974a190ebe8be456a5c"
      }
     },
     "metadata": {},
     "output_type": "display_data"
    },
    {
     "data": {
      "text/plain": "  0%|          | 0/800 [00:00<?, ?it/s]",
      "application/vnd.jupyter.widget-view+json": {
       "version_major": 2,
       "version_minor": 0,
       "model_id": "4685cd65dfe949c5af311cca7efe75f9"
      }
     },
     "metadata": {},
     "output_type": "display_data"
    },
    {
     "data": {
      "text/plain": "  0%|          | 0/800 [00:00<?, ?it/s]",
      "application/vnd.jupyter.widget-view+json": {
       "version_major": 2,
       "version_minor": 0,
       "model_id": "3407498b827b499c9c27bb34729c1399"
      }
     },
     "metadata": {},
     "output_type": "display_data"
    },
    {
     "data": {
      "text/plain": "  0%|          | 0/800 [00:00<?, ?it/s]",
      "application/vnd.jupyter.widget-view+json": {
       "version_major": 2,
       "version_minor": 0,
       "model_id": "5cef1545b80e46f584021b8c1568a1f0"
      }
     },
     "metadata": {},
     "output_type": "display_data"
    },
    {
     "data": {
      "text/plain": "  0%|          | 0/800 [00:00<?, ?it/s]",
      "application/vnd.jupyter.widget-view+json": {
       "version_major": 2,
       "version_minor": 0,
       "model_id": "9c1b986d5d114471b067c830ee8fe98f"
      }
     },
     "metadata": {},
     "output_type": "display_data"
    },
    {
     "data": {
      "text/plain": "  0%|          | 0/800 [00:00<?, ?it/s]",
      "application/vnd.jupyter.widget-view+json": {
       "version_major": 2,
       "version_minor": 0,
       "model_id": "ecf195e17d9b4240a8e97f19be5f3387"
      }
     },
     "metadata": {},
     "output_type": "display_data"
    },
    {
     "data": {
      "text/plain": "  0%|          | 0/800 [00:00<?, ?it/s]",
      "application/vnd.jupyter.widget-view+json": {
       "version_major": 2,
       "version_minor": 0,
       "model_id": "9ac4abeda71344f38a1b159af5e79ff7"
      }
     },
     "metadata": {},
     "output_type": "display_data"
    },
    {
     "data": {
      "text/plain": "  0%|          | 0/800 [00:00<?, ?it/s]",
      "application/vnd.jupyter.widget-view+json": {
       "version_major": 2,
       "version_minor": 0,
       "model_id": "41aec7e3b83340f2bb184dbf1bcbddcc"
      }
     },
     "metadata": {},
     "output_type": "display_data"
    },
    {
     "data": {
      "text/plain": "  0%|          | 0/800 [00:00<?, ?it/s]",
      "application/vnd.jupyter.widget-view+json": {
       "version_major": 2,
       "version_minor": 0,
       "model_id": "b1517b0038574bf4a352b6fe9e560624"
      }
     },
     "metadata": {},
     "output_type": "display_data"
    },
    {
     "data": {
      "text/plain": "  0%|          | 0/800 [00:00<?, ?it/s]",
      "application/vnd.jupyter.widget-view+json": {
       "version_major": 2,
       "version_minor": 0,
       "model_id": "0cd69b75a6164e66bc350e10f45f2883"
      }
     },
     "metadata": {},
     "output_type": "display_data"
    },
    {
     "data": {
      "text/plain": "  0%|          | 0/800 [00:00<?, ?it/s]",
      "application/vnd.jupyter.widget-view+json": {
       "version_major": 2,
       "version_minor": 0,
       "model_id": "01fe828dcc9949ba9469f57ff5b3edf4"
      }
     },
     "metadata": {},
     "output_type": "display_data"
    },
    {
     "data": {
      "text/plain": "  0%|          | 0/800 [00:00<?, ?it/s]",
      "application/vnd.jupyter.widget-view+json": {
       "version_major": 2,
       "version_minor": 0,
       "model_id": "d4236cbb11574647a630c343d7ff5931"
      }
     },
     "metadata": {},
     "output_type": "display_data"
    },
    {
     "data": {
      "text/plain": "  0%|          | 0/800 [00:00<?, ?it/s]",
      "application/vnd.jupyter.widget-view+json": {
       "version_major": 2,
       "version_minor": 0,
       "model_id": "78bf4e450008427681cb194a8ff5b959"
      }
     },
     "metadata": {},
     "output_type": "display_data"
    },
    {
     "data": {
      "text/plain": "  0%|          | 0/800 [00:00<?, ?it/s]",
      "application/vnd.jupyter.widget-view+json": {
       "version_major": 2,
       "version_minor": 0,
       "model_id": "5f99566908c54f2c853eac16d8e86515"
      }
     },
     "metadata": {},
     "output_type": "display_data"
    },
    {
     "data": {
      "text/plain": "  0%|          | 0/800 [00:00<?, ?it/s]",
      "application/vnd.jupyter.widget-view+json": {
       "version_major": 2,
       "version_minor": 0,
       "model_id": "292b10bb0a6a4f5f9353234c6ea00901"
      }
     },
     "metadata": {},
     "output_type": "display_data"
    },
    {
     "data": {
      "text/plain": "  0%|          | 0/800 [00:00<?, ?it/s]",
      "application/vnd.jupyter.widget-view+json": {
       "version_major": 2,
       "version_minor": 0,
       "model_id": "221ba047963e4c2ab726b5c54e60998a"
      }
     },
     "metadata": {},
     "output_type": "display_data"
    },
    {
     "data": {
      "text/plain": "  0%|          | 0/800 [00:00<?, ?it/s]",
      "application/vnd.jupyter.widget-view+json": {
       "version_major": 2,
       "version_minor": 0,
       "model_id": "11c011424f7a4e09821069290bb90a86"
      }
     },
     "metadata": {},
     "output_type": "display_data"
    },
    {
     "data": {
      "text/plain": "  0%|          | 0/800 [00:00<?, ?it/s]",
      "application/vnd.jupyter.widget-view+json": {
       "version_major": 2,
       "version_minor": 0,
       "model_id": "db113b2946364c17acdf86cf093cb417"
      }
     },
     "metadata": {},
     "output_type": "display_data"
    },
    {
     "data": {
      "text/plain": "  0%|          | 0/800 [00:00<?, ?it/s]",
      "application/vnd.jupyter.widget-view+json": {
       "version_major": 2,
       "version_minor": 0,
       "model_id": "98581686c8de438588091f56cd555c6a"
      }
     },
     "metadata": {},
     "output_type": "display_data"
    },
    {
     "data": {
      "text/plain": "  0%|          | 0/800 [00:00<?, ?it/s]",
      "application/vnd.jupyter.widget-view+json": {
       "version_major": 2,
       "version_minor": 0,
       "model_id": "fe7d88b02b9c4ef696962e7ac4cf4996"
      }
     },
     "metadata": {},
     "output_type": "display_data"
    },
    {
     "data": {
      "text/plain": "  0%|          | 0/800 [00:00<?, ?it/s]",
      "application/vnd.jupyter.widget-view+json": {
       "version_major": 2,
       "version_minor": 0,
       "model_id": "9f78cd6aed914975af09009d511cbd3b"
      }
     },
     "metadata": {},
     "output_type": "display_data"
    },
    {
     "data": {
      "text/plain": "  0%|          | 0/800 [00:00<?, ?it/s]",
      "application/vnd.jupyter.widget-view+json": {
       "version_major": 2,
       "version_minor": 0,
       "model_id": "3c7b3fc1a10741ecbeaaeb1eccf4e66e"
      }
     },
     "metadata": {},
     "output_type": "display_data"
    },
    {
     "data": {
      "text/plain": "  0%|          | 0/800 [00:00<?, ?it/s]",
      "application/vnd.jupyter.widget-view+json": {
       "version_major": 2,
       "version_minor": 0,
       "model_id": "6bc8c746459a4d2f802bf45af5a7640d"
      }
     },
     "metadata": {},
     "output_type": "display_data"
    },
    {
     "data": {
      "text/plain": "  0%|          | 0/800 [00:00<?, ?it/s]",
      "application/vnd.jupyter.widget-view+json": {
       "version_major": 2,
       "version_minor": 0,
       "model_id": "0ff39e7bf4fe4b2595e64c31be6f3d97"
      }
     },
     "metadata": {},
     "output_type": "display_data"
    },
    {
     "data": {
      "text/plain": "  0%|          | 0/800 [00:00<?, ?it/s]",
      "application/vnd.jupyter.widget-view+json": {
       "version_major": 2,
       "version_minor": 0,
       "model_id": "843770d7ef354438b7166922721a19ca"
      }
     },
     "metadata": {},
     "output_type": "display_data"
    },
    {
     "data": {
      "text/plain": "  0%|          | 0/800 [00:00<?, ?it/s]",
      "application/vnd.jupyter.widget-view+json": {
       "version_major": 2,
       "version_minor": 0,
       "model_id": "e32487e005f9480b9514b3b1e90cdd01"
      }
     },
     "metadata": {},
     "output_type": "display_data"
    },
    {
     "data": {
      "text/plain": "  0%|          | 0/800 [00:00<?, ?it/s]",
      "application/vnd.jupyter.widget-view+json": {
       "version_major": 2,
       "version_minor": 0,
       "model_id": "e8950a65dc3b4a70b5b2010e8852ac22"
      }
     },
     "metadata": {},
     "output_type": "display_data"
    },
    {
     "data": {
      "text/plain": "  0%|          | 0/800 [00:00<?, ?it/s]",
      "application/vnd.jupyter.widget-view+json": {
       "version_major": 2,
       "version_minor": 0,
       "model_id": "7fbb6ed2bdc44b8197b5b655fa6c08ec"
      }
     },
     "metadata": {},
     "output_type": "display_data"
    },
    {
     "data": {
      "text/plain": "  0%|          | 0/800 [00:00<?, ?it/s]",
      "application/vnd.jupyter.widget-view+json": {
       "version_major": 2,
       "version_minor": 0,
       "model_id": "7af8070314c2497e9af7163bd9444df3"
      }
     },
     "metadata": {},
     "output_type": "display_data"
    },
    {
     "data": {
      "text/plain": "  0%|          | 0/800 [00:00<?, ?it/s]",
      "application/vnd.jupyter.widget-view+json": {
       "version_major": 2,
       "version_minor": 0,
       "model_id": "202335a6327540faaf33e2267651ccb2"
      }
     },
     "metadata": {},
     "output_type": "display_data"
    },
    {
     "data": {
      "text/plain": "  0%|          | 0/800 [00:00<?, ?it/s]",
      "application/vnd.jupyter.widget-view+json": {
       "version_major": 2,
       "version_minor": 0,
       "model_id": "b4e994ef080c4e298f879b3956bce221"
      }
     },
     "metadata": {},
     "output_type": "display_data"
    },
    {
     "data": {
      "text/plain": "  0%|          | 0/800 [00:00<?, ?it/s]",
      "application/vnd.jupyter.widget-view+json": {
       "version_major": 2,
       "version_minor": 0,
       "model_id": "4f4024d9f0fb4d9a92d4406be0abb373"
      }
     },
     "metadata": {},
     "output_type": "display_data"
    },
    {
     "data": {
      "text/plain": "  0%|          | 0/800 [00:00<?, ?it/s]",
      "application/vnd.jupyter.widget-view+json": {
       "version_major": 2,
       "version_minor": 0,
       "model_id": "221411eaccda4e33881546afa1d8e25b"
      }
     },
     "metadata": {},
     "output_type": "display_data"
    },
    {
     "data": {
      "text/plain": "  0%|          | 0/800 [00:00<?, ?it/s]",
      "application/vnd.jupyter.widget-view+json": {
       "version_major": 2,
       "version_minor": 0,
       "model_id": "20f1558562d8452d85c2ee34b2dbba7c"
      }
     },
     "metadata": {},
     "output_type": "display_data"
    },
    {
     "data": {
      "text/plain": "  0%|          | 0/800 [00:00<?, ?it/s]",
      "application/vnd.jupyter.widget-view+json": {
       "version_major": 2,
       "version_minor": 0,
       "model_id": "aac2c37299d04ab1b032a2e20cccd354"
      }
     },
     "metadata": {},
     "output_type": "display_data"
    },
    {
     "data": {
      "text/plain": "  0%|          | 0/800 [00:00<?, ?it/s]",
      "application/vnd.jupyter.widget-view+json": {
       "version_major": 2,
       "version_minor": 0,
       "model_id": "08aa988594204f0681dca6099303eedf"
      }
     },
     "metadata": {},
     "output_type": "display_data"
    },
    {
     "data": {
      "text/plain": "  0%|          | 0/800 [00:00<?, ?it/s]",
      "application/vnd.jupyter.widget-view+json": {
       "version_major": 2,
       "version_minor": 0,
       "model_id": "c5c69d3794684761957ddc436f466bd7"
      }
     },
     "metadata": {},
     "output_type": "display_data"
    },
    {
     "data": {
      "text/plain": "  0%|          | 0/800 [00:00<?, ?it/s]",
      "application/vnd.jupyter.widget-view+json": {
       "version_major": 2,
       "version_minor": 0,
       "model_id": "9145e3cebaed453c9791438f1511f66c"
      }
     },
     "metadata": {},
     "output_type": "display_data"
    },
    {
     "data": {
      "text/plain": "  0%|          | 0/800 [00:00<?, ?it/s]",
      "application/vnd.jupyter.widget-view+json": {
       "version_major": 2,
       "version_minor": 0,
       "model_id": "b9b07a1b9dea4d74ac217a8a85681bf6"
      }
     },
     "metadata": {},
     "output_type": "display_data"
    },
    {
     "data": {
      "text/plain": "  0%|          | 0/800 [00:00<?, ?it/s]",
      "application/vnd.jupyter.widget-view+json": {
       "version_major": 2,
       "version_minor": 0,
       "model_id": "00bb787a37d84b2aa39dd4b83d84f709"
      }
     },
     "metadata": {},
     "output_type": "display_data"
    },
    {
     "data": {
      "text/plain": "  0%|          | 0/800 [00:00<?, ?it/s]",
      "application/vnd.jupyter.widget-view+json": {
       "version_major": 2,
       "version_minor": 0,
       "model_id": "131a1aa44c754c86b2d6a3e0f79e7d4a"
      }
     },
     "metadata": {},
     "output_type": "display_data"
    },
    {
     "data": {
      "text/plain": "  0%|          | 0/800 [00:00<?, ?it/s]",
      "application/vnd.jupyter.widget-view+json": {
       "version_major": 2,
       "version_minor": 0,
       "model_id": "def34c789ef14d0a90e437ab659dd661"
      }
     },
     "metadata": {},
     "output_type": "display_data"
    },
    {
     "data": {
      "text/plain": "  0%|          | 0/800 [00:00<?, ?it/s]",
      "application/vnd.jupyter.widget-view+json": {
       "version_major": 2,
       "version_minor": 0,
       "model_id": "33788ecb3d1540d78e319a306b78390c"
      }
     },
     "metadata": {},
     "output_type": "display_data"
    },
    {
     "data": {
      "text/plain": "  0%|          | 0/800 [00:00<?, ?it/s]",
      "application/vnd.jupyter.widget-view+json": {
       "version_major": 2,
       "version_minor": 0,
       "model_id": "30b95e8591e24f77a8bfa5ffeebdbed7"
      }
     },
     "metadata": {},
     "output_type": "display_data"
    },
    {
     "data": {
      "text/plain": "  0%|          | 0/800 [00:00<?, ?it/s]",
      "application/vnd.jupyter.widget-view+json": {
       "version_major": 2,
       "version_minor": 0,
       "model_id": "6a4996b0400e488fb9466dd391d2744b"
      }
     },
     "metadata": {},
     "output_type": "display_data"
    },
    {
     "data": {
      "text/plain": "  0%|          | 0/800 [00:00<?, ?it/s]",
      "application/vnd.jupyter.widget-view+json": {
       "version_major": 2,
       "version_minor": 0,
       "model_id": "19af9d56ba544953974c0206db918e84"
      }
     },
     "metadata": {},
     "output_type": "display_data"
    },
    {
     "data": {
      "text/plain": "  0%|          | 0/800 [00:00<?, ?it/s]",
      "application/vnd.jupyter.widget-view+json": {
       "version_major": 2,
       "version_minor": 0,
       "model_id": "9e3fa86f058b4f3fb7874a33f0eaca6f"
      }
     },
     "metadata": {},
     "output_type": "display_data"
    },
    {
     "data": {
      "text/plain": "  0%|          | 0/800 [00:00<?, ?it/s]",
      "application/vnd.jupyter.widget-view+json": {
       "version_major": 2,
       "version_minor": 0,
       "model_id": "a0987f82392449fbb95a9c528d064826"
      }
     },
     "metadata": {},
     "output_type": "display_data"
    },
    {
     "data": {
      "text/plain": "  0%|          | 0/800 [00:00<?, ?it/s]",
      "application/vnd.jupyter.widget-view+json": {
       "version_major": 2,
       "version_minor": 0,
       "model_id": "87c7ce4d770e4af3be8b249eae974674"
      }
     },
     "metadata": {},
     "output_type": "display_data"
    },
    {
     "data": {
      "text/plain": "  0%|          | 0/800 [00:00<?, ?it/s]",
      "application/vnd.jupyter.widget-view+json": {
       "version_major": 2,
       "version_minor": 0,
       "model_id": "4465469efe854e0cbb74d7bf802e3068"
      }
     },
     "metadata": {},
     "output_type": "display_data"
    },
    {
     "data": {
      "text/plain": "  0%|          | 0/800 [00:00<?, ?it/s]",
      "application/vnd.jupyter.widget-view+json": {
       "version_major": 2,
       "version_minor": 0,
       "model_id": "bd7b4b68d888470d94b17e9b00b4ded1"
      }
     },
     "metadata": {},
     "output_type": "display_data"
    },
    {
     "data": {
      "text/plain": "  0%|          | 0/800 [00:00<?, ?it/s]",
      "application/vnd.jupyter.widget-view+json": {
       "version_major": 2,
       "version_minor": 0,
       "model_id": "f36ab9a25bdd4837857e293f0aaad146"
      }
     },
     "metadata": {},
     "output_type": "display_data"
    },
    {
     "data": {
      "text/plain": "  0%|          | 0/800 [00:00<?, ?it/s]",
      "application/vnd.jupyter.widget-view+json": {
       "version_major": 2,
       "version_minor": 0,
       "model_id": "801f351fccdf44f6b687c0a8b6f48262"
      }
     },
     "metadata": {},
     "output_type": "display_data"
    },
    {
     "data": {
      "text/plain": "  0%|          | 0/800 [00:00<?, ?it/s]",
      "application/vnd.jupyter.widget-view+json": {
       "version_major": 2,
       "version_minor": 0,
       "model_id": "01ef0a4f46e54e1fad499ecf8bd2a50e"
      }
     },
     "metadata": {},
     "output_type": "display_data"
    },
    {
     "data": {
      "text/plain": "  0%|          | 0/800 [00:00<?, ?it/s]",
      "application/vnd.jupyter.widget-view+json": {
       "version_major": 2,
       "version_minor": 0,
       "model_id": "f588911b86f24c86949dcdada852367e"
      }
     },
     "metadata": {},
     "output_type": "display_data"
    },
    {
     "data": {
      "text/plain": "  0%|          | 0/800 [00:00<?, ?it/s]",
      "application/vnd.jupyter.widget-view+json": {
       "version_major": 2,
       "version_minor": 0,
       "model_id": "9b8fd25e0e20424b847d707520839683"
      }
     },
     "metadata": {},
     "output_type": "display_data"
    },
    {
     "data": {
      "text/plain": "  0%|          | 0/800 [00:00<?, ?it/s]",
      "application/vnd.jupyter.widget-view+json": {
       "version_major": 2,
       "version_minor": 0,
       "model_id": "c1df8014c4a243e8837ae74e3da6e2f1"
      }
     },
     "metadata": {},
     "output_type": "display_data"
    },
    {
     "data": {
      "text/plain": "  0%|          | 0/800 [00:00<?, ?it/s]",
      "application/vnd.jupyter.widget-view+json": {
       "version_major": 2,
       "version_minor": 0,
       "model_id": "3628ec9fc10f44a784366ff3595fbd81"
      }
     },
     "metadata": {},
     "output_type": "display_data"
    },
    {
     "data": {
      "text/plain": "  0%|          | 0/800 [00:00<?, ?it/s]",
      "application/vnd.jupyter.widget-view+json": {
       "version_major": 2,
       "version_minor": 0,
       "model_id": "aa83325032184db2a2b096d329ab2e59"
      }
     },
     "metadata": {},
     "output_type": "display_data"
    },
    {
     "data": {
      "text/plain": "  0%|          | 0/800 [00:00<?, ?it/s]",
      "application/vnd.jupyter.widget-view+json": {
       "version_major": 2,
       "version_minor": 0,
       "model_id": "b7d851c26d114110bbb9fdb7dc514bca"
      }
     },
     "metadata": {},
     "output_type": "display_data"
    },
    {
     "data": {
      "text/plain": "  0%|          | 0/800 [00:00<?, ?it/s]",
      "application/vnd.jupyter.widget-view+json": {
       "version_major": 2,
       "version_minor": 0,
       "model_id": "22853c0c05364336aee02716d190732d"
      }
     },
     "metadata": {},
     "output_type": "display_data"
    },
    {
     "data": {
      "text/plain": "  0%|          | 0/800 [00:00<?, ?it/s]",
      "application/vnd.jupyter.widget-view+json": {
       "version_major": 2,
       "version_minor": 0,
       "model_id": "0f321583fd1547449a445f7180a70016"
      }
     },
     "metadata": {},
     "output_type": "display_data"
    },
    {
     "data": {
      "text/plain": "  0%|          | 0/800 [00:00<?, ?it/s]",
      "application/vnd.jupyter.widget-view+json": {
       "version_major": 2,
       "version_minor": 0,
       "model_id": "2c0ace86d79b4a8684bae4044d91945b"
      }
     },
     "metadata": {},
     "output_type": "display_data"
    },
    {
     "data": {
      "text/plain": "  0%|          | 0/800 [00:00<?, ?it/s]",
      "application/vnd.jupyter.widget-view+json": {
       "version_major": 2,
       "version_minor": 0,
       "model_id": "7a8326e83eb5456b8c050d47c0e230d5"
      }
     },
     "metadata": {},
     "output_type": "display_data"
    },
    {
     "data": {
      "text/plain": "  0%|          | 0/800 [00:00<?, ?it/s]",
      "application/vnd.jupyter.widget-view+json": {
       "version_major": 2,
       "version_minor": 0,
       "model_id": "8d3e7be939ba458f9ce7e3726872f6ff"
      }
     },
     "metadata": {},
     "output_type": "display_data"
    },
    {
     "data": {
      "text/plain": "  0%|          | 0/800 [00:00<?, ?it/s]",
      "application/vnd.jupyter.widget-view+json": {
       "version_major": 2,
       "version_minor": 0,
       "model_id": "3e2d454d04d048b0a2b6ea09988d70df"
      }
     },
     "metadata": {},
     "output_type": "display_data"
    },
    {
     "data": {
      "text/plain": "  0%|          | 0/800 [00:00<?, ?it/s]",
      "application/vnd.jupyter.widget-view+json": {
       "version_major": 2,
       "version_minor": 0,
       "model_id": "dbc1745d67334bd7b759255584695c85"
      }
     },
     "metadata": {},
     "output_type": "display_data"
    },
    {
     "data": {
      "text/plain": "  0%|          | 0/800 [00:00<?, ?it/s]",
      "application/vnd.jupyter.widget-view+json": {
       "version_major": 2,
       "version_minor": 0,
       "model_id": "8e4e5c09167b4b3d97e97ac049d60b35"
      }
     },
     "metadata": {},
     "output_type": "display_data"
    },
    {
     "data": {
      "text/plain": "  0%|          | 0/800 [00:00<?, ?it/s]",
      "application/vnd.jupyter.widget-view+json": {
       "version_major": 2,
       "version_minor": 0,
       "model_id": "b3a375722533468fb813a3f2d82e721b"
      }
     },
     "metadata": {},
     "output_type": "display_data"
    },
    {
     "data": {
      "text/plain": "  0%|          | 0/800 [00:00<?, ?it/s]",
      "application/vnd.jupyter.widget-view+json": {
       "version_major": 2,
       "version_minor": 0,
       "model_id": "ce173b323f374c788aeed50e54f6e2b0"
      }
     },
     "metadata": {},
     "output_type": "display_data"
    },
    {
     "data": {
      "text/plain": "  0%|          | 0/800 [00:00<?, ?it/s]",
      "application/vnd.jupyter.widget-view+json": {
       "version_major": 2,
       "version_minor": 0,
       "model_id": "6b48959195c04d7b8333b0bd30ac4faf"
      }
     },
     "metadata": {},
     "output_type": "display_data"
    },
    {
     "data": {
      "text/plain": "  0%|          | 0/800 [00:00<?, ?it/s]",
      "application/vnd.jupyter.widget-view+json": {
       "version_major": 2,
       "version_minor": 0,
       "model_id": "73dbe0f96a15430495e3d8e8e59c715c"
      }
     },
     "metadata": {},
     "output_type": "display_data"
    },
    {
     "data": {
      "text/plain": "  0%|          | 0/800 [00:00<?, ?it/s]",
      "application/vnd.jupyter.widget-view+json": {
       "version_major": 2,
       "version_minor": 0,
       "model_id": "a1a481f4a19d47e78e1681ee6db94a38"
      }
     },
     "metadata": {},
     "output_type": "display_data"
    },
    {
     "data": {
      "text/plain": "  0%|          | 0/800 [00:00<?, ?it/s]",
      "application/vnd.jupyter.widget-view+json": {
       "version_major": 2,
       "version_minor": 0,
       "model_id": "b09e003c82a243e8a840d3105d919c94"
      }
     },
     "metadata": {},
     "output_type": "display_data"
    },
    {
     "data": {
      "text/plain": "  0%|          | 0/800 [00:00<?, ?it/s]",
      "application/vnd.jupyter.widget-view+json": {
       "version_major": 2,
       "version_minor": 0,
       "model_id": "9729347ca05246878ad30f62f98254d1"
      }
     },
     "metadata": {},
     "output_type": "display_data"
    },
    {
     "data": {
      "text/plain": "  0%|          | 0/800 [00:00<?, ?it/s]",
      "application/vnd.jupyter.widget-view+json": {
       "version_major": 2,
       "version_minor": 0,
       "model_id": "be7fb9bea8034570a63bb613b6553e3f"
      }
     },
     "metadata": {},
     "output_type": "display_data"
    },
    {
     "data": {
      "text/plain": "  0%|          | 0/800 [00:00<?, ?it/s]",
      "application/vnd.jupyter.widget-view+json": {
       "version_major": 2,
       "version_minor": 0,
       "model_id": "294fa35e0f5b4c13a26cf8c2b33e9bdd"
      }
     },
     "metadata": {},
     "output_type": "display_data"
    },
    {
     "data": {
      "text/plain": "  0%|          | 0/800 [00:00<?, ?it/s]",
      "application/vnd.jupyter.widget-view+json": {
       "version_major": 2,
       "version_minor": 0,
       "model_id": "6ce19b39d2a740e084539b22388dbf83"
      }
     },
     "metadata": {},
     "output_type": "display_data"
    },
    {
     "data": {
      "text/plain": "  0%|          | 0/800 [00:00<?, ?it/s]",
      "application/vnd.jupyter.widget-view+json": {
       "version_major": 2,
       "version_minor": 0,
       "model_id": "af056f9070bd4268a2b0ba7e533a51f3"
      }
     },
     "metadata": {},
     "output_type": "display_data"
    },
    {
     "data": {
      "text/plain": "  0%|          | 0/800 [00:00<?, ?it/s]",
      "application/vnd.jupyter.widget-view+json": {
       "version_major": 2,
       "version_minor": 0,
       "model_id": "c1a7f9daab1843988b58a8c2c4593b5d"
      }
     },
     "metadata": {},
     "output_type": "display_data"
    },
    {
     "data": {
      "text/plain": "  0%|          | 0/800 [00:00<?, ?it/s]",
      "application/vnd.jupyter.widget-view+json": {
       "version_major": 2,
       "version_minor": 0,
       "model_id": "2bc9e33a899942f3a693e094d7112e4f"
      }
     },
     "metadata": {},
     "output_type": "display_data"
    },
    {
     "data": {
      "text/plain": "  0%|          | 0/800 [00:00<?, ?it/s]",
      "application/vnd.jupyter.widget-view+json": {
       "version_major": 2,
       "version_minor": 0,
       "model_id": "493b24ad185b42978a8a00bf7c7bb964"
      }
     },
     "metadata": {},
     "output_type": "display_data"
    },
    {
     "data": {
      "text/plain": "  0%|          | 0/800 [00:00<?, ?it/s]",
      "application/vnd.jupyter.widget-view+json": {
       "version_major": 2,
       "version_minor": 0,
       "model_id": "348026e25ae04d519e0ecab64a6b0aea"
      }
     },
     "metadata": {},
     "output_type": "display_data"
    },
    {
     "data": {
      "text/plain": "  0%|          | 0/800 [00:00<?, ?it/s]",
      "application/vnd.jupyter.widget-view+json": {
       "version_major": 2,
       "version_minor": 0,
       "model_id": "f858fedeb3514593a754d5d2a62167e8"
      }
     },
     "metadata": {},
     "output_type": "display_data"
    },
    {
     "data": {
      "text/plain": "  0%|          | 0/800 [00:00<?, ?it/s]",
      "application/vnd.jupyter.widget-view+json": {
       "version_major": 2,
       "version_minor": 0,
       "model_id": "232501c002314351816bd6f753f37f6c"
      }
     },
     "metadata": {},
     "output_type": "display_data"
    },
    {
     "data": {
      "text/plain": "  0%|          | 0/800 [00:00<?, ?it/s]",
      "application/vnd.jupyter.widget-view+json": {
       "version_major": 2,
       "version_minor": 0,
       "model_id": "66354696411a40af98c134c8364141f4"
      }
     },
     "metadata": {},
     "output_type": "display_data"
    },
    {
     "data": {
      "text/plain": "  0%|          | 0/800 [00:00<?, ?it/s]",
      "application/vnd.jupyter.widget-view+json": {
       "version_major": 2,
       "version_minor": 0,
       "model_id": "49dc762ebda84ddf841423e2b15ef1fa"
      }
     },
     "metadata": {},
     "output_type": "display_data"
    },
    {
     "data": {
      "text/plain": "  0%|          | 0/800 [00:00<?, ?it/s]",
      "application/vnd.jupyter.widget-view+json": {
       "version_major": 2,
       "version_minor": 0,
       "model_id": "873a34c5ab944698a145ae37e879c7e9"
      }
     },
     "metadata": {},
     "output_type": "display_data"
    },
    {
     "data": {
      "text/plain": "  0%|          | 0/800 [00:00<?, ?it/s]",
      "application/vnd.jupyter.widget-view+json": {
       "version_major": 2,
       "version_minor": 0,
       "model_id": "bb25082bf6414e5faaa6f48ad3cfcf04"
      }
     },
     "metadata": {},
     "output_type": "display_data"
    },
    {
     "data": {
      "text/plain": "  0%|          | 0/800 [00:00<?, ?it/s]",
      "application/vnd.jupyter.widget-view+json": {
       "version_major": 2,
       "version_minor": 0,
       "model_id": "eaff6f460e7d4c848ab1562cea0b270c"
      }
     },
     "metadata": {},
     "output_type": "display_data"
    },
    {
     "data": {
      "text/plain": "  0%|          | 0/800 [00:00<?, ?it/s]",
      "application/vnd.jupyter.widget-view+json": {
       "version_major": 2,
       "version_minor": 0,
       "model_id": "f6665bc0cdb140b7b207e50b09af2c26"
      }
     },
     "metadata": {},
     "output_type": "display_data"
    },
    {
     "data": {
      "text/plain": "  0%|          | 0/800 [00:00<?, ?it/s]",
      "application/vnd.jupyter.widget-view+json": {
       "version_major": 2,
       "version_minor": 0,
       "model_id": "0d1a7847634e48ddb52fe0f112914a05"
      }
     },
     "metadata": {},
     "output_type": "display_data"
    },
    {
     "data": {
      "text/plain": "  0%|          | 0/800 [00:00<?, ?it/s]",
      "application/vnd.jupyter.widget-view+json": {
       "version_major": 2,
       "version_minor": 0,
       "model_id": "99b414d678194846bc8e74e51356f83c"
      }
     },
     "metadata": {},
     "output_type": "display_data"
    },
    {
     "data": {
      "text/plain": "  0%|          | 0/800 [00:00<?, ?it/s]",
      "application/vnd.jupyter.widget-view+json": {
       "version_major": 2,
       "version_minor": 0,
       "model_id": "c5b5bcd6ee854392b99ae5f78626ef11"
      }
     },
     "metadata": {},
     "output_type": "display_data"
    },
    {
     "data": {
      "text/plain": "  0%|          | 0/800 [00:00<?, ?it/s]",
      "application/vnd.jupyter.widget-view+json": {
       "version_major": 2,
       "version_minor": 0,
       "model_id": "9aba60e584bd4f85a032f2f949096e5f"
      }
     },
     "metadata": {},
     "output_type": "display_data"
    },
    {
     "data": {
      "text/plain": "  0%|          | 0/800 [00:00<?, ?it/s]",
      "application/vnd.jupyter.widget-view+json": {
       "version_major": 2,
       "version_minor": 0,
       "model_id": "2d55046ec0d9490b920de99e7995ce26"
      }
     },
     "metadata": {},
     "output_type": "display_data"
    },
    {
     "data": {
      "text/plain": "  0%|          | 0/800 [00:00<?, ?it/s]",
      "application/vnd.jupyter.widget-view+json": {
       "version_major": 2,
       "version_minor": 0,
       "model_id": "a952644fafd54c729a8f072ec7791845"
      }
     },
     "metadata": {},
     "output_type": "display_data"
    },
    {
     "data": {
      "text/plain": "  0%|          | 0/800 [00:00<?, ?it/s]",
      "application/vnd.jupyter.widget-view+json": {
       "version_major": 2,
       "version_minor": 0,
       "model_id": "1a6dd3c1deec4263abbcaef7a68f4b4a"
      }
     },
     "metadata": {},
     "output_type": "display_data"
    },
    {
     "data": {
      "text/plain": "  0%|          | 0/800 [00:00<?, ?it/s]",
      "application/vnd.jupyter.widget-view+json": {
       "version_major": 2,
       "version_minor": 0,
       "model_id": "bf9a742916ef460990f62df47be47d31"
      }
     },
     "metadata": {},
     "output_type": "display_data"
    },
    {
     "data": {
      "text/plain": "  0%|          | 0/800 [00:00<?, ?it/s]",
      "application/vnd.jupyter.widget-view+json": {
       "version_major": 2,
       "version_minor": 0,
       "model_id": "6f5c8454a8d9454b8bc4eec5dec23ed1"
      }
     },
     "metadata": {},
     "output_type": "display_data"
    },
    {
     "data": {
      "text/plain": "  0%|          | 0/800 [00:00<?, ?it/s]",
      "application/vnd.jupyter.widget-view+json": {
       "version_major": 2,
       "version_minor": 0,
       "model_id": "2c0a6cf058bf4e249a79a33ddcb36e19"
      }
     },
     "metadata": {},
     "output_type": "display_data"
    },
    {
     "data": {
      "text/plain": "  0%|          | 0/800 [00:00<?, ?it/s]",
      "application/vnd.jupyter.widget-view+json": {
       "version_major": 2,
       "version_minor": 0,
       "model_id": "3cbe1be327774a7a823a383a1150fde9"
      }
     },
     "metadata": {},
     "output_type": "display_data"
    },
    {
     "data": {
      "text/plain": "  0%|          | 0/800 [00:00<?, ?it/s]",
      "application/vnd.jupyter.widget-view+json": {
       "version_major": 2,
       "version_minor": 0,
       "model_id": "b28b0bdde24b40cc9dc2b236343a563e"
      }
     },
     "metadata": {},
     "output_type": "display_data"
    },
    {
     "data": {
      "text/plain": "  0%|          | 0/800 [00:00<?, ?it/s]",
      "application/vnd.jupyter.widget-view+json": {
       "version_major": 2,
       "version_minor": 0,
       "model_id": "0dfc93de2d3a41689031c7f24734da01"
      }
     },
     "metadata": {},
     "output_type": "display_data"
    },
    {
     "data": {
      "text/plain": "  0%|          | 0/800 [00:00<?, ?it/s]",
      "application/vnd.jupyter.widget-view+json": {
       "version_major": 2,
       "version_minor": 0,
       "model_id": "d70719fb3c0944a2b360ec2cd1289f21"
      }
     },
     "metadata": {},
     "output_type": "display_data"
    },
    {
     "data": {
      "text/plain": "  0%|          | 0/800 [00:00<?, ?it/s]",
      "application/vnd.jupyter.widget-view+json": {
       "version_major": 2,
       "version_minor": 0,
       "model_id": "ea9531d8265a404a841fe67761f12159"
      }
     },
     "metadata": {},
     "output_type": "display_data"
    },
    {
     "data": {
      "text/plain": "  0%|          | 0/800 [00:00<?, ?it/s]",
      "application/vnd.jupyter.widget-view+json": {
       "version_major": 2,
       "version_minor": 0,
       "model_id": "45246e095a0a412cbef2269a6628593a"
      }
     },
     "metadata": {},
     "output_type": "display_data"
    },
    {
     "data": {
      "text/plain": "  0%|          | 0/800 [00:00<?, ?it/s]",
      "application/vnd.jupyter.widget-view+json": {
       "version_major": 2,
       "version_minor": 0,
       "model_id": "b2e114bf4215439ca49d0cb731b8e9a0"
      }
     },
     "metadata": {},
     "output_type": "display_data"
    },
    {
     "data": {
      "text/plain": "  0%|          | 0/800 [00:00<?, ?it/s]",
      "application/vnd.jupyter.widget-view+json": {
       "version_major": 2,
       "version_minor": 0,
       "model_id": "903199a82ef045838c846576cb876db8"
      }
     },
     "metadata": {},
     "output_type": "display_data"
    },
    {
     "data": {
      "text/plain": "  0%|          | 0/800 [00:00<?, ?it/s]",
      "application/vnd.jupyter.widget-view+json": {
       "version_major": 2,
       "version_minor": 0,
       "model_id": "a59f00e590e04b2daab2ca24c884ca5a"
      }
     },
     "metadata": {},
     "output_type": "display_data"
    },
    {
     "data": {
      "text/plain": "  0%|          | 0/800 [00:00<?, ?it/s]",
      "application/vnd.jupyter.widget-view+json": {
       "version_major": 2,
       "version_minor": 0,
       "model_id": "0017070659944514be06648c2949399d"
      }
     },
     "metadata": {},
     "output_type": "display_data"
    },
    {
     "data": {
      "text/plain": "  0%|          | 0/800 [00:00<?, ?it/s]",
      "application/vnd.jupyter.widget-view+json": {
       "version_major": 2,
       "version_minor": 0,
       "model_id": "3ef8261ce31f4591b880cdc5e2e1f756"
      }
     },
     "metadata": {},
     "output_type": "display_data"
    },
    {
     "data": {
      "text/plain": "  0%|          | 0/800 [00:00<?, ?it/s]",
      "application/vnd.jupyter.widget-view+json": {
       "version_major": 2,
       "version_minor": 0,
       "model_id": "c3301f0da978491abcdded4f2a1363e3"
      }
     },
     "metadata": {},
     "output_type": "display_data"
    },
    {
     "data": {
      "text/plain": "  0%|          | 0/800 [00:00<?, ?it/s]",
      "application/vnd.jupyter.widget-view+json": {
       "version_major": 2,
       "version_minor": 0,
       "model_id": "40b5d40e2aee4741856a22116109021d"
      }
     },
     "metadata": {},
     "output_type": "display_data"
    },
    {
     "data": {
      "text/plain": "  0%|          | 0/800 [00:00<?, ?it/s]",
      "application/vnd.jupyter.widget-view+json": {
       "version_major": 2,
       "version_minor": 0,
       "model_id": "c057fc3041c74bc68d8884743d693e77"
      }
     },
     "metadata": {},
     "output_type": "display_data"
    },
    {
     "data": {
      "text/plain": "  0%|          | 0/800 [00:00<?, ?it/s]",
      "application/vnd.jupyter.widget-view+json": {
       "version_major": 2,
       "version_minor": 0,
       "model_id": "31a20c0385294e12bab42a7caa3a688d"
      }
     },
     "metadata": {},
     "output_type": "display_data"
    },
    {
     "data": {
      "text/plain": "  0%|          | 0/800 [00:00<?, ?it/s]",
      "application/vnd.jupyter.widget-view+json": {
       "version_major": 2,
       "version_minor": 0,
       "model_id": "d63aaa017f14413d9b48e85568427e9b"
      }
     },
     "metadata": {},
     "output_type": "display_data"
    },
    {
     "data": {
      "text/plain": "  0%|          | 0/800 [00:00<?, ?it/s]",
      "application/vnd.jupyter.widget-view+json": {
       "version_major": 2,
       "version_minor": 0,
       "model_id": "8728874d6e764c969a272ca911876796"
      }
     },
     "metadata": {},
     "output_type": "display_data"
    },
    {
     "data": {
      "text/plain": "  0%|          | 0/800 [00:00<?, ?it/s]",
      "application/vnd.jupyter.widget-view+json": {
       "version_major": 2,
       "version_minor": 0,
       "model_id": "cb0868b89e214d73bf310ebdaff600e9"
      }
     },
     "metadata": {},
     "output_type": "display_data"
    },
    {
     "data": {
      "text/plain": "  0%|          | 0/800 [00:00<?, ?it/s]",
      "application/vnd.jupyter.widget-view+json": {
       "version_major": 2,
       "version_minor": 0,
       "model_id": "a955e4dfae534b0e8818fbac7ec84542"
      }
     },
     "metadata": {},
     "output_type": "display_data"
    },
    {
     "data": {
      "text/plain": "  0%|          | 0/800 [00:00<?, ?it/s]",
      "application/vnd.jupyter.widget-view+json": {
       "version_major": 2,
       "version_minor": 0,
       "model_id": "2c1f5326038047529b180132028c43d1"
      }
     },
     "metadata": {},
     "output_type": "display_data"
    },
    {
     "data": {
      "text/plain": "  0%|          | 0/800 [00:00<?, ?it/s]",
      "application/vnd.jupyter.widget-view+json": {
       "version_major": 2,
       "version_minor": 0,
       "model_id": "479a44a84a7642a89f27127f53fbf487"
      }
     },
     "metadata": {},
     "output_type": "display_data"
    },
    {
     "data": {
      "text/plain": "  0%|          | 0/800 [00:00<?, ?it/s]",
      "application/vnd.jupyter.widget-view+json": {
       "version_major": 2,
       "version_minor": 0,
       "model_id": "3bb3532b912e433c99c2c594db110858"
      }
     },
     "metadata": {},
     "output_type": "display_data"
    },
    {
     "data": {
      "text/plain": "  0%|          | 0/800 [00:00<?, ?it/s]",
      "application/vnd.jupyter.widget-view+json": {
       "version_major": 2,
       "version_minor": 0,
       "model_id": "727eb06a1e884638a97e0fcca5882020"
      }
     },
     "metadata": {},
     "output_type": "display_data"
    },
    {
     "data": {
      "text/plain": "  0%|          | 0/800 [00:00<?, ?it/s]",
      "application/vnd.jupyter.widget-view+json": {
       "version_major": 2,
       "version_minor": 0,
       "model_id": "6f411d1eb9dd4172b734bc9c1f8a0680"
      }
     },
     "metadata": {},
     "output_type": "display_data"
    },
    {
     "data": {
      "text/plain": "  0%|          | 0/800 [00:00<?, ?it/s]",
      "application/vnd.jupyter.widget-view+json": {
       "version_major": 2,
       "version_minor": 0,
       "model_id": "3b0ded0890e942da9097a7c7f0d551a3"
      }
     },
     "metadata": {},
     "output_type": "display_data"
    },
    {
     "data": {
      "text/plain": "  0%|          | 0/800 [00:00<?, ?it/s]",
      "application/vnd.jupyter.widget-view+json": {
       "version_major": 2,
       "version_minor": 0,
       "model_id": "b9720343e28d47488436466d3f794a89"
      }
     },
     "metadata": {},
     "output_type": "display_data"
    },
    {
     "data": {
      "text/plain": "  0%|          | 0/800 [00:00<?, ?it/s]",
      "application/vnd.jupyter.widget-view+json": {
       "version_major": 2,
       "version_minor": 0,
       "model_id": "de492f4122d748cc84c662d74788ecbd"
      }
     },
     "metadata": {},
     "output_type": "display_data"
    },
    {
     "data": {
      "text/plain": "  0%|          | 0/800 [00:00<?, ?it/s]",
      "application/vnd.jupyter.widget-view+json": {
       "version_major": 2,
       "version_minor": 0,
       "model_id": "4e824545ced249fb84abbc77833f5bb9"
      }
     },
     "metadata": {},
     "output_type": "display_data"
    },
    {
     "data": {
      "text/plain": "  0%|          | 0/800 [00:00<?, ?it/s]",
      "application/vnd.jupyter.widget-view+json": {
       "version_major": 2,
       "version_minor": 0,
       "model_id": "01696c7b8e8b49b388e5dd52d85928ca"
      }
     },
     "metadata": {},
     "output_type": "display_data"
    },
    {
     "data": {
      "text/plain": "  0%|          | 0/800 [00:00<?, ?it/s]",
      "application/vnd.jupyter.widget-view+json": {
       "version_major": 2,
       "version_minor": 0,
       "model_id": "422f4efd3fd0414f8cf7393c1968468f"
      }
     },
     "metadata": {},
     "output_type": "display_data"
    },
    {
     "data": {
      "text/plain": "  0%|          | 0/800 [00:00<?, ?it/s]",
      "application/vnd.jupyter.widget-view+json": {
       "version_major": 2,
       "version_minor": 0,
       "model_id": "bff701a905b4432b8b047939c3093880"
      }
     },
     "metadata": {},
     "output_type": "display_data"
    },
    {
     "data": {
      "text/plain": "  0%|          | 0/800 [00:00<?, ?it/s]",
      "application/vnd.jupyter.widget-view+json": {
       "version_major": 2,
       "version_minor": 0,
       "model_id": "28ec68643e1e4d458cab8511a868ddd0"
      }
     },
     "metadata": {},
     "output_type": "display_data"
    },
    {
     "data": {
      "text/plain": "  0%|          | 0/800 [00:00<?, ?it/s]",
      "application/vnd.jupyter.widget-view+json": {
       "version_major": 2,
       "version_minor": 0,
       "model_id": "e956983a160b4ba9a2469cd6c8cfbd1c"
      }
     },
     "metadata": {},
     "output_type": "display_data"
    },
    {
     "data": {
      "text/plain": "  0%|          | 0/800 [00:00<?, ?it/s]",
      "application/vnd.jupyter.widget-view+json": {
       "version_major": 2,
       "version_minor": 0,
       "model_id": "a5d419e2c35249da97e28661ba7c2e8f"
      }
     },
     "metadata": {},
     "output_type": "display_data"
    },
    {
     "data": {
      "text/plain": "  0%|          | 0/800 [00:00<?, ?it/s]",
      "application/vnd.jupyter.widget-view+json": {
       "version_major": 2,
       "version_minor": 0,
       "model_id": "5bb0749c91ea4fb8858cc2b57dd24eea"
      }
     },
     "metadata": {},
     "output_type": "display_data"
    },
    {
     "data": {
      "text/plain": "  0%|          | 0/800 [00:00<?, ?it/s]",
      "application/vnd.jupyter.widget-view+json": {
       "version_major": 2,
       "version_minor": 0,
       "model_id": "725c7498d4854712a6a99982ebf407fb"
      }
     },
     "metadata": {},
     "output_type": "display_data"
    },
    {
     "data": {
      "text/plain": "  0%|          | 0/800 [00:00<?, ?it/s]",
      "application/vnd.jupyter.widget-view+json": {
       "version_major": 2,
       "version_minor": 0,
       "model_id": "258fc036ccfa4bf69eae3dbea4504bc2"
      }
     },
     "metadata": {},
     "output_type": "display_data"
    },
    {
     "data": {
      "text/plain": "  0%|          | 0/800 [00:00<?, ?it/s]",
      "application/vnd.jupyter.widget-view+json": {
       "version_major": 2,
       "version_minor": 0,
       "model_id": "68ac4bb22928443e811a0d369ed0b258"
      }
     },
     "metadata": {},
     "output_type": "display_data"
    },
    {
     "data": {
      "text/plain": "  0%|          | 0/800 [00:00<?, ?it/s]",
      "application/vnd.jupyter.widget-view+json": {
       "version_major": 2,
       "version_minor": 0,
       "model_id": "7752c6ddce88454a95ac0dd64fb2ff3e"
      }
     },
     "metadata": {},
     "output_type": "display_data"
    },
    {
     "data": {
      "text/plain": "  0%|          | 0/800 [00:00<?, ?it/s]",
      "application/vnd.jupyter.widget-view+json": {
       "version_major": 2,
       "version_minor": 0,
       "model_id": "cedc9f201fac424c8d05965d2de382fd"
      }
     },
     "metadata": {},
     "output_type": "display_data"
    },
    {
     "data": {
      "text/plain": "  0%|          | 0/800 [00:00<?, ?it/s]",
      "application/vnd.jupyter.widget-view+json": {
       "version_major": 2,
       "version_minor": 0,
       "model_id": "c6b58907aee1477783066a677036a06b"
      }
     },
     "metadata": {},
     "output_type": "display_data"
    },
    {
     "data": {
      "text/plain": "  0%|          | 0/800 [00:00<?, ?it/s]",
      "application/vnd.jupyter.widget-view+json": {
       "version_major": 2,
       "version_minor": 0,
       "model_id": "8f92294bd2c44e0e9aa97e50f038e39b"
      }
     },
     "metadata": {},
     "output_type": "display_data"
    },
    {
     "data": {
      "text/plain": "  0%|          | 0/800 [00:00<?, ?it/s]",
      "application/vnd.jupyter.widget-view+json": {
       "version_major": 2,
       "version_minor": 0,
       "model_id": "9e492f8695db43cc835be3769bbfecb0"
      }
     },
     "metadata": {},
     "output_type": "display_data"
    },
    {
     "data": {
      "text/plain": "  0%|          | 0/800 [00:00<?, ?it/s]",
      "application/vnd.jupyter.widget-view+json": {
       "version_major": 2,
       "version_minor": 0,
       "model_id": "2d4d6e4fe4f846d793c5919796e8d016"
      }
     },
     "metadata": {},
     "output_type": "display_data"
    },
    {
     "data": {
      "text/plain": "  0%|          | 0/800 [00:00<?, ?it/s]",
      "application/vnd.jupyter.widget-view+json": {
       "version_major": 2,
       "version_minor": 0,
       "model_id": "d215bcbf714d462ebd2e63922d0de872"
      }
     },
     "metadata": {},
     "output_type": "display_data"
    },
    {
     "data": {
      "text/plain": "  0%|          | 0/800 [00:00<?, ?it/s]",
      "application/vnd.jupyter.widget-view+json": {
       "version_major": 2,
       "version_minor": 0,
       "model_id": "b16ef84500c24382bd4ea739b89b55e0"
      }
     },
     "metadata": {},
     "output_type": "display_data"
    },
    {
     "data": {
      "text/plain": "  0%|          | 0/800 [00:00<?, ?it/s]",
      "application/vnd.jupyter.widget-view+json": {
       "version_major": 2,
       "version_minor": 0,
       "model_id": "1af367a550f844fea2af1113493c3c2e"
      }
     },
     "metadata": {},
     "output_type": "display_data"
    },
    {
     "data": {
      "text/plain": "  0%|          | 0/800 [00:00<?, ?it/s]",
      "application/vnd.jupyter.widget-view+json": {
       "version_major": 2,
       "version_minor": 0,
       "model_id": "729ba78f87bc4083b6907247ace41ae7"
      }
     },
     "metadata": {},
     "output_type": "display_data"
    },
    {
     "data": {
      "text/plain": "  0%|          | 0/800 [00:00<?, ?it/s]",
      "application/vnd.jupyter.widget-view+json": {
       "version_major": 2,
       "version_minor": 0,
       "model_id": "75338e0fa7374f17897322b58d8c88b5"
      }
     },
     "metadata": {},
     "output_type": "display_data"
    },
    {
     "data": {
      "text/plain": "  0%|          | 0/800 [00:00<?, ?it/s]",
      "application/vnd.jupyter.widget-view+json": {
       "version_major": 2,
       "version_minor": 0,
       "model_id": "d81f4446e0f94d628c7bbf6894f3831d"
      }
     },
     "metadata": {},
     "output_type": "display_data"
    },
    {
     "data": {
      "text/plain": "  0%|          | 0/800 [00:00<?, ?it/s]",
      "application/vnd.jupyter.widget-view+json": {
       "version_major": 2,
       "version_minor": 0,
       "model_id": "513663f97567475db4227fcd274438a7"
      }
     },
     "metadata": {},
     "output_type": "display_data"
    },
    {
     "data": {
      "text/plain": "  0%|          | 0/800 [00:00<?, ?it/s]",
      "application/vnd.jupyter.widget-view+json": {
       "version_major": 2,
       "version_minor": 0,
       "model_id": "b3159b1d9c444422ab38e136250821e5"
      }
     },
     "metadata": {},
     "output_type": "display_data"
    },
    {
     "data": {
      "text/plain": "  0%|          | 0/800 [00:00<?, ?it/s]",
      "application/vnd.jupyter.widget-view+json": {
       "version_major": 2,
       "version_minor": 0,
       "model_id": "41540863fc21426488416a3abd4e61f3"
      }
     },
     "metadata": {},
     "output_type": "display_data"
    },
    {
     "data": {
      "text/plain": "  0%|          | 0/800 [00:00<?, ?it/s]",
      "application/vnd.jupyter.widget-view+json": {
       "version_major": 2,
       "version_minor": 0,
       "model_id": "3f9366124da4453ab06fe202e8df4d04"
      }
     },
     "metadata": {},
     "output_type": "display_data"
    },
    {
     "data": {
      "text/plain": "  0%|          | 0/800 [00:00<?, ?it/s]",
      "application/vnd.jupyter.widget-view+json": {
       "version_major": 2,
       "version_minor": 0,
       "model_id": "af75b8a101814c0fb9d43a59198cb9dc"
      }
     },
     "metadata": {},
     "output_type": "display_data"
    },
    {
     "data": {
      "text/plain": "  0%|          | 0/800 [00:00<?, ?it/s]",
      "application/vnd.jupyter.widget-view+json": {
       "version_major": 2,
       "version_minor": 0,
       "model_id": "85a7b3b1c6514d66ad72f8f57d02aed3"
      }
     },
     "metadata": {},
     "output_type": "display_data"
    },
    {
     "data": {
      "text/plain": "  0%|          | 0/800 [00:00<?, ?it/s]",
      "application/vnd.jupyter.widget-view+json": {
       "version_major": 2,
       "version_minor": 0,
       "model_id": "fc00f8df0e9a40f9bbf998f804d873ae"
      }
     },
     "metadata": {},
     "output_type": "display_data"
    },
    {
     "data": {
      "text/plain": "  0%|          | 0/800 [00:00<?, ?it/s]",
      "application/vnd.jupyter.widget-view+json": {
       "version_major": 2,
       "version_minor": 0,
       "model_id": "5eec086c7c434a36be7a3728fa45651b"
      }
     },
     "metadata": {},
     "output_type": "display_data"
    },
    {
     "data": {
      "text/plain": "  0%|          | 0/800 [00:00<?, ?it/s]",
      "application/vnd.jupyter.widget-view+json": {
       "version_major": 2,
       "version_minor": 0,
       "model_id": "46f1553dd4fd4a69932bb6999b85d881"
      }
     },
     "metadata": {},
     "output_type": "display_data"
    },
    {
     "data": {
      "text/plain": "  0%|          | 0/800 [00:00<?, ?it/s]",
      "application/vnd.jupyter.widget-view+json": {
       "version_major": 2,
       "version_minor": 0,
       "model_id": "f7274d5ca32948e7a3518590394f3709"
      }
     },
     "metadata": {},
     "output_type": "display_data"
    },
    {
     "data": {
      "text/plain": "  0%|          | 0/800 [00:00<?, ?it/s]",
      "application/vnd.jupyter.widget-view+json": {
       "version_major": 2,
       "version_minor": 0,
       "model_id": "b3b0f83f5d4044979afaa831ede8a2b4"
      }
     },
     "metadata": {},
     "output_type": "display_data"
    },
    {
     "data": {
      "text/plain": "  0%|          | 0/800 [00:00<?, ?it/s]",
      "application/vnd.jupyter.widget-view+json": {
       "version_major": 2,
       "version_minor": 0,
       "model_id": "6dee7f469c714c81ad48641e0a493c97"
      }
     },
     "metadata": {},
     "output_type": "display_data"
    },
    {
     "data": {
      "text/plain": "  0%|          | 0/800 [00:00<?, ?it/s]",
      "application/vnd.jupyter.widget-view+json": {
       "version_major": 2,
       "version_minor": 0,
       "model_id": "be4a903d180d462f8ea2005e48964fee"
      }
     },
     "metadata": {},
     "output_type": "display_data"
    },
    {
     "data": {
      "text/plain": "  0%|          | 0/800 [00:00<?, ?it/s]",
      "application/vnd.jupyter.widget-view+json": {
       "version_major": 2,
       "version_minor": 0,
       "model_id": "eb0139ea66e5426bb8781ef8163e694b"
      }
     },
     "metadata": {},
     "output_type": "display_data"
    },
    {
     "data": {
      "text/plain": "  0%|          | 0/800 [00:00<?, ?it/s]",
      "application/vnd.jupyter.widget-view+json": {
       "version_major": 2,
       "version_minor": 0,
       "model_id": "9f204061bf1446b3b62a684c7d711eb2"
      }
     },
     "metadata": {},
     "output_type": "display_data"
    },
    {
     "data": {
      "text/plain": "  0%|          | 0/800 [00:00<?, ?it/s]",
      "application/vnd.jupyter.widget-view+json": {
       "version_major": 2,
       "version_minor": 0,
       "model_id": "83adce0ef42446f3bb90d2bebb10de97"
      }
     },
     "metadata": {},
     "output_type": "display_data"
    },
    {
     "data": {
      "text/plain": "  0%|          | 0/800 [00:00<?, ?it/s]",
      "application/vnd.jupyter.widget-view+json": {
       "version_major": 2,
       "version_minor": 0,
       "model_id": "ad67ac30940040f88935b9f28a4aa237"
      }
     },
     "metadata": {},
     "output_type": "display_data"
    },
    {
     "data": {
      "text/plain": "  0%|          | 0/800 [00:00<?, ?it/s]",
      "application/vnd.jupyter.widget-view+json": {
       "version_major": 2,
       "version_minor": 0,
       "model_id": "03dfe893470746f5b962c09c20141bbf"
      }
     },
     "metadata": {},
     "output_type": "display_data"
    },
    {
     "data": {
      "text/plain": "  0%|          | 0/800 [00:00<?, ?it/s]",
      "application/vnd.jupyter.widget-view+json": {
       "version_major": 2,
       "version_minor": 0,
       "model_id": "b6932f8c1704488ba8afc33d20d24dad"
      }
     },
     "metadata": {},
     "output_type": "display_data"
    },
    {
     "data": {
      "text/plain": "  0%|          | 0/800 [00:00<?, ?it/s]",
      "application/vnd.jupyter.widget-view+json": {
       "version_major": 2,
       "version_minor": 0,
       "model_id": "1dc6ee3b1930473a85831630c935eacf"
      }
     },
     "metadata": {},
     "output_type": "display_data"
    },
    {
     "data": {
      "text/plain": "  0%|          | 0/800 [00:00<?, ?it/s]",
      "application/vnd.jupyter.widget-view+json": {
       "version_major": 2,
       "version_minor": 0,
       "model_id": "b5ea82e8907541b5991cf602e9d0cc36"
      }
     },
     "metadata": {},
     "output_type": "display_data"
    },
    {
     "data": {
      "text/plain": "  0%|          | 0/800 [00:00<?, ?it/s]",
      "application/vnd.jupyter.widget-view+json": {
       "version_major": 2,
       "version_minor": 0,
       "model_id": "0d8a88ba8f1f4f12bc9761d41c6ef7f5"
      }
     },
     "metadata": {},
     "output_type": "display_data"
    },
    {
     "data": {
      "text/plain": "  0%|          | 0/800 [00:00<?, ?it/s]",
      "application/vnd.jupyter.widget-view+json": {
       "version_major": 2,
       "version_minor": 0,
       "model_id": "568834d2bb2c40eba412bc65e1a13681"
      }
     },
     "metadata": {},
     "output_type": "display_data"
    },
    {
     "data": {
      "text/plain": "  0%|          | 0/800 [00:00<?, ?it/s]",
      "application/vnd.jupyter.widget-view+json": {
       "version_major": 2,
       "version_minor": 0,
       "model_id": "93065366fa8d489184116d6d058737a2"
      }
     },
     "metadata": {},
     "output_type": "display_data"
    },
    {
     "data": {
      "text/plain": "  0%|          | 0/800 [00:00<?, ?it/s]",
      "application/vnd.jupyter.widget-view+json": {
       "version_major": 2,
       "version_minor": 0,
       "model_id": "e82856d4445243e78ee3418444b7d207"
      }
     },
     "metadata": {},
     "output_type": "display_data"
    },
    {
     "data": {
      "text/plain": "  0%|          | 0/800 [00:00<?, ?it/s]",
      "application/vnd.jupyter.widget-view+json": {
       "version_major": 2,
       "version_minor": 0,
       "model_id": "51e882b06a264d3089d6ad0f698aabab"
      }
     },
     "metadata": {},
     "output_type": "display_data"
    },
    {
     "data": {
      "text/plain": "  0%|          | 0/800 [00:00<?, ?it/s]",
      "application/vnd.jupyter.widget-view+json": {
       "version_major": 2,
       "version_minor": 0,
       "model_id": "e3e4674720f8419e946df29b842c8284"
      }
     },
     "metadata": {},
     "output_type": "display_data"
    },
    {
     "data": {
      "text/plain": "  0%|          | 0/800 [00:00<?, ?it/s]",
      "application/vnd.jupyter.widget-view+json": {
       "version_major": 2,
       "version_minor": 0,
       "model_id": "1c9bb98da78e43f0960f8d38fa913759"
      }
     },
     "metadata": {},
     "output_type": "display_data"
    },
    {
     "data": {
      "text/plain": "  0%|          | 0/800 [00:00<?, ?it/s]",
      "application/vnd.jupyter.widget-view+json": {
       "version_major": 2,
       "version_minor": 0,
       "model_id": "b7e51aaff4454403bb9ac73da663a3f8"
      }
     },
     "metadata": {},
     "output_type": "display_data"
    },
    {
     "data": {
      "text/plain": "  0%|          | 0/800 [00:00<?, ?it/s]",
      "application/vnd.jupyter.widget-view+json": {
       "version_major": 2,
       "version_minor": 0,
       "model_id": "1e68a31bcb4d4774ad5e08b89c2b4712"
      }
     },
     "metadata": {},
     "output_type": "display_data"
    },
    {
     "data": {
      "text/plain": "  0%|          | 0/800 [00:00<?, ?it/s]",
      "application/vnd.jupyter.widget-view+json": {
       "version_major": 2,
       "version_minor": 0,
       "model_id": "8c3f29a92f204f33a57bf78a0670c9a0"
      }
     },
     "metadata": {},
     "output_type": "display_data"
    },
    {
     "data": {
      "text/plain": "  0%|          | 0/800 [00:00<?, ?it/s]",
      "application/vnd.jupyter.widget-view+json": {
       "version_major": 2,
       "version_minor": 0,
       "model_id": "ffb6afec7f4648fca27f9eda08eec342"
      }
     },
     "metadata": {},
     "output_type": "display_data"
    },
    {
     "data": {
      "text/plain": "  0%|          | 0/800 [00:00<?, ?it/s]",
      "application/vnd.jupyter.widget-view+json": {
       "version_major": 2,
       "version_minor": 0,
       "model_id": "e9fcee6eee88434c89662e77da60ae83"
      }
     },
     "metadata": {},
     "output_type": "display_data"
    },
    {
     "data": {
      "text/plain": "  0%|          | 0/800 [00:00<?, ?it/s]",
      "application/vnd.jupyter.widget-view+json": {
       "version_major": 2,
       "version_minor": 0,
       "model_id": "04cc65b732f64a11a828024c1484b39d"
      }
     },
     "metadata": {},
     "output_type": "display_data"
    },
    {
     "data": {
      "text/plain": "  0%|          | 0/800 [00:00<?, ?it/s]",
      "application/vnd.jupyter.widget-view+json": {
       "version_major": 2,
       "version_minor": 0,
       "model_id": "331e20e8000e4e30877236d29c293866"
      }
     },
     "metadata": {},
     "output_type": "display_data"
    },
    {
     "data": {
      "text/plain": "  0%|          | 0/800 [00:00<?, ?it/s]",
      "application/vnd.jupyter.widget-view+json": {
       "version_major": 2,
       "version_minor": 0,
       "model_id": "0e9aa5f9df824bfcb584ec371364faee"
      }
     },
     "metadata": {},
     "output_type": "display_data"
    },
    {
     "data": {
      "text/plain": "  0%|          | 0/800 [00:00<?, ?it/s]",
      "application/vnd.jupyter.widget-view+json": {
       "version_major": 2,
       "version_minor": 0,
       "model_id": "0427d01b4be84caea06dca6d541045b2"
      }
     },
     "metadata": {},
     "output_type": "display_data"
    },
    {
     "data": {
      "text/plain": "  0%|          | 0/800 [00:00<?, ?it/s]",
      "application/vnd.jupyter.widget-view+json": {
       "version_major": 2,
       "version_minor": 0,
       "model_id": "f2e510a5aa114cca87e252afafc2a686"
      }
     },
     "metadata": {},
     "output_type": "display_data"
    },
    {
     "data": {
      "text/plain": "  0%|          | 0/800 [00:00<?, ?it/s]",
      "application/vnd.jupyter.widget-view+json": {
       "version_major": 2,
       "version_minor": 0,
       "model_id": "1fea3777b14b4f5eae5d540d12edabf4"
      }
     },
     "metadata": {},
     "output_type": "display_data"
    },
    {
     "data": {
      "text/plain": "  0%|          | 0/800 [00:00<?, ?it/s]",
      "application/vnd.jupyter.widget-view+json": {
       "version_major": 2,
       "version_minor": 0,
       "model_id": "8f68f6a5c400403fa1a1c95f6c01bfa3"
      }
     },
     "metadata": {},
     "output_type": "display_data"
    },
    {
     "data": {
      "text/plain": "  0%|          | 0/800 [00:00<?, ?it/s]",
      "application/vnd.jupyter.widget-view+json": {
       "version_major": 2,
       "version_minor": 0,
       "model_id": "0f008c3e19d442ac8679bfdeff41e22a"
      }
     },
     "metadata": {},
     "output_type": "display_data"
    },
    {
     "data": {
      "text/plain": "  0%|          | 0/800 [00:00<?, ?it/s]",
      "application/vnd.jupyter.widget-view+json": {
       "version_major": 2,
       "version_minor": 0,
       "model_id": "e792e82b460f4fd8ab157a422cfe0eeb"
      }
     },
     "metadata": {},
     "output_type": "display_data"
    },
    {
     "data": {
      "text/plain": "  0%|          | 0/800 [00:00<?, ?it/s]",
      "application/vnd.jupyter.widget-view+json": {
       "version_major": 2,
       "version_minor": 0,
       "model_id": "aaef26ccc4ac4110b396b0bc0f43142c"
      }
     },
     "metadata": {},
     "output_type": "display_data"
    },
    {
     "data": {
      "text/plain": "  0%|          | 0/800 [00:00<?, ?it/s]",
      "application/vnd.jupyter.widget-view+json": {
       "version_major": 2,
       "version_minor": 0,
       "model_id": "a70d0c8029684d84b624cc16c182ae52"
      }
     },
     "metadata": {},
     "output_type": "display_data"
    },
    {
     "data": {
      "text/plain": "  0%|          | 0/800 [00:00<?, ?it/s]",
      "application/vnd.jupyter.widget-view+json": {
       "version_major": 2,
       "version_minor": 0,
       "model_id": "7b36302c71de4292bf463b8060ba7de3"
      }
     },
     "metadata": {},
     "output_type": "display_data"
    },
    {
     "data": {
      "text/plain": "  0%|          | 0/800 [00:00<?, ?it/s]",
      "application/vnd.jupyter.widget-view+json": {
       "version_major": 2,
       "version_minor": 0,
       "model_id": "a10745beafbe42f0b4ce7b549c65cecd"
      }
     },
     "metadata": {},
     "output_type": "display_data"
    },
    {
     "data": {
      "text/plain": "  0%|          | 0/800 [00:00<?, ?it/s]",
      "application/vnd.jupyter.widget-view+json": {
       "version_major": 2,
       "version_minor": 0,
       "model_id": "a694cec7814b4d77abc1f2bb5a2dba7e"
      }
     },
     "metadata": {},
     "output_type": "display_data"
    },
    {
     "data": {
      "text/plain": "  0%|          | 0/800 [00:00<?, ?it/s]",
      "application/vnd.jupyter.widget-view+json": {
       "version_major": 2,
       "version_minor": 0,
       "model_id": "498220b175ec4925aa5f1678c9397616"
      }
     },
     "metadata": {},
     "output_type": "display_data"
    },
    {
     "data": {
      "text/plain": "  0%|          | 0/800 [00:00<?, ?it/s]",
      "application/vnd.jupyter.widget-view+json": {
       "version_major": 2,
       "version_minor": 0,
       "model_id": "8771fc24e0994b4fab5d41364dfc053b"
      }
     },
     "metadata": {},
     "output_type": "display_data"
    },
    {
     "data": {
      "text/plain": "  0%|          | 0/800 [00:00<?, ?it/s]",
      "application/vnd.jupyter.widget-view+json": {
       "version_major": 2,
       "version_minor": 0,
       "model_id": "9f3e5d47fd27451580a6037ed60fadcf"
      }
     },
     "metadata": {},
     "output_type": "display_data"
    },
    {
     "data": {
      "text/plain": "  0%|          | 0/800 [00:00<?, ?it/s]",
      "application/vnd.jupyter.widget-view+json": {
       "version_major": 2,
       "version_minor": 0,
       "model_id": "2df1881ee88c4c97845da3c702e40b87"
      }
     },
     "metadata": {},
     "output_type": "display_data"
    },
    {
     "data": {
      "text/plain": "  0%|          | 0/800 [00:00<?, ?it/s]",
      "application/vnd.jupyter.widget-view+json": {
       "version_major": 2,
       "version_minor": 0,
       "model_id": "4b126e34c42b4c369bbd06b032a4207b"
      }
     },
     "metadata": {},
     "output_type": "display_data"
    },
    {
     "data": {
      "text/plain": "  0%|          | 0/800 [00:00<?, ?it/s]",
      "application/vnd.jupyter.widget-view+json": {
       "version_major": 2,
       "version_minor": 0,
       "model_id": "f561df35097041619631a681de6f9d95"
      }
     },
     "metadata": {},
     "output_type": "display_data"
    },
    {
     "data": {
      "text/plain": "  0%|          | 0/800 [00:00<?, ?it/s]",
      "application/vnd.jupyter.widget-view+json": {
       "version_major": 2,
       "version_minor": 0,
       "model_id": "9a4e3fa465a146ea95518b5ec72424a4"
      }
     },
     "metadata": {},
     "output_type": "display_data"
    },
    {
     "data": {
      "text/plain": "  0%|          | 0/800 [00:00<?, ?it/s]",
      "application/vnd.jupyter.widget-view+json": {
       "version_major": 2,
       "version_minor": 0,
       "model_id": "eb04691aa55c4488bcf63e8393a5b7c2"
      }
     },
     "metadata": {},
     "output_type": "display_data"
    },
    {
     "data": {
      "text/plain": "  0%|          | 0/800 [00:00<?, ?it/s]",
      "application/vnd.jupyter.widget-view+json": {
       "version_major": 2,
       "version_minor": 0,
       "model_id": "e14e6ae530514fb0b46889732b9b91aa"
      }
     },
     "metadata": {},
     "output_type": "display_data"
    },
    {
     "data": {
      "text/plain": "  0%|          | 0/800 [00:00<?, ?it/s]",
      "application/vnd.jupyter.widget-view+json": {
       "version_major": 2,
       "version_minor": 0,
       "model_id": "420d63cf91f24131b89ad9d314f86891"
      }
     },
     "metadata": {},
     "output_type": "display_data"
    },
    {
     "data": {
      "text/plain": "  0%|          | 0/800 [00:00<?, ?it/s]",
      "application/vnd.jupyter.widget-view+json": {
       "version_major": 2,
       "version_minor": 0,
       "model_id": "1b380f49f28b486b8d9c7ee6388ed7f3"
      }
     },
     "metadata": {},
     "output_type": "display_data"
    },
    {
     "data": {
      "text/plain": "  0%|          | 0/800 [00:00<?, ?it/s]",
      "application/vnd.jupyter.widget-view+json": {
       "version_major": 2,
       "version_minor": 0,
       "model_id": "aff3bc289bbb4969ac7b6e3520923dd3"
      }
     },
     "metadata": {},
     "output_type": "display_data"
    },
    {
     "data": {
      "text/plain": "  0%|          | 0/800 [00:00<?, ?it/s]",
      "application/vnd.jupyter.widget-view+json": {
       "version_major": 2,
       "version_minor": 0,
       "model_id": "887c9e3a273b40ff9be6487c7f23ba75"
      }
     },
     "metadata": {},
     "output_type": "display_data"
    },
    {
     "data": {
      "text/plain": "  0%|          | 0/800 [00:00<?, ?it/s]",
      "application/vnd.jupyter.widget-view+json": {
       "version_major": 2,
       "version_minor": 0,
       "model_id": "41eed5b7c4794d4883189dad3f721ac6"
      }
     },
     "metadata": {},
     "output_type": "display_data"
    },
    {
     "data": {
      "text/plain": "  0%|          | 0/800 [00:00<?, ?it/s]",
      "application/vnd.jupyter.widget-view+json": {
       "version_major": 2,
       "version_minor": 0,
       "model_id": "2f01ad646aef4e2391c030861912655c"
      }
     },
     "metadata": {},
     "output_type": "display_data"
    },
    {
     "data": {
      "text/plain": "  0%|          | 0/800 [00:00<?, ?it/s]",
      "application/vnd.jupyter.widget-view+json": {
       "version_major": 2,
       "version_minor": 0,
       "model_id": "64e5b2fc72ba4607a8cb7eba89c8953a"
      }
     },
     "metadata": {},
     "output_type": "display_data"
    },
    {
     "data": {
      "text/plain": "  0%|          | 0/800 [00:00<?, ?it/s]",
      "application/vnd.jupyter.widget-view+json": {
       "version_major": 2,
       "version_minor": 0,
       "model_id": "c9062276f93e4f0b812aebc524092223"
      }
     },
     "metadata": {},
     "output_type": "display_data"
    },
    {
     "data": {
      "text/plain": "  0%|          | 0/800 [00:00<?, ?it/s]",
      "application/vnd.jupyter.widget-view+json": {
       "version_major": 2,
       "version_minor": 0,
       "model_id": "ecc9677d72cb4de7aacc3046fd645fa1"
      }
     },
     "metadata": {},
     "output_type": "display_data"
    },
    {
     "data": {
      "text/plain": "  0%|          | 0/800 [00:00<?, ?it/s]",
      "application/vnd.jupyter.widget-view+json": {
       "version_major": 2,
       "version_minor": 0,
       "model_id": "2ea71ca520244172aca0dd9bee9e755f"
      }
     },
     "metadata": {},
     "output_type": "display_data"
    },
    {
     "data": {
      "text/plain": "  0%|          | 0/800 [00:00<?, ?it/s]",
      "application/vnd.jupyter.widget-view+json": {
       "version_major": 2,
       "version_minor": 0,
       "model_id": "ccdf330f10234831b777d122833d39ac"
      }
     },
     "metadata": {},
     "output_type": "display_data"
    },
    {
     "data": {
      "text/plain": "  0%|          | 0/800 [00:00<?, ?it/s]",
      "application/vnd.jupyter.widget-view+json": {
       "version_major": 2,
       "version_minor": 0,
       "model_id": "6fae2f50c15c44c0a4500cc295f14e82"
      }
     },
     "metadata": {},
     "output_type": "display_data"
    },
    {
     "data": {
      "text/plain": "  0%|          | 0/800 [00:00<?, ?it/s]",
      "application/vnd.jupyter.widget-view+json": {
       "version_major": 2,
       "version_minor": 0,
       "model_id": "eca64539ad6a4330859b73b2426fbf60"
      }
     },
     "metadata": {},
     "output_type": "display_data"
    },
    {
     "data": {
      "text/plain": "  0%|          | 0/800 [00:00<?, ?it/s]",
      "application/vnd.jupyter.widget-view+json": {
       "version_major": 2,
       "version_minor": 0,
       "model_id": "1955e5c7015349f4bd08b1a90aa18de7"
      }
     },
     "metadata": {},
     "output_type": "display_data"
    },
    {
     "data": {
      "text/plain": "  0%|          | 0/800 [00:00<?, ?it/s]",
      "application/vnd.jupyter.widget-view+json": {
       "version_major": 2,
       "version_minor": 0,
       "model_id": "f305fbe5f30d482ba0629b9dbe9a411e"
      }
     },
     "metadata": {},
     "output_type": "display_data"
    },
    {
     "data": {
      "text/plain": "  0%|          | 0/800 [00:00<?, ?it/s]",
      "application/vnd.jupyter.widget-view+json": {
       "version_major": 2,
       "version_minor": 0,
       "model_id": "c2d4016cd8d643e69beaf99712ec987f"
      }
     },
     "metadata": {},
     "output_type": "display_data"
    },
    {
     "data": {
      "text/plain": "  0%|          | 0/800 [00:00<?, ?it/s]",
      "application/vnd.jupyter.widget-view+json": {
       "version_major": 2,
       "version_minor": 0,
       "model_id": "463e01d1178f4a4e9867043820951486"
      }
     },
     "metadata": {},
     "output_type": "display_data"
    },
    {
     "data": {
      "text/plain": "  0%|          | 0/800 [00:00<?, ?it/s]",
      "application/vnd.jupyter.widget-view+json": {
       "version_major": 2,
       "version_minor": 0,
       "model_id": "06726f6f237c4682aad430b551dba3b3"
      }
     },
     "metadata": {},
     "output_type": "display_data"
    },
    {
     "data": {
      "text/plain": "  0%|          | 0/800 [00:00<?, ?it/s]",
      "application/vnd.jupyter.widget-view+json": {
       "version_major": 2,
       "version_minor": 0,
       "model_id": "0e69a1c1fed8465388c335569681e04b"
      }
     },
     "metadata": {},
     "output_type": "display_data"
    },
    {
     "data": {
      "text/plain": "  0%|          | 0/800 [00:00<?, ?it/s]",
      "application/vnd.jupyter.widget-view+json": {
       "version_major": 2,
       "version_minor": 0,
       "model_id": "ac3a2a2f80fb4716a6e38d690da885cb"
      }
     },
     "metadata": {},
     "output_type": "display_data"
    },
    {
     "data": {
      "text/plain": "  0%|          | 0/800 [00:00<?, ?it/s]",
      "application/vnd.jupyter.widget-view+json": {
       "version_major": 2,
       "version_minor": 0,
       "model_id": "56817d6a9f7d4063b2a1d528885da91f"
      }
     },
     "metadata": {},
     "output_type": "display_data"
    },
    {
     "data": {
      "text/plain": "  0%|          | 0/800 [00:00<?, ?it/s]",
      "application/vnd.jupyter.widget-view+json": {
       "version_major": 2,
       "version_minor": 0,
       "model_id": "1c6e797f8af244a99c7717862e0201a8"
      }
     },
     "metadata": {},
     "output_type": "display_data"
    },
    {
     "data": {
      "text/plain": "  0%|          | 0/800 [00:00<?, ?it/s]",
      "application/vnd.jupyter.widget-view+json": {
       "version_major": 2,
       "version_minor": 0,
       "model_id": "9d29c9008c3a470aa7de7becac41f682"
      }
     },
     "metadata": {},
     "output_type": "display_data"
    },
    {
     "data": {
      "text/plain": "  0%|          | 0/800 [00:00<?, ?it/s]",
      "application/vnd.jupyter.widget-view+json": {
       "version_major": 2,
       "version_minor": 0,
       "model_id": "ed085b47582045f68bcad93bffe192d7"
      }
     },
     "metadata": {},
     "output_type": "display_data"
    },
    {
     "data": {
      "text/plain": "  0%|          | 0/800 [00:00<?, ?it/s]",
      "application/vnd.jupyter.widget-view+json": {
       "version_major": 2,
       "version_minor": 0,
       "model_id": "02a1df5b768e4c2491990800b3cc198d"
      }
     },
     "metadata": {},
     "output_type": "display_data"
    },
    {
     "data": {
      "text/plain": "  0%|          | 0/800 [00:00<?, ?it/s]",
      "application/vnd.jupyter.widget-view+json": {
       "version_major": 2,
       "version_minor": 0,
       "model_id": "892dc925cc604e42bfe8c342e82e7b06"
      }
     },
     "metadata": {},
     "output_type": "display_data"
    },
    {
     "data": {
      "text/plain": "  0%|          | 0/800 [00:00<?, ?it/s]",
      "application/vnd.jupyter.widget-view+json": {
       "version_major": 2,
       "version_minor": 0,
       "model_id": "34dd5c1261da49119fdc86e9f3fcb331"
      }
     },
     "metadata": {},
     "output_type": "display_data"
    },
    {
     "data": {
      "text/plain": "  0%|          | 0/800 [00:00<?, ?it/s]",
      "application/vnd.jupyter.widget-view+json": {
       "version_major": 2,
       "version_minor": 0,
       "model_id": "6a55fd11d2e64c8985f22da9063b3b80"
      }
     },
     "metadata": {},
     "output_type": "display_data"
    },
    {
     "data": {
      "text/plain": "  0%|          | 0/800 [00:00<?, ?it/s]",
      "application/vnd.jupyter.widget-view+json": {
       "version_major": 2,
       "version_minor": 0,
       "model_id": "21af51b698824cefb16bd4f9d3415042"
      }
     },
     "metadata": {},
     "output_type": "display_data"
    },
    {
     "data": {
      "text/plain": "  0%|          | 0/800 [00:00<?, ?it/s]",
      "application/vnd.jupyter.widget-view+json": {
       "version_major": 2,
       "version_minor": 0,
       "model_id": "0a29845ae2fd464caf758c18369734ad"
      }
     },
     "metadata": {},
     "output_type": "display_data"
    },
    {
     "data": {
      "text/plain": "  0%|          | 0/800 [00:00<?, ?it/s]",
      "application/vnd.jupyter.widget-view+json": {
       "version_major": 2,
       "version_minor": 0,
       "model_id": "f76c592e857e477dbe5fbb5c88440b77"
      }
     },
     "metadata": {},
     "output_type": "display_data"
    },
    {
     "data": {
      "text/plain": "  0%|          | 0/800 [00:00<?, ?it/s]",
      "application/vnd.jupyter.widget-view+json": {
       "version_major": 2,
       "version_minor": 0,
       "model_id": "8598fb3d0626471788d67ec9ba41ac1f"
      }
     },
     "metadata": {},
     "output_type": "display_data"
    },
    {
     "data": {
      "text/plain": "  0%|          | 0/800 [00:00<?, ?it/s]",
      "application/vnd.jupyter.widget-view+json": {
       "version_major": 2,
       "version_minor": 0,
       "model_id": "7e5ed8b5e9864c70981fc92c33270021"
      }
     },
     "metadata": {},
     "output_type": "display_data"
    },
    {
     "data": {
      "text/plain": "  0%|          | 0/800 [00:00<?, ?it/s]",
      "application/vnd.jupyter.widget-view+json": {
       "version_major": 2,
       "version_minor": 0,
       "model_id": "3aac3c44b73e42fa9ba8994a20f7b174"
      }
     },
     "metadata": {},
     "output_type": "display_data"
    },
    {
     "data": {
      "text/plain": "  0%|          | 0/800 [00:00<?, ?it/s]",
      "application/vnd.jupyter.widget-view+json": {
       "version_major": 2,
       "version_minor": 0,
       "model_id": "8eaf17bd691c4ad398464196149a537b"
      }
     },
     "metadata": {},
     "output_type": "display_data"
    },
    {
     "data": {
      "text/plain": "  0%|          | 0/800 [00:00<?, ?it/s]",
      "application/vnd.jupyter.widget-view+json": {
       "version_major": 2,
       "version_minor": 0,
       "model_id": "5c7e799c2cbc4005abb6c1ac869603e0"
      }
     },
     "metadata": {},
     "output_type": "display_data"
    },
    {
     "data": {
      "text/plain": "  0%|          | 0/800 [00:00<?, ?it/s]",
      "application/vnd.jupyter.widget-view+json": {
       "version_major": 2,
       "version_minor": 0,
       "model_id": "330aa960eda147099dd6fb5b2f2217ed"
      }
     },
     "metadata": {},
     "output_type": "display_data"
    },
    {
     "data": {
      "text/plain": "  0%|          | 0/800 [00:00<?, ?it/s]",
      "application/vnd.jupyter.widget-view+json": {
       "version_major": 2,
       "version_minor": 0,
       "model_id": "70b83ba201cb414cb723d3bfa47a2491"
      }
     },
     "metadata": {},
     "output_type": "display_data"
    },
    {
     "data": {
      "text/plain": "  0%|          | 0/800 [00:00<?, ?it/s]",
      "application/vnd.jupyter.widget-view+json": {
       "version_major": 2,
       "version_minor": 0,
       "model_id": "d030c6768b61479e9d8d6327b5938053"
      }
     },
     "metadata": {},
     "output_type": "display_data"
    },
    {
     "data": {
      "text/plain": "  0%|          | 0/800 [00:00<?, ?it/s]",
      "application/vnd.jupyter.widget-view+json": {
       "version_major": 2,
       "version_minor": 0,
       "model_id": "c103afe64da640698dcace526fe4af7d"
      }
     },
     "metadata": {},
     "output_type": "display_data"
    },
    {
     "data": {
      "text/plain": "  0%|          | 0/800 [00:00<?, ?it/s]",
      "application/vnd.jupyter.widget-view+json": {
       "version_major": 2,
       "version_minor": 0,
       "model_id": "bd98e3a529c24eb1838afbe00c0c2d93"
      }
     },
     "metadata": {},
     "output_type": "display_data"
    },
    {
     "data": {
      "text/plain": "  0%|          | 0/800 [00:00<?, ?it/s]",
      "application/vnd.jupyter.widget-view+json": {
       "version_major": 2,
       "version_minor": 0,
       "model_id": "953f70a6a488409194776a935dacf7c2"
      }
     },
     "metadata": {},
     "output_type": "display_data"
    },
    {
     "data": {
      "text/plain": "  0%|          | 0/800 [00:00<?, ?it/s]",
      "application/vnd.jupyter.widget-view+json": {
       "version_major": 2,
       "version_minor": 0,
       "model_id": "4f780026e27f485588c710d88c7b1607"
      }
     },
     "metadata": {},
     "output_type": "display_data"
    },
    {
     "data": {
      "text/plain": "  0%|          | 0/800 [00:00<?, ?it/s]",
      "application/vnd.jupyter.widget-view+json": {
       "version_major": 2,
       "version_minor": 0,
       "model_id": "9ca9497911a441b1ae7ed460e694ec97"
      }
     },
     "metadata": {},
     "output_type": "display_data"
    },
    {
     "data": {
      "text/plain": "  0%|          | 0/800 [00:00<?, ?it/s]",
      "application/vnd.jupyter.widget-view+json": {
       "version_major": 2,
       "version_minor": 0,
       "model_id": "a30f90a45ffe4b42a73b8b3642b6d6cd"
      }
     },
     "metadata": {},
     "output_type": "display_data"
    },
    {
     "data": {
      "text/plain": "  0%|          | 0/800 [00:00<?, ?it/s]",
      "application/vnd.jupyter.widget-view+json": {
       "version_major": 2,
       "version_minor": 0,
       "model_id": "e2228ea18b2942aea97d7360bf1724d0"
      }
     },
     "metadata": {},
     "output_type": "display_data"
    },
    {
     "data": {
      "text/plain": "  0%|          | 0/800 [00:00<?, ?it/s]",
      "application/vnd.jupyter.widget-view+json": {
       "version_major": 2,
       "version_minor": 0,
       "model_id": "1ed1b44ed8a64de6b8044ba4cf444768"
      }
     },
     "metadata": {},
     "output_type": "display_data"
    },
    {
     "data": {
      "text/plain": "  0%|          | 0/800 [00:00<?, ?it/s]",
      "application/vnd.jupyter.widget-view+json": {
       "version_major": 2,
       "version_minor": 0,
       "model_id": "0af8fdb0e0014ffeac1a01465f7114a7"
      }
     },
     "metadata": {},
     "output_type": "display_data"
    },
    {
     "data": {
      "text/plain": "  0%|          | 0/800 [00:00<?, ?it/s]",
      "application/vnd.jupyter.widget-view+json": {
       "version_major": 2,
       "version_minor": 0,
       "model_id": "165d027edba146ff94f6603659d1c78f"
      }
     },
     "metadata": {},
     "output_type": "display_data"
    },
    {
     "data": {
      "text/plain": "  0%|          | 0/800 [00:00<?, ?it/s]",
      "application/vnd.jupyter.widget-view+json": {
       "version_major": 2,
       "version_minor": 0,
       "model_id": "aab591e5e79446b08db7f3c2b4ce5690"
      }
     },
     "metadata": {},
     "output_type": "display_data"
    },
    {
     "data": {
      "text/plain": "  0%|          | 0/800 [00:00<?, ?it/s]",
      "application/vnd.jupyter.widget-view+json": {
       "version_major": 2,
       "version_minor": 0,
       "model_id": "0211b0942d5844a2a3167a07d3c9642d"
      }
     },
     "metadata": {},
     "output_type": "display_data"
    },
    {
     "data": {
      "text/plain": "  0%|          | 0/800 [00:00<?, ?it/s]",
      "application/vnd.jupyter.widget-view+json": {
       "version_major": 2,
       "version_minor": 0,
       "model_id": "9efbe6709e0e416b9e8feebfd05f6921"
      }
     },
     "metadata": {},
     "output_type": "display_data"
    },
    {
     "data": {
      "text/plain": "  0%|          | 0/800 [00:00<?, ?it/s]",
      "application/vnd.jupyter.widget-view+json": {
       "version_major": 2,
       "version_minor": 0,
       "model_id": "ef4f2dc334324d2eb424c5681efcd66a"
      }
     },
     "metadata": {},
     "output_type": "display_data"
    },
    {
     "data": {
      "text/plain": "  0%|          | 0/800 [00:00<?, ?it/s]",
      "application/vnd.jupyter.widget-view+json": {
       "version_major": 2,
       "version_minor": 0,
       "model_id": "eab77f6575ab436c9cecebcc3c0d2091"
      }
     },
     "metadata": {},
     "output_type": "display_data"
    },
    {
     "data": {
      "text/plain": "  0%|          | 0/800 [00:00<?, ?it/s]",
      "application/vnd.jupyter.widget-view+json": {
       "version_major": 2,
       "version_minor": 0,
       "model_id": "c060970fc12b462b9a69f9ddc8b3e4a7"
      }
     },
     "metadata": {},
     "output_type": "display_data"
    },
    {
     "data": {
      "text/plain": "  0%|          | 0/800 [00:00<?, ?it/s]",
      "application/vnd.jupyter.widget-view+json": {
       "version_major": 2,
       "version_minor": 0,
       "model_id": "3202b031b1e0418e8ed67373fd32444a"
      }
     },
     "metadata": {},
     "output_type": "display_data"
    },
    {
     "data": {
      "text/plain": "  0%|          | 0/800 [00:00<?, ?it/s]",
      "application/vnd.jupyter.widget-view+json": {
       "version_major": 2,
       "version_minor": 0,
       "model_id": "e0fdfaa38d744b319a6eb2d6dfdffdab"
      }
     },
     "metadata": {},
     "output_type": "display_data"
    },
    {
     "data": {
      "text/plain": "  0%|          | 0/800 [00:00<?, ?it/s]",
      "application/vnd.jupyter.widget-view+json": {
       "version_major": 2,
       "version_minor": 0,
       "model_id": "b334ab804ce646949120327da9d75ed7"
      }
     },
     "metadata": {},
     "output_type": "display_data"
    },
    {
     "data": {
      "text/plain": "  0%|          | 0/800 [00:00<?, ?it/s]",
      "application/vnd.jupyter.widget-view+json": {
       "version_major": 2,
       "version_minor": 0,
       "model_id": "a2fe36e532ff417daee2827932429037"
      }
     },
     "metadata": {},
     "output_type": "display_data"
    },
    {
     "data": {
      "text/plain": "  0%|          | 0/800 [00:00<?, ?it/s]",
      "application/vnd.jupyter.widget-view+json": {
       "version_major": 2,
       "version_minor": 0,
       "model_id": "6a0f6e15c0bc498ca79a533e772db635"
      }
     },
     "metadata": {},
     "output_type": "display_data"
    },
    {
     "data": {
      "text/plain": "  0%|          | 0/800 [00:00<?, ?it/s]",
      "application/vnd.jupyter.widget-view+json": {
       "version_major": 2,
       "version_minor": 0,
       "model_id": "fd7af4f42b86471d89b42f2303438989"
      }
     },
     "metadata": {},
     "output_type": "display_data"
    },
    {
     "data": {
      "text/plain": "  0%|          | 0/800 [00:00<?, ?it/s]",
      "application/vnd.jupyter.widget-view+json": {
       "version_major": 2,
       "version_minor": 0,
       "model_id": "6ad71150effb4fcf886b03ea1c881887"
      }
     },
     "metadata": {},
     "output_type": "display_data"
    },
    {
     "data": {
      "text/plain": "  0%|          | 0/800 [00:00<?, ?it/s]",
      "application/vnd.jupyter.widget-view+json": {
       "version_major": 2,
       "version_minor": 0,
       "model_id": "542c42edcf2e4350bea97912aa5b691f"
      }
     },
     "metadata": {},
     "output_type": "display_data"
    },
    {
     "data": {
      "text/plain": "  0%|          | 0/800 [00:00<?, ?it/s]",
      "application/vnd.jupyter.widget-view+json": {
       "version_major": 2,
       "version_minor": 0,
       "model_id": "869bf67e7359426c9c80df3c90f4d52a"
      }
     },
     "metadata": {},
     "output_type": "display_data"
    },
    {
     "data": {
      "text/plain": "  0%|          | 0/800 [00:00<?, ?it/s]",
      "application/vnd.jupyter.widget-view+json": {
       "version_major": 2,
       "version_minor": 0,
       "model_id": "a19b6e7541db4470a95fee8f2090cdc3"
      }
     },
     "metadata": {},
     "output_type": "display_data"
    },
    {
     "data": {
      "text/plain": "  0%|          | 0/800 [00:00<?, ?it/s]",
      "application/vnd.jupyter.widget-view+json": {
       "version_major": 2,
       "version_minor": 0,
       "model_id": "e387a6055c034097a93c874eea0fe874"
      }
     },
     "metadata": {},
     "output_type": "display_data"
    },
    {
     "data": {
      "text/plain": "  0%|          | 0/800 [00:00<?, ?it/s]",
      "application/vnd.jupyter.widget-view+json": {
       "version_major": 2,
       "version_minor": 0,
       "model_id": "00dc5bdc863840279dd3c97988d4cb1d"
      }
     },
     "metadata": {},
     "output_type": "display_data"
    },
    {
     "data": {
      "text/plain": "  0%|          | 0/800 [00:00<?, ?it/s]",
      "application/vnd.jupyter.widget-view+json": {
       "version_major": 2,
       "version_minor": 0,
       "model_id": "ad30be85165940e28d709dd11c513995"
      }
     },
     "metadata": {},
     "output_type": "display_data"
    },
    {
     "data": {
      "text/plain": "  0%|          | 0/800 [00:00<?, ?it/s]",
      "application/vnd.jupyter.widget-view+json": {
       "version_major": 2,
       "version_minor": 0,
       "model_id": "ec59c9b955c04c5dba97da18cfb694fb"
      }
     },
     "metadata": {},
     "output_type": "display_data"
    },
    {
     "data": {
      "text/plain": "  0%|          | 0/800 [00:00<?, ?it/s]",
      "application/vnd.jupyter.widget-view+json": {
       "version_major": 2,
       "version_minor": 0,
       "model_id": "1a95fbbe4082414fb0643a5e2f922e1b"
      }
     },
     "metadata": {},
     "output_type": "display_data"
    },
    {
     "data": {
      "text/plain": "  0%|          | 0/800 [00:00<?, ?it/s]",
      "application/vnd.jupyter.widget-view+json": {
       "version_major": 2,
       "version_minor": 0,
       "model_id": "f3c80602705b4f45bdef960ef92ff469"
      }
     },
     "metadata": {},
     "output_type": "display_data"
    },
    {
     "data": {
      "text/plain": "  0%|          | 0/800 [00:00<?, ?it/s]",
      "application/vnd.jupyter.widget-view+json": {
       "version_major": 2,
       "version_minor": 0,
       "model_id": "e76ee3be3d06483cb9fc320bd4c852d5"
      }
     },
     "metadata": {},
     "output_type": "display_data"
    },
    {
     "data": {
      "text/plain": "  0%|          | 0/800 [00:00<?, ?it/s]",
      "application/vnd.jupyter.widget-view+json": {
       "version_major": 2,
       "version_minor": 0,
       "model_id": "e5863a699f4e40f3a7a7c296d04bb5a2"
      }
     },
     "metadata": {},
     "output_type": "display_data"
    },
    {
     "data": {
      "text/plain": "  0%|          | 0/800 [00:00<?, ?it/s]",
      "application/vnd.jupyter.widget-view+json": {
       "version_major": 2,
       "version_minor": 0,
       "model_id": "aa26ae1db50046faafa7bae31e4b8939"
      }
     },
     "metadata": {},
     "output_type": "display_data"
    },
    {
     "data": {
      "text/plain": "  0%|          | 0/800 [00:00<?, ?it/s]",
      "application/vnd.jupyter.widget-view+json": {
       "version_major": 2,
       "version_minor": 0,
       "model_id": "989bf19ce5094b4f87713ab337282195"
      }
     },
     "metadata": {},
     "output_type": "display_data"
    },
    {
     "data": {
      "text/plain": "  0%|          | 0/800 [00:00<?, ?it/s]",
      "application/vnd.jupyter.widget-view+json": {
       "version_major": 2,
       "version_minor": 0,
       "model_id": "9046e2c6c463400cba2c77d7850b9e30"
      }
     },
     "metadata": {},
     "output_type": "display_data"
    },
    {
     "data": {
      "text/plain": "  0%|          | 0/800 [00:00<?, ?it/s]",
      "application/vnd.jupyter.widget-view+json": {
       "version_major": 2,
       "version_minor": 0,
       "model_id": "d7958fc1026044d090528d8a419529a8"
      }
     },
     "metadata": {},
     "output_type": "display_data"
    },
    {
     "data": {
      "text/plain": "  0%|          | 0/800 [00:00<?, ?it/s]",
      "application/vnd.jupyter.widget-view+json": {
       "version_major": 2,
       "version_minor": 0,
       "model_id": "f3f98d0d6b73435392c7cbd20db6a218"
      }
     },
     "metadata": {},
     "output_type": "display_data"
    },
    {
     "data": {
      "text/plain": "  0%|          | 0/800 [00:00<?, ?it/s]",
      "application/vnd.jupyter.widget-view+json": {
       "version_major": 2,
       "version_minor": 0,
       "model_id": "36ce407d5254462584d9f3e49bfed5e2"
      }
     },
     "metadata": {},
     "output_type": "display_data"
    },
    {
     "data": {
      "text/plain": "  0%|          | 0/800 [00:00<?, ?it/s]",
      "application/vnd.jupyter.widget-view+json": {
       "version_major": 2,
       "version_minor": 0,
       "model_id": "13bc78f4ef20481d983dfed8deae54b3"
      }
     },
     "metadata": {},
     "output_type": "display_data"
    },
    {
     "data": {
      "text/plain": "  0%|          | 0/800 [00:00<?, ?it/s]",
      "application/vnd.jupyter.widget-view+json": {
       "version_major": 2,
       "version_minor": 0,
       "model_id": "dafd16d63fb74ae9a8cdad8cce6cebd1"
      }
     },
     "metadata": {},
     "output_type": "display_data"
    },
    {
     "data": {
      "text/plain": "  0%|          | 0/800 [00:00<?, ?it/s]",
      "application/vnd.jupyter.widget-view+json": {
       "version_major": 2,
       "version_minor": 0,
       "model_id": "ca20222b45494f8ca2cbe39927353c39"
      }
     },
     "metadata": {},
     "output_type": "display_data"
    },
    {
     "data": {
      "text/plain": "  0%|          | 0/800 [00:00<?, ?it/s]",
      "application/vnd.jupyter.widget-view+json": {
       "version_major": 2,
       "version_minor": 0,
       "model_id": "fb135a1681ba47049da55d77df607329"
      }
     },
     "metadata": {},
     "output_type": "display_data"
    },
    {
     "data": {
      "text/plain": "  0%|          | 0/800 [00:00<?, ?it/s]",
      "application/vnd.jupyter.widget-view+json": {
       "version_major": 2,
       "version_minor": 0,
       "model_id": "42e3692b2bd143bdbdbba117302c7f1b"
      }
     },
     "metadata": {},
     "output_type": "display_data"
    },
    {
     "data": {
      "text/plain": "  0%|          | 0/800 [00:00<?, ?it/s]",
      "application/vnd.jupyter.widget-view+json": {
       "version_major": 2,
       "version_minor": 0,
       "model_id": "d0d1498cfce444938a99d076a7c18193"
      }
     },
     "metadata": {},
     "output_type": "display_data"
    },
    {
     "data": {
      "text/plain": "  0%|          | 0/800 [00:00<?, ?it/s]",
      "application/vnd.jupyter.widget-view+json": {
       "version_major": 2,
       "version_minor": 0,
       "model_id": "3c2ea4cf1fd549fa88290dc24f29abfd"
      }
     },
     "metadata": {},
     "output_type": "display_data"
    },
    {
     "data": {
      "text/plain": "  0%|          | 0/800 [00:00<?, ?it/s]",
      "application/vnd.jupyter.widget-view+json": {
       "version_major": 2,
       "version_minor": 0,
       "model_id": "3a9c5c10c2754d6e84909b130a752dd3"
      }
     },
     "metadata": {},
     "output_type": "display_data"
    },
    {
     "data": {
      "text/plain": "  0%|          | 0/800 [00:00<?, ?it/s]",
      "application/vnd.jupyter.widget-view+json": {
       "version_major": 2,
       "version_minor": 0,
       "model_id": "77d4dcfff2bb4da6a2207aaf13e28e19"
      }
     },
     "metadata": {},
     "output_type": "display_data"
    },
    {
     "data": {
      "text/plain": "  0%|          | 0/800 [00:00<?, ?it/s]",
      "application/vnd.jupyter.widget-view+json": {
       "version_major": 2,
       "version_minor": 0,
       "model_id": "dd005c41177742419dc2556c743407fc"
      }
     },
     "metadata": {},
     "output_type": "display_data"
    },
    {
     "data": {
      "text/plain": "  0%|          | 0/800 [00:00<?, ?it/s]",
      "application/vnd.jupyter.widget-view+json": {
       "version_major": 2,
       "version_minor": 0,
       "model_id": "dff51041588748e8809e81ff3829f0ca"
      }
     },
     "metadata": {},
     "output_type": "display_data"
    },
    {
     "data": {
      "text/plain": "  0%|          | 0/800 [00:00<?, ?it/s]",
      "application/vnd.jupyter.widget-view+json": {
       "version_major": 2,
       "version_minor": 0,
       "model_id": "891cb9f54c384ef98bdbbe1679d61abc"
      }
     },
     "metadata": {},
     "output_type": "display_data"
    },
    {
     "data": {
      "text/plain": "  0%|          | 0/800 [00:00<?, ?it/s]",
      "application/vnd.jupyter.widget-view+json": {
       "version_major": 2,
       "version_minor": 0,
       "model_id": "68a87af2e15443dba11e3c8167f4240c"
      }
     },
     "metadata": {},
     "output_type": "display_data"
    },
    {
     "data": {
      "text/plain": "  0%|          | 0/800 [00:00<?, ?it/s]",
      "application/vnd.jupyter.widget-view+json": {
       "version_major": 2,
       "version_minor": 0,
       "model_id": "aab0cc6beb43480480b019779c39a0ab"
      }
     },
     "metadata": {},
     "output_type": "display_data"
    },
    {
     "data": {
      "text/plain": "  0%|          | 0/800 [00:00<?, ?it/s]",
      "application/vnd.jupyter.widget-view+json": {
       "version_major": 2,
       "version_minor": 0,
       "model_id": "8ee4e9f477524fd2ba2776670ff7a63b"
      }
     },
     "metadata": {},
     "output_type": "display_data"
    },
    {
     "data": {
      "text/plain": "  0%|          | 0/800 [00:00<?, ?it/s]",
      "application/vnd.jupyter.widget-view+json": {
       "version_major": 2,
       "version_minor": 0,
       "model_id": "7b6ca91bba5442f6878bdd8949da300f"
      }
     },
     "metadata": {},
     "output_type": "display_data"
    },
    {
     "data": {
      "text/plain": "  0%|          | 0/800 [00:00<?, ?it/s]",
      "application/vnd.jupyter.widget-view+json": {
       "version_major": 2,
       "version_minor": 0,
       "model_id": "757b848a12f44637bbb6e55c0befc8f9"
      }
     },
     "metadata": {},
     "output_type": "display_data"
    },
    {
     "data": {
      "text/plain": "  0%|          | 0/800 [00:00<?, ?it/s]",
      "application/vnd.jupyter.widget-view+json": {
       "version_major": 2,
       "version_minor": 0,
       "model_id": "14cacf9df9bc474da0da9c9040152536"
      }
     },
     "metadata": {},
     "output_type": "display_data"
    },
    {
     "data": {
      "text/plain": "  0%|          | 0/800 [00:00<?, ?it/s]",
      "application/vnd.jupyter.widget-view+json": {
       "version_major": 2,
       "version_minor": 0,
       "model_id": "d416813c00a4400f84981dfc7a5b8133"
      }
     },
     "metadata": {},
     "output_type": "display_data"
    },
    {
     "data": {
      "text/plain": "  0%|          | 0/800 [00:00<?, ?it/s]",
      "application/vnd.jupyter.widget-view+json": {
       "version_major": 2,
       "version_minor": 0,
       "model_id": "b6f5a6718e4d4a02af65e0bacac0ba31"
      }
     },
     "metadata": {},
     "output_type": "display_data"
    },
    {
     "data": {
      "text/plain": "  0%|          | 0/800 [00:00<?, ?it/s]",
      "application/vnd.jupyter.widget-view+json": {
       "version_major": 2,
       "version_minor": 0,
       "model_id": "f5e5009899bb42059102ac6e65ebb8f3"
      }
     },
     "metadata": {},
     "output_type": "display_data"
    },
    {
     "data": {
      "text/plain": "  0%|          | 0/800 [00:00<?, ?it/s]",
      "application/vnd.jupyter.widget-view+json": {
       "version_major": 2,
       "version_minor": 0,
       "model_id": "10325adc24754304bb7cd221daf6682d"
      }
     },
     "metadata": {},
     "output_type": "display_data"
    },
    {
     "data": {
      "text/plain": "  0%|          | 0/800 [00:00<?, ?it/s]",
      "application/vnd.jupyter.widget-view+json": {
       "version_major": 2,
       "version_minor": 0,
       "model_id": "ff8bfec655884cb99579fd6ad74929b3"
      }
     },
     "metadata": {},
     "output_type": "display_data"
    },
    {
     "data": {
      "text/plain": "  0%|          | 0/800 [00:00<?, ?it/s]",
      "application/vnd.jupyter.widget-view+json": {
       "version_major": 2,
       "version_minor": 0,
       "model_id": "4112b3aa9dac4ad7ae5c9b7c7fa667d4"
      }
     },
     "metadata": {},
     "output_type": "display_data"
    },
    {
     "data": {
      "text/plain": "  0%|          | 0/800 [00:00<?, ?it/s]",
      "application/vnd.jupyter.widget-view+json": {
       "version_major": 2,
       "version_minor": 0,
       "model_id": "0316853490af411eb5bc743c60f562b7"
      }
     },
     "metadata": {},
     "output_type": "display_data"
    },
    {
     "data": {
      "text/plain": "  0%|          | 0/800 [00:00<?, ?it/s]",
      "application/vnd.jupyter.widget-view+json": {
       "version_major": 2,
       "version_minor": 0,
       "model_id": "9aa555abd8554b91a0e275569c09ab00"
      }
     },
     "metadata": {},
     "output_type": "display_data"
    },
    {
     "data": {
      "text/plain": "  0%|          | 0/800 [00:00<?, ?it/s]",
      "application/vnd.jupyter.widget-view+json": {
       "version_major": 2,
       "version_minor": 0,
       "model_id": "316b4b94dfcd4c7e8a9008ec15c8764f"
      }
     },
     "metadata": {},
     "output_type": "display_data"
    },
    {
     "data": {
      "text/plain": "  0%|          | 0/800 [00:00<?, ?it/s]",
      "application/vnd.jupyter.widget-view+json": {
       "version_major": 2,
       "version_minor": 0,
       "model_id": "9a447ce396094e7f9a8fc3df4c2abcf9"
      }
     },
     "metadata": {},
     "output_type": "display_data"
    },
    {
     "data": {
      "text/plain": "  0%|          | 0/800 [00:00<?, ?it/s]",
      "application/vnd.jupyter.widget-view+json": {
       "version_major": 2,
       "version_minor": 0,
       "model_id": "1cc444e6823e404d9369d44039dc2b56"
      }
     },
     "metadata": {},
     "output_type": "display_data"
    },
    {
     "data": {
      "text/plain": "  0%|          | 0/800 [00:00<?, ?it/s]",
      "application/vnd.jupyter.widget-view+json": {
       "version_major": 2,
       "version_minor": 0,
       "model_id": "0b181fe27c7d4cacbeeabd243d8ebf67"
      }
     },
     "metadata": {},
     "output_type": "display_data"
    },
    {
     "data": {
      "text/plain": "  0%|          | 0/800 [00:00<?, ?it/s]",
      "application/vnd.jupyter.widget-view+json": {
       "version_major": 2,
       "version_minor": 0,
       "model_id": "190d7cb860994d5c9a942fb1d61ab3be"
      }
     },
     "metadata": {},
     "output_type": "display_data"
    },
    {
     "data": {
      "text/plain": "  0%|          | 0/800 [00:00<?, ?it/s]",
      "application/vnd.jupyter.widget-view+json": {
       "version_major": 2,
       "version_minor": 0,
       "model_id": "7a753216a6f646a7bbd53aa84b1f2b96"
      }
     },
     "metadata": {},
     "output_type": "display_data"
    },
    {
     "data": {
      "text/plain": "  0%|          | 0/800 [00:00<?, ?it/s]",
      "application/vnd.jupyter.widget-view+json": {
       "version_major": 2,
       "version_minor": 0,
       "model_id": "bab7cf1e389249b08465384063531d32"
      }
     },
     "metadata": {},
     "output_type": "display_data"
    },
    {
     "data": {
      "text/plain": "  0%|          | 0/800 [00:00<?, ?it/s]",
      "application/vnd.jupyter.widget-view+json": {
       "version_major": 2,
       "version_minor": 0,
       "model_id": "93bf4e55ad5349af82cb5ffc204befa2"
      }
     },
     "metadata": {},
     "output_type": "display_data"
    },
    {
     "data": {
      "text/plain": "  0%|          | 0/800 [00:00<?, ?it/s]",
      "application/vnd.jupyter.widget-view+json": {
       "version_major": 2,
       "version_minor": 0,
       "model_id": "eced1fda720848ff9aeb8ae07692e0d1"
      }
     },
     "metadata": {},
     "output_type": "display_data"
    },
    {
     "data": {
      "text/plain": "  0%|          | 0/800 [00:00<?, ?it/s]",
      "application/vnd.jupyter.widget-view+json": {
       "version_major": 2,
       "version_minor": 0,
       "model_id": "a86f297963894059b0729f95999c0ded"
      }
     },
     "metadata": {},
     "output_type": "display_data"
    },
    {
     "data": {
      "text/plain": "  0%|          | 0/800 [00:00<?, ?it/s]",
      "application/vnd.jupyter.widget-view+json": {
       "version_major": 2,
       "version_minor": 0,
       "model_id": "9254214bca0f41b5872da1aae2cf7fd2"
      }
     },
     "metadata": {},
     "output_type": "display_data"
    },
    {
     "data": {
      "text/plain": "  0%|          | 0/800 [00:00<?, ?it/s]",
      "application/vnd.jupyter.widget-view+json": {
       "version_major": 2,
       "version_minor": 0,
       "model_id": "1820472aecb049a898dabe2d525ed48e"
      }
     },
     "metadata": {},
     "output_type": "display_data"
    },
    {
     "data": {
      "text/plain": "  0%|          | 0/800 [00:00<?, ?it/s]",
      "application/vnd.jupyter.widget-view+json": {
       "version_major": 2,
       "version_minor": 0,
       "model_id": "623325d28eb640df8844e6fac60ad89c"
      }
     },
     "metadata": {},
     "output_type": "display_data"
    },
    {
     "data": {
      "text/plain": "  0%|          | 0/800 [00:00<?, ?it/s]",
      "application/vnd.jupyter.widget-view+json": {
       "version_major": 2,
       "version_minor": 0,
       "model_id": "557a31600d524c768453defeab85cdc9"
      }
     },
     "metadata": {},
     "output_type": "display_data"
    },
    {
     "data": {
      "text/plain": "  0%|          | 0/800 [00:00<?, ?it/s]",
      "application/vnd.jupyter.widget-view+json": {
       "version_major": 2,
       "version_minor": 0,
       "model_id": "65ab922c721b4cc78cca70ccfbfbda98"
      }
     },
     "metadata": {},
     "output_type": "display_data"
    },
    {
     "data": {
      "text/plain": "  0%|          | 0/800 [00:00<?, ?it/s]",
      "application/vnd.jupyter.widget-view+json": {
       "version_major": 2,
       "version_minor": 0,
       "model_id": "29617bd4c9a24201a95464d1e5958246"
      }
     },
     "metadata": {},
     "output_type": "display_data"
    },
    {
     "data": {
      "text/plain": "  0%|          | 0/800 [00:00<?, ?it/s]",
      "application/vnd.jupyter.widget-view+json": {
       "version_major": 2,
       "version_minor": 0,
       "model_id": "962c5bdee5e4440aaf7f8bd724b71c12"
      }
     },
     "metadata": {},
     "output_type": "display_data"
    },
    {
     "data": {
      "text/plain": "  0%|          | 0/800 [00:00<?, ?it/s]",
      "application/vnd.jupyter.widget-view+json": {
       "version_major": 2,
       "version_minor": 0,
       "model_id": "a14ccc5c198d4cab90b1278d8f0c3275"
      }
     },
     "metadata": {},
     "output_type": "display_data"
    },
    {
     "data": {
      "text/plain": "  0%|          | 0/800 [00:00<?, ?it/s]",
      "application/vnd.jupyter.widget-view+json": {
       "version_major": 2,
       "version_minor": 0,
       "model_id": "7afcc8cf3247440e88369e03b05cb593"
      }
     },
     "metadata": {},
     "output_type": "display_data"
    },
    {
     "data": {
      "text/plain": "  0%|          | 0/800 [00:00<?, ?it/s]",
      "application/vnd.jupyter.widget-view+json": {
       "version_major": 2,
       "version_minor": 0,
       "model_id": "06f50821befb4d4db7ec436fab47f02f"
      }
     },
     "metadata": {},
     "output_type": "display_data"
    },
    {
     "data": {
      "text/plain": "  0%|          | 0/800 [00:00<?, ?it/s]",
      "application/vnd.jupyter.widget-view+json": {
       "version_major": 2,
       "version_minor": 0,
       "model_id": "16cc603de9764be7be2cd0c54d4da6e6"
      }
     },
     "metadata": {},
     "output_type": "display_data"
    },
    {
     "data": {
      "text/plain": "  0%|          | 0/800 [00:00<?, ?it/s]",
      "application/vnd.jupyter.widget-view+json": {
       "version_major": 2,
       "version_minor": 0,
       "model_id": "50675df7cf254825be93bf357d83a2c2"
      }
     },
     "metadata": {},
     "output_type": "display_data"
    },
    {
     "data": {
      "text/plain": "  0%|          | 0/800 [00:00<?, ?it/s]",
      "application/vnd.jupyter.widget-view+json": {
       "version_major": 2,
       "version_minor": 0,
       "model_id": "354ceb0dd19a4f77b3b6f30b6d805f8e"
      }
     },
     "metadata": {},
     "output_type": "display_data"
    },
    {
     "data": {
      "text/plain": "  0%|          | 0/800 [00:00<?, ?it/s]",
      "application/vnd.jupyter.widget-view+json": {
       "version_major": 2,
       "version_minor": 0,
       "model_id": "a6384c8972694efa98469b9ce69b86f4"
      }
     },
     "metadata": {},
     "output_type": "display_data"
    },
    {
     "data": {
      "text/plain": "  0%|          | 0/800 [00:00<?, ?it/s]",
      "application/vnd.jupyter.widget-view+json": {
       "version_major": 2,
       "version_minor": 0,
       "model_id": "2ecc4e9744534348b40312546e7e9223"
      }
     },
     "metadata": {},
     "output_type": "display_data"
    },
    {
     "data": {
      "text/plain": "  0%|          | 0/800 [00:00<?, ?it/s]",
      "application/vnd.jupyter.widget-view+json": {
       "version_major": 2,
       "version_minor": 0,
       "model_id": "03c9661141a949e4addaa227fbac59ec"
      }
     },
     "metadata": {},
     "output_type": "display_data"
    },
    {
     "data": {
      "text/plain": "  0%|          | 0/800 [00:00<?, ?it/s]",
      "application/vnd.jupyter.widget-view+json": {
       "version_major": 2,
       "version_minor": 0,
       "model_id": "3258e28ad21d46a9bb1855acf30e75a4"
      }
     },
     "metadata": {},
     "output_type": "display_data"
    },
    {
     "data": {
      "text/plain": "  0%|          | 0/800 [00:00<?, ?it/s]",
      "application/vnd.jupyter.widget-view+json": {
       "version_major": 2,
       "version_minor": 0,
       "model_id": "fffb211d0299410384abb3b206518ff6"
      }
     },
     "metadata": {},
     "output_type": "display_data"
    },
    {
     "data": {
      "text/plain": "  0%|          | 0/800 [00:00<?, ?it/s]",
      "application/vnd.jupyter.widget-view+json": {
       "version_major": 2,
       "version_minor": 0,
       "model_id": "2288613204dc4398b1dcdd536191f525"
      }
     },
     "metadata": {},
     "output_type": "display_data"
    },
    {
     "data": {
      "text/plain": "  0%|          | 0/800 [00:00<?, ?it/s]",
      "application/vnd.jupyter.widget-view+json": {
       "version_major": 2,
       "version_minor": 0,
       "model_id": "657d43d7b24e4bc7823c8c59c0aa9d39"
      }
     },
     "metadata": {},
     "output_type": "display_data"
    },
    {
     "data": {
      "text/plain": "  0%|          | 0/800 [00:00<?, ?it/s]",
      "application/vnd.jupyter.widget-view+json": {
       "version_major": 2,
       "version_minor": 0,
       "model_id": "abcda151e73b4f64aa5b306dba11cbd0"
      }
     },
     "metadata": {},
     "output_type": "display_data"
    },
    {
     "data": {
      "text/plain": "  0%|          | 0/800 [00:00<?, ?it/s]",
      "application/vnd.jupyter.widget-view+json": {
       "version_major": 2,
       "version_minor": 0,
       "model_id": "c158c50e6e0a4945af019dcc05188f48"
      }
     },
     "metadata": {},
     "output_type": "display_data"
    },
    {
     "data": {
      "text/plain": "  0%|          | 0/800 [00:00<?, ?it/s]",
      "application/vnd.jupyter.widget-view+json": {
       "version_major": 2,
       "version_minor": 0,
       "model_id": "9398af11b49043e5a5ebf98e00523c8c"
      }
     },
     "metadata": {},
     "output_type": "display_data"
    },
    {
     "data": {
      "text/plain": "  0%|          | 0/800 [00:00<?, ?it/s]",
      "application/vnd.jupyter.widget-view+json": {
       "version_major": 2,
       "version_minor": 0,
       "model_id": "5b28eb13305648139b77862f52740ccc"
      }
     },
     "metadata": {},
     "output_type": "display_data"
    },
    {
     "data": {
      "text/plain": "  0%|          | 0/800 [00:00<?, ?it/s]",
      "application/vnd.jupyter.widget-view+json": {
       "version_major": 2,
       "version_minor": 0,
       "model_id": "94b3aa86bf2e40de9b4b2e1b2d1150ce"
      }
     },
     "metadata": {},
     "output_type": "display_data"
    },
    {
     "data": {
      "text/plain": "  0%|          | 0/800 [00:00<?, ?it/s]",
      "application/vnd.jupyter.widget-view+json": {
       "version_major": 2,
       "version_minor": 0,
       "model_id": "afc9ee559b9541b497349c77e92f0ac6"
      }
     },
     "metadata": {},
     "output_type": "display_data"
    },
    {
     "data": {
      "text/plain": "  0%|          | 0/800 [00:00<?, ?it/s]",
      "application/vnd.jupyter.widget-view+json": {
       "version_major": 2,
       "version_minor": 0,
       "model_id": "f3db78d344d7424e9b219c312acd0ccd"
      }
     },
     "metadata": {},
     "output_type": "display_data"
    },
    {
     "data": {
      "text/plain": "  0%|          | 0/800 [00:00<?, ?it/s]",
      "application/vnd.jupyter.widget-view+json": {
       "version_major": 2,
       "version_minor": 0,
       "model_id": "552a416196a043ea98f713d15c6fd0ad"
      }
     },
     "metadata": {},
     "output_type": "display_data"
    },
    {
     "data": {
      "text/plain": "  0%|          | 0/800 [00:00<?, ?it/s]",
      "application/vnd.jupyter.widget-view+json": {
       "version_major": 2,
       "version_minor": 0,
       "model_id": "54a333c1701a481c9eac2a8c44f393cc"
      }
     },
     "metadata": {},
     "output_type": "display_data"
    },
    {
     "data": {
      "text/plain": "  0%|          | 0/800 [00:00<?, ?it/s]",
      "application/vnd.jupyter.widget-view+json": {
       "version_major": 2,
       "version_minor": 0,
       "model_id": "24a94125cc8042afa6f1121ea84857ed"
      }
     },
     "metadata": {},
     "output_type": "display_data"
    },
    {
     "data": {
      "text/plain": "  0%|          | 0/800 [00:00<?, ?it/s]",
      "application/vnd.jupyter.widget-view+json": {
       "version_major": 2,
       "version_minor": 0,
       "model_id": "5d7d06929c8447728cd7824fc0399feb"
      }
     },
     "metadata": {},
     "output_type": "display_data"
    },
    {
     "data": {
      "text/plain": "  0%|          | 0/800 [00:00<?, ?it/s]",
      "application/vnd.jupyter.widget-view+json": {
       "version_major": 2,
       "version_minor": 0,
       "model_id": "f3434d188d19449fbfef19c47084cb6c"
      }
     },
     "metadata": {},
     "output_type": "display_data"
    },
    {
     "data": {
      "text/plain": "  0%|          | 0/800 [00:00<?, ?it/s]",
      "application/vnd.jupyter.widget-view+json": {
       "version_major": 2,
       "version_minor": 0,
       "model_id": "ed73bd2b3f2b4b049ec5a806d23ec58b"
      }
     },
     "metadata": {},
     "output_type": "display_data"
    },
    {
     "data": {
      "text/plain": "  0%|          | 0/800 [00:00<?, ?it/s]",
      "application/vnd.jupyter.widget-view+json": {
       "version_major": 2,
       "version_minor": 0,
       "model_id": "0ec1042bf89746baa6e30ac43ed65b75"
      }
     },
     "metadata": {},
     "output_type": "display_data"
    },
    {
     "data": {
      "text/plain": "  0%|          | 0/800 [00:00<?, ?it/s]",
      "application/vnd.jupyter.widget-view+json": {
       "version_major": 2,
       "version_minor": 0,
       "model_id": "94e53c9cbbee427abcf8d812592f448d"
      }
     },
     "metadata": {},
     "output_type": "display_data"
    },
    {
     "data": {
      "text/plain": "  0%|          | 0/800 [00:00<?, ?it/s]",
      "application/vnd.jupyter.widget-view+json": {
       "version_major": 2,
       "version_minor": 0,
       "model_id": "6504b30e88f2482f960346d38fa5df53"
      }
     },
     "metadata": {},
     "output_type": "display_data"
    },
    {
     "data": {
      "text/plain": "  0%|          | 0/800 [00:00<?, ?it/s]",
      "application/vnd.jupyter.widget-view+json": {
       "version_major": 2,
       "version_minor": 0,
       "model_id": "dc8f66c2e39c414195df65694be3e297"
      }
     },
     "metadata": {},
     "output_type": "display_data"
    },
    {
     "data": {
      "text/plain": "  0%|          | 0/800 [00:00<?, ?it/s]",
      "application/vnd.jupyter.widget-view+json": {
       "version_major": 2,
       "version_minor": 0,
       "model_id": "acbaf74882bd42f0adef4f170be2c2cf"
      }
     },
     "metadata": {},
     "output_type": "display_data"
    },
    {
     "data": {
      "text/plain": "  0%|          | 0/800 [00:00<?, ?it/s]",
      "application/vnd.jupyter.widget-view+json": {
       "version_major": 2,
       "version_minor": 0,
       "model_id": "00bcf60e8eb24994a3098c12c4d5ab53"
      }
     },
     "metadata": {},
     "output_type": "display_data"
    },
    {
     "data": {
      "text/plain": "  0%|          | 0/800 [00:00<?, ?it/s]",
      "application/vnd.jupyter.widget-view+json": {
       "version_major": 2,
       "version_minor": 0,
       "model_id": "58a82ef41fcd430f827d5c257e1674ff"
      }
     },
     "metadata": {},
     "output_type": "display_data"
    },
    {
     "data": {
      "text/plain": "  0%|          | 0/800 [00:00<?, ?it/s]",
      "application/vnd.jupyter.widget-view+json": {
       "version_major": 2,
       "version_minor": 0,
       "model_id": "5f772de35c484803b43cede15abb06c5"
      }
     },
     "metadata": {},
     "output_type": "display_data"
    },
    {
     "data": {
      "text/plain": "  0%|          | 0/800 [00:00<?, ?it/s]",
      "application/vnd.jupyter.widget-view+json": {
       "version_major": 2,
       "version_minor": 0,
       "model_id": "a78144f0753e4501b1207d81405272f5"
      }
     },
     "metadata": {},
     "output_type": "display_data"
    },
    {
     "data": {
      "text/plain": "  0%|          | 0/800 [00:00<?, ?it/s]",
      "application/vnd.jupyter.widget-view+json": {
       "version_major": 2,
       "version_minor": 0,
       "model_id": "ff1dda7c056d4ed58328d0d5f53cfa6f"
      }
     },
     "metadata": {},
     "output_type": "display_data"
    },
    {
     "data": {
      "text/plain": "  0%|          | 0/800 [00:00<?, ?it/s]",
      "application/vnd.jupyter.widget-view+json": {
       "version_major": 2,
       "version_minor": 0,
       "model_id": "5d2a212f7e914fff8c21c8d79b35c577"
      }
     },
     "metadata": {},
     "output_type": "display_data"
    },
    {
     "data": {
      "text/plain": "  0%|          | 0/800 [00:00<?, ?it/s]",
      "application/vnd.jupyter.widget-view+json": {
       "version_major": 2,
       "version_minor": 0,
       "model_id": "f01891dd4a17473b94692c03a1c0812e"
      }
     },
     "metadata": {},
     "output_type": "display_data"
    },
    {
     "data": {
      "text/plain": "  0%|          | 0/800 [00:00<?, ?it/s]",
      "application/vnd.jupyter.widget-view+json": {
       "version_major": 2,
       "version_minor": 0,
       "model_id": "64336bd5ceb7427da7f30f4815f66f49"
      }
     },
     "metadata": {},
     "output_type": "display_data"
    },
    {
     "data": {
      "text/plain": "  0%|          | 0/800 [00:00<?, ?it/s]",
      "application/vnd.jupyter.widget-view+json": {
       "version_major": 2,
       "version_minor": 0,
       "model_id": "337e12de1beb4d77bbbbbebac5d7600d"
      }
     },
     "metadata": {},
     "output_type": "display_data"
    },
    {
     "data": {
      "text/plain": "  0%|          | 0/800 [00:00<?, ?it/s]",
      "application/vnd.jupyter.widget-view+json": {
       "version_major": 2,
       "version_minor": 0,
       "model_id": "5789314901ab4731a0ffcf48d115c2e1"
      }
     },
     "metadata": {},
     "output_type": "display_data"
    },
    {
     "data": {
      "text/plain": "  0%|          | 0/800 [00:00<?, ?it/s]",
      "application/vnd.jupyter.widget-view+json": {
       "version_major": 2,
       "version_minor": 0,
       "model_id": "5b869bb6ac654cfda500fe38474f6cff"
      }
     },
     "metadata": {},
     "output_type": "display_data"
    },
    {
     "data": {
      "text/plain": "  0%|          | 0/800 [00:00<?, ?it/s]",
      "application/vnd.jupyter.widget-view+json": {
       "version_major": 2,
       "version_minor": 0,
       "model_id": "301ae2a2bd1d49baaaf7efe55da1082b"
      }
     },
     "metadata": {},
     "output_type": "display_data"
    },
    {
     "data": {
      "text/plain": "  0%|          | 0/800 [00:00<?, ?it/s]",
      "application/vnd.jupyter.widget-view+json": {
       "version_major": 2,
       "version_minor": 0,
       "model_id": "d193aef49798489293d80edd22f68223"
      }
     },
     "metadata": {},
     "output_type": "display_data"
    },
    {
     "data": {
      "text/plain": "  0%|          | 0/800 [00:00<?, ?it/s]",
      "application/vnd.jupyter.widget-view+json": {
       "version_major": 2,
       "version_minor": 0,
       "model_id": "f73812f733124d71a0402b443df1ce4e"
      }
     },
     "metadata": {},
     "output_type": "display_data"
    },
    {
     "data": {
      "text/plain": "  0%|          | 0/800 [00:00<?, ?it/s]",
      "application/vnd.jupyter.widget-view+json": {
       "version_major": 2,
       "version_minor": 0,
       "model_id": "24de4d9011644aadb1818deb96e3ac96"
      }
     },
     "metadata": {},
     "output_type": "display_data"
    },
    {
     "data": {
      "text/plain": "  0%|          | 0/800 [00:00<?, ?it/s]",
      "application/vnd.jupyter.widget-view+json": {
       "version_major": 2,
       "version_minor": 0,
       "model_id": "875ae01e4e6147b1b1596159c5668ecb"
      }
     },
     "metadata": {},
     "output_type": "display_data"
    },
    {
     "data": {
      "text/plain": "  0%|          | 0/800 [00:00<?, ?it/s]",
      "application/vnd.jupyter.widget-view+json": {
       "version_major": 2,
       "version_minor": 0,
       "model_id": "ccb16156051f4c74afd1faa169534c35"
      }
     },
     "metadata": {},
     "output_type": "display_data"
    },
    {
     "data": {
      "text/plain": "  0%|          | 0/800 [00:00<?, ?it/s]",
      "application/vnd.jupyter.widget-view+json": {
       "version_major": 2,
       "version_minor": 0,
       "model_id": "a40d2de170c34a4786d9db8146a673fe"
      }
     },
     "metadata": {},
     "output_type": "display_data"
    },
    {
     "data": {
      "text/plain": "  0%|          | 0/800 [00:00<?, ?it/s]",
      "application/vnd.jupyter.widget-view+json": {
       "version_major": 2,
       "version_minor": 0,
       "model_id": "082c1d08462f4d26a843dc6cbb90a770"
      }
     },
     "metadata": {},
     "output_type": "display_data"
    },
    {
     "data": {
      "text/plain": "  0%|          | 0/800 [00:00<?, ?it/s]",
      "application/vnd.jupyter.widget-view+json": {
       "version_major": 2,
       "version_minor": 0,
       "model_id": "a9da3ff2d22d4c60a37df87b971664e2"
      }
     },
     "metadata": {},
     "output_type": "display_data"
    },
    {
     "data": {
      "text/plain": "  0%|          | 0/800 [00:00<?, ?it/s]",
      "application/vnd.jupyter.widget-view+json": {
       "version_major": 2,
       "version_minor": 0,
       "model_id": "6eef9ecd29414f679ffbe16c6080c902"
      }
     },
     "metadata": {},
     "output_type": "display_data"
    },
    {
     "data": {
      "text/plain": "  0%|          | 0/800 [00:00<?, ?it/s]",
      "application/vnd.jupyter.widget-view+json": {
       "version_major": 2,
       "version_minor": 0,
       "model_id": "c0959cb036044eee98a2390ae7231016"
      }
     },
     "metadata": {},
     "output_type": "display_data"
    },
    {
     "data": {
      "text/plain": "  0%|          | 0/800 [00:00<?, ?it/s]",
      "application/vnd.jupyter.widget-view+json": {
       "version_major": 2,
       "version_minor": 0,
       "model_id": "d81f486a91804dc7aa217d5c80ab023d"
      }
     },
     "metadata": {},
     "output_type": "display_data"
    },
    {
     "data": {
      "text/plain": "  0%|          | 0/800 [00:00<?, ?it/s]",
      "application/vnd.jupyter.widget-view+json": {
       "version_major": 2,
       "version_minor": 0,
       "model_id": "1a1f818d1c604919bd0dcd4d1873a03f"
      }
     },
     "metadata": {},
     "output_type": "display_data"
    },
    {
     "data": {
      "text/plain": "  0%|          | 0/800 [00:00<?, ?it/s]",
      "application/vnd.jupyter.widget-view+json": {
       "version_major": 2,
       "version_minor": 0,
       "model_id": "54117f016ad54980b4a2c59fb8ebd266"
      }
     },
     "metadata": {},
     "output_type": "display_data"
    },
    {
     "data": {
      "text/plain": "  0%|          | 0/800 [00:00<?, ?it/s]",
      "application/vnd.jupyter.widget-view+json": {
       "version_major": 2,
       "version_minor": 0,
       "model_id": "223bf222015c436694ad910a8f293a46"
      }
     },
     "metadata": {},
     "output_type": "display_data"
    },
    {
     "data": {
      "text/plain": "  0%|          | 0/800 [00:00<?, ?it/s]",
      "application/vnd.jupyter.widget-view+json": {
       "version_major": 2,
       "version_minor": 0,
       "model_id": "53f1558391e64a18bb135249b96f949b"
      }
     },
     "metadata": {},
     "output_type": "display_data"
    },
    {
     "data": {
      "text/plain": "  0%|          | 0/800 [00:00<?, ?it/s]",
      "application/vnd.jupyter.widget-view+json": {
       "version_major": 2,
       "version_minor": 0,
       "model_id": "01ded85764c34e869ceb3c940e3c4894"
      }
     },
     "metadata": {},
     "output_type": "display_data"
    },
    {
     "data": {
      "text/plain": "  0%|          | 0/800 [00:00<?, ?it/s]",
      "application/vnd.jupyter.widget-view+json": {
       "version_major": 2,
       "version_minor": 0,
       "model_id": "052a0dd653b648b3a15825916987dc36"
      }
     },
     "metadata": {},
     "output_type": "display_data"
    },
    {
     "data": {
      "text/plain": "  0%|          | 0/800 [00:00<?, ?it/s]",
      "application/vnd.jupyter.widget-view+json": {
       "version_major": 2,
       "version_minor": 0,
       "model_id": "9a36beb364a24776b77214d22bf417a0"
      }
     },
     "metadata": {},
     "output_type": "display_data"
    },
    {
     "data": {
      "text/plain": "  0%|          | 0/800 [00:00<?, ?it/s]",
      "application/vnd.jupyter.widget-view+json": {
       "version_major": 2,
       "version_minor": 0,
       "model_id": "42fe6b542fec493abff4434fd06882b2"
      }
     },
     "metadata": {},
     "output_type": "display_data"
    },
    {
     "data": {
      "text/plain": "  0%|          | 0/800 [00:00<?, ?it/s]",
      "application/vnd.jupyter.widget-view+json": {
       "version_major": 2,
       "version_minor": 0,
       "model_id": "19e1a47de00e4f10bf55240a0ee1e79e"
      }
     },
     "metadata": {},
     "output_type": "display_data"
    },
    {
     "data": {
      "text/plain": "  0%|          | 0/800 [00:00<?, ?it/s]",
      "application/vnd.jupyter.widget-view+json": {
       "version_major": 2,
       "version_minor": 0,
       "model_id": "38a23718cce34937990f761b01746f6d"
      }
     },
     "metadata": {},
     "output_type": "display_data"
    },
    {
     "data": {
      "text/plain": "  0%|          | 0/800 [00:00<?, ?it/s]",
      "application/vnd.jupyter.widget-view+json": {
       "version_major": 2,
       "version_minor": 0,
       "model_id": "cbc284833561413ca0f4b3e01941fdc0"
      }
     },
     "metadata": {},
     "output_type": "display_data"
    },
    {
     "data": {
      "text/plain": "  0%|          | 0/800 [00:00<?, ?it/s]",
      "application/vnd.jupyter.widget-view+json": {
       "version_major": 2,
       "version_minor": 0,
       "model_id": "b418ae9bc8cb4999bf3eac8d3ac352f5"
      }
     },
     "metadata": {},
     "output_type": "display_data"
    },
    {
     "data": {
      "text/plain": "  0%|          | 0/800 [00:00<?, ?it/s]",
      "application/vnd.jupyter.widget-view+json": {
       "version_major": 2,
       "version_minor": 0,
       "model_id": "e07d14ec261e457ab6ffabb803b75953"
      }
     },
     "metadata": {},
     "output_type": "display_data"
    },
    {
     "data": {
      "text/plain": "  0%|          | 0/800 [00:00<?, ?it/s]",
      "application/vnd.jupyter.widget-view+json": {
       "version_major": 2,
       "version_minor": 0,
       "model_id": "4b31b6aefa6543ac9cf51b0985274b34"
      }
     },
     "metadata": {},
     "output_type": "display_data"
    },
    {
     "data": {
      "text/plain": "  0%|          | 0/800 [00:00<?, ?it/s]",
      "application/vnd.jupyter.widget-view+json": {
       "version_major": 2,
       "version_minor": 0,
       "model_id": "7d4e96900acb45e6bfd9b11a699a13ef"
      }
     },
     "metadata": {},
     "output_type": "display_data"
    },
    {
     "data": {
      "text/plain": "  0%|          | 0/800 [00:00<?, ?it/s]",
      "application/vnd.jupyter.widget-view+json": {
       "version_major": 2,
       "version_minor": 0,
       "model_id": "d257ffdf62244bd08c30fbbbc60c0216"
      }
     },
     "metadata": {},
     "output_type": "display_data"
    },
    {
     "data": {
      "text/plain": "  0%|          | 0/800 [00:00<?, ?it/s]",
      "application/vnd.jupyter.widget-view+json": {
       "version_major": 2,
       "version_minor": 0,
       "model_id": "fb317002e1e84c4ab58813dcb5fcc07b"
      }
     },
     "metadata": {},
     "output_type": "display_data"
    },
    {
     "data": {
      "text/plain": "  0%|          | 0/800 [00:00<?, ?it/s]",
      "application/vnd.jupyter.widget-view+json": {
       "version_major": 2,
       "version_minor": 0,
       "model_id": "45cf7bd0db36448cbc13b522bdd36a50"
      }
     },
     "metadata": {},
     "output_type": "display_data"
    },
    {
     "data": {
      "text/plain": "  0%|          | 0/800 [00:00<?, ?it/s]",
      "application/vnd.jupyter.widget-view+json": {
       "version_major": 2,
       "version_minor": 0,
       "model_id": "de8e2208d7204113b487abcfa961c16c"
      }
     },
     "metadata": {},
     "output_type": "display_data"
    },
    {
     "data": {
      "text/plain": "  0%|          | 0/800 [00:00<?, ?it/s]",
      "application/vnd.jupyter.widget-view+json": {
       "version_major": 2,
       "version_minor": 0,
       "model_id": "4968a5c90ce24835bc946d39d74eec09"
      }
     },
     "metadata": {},
     "output_type": "display_data"
    },
    {
     "data": {
      "text/plain": "  0%|          | 0/800 [00:00<?, ?it/s]",
      "application/vnd.jupyter.widget-view+json": {
       "version_major": 2,
       "version_minor": 0,
       "model_id": "336aa22e0cb8443f8cfffb3b390145cd"
      }
     },
     "metadata": {},
     "output_type": "display_data"
    },
    {
     "data": {
      "text/plain": "  0%|          | 0/800 [00:00<?, ?it/s]",
      "application/vnd.jupyter.widget-view+json": {
       "version_major": 2,
       "version_minor": 0,
       "model_id": "67c04c52a54d49579e6fddd263076e95"
      }
     },
     "metadata": {},
     "output_type": "display_data"
    },
    {
     "data": {
      "text/plain": "  0%|          | 0/800 [00:00<?, ?it/s]",
      "application/vnd.jupyter.widget-view+json": {
       "version_major": 2,
       "version_minor": 0,
       "model_id": "62e9e354d6ea43fe9d1f413b2e1c154b"
      }
     },
     "metadata": {},
     "output_type": "display_data"
    },
    {
     "data": {
      "text/plain": "  0%|          | 0/800 [00:00<?, ?it/s]",
      "application/vnd.jupyter.widget-view+json": {
       "version_major": 2,
       "version_minor": 0,
       "model_id": "754056f161e84b638aa4844e88fdaeff"
      }
     },
     "metadata": {},
     "output_type": "display_data"
    },
    {
     "data": {
      "text/plain": "  0%|          | 0/800 [00:00<?, ?it/s]",
      "application/vnd.jupyter.widget-view+json": {
       "version_major": 2,
       "version_minor": 0,
       "model_id": "8d8669e4e910452e937d7864ffa0ea44"
      }
     },
     "metadata": {},
     "output_type": "display_data"
    },
    {
     "data": {
      "text/plain": "  0%|          | 0/800 [00:00<?, ?it/s]",
      "application/vnd.jupyter.widget-view+json": {
       "version_major": 2,
       "version_minor": 0,
       "model_id": "26a9a6ff13c34b7bb54b8158d3083481"
      }
     },
     "metadata": {},
     "output_type": "display_data"
    },
    {
     "data": {
      "text/plain": "  0%|          | 0/800 [00:00<?, ?it/s]",
      "application/vnd.jupyter.widget-view+json": {
       "version_major": 2,
       "version_minor": 0,
       "model_id": "2f92457cda754421863069f5cc7ccd50"
      }
     },
     "metadata": {},
     "output_type": "display_data"
    },
    {
     "data": {
      "text/plain": "  0%|          | 0/800 [00:00<?, ?it/s]",
      "application/vnd.jupyter.widget-view+json": {
       "version_major": 2,
       "version_minor": 0,
       "model_id": "7a5e4e6b838a4abca998dc0308db4f8d"
      }
     },
     "metadata": {},
     "output_type": "display_data"
    },
    {
     "data": {
      "text/plain": "  0%|          | 0/800 [00:00<?, ?it/s]",
      "application/vnd.jupyter.widget-view+json": {
       "version_major": 2,
       "version_minor": 0,
       "model_id": "a82fe9c3dcd04cb0906ff66f0ec5f142"
      }
     },
     "metadata": {},
     "output_type": "display_data"
    },
    {
     "data": {
      "text/plain": "  0%|          | 0/800 [00:00<?, ?it/s]",
      "application/vnd.jupyter.widget-view+json": {
       "version_major": 2,
       "version_minor": 0,
       "model_id": "bb1b8551edd4475ab1e99bc555cb9926"
      }
     },
     "metadata": {},
     "output_type": "display_data"
    },
    {
     "data": {
      "text/plain": "  0%|          | 0/800 [00:00<?, ?it/s]",
      "application/vnd.jupyter.widget-view+json": {
       "version_major": 2,
       "version_minor": 0,
       "model_id": "fff74396af364c2aa7a46f5a5dc00df9"
      }
     },
     "metadata": {},
     "output_type": "display_data"
    },
    {
     "data": {
      "text/plain": "  0%|          | 0/800 [00:00<?, ?it/s]",
      "application/vnd.jupyter.widget-view+json": {
       "version_major": 2,
       "version_minor": 0,
       "model_id": "ff015f3533784b16a829177ead6023ef"
      }
     },
     "metadata": {},
     "output_type": "display_data"
    },
    {
     "data": {
      "text/plain": "  0%|          | 0/800 [00:00<?, ?it/s]",
      "application/vnd.jupyter.widget-view+json": {
       "version_major": 2,
       "version_minor": 0,
       "model_id": "fa412471a6b34e9f869e3baade28dac1"
      }
     },
     "metadata": {},
     "output_type": "display_data"
    },
    {
     "data": {
      "text/plain": "  0%|          | 0/800 [00:00<?, ?it/s]",
      "application/vnd.jupyter.widget-view+json": {
       "version_major": 2,
       "version_minor": 0,
       "model_id": "7aaed03cf08448229ea3cf7f4f6679aa"
      }
     },
     "metadata": {},
     "output_type": "display_data"
    },
    {
     "data": {
      "text/plain": "  0%|          | 0/800 [00:00<?, ?it/s]",
      "application/vnd.jupyter.widget-view+json": {
       "version_major": 2,
       "version_minor": 0,
       "model_id": "88b22828d6b2468da1b2563b5e0202e1"
      }
     },
     "metadata": {},
     "output_type": "display_data"
    },
    {
     "data": {
      "text/plain": "  0%|          | 0/800 [00:00<?, ?it/s]",
      "application/vnd.jupyter.widget-view+json": {
       "version_major": 2,
       "version_minor": 0,
       "model_id": "469fd356c2274230815e1888425aeaaf"
      }
     },
     "metadata": {},
     "output_type": "display_data"
    },
    {
     "data": {
      "text/plain": "  0%|          | 0/800 [00:00<?, ?it/s]",
      "application/vnd.jupyter.widget-view+json": {
       "version_major": 2,
       "version_minor": 0,
       "model_id": "d338122d7b144046863d9531385cce4c"
      }
     },
     "metadata": {},
     "output_type": "display_data"
    },
    {
     "data": {
      "text/plain": "  0%|          | 0/800 [00:00<?, ?it/s]",
      "application/vnd.jupyter.widget-view+json": {
       "version_major": 2,
       "version_minor": 0,
       "model_id": "3d908c8c250444a598ed61842d8541a1"
      }
     },
     "metadata": {},
     "output_type": "display_data"
    },
    {
     "data": {
      "text/plain": "  0%|          | 0/800 [00:00<?, ?it/s]",
      "application/vnd.jupyter.widget-view+json": {
       "version_major": 2,
       "version_minor": 0,
       "model_id": "b9609507bb3c45d79f24ede740d014ab"
      }
     },
     "metadata": {},
     "output_type": "display_data"
    },
    {
     "data": {
      "text/plain": "  0%|          | 0/800 [00:00<?, ?it/s]",
      "application/vnd.jupyter.widget-view+json": {
       "version_major": 2,
       "version_minor": 0,
       "model_id": "88dfc4d654ff473ea6439cde2049c6f4"
      }
     },
     "metadata": {},
     "output_type": "display_data"
    },
    {
     "data": {
      "text/plain": "  0%|          | 0/800 [00:00<?, ?it/s]",
      "application/vnd.jupyter.widget-view+json": {
       "version_major": 2,
       "version_minor": 0,
       "model_id": "0ce7aee7f5fe4fa697a81c068b8e5075"
      }
     },
     "metadata": {},
     "output_type": "display_data"
    },
    {
     "data": {
      "text/plain": "  0%|          | 0/800 [00:00<?, ?it/s]",
      "application/vnd.jupyter.widget-view+json": {
       "version_major": 2,
       "version_minor": 0,
       "model_id": "d51e2a15cf2f4aad8c10f3dc82b8aefc"
      }
     },
     "metadata": {},
     "output_type": "display_data"
    },
    {
     "data": {
      "text/plain": "  0%|          | 0/800 [00:00<?, ?it/s]",
      "application/vnd.jupyter.widget-view+json": {
       "version_major": 2,
       "version_minor": 0,
       "model_id": "cecc63945ecc4951a7e58b219f28f886"
      }
     },
     "metadata": {},
     "output_type": "display_data"
    },
    {
     "data": {
      "text/plain": "  0%|          | 0/800 [00:00<?, ?it/s]",
      "application/vnd.jupyter.widget-view+json": {
       "version_major": 2,
       "version_minor": 0,
       "model_id": "49ccf45442054807973fc72aa920fbcb"
      }
     },
     "metadata": {},
     "output_type": "display_data"
    },
    {
     "data": {
      "text/plain": "  0%|          | 0/800 [00:00<?, ?it/s]",
      "application/vnd.jupyter.widget-view+json": {
       "version_major": 2,
       "version_minor": 0,
       "model_id": "571a5a05df674762a08341b8ee45931d"
      }
     },
     "metadata": {},
     "output_type": "display_data"
    },
    {
     "data": {
      "text/plain": "  0%|          | 0/800 [00:00<?, ?it/s]",
      "application/vnd.jupyter.widget-view+json": {
       "version_major": 2,
       "version_minor": 0,
       "model_id": "aa550de96ef54056944c51c607c11686"
      }
     },
     "metadata": {},
     "output_type": "display_data"
    },
    {
     "data": {
      "text/plain": "  0%|          | 0/800 [00:00<?, ?it/s]",
      "application/vnd.jupyter.widget-view+json": {
       "version_major": 2,
       "version_minor": 0,
       "model_id": "ba83b59325ef478398c5ccefc7fa1f7d"
      }
     },
     "metadata": {},
     "output_type": "display_data"
    },
    {
     "data": {
      "text/plain": "  0%|          | 0/800 [00:00<?, ?it/s]",
      "application/vnd.jupyter.widget-view+json": {
       "version_major": 2,
       "version_minor": 0,
       "model_id": "d2e218ac32e0449888e6ee71785355ff"
      }
     },
     "metadata": {},
     "output_type": "display_data"
    },
    {
     "data": {
      "text/plain": "  0%|          | 0/800 [00:00<?, ?it/s]",
      "application/vnd.jupyter.widget-view+json": {
       "version_major": 2,
       "version_minor": 0,
       "model_id": "27912b3c87cf4709bd1f7272aea7eb1b"
      }
     },
     "metadata": {},
     "output_type": "display_data"
    },
    {
     "data": {
      "text/plain": "  0%|          | 0/800 [00:00<?, ?it/s]",
      "application/vnd.jupyter.widget-view+json": {
       "version_major": 2,
       "version_minor": 0,
       "model_id": "1ce6506c3da74dbcb6490e0d11c9dbd8"
      }
     },
     "metadata": {},
     "output_type": "display_data"
    },
    {
     "data": {
      "text/plain": "  0%|          | 0/800 [00:00<?, ?it/s]",
      "application/vnd.jupyter.widget-view+json": {
       "version_major": 2,
       "version_minor": 0,
       "model_id": "cc4bcf5994994febaef7cb9344f06b4d"
      }
     },
     "metadata": {},
     "output_type": "display_data"
    },
    {
     "data": {
      "text/plain": "  0%|          | 0/800 [00:00<?, ?it/s]",
      "application/vnd.jupyter.widget-view+json": {
       "version_major": 2,
       "version_minor": 0,
       "model_id": "c91449dda89a40ccb5f64ce1461004d0"
      }
     },
     "metadata": {},
     "output_type": "display_data"
    },
    {
     "data": {
      "text/plain": "  0%|          | 0/800 [00:00<?, ?it/s]",
      "application/vnd.jupyter.widget-view+json": {
       "version_major": 2,
       "version_minor": 0,
       "model_id": "faa2953ac256442eb021e23fac7e4d24"
      }
     },
     "metadata": {},
     "output_type": "display_data"
    },
    {
     "data": {
      "text/plain": "  0%|          | 0/800 [00:00<?, ?it/s]",
      "application/vnd.jupyter.widget-view+json": {
       "version_major": 2,
       "version_minor": 0,
       "model_id": "f03500d512c84c988570b449dedb81f9"
      }
     },
     "metadata": {},
     "output_type": "display_data"
    },
    {
     "data": {
      "text/plain": "  0%|          | 0/800 [00:00<?, ?it/s]",
      "application/vnd.jupyter.widget-view+json": {
       "version_major": 2,
       "version_minor": 0,
       "model_id": "ac8a8cc14aff4be59a628d2e913d4c4a"
      }
     },
     "metadata": {},
     "output_type": "display_data"
    },
    {
     "data": {
      "text/plain": "  0%|          | 0/800 [00:00<?, ?it/s]",
      "application/vnd.jupyter.widget-view+json": {
       "version_major": 2,
       "version_minor": 0,
       "model_id": "1074d4eef5554338b4d8690351f3e139"
      }
     },
     "metadata": {},
     "output_type": "display_data"
    },
    {
     "data": {
      "text/plain": "  0%|          | 0/800 [00:00<?, ?it/s]",
      "application/vnd.jupyter.widget-view+json": {
       "version_major": 2,
       "version_minor": 0,
       "model_id": "b5ebbac73c44496cab839e9f6258417b"
      }
     },
     "metadata": {},
     "output_type": "display_data"
    },
    {
     "data": {
      "text/plain": "  0%|          | 0/800 [00:00<?, ?it/s]",
      "application/vnd.jupyter.widget-view+json": {
       "version_major": 2,
       "version_minor": 0,
       "model_id": "68bf92a217294bf4a63fa80acfc95345"
      }
     },
     "metadata": {},
     "output_type": "display_data"
    },
    {
     "data": {
      "text/plain": "  0%|          | 0/800 [00:00<?, ?it/s]",
      "application/vnd.jupyter.widget-view+json": {
       "version_major": 2,
       "version_minor": 0,
       "model_id": "f4252ee8123f406b836fbca1941a9183"
      }
     },
     "metadata": {},
     "output_type": "display_data"
    },
    {
     "data": {
      "text/plain": "  0%|          | 0/800 [00:00<?, ?it/s]",
      "application/vnd.jupyter.widget-view+json": {
       "version_major": 2,
       "version_minor": 0,
       "model_id": "a3cb8c80fd2047a6a37d529d4bcc36b7"
      }
     },
     "metadata": {},
     "output_type": "display_data"
    },
    {
     "data": {
      "text/plain": "  0%|          | 0/800 [00:00<?, ?it/s]",
      "application/vnd.jupyter.widget-view+json": {
       "version_major": 2,
       "version_minor": 0,
       "model_id": "e6d7e8cdc32940ecb26a4ad9cf266221"
      }
     },
     "metadata": {},
     "output_type": "display_data"
    },
    {
     "data": {
      "text/plain": "  0%|          | 0/800 [00:00<?, ?it/s]",
      "application/vnd.jupyter.widget-view+json": {
       "version_major": 2,
       "version_minor": 0,
       "model_id": "915d509961024ce5b1742e6098b2f63c"
      }
     },
     "metadata": {},
     "output_type": "display_data"
    },
    {
     "data": {
      "text/plain": "  0%|          | 0/800 [00:00<?, ?it/s]",
      "application/vnd.jupyter.widget-view+json": {
       "version_major": 2,
       "version_minor": 0,
       "model_id": "1f5949c6d9a94481b14c91d6bd1d5f07"
      }
     },
     "metadata": {},
     "output_type": "display_data"
    },
    {
     "data": {
      "text/plain": "  0%|          | 0/800 [00:00<?, ?it/s]",
      "application/vnd.jupyter.widget-view+json": {
       "version_major": 2,
       "version_minor": 0,
       "model_id": "5ea27b80b3f74d71b09911b17e196619"
      }
     },
     "metadata": {},
     "output_type": "display_data"
    },
    {
     "data": {
      "text/plain": "  0%|          | 0/800 [00:00<?, ?it/s]",
      "application/vnd.jupyter.widget-view+json": {
       "version_major": 2,
       "version_minor": 0,
       "model_id": "7a0fb5aee3a546b8829a479acf5c35ac"
      }
     },
     "metadata": {},
     "output_type": "display_data"
    },
    {
     "data": {
      "text/plain": "  0%|          | 0/800 [00:00<?, ?it/s]",
      "application/vnd.jupyter.widget-view+json": {
       "version_major": 2,
       "version_minor": 0,
       "model_id": "8aeda053e20d4278ba6968f0cde68085"
      }
     },
     "metadata": {},
     "output_type": "display_data"
    },
    {
     "data": {
      "text/plain": "  0%|          | 0/800 [00:00<?, ?it/s]",
      "application/vnd.jupyter.widget-view+json": {
       "version_major": 2,
       "version_minor": 0,
       "model_id": "57d6a376f9614a19b813c97e3049163b"
      }
     },
     "metadata": {},
     "output_type": "display_data"
    },
    {
     "data": {
      "text/plain": "  0%|          | 0/800 [00:00<?, ?it/s]",
      "application/vnd.jupyter.widget-view+json": {
       "version_major": 2,
       "version_minor": 0,
       "model_id": "4cce85ea51aa41d082fd8ab86834bb5c"
      }
     },
     "metadata": {},
     "output_type": "display_data"
    },
    {
     "data": {
      "text/plain": "  0%|          | 0/800 [00:00<?, ?it/s]",
      "application/vnd.jupyter.widget-view+json": {
       "version_major": 2,
       "version_minor": 0,
       "model_id": "94ed0a50a6724695bcd8fcf0b6b14cbe"
      }
     },
     "metadata": {},
     "output_type": "display_data"
    },
    {
     "data": {
      "text/plain": "  0%|          | 0/800 [00:00<?, ?it/s]",
      "application/vnd.jupyter.widget-view+json": {
       "version_major": 2,
       "version_minor": 0,
       "model_id": "5a84b6f85ba04a9ba5f31672a28f66f7"
      }
     },
     "metadata": {},
     "output_type": "display_data"
    },
    {
     "data": {
      "text/plain": "  0%|          | 0/800 [00:00<?, ?it/s]",
      "application/vnd.jupyter.widget-view+json": {
       "version_major": 2,
       "version_minor": 0,
       "model_id": "85edda261542480cbebb6a74e43a9180"
      }
     },
     "metadata": {},
     "output_type": "display_data"
    },
    {
     "data": {
      "text/plain": "  0%|          | 0/800 [00:00<?, ?it/s]",
      "application/vnd.jupyter.widget-view+json": {
       "version_major": 2,
       "version_minor": 0,
       "model_id": "95f98fc2cb2c40cdb9ed5340ca61ffc6"
      }
     },
     "metadata": {},
     "output_type": "display_data"
    },
    {
     "data": {
      "text/plain": "  0%|          | 0/800 [00:00<?, ?it/s]",
      "application/vnd.jupyter.widget-view+json": {
       "version_major": 2,
       "version_minor": 0,
       "model_id": "497cec07f7884ffabe354308bcd9941d"
      }
     },
     "metadata": {},
     "output_type": "display_data"
    },
    {
     "data": {
      "text/plain": "  0%|          | 0/800 [00:00<?, ?it/s]",
      "application/vnd.jupyter.widget-view+json": {
       "version_major": 2,
       "version_minor": 0,
       "model_id": "a7e12d51d7694335bccaa888065544d8"
      }
     },
     "metadata": {},
     "output_type": "display_data"
    },
    {
     "data": {
      "text/plain": "  0%|          | 0/800 [00:00<?, ?it/s]",
      "application/vnd.jupyter.widget-view+json": {
       "version_major": 2,
       "version_minor": 0,
       "model_id": "c92f43d6d9664679afdf74b1d2bec372"
      }
     },
     "metadata": {},
     "output_type": "display_data"
    },
    {
     "data": {
      "text/plain": "  0%|          | 0/800 [00:00<?, ?it/s]",
      "application/vnd.jupyter.widget-view+json": {
       "version_major": 2,
       "version_minor": 0,
       "model_id": "9ce463b8732546d587637d2be2fc7d1d"
      }
     },
     "metadata": {},
     "output_type": "display_data"
    },
    {
     "data": {
      "text/plain": "  0%|          | 0/800 [00:00<?, ?it/s]",
      "application/vnd.jupyter.widget-view+json": {
       "version_major": 2,
       "version_minor": 0,
       "model_id": "d7a0ae16baf54eea96315cff42f937f1"
      }
     },
     "metadata": {},
     "output_type": "display_data"
    },
    {
     "data": {
      "text/plain": "  0%|          | 0/800 [00:00<?, ?it/s]",
      "application/vnd.jupyter.widget-view+json": {
       "version_major": 2,
       "version_minor": 0,
       "model_id": "f1c5a24a57664a81bff0ab7d745961c4"
      }
     },
     "metadata": {},
     "output_type": "display_data"
    },
    {
     "data": {
      "text/plain": "  0%|          | 0/800 [00:00<?, ?it/s]",
      "application/vnd.jupyter.widget-view+json": {
       "version_major": 2,
       "version_minor": 0,
       "model_id": "23ff319650264f389b81cc437b198b37"
      }
     },
     "metadata": {},
     "output_type": "display_data"
    },
    {
     "data": {
      "text/plain": "  0%|          | 0/800 [00:00<?, ?it/s]",
      "application/vnd.jupyter.widget-view+json": {
       "version_major": 2,
       "version_minor": 0,
       "model_id": "07f7e9dde3614c6e9a5466c4e2952f12"
      }
     },
     "metadata": {},
     "output_type": "display_data"
    },
    {
     "data": {
      "text/plain": "  0%|          | 0/800 [00:00<?, ?it/s]",
      "application/vnd.jupyter.widget-view+json": {
       "version_major": 2,
       "version_minor": 0,
       "model_id": "242e4be2772d4eb3823bd6b2cf141551"
      }
     },
     "metadata": {},
     "output_type": "display_data"
    },
    {
     "data": {
      "text/plain": "  0%|          | 0/800 [00:00<?, ?it/s]",
      "application/vnd.jupyter.widget-view+json": {
       "version_major": 2,
       "version_minor": 0,
       "model_id": "5d9ef47ebeac41c096a86a29bf5b1ba0"
      }
     },
     "metadata": {},
     "output_type": "display_data"
    },
    {
     "data": {
      "text/plain": "  0%|          | 0/800 [00:00<?, ?it/s]",
      "application/vnd.jupyter.widget-view+json": {
       "version_major": 2,
       "version_minor": 0,
       "model_id": "7769f2882288417d9992ab6896488cd0"
      }
     },
     "metadata": {},
     "output_type": "display_data"
    },
    {
     "data": {
      "text/plain": "  0%|          | 0/800 [00:00<?, ?it/s]",
      "application/vnd.jupyter.widget-view+json": {
       "version_major": 2,
       "version_minor": 0,
       "model_id": "a6edddbbaa4e4012a8402e7d51619aa3"
      }
     },
     "metadata": {},
     "output_type": "display_data"
    },
    {
     "data": {
      "text/plain": "  0%|          | 0/800 [00:00<?, ?it/s]",
      "application/vnd.jupyter.widget-view+json": {
       "version_major": 2,
       "version_minor": 0,
       "model_id": "a88c8c23ee7f41b8abcb5da46a27ed85"
      }
     },
     "metadata": {},
     "output_type": "display_data"
    },
    {
     "data": {
      "text/plain": "  0%|          | 0/800 [00:00<?, ?it/s]",
      "application/vnd.jupyter.widget-view+json": {
       "version_major": 2,
       "version_minor": 0,
       "model_id": "72a49cfcb5234dc28e0e3e69f3f68f4e"
      }
     },
     "metadata": {},
     "output_type": "display_data"
    },
    {
     "data": {
      "text/plain": "  0%|          | 0/800 [00:00<?, ?it/s]",
      "application/vnd.jupyter.widget-view+json": {
       "version_major": 2,
       "version_minor": 0,
       "model_id": "8682c41301b94153ad0e6bc4faf0b42f"
      }
     },
     "metadata": {},
     "output_type": "display_data"
    },
    {
     "data": {
      "text/plain": "  0%|          | 0/800 [00:00<?, ?it/s]",
      "application/vnd.jupyter.widget-view+json": {
       "version_major": 2,
       "version_minor": 0,
       "model_id": "0ec06851944145f8b6908685d8f86ac6"
      }
     },
     "metadata": {},
     "output_type": "display_data"
    },
    {
     "data": {
      "text/plain": "  0%|          | 0/800 [00:00<?, ?it/s]",
      "application/vnd.jupyter.widget-view+json": {
       "version_major": 2,
       "version_minor": 0,
       "model_id": "8b10421da9a64b8bbaf71acd2a39ebbb"
      }
     },
     "metadata": {},
     "output_type": "display_data"
    },
    {
     "data": {
      "text/plain": "  0%|          | 0/800 [00:00<?, ?it/s]",
      "application/vnd.jupyter.widget-view+json": {
       "version_major": 2,
       "version_minor": 0,
       "model_id": "82dd4ab9b3894a3285ac794ce4238741"
      }
     },
     "metadata": {},
     "output_type": "display_data"
    },
    {
     "data": {
      "text/plain": "  0%|          | 0/800 [00:00<?, ?it/s]",
      "application/vnd.jupyter.widget-view+json": {
       "version_major": 2,
       "version_minor": 0,
       "model_id": "1d44d9fcf70e4b718d316e061e8564ed"
      }
     },
     "metadata": {},
     "output_type": "display_data"
    },
    {
     "data": {
      "text/plain": "  0%|          | 0/800 [00:00<?, ?it/s]",
      "application/vnd.jupyter.widget-view+json": {
       "version_major": 2,
       "version_minor": 0,
       "model_id": "ff68c5915bd74fdb8399874a84842093"
      }
     },
     "metadata": {},
     "output_type": "display_data"
    },
    {
     "data": {
      "text/plain": "  0%|          | 0/800 [00:00<?, ?it/s]",
      "application/vnd.jupyter.widget-view+json": {
       "version_major": 2,
       "version_minor": 0,
       "model_id": "9fe3bc3802fd48679806cbf1c491cb47"
      }
     },
     "metadata": {},
     "output_type": "display_data"
    },
    {
     "data": {
      "text/plain": "  0%|          | 0/800 [00:00<?, ?it/s]",
      "application/vnd.jupyter.widget-view+json": {
       "version_major": 2,
       "version_minor": 0,
       "model_id": "72efb55e7eb6434b9d558156be8c510c"
      }
     },
     "metadata": {},
     "output_type": "display_data"
    },
    {
     "data": {
      "text/plain": "  0%|          | 0/800 [00:00<?, ?it/s]",
      "application/vnd.jupyter.widget-view+json": {
       "version_major": 2,
       "version_minor": 0,
       "model_id": "d6839c12cd5a4e46b4692d4b3c49d1b3"
      }
     },
     "metadata": {},
     "output_type": "display_data"
    },
    {
     "data": {
      "text/plain": "  0%|          | 0/800 [00:00<?, ?it/s]",
      "application/vnd.jupyter.widget-view+json": {
       "version_major": 2,
       "version_minor": 0,
       "model_id": "03f9d450e1444861894bb0156bb38470"
      }
     },
     "metadata": {},
     "output_type": "display_data"
    },
    {
     "data": {
      "text/plain": "  0%|          | 0/800 [00:00<?, ?it/s]",
      "application/vnd.jupyter.widget-view+json": {
       "version_major": 2,
       "version_minor": 0,
       "model_id": "c077671e90c2444d81699dd727b2455a"
      }
     },
     "metadata": {},
     "output_type": "display_data"
    },
    {
     "data": {
      "text/plain": "  0%|          | 0/800 [00:00<?, ?it/s]",
      "application/vnd.jupyter.widget-view+json": {
       "version_major": 2,
       "version_minor": 0,
       "model_id": "d048cd877f884028bdffbd462bf0b385"
      }
     },
     "metadata": {},
     "output_type": "display_data"
    },
    {
     "data": {
      "text/plain": "  0%|          | 0/800 [00:00<?, ?it/s]",
      "application/vnd.jupyter.widget-view+json": {
       "version_major": 2,
       "version_minor": 0,
       "model_id": "8e4421717aa74a879f28ea814728e786"
      }
     },
     "metadata": {},
     "output_type": "display_data"
    },
    {
     "data": {
      "text/plain": "  0%|          | 0/800 [00:00<?, ?it/s]",
      "application/vnd.jupyter.widget-view+json": {
       "version_major": 2,
       "version_minor": 0,
       "model_id": "ca3c63d2695a4addb4f76c84aa9ec6fc"
      }
     },
     "metadata": {},
     "output_type": "display_data"
    },
    {
     "data": {
      "text/plain": "  0%|          | 0/800 [00:00<?, ?it/s]",
      "application/vnd.jupyter.widget-view+json": {
       "version_major": 2,
       "version_minor": 0,
       "model_id": "d2f52da71a4743d28fbd7c342a551e5f"
      }
     },
     "metadata": {},
     "output_type": "display_data"
    },
    {
     "data": {
      "text/plain": "  0%|          | 0/800 [00:00<?, ?it/s]",
      "application/vnd.jupyter.widget-view+json": {
       "version_major": 2,
       "version_minor": 0,
       "model_id": "2b067e977a2d49d2b37f35611c0355b9"
      }
     },
     "metadata": {},
     "output_type": "display_data"
    },
    {
     "data": {
      "text/plain": "  0%|          | 0/800 [00:00<?, ?it/s]",
      "application/vnd.jupyter.widget-view+json": {
       "version_major": 2,
       "version_minor": 0,
       "model_id": "f1a8d20e8d31451db9bddf8f28b659c2"
      }
     },
     "metadata": {},
     "output_type": "display_data"
    },
    {
     "data": {
      "text/plain": "  0%|          | 0/800 [00:00<?, ?it/s]",
      "application/vnd.jupyter.widget-view+json": {
       "version_major": 2,
       "version_minor": 0,
       "model_id": "df59d4cd43954d1cada0c2321b818875"
      }
     },
     "metadata": {},
     "output_type": "display_data"
    },
    {
     "data": {
      "text/plain": "  0%|          | 0/800 [00:00<?, ?it/s]",
      "application/vnd.jupyter.widget-view+json": {
       "version_major": 2,
       "version_minor": 0,
       "model_id": "f2b9db68acaf416dad8949faed16c04a"
      }
     },
     "metadata": {},
     "output_type": "display_data"
    },
    {
     "data": {
      "text/plain": "  0%|          | 0/800 [00:00<?, ?it/s]",
      "application/vnd.jupyter.widget-view+json": {
       "version_major": 2,
       "version_minor": 0,
       "model_id": "02e5774e5f9148e78f29f2e4edd83cb8"
      }
     },
     "metadata": {},
     "output_type": "display_data"
    },
    {
     "data": {
      "text/plain": "  0%|          | 0/800 [00:00<?, ?it/s]",
      "application/vnd.jupyter.widget-view+json": {
       "version_major": 2,
       "version_minor": 0,
       "model_id": "b17fab12709c402aae050969338d765e"
      }
     },
     "metadata": {},
     "output_type": "display_data"
    },
    {
     "data": {
      "text/plain": "  0%|          | 0/800 [00:00<?, ?it/s]",
      "application/vnd.jupyter.widget-view+json": {
       "version_major": 2,
       "version_minor": 0,
       "model_id": "ee789de58ba14926b31f08cce866f8ab"
      }
     },
     "metadata": {},
     "output_type": "display_data"
    },
    {
     "data": {
      "text/plain": "  0%|          | 0/800 [00:00<?, ?it/s]",
      "application/vnd.jupyter.widget-view+json": {
       "version_major": 2,
       "version_minor": 0,
       "model_id": "67c3aa77fa004c22888cd3f873353d5a"
      }
     },
     "metadata": {},
     "output_type": "display_data"
    },
    {
     "data": {
      "text/plain": "  0%|          | 0/800 [00:00<?, ?it/s]",
      "application/vnd.jupyter.widget-view+json": {
       "version_major": 2,
       "version_minor": 0,
       "model_id": "b45201e797fd4fa4a59c03995dba16f5"
      }
     },
     "metadata": {},
     "output_type": "display_data"
    },
    {
     "data": {
      "text/plain": "  0%|          | 0/800 [00:00<?, ?it/s]",
      "application/vnd.jupyter.widget-view+json": {
       "version_major": 2,
       "version_minor": 0,
       "model_id": "fe5a852f093c450c89c0dab378fdaa5e"
      }
     },
     "metadata": {},
     "output_type": "display_data"
    },
    {
     "data": {
      "text/plain": "  0%|          | 0/800 [00:00<?, ?it/s]",
      "application/vnd.jupyter.widget-view+json": {
       "version_major": 2,
       "version_minor": 0,
       "model_id": "53f86168674f4213bb5c6ed69618ca1f"
      }
     },
     "metadata": {},
     "output_type": "display_data"
    },
    {
     "data": {
      "text/plain": "  0%|          | 0/800 [00:00<?, ?it/s]",
      "application/vnd.jupyter.widget-view+json": {
       "version_major": 2,
       "version_minor": 0,
       "model_id": "9949e52da97b412aa8e72f3d67f10ee7"
      }
     },
     "metadata": {},
     "output_type": "display_data"
    },
    {
     "data": {
      "text/plain": "  0%|          | 0/800 [00:00<?, ?it/s]",
      "application/vnd.jupyter.widget-view+json": {
       "version_major": 2,
       "version_minor": 0,
       "model_id": "2cca36d53b7b47689fd10689f8174518"
      }
     },
     "metadata": {},
     "output_type": "display_data"
    },
    {
     "data": {
      "text/plain": "  0%|          | 0/800 [00:00<?, ?it/s]",
      "application/vnd.jupyter.widget-view+json": {
       "version_major": 2,
       "version_minor": 0,
       "model_id": "1deea256cfae41cbada1a89509d2d287"
      }
     },
     "metadata": {},
     "output_type": "display_data"
    },
    {
     "data": {
      "text/plain": "  0%|          | 0/800 [00:00<?, ?it/s]",
      "application/vnd.jupyter.widget-view+json": {
       "version_major": 2,
       "version_minor": 0,
       "model_id": "add479a3119e4ae9af291a857a663aaa"
      }
     },
     "metadata": {},
     "output_type": "display_data"
    },
    {
     "data": {
      "text/plain": "  0%|          | 0/800 [00:00<?, ?it/s]",
      "application/vnd.jupyter.widget-view+json": {
       "version_major": 2,
       "version_minor": 0,
       "model_id": "cca3a76943db4fef8025a390e3403ede"
      }
     },
     "metadata": {},
     "output_type": "display_data"
    },
    {
     "data": {
      "text/plain": "  0%|          | 0/800 [00:00<?, ?it/s]",
      "application/vnd.jupyter.widget-view+json": {
       "version_major": 2,
       "version_minor": 0,
       "model_id": "8dd370abc07940d5aa0e086be5287c75"
      }
     },
     "metadata": {},
     "output_type": "display_data"
    },
    {
     "data": {
      "text/plain": "  0%|          | 0/800 [00:00<?, ?it/s]",
      "application/vnd.jupyter.widget-view+json": {
       "version_major": 2,
       "version_minor": 0,
       "model_id": "ff982ac749a745de99e721aa6e587330"
      }
     },
     "metadata": {},
     "output_type": "display_data"
    },
    {
     "data": {
      "text/plain": "  0%|          | 0/800 [00:00<?, ?it/s]",
      "application/vnd.jupyter.widget-view+json": {
       "version_major": 2,
       "version_minor": 0,
       "model_id": "0974d6009bc84c018747bfe6ddf963b9"
      }
     },
     "metadata": {},
     "output_type": "display_data"
    },
    {
     "data": {
      "text/plain": "  0%|          | 0/800 [00:00<?, ?it/s]",
      "application/vnd.jupyter.widget-view+json": {
       "version_major": 2,
       "version_minor": 0,
       "model_id": "9148cbde22334075947413de18aa81ca"
      }
     },
     "metadata": {},
     "output_type": "display_data"
    },
    {
     "data": {
      "text/plain": "  0%|          | 0/800 [00:00<?, ?it/s]",
      "application/vnd.jupyter.widget-view+json": {
       "version_major": 2,
       "version_minor": 0,
       "model_id": "554ab7a96b8542189373999dafe27017"
      }
     },
     "metadata": {},
     "output_type": "display_data"
    },
    {
     "data": {
      "text/plain": "  0%|          | 0/800 [00:00<?, ?it/s]",
      "application/vnd.jupyter.widget-view+json": {
       "version_major": 2,
       "version_minor": 0,
       "model_id": "89d01423bc5d4654b7003f35d59f65e4"
      }
     },
     "metadata": {},
     "output_type": "display_data"
    },
    {
     "data": {
      "text/plain": "  0%|          | 0/800 [00:00<?, ?it/s]",
      "application/vnd.jupyter.widget-view+json": {
       "version_major": 2,
       "version_minor": 0,
       "model_id": "94795270367844ebbd9812cab9ffda92"
      }
     },
     "metadata": {},
     "output_type": "display_data"
    },
    {
     "data": {
      "text/plain": "  0%|          | 0/800 [00:00<?, ?it/s]",
      "application/vnd.jupyter.widget-view+json": {
       "version_major": 2,
       "version_minor": 0,
       "model_id": "17665763786a40bc90c03d4ddc50be60"
      }
     },
     "metadata": {},
     "output_type": "display_data"
    },
    {
     "data": {
      "text/plain": "  0%|          | 0/800 [00:00<?, ?it/s]",
      "application/vnd.jupyter.widget-view+json": {
       "version_major": 2,
       "version_minor": 0,
       "model_id": "9339787c51a94fb7b014ca0b138670f2"
      }
     },
     "metadata": {},
     "output_type": "display_data"
    },
    {
     "data": {
      "text/plain": "  0%|          | 0/800 [00:00<?, ?it/s]",
      "application/vnd.jupyter.widget-view+json": {
       "version_major": 2,
       "version_minor": 0,
       "model_id": "16bad71ef433470995a6503b474439fa"
      }
     },
     "metadata": {},
     "output_type": "display_data"
    },
    {
     "data": {
      "text/plain": "  0%|          | 0/800 [00:00<?, ?it/s]",
      "application/vnd.jupyter.widget-view+json": {
       "version_major": 2,
       "version_minor": 0,
       "model_id": "45542c764b9842d48b592c3d5bfbe14c"
      }
     },
     "metadata": {},
     "output_type": "display_data"
    },
    {
     "data": {
      "text/plain": "  0%|          | 0/800 [00:00<?, ?it/s]",
      "application/vnd.jupyter.widget-view+json": {
       "version_major": 2,
       "version_minor": 0,
       "model_id": "44ed53dbfad540fa87145150d3c68be5"
      }
     },
     "metadata": {},
     "output_type": "display_data"
    },
    {
     "data": {
      "text/plain": "  0%|          | 0/800 [00:00<?, ?it/s]",
      "application/vnd.jupyter.widget-view+json": {
       "version_major": 2,
       "version_minor": 0,
       "model_id": "88a17c1fd42f4a2ab8fb0f73ffcad277"
      }
     },
     "metadata": {},
     "output_type": "display_data"
    },
    {
     "data": {
      "text/plain": "  0%|          | 0/800 [00:00<?, ?it/s]",
      "application/vnd.jupyter.widget-view+json": {
       "version_major": 2,
       "version_minor": 0,
       "model_id": "8fabd05749a441d893498f30b8bc50c2"
      }
     },
     "metadata": {},
     "output_type": "display_data"
    },
    {
     "data": {
      "text/plain": "  0%|          | 0/800 [00:00<?, ?it/s]",
      "application/vnd.jupyter.widget-view+json": {
       "version_major": 2,
       "version_minor": 0,
       "model_id": "6381af2bc013444da7b2bd7ad892753b"
      }
     },
     "metadata": {},
     "output_type": "display_data"
    },
    {
     "data": {
      "text/plain": "  0%|          | 0/800 [00:00<?, ?it/s]",
      "application/vnd.jupyter.widget-view+json": {
       "version_major": 2,
       "version_minor": 0,
       "model_id": "0318e74f2d654ae6ac7ae42dec6fd022"
      }
     },
     "metadata": {},
     "output_type": "display_data"
    },
    {
     "data": {
      "text/plain": "  0%|          | 0/800 [00:00<?, ?it/s]",
      "application/vnd.jupyter.widget-view+json": {
       "version_major": 2,
       "version_minor": 0,
       "model_id": "7373e914b23a444f97b46ee9f84352ef"
      }
     },
     "metadata": {},
     "output_type": "display_data"
    },
    {
     "data": {
      "text/plain": "  0%|          | 0/800 [00:00<?, ?it/s]",
      "application/vnd.jupyter.widget-view+json": {
       "version_major": 2,
       "version_minor": 0,
       "model_id": "14ae5368e9104708a8383b7bbcd56106"
      }
     },
     "metadata": {},
     "output_type": "display_data"
    },
    {
     "data": {
      "text/plain": "  0%|          | 0/800 [00:00<?, ?it/s]",
      "application/vnd.jupyter.widget-view+json": {
       "version_major": 2,
       "version_minor": 0,
       "model_id": "b5d1f98b01f848acace017c795d5486f"
      }
     },
     "metadata": {},
     "output_type": "display_data"
    },
    {
     "data": {
      "text/plain": "  0%|          | 0/800 [00:00<?, ?it/s]",
      "application/vnd.jupyter.widget-view+json": {
       "version_major": 2,
       "version_minor": 0,
       "model_id": "9b8e01c403b742fe8af601bceefc4113"
      }
     },
     "metadata": {},
     "output_type": "display_data"
    },
    {
     "data": {
      "text/plain": "  0%|          | 0/800 [00:00<?, ?it/s]",
      "application/vnd.jupyter.widget-view+json": {
       "version_major": 2,
       "version_minor": 0,
       "model_id": "fee2651e33694740a45158c7a152700e"
      }
     },
     "metadata": {},
     "output_type": "display_data"
    },
    {
     "data": {
      "text/plain": "  0%|          | 0/800 [00:00<?, ?it/s]",
      "application/vnd.jupyter.widget-view+json": {
       "version_major": 2,
       "version_minor": 0,
       "model_id": "6abeec0c5ac94520969dbe3dae4a4597"
      }
     },
     "metadata": {},
     "output_type": "display_data"
    },
    {
     "data": {
      "text/plain": "  0%|          | 0/800 [00:00<?, ?it/s]",
      "application/vnd.jupyter.widget-view+json": {
       "version_major": 2,
       "version_minor": 0,
       "model_id": "710f3f71030849a59ebc6f7abd6dbbae"
      }
     },
     "metadata": {},
     "output_type": "display_data"
    },
    {
     "data": {
      "text/plain": "  0%|          | 0/800 [00:00<?, ?it/s]",
      "application/vnd.jupyter.widget-view+json": {
       "version_major": 2,
       "version_minor": 0,
       "model_id": "bbfee116bfcc4f3fa2c1ef6320b0c5e2"
      }
     },
     "metadata": {},
     "output_type": "display_data"
    },
    {
     "data": {
      "text/plain": "  0%|          | 0/800 [00:00<?, ?it/s]",
      "application/vnd.jupyter.widget-view+json": {
       "version_major": 2,
       "version_minor": 0,
       "model_id": "8e0ef74388604ce6b274c4616f00049a"
      }
     },
     "metadata": {},
     "output_type": "display_data"
    },
    {
     "data": {
      "text/plain": "  0%|          | 0/800 [00:00<?, ?it/s]",
      "application/vnd.jupyter.widget-view+json": {
       "version_major": 2,
       "version_minor": 0,
       "model_id": "56706781e4754b5395ce8ca72406f6d6"
      }
     },
     "metadata": {},
     "output_type": "display_data"
    },
    {
     "data": {
      "text/plain": "  0%|          | 0/800 [00:00<?, ?it/s]",
      "application/vnd.jupyter.widget-view+json": {
       "version_major": 2,
       "version_minor": 0,
       "model_id": "013a6d840e4b473ca522c7c4579e884b"
      }
     },
     "metadata": {},
     "output_type": "display_data"
    },
    {
     "data": {
      "text/plain": "  0%|          | 0/800 [00:00<?, ?it/s]",
      "application/vnd.jupyter.widget-view+json": {
       "version_major": 2,
       "version_minor": 0,
       "model_id": "7b96ed7c67904ae1bcd9fb9da1ff742b"
      }
     },
     "metadata": {},
     "output_type": "display_data"
    },
    {
     "data": {
      "text/plain": "  0%|          | 0/800 [00:00<?, ?it/s]",
      "application/vnd.jupyter.widget-view+json": {
       "version_major": 2,
       "version_minor": 0,
       "model_id": "b4ef9c9442454881b1f5430904ebf24a"
      }
     },
     "metadata": {},
     "output_type": "display_data"
    },
    {
     "data": {
      "text/plain": "  0%|          | 0/800 [00:00<?, ?it/s]",
      "application/vnd.jupyter.widget-view+json": {
       "version_major": 2,
       "version_minor": 0,
       "model_id": "ffc81b20b3a841d691743070b645bc78"
      }
     },
     "metadata": {},
     "output_type": "display_data"
    },
    {
     "data": {
      "text/plain": "  0%|          | 0/800 [00:00<?, ?it/s]",
      "application/vnd.jupyter.widget-view+json": {
       "version_major": 2,
       "version_minor": 0,
       "model_id": "ec7ba725408642aeaf53d22a22f24b33"
      }
     },
     "metadata": {},
     "output_type": "display_data"
    },
    {
     "data": {
      "text/plain": "  0%|          | 0/800 [00:00<?, ?it/s]",
      "application/vnd.jupyter.widget-view+json": {
       "version_major": 2,
       "version_minor": 0,
       "model_id": "3bc49bc60dfd40f38645f4a92b6a6a83"
      }
     },
     "metadata": {},
     "output_type": "display_data"
    },
    {
     "data": {
      "text/plain": "  0%|          | 0/800 [00:00<?, ?it/s]",
      "application/vnd.jupyter.widget-view+json": {
       "version_major": 2,
       "version_minor": 0,
       "model_id": "4c7503b2f4c740e385d3c3984bf91753"
      }
     },
     "metadata": {},
     "output_type": "display_data"
    },
    {
     "data": {
      "text/plain": "  0%|          | 0/800 [00:00<?, ?it/s]",
      "application/vnd.jupyter.widget-view+json": {
       "version_major": 2,
       "version_minor": 0,
       "model_id": "8c99392512ed44fb92b426fa587810e7"
      }
     },
     "metadata": {},
     "output_type": "display_data"
    },
    {
     "data": {
      "text/plain": "  0%|          | 0/800 [00:00<?, ?it/s]",
      "application/vnd.jupyter.widget-view+json": {
       "version_major": 2,
       "version_minor": 0,
       "model_id": "125c7c4d321a498a8d9291a7aaf1676a"
      }
     },
     "metadata": {},
     "output_type": "display_data"
    },
    {
     "data": {
      "text/plain": "  0%|          | 0/800 [00:00<?, ?it/s]",
      "application/vnd.jupyter.widget-view+json": {
       "version_major": 2,
       "version_minor": 0,
       "model_id": "e9f8c3b502b34c91b5ea904a8bd7f85f"
      }
     },
     "metadata": {},
     "output_type": "display_data"
    },
    {
     "data": {
      "text/plain": "  0%|          | 0/800 [00:00<?, ?it/s]",
      "application/vnd.jupyter.widget-view+json": {
       "version_major": 2,
       "version_minor": 0,
       "model_id": "246dd8e37a864f92af1b7d267942ce92"
      }
     },
     "metadata": {},
     "output_type": "display_data"
    },
    {
     "data": {
      "text/plain": "  0%|          | 0/800 [00:00<?, ?it/s]",
      "application/vnd.jupyter.widget-view+json": {
       "version_major": 2,
       "version_minor": 0,
       "model_id": "cdddba4ab0cb4fb29c7417b1f2a246ed"
      }
     },
     "metadata": {},
     "output_type": "display_data"
    },
    {
     "data": {
      "text/plain": "  0%|          | 0/800 [00:00<?, ?it/s]",
      "application/vnd.jupyter.widget-view+json": {
       "version_major": 2,
       "version_minor": 0,
       "model_id": "cbf1145a9ad8416e9eaf0ec60196e9fa"
      }
     },
     "metadata": {},
     "output_type": "display_data"
    },
    {
     "data": {
      "text/plain": "  0%|          | 0/800 [00:00<?, ?it/s]",
      "application/vnd.jupyter.widget-view+json": {
       "version_major": 2,
       "version_minor": 0,
       "model_id": "fbf70a2fe73d48299b421061d7f13bcd"
      }
     },
     "metadata": {},
     "output_type": "display_data"
    },
    {
     "data": {
      "text/plain": "  0%|          | 0/800 [00:00<?, ?it/s]",
      "application/vnd.jupyter.widget-view+json": {
       "version_major": 2,
       "version_minor": 0,
       "model_id": "e5cfc6e8f2044bd096585c180dc58749"
      }
     },
     "metadata": {},
     "output_type": "display_data"
    },
    {
     "data": {
      "text/plain": "  0%|          | 0/800 [00:00<?, ?it/s]",
      "application/vnd.jupyter.widget-view+json": {
       "version_major": 2,
       "version_minor": 0,
       "model_id": "2bab4108a22140c4a16f5192b5b3cdad"
      }
     },
     "metadata": {},
     "output_type": "display_data"
    },
    {
     "data": {
      "text/plain": "  0%|          | 0/800 [00:00<?, ?it/s]",
      "application/vnd.jupyter.widget-view+json": {
       "version_major": 2,
       "version_minor": 0,
       "model_id": "464a87e1e8294b089c59a03cdb658e3e"
      }
     },
     "metadata": {},
     "output_type": "display_data"
    },
    {
     "data": {
      "text/plain": "  0%|          | 0/800 [00:00<?, ?it/s]",
      "application/vnd.jupyter.widget-view+json": {
       "version_major": 2,
       "version_minor": 0,
       "model_id": "77c362198dec43dcb1a9b31236ad0c78"
      }
     },
     "metadata": {},
     "output_type": "display_data"
    },
    {
     "data": {
      "text/plain": "  0%|          | 0/800 [00:00<?, ?it/s]",
      "application/vnd.jupyter.widget-view+json": {
       "version_major": 2,
       "version_minor": 0,
       "model_id": "dc50826215d146a7a6f741bcd3b19473"
      }
     },
     "metadata": {},
     "output_type": "display_data"
    },
    {
     "data": {
      "text/plain": "  0%|          | 0/800 [00:00<?, ?it/s]",
      "application/vnd.jupyter.widget-view+json": {
       "version_major": 2,
       "version_minor": 0,
       "model_id": "762f1301de3b48a7ba27ed2faf10e2b1"
      }
     },
     "metadata": {},
     "output_type": "display_data"
    },
    {
     "data": {
      "text/plain": "  0%|          | 0/800 [00:00<?, ?it/s]",
      "application/vnd.jupyter.widget-view+json": {
       "version_major": 2,
       "version_minor": 0,
       "model_id": "2563277afb81486ebc96eb15a428351c"
      }
     },
     "metadata": {},
     "output_type": "display_data"
    },
    {
     "data": {
      "text/plain": "  0%|          | 0/800 [00:00<?, ?it/s]",
      "application/vnd.jupyter.widget-view+json": {
       "version_major": 2,
       "version_minor": 0,
       "model_id": "72d790cb926b4b8096dd544cc0253204"
      }
     },
     "metadata": {},
     "output_type": "display_data"
    },
    {
     "data": {
      "text/plain": "  0%|          | 0/800 [00:00<?, ?it/s]",
      "application/vnd.jupyter.widget-view+json": {
       "version_major": 2,
       "version_minor": 0,
       "model_id": "7e06389d7731420ba018e0ea1dfffcfd"
      }
     },
     "metadata": {},
     "output_type": "display_data"
    },
    {
     "data": {
      "text/plain": "  0%|          | 0/800 [00:00<?, ?it/s]",
      "application/vnd.jupyter.widget-view+json": {
       "version_major": 2,
       "version_minor": 0,
       "model_id": "b92c1ef6b4864394ba57c5a2f26f3aee"
      }
     },
     "metadata": {},
     "output_type": "display_data"
    },
    {
     "data": {
      "text/plain": "  0%|          | 0/800 [00:00<?, ?it/s]",
      "application/vnd.jupyter.widget-view+json": {
       "version_major": 2,
       "version_minor": 0,
       "model_id": "4baecd1b2b3e482686b21f6977c0a69b"
      }
     },
     "metadata": {},
     "output_type": "display_data"
    },
    {
     "data": {
      "text/plain": "  0%|          | 0/800 [00:00<?, ?it/s]",
      "application/vnd.jupyter.widget-view+json": {
       "version_major": 2,
       "version_minor": 0,
       "model_id": "84c3066496fa4e02a0188c4421465782"
      }
     },
     "metadata": {},
     "output_type": "display_data"
    },
    {
     "data": {
      "text/plain": "  0%|          | 0/800 [00:00<?, ?it/s]",
      "application/vnd.jupyter.widget-view+json": {
       "version_major": 2,
       "version_minor": 0,
       "model_id": "23b54f9c579a41878f558b4ab2abc83e"
      }
     },
     "metadata": {},
     "output_type": "display_data"
    },
    {
     "data": {
      "text/plain": "  0%|          | 0/800 [00:00<?, ?it/s]",
      "application/vnd.jupyter.widget-view+json": {
       "version_major": 2,
       "version_minor": 0,
       "model_id": "30b6c2c4521541d6afa1118431571c52"
      }
     },
     "metadata": {},
     "output_type": "display_data"
    },
    {
     "data": {
      "text/plain": "  0%|          | 0/800 [00:00<?, ?it/s]",
      "application/vnd.jupyter.widget-view+json": {
       "version_major": 2,
       "version_minor": 0,
       "model_id": "dd86b40a49c14364833b942c9f83e410"
      }
     },
     "metadata": {},
     "output_type": "display_data"
    },
    {
     "data": {
      "text/plain": "  0%|          | 0/800 [00:00<?, ?it/s]",
      "application/vnd.jupyter.widget-view+json": {
       "version_major": 2,
       "version_minor": 0,
       "model_id": "c1fd2c1fde0f4ccaa78f194c5d2bd1bc"
      }
     },
     "metadata": {},
     "output_type": "display_data"
    },
    {
     "data": {
      "text/plain": "  0%|          | 0/800 [00:00<?, ?it/s]",
      "application/vnd.jupyter.widget-view+json": {
       "version_major": 2,
       "version_minor": 0,
       "model_id": "882cba3b97a74d2cbd05316c979c1d70"
      }
     },
     "metadata": {},
     "output_type": "display_data"
    },
    {
     "data": {
      "text/plain": "  0%|          | 0/800 [00:00<?, ?it/s]",
      "application/vnd.jupyter.widget-view+json": {
       "version_major": 2,
       "version_minor": 0,
       "model_id": "212be7705bc748cd80187c8e392d08bb"
      }
     },
     "metadata": {},
     "output_type": "display_data"
    },
    {
     "data": {
      "text/plain": "  0%|          | 0/800 [00:00<?, ?it/s]",
      "application/vnd.jupyter.widget-view+json": {
       "version_major": 2,
       "version_minor": 0,
       "model_id": "2c3c1ff478df47b9989d17884ec5b205"
      }
     },
     "metadata": {},
     "output_type": "display_data"
    },
    {
     "data": {
      "text/plain": "  0%|          | 0/800 [00:00<?, ?it/s]",
      "application/vnd.jupyter.widget-view+json": {
       "version_major": 2,
       "version_minor": 0,
       "model_id": "b6ff7948ef1c41a29644a638c18ca7c4"
      }
     },
     "metadata": {},
     "output_type": "display_data"
    },
    {
     "data": {
      "text/plain": "  0%|          | 0/800 [00:00<?, ?it/s]",
      "application/vnd.jupyter.widget-view+json": {
       "version_major": 2,
       "version_minor": 0,
       "model_id": "63e6f84c895f4f01b4ae21ed34f98b39"
      }
     },
     "metadata": {},
     "output_type": "display_data"
    },
    {
     "data": {
      "text/plain": "  0%|          | 0/800 [00:00<?, ?it/s]",
      "application/vnd.jupyter.widget-view+json": {
       "version_major": 2,
       "version_minor": 0,
       "model_id": "4d529dbfe2f94cf3bbad843353a24f0e"
      }
     },
     "metadata": {},
     "output_type": "display_data"
    },
    {
     "data": {
      "text/plain": "  0%|          | 0/800 [00:00<?, ?it/s]",
      "application/vnd.jupyter.widget-view+json": {
       "version_major": 2,
       "version_minor": 0,
       "model_id": "5d4da8fae9d045cba67a101b4934d241"
      }
     },
     "metadata": {},
     "output_type": "display_data"
    },
    {
     "data": {
      "text/plain": "  0%|          | 0/800 [00:00<?, ?it/s]",
      "application/vnd.jupyter.widget-view+json": {
       "version_major": 2,
       "version_minor": 0,
       "model_id": "3fea8f63ed5344ee9f01b702b3c38c66"
      }
     },
     "metadata": {},
     "output_type": "display_data"
    },
    {
     "data": {
      "text/plain": "  0%|          | 0/800 [00:00<?, ?it/s]",
      "application/vnd.jupyter.widget-view+json": {
       "version_major": 2,
       "version_minor": 0,
       "model_id": "b1fc545c25f140f1a7dd0fb142511522"
      }
     },
     "metadata": {},
     "output_type": "display_data"
    },
    {
     "data": {
      "text/plain": "  0%|          | 0/800 [00:00<?, ?it/s]",
      "application/vnd.jupyter.widget-view+json": {
       "version_major": 2,
       "version_minor": 0,
       "model_id": "e46a6b670a564327af9e347e43830de0"
      }
     },
     "metadata": {},
     "output_type": "display_data"
    },
    {
     "data": {
      "text/plain": "  0%|          | 0/800 [00:00<?, ?it/s]",
      "application/vnd.jupyter.widget-view+json": {
       "version_major": 2,
       "version_minor": 0,
       "model_id": "2e31ba1e748748eea0c6d5c329da2140"
      }
     },
     "metadata": {},
     "output_type": "display_data"
    },
    {
     "data": {
      "text/plain": "  0%|          | 0/800 [00:00<?, ?it/s]",
      "application/vnd.jupyter.widget-view+json": {
       "version_major": 2,
       "version_minor": 0,
       "model_id": "5da5b80a1f0344bb84d176ee4b7e2c75"
      }
     },
     "metadata": {},
     "output_type": "display_data"
    },
    {
     "data": {
      "text/plain": "  0%|          | 0/800 [00:00<?, ?it/s]",
      "application/vnd.jupyter.widget-view+json": {
       "version_major": 2,
       "version_minor": 0,
       "model_id": "a3580b95b4714ae99a03949d65ca555d"
      }
     },
     "metadata": {},
     "output_type": "display_data"
    },
    {
     "data": {
      "text/plain": "  0%|          | 0/800 [00:00<?, ?it/s]",
      "application/vnd.jupyter.widget-view+json": {
       "version_major": 2,
       "version_minor": 0,
       "model_id": "54d6717dbe1d416788744fad0d8a7c49"
      }
     },
     "metadata": {},
     "output_type": "display_data"
    },
    {
     "data": {
      "text/plain": "  0%|          | 0/800 [00:00<?, ?it/s]",
      "application/vnd.jupyter.widget-view+json": {
       "version_major": 2,
       "version_minor": 0,
       "model_id": "2dbc81246747430ab4f5986721a5a044"
      }
     },
     "metadata": {},
     "output_type": "display_data"
    },
    {
     "data": {
      "text/plain": "  0%|          | 0/800 [00:00<?, ?it/s]",
      "application/vnd.jupyter.widget-view+json": {
       "version_major": 2,
       "version_minor": 0,
       "model_id": "4070e480a79e42098588e47db472a6fb"
      }
     },
     "metadata": {},
     "output_type": "display_data"
    },
    {
     "data": {
      "text/plain": "  0%|          | 0/800 [00:00<?, ?it/s]",
      "application/vnd.jupyter.widget-view+json": {
       "version_major": 2,
       "version_minor": 0,
       "model_id": "1761e218bcf64f038078c0692bf547e0"
      }
     },
     "metadata": {},
     "output_type": "display_data"
    },
    {
     "data": {
      "text/plain": "  0%|          | 0/800 [00:00<?, ?it/s]",
      "application/vnd.jupyter.widget-view+json": {
       "version_major": 2,
       "version_minor": 0,
       "model_id": "1dc29b50942245aa9e6e88cd4c726bdd"
      }
     },
     "metadata": {},
     "output_type": "display_data"
    },
    {
     "data": {
      "text/plain": "  0%|          | 0/800 [00:00<?, ?it/s]",
      "application/vnd.jupyter.widget-view+json": {
       "version_major": 2,
       "version_minor": 0,
       "model_id": "a0a41352b2bd44bbbad952c425fc38f1"
      }
     },
     "metadata": {},
     "output_type": "display_data"
    },
    {
     "data": {
      "text/plain": "  0%|          | 0/800 [00:00<?, ?it/s]",
      "application/vnd.jupyter.widget-view+json": {
       "version_major": 2,
       "version_minor": 0,
       "model_id": "b4aae612a5824fb0912107659b1ab5fd"
      }
     },
     "metadata": {},
     "output_type": "display_data"
    },
    {
     "data": {
      "text/plain": "  0%|          | 0/800 [00:00<?, ?it/s]",
      "application/vnd.jupyter.widget-view+json": {
       "version_major": 2,
       "version_minor": 0,
       "model_id": "335353d2dce14f3fb93ba5ba8e48e78a"
      }
     },
     "metadata": {},
     "output_type": "display_data"
    },
    {
     "data": {
      "text/plain": "  0%|          | 0/800 [00:00<?, ?it/s]",
      "application/vnd.jupyter.widget-view+json": {
       "version_major": 2,
       "version_minor": 0,
       "model_id": "198ef638f0724b5e88859118d5d1c784"
      }
     },
     "metadata": {},
     "output_type": "display_data"
    },
    {
     "data": {
      "text/plain": "  0%|          | 0/800 [00:00<?, ?it/s]",
      "application/vnd.jupyter.widget-view+json": {
       "version_major": 2,
       "version_minor": 0,
       "model_id": "db486b4d023542049ee7af8ea5f51e81"
      }
     },
     "metadata": {},
     "output_type": "display_data"
    },
    {
     "data": {
      "text/plain": "  0%|          | 0/800 [00:00<?, ?it/s]",
      "application/vnd.jupyter.widget-view+json": {
       "version_major": 2,
       "version_minor": 0,
       "model_id": "b149449ff9f54fb7a0a0d2c4447622a3"
      }
     },
     "metadata": {},
     "output_type": "display_data"
    },
    {
     "data": {
      "text/plain": "  0%|          | 0/800 [00:00<?, ?it/s]",
      "application/vnd.jupyter.widget-view+json": {
       "version_major": 2,
       "version_minor": 0,
       "model_id": "b02d9b81630643469e9a3db7093ae7b0"
      }
     },
     "metadata": {},
     "output_type": "display_data"
    },
    {
     "data": {
      "text/plain": "  0%|          | 0/800 [00:00<?, ?it/s]",
      "application/vnd.jupyter.widget-view+json": {
       "version_major": 2,
       "version_minor": 0,
       "model_id": "f9d5ba5a8f8d452a8508720bed96b929"
      }
     },
     "metadata": {},
     "output_type": "display_data"
    },
    {
     "data": {
      "text/plain": "  0%|          | 0/800 [00:00<?, ?it/s]",
      "application/vnd.jupyter.widget-view+json": {
       "version_major": 2,
       "version_minor": 0,
       "model_id": "a0edbcb76f634703af6d2dbc450111aa"
      }
     },
     "metadata": {},
     "output_type": "display_data"
    },
    {
     "data": {
      "text/plain": "  0%|          | 0/800 [00:00<?, ?it/s]",
      "application/vnd.jupyter.widget-view+json": {
       "version_major": 2,
       "version_minor": 0,
       "model_id": "89171125d9c044c9af8a0fc3f475743f"
      }
     },
     "metadata": {},
     "output_type": "display_data"
    },
    {
     "data": {
      "text/plain": "  0%|          | 0/800 [00:00<?, ?it/s]",
      "application/vnd.jupyter.widget-view+json": {
       "version_major": 2,
       "version_minor": 0,
       "model_id": "716ca7562c964d39a36fc68e33974888"
      }
     },
     "metadata": {},
     "output_type": "display_data"
    },
    {
     "data": {
      "text/plain": "  0%|          | 0/800 [00:00<?, ?it/s]",
      "application/vnd.jupyter.widget-view+json": {
       "version_major": 2,
       "version_minor": 0,
       "model_id": "e1a2aa2f64b64fbd916465be10d57d23"
      }
     },
     "metadata": {},
     "output_type": "display_data"
    },
    {
     "data": {
      "text/plain": "  0%|          | 0/800 [00:00<?, ?it/s]",
      "application/vnd.jupyter.widget-view+json": {
       "version_major": 2,
       "version_minor": 0,
       "model_id": "6f3eb9569bd7486cb3e48241635997a8"
      }
     },
     "metadata": {},
     "output_type": "display_data"
    },
    {
     "data": {
      "text/plain": "  0%|          | 0/800 [00:00<?, ?it/s]",
      "application/vnd.jupyter.widget-view+json": {
       "version_major": 2,
       "version_minor": 0,
       "model_id": "13dc0f321da046f9a399958077538248"
      }
     },
     "metadata": {},
     "output_type": "display_data"
    },
    {
     "data": {
      "text/plain": "  0%|          | 0/800 [00:00<?, ?it/s]",
      "application/vnd.jupyter.widget-view+json": {
       "version_major": 2,
       "version_minor": 0,
       "model_id": "f7afaf255fdf48829907671f2b8254ae"
      }
     },
     "metadata": {},
     "output_type": "display_data"
    },
    {
     "data": {
      "text/plain": "  0%|          | 0/800 [00:00<?, ?it/s]",
      "application/vnd.jupyter.widget-view+json": {
       "version_major": 2,
       "version_minor": 0,
       "model_id": "ae295b2dedf84f7cbd1371f4f080db87"
      }
     },
     "metadata": {},
     "output_type": "display_data"
    },
    {
     "data": {
      "text/plain": "  0%|          | 0/800 [00:00<?, ?it/s]",
      "application/vnd.jupyter.widget-view+json": {
       "version_major": 2,
       "version_minor": 0,
       "model_id": "71f9cdeeee9c48d5b88e8dbc69f2563c"
      }
     },
     "metadata": {},
     "output_type": "display_data"
    },
    {
     "data": {
      "text/plain": "  0%|          | 0/800 [00:00<?, ?it/s]",
      "application/vnd.jupyter.widget-view+json": {
       "version_major": 2,
       "version_minor": 0,
       "model_id": "383bab9b15db4187a5c6bd26014522b5"
      }
     },
     "metadata": {},
     "output_type": "display_data"
    },
    {
     "data": {
      "text/plain": "  0%|          | 0/800 [00:00<?, ?it/s]",
      "application/vnd.jupyter.widget-view+json": {
       "version_major": 2,
       "version_minor": 0,
       "model_id": "c0ff08f9b55e42c0a69d1138582eda1e"
      }
     },
     "metadata": {},
     "output_type": "display_data"
    },
    {
     "data": {
      "text/plain": "  0%|          | 0/800 [00:00<?, ?it/s]",
      "application/vnd.jupyter.widget-view+json": {
       "version_major": 2,
       "version_minor": 0,
       "model_id": "b99798ffcadd4b1ca9b2530715a18e20"
      }
     },
     "metadata": {},
     "output_type": "display_data"
    },
    {
     "data": {
      "text/plain": "  0%|          | 0/800 [00:00<?, ?it/s]",
      "application/vnd.jupyter.widget-view+json": {
       "version_major": 2,
       "version_minor": 0,
       "model_id": "caea7791b53146f8a735ddd40de2857d"
      }
     },
     "metadata": {},
     "output_type": "display_data"
    },
    {
     "data": {
      "text/plain": "  0%|          | 0/800 [00:00<?, ?it/s]",
      "application/vnd.jupyter.widget-view+json": {
       "version_major": 2,
       "version_minor": 0,
       "model_id": "9b0ea72de3bb4a468cf5b023050a0308"
      }
     },
     "metadata": {},
     "output_type": "display_data"
    },
    {
     "data": {
      "text/plain": "  0%|          | 0/800 [00:00<?, ?it/s]",
      "application/vnd.jupyter.widget-view+json": {
       "version_major": 2,
       "version_minor": 0,
       "model_id": "11547b0074a745ca91e15503e7d969ab"
      }
     },
     "metadata": {},
     "output_type": "display_data"
    },
    {
     "data": {
      "text/plain": "  0%|          | 0/800 [00:00<?, ?it/s]",
      "application/vnd.jupyter.widget-view+json": {
       "version_major": 2,
       "version_minor": 0,
       "model_id": "a59be5cec6d646679c1c7b19ae9213f2"
      }
     },
     "metadata": {},
     "output_type": "display_data"
    },
    {
     "data": {
      "text/plain": "  0%|          | 0/800 [00:00<?, ?it/s]",
      "application/vnd.jupyter.widget-view+json": {
       "version_major": 2,
       "version_minor": 0,
       "model_id": "53867d50fb3f4034a7b67c8fe57b31b7"
      }
     },
     "metadata": {},
     "output_type": "display_data"
    },
    {
     "data": {
      "text/plain": "  0%|          | 0/800 [00:00<?, ?it/s]",
      "application/vnd.jupyter.widget-view+json": {
       "version_major": 2,
       "version_minor": 0,
       "model_id": "9a94d136ec7f4f9ca7052f782cdf8685"
      }
     },
     "metadata": {},
     "output_type": "display_data"
    },
    {
     "data": {
      "text/plain": "  0%|          | 0/800 [00:00<?, ?it/s]",
      "application/vnd.jupyter.widget-view+json": {
       "version_major": 2,
       "version_minor": 0,
       "model_id": "ea12b3602ae44a0e9eb4075a0a885433"
      }
     },
     "metadata": {},
     "output_type": "display_data"
    },
    {
     "data": {
      "text/plain": "  0%|          | 0/800 [00:00<?, ?it/s]",
      "application/vnd.jupyter.widget-view+json": {
       "version_major": 2,
       "version_minor": 0,
       "model_id": "5db67d76340e4835b8975076917d51ef"
      }
     },
     "metadata": {},
     "output_type": "display_data"
    },
    {
     "data": {
      "text/plain": "  0%|          | 0/800 [00:00<?, ?it/s]",
      "application/vnd.jupyter.widget-view+json": {
       "version_major": 2,
       "version_minor": 0,
       "model_id": "1c163644c6c24947bf67e884d2ef5ff8"
      }
     },
     "metadata": {},
     "output_type": "display_data"
    },
    {
     "data": {
      "text/plain": "  0%|          | 0/800 [00:00<?, ?it/s]",
      "application/vnd.jupyter.widget-view+json": {
       "version_major": 2,
       "version_minor": 0,
       "model_id": "071c0ccf47bd4480acffd3b1464e9821"
      }
     },
     "metadata": {},
     "output_type": "display_data"
    },
    {
     "data": {
      "text/plain": "  0%|          | 0/800 [00:00<?, ?it/s]",
      "application/vnd.jupyter.widget-view+json": {
       "version_major": 2,
       "version_minor": 0,
       "model_id": "a2cb9d963d124c17a434500ae2e9a88c"
      }
     },
     "metadata": {},
     "output_type": "display_data"
    },
    {
     "data": {
      "text/plain": "  0%|          | 0/800 [00:00<?, ?it/s]",
      "application/vnd.jupyter.widget-view+json": {
       "version_major": 2,
       "version_minor": 0,
       "model_id": "0eb8f98f8cc24d3e88fb52cf6f8a8e04"
      }
     },
     "metadata": {},
     "output_type": "display_data"
    },
    {
     "data": {
      "text/plain": "  0%|          | 0/800 [00:00<?, ?it/s]",
      "application/vnd.jupyter.widget-view+json": {
       "version_major": 2,
       "version_minor": 0,
       "model_id": "b08da9fa29ba4f74801354c86b7aa970"
      }
     },
     "metadata": {},
     "output_type": "display_data"
    },
    {
     "data": {
      "text/plain": "  0%|          | 0/800 [00:00<?, ?it/s]",
      "application/vnd.jupyter.widget-view+json": {
       "version_major": 2,
       "version_minor": 0,
       "model_id": "3d2fa35e985344b9bdc600f83095b005"
      }
     },
     "metadata": {},
     "output_type": "display_data"
    },
    {
     "data": {
      "text/plain": "  0%|          | 0/800 [00:00<?, ?it/s]",
      "application/vnd.jupyter.widget-view+json": {
       "version_major": 2,
       "version_minor": 0,
       "model_id": "99e3f1436732476daf475dfcbd4fb7cd"
      }
     },
     "metadata": {},
     "output_type": "display_data"
    },
    {
     "data": {
      "text/plain": "  0%|          | 0/800 [00:00<?, ?it/s]",
      "application/vnd.jupyter.widget-view+json": {
       "version_major": 2,
       "version_minor": 0,
       "model_id": "244f397872534716a6bb6639ed62868b"
      }
     },
     "metadata": {},
     "output_type": "display_data"
    },
    {
     "data": {
      "text/plain": "  0%|          | 0/800 [00:00<?, ?it/s]",
      "application/vnd.jupyter.widget-view+json": {
       "version_major": 2,
       "version_minor": 0,
       "model_id": "8977b28ea05c407280e3112bf14ca04a"
      }
     },
     "metadata": {},
     "output_type": "display_data"
    },
    {
     "data": {
      "text/plain": "  0%|          | 0/800 [00:00<?, ?it/s]",
      "application/vnd.jupyter.widget-view+json": {
       "version_major": 2,
       "version_minor": 0,
       "model_id": "b23519d6e6a94b76be8b571832613f46"
      }
     },
     "metadata": {},
     "output_type": "display_data"
    },
    {
     "data": {
      "text/plain": "  0%|          | 0/800 [00:00<?, ?it/s]",
      "application/vnd.jupyter.widget-view+json": {
       "version_major": 2,
       "version_minor": 0,
       "model_id": "fdc1680c2ba3402481415f0c04a8e427"
      }
     },
     "metadata": {},
     "output_type": "display_data"
    },
    {
     "data": {
      "text/plain": "  0%|          | 0/800 [00:00<?, ?it/s]",
      "application/vnd.jupyter.widget-view+json": {
       "version_major": 2,
       "version_minor": 0,
       "model_id": "3311fb90317447aaa5ce5c2c5cbb9287"
      }
     },
     "metadata": {},
     "output_type": "display_data"
    },
    {
     "data": {
      "text/plain": "  0%|          | 0/800 [00:00<?, ?it/s]",
      "application/vnd.jupyter.widget-view+json": {
       "version_major": 2,
       "version_minor": 0,
       "model_id": "76a65b9914ce41c18a3b5c1f0cca54c3"
      }
     },
     "metadata": {},
     "output_type": "display_data"
    },
    {
     "data": {
      "text/plain": "  0%|          | 0/800 [00:00<?, ?it/s]",
      "application/vnd.jupyter.widget-view+json": {
       "version_major": 2,
       "version_minor": 0,
       "model_id": "d7c6d02db66e4f869aae445d0be5cc5d"
      }
     },
     "metadata": {},
     "output_type": "display_data"
    },
    {
     "data": {
      "text/plain": "  0%|          | 0/800 [00:00<?, ?it/s]",
      "application/vnd.jupyter.widget-view+json": {
       "version_major": 2,
       "version_minor": 0,
       "model_id": "d36f1ee1d03749f8a2d35df22406844c"
      }
     },
     "metadata": {},
     "output_type": "display_data"
    },
    {
     "data": {
      "text/plain": "  0%|          | 0/800 [00:00<?, ?it/s]",
      "application/vnd.jupyter.widget-view+json": {
       "version_major": 2,
       "version_minor": 0,
       "model_id": "01571fc3d9f6413fa6e9e880f11f3d51"
      }
     },
     "metadata": {},
     "output_type": "display_data"
    },
    {
     "data": {
      "text/plain": "  0%|          | 0/800 [00:00<?, ?it/s]",
      "application/vnd.jupyter.widget-view+json": {
       "version_major": 2,
       "version_minor": 0,
       "model_id": "b984dabaaffd4970b17a41e587960c6f"
      }
     },
     "metadata": {},
     "output_type": "display_data"
    },
    {
     "data": {
      "text/plain": "  0%|          | 0/800 [00:00<?, ?it/s]",
      "application/vnd.jupyter.widget-view+json": {
       "version_major": 2,
       "version_minor": 0,
       "model_id": "fade34ecdf5e4f17aa8b1cc62a9f0866"
      }
     },
     "metadata": {},
     "output_type": "display_data"
    },
    {
     "data": {
      "text/plain": "  0%|          | 0/800 [00:00<?, ?it/s]",
      "application/vnd.jupyter.widget-view+json": {
       "version_major": 2,
       "version_minor": 0,
       "model_id": "3858f1e5b8e440188f05070f963c6102"
      }
     },
     "metadata": {},
     "output_type": "display_data"
    },
    {
     "data": {
      "text/plain": "  0%|          | 0/800 [00:00<?, ?it/s]",
      "application/vnd.jupyter.widget-view+json": {
       "version_major": 2,
       "version_minor": 0,
       "model_id": "38a4be5693f74bfc88c20875e2d64fef"
      }
     },
     "metadata": {},
     "output_type": "display_data"
    },
    {
     "data": {
      "text/plain": "  0%|          | 0/800 [00:00<?, ?it/s]",
      "application/vnd.jupyter.widget-view+json": {
       "version_major": 2,
       "version_minor": 0,
       "model_id": "8689759e482844fcbad49278229de123"
      }
     },
     "metadata": {},
     "output_type": "display_data"
    },
    {
     "data": {
      "text/plain": "  0%|          | 0/800 [00:00<?, ?it/s]",
      "application/vnd.jupyter.widget-view+json": {
       "version_major": 2,
       "version_minor": 0,
       "model_id": "5cb56cf0994e43b9860e7eaa777f2e13"
      }
     },
     "metadata": {},
     "output_type": "display_data"
    },
    {
     "data": {
      "text/plain": "  0%|          | 0/800 [00:00<?, ?it/s]",
      "application/vnd.jupyter.widget-view+json": {
       "version_major": 2,
       "version_minor": 0,
       "model_id": "80b386c55f814545ac2ca6fdfd350b28"
      }
     },
     "metadata": {},
     "output_type": "display_data"
    }
   ],
   "source": [
    "# 定义一个workflow\n",
    "# 每训练100次，保存模型，保存输出\n",
    "total_epoch = 2000\n",
    "epoch_step = 100\n",
    "for i in range(10):\n",
    "    training_bce(gen, disc, z_dim, epoch_step, my_dataloader, device, disc_opt, gen_opt,\n",
    "                 display_step)\n",
    "    total_epoch += epoch_step\n",
    "    pro_out.save_model(gen,disc,'yousef', total_epoch)"
   ],
   "metadata": {
    "collapsed": false,
    "pycharm": {
     "name": "#%%\n"
    }
   }
  },
  {
   "cell_type": "code",
   "execution_count": null,
   "outputs": [],
   "source": [],
   "metadata": {
    "collapsed": false,
    "pycharm": {
     "name": "#%%\n"
    }
   }
  }
 ],
 "metadata": {
  "kernelspec": {
   "display_name": "Python 3",
   "language": "python",
   "name": "python3"
  },
  "language_info": {
   "codemirror_mode": {
    "name": "ipython",
    "version": 2
   },
   "file_extension": ".py",
   "mimetype": "text/x-python",
   "name": "python",
   "nbconvert_exporter": "python",
   "pygments_lexer": "ipython2",
   "version": "2.7.6"
  }
 },
 "nbformat": 4,
 "nbformat_minor": 0
}
{
 "cells": [
  {
   "cell_type": "code",
   "execution_count": 1,
   "outputs": [],
   "source": [
    "import torch\n",
    "import matplotlib.pyplot as plt\n",
    "import yousef_model as model\n",
    "import Naicheng.res.process_data.process_output as pro_out\n",
    "import Naicheng.res.process_data.process_raw_data as pr\n",
    "import Naicheng.res.process_data.dire_and_coor as dc\n",
    "import Naicheng.res.process_data.loop_overlap as lp\n",
    "from Naicheng.res.process_data.dataset import tensor_dataset\n",
    "from torch.utils.data import DataLoader\n",
    "import seaborn as sns\n",
    "import numpy as np\n",
    "import json"
   ],
   "metadata": {
    "collapsed": false,
    "pycharm": {
     "name": "#%%\n"
    }
   }
  },
  {
   "cell_type": "markdown",
   "source": [
    "1. read raw data\n",
    "2. calculate the n to n distance of input polymer"
   ],
   "metadata": {
    "collapsed": false
   }
  },
  {
   "cell_type": "code",
   "execution_count": 2,
   "outputs": [],
   "source": [
    "input_coorinate = pr.read_coordinate(16, '../../data/Coordinates.dat')\n",
    "input_three_dirc = dc.coordinates_directions_three(input_coorinate)"
   ],
   "metadata": {
    "collapsed": false,
    "pycharm": {
     "name": "#%%\n"
    }
   }
  },
  {
   "cell_type": "code",
   "execution_count": 3,
   "outputs": [],
   "source": [
    "epoch = 4000\n",
    "name = f'models/yousef_gan_{epoch}.pth.tar'\n",
    "gen = model.GeneratorNet()\n",
    "check_point = torch.load(name)\n",
    "gen.load_state_dict(check_point['gen_state_dict'])\n",
    "noise = model.noise(8)\n",
    "output = gen(noise).data.numpy()\n",
    "output_direction= pro_out.slice_directions(output)\n",
    "output_coor = dc.direction_coordinate_three(output_direction)\n",
    "num_ite = 2000\n",
    "output_direction = np.zeros([num_ite * 8, 15, 1])\n",
    "for j in range(num_ite):\n",
    "    # get output\n",
    "    noise = model.noise(8)\n",
    "    output = gen(noise).data.numpy()\n",
    "    # slice the output to a (n ,15 ,1)\n",
    "    output_direction[8 * j : 8 * (j + 1)] = pro_out.slice_directions(output)\n",
    "output_coor = dc.direction_coordinate_three(output_direction)"
   ],
   "metadata": {
    "collapsed": false,
    "pycharm": {
     "name": "#%%\n"
    }
   }
  },
  {
   "cell_type": "markdown",
   "source": [
    "Remove duplicated"
   ],
   "metadata": {
    "collapsed": false,
    "pycharm": {
     "name": "#%% md\n"
    }
   }
  },
  {
   "cell_type": "code",
   "execution_count": 4,
   "outputs": [],
   "source": [
    "remove_str, remove_index = lp.remove_duplicated(output_direction)"
   ],
   "metadata": {
    "collapsed": false,
    "pycharm": {
     "name": "#%%\n"
    }
   }
  },
  {
   "cell_type": "code",
   "execution_count": 5,
   "outputs": [],
   "source": [
    "unique_coor, unique_direction = lp.get_unique_coor(remove_index, output_coor, output_direction)"
   ],
   "metadata": {
    "collapsed": false,
    "pycharm": {
     "name": "#%%\n"
    }
   }
  },
  {
   "cell_type": "code",
   "execution_count": 25,
   "outputs": [
    {
     "name": "stdout",
     "output_type": "stream",
     "text": [
      "7817\n"
     ]
    }
   ],
   "source": [
    "overlap = lp.check_overlap(input_three_dirc ,unique_direction)\n",
    "print (overlap)"
   ],
   "metadata": {
    "collapsed": false,
    "pycharm": {
     "name": "#%%\n"
    }
   }
  },
  {
   "cell_type": "markdown",
   "source": [
    "get the length of loop"
   ],
   "metadata": {
    "collapsed": false,
    "pycharm": {
     "name": "#%% md\n"
    }
   }
  },
  {
   "cell_type": "code",
   "execution_count": 7,
   "outputs": [],
   "source": [
    "loop_all = []\n",
    "for i in range(len(unique_coor)):\n",
    "    if lp.check_fold_cross(unique_coor[i]):\n",
    "        loop_all += lp.loop_length(unique_coor[i])"
   ],
   "metadata": {
    "collapsed": false,
    "pycharm": {
     "name": "#%%\n"
    }
   }
  },
  {
   "cell_type": "code",
   "execution_count": 8,
   "outputs": [],
   "source": [
    "a = {}\n",
    "for i in loop_all:\n",
    "    if loop_all.count(i)>1:\n",
    "        a[i] = loop_all.count(i)"
   ],
   "metadata": {
    "collapsed": false,
    "pycharm": {
     "name": "#%%\n"
    }
   }
  },
  {
   "cell_type": "code",
   "execution_count": 9,
   "outputs": [
    {
     "name": "stdout",
     "output_type": "stream",
     "text": [
      "ratio of loop with length 4 is 0.15072483176537546\n",
      "ratio of loop with length 6 is 0.15447453881951187\n",
      "ratio of loop with length 8 is 0.12698784693160134\n",
      "ratio of loop with length 10 is 0.0835649000636111\n",
      "ratio of loop with length 12 is 0.0504257479884384\n",
      "ratio of loop with length 14 is 0.02325153168837256\n",
      "\n"
     ]
    }
   ],
   "source": [
    "print (f'ratio of loop with length 4 is {a[4] / len(unique_coor)}\\n'\n",
    "       f'ratio of loop with length 6 is {a[6]/ len(unique_coor)}\\n'\n",
    "       f'ratio of loop with length 8 is {a[8]/ len(unique_coor)}\\n'\n",
    "       f'ratio of loop with length 10 is {a[10]/ len(unique_coor)}\\n'\n",
    "       f'ratio of loop with length 12 is {a[12]/ len(unique_coor)}\\n'\n",
    "       f'ratio of loop with length 14 is {a[14]/ len(unique_coor)}\\n')"
   ],
   "metadata": {
    "collapsed": false,
    "pycharm": {
     "name": "#%%\n"
    }
   }
  },
  {
   "cell_type": "markdown",
   "source": [
    "Get the rg2, rg4 and rg6 for unique, self-avoiding generating polymer"
   ],
   "metadata": {
    "collapsed": false,
    "pycharm": {
     "name": "#%% md\n"
    }
   }
  },
  {
   "cell_type": "code",
   "execution_count": 10,
   "outputs": [
    {
     "ename": "ValueError",
     "evalue": "setting an array element with a sequence.",
     "output_type": "error",
     "traceback": [
      "\u001B[0;31m---------------------------------------------------------------------------\u001B[0m",
      "\u001B[0;31mTypeError\u001B[0m                                 Traceback (most recent call last)",
      "\u001B[0;31mTypeError\u001B[0m: only size-1 arrays can be converted to Python scalars",
      "\nThe above exception was the direct cause of the following exception:\n",
      "\u001B[0;31mValueError\u001B[0m                                Traceback (most recent call last)",
      "\u001B[0;32m<ipython-input-10-656470eb8c0d>\u001B[0m in \u001B[0;36m<module>\u001B[0;34m\u001B[0m\n\u001B[1;32m      3\u001B[0m \u001B[0mself_avoid_polymers\u001B[0m \u001B[0;34m=\u001B[0m \u001B[0mlp\u001B[0m\u001B[0;34m.\u001B[0m\u001B[0marrange_self_avoid_polymer\u001B[0m\u001B[0;34m(\u001B[0m\u001B[0munique_coor\u001B[0m\u001B[0;34m,\u001B[0m \u001B[0mself_avoid\u001B[0m\u001B[0;34m)\u001B[0m\u001B[0;34m\u001B[0m\u001B[0;34m\u001B[0m\u001B[0m\n\u001B[1;32m      4\u001B[0m \u001B[0moverlap\u001B[0m \u001B[0;34m=\u001B[0m \u001B[0mlp\u001B[0m\u001B[0;34m.\u001B[0m\u001B[0mcheck_overlap\u001B[0m\u001B[0;34m(\u001B[0m\u001B[0minput_three_dirc\u001B[0m \u001B[0;34m,\u001B[0m\u001B[0mself_avoid_polymers\u001B[0m\u001B[0;34m)\u001B[0m\u001B[0;34m\u001B[0m\u001B[0;34m\u001B[0m\u001B[0m\n\u001B[0;32m----> 5\u001B[0;31m \u001B[0mrg2\u001B[0m\u001B[0;34m,\u001B[0m \u001B[0mrg4\u001B[0m\u001B[0;34m,\u001B[0m \u001B[0mrg6\u001B[0m \u001B[0;34m=\u001B[0m \u001B[0mrg\u001B[0m\u001B[0;34m.\u001B[0m\u001B[0mrg2\u001B[0m\u001B[0;34m(\u001B[0m\u001B[0mself_avoid_polymers\u001B[0m\u001B[0;34m)\u001B[0m\u001B[0;34m\u001B[0m\u001B[0;34m\u001B[0m\u001B[0m\n\u001B[0m",
      "\u001B[0;32m~/Developer/intro_GANs/gansForPolymer/Naicheng/res/process_data/rg2.py\u001B[0m in \u001B[0;36mrg2\u001B[0;34m(coordinate)\u001B[0m\n\u001B[1;32m     10\u001B[0m     \u001B[0my\u001B[0m \u001B[0;34m=\u001B[0m \u001B[0mnp\u001B[0m\u001B[0;34m.\u001B[0m\u001B[0mzeros\u001B[0m\u001B[0;34m(\u001B[0m\u001B[0;36m16\u001B[0m\u001B[0;34m)\u001B[0m\u001B[0;34m\u001B[0m\u001B[0;34m\u001B[0m\u001B[0m\n\u001B[1;32m     11\u001B[0m     \u001B[0;32mfor\u001B[0m \u001B[0mi\u001B[0m \u001B[0;32min\u001B[0m \u001B[0mrange\u001B[0m\u001B[0;34m(\u001B[0m\u001B[0;36m16\u001B[0m\u001B[0;34m)\u001B[0m\u001B[0;34m:\u001B[0m\u001B[0;34m\u001B[0m\u001B[0;34m\u001B[0m\u001B[0m\n\u001B[0;32m---> 12\u001B[0;31m         \u001B[0mx\u001B[0m\u001B[0;34m[\u001B[0m\u001B[0mi\u001B[0m\u001B[0;34m]\u001B[0m \u001B[0;34m=\u001B[0m \u001B[0mcoordinate\u001B[0m\u001B[0;34m[\u001B[0m\u001B[0mi\u001B[0m\u001B[0;34m]\u001B[0m\u001B[0;34m[\u001B[0m\u001B[0;36m0\u001B[0m\u001B[0;34m]\u001B[0m\u001B[0;34m\u001B[0m\u001B[0;34m\u001B[0m\u001B[0m\n\u001B[0m\u001B[1;32m     13\u001B[0m         \u001B[0my\u001B[0m\u001B[0;34m[\u001B[0m\u001B[0mi\u001B[0m\u001B[0;34m]\u001B[0m \u001B[0;34m=\u001B[0m \u001B[0mcoordinate\u001B[0m\u001B[0;34m[\u001B[0m\u001B[0mi\u001B[0m\u001B[0;34m]\u001B[0m\u001B[0;34m[\u001B[0m\u001B[0;36m1\u001B[0m\u001B[0;34m]\u001B[0m\u001B[0;34m\u001B[0m\u001B[0;34m\u001B[0m\u001B[0m\n\u001B[1;32m     14\u001B[0m     \u001B[0mrg_2\u001B[0m \u001B[0;34m=\u001B[0m \u001B[0mnp\u001B[0m\u001B[0;34m.\u001B[0m\u001B[0mmean\u001B[0m\u001B[0;34m(\u001B[0m\u001B[0;34m(\u001B[0m\u001B[0mx\u001B[0m \u001B[0;34m-\u001B[0m \u001B[0mnp\u001B[0m\u001B[0;34m.\u001B[0m\u001B[0mmean\u001B[0m\u001B[0;34m(\u001B[0m\u001B[0mx\u001B[0m\u001B[0;34m)\u001B[0m\u001B[0;34m)\u001B[0m \u001B[0;34m**\u001B[0m \u001B[0;36m2\u001B[0m \u001B[0;34m+\u001B[0m \u001B[0;34m(\u001B[0m\u001B[0my\u001B[0m \u001B[0;34m-\u001B[0m \u001B[0mnp\u001B[0m\u001B[0;34m.\u001B[0m\u001B[0mmean\u001B[0m\u001B[0;34m(\u001B[0m\u001B[0my\u001B[0m\u001B[0;34m)\u001B[0m\u001B[0;34m)\u001B[0m \u001B[0;34m**\u001B[0m \u001B[0;36m2\u001B[0m\u001B[0;34m)\u001B[0m\u001B[0;34m\u001B[0m\u001B[0;34m\u001B[0m\u001B[0m\n",
      "\u001B[0;31mValueError\u001B[0m: setting an array element with a sequence."
     ]
    }
   ],
   "source": [
    "import Naicheng.res.process_data.rg2 as rg\n",
    "fold, cross, self_avoid = lp.count_fold_cross(unique_coor)\n",
    "self_avoid_polymers = lp.arrange_self_avoid_polymer(unique_coor, self_avoid)\n",
    "overlap = lp.check_overlap(input_three_dirc ,self_avoid_polymers)"
   ],
   "metadata": {
    "collapsed": false,
    "pycharm": {
     "name": "#%%\n"
    }
   }
  },
  {
   "cell_type": "code",
   "execution_count": 11,
   "outputs": [],
   "source": [
    "rg2, rg4, rg6 = rg.rg2s(self_avoid_polymers)"
   ],
   "metadata": {
    "collapsed": false,
    "pycharm": {
     "name": "#%%\n"
    }
   }
  },
  {
   "cell_type": "code",
   "execution_count": 14,
   "outputs": [],
   "source": [
    "rg2_input, rg4_input, rg6_input = rg.rg2s(input_coorinate)"
   ],
   "metadata": {
    "collapsed": false,
    "pycharm": {
     "name": "#%%\n"
    }
   }
  },
  {
   "cell_type": "code",
   "execution_count": 27,
   "outputs": [
    {
     "name": "stdout",
     "output_type": "stream",
     "text": [
      "generate 230000 polymers \n",
      "179214 polymers are unique \n",
      "unique ratio is 0.7791913043478261\n",
      "127632 polymers are self avoid, percentage is 0.71217650406776267817 is overlap with input polymer \n",
      "overlap percentage is 6.1246395888178515% \n",
      "rg2 is 7.653341124287013, ratio = 1.1263744794444965,\n",
      "rg4 is 104.16398399097662, ratio = 1.262967284962581\n",
      "rg6 is 1914.5879405084313, ratio = 1.3995039937471718\n"
     ]
    }
   ],
   "source": [
    "print (f'generate {len(output_coor)} polymers \\n'\n",
    "       f'{len(unique_coor)} polymers are unique \\n'\n",
    "       f'unique ratio is {len(unique_coor) / len(output_coor)}\\n'\n",
    "       f'{len(self_avoid_polymers)} polymers are self avoid, percentage is {len(self_avoid_polymers)/ len(unique_coor)}'\n",
    "       f'{overlap} is overlap with input polymer \\n'\n",
    "       f'overlap percentage is {overlap / len(self_avoid_polymers) * 100}% \\n'\n",
    "       f'rg2 is {rg2}, ratio = {rg2/rg2_input},\\n'\n",
    "       f'rg4 is {rg4}, ratio = {rg4/rg4_input}\\n'\n",
    "       f'rg6 is {rg6}, ratio = {rg6/rg6_input}')"
   ],
   "metadata": {
    "collapsed": false,
    "pycharm": {
     "name": "#%%\n"
    }
   }
  },
  {
   "cell_type": "markdown",
   "source": [
    "1. generate 113000 polymers\n",
    "2. remove duplications from generating polymer, remain , the duplication ratio is\n",
    "3. for unique polymers, count loops with different lengths\n",
    "4. remove polymers contains loops(remain self avoid polymers)\n",
    "5. for unique, self avoid generating polymers, check the ratio of overlaping with input data\n",
    "\n"
   ],
   "metadata": {
    "collapsed": false,
    "pycharm": {
     "name": "#%% md\n"
    }
   }
  },
  {
   "cell_type": "code",
   "execution_count": null,
   "outputs": [],
   "source": [],
   "metadata": {
    "collapsed": false,
    "pycharm": {
     "name": "#%%\n"
    }
   }
  }
 ],
 "metadata": {
  "kernelspec": {
   "display_name": "Python 3",
   "language": "python",
   "name": "python3"
  },
  "language_info": {
   "codemirror_mode": {
    "name": "ipython",
    "version": 2
   },
   "file_extension": ".py",
   "mimetype": "text/x-python",
   "name": "python",
   "nbconvert_exporter": "python",
   "pygments_lexer": "ipython2",
   "version": "2.7.6"
  }
 },
 "nbformat": 4,
 "nbformat_minor": 0
}
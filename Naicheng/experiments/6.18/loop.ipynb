{
 "cells": [
  {
   "cell_type": "code",
   "execution_count": 1,
   "metadata": {
    "collapsed": true
   },
   "outputs": [],
   "source": [
    "import torch\n",
    "import matplotlib.pyplot as plt\n",
    "import yousef_model as model\n",
    "import Naicheng.res.process_data.process_output as pro_out\n",
    "import Naicheng.res.process_data.process_raw_data as pr\n",
    "import Naicheng.res.process_data.dire_and_coor as dc\n",
    "from Naicheng.res.process_data.dataset import tensor_dataset\n",
    "import Naicheng.res.process_data.loop_overlap as lp\n",
    "from torch.utils.data import DataLoader\n",
    "import seaborn as sns\n",
    "import numpy as np\n",
    "import json"
   ]
  },
  {
   "cell_type": "code",
   "execution_count": 4,
   "outputs": [],
   "source": [
    "epoch = 4000\n",
    "name = f'models/yousef_gan_{epoch}.pth.tar'\n",
    "gen = model.GeneratorNet()\n",
    "check_point = torch.load(name)\n",
    "gen.load_state_dict(check_point['gen_state_dict'])\n",
    "num_ite = int(100000 // 8 * 1.13)\n",
    "output_direction = np.zeros([num_ite * 8, 15, 1])\n",
    "for j in range(num_ite):\n",
    "    # get output\n",
    "    noise = model.noise(8)\n",
    "    output = gen(noise).data.numpy()\n",
    "    # slice the output to a (n ,15 ,1)\n",
    "    output_direction[8 * j : 8 * (j + 1)] = pro_out.slice_directions(output)\n",
    "output_coor = dc.direction_coordinate_three(output_direction)\n",
    "loop_all = []\n",
    "for k in range(len(output_coor)):\n",
    "    if lp.check_fold_cross(output_coor[k]):\n",
    "        loop_all += lp.loop_length(output_coor[k])"
   ],
   "metadata": {
    "collapsed": false,
    "pycharm": {
     "name": "#%%\n"
    }
   }
  },
  {
   "cell_type": "code",
   "execution_count": 86,
   "outputs": [],
   "source": [
    "\n",
    "\n"
   ],
   "metadata": {
    "collapsed": false,
    "pycharm": {
     "name": "#%%\n"
    }
   }
  }
 ],
 "metadata": {
  "kernelspec": {
   "display_name": "Python 3",
   "language": "python",
   "name": "python3"
  },
  "language_info": {
   "codemirror_mode": {
    "name": "ipython",
    "version": 2
   },
   "file_extension": ".py",
   "mimetype": "text/x-python",
   "name": "python",
   "nbconvert_exporter": "python",
   "pygments_lexer": "ipython2",
   "version": "2.7.6"
  }
 },
 "nbformat": 4,
 "nbformat_minor": 0
}
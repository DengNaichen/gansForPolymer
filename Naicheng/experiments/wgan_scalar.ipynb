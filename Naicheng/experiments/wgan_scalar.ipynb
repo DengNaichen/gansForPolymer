{
 "cells": [
  {
   "cell_type": "code",
   "execution_count": 1,
   "metadata": {
    "collapsed": true
   },
   "outputs": [
    {
     "ename": "ModuleNotFoundError",
     "evalue": "No module named 'functions'",
     "output_type": "error",
     "traceback": [
      "\u001B[0;31m---------------------------------------------------------------------------\u001B[0m",
      "\u001B[0;31mModuleNotFoundError\u001B[0m                       Traceback (most recent call last)",
      "\u001B[0;32m<ipython-input-1-7ce0beb06f4e>\u001B[0m in \u001B[0;36m<module>\u001B[0;34m\u001B[0m\n\u001B[1;32m     13\u001B[0m \u001B[0;32mfrom\u001B[0m \u001B[0mres\u001B[0m\u001B[0;34m.\u001B[0m\u001B[0mprocess_data\u001B[0m \u001B[0;32mimport\u001B[0m \u001B[0mtest_nn\u001B[0m\u001B[0;34m\u001B[0m\u001B[0;34m\u001B[0m\u001B[0m\n\u001B[1;32m     14\u001B[0m \u001B[0;32mimport\u001B[0m \u001B[0mres\u001B[0m\u001B[0;34m.\u001B[0m\u001B[0mprocess_data\u001B[0m\u001B[0;34m.\u001B[0m\u001B[0mprocess_output\u001B[0m \u001B[0;32mas\u001B[0m \u001B[0mout\u001B[0m\u001B[0;34m\u001B[0m\u001B[0;34m\u001B[0m\u001B[0m\n\u001B[0;32m---> 15\u001B[0;31m \u001B[0;32mfrom\u001B[0m \u001B[0mres\u001B[0m\u001B[0;34m.\u001B[0m\u001B[0mwgan\u001B[0m\u001B[0;34m.\u001B[0m\u001B[0mtraining\u001B[0m \u001B[0;32mimport\u001B[0m \u001B[0mTraining\u001B[0m\u001B[0;34m\u001B[0m\u001B[0;34m\u001B[0m\u001B[0m\n\u001B[0m",
      "\u001B[0;32m~/Developer/intro_GANs/gansForPolymer/res/wgan/training.py\u001B[0m in \u001B[0;36m<module>\u001B[0;34m\u001B[0m\n\u001B[1;32m      1\u001B[0m \u001B[0;32mfrom\u001B[0m \u001B[0mtqdm\u001B[0m\u001B[0;34m.\u001B[0m\u001B[0mauto\u001B[0m \u001B[0;32mimport\u001B[0m \u001B[0mtqdm\u001B[0m\u001B[0;34m\u001B[0m\u001B[0;34m\u001B[0m\u001B[0m\n\u001B[0;32m----> 2\u001B[0;31m \u001B[0;32mfrom\u001B[0m \u001B[0mfunctions\u001B[0m \u001B[0;32mimport\u001B[0m \u001B[0mget_noise\u001B[0m\u001B[0;34m,\u001B[0m \u001B[0mget_gradient\u001B[0m\u001B[0;34m,\u001B[0m \u001B[0mget_crit_loss\u001B[0m\u001B[0;34m,\u001B[0m \u001B[0mgradient_penalty\u001B[0m\u001B[0;34m,\u001B[0m \u001B[0mget_gen_loss\u001B[0m\u001B[0;34m\u001B[0m\u001B[0;34m\u001B[0m\u001B[0m\n\u001B[0m\u001B[1;32m      3\u001B[0m \u001B[0;32mimport\u001B[0m \u001B[0mtorch\u001B[0m\u001B[0;34m\u001B[0m\u001B[0;34m\u001B[0m\u001B[0m\n\u001B[1;32m      4\u001B[0m \u001B[0;34m\u001B[0m\u001B[0m\n\u001B[1;32m      5\u001B[0m \u001B[0;34m\u001B[0m\u001B[0m\n",
      "\u001B[0;31mModuleNotFoundError\u001B[0m: No module named 'functions'"
     ]
    }
   ],
   "source": [
    "import numpy as np\n",
    "import torch\n",
    "from torch.utils.data import TensorDataset, DataLoader\n",
    "from torch import nn\n",
    "import seaborn as sns\n",
    "import matplotlib.pyplot as plt\n",
    "import res.process_data.dire_and_coor as dc\n",
    "from res.wgan.genetator import Generator\n",
    "from res.wgan.critic import Critic\n",
    "import res.process_data.process_raw_data as prd\n",
    "from res.process_data.dataset import tensor_dataset\n",
    "from res.wgan.functions import get_noise\n",
    "from res.process_data import test_nn\n",
    "import res.process_data.process_output as out\n",
    "from res.wgan.training import Training"
   ]
  },
  {
   "cell_type": "code",
   "execution_count": 2,
   "outputs": [],
   "source": [
    "# prepare the raw data\n",
    "coordinates_input = prd.read_coordinate(16, \"Coordinates.dat\")\n",
    "directions_input = dc.coor_direction_four(coordinates_input)"
   ],
   "metadata": {
    "collapsed": false,
    "pycharm": {
     "name": "#%%\n"
    }
   }
  },
  {
   "cell_type": "code",
   "execution_count": 3,
   "outputs": [],
   "source": [
    "n_epochs = 20\n",
    "z_dim = 8\n",
    "display_step = 50\n",
    "batch_size = 128\n",
    "lr = 0.0003\n",
    "beta_1 = 0.5\n",
    "beta_2 = 0.999\n",
    "c_lambda = 10\n",
    "crit_repeats = 5\n",
    "device = 'cpu'\n",
    "shuffle = True\n",
    "num_worker = 4\n",
    "pin_memory = True"
   ],
   "metadata": {
    "collapsed": false,
    "pycharm": {
     "name": "#%%\n"
    }
   }
  },
  {
   "cell_type": "code",
   "execution_count": null,
   "outputs": [],
   "source": [
    "input_tensor = torch.Tensor(directions_input)\n",
    "dataset = tensor_dataset(input_tensor, 15, 1)\n",
    "dataloader = DataLoader(dataset= dataset,\n",
    "                            shuffle=shuffle,\n",
    "                            batch_size=batch_size,\n",
    "                            num_workers=num_worker,\n",
    "                            pin_memory=pin_memory)"
   ],
   "metadata": {
    "collapsed": false,
    "pycharm": {
     "name": "#%%\n"
    }
   }
  },
  {
   "cell_type": "code",
   "execution_count": 35,
   "outputs": [],
   "source": [
    "gen = Generator(z_dim, im_dim=15, hidden_dim=16).to(device)\n",
    "crit = Critic(im_dim=15, hidden_dim=16).to(device)\n",
    "gen_opt = torch.optim.Adam(gen.parameters(), lr=lr, betas=(beta_1, beta_2))\n",
    "crit_opt = torch.optim.Adam(crit.parameters(), lr=lr, betas=(beta_1, beta_2))"
   ],
   "metadata": {
    "collapsed": false,
    "pycharm": {
     "name": "#%%\n"
    }
   }
  },
  {
   "cell_type": "code",
   "execution_count": 36,
   "outputs": [],
   "source": [
    "# check the output of generator before training\n",
    "before_training = test_nn.check_output(gen, 100, 16, 8, 15)\n",
    "sns.histplot(data=before_training, kde=True)"
   ],
   "metadata": {
    "collapsed": false,
    "pycharm": {
     "name": "#%%\n"
    }
   }
  },
  {
   "cell_type": "markdown",
   "source": [
    "Train model"
   ],
   "metadata": {
    "collapsed": false,
    "pycharm": {
     "name": "#%% md\n"
    }
   }
  },
  {
   "cell_type": "code",
   "execution_count": 5,
   "outputs": [
    {
     "data": {
      "text/plain": "  0%|          | 0/782 [00:00<?, ?it/s]",
      "application/vnd.jupyter.widget-view+json": {
       "version_major": 2,
       "version_minor": 0,
       "model_id": "9f00de1f88374bf7adcc797e17ee6468"
      }
     },
     "metadata": {},
     "output_type": "display_data"
    },
    {
     "name": "stdout",
     "output_type": "stream",
     "text": [
      "Step 50: Generator loss: -1.9967911380529404, critic loss: 5.058039585113525\n",
      "Step 100: Generator loss: -1.7831411826610566, critic loss: 6.127570647239686\n",
      "Step 150: Generator loss: -2.3487829422950743, critic loss: 6.478100473403931\n",
      "Step 200: Generator loss: -3.554502420425415, critic loss: 6.009412979125976\n",
      "Step 250: Generator loss: -5.009532518386841, critic loss: 5.855951089859008\n",
      "Step 300: Generator loss: -5.667220258712769, critic loss: 5.833225620269776\n",
      "Step 350: Generator loss: -5.719594345092774, critic loss: 5.918779788970946\n",
      "Step 400: Generator loss: -5.871030416488647, critic loss: 5.9281408500671375\n",
      "Step 450: Generator loss: -6.017102937698365, critic loss: 5.917574058532715\n",
      "Step 500: Generator loss: -6.033053436279297, critic loss: 5.951829582214355\n",
      "Step 550: Generator loss: -6.1098432445526125, critic loss: 5.920103181838989\n",
      "Step 600: Generator loss: -6.117670497894287, critic loss: 5.906815475463869\n",
      "Step 650: Generator loss: -6.15238471031189, critic loss: 5.891805131912232\n",
      "Step 700: Generator loss: -6.145177183151245, critic loss: 5.850852287292481\n",
      "Step 750: Generator loss: -6.103354434967041, critic loss: 5.838572650909424\n",
      "Step 800: Generator loss: -6.056820735931397, critic loss: 5.812874023437501\n",
      "Step 850: Generator loss: -6.031256494522094, critic loss: 5.7869712810516365\n",
      "Step 900: Generator loss: -6.026595048904419, critic loss: 5.779363706588746\n",
      "Step 950: Generator loss: -6.041128511428833, critic loss: 5.735488782882692\n",
      "Step 1000: Generator loss: -5.933173656463623, critic loss: 5.71257854270935\n",
      "Step 1050: Generator loss: -6.044763631820679, critic loss: 5.34855969619751\n",
      "Step 1100: Generator loss: -6.345322561264038, critic loss: 4.743711469650268\n",
      "Step 1150: Generator loss: -6.4847630023956295, critic loss: 4.703540012359619\n",
      "Step 1200: Generator loss: -6.553909406661988, critic loss: 4.697314125061036\n",
      "Step 1250: Generator loss: -6.699185733795166, critic loss: 4.824680431365966\n",
      "Step 1300: Generator loss: -7.272997531890869, critic loss: 5.275083765029908\n",
      "Step 1350: Generator loss: -7.239560966491699, critic loss: 5.361317237854005\n",
      "Step 1400: Generator loss: -6.378275833129883, critic loss: 5.167825325012206\n",
      "Step 1450: Generator loss: -5.567983064651489, critic loss: 4.600545368194581\n",
      "Step 1500: Generator loss: -6.175659189224243, critic loss: 5.160135145187379\n",
      "Step 1550: Generator loss: -6.788752193450928, critic loss: 5.333390964508056\n",
      "Step 1600: Generator loss: -6.696216259002686, critic loss: 5.548722728729246\n",
      "Step 1650: Generator loss: -6.871734275817871, critic loss: 5.5291391868591315\n",
      "Step 1700: Generator loss: -7.0164519214630126, critic loss: 5.5445463848114\n",
      "Step 1750: Generator loss: -7.091396780014038, critic loss: 5.563569591522217\n",
      "Step 1800: Generator loss: -7.069713172912597, critic loss: 5.568019506454467\n",
      "Step 1850: Generator loss: -6.838106298446656, critic loss: 5.477147834777831\n",
      "Step 1900: Generator loss: 0.9570547413825988, critic loss: -0.9140771532058716\n",
      "Step 1950: Generator loss: 4.954002714157104, critic loss: -1.420482723712921\n",
      "Step 2000: Generator loss: 5.113994474411011, critic loss: -1.0864288761615752\n",
      "Step 2050: Generator loss: 5.025204582214355, critic loss: -0.8512681019306183\n",
      "Step 2100: Generator loss: 4.671461277008056, critic loss: -0.696962571144104\n",
      "Step 2150: Generator loss: 4.647267055511475, critic loss: -0.5673744783401489\n",
      "Step 2200: Generator loss: 4.619036417007447, critic loss: -0.4688434410095216\n",
      "Step 2250: Generator loss: 4.514584646224976, critic loss: -0.30079316687583924\n",
      "Step 2300: Generator loss: 4.490489053726196, critic loss: -0.21688496589660647\n",
      "Step 2350: Generator loss: 4.3948397541046145, critic loss: -0.11940144014358518\n",
      "Step 2400: Generator loss: 4.389219484329224, critic loss: -0.031648286104202276\n",
      "Step 2450: Generator loss: 4.3115394115448, critic loss: 0.1093597736358643\n",
      "Step 2500: Generator loss: 4.319101486206055, critic loss: 0.17933987092971804\n",
      "Step 2550: Generator loss: 4.273169069290161, critic loss: 0.28466322755813606\n",
      "Step 2600: Generator loss: 4.19808596611023, critic loss: 0.33811308407783514\n",
      "Step 2650: Generator loss: 4.191502876281739, critic loss: 0.3809897537231446\n",
      "Step 2700: Generator loss: 4.157575364112854, critic loss: 0.45513046336174023\n",
      "Step 2750: Generator loss: 4.149746789932251, critic loss: 0.5511314370632173\n",
      "Step 2800: Generator loss: 4.142057647705078, critic loss: 0.605021018743515\n",
      "Step 2850: Generator loss: 4.125589413642883, critic loss: 0.6672393696308138\n",
      "Step 2900: Generator loss: 4.112173547744751, critic loss: 0.7058480763435364\n",
      "Step 2950: Generator loss: 4.122781777381897, critic loss: 0.7652950155735014\n",
      "Step 3000: Generator loss: 4.027769541740417, critic loss: 0.8465390756130217\n",
      "Step 3050: Generator loss: 4.015167579650879, critic loss: 0.8824846899509429\n",
      "Step 3100: Generator loss: 4.0178401660919185, critic loss: 0.9479485867023467\n",
      "Step 3150: Generator loss: 4.058511772155762, critic loss: 0.9670343492031099\n",
      "Step 3200: Generator loss: 3.95490843296051, critic loss: 1.0600375168323517\n",
      "Step 3250: Generator loss: 3.872602033615112, critic loss: 1.124640570163727\n",
      "Step 3300: Generator loss: 3.9002421522140502, critic loss: 1.170786653280258\n",
      "Step 3350: Generator loss: 3.881170015335083, critic loss: 1.2488325846195223\n",
      "Step 3400: Generator loss: 3.6150690746307372, critic loss: 1.5363245642185208\n",
      "Step 3450: Generator loss: 3.1675482606887817, critic loss: 1.9558790564537045\n",
      "Step 3500: Generator loss: 2.8311418008804323, critic loss: 2.329963630199432\n",
      "Step 3550: Generator loss: 2.5655599784851075, critic loss: 2.598867721557617\n",
      "Step 3600: Generator loss: 2.149121172428131, critic loss: 2.8030269355773925\n",
      "Step 3650: Generator loss: 1.7361789059638977, critic loss: 3.103214756011963\n",
      "Step 3700: Generator loss: 1.2458857417106628, critic loss: 3.4505428934097297\n",
      "Step 3750: Generator loss: 0.6953074185550213, critic loss: 3.712333871841431\n",
      "Step 3800: Generator loss: -1.7472731506824493, critic loss: 2.504395432472229\n",
      "Step 3850: Generator loss: -5.044987716674805, critic loss: 4.1371918134689345\n",
      "Step 3900: Generator loss: -5.572946453094483, critic loss: 4.889968503952025\n",
      "Step 3950: Generator loss: -5.783282518386841, critic loss: 5.281505092620851\n",
      "Step 4000: Generator loss: -5.944384708404541, critic loss: 5.477821325302125\n",
      "Step 4050: Generator loss: -6.111060218811035, critic loss: 5.507421792984007\n",
      "Step 4100: Generator loss: -6.174033279418945, critic loss: 5.522915500640869\n",
      "Step 4150: Generator loss: -6.173375787734986, critic loss: 5.552409238815309\n",
      "Step 4200: Generator loss: -6.28780083656311, critic loss: 5.5612091751098625\n",
      "Step 4250: Generator loss: -6.390988187789917, critic loss: 5.567434925079348\n",
      "Step 4300: Generator loss: -6.473497066497803, critic loss: 5.557918788909912\n",
      "Step 4350: Generator loss: -6.469003944396973, critic loss: 5.555186449050904\n",
      "Step 4400: Generator loss: -6.472492179870605, critic loss: 5.548026266098023\n",
      "Step 4450: Generator loss: -6.513419208526611, critic loss: 5.550713500976562\n",
      "Step 4500: Generator loss: -6.606741800308227, critic loss: 5.580928321838378\n",
      "Step 4550: Generator loss: -6.6958990478515625, critic loss: 5.56497088432312\n",
      "Step 4600: Generator loss: -6.737295150756836, critic loss: 5.56250175857544\n",
      "Step 4650: Generator loss: 1.9279102617502213, critic loss: 1.0395278291702272\n",
      "Step 4700: Generator loss: 10.203741416931152, critic loss: -5.588674808979037\n",
      "Step 4750: Generator loss: 2.068528769016266, critic loss: 2.165772157192231\n",
      "Step 4800: Generator loss: 0.8404334062337875, critic loss: 3.837097109794616\n",
      "Step 4850: Generator loss: 0.11862281784415245, critic loss: 4.305093881607057\n",
      "Step 4900: Generator loss: -0.4149234489351511, critic loss: 4.583949961662292\n",
      "Step 4950: Generator loss: -0.7621425032615662, critic loss: 4.837151351928711\n",
      "Step 5000: Generator loss: -0.9460989212989808, critic loss: 5.072811805725097\n",
      "Step 5050: Generator loss: -1.3618803572654725, critic loss: 5.353060497283937\n",
      "Step 5100: Generator loss: -1.522070882320404, critic loss: 5.511663930892946\n",
      "Step 5150: Generator loss: -1.6058116793632506, critic loss: 5.543341888427737\n",
      "Step 5200: Generator loss: -1.5792498469352723, critic loss: 5.555887708663939\n",
      "Step 5250: Generator loss: -0.8606452064216137, critic loss: 1.0418546919822693\n",
      "Step 5300: Generator loss: -0.7892508432269096, critic loss: 0.42535454225540165\n",
      "Step 5350: Generator loss: -3.2401010894775393, critic loss: 0.9492607007026672\n",
      "Step 5400: Generator loss: -2.9840814423561097, critic loss: 1.7527017526626592\n",
      "Step 5450: Generator loss: -3.9965155506134034, critic loss: 1.5895058193206786\n",
      "Step 5500: Generator loss: -4.4350588989257815, critic loss: 1.9225232725143433\n",
      "Step 5550: Generator loss: -5.727208485603333, critic loss: 1.8766206359863284\n",
      "Step 5600: Generator loss: -3.5191052293777467, critic loss: 1.5102248916625975\n",
      "Step 5650: Generator loss: -4.912943711280823, critic loss: 2.0760826106071466\n",
      "Step 5700: Generator loss: -4.856161570549011, critic loss: 1.9480966095924384\n",
      "Step 5750: Generator loss: -6.492245435714722, critic loss: 2.2303992891311646\n",
      "Step 5800: Generator loss: -4.95224057674408, critic loss: 1.969443082332612\n",
      "Step 5850: Generator loss: -4.834878721237183, critic loss: 2.236833854198456\n",
      "Step 5900: Generator loss: -6.058775844573975, critic loss: 2.3802247266769414\n",
      "Step 5950: Generator loss: -5.5610919952392575, critic loss: 2.8290837388038637\n",
      "Step 6000: Generator loss: -2.129424182921648, critic loss: 0.7896391727924349\n",
      "Step 6050: Generator loss: -4.8264499235153195, critic loss: 1.8460594716072083\n",
      "Step 6100: Generator loss: -4.461957635879517, critic loss: 2.158245687007904\n",
      "Step 6150: Generator loss: -2.8699588871002195, critic loss: 1.753331340789795\n",
      "Step 6200: Generator loss: -3.5281231689453123, critic loss: 1.8644395928382875\n",
      "Step 6250: Generator loss: -4.0385037565231325, critic loss: 2.3892073178291326\n",
      "Step 6300: Generator loss: -3.35662157535553, critic loss: 1.9445872416496275\n",
      "Step 6350: Generator loss: -4.582856254577637, critic loss: 2.3398573427200318\n",
      "Step 6400: Generator loss: -4.181564249992371, critic loss: 2.5481574125289925\n",
      "Step 6450: Generator loss: -2.611485357284546, critic loss: 1.6308815004825588\n",
      "Step 6500: Generator loss: -3.248997459411621, critic loss: 2.0258892049789434\n",
      "Step 6550: Generator loss: -4.188068056106568, critic loss: 2.692437408447266\n",
      "Step 6600: Generator loss: 0.4516053971648216, critic loss: -0.5599852628707886\n",
      "Step 6650: Generator loss: -2.7365266847610474, critic loss: 1.0143163728713989\n",
      "Step 6700: Generator loss: -3.9828536319732666, critic loss: 2.4105339703559876\n",
      "Step 6750: Generator loss: -3.550742926597595, critic loss: 2.6351469149589537\n",
      "Step 6800: Generator loss: -4.076297783851624, critic loss: 3.2362492189407353\n",
      "Step 6850: Generator loss: -3.6572076177597044, critic loss: 3.211920653343201\n",
      "Step 6900: Generator loss: -3.668166384100914, critic loss: 2.7841439762115487\n",
      "Step 6950: Generator loss: 1.4454301404953003, critic loss: -0.20732331371307366\n",
      "Step 7000: Generator loss: 0.763281206190586, critic loss: -1.4684362688064576\n",
      "Step 7050: Generator loss: -0.6134178381413221, critic loss: -1.2420958535671236\n",
      "Step 7100: Generator loss: -2.599250898361206, critic loss: 0.7227057359218598\n",
      "Step 7150: Generator loss: -2.6070113039016722, critic loss: 1.7105532035827635\n",
      "Step 7200: Generator loss: -3.2372803354263304, critic loss: 2.4519537372589117\n",
      "Step 7250: Generator loss: -3.8593146657943724, critic loss: 3.0138309907913197\n",
      "Step 7300: Generator loss: -2.4062275958061217, critic loss: 2.1572657747268678\n",
      "Step 7350: Generator loss: -1.5410246562957763, critic loss: 1.8223638319969169\n",
      "Step 7400: Generator loss: -2.6917509770393373, critic loss: 2.079272941112518\n",
      "Step 7450: Generator loss: -2.7820939683914183, critic loss: 2.3173864860534668\n",
      "Step 7500: Generator loss: -0.65142284411937, critic loss: 2.3686933870315556\n",
      "Step 7550: Generator loss: 2.4386280751228333, critic loss: 2.8710964703559876\n",
      "Step 7600: Generator loss: 2.8266120839118956, critic loss: 1.6661063749790193\n",
      "Step 7650: Generator loss: 0.2604192003235221, critic loss: 3.3655621261596673\n",
      "Step 7700: Generator loss: -0.849678925871849, critic loss: 2.9428302707672116\n",
      "Step 7750: Generator loss: -1.027937970161438, critic loss: 3.2399938955307017\n",
      "Step 7800: Generator loss: -1.6325120157003403, critic loss: 1.659601830244065\n",
      "Step 7850: Generator loss: -5.442447595596313, critic loss: 2.1579603862762453\n",
      "Step 7900: Generator loss: -7.114610214233398, critic loss: 3.171026355743409\n",
      "Step 7950: Generator loss: -7.40068696975708, critic loss: 3.3154310121536246\n",
      "Step 8000: Generator loss: -7.998838663101196, critic loss: 3.557983120918274\n",
      "Step 8050: Generator loss: -7.7680504035949705, critic loss: 3.745721756935119\n",
      "Step 8100: Generator loss: -8.193087482452393, critic loss: 3.8449437665939343\n",
      "Step 8150: Generator loss: -8.034572381973266, critic loss: 3.887159325599671\n",
      "Step 8200: Generator loss: -7.6249921512603756, critic loss: 3.780395937919617\n",
      "Step 8250: Generator loss: -7.665777130126953, critic loss: 3.8150241632461555\n",
      "Step 8300: Generator loss: -8.146790752410888, critic loss: 4.184478220939636\n",
      "Step 8350: Generator loss: -8.38839485168457, critic loss: 4.309020269393921\n",
      "Step 8400: Generator loss: -8.507219753265382, critic loss: 4.348077981948853\n",
      "Step 8450: Generator loss: -8.34659185409546, critic loss: 3.8985929212570194\n",
      "Step 8500: Generator loss: -9.18734754562378, critic loss: 3.94603676891327\n",
      "Step 8550: Generator loss: -9.638390083312988, critic loss: 4.474290765762328\n",
      "Step 8600: Generator loss: -9.053762645721436, critic loss: 4.503162343978882\n",
      "Step 8650: Generator loss: -9.326121768951417, critic loss: 4.6930893249511705\n",
      "Step 8700: Generator loss: -9.111816177368164, critic loss: 4.710296987533569\n",
      "Step 8750: Generator loss: -9.309630298614502, critic loss: 4.740119554519653\n",
      "Step 8800: Generator loss: -9.342344303131103, critic loss: 4.872467428207398\n",
      "Step 8850: Generator loss: -9.203878860473633, critic loss: 4.7566374530792235\n",
      "Step 8900: Generator loss: -9.381220378875732, critic loss: 4.740059059143067\n",
      "Step 8950: Generator loss: -9.08898691177368, critic loss: 4.7722062950134285\n",
      "Step 9000: Generator loss: -9.306100997924805, critic loss: 4.859143337249756\n",
      "Step 9050: Generator loss: -6.096161103248596, critic loss: 3.4190869493484497\n",
      "Step 9100: Generator loss: -3.82212965965271, critic loss: 2.7503625926971442\n",
      "Step 9150: Generator loss: -4.388212308883667, critic loss: 3.021499984741211\n",
      "Step 9200: Generator loss: -5.10876914024353, critic loss: 3.7566710224151607\n",
      "Step 9250: Generator loss: -5.508919296264648, critic loss: 3.983307579994202\n",
      "Step 9300: Generator loss: -5.844220790863037, critic loss: 4.167406106948851\n",
      "Step 9350: Generator loss: -5.779375762939453, critic loss: 2.7777269487380982\n",
      "Step 9400: Generator loss: -6.290737466812134, critic loss: 2.8215748052597047\n",
      "Step 9450: Generator loss: -6.84293288230896, critic loss: 3.4723522653579706\n",
      "Step 9500: Generator loss: -7.217253255844116, critic loss: 4.163150288581849\n",
      "Step 9550: Generator loss: -7.084991722106934, critic loss: 4.208957000732422\n",
      "Step 9600: Generator loss: -7.497152643203735, critic loss: 4.43365188407898\n",
      "Step 9650: Generator loss: -7.64912901878357, critic loss: 4.802723142623901\n",
      "Step 9700: Generator loss: -7.4888622856140135, critic loss: 4.608295734405518\n",
      "Step 9750: Generator loss: -7.8111947154998775, critic loss: 4.801133304595949\n",
      "Step 9800: Generator loss: -7.971506643295288, critic loss: 4.86292120552063\n",
      "Step 9850: Generator loss: -7.772609634399414, critic loss: 4.696873214721678\n",
      "Step 9900: Generator loss: -7.801697397232056, critic loss: 4.896374395370483\n",
      "Step 9950: Generator loss: -7.905323667526245, critic loss: 4.6846065387725835\n",
      "Step 10000: Generator loss: -8.289581212997437, critic loss: 4.92866598701477\n",
      "Step 10050: Generator loss: -8.188772859573364, critic loss: 4.6806010818481445\n",
      "Step 10100: Generator loss: -8.151807298660279, critic loss: 4.843774688720703\n",
      "Step 10150: Generator loss: -8.0706165599823, critic loss: 4.738591848373414\n",
      "Step 10200: Generator loss: -8.315740118026733, critic loss: 4.813483119964599\n",
      "Step 10250: Generator loss: -8.171745672225953, critic loss: 4.859988534927369\n",
      "Step 10300: Generator loss: -8.136915102005005, critic loss: 4.805191259384156\n",
      "Step 10350: Generator loss: -8.237397203445434, critic loss: 4.765942218780516\n",
      "Step 10400: Generator loss: -8.046293115615844, critic loss: 4.910964754104614\n",
      "Step 10450: Generator loss: -8.223329305648804, critic loss: 4.728883766174316\n",
      "Step 10500: Generator loss: -8.247875213623047, critic loss: 4.658463964462281\n",
      "Step 10550: Generator loss: -8.193690328598022, critic loss: 4.840795799255371\n",
      "Step 10600: Generator loss: -7.984442672729492, critic loss: 4.828354381561281\n",
      "Step 10650: Generator loss: -8.359869527816773, critic loss: 4.81702087020874\n",
      "Step 10700: Generator loss: -8.122471790313721, critic loss: 4.601478927612304\n",
      "Step 10750: Generator loss: -8.281697998046875, critic loss: 4.879072797775269\n",
      "Step 10800: Generator loss: -8.145425176620483, critic loss: 4.711329839706422\n",
      "Step 10850: Generator loss: -8.468828773498535, critic loss: 4.764126913070679\n",
      "Step 10900: Generator loss: -8.17699854850769, critic loss: 4.086952220916746\n",
      "Step 10950: Generator loss: -8.712835903167724, critic loss: 3.4784912061691284\n",
      "Step 11000: Generator loss: -9.127092781066894, critic loss: 4.02912827205658\n",
      "Step 11050: Generator loss: -9.163042469024658, critic loss: 4.395844574928283\n",
      "Step 11100: Generator loss: -8.164859733581544, critic loss: 4.0575963764190695\n",
      "Step 11150: Generator loss: -6.080538129806518, critic loss: 2.4959232025146485\n",
      "Step 11200: Generator loss: -6.922144422531128, critic loss: 3.730631203651429\n",
      "Step 11250: Generator loss: -7.755949287414551, critic loss: 4.54140852355957\n",
      "Step 11300: Generator loss: -7.719141302108764, critic loss: 4.4887600307464615\n",
      "Step 11350: Generator loss: -7.851798496246338, critic loss: 4.71546830558777\n",
      "Step 11400: Generator loss: -8.039787712097167, critic loss: 4.657112548828126\n",
      "Step 11450: Generator loss: -7.772520294189453, critic loss: 4.76430732345581\n",
      "Step 11500: Generator loss: -7.724073076248169, critic loss: 4.69644003868103\n",
      "Step 11550: Generator loss: -7.713718223571777, critic loss: 4.739280921936036\n",
      "Step 11600: Generator loss: -7.522887258529663, critic loss: 4.8241142196655264\n",
      "Step 11650: Generator loss: 3.8137145441770555, critic loss: -0.45334756207466115\n",
      "Step 11700: Generator loss: 1.8484635810554026, critic loss: 1.2474507236480712\n",
      "Step 11750: Generator loss: 0.03248887971043587, critic loss: 2.4960833101272586\n",
      "Step 11800: Generator loss: -0.952829756140709, critic loss: 3.42677741241455\n",
      "Step 11850: Generator loss: -1.1337642109394073, critic loss: 3.959134375572205\n",
      "Step 11900: Generator loss: -1.836325809955597, critic loss: 4.505879644393921\n",
      "Step 11950: Generator loss: -1.520483100414276, critic loss: 4.5459704647064205\n",
      "Step 12000: Generator loss: -1.3599773633480072, critic loss: 4.905642591476439\n",
      "Step 12050: Generator loss: 2.240634090900421, critic loss: 1.8396745810508728\n",
      "Step 12100: Generator loss: 0.5293240396678448, critic loss: 4.1103251266479495\n",
      "Step 12150: Generator loss: 0.7765245747566223, critic loss: 4.670470584869386\n",
      "Step 12200: Generator loss: 0.8796704906225205, critic loss: 3.8798185482025143\n",
      "Step 12250: Generator loss: 0.49683690547943116, critic loss: 4.073365682601929\n",
      "Step 12300: Generator loss: 0.041600128673017024, critic loss: 5.020177629470825\n",
      "Step 12350: Generator loss: -0.061910085827112195, critic loss: 4.552726669311523\n",
      "Step 12400: Generator loss: -1.097870073840022, critic loss: 2.451718986272811\n",
      "Step 12450: Generator loss: -2.0898186004161836, critic loss: 2.0703234555721277\n",
      "Step 12500: Generator loss: -3.590778784751892, critic loss: 3.4076120462417596\n",
      "Step 12550: Generator loss: -4.895276374816895, critic loss: 3.940222058296203\n",
      "Step 12600: Generator loss: -5.479708814620972, critic loss: 4.487612371444701\n",
      "Step 12650: Generator loss: -5.178987655639649, critic loss: 4.612122245788574\n",
      "Step 12700: Generator loss: -4.910359277725219, critic loss: 4.636495788574218\n",
      "Step 12750: Generator loss: -5.03049864768982, critic loss: 4.723091514587401\n",
      "Step 12800: Generator loss: -5.163027143478393, critic loss: 5.215411540985108\n",
      "Step 12850: Generator loss: -5.199988527297974, critic loss: 5.444301300048827\n",
      "Step 12900: Generator loss: -3.3507806074619295, critic loss: 4.666629273414611\n",
      "Step 12950: Generator loss: 1.4660983530431986, critic loss: 1.041542375802994\n",
      "Step 13000: Generator loss: -1.057691242992878, critic loss: 2.3880186829566954\n",
      "Step 13050: Generator loss: -2.0141515493392945, critic loss: 3.159348774909974\n",
      "Step 13100: Generator loss: -2.302932527065277, critic loss: 3.3225970315933226\n",
      "Step 13150: Generator loss: -2.6389421319961546, critic loss: 4.038488288879393\n",
      "Step 13200: Generator loss: -2.4790975046157837, critic loss: 4.587858863830567\n",
      "Step 13250: Generator loss: -1.9844247817993164, critic loss: 4.708730222702027\n",
      "Step 13300: Generator loss: -2.191220231056213, critic loss: 5.161728464126586\n",
      "Step 13350: Generator loss: -2.2115614795684815, critic loss: 5.3629457473754885\n",
      "Step 13400: Generator loss: -2.3339701890945435, critic loss: 4.320372843742371\n",
      "Step 13450: Generator loss: -2.615187816619873, critic loss: 4.044688126564026\n",
      "Step 13500: Generator loss: -3.159147410392761, critic loss: 4.918060924530029\n",
      "Step 13550: Generator loss: -2.6974454069137574, critic loss: 5.189595333099365\n",
      "Step 13600: Generator loss: -3.9851438331604006, critic loss: 5.3056700267791745\n",
      "Step 13650: Generator loss: -4.7185595512390135, critic loss: 5.598903734207153\n",
      "Step 13700: Generator loss: -4.806089811325073, critic loss: 5.605281597137451\n",
      "Step 13750: Generator loss: -5.142007102966309, critic loss: 5.314963375091552\n",
      "Step 13800: Generator loss: -5.536833305358886, critic loss: 5.1461727142333995\n",
      "Step 13850: Generator loss: -5.624849052429199, critic loss: 5.462122060775758\n",
      "Step 13900: Generator loss: -5.5568556976318355, critic loss: 5.6205699844360355\n",
      "Step 13950: Generator loss: -5.524198789596557, critic loss: 5.596141731262208\n",
      "Step 14000: Generator loss: -5.478745718002319, critic loss: 5.606116029739379\n",
      "Step 14050: Generator loss: -5.424326944351196, critic loss: 5.6305192317962645\n",
      "Step 14100: Generator loss: -5.273323183059692, critic loss: 5.433963014602662\n",
      "Step 14150: Generator loss: -3.6379534912109377, critic loss: 4.778756044387816\n",
      "Step 14200: Generator loss: -4.11788179397583, critic loss: 5.1740150566101075\n",
      "Step 14250: Generator loss: -4.602529497146606, critic loss: 5.262059581756591\n",
      "Step 14300: Generator loss: -4.275165295600891, critic loss: 4.900294778823851\n",
      "Step 14350: Generator loss: -3.5478971862792967, critic loss: 4.078225926399231\n",
      "Step 14400: Generator loss: -4.415174813270569, critic loss: 4.072698840141296\n",
      "Step 14450: Generator loss: -6.9146357440948485, critic loss: 1.2755912156105038\n",
      "Step 14500: Generator loss: -8.547720375061035, critic loss: 3.0165873203277584\n",
      "Step 14550: Generator loss: -9.448788681030273, critic loss: 3.7814978132247914\n",
      "Step 14600: Generator loss: -9.581959552764893, critic loss: 4.511609959602356\n",
      "Step 14650: Generator loss: -9.965685024261475, critic loss: 5.041919343948364\n",
      "Step 14700: Generator loss: -10.090809078216553, critic loss: 5.127581418991088\n",
      "Step 14750: Generator loss: -10.182146968841552, critic loss: 5.330651182174682\n",
      "Step 14800: Generator loss: -9.762293395996094, critic loss: 5.1950394248962395\n",
      "Step 14850: Generator loss: -9.984223346710206, critic loss: 5.324932949066161\n",
      "Step 14900: Generator loss: -10.146410388946533, critic loss: 5.261457735061647\n",
      "Step 14950: Generator loss: 2.6425062829256056, critic loss: 0.24818295097351126\n",
      "Step 15000: Generator loss: 3.765043396949768, critic loss: 0.21207999753952012\n",
      "Step 15050: Generator loss: 0.8599371081590652, critic loss: 1.548968367099762\n",
      "Step 15100: Generator loss: 0.9254384192824364, critic loss: 1.8927820112705231\n",
      "Step 15150: Generator loss: -7.144407554715872, critic loss: 3.355479503631591\n",
      "Step 15200: Generator loss: -8.709339084625244, critic loss: 4.849587425231934\n",
      "Step 15250: Generator loss: -8.694771862030029, critic loss: 4.945388423919678\n",
      "Step 15300: Generator loss: -8.50669098854065, critic loss: 4.940073766708374\n",
      "Step 15350: Generator loss: -8.845247783660888, critic loss: 4.887307378768921\n",
      "Step 15400: Generator loss: -8.959523544311523, critic loss: 5.188266206741333\n",
      "Step 15450: Generator loss: -8.361533346176147, critic loss: 4.691334272384644\n",
      "Step 15500: Generator loss: -8.862410049438477, critic loss: 4.906884744644165\n",
      "Step 15550: Generator loss: -4.051432239115238, critic loss: 3.0150436558723435\n",
      "Step 15600: Generator loss: -0.2370738473534584, critic loss: 1.2051496119499203\n"
     ]
    },
    {
     "data": {
      "text/plain": "  0%|          | 0/782 [00:00<?, ?it/s]",
      "application/vnd.jupyter.widget-view+json": {
       "version_major": 2,
       "version_minor": 0,
       "model_id": "78116522ff474d2d9f0affa72b6bb9ab"
      }
     },
     "metadata": {},
     "output_type": "display_data"
    },
    {
     "data": {
      "text/plain": "  0%|          | 0/782 [00:00<?, ?it/s]",
      "application/vnd.jupyter.widget-view+json": {
       "version_major": 2,
       "version_minor": 0,
       "model_id": "2d7b645428d34c96b00f58a5e91a6b36"
      }
     },
     "metadata": {},
     "output_type": "display_data"
    },
    {
     "data": {
      "text/plain": "  0%|          | 0/782 [00:00<?, ?it/s]",
      "application/vnd.jupyter.widget-view+json": {
       "version_major": 2,
       "version_minor": 0,
       "model_id": "0097bb9f19034f718b2977c5852bdc28"
      }
     },
     "metadata": {},
     "output_type": "display_data"
    },
    {
     "data": {
      "text/plain": "  0%|          | 0/782 [00:00<?, ?it/s]",
      "application/vnd.jupyter.widget-view+json": {
       "version_major": 2,
       "version_minor": 0,
       "model_id": "a29ad7073d92450eb4fd430709e1ec73"
      }
     },
     "metadata": {},
     "output_type": "display_data"
    },
    {
     "data": {
      "text/plain": "  0%|          | 0/782 [00:00<?, ?it/s]",
      "application/vnd.jupyter.widget-view+json": {
       "version_major": 2,
       "version_minor": 0,
       "model_id": "a536aef78e5d4db9b95923866681dd12"
      }
     },
     "metadata": {},
     "output_type": "display_data"
    },
    {
     "data": {
      "text/plain": "  0%|          | 0/782 [00:00<?, ?it/s]",
      "application/vnd.jupyter.widget-view+json": {
       "version_major": 2,
       "version_minor": 0,
       "model_id": "7285608f0dba42c293f76d0b01fb3a86"
      }
     },
     "metadata": {},
     "output_type": "display_data"
    },
    {
     "data": {
      "text/plain": "  0%|          | 0/782 [00:00<?, ?it/s]",
      "application/vnd.jupyter.widget-view+json": {
       "version_major": 2,
       "version_minor": 0,
       "model_id": "0227870268b94482acad7afba68cbcd2"
      }
     },
     "metadata": {},
     "output_type": "display_data"
    },
    {
     "data": {
      "text/plain": "  0%|          | 0/782 [00:00<?, ?it/s]",
      "application/vnd.jupyter.widget-view+json": {
       "version_major": 2,
       "version_minor": 0,
       "model_id": "50a30a09ef0c47a8817e993cacf7ebb3"
      }
     },
     "metadata": {},
     "output_type": "display_data"
    },
    {
     "data": {
      "text/plain": "  0%|          | 0/782 [00:00<?, ?it/s]",
      "application/vnd.jupyter.widget-view+json": {
       "version_major": 2,
       "version_minor": 0,
       "model_id": "fef6ea832f5546e8aa5d4c70349be6d2"
      }
     },
     "metadata": {},
     "output_type": "display_data"
    },
    {
     "data": {
      "text/plain": "  0%|          | 0/782 [00:00<?, ?it/s]",
      "application/vnd.jupyter.widget-view+json": {
       "version_major": 2,
       "version_minor": 0,
       "model_id": "0d6fa97f3fe1466a9f43a879fc6c07c9"
      }
     },
     "metadata": {},
     "output_type": "display_data"
    },
    {
     "data": {
      "text/plain": "  0%|          | 0/782 [00:00<?, ?it/s]",
      "application/vnd.jupyter.widget-view+json": {
       "version_major": 2,
       "version_minor": 0,
       "model_id": "22641c3155f54a6987b82f737c97ed9a"
      }
     },
     "metadata": {},
     "output_type": "display_data"
    },
    {
     "data": {
      "text/plain": "  0%|          | 0/782 [00:00<?, ?it/s]",
      "application/vnd.jupyter.widget-view+json": {
       "version_major": 2,
       "version_minor": 0,
       "model_id": "19af84e0604e4e03b85155b9a7bd0d5b"
      }
     },
     "metadata": {},
     "output_type": "display_data"
    },
    {
     "data": {
      "text/plain": "  0%|          | 0/782 [00:00<?, ?it/s]",
      "application/vnd.jupyter.widget-view+json": {
       "version_major": 2,
       "version_minor": 0,
       "model_id": "f80c6eea732c446da9a80378508af25b"
      }
     },
     "metadata": {},
     "output_type": "display_data"
    },
    {
     "data": {
      "text/plain": "  0%|          | 0/782 [00:00<?, ?it/s]",
      "application/vnd.jupyter.widget-view+json": {
       "version_major": 2,
       "version_minor": 0,
       "model_id": "36c36adca8b742fbb76cf0be23e1be6a"
      }
     },
     "metadata": {},
     "output_type": "display_data"
    },
    {
     "data": {
      "text/plain": "  0%|          | 0/782 [00:00<?, ?it/s]",
      "application/vnd.jupyter.widget-view+json": {
       "version_major": 2,
       "version_minor": 0,
       "model_id": "d25358059e4b48ebab556868f19bc057"
      }
     },
     "metadata": {},
     "output_type": "display_data"
    },
    {
     "data": {
      "text/plain": "  0%|          | 0/782 [00:00<?, ?it/s]",
      "application/vnd.jupyter.widget-view+json": {
       "version_major": 2,
       "version_minor": 0,
       "model_id": "474ee6ef84b6413b951e2fea0dc5838e"
      }
     },
     "metadata": {},
     "output_type": "display_data"
    },
    {
     "data": {
      "text/plain": "  0%|          | 0/782 [00:00<?, ?it/s]",
      "application/vnd.jupyter.widget-view+json": {
       "version_major": 2,
       "version_minor": 0,
       "model_id": "2ff10299e05b467abcc6f53ddd6f7f85"
      }
     },
     "metadata": {},
     "output_type": "display_data"
    },
    {
     "data": {
      "text/plain": "  0%|          | 0/782 [00:00<?, ?it/s]",
      "application/vnd.jupyter.widget-view+json": {
       "version_major": 2,
       "version_minor": 0,
       "model_id": "a031120249414bb8ad5e334b4b42411b"
      }
     },
     "metadata": {},
     "output_type": "display_data"
    },
    {
     "data": {
      "text/plain": "  0%|          | 0/782 [00:00<?, ?it/s]",
      "application/vnd.jupyter.widget-view+json": {
       "version_major": 2,
       "version_minor": 0,
       "model_id": "7a31b7781e2547f59e07c362d66a8aca"
      }
     },
     "metadata": {},
     "output_type": "display_data"
    }
   ],
   "source": [
    "Training(n_epochs, dataloader, device, crit_repeats, gen, gen_opt,\n",
    "             crit, crit_opt, z_dim, c_lambda, display_step)"
   ],
   "metadata": {
    "collapsed": false,
    "pycharm": {
     "name": "#%%\n"
    }
   }
  },
  {
   "cell_type": "markdown",
   "source": [
    "### main steps to process output data\n",
    "1. sava the parameters and load them into new one.\n",
    "2. get some output data.\n",
    "3. get the number of back folding, crossing, and self-avoiding.\n",
    "4. get the sub-array contains self-avoiding.\n",
    "5. get the string representing self-avoiding polymer.\n",
    "6. remove the duplicate from itself and check the different number.\n",
    "7. check the overlap with raw data.\n",
    "8. check some statistic value"
   ],
   "metadata": {
    "collapsed": false,
    "pycharm": {
     "name": "#%% md\n"
    }
   }
  },
  {
   "cell_type": "markdown",
   "source": [
    "save and load mode"
   ],
   "metadata": {
    "collapsed": false,
    "pycharm": {
     "name": "#%% md\n"
    }
   }
  },
  {
   "cell_type": "code",
   "execution_count": null,
   "outputs": [],
   "source": [
    "# save the model\n",
    "# torch.save({'gen_state_dict': gen.state_dict()}, 'wgan_gen_scalar.pth.tar')\n",
    "# torch.save({'crit_state_dict': crit.state_dict()}, 'wgan_crit_scalar.pth.tar')"
   ],
   "metadata": {
    "collapsed": false,
    "pycharm": {
     "name": "#%%\n"
    }
   }
  },
  {
   "cell_type": "code",
   "execution_count": 4,
   "outputs": [
    {
     "data": {
      "text/plain": "<All keys matched successfully>"
     },
     "execution_count": 4,
     "metadata": {},
     "output_type": "execute_result"
    }
   ],
   "source": [
    "# load the model\n",
    "# create a new model, same structure as the previous one\n",
    "gen_model = Generator(z_dim, im_dim=15, hidden_dim=16).to(device)\n",
    "crit_model = Critic(im_dim=15, hidden_dim=16).to(device)\n",
    "# get the state from stored file\n",
    "gen_checkpoint = torch.load('wgan_gen_scalar.pth.tar')\n",
    "crit_chechpoint = torch.load('wgan_crit_scalar.pth.tar')\n",
    "# load the state to the new model\n",
    "gen_model.load_state_dict(gen_checkpoint['gen_state_dict'])\n",
    "crit_model.load_state_dict(crit_chechpoint['crit_state_dict'])"
   ],
   "metadata": {
    "collapsed": false,
    "pycharm": {
     "name": "#%%\n"
    }
   }
  },
  {
   "cell_type": "markdown",
   "source": [
    "get output data"
   ],
   "metadata": {
    "collapsed": false,
    "pycharm": {
     "name": "#%% md\n"
    }
   }
  },
  {
   "cell_type": "code",
   "execution_count": 5,
   "outputs": [],
   "source": [
    "coordinate_output = np.zeros([16000, 16, 2])\n",
    "# direction_round = np.zeros([16000, 15, 1])\n",
    "for i in range(1000):\n",
    "    noise = get_noise(16, 8)\n",
    "    output = gen_model(noise).data.numpy()\n",
    "    for j in range(16):\n",
    "        direction = out.slicing_output(output[j], \"direction\")\n",
    "        direction_round = out.round_direction_four(direction)\n",
    "        coordinate = out.four_direction_to_coordinates(direction_round)\n",
    "        coordinate_output[(i * 16) + j] = coordinate"
   ],
   "metadata": {
    "collapsed": false,
    "pycharm": {
     "name": "#%%\n"
    }
   }
  },
  {
   "cell_type": "markdown",
   "source": [
    "count the back folding and corss"
   ],
   "metadata": {
    "collapsed": false,
    "pycharm": {
     "name": "#%% md\n"
    }
   }
  },
  {
   "cell_type": "code",
   "execution_count": 7,
   "outputs": [
    {
     "name": "stdout",
     "output_type": "stream",
     "text": [
      "5174 611 10673\n",
      "0.323375 0.0381875 0.6670625\n"
     ]
    }
   ],
   "source": [
    "folding_count, crossing_count, self_avoid = out.count_fold_cross(coordinate_output)\n",
    "print (folding_count, crossing_count, self_avoid)\n",
    "print (folding_count/16000, crossing_count/16000, self_avoid/16000)"
   ],
   "metadata": {
    "collapsed": false,
    "pycharm": {
     "name": "#%%\n"
    }
   }
  },
  {
   "cell_type": "markdown",
   "source": [
    "get the sub-array contains self-avoiding."
   ],
   "metadata": {
    "collapsed": false,
    "pycharm": {
     "name": "#%% md\n"
    }
   }
  },
  {
   "cell_type": "code",
   "execution_count": 8,
   "outputs": [],
   "source": [
    "self_avoid_output = out.arrange_self_avoid_polymer(coordinate_output, self_avoid)"
   ],
   "metadata": {
    "collapsed": false,
    "pycharm": {
     "name": "#%%\n"
    }
   }
  },
  {
   "cell_type": "markdown",
   "source": [
    "convert coordinates to three direction, and remove duplicate"
   ],
   "metadata": {
    "collapsed": false,
    "pycharm": {
     "name": "#%% md\n"
    }
   }
  },
  {
   "cell_type": "code",
   "execution_count": 9,
   "outputs": [],
   "source": [
    "direction_three = dc.coordinate_direction_three(self_avoid_output)\n",
    "removed_duplicated, directions_str = out.remove_duplicated(direction_three)"
   ],
   "metadata": {
    "collapsed": false,
    "pycharm": {
     "name": "#%%\n"
    }
   }
  },
  {
   "cell_type": "code",
   "execution_count": 11,
   "outputs": [
    {
     "data": {
      "text/plain": "65"
     },
     "execution_count": 11,
     "metadata": {},
     "output_type": "execute_result"
    }
   ],
   "source": [
    "len(removed_duplicated)"
   ],
   "metadata": {
    "collapsed": false,
    "pycharm": {
     "name": "#%%\n"
    }
   }
  },
  {
   "cell_type": "markdown",
   "source": [
    "check overlap with raw data"
   ],
   "metadata": {
    "collapsed": false,
    "pycharm": {
     "name": "#%% md\n"
    }
   }
  },
  {
   "cell_type": "code",
   "execution_count": 10,
   "outputs": [
    {
     "data": {
      "text/plain": "  0%|          | 0/65 [00:00<?, ?it/s]",
      "application/vnd.jupyter.widget-view+json": {
       "version_major": 2,
       "version_minor": 0,
       "model_id": "ae412d06783543f3aa9b0488cc19c5bc"
      }
     },
     "metadata": {},
     "output_type": "display_data"
    },
    {
     "data": {
      "text/plain": "5"
     },
     "execution_count": 10,
     "metadata": {},
     "output_type": "execute_result"
    }
   ],
   "source": [
    "direction_three_input = dc.coordinate_direction_three(coordinates_input)\n",
    "input_removed_dupicated_str, input_direction_str = out.remove_duplicated(direction_three_input)\n",
    "from tqdm.auto import tqdm\n",
    "repeat = 0\n",
    "for output in tqdm(removed_duplicated):\n",
    "    if output in input_removed_dupicated_str:\n",
    "        repeat += 1\n",
    "repeat"
   ],
   "metadata": {
    "collapsed": false,
    "pycharm": {
     "name": "#%%\n"
    }
   }
  },
  {
   "cell_type": "markdown",
   "source": [
    "get the statistic values"
   ],
   "metadata": {
    "collapsed": false,
    "pycharm": {
     "name": "#%% md\n"
    }
   }
  },
  {
   "cell_type": "code",
   "execution_count": 12,
   "outputs": [
    {
     "data": {
      "text/plain": "(10.71309150225991, 2.136859954280216, 4.566170464206447)"
     },
     "execution_count": 12,
     "metadata": {},
     "output_type": "execute_result"
    }
   ],
   "source": [
    "distance_array = np.zeros(16000)\n",
    "for i in range(16000):\n",
    "    distance_array[i]= out.n_n_distance(coordinate_output[i])\n",
    "out.statistics(distance_array)"
   ],
   "metadata": {
    "collapsed": false,
    "pycharm": {
     "name": "#%%\n"
    }
   }
  },
  {
   "cell_type": "code",
   "execution_count": 13,
   "outputs": [
    {
     "data": {
      "text/plain": "<AxesSubplot:ylabel='Count'>"
     },
     "execution_count": 13,
     "metadata": {},
     "output_type": "execute_result"
    },
    {
     "data": {
      "text/plain": "<Figure size 432x288 with 1 Axes>",
      "image/png": "[encoded data removed]"
     },
     "metadata": {
      "needs_background": "light"
     },
     "output_type": "display_data"
    }
   ],
   "source": [
    "sns.histplot(data=distance_array, kde=True)\n"
   ],
   "metadata": {
    "collapsed": false,
    "pycharm": {
     "name": "#%%\n"
    }
   }
  },
  {
   "cell_type": "code",
   "execution_count": 14,
   "outputs": [],
   "source": [
    "output_list = []\n",
    "for i in range(1000):\n",
    "    noise = get_noise(16, 8)\n",
    "    output = gen_model(noise).data.numpy()\n",
    "    output_list.append(output)"
   ],
   "metadata": {
    "collapsed": false,
    "pycharm": {
     "name": "#%%\n"
    }
   }
  },
  {
   "cell_type": "code",
   "execution_count": 29,
   "outputs": [],
   "source": [
    "output_list = []\n",
    "for k in range(100):\n",
    "    noise = get_noise(16, 8)\n",
    "    output = gen_model(noise).data.numpy()\n",
    "    for i in range(16):\n",
    "        for j in range(15):\n",
    "            output_list.append(output[i][j])"
   ],
   "metadata": {
    "collapsed": false,
    "pycharm": {
     "name": "#%%\n"
    }
   }
  },
  {
   "cell_type": "code",
   "execution_count": 40,
   "outputs": [
    {
     "data": {
      "text/plain": "True"
     },
     "execution_count": 40,
     "metadata": {},
     "output_type": "execute_result"
    }
   ],
   "source": [
    "# should be 100 * 15 * 16 = 24000\n",
    "24000 == len(output_list)"
   ],
   "metadata": {
    "collapsed": false,
    "pycharm": {
     "name": "#%%\n"
    }
   }
  },
  {
   "cell_type": "code",
   "execution_count": 31,
   "outputs": [
    {
     "data": {
      "text/plain": "<AxesSubplot:ylabel='Count'>"
     },
     "execution_count": 31,
     "metadata": {},
     "output_type": "execute_result"
    },
    {
     "data": {
      "text/plain": "<Figure size 432x288 with 1 Axes>",
      "image/png": "[encoded data removed]"
     },
     "metadata": {
      "needs_background": "light"
     },
     "output_type": "display_data"
    }
   ],
   "source": [
    "sns.histplot(data=output_list, kde=True)"
   ],
   "metadata": {
    "collapsed": false,
    "pycharm": {
     "name": "#%%\n"
    }
   }
  },
  {
   "cell_type": "code",
   "execution_count": 1,
   "outputs": [
    {
     "ename": "NameError",
     "evalue": "name 'out' is not defined",
     "output_type": "error",
     "traceback": [
      "\u001B[0;31m---------------------------------------------------------------------------\u001B[0m",
      "\u001B[0;31mNameError\u001B[0m                                 Traceback (most recent call last)",
      "\u001B[0;32m<ipython-input-1-d7f0b9618dd4>\u001B[0m in \u001B[0;36m<module>\u001B[0;34m\u001B[0m\n\u001B[1;32m      1\u001B[0m \u001B[0;32mfor\u001B[0m \u001B[0mi\u001B[0m \u001B[0;32min\u001B[0m \u001B[0mrange\u001B[0m\u001B[0;34m(\u001B[0m\u001B[0;36m10\u001B[0m\u001B[0;34m)\u001B[0m\u001B[0;34m:\u001B[0m\u001B[0;34m\u001B[0m\u001B[0;34m\u001B[0m\u001B[0m\n\u001B[0;32m----> 2\u001B[0;31m     \u001B[0mout\u001B[0m\u001B[0;34m.\u001B[0m\u001B[0mplot_polymer\u001B[0m\u001B[0;34m(\u001B[0m\u001B[0mcoordinate_output\u001B[0m\u001B[0;34m[\u001B[0m\u001B[0mi\u001B[0m\u001B[0;34m]\u001B[0m\u001B[0;34m)\u001B[0m\u001B[0;34m\u001B[0m\u001B[0;34m\u001B[0m\u001B[0m\n\u001B[0m\u001B[1;32m      3\u001B[0m \u001B[0;34m\u001B[0m\u001B[0m\n",
      "\u001B[0;31mNameError\u001B[0m: name 'out' is not defined"
     ]
    }
   ],
   "source": [
    "for i in range(10):\n",
    "    out.plot_polymer(coordinate_output[i])"
   ],
   "metadata": {
    "collapsed": false,
    "pycharm": {
     "name": "#%%\n"
    }
   }
  },
  {
   "cell_type": "code",
   "execution_count": 4,
   "outputs": [],
   "source": [
    "import pandas as pd\n",
    "data = pd.DataFrame()\n",
    "data['number of output'] = 1600\n",
    "data['back folding'] = 500"
   ],
   "metadata": {
    "collapsed": false,
    "pycharm": {
     "name": "#%%\n"
    }
   }
  },
  {
   "cell_type": "code",
   "execution_count": 6,
   "outputs": [
    {
     "name": "stdout",
     "output_type": "stream",
     "text": [
      "Empty DataFrame\n",
      "Columns: [number of output, back folding]\n",
      "Index: []\n"
     ]
    }
   ],
   "source": [
    "print(data)"
   ],
   "metadata": {
    "collapsed": false,
    "pycharm": {
     "name": "#%%\n"
    }
   }
  },
  {
   "cell_type": "code",
   "execution_count": 11,
   "outputs": [
    {
     "data": {
      "text/plain": "   back folding  crossing\n0          1600       100",
      "text/html": "<div>\n<style scoped>\n    .dataframe tbody tr th:only-of-type {\n        vertical-align: middle;\n    }\n\n    .dataframe tbody tr th {\n        vertical-align: top;\n    }\n\n    .dataframe thead th {\n        text-align: right;\n    }\n</style>\n<table border=\"1\" class=\"dataframe\">\n  <thead>\n    <tr style=\"text-align: right;\">\n      <th></th>\n      <th>back folding</th>\n      <th>crossing</th>\n    </tr>\n  </thead>\n  <tbody>\n    <tr>\n      <th>0</th>\n      <td>1600</td>\n      <td>100</td>\n    </tr>\n  </tbody>\n</table>\n</div>"
     },
     "execution_count": 11,
     "metadata": {},
     "output_type": "execute_result"
    }
   ],
   "source": [
    "data = {'back folding': [1600], 'crossing': [100]}\n",
    "data\n",
    "df = pd.DataFrame(data)\n",
    "df"
   ],
   "metadata": {
    "collapsed": false,
    "pycharm": {
     "name": "#%%\n"
    }
   }
  },
  {
   "cell_type": "code",
   "execution_count": null,
   "outputs": [],
   "source": [],
   "metadata": {
    "collapsed": false,
    "pycharm": {
     "name": "#%%\n"
    }
   }
  }
 ],
 "metadata": {
  "kernelspec": {
   "display_name": "Python 3",
   "language": "python",
   "name": "python3"
  },
  "language_info": {
   "codemirror_mode": {
    "name": "ipython",
    "version": 2
   },
   "file_extension": ".py",
   "mimetype": "text/x-python",
   "name": "python",
   "nbconvert_exporter": "python",
   "pygments_lexer": "ipython2",
   "version": "2.7.6"
  }
 },
 "nbformat": 4,
 "nbformat_minor": 0
}
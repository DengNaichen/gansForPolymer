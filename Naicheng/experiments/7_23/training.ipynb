{
 "cells": [
  {
   "cell_type": "code",
   "execution_count": 1,
   "metadata": {
    "collapsed": true
   },
   "outputs": [],
   "source": [
    "import torch\n",
    "import matplotlib.pyplot as plt\n",
    "\n",
    "import Naicheng.res.process_data.process_output as pro_out\n",
    "import Naicheng.res.process_data.process_raw_data as pr\n",
    "import Naicheng.res.process_data.dire_and_coor as dc\n",
    "import Naicheng.res.process_data.loop_overlap as lp\n",
    "from Naicheng.res.process_data.dataset import tensor_dataset\n",
    "from torch.utils.data import DataLoader\n",
    "import seaborn as sns\n",
    "import Naicheng.res.fnn.functions as func\n",
    "import Naicheng.res.process_data.analysis_model as am\n",
    "import numpy as np\n",
    "import json\n",
    "import Naicheng.res.process_data.rg2 as rg\n",
    "from Naicheng.res.fnn.training import training_bce\n",
    "import three_layers as model"
   ]
  },
  {
   "cell_type": "code",
   "execution_count": 2,
   "outputs": [],
   "source": [
    "# input_coordinates = np.load('../../data/random/random_coordinates.npy')\n",
    "# one_hot = np.load('../../data/random/random_one_hot_four.npy')\n",
    "direction = np.load('../../data/three_directions.npy')"
   ],
   "metadata": {
    "collapsed": false,
    "pycharm": {
     "name": "#%%\n"
    }
   }
  },
  {
   "cell_type": "code",
   "execution_count": 3,
   "outputs": [],
   "source": [
    "shuffle = True\n",
    "batch_size = 125\n",
    "num_worker = 0\n",
    "pin_memory = True\n",
    "input_tensor = torch.Tensor(direction)\n",
    "my_dataset = tensor_dataset(input_tensor, 15, 1)\n",
    "my_dataloader = DataLoader(dataset= my_dataset,\n",
    "                            shuffle=shuffle,\n",
    "                            batch_size=batch_size,\n",
    "                            num_workers=num_worker,\n",
    "                            pin_memory=pin_memory)"
   ],
   "metadata": {
    "collapsed": false,
    "pycharm": {
     "name": "#%%\n"
    }
   }
  },
  {
   "cell_type": "code",
   "execution_count": 4,
   "outputs": [],
   "source": [
    "device = 'cuda' if torch.cuda.is_available() else 'cpu'\n",
    "z_dim = 8\n",
    "lr = 0.001\n",
    "gen = model.GeneratorNet()\n",
    "gen_opt = torch.optim.Adam(gen.parameters(), lr = lr)\n",
    "disc = model.DiscriminatorNet()\n",
    "disc_opt = torch.optim.Adam(disc.parameters(), lr = lr)"
   ],
   "metadata": {
    "collapsed": false,
    "pycharm": {
     "name": "#%%\n"
    }
   }
  },
  {
   "cell_type": "code",
   "execution_count": 6,
   "outputs": [
    {
     "data": {
      "text/plain": "<All keys matched successfully>"
     },
     "execution_count": 6,
     "metadata": {},
     "output_type": "execute_result"
    }
   ],
   "source": [
    "epoch = 100\n",
    "check_point_gen = torch.load(f'model_gan_{epoch}.pth.tar')\n",
    "check_point_disc = torch.load(f'model_disc_{epoch}.pth.tar')\n",
    "gen.load_state_dict(check_point_gen['gen_state_dict'])\n",
    "disc.load_state_dict(check_point_disc['disc_state_dict'])"
   ],
   "metadata": {
    "collapsed": false,
    "pycharm": {
     "name": "#%%\n"
    }
   }
  },
  {
   "cell_type": "code",
   "execution_count": 7,
   "outputs": [],
   "source": [
    "display_step = 782"
   ],
   "metadata": {
    "collapsed": false,
    "pycharm": {
     "name": "#%%\n"
    }
   }
  },
  {
   "cell_type": "code",
   "execution_count": 8,
   "outputs": [
    {
     "data": {
      "text/plain": "  0%|          | 0/800 [00:00<?, ?it/s]",
      "application/vnd.jupyter.widget-view+json": {
       "version_major": 2,
       "version_minor": 0,
       "model_id": "08d8e34cc2a4434abf5acdfa7285f048"
      }
     },
     "metadata": {},
     "output_type": "display_data"
    },
    {
     "name": "stdout",
     "output_type": "stream",
     "text": [
      "Epoch 0, step 782: Generator loss: 0.8023118906466249, discriminator loss: 0.6608208953724506\n",
      "Epoch 1, step 1564: Generator loss: 0.8008086115045618, discriminator loss: 0.6594689956406491\n",
      "Epoch 2, step 2346: Generator loss: 0.8057473689851249, discriminator loss: 0.658429646583469\n",
      "Epoch 3, step 3128: Generator loss: 0.8061423742252859, discriminator loss: 0.6574151737763142\n",
      "Epoch 4, step 3910: Generator loss: 0.816473514222733, discriminator loss: 0.6536574876674297\n",
      "Epoch 5, step 4692: Generator loss: 0.8158178454469858, discriminator loss: 0.6547694103339743\n",
      "Epoch 6, step 5474: Generator loss: 0.8183932881373588, discriminator loss: 0.6539572457523295\n",
      "Epoch 7, step 6256: Generator loss: 0.8216552602513056, discriminator loss: 0.6516869924867245\n",
      "Epoch 8, step 7038: Generator loss: 0.8243618567886254, discriminator loss: 0.6514235471215702\n",
      "Epoch 9, step 7820: Generator loss: 0.8283627249700647, discriminator loss: 0.6504703536058013\n",
      "Epoch 10, step 8602: Generator loss: 0.8267300580163756, discriminator loss: 0.649928812404423\n",
      "Epoch 11, step 9384: Generator loss: 0.8347341816900935, discriminator loss: 0.6493698653510159\n",
      "Epoch 12, step 10166: Generator loss: 0.8346898605299125, discriminator loss: 0.6487241571821527\n",
      "Epoch 13, step 10948: Generator loss: 0.8341637236230524, discriminator loss: 0.6480116017944065\n",
      "Epoch 14, step 11730: Generator loss: 0.8460079427722764, discriminator loss: 0.6461543256364514\n",
      "Epoch 15, step 12512: Generator loss: 0.8370487603842443, discriminator loss: 0.647711261763903\n",
      "Epoch 16, step 13294: Generator loss: 0.8428017227241154, discriminator loss: 0.6462995140906184\n",
      "Epoch 17, step 14076: Generator loss: 0.8395928600255173, discriminator loss: 0.6475894980113529\n",
      "Epoch 18, step 14858: Generator loss: 0.8370773623056731, discriminator loss: 0.6479255765142959\n",
      "Epoch 19, step 15640: Generator loss: 0.8411833474703149, discriminator loss: 0.646015809472565\n",
      "Epoch 20, step 16422: Generator loss: 0.8404459114117391, discriminator loss: 0.6467249974265434\n",
      "Epoch 21, step 17204: Generator loss: 0.8399501234064323, discriminator loss: 0.6475905680747894\n",
      "Epoch 22, step 17986: Generator loss: 0.835809052905158, discriminator loss: 0.648681438106406\n",
      "Epoch 23, step 18768: Generator loss: 0.8367874863964815, discriminator loss: 0.6490711190206622\n",
      "Epoch 24, step 19550: Generator loss: 0.835496874645237, discriminator loss: 0.6486558678662385\n",
      "Epoch 25, step 20332: Generator loss: 0.8363347020752897, discriminator loss: 0.648648336110518\n",
      "Epoch 26, step 21114: Generator loss: 0.83773465999557, discriminator loss: 0.6481156526776529\n",
      "Epoch 27, step 21896: Generator loss: 0.8363731533974949, discriminator loss: 0.6483866928331082\n",
      "Epoch 28, step 22678: Generator loss: 0.8329321765686244, discriminator loss: 0.6499036280700312\n",
      "Epoch 29, step 23460: Generator loss: 0.8301587892157961, discriminator loss: 0.6501387920221104\n",
      "Epoch 30, step 24242: Generator loss: 0.8289710255839937, discriminator loss: 0.6499782532377314\n",
      "Epoch 31, step 25024: Generator loss: 0.8326486255354277, discriminator loss: 0.6490968535928161\n",
      "Epoch 32, step 25806: Generator loss: 0.8356710847686315, discriminator loss: 0.6489631544293654\n",
      "Epoch 33, step 26588: Generator loss: 0.8367352280622858, discriminator loss: 0.6488937544243422\n",
      "Epoch 34, step 27370: Generator loss: 0.8334095174699182, discriminator loss: 0.6493499889550608\n",
      "Epoch 35, step 28152: Generator loss: 0.8359518618230022, discriminator loss: 0.648321800448401\n",
      "Epoch 36, step 28934: Generator loss: 0.8381684667923864, discriminator loss: 0.6480027770294862\n",
      "Epoch 37, step 29716: Generator loss: 0.839646383014787, discriminator loss: 0.6478965855620404\n",
      "Epoch 38, step 30498: Generator loss: 0.8426732396530677, discriminator loss: 0.6466888241908135\n",
      "Epoch 39, step 31280: Generator loss: 0.8413369546613424, discriminator loss: 0.6460906381497311\n",
      "Epoch 40, step 32062: Generator loss: 0.8485724169884808, discriminator loss: 0.6443214465285196\n",
      "Epoch 41, step 32844: Generator loss: 0.8478133615173032, discriminator loss: 0.6452991521876801\n",
      "Epoch 42, step 33626: Generator loss: 0.8480171510173232, discriminator loss: 0.64508103158163\n",
      "Epoch 43, step 34408: Generator loss: 0.8529748216157066, discriminator loss: 0.642713220832902\n",
      "Epoch 43, step 35190: Generator loss: 0.8613772764230327, discriminator loss: 0.641204108896158\n",
      "Epoch 44, step 35972: Generator loss: 0.8592853594923877, discriminator loss: 0.6413969492820829\n",
      "Epoch 45, step 36754: Generator loss: 0.8632236417297203, discriminator loss: 0.6393297810078884\n",
      "Epoch 46, step 37536: Generator loss: 0.8750658536811015, discriminator loss: 0.6364407714675454\n",
      "Epoch 47, step 38318: Generator loss: 0.8731952534459747, discriminator loss: 0.63564639925347\n",
      "Epoch 48, step 39100: Generator loss: 0.877545263532482, discriminator loss: 0.6349359724070411\n",
      "Epoch 49, step 39882: Generator loss: 0.8806675256365707, discriminator loss: 0.6333643698783789\n",
      "Epoch 50, step 40664: Generator loss: 0.8831788283174907, discriminator loss: 0.632971988995667\n",
      "Epoch 51, step 41446: Generator loss: 0.8857839089982641, discriminator loss: 0.6320145771936371\n",
      "Epoch 52, step 42228: Generator loss: 0.8935454837653949, discriminator loss: 0.6306028930122591\n",
      "Epoch 53, step 43010: Generator loss: 0.8974060732537833, discriminator loss: 0.6287842664267408\n",
      "Epoch 54, step 43792: Generator loss: 0.902249573899047, discriminator loss: 0.6269996506173904\n",
      "Epoch 55, step 44574: Generator loss: 0.9037601141368643, discriminator loss: 0.6261132308436791\n",
      "Epoch 56, step 45356: Generator loss: 0.9087156014674148, discriminator loss: 0.6254697615838108\n",
      "Epoch 57, step 46138: Generator loss: 0.9136341583088539, discriminator loss: 0.6236504963444325\n",
      "Epoch 58, step 46920: Generator loss: 0.9196283417894406, discriminator loss: 0.6224507993596903\n",
      "Epoch 59, step 47702: Generator loss: 0.9220527090379945, discriminator loss: 0.6216008342288041\n",
      "Epoch 60, step 48484: Generator loss: 0.9278057355557563, discriminator loss: 0.620204606019627\n",
      "Epoch 61, step 49266: Generator loss: 0.9300991807447371, discriminator loss: 0.6183157903916388\n",
      "Epoch 62, step 50048: Generator loss: 0.9312925886772468, discriminator loss: 0.6191966035939245\n",
      "Epoch 63, step 50830: Generator loss: 0.9323677803244428, discriminator loss: 0.6186675629042611\n",
      "Epoch 64, step 51612: Generator loss: 0.9359599498989016, discriminator loss: 0.6179046484515494\n",
      "Epoch 65, step 52394: Generator loss: 0.9370323298379889, discriminator loss: 0.6166412996514075\n",
      "Epoch 66, step 53176: Generator loss: 0.9375141198220458, discriminator loss: 0.6172050409914582\n",
      "Epoch 67, step 53958: Generator loss: 0.9393649816208178, discriminator loss: 0.6173869396567039\n",
      "Epoch 68, step 54740: Generator loss: 0.9389568690753654, discriminator loss: 0.6174636349806095\n",
      "Epoch 69, step 55522: Generator loss: 0.9400552758170526, discriminator loss: 0.6160331177894426\n",
      "Epoch 70, step 56304: Generator loss: 0.938271091112395, discriminator loss: 0.6176897633411089\n",
      "Epoch 71, step 57086: Generator loss: 0.9457608044452382, discriminator loss: 0.6155987078576434\n",
      "Epoch 72, step 57868: Generator loss: 0.9420165795346961, discriminator loss: 0.6163114726238544\n",
      "Epoch 73, step 58650: Generator loss: 0.9436593229508464, discriminator loss: 0.6154916278084225\n",
      "Epoch 74, step 59432: Generator loss: 0.9428018466438479, discriminator loss: 0.6162948058084459\n",
      "Epoch 75, step 60214: Generator loss: 0.9415002482778895, discriminator loss: 0.6157358588312593\n",
      "Epoch 76, step 60996: Generator loss: 0.9418627777520343, discriminator loss: 0.6157126378677683\n",
      "Epoch 77, step 61778: Generator loss: 0.9383291775918069, discriminator loss: 0.6178009484887427\n",
      "Epoch 78, step 62560: Generator loss: 0.9409454734733952, discriminator loss: 0.6165322060017941\n",
      "Epoch 79, step 63342: Generator loss: 0.946779830376511, discriminator loss: 0.6158211900450083\n",
      "Epoch 80, step 64124: Generator loss: 0.9363511634604713, discriminator loss: 0.6175614606846321\n",
      "Epoch 81, step 64906: Generator loss: 0.9372701442912407, discriminator loss: 0.6171558677692851\n",
      "Epoch 82, step 65688: Generator loss: 0.935654959105471, discriminator loss: 0.6179783069111813\n",
      "Epoch 83, step 66470: Generator loss: 0.9354038291117726, discriminator loss: 0.6175953328914354\n",
      "Epoch 84, step 67252: Generator loss: 0.9334585036310696, discriminator loss: 0.6189084269506546\n",
      "Epoch 85, step 68034: Generator loss: 0.9325415331994178, discriminator loss: 0.6190492584729744\n",
      "Epoch 86, step 68816: Generator loss: 0.9315963382153859, discriminator loss: 0.6175463663799993\n",
      "Epoch 86, step 69598: Generator loss: 0.9307367527271475, discriminator loss: 0.6191571880027166\n",
      "Epoch 87, step 70380: Generator loss: 0.9256297840791599, discriminator loss: 0.6212081736158527\n",
      "Epoch 88, step 71162: Generator loss: 0.9300386634324218, discriminator loss: 0.619836602140875\n",
      "Epoch 89, step 71944: Generator loss: 0.9314416646195183, discriminator loss: 0.619332247149304\n",
      "Epoch 90, step 72726: Generator loss: 0.9281694506440327, discriminator loss: 0.6208945805459374\n",
      "Epoch 91, step 73508: Generator loss: 0.925912620237721, discriminator loss: 0.6200556976106155\n",
      "Epoch 92, step 74290: Generator loss: 0.928130593827314, discriminator loss: 0.6201712356503971\n",
      "Epoch 93, step 75072: Generator loss: 0.9288154259667057, discriminator loss: 0.619252168766373\n",
      "Epoch 94, step 75854: Generator loss: 0.9242063881948476, discriminator loss: 0.619826698852013\n",
      "Epoch 95, step 76636: Generator loss: 0.9232995124424203, discriminator loss: 0.6195774466332872\n",
      "Epoch 96, step 77418: Generator loss: 0.9261137615994108, discriminator loss: 0.619159184529654\n",
      "Epoch 97, step 78200: Generator loss: 0.9254936294634923, discriminator loss: 0.620040626019773\n",
      "Epoch 98, step 78982: Generator loss: 0.9207926112824996, discriminator loss: 0.6215607109277144\n",
      "Epoch 99, step 79764: Generator loss: 0.9220760941048101, discriminator loss: 0.6223105380449756\n",
      "Epoch 0, step 782: Generator loss: 0.9185449463479647, discriminator loss: 0.6236540794067668\n",
      "Epoch 1, step 1564: Generator loss: 0.9221777586680855, discriminator loss: 0.6217258378977664\n",
      "Epoch 2, step 2346: Generator loss: 0.9201411547715694, discriminator loss: 0.6226709337185706\n",
      "Epoch 3, step 3128: Generator loss: 0.9220194146608747, discriminator loss: 0.62183634788179\n",
      "Epoch 4, step 3910: Generator loss: 0.920548758238477, discriminator loss: 0.6221602691713807\n",
      "Epoch 5, step 4692: Generator loss: 0.9211174594166937, discriminator loss: 0.6222925321067995\n",
      "Epoch 6, step 5474: Generator loss: 0.916371844080098, discriminator loss: 0.6228889004348792\n",
      "Epoch 7, step 6256: Generator loss: 0.9185776181538091, discriminator loss: 0.6221557978321527\n",
      "Epoch 8, step 7038: Generator loss: 0.917345856690346, discriminator loss: 0.6228941889370185\n",
      "Epoch 9, step 7820: Generator loss: 0.9176537947886434, discriminator loss: 0.6230117107748683\n",
      "Epoch 10, step 8602: Generator loss: 0.9150423916709396, discriminator loss: 0.6232954797994759\n",
      "Epoch 11, step 9384: Generator loss: 0.9163211324178353, discriminator loss: 0.6232660998163921\n",
      "Epoch 12, step 10166: Generator loss: 0.9169126251317047, discriminator loss: 0.6224180238173751\n",
      "Epoch 13, step 10948: Generator loss: 0.9136337825404416, discriminator loss: 0.6232373642799491\n",
      "Epoch 14, step 11730: Generator loss: 0.9193811005033798, discriminator loss: 0.622355086190621\n",
      "Epoch 15, step 12512: Generator loss: 0.9160855208211541, discriminator loss: 0.6227104448144078\n",
      "Epoch 16, step 13294: Generator loss: 0.9158607119184624, discriminator loss: 0.6230948648946673\n",
      "Epoch 17, step 14076: Generator loss: 0.9175727365114493, discriminator loss: 0.6228379075179624\n",
      "Epoch 18, step 14858: Generator loss: 0.9201840751463813, discriminator loss: 0.6218679873534793\n",
      "Epoch 19, step 15640: Generator loss: 0.9201771818158565, discriminator loss: 0.6225649194644245\n",
      "Epoch 20, step 16422: Generator loss: 0.9234146424723999, discriminator loss: 0.6208903544851582\n",
      "Epoch 21, step 17204: Generator loss: 0.9269356067528192, discriminator loss: 0.6206697505300911\n",
      "Epoch 22, step 17986: Generator loss: 0.9236074310281984, discriminator loss: 0.6211185983532219\n",
      "Epoch 23, step 18768: Generator loss: 0.9220611362353628, discriminator loss: 0.6207435757607764\n",
      "Epoch 24, step 19550: Generator loss: 0.9245579455362253, discriminator loss: 0.6216738720988987\n",
      "Epoch 25, step 20332: Generator loss: 0.9243869100080435, discriminator loss: 0.6206145611260553\n",
      "Epoch 26, step 21114: Generator loss: 0.9229789556902079, discriminator loss: 0.6206096679810671\n",
      "Epoch 27, step 21896: Generator loss: 0.921605310629091, discriminator loss: 0.6205621694055052\n",
      "Epoch 28, step 22678: Generator loss: 0.9271592517643025, discriminator loss: 0.6205375754010042\n",
      "Epoch 29, step 23460: Generator loss: 0.9233029144041983, discriminator loss: 0.6220914759599337\n",
      "Epoch 30, step 24242: Generator loss: 0.9163383400958511, discriminator loss: 0.6211454980361185\n",
      "Epoch 31, step 25024: Generator loss: 0.9247207928953873, discriminator loss: 0.6211402535895866\n",
      "Epoch 32, step 25806: Generator loss: 0.9218869524843555, discriminator loss: 0.6218288916608556\n",
      "Epoch 33, step 26588: Generator loss: 0.923536169788111, discriminator loss: 0.6200833957061138\n",
      "Epoch 34, step 27370: Generator loss: 0.9252188161510951, discriminator loss: 0.6209676414347057\n",
      "Epoch 35, step 28152: Generator loss: 0.9245242990953542, discriminator loss: 0.620682249593613\n",
      "Epoch 36, step 28934: Generator loss: 0.9232417550080874, discriminator loss: 0.6210164198332735\n",
      "Epoch 37, step 29716: Generator loss: 0.9243871036850284, discriminator loss: 0.6217822951581465\n",
      "Epoch 38, step 30498: Generator loss: 0.9241720401417566, discriminator loss: 0.6205902662118679\n",
      "Epoch 39, step 31280: Generator loss: 0.9242056457282944, discriminator loss: 0.6204738158856515\n",
      "Epoch 40, step 32062: Generator loss: 0.9254611190170283, discriminator loss: 0.6209558018333168\n",
      "Epoch 41, step 32844: Generator loss: 0.9227114745875451, discriminator loss: 0.6208532507462274\n",
      "Epoch 42, step 33626: Generator loss: 0.9264554635185716, discriminator loss: 0.6204068637107644\n",
      "Epoch 43, step 34408: Generator loss: 0.9274185692410337, discriminator loss: 0.6194913238668082\n",
      "Epoch 43, step 35190: Generator loss: 0.9253767739476442, discriminator loss: 0.6203293009944589\n",
      "Epoch 44, step 35972: Generator loss: 0.9276985888133579, discriminator loss: 0.6189555425168298\n",
      "Epoch 45, step 36754: Generator loss: 0.9303472902616277, discriminator loss: 0.619073966427532\n",
      "Epoch 46, step 37536: Generator loss: 0.9257668900825177, discriminator loss: 0.6201292680352551\n",
      "Epoch 47, step 38318: Generator loss: 0.9230604582582884, discriminator loss: 0.6217768733458747\n",
      "Epoch 48, step 39100: Generator loss: 0.9208809340853822, discriminator loss: 0.620945820265718\n",
      "Epoch 49, step 39882: Generator loss: 0.9207776614162331, discriminator loss: 0.621866143725413\n",
      "Epoch 50, step 40664: Generator loss: 0.9178318919428193, discriminator loss: 0.6222234805831514\n",
      "Epoch 51, step 41446: Generator loss: 0.9207158479696647, discriminator loss: 0.6226191555752475\n",
      "Epoch 52, step 42228: Generator loss: 0.9134619449410584, discriminator loss: 0.6230204531451321\n",
      "Epoch 53, step 43010: Generator loss: 0.9136699241445502, discriminator loss: 0.6236691303417808\n",
      "Epoch 54, step 43792: Generator loss: 0.9104978054990545, discriminator loss: 0.6251505996717515\n",
      "Epoch 55, step 44574: Generator loss: 0.9121729742230662, discriminator loss: 0.624086830317212\n",
      "Epoch 56, step 45356: Generator loss: 0.90660382536671, discriminator loss: 0.6256327804397136\n",
      "Epoch 57, step 46138: Generator loss: 0.9062802291587191, discriminator loss: 0.625477357136319\n",
      "Epoch 58, step 46920: Generator loss: 0.9035530764885864, discriminator loss: 0.6269129722014718\n",
      "Epoch 59, step 47702: Generator loss: 0.8977553972502804, discriminator loss: 0.6285472573221806\n",
      "Epoch 60, step 48484: Generator loss: 0.8992392866660263, discriminator loss: 0.6275561915334227\n",
      "Epoch 61, step 49266: Generator loss: 0.8963816024915644, discriminator loss: 0.6282844936756213\n",
      "Epoch 62, step 50048: Generator loss: 0.8924428287826838, discriminator loss: 0.6290800820683579\n",
      "Epoch 63, step 50830: Generator loss: 0.8928889084959877, discriminator loss: 0.6314035317172181\n",
      "Epoch 64, step 51612: Generator loss: 0.8923116884268151, discriminator loss: 0.6302449990568875\n",
      "Epoch 65, step 52394: Generator loss: 0.8860463946676611, discriminator loss: 0.6322321532784826\n",
      "Epoch 66, step 53176: Generator loss: 0.8880980440875152, discriminator loss: 0.631062055716429\n",
      "Epoch 67, step 53958: Generator loss: 0.8874086172836828, discriminator loss: 0.6297608463050768\n",
      "Epoch 68, step 54740: Generator loss: 0.8853333059631646, discriminator loss: 0.632429618969598\n",
      "Epoch 69, step 55522: Generator loss: 0.8865000463050347, discriminator loss: 0.6313915407413715\n",
      "Epoch 70, step 56304: Generator loss: 0.883246751697472, discriminator loss: 0.6337128087992551\n",
      "Epoch 71, step 57086: Generator loss: 0.8818755298471815, discriminator loss: 0.6336868470129758\n",
      "Epoch 72, step 57868: Generator loss: 0.8815453707257189, discriminator loss: 0.632529364674902\n",
      "Epoch 73, step 58650: Generator loss: 0.8812753142755663, discriminator loss: 0.6340343259332129\n",
      "Epoch 74, step 59432: Generator loss: 0.8787848237530348, discriminator loss: 0.6342644618295347\n",
      "Epoch 75, step 60214: Generator loss: 0.8765460202456135, discriminator loss: 0.6340312336564368\n",
      "Epoch 76, step 60996: Generator loss: 0.8775369126321098, discriminator loss: 0.6346408779663806\n",
      "Epoch 77, step 61778: Generator loss: 0.8736944793130431, discriminator loss: 0.6353045907776672\n",
      "Epoch 78, step 62560: Generator loss: 0.8743007556556736, discriminator loss: 0.6344929650006701\n",
      "Epoch 79, step 63342: Generator loss: 0.876398113834888, discriminator loss: 0.6354986528301485\n",
      "Epoch 80, step 64124: Generator loss: 0.868716516305723, discriminator loss: 0.6368155374246486\n",
      "Epoch 81, step 64906: Generator loss: 0.8674078900033557, discriminator loss: 0.6372780430957183\n",
      "Epoch 82, step 65688: Generator loss: 0.8651257509465722, discriminator loss: 0.6377090464162707\n",
      "Epoch 83, step 66470: Generator loss: 0.8660756822132392, discriminator loss: 0.6378879893923657\n",
      "Epoch 84, step 67252: Generator loss: 0.867613929311942, discriminator loss: 0.6371934183723179\n",
      "Epoch 85, step 68034: Generator loss: 0.8614878528715711, discriminator loss: 0.639001385025356\n",
      "Epoch 86, step 68816: Generator loss: 0.8633441850352475, discriminator loss: 0.6396347091478458\n",
      "Epoch 86, step 69598: Generator loss: 0.859583904218795, discriminator loss: 0.6395033200073728\n",
      "Epoch 87, step 70380: Generator loss: 0.8619170306283801, discriminator loss: 0.6389702989927033\n",
      "Epoch 88, step 71162: Generator loss: 0.8611182376094487, discriminator loss: 0.6398912147640264\n",
      "Epoch 89, step 71944: Generator loss: 0.8596043084436067, discriminator loss: 0.6391734631774989\n",
      "Epoch 90, step 72726: Generator loss: 0.8609742789774608, discriminator loss: 0.6397404112017062\n",
      "Epoch 91, step 73508: Generator loss: 0.8534417113532194, discriminator loss: 0.6411084016723092\n",
      "Epoch 92, step 74290: Generator loss: 0.8580468149898606, discriminator loss: 0.641194340289402\n",
      "Epoch 93, step 75072: Generator loss: 0.857885455612636, discriminator loss: 0.640977463835036\n",
      "Epoch 94, step 75854: Generator loss: 0.8543032791913322, discriminator loss: 0.6420972163567464\n",
      "Epoch 95, step 76636: Generator loss: 0.8526892980651175, discriminator loss: 0.6419131274113576\n",
      "Epoch 96, step 77418: Generator loss: 0.8549397987173043, discriminator loss: 0.641387100872176\n",
      "Epoch 97, step 78200: Generator loss: 0.8524208412603348, discriminator loss: 0.6419483741835866\n",
      "Epoch 98, step 78982: Generator loss: 0.8559803513767165, discriminator loss: 0.6417357944466574\n",
      "Epoch 99, step 79764: Generator loss: 0.8517563514544839, discriminator loss: 0.6418353947227262\n",
      "Epoch 0, step 782: Generator loss: 0.8549785663557169, discriminator loss: 0.6425327037453952\n",
      "Epoch 1, step 1564: Generator loss: 0.8542863090172443, discriminator loss: 0.6429590366380598\n",
      "Epoch 2, step 2346: Generator loss: 0.8508630388075746, discriminator loss: 0.6420223517033756\n",
      "Epoch 3, step 3128: Generator loss: 0.8530073113301219, discriminator loss: 0.6427689901245831\n",
      "Epoch 4, step 3910: Generator loss: 0.8490666420106074, discriminator loss: 0.6436990949961232\n",
      "Epoch 5, step 4692: Generator loss: 0.8498052802994431, discriminator loss: 0.6434598291469048\n",
      "Epoch 6, step 5474: Generator loss: 0.847321528074381, discriminator loss: 0.6426962366341938\n",
      "Epoch 7, step 6256: Generator loss: 0.8518887773499159, discriminator loss: 0.643271145460857\n",
      "Epoch 8, step 7038: Generator loss: 0.8471143643569471, discriminator loss: 0.6435576601101607\n",
      "Epoch 9, step 7820: Generator loss: 0.8524116209858207, discriminator loss: 0.6419095765141875\n",
      "Epoch 10, step 8602: Generator loss: 0.8464295512727464, discriminator loss: 0.6441781181661058\n",
      "Epoch 11, step 9384: Generator loss: 0.8492462194484222, discriminator loss: 0.6434812635716886\n",
      "Epoch 12, step 10166: Generator loss: 0.8509866907773427, discriminator loss: 0.6436377162366269\n",
      "Epoch 13, step 10948: Generator loss: 0.8467643382909045, discriminator loss: 0.6441704899148873\n",
      "Epoch 14, step 11730: Generator loss: 0.8485187936926744, discriminator loss: 0.6436199021461365\n",
      "Epoch 15, step 12512: Generator loss: 0.8469730421252886, discriminator loss: 0.6434398208890121\n",
      "Epoch 16, step 13294: Generator loss: 0.8484078521466318, discriminator loss: 0.6427381729988186\n",
      "Epoch 17, step 14076: Generator loss: 0.8539253483190569, discriminator loss: 0.6407384129283974\n",
      "Epoch 18, step 14858: Generator loss: 0.8461563413405362, discriminator loss: 0.6439797274596857\n",
      "Epoch 19, step 15640: Generator loss: 0.8492820680598768, discriminator loss: 0.6439376225709312\n",
      "Epoch 20, step 16422: Generator loss: 0.8488080937539226, discriminator loss: 0.6433767627572162\n",
      "Epoch 21, step 17204: Generator loss: 0.8528351087094564, discriminator loss: 0.642030157396556\n",
      "Epoch 22, step 17986: Generator loss: 0.8493673968345614, discriminator loss: 0.6427307327080258\n",
      "Epoch 23, step 18768: Generator loss: 0.847885696326985, discriminator loss: 0.6434889595831753\n",
      "Epoch 24, step 19550: Generator loss: 0.8501297730923909, discriminator loss: 0.6416772757192403\n",
      "Epoch 25, step 20332: Generator loss: 0.8496745070228189, discriminator loss: 0.6433879656864846\n",
      "Epoch 26, step 21114: Generator loss: 0.8491080443724959, discriminator loss: 0.6431987106495192\n",
      "Epoch 27, step 21896: Generator loss: 0.85216699033747, discriminator loss: 0.6427398453588073\n",
      "Epoch 28, step 22678: Generator loss: 0.8493186034967233, discriminator loss: 0.6431193331165993\n",
      "Epoch 29, step 23460: Generator loss: 0.8468004951391688, discriminator loss: 0.6436596359590736\n",
      "Epoch 30, step 24242: Generator loss: 0.8431956627789665, discriminator loss: 0.6447026953672812\n",
      "Epoch 31, step 25024: Generator loss: 0.842974656225775, discriminator loss: 0.6443584277044476\n",
      "Epoch 32, step 25806: Generator loss: 0.8429758342178268, discriminator loss: 0.6444240576775789\n",
      "Epoch 33, step 26588: Generator loss: 0.8434364808642354, discriminator loss: 0.6436073328070633\n",
      "Epoch 34, step 27370: Generator loss: 0.8448983164089717, discriminator loss: 0.6439525453026025\n",
      "Epoch 35, step 28152: Generator loss: 0.8446284928132811, discriminator loss: 0.6440001168214454\n",
      "Epoch 36, step 28934: Generator loss: 0.8426478958648181, discriminator loss: 0.6459244678697315\n",
      "Epoch 37, step 29716: Generator loss: 0.8379867403098683, discriminator loss: 0.6469806746753589\n",
      "Epoch 38, step 30498: Generator loss: 0.8389357781928516, discriminator loss: 0.6460909956251575\n",
      "Epoch 39, step 31280: Generator loss: 0.8370892169987756, discriminator loss: 0.646316466810149\n",
      "Epoch 40, step 32062: Generator loss: 0.8397381631157276, discriminator loss: 0.6461920991273187\n",
      "Epoch 41, step 32844: Generator loss: 0.8395309900231367, discriminator loss: 0.6459433751947739\n",
      "Epoch 42, step 33626: Generator loss: 0.839261396004417, discriminator loss: 0.6457115917102155\n",
      "Epoch 43, step 34408: Generator loss: 0.8395493253112762, discriminator loss: 0.6465197579787519\n",
      "Epoch 43, step 35190: Generator loss: 0.8382209519596057, discriminator loss: 0.6464985205846674\n",
      "Epoch 44, step 35972: Generator loss: 0.8338916201878075, discriminator loss: 0.6481708111360553\n",
      "Epoch 45, step 36754: Generator loss: 0.8346370819127161, discriminator loss: 0.647325883283639\n",
      "Epoch 46, step 37536: Generator loss: 0.8342694098229904, discriminator loss: 0.6480953627840024\n",
      "Epoch 47, step 38318: Generator loss: 0.8289056049893267, discriminator loss: 0.6482693103268325\n",
      "Epoch 48, step 39100: Generator loss: 0.8317670021063227, discriminator loss: 0.6479948765938854\n",
      "Epoch 49, step 39882: Generator loss: 0.83457553051317, discriminator loss: 0.6483843589530272\n",
      "Epoch 50, step 40664: Generator loss: 0.8304877239267535, discriminator loss: 0.6492502827321179\n",
      "Epoch 51, step 41446: Generator loss: 0.8295964358560264, discriminator loss: 0.6499514069855982\n",
      "Epoch 52, step 42228: Generator loss: 0.8296537633289761, discriminator loss: 0.6491482412571195\n",
      "Epoch 53, step 43010: Generator loss: 0.8266296646631587, discriminator loss: 0.6496401242435439\n",
      "Epoch 54, step 43792: Generator loss: 0.8246353533109437, discriminator loss: 0.6503669671390365\n",
      "Epoch 55, step 44574: Generator loss: 0.8250454904325796, discriminator loss: 0.6499212527518999\n",
      "Epoch 56, step 45356: Generator loss: 0.8256629623110654, discriminator loss: 0.6505910350995918\n",
      "Epoch 57, step 46138: Generator loss: 0.8226342686759239, discriminator loss: 0.6516152738457746\n",
      "Epoch 58, step 46920: Generator loss: 0.8249221860295367, discriminator loss: 0.6510516543065188\n",
      "Epoch 59, step 47702: Generator loss: 0.8239143376460154, discriminator loss: 0.6515481563480314\n",
      "Epoch 60, step 48484: Generator loss: 0.8204082603497282, discriminator loss: 0.6508289789757153\n",
      "Epoch 61, step 49266: Generator loss: 0.8201865065280728, discriminator loss: 0.6528209860977305\n",
      "Epoch 62, step 50048: Generator loss: 0.8198319890005206, discriminator loss: 0.6526869742004459\n",
      "Epoch 63, step 50830: Generator loss: 0.8229212546744926, discriminator loss: 0.6520007690200416\n",
      "Epoch 64, step 51612: Generator loss: 0.820436214394582, discriminator loss: 0.6520095623057817\n",
      "Epoch 65, step 52394: Generator loss: 0.8179799264959062, discriminator loss: 0.6533359584905919\n",
      "Epoch 66, step 53176: Generator loss: 0.8172504148824747, discriminator loss: 0.6527772985608369\n",
      "Epoch 67, step 53958: Generator loss: 0.8191322668281658, discriminator loss: 0.653191267224529\n",
      "Epoch 68, step 54740: Generator loss: 0.8189363286013503, discriminator loss: 0.6531622561499905\n",
      "Epoch 69, step 55522: Generator loss: 0.8185067808689058, discriminator loss: 0.6532028291536418\n",
      "Epoch 70, step 56304: Generator loss: 0.8180196837086209, discriminator loss: 0.6534068845117186\n",
      "Epoch 71, step 57086: Generator loss: 0.8145547189828378, discriminator loss: 0.6537154946485751\n",
      "Epoch 72, step 57868: Generator loss: 0.8148615620172843, discriminator loss: 0.6541269952836253\n",
      "Epoch 73, step 58650: Generator loss: 0.8148699886811043, discriminator loss: 0.6535541390061693\n",
      "Epoch 74, step 59432: Generator loss: 0.8144152066134425, discriminator loss: 0.653854634679492\n",
      "Epoch 75, step 60214: Generator loss: 0.8134129093888479, discriminator loss: 0.6545332688504777\n",
      "Epoch 76, step 60996: Generator loss: 0.8124224857601073, discriminator loss: 0.6541767429817664\n",
      "Epoch 77, step 61778: Generator loss: 0.8142782425331642, discriminator loss: 0.6543172796821352\n",
      "Epoch 78, step 62560: Generator loss: 0.8159568830371817, discriminator loss: 0.6535782214930594\n",
      "Epoch 79, step 63342: Generator loss: 0.816109178621141, discriminator loss: 0.6539038855706336\n",
      "Epoch 80, step 64124: Generator loss: 0.8176879121366973, discriminator loss: 0.65379595383049\n",
      "Epoch 81, step 64906: Generator loss: 0.8161444394179915, discriminator loss: 0.6537538090782695\n",
      "Epoch 82, step 65688: Generator loss: 0.8127190525574458, discriminator loss: 0.6550276985253828\n",
      "Epoch 83, step 66470: Generator loss: 0.8144152528794527, discriminator loss: 0.6535060841714029\n",
      "Epoch 84, step 67252: Generator loss: 0.8161913977407133, discriminator loss: 0.654122596582793\n",
      "Epoch 85, step 68034: Generator loss: 0.8117254622604536, discriminator loss: 0.6554024290398255\n",
      "Epoch 86, step 68816: Generator loss: 0.8155481398410501, discriminator loss: 0.6536276504359275\n",
      "Epoch 86, step 69598: Generator loss: 0.8123836701788248, discriminator loss: 0.6547126360713978\n",
      "Epoch 87, step 70380: Generator loss: 0.81406656807036, discriminator loss: 0.6548324569564342\n",
      "Epoch 88, step 71162: Generator loss: 0.8095883619602375, discriminator loss: 0.6549468269128629\n",
      "Epoch 89, step 71944: Generator loss: 0.8118112205391947, discriminator loss: 0.6546869337406305\n",
      "Epoch 90, step 72726: Generator loss: 0.8124088089331944, discriminator loss: 0.6555486700266534\n",
      "Epoch 91, step 73508: Generator loss: 0.8098496307649875, discriminator loss: 0.6552157998847228\n",
      "Epoch 92, step 74290: Generator loss: 0.8081165129113985, discriminator loss: 0.6554614829132923\n",
      "Epoch 93, step 75072: Generator loss: 0.8100657265661932, discriminator loss: 0.6553427600647173\n",
      "Epoch 94, step 75854: Generator loss: 0.8095350512458227, discriminator loss: 0.656109311772735\n",
      "Epoch 95, step 76636: Generator loss: 0.8072460280812309, discriminator loss: 0.6553096511327395\n",
      "Epoch 96, step 77418: Generator loss: 0.8092755250766146, discriminator loss: 0.6560740877905158\n",
      "Epoch 97, step 78200: Generator loss: 0.8058910613017304, discriminator loss: 0.656565261847527\n",
      "Epoch 98, step 78982: Generator loss: 0.8083418899637344, discriminator loss: 0.6558022776528096\n",
      "Epoch 99, step 79764: Generator loss: 0.8091433395052817, discriminator loss: 0.6567806184596725\n",
      "Epoch 0, step 782: Generator loss: 0.8083001778406254, discriminator loss: 0.6568774407934342\n",
      "Epoch 1, step 1564: Generator loss: 0.8042903139310726, discriminator loss: 0.6564418419700155\n",
      "Epoch 2, step 2346: Generator loss: 0.8075010664475234, discriminator loss: 0.6572550533677612\n",
      "Epoch 3, step 3128: Generator loss: 0.8086487090648599, discriminator loss: 0.6568833403575132\n",
      "Epoch 4, step 3910: Generator loss: 0.8089240977678759, discriminator loss: 0.6559209561408943\n",
      "Epoch 5, step 4692: Generator loss: 0.8055949901680811, discriminator loss: 0.6577533896621833\n",
      "Epoch 6, step 5474: Generator loss: 0.806680912785519, discriminator loss: 0.6562630956435146\n",
      "Epoch 7, step 6256: Generator loss: 0.8079913506270066, discriminator loss: 0.6565210557044926\n",
      "Epoch 8, step 7038: Generator loss: 0.8074719908902098, discriminator loss: 0.6564780803745055\n",
      "Epoch 9, step 7820: Generator loss: 0.8061911551391371, discriminator loss: 0.6565054002625257\n",
      "Epoch 10, step 8602: Generator loss: 0.8035617620896186, discriminator loss: 0.6572352896261093\n",
      "Epoch 11, step 9384: Generator loss: 0.806457645524188, discriminator loss: 0.6564381490735445\n",
      "Epoch 12, step 10166: Generator loss: 0.8036533731328857, discriminator loss: 0.6582198570603917\n",
      "Epoch 13, step 10948: Generator loss: 0.804991687045377, discriminator loss: 0.6568624101331474\n",
      "Epoch 14, step 11730: Generator loss: 0.8054314237421429, discriminator loss: 0.6572610727508962\n",
      "Epoch 15, step 12512: Generator loss: 0.8074329278200792, discriminator loss: 0.6558980682621829\n",
      "Epoch 16, step 13294: Generator loss: 0.8050482543685543, discriminator loss: 0.6576621896013272\n",
      "Epoch 17, step 14076: Generator loss: 0.8011204819849999, discriminator loss: 0.6585039154952743\n",
      "Epoch 18, step 14858: Generator loss: 0.8057056387214718, discriminator loss: 0.656797448692419\n",
      "Epoch 19, step 15640: Generator loss: 0.8080117210097946, discriminator loss: 0.656327354786035\n",
      "Epoch 20, step 16422: Generator loss: 0.8071690025689349, discriminator loss: 0.6566224378698005\n",
      "Epoch 21, step 17204: Generator loss: 0.8067228771231671, discriminator loss: 0.6572459801231195\n",
      "Epoch 22, step 17986: Generator loss: 0.8034261710503535, discriminator loss: 0.6569843360072806\n",
      "Epoch 23, step 18768: Generator loss: 0.8045185551314094, discriminator loss: 0.6576060157297827\n",
      "Epoch 24, step 19550: Generator loss: 0.8044191598892209, discriminator loss: 0.6575357606801228\n",
      "Epoch 25, step 20332: Generator loss: 0.8061731890644261, discriminator loss: 0.6569226297271221\n",
      "Epoch 26, step 21114: Generator loss: 0.8052182304279885, discriminator loss: 0.6573453293279613\n",
      "Epoch 27, step 21896: Generator loss: 0.8039472657243919, discriminator loss: 0.6573937795198784\n",
      "Epoch 28, step 22678: Generator loss: 0.802501964370918, discriminator loss: 0.6580629700132646\n",
      "Epoch 29, step 23460: Generator loss: 0.8049373956744933, discriminator loss: 0.6567583296762397\n",
      "Epoch 30, step 24242: Generator loss: 0.8067814185643745, discriminator loss: 0.657742816392722\n",
      "Epoch 31, step 25024: Generator loss: 0.8022774400003728, discriminator loss: 0.6574035790722687\n",
      "Epoch 32, step 25806: Generator loss: 0.8010080163283719, discriminator loss: 0.658287965351968\n",
      "Epoch 33, step 26588: Generator loss: 0.8004659220690622, discriminator loss: 0.6586875043561685\n",
      "Epoch 34, step 27370: Generator loss: 0.8037627374424652, discriminator loss: 0.6576782630380154\n",
      "Epoch 35, step 28152: Generator loss: 0.8005629998186353, discriminator loss: 0.6587691301732417\n",
      "Epoch 36, step 28934: Generator loss: 0.7982007818453759, discriminator loss: 0.6589488445797842\n",
      "Epoch 37, step 29716: Generator loss: 0.801336371151687, discriminator loss: 0.6593291116949849\n",
      "Epoch 38, step 30498: Generator loss: 0.7981237198995504, discriminator loss: 0.6586480219955635\n",
      "Epoch 39, step 31280: Generator loss: 0.8004721630259859, discriminator loss: 0.6580225361887461\n",
      "Epoch 40, step 32062: Generator loss: 0.7973900986906823, discriminator loss: 0.6601657126565723\n",
      "Epoch 41, step 32844: Generator loss: 0.7943095226421999, discriminator loss: 0.6608207562695381\n",
      "Epoch 42, step 33626: Generator loss: 0.7974397386888717, discriminator loss: 0.6609894213316689\n",
      "Epoch 43, step 34408: Generator loss: 0.7998043900865427, discriminator loss: 0.6588882438057222\n",
      "Epoch 43, step 35190: Generator loss: 0.7944364659774027, discriminator loss: 0.6600706226685463\n",
      "Epoch 44, step 35972: Generator loss: 0.7934224030855677, discriminator loss: 0.6609766858313089\n",
      "Epoch 45, step 36754: Generator loss: 0.7931836539369709, discriminator loss: 0.659319921146574\n",
      "Epoch 46, step 37536: Generator loss: 0.7978795073221407, discriminator loss: 0.6604097209623088\n",
      "Epoch 47, step 38318: Generator loss: 0.7941963572026526, discriminator loss: 0.6608344851552371\n",
      "Epoch 48, step 39100: Generator loss: 0.7927297330878276, discriminator loss: 0.6618376644066228\n",
      "Epoch 49, step 39882: Generator loss: 0.7934691668928726, discriminator loss: 0.6602813900279274\n",
      "Epoch 50, step 40664: Generator loss: 0.793279553999377, discriminator loss: 0.6612666881907631\n",
      "Epoch 51, step 41446: Generator loss: 0.7947221775646416, discriminator loss: 0.6614047491641917\n",
      "Epoch 52, step 42228: Generator loss: 0.7899798583953883, discriminator loss: 0.6617853499739373\n",
      "Epoch 53, step 43010: Generator loss: 0.7903112242441347, discriminator loss: 0.6617027310764081\n",
      "Epoch 54, step 43792: Generator loss: 0.7917813204438476, discriminator loss: 0.6610659523998074\n",
      "Epoch 55, step 44574: Generator loss: 0.7927068557275835, discriminator loss: 0.6610253394564701\n",
      "Epoch 56, step 45356: Generator loss: 0.7929563235748768, discriminator loss: 0.660987066338434\n",
      "Epoch 57, step 46138: Generator loss: 0.790472522797182, discriminator loss: 0.6611320440421632\n",
      "Epoch 58, step 46920: Generator loss: 0.793019816927288, discriminator loss: 0.6620380572803184\n",
      "Epoch 59, step 47702: Generator loss: 0.7909879895579774, discriminator loss: 0.6622379012120051\n",
      "Epoch 60, step 48484: Generator loss: 0.7933836579322806, discriminator loss: 0.6611173045452297\n",
      "Epoch 61, step 49266: Generator loss: 0.7908615527860351, discriminator loss: 0.6613346223178723\n",
      "Epoch 62, step 50048: Generator loss: 0.7903283792535983, discriminator loss: 0.6611248388162356\n",
      "Epoch 63, step 50830: Generator loss: 0.7916028376125617, discriminator loss: 0.6618587974544686\n",
      "Epoch 64, step 51612: Generator loss: 0.7910373572193442, discriminator loss: 0.6614788442926332\n",
      "Epoch 65, step 52394: Generator loss: 0.7897703583588067, discriminator loss: 0.663105774184932\n",
      "Epoch 66, step 53176: Generator loss: 0.7863730577861571, discriminator loss: 0.6630858774380302\n",
      "Epoch 67, step 53958: Generator loss: 0.791384143445193, discriminator loss: 0.6620429982919522\n",
      "Epoch 68, step 54740: Generator loss: 0.7873255192776164, discriminator loss: 0.6625406296204426\n",
      "Epoch 69, step 55522: Generator loss: 0.7928471531709437, discriminator loss: 0.6615190692722347\n",
      "Epoch 70, step 56304: Generator loss: 0.7903335537294586, discriminator loss: 0.6621460221764975\n",
      "Epoch 71, step 57086: Generator loss: 0.7872385698206295, discriminator loss: 0.6626154598220231\n",
      "Epoch 72, step 57868: Generator loss: 0.7878742829308183, discriminator loss: 0.6635551242267386\n",
      "Epoch 73, step 58650: Generator loss: 0.788567059790081, discriminator loss: 0.6620915109086828\n",
      "Epoch 74, step 59432: Generator loss: 0.7891833794391369, discriminator loss: 0.6620978371566519\n",
      "Epoch 75, step 60214: Generator loss: 0.7868502313066316, discriminator loss: 0.6626648710816715\n",
      "Epoch 76, step 60996: Generator loss: 0.786463363243796, discriminator loss: 0.6638657711351007\n",
      "Epoch 77, step 61778: Generator loss: 0.7868796667022175, discriminator loss: 0.6629709902474329\n",
      "Epoch 78, step 62560: Generator loss: 0.787793588531597, discriminator loss: 0.6631519640498155\n",
      "Epoch 79, step 63342: Generator loss: 0.7856486051741156, discriminator loss: 0.6637204945697196\n",
      "Epoch 80, step 64124: Generator loss: 0.7877691904144828, discriminator loss: 0.6632866123905573\n",
      "Epoch 81, step 64906: Generator loss: 0.7823128082868084, discriminator loss: 0.6639435162477169\n",
      "Epoch 82, step 65688: Generator loss: 0.7838511809211244, discriminator loss: 0.6638993957006115\n",
      "Epoch 83, step 66470: Generator loss: 0.7869570040336957, discriminator loss: 0.6635344749521414\n",
      "Epoch 84, step 67252: Generator loss: 0.7866912043612944, discriminator loss: 0.6635702007719312\n",
      "Epoch 85, step 68034: Generator loss: 0.7879077228133947, discriminator loss: 0.6628529552913384\n",
      "Epoch 86, step 68816: Generator loss: 0.7857692628870226, discriminator loss: 0.6640726401830273\n",
      "Epoch 86, step 69598: Generator loss: 0.7858285733958343, discriminator loss: 0.6634197669565838\n",
      "Epoch 87, step 70380: Generator loss: 0.7846836816624301, discriminator loss: 0.6631916297976007\n",
      "Epoch 88, step 71162: Generator loss: 0.7854571892782247, discriminator loss: 0.6633758776633024\n",
      "Epoch 89, step 71944: Generator loss: 0.7870223452825377, discriminator loss: 0.6631424211327681\n",
      "Epoch 90, step 72726: Generator loss: 0.7833503371919217, discriminator loss: 0.6643671435315891\n",
      "Epoch 91, step 73508: Generator loss: 0.7860985764914462, discriminator loss: 0.6635750824075834\n",
      "Epoch 92, step 74290: Generator loss: 0.7826452192747998, discriminator loss: 0.6645473632818601\n",
      "Epoch 93, step 75072: Generator loss: 0.7851214146675061, discriminator loss: 0.6631025236738322\n",
      "Epoch 94, step 75854: Generator loss: 0.7861912890011088, discriminator loss: 0.6630696238154342\n",
      "Epoch 95, step 76636: Generator loss: 0.7833031367158036, discriminator loss: 0.6645555541948284\n",
      "Epoch 96, step 77418: Generator loss: 0.7839643981907989, discriminator loss: 0.6647546723523098\n",
      "Epoch 97, step 78200: Generator loss: 0.783749203166694, discriminator loss: 0.6645937568086487\n",
      "Epoch 98, step 78982: Generator loss: 0.7826529004994558, discriminator loss: 0.6639143377923601\n",
      "Epoch 99, step 79764: Generator loss: 0.7841488540629891, discriminator loss: 0.6645692337656879\n",
      "Epoch 0, step 782: Generator loss: 0.785075130136422, discriminator loss: 0.664788229005111\n",
      "Epoch 1, step 1564: Generator loss: 0.7859920569697901, discriminator loss: 0.6635780264349539\n",
      "Epoch 2, step 2346: Generator loss: 0.7846444220951452, discriminator loss: 0.6646973150770379\n",
      "Epoch 3, step 3128: Generator loss: 0.7822870984864064, discriminator loss: 0.6643212687633842\n",
      "Epoch 4, step 3910: Generator loss: 0.7829904099711985, discriminator loss: 0.6636055440396599\n",
      "Epoch 5, step 4692: Generator loss: 0.7838699833663831, discriminator loss: 0.6645375110609142\n",
      "Epoch 6, step 5474: Generator loss: 0.783074676152081, discriminator loss: 0.6645932292084569\n",
      "Epoch 7, step 6256: Generator loss: 0.7841667055016591, discriminator loss: 0.6638461336912699\n",
      "Epoch 8, step 7038: Generator loss: 0.7845772403432903, discriminator loss: 0.6634574457812494\n",
      "Epoch 9, step 7820: Generator loss: 0.7823923092973818, discriminator loss: 0.6648367771407221\n",
      "Epoch 10, step 8602: Generator loss: 0.7831621001596031, discriminator loss: 0.6641805775635082\n",
      "Epoch 11, step 9384: Generator loss: 0.7819706031581026, discriminator loss: 0.6647789293085529\n",
      "Epoch 12, step 10166: Generator loss: 0.7824282256691055, discriminator loss: 0.6648193034522055\n",
      "Epoch 13, step 10948: Generator loss: 0.7794134058153545, discriminator loss: 0.6657698887693295\n",
      "Epoch 14, step 11730: Generator loss: 0.7823860510383426, discriminator loss: 0.6642567321010252\n",
      "Epoch 15, step 12512: Generator loss: 0.7817492007904344, discriminator loss: 0.6650963400483437\n",
      "Epoch 16, step 13294: Generator loss: 0.781931172475181, discriminator loss: 0.6640845565387352\n",
      "Epoch 17, step 14076: Generator loss: 0.7841888615847249, discriminator loss: 0.6640517882373944\n",
      "Epoch 18, step 14858: Generator loss: 0.7851719353967316, discriminator loss: 0.6635901090281691\n",
      "Epoch 19, step 15640: Generator loss: 0.7832989398475787, discriminator loss: 0.6644203515766232\n",
      "Epoch 20, step 16422: Generator loss: 0.783050774689525, discriminator loss: 0.6648897404408517\n",
      "Epoch 21, step 17204: Generator loss: 0.7819809574452814, discriminator loss: 0.6640713682869815\n",
      "Epoch 22, step 17986: Generator loss: 0.7844908911248911, discriminator loss: 0.6637859621926036\n",
      "Epoch 23, step 18768: Generator loss: 0.7847948585020001, discriminator loss: 0.6643992219587108\n",
      "Epoch 24, step 19550: Generator loss: 0.7817552850374486, discriminator loss: 0.6645354770333567\n",
      "Epoch 25, step 20332: Generator loss: 0.7822738590142924, discriminator loss: 0.6649690084445204\n",
      "Epoch 26, step 21114: Generator loss: 0.7811130875974053, discriminator loss: 0.6650799441215626\n",
      "Epoch 27, step 21896: Generator loss: 0.7836616803008265, discriminator loss: 0.6651002057373063\n",
      "Epoch 28, step 22678: Generator loss: 0.7800653146965737, discriminator loss: 0.6647193640699162\n",
      "Epoch 29, step 23460: Generator loss: 0.7809315394714965, discriminator loss: 0.6654649817425269\n",
      "Epoch 30, step 24242: Generator loss: 0.7829934950832207, discriminator loss: 0.6639496785448026\n",
      "Epoch 31, step 25024: Generator loss: 0.7827976246166718, discriminator loss: 0.6647599466773862\n",
      "Epoch 32, step 25806: Generator loss: 0.7838487275268716, discriminator loss: 0.6635055394886099\n",
      "Epoch 33, step 26588: Generator loss: 0.7851965508954905, discriminator loss: 0.6643618298765945\n",
      "Epoch 34, step 27370: Generator loss: 0.7800005987629554, discriminator loss: 0.6646675034557155\n",
      "Epoch 35, step 28152: Generator loss: 0.7832377148253837, discriminator loss: 0.6643384510598832\n",
      "Epoch 36, step 28934: Generator loss: 0.7832895343565883, discriminator loss: 0.6647258652445606\n",
      "Epoch 37, step 29716: Generator loss: 0.780604755329658, discriminator loss: 0.6653374145402927\n",
      "Epoch 38, step 30498: Generator loss: 0.7844556645511667, discriminator loss: 0.6644692342452084\n",
      "Epoch 39, step 31280: Generator loss: 0.781542266268865, discriminator loss: 0.6645579020995319\n",
      "Epoch 40, step 32062: Generator loss: 0.7821590360778057, discriminator loss: 0.6647213098338196\n",
      "Epoch 41, step 32844: Generator loss: 0.7801820236398737, discriminator loss: 0.6657450961334931\n",
      "Epoch 42, step 33626: Generator loss: 0.7822091182327026, discriminator loss: 0.6639291010701749\n",
      "Epoch 43, step 34408: Generator loss: 0.7835599670324792, discriminator loss: 0.6648459850674705\n",
      "Epoch 43, step 35190: Generator loss: 0.7799863194870521, discriminator loss: 0.6649628675654722\n",
      "Epoch 44, step 35972: Generator loss: 0.7822589850639129, discriminator loss: 0.6642229063888954\n",
      "Epoch 45, step 36754: Generator loss: 0.7823481373012525, discriminator loss: 0.6647518761932399\n",
      "Epoch 46, step 37536: Generator loss: 0.7831823097927788, discriminator loss: 0.6647049380690241\n",
      "Epoch 47, step 38318: Generator loss: 0.7826514548200476, discriminator loss: 0.6645949924998269\n",
      "Epoch 48, step 39100: Generator loss: 0.7823247573412294, discriminator loss: 0.6643942510685347\n",
      "Epoch 49, step 39882: Generator loss: 0.7810097633267915, discriminator loss: 0.6646287911535828\n",
      "Epoch 50, step 40664: Generator loss: 0.7817203636516996, discriminator loss: 0.6647233989689962\n",
      "Epoch 51, step 41446: Generator loss: 0.7826935555166603, discriminator loss: 0.6637126290432328\n",
      "Epoch 52, step 42228: Generator loss: 0.7786758316447364, discriminator loss: 0.6660106765949512\n",
      "Epoch 53, step 43010: Generator loss: 0.7786551381620912, discriminator loss: 0.66496262480231\n",
      "Epoch 54, step 43792: Generator loss: 0.7808942040214153, discriminator loss: 0.6647070284999548\n",
      "Epoch 55, step 44574: Generator loss: 0.782460822931031, discriminator loss: 0.6649071786867071\n",
      "Epoch 56, step 45356: Generator loss: 0.7824903916367487, discriminator loss: 0.6641602322573555\n",
      "Epoch 57, step 46138: Generator loss: 0.7811492335460989, discriminator loss: 0.6650635744909499\n",
      "Epoch 58, step 46920: Generator loss: 0.7804525476282516, discriminator loss: 0.6649154317958278\n",
      "Epoch 59, step 47702: Generator loss: 0.779855871444469, discriminator loss: 0.6652630633100522\n",
      "Epoch 60, step 48484: Generator loss: 0.7826861678944214, discriminator loss: 0.6647391150064788\n",
      "Epoch 61, step 49266: Generator loss: 0.7808141552883651, discriminator loss: 0.6644221370482386\n",
      "Epoch 62, step 50048: Generator loss: 0.7813016167839465, discriminator loss: 0.6646838842145623\n",
      "Epoch 63, step 50830: Generator loss: 0.7818506546794908, discriminator loss: 0.664344769685775\n",
      "Epoch 64, step 51612: Generator loss: 0.7828600133014154, discriminator loss: 0.6641026400696581\n",
      "Epoch 65, step 52394: Generator loss: 0.7816797549005055, discriminator loss: 0.6643741079760935\n",
      "Epoch 66, step 53176: Generator loss: 0.7826704877569238, discriminator loss: 0.6641694782182691\n",
      "Epoch 67, step 53958: Generator loss: 0.7821742454758076, discriminator loss: 0.6648830439885856\n",
      "Epoch 68, step 54740: Generator loss: 0.7802529427249111, discriminator loss: 0.6651907705742384\n",
      "Epoch 69, step 55522: Generator loss: 0.7808083808787952, discriminator loss: 0.6646024344674775\n",
      "Epoch 70, step 56304: Generator loss: 0.7845697833601463, discriminator loss: 0.663951453040629\n",
      "Epoch 71, step 57086: Generator loss: 0.7812659748070087, discriminator loss: 0.6647181039118714\n",
      "Epoch 72, step 57868: Generator loss: 0.7811942726297456, discriminator loss: 0.6651454496261714\n",
      "Epoch 73, step 58650: Generator loss: 0.7833797646605444, discriminator loss: 0.6652963326867591\n",
      "Epoch 74, step 59432: Generator loss: 0.7807734107117521, discriminator loss: 0.6647098950870198\n",
      "Epoch 75, step 60214: Generator loss: 0.7837379929202295, discriminator loss: 0.6640324674908767\n",
      "Epoch 76, step 60996: Generator loss: 0.7820701664670963, discriminator loss: 0.6654117009828774\n",
      "Epoch 77, step 61778: Generator loss: 0.7806804520089913, discriminator loss: 0.6643282111800839\n",
      "Epoch 78, step 62560: Generator loss: 0.7840004014542027, discriminator loss: 0.6641919775996975\n",
      "Epoch 79, step 63342: Generator loss: 0.7820299331794303, discriminator loss: 0.6651136498621976\n",
      "Epoch 80, step 64124: Generator loss: 0.7818068728575012, discriminator loss: 0.665019586567988\n",
      "Epoch 81, step 64906: Generator loss: 0.7838401552051528, discriminator loss: 0.664420382522257\n",
      "Epoch 82, step 65688: Generator loss: 0.7834338541988206, discriminator loss: 0.6646424888649866\n",
      "Epoch 83, step 66470: Generator loss: 0.7795463071759715, discriminator loss: 0.6656328688954457\n",
      "Epoch 84, step 67252: Generator loss: 0.7805692515409813, discriminator loss: 0.6643189854938963\n",
      "Epoch 85, step 68034: Generator loss: 0.7821569585281865, discriminator loss: 0.6639835919108238\n",
      "Epoch 86, step 68816: Generator loss: 0.7783928379378358, discriminator loss: 0.6647407253227567\n",
      "Epoch 86, step 69598: Generator loss: 0.7817731177258066, discriminator loss: 0.6646253100746424\n",
      "Epoch 87, step 70380: Generator loss: 0.7784144950797177, discriminator loss: 0.6652464379587435\n",
      "Epoch 88, step 71162: Generator loss: 0.7820514289619364, discriminator loss: 0.6646842140218489\n",
      "Epoch 89, step 71944: Generator loss: 0.7803903470563769, discriminator loss: 0.6654936175059794\n",
      "Epoch 90, step 72726: Generator loss: 0.782256623287031, discriminator loss: 0.6651794593352494\n",
      "Epoch 91, step 73508: Generator loss: 0.7798806947972768, discriminator loss: 0.6651491222479147\n",
      "Epoch 92, step 74290: Generator loss: 0.7799829061683792, discriminator loss: 0.6648876866721125\n",
      "Epoch 93, step 75072: Generator loss: 0.7813412145428047, discriminator loss: 0.6644605231254603\n",
      "Epoch 94, step 75854: Generator loss: 0.782977298626205, discriminator loss: 0.6644499835455817\n",
      "Epoch 95, step 76636: Generator loss: 0.7806056868237305, discriminator loss: 0.6651050099326531\n",
      "Epoch 96, step 77418: Generator loss: 0.7817542953107048, discriminator loss: 0.665379647327506\n",
      "Epoch 97, step 78200: Generator loss: 0.7787983428944104, discriminator loss: 0.6644444123405933\n",
      "Epoch 98, step 78982: Generator loss: 0.7806798116782749, discriminator loss: 0.6653990881217412\n",
      "Epoch 99, step 79764: Generator loss: 0.7788677809336, discriminator loss: 0.6658384392938351\n",
      "Epoch 0, step 782: Generator loss: 0.7806282859019318, discriminator loss: 0.6661236975199124\n",
      "Epoch 1, step 1564: Generator loss: 0.7805371552782004, discriminator loss: 0.6643393339251004\n",
      "Epoch 2, step 2346: Generator loss: 0.7801916489515767, discriminator loss: 0.6651454570958073\n",
      "Epoch 3, step 3128: Generator loss: 0.7799772118668424, discriminator loss: 0.6660112199728451\n",
      "Epoch 4, step 3910: Generator loss: 0.7788430700064315, discriminator loss: 0.665909492908536\n",
      "Epoch 5, step 4692: Generator loss: 0.7772022952966363, discriminator loss: 0.6662823065467499\n",
      "Epoch 6, step 5474: Generator loss: 0.7785299331940657, discriminator loss: 0.6651322597737803\n",
      "Epoch 7, step 6256: Generator loss: 0.7775526443100945, discriminator loss: 0.6673799920112589\n",
      "Epoch 8, step 7038: Generator loss: 0.7774815845215102, discriminator loss: 0.6656195548794155\n",
      "Epoch 9, step 7820: Generator loss: 0.7766479846004327, discriminator loss: 0.6659462243089888\n",
      "Epoch 10, step 8602: Generator loss: 0.7784866011508595, discriminator loss: 0.6659522919398745\n",
      "Epoch 11, step 9384: Generator loss: 0.7766810996300734, discriminator loss: 0.6659511442074689\n",
      "Epoch 12, step 10166: Generator loss: 0.7785212832795997, discriminator loss: 0.665830006379911\n",
      "Epoch 13, step 10948: Generator loss: 0.7787302829268031, discriminator loss: 0.6660252236344326\n",
      "Epoch 14, step 11730: Generator loss: 0.7755109843085777, discriminator loss: 0.6662392177240318\n",
      "Epoch 15, step 12512: Generator loss: 0.7757337061340553, discriminator loss: 0.6659862678069292\n",
      "Epoch 16, step 13294: Generator loss: 0.7763541564154801, discriminator loss: 0.6661832822710653\n",
      "Epoch 17, step 14076: Generator loss: 0.7749131831824023, discriminator loss: 0.6675146634468944\n",
      "Epoch 18, step 14858: Generator loss: 0.7740187912493409, discriminator loss: 0.6669284689914234\n",
      "Epoch 19, step 15640: Generator loss: 0.7748513765957051, discriminator loss: 0.667230023523731\n",
      "Epoch 20, step 16422: Generator loss: 0.7772530521578189, discriminator loss: 0.6663205311883741\n",
      "Epoch 21, step 17204: Generator loss: 0.7747410824689109, discriminator loss: 0.6668268303432127\n",
      "Epoch 22, step 17986: Generator loss: 0.7774293714624533, discriminator loss: 0.665729954114655\n",
      "Epoch 23, step 18768: Generator loss: 0.7743640520688525, discriminator loss: 0.6667785974567203\n",
      "Epoch 24, step 19550: Generator loss: 0.7760080158558035, discriminator loss: 0.6663549530993953\n",
      "Epoch 25, step 20332: Generator loss: 0.7748041489087716, discriminator loss: 0.6672067192509358\n",
      "Epoch 26, step 21114: Generator loss: 0.7742937629485068, discriminator loss: 0.667235703419541\n",
      "Epoch 27, step 21896: Generator loss: 0.7739169348383808, discriminator loss: 0.6673355756513298\n",
      "Epoch 28, step 22678: Generator loss: 0.7765844865985543, discriminator loss: 0.6664842837454411\n",
      "Epoch 29, step 23460: Generator loss: 0.7760516975236977, discriminator loss: 0.6673936490969886\n",
      "Epoch 30, step 24242: Generator loss: 0.7726568254211069, discriminator loss: 0.6671566491389219\n",
      "Epoch 31, step 25024: Generator loss: 0.7776209080158283, discriminator loss: 0.6663447329607765\n",
      "Epoch 32, step 25806: Generator loss: 0.7751837404792573, discriminator loss: 0.6676942787664322\n",
      "Epoch 33, step 26588: Generator loss: 0.774613177684873, discriminator loss: 0.6670728317459522\n",
      "Epoch 34, step 27370: Generator loss: 0.7749713919961545, discriminator loss: 0.6672132477126157\n",
      "Epoch 35, step 28152: Generator loss: 0.7745466312331609, discriminator loss: 0.6662696417030468\n",
      "Epoch 36, step 28934: Generator loss: 0.7770726718866005, discriminator loss: 0.6659356918938634\n",
      "Epoch 37, step 29716: Generator loss: 0.7733192005578209, discriminator loss: 0.6678933181116354\n",
      "Epoch 38, step 30498: Generator loss: 0.7735277074377259, discriminator loss: 0.6677466682003597\n",
      "Epoch 39, step 31280: Generator loss: 0.7716638352864846, discriminator loss: 0.6674573240072832\n",
      "Epoch 40, step 32062: Generator loss: 0.7745987477204985, discriminator loss: 0.667439783854253\n",
      "Epoch 41, step 32844: Generator loss: 0.7734787827714944, discriminator loss: 0.6675887091080551\n",
      "Epoch 42, step 33626: Generator loss: 0.7736862785066176, discriminator loss: 0.6666937780654641\n",
      "Epoch 43, step 34408: Generator loss: 0.7734833836098159, discriminator loss: 0.6672486244412638\n",
      "Epoch 43, step 35190: Generator loss: 0.7754846458392373, discriminator loss: 0.6658035943575227\n",
      "Epoch 44, step 35972: Generator loss: 0.7759951552009343, discriminator loss: 0.6669520448388342\n",
      "Epoch 45, step 36754: Generator loss: 0.7738926396955309, discriminator loss: 0.6670374747584855\n",
      "Epoch 46, step 37536: Generator loss: 0.7749845852022595, discriminator loss: 0.6674206363575538\n",
      "Epoch 47, step 38318: Generator loss: 0.7734101022905706, discriminator loss: 0.6674096950941986\n",
      "Epoch 48, step 39100: Generator loss: 0.7732039516234339, discriminator loss: 0.6674449834829713\n",
      "Epoch 49, step 39882: Generator loss: 0.7754491268826266, discriminator loss: 0.6671950587683622\n",
      "Epoch 50, step 40664: Generator loss: 0.774905134116292, discriminator loss: 0.6665210864885377\n",
      "Epoch 51, step 41446: Generator loss: 0.7753842958556422, discriminator loss: 0.6670403980538052\n",
      "Epoch 52, step 42228: Generator loss: 0.7736427232889875, discriminator loss: 0.6668720419906901\n",
      "Epoch 53, step 43010: Generator loss: 0.7740666185650983, discriminator loss: 0.6676573641312393\n",
      "Epoch 54, step 43792: Generator loss: 0.7732485225590899, discriminator loss: 0.6676773489893553\n",
      "Epoch 55, step 44574: Generator loss: 0.7722106018029808, discriminator loss: 0.6671661864918508\n",
      "Epoch 56, step 45356: Generator loss: 0.7733080773554802, discriminator loss: 0.6674995177694599\n",
      "Epoch 57, step 46138: Generator loss: 0.7746808139411993, discriminator loss: 0.6670808479609089\n",
      "Epoch 58, step 46920: Generator loss: 0.7720759088730864, discriminator loss: 0.6679588734646293\n",
      "Epoch 59, step 47702: Generator loss: 0.773120471354946, discriminator loss: 0.6672009363046393\n",
      "Epoch 60, step 48484: Generator loss: 0.7715881741260316, discriminator loss: 0.6682781377411867\n",
      "Epoch 61, step 49266: Generator loss: 0.7737000756099094, discriminator loss: 0.6669719578969813\n",
      "Epoch 62, step 50048: Generator loss: 0.775017375607625, discriminator loss: 0.6669156482000173\n",
      "Epoch 63, step 50830: Generator loss: 0.7741744182146414, discriminator loss: 0.6677030322649279\n",
      "Epoch 64, step 51612: Generator loss: 0.7738766907273664, discriminator loss: 0.6664660102723512\n",
      "Epoch 65, step 52394: Generator loss: 0.7749740783973108, discriminator loss: 0.6676909402203371\n",
      "Epoch 66, step 53176: Generator loss: 0.7750586274334835, discriminator loss: 0.6665731830060339\n",
      "Epoch 67, step 53958: Generator loss: 0.7743128422276137, discriminator loss: 0.6670758554240328\n",
      "Epoch 68, step 54740: Generator loss: 0.773473214158012, discriminator loss: 0.6675909513707662\n",
      "Epoch 69, step 55522: Generator loss: 0.7747877129660838, discriminator loss: 0.6670091853422276\n",
      "Epoch 70, step 56304: Generator loss: 0.7723840473557987, discriminator loss: 0.6672841824229108\n",
      "Epoch 71, step 57086: Generator loss: 0.7747383294507976, discriminator loss: 0.6668384719230324\n",
      "Epoch 72, step 57868: Generator loss: 0.7692271291904745, discriminator loss: 0.6674609644638604\n",
      "Epoch 73, step 58650: Generator loss: 0.7724617682302086, discriminator loss: 0.667548045401683\n",
      "Epoch 74, step 59432: Generator loss: 0.7735474885577129, discriminator loss: 0.6676193313373027\n",
      "Epoch 75, step 60214: Generator loss: 0.7730353848098779, discriminator loss: 0.6670422084496148\n",
      "Epoch 76, step 60996: Generator loss: 0.7735298822450514, discriminator loss: 0.6674409302146848\n",
      "Epoch 77, step 61778: Generator loss: 0.772493920439039, discriminator loss: 0.6681297102852547\n",
      "Epoch 78, step 62560: Generator loss: 0.7763646168781967, discriminator loss: 0.6673131027947302\n",
      "Epoch 79, step 63342: Generator loss: 0.7755385657862937, discriminator loss: 0.6667279141485839\n",
      "Epoch 80, step 64124: Generator loss: 0.7754139292727952, discriminator loss: 0.666694746602831\n",
      "Epoch 81, step 64906: Generator loss: 0.7722063959407081, discriminator loss: 0.6676564689944768\n",
      "Epoch 82, step 65688: Generator loss: 0.7717560107445781, discriminator loss: 0.6675742453778792\n",
      "Epoch 83, step 66470: Generator loss: 0.7721165890431461, discriminator loss: 0.6677831940333858\n",
      "Epoch 84, step 67252: Generator loss: 0.7754084409197884, discriminator loss: 0.6663728422673459\n",
      "Epoch 85, step 68034: Generator loss: 0.775142618990919, discriminator loss: 0.6670606079156443\n",
      "Epoch 86, step 68816: Generator loss: 0.7737332124386929, discriminator loss: 0.6669144436831369\n",
      "Epoch 86, step 69598: Generator loss: 0.7746585856008404, discriminator loss: 0.6672802620836539\n",
      "Epoch 87, step 70380: Generator loss: 0.7737577091092647, discriminator loss: 0.6678104311456461\n",
      "Epoch 88, step 71162: Generator loss: 0.7712323004022583, discriminator loss: 0.667744138051786\n",
      "Epoch 89, step 71944: Generator loss: 0.7710368487688595, discriminator loss: 0.6683832510657942\n",
      "Epoch 90, step 72726: Generator loss: 0.7733539082205196, discriminator loss: 0.6671328328911914\n",
      "Epoch 91, step 73508: Generator loss: 0.7722060626272649, discriminator loss: 0.6682047780669854\n",
      "Epoch 92, step 74290: Generator loss: 0.7708254604388387, discriminator loss: 0.6676349509555062\n",
      "Epoch 93, step 75072: Generator loss: 0.7739851255246137, discriminator loss: 0.6675996832987847\n",
      "Epoch 94, step 75854: Generator loss: 0.7728350832486702, discriminator loss: 0.66734406138625\n",
      "Epoch 95, step 76636: Generator loss: 0.7739535197425066, discriminator loss: 0.6676895616914312\n",
      "Epoch 96, step 77418: Generator loss: 0.77100519451034, discriminator loss: 0.6686623084270737\n",
      "Epoch 97, step 78200: Generator loss: 0.7721816225887257, discriminator loss: 0.6680100615067249\n",
      "Epoch 98, step 78982: Generator loss: 0.773331734682897, discriminator loss: 0.6677641921945849\n",
      "Epoch 99, step 79764: Generator loss: 0.7728379501406192, discriminator loss: 0.6675252588966017\n",
      "Epoch 0, step 782: Generator loss: 0.773168086090967, discriminator loss: 0.6684065910099107\n",
      "Epoch 1, step 1564: Generator loss: 0.7724842708129097, discriminator loss: 0.6676733587556484\n",
      "Epoch 2, step 2346: Generator loss: 0.7699677187311074, discriminator loss: 0.6685990549414359\n",
      "Epoch 3, step 3128: Generator loss: 0.7738336259141901, discriminator loss: 0.6675475240515923\n",
      "Epoch 4, step 3910: Generator loss: 0.7703867753600843, discriminator loss: 0.6677978777367141\n",
      "Epoch 5, step 4692: Generator loss: 0.7710317911394413, discriminator loss: 0.6682251886181202\n",
      "Epoch 6, step 5474: Generator loss: 0.7743025947257376, discriminator loss: 0.6664353551157298\n",
      "Epoch 7, step 6256: Generator loss: 0.772150024047593, discriminator loss: 0.6676040150777764\n",
      "Epoch 8, step 7038: Generator loss: 0.7733833894247898, discriminator loss: 0.6674651494416431\n",
      "Epoch 9, step 7820: Generator loss: 0.77562524214425, discriminator loss: 0.6664148765756652\n",
      "Epoch 10, step 8602: Generator loss: 0.7729442927538595, discriminator loss: 0.6676758197719802\n",
      "Epoch 11, step 9384: Generator loss: 0.7725251858191721, discriminator loss: 0.6678966752555969\n",
      "Epoch 12, step 10166: Generator loss: 0.7739515508837105, discriminator loss: 0.6678726756969074\n",
      "Epoch 13, step 10948: Generator loss: 0.7725405498691229, discriminator loss: 0.6677944369785614\n",
      "Epoch 14, step 11730: Generator loss: 0.7716044583131598, discriminator loss: 0.6677214396579183\n",
      "Epoch 15, step 12512: Generator loss: 0.7726619960859303, discriminator loss: 0.6679735626558515\n",
      "Epoch 16, step 13294: Generator loss: 0.7721280712453297, discriminator loss: 0.6679271817817098\n",
      "Epoch 17, step 14076: Generator loss: 0.7714127726719507, discriminator loss: 0.6675267913152502\n",
      "Epoch 18, step 14858: Generator loss: 0.7760775830129829, discriminator loss: 0.6666626866973576\n",
      "Epoch 19, step 15640: Generator loss: 0.7724230608824266, discriminator loss: 0.6676550776604797\n",
      "Epoch 20, step 16422: Generator loss: 0.7738390353786977, discriminator loss: 0.6674218815763282\n",
      "Epoch 21, step 17204: Generator loss: 0.7715056840416101, discriminator loss: 0.6674308509320547\n",
      "Epoch 22, step 17986: Generator loss: 0.7744704372895028, discriminator loss: 0.6668385973824249\n",
      "Epoch 23, step 18768: Generator loss: 0.7737190135757019, discriminator loss: 0.6675482534081736\n",
      "Epoch 24, step 19550: Generator loss: 0.7742659952634435, discriminator loss: 0.6670665835480548\n",
      "Epoch 25, step 20332: Generator loss: 0.7738405067445051, discriminator loss: 0.6676465141803714\n",
      "Epoch 26, step 21114: Generator loss: 0.7735907205230445, discriminator loss: 0.667473772907501\n",
      "Epoch 27, step 21896: Generator loss: 0.7731938502367803, discriminator loss: 0.6669448771135275\n",
      "Epoch 28, step 22678: Generator loss: 0.7761303873165794, discriminator loss: 0.6670760687659777\n",
      "Epoch 29, step 23460: Generator loss: 0.7741310955465914, discriminator loss: 0.6669713344872765\n",
      "Epoch 30, step 24242: Generator loss: 0.7734464693557269, discriminator loss: 0.6673595226939075\n",
      "Epoch 31, step 25024: Generator loss: 0.7744232112032071, discriminator loss: 0.6670346373639748\n",
      "Epoch 32, step 25806: Generator loss: 0.7751397411231805, discriminator loss: 0.6671216569440741\n",
      "Epoch 33, step 26588: Generator loss: 0.7742089280844344, discriminator loss: 0.6670614465728134\n",
      "Epoch 34, step 27370: Generator loss: 0.7733077241484161, discriminator loss: 0.6669959115707655\n",
      "Epoch 35, step 28152: Generator loss: 0.7732622701951015, discriminator loss: 0.6670699390151621\n",
      "Epoch 36, step 28934: Generator loss: 0.7760750857155644, discriminator loss: 0.6666012378909714\n",
      "Epoch 37, step 29716: Generator loss: 0.7724583767106771, discriminator loss: 0.6680513057105075\n",
      "Epoch 38, step 30498: Generator loss: 0.7712716835996376, discriminator loss: 0.6683617744909225\n",
      "Epoch 39, step 31280: Generator loss: 0.772892873991481, discriminator loss: 0.6672893183310624\n",
      "Epoch 40, step 32062: Generator loss: 0.7750651009399877, discriminator loss: 0.6664651019493938\n",
      "Epoch 41, step 32844: Generator loss: 0.7759064669194428, discriminator loss: 0.6670944630489931\n",
      "Epoch 42, step 33626: Generator loss: 0.7740753785423609, discriminator loss: 0.6672981141320875\n",
      "Epoch 43, step 34408: Generator loss: 0.7748740967887138, discriminator loss: 0.6668565096452719\n",
      "Epoch 43, step 35190: Generator loss: 0.7718587497158732, discriminator loss: 0.6681604470743236\n",
      "Epoch 44, step 35972: Generator loss: 0.7727227088283092, discriminator loss: 0.6676030479123845\n",
      "Epoch 45, step 36754: Generator loss: 0.7749115270574377, discriminator loss: 0.666753586067264\n",
      "Epoch 46, step 37536: Generator loss: 0.7729052399735322, discriminator loss: 0.6682588018267357\n",
      "Epoch 47, step 38318: Generator loss: 0.7714184668972665, discriminator loss: 0.6677749474792536\n",
      "Epoch 48, step 39100: Generator loss: 0.7745118981889445, discriminator loss: 0.6671962263181695\n",
      "Epoch 49, step 39882: Generator loss: 0.7755893120527869, discriminator loss: 0.6667160522907281\n",
      "Epoch 50, step 40664: Generator loss: 0.7711780177205431, discriminator loss: 0.6679976827958057\n",
      "Epoch 51, step 41446: Generator loss: 0.7748795302627637, discriminator loss: 0.6671699178798118\n",
      "Epoch 52, step 42228: Generator loss: 0.7752196040299841, discriminator loss: 0.666769790908565\n",
      "Epoch 53, step 43010: Generator loss: 0.7737000628810402, discriminator loss: 0.6673768918837443\n",
      "Epoch 54, step 43792: Generator loss: 0.7730951606465113, discriminator loss: 0.6668060864786353\n",
      "Epoch 55, step 44574: Generator loss: 0.7744741867417865, discriminator loss: 0.6672863672913806\n",
      "Epoch 56, step 45356: Generator loss: 0.7744404467780267, discriminator loss: 0.6670536327240111\n",
      "Epoch 57, step 46138: Generator loss: 0.7735871937116396, discriminator loss: 0.6675751765670679\n",
      "Epoch 58, step 46920: Generator loss: 0.7758498638487215, discriminator loss: 0.6663508343574635\n",
      "Epoch 59, step 47702: Generator loss: 0.7743760936552911, discriminator loss: 0.6663341272212665\n",
      "Epoch 60, step 48484: Generator loss: 0.7739723785911375, discriminator loss: 0.6666430063412325\n",
      "Epoch 61, step 49266: Generator loss: 0.7770129365231987, discriminator loss: 0.667103217385919\n",
      "Epoch 62, step 50048: Generator loss: 0.7749549874564268, discriminator loss: 0.6659441072007883\n",
      "Epoch 63, step 50830: Generator loss: 0.7726098154969231, discriminator loss: 0.6669532229833287\n",
      "Epoch 64, step 51612: Generator loss: 0.7745090989048221, discriminator loss: 0.6668184313475326\n",
      "Epoch 65, step 52394: Generator loss: 0.7737832605229006, discriminator loss: 0.6675325078732527\n",
      "Epoch 66, step 53176: Generator loss: 0.772871538196379, discriminator loss: 0.6669837116737806\n",
      "Epoch 67, step 53958: Generator loss: 0.7734303776260529, discriminator loss: 0.6670965489828984\n",
      "Epoch 68, step 54740: Generator loss: 0.7756915298264353, discriminator loss: 0.6667204970289075\n",
      "Epoch 69, step 55522: Generator loss: 0.7731153846854142, discriminator loss: 0.6674503036167305\n",
      "Epoch 70, step 56304: Generator loss: 0.7761551635649502, discriminator loss: 0.6660379912999584\n",
      "Epoch 71, step 57086: Generator loss: 0.774156916781765, discriminator loss: 0.6674586758589193\n",
      "Epoch 72, step 57868: Generator loss: 0.776241960123067, discriminator loss: 0.6661294409076273\n",
      "Epoch 73, step 58650: Generator loss: 0.7759264927843335, discriminator loss: 0.6668427482895227\n",
      "Epoch 74, step 59432: Generator loss: 0.7772361351858323, discriminator loss: 0.6658835296740617\n",
      "Epoch 75, step 60214: Generator loss: 0.7731835348984157, discriminator loss: 0.6670938552645462\n",
      "Epoch 76, step 60996: Generator loss: 0.7730130735413183, discriminator loss: 0.6666243285169395\n",
      "Epoch 77, step 61778: Generator loss: 0.7748374554049934, discriminator loss: 0.6660915110879532\n",
      "Epoch 78, step 62560: Generator loss: 0.7726422778480808, discriminator loss: 0.667823963991517\n",
      "Epoch 79, step 63342: Generator loss: 0.7740156020197418, discriminator loss: 0.6673102363601066\n",
      "Epoch 80, step 64124: Generator loss: 0.7725521841317489, discriminator loss: 0.6677863767842189\n",
      "Epoch 81, step 64906: Generator loss: 0.7750169063163223, discriminator loss: 0.6667162116683654\n",
      "Epoch 82, step 65688: Generator loss: 0.7736598575663983, discriminator loss: 0.6685845252802916\n",
      "Epoch 83, step 66470: Generator loss: 0.7724567618211513, discriminator loss: 0.6672390619354781\n",
      "Epoch 84, step 67252: Generator loss: 0.7758029207701571, discriminator loss: 0.6660830393014363\n",
      "Epoch 85, step 68034: Generator loss: 0.7727583621621428, discriminator loss: 0.6672254960860138\n",
      "Epoch 86, step 68816: Generator loss: 0.7746071817777337, discriminator loss: 0.6669764461572213\n",
      "Epoch 86, step 69598: Generator loss: 0.7738485491794087, discriminator loss: 0.667664493517497\n",
      "Epoch 87, step 70380: Generator loss: 0.7732008529441139, discriminator loss: 0.6667240787954898\n",
      "Epoch 88, step 71162: Generator loss: 0.7736052203056459, discriminator loss: 0.6671073417681863\n",
      "Epoch 89, step 71944: Generator loss: 0.7738730173434133, discriminator loss: 0.667177765113313\n",
      "Epoch 90, step 72726: Generator loss: 0.7753688801280059, discriminator loss: 0.6672069426540221\n",
      "Epoch 91, step 73508: Generator loss: 0.7722662277233867, discriminator loss: 0.6678171500830388\n",
      "Epoch 92, step 74290: Generator loss: 0.7727661166349633, discriminator loss: 0.6673351651262439\n",
      "Epoch 93, step 75072: Generator loss: 0.7741587629251168, discriminator loss: 0.666347280868789\n",
      "Epoch 94, step 75854: Generator loss: 0.7745331343634966, discriminator loss: 0.6672333393560345\n",
      "Epoch 95, step 76636: Generator loss: 0.7737128561567462, discriminator loss: 0.6674326998955754\n",
      "Epoch 96, step 77418: Generator loss: 0.7717896930092127, discriminator loss: 0.6674566454137382\n",
      "Epoch 97, step 78200: Generator loss: 0.775885711240647, discriminator loss: 0.6668305626458217\n",
      "Epoch 98, step 78982: Generator loss: 0.7754360792581996, discriminator loss: 0.6668313326280739\n",
      "Epoch 99, step 79764: Generator loss: 0.7733595426125295, discriminator loss: 0.6674304195224783\n",
      "Epoch 0, step 782: Generator loss: 0.776459167451809, discriminator loss: 0.667578237821989\n",
      "Epoch 1, step 1564: Generator loss: 0.7753492294979835, discriminator loss: 0.6670773983611469\n",
      "Epoch 2, step 2346: Generator loss: 0.7752961751140294, discriminator loss: 0.6672399172849972\n",
      "Epoch 3, step 3128: Generator loss: 0.775030233594767, discriminator loss: 0.6667881699474271\n",
      "Epoch 4, step 3910: Generator loss: 0.7756205127977043, discriminator loss: 0.666378581691581\n",
      "Epoch 5, step 4692: Generator loss: 0.7737939857765843, discriminator loss: 0.6668943668265483\n",
      "Epoch 6, step 5474: Generator loss: 0.7750072119485986, discriminator loss: 0.6665206191027566\n",
      "Epoch 7, step 6256: Generator loss: 0.7755215894383237, discriminator loss: 0.6662987531603453\n",
      "Epoch 8, step 7038: Generator loss: 0.7751537832762574, discriminator loss: 0.6668115014310377\n",
      "Epoch 9, step 7820: Generator loss: 0.774681366160703, discriminator loss: 0.6671375448594004\n",
      "Epoch 10, step 8602: Generator loss: 0.7736030240040606, discriminator loss: 0.667500473806621\n",
      "Epoch 11, step 9384: Generator loss: 0.7761865701821756, discriminator loss: 0.6670170260969647\n",
      "Epoch 12, step 10166: Generator loss: 0.777687483660095, discriminator loss: 0.6662581560709293\n",
      "Epoch 13, step 10948: Generator loss: 0.7769098488418644, discriminator loss: 0.6660559185020758\n",
      "Epoch 14, step 11730: Generator loss: 0.7760690250969917, discriminator loss: 0.6668662775660426\n",
      "Epoch 15, step 12512: Generator loss: 0.7753755135456928, discriminator loss: 0.6673494694787828\n",
      "Epoch 16, step 13294: Generator loss: 0.7724665373639973, discriminator loss: 0.6673641017330878\n",
      "Epoch 17, step 14076: Generator loss: 0.7783776682508586, discriminator loss: 0.6664660581389958\n",
      "Epoch 18, step 14858: Generator loss: 0.7750579422087298, discriminator loss: 0.6668442368812267\n",
      "Epoch 19, step 15640: Generator loss: 0.7735634642031494, discriminator loss: 0.6670423640162124\n",
      "Epoch 20, step 16422: Generator loss: 0.7784496217280088, discriminator loss: 0.6662037916805436\n",
      "Epoch 21, step 17204: Generator loss: 0.7770690401191919, discriminator loss: 0.6669524077259371\n",
      "Epoch 22, step 17986: Generator loss: 0.7757393713954761, discriminator loss: 0.6662209299976567\n",
      "Epoch 23, step 18768: Generator loss: 0.7752065538140518, discriminator loss: 0.666740859713396\n",
      "Epoch 24, step 19550: Generator loss: 0.7775700862907686, discriminator loss: 0.6657999164765445\n",
      "Epoch 25, step 20332: Generator loss: 0.7774635126523667, discriminator loss: 0.6667904162498393\n",
      "Epoch 26, step 21114: Generator loss: 0.7773826196218088, discriminator loss: 0.6651145987346048\n",
      "Epoch 27, step 21896: Generator loss: 0.774993588247567, discriminator loss: 0.6669675088142191\n",
      "Epoch 28, step 22678: Generator loss: 0.7765004309394479, discriminator loss: 0.6661795133824844\n",
      "Epoch 29, step 23460: Generator loss: 0.7746124513009021, discriminator loss: 0.6665859057775241\n",
      "Epoch 30, step 24242: Generator loss: 0.7764389536264914, discriminator loss: 0.6664046370007501\n",
      "Epoch 31, step 25024: Generator loss: 0.7760210081439496, discriminator loss: 0.6657215698295843\n",
      "Epoch 32, step 25806: Generator loss: 0.7775769697888132, discriminator loss: 0.6669492768814497\n",
      "Epoch 33, step 26588: Generator loss: 0.7763267833253613, discriminator loss: 0.666326918565402\n",
      "Epoch 34, step 27370: Generator loss: 0.7770843710131057, discriminator loss: 0.6656277297098013\n",
      "Epoch 35, step 28152: Generator loss: 0.7751146848396885, discriminator loss: 0.6663258993412212\n",
      "Epoch 36, step 28934: Generator loss: 0.7759529052640465, discriminator loss: 0.6662616786901902\n",
      "Epoch 37, step 29716: Generator loss: 0.776604563683805, discriminator loss: 0.6667872465327572\n",
      "Epoch 38, step 30498: Generator loss: 0.7756361538339454, discriminator loss: 0.6662424016943985\n",
      "Epoch 39, step 31280: Generator loss: 0.776252729203695, discriminator loss: 0.6663555165995728\n",
      "Epoch 40, step 32062: Generator loss: 0.775530608185112, discriminator loss: 0.6665804730656814\n",
      "Epoch 41, step 32844: Generator loss: 0.7756121199759066, discriminator loss: 0.666584379608979\n",
      "Epoch 42, step 33626: Generator loss: 0.7744318230072865, discriminator loss: 0.6663876748298443\n",
      "Epoch 43, step 34408: Generator loss: 0.7749061001383748, discriminator loss: 0.6670320411319932\n",
      "Epoch 43, step 35190: Generator loss: 0.7753851438117454, discriminator loss: 0.6666014181530996\n",
      "Epoch 44, step 35972: Generator loss: 0.7753183959847522, discriminator loss: 0.6668316960487225\n",
      "Epoch 45, step 36754: Generator loss: 0.774104674453931, discriminator loss: 0.6664295467116945\n",
      "Epoch 46, step 37536: Generator loss: 0.7747679303216815, discriminator loss: 0.6675969229634761\n",
      "Epoch 47, step 38318: Generator loss: 0.7738085123126771, discriminator loss: 0.6673936433042091\n",
      "Epoch 48, step 39100: Generator loss: 0.7731870604140688, discriminator loss: 0.6670285337568841\n",
      "Epoch 49, step 39882: Generator loss: 0.7750710761912956, discriminator loss: 0.6667236453279511\n",
      "Epoch 50, step 40664: Generator loss: 0.777913497308331, discriminator loss: 0.6656263758002023\n",
      "Epoch 51, step 41446: Generator loss: 0.7766780908912642, discriminator loss: 0.6664247349704928\n",
      "Epoch 52, step 42228: Generator loss: 0.7757823501553988, discriminator loss: 0.6666318857303963\n",
      "Epoch 53, step 43010: Generator loss: 0.7755800011517752, discriminator loss: 0.6667273406634854\n",
      "Epoch 54, step 43792: Generator loss: 0.774786932389145, discriminator loss: 0.6665723231594886\n",
      "Epoch 55, step 44574: Generator loss: 0.7763117858973306, discriminator loss: 0.6667539514696504\n",
      "Epoch 56, step 45356: Generator loss: 0.7761696961987045, discriminator loss: 0.6661219534361759\n",
      "Epoch 57, step 46138: Generator loss: 0.7772789149333144, discriminator loss: 0.6663028925581054\n",
      "Epoch 58, step 46920: Generator loss: 0.7749163894854537, discriminator loss: 0.6675164276529149\n",
      "Epoch 59, step 47702: Generator loss: 0.7754932292891886, discriminator loss: 0.6665486934239898\n",
      "Epoch 60, step 48484: Generator loss: 0.777609873153364, discriminator loss: 0.6663597160593023\n",
      "Epoch 61, step 49266: Generator loss: 0.7736370930891203, discriminator loss: 0.6674537590092718\n",
      "Epoch 62, step 50048: Generator loss: 0.7760598224294774, discriminator loss: 0.6665447152331658\n",
      "Epoch 63, step 50830: Generator loss: 0.774068331322097, discriminator loss: 0.6669237811089781\n",
      "Epoch 64, step 51612: Generator loss: 0.7757980248050013, discriminator loss: 0.6666088783375135\n",
      "Epoch 65, step 52394: Generator loss: 0.7714201286625678, discriminator loss: 0.6681039529993094\n",
      "Epoch 66, step 53176: Generator loss: 0.7754327751638939, discriminator loss: 0.6666444671123533\n",
      "Epoch 67, step 53958: Generator loss: 0.7723094588502906, discriminator loss: 0.6679497085263969\n",
      "Epoch 68, step 54740: Generator loss: 0.7721548210781863, discriminator loss: 0.667767353908486\n",
      "Epoch 69, step 55522: Generator loss: 0.7772015965808081, discriminator loss: 0.6659675544637554\n",
      "Epoch 70, step 56304: Generator loss: 0.7754708763278657, discriminator loss: 0.6669270171381328\n",
      "Epoch 71, step 57086: Generator loss: 0.7739504340207185, discriminator loss: 0.6666403925022508\n",
      "Epoch 72, step 57868: Generator loss: 0.7760953115837652, discriminator loss: 0.6667825210734708\n",
      "Epoch 73, step 58650: Generator loss: 0.7757074392360199, discriminator loss: 0.6666545650690721\n",
      "Epoch 74, step 59432: Generator loss: 0.7753172160109588, discriminator loss: 0.6668486358869409\n",
      "Epoch 75, step 60214: Generator loss: 0.7763540944479927, discriminator loss: 0.6666498519575513\n",
      "Epoch 76, step 60996: Generator loss: 0.7756240144562524, discriminator loss: 0.6673127646031577\n",
      "Epoch 77, step 61778: Generator loss: 0.7760935024837095, discriminator loss: 0.6661558148958494\n",
      "Epoch 78, step 62560: Generator loss: 0.7750015966117841, discriminator loss: 0.6665313812472927\n",
      "Epoch 79, step 63342: Generator loss: 0.7753199220770762, discriminator loss: 0.667413833119985\n",
      "Epoch 80, step 64124: Generator loss: 0.7770945339861438, discriminator loss: 0.6658630413015176\n",
      "Epoch 81, step 64906: Generator loss: 0.776240508803321, discriminator loss: 0.6665733519112677\n",
      "Epoch 82, step 65688: Generator loss: 0.7740395649162402, discriminator loss: 0.666614260438762\n",
      "Epoch 83, step 66470: Generator loss: 0.7729635053430979, discriminator loss: 0.6673808626049313\n",
      "Epoch 84, step 67252: Generator loss: 0.7737631246714342, discriminator loss: 0.6674655266582504\n",
      "Epoch 85, step 68034: Generator loss: 0.7748924479307734, discriminator loss: 0.6669526713735917\n",
      "Epoch 86, step 68816: Generator loss: 0.7758945234291394, discriminator loss: 0.6663004432797731\n",
      "Epoch 86, step 69598: Generator loss: 0.7767194780089958, discriminator loss: 0.6660091415847971\n",
      "Epoch 87, step 70380: Generator loss: 0.7751670789993014, discriminator loss: 0.6671396254578521\n",
      "Epoch 88, step 71162: Generator loss: 0.7753198415879391, discriminator loss: 0.6665975956050931\n",
      "Epoch 89, step 71944: Generator loss: 0.7754394204720197, discriminator loss: 0.6675385171190251\n",
      "Epoch 90, step 72726: Generator loss: 0.7726822865893467, discriminator loss: 0.6679716888443582\n",
      "Epoch 91, step 73508: Generator loss: 0.7759126562749019, discriminator loss: 0.6670794031199287\n",
      "Epoch 92, step 74290: Generator loss: 0.7740558731129106, discriminator loss: 0.6667971563766061\n",
      "Epoch 93, step 75072: Generator loss: 0.7762075180135428, discriminator loss: 0.666537328525578\n",
      "Epoch 94, step 75854: Generator loss: 0.7739052292331099, discriminator loss: 0.6673431721184864\n",
      "Epoch 95, step 76636: Generator loss: 0.7757992874783325, discriminator loss: 0.666876939099157\n",
      "Epoch 96, step 77418: Generator loss: 0.7778740204356205, discriminator loss: 0.6661944377147945\n",
      "Epoch 97, step 78200: Generator loss: 0.7763719584630895, discriminator loss: 0.6673048581461154\n",
      "Epoch 98, step 78982: Generator loss: 0.7747660035367511, discriminator loss: 0.6677211263143187\n",
      "Epoch 99, step 79764: Generator loss: 0.7751669887539067, discriminator loss: 0.6663848988692775\n",
      "Epoch 0, step 782: Generator loss: 0.7739510767142785, discriminator loss: 0.6684172655005597\n",
      "Epoch 1, step 1564: Generator loss: 0.7733058834929587, discriminator loss: 0.6688053582025616\n",
      "Epoch 2, step 2346: Generator loss: 0.7756920837227941, discriminator loss: 0.6661817820175837\n",
      "Epoch 3, step 3128: Generator loss: 0.7752705990048617, discriminator loss: 0.6676831288105999\n",
      "Epoch 4, step 3910: Generator loss: 0.7740295350246716, discriminator loss: 0.6667421837444496\n",
      "Epoch 5, step 4692: Generator loss: 0.7767506079448151, discriminator loss: 0.6664010441821555\n",
      "Epoch 6, step 5474: Generator loss: 0.7752617706575666, discriminator loss: 0.6663485503257686\n",
      "Epoch 7, step 6256: Generator loss: 0.7746793213860144, discriminator loss: 0.6676429380541264\n",
      "Epoch 8, step 7038: Generator loss: 0.7733263091358088, discriminator loss: 0.6670152738576055\n",
      "Epoch 9, step 7820: Generator loss: 0.7761967253806946, discriminator loss: 0.6667477942031366\n",
      "Epoch 10, step 8602: Generator loss: 0.7756490393367866, discriminator loss: 0.666559158307512\n",
      "Epoch 11, step 9384: Generator loss: 0.7750356752244404, discriminator loss: 0.6661216809469112\n",
      "Epoch 12, step 10166: Generator loss: 0.7753255040291938, discriminator loss: 0.6673140031145046\n",
      "Epoch 13, step 10948: Generator loss: 0.7730911180491339, discriminator loss: 0.6670951626794723\n",
      "Epoch 14, step 11730: Generator loss: 0.7752644199392059, discriminator loss: 0.6674103637028239\n",
      "Epoch 15, step 12512: Generator loss: 0.7752221315870513, discriminator loss: 0.6665669703270158\n",
      "Epoch 16, step 13294: Generator loss: 0.7735019887194918, discriminator loss: 0.6678060738326953\n",
      "Epoch 17, step 14076: Generator loss: 0.7720703998642506, discriminator loss: 0.6675234548271156\n",
      "Epoch 18, step 14858: Generator loss: 0.7731565764493039, discriminator loss: 0.6680208921737382\n",
      "Epoch 19, step 15640: Generator loss: 0.773631076221271, discriminator loss: 0.6672470419455664\n",
      "Epoch 20, step 16422: Generator loss: 0.7756313263150431, discriminator loss: 0.6662999040940222\n",
      "Epoch 21, step 17204: Generator loss: 0.774117921471901, discriminator loss: 0.6667050035560834\n",
      "Epoch 22, step 17986: Generator loss: 0.7764037942794897, discriminator loss: 0.6665476665777318\n",
      "Epoch 23, step 18768: Generator loss: 0.7755404256493836, discriminator loss: 0.6662637410718772\n",
      "Epoch 24, step 19550: Generator loss: 0.7746287542383391, discriminator loss: 0.6672769038725995\n",
      "Epoch 25, step 20332: Generator loss: 0.7746686364531213, discriminator loss: 0.6670178658212234\n",
      "Epoch 26, step 21114: Generator loss: 0.7737564667106591, discriminator loss: 0.6675314605236053\n",
      "Epoch 27, step 21896: Generator loss: 0.7742141351065667, discriminator loss: 0.6675581250654156\n",
      "Epoch 28, step 22678: Generator loss: 0.77208050193689, discriminator loss: 0.6681088638275182\n",
      "Epoch 29, step 23460: Generator loss: 0.7715312516140517, discriminator loss: 0.6674395051911051\n",
      "Epoch 30, step 24242: Generator loss: 0.772858483712082, discriminator loss: 0.6669829894819517\n",
      "Epoch 31, step 25024: Generator loss: 0.7754169479203036, discriminator loss: 0.6671282585776985\n",
      "Epoch 32, step 25806: Generator loss: 0.7717636601851722, discriminator loss: 0.6678039846212958\n",
      "Epoch 33, step 26588: Generator loss: 0.7720411490753791, discriminator loss: 0.6682904784941615\n",
      "Epoch 34, step 27370: Generator loss: 0.7755019776046733, discriminator loss: 0.666822604815978\n",
      "Epoch 35, step 28152: Generator loss: 0.7747237622128123, discriminator loss: 0.6671390675980109\n",
      "Epoch 36, step 28934: Generator loss: 0.7723308778022573, discriminator loss: 0.6673563772912527\n",
      "Epoch 37, step 29716: Generator loss: 0.7740785378171963, discriminator loss: 0.6674284312273839\n",
      "Epoch 38, step 30498: Generator loss: 0.7731221156656892, discriminator loss: 0.6678001010204516\n",
      "Epoch 39, step 31280: Generator loss: 0.7746888760410621, discriminator loss: 0.6671670653173679\n",
      "Epoch 40, step 32062: Generator loss: 0.7726249655951619, discriminator loss: 0.6683573663387153\n",
      "Epoch 41, step 32844: Generator loss: 0.7755155250087111, discriminator loss: 0.6665043594587188\n",
      "Epoch 42, step 33626: Generator loss: 0.773944954966646, discriminator loss: 0.6672956805552347\n",
      "Epoch 43, step 34408: Generator loss: 0.7749540376693698, discriminator loss: 0.6665107216828934\n",
      "Epoch 43, step 35190: Generator loss: 0.7701140505730958, discriminator loss: 0.668599001282011\n",
      "Epoch 44, step 35972: Generator loss: 0.7747273913124947, discriminator loss: 0.6677259459824819\n",
      "Epoch 45, step 36754: Generator loss: 0.7752066132662541, discriminator loss: 0.6667159009924929\n",
      "Epoch 46, step 37536: Generator loss: 0.7735811676210753, discriminator loss: 0.6664417938655596\n",
      "Epoch 47, step 38318: Generator loss: 0.7730347590373304, discriminator loss: 0.6675981436391625\n",
      "Epoch 48, step 39100: Generator loss: 0.7718502069678148, discriminator loss: 0.6679736646392463\n",
      "Epoch 49, step 39882: Generator loss: 0.7733319756929837, discriminator loss: 0.6673217694777662\n",
      "Epoch 50, step 40664: Generator loss: 0.7725955707490291, discriminator loss: 0.6682416466648317\n",
      "Epoch 51, step 41446: Generator loss: 0.7713459850577141, discriminator loss: 0.6687124431743037\n",
      "Epoch 52, step 42228: Generator loss: 0.7732158565460266, discriminator loss: 0.6671034593868737\n",
      "Epoch 53, step 43010: Generator loss: 0.7760605754144968, discriminator loss: 0.6670086612481892\n",
      "Epoch 54, step 43792: Generator loss: 0.7739856933693754, discriminator loss: 0.6679370029045801\n",
      "Epoch 55, step 44574: Generator loss: 0.772738829979202, discriminator loss: 0.6671156327590305\n",
      "Epoch 56, step 45356: Generator loss: 0.7731812883673417, discriminator loss: 0.6667991775228541\n",
      "Epoch 57, step 46138: Generator loss: 0.7738444274648677, discriminator loss: 0.6672941954696882\n",
      "Epoch 58, step 46920: Generator loss: 0.7739078496270774, discriminator loss: 0.6674813114468703\n",
      "Epoch 59, step 47702: Generator loss: 0.772115751148185, discriminator loss: 0.6679154023185098\n",
      "Epoch 60, step 48484: Generator loss: 0.7721080696948647, discriminator loss: 0.6676501276547953\n",
      "Epoch 61, step 49266: Generator loss: 0.7744033267278498, discriminator loss: 0.6679047580875098\n",
      "Epoch 62, step 50048: Generator loss: 0.7726568936386984, discriminator loss: 0.6674939021277607\n",
      "Epoch 63, step 50830: Generator loss: 0.7710148833901675, discriminator loss: 0.6680455933446467\n",
      "Epoch 64, step 51612: Generator loss: 0.7740766178921351, discriminator loss: 0.6673022497188101\n",
      "Epoch 65, step 52394: Generator loss: 0.7737547579171407, discriminator loss: 0.6671059382388659\n",
      "Epoch 66, step 53176: Generator loss: 0.7729945634027277, discriminator loss: 0.6670493028505378\n",
      "Epoch 67, step 53958: Generator loss: 0.7752733996609591, discriminator loss: 0.6673154250130323\n",
      "Epoch 68, step 54740: Generator loss: 0.7720578767149657, discriminator loss: 0.6676581565224\n",
      "Epoch 69, step 55522: Generator loss: 0.774127004472801, discriminator loss: 0.6673993634445894\n",
      "Epoch 70, step 56304: Generator loss: 0.7736793729807714, discriminator loss: 0.6669387998788256\n",
      "Epoch 71, step 57086: Generator loss: 0.7747152321174015, discriminator loss: 0.6668278372196278\n",
      "Epoch 72, step 57868: Generator loss: 0.7725557722246554, discriminator loss: 0.668198293660913\n",
      "Epoch 73, step 58650: Generator loss: 0.7730923713473097, discriminator loss: 0.6680350088707321\n",
      "Epoch 74, step 59432: Generator loss: 0.7750186145000757, discriminator loss: 0.6666234704234717\n",
      "Epoch 75, step 60214: Generator loss: 0.7742710664601573, discriminator loss: 0.6676605958920311\n",
      "Epoch 76, step 60996: Generator loss: 0.7709821002257756, discriminator loss: 0.6680522471894993\n",
      "Epoch 77, step 61778: Generator loss: 0.773188133373894, discriminator loss: 0.6667367730604108\n",
      "Epoch 78, step 62560: Generator loss: 0.7720760878394627, discriminator loss: 0.6684285068450987\n",
      "Epoch 79, step 63342: Generator loss: 0.7737945501914111, discriminator loss: 0.6678003471373288\n",
      "Epoch 80, step 64124: Generator loss: 0.7743543176090022, discriminator loss: 0.6659566170114383\n",
      "Epoch 81, step 64906: Generator loss: 0.7707588114701887, discriminator loss: 0.6681910904929453\n",
      "Epoch 82, step 65688: Generator loss: 0.7747062398954424, discriminator loss: 0.6679049965060877\n",
      "Epoch 83, step 66470: Generator loss: 0.771745848000203, discriminator loss: 0.6683974586179496\n",
      "Epoch 84, step 67252: Generator loss: 0.7738029377539738, discriminator loss: 0.6675234805897375\n",
      "Epoch 85, step 68034: Generator loss: 0.772262181162529, discriminator loss: 0.6682447855887207\n",
      "Epoch 86, step 68816: Generator loss: 0.7725875718361881, discriminator loss: 0.6672249094909406\n",
      "Epoch 86, step 69598: Generator loss: 0.7728456828142976, discriminator loss: 0.6678141250329858\n",
      "Epoch 87, step 70380: Generator loss: 0.772054717363909, discriminator loss: 0.6680710900317682\n",
      "Epoch 88, step 71162: Generator loss: 0.7730851559077995, discriminator loss: 0.6673169636055631\n",
      "Epoch 89, step 71944: Generator loss: 0.7704526665418049, discriminator loss: 0.6679508569447884\n",
      "Epoch 90, step 72726: Generator loss: 0.7725546151933148, discriminator loss: 0.668320632194314\n",
      "Epoch 91, step 73508: Generator loss: 0.7709706787715483, discriminator loss: 0.6678235072766419\n",
      "Epoch 92, step 74290: Generator loss: 0.7723985254154796, discriminator loss: 0.6678398734773211\n",
      "Epoch 93, step 75072: Generator loss: 0.7726685448223358, discriminator loss: 0.6674242028037602\n",
      "Epoch 94, step 75854: Generator loss: 0.7731207700641558, discriminator loss: 0.6681559038589053\n",
      "Epoch 95, step 76636: Generator loss: 0.7699832939125999, discriminator loss: 0.6689785297416972\n",
      "Epoch 96, step 77418: Generator loss: 0.7687315023921036, discriminator loss: 0.6678389749868447\n",
      "Epoch 97, step 78200: Generator loss: 0.771297252544052, discriminator loss: 0.6681818366050722\n",
      "Epoch 98, step 78982: Generator loss: 0.7714571843061903, discriminator loss: 0.6681240758170243\n",
      "Epoch 99, step 79764: Generator loss: 0.7719995680519992, discriminator loss: 0.6676703301994391\n",
      "Epoch 0, step 782: Generator loss: 0.7741871426629904, discriminator loss: 0.6675492741567706\n",
      "Epoch 1, step 1564: Generator loss: 0.7725168524495779, discriminator loss: 0.6676919512126748\n",
      "Epoch 2, step 2346: Generator loss: 0.7713280254617679, discriminator loss: 0.6683786271325765\n",
      "Epoch 3, step 3128: Generator loss: 0.7701946047260941, discriminator loss: 0.6681526841409973\n",
      "Epoch 4, step 3910: Generator loss: 0.7731264232826957, discriminator loss: 0.6680084069823967\n",
      "Epoch 5, step 4692: Generator loss: 0.7715222077144083, discriminator loss: 0.6678151643794518\n",
      "Epoch 6, step 5474: Generator loss: 0.7713177717097894, discriminator loss: 0.6680392475079389\n",
      "Epoch 7, step 6256: Generator loss: 0.7721447750278142, discriminator loss: 0.6679975827941508\n",
      "Epoch 8, step 7038: Generator loss: 0.7734327787328562, discriminator loss: 0.6677147048666038\n",
      "Epoch 9, step 7820: Generator loss: 0.7711350080912069, discriminator loss: 0.66847568796114\n",
      "Epoch 10, step 8602: Generator loss: 0.7716509477256813, discriminator loss: 0.6680254687738548\n",
      "Epoch 11, step 9384: Generator loss: 0.7714360443984764, discriminator loss: 0.668289421616918\n",
      "Epoch 12, step 10166: Generator loss: 0.7721839205688217, discriminator loss: 0.6675634029728676\n",
      "Epoch 13, step 10948: Generator loss: 0.7718007806164544, discriminator loss: 0.6677896424632541\n",
      "Epoch 14, step 11730: Generator loss: 0.7697136943297624, discriminator loss: 0.668511938408513\n",
      "Epoch 15, step 12512: Generator loss: 0.772311371686819, discriminator loss: 0.6678991580710697\n",
      "Epoch 16, step 13294: Generator loss: 0.7745519687452589, discriminator loss: 0.6670227601095234\n",
      "Epoch 17, step 14076: Generator loss: 0.7726929709124744, discriminator loss: 0.6687607930596827\n",
      "Epoch 18, step 14858: Generator loss: 0.7697100364948479, discriminator loss: 0.6682588589160948\n",
      "Epoch 19, step 15640: Generator loss: 0.7694500095551584, discriminator loss: 0.6685297792524941\n",
      "Epoch 20, step 16422: Generator loss: 0.7730110442394493, discriminator loss: 0.6678074384894225\n",
      "Epoch 21, step 17204: Generator loss: 0.7708441016009392, discriminator loss: 0.668579602332981\n",
      "Epoch 22, step 17986: Generator loss: 0.7694960680916483, discriminator loss: 0.6687863235888267\n",
      "Epoch 23, step 18768: Generator loss: 0.769483664380315, discriminator loss: 0.6686486634604462\n",
      "Epoch 24, step 19550: Generator loss: 0.7721025928511953, discriminator loss: 0.6678825131310218\n",
      "Epoch 25, step 20332: Generator loss: 0.7720421038167857, discriminator loss: 0.668289232436958\n",
      "Epoch 26, step 21114: Generator loss: 0.773506770734592, discriminator loss: 0.6674786609456966\n",
      "Epoch 27, step 21896: Generator loss: 0.7722783478172239, discriminator loss: 0.6673431894206027\n",
      "Epoch 28, step 22678: Generator loss: 0.7735763475718107, discriminator loss: 0.6677967033270376\n",
      "Epoch 29, step 23460: Generator loss: 0.7718273338759349, discriminator loss: 0.6673633257293947\n",
      "Epoch 30, step 24242: Generator loss: 0.7704966837335435, discriminator loss: 0.6685475823671923\n",
      "Epoch 31, step 25024: Generator loss: 0.7707265790771041, discriminator loss: 0.6683213887617093\n",
      "Epoch 32, step 25806: Generator loss: 0.7714005217070471, discriminator loss: 0.6686765327477996\n",
      "Epoch 33, step 26588: Generator loss: 0.7680237132417568, discriminator loss: 0.668526210824547\n",
      "Epoch 34, step 27370: Generator loss: 0.7714762508564286, discriminator loss: 0.6679144250919754\n",
      "Epoch 35, step 28152: Generator loss: 0.7701743803823098, discriminator loss: 0.6681926027130886\n",
      "Epoch 36, step 28934: Generator loss: 0.7686400073568532, discriminator loss: 0.6689027684271488\n",
      "Epoch 37, step 29716: Generator loss: 0.7693629149738165, discriminator loss: 0.6689627692675038\n",
      "Epoch 38, step 30498: Generator loss: 0.7707416431983097, discriminator loss: 0.6686633195718534\n",
      "Epoch 39, step 31280: Generator loss: 0.7696716432528733, discriminator loss: 0.6684039245785955\n",
      "Epoch 40, step 32062: Generator loss: 0.7728892637183289, discriminator loss: 0.6675625186594546\n",
      "Epoch 41, step 32844: Generator loss: 0.7721360562097692, discriminator loss: 0.6677287255254243\n",
      "Epoch 42, step 33626: Generator loss: 0.7697428537299256, discriminator loss: 0.6686571212223428\n",
      "Epoch 43, step 34408: Generator loss: 0.7665413121890525, discriminator loss: 0.6695818824841235\n",
      "Epoch 43, step 35190: Generator loss: 0.7679869390052299, discriminator loss: 0.6687222130005919\n",
      "Epoch 44, step 35972: Generator loss: 0.7698543401782779, discriminator loss: 0.6692347387828483\n",
      "Epoch 45, step 36754: Generator loss: 0.7704078536051927, discriminator loss: 0.6686136733997817\n",
      "Epoch 46, step 37536: Generator loss: 0.7722927772480512, discriminator loss: 0.6673395834158149\n",
      "Epoch 47, step 38318: Generator loss: 0.7704815321871085, discriminator loss: 0.6687244723367571\n",
      "Epoch 48, step 39100: Generator loss: 0.7688967534495744, discriminator loss: 0.6687576041349668\n",
      "Epoch 49, step 39882: Generator loss: 0.7667461126051899, discriminator loss: 0.6690558909302774\n",
      "Epoch 50, step 40664: Generator loss: 0.7718370562166814, discriminator loss: 0.668526240931752\n",
      "Epoch 51, step 41446: Generator loss: 0.7697632246462572, discriminator loss: 0.6692410855342054\n",
      "Epoch 52, step 42228: Generator loss: 0.7669572944531353, discriminator loss: 0.6692554660312965\n",
      "Epoch 53, step 43010: Generator loss: 0.7704209672368082, discriminator loss: 0.6688061793289527\n",
      "Epoch 54, step 43792: Generator loss: 0.771449487456275, discriminator loss: 0.6682007797538779\n",
      "Epoch 55, step 44574: Generator loss: 0.7691946592172393, discriminator loss: 0.6691732745798658\n",
      "Epoch 56, step 45356: Generator loss: 0.768677438006682, discriminator loss: 0.6693789837762832\n",
      "Epoch 57, step 46138: Generator loss: 0.7683453974516501, discriminator loss: 0.6692713890843995\n",
      "Epoch 58, step 46920: Generator loss: 0.7713362258261117, discriminator loss: 0.6683484408861529\n",
      "Epoch 59, step 47702: Generator loss: 0.7709101667946864, discriminator loss: 0.6683616653427752\n",
      "Epoch 60, step 48484: Generator loss: 0.7690084684078051, discriminator loss: 0.6686928622862871\n",
      "Epoch 61, step 49266: Generator loss: 0.7672718555268734, discriminator loss: 0.6695489833879354\n",
      "Epoch 62, step 50048: Generator loss: 0.7677887838972197, discriminator loss: 0.6694662837726066\n",
      "Epoch 63, step 50830: Generator loss: 0.7665488700884993, discriminator loss: 0.6691858321809405\n",
      "Epoch 64, step 51612: Generator loss: 0.770381082887844, discriminator loss: 0.6689040098348852\n",
      "Epoch 65, step 52394: Generator loss: 0.7701685619171325, discriminator loss: 0.6690006745440882\n",
      "Epoch 66, step 53176: Generator loss: 0.7682635835217091, discriminator loss: 0.6690149756953534\n",
      "Epoch 67, step 53958: Generator loss: 0.7685502483259378, discriminator loss: 0.6690251581046895\n",
      "Epoch 68, step 54740: Generator loss: 0.7667002229739323, discriminator loss: 0.6686125933514228\n",
      "Epoch 69, step 55522: Generator loss: 0.7713737290381165, discriminator loss: 0.6687001029548744\n",
      "Epoch 70, step 56304: Generator loss: 0.7683347482662976, discriminator loss: 0.6687464854296511\n",
      "Epoch 71, step 57086: Generator loss: 0.7691971420327111, discriminator loss: 0.6689123932815272\n",
      "Epoch 72, step 57868: Generator loss: 0.7684622624188745, discriminator loss: 0.6696549112077264\n",
      "Epoch 73, step 58650: Generator loss: 0.7684466799964068, discriminator loss: 0.6694558753686796\n",
      "Epoch 74, step 59432: Generator loss: 0.7698992410736627, discriminator loss: 0.6681565315369755\n",
      "Epoch 75, step 60214: Generator loss: 0.7675982668729079, discriminator loss: 0.6691239793282328\n",
      "Epoch 76, step 60996: Generator loss: 0.7682292972836666, discriminator loss: 0.6695313584011849\n",
      "Epoch 77, step 61778: Generator loss: 0.7674466575045714, discriminator loss: 0.669456856330033\n",
      "Epoch 78, step 62560: Generator loss: 0.7695016119333783, discriminator loss: 0.6690934006972694\n",
      "Epoch 79, step 63342: Generator loss: 0.7697292512182695, discriminator loss: 0.669223248958587\n",
      "Epoch 80, step 64124: Generator loss: 0.7693382352209466, discriminator loss: 0.6690709630546654\n",
      "Epoch 81, step 64906: Generator loss: 0.7666736305369752, discriminator loss: 0.669551071684683\n",
      "Epoch 82, step 65688: Generator loss: 0.7694905994798212, discriminator loss: 0.6686063500316549\n",
      "Epoch 83, step 66470: Generator loss: 0.7688139494117873, discriminator loss: 0.6691931750615834\n",
      "Epoch 84, step 67252: Generator loss: 0.7680126381347254, discriminator loss: 0.669559415344083\n",
      "Epoch 85, step 68034: Generator loss: 0.765532139926921, discriminator loss: 0.669952924827785\n",
      "Epoch 86, step 68816: Generator loss: 0.7694448999431729, discriminator loss: 0.6681361872979132\n",
      "Epoch 86, step 69598: Generator loss: 0.7696950674971661, discriminator loss: 0.6700151648820211\n",
      "Epoch 87, step 70380: Generator loss: 0.7683925359602788, discriminator loss: 0.6682211443438846\n",
      "Epoch 88, step 71162: Generator loss: 0.7678429687876829, discriminator loss: 0.6695340557781335\n",
      "Epoch 89, step 71944: Generator loss: 0.7673644902151262, discriminator loss: 0.6695654179586467\n",
      "Epoch 90, step 72726: Generator loss: 0.768316897742279, discriminator loss: 0.6697332241651041\n",
      "Epoch 91, step 73508: Generator loss: 0.7695112140739674, discriminator loss: 0.6689627295564825\n",
      "Epoch 92, step 74290: Generator loss: 0.7691568330578181, discriminator loss: 0.6690656882722666\n",
      "Epoch 93, step 75072: Generator loss: 0.7684761586091713, discriminator loss: 0.6689764876347359\n",
      "Epoch 94, step 75854: Generator loss: 0.7687018775116752, discriminator loss: 0.6689845302220808\n",
      "Epoch 95, step 76636: Generator loss: 0.7691455915608361, discriminator loss: 0.6686443755846191\n",
      "Epoch 96, step 77418: Generator loss: 0.767001242055308, discriminator loss: 0.6700085778065663\n",
      "Epoch 97, step 78200: Generator loss: 0.7694155410732452, discriminator loss: 0.6688817037493371\n",
      "Epoch 98, step 78982: Generator loss: 0.7666493955323154, discriminator loss: 0.6702597103917683\n",
      "Epoch 99, step 79764: Generator loss: 0.7664601791392823, discriminator loss: 0.6690940016980669\n"
     ]
    },
    {
     "data": {
      "text/plain": "  0%|          | 0/800 [00:00<?, ?it/s]",
      "application/vnd.jupyter.widget-view+json": {
       "version_major": 2,
       "version_minor": 0,
       "model_id": "30ab19b58f944227b23f93aa59025868"
      }
     },
     "metadata": {},
     "output_type": "display_data"
    },
    {
     "data": {
      "text/plain": "  0%|          | 0/800 [00:00<?, ?it/s]",
      "application/vnd.jupyter.widget-view+json": {
       "version_major": 2,
       "version_minor": 0,
       "model_id": "3f2f2dcd0ce44d769475be2a7f0c356a"
      }
     },
     "metadata": {},
     "output_type": "display_data"
    },
    {
     "data": {
      "text/plain": "  0%|          | 0/800 [00:00<?, ?it/s]",
      "application/vnd.jupyter.widget-view+json": {
       "version_major": 2,
       "version_minor": 0,
       "model_id": "05e66800c7b24c5aa2e67102bb12764e"
      }
     },
     "metadata": {},
     "output_type": "display_data"
    },
    {
     "data": {
      "text/plain": "  0%|          | 0/800 [00:00<?, ?it/s]",
      "application/vnd.jupyter.widget-view+json": {
       "version_major": 2,
       "version_minor": 0,
       "model_id": "3bc7fdee8ed844b6bbb2e517226f24f4"
      }
     },
     "metadata": {},
     "output_type": "display_data"
    },
    {
     "data": {
      "text/plain": "  0%|          | 0/800 [00:00<?, ?it/s]",
      "application/vnd.jupyter.widget-view+json": {
       "version_major": 2,
       "version_minor": 0,
       "model_id": "d7d8e124e77340d7bf5cf9c4007c7b55"
      }
     },
     "metadata": {},
     "output_type": "display_data"
    },
    {
     "data": {
      "text/plain": "  0%|          | 0/800 [00:00<?, ?it/s]",
      "application/vnd.jupyter.widget-view+json": {
       "version_major": 2,
       "version_minor": 0,
       "model_id": "59a8fdf56ab647ae83bae078c0ade22c"
      }
     },
     "metadata": {},
     "output_type": "display_data"
    },
    {
     "data": {
      "text/plain": "  0%|          | 0/800 [00:00<?, ?it/s]",
      "application/vnd.jupyter.widget-view+json": {
       "version_major": 2,
       "version_minor": 0,
       "model_id": "d7b4179680bb4ea3aa767d2c314527ce"
      }
     },
     "metadata": {},
     "output_type": "display_data"
    },
    {
     "data": {
      "text/plain": "  0%|          | 0/800 [00:00<?, ?it/s]",
      "application/vnd.jupyter.widget-view+json": {
       "version_major": 2,
       "version_minor": 0,
       "model_id": "1e59b08797ff4c5fbfc91b6031d1ea15"
      }
     },
     "metadata": {},
     "output_type": "display_data"
    },
    {
     "data": {
      "text/plain": "  0%|          | 0/800 [00:00<?, ?it/s]",
      "application/vnd.jupyter.widget-view+json": {
       "version_major": 2,
       "version_minor": 0,
       "model_id": "0bea32f193e0479498083d2d8c3d93c5"
      }
     },
     "metadata": {},
     "output_type": "display_data"
    },
    {
     "data": {
      "text/plain": "  0%|          | 0/800 [00:00<?, ?it/s]",
      "application/vnd.jupyter.widget-view+json": {
       "version_major": 2,
       "version_minor": 0,
       "model_id": "dfb86151409145f59afff3137bcc6c8c"
      }
     },
     "metadata": {},
     "output_type": "display_data"
    },
    {
     "data": {
      "text/plain": "  0%|          | 0/800 [00:00<?, ?it/s]",
      "application/vnd.jupyter.widget-view+json": {
       "version_major": 2,
       "version_minor": 0,
       "model_id": "c58300d77c024ab7976f3fc0df52f9a6"
      }
     },
     "metadata": {},
     "output_type": "display_data"
    },
    {
     "data": {
      "text/plain": "  0%|          | 0/800 [00:00<?, ?it/s]",
      "application/vnd.jupyter.widget-view+json": {
       "version_major": 2,
       "version_minor": 0,
       "model_id": "6ad4b56d99e84b788f1ae87e9e595ca1"
      }
     },
     "metadata": {},
     "output_type": "display_data"
    },
    {
     "data": {
      "text/plain": "  0%|          | 0/800 [00:00<?, ?it/s]",
      "application/vnd.jupyter.widget-view+json": {
       "version_major": 2,
       "version_minor": 0,
       "model_id": "4db515d71bd14c0595c70b7f23d879cb"
      }
     },
     "metadata": {},
     "output_type": "display_data"
    },
    {
     "data": {
      "text/plain": "  0%|          | 0/800 [00:00<?, ?it/s]",
      "application/vnd.jupyter.widget-view+json": {
       "version_major": 2,
       "version_minor": 0,
       "model_id": "974fc05c0f5c4344a92ed863dea089f1"
      }
     },
     "metadata": {},
     "output_type": "display_data"
    },
    {
     "data": {
      "text/plain": "  0%|          | 0/800 [00:00<?, ?it/s]",
      "application/vnd.jupyter.widget-view+json": {
       "version_major": 2,
       "version_minor": 0,
       "model_id": "ea1fd384fab746f89a2ae47829f10985"
      }
     },
     "metadata": {},
     "output_type": "display_data"
    },
    {
     "data": {
      "text/plain": "  0%|          | 0/800 [00:00<?, ?it/s]",
      "application/vnd.jupyter.widget-view+json": {
       "version_major": 2,
       "version_minor": 0,
       "model_id": "9a438e826e5946b0b28a5c3772d0648c"
      }
     },
     "metadata": {},
     "output_type": "display_data"
    },
    {
     "data": {
      "text/plain": "  0%|          | 0/800 [00:00<?, ?it/s]",
      "application/vnd.jupyter.widget-view+json": {
       "version_major": 2,
       "version_minor": 0,
       "model_id": "777f5b16676643299d080b0c8a70e91c"
      }
     },
     "metadata": {},
     "output_type": "display_data"
    },
    {
     "data": {
      "text/plain": "  0%|          | 0/800 [00:00<?, ?it/s]",
      "application/vnd.jupyter.widget-view+json": {
       "version_major": 2,
       "version_minor": 0,
       "model_id": "50ae2c2d267d47918c876cb8ec2d0bb3"
      }
     },
     "metadata": {},
     "output_type": "display_data"
    },
    {
     "data": {
      "text/plain": "  0%|          | 0/800 [00:00<?, ?it/s]",
      "application/vnd.jupyter.widget-view+json": {
       "version_major": 2,
       "version_minor": 0,
       "model_id": "ec634d05bb5f463582a6007e398c9390"
      }
     },
     "metadata": {},
     "output_type": "display_data"
    },
    {
     "data": {
      "text/plain": "  0%|          | 0/800 [00:00<?, ?it/s]",
      "application/vnd.jupyter.widget-view+json": {
       "version_major": 2,
       "version_minor": 0,
       "model_id": "29e8c56a50d64d44aa0b054120563ddf"
      }
     },
     "metadata": {},
     "output_type": "display_data"
    },
    {
     "data": {
      "text/plain": "  0%|          | 0/800 [00:00<?, ?it/s]",
      "application/vnd.jupyter.widget-view+json": {
       "version_major": 2,
       "version_minor": 0,
       "model_id": "9d6dff96f8bc49839e7008ee7060190a"
      }
     },
     "metadata": {},
     "output_type": "display_data"
    },
    {
     "data": {
      "text/plain": "  0%|          | 0/800 [00:00<?, ?it/s]",
      "application/vnd.jupyter.widget-view+json": {
       "version_major": 2,
       "version_minor": 0,
       "model_id": "188cef5691b747dc8d7967d4e99acd61"
      }
     },
     "metadata": {},
     "output_type": "display_data"
    },
    {
     "data": {
      "text/plain": "  0%|          | 0/800 [00:00<?, ?it/s]",
      "application/vnd.jupyter.widget-view+json": {
       "version_major": 2,
       "version_minor": 0,
       "model_id": "12d1dcd209cf4b9b894345c9c59ac01a"
      }
     },
     "metadata": {},
     "output_type": "display_data"
    },
    {
     "data": {
      "text/plain": "  0%|          | 0/800 [00:00<?, ?it/s]",
      "application/vnd.jupyter.widget-view+json": {
       "version_major": 2,
       "version_minor": 0,
       "model_id": "f5af782d1a6041b898d25b00a3b60242"
      }
     },
     "metadata": {},
     "output_type": "display_data"
    },
    {
     "data": {
      "text/plain": "  0%|          | 0/800 [00:00<?, ?it/s]",
      "application/vnd.jupyter.widget-view+json": {
       "version_major": 2,
       "version_minor": 0,
       "model_id": "e991935a91b8430e82c7440c32fe03fb"
      }
     },
     "metadata": {},
     "output_type": "display_data"
    },
    {
     "data": {
      "text/plain": "  0%|          | 0/800 [00:00<?, ?it/s]",
      "application/vnd.jupyter.widget-view+json": {
       "version_major": 2,
       "version_minor": 0,
       "model_id": "efa59a5c27c94175839b5223851f9f0d"
      }
     },
     "metadata": {},
     "output_type": "display_data"
    },
    {
     "data": {
      "text/plain": "  0%|          | 0/800 [00:00<?, ?it/s]",
      "application/vnd.jupyter.widget-view+json": {
       "version_major": 2,
       "version_minor": 0,
       "model_id": "898f1950828d4511a299e57ba5c12384"
      }
     },
     "metadata": {},
     "output_type": "display_data"
    },
    {
     "data": {
      "text/plain": "  0%|          | 0/800 [00:00<?, ?it/s]",
      "application/vnd.jupyter.widget-view+json": {
       "version_major": 2,
       "version_minor": 0,
       "model_id": "c2925e0cf3c1492db602fc1e33888ed5"
      }
     },
     "metadata": {},
     "output_type": "display_data"
    },
    {
     "data": {
      "text/plain": "  0%|          | 0/800 [00:00<?, ?it/s]",
      "application/vnd.jupyter.widget-view+json": {
       "version_major": 2,
       "version_minor": 0,
       "model_id": "6e86373322814128ba68e0fe6bc9d4c2"
      }
     },
     "metadata": {},
     "output_type": "display_data"
    },
    {
     "data": {
      "text/plain": "  0%|          | 0/800 [00:00<?, ?it/s]",
      "application/vnd.jupyter.widget-view+json": {
       "version_major": 2,
       "version_minor": 0,
       "model_id": "5ee6cde2ea834d068810047731acf3a5"
      }
     },
     "metadata": {},
     "output_type": "display_data"
    },
    {
     "data": {
      "text/plain": "  0%|          | 0/800 [00:00<?, ?it/s]",
      "application/vnd.jupyter.widget-view+json": {
       "version_major": 2,
       "version_minor": 0,
       "model_id": "e586945681b94537848315a5dc6864a3"
      }
     },
     "metadata": {},
     "output_type": "display_data"
    },
    {
     "data": {
      "text/plain": "  0%|          | 0/800 [00:00<?, ?it/s]",
      "application/vnd.jupyter.widget-view+json": {
       "version_major": 2,
       "version_minor": 0,
       "model_id": "0847a9a5e96243e7b69b1d42dbf879dc"
      }
     },
     "metadata": {},
     "output_type": "display_data"
    },
    {
     "data": {
      "text/plain": "  0%|          | 0/800 [00:00<?, ?it/s]",
      "application/vnd.jupyter.widget-view+json": {
       "version_major": 2,
       "version_minor": 0,
       "model_id": "55b15f5b1ccf45bcaed4f4b823c35167"
      }
     },
     "metadata": {},
     "output_type": "display_data"
    },
    {
     "data": {
      "text/plain": "  0%|          | 0/800 [00:00<?, ?it/s]",
      "application/vnd.jupyter.widget-view+json": {
       "version_major": 2,
       "version_minor": 0,
       "model_id": "130f171bc29747fdb2ca948222bd404e"
      }
     },
     "metadata": {},
     "output_type": "display_data"
    },
    {
     "data": {
      "text/plain": "  0%|          | 0/800 [00:00<?, ?it/s]",
      "application/vnd.jupyter.widget-view+json": {
       "version_major": 2,
       "version_minor": 0,
       "model_id": "ef3b0c288d184ba989663240eb156dd8"
      }
     },
     "metadata": {},
     "output_type": "display_data"
    },
    {
     "data": {
      "text/plain": "  0%|          | 0/800 [00:00<?, ?it/s]",
      "application/vnd.jupyter.widget-view+json": {
       "version_major": 2,
       "version_minor": 0,
       "model_id": "bac5c62fff914de4bf9954c50c3187ff"
      }
     },
     "metadata": {},
     "output_type": "display_data"
    },
    {
     "data": {
      "text/plain": "  0%|          | 0/800 [00:00<?, ?it/s]",
      "application/vnd.jupyter.widget-view+json": {
       "version_major": 2,
       "version_minor": 0,
       "model_id": "a5b414c869d848edbb94911a9b2a8007"
      }
     },
     "metadata": {},
     "output_type": "display_data"
    },
    {
     "data": {
      "text/plain": "  0%|          | 0/800 [00:00<?, ?it/s]",
      "application/vnd.jupyter.widget-view+json": {
       "version_major": 2,
       "version_minor": 0,
       "model_id": "14ec2a912ca046b980525335c008bf5c"
      }
     },
     "metadata": {},
     "output_type": "display_data"
    },
    {
     "data": {
      "text/plain": "  0%|          | 0/800 [00:00<?, ?it/s]",
      "application/vnd.jupyter.widget-view+json": {
       "version_major": 2,
       "version_minor": 0,
       "model_id": "11c606e3222441e2b725f60589777fda"
      }
     },
     "metadata": {},
     "output_type": "display_data"
    },
    {
     "data": {
      "text/plain": "  0%|          | 0/800 [00:00<?, ?it/s]",
      "application/vnd.jupyter.widget-view+json": {
       "version_major": 2,
       "version_minor": 0,
       "model_id": "654a713fef2b46179bc7c8eba4f5855d"
      }
     },
     "metadata": {},
     "output_type": "display_data"
    },
    {
     "data": {
      "text/plain": "  0%|          | 0/800 [00:00<?, ?it/s]",
      "application/vnd.jupyter.widget-view+json": {
       "version_major": 2,
       "version_minor": 0,
       "model_id": "6a5237cd64b74cec82a44edc24c2d504"
      }
     },
     "metadata": {},
     "output_type": "display_data"
    },
    {
     "data": {
      "text/plain": "  0%|          | 0/800 [00:00<?, ?it/s]",
      "application/vnd.jupyter.widget-view+json": {
       "version_major": 2,
       "version_minor": 0,
       "model_id": "c74234874afb4f8ba10d82c1af37500a"
      }
     },
     "metadata": {},
     "output_type": "display_data"
    },
    {
     "data": {
      "text/plain": "  0%|          | 0/800 [00:00<?, ?it/s]",
      "application/vnd.jupyter.widget-view+json": {
       "version_major": 2,
       "version_minor": 0,
       "model_id": "af21c89844a349d8a36f107dfab8c715"
      }
     },
     "metadata": {},
     "output_type": "display_data"
    },
    {
     "data": {
      "text/plain": "  0%|          | 0/800 [00:00<?, ?it/s]",
      "application/vnd.jupyter.widget-view+json": {
       "version_major": 2,
       "version_minor": 0,
       "model_id": "aa83423b492343ed95cd2eed510637f9"
      }
     },
     "metadata": {},
     "output_type": "display_data"
    },
    {
     "data": {
      "text/plain": "  0%|          | 0/800 [00:00<?, ?it/s]",
      "application/vnd.jupyter.widget-view+json": {
       "version_major": 2,
       "version_minor": 0,
       "model_id": "fa1fb40666da4faa8b2282447bb1cec6"
      }
     },
     "metadata": {},
     "output_type": "display_data"
    },
    {
     "data": {
      "text/plain": "  0%|          | 0/800 [00:00<?, ?it/s]",
      "application/vnd.jupyter.widget-view+json": {
       "version_major": 2,
       "version_minor": 0,
       "model_id": "b8aef7292001428885545c8613d8e1a9"
      }
     },
     "metadata": {},
     "output_type": "display_data"
    },
    {
     "data": {
      "text/plain": "  0%|          | 0/800 [00:00<?, ?it/s]",
      "application/vnd.jupyter.widget-view+json": {
       "version_major": 2,
       "version_minor": 0,
       "model_id": "ba3be2afc0904b03ac84355ce7503416"
      }
     },
     "metadata": {},
     "output_type": "display_data"
    },
    {
     "data": {
      "text/plain": "  0%|          | 0/800 [00:00<?, ?it/s]",
      "application/vnd.jupyter.widget-view+json": {
       "version_major": 2,
       "version_minor": 0,
       "model_id": "321607765b924dd1975643a3a47ff79c"
      }
     },
     "metadata": {},
     "output_type": "display_data"
    },
    {
     "data": {
      "text/plain": "  0%|          | 0/800 [00:00<?, ?it/s]",
      "application/vnd.jupyter.widget-view+json": {
       "version_major": 2,
       "version_minor": 0,
       "model_id": "e72c2c7fdb0e4c66aae07d3c607b81ca"
      }
     },
     "metadata": {},
     "output_type": "display_data"
    },
    {
     "data": {
      "text/plain": "  0%|          | 0/800 [00:00<?, ?it/s]",
      "application/vnd.jupyter.widget-view+json": {
       "version_major": 2,
       "version_minor": 0,
       "model_id": "6ca7d41d56a44cfebbd0b55891656f35"
      }
     },
     "metadata": {},
     "output_type": "display_data"
    },
    {
     "data": {
      "text/plain": "  0%|          | 0/800 [00:00<?, ?it/s]",
      "application/vnd.jupyter.widget-view+json": {
       "version_major": 2,
       "version_minor": 0,
       "model_id": "c3b91ec832a54f58a04c3a710445cfa5"
      }
     },
     "metadata": {},
     "output_type": "display_data"
    },
    {
     "data": {
      "text/plain": "  0%|          | 0/800 [00:00<?, ?it/s]",
      "application/vnd.jupyter.widget-view+json": {
       "version_major": 2,
       "version_minor": 0,
       "model_id": "5d2575c726a74376956a985ede0d159f"
      }
     },
     "metadata": {},
     "output_type": "display_data"
    },
    {
     "data": {
      "text/plain": "  0%|          | 0/800 [00:00<?, ?it/s]",
      "application/vnd.jupyter.widget-view+json": {
       "version_major": 2,
       "version_minor": 0,
       "model_id": "52c8452d771240948e7058eaacb31b21"
      }
     },
     "metadata": {},
     "output_type": "display_data"
    },
    {
     "data": {
      "text/plain": "  0%|          | 0/800 [00:00<?, ?it/s]",
      "application/vnd.jupyter.widget-view+json": {
       "version_major": 2,
       "version_minor": 0,
       "model_id": "f6362175ac6f4f6580a7b142de781668"
      }
     },
     "metadata": {},
     "output_type": "display_data"
    },
    {
     "data": {
      "text/plain": "  0%|          | 0/800 [00:00<?, ?it/s]",
      "application/vnd.jupyter.widget-view+json": {
       "version_major": 2,
       "version_minor": 0,
       "model_id": "7b77707465d940dbae8053a66ac626f3"
      }
     },
     "metadata": {},
     "output_type": "display_data"
    },
    {
     "data": {
      "text/plain": "  0%|          | 0/800 [00:00<?, ?it/s]",
      "application/vnd.jupyter.widget-view+json": {
       "version_major": 2,
       "version_minor": 0,
       "model_id": "0fcc45daa9dd4be7a0818ca475ad9235"
      }
     },
     "metadata": {},
     "output_type": "display_data"
    },
    {
     "data": {
      "text/plain": "  0%|          | 0/800 [00:00<?, ?it/s]",
      "application/vnd.jupyter.widget-view+json": {
       "version_major": 2,
       "version_minor": 0,
       "model_id": "c73eccb7809641c19c6ea40b09eee1e4"
      }
     },
     "metadata": {},
     "output_type": "display_data"
    },
    {
     "data": {
      "text/plain": "  0%|          | 0/800 [00:00<?, ?it/s]",
      "application/vnd.jupyter.widget-view+json": {
       "version_major": 2,
       "version_minor": 0,
       "model_id": "b442d65c30c1426881ef0c7dc0ec1166"
      }
     },
     "metadata": {},
     "output_type": "display_data"
    },
    {
     "data": {
      "text/plain": "  0%|          | 0/800 [00:00<?, ?it/s]",
      "application/vnd.jupyter.widget-view+json": {
       "version_major": 2,
       "version_minor": 0,
       "model_id": "0dee3d4891184e219920cbd1491b08a6"
      }
     },
     "metadata": {},
     "output_type": "display_data"
    },
    {
     "data": {
      "text/plain": "  0%|          | 0/800 [00:00<?, ?it/s]",
      "application/vnd.jupyter.widget-view+json": {
       "version_major": 2,
       "version_minor": 0,
       "model_id": "3657f122ce374d43bfd4cad31802e7d9"
      }
     },
     "metadata": {},
     "output_type": "display_data"
    },
    {
     "data": {
      "text/plain": "  0%|          | 0/800 [00:00<?, ?it/s]",
      "application/vnd.jupyter.widget-view+json": {
       "version_major": 2,
       "version_minor": 0,
       "model_id": "66718c7615b4426592dcb578872c4046"
      }
     },
     "metadata": {},
     "output_type": "display_data"
    },
    {
     "data": {
      "text/plain": "  0%|          | 0/800 [00:00<?, ?it/s]",
      "application/vnd.jupyter.widget-view+json": {
       "version_major": 2,
       "version_minor": 0,
       "model_id": "08039065489444eaab96d4123a8f68df"
      }
     },
     "metadata": {},
     "output_type": "display_data"
    },
    {
     "data": {
      "text/plain": "  0%|          | 0/800 [00:00<?, ?it/s]",
      "application/vnd.jupyter.widget-view+json": {
       "version_major": 2,
       "version_minor": 0,
       "model_id": "d04a003084a74b458c39cd9f127aa1c8"
      }
     },
     "metadata": {},
     "output_type": "display_data"
    },
    {
     "data": {
      "text/plain": "  0%|          | 0/800 [00:00<?, ?it/s]",
      "application/vnd.jupyter.widget-view+json": {
       "version_major": 2,
       "version_minor": 0,
       "model_id": "ba98dc769154444396d1434cad9d5344"
      }
     },
     "metadata": {},
     "output_type": "display_data"
    },
    {
     "data": {
      "text/plain": "  0%|          | 0/800 [00:00<?, ?it/s]",
      "application/vnd.jupyter.widget-view+json": {
       "version_major": 2,
       "version_minor": 0,
       "model_id": "bd26aff9327c494a9e6116c063a2a9a8"
      }
     },
     "metadata": {},
     "output_type": "display_data"
    },
    {
     "data": {
      "text/plain": "  0%|          | 0/800 [00:00<?, ?it/s]",
      "application/vnd.jupyter.widget-view+json": {
       "version_major": 2,
       "version_minor": 0,
       "model_id": "dbdb94ee9a474efc9790bc240c428d56"
      }
     },
     "metadata": {},
     "output_type": "display_data"
    },
    {
     "data": {
      "text/plain": "  0%|          | 0/800 [00:00<?, ?it/s]",
      "application/vnd.jupyter.widget-view+json": {
       "version_major": 2,
       "version_minor": 0,
       "model_id": "56cf22e951504935ae36caa70d7cc136"
      }
     },
     "metadata": {},
     "output_type": "display_data"
    },
    {
     "data": {
      "text/plain": "  0%|          | 0/800 [00:00<?, ?it/s]",
      "application/vnd.jupyter.widget-view+json": {
       "version_major": 2,
       "version_minor": 0,
       "model_id": "c76f90a30e2e4a8488435126bde1e673"
      }
     },
     "metadata": {},
     "output_type": "display_data"
    },
    {
     "data": {
      "text/plain": "  0%|          | 0/800 [00:00<?, ?it/s]",
      "application/vnd.jupyter.widget-view+json": {
       "version_major": 2,
       "version_minor": 0,
       "model_id": "e6a99c935edf4a4e9dd6a8d7bd4d9a9d"
      }
     },
     "metadata": {},
     "output_type": "display_data"
    },
    {
     "data": {
      "text/plain": "  0%|          | 0/800 [00:00<?, ?it/s]",
      "application/vnd.jupyter.widget-view+json": {
       "version_major": 2,
       "version_minor": 0,
       "model_id": "1eca2aa6ea214bcda2dc664269551cdc"
      }
     },
     "metadata": {},
     "output_type": "display_data"
    },
    {
     "data": {
      "text/plain": "  0%|          | 0/800 [00:00<?, ?it/s]",
      "application/vnd.jupyter.widget-view+json": {
       "version_major": 2,
       "version_minor": 0,
       "model_id": "017bbf9a4d764aafb37c5a88cfa98ab0"
      }
     },
     "metadata": {},
     "output_type": "display_data"
    },
    {
     "data": {
      "text/plain": "  0%|          | 0/800 [00:00<?, ?it/s]",
      "application/vnd.jupyter.widget-view+json": {
       "version_major": 2,
       "version_minor": 0,
       "model_id": "72b3f4108a1f4e89bbbdab35886b4639"
      }
     },
     "metadata": {},
     "output_type": "display_data"
    },
    {
     "data": {
      "text/plain": "  0%|          | 0/800 [00:00<?, ?it/s]",
      "application/vnd.jupyter.widget-view+json": {
       "version_major": 2,
       "version_minor": 0,
       "model_id": "1ef7daf90497413788898008e2772c4d"
      }
     },
     "metadata": {},
     "output_type": "display_data"
    },
    {
     "data": {
      "text/plain": "  0%|          | 0/800 [00:00<?, ?it/s]",
      "application/vnd.jupyter.widget-view+json": {
       "version_major": 2,
       "version_minor": 0,
       "model_id": "07238e07035e46358adb7ece73920c5b"
      }
     },
     "metadata": {},
     "output_type": "display_data"
    },
    {
     "data": {
      "text/plain": "  0%|          | 0/800 [00:00<?, ?it/s]",
      "application/vnd.jupyter.widget-view+json": {
       "version_major": 2,
       "version_minor": 0,
       "model_id": "bd174b00545a41f68fcb09b26e98e3a4"
      }
     },
     "metadata": {},
     "output_type": "display_data"
    },
    {
     "data": {
      "text/plain": "  0%|          | 0/800 [00:00<?, ?it/s]",
      "application/vnd.jupyter.widget-view+json": {
       "version_major": 2,
       "version_minor": 0,
       "model_id": "c36ed8eea915444c82ccb718839ac5e8"
      }
     },
     "metadata": {},
     "output_type": "display_data"
    },
    {
     "data": {
      "text/plain": "  0%|          | 0/800 [00:00<?, ?it/s]",
      "application/vnd.jupyter.widget-view+json": {
       "version_major": 2,
       "version_minor": 0,
       "model_id": "d3e8ca0b8ffa4044bd685010adf84cc8"
      }
     },
     "metadata": {},
     "output_type": "display_data"
    },
    {
     "data": {
      "text/plain": "  0%|          | 0/800 [00:00<?, ?it/s]",
      "application/vnd.jupyter.widget-view+json": {
       "version_major": 2,
       "version_minor": 0,
       "model_id": "166529878e284eba8f99712610e0f443"
      }
     },
     "metadata": {},
     "output_type": "display_data"
    },
    {
     "data": {
      "text/plain": "  0%|          | 0/800 [00:00<?, ?it/s]",
      "application/vnd.jupyter.widget-view+json": {
       "version_major": 2,
       "version_minor": 0,
       "model_id": "a98d256a36bb4f07870035975a175331"
      }
     },
     "metadata": {},
     "output_type": "display_data"
    },
    {
     "data": {
      "text/plain": "  0%|          | 0/800 [00:00<?, ?it/s]",
      "application/vnd.jupyter.widget-view+json": {
       "version_major": 2,
       "version_minor": 0,
       "model_id": "d33adaeb7f074650bd3656e275e772e0"
      }
     },
     "metadata": {},
     "output_type": "display_data"
    },
    {
     "data": {
      "text/plain": "  0%|          | 0/800 [00:00<?, ?it/s]",
      "application/vnd.jupyter.widget-view+json": {
       "version_major": 2,
       "version_minor": 0,
       "model_id": "765fc06dbcd84cbcb0465bd23e152175"
      }
     },
     "metadata": {},
     "output_type": "display_data"
    },
    {
     "data": {
      "text/plain": "  0%|          | 0/800 [00:00<?, ?it/s]",
      "application/vnd.jupyter.widget-view+json": {
       "version_major": 2,
       "version_minor": 0,
       "model_id": "26335d902cbd4ee28e232a5d9d4b0097"
      }
     },
     "metadata": {},
     "output_type": "display_data"
    },
    {
     "data": {
      "text/plain": "  0%|          | 0/800 [00:00<?, ?it/s]",
      "application/vnd.jupyter.widget-view+json": {
       "version_major": 2,
       "version_minor": 0,
       "model_id": "e961ca012ccc4caa925b5b67df318eb1"
      }
     },
     "metadata": {},
     "output_type": "display_data"
    },
    {
     "data": {
      "text/plain": "  0%|          | 0/800 [00:00<?, ?it/s]",
      "application/vnd.jupyter.widget-view+json": {
       "version_major": 2,
       "version_minor": 0,
       "model_id": "3c2b16988b3443068e791c25ef08cdbb"
      }
     },
     "metadata": {},
     "output_type": "display_data"
    },
    {
     "data": {
      "text/plain": "  0%|          | 0/800 [00:00<?, ?it/s]",
      "application/vnd.jupyter.widget-view+json": {
       "version_major": 2,
       "version_minor": 0,
       "model_id": "2c46b7b2f7434c91b57e1b290a491a9e"
      }
     },
     "metadata": {},
     "output_type": "display_data"
    },
    {
     "data": {
      "text/plain": "  0%|          | 0/800 [00:00<?, ?it/s]",
      "application/vnd.jupyter.widget-view+json": {
       "version_major": 2,
       "version_minor": 0,
       "model_id": "a924a3c588b544e195c4041985abad96"
      }
     },
     "metadata": {},
     "output_type": "display_data"
    },
    {
     "data": {
      "text/plain": "  0%|          | 0/800 [00:00<?, ?it/s]",
      "application/vnd.jupyter.widget-view+json": {
       "version_major": 2,
       "version_minor": 0,
       "model_id": "143ee7585d484c1799e9f31ac9b978a5"
      }
     },
     "metadata": {},
     "output_type": "display_data"
    },
    {
     "data": {
      "text/plain": "  0%|          | 0/800 [00:00<?, ?it/s]",
      "application/vnd.jupyter.widget-view+json": {
       "version_major": 2,
       "version_minor": 0,
       "model_id": "2b41c4adddc241c588d1e219121d2486"
      }
     },
     "metadata": {},
     "output_type": "display_data"
    },
    {
     "data": {
      "text/plain": "  0%|          | 0/800 [00:00<?, ?it/s]",
      "application/vnd.jupyter.widget-view+json": {
       "version_major": 2,
       "version_minor": 0,
       "model_id": "5d59b3de8b9c45c08430545079cee8ae"
      }
     },
     "metadata": {},
     "output_type": "display_data"
    },
    {
     "data": {
      "text/plain": "  0%|          | 0/800 [00:00<?, ?it/s]",
      "application/vnd.jupyter.widget-view+json": {
       "version_major": 2,
       "version_minor": 0,
       "model_id": "544578196518485aa185881a421e8dee"
      }
     },
     "metadata": {},
     "output_type": "display_data"
    },
    {
     "data": {
      "text/plain": "  0%|          | 0/800 [00:00<?, ?it/s]",
      "application/vnd.jupyter.widget-view+json": {
       "version_major": 2,
       "version_minor": 0,
       "model_id": "e0cf7861e5b84df98f85cf8279605e5e"
      }
     },
     "metadata": {},
     "output_type": "display_data"
    },
    {
     "data": {
      "text/plain": "  0%|          | 0/800 [00:00<?, ?it/s]",
      "application/vnd.jupyter.widget-view+json": {
       "version_major": 2,
       "version_minor": 0,
       "model_id": "b1801a2042574b96be822a85082a5291"
      }
     },
     "metadata": {},
     "output_type": "display_data"
    },
    {
     "data": {
      "text/plain": "  0%|          | 0/800 [00:00<?, ?it/s]",
      "application/vnd.jupyter.widget-view+json": {
       "version_major": 2,
       "version_minor": 0,
       "model_id": "e4a4389848f0472db35d240e76b1518d"
      }
     },
     "metadata": {},
     "output_type": "display_data"
    },
    {
     "data": {
      "text/plain": "  0%|          | 0/800 [00:00<?, ?it/s]",
      "application/vnd.jupyter.widget-view+json": {
       "version_major": 2,
       "version_minor": 0,
       "model_id": "36ff47a65ebe4cb387aa3be5e29e5beb"
      }
     },
     "metadata": {},
     "output_type": "display_data"
    },
    {
     "data": {
      "text/plain": "  0%|          | 0/800 [00:00<?, ?it/s]",
      "application/vnd.jupyter.widget-view+json": {
       "version_major": 2,
       "version_minor": 0,
       "model_id": "86935f8594fc459fac40080cb9fbdec8"
      }
     },
     "metadata": {},
     "output_type": "display_data"
    },
    {
     "data": {
      "text/plain": "  0%|          | 0/800 [00:00<?, ?it/s]",
      "application/vnd.jupyter.widget-view+json": {
       "version_major": 2,
       "version_minor": 0,
       "model_id": "5445acdba32b4061b3b87e9436e62b77"
      }
     },
     "metadata": {},
     "output_type": "display_data"
    },
    {
     "data": {
      "text/plain": "  0%|          | 0/800 [00:00<?, ?it/s]",
      "application/vnd.jupyter.widget-view+json": {
       "version_major": 2,
       "version_minor": 0,
       "model_id": "2e15ad5b60af4dc1ba031712639d6d25"
      }
     },
     "metadata": {},
     "output_type": "display_data"
    },
    {
     "data": {
      "text/plain": "  0%|          | 0/800 [00:00<?, ?it/s]",
      "application/vnd.jupyter.widget-view+json": {
       "version_major": 2,
       "version_minor": 0,
       "model_id": "767b664871a54a999efb2d1d56c1b5b5"
      }
     },
     "metadata": {},
     "output_type": "display_data"
    },
    {
     "data": {
      "text/plain": "  0%|          | 0/800 [00:00<?, ?it/s]",
      "application/vnd.jupyter.widget-view+json": {
       "version_major": 2,
       "version_minor": 0,
       "model_id": "77ffa998ce9b4d8d9c20f11519b84d22"
      }
     },
     "metadata": {},
     "output_type": "display_data"
    },
    {
     "data": {
      "text/plain": "  0%|          | 0/800 [00:00<?, ?it/s]",
      "application/vnd.jupyter.widget-view+json": {
       "version_major": 2,
       "version_minor": 0,
       "model_id": "1049f7c353c541da859e87ec064b47d0"
      }
     },
     "metadata": {},
     "output_type": "display_data"
    },
    {
     "data": {
      "text/plain": "  0%|          | 0/800 [00:00<?, ?it/s]",
      "application/vnd.jupyter.widget-view+json": {
       "version_major": 2,
       "version_minor": 0,
       "model_id": "cba0c04c79454e67abd282de674727aa"
      }
     },
     "metadata": {},
     "output_type": "display_data"
    },
    {
     "data": {
      "text/plain": "  0%|          | 0/800 [00:00<?, ?it/s]",
      "application/vnd.jupyter.widget-view+json": {
       "version_major": 2,
       "version_minor": 0,
       "model_id": "76401cffd5514a769eeeab01721717ef"
      }
     },
     "metadata": {},
     "output_type": "display_data"
    },
    {
     "data": {
      "text/plain": "  0%|          | 0/800 [00:00<?, ?it/s]",
      "application/vnd.jupyter.widget-view+json": {
       "version_major": 2,
       "version_minor": 0,
       "model_id": "3550b846eadb42cd931a32a451c7cbb0"
      }
     },
     "metadata": {},
     "output_type": "display_data"
    },
    {
     "data": {
      "text/plain": "  0%|          | 0/800 [00:00<?, ?it/s]",
      "application/vnd.jupyter.widget-view+json": {
       "version_major": 2,
       "version_minor": 0,
       "model_id": "f7760563e2e84f41a602946e5915d653"
      }
     },
     "metadata": {},
     "output_type": "display_data"
    },
    {
     "data": {
      "text/plain": "  0%|          | 0/800 [00:00<?, ?it/s]",
      "application/vnd.jupyter.widget-view+json": {
       "version_major": 2,
       "version_minor": 0,
       "model_id": "348111cd189b47b59080b89b82e9d550"
      }
     },
     "metadata": {},
     "output_type": "display_data"
    },
    {
     "data": {
      "text/plain": "  0%|          | 0/800 [00:00<?, ?it/s]",
      "application/vnd.jupyter.widget-view+json": {
       "version_major": 2,
       "version_minor": 0,
       "model_id": "467adeaa8e7b46a7bbfccdf898356a58"
      }
     },
     "metadata": {},
     "output_type": "display_data"
    },
    {
     "data": {
      "text/plain": "  0%|          | 0/800 [00:00<?, ?it/s]",
      "application/vnd.jupyter.widget-view+json": {
       "version_major": 2,
       "version_minor": 0,
       "model_id": "1febd7a0adad4f5c9c9ea2176065d341"
      }
     },
     "metadata": {},
     "output_type": "display_data"
    },
    {
     "data": {
      "text/plain": "  0%|          | 0/800 [00:00<?, ?it/s]",
      "application/vnd.jupyter.widget-view+json": {
       "version_major": 2,
       "version_minor": 0,
       "model_id": "3026084d71534bd3b6537c6ffc8e47b5"
      }
     },
     "metadata": {},
     "output_type": "display_data"
    },
    {
     "data": {
      "text/plain": "  0%|          | 0/800 [00:00<?, ?it/s]",
      "application/vnd.jupyter.widget-view+json": {
       "version_major": 2,
       "version_minor": 0,
       "model_id": "5fc6002cf16e478a902146d1354e997b"
      }
     },
     "metadata": {},
     "output_type": "display_data"
    },
    {
     "data": {
      "text/plain": "  0%|          | 0/800 [00:00<?, ?it/s]",
      "application/vnd.jupyter.widget-view+json": {
       "version_major": 2,
       "version_minor": 0,
       "model_id": "e4f5c541530c48bdb6ff29cebc857cfb"
      }
     },
     "metadata": {},
     "output_type": "display_data"
    },
    {
     "data": {
      "text/plain": "  0%|          | 0/800 [00:00<?, ?it/s]",
      "application/vnd.jupyter.widget-view+json": {
       "version_major": 2,
       "version_minor": 0,
       "model_id": "c932c7887d2f43c0a3ccc7fce0c4a756"
      }
     },
     "metadata": {},
     "output_type": "display_data"
    },
    {
     "data": {
      "text/plain": "  0%|          | 0/800 [00:00<?, ?it/s]",
      "application/vnd.jupyter.widget-view+json": {
       "version_major": 2,
       "version_minor": 0,
       "model_id": "4e80fa0ac95c409ea4cb2bb963c90513"
      }
     },
     "metadata": {},
     "output_type": "display_data"
    },
    {
     "data": {
      "text/plain": "  0%|          | 0/800 [00:00<?, ?it/s]",
      "application/vnd.jupyter.widget-view+json": {
       "version_major": 2,
       "version_minor": 0,
       "model_id": "9573246394d44cfc8763b6845318ef78"
      }
     },
     "metadata": {},
     "output_type": "display_data"
    },
    {
     "data": {
      "text/plain": "  0%|          | 0/800 [00:00<?, ?it/s]",
      "application/vnd.jupyter.widget-view+json": {
       "version_major": 2,
       "version_minor": 0,
       "model_id": "43ff938555fc4a14a2b8abf17db87c12"
      }
     },
     "metadata": {},
     "output_type": "display_data"
    },
    {
     "data": {
      "text/plain": "  0%|          | 0/800 [00:00<?, ?it/s]",
      "application/vnd.jupyter.widget-view+json": {
       "version_major": 2,
       "version_minor": 0,
       "model_id": "086b5a9cddae4a4a9a9f849163d394eb"
      }
     },
     "metadata": {},
     "output_type": "display_data"
    },
    {
     "data": {
      "text/plain": "  0%|          | 0/800 [00:00<?, ?it/s]",
      "application/vnd.jupyter.widget-view+json": {
       "version_major": 2,
       "version_minor": 0,
       "model_id": "dc6c4996dfa447c9a683a8d254215d63"
      }
     },
     "metadata": {},
     "output_type": "display_data"
    },
    {
     "data": {
      "text/plain": "  0%|          | 0/800 [00:00<?, ?it/s]",
      "application/vnd.jupyter.widget-view+json": {
       "version_major": 2,
       "version_minor": 0,
       "model_id": "1bf8bd898433476ca006adecb26e2b5b"
      }
     },
     "metadata": {},
     "output_type": "display_data"
    },
    {
     "data": {
      "text/plain": "  0%|          | 0/800 [00:00<?, ?it/s]",
      "application/vnd.jupyter.widget-view+json": {
       "version_major": 2,
       "version_minor": 0,
       "model_id": "b7aa8eb2f5694569ba2adffd9030f6d0"
      }
     },
     "metadata": {},
     "output_type": "display_data"
    },
    {
     "data": {
      "text/plain": "  0%|          | 0/800 [00:00<?, ?it/s]",
      "application/vnd.jupyter.widget-view+json": {
       "version_major": 2,
       "version_minor": 0,
       "model_id": "74057044817d4fbcaf6bf9546a2b7657"
      }
     },
     "metadata": {},
     "output_type": "display_data"
    },
    {
     "data": {
      "text/plain": "  0%|          | 0/800 [00:00<?, ?it/s]",
      "application/vnd.jupyter.widget-view+json": {
       "version_major": 2,
       "version_minor": 0,
       "model_id": "bd06446d31524556a42acec80ee3992a"
      }
     },
     "metadata": {},
     "output_type": "display_data"
    },
    {
     "data": {
      "text/plain": "  0%|          | 0/800 [00:00<?, ?it/s]",
      "application/vnd.jupyter.widget-view+json": {
       "version_major": 2,
       "version_minor": 0,
       "model_id": "0da7a79f292b45d0b2dec2a89d54fce4"
      }
     },
     "metadata": {},
     "output_type": "display_data"
    },
    {
     "data": {
      "text/plain": "  0%|          | 0/800 [00:00<?, ?it/s]",
      "application/vnd.jupyter.widget-view+json": {
       "version_major": 2,
       "version_minor": 0,
       "model_id": "9ef29113ffae420a942ef61be2cee41a"
      }
     },
     "metadata": {},
     "output_type": "display_data"
    },
    {
     "data": {
      "text/plain": "  0%|          | 0/800 [00:00<?, ?it/s]",
      "application/vnd.jupyter.widget-view+json": {
       "version_major": 2,
       "version_minor": 0,
       "model_id": "41eab69780ed457babe3e500655272e4"
      }
     },
     "metadata": {},
     "output_type": "display_data"
    },
    {
     "data": {
      "text/plain": "  0%|          | 0/800 [00:00<?, ?it/s]",
      "application/vnd.jupyter.widget-view+json": {
       "version_major": 2,
       "version_minor": 0,
       "model_id": "348fe87da17e4416932b21a36ef33c54"
      }
     },
     "metadata": {},
     "output_type": "display_data"
    },
    {
     "data": {
      "text/plain": "  0%|          | 0/800 [00:00<?, ?it/s]",
      "application/vnd.jupyter.widget-view+json": {
       "version_major": 2,
       "version_minor": 0,
       "model_id": "d6e449920ad64f128983084df680bf2f"
      }
     },
     "metadata": {},
     "output_type": "display_data"
    },
    {
     "data": {
      "text/plain": "  0%|          | 0/800 [00:00<?, ?it/s]",
      "application/vnd.jupyter.widget-view+json": {
       "version_major": 2,
       "version_minor": 0,
       "model_id": "915ed04097994226ab8082b957145be8"
      }
     },
     "metadata": {},
     "output_type": "display_data"
    },
    {
     "data": {
      "text/plain": "  0%|          | 0/800 [00:00<?, ?it/s]",
      "application/vnd.jupyter.widget-view+json": {
       "version_major": 2,
       "version_minor": 0,
       "model_id": "f257e95481224bfb87cd7ebc8c753afa"
      }
     },
     "metadata": {},
     "output_type": "display_data"
    },
    {
     "data": {
      "text/plain": "  0%|          | 0/800 [00:00<?, ?it/s]",
      "application/vnd.jupyter.widget-view+json": {
       "version_major": 2,
       "version_minor": 0,
       "model_id": "181db937ef2a4c1aaeaacf47cb931eef"
      }
     },
     "metadata": {},
     "output_type": "display_data"
    },
    {
     "data": {
      "text/plain": "  0%|          | 0/800 [00:00<?, ?it/s]",
      "application/vnd.jupyter.widget-view+json": {
       "version_major": 2,
       "version_minor": 0,
       "model_id": "0494e756c2054d288c02c19cca727da2"
      }
     },
     "metadata": {},
     "output_type": "display_data"
    },
    {
     "data": {
      "text/plain": "  0%|          | 0/800 [00:00<?, ?it/s]",
      "application/vnd.jupyter.widget-view+json": {
       "version_major": 2,
       "version_minor": 0,
       "model_id": "7fd3848b899c4e638080cc6f1f6143dc"
      }
     },
     "metadata": {},
     "output_type": "display_data"
    },
    {
     "data": {
      "text/plain": "  0%|          | 0/800 [00:00<?, ?it/s]",
      "application/vnd.jupyter.widget-view+json": {
       "version_major": 2,
       "version_minor": 0,
       "model_id": "93fbad2710ec45f6951d22ea383b8af2"
      }
     },
     "metadata": {},
     "output_type": "display_data"
    },
    {
     "data": {
      "text/plain": "  0%|          | 0/800 [00:00<?, ?it/s]",
      "application/vnd.jupyter.widget-view+json": {
       "version_major": 2,
       "version_minor": 0,
       "model_id": "e35e49ca8f374cf29dd1169d26ca7b44"
      }
     },
     "metadata": {},
     "output_type": "display_data"
    },
    {
     "data": {
      "text/plain": "  0%|          | 0/800 [00:00<?, ?it/s]",
      "application/vnd.jupyter.widget-view+json": {
       "version_major": 2,
       "version_minor": 0,
       "model_id": "20812fc682b64991b53c4f5d9de389d1"
      }
     },
     "metadata": {},
     "output_type": "display_data"
    },
    {
     "data": {
      "text/plain": "  0%|          | 0/800 [00:00<?, ?it/s]",
      "application/vnd.jupyter.widget-view+json": {
       "version_major": 2,
       "version_minor": 0,
       "model_id": "4852cb299ebe4365bf05f3020de9fc92"
      }
     },
     "metadata": {},
     "output_type": "display_data"
    },
    {
     "data": {
      "text/plain": "  0%|          | 0/800 [00:00<?, ?it/s]",
      "application/vnd.jupyter.widget-view+json": {
       "version_major": 2,
       "version_minor": 0,
       "model_id": "8674270b847749409d2cf055cf0a1999"
      }
     },
     "metadata": {},
     "output_type": "display_data"
    },
    {
     "data": {
      "text/plain": "  0%|          | 0/800 [00:00<?, ?it/s]",
      "application/vnd.jupyter.widget-view+json": {
       "version_major": 2,
       "version_minor": 0,
       "model_id": "ebdfe038aa7147ffa42a27079b87b06d"
      }
     },
     "metadata": {},
     "output_type": "display_data"
    },
    {
     "data": {
      "text/plain": "  0%|          | 0/800 [00:00<?, ?it/s]",
      "application/vnd.jupyter.widget-view+json": {
       "version_major": 2,
       "version_minor": 0,
       "model_id": "fa681705a118422db5d0687d58473d9d"
      }
     },
     "metadata": {},
     "output_type": "display_data"
    },
    {
     "data": {
      "text/plain": "  0%|          | 0/800 [00:00<?, ?it/s]",
      "application/vnd.jupyter.widget-view+json": {
       "version_major": 2,
       "version_minor": 0,
       "model_id": "c92862f5840a4e7aaa32cdc9116e8269"
      }
     },
     "metadata": {},
     "output_type": "display_data"
    },
    {
     "data": {
      "text/plain": "  0%|          | 0/800 [00:00<?, ?it/s]",
      "application/vnd.jupyter.widget-view+json": {
       "version_major": 2,
       "version_minor": 0,
       "model_id": "da1a60ce3b4c4079a6d8a5fd95721ca6"
      }
     },
     "metadata": {},
     "output_type": "display_data"
    },
    {
     "data": {
      "text/plain": "  0%|          | 0/800 [00:00<?, ?it/s]",
      "application/vnd.jupyter.widget-view+json": {
       "version_major": 2,
       "version_minor": 0,
       "model_id": "8c6def0968984aba97a962a22d478926"
      }
     },
     "metadata": {},
     "output_type": "display_data"
    },
    {
     "data": {
      "text/plain": "  0%|          | 0/800 [00:00<?, ?it/s]",
      "application/vnd.jupyter.widget-view+json": {
       "version_major": 2,
       "version_minor": 0,
       "model_id": "3662bac69ade466886830ec3282486be"
      }
     },
     "metadata": {},
     "output_type": "display_data"
    },
    {
     "data": {
      "text/plain": "  0%|          | 0/800 [00:00<?, ?it/s]",
      "application/vnd.jupyter.widget-view+json": {
       "version_major": 2,
       "version_minor": 0,
       "model_id": "b3ac0c09f8c14feb92c0c88208ea89ee"
      }
     },
     "metadata": {},
     "output_type": "display_data"
    },
    {
     "data": {
      "text/plain": "  0%|          | 0/800 [00:00<?, ?it/s]",
      "application/vnd.jupyter.widget-view+json": {
       "version_major": 2,
       "version_minor": 0,
       "model_id": "bf78cf86d54249c2b1e86547a1f1f9d1"
      }
     },
     "metadata": {},
     "output_type": "display_data"
    },
    {
     "data": {
      "text/plain": "  0%|          | 0/800 [00:00<?, ?it/s]",
      "application/vnd.jupyter.widget-view+json": {
       "version_major": 2,
       "version_minor": 0,
       "model_id": "d8316f93640046c996a39f22b72f1bb8"
      }
     },
     "metadata": {},
     "output_type": "display_data"
    },
    {
     "data": {
      "text/plain": "  0%|          | 0/800 [00:00<?, ?it/s]",
      "application/vnd.jupyter.widget-view+json": {
       "version_major": 2,
       "version_minor": 0,
       "model_id": "b3e0c570023641ef89f8d38f95bc9484"
      }
     },
     "metadata": {},
     "output_type": "display_data"
    },
    {
     "data": {
      "text/plain": "  0%|          | 0/800 [00:00<?, ?it/s]",
      "application/vnd.jupyter.widget-view+json": {
       "version_major": 2,
       "version_minor": 0,
       "model_id": "3907acdc92aa475d86bf20a7b339a794"
      }
     },
     "metadata": {},
     "output_type": "display_data"
    },
    {
     "data": {
      "text/plain": "  0%|          | 0/800 [00:00<?, ?it/s]",
      "application/vnd.jupyter.widget-view+json": {
       "version_major": 2,
       "version_minor": 0,
       "model_id": "85010f3b368a495ba5e1ded8040dfda5"
      }
     },
     "metadata": {},
     "output_type": "display_data"
    },
    {
     "data": {
      "text/plain": "  0%|          | 0/800 [00:00<?, ?it/s]",
      "application/vnd.jupyter.widget-view+json": {
       "version_major": 2,
       "version_minor": 0,
       "model_id": "ca03a1bcf8dd454bafa88985af7de40d"
      }
     },
     "metadata": {},
     "output_type": "display_data"
    },
    {
     "data": {
      "text/plain": "  0%|          | 0/800 [00:00<?, ?it/s]",
      "application/vnd.jupyter.widget-view+json": {
       "version_major": 2,
       "version_minor": 0,
       "model_id": "ccebb3f27c6d4f04809a50133578ddf4"
      }
     },
     "metadata": {},
     "output_type": "display_data"
    },
    {
     "data": {
      "text/plain": "  0%|          | 0/800 [00:00<?, ?it/s]",
      "application/vnd.jupyter.widget-view+json": {
       "version_major": 2,
       "version_minor": 0,
       "model_id": "19b7f23d8a71417abceffc52b72593cc"
      }
     },
     "metadata": {},
     "output_type": "display_data"
    },
    {
     "data": {
      "text/plain": "  0%|          | 0/800 [00:00<?, ?it/s]",
      "application/vnd.jupyter.widget-view+json": {
       "version_major": 2,
       "version_minor": 0,
       "model_id": "c430662022d34594b99552e20e05d08f"
      }
     },
     "metadata": {},
     "output_type": "display_data"
    },
    {
     "data": {
      "text/plain": "  0%|          | 0/800 [00:00<?, ?it/s]",
      "application/vnd.jupyter.widget-view+json": {
       "version_major": 2,
       "version_minor": 0,
       "model_id": "58547cd9485742049a11831ebe06708e"
      }
     },
     "metadata": {},
     "output_type": "display_data"
    },
    {
     "data": {
      "text/plain": "  0%|          | 0/800 [00:00<?, ?it/s]",
      "application/vnd.jupyter.widget-view+json": {
       "version_major": 2,
       "version_minor": 0,
       "model_id": "0a457785884d4c759eaf0410771750e3"
      }
     },
     "metadata": {},
     "output_type": "display_data"
    },
    {
     "data": {
      "text/plain": "  0%|          | 0/800 [00:00<?, ?it/s]",
      "application/vnd.jupyter.widget-view+json": {
       "version_major": 2,
       "version_minor": 0,
       "model_id": "14692352b06042908f28d251b4200ac3"
      }
     },
     "metadata": {},
     "output_type": "display_data"
    },
    {
     "data": {
      "text/plain": "  0%|          | 0/800 [00:00<?, ?it/s]",
      "application/vnd.jupyter.widget-view+json": {
       "version_major": 2,
       "version_minor": 0,
       "model_id": "3ac0c99266434fb7b76e0fd56d862c3a"
      }
     },
     "metadata": {},
     "output_type": "display_data"
    },
    {
     "data": {
      "text/plain": "  0%|          | 0/800 [00:00<?, ?it/s]",
      "application/vnd.jupyter.widget-view+json": {
       "version_major": 2,
       "version_minor": 0,
       "model_id": "ce324844f25345a7bfde84bf1b9e1828"
      }
     },
     "metadata": {},
     "output_type": "display_data"
    },
    {
     "data": {
      "text/plain": "  0%|          | 0/800 [00:00<?, ?it/s]",
      "application/vnd.jupyter.widget-view+json": {
       "version_major": 2,
       "version_minor": 0,
       "model_id": "0405640cdb6f45b9b4f03f41ddc8080a"
      }
     },
     "metadata": {},
     "output_type": "display_data"
    },
    {
     "data": {
      "text/plain": "  0%|          | 0/800 [00:00<?, ?it/s]",
      "application/vnd.jupyter.widget-view+json": {
       "version_major": 2,
       "version_minor": 0,
       "model_id": "03554a335a334066b3b99a608ad50ec7"
      }
     },
     "metadata": {},
     "output_type": "display_data"
    },
    {
     "data": {
      "text/plain": "  0%|          | 0/800 [00:00<?, ?it/s]",
      "application/vnd.jupyter.widget-view+json": {
       "version_major": 2,
       "version_minor": 0,
       "model_id": "9fc2c89862a3435b9787419c6eb5f491"
      }
     },
     "metadata": {},
     "output_type": "display_data"
    },
    {
     "data": {
      "text/plain": "  0%|          | 0/800 [00:00<?, ?it/s]",
      "application/vnd.jupyter.widget-view+json": {
       "version_major": 2,
       "version_minor": 0,
       "model_id": "4d4402b420864458b3b4e6ed8c160302"
      }
     },
     "metadata": {},
     "output_type": "display_data"
    },
    {
     "data": {
      "text/plain": "  0%|          | 0/800 [00:00<?, ?it/s]",
      "application/vnd.jupyter.widget-view+json": {
       "version_major": 2,
       "version_minor": 0,
       "model_id": "0815f5522c7e4472944d1f98c07691f2"
      }
     },
     "metadata": {},
     "output_type": "display_data"
    },
    {
     "data": {
      "text/plain": "  0%|          | 0/800 [00:00<?, ?it/s]",
      "application/vnd.jupyter.widget-view+json": {
       "version_major": 2,
       "version_minor": 0,
       "model_id": "bca6283b508d45ca874273dc18e5c3b4"
      }
     },
     "metadata": {},
     "output_type": "display_data"
    },
    {
     "data": {
      "text/plain": "  0%|          | 0/800 [00:00<?, ?it/s]",
      "application/vnd.jupyter.widget-view+json": {
       "version_major": 2,
       "version_minor": 0,
       "model_id": "6a687574d4da4c73a8d9a0a0bf2364c8"
      }
     },
     "metadata": {},
     "output_type": "display_data"
    },
    {
     "data": {
      "text/plain": "  0%|          | 0/800 [00:00<?, ?it/s]",
      "application/vnd.jupyter.widget-view+json": {
       "version_major": 2,
       "version_minor": 0,
       "model_id": "3dcf24ae95b64f29a4e3ab923644e758"
      }
     },
     "metadata": {},
     "output_type": "display_data"
    },
    {
     "data": {
      "text/plain": "  0%|          | 0/800 [00:00<?, ?it/s]",
      "application/vnd.jupyter.widget-view+json": {
       "version_major": 2,
       "version_minor": 0,
       "model_id": "3b8279b639d641f2af1f70b980a1ea05"
      }
     },
     "metadata": {},
     "output_type": "display_data"
    },
    {
     "data": {
      "text/plain": "  0%|          | 0/800 [00:00<?, ?it/s]",
      "application/vnd.jupyter.widget-view+json": {
       "version_major": 2,
       "version_minor": 0,
       "model_id": "b08925202b3f41bdb08f0453cf4c046a"
      }
     },
     "metadata": {},
     "output_type": "display_data"
    },
    {
     "data": {
      "text/plain": "  0%|          | 0/800 [00:00<?, ?it/s]",
      "application/vnd.jupyter.widget-view+json": {
       "version_major": 2,
       "version_minor": 0,
       "model_id": "d3a3a9ffa98f4448857b02548031db70"
      }
     },
     "metadata": {},
     "output_type": "display_data"
    },
    {
     "data": {
      "text/plain": "  0%|          | 0/800 [00:00<?, ?it/s]",
      "application/vnd.jupyter.widget-view+json": {
       "version_major": 2,
       "version_minor": 0,
       "model_id": "3647a977d46f445a8599962b35f4299e"
      }
     },
     "metadata": {},
     "output_type": "display_data"
    },
    {
     "data": {
      "text/plain": "  0%|          | 0/800 [00:00<?, ?it/s]",
      "application/vnd.jupyter.widget-view+json": {
       "version_major": 2,
       "version_minor": 0,
       "model_id": "9ce913da9c31433d9affdf71d31caf36"
      }
     },
     "metadata": {},
     "output_type": "display_data"
    },
    {
     "data": {
      "text/plain": "  0%|          | 0/800 [00:00<?, ?it/s]",
      "application/vnd.jupyter.widget-view+json": {
       "version_major": 2,
       "version_minor": 0,
       "model_id": "757c570e64ef48e398a035d3173e784b"
      }
     },
     "metadata": {},
     "output_type": "display_data"
    },
    {
     "data": {
      "text/plain": "  0%|          | 0/800 [00:00<?, ?it/s]",
      "application/vnd.jupyter.widget-view+json": {
       "version_major": 2,
       "version_minor": 0,
       "model_id": "7a494bd8c421470081974ed1e8831952"
      }
     },
     "metadata": {},
     "output_type": "display_data"
    },
    {
     "data": {
      "text/plain": "  0%|          | 0/800 [00:00<?, ?it/s]",
      "application/vnd.jupyter.widget-view+json": {
       "version_major": 2,
       "version_minor": 0,
       "model_id": "66b0db0189a94f5096cf53f2ed891486"
      }
     },
     "metadata": {},
     "output_type": "display_data"
    },
    {
     "data": {
      "text/plain": "  0%|          | 0/800 [00:00<?, ?it/s]",
      "application/vnd.jupyter.widget-view+json": {
       "version_major": 2,
       "version_minor": 0,
       "model_id": "9d806ec4052f4b92b36289bfb938f778"
      }
     },
     "metadata": {},
     "output_type": "display_data"
    },
    {
     "data": {
      "text/plain": "  0%|          | 0/800 [00:00<?, ?it/s]",
      "application/vnd.jupyter.widget-view+json": {
       "version_major": 2,
       "version_minor": 0,
       "model_id": "1fa21354979c426784d2882741a379cc"
      }
     },
     "metadata": {},
     "output_type": "display_data"
    },
    {
     "data": {
      "text/plain": "  0%|          | 0/800 [00:00<?, ?it/s]",
      "application/vnd.jupyter.widget-view+json": {
       "version_major": 2,
       "version_minor": 0,
       "model_id": "86b42a4f2d1140e5947375ca832a6ca9"
      }
     },
     "metadata": {},
     "output_type": "display_data"
    },
    {
     "data": {
      "text/plain": "  0%|          | 0/800 [00:00<?, ?it/s]",
      "application/vnd.jupyter.widget-view+json": {
       "version_major": 2,
       "version_minor": 0,
       "model_id": "a6a713056dbe41a59a2da003baedb08a"
      }
     },
     "metadata": {},
     "output_type": "display_data"
    },
    {
     "data": {
      "text/plain": "  0%|          | 0/800 [00:00<?, ?it/s]",
      "application/vnd.jupyter.widget-view+json": {
       "version_major": 2,
       "version_minor": 0,
       "model_id": "d79b65ad9fe7491dbf83d1b5fe4cc70b"
      }
     },
     "metadata": {},
     "output_type": "display_data"
    },
    {
     "data": {
      "text/plain": "  0%|          | 0/800 [00:00<?, ?it/s]",
      "application/vnd.jupyter.widget-view+json": {
       "version_major": 2,
       "version_minor": 0,
       "model_id": "cc895c17246a4ed38287b9d769f169bd"
      }
     },
     "metadata": {},
     "output_type": "display_data"
    },
    {
     "data": {
      "text/plain": "  0%|          | 0/800 [00:00<?, ?it/s]",
      "application/vnd.jupyter.widget-view+json": {
       "version_major": 2,
       "version_minor": 0,
       "model_id": "036bc6af40fb44efb1041c5ddc8c2327"
      }
     },
     "metadata": {},
     "output_type": "display_data"
    },
    {
     "data": {
      "text/plain": "  0%|          | 0/800 [00:00<?, ?it/s]",
      "application/vnd.jupyter.widget-view+json": {
       "version_major": 2,
       "version_minor": 0,
       "model_id": "428a5ba529d44700a1d6e51ff4d00873"
      }
     },
     "metadata": {},
     "output_type": "display_data"
    },
    {
     "data": {
      "text/plain": "  0%|          | 0/800 [00:00<?, ?it/s]",
      "application/vnd.jupyter.widget-view+json": {
       "version_major": 2,
       "version_minor": 0,
       "model_id": "86b4bc531186428790a2911a4f6d3400"
      }
     },
     "metadata": {},
     "output_type": "display_data"
    },
    {
     "data": {
      "text/plain": "  0%|          | 0/800 [00:00<?, ?it/s]",
      "application/vnd.jupyter.widget-view+json": {
       "version_major": 2,
       "version_minor": 0,
       "model_id": "23d8f2f647234616b1b1a3ffce0ee5a6"
      }
     },
     "metadata": {},
     "output_type": "display_data"
    },
    {
     "data": {
      "text/plain": "  0%|          | 0/800 [00:00<?, ?it/s]",
      "application/vnd.jupyter.widget-view+json": {
       "version_major": 2,
       "version_minor": 0,
       "model_id": "650c2f0a785d49c1b83982e22587f05d"
      }
     },
     "metadata": {},
     "output_type": "display_data"
    },
    {
     "data": {
      "text/plain": "  0%|          | 0/800 [00:00<?, ?it/s]",
      "application/vnd.jupyter.widget-view+json": {
       "version_major": 2,
       "version_minor": 0,
       "model_id": "5922fd4adb094c5fae12feb993c6ccb3"
      }
     },
     "metadata": {},
     "output_type": "display_data"
    },
    {
     "data": {
      "text/plain": "  0%|          | 0/800 [00:00<?, ?it/s]",
      "application/vnd.jupyter.widget-view+json": {
       "version_major": 2,
       "version_minor": 0,
       "model_id": "edf808c62d7642c88dd163e52c0fad81"
      }
     },
     "metadata": {},
     "output_type": "display_data"
    },
    {
     "data": {
      "text/plain": "  0%|          | 0/800 [00:00<?, ?it/s]",
      "application/vnd.jupyter.widget-view+json": {
       "version_major": 2,
       "version_minor": 0,
       "model_id": "afeac8de852c4adc899a24dc70c22017"
      }
     },
     "metadata": {},
     "output_type": "display_data"
    },
    {
     "data": {
      "text/plain": "  0%|          | 0/800 [00:00<?, ?it/s]",
      "application/vnd.jupyter.widget-view+json": {
       "version_major": 2,
       "version_minor": 0,
       "model_id": "1b336448333943fb89842dd7f02de564"
      }
     },
     "metadata": {},
     "output_type": "display_data"
    },
    {
     "data": {
      "text/plain": "  0%|          | 0/800 [00:00<?, ?it/s]",
      "application/vnd.jupyter.widget-view+json": {
       "version_major": 2,
       "version_minor": 0,
       "model_id": "5836aa955c6b4d35991b4b1b7b29734a"
      }
     },
     "metadata": {},
     "output_type": "display_data"
    },
    {
     "data": {
      "text/plain": "  0%|          | 0/800 [00:00<?, ?it/s]",
      "application/vnd.jupyter.widget-view+json": {
       "version_major": 2,
       "version_minor": 0,
       "model_id": "71e26858ff894a3e876d0d6865135894"
      }
     },
     "metadata": {},
     "output_type": "display_data"
    },
    {
     "data": {
      "text/plain": "  0%|          | 0/800 [00:00<?, ?it/s]",
      "application/vnd.jupyter.widget-view+json": {
       "version_major": 2,
       "version_minor": 0,
       "model_id": "03f14976bf5d44589745eb03f490139a"
      }
     },
     "metadata": {},
     "output_type": "display_data"
    },
    {
     "data": {
      "text/plain": "  0%|          | 0/800 [00:00<?, ?it/s]",
      "application/vnd.jupyter.widget-view+json": {
       "version_major": 2,
       "version_minor": 0,
       "model_id": "7687f39dc80a47a78b927628e7274efd"
      }
     },
     "metadata": {},
     "output_type": "display_data"
    },
    {
     "data": {
      "text/plain": "  0%|          | 0/800 [00:00<?, ?it/s]",
      "application/vnd.jupyter.widget-view+json": {
       "version_major": 2,
       "version_minor": 0,
       "model_id": "193d89cbdeb24f809461b2da9d521cd7"
      }
     },
     "metadata": {},
     "output_type": "display_data"
    },
    {
     "data": {
      "text/plain": "  0%|          | 0/800 [00:00<?, ?it/s]",
      "application/vnd.jupyter.widget-view+json": {
       "version_major": 2,
       "version_minor": 0,
       "model_id": "69669b69b7054a7092bde3e523a8a982"
      }
     },
     "metadata": {},
     "output_type": "display_data"
    },
    {
     "data": {
      "text/plain": "  0%|          | 0/800 [00:00<?, ?it/s]",
      "application/vnd.jupyter.widget-view+json": {
       "version_major": 2,
       "version_minor": 0,
       "model_id": "8844f43b6120491cae53d2f172f38476"
      }
     },
     "metadata": {},
     "output_type": "display_data"
    },
    {
     "data": {
      "text/plain": "  0%|          | 0/800 [00:00<?, ?it/s]",
      "application/vnd.jupyter.widget-view+json": {
       "version_major": 2,
       "version_minor": 0,
       "model_id": "d17417649b0b4974af2d7fdd70be4a25"
      }
     },
     "metadata": {},
     "output_type": "display_data"
    },
    {
     "data": {
      "text/plain": "  0%|          | 0/800 [00:00<?, ?it/s]",
      "application/vnd.jupyter.widget-view+json": {
       "version_major": 2,
       "version_minor": 0,
       "model_id": "701ebb2646cb463ba24f3e714869c682"
      }
     },
     "metadata": {},
     "output_type": "display_data"
    },
    {
     "data": {
      "text/plain": "  0%|          | 0/800 [00:00<?, ?it/s]",
      "application/vnd.jupyter.widget-view+json": {
       "version_major": 2,
       "version_minor": 0,
       "model_id": "860cd1c018d34a0fa6ba3babc9e1d704"
      }
     },
     "metadata": {},
     "output_type": "display_data"
    },
    {
     "data": {
      "text/plain": "  0%|          | 0/800 [00:00<?, ?it/s]",
      "application/vnd.jupyter.widget-view+json": {
       "version_major": 2,
       "version_minor": 0,
       "model_id": "827790746c954625ac08312e033d320a"
      }
     },
     "metadata": {},
     "output_type": "display_data"
    },
    {
     "data": {
      "text/plain": "  0%|          | 0/800 [00:00<?, ?it/s]",
      "application/vnd.jupyter.widget-view+json": {
       "version_major": 2,
       "version_minor": 0,
       "model_id": "009f508ff1994b318b4e3909d3a9efc0"
      }
     },
     "metadata": {},
     "output_type": "display_data"
    },
    {
     "data": {
      "text/plain": "  0%|          | 0/800 [00:00<?, ?it/s]",
      "application/vnd.jupyter.widget-view+json": {
       "version_major": 2,
       "version_minor": 0,
       "model_id": "04b35d33782345fb99693ec1c7236c51"
      }
     },
     "metadata": {},
     "output_type": "display_data"
    },
    {
     "data": {
      "text/plain": "  0%|          | 0/800 [00:00<?, ?it/s]",
      "application/vnd.jupyter.widget-view+json": {
       "version_major": 2,
       "version_minor": 0,
       "model_id": "ab63b02bf460429c81289183a5300285"
      }
     },
     "metadata": {},
     "output_type": "display_data"
    },
    {
     "data": {
      "text/plain": "  0%|          | 0/800 [00:00<?, ?it/s]",
      "application/vnd.jupyter.widget-view+json": {
       "version_major": 2,
       "version_minor": 0,
       "model_id": "b32767cfaa594116a74bc50b14aeede0"
      }
     },
     "metadata": {},
     "output_type": "display_data"
    },
    {
     "data": {
      "text/plain": "  0%|          | 0/800 [00:00<?, ?it/s]",
      "application/vnd.jupyter.widget-view+json": {
       "version_major": 2,
       "version_minor": 0,
       "model_id": "d6faa41141554814b4d96ed6d4f7e32a"
      }
     },
     "metadata": {},
     "output_type": "display_data"
    },
    {
     "data": {
      "text/plain": "  0%|          | 0/800 [00:00<?, ?it/s]",
      "application/vnd.jupyter.widget-view+json": {
       "version_major": 2,
       "version_minor": 0,
       "model_id": "1ded7956597842419fab2882d31b289d"
      }
     },
     "metadata": {},
     "output_type": "display_data"
    },
    {
     "data": {
      "text/plain": "  0%|          | 0/800 [00:00<?, ?it/s]",
      "application/vnd.jupyter.widget-view+json": {
       "version_major": 2,
       "version_minor": 0,
       "model_id": "fef02eef7b194a78842d22775b7892de"
      }
     },
     "metadata": {},
     "output_type": "display_data"
    },
    {
     "data": {
      "text/plain": "  0%|          | 0/800 [00:00<?, ?it/s]",
      "application/vnd.jupyter.widget-view+json": {
       "version_major": 2,
       "version_minor": 0,
       "model_id": "e7894cbd69474f4eaa24da2b724c4d9e"
      }
     },
     "metadata": {},
     "output_type": "display_data"
    },
    {
     "data": {
      "text/plain": "  0%|          | 0/800 [00:00<?, ?it/s]",
      "application/vnd.jupyter.widget-view+json": {
       "version_major": 2,
       "version_minor": 0,
       "model_id": "6eed7f54d3c24275bbad0134760d2022"
      }
     },
     "metadata": {},
     "output_type": "display_data"
    },
    {
     "data": {
      "text/plain": "  0%|          | 0/800 [00:00<?, ?it/s]",
      "application/vnd.jupyter.widget-view+json": {
       "version_major": 2,
       "version_minor": 0,
       "model_id": "5ea08d6b2a304f3b926bb02f52da5e68"
      }
     },
     "metadata": {},
     "output_type": "display_data"
    },
    {
     "data": {
      "text/plain": "  0%|          | 0/800 [00:00<?, ?it/s]",
      "application/vnd.jupyter.widget-view+json": {
       "version_major": 2,
       "version_minor": 0,
       "model_id": "cf62fcbfc16d47cf8ff71f3b1017a570"
      }
     },
     "metadata": {},
     "output_type": "display_data"
    },
    {
     "data": {
      "text/plain": "  0%|          | 0/800 [00:00<?, ?it/s]",
      "application/vnd.jupyter.widget-view+json": {
       "version_major": 2,
       "version_minor": 0,
       "model_id": "49f615ea52574c3ebd58d10d2deeef1d"
      }
     },
     "metadata": {},
     "output_type": "display_data"
    },
    {
     "data": {
      "text/plain": "  0%|          | 0/800 [00:00<?, ?it/s]",
      "application/vnd.jupyter.widget-view+json": {
       "version_major": 2,
       "version_minor": 0,
       "model_id": "a16d7a11c5984a1e8923d39174c75d61"
      }
     },
     "metadata": {},
     "output_type": "display_data"
    },
    {
     "data": {
      "text/plain": "  0%|          | 0/800 [00:00<?, ?it/s]",
      "application/vnd.jupyter.widget-view+json": {
       "version_major": 2,
       "version_minor": 0,
       "model_id": "66475829569b4bfe9461357c49d24f63"
      }
     },
     "metadata": {},
     "output_type": "display_data"
    },
    {
     "data": {
      "text/plain": "  0%|          | 0/800 [00:00<?, ?it/s]",
      "application/vnd.jupyter.widget-view+json": {
       "version_major": 2,
       "version_minor": 0,
       "model_id": "86ef56178b54437c9626d907f7f0242a"
      }
     },
     "metadata": {},
     "output_type": "display_data"
    },
    {
     "data": {
      "text/plain": "  0%|          | 0/800 [00:00<?, ?it/s]",
      "application/vnd.jupyter.widget-view+json": {
       "version_major": 2,
       "version_minor": 0,
       "model_id": "f651b09955464b0cae91020ecedcb75f"
      }
     },
     "metadata": {},
     "output_type": "display_data"
    },
    {
     "data": {
      "text/plain": "  0%|          | 0/800 [00:00<?, ?it/s]",
      "application/vnd.jupyter.widget-view+json": {
       "version_major": 2,
       "version_minor": 0,
       "model_id": "c4fa6cf9f034422c95ee59fb19a0487f"
      }
     },
     "metadata": {},
     "output_type": "display_data"
    },
    {
     "data": {
      "text/plain": "  0%|          | 0/800 [00:00<?, ?it/s]",
      "application/vnd.jupyter.widget-view+json": {
       "version_major": 2,
       "version_minor": 0,
       "model_id": "9307e342082548518fc0cac274086def"
      }
     },
     "metadata": {},
     "output_type": "display_data"
    },
    {
     "data": {
      "text/plain": "  0%|          | 0/800 [00:00<?, ?it/s]",
      "application/vnd.jupyter.widget-view+json": {
       "version_major": 2,
       "version_minor": 0,
       "model_id": "0c7527e3490c40be8fe30b0cca3cd3c6"
      }
     },
     "metadata": {},
     "output_type": "display_data"
    },
    {
     "data": {
      "text/plain": "  0%|          | 0/800 [00:00<?, ?it/s]",
      "application/vnd.jupyter.widget-view+json": {
       "version_major": 2,
       "version_minor": 0,
       "model_id": "bebf8a74db36403fae72c3ee4a7b025b"
      }
     },
     "metadata": {},
     "output_type": "display_data"
    },
    {
     "data": {
      "text/plain": "  0%|          | 0/800 [00:00<?, ?it/s]",
      "application/vnd.jupyter.widget-view+json": {
       "version_major": 2,
       "version_minor": 0,
       "model_id": "18d5a293e5014b9e836f267cd292e281"
      }
     },
     "metadata": {},
     "output_type": "display_data"
    },
    {
     "data": {
      "text/plain": "  0%|          | 0/800 [00:00<?, ?it/s]",
      "application/vnd.jupyter.widget-view+json": {
       "version_major": 2,
       "version_minor": 0,
       "model_id": "06a5ed6a032b4083bfec035080fbca90"
      }
     },
     "metadata": {},
     "output_type": "display_data"
    },
    {
     "data": {
      "text/plain": "  0%|          | 0/800 [00:00<?, ?it/s]",
      "application/vnd.jupyter.widget-view+json": {
       "version_major": 2,
       "version_minor": 0,
       "model_id": "b14006c728754a6ca50157e7c06bb12e"
      }
     },
     "metadata": {},
     "output_type": "display_data"
    },
    {
     "data": {
      "text/plain": "  0%|          | 0/800 [00:00<?, ?it/s]",
      "application/vnd.jupyter.widget-view+json": {
       "version_major": 2,
       "version_minor": 0,
       "model_id": "ccb6c585c4094b629f4c41e49fab575d"
      }
     },
     "metadata": {},
     "output_type": "display_data"
    },
    {
     "data": {
      "text/plain": "  0%|          | 0/800 [00:00<?, ?it/s]",
      "application/vnd.jupyter.widget-view+json": {
       "version_major": 2,
       "version_minor": 0,
       "model_id": "1a6723cadfe24a21a03652de9b3a14d0"
      }
     },
     "metadata": {},
     "output_type": "display_data"
    },
    {
     "data": {
      "text/plain": "  0%|          | 0/800 [00:00<?, ?it/s]",
      "application/vnd.jupyter.widget-view+json": {
       "version_major": 2,
       "version_minor": 0,
       "model_id": "52b05ae49a6b4b13b2fdbba58307d310"
      }
     },
     "metadata": {},
     "output_type": "display_data"
    },
    {
     "data": {
      "text/plain": "  0%|          | 0/800 [00:00<?, ?it/s]",
      "application/vnd.jupyter.widget-view+json": {
       "version_major": 2,
       "version_minor": 0,
       "model_id": "08b093d6f4f841c9903c9ffed0c2164a"
      }
     },
     "metadata": {},
     "output_type": "display_data"
    },
    {
     "data": {
      "text/plain": "  0%|          | 0/800 [00:00<?, ?it/s]",
      "application/vnd.jupyter.widget-view+json": {
       "version_major": 2,
       "version_minor": 0,
       "model_id": "d4509537e0564503b5c5042657e1a54c"
      }
     },
     "metadata": {},
     "output_type": "display_data"
    },
    {
     "data": {
      "text/plain": "  0%|          | 0/800 [00:00<?, ?it/s]",
      "application/vnd.jupyter.widget-view+json": {
       "version_major": 2,
       "version_minor": 0,
       "model_id": "09e5291a957647a8834f4699549214cf"
      }
     },
     "metadata": {},
     "output_type": "display_data"
    },
    {
     "data": {
      "text/plain": "  0%|          | 0/800 [00:00<?, ?it/s]",
      "application/vnd.jupyter.widget-view+json": {
       "version_major": 2,
       "version_minor": 0,
       "model_id": "cfa455c37e7346daa776fc917ea95006"
      }
     },
     "metadata": {},
     "output_type": "display_data"
    },
    {
     "data": {
      "text/plain": "  0%|          | 0/800 [00:00<?, ?it/s]",
      "application/vnd.jupyter.widget-view+json": {
       "version_major": 2,
       "version_minor": 0,
       "model_id": "af2ef959ea6f4b1aa5bad2de12a3f4d8"
      }
     },
     "metadata": {},
     "output_type": "display_data"
    },
    {
     "data": {
      "text/plain": "  0%|          | 0/800 [00:00<?, ?it/s]",
      "application/vnd.jupyter.widget-view+json": {
       "version_major": 2,
       "version_minor": 0,
       "model_id": "947d0e19e2274130a902d2cca23599b8"
      }
     },
     "metadata": {},
     "output_type": "display_data"
    },
    {
     "data": {
      "text/plain": "  0%|          | 0/800 [00:00<?, ?it/s]",
      "application/vnd.jupyter.widget-view+json": {
       "version_major": 2,
       "version_minor": 0,
       "model_id": "2b61ce2a59f94ae4a351562dc3285ffe"
      }
     },
     "metadata": {},
     "output_type": "display_data"
    },
    {
     "data": {
      "text/plain": "  0%|          | 0/800 [00:00<?, ?it/s]",
      "application/vnd.jupyter.widget-view+json": {
       "version_major": 2,
       "version_minor": 0,
       "model_id": "f26f153473a1405f9ce1aa05cb8e5f56"
      }
     },
     "metadata": {},
     "output_type": "display_data"
    },
    {
     "data": {
      "text/plain": "  0%|          | 0/800 [00:00<?, ?it/s]",
      "application/vnd.jupyter.widget-view+json": {
       "version_major": 2,
       "version_minor": 0,
       "model_id": "fd7bef435ace4b3e9c6305af65e0f0e0"
      }
     },
     "metadata": {},
     "output_type": "display_data"
    },
    {
     "data": {
      "text/plain": "  0%|          | 0/800 [00:00<?, ?it/s]",
      "application/vnd.jupyter.widget-view+json": {
       "version_major": 2,
       "version_minor": 0,
       "model_id": "3f403a7ecf3d4a7d86ff594458b0c09b"
      }
     },
     "metadata": {},
     "output_type": "display_data"
    },
    {
     "data": {
      "text/plain": "  0%|          | 0/800 [00:00<?, ?it/s]",
      "application/vnd.jupyter.widget-view+json": {
       "version_major": 2,
       "version_minor": 0,
       "model_id": "6a0ea8ccf42a453aac47b751289c5588"
      }
     },
     "metadata": {},
     "output_type": "display_data"
    },
    {
     "data": {
      "text/plain": "  0%|          | 0/800 [00:00<?, ?it/s]",
      "application/vnd.jupyter.widget-view+json": {
       "version_major": 2,
       "version_minor": 0,
       "model_id": "9c12f2ead66243e6af9fe81c67eb3698"
      }
     },
     "metadata": {},
     "output_type": "display_data"
    },
    {
     "data": {
      "text/plain": "  0%|          | 0/800 [00:00<?, ?it/s]",
      "application/vnd.jupyter.widget-view+json": {
       "version_major": 2,
       "version_minor": 0,
       "model_id": "4eae64735e9240bd834598323d5fc2f3"
      }
     },
     "metadata": {},
     "output_type": "display_data"
    },
    {
     "data": {
      "text/plain": "  0%|          | 0/800 [00:00<?, ?it/s]",
      "application/vnd.jupyter.widget-view+json": {
       "version_major": 2,
       "version_minor": 0,
       "model_id": "a98c9b4fbce34e18a496449f549707f9"
      }
     },
     "metadata": {},
     "output_type": "display_data"
    },
    {
     "data": {
      "text/plain": "  0%|          | 0/800 [00:00<?, ?it/s]",
      "application/vnd.jupyter.widget-view+json": {
       "version_major": 2,
       "version_minor": 0,
       "model_id": "d4086e5c5ab34d04b5c18c340827c8fc"
      }
     },
     "metadata": {},
     "output_type": "display_data"
    },
    {
     "data": {
      "text/plain": "  0%|          | 0/800 [00:00<?, ?it/s]",
      "application/vnd.jupyter.widget-view+json": {
       "version_major": 2,
       "version_minor": 0,
       "model_id": "65f893a16b534b0494fe40ffee785c97"
      }
     },
     "metadata": {},
     "output_type": "display_data"
    },
    {
     "data": {
      "text/plain": "  0%|          | 0/800 [00:00<?, ?it/s]",
      "application/vnd.jupyter.widget-view+json": {
       "version_major": 2,
       "version_minor": 0,
       "model_id": "aae8311210cd418ba4ab0a14f102ea7f"
      }
     },
     "metadata": {},
     "output_type": "display_data"
    },
    {
     "data": {
      "text/plain": "  0%|          | 0/800 [00:00<?, ?it/s]",
      "application/vnd.jupyter.widget-view+json": {
       "version_major": 2,
       "version_minor": 0,
       "model_id": "2ac223a6af734c3a909f58ee786c11d3"
      }
     },
     "metadata": {},
     "output_type": "display_data"
    },
    {
     "data": {
      "text/plain": "  0%|          | 0/800 [00:00<?, ?it/s]",
      "application/vnd.jupyter.widget-view+json": {
       "version_major": 2,
       "version_minor": 0,
       "model_id": "9ff831aa9c4543b4b0fe4715f6c50de6"
      }
     },
     "metadata": {},
     "output_type": "display_data"
    },
    {
     "data": {
      "text/plain": "  0%|          | 0/800 [00:00<?, ?it/s]",
      "application/vnd.jupyter.widget-view+json": {
       "version_major": 2,
       "version_minor": 0,
       "model_id": "ed6298d67d1d4bf2b98f09b4e501ac2a"
      }
     },
     "metadata": {},
     "output_type": "display_data"
    },
    {
     "data": {
      "text/plain": "  0%|          | 0/800 [00:00<?, ?it/s]",
      "application/vnd.jupyter.widget-view+json": {
       "version_major": 2,
       "version_minor": 0,
       "model_id": "0c6910995180424aa338b5b2878be5d6"
      }
     },
     "metadata": {},
     "output_type": "display_data"
    },
    {
     "data": {
      "text/plain": "  0%|          | 0/800 [00:00<?, ?it/s]",
      "application/vnd.jupyter.widget-view+json": {
       "version_major": 2,
       "version_minor": 0,
       "model_id": "fbffaf4a7db143c6af0d80e13ca4b20b"
      }
     },
     "metadata": {},
     "output_type": "display_data"
    },
    {
     "data": {
      "text/plain": "  0%|          | 0/800 [00:00<?, ?it/s]",
      "application/vnd.jupyter.widget-view+json": {
       "version_major": 2,
       "version_minor": 0,
       "model_id": "bd9ce9745fa942098ab966f29c5880a2"
      }
     },
     "metadata": {},
     "output_type": "display_data"
    },
    {
     "data": {
      "text/plain": "  0%|          | 0/800 [00:00<?, ?it/s]",
      "application/vnd.jupyter.widget-view+json": {
       "version_major": 2,
       "version_minor": 0,
       "model_id": "912bc499f09540f990641667f752e371"
      }
     },
     "metadata": {},
     "output_type": "display_data"
    },
    {
     "data": {
      "text/plain": "  0%|          | 0/800 [00:00<?, ?it/s]",
      "application/vnd.jupyter.widget-view+json": {
       "version_major": 2,
       "version_minor": 0,
       "model_id": "e8277703eea748c7b97d371149ce47e9"
      }
     },
     "metadata": {},
     "output_type": "display_data"
    },
    {
     "data": {
      "text/plain": "  0%|          | 0/800 [00:00<?, ?it/s]",
      "application/vnd.jupyter.widget-view+json": {
       "version_major": 2,
       "version_minor": 0,
       "model_id": "4e078236e23a413faeb385632169933b"
      }
     },
     "metadata": {},
     "output_type": "display_data"
    },
    {
     "data": {
      "text/plain": "  0%|          | 0/800 [00:00<?, ?it/s]",
      "application/vnd.jupyter.widget-view+json": {
       "version_major": 2,
       "version_minor": 0,
       "model_id": "0037c3888eaf4115841c6b4df87f75a0"
      }
     },
     "metadata": {},
     "output_type": "display_data"
    },
    {
     "data": {
      "text/plain": "  0%|          | 0/800 [00:00<?, ?it/s]",
      "application/vnd.jupyter.widget-view+json": {
       "version_major": 2,
       "version_minor": 0,
       "model_id": "6da6b7ae08894c28aaf583870902ba77"
      }
     },
     "metadata": {},
     "output_type": "display_data"
    },
    {
     "data": {
      "text/plain": "  0%|          | 0/800 [00:00<?, ?it/s]",
      "application/vnd.jupyter.widget-view+json": {
       "version_major": 2,
       "version_minor": 0,
       "model_id": "88631a45223144248306c3d8f3397945"
      }
     },
     "metadata": {},
     "output_type": "display_data"
    },
    {
     "data": {
      "text/plain": "  0%|          | 0/800 [00:00<?, ?it/s]",
      "application/vnd.jupyter.widget-view+json": {
       "version_major": 2,
       "version_minor": 0,
       "model_id": "a5605553814f4d59a40439f18180b11e"
      }
     },
     "metadata": {},
     "output_type": "display_data"
    },
    {
     "data": {
      "text/plain": "  0%|          | 0/800 [00:00<?, ?it/s]",
      "application/vnd.jupyter.widget-view+json": {
       "version_major": 2,
       "version_minor": 0,
       "model_id": "96b15970dbcf406abdcab881e0162b03"
      }
     },
     "metadata": {},
     "output_type": "display_data"
    },
    {
     "data": {
      "text/plain": "  0%|          | 0/800 [00:00<?, ?it/s]",
      "application/vnd.jupyter.widget-view+json": {
       "version_major": 2,
       "version_minor": 0,
       "model_id": "b1a9bb3bfebe4c5fbe1137e036543c93"
      }
     },
     "metadata": {},
     "output_type": "display_data"
    },
    {
     "data": {
      "text/plain": "  0%|          | 0/800 [00:00<?, ?it/s]",
      "application/vnd.jupyter.widget-view+json": {
       "version_major": 2,
       "version_minor": 0,
       "model_id": "47cbf7580db9497db1ce1ea0ba6ba9c7"
      }
     },
     "metadata": {},
     "output_type": "display_data"
    },
    {
     "data": {
      "text/plain": "  0%|          | 0/800 [00:00<?, ?it/s]",
      "application/vnd.jupyter.widget-view+json": {
       "version_major": 2,
       "version_minor": 0,
       "model_id": "a582bfc411534643b26bf1fb04f024bd"
      }
     },
     "metadata": {},
     "output_type": "display_data"
    },
    {
     "data": {
      "text/plain": "  0%|          | 0/800 [00:00<?, ?it/s]",
      "application/vnd.jupyter.widget-view+json": {
       "version_major": 2,
       "version_minor": 0,
       "model_id": "61036cf2d17b491d90fc5fe8f0dc74f3"
      }
     },
     "metadata": {},
     "output_type": "display_data"
    },
    {
     "data": {
      "text/plain": "  0%|          | 0/800 [00:00<?, ?it/s]",
      "application/vnd.jupyter.widget-view+json": {
       "version_major": 2,
       "version_minor": 0,
       "model_id": "a3173bc5c0dc405382c06b8f29b82ac4"
      }
     },
     "metadata": {},
     "output_type": "display_data"
    },
    {
     "data": {
      "text/plain": "  0%|          | 0/800 [00:00<?, ?it/s]",
      "application/vnd.jupyter.widget-view+json": {
       "version_major": 2,
       "version_minor": 0,
       "model_id": "2f1f33125f134c4f91007763c17656ab"
      }
     },
     "metadata": {},
     "output_type": "display_data"
    },
    {
     "data": {
      "text/plain": "  0%|          | 0/800 [00:00<?, ?it/s]",
      "application/vnd.jupyter.widget-view+json": {
       "version_major": 2,
       "version_minor": 0,
       "model_id": "c6e4093fc5354a798a7619d48c160f4c"
      }
     },
     "metadata": {},
     "output_type": "display_data"
    },
    {
     "data": {
      "text/plain": "  0%|          | 0/800 [00:00<?, ?it/s]",
      "application/vnd.jupyter.widget-view+json": {
       "version_major": 2,
       "version_minor": 0,
       "model_id": "1260aead776440a19e6bab3965b61a82"
      }
     },
     "metadata": {},
     "output_type": "display_data"
    },
    {
     "data": {
      "text/plain": "  0%|          | 0/800 [00:00<?, ?it/s]",
      "application/vnd.jupyter.widget-view+json": {
       "version_major": 2,
       "version_minor": 0,
       "model_id": "50c63bc1c18d4805b11d7dbd242ef89c"
      }
     },
     "metadata": {},
     "output_type": "display_data"
    },
    {
     "data": {
      "text/plain": "  0%|          | 0/800 [00:00<?, ?it/s]",
      "application/vnd.jupyter.widget-view+json": {
       "version_major": 2,
       "version_minor": 0,
       "model_id": "c5895978960e42b6a4674f2b1f1725f1"
      }
     },
     "metadata": {},
     "output_type": "display_data"
    },
    {
     "data": {
      "text/plain": "  0%|          | 0/800 [00:00<?, ?it/s]",
      "application/vnd.jupyter.widget-view+json": {
       "version_major": 2,
       "version_minor": 0,
       "model_id": "34c13492e2b84e83b1c3fcff2a79348d"
      }
     },
     "metadata": {},
     "output_type": "display_data"
    },
    {
     "data": {
      "text/plain": "  0%|          | 0/800 [00:00<?, ?it/s]",
      "application/vnd.jupyter.widget-view+json": {
       "version_major": 2,
       "version_minor": 0,
       "model_id": "eabaece59e914670b0dd6712a107677f"
      }
     },
     "metadata": {},
     "output_type": "display_data"
    },
    {
     "data": {
      "text/plain": "  0%|          | 0/800 [00:00<?, ?it/s]",
      "application/vnd.jupyter.widget-view+json": {
       "version_major": 2,
       "version_minor": 0,
       "model_id": "7d1732183b534da9addffd81cbdac76e"
      }
     },
     "metadata": {},
     "output_type": "display_data"
    },
    {
     "data": {
      "text/plain": "  0%|          | 0/800 [00:00<?, ?it/s]",
      "application/vnd.jupyter.widget-view+json": {
       "version_major": 2,
       "version_minor": 0,
       "model_id": "44fba8b206c241069fa451a3686d38d2"
      }
     },
     "metadata": {},
     "output_type": "display_data"
    },
    {
     "data": {
      "text/plain": "  0%|          | 0/800 [00:00<?, ?it/s]",
      "application/vnd.jupyter.widget-view+json": {
       "version_major": 2,
       "version_minor": 0,
       "model_id": "0bcb3039a2084f11add14c6963e2b46a"
      }
     },
     "metadata": {},
     "output_type": "display_data"
    },
    {
     "data": {
      "text/plain": "  0%|          | 0/800 [00:00<?, ?it/s]",
      "application/vnd.jupyter.widget-view+json": {
       "version_major": 2,
       "version_minor": 0,
       "model_id": "a68bbc0e82364129a01c125270d25c00"
      }
     },
     "metadata": {},
     "output_type": "display_data"
    },
    {
     "data": {
      "text/plain": "  0%|          | 0/800 [00:00<?, ?it/s]",
      "application/vnd.jupyter.widget-view+json": {
       "version_major": 2,
       "version_minor": 0,
       "model_id": "70c499d4db81495ba37f433e722a409a"
      }
     },
     "metadata": {},
     "output_type": "display_data"
    },
    {
     "data": {
      "text/plain": "  0%|          | 0/800 [00:00<?, ?it/s]",
      "application/vnd.jupyter.widget-view+json": {
       "version_major": 2,
       "version_minor": 0,
       "model_id": "1e546d762db64189a75d0f5908aee9df"
      }
     },
     "metadata": {},
     "output_type": "display_data"
    },
    {
     "data": {
      "text/plain": "  0%|          | 0/800 [00:00<?, ?it/s]",
      "application/vnd.jupyter.widget-view+json": {
       "version_major": 2,
       "version_minor": 0,
       "model_id": "9af2e9768db04d85a19e259597598aba"
      }
     },
     "metadata": {},
     "output_type": "display_data"
    },
    {
     "data": {
      "text/plain": "  0%|          | 0/800 [00:00<?, ?it/s]",
      "application/vnd.jupyter.widget-view+json": {
       "version_major": 2,
       "version_minor": 0,
       "model_id": "fb4e4d6c346847c196a32be4de74dc7f"
      }
     },
     "metadata": {},
     "output_type": "display_data"
    },
    {
     "data": {
      "text/plain": "  0%|          | 0/800 [00:00<?, ?it/s]",
      "application/vnd.jupyter.widget-view+json": {
       "version_major": 2,
       "version_minor": 0,
       "model_id": "6477e43c2dc14eafb0564413f5559557"
      }
     },
     "metadata": {},
     "output_type": "display_data"
    },
    {
     "data": {
      "text/plain": "  0%|          | 0/800 [00:00<?, ?it/s]",
      "application/vnd.jupyter.widget-view+json": {
       "version_major": 2,
       "version_minor": 0,
       "model_id": "9117f331566345e8bd7fb83513a62586"
      }
     },
     "metadata": {},
     "output_type": "display_data"
    },
    {
     "data": {
      "text/plain": "  0%|          | 0/800 [00:00<?, ?it/s]",
      "application/vnd.jupyter.widget-view+json": {
       "version_major": 2,
       "version_minor": 0,
       "model_id": "80096b485ffa4dce8c6614db9e717356"
      }
     },
     "metadata": {},
     "output_type": "display_data"
    },
    {
     "data": {
      "text/plain": "  0%|          | 0/800 [00:00<?, ?it/s]",
      "application/vnd.jupyter.widget-view+json": {
       "version_major": 2,
       "version_minor": 0,
       "model_id": "f2b398bbc7284950a21d3a5af8dc4022"
      }
     },
     "metadata": {},
     "output_type": "display_data"
    },
    {
     "data": {
      "text/plain": "  0%|          | 0/800 [00:00<?, ?it/s]",
      "application/vnd.jupyter.widget-view+json": {
       "version_major": 2,
       "version_minor": 0,
       "model_id": "691bfd09f51647ee92102b9154a193bc"
      }
     },
     "metadata": {},
     "output_type": "display_data"
    },
    {
     "data": {
      "text/plain": "  0%|          | 0/800 [00:00<?, ?it/s]",
      "application/vnd.jupyter.widget-view+json": {
       "version_major": 2,
       "version_minor": 0,
       "model_id": "291fda062904483d8a0f0f365de75903"
      }
     },
     "metadata": {},
     "output_type": "display_data"
    },
    {
     "data": {
      "text/plain": "  0%|          | 0/800 [00:00<?, ?it/s]",
      "application/vnd.jupyter.widget-view+json": {
       "version_major": 2,
       "version_minor": 0,
       "model_id": "5aedc60550874a5ba2c54c3c0b998472"
      }
     },
     "metadata": {},
     "output_type": "display_data"
    },
    {
     "data": {
      "text/plain": "  0%|          | 0/800 [00:00<?, ?it/s]",
      "application/vnd.jupyter.widget-view+json": {
       "version_major": 2,
       "version_minor": 0,
       "model_id": "cfeeea37ab3c497b9745788a49ef0a78"
      }
     },
     "metadata": {},
     "output_type": "display_data"
    },
    {
     "data": {
      "text/plain": "  0%|          | 0/800 [00:00<?, ?it/s]",
      "application/vnd.jupyter.widget-view+json": {
       "version_major": 2,
       "version_minor": 0,
       "model_id": "48f406eeb12942c3b4f089beeb63aece"
      }
     },
     "metadata": {},
     "output_type": "display_data"
    },
    {
     "data": {
      "text/plain": "  0%|          | 0/800 [00:00<?, ?it/s]",
      "application/vnd.jupyter.widget-view+json": {
       "version_major": 2,
       "version_minor": 0,
       "model_id": "27b2f2f502b24b7299eade7328b09ef7"
      }
     },
     "metadata": {},
     "output_type": "display_data"
    },
    {
     "data": {
      "text/plain": "  0%|          | 0/800 [00:00<?, ?it/s]",
      "application/vnd.jupyter.widget-view+json": {
       "version_major": 2,
       "version_minor": 0,
       "model_id": "06d1cc8959394f41b8cf4af498556eaf"
      }
     },
     "metadata": {},
     "output_type": "display_data"
    },
    {
     "data": {
      "text/plain": "  0%|          | 0/800 [00:00<?, ?it/s]",
      "application/vnd.jupyter.widget-view+json": {
       "version_major": 2,
       "version_minor": 0,
       "model_id": "89621e2db959465baa2a83307e043036"
      }
     },
     "metadata": {},
     "output_type": "display_data"
    },
    {
     "data": {
      "text/plain": "  0%|          | 0/800 [00:00<?, ?it/s]",
      "application/vnd.jupyter.widget-view+json": {
       "version_major": 2,
       "version_minor": 0,
       "model_id": "6832d7d8f73047d8ba7764a5e5d70f8a"
      }
     },
     "metadata": {},
     "output_type": "display_data"
    },
    {
     "data": {
      "text/plain": "  0%|          | 0/800 [00:00<?, ?it/s]",
      "application/vnd.jupyter.widget-view+json": {
       "version_major": 2,
       "version_minor": 0,
       "model_id": "3ab7e209d1b748d19f76d1b4b1d63aea"
      }
     },
     "metadata": {},
     "output_type": "display_data"
    },
    {
     "data": {
      "text/plain": "  0%|          | 0/800 [00:00<?, ?it/s]",
      "application/vnd.jupyter.widget-view+json": {
       "version_major": 2,
       "version_minor": 0,
       "model_id": "71819b4a0fe1465b890bfd07d1b02e2e"
      }
     },
     "metadata": {},
     "output_type": "display_data"
    },
    {
     "data": {
      "text/plain": "  0%|          | 0/800 [00:00<?, ?it/s]",
      "application/vnd.jupyter.widget-view+json": {
       "version_major": 2,
       "version_minor": 0,
       "model_id": "fcdbc5245140477a87809d207e01af9d"
      }
     },
     "metadata": {},
     "output_type": "display_data"
    },
    {
     "data": {
      "text/plain": "  0%|          | 0/800 [00:00<?, ?it/s]",
      "application/vnd.jupyter.widget-view+json": {
       "version_major": 2,
       "version_minor": 0,
       "model_id": "ab6be1623a4d462b81f1fd2af204e0e1"
      }
     },
     "metadata": {},
     "output_type": "display_data"
    },
    {
     "data": {
      "text/plain": "  0%|          | 0/800 [00:00<?, ?it/s]",
      "application/vnd.jupyter.widget-view+json": {
       "version_major": 2,
       "version_minor": 0,
       "model_id": "0c5e8b900c0a40dbafc2c1b74344e0c2"
      }
     },
     "metadata": {},
     "output_type": "display_data"
    },
    {
     "data": {
      "text/plain": "  0%|          | 0/800 [00:00<?, ?it/s]",
      "application/vnd.jupyter.widget-view+json": {
       "version_major": 2,
       "version_minor": 0,
       "model_id": "c28b71b6b68d4ed0a6090166afa0b6ae"
      }
     },
     "metadata": {},
     "output_type": "display_data"
    },
    {
     "data": {
      "text/plain": "  0%|          | 0/800 [00:00<?, ?it/s]",
      "application/vnd.jupyter.widget-view+json": {
       "version_major": 2,
       "version_minor": 0,
       "model_id": "f7b2cca001dd4bec897f7bd7baef1f23"
      }
     },
     "metadata": {},
     "output_type": "display_data"
    },
    {
     "data": {
      "text/plain": "  0%|          | 0/800 [00:00<?, ?it/s]",
      "application/vnd.jupyter.widget-view+json": {
       "version_major": 2,
       "version_minor": 0,
       "model_id": "5fc9f43062e8475187f0b55bb0845edc"
      }
     },
     "metadata": {},
     "output_type": "display_data"
    },
    {
     "data": {
      "text/plain": "  0%|          | 0/800 [00:00<?, ?it/s]",
      "application/vnd.jupyter.widget-view+json": {
       "version_major": 2,
       "version_minor": 0,
       "model_id": "891ec6bce8fb4523aa12617fc2d8f98f"
      }
     },
     "metadata": {},
     "output_type": "display_data"
    },
    {
     "data": {
      "text/plain": "  0%|          | 0/800 [00:00<?, ?it/s]",
      "application/vnd.jupyter.widget-view+json": {
       "version_major": 2,
       "version_minor": 0,
       "model_id": "69950d17f20f487cb813abf5a8c69af2"
      }
     },
     "metadata": {},
     "output_type": "display_data"
    },
    {
     "data": {
      "text/plain": "  0%|          | 0/800 [00:00<?, ?it/s]",
      "application/vnd.jupyter.widget-view+json": {
       "version_major": 2,
       "version_minor": 0,
       "model_id": "37682d31b714459e80d39c0cfeb0e36b"
      }
     },
     "metadata": {},
     "output_type": "display_data"
    },
    {
     "data": {
      "text/plain": "  0%|          | 0/800 [00:00<?, ?it/s]",
      "application/vnd.jupyter.widget-view+json": {
       "version_major": 2,
       "version_minor": 0,
       "model_id": "aa4c7c9217794ba4a31e7efcdb8f0071"
      }
     },
     "metadata": {},
     "output_type": "display_data"
    },
    {
     "data": {
      "text/plain": "  0%|          | 0/800 [00:00<?, ?it/s]",
      "application/vnd.jupyter.widget-view+json": {
       "version_major": 2,
       "version_minor": 0,
       "model_id": "9d47c3b8be754a8cb35d6d70072d9960"
      }
     },
     "metadata": {},
     "output_type": "display_data"
    },
    {
     "data": {
      "text/plain": "  0%|          | 0/800 [00:00<?, ?it/s]",
      "application/vnd.jupyter.widget-view+json": {
       "version_major": 2,
       "version_minor": 0,
       "model_id": "b5d2352b81a94b7192f350657532a576"
      }
     },
     "metadata": {},
     "output_type": "display_data"
    },
    {
     "data": {
      "text/plain": "  0%|          | 0/800 [00:00<?, ?it/s]",
      "application/vnd.jupyter.widget-view+json": {
       "version_major": 2,
       "version_minor": 0,
       "model_id": "d64f2b5a8f2c47a38b3f502436268435"
      }
     },
     "metadata": {},
     "output_type": "display_data"
    },
    {
     "data": {
      "text/plain": "  0%|          | 0/800 [00:00<?, ?it/s]",
      "application/vnd.jupyter.widget-view+json": {
       "version_major": 2,
       "version_minor": 0,
       "model_id": "28dd4bdd257c474d9374a506f65235c5"
      }
     },
     "metadata": {},
     "output_type": "display_data"
    },
    {
     "data": {
      "text/plain": "  0%|          | 0/800 [00:00<?, ?it/s]",
      "application/vnd.jupyter.widget-view+json": {
       "version_major": 2,
       "version_minor": 0,
       "model_id": "98f507883eab4afa97b60e567ffbbf93"
      }
     },
     "metadata": {},
     "output_type": "display_data"
    },
    {
     "data": {
      "text/plain": "  0%|          | 0/800 [00:00<?, ?it/s]",
      "application/vnd.jupyter.widget-view+json": {
       "version_major": 2,
       "version_minor": 0,
       "model_id": "57c19fd6d06043fa8f467ac19589f645"
      }
     },
     "metadata": {},
     "output_type": "display_data"
    },
    {
     "data": {
      "text/plain": "  0%|          | 0/800 [00:00<?, ?it/s]",
      "application/vnd.jupyter.widget-view+json": {
       "version_major": 2,
       "version_minor": 0,
       "model_id": "78b43a4fc518401882d9575b19955386"
      }
     },
     "metadata": {},
     "output_type": "display_data"
    },
    {
     "data": {
      "text/plain": "  0%|          | 0/800 [00:00<?, ?it/s]",
      "application/vnd.jupyter.widget-view+json": {
       "version_major": 2,
       "version_minor": 0,
       "model_id": "a60abf6ca7d54debb28ee8de11c75216"
      }
     },
     "metadata": {},
     "output_type": "display_data"
    },
    {
     "data": {
      "text/plain": "  0%|          | 0/800 [00:00<?, ?it/s]",
      "application/vnd.jupyter.widget-view+json": {
       "version_major": 2,
       "version_minor": 0,
       "model_id": "11471f64d9d746cc85cce88a7b6182dc"
      }
     },
     "metadata": {},
     "output_type": "display_data"
    },
    {
     "data": {
      "text/plain": "  0%|          | 0/800 [00:00<?, ?it/s]",
      "application/vnd.jupyter.widget-view+json": {
       "version_major": 2,
       "version_minor": 0,
       "model_id": "4a4a9c73eda5420e88b065a30bec39a8"
      }
     },
     "metadata": {},
     "output_type": "display_data"
    },
    {
     "data": {
      "text/plain": "  0%|          | 0/800 [00:00<?, ?it/s]",
      "application/vnd.jupyter.widget-view+json": {
       "version_major": 2,
       "version_minor": 0,
       "model_id": "77cac5a7bc42462abecb26ff05ac3d4f"
      }
     },
     "metadata": {},
     "output_type": "display_data"
    },
    {
     "data": {
      "text/plain": "  0%|          | 0/800 [00:00<?, ?it/s]",
      "application/vnd.jupyter.widget-view+json": {
       "version_major": 2,
       "version_minor": 0,
       "model_id": "9628ef771ed84a82a73f5e44938624d4"
      }
     },
     "metadata": {},
     "output_type": "display_data"
    },
    {
     "data": {
      "text/plain": "  0%|          | 0/800 [00:00<?, ?it/s]",
      "application/vnd.jupyter.widget-view+json": {
       "version_major": 2,
       "version_minor": 0,
       "model_id": "dc5368945cd8424e9948b1b7d12ddc6e"
      }
     },
     "metadata": {},
     "output_type": "display_data"
    },
    {
     "data": {
      "text/plain": "  0%|          | 0/800 [00:00<?, ?it/s]",
      "application/vnd.jupyter.widget-view+json": {
       "version_major": 2,
       "version_minor": 0,
       "model_id": "ef62901fc0ea43fbb63ba32b173d2ca9"
      }
     },
     "metadata": {},
     "output_type": "display_data"
    },
    {
     "data": {
      "text/plain": "  0%|          | 0/800 [00:00<?, ?it/s]",
      "application/vnd.jupyter.widget-view+json": {
       "version_major": 2,
       "version_minor": 0,
       "model_id": "d40230dd4d61430c821223349d824341"
      }
     },
     "metadata": {},
     "output_type": "display_data"
    },
    {
     "data": {
      "text/plain": "  0%|          | 0/800 [00:00<?, ?it/s]",
      "application/vnd.jupyter.widget-view+json": {
       "version_major": 2,
       "version_minor": 0,
       "model_id": "873a3c0647024316938adfd5b43e33b9"
      }
     },
     "metadata": {},
     "output_type": "display_data"
    },
    {
     "data": {
      "text/plain": "  0%|          | 0/800 [00:00<?, ?it/s]",
      "application/vnd.jupyter.widget-view+json": {
       "version_major": 2,
       "version_minor": 0,
       "model_id": "8ab7f95cecd54036bc2afddbbf40c97a"
      }
     },
     "metadata": {},
     "output_type": "display_data"
    },
    {
     "data": {
      "text/plain": "  0%|          | 0/800 [00:00<?, ?it/s]",
      "application/vnd.jupyter.widget-view+json": {
       "version_major": 2,
       "version_minor": 0,
       "model_id": "0f34f896e8f641f5b846f680d4930ad9"
      }
     },
     "metadata": {},
     "output_type": "display_data"
    },
    {
     "data": {
      "text/plain": "  0%|          | 0/800 [00:00<?, ?it/s]",
      "application/vnd.jupyter.widget-view+json": {
       "version_major": 2,
       "version_minor": 0,
       "model_id": "f005f2ae1b084a83bbbdc14626ec6eeb"
      }
     },
     "metadata": {},
     "output_type": "display_data"
    },
    {
     "data": {
      "text/plain": "  0%|          | 0/800 [00:00<?, ?it/s]",
      "application/vnd.jupyter.widget-view+json": {
       "version_major": 2,
       "version_minor": 0,
       "model_id": "59e2bd3f86924dea9a997e907743425f"
      }
     },
     "metadata": {},
     "output_type": "display_data"
    },
    {
     "data": {
      "text/plain": "  0%|          | 0/800 [00:00<?, ?it/s]",
      "application/vnd.jupyter.widget-view+json": {
       "version_major": 2,
       "version_minor": 0,
       "model_id": "1f40c44be4e441a68d5d14ffb576e000"
      }
     },
     "metadata": {},
     "output_type": "display_data"
    },
    {
     "data": {
      "text/plain": "  0%|          | 0/800 [00:00<?, ?it/s]",
      "application/vnd.jupyter.widget-view+json": {
       "version_major": 2,
       "version_minor": 0,
       "model_id": "3a455e0a7c9a4b83b46bc60e4964c342"
      }
     },
     "metadata": {},
     "output_type": "display_data"
    },
    {
     "data": {
      "text/plain": "  0%|          | 0/800 [00:00<?, ?it/s]",
      "application/vnd.jupyter.widget-view+json": {
       "version_major": 2,
       "version_minor": 0,
       "model_id": "20ff4fe96fa24cbcaab064434282a0ca"
      }
     },
     "metadata": {},
     "output_type": "display_data"
    },
    {
     "data": {
      "text/plain": "  0%|          | 0/800 [00:00<?, ?it/s]",
      "application/vnd.jupyter.widget-view+json": {
       "version_major": 2,
       "version_minor": 0,
       "model_id": "9a48f0713e7843c4aba239966acd4c6b"
      }
     },
     "metadata": {},
     "output_type": "display_data"
    },
    {
     "data": {
      "text/plain": "  0%|          | 0/800 [00:00<?, ?it/s]",
      "application/vnd.jupyter.widget-view+json": {
       "version_major": 2,
       "version_minor": 0,
       "model_id": "6ef9ba3652494d6d9095ed26f3bd9a0a"
      }
     },
     "metadata": {},
     "output_type": "display_data"
    },
    {
     "data": {
      "text/plain": "  0%|          | 0/800 [00:00<?, ?it/s]",
      "application/vnd.jupyter.widget-view+json": {
       "version_major": 2,
       "version_minor": 0,
       "model_id": "b5c5eea322334a3b87f3e6515f2dee69"
      }
     },
     "metadata": {},
     "output_type": "display_data"
    },
    {
     "data": {
      "text/plain": "  0%|          | 0/800 [00:00<?, ?it/s]",
      "application/vnd.jupyter.widget-view+json": {
       "version_major": 2,
       "version_minor": 0,
       "model_id": "8da2fe25155d479997311b5cccf08ca2"
      }
     },
     "metadata": {},
     "output_type": "display_data"
    },
    {
     "data": {
      "text/plain": "  0%|          | 0/800 [00:00<?, ?it/s]",
      "application/vnd.jupyter.widget-view+json": {
       "version_major": 2,
       "version_minor": 0,
       "model_id": "fc55dac938ab4a1b87e316d524ca3b22"
      }
     },
     "metadata": {},
     "output_type": "display_data"
    },
    {
     "data": {
      "text/plain": "  0%|          | 0/800 [00:00<?, ?it/s]",
      "application/vnd.jupyter.widget-view+json": {
       "version_major": 2,
       "version_minor": 0,
       "model_id": "08b63d1eaf11464c86671b3f8f26ab15"
      }
     },
     "metadata": {},
     "output_type": "display_data"
    },
    {
     "data": {
      "text/plain": "  0%|          | 0/800 [00:00<?, ?it/s]",
      "application/vnd.jupyter.widget-view+json": {
       "version_major": 2,
       "version_minor": 0,
       "model_id": "fc07a683b5de49d0900c1d5f02590531"
      }
     },
     "metadata": {},
     "output_type": "display_data"
    },
    {
     "data": {
      "text/plain": "  0%|          | 0/800 [00:00<?, ?it/s]",
      "application/vnd.jupyter.widget-view+json": {
       "version_major": 2,
       "version_minor": 0,
       "model_id": "3eb9b478bfa04072bdcd0618986cb9c5"
      }
     },
     "metadata": {},
     "output_type": "display_data"
    },
    {
     "data": {
      "text/plain": "  0%|          | 0/800 [00:00<?, ?it/s]",
      "application/vnd.jupyter.widget-view+json": {
       "version_major": 2,
       "version_minor": 0,
       "model_id": "6d8e5d2a7e484ab0903882a0a049f29a"
      }
     },
     "metadata": {},
     "output_type": "display_data"
    },
    {
     "data": {
      "text/plain": "  0%|          | 0/800 [00:00<?, ?it/s]",
      "application/vnd.jupyter.widget-view+json": {
       "version_major": 2,
       "version_minor": 0,
       "model_id": "1adf375e3111466ea9cb09c79ae1884f"
      }
     },
     "metadata": {},
     "output_type": "display_data"
    },
    {
     "data": {
      "text/plain": "  0%|          | 0/800 [00:00<?, ?it/s]",
      "application/vnd.jupyter.widget-view+json": {
       "version_major": 2,
       "version_minor": 0,
       "model_id": "8875a96f4be24df2a216b96c536d3da2"
      }
     },
     "metadata": {},
     "output_type": "display_data"
    },
    {
     "data": {
      "text/plain": "  0%|          | 0/800 [00:00<?, ?it/s]",
      "application/vnd.jupyter.widget-view+json": {
       "version_major": 2,
       "version_minor": 0,
       "model_id": "a445d7cb31004b878b78804b27ebcfcc"
      }
     },
     "metadata": {},
     "output_type": "display_data"
    },
    {
     "data": {
      "text/plain": "  0%|          | 0/800 [00:00<?, ?it/s]",
      "application/vnd.jupyter.widget-view+json": {
       "version_major": 2,
       "version_minor": 0,
       "model_id": "7309d9f5195b4f5d8618b52dee2f6634"
      }
     },
     "metadata": {},
     "output_type": "display_data"
    },
    {
     "data": {
      "text/plain": "  0%|          | 0/800 [00:00<?, ?it/s]",
      "application/vnd.jupyter.widget-view+json": {
       "version_major": 2,
       "version_minor": 0,
       "model_id": "dab7a80b1fe14f84855550373ebe8bd7"
      }
     },
     "metadata": {},
     "output_type": "display_data"
    },
    {
     "data": {
      "text/plain": "  0%|          | 0/800 [00:00<?, ?it/s]",
      "application/vnd.jupyter.widget-view+json": {
       "version_major": 2,
       "version_minor": 0,
       "model_id": "d119499ce44f4c8aa97c556e2cda826f"
      }
     },
     "metadata": {},
     "output_type": "display_data"
    },
    {
     "data": {
      "text/plain": "  0%|          | 0/800 [00:00<?, ?it/s]",
      "application/vnd.jupyter.widget-view+json": {
       "version_major": 2,
       "version_minor": 0,
       "model_id": "9c39d17b39304255bc60b80155e6c15f"
      }
     },
     "metadata": {},
     "output_type": "display_data"
    },
    {
     "data": {
      "text/plain": "  0%|          | 0/800 [00:00<?, ?it/s]",
      "application/vnd.jupyter.widget-view+json": {
       "version_major": 2,
       "version_minor": 0,
       "model_id": "2263c52b1f2246e1a90c39757c61c87c"
      }
     },
     "metadata": {},
     "output_type": "display_data"
    },
    {
     "data": {
      "text/plain": "  0%|          | 0/800 [00:00<?, ?it/s]",
      "application/vnd.jupyter.widget-view+json": {
       "version_major": 2,
       "version_minor": 0,
       "model_id": "8cd3070f19c84225a5564d691a81c3b9"
      }
     },
     "metadata": {},
     "output_type": "display_data"
    },
    {
     "data": {
      "text/plain": "  0%|          | 0/800 [00:00<?, ?it/s]",
      "application/vnd.jupyter.widget-view+json": {
       "version_major": 2,
       "version_minor": 0,
       "model_id": "99e3617151834e11b43eba2d1b6b7b65"
      }
     },
     "metadata": {},
     "output_type": "display_data"
    },
    {
     "data": {
      "text/plain": "  0%|          | 0/800 [00:00<?, ?it/s]",
      "application/vnd.jupyter.widget-view+json": {
       "version_major": 2,
       "version_minor": 0,
       "model_id": "f00f58a5960d4d4a8c280e036bc54cbd"
      }
     },
     "metadata": {},
     "output_type": "display_data"
    },
    {
     "data": {
      "text/plain": "  0%|          | 0/800 [00:00<?, ?it/s]",
      "application/vnd.jupyter.widget-view+json": {
       "version_major": 2,
       "version_minor": 0,
       "model_id": "1d23cba302674e9aa7111a84fa1bac02"
      }
     },
     "metadata": {},
     "output_type": "display_data"
    },
    {
     "data": {
      "text/plain": "  0%|          | 0/800 [00:00<?, ?it/s]",
      "application/vnd.jupyter.widget-view+json": {
       "version_major": 2,
       "version_minor": 0,
       "model_id": "59c7a30fa29d404bb91cbcb8f94880be"
      }
     },
     "metadata": {},
     "output_type": "display_data"
    },
    {
     "data": {
      "text/plain": "  0%|          | 0/800 [00:00<?, ?it/s]",
      "application/vnd.jupyter.widget-view+json": {
       "version_major": 2,
       "version_minor": 0,
       "model_id": "896a2dd55dd742b8859dd4173c6ba20e"
      }
     },
     "metadata": {},
     "output_type": "display_data"
    },
    {
     "data": {
      "text/plain": "  0%|          | 0/800 [00:00<?, ?it/s]",
      "application/vnd.jupyter.widget-view+json": {
       "version_major": 2,
       "version_minor": 0,
       "model_id": "8facff3daa39406abc63eb09b95eecca"
      }
     },
     "metadata": {},
     "output_type": "display_data"
    },
    {
     "data": {
      "text/plain": "  0%|          | 0/800 [00:00<?, ?it/s]",
      "application/vnd.jupyter.widget-view+json": {
       "version_major": 2,
       "version_minor": 0,
       "model_id": "790ba84ccac3478795a03e1d1a4c0b85"
      }
     },
     "metadata": {},
     "output_type": "display_data"
    },
    {
     "data": {
      "text/plain": "  0%|          | 0/800 [00:00<?, ?it/s]",
      "application/vnd.jupyter.widget-view+json": {
       "version_major": 2,
       "version_minor": 0,
       "model_id": "4945cd6d50a143e2bd2a01e01dfff09b"
      }
     },
     "metadata": {},
     "output_type": "display_data"
    },
    {
     "data": {
      "text/plain": "  0%|          | 0/800 [00:00<?, ?it/s]",
      "application/vnd.jupyter.widget-view+json": {
       "version_major": 2,
       "version_minor": 0,
       "model_id": "938a285e3d174a3f990d4fd3a598f7ef"
      }
     },
     "metadata": {},
     "output_type": "display_data"
    },
    {
     "data": {
      "text/plain": "  0%|          | 0/800 [00:00<?, ?it/s]",
      "application/vnd.jupyter.widget-view+json": {
       "version_major": 2,
       "version_minor": 0,
       "model_id": "fb75ab9179df4602bee73224facb6d94"
      }
     },
     "metadata": {},
     "output_type": "display_data"
    },
    {
     "data": {
      "text/plain": "  0%|          | 0/800 [00:00<?, ?it/s]",
      "application/vnd.jupyter.widget-view+json": {
       "version_major": 2,
       "version_minor": 0,
       "model_id": "39d9ce77a53c4fc28fed4542b28ff85d"
      }
     },
     "metadata": {},
     "output_type": "display_data"
    },
    {
     "data": {
      "text/plain": "  0%|          | 0/800 [00:00<?, ?it/s]",
      "application/vnd.jupyter.widget-view+json": {
       "version_major": 2,
       "version_minor": 0,
       "model_id": "ac6706fc4a4d40b0ad9af525ddaf3c3c"
      }
     },
     "metadata": {},
     "output_type": "display_data"
    },
    {
     "data": {
      "text/plain": "  0%|          | 0/800 [00:00<?, ?it/s]",
      "application/vnd.jupyter.widget-view+json": {
       "version_major": 2,
       "version_minor": 0,
       "model_id": "ae58ca633c01402cb5344440891480fb"
      }
     },
     "metadata": {},
     "output_type": "display_data"
    },
    {
     "data": {
      "text/plain": "  0%|          | 0/800 [00:00<?, ?it/s]",
      "application/vnd.jupyter.widget-view+json": {
       "version_major": 2,
       "version_minor": 0,
       "model_id": "a918a9ed86404599ac3c165fbaaf3a34"
      }
     },
     "metadata": {},
     "output_type": "display_data"
    },
    {
     "data": {
      "text/plain": "  0%|          | 0/800 [00:00<?, ?it/s]",
      "application/vnd.jupyter.widget-view+json": {
       "version_major": 2,
       "version_minor": 0,
       "model_id": "55d2d3fd835249ef88a8c3e1f00c6348"
      }
     },
     "metadata": {},
     "output_type": "display_data"
    },
    {
     "data": {
      "text/plain": "  0%|          | 0/800 [00:00<?, ?it/s]",
      "application/vnd.jupyter.widget-view+json": {
       "version_major": 2,
       "version_minor": 0,
       "model_id": "15e114272f694fe6893a421b3fd26d66"
      }
     },
     "metadata": {},
     "output_type": "display_data"
    },
    {
     "data": {
      "text/plain": "  0%|          | 0/800 [00:00<?, ?it/s]",
      "application/vnd.jupyter.widget-view+json": {
       "version_major": 2,
       "version_minor": 0,
       "model_id": "ad92a91cdf5f40259f0f33ee30a11b5b"
      }
     },
     "metadata": {},
     "output_type": "display_data"
    },
    {
     "data": {
      "text/plain": "  0%|          | 0/800 [00:00<?, ?it/s]",
      "application/vnd.jupyter.widget-view+json": {
       "version_major": 2,
       "version_minor": 0,
       "model_id": "eaebb50c7e7f46e4bb3bc4ac597158c9"
      }
     },
     "metadata": {},
     "output_type": "display_data"
    },
    {
     "data": {
      "text/plain": "  0%|          | 0/800 [00:00<?, ?it/s]",
      "application/vnd.jupyter.widget-view+json": {
       "version_major": 2,
       "version_minor": 0,
       "model_id": "3984ddb8d31d4f95ab19d3d87387e2f4"
      }
     },
     "metadata": {},
     "output_type": "display_data"
    },
    {
     "data": {
      "text/plain": "  0%|          | 0/800 [00:00<?, ?it/s]",
      "application/vnd.jupyter.widget-view+json": {
       "version_major": 2,
       "version_minor": 0,
       "model_id": "4205b642b2114ba2af932e04be8cb465"
      }
     },
     "metadata": {},
     "output_type": "display_data"
    },
    {
     "data": {
      "text/plain": "  0%|          | 0/800 [00:00<?, ?it/s]",
      "application/vnd.jupyter.widget-view+json": {
       "version_major": 2,
       "version_minor": 0,
       "model_id": "b1e4450cec94413cb1c9c7e79bae4d7e"
      }
     },
     "metadata": {},
     "output_type": "display_data"
    },
    {
     "data": {
      "text/plain": "  0%|          | 0/800 [00:00<?, ?it/s]",
      "application/vnd.jupyter.widget-view+json": {
       "version_major": 2,
       "version_minor": 0,
       "model_id": "846e8203ac8949b1b073bb8d2bd76187"
      }
     },
     "metadata": {},
     "output_type": "display_data"
    },
    {
     "data": {
      "text/plain": "  0%|          | 0/800 [00:00<?, ?it/s]",
      "application/vnd.jupyter.widget-view+json": {
       "version_major": 2,
       "version_minor": 0,
       "model_id": "f523c006237a4e5e9c8685837206ac6e"
      }
     },
     "metadata": {},
     "output_type": "display_data"
    },
    {
     "data": {
      "text/plain": "  0%|          | 0/800 [00:00<?, ?it/s]",
      "application/vnd.jupyter.widget-view+json": {
       "version_major": 2,
       "version_minor": 0,
       "model_id": "0e65f03ecda44f71830ba29c9951827e"
      }
     },
     "metadata": {},
     "output_type": "display_data"
    },
    {
     "data": {
      "text/plain": "  0%|          | 0/800 [00:00<?, ?it/s]",
      "application/vnd.jupyter.widget-view+json": {
       "version_major": 2,
       "version_minor": 0,
       "model_id": "2eb86f3a78e3477ba355de61facedf2a"
      }
     },
     "metadata": {},
     "output_type": "display_data"
    },
    {
     "data": {
      "text/plain": "  0%|          | 0/800 [00:00<?, ?it/s]",
      "application/vnd.jupyter.widget-view+json": {
       "version_major": 2,
       "version_minor": 0,
       "model_id": "254bef4fca574ba1970d72fcb4898271"
      }
     },
     "metadata": {},
     "output_type": "display_data"
    },
    {
     "data": {
      "text/plain": "  0%|          | 0/800 [00:00<?, ?it/s]",
      "application/vnd.jupyter.widget-view+json": {
       "version_major": 2,
       "version_minor": 0,
       "model_id": "e1b79fc411a64d49b49bc50c39698918"
      }
     },
     "metadata": {},
     "output_type": "display_data"
    },
    {
     "data": {
      "text/plain": "  0%|          | 0/800 [00:00<?, ?it/s]",
      "application/vnd.jupyter.widget-view+json": {
       "version_major": 2,
       "version_minor": 0,
       "model_id": "eb0a02225e564869b93b8f7707b45b3e"
      }
     },
     "metadata": {},
     "output_type": "display_data"
    },
    {
     "data": {
      "text/plain": "  0%|          | 0/800 [00:00<?, ?it/s]",
      "application/vnd.jupyter.widget-view+json": {
       "version_major": 2,
       "version_minor": 0,
       "model_id": "8e9220a7ec5b4a6eb7b9fc59afff2d68"
      }
     },
     "metadata": {},
     "output_type": "display_data"
    },
    {
     "data": {
      "text/plain": "  0%|          | 0/800 [00:00<?, ?it/s]",
      "application/vnd.jupyter.widget-view+json": {
       "version_major": 2,
       "version_minor": 0,
       "model_id": "f6406a1ee8954824a9734b67b471a062"
      }
     },
     "metadata": {},
     "output_type": "display_data"
    },
    {
     "data": {
      "text/plain": "  0%|          | 0/800 [00:00<?, ?it/s]",
      "application/vnd.jupyter.widget-view+json": {
       "version_major": 2,
       "version_minor": 0,
       "model_id": "d730ad983e8640debbf71b13fd512c61"
      }
     },
     "metadata": {},
     "output_type": "display_data"
    },
    {
     "data": {
      "text/plain": "  0%|          | 0/800 [00:00<?, ?it/s]",
      "application/vnd.jupyter.widget-view+json": {
       "version_major": 2,
       "version_minor": 0,
       "model_id": "062d8b914f1e46738ee4a6bbf61cf26e"
      }
     },
     "metadata": {},
     "output_type": "display_data"
    },
    {
     "data": {
      "text/plain": "  0%|          | 0/800 [00:00<?, ?it/s]",
      "application/vnd.jupyter.widget-view+json": {
       "version_major": 2,
       "version_minor": 0,
       "model_id": "ed91bc6276d649b28ac8dd607dbd9be1"
      }
     },
     "metadata": {},
     "output_type": "display_data"
    },
    {
     "data": {
      "text/plain": "  0%|          | 0/800 [00:00<?, ?it/s]",
      "application/vnd.jupyter.widget-view+json": {
       "version_major": 2,
       "version_minor": 0,
       "model_id": "f2f55ae433f243bcb472beb56514e3d1"
      }
     },
     "metadata": {},
     "output_type": "display_data"
    },
    {
     "data": {
      "text/plain": "  0%|          | 0/800 [00:00<?, ?it/s]",
      "application/vnd.jupyter.widget-view+json": {
       "version_major": 2,
       "version_minor": 0,
       "model_id": "da06c8eaf79d427eacce698f4076fa22"
      }
     },
     "metadata": {},
     "output_type": "display_data"
    },
    {
     "data": {
      "text/plain": "  0%|          | 0/800 [00:00<?, ?it/s]",
      "application/vnd.jupyter.widget-view+json": {
       "version_major": 2,
       "version_minor": 0,
       "model_id": "df5701179ef94e7393dae84d4a8cc69b"
      }
     },
     "metadata": {},
     "output_type": "display_data"
    },
    {
     "data": {
      "text/plain": "  0%|          | 0/800 [00:00<?, ?it/s]",
      "application/vnd.jupyter.widget-view+json": {
       "version_major": 2,
       "version_minor": 0,
       "model_id": "08c26897565d42aa87045179f800b41b"
      }
     },
     "metadata": {},
     "output_type": "display_data"
    },
    {
     "data": {
      "text/plain": "  0%|          | 0/800 [00:00<?, ?it/s]",
      "application/vnd.jupyter.widget-view+json": {
       "version_major": 2,
       "version_minor": 0,
       "model_id": "e5d0eed007ee4b0b93c080c2b62710ac"
      }
     },
     "metadata": {},
     "output_type": "display_data"
    },
    {
     "data": {
      "text/plain": "  0%|          | 0/800 [00:00<?, ?it/s]",
      "application/vnd.jupyter.widget-view+json": {
       "version_major": 2,
       "version_minor": 0,
       "model_id": "44e22d3d0358456a8e80a77bf7813c5e"
      }
     },
     "metadata": {},
     "output_type": "display_data"
    },
    {
     "data": {
      "text/plain": "  0%|          | 0/800 [00:00<?, ?it/s]",
      "application/vnd.jupyter.widget-view+json": {
       "version_major": 2,
       "version_minor": 0,
       "model_id": "7510befccabe4c098cc785b9f0cff6f8"
      }
     },
     "metadata": {},
     "output_type": "display_data"
    },
    {
     "data": {
      "text/plain": "  0%|          | 0/800 [00:00<?, ?it/s]",
      "application/vnd.jupyter.widget-view+json": {
       "version_major": 2,
       "version_minor": 0,
       "model_id": "c0da31a09ac14c18928fc39e5ad816b9"
      }
     },
     "metadata": {},
     "output_type": "display_data"
    },
    {
     "data": {
      "text/plain": "  0%|          | 0/800 [00:00<?, ?it/s]",
      "application/vnd.jupyter.widget-view+json": {
       "version_major": 2,
       "version_minor": 0,
       "model_id": "c88842cd35f144098a96da2e06ab8946"
      }
     },
     "metadata": {},
     "output_type": "display_data"
    },
    {
     "data": {
      "text/plain": "  0%|          | 0/800 [00:00<?, ?it/s]",
      "application/vnd.jupyter.widget-view+json": {
       "version_major": 2,
       "version_minor": 0,
       "model_id": "36e4cbe5f5a84411bb50d5d42784c550"
      }
     },
     "metadata": {},
     "output_type": "display_data"
    },
    {
     "data": {
      "text/plain": "  0%|          | 0/800 [00:00<?, ?it/s]",
      "application/vnd.jupyter.widget-view+json": {
       "version_major": 2,
       "version_minor": 0,
       "model_id": "b14031cd0849498bb79adb1bcff89529"
      }
     },
     "metadata": {},
     "output_type": "display_data"
    },
    {
     "data": {
      "text/plain": "  0%|          | 0/800 [00:00<?, ?it/s]",
      "application/vnd.jupyter.widget-view+json": {
       "version_major": 2,
       "version_minor": 0,
       "model_id": "e1bf661a687d4bad94e8ba0808d9843e"
      }
     },
     "metadata": {},
     "output_type": "display_data"
    },
    {
     "data": {
      "text/plain": "  0%|          | 0/800 [00:00<?, ?it/s]",
      "application/vnd.jupyter.widget-view+json": {
       "version_major": 2,
       "version_minor": 0,
       "model_id": "3cba7b05dbc841819b6df00133d15b15"
      }
     },
     "metadata": {},
     "output_type": "display_data"
    },
    {
     "data": {
      "text/plain": "  0%|          | 0/800 [00:00<?, ?it/s]",
      "application/vnd.jupyter.widget-view+json": {
       "version_major": 2,
       "version_minor": 0,
       "model_id": "676a2869bc1e4c82b00ef56ebb8ee303"
      }
     },
     "metadata": {},
     "output_type": "display_data"
    },
    {
     "data": {
      "text/plain": "  0%|          | 0/800 [00:00<?, ?it/s]",
      "application/vnd.jupyter.widget-view+json": {
       "version_major": 2,
       "version_minor": 0,
       "model_id": "8f0201c3223742b4a29e72b59c95ce6f"
      }
     },
     "metadata": {},
     "output_type": "display_data"
    },
    {
     "data": {
      "text/plain": "  0%|          | 0/800 [00:00<?, ?it/s]",
      "application/vnd.jupyter.widget-view+json": {
       "version_major": 2,
       "version_minor": 0,
       "model_id": "e38698f411074b7b9c5342c789806ad5"
      }
     },
     "metadata": {},
     "output_type": "display_data"
    },
    {
     "data": {
      "text/plain": "  0%|          | 0/800 [00:00<?, ?it/s]",
      "application/vnd.jupyter.widget-view+json": {
       "version_major": 2,
       "version_minor": 0,
       "model_id": "f802bebb90a5499b968d8b8fd336af1f"
      }
     },
     "metadata": {},
     "output_type": "display_data"
    },
    {
     "data": {
      "text/plain": "  0%|          | 0/800 [00:00<?, ?it/s]",
      "application/vnd.jupyter.widget-view+json": {
       "version_major": 2,
       "version_minor": 0,
       "model_id": "909856a6620244d7a342c8c8a2d1f144"
      }
     },
     "metadata": {},
     "output_type": "display_data"
    },
    {
     "data": {
      "text/plain": "  0%|          | 0/800 [00:00<?, ?it/s]",
      "application/vnd.jupyter.widget-view+json": {
       "version_major": 2,
       "version_minor": 0,
       "model_id": "251982b6b26949f3b93cd85b9f24368b"
      }
     },
     "metadata": {},
     "output_type": "display_data"
    },
    {
     "data": {
      "text/plain": "  0%|          | 0/800 [00:00<?, ?it/s]",
      "application/vnd.jupyter.widget-view+json": {
       "version_major": 2,
       "version_minor": 0,
       "model_id": "e0d23b44f8184975a179fd0eb56fef3f"
      }
     },
     "metadata": {},
     "output_type": "display_data"
    },
    {
     "data": {
      "text/plain": "  0%|          | 0/800 [00:00<?, ?it/s]",
      "application/vnd.jupyter.widget-view+json": {
       "version_major": 2,
       "version_minor": 0,
       "model_id": "82f37c95f2eb46e8957cc9c3df21fab9"
      }
     },
     "metadata": {},
     "output_type": "display_data"
    },
    {
     "data": {
      "text/plain": "  0%|          | 0/800 [00:00<?, ?it/s]",
      "application/vnd.jupyter.widget-view+json": {
       "version_major": 2,
       "version_minor": 0,
       "model_id": "8f18cda7a18a44e08ff56beaae3be2e4"
      }
     },
     "metadata": {},
     "output_type": "display_data"
    },
    {
     "data": {
      "text/plain": "  0%|          | 0/800 [00:00<?, ?it/s]",
      "application/vnd.jupyter.widget-view+json": {
       "version_major": 2,
       "version_minor": 0,
       "model_id": "30297f4f9ef745fca177278d9fdeadac"
      }
     },
     "metadata": {},
     "output_type": "display_data"
    },
    {
     "data": {
      "text/plain": "  0%|          | 0/800 [00:00<?, ?it/s]",
      "application/vnd.jupyter.widget-view+json": {
       "version_major": 2,
       "version_minor": 0,
       "model_id": "b20055e7c4c848af8e1ff5aebe247c1b"
      }
     },
     "metadata": {},
     "output_type": "display_data"
    },
    {
     "data": {
      "text/plain": "  0%|          | 0/800 [00:00<?, ?it/s]",
      "application/vnd.jupyter.widget-view+json": {
       "version_major": 2,
       "version_minor": 0,
       "model_id": "a84333608969489794512740b7e00718"
      }
     },
     "metadata": {},
     "output_type": "display_data"
    },
    {
     "data": {
      "text/plain": "  0%|          | 0/800 [00:00<?, ?it/s]",
      "application/vnd.jupyter.widget-view+json": {
       "version_major": 2,
       "version_minor": 0,
       "model_id": "cb64794b055d4c898aa50e56600c6319"
      }
     },
     "metadata": {},
     "output_type": "display_data"
    },
    {
     "data": {
      "text/plain": "  0%|          | 0/800 [00:00<?, ?it/s]",
      "application/vnd.jupyter.widget-view+json": {
       "version_major": 2,
       "version_minor": 0,
       "model_id": "82b3a57765714b948bfb62efb7029379"
      }
     },
     "metadata": {},
     "output_type": "display_data"
    },
    {
     "data": {
      "text/plain": "  0%|          | 0/800 [00:00<?, ?it/s]",
      "application/vnd.jupyter.widget-view+json": {
       "version_major": 2,
       "version_minor": 0,
       "model_id": "1f84e3d17caa4fd191b7f6f12d179d94"
      }
     },
     "metadata": {},
     "output_type": "display_data"
    },
    {
     "data": {
      "text/plain": "  0%|          | 0/800 [00:00<?, ?it/s]",
      "application/vnd.jupyter.widget-view+json": {
       "version_major": 2,
       "version_minor": 0,
       "model_id": "665a2e4e344b4d67b4aefc9d299aabf3"
      }
     },
     "metadata": {},
     "output_type": "display_data"
    },
    {
     "data": {
      "text/plain": "  0%|          | 0/800 [00:00<?, ?it/s]",
      "application/vnd.jupyter.widget-view+json": {
       "version_major": 2,
       "version_minor": 0,
       "model_id": "37e7d41457e3488199dfe59c51907b8d"
      }
     },
     "metadata": {},
     "output_type": "display_data"
    },
    {
     "data": {
      "text/plain": "  0%|          | 0/800 [00:00<?, ?it/s]",
      "application/vnd.jupyter.widget-view+json": {
       "version_major": 2,
       "version_minor": 0,
       "model_id": "bf8b87b8a5da48e2a82aedf119e67cbc"
      }
     },
     "metadata": {},
     "output_type": "display_data"
    },
    {
     "data": {
      "text/plain": "  0%|          | 0/800 [00:00<?, ?it/s]",
      "application/vnd.jupyter.widget-view+json": {
       "version_major": 2,
       "version_minor": 0,
       "model_id": "1049c580b24240af881ca8b9d8c661d0"
      }
     },
     "metadata": {},
     "output_type": "display_data"
    },
    {
     "data": {
      "text/plain": "  0%|          | 0/800 [00:00<?, ?it/s]",
      "application/vnd.jupyter.widget-view+json": {
       "version_major": 2,
       "version_minor": 0,
       "model_id": "cd79bdf08cbc43c3b466eca0fcb121c5"
      }
     },
     "metadata": {},
     "output_type": "display_data"
    },
    {
     "data": {
      "text/plain": "  0%|          | 0/800 [00:00<?, ?it/s]",
      "application/vnd.jupyter.widget-view+json": {
       "version_major": 2,
       "version_minor": 0,
       "model_id": "eb2cc5b545c44071b6f57afdc32587b1"
      }
     },
     "metadata": {},
     "output_type": "display_data"
    },
    {
     "data": {
      "text/plain": "  0%|          | 0/800 [00:00<?, ?it/s]",
      "application/vnd.jupyter.widget-view+json": {
       "version_major": 2,
       "version_minor": 0,
       "model_id": "b589b11411734f459b2f14d3a6da7f7f"
      }
     },
     "metadata": {},
     "output_type": "display_data"
    },
    {
     "data": {
      "text/plain": "  0%|          | 0/800 [00:00<?, ?it/s]",
      "application/vnd.jupyter.widget-view+json": {
       "version_major": 2,
       "version_minor": 0,
       "model_id": "bf516f97c132498c84ac09a5bd81ac3f"
      }
     },
     "metadata": {},
     "output_type": "display_data"
    },
    {
     "data": {
      "text/plain": "  0%|          | 0/800 [00:00<?, ?it/s]",
      "application/vnd.jupyter.widget-view+json": {
       "version_major": 2,
       "version_minor": 0,
       "model_id": "1185024e42e943fd90585ea1bf3b1b3c"
      }
     },
     "metadata": {},
     "output_type": "display_data"
    },
    {
     "data": {
      "text/plain": "  0%|          | 0/800 [00:00<?, ?it/s]",
      "application/vnd.jupyter.widget-view+json": {
       "version_major": 2,
       "version_minor": 0,
       "model_id": "f594d5b39d6a4d9485f7fbea67c7ba36"
      }
     },
     "metadata": {},
     "output_type": "display_data"
    },
    {
     "data": {
      "text/plain": "  0%|          | 0/800 [00:00<?, ?it/s]",
      "application/vnd.jupyter.widget-view+json": {
       "version_major": 2,
       "version_minor": 0,
       "model_id": "955301a261ac477787a082f954be6ff4"
      }
     },
     "metadata": {},
     "output_type": "display_data"
    },
    {
     "data": {
      "text/plain": "  0%|          | 0/800 [00:00<?, ?it/s]",
      "application/vnd.jupyter.widget-view+json": {
       "version_major": 2,
       "version_minor": 0,
       "model_id": "693b63c9af214746b626ef71db98941e"
      }
     },
     "metadata": {},
     "output_type": "display_data"
    },
    {
     "data": {
      "text/plain": "  0%|          | 0/800 [00:00<?, ?it/s]",
      "application/vnd.jupyter.widget-view+json": {
       "version_major": 2,
       "version_minor": 0,
       "model_id": "0088dc37931f4b8497d04dd0329f95d9"
      }
     },
     "metadata": {},
     "output_type": "display_data"
    },
    {
     "data": {
      "text/plain": "  0%|          | 0/800 [00:00<?, ?it/s]",
      "application/vnd.jupyter.widget-view+json": {
       "version_major": 2,
       "version_minor": 0,
       "model_id": "e692d882a9874b51a07021ec76971abf"
      }
     },
     "metadata": {},
     "output_type": "display_data"
    },
    {
     "data": {
      "text/plain": "  0%|          | 0/800 [00:00<?, ?it/s]",
      "application/vnd.jupyter.widget-view+json": {
       "version_major": 2,
       "version_minor": 0,
       "model_id": "3dd14140f9bb44f4b9794574b07b1290"
      }
     },
     "metadata": {},
     "output_type": "display_data"
    },
    {
     "data": {
      "text/plain": "  0%|          | 0/800 [00:00<?, ?it/s]",
      "application/vnd.jupyter.widget-view+json": {
       "version_major": 2,
       "version_minor": 0,
       "model_id": "13f863f5c8fa42ca9f576f6217429836"
      }
     },
     "metadata": {},
     "output_type": "display_data"
    },
    {
     "data": {
      "text/plain": "  0%|          | 0/800 [00:00<?, ?it/s]",
      "application/vnd.jupyter.widget-view+json": {
       "version_major": 2,
       "version_minor": 0,
       "model_id": "ba170f80a0054d7a84d1debfc5ad9ca7"
      }
     },
     "metadata": {},
     "output_type": "display_data"
    },
    {
     "data": {
      "text/plain": "  0%|          | 0/800 [00:00<?, ?it/s]",
      "application/vnd.jupyter.widget-view+json": {
       "version_major": 2,
       "version_minor": 0,
       "model_id": "2aa44ce4e4b34b2097a33dbc037c6602"
      }
     },
     "metadata": {},
     "output_type": "display_data"
    },
    {
     "data": {
      "text/plain": "  0%|          | 0/800 [00:00<?, ?it/s]",
      "application/vnd.jupyter.widget-view+json": {
       "version_major": 2,
       "version_minor": 0,
       "model_id": "44e081109ffa48778ddd04a33c68f547"
      }
     },
     "metadata": {},
     "output_type": "display_data"
    },
    {
     "data": {
      "text/plain": "  0%|          | 0/800 [00:00<?, ?it/s]",
      "application/vnd.jupyter.widget-view+json": {
       "version_major": 2,
       "version_minor": 0,
       "model_id": "316da3d99d26435a95528f7657179d0d"
      }
     },
     "metadata": {},
     "output_type": "display_data"
    },
    {
     "data": {
      "text/plain": "  0%|          | 0/800 [00:00<?, ?it/s]",
      "application/vnd.jupyter.widget-view+json": {
       "version_major": 2,
       "version_minor": 0,
       "model_id": "223aa672176249e69a18e7f30e2e47ca"
      }
     },
     "metadata": {},
     "output_type": "display_data"
    },
    {
     "data": {
      "text/plain": "  0%|          | 0/800 [00:00<?, ?it/s]",
      "application/vnd.jupyter.widget-view+json": {
       "version_major": 2,
       "version_minor": 0,
       "model_id": "97113e2841b741888740b6c82410d1ca"
      }
     },
     "metadata": {},
     "output_type": "display_data"
    },
    {
     "data": {
      "text/plain": "  0%|          | 0/800 [00:00<?, ?it/s]",
      "application/vnd.jupyter.widget-view+json": {
       "version_major": 2,
       "version_minor": 0,
       "model_id": "89c85036cfaa4cc1be4001057d670665"
      }
     },
     "metadata": {},
     "output_type": "display_data"
    },
    {
     "data": {
      "text/plain": "  0%|          | 0/800 [00:00<?, ?it/s]",
      "application/vnd.jupyter.widget-view+json": {
       "version_major": 2,
       "version_minor": 0,
       "model_id": "8f18504889cf4969b1a76119d37786d3"
      }
     },
     "metadata": {},
     "output_type": "display_data"
    },
    {
     "data": {
      "text/plain": "  0%|          | 0/800 [00:00<?, ?it/s]",
      "application/vnd.jupyter.widget-view+json": {
       "version_major": 2,
       "version_minor": 0,
       "model_id": "5a154a4668194a68bc861f2ca7e161bb"
      }
     },
     "metadata": {},
     "output_type": "display_data"
    },
    {
     "data": {
      "text/plain": "  0%|          | 0/800 [00:00<?, ?it/s]",
      "application/vnd.jupyter.widget-view+json": {
       "version_major": 2,
       "version_minor": 0,
       "model_id": "461dc00a25764b1d99f2bfb94520c7f1"
      }
     },
     "metadata": {},
     "output_type": "display_data"
    },
    {
     "data": {
      "text/plain": "  0%|          | 0/800 [00:00<?, ?it/s]",
      "application/vnd.jupyter.widget-view+json": {
       "version_major": 2,
       "version_minor": 0,
       "model_id": "6c3efe96e14d4fd18a4a426269682d0e"
      }
     },
     "metadata": {},
     "output_type": "display_data"
    },
    {
     "data": {
      "text/plain": "  0%|          | 0/800 [00:00<?, ?it/s]",
      "application/vnd.jupyter.widget-view+json": {
       "version_major": 2,
       "version_minor": 0,
       "model_id": "f314f04d760642fd9bf450be34a52f19"
      }
     },
     "metadata": {},
     "output_type": "display_data"
    },
    {
     "data": {
      "text/plain": "  0%|          | 0/800 [00:00<?, ?it/s]",
      "application/vnd.jupyter.widget-view+json": {
       "version_major": 2,
       "version_minor": 0,
       "model_id": "db5521b51db74586a669b8d071674ac2"
      }
     },
     "metadata": {},
     "output_type": "display_data"
    },
    {
     "data": {
      "text/plain": "  0%|          | 0/800 [00:00<?, ?it/s]",
      "application/vnd.jupyter.widget-view+json": {
       "version_major": 2,
       "version_minor": 0,
       "model_id": "2de8349e6e6b45c0b9ebe4a2a5074ce5"
      }
     },
     "metadata": {},
     "output_type": "display_data"
    },
    {
     "data": {
      "text/plain": "  0%|          | 0/800 [00:00<?, ?it/s]",
      "application/vnd.jupyter.widget-view+json": {
       "version_major": 2,
       "version_minor": 0,
       "model_id": "cbda57e72e4646a5bc313257fed0fc37"
      }
     },
     "metadata": {},
     "output_type": "display_data"
    },
    {
     "data": {
      "text/plain": "  0%|          | 0/800 [00:00<?, ?it/s]",
      "application/vnd.jupyter.widget-view+json": {
       "version_major": 2,
       "version_minor": 0,
       "model_id": "345e1a5ab94d4999a4ec035094af7a73"
      }
     },
     "metadata": {},
     "output_type": "display_data"
    },
    {
     "data": {
      "text/plain": "  0%|          | 0/800 [00:00<?, ?it/s]",
      "application/vnd.jupyter.widget-view+json": {
       "version_major": 2,
       "version_minor": 0,
       "model_id": "8960350e48864d2f92ccc08f3a515c08"
      }
     },
     "metadata": {},
     "output_type": "display_data"
    },
    {
     "data": {
      "text/plain": "  0%|          | 0/800 [00:00<?, ?it/s]",
      "application/vnd.jupyter.widget-view+json": {
       "version_major": 2,
       "version_minor": 0,
       "model_id": "58cddfd3375d4ef18f5548fe41caad23"
      }
     },
     "metadata": {},
     "output_type": "display_data"
    },
    {
     "data": {
      "text/plain": "  0%|          | 0/800 [00:00<?, ?it/s]",
      "application/vnd.jupyter.widget-view+json": {
       "version_major": 2,
       "version_minor": 0,
       "model_id": "556d504e41364c71996b6c60d7da5028"
      }
     },
     "metadata": {},
     "output_type": "display_data"
    },
    {
     "data": {
      "text/plain": "  0%|          | 0/800 [00:00<?, ?it/s]",
      "application/vnd.jupyter.widget-view+json": {
       "version_major": 2,
       "version_minor": 0,
       "model_id": "e5c13e1e1ad34932b8292abaa6819758"
      }
     },
     "metadata": {},
     "output_type": "display_data"
    },
    {
     "data": {
      "text/plain": "  0%|          | 0/800 [00:00<?, ?it/s]",
      "application/vnd.jupyter.widget-view+json": {
       "version_major": 2,
       "version_minor": 0,
       "model_id": "a51852d7ccdc449bb2c7c0811353891e"
      }
     },
     "metadata": {},
     "output_type": "display_data"
    },
    {
     "data": {
      "text/plain": "  0%|          | 0/800 [00:00<?, ?it/s]",
      "application/vnd.jupyter.widget-view+json": {
       "version_major": 2,
       "version_minor": 0,
       "model_id": "12a53af678ac44b190bf856c0e70f50c"
      }
     },
     "metadata": {},
     "output_type": "display_data"
    },
    {
     "data": {
      "text/plain": "  0%|          | 0/800 [00:00<?, ?it/s]",
      "application/vnd.jupyter.widget-view+json": {
       "version_major": 2,
       "version_minor": 0,
       "model_id": "5b234f60d7e8469097a692640b618bbe"
      }
     },
     "metadata": {},
     "output_type": "display_data"
    },
    {
     "data": {
      "text/plain": "  0%|          | 0/800 [00:00<?, ?it/s]",
      "application/vnd.jupyter.widget-view+json": {
       "version_major": 2,
       "version_minor": 0,
       "model_id": "df0e6ebc03b04773867329414a098c82"
      }
     },
     "metadata": {},
     "output_type": "display_data"
    },
    {
     "data": {
      "text/plain": "  0%|          | 0/800 [00:00<?, ?it/s]",
      "application/vnd.jupyter.widget-view+json": {
       "version_major": 2,
       "version_minor": 0,
       "model_id": "d04737064f464d09a15737f99839f73e"
      }
     },
     "metadata": {},
     "output_type": "display_data"
    },
    {
     "data": {
      "text/plain": "  0%|          | 0/800 [00:00<?, ?it/s]",
      "application/vnd.jupyter.widget-view+json": {
       "version_major": 2,
       "version_minor": 0,
       "model_id": "985efd04b03640dca3da9d9fc36e3476"
      }
     },
     "metadata": {},
     "output_type": "display_data"
    },
    {
     "data": {
      "text/plain": "  0%|          | 0/800 [00:00<?, ?it/s]",
      "application/vnd.jupyter.widget-view+json": {
       "version_major": 2,
       "version_minor": 0,
       "model_id": "20d97c01c42a441a81fe26502f54da17"
      }
     },
     "metadata": {},
     "output_type": "display_data"
    },
    {
     "data": {
      "text/plain": "  0%|          | 0/800 [00:00<?, ?it/s]",
      "application/vnd.jupyter.widget-view+json": {
       "version_major": 2,
       "version_minor": 0,
       "model_id": "4dd60114c5ed4662bfe02d58367fa337"
      }
     },
     "metadata": {},
     "output_type": "display_data"
    },
    {
     "data": {
      "text/plain": "  0%|          | 0/800 [00:00<?, ?it/s]",
      "application/vnd.jupyter.widget-view+json": {
       "version_major": 2,
       "version_minor": 0,
       "model_id": "e3b2d8e06477451a9e0f2078a142ddbe"
      }
     },
     "metadata": {},
     "output_type": "display_data"
    },
    {
     "data": {
      "text/plain": "  0%|          | 0/800 [00:00<?, ?it/s]",
      "application/vnd.jupyter.widget-view+json": {
       "version_major": 2,
       "version_minor": 0,
       "model_id": "3abc1f9b9d414713ae3eff5aa8f3e1cb"
      }
     },
     "metadata": {},
     "output_type": "display_data"
    },
    {
     "data": {
      "text/plain": "  0%|          | 0/800 [00:00<?, ?it/s]",
      "application/vnd.jupyter.widget-view+json": {
       "version_major": 2,
       "version_minor": 0,
       "model_id": "f9ae47d8e4884815994fd4f01f326b1b"
      }
     },
     "metadata": {},
     "output_type": "display_data"
    },
    {
     "data": {
      "text/plain": "  0%|          | 0/800 [00:00<?, ?it/s]",
      "application/vnd.jupyter.widget-view+json": {
       "version_major": 2,
       "version_minor": 0,
       "model_id": "0eb2e75eb242446c974ad6ceac9b534f"
      }
     },
     "metadata": {},
     "output_type": "display_data"
    },
    {
     "data": {
      "text/plain": "  0%|          | 0/800 [00:00<?, ?it/s]",
      "application/vnd.jupyter.widget-view+json": {
       "version_major": 2,
       "version_minor": 0,
       "model_id": "c00c5d4536ea46e5b70e498ef810fb97"
      }
     },
     "metadata": {},
     "output_type": "display_data"
    },
    {
     "data": {
      "text/plain": "  0%|          | 0/800 [00:00<?, ?it/s]",
      "application/vnd.jupyter.widget-view+json": {
       "version_major": 2,
       "version_minor": 0,
       "model_id": "c78f6ce7cd904286afbe8a9843d2955f"
      }
     },
     "metadata": {},
     "output_type": "display_data"
    },
    {
     "data": {
      "text/plain": "  0%|          | 0/800 [00:00<?, ?it/s]",
      "application/vnd.jupyter.widget-view+json": {
       "version_major": 2,
       "version_minor": 0,
       "model_id": "6afe11a487f44c8aa97159acef688657"
      }
     },
     "metadata": {},
     "output_type": "display_data"
    },
    {
     "data": {
      "text/plain": "  0%|          | 0/800 [00:00<?, ?it/s]",
      "application/vnd.jupyter.widget-view+json": {
       "version_major": 2,
       "version_minor": 0,
       "model_id": "c7f82a52b5c6492987f9169f9232526d"
      }
     },
     "metadata": {},
     "output_type": "display_data"
    },
    {
     "data": {
      "text/plain": "  0%|          | 0/800 [00:00<?, ?it/s]",
      "application/vnd.jupyter.widget-view+json": {
       "version_major": 2,
       "version_minor": 0,
       "model_id": "33029d7bda5041009fe4456dc29b5ecd"
      }
     },
     "metadata": {},
     "output_type": "display_data"
    },
    {
     "data": {
      "text/plain": "  0%|          | 0/800 [00:00<?, ?it/s]",
      "application/vnd.jupyter.widget-view+json": {
       "version_major": 2,
       "version_minor": 0,
       "model_id": "3fd27de968d3481ab0cc837f7897b55e"
      }
     },
     "metadata": {},
     "output_type": "display_data"
    },
    {
     "data": {
      "text/plain": "  0%|          | 0/800 [00:00<?, ?it/s]",
      "application/vnd.jupyter.widget-view+json": {
       "version_major": 2,
       "version_minor": 0,
       "model_id": "972f0eafc8394eadb1c515f5b7ed4219"
      }
     },
     "metadata": {},
     "output_type": "display_data"
    },
    {
     "data": {
      "text/plain": "  0%|          | 0/800 [00:00<?, ?it/s]",
      "application/vnd.jupyter.widget-view+json": {
       "version_major": 2,
       "version_minor": 0,
       "model_id": "e908967cdc0c49a8844b8d2faf178b97"
      }
     },
     "metadata": {},
     "output_type": "display_data"
    },
    {
     "data": {
      "text/plain": "  0%|          | 0/800 [00:00<?, ?it/s]",
      "application/vnd.jupyter.widget-view+json": {
       "version_major": 2,
       "version_minor": 0,
       "model_id": "2f09b377aca54942b5074d5a4dfea0a8"
      }
     },
     "metadata": {},
     "output_type": "display_data"
    },
    {
     "data": {
      "text/plain": "  0%|          | 0/800 [00:00<?, ?it/s]",
      "application/vnd.jupyter.widget-view+json": {
       "version_major": 2,
       "version_minor": 0,
       "model_id": "0c3a5fd19e934bc6b238204d655d1e90"
      }
     },
     "metadata": {},
     "output_type": "display_data"
    },
    {
     "data": {
      "text/plain": "  0%|          | 0/800 [00:00<?, ?it/s]",
      "application/vnd.jupyter.widget-view+json": {
       "version_major": 2,
       "version_minor": 0,
       "model_id": "4a5f1969a99e4a4caeb0904af6323099"
      }
     },
     "metadata": {},
     "output_type": "display_data"
    },
    {
     "data": {
      "text/plain": "  0%|          | 0/800 [00:00<?, ?it/s]",
      "application/vnd.jupyter.widget-view+json": {
       "version_major": 2,
       "version_minor": 0,
       "model_id": "a693ce904faf42c8886b66e22a6b1ff7"
      }
     },
     "metadata": {},
     "output_type": "display_data"
    },
    {
     "data": {
      "text/plain": "  0%|          | 0/800 [00:00<?, ?it/s]",
      "application/vnd.jupyter.widget-view+json": {
       "version_major": 2,
       "version_minor": 0,
       "model_id": "d4466ce5c62d4b2382b222ff688f1d15"
      }
     },
     "metadata": {},
     "output_type": "display_data"
    },
    {
     "data": {
      "text/plain": "  0%|          | 0/800 [00:00<?, ?it/s]",
      "application/vnd.jupyter.widget-view+json": {
       "version_major": 2,
       "version_minor": 0,
       "model_id": "9fc729b87909427fae9e9ca1be068b39"
      }
     },
     "metadata": {},
     "output_type": "display_data"
    },
    {
     "data": {
      "text/plain": "  0%|          | 0/800 [00:00<?, ?it/s]",
      "application/vnd.jupyter.widget-view+json": {
       "version_major": 2,
       "version_minor": 0,
       "model_id": "4131ab40c92f4768b824b96273309441"
      }
     },
     "metadata": {},
     "output_type": "display_data"
    },
    {
     "data": {
      "text/plain": "  0%|          | 0/800 [00:00<?, ?it/s]",
      "application/vnd.jupyter.widget-view+json": {
       "version_major": 2,
       "version_minor": 0,
       "model_id": "7f5e0c5cfd914f43a06349ad4cc2b56f"
      }
     },
     "metadata": {},
     "output_type": "display_data"
    },
    {
     "data": {
      "text/plain": "  0%|          | 0/800 [00:00<?, ?it/s]",
      "application/vnd.jupyter.widget-view+json": {
       "version_major": 2,
       "version_minor": 0,
       "model_id": "f5ded571a5ed4b6fa414fd19eb81b1c9"
      }
     },
     "metadata": {},
     "output_type": "display_data"
    },
    {
     "data": {
      "text/plain": "  0%|          | 0/800 [00:00<?, ?it/s]",
      "application/vnd.jupyter.widget-view+json": {
       "version_major": 2,
       "version_minor": 0,
       "model_id": "5aa5c04838544c1b9367976d3de3d207"
      }
     },
     "metadata": {},
     "output_type": "display_data"
    },
    {
     "data": {
      "text/plain": "  0%|          | 0/800 [00:00<?, ?it/s]",
      "application/vnd.jupyter.widget-view+json": {
       "version_major": 2,
       "version_minor": 0,
       "model_id": "77d9cfdd171a499c994513e539a5f9fc"
      }
     },
     "metadata": {},
     "output_type": "display_data"
    },
    {
     "data": {
      "text/plain": "  0%|          | 0/800 [00:00<?, ?it/s]",
      "application/vnd.jupyter.widget-view+json": {
       "version_major": 2,
       "version_minor": 0,
       "model_id": "eb1560c24bb245b589bd66077362119f"
      }
     },
     "metadata": {},
     "output_type": "display_data"
    },
    {
     "data": {
      "text/plain": "  0%|          | 0/800 [00:00<?, ?it/s]",
      "application/vnd.jupyter.widget-view+json": {
       "version_major": 2,
       "version_minor": 0,
       "model_id": "bf0b42eca5dd40b890a240bafb7c2308"
      }
     },
     "metadata": {},
     "output_type": "display_data"
    },
    {
     "data": {
      "text/plain": "  0%|          | 0/800 [00:00<?, ?it/s]",
      "application/vnd.jupyter.widget-view+json": {
       "version_major": 2,
       "version_minor": 0,
       "model_id": "00b2d1612524447c9ec0f00295959695"
      }
     },
     "metadata": {},
     "output_type": "display_data"
    },
    {
     "data": {
      "text/plain": "  0%|          | 0/800 [00:00<?, ?it/s]",
      "application/vnd.jupyter.widget-view+json": {
       "version_major": 2,
       "version_minor": 0,
       "model_id": "bf5205231e594ce396b17cc65a7e9854"
      }
     },
     "metadata": {},
     "output_type": "display_data"
    },
    {
     "data": {
      "text/plain": "  0%|          | 0/800 [00:00<?, ?it/s]",
      "application/vnd.jupyter.widget-view+json": {
       "version_major": 2,
       "version_minor": 0,
       "model_id": "9fed80d2ae7746f8b1074e624145a3b9"
      }
     },
     "metadata": {},
     "output_type": "display_data"
    },
    {
     "data": {
      "text/plain": "  0%|          | 0/800 [00:00<?, ?it/s]",
      "application/vnd.jupyter.widget-view+json": {
       "version_major": 2,
       "version_minor": 0,
       "model_id": "8d917d5067074b438d86f4d5319bf288"
      }
     },
     "metadata": {},
     "output_type": "display_data"
    },
    {
     "data": {
      "text/plain": "  0%|          | 0/800 [00:00<?, ?it/s]",
      "application/vnd.jupyter.widget-view+json": {
       "version_major": 2,
       "version_minor": 0,
       "model_id": "792a8ad029414c55a23bc2407412bf8b"
      }
     },
     "metadata": {},
     "output_type": "display_data"
    },
    {
     "data": {
      "text/plain": "  0%|          | 0/800 [00:00<?, ?it/s]",
      "application/vnd.jupyter.widget-view+json": {
       "version_major": 2,
       "version_minor": 0,
       "model_id": "1bd9e845766a4fe6bf9ec6681c8dde1c"
      }
     },
     "metadata": {},
     "output_type": "display_data"
    },
    {
     "data": {
      "text/plain": "  0%|          | 0/800 [00:00<?, ?it/s]",
      "application/vnd.jupyter.widget-view+json": {
       "version_major": 2,
       "version_minor": 0,
       "model_id": "e15eb90c98184365a6c0265296d6181c"
      }
     },
     "metadata": {},
     "output_type": "display_data"
    },
    {
     "data": {
      "text/plain": "  0%|          | 0/800 [00:00<?, ?it/s]",
      "application/vnd.jupyter.widget-view+json": {
       "version_major": 2,
       "version_minor": 0,
       "model_id": "19843d76a01b436081224e36cefb47bb"
      }
     },
     "metadata": {},
     "output_type": "display_data"
    },
    {
     "data": {
      "text/plain": "  0%|          | 0/800 [00:00<?, ?it/s]",
      "application/vnd.jupyter.widget-view+json": {
       "version_major": 2,
       "version_minor": 0,
       "model_id": "663c4313ed304152b4bf165df9286370"
      }
     },
     "metadata": {},
     "output_type": "display_data"
    },
    {
     "data": {
      "text/plain": "  0%|          | 0/800 [00:00<?, ?it/s]",
      "application/vnd.jupyter.widget-view+json": {
       "version_major": 2,
       "version_minor": 0,
       "model_id": "26fcf094ebd04fae97f24021a72c365b"
      }
     },
     "metadata": {},
     "output_type": "display_data"
    },
    {
     "data": {
      "text/plain": "  0%|          | 0/800 [00:00<?, ?it/s]",
      "application/vnd.jupyter.widget-view+json": {
       "version_major": 2,
       "version_minor": 0,
       "model_id": "87659e94b40b4a6a950044c675bff11f"
      }
     },
     "metadata": {},
     "output_type": "display_data"
    },
    {
     "data": {
      "text/plain": "  0%|          | 0/800 [00:00<?, ?it/s]",
      "application/vnd.jupyter.widget-view+json": {
       "version_major": 2,
       "version_minor": 0,
       "model_id": "4e93ca91ba614c819c7eca4fc67f5484"
      }
     },
     "metadata": {},
     "output_type": "display_data"
    },
    {
     "data": {
      "text/plain": "  0%|          | 0/800 [00:00<?, ?it/s]",
      "application/vnd.jupyter.widget-view+json": {
       "version_major": 2,
       "version_minor": 0,
       "model_id": "9d6efdcb90104a33a2f7c6992e95fea8"
      }
     },
     "metadata": {},
     "output_type": "display_data"
    },
    {
     "data": {
      "text/plain": "  0%|          | 0/800 [00:00<?, ?it/s]",
      "application/vnd.jupyter.widget-view+json": {
       "version_major": 2,
       "version_minor": 0,
       "model_id": "652896a01f4445d780833f8b37487386"
      }
     },
     "metadata": {},
     "output_type": "display_data"
    },
    {
     "data": {
      "text/plain": "  0%|          | 0/800 [00:00<?, ?it/s]",
      "application/vnd.jupyter.widget-view+json": {
       "version_major": 2,
       "version_minor": 0,
       "model_id": "b818a9795766460eb5ce54d8cb6de105"
      }
     },
     "metadata": {},
     "output_type": "display_data"
    },
    {
     "data": {
      "text/plain": "  0%|          | 0/800 [00:00<?, ?it/s]",
      "application/vnd.jupyter.widget-view+json": {
       "version_major": 2,
       "version_minor": 0,
       "model_id": "19cf410fb3e046e0aa93425d2d346fe2"
      }
     },
     "metadata": {},
     "output_type": "display_data"
    },
    {
     "data": {
      "text/plain": "  0%|          | 0/800 [00:00<?, ?it/s]",
      "application/vnd.jupyter.widget-view+json": {
       "version_major": 2,
       "version_minor": 0,
       "model_id": "342f09b46e2546d2bb25134f218944ef"
      }
     },
     "metadata": {},
     "output_type": "display_data"
    },
    {
     "data": {
      "text/plain": "  0%|          | 0/800 [00:00<?, ?it/s]",
      "application/vnd.jupyter.widget-view+json": {
       "version_major": 2,
       "version_minor": 0,
       "model_id": "a9d809c5d793437fab6cecfcbdc560b5"
      }
     },
     "metadata": {},
     "output_type": "display_data"
    },
    {
     "data": {
      "text/plain": "  0%|          | 0/800 [00:00<?, ?it/s]",
      "application/vnd.jupyter.widget-view+json": {
       "version_major": 2,
       "version_minor": 0,
       "model_id": "b4334b8f0b1e443b8942301f3fb621d6"
      }
     },
     "metadata": {},
     "output_type": "display_data"
    },
    {
     "data": {
      "text/plain": "  0%|          | 0/800 [00:00<?, ?it/s]",
      "application/vnd.jupyter.widget-view+json": {
       "version_major": 2,
       "version_minor": 0,
       "model_id": "2f5e33d4161345929bd747c458d9769d"
      }
     },
     "metadata": {},
     "output_type": "display_data"
    },
    {
     "data": {
      "text/plain": "  0%|          | 0/800 [00:00<?, ?it/s]",
      "application/vnd.jupyter.widget-view+json": {
       "version_major": 2,
       "version_minor": 0,
       "model_id": "bb40b77a0f514ea9b5287b3e028e35a8"
      }
     },
     "metadata": {},
     "output_type": "display_data"
    },
    {
     "data": {
      "text/plain": "  0%|          | 0/800 [00:00<?, ?it/s]",
      "application/vnd.jupyter.widget-view+json": {
       "version_major": 2,
       "version_minor": 0,
       "model_id": "0cadf3f5753146f3b0e8a02866cb485a"
      }
     },
     "metadata": {},
     "output_type": "display_data"
    },
    {
     "data": {
      "text/plain": "  0%|          | 0/800 [00:00<?, ?it/s]",
      "application/vnd.jupyter.widget-view+json": {
       "version_major": 2,
       "version_minor": 0,
       "model_id": "7206a5269d2b4060baaa8716fba679f1"
      }
     },
     "metadata": {},
     "output_type": "display_data"
    },
    {
     "data": {
      "text/plain": "  0%|          | 0/800 [00:00<?, ?it/s]",
      "application/vnd.jupyter.widget-view+json": {
       "version_major": 2,
       "version_minor": 0,
       "model_id": "06c72e1c06a044bdaee43d01ef8b519c"
      }
     },
     "metadata": {},
     "output_type": "display_data"
    },
    {
     "data": {
      "text/plain": "  0%|          | 0/800 [00:00<?, ?it/s]",
      "application/vnd.jupyter.widget-view+json": {
       "version_major": 2,
       "version_minor": 0,
       "model_id": "2c384c5ec7b24c29bd7dd96ba5382c8b"
      }
     },
     "metadata": {},
     "output_type": "display_data"
    },
    {
     "data": {
      "text/plain": "  0%|          | 0/800 [00:00<?, ?it/s]",
      "application/vnd.jupyter.widget-view+json": {
       "version_major": 2,
       "version_minor": 0,
       "model_id": "b339d7e1633745bda4fa771ff98f6ed7"
      }
     },
     "metadata": {},
     "output_type": "display_data"
    },
    {
     "data": {
      "text/plain": "  0%|          | 0/800 [00:00<?, ?it/s]",
      "application/vnd.jupyter.widget-view+json": {
       "version_major": 2,
       "version_minor": 0,
       "model_id": "907bbb8a5fe545499d9f27cc4e57f3c5"
      }
     },
     "metadata": {},
     "output_type": "display_data"
    },
    {
     "data": {
      "text/plain": "  0%|          | 0/800 [00:00<?, ?it/s]",
      "application/vnd.jupyter.widget-view+json": {
       "version_major": 2,
       "version_minor": 0,
       "model_id": "97aea0b54c1a4f2ab1f17e49068994b4"
      }
     },
     "metadata": {},
     "output_type": "display_data"
    },
    {
     "data": {
      "text/plain": "  0%|          | 0/800 [00:00<?, ?it/s]",
      "application/vnd.jupyter.widget-view+json": {
       "version_major": 2,
       "version_minor": 0,
       "model_id": "8ed16981a136486ab66dfdbf92b6308f"
      }
     },
     "metadata": {},
     "output_type": "display_data"
    },
    {
     "data": {
      "text/plain": "  0%|          | 0/800 [00:00<?, ?it/s]",
      "application/vnd.jupyter.widget-view+json": {
       "version_major": 2,
       "version_minor": 0,
       "model_id": "211e634cb4594ee5876bd726669a254c"
      }
     },
     "metadata": {},
     "output_type": "display_data"
    },
    {
     "data": {
      "text/plain": "  0%|          | 0/800 [00:00<?, ?it/s]",
      "application/vnd.jupyter.widget-view+json": {
       "version_major": 2,
       "version_minor": 0,
       "model_id": "ad8242d04eed4529b69a1a9158123cc6"
      }
     },
     "metadata": {},
     "output_type": "display_data"
    },
    {
     "data": {
      "text/plain": "  0%|          | 0/800 [00:00<?, ?it/s]",
      "application/vnd.jupyter.widget-view+json": {
       "version_major": 2,
       "version_minor": 0,
       "model_id": "16f2f056c1274b13a61ffa49f3083756"
      }
     },
     "metadata": {},
     "output_type": "display_data"
    },
    {
     "data": {
      "text/plain": "  0%|          | 0/800 [00:00<?, ?it/s]",
      "application/vnd.jupyter.widget-view+json": {
       "version_major": 2,
       "version_minor": 0,
       "model_id": "a89441b650b643eca49c460186caca8d"
      }
     },
     "metadata": {},
     "output_type": "display_data"
    },
    {
     "data": {
      "text/plain": "  0%|          | 0/800 [00:00<?, ?it/s]",
      "application/vnd.jupyter.widget-view+json": {
       "version_major": 2,
       "version_minor": 0,
       "model_id": "bb742b3254994957855a4d12d713b671"
      }
     },
     "metadata": {},
     "output_type": "display_data"
    },
    {
     "data": {
      "text/plain": "  0%|          | 0/800 [00:00<?, ?it/s]",
      "application/vnd.jupyter.widget-view+json": {
       "version_major": 2,
       "version_minor": 0,
       "model_id": "2b352633da474a038fccf4a3901aaf67"
      }
     },
     "metadata": {},
     "output_type": "display_data"
    },
    {
     "data": {
      "text/plain": "  0%|          | 0/800 [00:00<?, ?it/s]",
      "application/vnd.jupyter.widget-view+json": {
       "version_major": 2,
       "version_minor": 0,
       "model_id": "034fb45d5eda4806adf952bf280d5090"
      }
     },
     "metadata": {},
     "output_type": "display_data"
    },
    {
     "data": {
      "text/plain": "  0%|          | 0/800 [00:00<?, ?it/s]",
      "application/vnd.jupyter.widget-view+json": {
       "version_major": 2,
       "version_minor": 0,
       "model_id": "970518a6cf824bde800ca9fca2a623d4"
      }
     },
     "metadata": {},
     "output_type": "display_data"
    },
    {
     "data": {
      "text/plain": "  0%|          | 0/800 [00:00<?, ?it/s]",
      "application/vnd.jupyter.widget-view+json": {
       "version_major": 2,
       "version_minor": 0,
       "model_id": "8a0570563c3646f78678bd83c67d31f8"
      }
     },
     "metadata": {},
     "output_type": "display_data"
    },
    {
     "data": {
      "text/plain": "  0%|          | 0/800 [00:00<?, ?it/s]",
      "application/vnd.jupyter.widget-view+json": {
       "version_major": 2,
       "version_minor": 0,
       "model_id": "f8fc2864cf4742419749752df16f409f"
      }
     },
     "metadata": {},
     "output_type": "display_data"
    },
    {
     "data": {
      "text/plain": "  0%|          | 0/800 [00:00<?, ?it/s]",
      "application/vnd.jupyter.widget-view+json": {
       "version_major": 2,
       "version_minor": 0,
       "model_id": "e9d0831ae9514aebb4c039d87950f648"
      }
     },
     "metadata": {},
     "output_type": "display_data"
    },
    {
     "data": {
      "text/plain": "  0%|          | 0/800 [00:00<?, ?it/s]",
      "application/vnd.jupyter.widget-view+json": {
       "version_major": 2,
       "version_minor": 0,
       "model_id": "ac337061ff9042e58fe9dae5418ef5a0"
      }
     },
     "metadata": {},
     "output_type": "display_data"
    },
    {
     "data": {
      "text/plain": "  0%|          | 0/800 [00:00<?, ?it/s]",
      "application/vnd.jupyter.widget-view+json": {
       "version_major": 2,
       "version_minor": 0,
       "model_id": "3a642e36dea54eceaf1fb3976e9fe6b6"
      }
     },
     "metadata": {},
     "output_type": "display_data"
    },
    {
     "data": {
      "text/plain": "  0%|          | 0/800 [00:00<?, ?it/s]",
      "application/vnd.jupyter.widget-view+json": {
       "version_major": 2,
       "version_minor": 0,
       "model_id": "f66fd14984b74bb1a0ff9867ce520573"
      }
     },
     "metadata": {},
     "output_type": "display_data"
    },
    {
     "data": {
      "text/plain": "  0%|          | 0/800 [00:00<?, ?it/s]",
      "application/vnd.jupyter.widget-view+json": {
       "version_major": 2,
       "version_minor": 0,
       "model_id": "2e610b5b90bd4741985c2548a00c4505"
      }
     },
     "metadata": {},
     "output_type": "display_data"
    },
    {
     "data": {
      "text/plain": "  0%|          | 0/800 [00:00<?, ?it/s]",
      "application/vnd.jupyter.widget-view+json": {
       "version_major": 2,
       "version_minor": 0,
       "model_id": "aaa7cd30cada4de7bf0a2856fb89cddc"
      }
     },
     "metadata": {},
     "output_type": "display_data"
    },
    {
     "data": {
      "text/plain": "  0%|          | 0/800 [00:00<?, ?it/s]",
      "application/vnd.jupyter.widget-view+json": {
       "version_major": 2,
       "version_minor": 0,
       "model_id": "8cfe1ee0f8f943e986224016440a45d4"
      }
     },
     "metadata": {},
     "output_type": "display_data"
    },
    {
     "data": {
      "text/plain": "  0%|          | 0/800 [00:00<?, ?it/s]",
      "application/vnd.jupyter.widget-view+json": {
       "version_major": 2,
       "version_minor": 0,
       "model_id": "6810c721168b413e8102c6f3d8efa240"
      }
     },
     "metadata": {},
     "output_type": "display_data"
    },
    {
     "data": {
      "text/plain": "  0%|          | 0/800 [00:00<?, ?it/s]",
      "application/vnd.jupyter.widget-view+json": {
       "version_major": 2,
       "version_minor": 0,
       "model_id": "6e8030019c85488187b6c86a7d36b62a"
      }
     },
     "metadata": {},
     "output_type": "display_data"
    },
    {
     "data": {
      "text/plain": "  0%|          | 0/800 [00:00<?, ?it/s]",
      "application/vnd.jupyter.widget-view+json": {
       "version_major": 2,
       "version_minor": 0,
       "model_id": "37db002771094537b18ba330ead29b8a"
      }
     },
     "metadata": {},
     "output_type": "display_data"
    },
    {
     "data": {
      "text/plain": "  0%|          | 0/800 [00:00<?, ?it/s]",
      "application/vnd.jupyter.widget-view+json": {
       "version_major": 2,
       "version_minor": 0,
       "model_id": "3f740b9ad3294645ab80402bbab3ffc5"
      }
     },
     "metadata": {},
     "output_type": "display_data"
    },
    {
     "data": {
      "text/plain": "  0%|          | 0/800 [00:00<?, ?it/s]",
      "application/vnd.jupyter.widget-view+json": {
       "version_major": 2,
       "version_minor": 0,
       "model_id": "b3f166de8af5461aaa1a3146cb275c0f"
      }
     },
     "metadata": {},
     "output_type": "display_data"
    },
    {
     "data": {
      "text/plain": "  0%|          | 0/800 [00:00<?, ?it/s]",
      "application/vnd.jupyter.widget-view+json": {
       "version_major": 2,
       "version_minor": 0,
       "model_id": "fdd3926029a74f7f8eab8350bd2bcb80"
      }
     },
     "metadata": {},
     "output_type": "display_data"
    },
    {
     "data": {
      "text/plain": "  0%|          | 0/800 [00:00<?, ?it/s]",
      "application/vnd.jupyter.widget-view+json": {
       "version_major": 2,
       "version_minor": 0,
       "model_id": "e8f46ba71f45482e823c64bde721800b"
      }
     },
     "metadata": {},
     "output_type": "display_data"
    },
    {
     "data": {
      "text/plain": "  0%|          | 0/800 [00:00<?, ?it/s]",
      "application/vnd.jupyter.widget-view+json": {
       "version_major": 2,
       "version_minor": 0,
       "model_id": "702ae020134d40b9ad2e0b5bd5e980ed"
      }
     },
     "metadata": {},
     "output_type": "display_data"
    },
    {
     "data": {
      "text/plain": "  0%|          | 0/800 [00:00<?, ?it/s]",
      "application/vnd.jupyter.widget-view+json": {
       "version_major": 2,
       "version_minor": 0,
       "model_id": "04ee3065ce314f4393c379ab1e5b36d0"
      }
     },
     "metadata": {},
     "output_type": "display_data"
    },
    {
     "data": {
      "text/plain": "  0%|          | 0/800 [00:00<?, ?it/s]",
      "application/vnd.jupyter.widget-view+json": {
       "version_major": 2,
       "version_minor": 0,
       "model_id": "840b9ed6cf9e453fae7dbeb3bd7f7a09"
      }
     },
     "metadata": {},
     "output_type": "display_data"
    },
    {
     "data": {
      "text/plain": "  0%|          | 0/800 [00:00<?, ?it/s]",
      "application/vnd.jupyter.widget-view+json": {
       "version_major": 2,
       "version_minor": 0,
       "model_id": "b5e53158d743404bbd8cd39914736d2e"
      }
     },
     "metadata": {},
     "output_type": "display_data"
    },
    {
     "data": {
      "text/plain": "  0%|          | 0/800 [00:00<?, ?it/s]",
      "application/vnd.jupyter.widget-view+json": {
       "version_major": 2,
       "version_minor": 0,
       "model_id": "ad8b53ac08ab4543851e13b3115469af"
      }
     },
     "metadata": {},
     "output_type": "display_data"
    },
    {
     "data": {
      "text/plain": "  0%|          | 0/800 [00:00<?, ?it/s]",
      "application/vnd.jupyter.widget-view+json": {
       "version_major": 2,
       "version_minor": 0,
       "model_id": "e0aabf73cfa84b749b7873d2bdd63aac"
      }
     },
     "metadata": {},
     "output_type": "display_data"
    },
    {
     "data": {
      "text/plain": "  0%|          | 0/800 [00:00<?, ?it/s]",
      "application/vnd.jupyter.widget-view+json": {
       "version_major": 2,
       "version_minor": 0,
       "model_id": "7fc058e6e01a478b87300acc491fa9da"
      }
     },
     "metadata": {},
     "output_type": "display_data"
    },
    {
     "data": {
      "text/plain": "  0%|          | 0/800 [00:00<?, ?it/s]",
      "application/vnd.jupyter.widget-view+json": {
       "version_major": 2,
       "version_minor": 0,
       "model_id": "f5c978a9c5e64fa4b08a063021d1605a"
      }
     },
     "metadata": {},
     "output_type": "display_data"
    },
    {
     "data": {
      "text/plain": "  0%|          | 0/800 [00:00<?, ?it/s]",
      "application/vnd.jupyter.widget-view+json": {
       "version_major": 2,
       "version_minor": 0,
       "model_id": "12dbcac5e7ce4e42bcb1ed319e8b7aff"
      }
     },
     "metadata": {},
     "output_type": "display_data"
    },
    {
     "data": {
      "text/plain": "  0%|          | 0/800 [00:00<?, ?it/s]",
      "application/vnd.jupyter.widget-view+json": {
       "version_major": 2,
       "version_minor": 0,
       "model_id": "8d0d8a5ead6546d2993c1d1cac9e7bd6"
      }
     },
     "metadata": {},
     "output_type": "display_data"
    },
    {
     "data": {
      "text/plain": "  0%|          | 0/800 [00:00<?, ?it/s]",
      "application/vnd.jupyter.widget-view+json": {
       "version_major": 2,
       "version_minor": 0,
       "model_id": "ce5caebc83174e19a3faa583cba0ee90"
      }
     },
     "metadata": {},
     "output_type": "display_data"
    },
    {
     "data": {
      "text/plain": "  0%|          | 0/800 [00:00<?, ?it/s]",
      "application/vnd.jupyter.widget-view+json": {
       "version_major": 2,
       "version_minor": 0,
       "model_id": "4b0d59eb4706443598765811ea0b8823"
      }
     },
     "metadata": {},
     "output_type": "display_data"
    },
    {
     "data": {
      "text/plain": "  0%|          | 0/800 [00:00<?, ?it/s]",
      "application/vnd.jupyter.widget-view+json": {
       "version_major": 2,
       "version_minor": 0,
       "model_id": "0765071e00bf42e99425f51d7117d87f"
      }
     },
     "metadata": {},
     "output_type": "display_data"
    },
    {
     "data": {
      "text/plain": "  0%|          | 0/800 [00:00<?, ?it/s]",
      "application/vnd.jupyter.widget-view+json": {
       "version_major": 2,
       "version_minor": 0,
       "model_id": "303b90d0cc8840c58f6776c2cc09029b"
      }
     },
     "metadata": {},
     "output_type": "display_data"
    },
    {
     "data": {
      "text/plain": "  0%|          | 0/800 [00:00<?, ?it/s]",
      "application/vnd.jupyter.widget-view+json": {
       "version_major": 2,
       "version_minor": 0,
       "model_id": "88532571f9424c569b14fa0471b48372"
      }
     },
     "metadata": {},
     "output_type": "display_data"
    },
    {
     "data": {
      "text/plain": "  0%|          | 0/800 [00:00<?, ?it/s]",
      "application/vnd.jupyter.widget-view+json": {
       "version_major": 2,
       "version_minor": 0,
       "model_id": "9910a95e26614a63af3f36130aafd802"
      }
     },
     "metadata": {},
     "output_type": "display_data"
    },
    {
     "data": {
      "text/plain": "  0%|          | 0/800 [00:00<?, ?it/s]",
      "application/vnd.jupyter.widget-view+json": {
       "version_major": 2,
       "version_minor": 0,
       "model_id": "0808e2bb0a784586b2ff6bee74f34634"
      }
     },
     "metadata": {},
     "output_type": "display_data"
    },
    {
     "data": {
      "text/plain": "  0%|          | 0/800 [00:00<?, ?it/s]",
      "application/vnd.jupyter.widget-view+json": {
       "version_major": 2,
       "version_minor": 0,
       "model_id": "dc281375b1464078b708a8974386bde1"
      }
     },
     "metadata": {},
     "output_type": "display_data"
    },
    {
     "data": {
      "text/plain": "  0%|          | 0/800 [00:00<?, ?it/s]",
      "application/vnd.jupyter.widget-view+json": {
       "version_major": 2,
       "version_minor": 0,
       "model_id": "bf73645d4d3141c6ad9650a937f3b352"
      }
     },
     "metadata": {},
     "output_type": "display_data"
    },
    {
     "data": {
      "text/plain": "  0%|          | 0/800 [00:00<?, ?it/s]",
      "application/vnd.jupyter.widget-view+json": {
       "version_major": 2,
       "version_minor": 0,
       "model_id": "65fe0e4ff4e34b56811ee69aa2ec8088"
      }
     },
     "metadata": {},
     "output_type": "display_data"
    },
    {
     "data": {
      "text/plain": "  0%|          | 0/800 [00:00<?, ?it/s]",
      "application/vnd.jupyter.widget-view+json": {
       "version_major": 2,
       "version_minor": 0,
       "model_id": "10ec36e72f054df39158ab0ebbe313fb"
      }
     },
     "metadata": {},
     "output_type": "display_data"
    },
    {
     "data": {
      "text/plain": "  0%|          | 0/800 [00:00<?, ?it/s]",
      "application/vnd.jupyter.widget-view+json": {
       "version_major": 2,
       "version_minor": 0,
       "model_id": "211f9baf03064a18bfab1bf15205ac82"
      }
     },
     "metadata": {},
     "output_type": "display_data"
    },
    {
     "data": {
      "text/plain": "  0%|          | 0/800 [00:00<?, ?it/s]",
      "application/vnd.jupyter.widget-view+json": {
       "version_major": 2,
       "version_minor": 0,
       "model_id": "8aa197e6db3b491da9f38c182628b5b3"
      }
     },
     "metadata": {},
     "output_type": "display_data"
    },
    {
     "data": {
      "text/plain": "  0%|          | 0/800 [00:00<?, ?it/s]",
      "application/vnd.jupyter.widget-view+json": {
       "version_major": 2,
       "version_minor": 0,
       "model_id": "25e8f55a1b1a468b84092d8e94dc51b2"
      }
     },
     "metadata": {},
     "output_type": "display_data"
    },
    {
     "data": {
      "text/plain": "  0%|          | 0/800 [00:00<?, ?it/s]",
      "application/vnd.jupyter.widget-view+json": {
       "version_major": 2,
       "version_minor": 0,
       "model_id": "f797326e51cd49a9bde907654eecc543"
      }
     },
     "metadata": {},
     "output_type": "display_data"
    },
    {
     "data": {
      "text/plain": "  0%|          | 0/800 [00:00<?, ?it/s]",
      "application/vnd.jupyter.widget-view+json": {
       "version_major": 2,
       "version_minor": 0,
       "model_id": "ff3120a6c55940a6bff884ccf9132182"
      }
     },
     "metadata": {},
     "output_type": "display_data"
    },
    {
     "data": {
      "text/plain": "  0%|          | 0/800 [00:00<?, ?it/s]",
      "application/vnd.jupyter.widget-view+json": {
       "version_major": 2,
       "version_minor": 0,
       "model_id": "ff7720d558694c24a4a85c901af1f8db"
      }
     },
     "metadata": {},
     "output_type": "display_data"
    },
    {
     "data": {
      "text/plain": "  0%|          | 0/800 [00:00<?, ?it/s]",
      "application/vnd.jupyter.widget-view+json": {
       "version_major": 2,
       "version_minor": 0,
       "model_id": "b7eaa0f156ce4bb8a77310c23eee9895"
      }
     },
     "metadata": {},
     "output_type": "display_data"
    },
    {
     "data": {
      "text/plain": "  0%|          | 0/800 [00:00<?, ?it/s]",
      "application/vnd.jupyter.widget-view+json": {
       "version_major": 2,
       "version_minor": 0,
       "model_id": "0b021de1e5e74a00bb9901ee4e751720"
      }
     },
     "metadata": {},
     "output_type": "display_data"
    },
    {
     "data": {
      "text/plain": "  0%|          | 0/800 [00:00<?, ?it/s]",
      "application/vnd.jupyter.widget-view+json": {
       "version_major": 2,
       "version_minor": 0,
       "model_id": "bf474a06006645d8a6058bfa7bc75bd9"
      }
     },
     "metadata": {},
     "output_type": "display_data"
    },
    {
     "data": {
      "text/plain": "  0%|          | 0/800 [00:00<?, ?it/s]",
      "application/vnd.jupyter.widget-view+json": {
       "version_major": 2,
       "version_minor": 0,
       "model_id": "ebe2b89eab984720b017c68e34abc9ac"
      }
     },
     "metadata": {},
     "output_type": "display_data"
    },
    {
     "data": {
      "text/plain": "  0%|          | 0/800 [00:00<?, ?it/s]",
      "application/vnd.jupyter.widget-view+json": {
       "version_major": 2,
       "version_minor": 0,
       "model_id": "15dac271652848518036651bf334bc60"
      }
     },
     "metadata": {},
     "output_type": "display_data"
    },
    {
     "data": {
      "text/plain": "  0%|          | 0/800 [00:00<?, ?it/s]",
      "application/vnd.jupyter.widget-view+json": {
       "version_major": 2,
       "version_minor": 0,
       "model_id": "f6d5729cc5f54a3abb5526be1a3aecee"
      }
     },
     "metadata": {},
     "output_type": "display_data"
    },
    {
     "data": {
      "text/plain": "  0%|          | 0/800 [00:00<?, ?it/s]",
      "application/vnd.jupyter.widget-view+json": {
       "version_major": 2,
       "version_minor": 0,
       "model_id": "c2cf76fa65d646cfbcda21afe4052023"
      }
     },
     "metadata": {},
     "output_type": "display_data"
    },
    {
     "data": {
      "text/plain": "  0%|          | 0/800 [00:00<?, ?it/s]",
      "application/vnd.jupyter.widget-view+json": {
       "version_major": 2,
       "version_minor": 0,
       "model_id": "7e27bb677c9342b4bbe8082717995208"
      }
     },
     "metadata": {},
     "output_type": "display_data"
    },
    {
     "data": {
      "text/plain": "  0%|          | 0/800 [00:00<?, ?it/s]",
      "application/vnd.jupyter.widget-view+json": {
       "version_major": 2,
       "version_minor": 0,
       "model_id": "4c0f8d3ce667486d955323730efe824b"
      }
     },
     "metadata": {},
     "output_type": "display_data"
    },
    {
     "data": {
      "text/plain": "  0%|          | 0/800 [00:00<?, ?it/s]",
      "application/vnd.jupyter.widget-view+json": {
       "version_major": 2,
       "version_minor": 0,
       "model_id": "047b547ec1794df4a2edf4906f4f361c"
      }
     },
     "metadata": {},
     "output_type": "display_data"
    },
    {
     "data": {
      "text/plain": "  0%|          | 0/800 [00:00<?, ?it/s]",
      "application/vnd.jupyter.widget-view+json": {
       "version_major": 2,
       "version_minor": 0,
       "model_id": "db323c15c34649af9503f367627be571"
      }
     },
     "metadata": {},
     "output_type": "display_data"
    },
    {
     "data": {
      "text/plain": "  0%|          | 0/800 [00:00<?, ?it/s]",
      "application/vnd.jupyter.widget-view+json": {
       "version_major": 2,
       "version_minor": 0,
       "model_id": "bca2513deb6649ad8abe3bc12776e21b"
      }
     },
     "metadata": {},
     "output_type": "display_data"
    },
    {
     "data": {
      "text/plain": "  0%|          | 0/800 [00:00<?, ?it/s]",
      "application/vnd.jupyter.widget-view+json": {
       "version_major": 2,
       "version_minor": 0,
       "model_id": "93a6e05c72c24deda5187918025fd5e8"
      }
     },
     "metadata": {},
     "output_type": "display_data"
    },
    {
     "data": {
      "text/plain": "  0%|          | 0/800 [00:00<?, ?it/s]",
      "application/vnd.jupyter.widget-view+json": {
       "version_major": 2,
       "version_minor": 0,
       "model_id": "303e4c801cec4bb8a14422e4dc27043c"
      }
     },
     "metadata": {},
     "output_type": "display_data"
    },
    {
     "data": {
      "text/plain": "  0%|          | 0/800 [00:00<?, ?it/s]",
      "application/vnd.jupyter.widget-view+json": {
       "version_major": 2,
       "version_minor": 0,
       "model_id": "a6d64881438744e0870500509fc30c01"
      }
     },
     "metadata": {},
     "output_type": "display_data"
    },
    {
     "data": {
      "text/plain": "  0%|          | 0/800 [00:00<?, ?it/s]",
      "application/vnd.jupyter.widget-view+json": {
       "version_major": 2,
       "version_minor": 0,
       "model_id": "68d0f7a79ee24cb8914bd26a8a1221c6"
      }
     },
     "metadata": {},
     "output_type": "display_data"
    },
    {
     "data": {
      "text/plain": "  0%|          | 0/800 [00:00<?, ?it/s]",
      "application/vnd.jupyter.widget-view+json": {
       "version_major": 2,
       "version_minor": 0,
       "model_id": "618703caf2664283a82c7703e5ac644b"
      }
     },
     "metadata": {},
     "output_type": "display_data"
    },
    {
     "data": {
      "text/plain": "  0%|          | 0/800 [00:00<?, ?it/s]",
      "application/vnd.jupyter.widget-view+json": {
       "version_major": 2,
       "version_minor": 0,
       "model_id": "f30fad0106dd4c07b408bded75c03891"
      }
     },
     "metadata": {},
     "output_type": "display_data"
    },
    {
     "data": {
      "text/plain": "  0%|          | 0/800 [00:00<?, ?it/s]",
      "application/vnd.jupyter.widget-view+json": {
       "version_major": 2,
       "version_minor": 0,
       "model_id": "4f162b71c9564fbf9bc4b64f160b523d"
      }
     },
     "metadata": {},
     "output_type": "display_data"
    },
    {
     "data": {
      "text/plain": "  0%|          | 0/800 [00:00<?, ?it/s]",
      "application/vnd.jupyter.widget-view+json": {
       "version_major": 2,
       "version_minor": 0,
       "model_id": "f2f663dc13234f5da24b6199d6d6b543"
      }
     },
     "metadata": {},
     "output_type": "display_data"
    },
    {
     "data": {
      "text/plain": "  0%|          | 0/800 [00:00<?, ?it/s]",
      "application/vnd.jupyter.widget-view+json": {
       "version_major": 2,
       "version_minor": 0,
       "model_id": "8e917bb601664370915b80e842826c22"
      }
     },
     "metadata": {},
     "output_type": "display_data"
    },
    {
     "data": {
      "text/plain": "  0%|          | 0/800 [00:00<?, ?it/s]",
      "application/vnd.jupyter.widget-view+json": {
       "version_major": 2,
       "version_minor": 0,
       "model_id": "6190d4dd220e425885ec6dfc8af1b021"
      }
     },
     "metadata": {},
     "output_type": "display_data"
    },
    {
     "data": {
      "text/plain": "  0%|          | 0/800 [00:00<?, ?it/s]",
      "application/vnd.jupyter.widget-view+json": {
       "version_major": 2,
       "version_minor": 0,
       "model_id": "6253083c05e94337b1ffb16840d35411"
      }
     },
     "metadata": {},
     "output_type": "display_data"
    },
    {
     "data": {
      "text/plain": "  0%|          | 0/800 [00:00<?, ?it/s]",
      "application/vnd.jupyter.widget-view+json": {
       "version_major": 2,
       "version_minor": 0,
       "model_id": "e161a53419a7490a8d5e1c2a77db92dd"
      }
     },
     "metadata": {},
     "output_type": "display_data"
    },
    {
     "data": {
      "text/plain": "  0%|          | 0/800 [00:00<?, ?it/s]",
      "application/vnd.jupyter.widget-view+json": {
       "version_major": 2,
       "version_minor": 0,
       "model_id": "8253d774ebcc4675a286251ae4a7c19f"
      }
     },
     "metadata": {},
     "output_type": "display_data"
    },
    {
     "data": {
      "text/plain": "  0%|          | 0/800 [00:00<?, ?it/s]",
      "application/vnd.jupyter.widget-view+json": {
       "version_major": 2,
       "version_minor": 0,
       "model_id": "3df976d777834812ae80d2632e6cac1f"
      }
     },
     "metadata": {},
     "output_type": "display_data"
    },
    {
     "data": {
      "text/plain": "  0%|          | 0/800 [00:00<?, ?it/s]",
      "application/vnd.jupyter.widget-view+json": {
       "version_major": 2,
       "version_minor": 0,
       "model_id": "9498c47fb7b947cc92d141b03661f5c7"
      }
     },
     "metadata": {},
     "output_type": "display_data"
    },
    {
     "data": {
      "text/plain": "  0%|          | 0/800 [00:00<?, ?it/s]",
      "application/vnd.jupyter.widget-view+json": {
       "version_major": 2,
       "version_minor": 0,
       "model_id": "2de3a57b25fa4533b274ada80ca32564"
      }
     },
     "metadata": {},
     "output_type": "display_data"
    },
    {
     "data": {
      "text/plain": "  0%|          | 0/800 [00:00<?, ?it/s]",
      "application/vnd.jupyter.widget-view+json": {
       "version_major": 2,
       "version_minor": 0,
       "model_id": "bea24bb5acc1432d9f526d1bf622119e"
      }
     },
     "metadata": {},
     "output_type": "display_data"
    },
    {
     "data": {
      "text/plain": "  0%|          | 0/800 [00:00<?, ?it/s]",
      "application/vnd.jupyter.widget-view+json": {
       "version_major": 2,
       "version_minor": 0,
       "model_id": "5748db33ea8f42a7abb89dde8b00beb1"
      }
     },
     "metadata": {},
     "output_type": "display_data"
    },
    {
     "data": {
      "text/plain": "  0%|          | 0/800 [00:00<?, ?it/s]",
      "application/vnd.jupyter.widget-view+json": {
       "version_major": 2,
       "version_minor": 0,
       "model_id": "af791d14278d443d8112f89e77b71425"
      }
     },
     "metadata": {},
     "output_type": "display_data"
    },
    {
     "data": {
      "text/plain": "  0%|          | 0/800 [00:00<?, ?it/s]",
      "application/vnd.jupyter.widget-view+json": {
       "version_major": 2,
       "version_minor": 0,
       "model_id": "9e4f9be3b2ba4edf9604d73dc73e6077"
      }
     },
     "metadata": {},
     "output_type": "display_data"
    },
    {
     "data": {
      "text/plain": "  0%|          | 0/800 [00:00<?, ?it/s]",
      "application/vnd.jupyter.widget-view+json": {
       "version_major": 2,
       "version_minor": 0,
       "model_id": "701c86ef0ddd47258b6a651e10ce706a"
      }
     },
     "metadata": {},
     "output_type": "display_data"
    },
    {
     "data": {
      "text/plain": "  0%|          | 0/800 [00:00<?, ?it/s]",
      "application/vnd.jupyter.widget-view+json": {
       "version_major": 2,
       "version_minor": 0,
       "model_id": "88aa4e84cc0a4844b4f79a55da517eba"
      }
     },
     "metadata": {},
     "output_type": "display_data"
    },
    {
     "data": {
      "text/plain": "  0%|          | 0/800 [00:00<?, ?it/s]",
      "application/vnd.jupyter.widget-view+json": {
       "version_major": 2,
       "version_minor": 0,
       "model_id": "e3360ce839454a01a62e9dcfa578d297"
      }
     },
     "metadata": {},
     "output_type": "display_data"
    },
    {
     "data": {
      "text/plain": "  0%|          | 0/800 [00:00<?, ?it/s]",
      "application/vnd.jupyter.widget-view+json": {
       "version_major": 2,
       "version_minor": 0,
       "model_id": "a5810e6ef9e94ab58c67520482b2adfc"
      }
     },
     "metadata": {},
     "output_type": "display_data"
    },
    {
     "data": {
      "text/plain": "  0%|          | 0/800 [00:00<?, ?it/s]",
      "application/vnd.jupyter.widget-view+json": {
       "version_major": 2,
       "version_minor": 0,
       "model_id": "8dcedbc97742433d981b070a4bab2322"
      }
     },
     "metadata": {},
     "output_type": "display_data"
    },
    {
     "data": {
      "text/plain": "  0%|          | 0/800 [00:00<?, ?it/s]",
      "application/vnd.jupyter.widget-view+json": {
       "version_major": 2,
       "version_minor": 0,
       "model_id": "ae8b5ec812d94d0c8eaabb9db6b6aab7"
      }
     },
     "metadata": {},
     "output_type": "display_data"
    },
    {
     "data": {
      "text/plain": "  0%|          | 0/800 [00:00<?, ?it/s]",
      "application/vnd.jupyter.widget-view+json": {
       "version_major": 2,
       "version_minor": 0,
       "model_id": "6088b37d7eb94395bb7726d75d1c18bb"
      }
     },
     "metadata": {},
     "output_type": "display_data"
    },
    {
     "data": {
      "text/plain": "  0%|          | 0/800 [00:00<?, ?it/s]",
      "application/vnd.jupyter.widget-view+json": {
       "version_major": 2,
       "version_minor": 0,
       "model_id": "d005cdd44cce447997a6bd0c5212b29a"
      }
     },
     "metadata": {},
     "output_type": "display_data"
    },
    {
     "data": {
      "text/plain": "  0%|          | 0/800 [00:00<?, ?it/s]",
      "application/vnd.jupyter.widget-view+json": {
       "version_major": 2,
       "version_minor": 0,
       "model_id": "652c88dfb20640d19e69274ec2579046"
      }
     },
     "metadata": {},
     "output_type": "display_data"
    },
    {
     "data": {
      "text/plain": "  0%|          | 0/800 [00:00<?, ?it/s]",
      "application/vnd.jupyter.widget-view+json": {
       "version_major": 2,
       "version_minor": 0,
       "model_id": "3120dc10f2014d80a8cebe14e19278a6"
      }
     },
     "metadata": {},
     "output_type": "display_data"
    },
    {
     "data": {
      "text/plain": "  0%|          | 0/800 [00:00<?, ?it/s]",
      "application/vnd.jupyter.widget-view+json": {
       "version_major": 2,
       "version_minor": 0,
       "model_id": "39a3abbcbeb74890922edbf920f7185e"
      }
     },
     "metadata": {},
     "output_type": "display_data"
    },
    {
     "data": {
      "text/plain": "  0%|          | 0/800 [00:00<?, ?it/s]",
      "application/vnd.jupyter.widget-view+json": {
       "version_major": 2,
       "version_minor": 0,
       "model_id": "f3aa7dd2ce81427383ba2292ece1e66a"
      }
     },
     "metadata": {},
     "output_type": "display_data"
    },
    {
     "data": {
      "text/plain": "  0%|          | 0/800 [00:00<?, ?it/s]",
      "application/vnd.jupyter.widget-view+json": {
       "version_major": 2,
       "version_minor": 0,
       "model_id": "6e98828609b647569b38255609371340"
      }
     },
     "metadata": {},
     "output_type": "display_data"
    },
    {
     "data": {
      "text/plain": "  0%|          | 0/800 [00:00<?, ?it/s]",
      "application/vnd.jupyter.widget-view+json": {
       "version_major": 2,
       "version_minor": 0,
       "model_id": "0b25438bc8d148b99de5557076e2b286"
      }
     },
     "metadata": {},
     "output_type": "display_data"
    },
    {
     "data": {
      "text/plain": "  0%|          | 0/800 [00:00<?, ?it/s]",
      "application/vnd.jupyter.widget-view+json": {
       "version_major": 2,
       "version_minor": 0,
       "model_id": "ef5f1cb2a6c148ca89f09b63161557e0"
      }
     },
     "metadata": {},
     "output_type": "display_data"
    },
    {
     "data": {
      "text/plain": "  0%|          | 0/800 [00:00<?, ?it/s]",
      "application/vnd.jupyter.widget-view+json": {
       "version_major": 2,
       "version_minor": 0,
       "model_id": "85c6caa7f21e46d5aac0939d0425edb1"
      }
     },
     "metadata": {},
     "output_type": "display_data"
    },
    {
     "data": {
      "text/plain": "  0%|          | 0/800 [00:00<?, ?it/s]",
      "application/vnd.jupyter.widget-view+json": {
       "version_major": 2,
       "version_minor": 0,
       "model_id": "67033deef5c64c00a1583730dfa6875d"
      }
     },
     "metadata": {},
     "output_type": "display_data"
    },
    {
     "data": {
      "text/plain": "  0%|          | 0/800 [00:00<?, ?it/s]",
      "application/vnd.jupyter.widget-view+json": {
       "version_major": 2,
       "version_minor": 0,
       "model_id": "95f7804dc4334d32b78bc12e691020df"
      }
     },
     "metadata": {},
     "output_type": "display_data"
    },
    {
     "data": {
      "text/plain": "  0%|          | 0/800 [00:00<?, ?it/s]",
      "application/vnd.jupyter.widget-view+json": {
       "version_major": 2,
       "version_minor": 0,
       "model_id": "2f32c074e6684dd1a3b0fe2e243ebb35"
      }
     },
     "metadata": {},
     "output_type": "display_data"
    },
    {
     "data": {
      "text/plain": "  0%|          | 0/800 [00:00<?, ?it/s]",
      "application/vnd.jupyter.widget-view+json": {
       "version_major": 2,
       "version_minor": 0,
       "model_id": "434eb3cd741f42618c6c211528db423d"
      }
     },
     "metadata": {},
     "output_type": "display_data"
    },
    {
     "data": {
      "text/plain": "  0%|          | 0/800 [00:00<?, ?it/s]",
      "application/vnd.jupyter.widget-view+json": {
       "version_major": 2,
       "version_minor": 0,
       "model_id": "712b7fcd51fc436b949de443adc19cc8"
      }
     },
     "metadata": {},
     "output_type": "display_data"
    },
    {
     "data": {
      "text/plain": "  0%|          | 0/800 [00:00<?, ?it/s]",
      "application/vnd.jupyter.widget-view+json": {
       "version_major": 2,
       "version_minor": 0,
       "model_id": "e11cc751e1c24afaa7ae4528372f98cd"
      }
     },
     "metadata": {},
     "output_type": "display_data"
    },
    {
     "data": {
      "text/plain": "  0%|          | 0/800 [00:00<?, ?it/s]",
      "application/vnd.jupyter.widget-view+json": {
       "version_major": 2,
       "version_minor": 0,
       "model_id": "77f08d9f5e774104a978d94d9b875cee"
      }
     },
     "metadata": {},
     "output_type": "display_data"
    },
    {
     "data": {
      "text/plain": "  0%|          | 0/800 [00:00<?, ?it/s]",
      "application/vnd.jupyter.widget-view+json": {
       "version_major": 2,
       "version_minor": 0,
       "model_id": "ed4fc7498fd84ac3bcae3b65ca6ef4fb"
      }
     },
     "metadata": {},
     "output_type": "display_data"
    },
    {
     "data": {
      "text/plain": "  0%|          | 0/800 [00:00<?, ?it/s]",
      "application/vnd.jupyter.widget-view+json": {
       "version_major": 2,
       "version_minor": 0,
       "model_id": "ab7ebaa3e6694aefab5352bd03a59e0e"
      }
     },
     "metadata": {},
     "output_type": "display_data"
    },
    {
     "data": {
      "text/plain": "  0%|          | 0/800 [00:00<?, ?it/s]",
      "application/vnd.jupyter.widget-view+json": {
       "version_major": 2,
       "version_minor": 0,
       "model_id": "c600b1a7ab8a4ac7aa4825faeca3b6a8"
      }
     },
     "metadata": {},
     "output_type": "display_data"
    },
    {
     "data": {
      "text/plain": "  0%|          | 0/800 [00:00<?, ?it/s]",
      "application/vnd.jupyter.widget-view+json": {
       "version_major": 2,
       "version_minor": 0,
       "model_id": "758843ab1fbf4e12949e208712cc88fc"
      }
     },
     "metadata": {},
     "output_type": "display_data"
    },
    {
     "data": {
      "text/plain": "  0%|          | 0/800 [00:00<?, ?it/s]",
      "application/vnd.jupyter.widget-view+json": {
       "version_major": 2,
       "version_minor": 0,
       "model_id": "ff764ae815c74282bfa9240b3138bdef"
      }
     },
     "metadata": {},
     "output_type": "display_data"
    },
    {
     "data": {
      "text/plain": "  0%|          | 0/800 [00:00<?, ?it/s]",
      "application/vnd.jupyter.widget-view+json": {
       "version_major": 2,
       "version_minor": 0,
       "model_id": "341b66eb25b44e8fa2dd140f79a8ddc1"
      }
     },
     "metadata": {},
     "output_type": "display_data"
    },
    {
     "data": {
      "text/plain": "  0%|          | 0/800 [00:00<?, ?it/s]",
      "application/vnd.jupyter.widget-view+json": {
       "version_major": 2,
       "version_minor": 0,
       "model_id": "2a770f071e3a40329e934d58df217961"
      }
     },
     "metadata": {},
     "output_type": "display_data"
    },
    {
     "data": {
      "text/plain": "  0%|          | 0/800 [00:00<?, ?it/s]",
      "application/vnd.jupyter.widget-view+json": {
       "version_major": 2,
       "version_minor": 0,
       "model_id": "df08970258f44d2cb6a9f00c98b8970b"
      }
     },
     "metadata": {},
     "output_type": "display_data"
    },
    {
     "data": {
      "text/plain": "  0%|          | 0/800 [00:00<?, ?it/s]",
      "application/vnd.jupyter.widget-view+json": {
       "version_major": 2,
       "version_minor": 0,
       "model_id": "f2b1f5926491479291c4d4a8d8f9f14f"
      }
     },
     "metadata": {},
     "output_type": "display_data"
    },
    {
     "data": {
      "text/plain": "  0%|          | 0/800 [00:00<?, ?it/s]",
      "application/vnd.jupyter.widget-view+json": {
       "version_major": 2,
       "version_minor": 0,
       "model_id": "bc4efdc1205d4e829374d59ee2ce651d"
      }
     },
     "metadata": {},
     "output_type": "display_data"
    },
    {
     "data": {
      "text/plain": "  0%|          | 0/800 [00:00<?, ?it/s]",
      "application/vnd.jupyter.widget-view+json": {
       "version_major": 2,
       "version_minor": 0,
       "model_id": "65438e3a0cd649fc8fc6d3e613ce3aae"
      }
     },
     "metadata": {},
     "output_type": "display_data"
    },
    {
     "data": {
      "text/plain": "  0%|          | 0/800 [00:00<?, ?it/s]",
      "application/vnd.jupyter.widget-view+json": {
       "version_major": 2,
       "version_minor": 0,
       "model_id": "59b4f78b391a43f38fb833926f63fc8d"
      }
     },
     "metadata": {},
     "output_type": "display_data"
    },
    {
     "data": {
      "text/plain": "  0%|          | 0/800 [00:00<?, ?it/s]",
      "application/vnd.jupyter.widget-view+json": {
       "version_major": 2,
       "version_minor": 0,
       "model_id": "1936f4c4f89c4848992bdb3f57d7ed76"
      }
     },
     "metadata": {},
     "output_type": "display_data"
    },
    {
     "data": {
      "text/plain": "  0%|          | 0/800 [00:00<?, ?it/s]",
      "application/vnd.jupyter.widget-view+json": {
       "version_major": 2,
       "version_minor": 0,
       "model_id": "746d2b28f52f4b99b5c7cd56941d32e3"
      }
     },
     "metadata": {},
     "output_type": "display_data"
    },
    {
     "data": {
      "text/plain": "  0%|          | 0/800 [00:00<?, ?it/s]",
      "application/vnd.jupyter.widget-view+json": {
       "version_major": 2,
       "version_minor": 0,
       "model_id": "ee4040413f5d4cc1b735eeaba929c3a8"
      }
     },
     "metadata": {},
     "output_type": "display_data"
    },
    {
     "data": {
      "text/plain": "  0%|          | 0/800 [00:00<?, ?it/s]",
      "application/vnd.jupyter.widget-view+json": {
       "version_major": 2,
       "version_minor": 0,
       "model_id": "eb4011a5ac10482fbc8d5c71604e0bac"
      }
     },
     "metadata": {},
     "output_type": "display_data"
    },
    {
     "data": {
      "text/plain": "  0%|          | 0/800 [00:00<?, ?it/s]",
      "application/vnd.jupyter.widget-view+json": {
       "version_major": 2,
       "version_minor": 0,
       "model_id": "f972505461674904bbbf584a2b3d2016"
      }
     },
     "metadata": {},
     "output_type": "display_data"
    },
    {
     "data": {
      "text/plain": "  0%|          | 0/800 [00:00<?, ?it/s]",
      "application/vnd.jupyter.widget-view+json": {
       "version_major": 2,
       "version_minor": 0,
       "model_id": "8f380dcc207e415fbad26e3b90b1747f"
      }
     },
     "metadata": {},
     "output_type": "display_data"
    },
    {
     "data": {
      "text/plain": "  0%|          | 0/800 [00:00<?, ?it/s]",
      "application/vnd.jupyter.widget-view+json": {
       "version_major": 2,
       "version_minor": 0,
       "model_id": "20ef32baeb94453f8973f0cc183af619"
      }
     },
     "metadata": {},
     "output_type": "display_data"
    },
    {
     "data": {
      "text/plain": "  0%|          | 0/800 [00:00<?, ?it/s]",
      "application/vnd.jupyter.widget-view+json": {
       "version_major": 2,
       "version_minor": 0,
       "model_id": "bda444dfb5854ddf97ed594a03f205fe"
      }
     },
     "metadata": {},
     "output_type": "display_data"
    },
    {
     "data": {
      "text/plain": "  0%|          | 0/800 [00:00<?, ?it/s]",
      "application/vnd.jupyter.widget-view+json": {
       "version_major": 2,
       "version_minor": 0,
       "model_id": "fc82a11045084d2d8f375099cecb20a0"
      }
     },
     "metadata": {},
     "output_type": "display_data"
    },
    {
     "data": {
      "text/plain": "  0%|          | 0/800 [00:00<?, ?it/s]",
      "application/vnd.jupyter.widget-view+json": {
       "version_major": 2,
       "version_minor": 0,
       "model_id": "75a56a7813ce450faaf7af6c00988789"
      }
     },
     "metadata": {},
     "output_type": "display_data"
    },
    {
     "data": {
      "text/plain": "  0%|          | 0/800 [00:00<?, ?it/s]",
      "application/vnd.jupyter.widget-view+json": {
       "version_major": 2,
       "version_minor": 0,
       "model_id": "b934841e4d6d4c2182f34554869b9711"
      }
     },
     "metadata": {},
     "output_type": "display_data"
    },
    {
     "data": {
      "text/plain": "  0%|          | 0/800 [00:00<?, ?it/s]",
      "application/vnd.jupyter.widget-view+json": {
       "version_major": 2,
       "version_minor": 0,
       "model_id": "a879a1badc4c47909805d6a0f5133138"
      }
     },
     "metadata": {},
     "output_type": "display_data"
    },
    {
     "data": {
      "text/plain": "  0%|          | 0/800 [00:00<?, ?it/s]",
      "application/vnd.jupyter.widget-view+json": {
       "version_major": 2,
       "version_minor": 0,
       "model_id": "ad28b258406a4a9dad1a28ce192347f2"
      }
     },
     "metadata": {},
     "output_type": "display_data"
    },
    {
     "data": {
      "text/plain": "  0%|          | 0/800 [00:00<?, ?it/s]",
      "application/vnd.jupyter.widget-view+json": {
       "version_major": 2,
       "version_minor": 0,
       "model_id": "64bd331766a841618ac3176079d50a0e"
      }
     },
     "metadata": {},
     "output_type": "display_data"
    },
    {
     "data": {
      "text/plain": "  0%|          | 0/800 [00:00<?, ?it/s]",
      "application/vnd.jupyter.widget-view+json": {
       "version_major": 2,
       "version_minor": 0,
       "model_id": "d4de9346dfd94f1e85b000986434a712"
      }
     },
     "metadata": {},
     "output_type": "display_data"
    },
    {
     "data": {
      "text/plain": "  0%|          | 0/800 [00:00<?, ?it/s]",
      "application/vnd.jupyter.widget-view+json": {
       "version_major": 2,
       "version_minor": 0,
       "model_id": "207439a4e9864211b3e0483d04b42e6c"
      }
     },
     "metadata": {},
     "output_type": "display_data"
    },
    {
     "data": {
      "text/plain": "  0%|          | 0/800 [00:00<?, ?it/s]",
      "application/vnd.jupyter.widget-view+json": {
       "version_major": 2,
       "version_minor": 0,
       "model_id": "dd4f5af92198425ab764ab533d8ff676"
      }
     },
     "metadata": {},
     "output_type": "display_data"
    },
    {
     "data": {
      "text/plain": "  0%|          | 0/800 [00:00<?, ?it/s]",
      "application/vnd.jupyter.widget-view+json": {
       "version_major": 2,
       "version_minor": 0,
       "model_id": "f1440d0333b94b048121e1a8f6fc7b55"
      }
     },
     "metadata": {},
     "output_type": "display_data"
    },
    {
     "data": {
      "text/plain": "  0%|          | 0/800 [00:00<?, ?it/s]",
      "application/vnd.jupyter.widget-view+json": {
       "version_major": 2,
       "version_minor": 0,
       "model_id": "0eea9365e859436b9e7a62ba948e66e0"
      }
     },
     "metadata": {},
     "output_type": "display_data"
    },
    {
     "data": {
      "text/plain": "  0%|          | 0/800 [00:00<?, ?it/s]",
      "application/vnd.jupyter.widget-view+json": {
       "version_major": 2,
       "version_minor": 0,
       "model_id": "ee1d9606dea24e81bd9380fddc213479"
      }
     },
     "metadata": {},
     "output_type": "display_data"
    },
    {
     "data": {
      "text/plain": "  0%|          | 0/800 [00:00<?, ?it/s]",
      "application/vnd.jupyter.widget-view+json": {
       "version_major": 2,
       "version_minor": 0,
       "model_id": "d4d75937f91b417387360f6c02029a54"
      }
     },
     "metadata": {},
     "output_type": "display_data"
    },
    {
     "data": {
      "text/plain": "  0%|          | 0/800 [00:00<?, ?it/s]",
      "application/vnd.jupyter.widget-view+json": {
       "version_major": 2,
       "version_minor": 0,
       "model_id": "166f889ab9b94b8aa534303e34836ff1"
      }
     },
     "metadata": {},
     "output_type": "display_data"
    },
    {
     "data": {
      "text/plain": "  0%|          | 0/800 [00:00<?, ?it/s]",
      "application/vnd.jupyter.widget-view+json": {
       "version_major": 2,
       "version_minor": 0,
       "model_id": "0ed9f2bc85894a4e9046234d8d05b60a"
      }
     },
     "metadata": {},
     "output_type": "display_data"
    },
    {
     "data": {
      "text/plain": "  0%|          | 0/800 [00:00<?, ?it/s]",
      "application/vnd.jupyter.widget-view+json": {
       "version_major": 2,
       "version_minor": 0,
       "model_id": "013ff00f7333428eaac065cc3aaca5cb"
      }
     },
     "metadata": {},
     "output_type": "display_data"
    },
    {
     "data": {
      "text/plain": "  0%|          | 0/800 [00:00<?, ?it/s]",
      "application/vnd.jupyter.widget-view+json": {
       "version_major": 2,
       "version_minor": 0,
       "model_id": "7279d5bec1364c78ac27ffe0dc15e8af"
      }
     },
     "metadata": {},
     "output_type": "display_data"
    },
    {
     "data": {
      "text/plain": "  0%|          | 0/800 [00:00<?, ?it/s]",
      "application/vnd.jupyter.widget-view+json": {
       "version_major": 2,
       "version_minor": 0,
       "model_id": "ba7df4d7ab284c768463d7406cace50d"
      }
     },
     "metadata": {},
     "output_type": "display_data"
    },
    {
     "data": {
      "text/plain": "  0%|          | 0/800 [00:00<?, ?it/s]",
      "application/vnd.jupyter.widget-view+json": {
       "version_major": 2,
       "version_minor": 0,
       "model_id": "51eb129f1fb84a849771b034bb772c55"
      }
     },
     "metadata": {},
     "output_type": "display_data"
    },
    {
     "data": {
      "text/plain": "  0%|          | 0/800 [00:00<?, ?it/s]",
      "application/vnd.jupyter.widget-view+json": {
       "version_major": 2,
       "version_minor": 0,
       "model_id": "9518108349354b23ad5084c86fc8e103"
      }
     },
     "metadata": {},
     "output_type": "display_data"
    },
    {
     "data": {
      "text/plain": "  0%|          | 0/800 [00:00<?, ?it/s]",
      "application/vnd.jupyter.widget-view+json": {
       "version_major": 2,
       "version_minor": 0,
       "model_id": "fd076807d6374f10949abb4d5187d049"
      }
     },
     "metadata": {},
     "output_type": "display_data"
    },
    {
     "data": {
      "text/plain": "  0%|          | 0/800 [00:00<?, ?it/s]",
      "application/vnd.jupyter.widget-view+json": {
       "version_major": 2,
       "version_minor": 0,
       "model_id": "e8e4121ea60f439ca340d276b9fb773a"
      }
     },
     "metadata": {},
     "output_type": "display_data"
    },
    {
     "data": {
      "text/plain": "  0%|          | 0/800 [00:00<?, ?it/s]",
      "application/vnd.jupyter.widget-view+json": {
       "version_major": 2,
       "version_minor": 0,
       "model_id": "6269fc43c96742efbbd66e959016d26b"
      }
     },
     "metadata": {},
     "output_type": "display_data"
    },
    {
     "data": {
      "text/plain": "  0%|          | 0/800 [00:00<?, ?it/s]",
      "application/vnd.jupyter.widget-view+json": {
       "version_major": 2,
       "version_minor": 0,
       "model_id": "58ff64b3c6aa4805bc1a86742ce23afa"
      }
     },
     "metadata": {},
     "output_type": "display_data"
    },
    {
     "data": {
      "text/plain": "  0%|          | 0/800 [00:00<?, ?it/s]",
      "application/vnd.jupyter.widget-view+json": {
       "version_major": 2,
       "version_minor": 0,
       "model_id": "f83975d44b04481a85a9813b7f71c077"
      }
     },
     "metadata": {},
     "output_type": "display_data"
    },
    {
     "data": {
      "text/plain": "  0%|          | 0/800 [00:00<?, ?it/s]",
      "application/vnd.jupyter.widget-view+json": {
       "version_major": 2,
       "version_minor": 0,
       "model_id": "dcb236df2823428ea1658855a8bd32bb"
      }
     },
     "metadata": {},
     "output_type": "display_data"
    },
    {
     "data": {
      "text/plain": "  0%|          | 0/800 [00:00<?, ?it/s]",
      "application/vnd.jupyter.widget-view+json": {
       "version_major": 2,
       "version_minor": 0,
       "model_id": "d8fc39468b1448889050703d6dd94438"
      }
     },
     "metadata": {},
     "output_type": "display_data"
    },
    {
     "data": {
      "text/plain": "  0%|          | 0/800 [00:00<?, ?it/s]",
      "application/vnd.jupyter.widget-view+json": {
       "version_major": 2,
       "version_minor": 0,
       "model_id": "59612702199e4c718603012a1c3a124f"
      }
     },
     "metadata": {},
     "output_type": "display_data"
    },
    {
     "data": {
      "text/plain": "  0%|          | 0/800 [00:00<?, ?it/s]",
      "application/vnd.jupyter.widget-view+json": {
       "version_major": 2,
       "version_minor": 0,
       "model_id": "46d3d401c68444fe87e6003b40a299f7"
      }
     },
     "metadata": {},
     "output_type": "display_data"
    },
    {
     "data": {
      "text/plain": "  0%|          | 0/800 [00:00<?, ?it/s]",
      "application/vnd.jupyter.widget-view+json": {
       "version_major": 2,
       "version_minor": 0,
       "model_id": "2535d27e138e43b39c116d76ba894d9d"
      }
     },
     "metadata": {},
     "output_type": "display_data"
    },
    {
     "data": {
      "text/plain": "  0%|          | 0/800 [00:00<?, ?it/s]",
      "application/vnd.jupyter.widget-view+json": {
       "version_major": 2,
       "version_minor": 0,
       "model_id": "e1d6852bcf1e46b2ad060cf379f0da93"
      }
     },
     "metadata": {},
     "output_type": "display_data"
    },
    {
     "data": {
      "text/plain": "  0%|          | 0/800 [00:00<?, ?it/s]",
      "application/vnd.jupyter.widget-view+json": {
       "version_major": 2,
       "version_minor": 0,
       "model_id": "d057c0a03b984cc9984ca30bcffb6c02"
      }
     },
     "metadata": {},
     "output_type": "display_data"
    },
    {
     "data": {
      "text/plain": "  0%|          | 0/800 [00:00<?, ?it/s]",
      "application/vnd.jupyter.widget-view+json": {
       "version_major": 2,
       "version_minor": 0,
       "model_id": "b9c1b0072c1741a88d54f8cf5b5352ef"
      }
     },
     "metadata": {},
     "output_type": "display_data"
    },
    {
     "data": {
      "text/plain": "  0%|          | 0/800 [00:00<?, ?it/s]",
      "application/vnd.jupyter.widget-view+json": {
       "version_major": 2,
       "version_minor": 0,
       "model_id": "f45e89666b764090b6651ae94e1b855a"
      }
     },
     "metadata": {},
     "output_type": "display_data"
    },
    {
     "data": {
      "text/plain": "  0%|          | 0/800 [00:00<?, ?it/s]",
      "application/vnd.jupyter.widget-view+json": {
       "version_major": 2,
       "version_minor": 0,
       "model_id": "ed04077674094642a4c556e9686067cb"
      }
     },
     "metadata": {},
     "output_type": "display_data"
    },
    {
     "data": {
      "text/plain": "  0%|          | 0/800 [00:00<?, ?it/s]",
      "application/vnd.jupyter.widget-view+json": {
       "version_major": 2,
       "version_minor": 0,
       "model_id": "155619f24fdd481c902566846f1cb2c7"
      }
     },
     "metadata": {},
     "output_type": "display_data"
    },
    {
     "data": {
      "text/plain": "  0%|          | 0/800 [00:00<?, ?it/s]",
      "application/vnd.jupyter.widget-view+json": {
       "version_major": 2,
       "version_minor": 0,
       "model_id": "db805e1e0be24e07b54a8f60db0eb166"
      }
     },
     "metadata": {},
     "output_type": "display_data"
    },
    {
     "data": {
      "text/plain": "  0%|          | 0/800 [00:00<?, ?it/s]",
      "application/vnd.jupyter.widget-view+json": {
       "version_major": 2,
       "version_minor": 0,
       "model_id": "116adf8b20f348869b7376dce286e139"
      }
     },
     "metadata": {},
     "output_type": "display_data"
    },
    {
     "data": {
      "text/plain": "  0%|          | 0/800 [00:00<?, ?it/s]",
      "application/vnd.jupyter.widget-view+json": {
       "version_major": 2,
       "version_minor": 0,
       "model_id": "3e7fcc036c48431e8a8f172c67f1f0ba"
      }
     },
     "metadata": {},
     "output_type": "display_data"
    },
    {
     "data": {
      "text/plain": "  0%|          | 0/800 [00:00<?, ?it/s]",
      "application/vnd.jupyter.widget-view+json": {
       "version_major": 2,
       "version_minor": 0,
       "model_id": "fbe580d568ee4204bf34d3fd060320c0"
      }
     },
     "metadata": {},
     "output_type": "display_data"
    },
    {
     "data": {
      "text/plain": "  0%|          | 0/800 [00:00<?, ?it/s]",
      "application/vnd.jupyter.widget-view+json": {
       "version_major": 2,
       "version_minor": 0,
       "model_id": "2b2e124768d247108234518a718eb92f"
      }
     },
     "metadata": {},
     "output_type": "display_data"
    },
    {
     "data": {
      "text/plain": "  0%|          | 0/800 [00:00<?, ?it/s]",
      "application/vnd.jupyter.widget-view+json": {
       "version_major": 2,
       "version_minor": 0,
       "model_id": "2ca21c58a34745d2acdd8af75b9c4b9a"
      }
     },
     "metadata": {},
     "output_type": "display_data"
    },
    {
     "data": {
      "text/plain": "  0%|          | 0/800 [00:00<?, ?it/s]",
      "application/vnd.jupyter.widget-view+json": {
       "version_major": 2,
       "version_minor": 0,
       "model_id": "b2703e73cfac47c28f2be292c08d9e7e"
      }
     },
     "metadata": {},
     "output_type": "display_data"
    },
    {
     "data": {
      "text/plain": "  0%|          | 0/800 [00:00<?, ?it/s]",
      "application/vnd.jupyter.widget-view+json": {
       "version_major": 2,
       "version_minor": 0,
       "model_id": "2c5e8b9de38345fc9fa1c1d0c652d5f6"
      }
     },
     "metadata": {},
     "output_type": "display_data"
    },
    {
     "data": {
      "text/plain": "  0%|          | 0/800 [00:00<?, ?it/s]",
      "application/vnd.jupyter.widget-view+json": {
       "version_major": 2,
       "version_minor": 0,
       "model_id": "a4b94be2ae9846fd911d3a29c7278383"
      }
     },
     "metadata": {},
     "output_type": "display_data"
    },
    {
     "data": {
      "text/plain": "  0%|          | 0/800 [00:00<?, ?it/s]",
      "application/vnd.jupyter.widget-view+json": {
       "version_major": 2,
       "version_minor": 0,
       "model_id": "5bfb3f902f7343658331cd58a82d0bcb"
      }
     },
     "metadata": {},
     "output_type": "display_data"
    },
    {
     "data": {
      "text/plain": "  0%|          | 0/800 [00:00<?, ?it/s]",
      "application/vnd.jupyter.widget-view+json": {
       "version_major": 2,
       "version_minor": 0,
       "model_id": "61f7653f773f4327805eb4d8fea54fc2"
      }
     },
     "metadata": {},
     "output_type": "display_data"
    },
    {
     "data": {
      "text/plain": "  0%|          | 0/800 [00:00<?, ?it/s]",
      "application/vnd.jupyter.widget-view+json": {
       "version_major": 2,
       "version_minor": 0,
       "model_id": "e2831d6dde65404d9a472c981ce79af4"
      }
     },
     "metadata": {},
     "output_type": "display_data"
    },
    {
     "data": {
      "text/plain": "  0%|          | 0/800 [00:00<?, ?it/s]",
      "application/vnd.jupyter.widget-view+json": {
       "version_major": 2,
       "version_minor": 0,
       "model_id": "f9da94e1cd484c52a084b07182aa4efc"
      }
     },
     "metadata": {},
     "output_type": "display_data"
    },
    {
     "data": {
      "text/plain": "  0%|          | 0/800 [00:00<?, ?it/s]",
      "application/vnd.jupyter.widget-view+json": {
       "version_major": 2,
       "version_minor": 0,
       "model_id": "9ea2ef383f3d462eb6dfa57886126871"
      }
     },
     "metadata": {},
     "output_type": "display_data"
    },
    {
     "data": {
      "text/plain": "  0%|          | 0/800 [00:00<?, ?it/s]",
      "application/vnd.jupyter.widget-view+json": {
       "version_major": 2,
       "version_minor": 0,
       "model_id": "631b44d2c4b54cbbab3065b13da268d5"
      }
     },
     "metadata": {},
     "output_type": "display_data"
    },
    {
     "data": {
      "text/plain": "  0%|          | 0/800 [00:00<?, ?it/s]",
      "application/vnd.jupyter.widget-view+json": {
       "version_major": 2,
       "version_minor": 0,
       "model_id": "0043954e36614dba8502d1bac1dbebb3"
      }
     },
     "metadata": {},
     "output_type": "display_data"
    },
    {
     "data": {
      "text/plain": "  0%|          | 0/800 [00:00<?, ?it/s]",
      "application/vnd.jupyter.widget-view+json": {
       "version_major": 2,
       "version_minor": 0,
       "model_id": "9a8f972155714df185b802385b9f1ff0"
      }
     },
     "metadata": {},
     "output_type": "display_data"
    },
    {
     "data": {
      "text/plain": "  0%|          | 0/800 [00:00<?, ?it/s]",
      "application/vnd.jupyter.widget-view+json": {
       "version_major": 2,
       "version_minor": 0,
       "model_id": "d9a50d064981423a80ec978b6f0a832e"
      }
     },
     "metadata": {},
     "output_type": "display_data"
    },
    {
     "data": {
      "text/plain": "  0%|          | 0/800 [00:00<?, ?it/s]",
      "application/vnd.jupyter.widget-view+json": {
       "version_major": 2,
       "version_minor": 0,
       "model_id": "6bbd12426fb142eb99f502d02aac1a49"
      }
     },
     "metadata": {},
     "output_type": "display_data"
    },
    {
     "data": {
      "text/plain": "  0%|          | 0/800 [00:00<?, ?it/s]",
      "application/vnd.jupyter.widget-view+json": {
       "version_major": 2,
       "version_minor": 0,
       "model_id": "12f633b81a954bca97b767bc2c18f9d2"
      }
     },
     "metadata": {},
     "output_type": "display_data"
    },
    {
     "data": {
      "text/plain": "  0%|          | 0/800 [00:00<?, ?it/s]",
      "application/vnd.jupyter.widget-view+json": {
       "version_major": 2,
       "version_minor": 0,
       "model_id": "0f2027a970414d1c91a9e6cfc7fed172"
      }
     },
     "metadata": {},
     "output_type": "display_data"
    },
    {
     "data": {
      "text/plain": "  0%|          | 0/800 [00:00<?, ?it/s]",
      "application/vnd.jupyter.widget-view+json": {
       "version_major": 2,
       "version_minor": 0,
       "model_id": "e045a341edc54d02b4cde0d513549cae"
      }
     },
     "metadata": {},
     "output_type": "display_data"
    },
    {
     "data": {
      "text/plain": "  0%|          | 0/800 [00:00<?, ?it/s]",
      "application/vnd.jupyter.widget-view+json": {
       "version_major": 2,
       "version_minor": 0,
       "model_id": "b0707837dc414aff8ba6e5dd8b38d0c8"
      }
     },
     "metadata": {},
     "output_type": "display_data"
    },
    {
     "data": {
      "text/plain": "  0%|          | 0/800 [00:00<?, ?it/s]",
      "application/vnd.jupyter.widget-view+json": {
       "version_major": 2,
       "version_minor": 0,
       "model_id": "d71f4bf33c2a40719790d8ec0c923208"
      }
     },
     "metadata": {},
     "output_type": "display_data"
    },
    {
     "data": {
      "text/plain": "  0%|          | 0/800 [00:00<?, ?it/s]",
      "application/vnd.jupyter.widget-view+json": {
       "version_major": 2,
       "version_minor": 0,
       "model_id": "61fd04d74233467da76d60516da5a707"
      }
     },
     "metadata": {},
     "output_type": "display_data"
    },
    {
     "data": {
      "text/plain": "  0%|          | 0/800 [00:00<?, ?it/s]",
      "application/vnd.jupyter.widget-view+json": {
       "version_major": 2,
       "version_minor": 0,
       "model_id": "9e3fff1832e64909b83037108f4f79ec"
      }
     },
     "metadata": {},
     "output_type": "display_data"
    },
    {
     "data": {
      "text/plain": "  0%|          | 0/800 [00:00<?, ?it/s]",
      "application/vnd.jupyter.widget-view+json": {
       "version_major": 2,
       "version_minor": 0,
       "model_id": "bd162f4f45634c58971eb28daf4f1ab4"
      }
     },
     "metadata": {},
     "output_type": "display_data"
    },
    {
     "data": {
      "text/plain": "  0%|          | 0/800 [00:00<?, ?it/s]",
      "application/vnd.jupyter.widget-view+json": {
       "version_major": 2,
       "version_minor": 0,
       "model_id": "d80361e7c8ce41c294e87769bfb2b83d"
      }
     },
     "metadata": {},
     "output_type": "display_data"
    },
    {
     "data": {
      "text/plain": "  0%|          | 0/800 [00:00<?, ?it/s]",
      "application/vnd.jupyter.widget-view+json": {
       "version_major": 2,
       "version_minor": 0,
       "model_id": "4c560548e0144d058d90336c0de61a69"
      }
     },
     "metadata": {},
     "output_type": "display_data"
    },
    {
     "data": {
      "text/plain": "  0%|          | 0/800 [00:00<?, ?it/s]",
      "application/vnd.jupyter.widget-view+json": {
       "version_major": 2,
       "version_minor": 0,
       "model_id": "7bf75346468e41cf890c67ce49fd10fd"
      }
     },
     "metadata": {},
     "output_type": "display_data"
    },
    {
     "data": {
      "text/plain": "  0%|          | 0/800 [00:00<?, ?it/s]",
      "application/vnd.jupyter.widget-view+json": {
       "version_major": 2,
       "version_minor": 0,
       "model_id": "f38b604cecef41888c9c6989943dcd25"
      }
     },
     "metadata": {},
     "output_type": "display_data"
    },
    {
     "data": {
      "text/plain": "  0%|          | 0/800 [00:00<?, ?it/s]",
      "application/vnd.jupyter.widget-view+json": {
       "version_major": 2,
       "version_minor": 0,
       "model_id": "86ec440fb55b455887755faf8a5843af"
      }
     },
     "metadata": {},
     "output_type": "display_data"
    },
    {
     "data": {
      "text/plain": "  0%|          | 0/800 [00:00<?, ?it/s]",
      "application/vnd.jupyter.widget-view+json": {
       "version_major": 2,
       "version_minor": 0,
       "model_id": "d00b4304260c42b69063f7d63ba62c60"
      }
     },
     "metadata": {},
     "output_type": "display_data"
    },
    {
     "data": {
      "text/plain": "  0%|          | 0/800 [00:00<?, ?it/s]",
      "application/vnd.jupyter.widget-view+json": {
       "version_major": 2,
       "version_minor": 0,
       "model_id": "e34c4cea88074e4792642c2371bded2f"
      }
     },
     "metadata": {},
     "output_type": "display_data"
    },
    {
     "data": {
      "text/plain": "  0%|          | 0/800 [00:00<?, ?it/s]",
      "application/vnd.jupyter.widget-view+json": {
       "version_major": 2,
       "version_minor": 0,
       "model_id": "e9946237fce844fb94a1340d3c2294a8"
      }
     },
     "metadata": {},
     "output_type": "display_data"
    },
    {
     "data": {
      "text/plain": "  0%|          | 0/800 [00:00<?, ?it/s]",
      "application/vnd.jupyter.widget-view+json": {
       "version_major": 2,
       "version_minor": 0,
       "model_id": "ddfd89cec1fc48cf959ac9de2eae8e6c"
      }
     },
     "metadata": {},
     "output_type": "display_data"
    },
    {
     "data": {
      "text/plain": "  0%|          | 0/800 [00:00<?, ?it/s]",
      "application/vnd.jupyter.widget-view+json": {
       "version_major": 2,
       "version_minor": 0,
       "model_id": "27d59332b0524180a7ec55991dea2d9b"
      }
     },
     "metadata": {},
     "output_type": "display_data"
    },
    {
     "data": {
      "text/plain": "  0%|          | 0/800 [00:00<?, ?it/s]",
      "application/vnd.jupyter.widget-view+json": {
       "version_major": 2,
       "version_minor": 0,
       "model_id": "e7a75b33cb46457e90bc3d1d41799317"
      }
     },
     "metadata": {},
     "output_type": "display_data"
    },
    {
     "data": {
      "text/plain": "  0%|          | 0/800 [00:00<?, ?it/s]",
      "application/vnd.jupyter.widget-view+json": {
       "version_major": 2,
       "version_minor": 0,
       "model_id": "90cc5178891648ceaa064c77fa00594e"
      }
     },
     "metadata": {},
     "output_type": "display_data"
    },
    {
     "data": {
      "text/plain": "  0%|          | 0/800 [00:00<?, ?it/s]",
      "application/vnd.jupyter.widget-view+json": {
       "version_major": 2,
       "version_minor": 0,
       "model_id": "c79f935f1a514ea99dd2340ea31bab5a"
      }
     },
     "metadata": {},
     "output_type": "display_data"
    },
    {
     "data": {
      "text/plain": "  0%|          | 0/800 [00:00<?, ?it/s]",
      "application/vnd.jupyter.widget-view+json": {
       "version_major": 2,
       "version_minor": 0,
       "model_id": "79fa12f32d104ef09f29240acbd8dcde"
      }
     },
     "metadata": {},
     "output_type": "display_data"
    },
    {
     "data": {
      "text/plain": "  0%|          | 0/800 [00:00<?, ?it/s]",
      "application/vnd.jupyter.widget-view+json": {
       "version_major": 2,
       "version_minor": 0,
       "model_id": "26444c40ed9749cfade8df47f9da15ff"
      }
     },
     "metadata": {},
     "output_type": "display_data"
    },
    {
     "data": {
      "text/plain": "  0%|          | 0/800 [00:00<?, ?it/s]",
      "application/vnd.jupyter.widget-view+json": {
       "version_major": 2,
       "version_minor": 0,
       "model_id": "2ce90d6f926d4aa49914f4527c246cc9"
      }
     },
     "metadata": {},
     "output_type": "display_data"
    },
    {
     "data": {
      "text/plain": "  0%|          | 0/800 [00:00<?, ?it/s]",
      "application/vnd.jupyter.widget-view+json": {
       "version_major": 2,
       "version_minor": 0,
       "model_id": "d2fed965471740d2b4f24dd3628fcea3"
      }
     },
     "metadata": {},
     "output_type": "display_data"
    },
    {
     "data": {
      "text/plain": "  0%|          | 0/800 [00:00<?, ?it/s]",
      "application/vnd.jupyter.widget-view+json": {
       "version_major": 2,
       "version_minor": 0,
       "model_id": "9f10ce268a7d4b7a801dd849a4db696f"
      }
     },
     "metadata": {},
     "output_type": "display_data"
    },
    {
     "data": {
      "text/plain": "  0%|          | 0/800 [00:00<?, ?it/s]",
      "application/vnd.jupyter.widget-view+json": {
       "version_major": 2,
       "version_minor": 0,
       "model_id": "e10a5430c1cc4760ac870383f23df4bd"
      }
     },
     "metadata": {},
     "output_type": "display_data"
    },
    {
     "data": {
      "text/plain": "  0%|          | 0/800 [00:00<?, ?it/s]",
      "application/vnd.jupyter.widget-view+json": {
       "version_major": 2,
       "version_minor": 0,
       "model_id": "a4074135767a49498d355567e6cadaa6"
      }
     },
     "metadata": {},
     "output_type": "display_data"
    },
    {
     "data": {
      "text/plain": "  0%|          | 0/800 [00:00<?, ?it/s]",
      "application/vnd.jupyter.widget-view+json": {
       "version_major": 2,
       "version_minor": 0,
       "model_id": "d0275ca4a3e84ada8d872d6fae16d4fd"
      }
     },
     "metadata": {},
     "output_type": "display_data"
    },
    {
     "data": {
      "text/plain": "  0%|          | 0/800 [00:00<?, ?it/s]",
      "application/vnd.jupyter.widget-view+json": {
       "version_major": 2,
       "version_minor": 0,
       "model_id": "9d20f41f9b9446d39cd1e7a7560d8130"
      }
     },
     "metadata": {},
     "output_type": "display_data"
    },
    {
     "data": {
      "text/plain": "  0%|          | 0/800 [00:00<?, ?it/s]",
      "application/vnd.jupyter.widget-view+json": {
       "version_major": 2,
       "version_minor": 0,
       "model_id": "a79cb02fe31347f9889d6da86a192299"
      }
     },
     "metadata": {},
     "output_type": "display_data"
    },
    {
     "data": {
      "text/plain": "  0%|          | 0/800 [00:00<?, ?it/s]",
      "application/vnd.jupyter.widget-view+json": {
       "version_major": 2,
       "version_minor": 0,
       "model_id": "2a9f1c9719cc46c09e213ecd2d9687d7"
      }
     },
     "metadata": {},
     "output_type": "display_data"
    },
    {
     "data": {
      "text/plain": "  0%|          | 0/800 [00:00<?, ?it/s]",
      "application/vnd.jupyter.widget-view+json": {
       "version_major": 2,
       "version_minor": 0,
       "model_id": "bd669be9760247a1a1589d231c347053"
      }
     },
     "metadata": {},
     "output_type": "display_data"
    },
    {
     "data": {
      "text/plain": "  0%|          | 0/800 [00:00<?, ?it/s]",
      "application/vnd.jupyter.widget-view+json": {
       "version_major": 2,
       "version_minor": 0,
       "model_id": "7246618f67c647d181e240a5d52ff48b"
      }
     },
     "metadata": {},
     "output_type": "display_data"
    },
    {
     "data": {
      "text/plain": "  0%|          | 0/800 [00:00<?, ?it/s]",
      "application/vnd.jupyter.widget-view+json": {
       "version_major": 2,
       "version_minor": 0,
       "model_id": "e6a5b8af29ff4c1ab2c598cc1bada1ae"
      }
     },
     "metadata": {},
     "output_type": "display_data"
    },
    {
     "data": {
      "text/plain": "  0%|          | 0/800 [00:00<?, ?it/s]",
      "application/vnd.jupyter.widget-view+json": {
       "version_major": 2,
       "version_minor": 0,
       "model_id": "bb2dea46598f4bc6a7be53c787fea7ec"
      }
     },
     "metadata": {},
     "output_type": "display_data"
    },
    {
     "data": {
      "text/plain": "  0%|          | 0/800 [00:00<?, ?it/s]",
      "application/vnd.jupyter.widget-view+json": {
       "version_major": 2,
       "version_minor": 0,
       "model_id": "b7a03ac9ddb14cf7a378191070173253"
      }
     },
     "metadata": {},
     "output_type": "display_data"
    },
    {
     "data": {
      "text/plain": "  0%|          | 0/800 [00:00<?, ?it/s]",
      "application/vnd.jupyter.widget-view+json": {
       "version_major": 2,
       "version_minor": 0,
       "model_id": "003020ed097d4c1799396bd4b08b614a"
      }
     },
     "metadata": {},
     "output_type": "display_data"
    },
    {
     "data": {
      "text/plain": "  0%|          | 0/800 [00:00<?, ?it/s]",
      "application/vnd.jupyter.widget-view+json": {
       "version_major": 2,
       "version_minor": 0,
       "model_id": "77607912cad24909b66d95b58fb56775"
      }
     },
     "metadata": {},
     "output_type": "display_data"
    },
    {
     "data": {
      "text/plain": "  0%|          | 0/800 [00:00<?, ?it/s]",
      "application/vnd.jupyter.widget-view+json": {
       "version_major": 2,
       "version_minor": 0,
       "model_id": "fb8afc1694514521b7310511ed1fd5bc"
      }
     },
     "metadata": {},
     "output_type": "display_data"
    },
    {
     "data": {
      "text/plain": "  0%|          | 0/800 [00:00<?, ?it/s]",
      "application/vnd.jupyter.widget-view+json": {
       "version_major": 2,
       "version_minor": 0,
       "model_id": "d792681ce3aa413dbc0a3dbd946a7e81"
      }
     },
     "metadata": {},
     "output_type": "display_data"
    },
    {
     "data": {
      "text/plain": "  0%|          | 0/800 [00:00<?, ?it/s]",
      "application/vnd.jupyter.widget-view+json": {
       "version_major": 2,
       "version_minor": 0,
       "model_id": "75831d56079e4581bf8a5295db206d38"
      }
     },
     "metadata": {},
     "output_type": "display_data"
    },
    {
     "data": {
      "text/plain": "  0%|          | 0/800 [00:00<?, ?it/s]",
      "application/vnd.jupyter.widget-view+json": {
       "version_major": 2,
       "version_minor": 0,
       "model_id": "af41053605b944209b5b61bfe7997079"
      }
     },
     "metadata": {},
     "output_type": "display_data"
    },
    {
     "data": {
      "text/plain": "  0%|          | 0/800 [00:00<?, ?it/s]",
      "application/vnd.jupyter.widget-view+json": {
       "version_major": 2,
       "version_minor": 0,
       "model_id": "4f1f6a650e51437ea07851b8ce054e1e"
      }
     },
     "metadata": {},
     "output_type": "display_data"
    },
    {
     "data": {
      "text/plain": "  0%|          | 0/800 [00:00<?, ?it/s]",
      "application/vnd.jupyter.widget-view+json": {
       "version_major": 2,
       "version_minor": 0,
       "model_id": "9c28a8a819554c1882cd0b485b33c321"
      }
     },
     "metadata": {},
     "output_type": "display_data"
    },
    {
     "data": {
      "text/plain": "  0%|          | 0/800 [00:00<?, ?it/s]",
      "application/vnd.jupyter.widget-view+json": {
       "version_major": 2,
       "version_minor": 0,
       "model_id": "c2422166928e44b48c9b5aeb14745a5f"
      }
     },
     "metadata": {},
     "output_type": "display_data"
    },
    {
     "data": {
      "text/plain": "  0%|          | 0/800 [00:00<?, ?it/s]",
      "application/vnd.jupyter.widget-view+json": {
       "version_major": 2,
       "version_minor": 0,
       "model_id": "a3986aabeab14d2c81586b9c3db196cc"
      }
     },
     "metadata": {},
     "output_type": "display_data"
    },
    {
     "data": {
      "text/plain": "  0%|          | 0/800 [00:00<?, ?it/s]",
      "application/vnd.jupyter.widget-view+json": {
       "version_major": 2,
       "version_minor": 0,
       "model_id": "cde8b85b3b9b4213b684e4c4485b2f04"
      }
     },
     "metadata": {},
     "output_type": "display_data"
    },
    {
     "data": {
      "text/plain": "  0%|          | 0/800 [00:00<?, ?it/s]",
      "application/vnd.jupyter.widget-view+json": {
       "version_major": 2,
       "version_minor": 0,
       "model_id": "9da6b88acc0c4b50be0ecf1c770eff60"
      }
     },
     "metadata": {},
     "output_type": "display_data"
    },
    {
     "data": {
      "text/plain": "  0%|          | 0/800 [00:00<?, ?it/s]",
      "application/vnd.jupyter.widget-view+json": {
       "version_major": 2,
       "version_minor": 0,
       "model_id": "7241771e1307492f865ea393a4acf91a"
      }
     },
     "metadata": {},
     "output_type": "display_data"
    },
    {
     "data": {
      "text/plain": "  0%|          | 0/800 [00:00<?, ?it/s]",
      "application/vnd.jupyter.widget-view+json": {
       "version_major": 2,
       "version_minor": 0,
       "model_id": "8c5cfafa03244e41bac78ca437f1454a"
      }
     },
     "metadata": {},
     "output_type": "display_data"
    },
    {
     "data": {
      "text/plain": "  0%|          | 0/800 [00:00<?, ?it/s]",
      "application/vnd.jupyter.widget-view+json": {
       "version_major": 2,
       "version_minor": 0,
       "model_id": "2f04f407ab5c47fa8298e4eff0788aa7"
      }
     },
     "metadata": {},
     "output_type": "display_data"
    },
    {
     "data": {
      "text/plain": "  0%|          | 0/800 [00:00<?, ?it/s]",
      "application/vnd.jupyter.widget-view+json": {
       "version_major": 2,
       "version_minor": 0,
       "model_id": "f1124179def74f4abf2bb6bba5bb6f44"
      }
     },
     "metadata": {},
     "output_type": "display_data"
    },
    {
     "data": {
      "text/plain": "  0%|          | 0/800 [00:00<?, ?it/s]",
      "application/vnd.jupyter.widget-view+json": {
       "version_major": 2,
       "version_minor": 0,
       "model_id": "bed35b37a51e4b109c8e175c75b91ef4"
      }
     },
     "metadata": {},
     "output_type": "display_data"
    },
    {
     "data": {
      "text/plain": "  0%|          | 0/800 [00:00<?, ?it/s]",
      "application/vnd.jupyter.widget-view+json": {
       "version_major": 2,
       "version_minor": 0,
       "model_id": "1a6811cd4c6e4a128e9cfcb24dd204ba"
      }
     },
     "metadata": {},
     "output_type": "display_data"
    },
    {
     "data": {
      "text/plain": "  0%|          | 0/800 [00:00<?, ?it/s]",
      "application/vnd.jupyter.widget-view+json": {
       "version_major": 2,
       "version_minor": 0,
       "model_id": "8924c037150948f4bb0576570f2600d6"
      }
     },
     "metadata": {},
     "output_type": "display_data"
    },
    {
     "data": {
      "text/plain": "  0%|          | 0/800 [00:00<?, ?it/s]",
      "application/vnd.jupyter.widget-view+json": {
       "version_major": 2,
       "version_minor": 0,
       "model_id": "91461526faf9441eb35c7547f2f91c4a"
      }
     },
     "metadata": {},
     "output_type": "display_data"
    },
    {
     "data": {
      "text/plain": "  0%|          | 0/800 [00:00<?, ?it/s]",
      "application/vnd.jupyter.widget-view+json": {
       "version_major": 2,
       "version_minor": 0,
       "model_id": "773a7878a30949fbb0f351f2bb33c1a5"
      }
     },
     "metadata": {},
     "output_type": "display_data"
    },
    {
     "data": {
      "text/plain": "  0%|          | 0/800 [00:00<?, ?it/s]",
      "application/vnd.jupyter.widget-view+json": {
       "version_major": 2,
       "version_minor": 0,
       "model_id": "0cf8394d68f34edf80adb90df80fc882"
      }
     },
     "metadata": {},
     "output_type": "display_data"
    },
    {
     "data": {
      "text/plain": "  0%|          | 0/800 [00:00<?, ?it/s]",
      "application/vnd.jupyter.widget-view+json": {
       "version_major": 2,
       "version_minor": 0,
       "model_id": "183f874cfbbf479fa91a3af3088e9444"
      }
     },
     "metadata": {},
     "output_type": "display_data"
    },
    {
     "data": {
      "text/plain": "  0%|          | 0/800 [00:00<?, ?it/s]",
      "application/vnd.jupyter.widget-view+json": {
       "version_major": 2,
       "version_minor": 0,
       "model_id": "f0002c669ea148baafbccbd28e745acb"
      }
     },
     "metadata": {},
     "output_type": "display_data"
    },
    {
     "data": {
      "text/plain": "  0%|          | 0/800 [00:00<?, ?it/s]",
      "application/vnd.jupyter.widget-view+json": {
       "version_major": 2,
       "version_minor": 0,
       "model_id": "1b6ad138fd0347919282b4bedb3e64ae"
      }
     },
     "metadata": {},
     "output_type": "display_data"
    },
    {
     "data": {
      "text/plain": "  0%|          | 0/800 [00:00<?, ?it/s]",
      "application/vnd.jupyter.widget-view+json": {
       "version_major": 2,
       "version_minor": 0,
       "model_id": "ae126dbb1b1343169f20680eba3cf8d0"
      }
     },
     "metadata": {},
     "output_type": "display_data"
    },
    {
     "data": {
      "text/plain": "  0%|          | 0/800 [00:00<?, ?it/s]",
      "application/vnd.jupyter.widget-view+json": {
       "version_major": 2,
       "version_minor": 0,
       "model_id": "51649e9d13c0453e83fcfe58ffa5588b"
      }
     },
     "metadata": {},
     "output_type": "display_data"
    },
    {
     "data": {
      "text/plain": "  0%|          | 0/800 [00:00<?, ?it/s]",
      "application/vnd.jupyter.widget-view+json": {
       "version_major": 2,
       "version_minor": 0,
       "model_id": "ff579e88f949440196cabc3e52b1f8a8"
      }
     },
     "metadata": {},
     "output_type": "display_data"
    },
    {
     "data": {
      "text/plain": "  0%|          | 0/800 [00:00<?, ?it/s]",
      "application/vnd.jupyter.widget-view+json": {
       "version_major": 2,
       "version_minor": 0,
       "model_id": "d9db6c2a3b0e46cfb5491a90f0b599a4"
      }
     },
     "metadata": {},
     "output_type": "display_data"
    },
    {
     "data": {
      "text/plain": "  0%|          | 0/800 [00:00<?, ?it/s]",
      "application/vnd.jupyter.widget-view+json": {
       "version_major": 2,
       "version_minor": 0,
       "model_id": "aefa1acc9b3b45c49671130bf712abc0"
      }
     },
     "metadata": {},
     "output_type": "display_data"
    },
    {
     "data": {
      "text/plain": "  0%|          | 0/800 [00:00<?, ?it/s]",
      "application/vnd.jupyter.widget-view+json": {
       "version_major": 2,
       "version_minor": 0,
       "model_id": "37cb7163ab91440bbe58c7b22e586412"
      }
     },
     "metadata": {},
     "output_type": "display_data"
    },
    {
     "data": {
      "text/plain": "  0%|          | 0/800 [00:00<?, ?it/s]",
      "application/vnd.jupyter.widget-view+json": {
       "version_major": 2,
       "version_minor": 0,
       "model_id": "b8795278656f41f7acc8efbba4b1c1c5"
      }
     },
     "metadata": {},
     "output_type": "display_data"
    },
    {
     "data": {
      "text/plain": "  0%|          | 0/800 [00:00<?, ?it/s]",
      "application/vnd.jupyter.widget-view+json": {
       "version_major": 2,
       "version_minor": 0,
       "model_id": "6f3f3a9153af40eda53aacf798ad5a40"
      }
     },
     "metadata": {},
     "output_type": "display_data"
    },
    {
     "data": {
      "text/plain": "  0%|          | 0/800 [00:00<?, ?it/s]",
      "application/vnd.jupyter.widget-view+json": {
       "version_major": 2,
       "version_minor": 0,
       "model_id": "5f0bc53093df4c10afdff02b0770a303"
      }
     },
     "metadata": {},
     "output_type": "display_data"
    },
    {
     "data": {
      "text/plain": "  0%|          | 0/800 [00:00<?, ?it/s]",
      "application/vnd.jupyter.widget-view+json": {
       "version_major": 2,
       "version_minor": 0,
       "model_id": "8f68dd4052cf40f78b295a3c75bdbd76"
      }
     },
     "metadata": {},
     "output_type": "display_data"
    },
    {
     "data": {
      "text/plain": "  0%|          | 0/800 [00:00<?, ?it/s]",
      "application/vnd.jupyter.widget-view+json": {
       "version_major": 2,
       "version_minor": 0,
       "model_id": "444edbbfb4a841428d1ebfb52a1f9f4f"
      }
     },
     "metadata": {},
     "output_type": "display_data"
    },
    {
     "data": {
      "text/plain": "  0%|          | 0/800 [00:00<?, ?it/s]",
      "application/vnd.jupyter.widget-view+json": {
       "version_major": 2,
       "version_minor": 0,
       "model_id": "9108bde72c9e44e2931bd67c0d551124"
      }
     },
     "metadata": {},
     "output_type": "display_data"
    },
    {
     "data": {
      "text/plain": "  0%|          | 0/800 [00:00<?, ?it/s]",
      "application/vnd.jupyter.widget-view+json": {
       "version_major": 2,
       "version_minor": 0,
       "model_id": "4cc32445e49f4c10a851d731982814ce"
      }
     },
     "metadata": {},
     "output_type": "display_data"
    },
    {
     "data": {
      "text/plain": "  0%|          | 0/800 [00:00<?, ?it/s]",
      "application/vnd.jupyter.widget-view+json": {
       "version_major": 2,
       "version_minor": 0,
       "model_id": "29b0d4173dfa4551b2ad93a416e823a2"
      }
     },
     "metadata": {},
     "output_type": "display_data"
    },
    {
     "data": {
      "text/plain": "  0%|          | 0/800 [00:00<?, ?it/s]",
      "application/vnd.jupyter.widget-view+json": {
       "version_major": 2,
       "version_minor": 0,
       "model_id": "93baea70ddeb4d42a9980da662548c0e"
      }
     },
     "metadata": {},
     "output_type": "display_data"
    },
    {
     "data": {
      "text/plain": "  0%|          | 0/800 [00:00<?, ?it/s]",
      "application/vnd.jupyter.widget-view+json": {
       "version_major": 2,
       "version_minor": 0,
       "model_id": "04f169380edd4788befa985bf467e73a"
      }
     },
     "metadata": {},
     "output_type": "display_data"
    },
    {
     "data": {
      "text/plain": "  0%|          | 0/800 [00:00<?, ?it/s]",
      "application/vnd.jupyter.widget-view+json": {
       "version_major": 2,
       "version_minor": 0,
       "model_id": "06b0eb43387f4aab8a582d2278d526e5"
      }
     },
     "metadata": {},
     "output_type": "display_data"
    },
    {
     "data": {
      "text/plain": "  0%|          | 0/800 [00:00<?, ?it/s]",
      "application/vnd.jupyter.widget-view+json": {
       "version_major": 2,
       "version_minor": 0,
       "model_id": "0f2faf98b38d4084b7909be9b2f92e88"
      }
     },
     "metadata": {},
     "output_type": "display_data"
    },
    {
     "data": {
      "text/plain": "  0%|          | 0/800 [00:00<?, ?it/s]",
      "application/vnd.jupyter.widget-view+json": {
       "version_major": 2,
       "version_minor": 0,
       "model_id": "b43cfe6d3df14484b7a6130a2d6c81bc"
      }
     },
     "metadata": {},
     "output_type": "display_data"
    },
    {
     "data": {
      "text/plain": "  0%|          | 0/800 [00:00<?, ?it/s]",
      "application/vnd.jupyter.widget-view+json": {
       "version_major": 2,
       "version_minor": 0,
       "model_id": "173abd39da934cadb305dd63289aaa54"
      }
     },
     "metadata": {},
     "output_type": "display_data"
    },
    {
     "data": {
      "text/plain": "  0%|          | 0/800 [00:00<?, ?it/s]",
      "application/vnd.jupyter.widget-view+json": {
       "version_major": 2,
       "version_minor": 0,
       "model_id": "303a54d54fe249669f69cfab3107dbca"
      }
     },
     "metadata": {},
     "output_type": "display_data"
    },
    {
     "data": {
      "text/plain": "  0%|          | 0/800 [00:00<?, ?it/s]",
      "application/vnd.jupyter.widget-view+json": {
       "version_major": 2,
       "version_minor": 0,
       "model_id": "1820cb2b38a7429e9bbbcc0d3868ed7a"
      }
     },
     "metadata": {},
     "output_type": "display_data"
    },
    {
     "data": {
      "text/plain": "  0%|          | 0/800 [00:00<?, ?it/s]",
      "application/vnd.jupyter.widget-view+json": {
       "version_major": 2,
       "version_minor": 0,
       "model_id": "ea382cf41a1e43f393568c72f1b21550"
      }
     },
     "metadata": {},
     "output_type": "display_data"
    },
    {
     "data": {
      "text/plain": "  0%|          | 0/800 [00:00<?, ?it/s]",
      "application/vnd.jupyter.widget-view+json": {
       "version_major": 2,
       "version_minor": 0,
       "model_id": "989335faa5ed4d2089233fb9ef5efabb"
      }
     },
     "metadata": {},
     "output_type": "display_data"
    },
    {
     "data": {
      "text/plain": "  0%|          | 0/800 [00:00<?, ?it/s]",
      "application/vnd.jupyter.widget-view+json": {
       "version_major": 2,
       "version_minor": 0,
       "model_id": "5a5ea8912645418bbed6c0d00976da71"
      }
     },
     "metadata": {},
     "output_type": "display_data"
    },
    {
     "data": {
      "text/plain": "  0%|          | 0/800 [00:00<?, ?it/s]",
      "application/vnd.jupyter.widget-view+json": {
       "version_major": 2,
       "version_minor": 0,
       "model_id": "795ea2a7cd464ac0b6adef155a197c79"
      }
     },
     "metadata": {},
     "output_type": "display_data"
    },
    {
     "data": {
      "text/plain": "  0%|          | 0/800 [00:00<?, ?it/s]",
      "application/vnd.jupyter.widget-view+json": {
       "version_major": 2,
       "version_minor": 0,
       "model_id": "74e59c498f94419ab8f45c18ffc6044e"
      }
     },
     "metadata": {},
     "output_type": "display_data"
    },
    {
     "data": {
      "text/plain": "  0%|          | 0/800 [00:00<?, ?it/s]",
      "application/vnd.jupyter.widget-view+json": {
       "version_major": 2,
       "version_minor": 0,
       "model_id": "d46102f4cd5d4717a6c05b2e5d3d37ae"
      }
     },
     "metadata": {},
     "output_type": "display_data"
    },
    {
     "data": {
      "text/plain": "  0%|          | 0/800 [00:00<?, ?it/s]",
      "application/vnd.jupyter.widget-view+json": {
       "version_major": 2,
       "version_minor": 0,
       "model_id": "14bedc149fca47abb2ca40b65109034f"
      }
     },
     "metadata": {},
     "output_type": "display_data"
    },
    {
     "data": {
      "text/plain": "  0%|          | 0/800 [00:00<?, ?it/s]",
      "application/vnd.jupyter.widget-view+json": {
       "version_major": 2,
       "version_minor": 0,
       "model_id": "e117590be0bb44e8bd2e2612ac82a622"
      }
     },
     "metadata": {},
     "output_type": "display_data"
    },
    {
     "data": {
      "text/plain": "  0%|          | 0/800 [00:00<?, ?it/s]",
      "application/vnd.jupyter.widget-view+json": {
       "version_major": 2,
       "version_minor": 0,
       "model_id": "07fefcfb32a949a1b78389624e3ad4d7"
      }
     },
     "metadata": {},
     "output_type": "display_data"
    },
    {
     "data": {
      "text/plain": "  0%|          | 0/800 [00:00<?, ?it/s]",
      "application/vnd.jupyter.widget-view+json": {
       "version_major": 2,
       "version_minor": 0,
       "model_id": "84f056bcb42b4d3580aec85d1d67aaf5"
      }
     },
     "metadata": {},
     "output_type": "display_data"
    },
    {
     "data": {
      "text/plain": "  0%|          | 0/800 [00:00<?, ?it/s]",
      "application/vnd.jupyter.widget-view+json": {
       "version_major": 2,
       "version_minor": 0,
       "model_id": "d15d3c08b0a44e20a076265032c13ac5"
      }
     },
     "metadata": {},
     "output_type": "display_data"
    },
    {
     "data": {
      "text/plain": "  0%|          | 0/800 [00:00<?, ?it/s]",
      "application/vnd.jupyter.widget-view+json": {
       "version_major": 2,
       "version_minor": 0,
       "model_id": "09d705c0b4aa483895e9bb9f0dee73c9"
      }
     },
     "metadata": {},
     "output_type": "display_data"
    },
    {
     "data": {
      "text/plain": "  0%|          | 0/800 [00:00<?, ?it/s]",
      "application/vnd.jupyter.widget-view+json": {
       "version_major": 2,
       "version_minor": 0,
       "model_id": "a466468553864522a9561285a6f8d665"
      }
     },
     "metadata": {},
     "output_type": "display_data"
    },
    {
     "data": {
      "text/plain": "  0%|          | 0/800 [00:00<?, ?it/s]",
      "application/vnd.jupyter.widget-view+json": {
       "version_major": 2,
       "version_minor": 0,
       "model_id": "53065ae46887462083adb25c7319bfdb"
      }
     },
     "metadata": {},
     "output_type": "display_data"
    },
    {
     "data": {
      "text/plain": "  0%|          | 0/800 [00:00<?, ?it/s]",
      "application/vnd.jupyter.widget-view+json": {
       "version_major": 2,
       "version_minor": 0,
       "model_id": "ffc78953a7974274be11ebff07b56f52"
      }
     },
     "metadata": {},
     "output_type": "display_data"
    },
    {
     "data": {
      "text/plain": "  0%|          | 0/800 [00:00<?, ?it/s]",
      "application/vnd.jupyter.widget-view+json": {
       "version_major": 2,
       "version_minor": 0,
       "model_id": "963d2e4bf2724dcc8c5b3a9a1fc618db"
      }
     },
     "metadata": {},
     "output_type": "display_data"
    },
    {
     "data": {
      "text/plain": "  0%|          | 0/800 [00:00<?, ?it/s]",
      "application/vnd.jupyter.widget-view+json": {
       "version_major": 2,
       "version_minor": 0,
       "model_id": "9b5ac37b48d24589a83d2e2528cc8984"
      }
     },
     "metadata": {},
     "output_type": "display_data"
    },
    {
     "data": {
      "text/plain": "  0%|          | 0/800 [00:00<?, ?it/s]",
      "application/vnd.jupyter.widget-view+json": {
       "version_major": 2,
       "version_minor": 0,
       "model_id": "1a829c88f7014d12b4171f32172a9bde"
      }
     },
     "metadata": {},
     "output_type": "display_data"
    },
    {
     "data": {
      "text/plain": "  0%|          | 0/800 [00:00<?, ?it/s]",
      "application/vnd.jupyter.widget-view+json": {
       "version_major": 2,
       "version_minor": 0,
       "model_id": "80992484b81e4a28a70a578d1fe921b8"
      }
     },
     "metadata": {},
     "output_type": "display_data"
    },
    {
     "data": {
      "text/plain": "  0%|          | 0/800 [00:00<?, ?it/s]",
      "application/vnd.jupyter.widget-view+json": {
       "version_major": 2,
       "version_minor": 0,
       "model_id": "bbe3fe9564604ca18f43514a8daad8ae"
      }
     },
     "metadata": {},
     "output_type": "display_data"
    },
    {
     "data": {
      "text/plain": "  0%|          | 0/800 [00:00<?, ?it/s]",
      "application/vnd.jupyter.widget-view+json": {
       "version_major": 2,
       "version_minor": 0,
       "model_id": "b4cd059bdeda4b9d9d14a9066aa55248"
      }
     },
     "metadata": {},
     "output_type": "display_data"
    },
    {
     "data": {
      "text/plain": "  0%|          | 0/800 [00:00<?, ?it/s]",
      "application/vnd.jupyter.widget-view+json": {
       "version_major": 2,
       "version_minor": 0,
       "model_id": "8cbaa24212be4113906325c853755332"
      }
     },
     "metadata": {},
     "output_type": "display_data"
    },
    {
     "data": {
      "text/plain": "  0%|          | 0/800 [00:00<?, ?it/s]",
      "application/vnd.jupyter.widget-view+json": {
       "version_major": 2,
       "version_minor": 0,
       "model_id": "13ef9e24f4b74e848a8ccf87026c48a4"
      }
     },
     "metadata": {},
     "output_type": "display_data"
    },
    {
     "data": {
      "text/plain": "  0%|          | 0/800 [00:00<?, ?it/s]",
      "application/vnd.jupyter.widget-view+json": {
       "version_major": 2,
       "version_minor": 0,
       "model_id": "52a5df25cbe24d499f8fed0900c6a75a"
      }
     },
     "metadata": {},
     "output_type": "display_data"
    },
    {
     "data": {
      "text/plain": "  0%|          | 0/800 [00:00<?, ?it/s]",
      "application/vnd.jupyter.widget-view+json": {
       "version_major": 2,
       "version_minor": 0,
       "model_id": "45c2c7ba5ad2466fa3a5326b8580689e"
      }
     },
     "metadata": {},
     "output_type": "display_data"
    },
    {
     "data": {
      "text/plain": "  0%|          | 0/800 [00:00<?, ?it/s]",
      "application/vnd.jupyter.widget-view+json": {
       "version_major": 2,
       "version_minor": 0,
       "model_id": "23a31e9d6f014f8faa3c95edcc6412fd"
      }
     },
     "metadata": {},
     "output_type": "display_data"
    },
    {
     "data": {
      "text/plain": "  0%|          | 0/800 [00:00<?, ?it/s]",
      "application/vnd.jupyter.widget-view+json": {
       "version_major": 2,
       "version_minor": 0,
       "model_id": "8faec49c011748c78c3c68b91e556197"
      }
     },
     "metadata": {},
     "output_type": "display_data"
    },
    {
     "data": {
      "text/plain": "  0%|          | 0/800 [00:00<?, ?it/s]",
      "application/vnd.jupyter.widget-view+json": {
       "version_major": 2,
       "version_minor": 0,
       "model_id": "6e4a1fb0d05b4d338c4d84ec0ad3ccb7"
      }
     },
     "metadata": {},
     "output_type": "display_data"
    },
    {
     "data": {
      "text/plain": "  0%|          | 0/800 [00:00<?, ?it/s]",
      "application/vnd.jupyter.widget-view+json": {
       "version_major": 2,
       "version_minor": 0,
       "model_id": "a19ce5080503444c964e1fa7d1b9ce23"
      }
     },
     "metadata": {},
     "output_type": "display_data"
    },
    {
     "data": {
      "text/plain": "  0%|          | 0/800 [00:00<?, ?it/s]",
      "application/vnd.jupyter.widget-view+json": {
       "version_major": 2,
       "version_minor": 0,
       "model_id": "30afc501ec0641d8a56f930c2bd48e19"
      }
     },
     "metadata": {},
     "output_type": "display_data"
    },
    {
     "data": {
      "text/plain": "  0%|          | 0/800 [00:00<?, ?it/s]",
      "application/vnd.jupyter.widget-view+json": {
       "version_major": 2,
       "version_minor": 0,
       "model_id": "5c2c63e5873949f1b2f386b66f46fb4c"
      }
     },
     "metadata": {},
     "output_type": "display_data"
    },
    {
     "data": {
      "text/plain": "  0%|          | 0/800 [00:00<?, ?it/s]",
      "application/vnd.jupyter.widget-view+json": {
       "version_major": 2,
       "version_minor": 0,
       "model_id": "82008a523bf446a7be6f64b39f290f39"
      }
     },
     "metadata": {},
     "output_type": "display_data"
    },
    {
     "data": {
      "text/plain": "  0%|          | 0/800 [00:00<?, ?it/s]",
      "application/vnd.jupyter.widget-view+json": {
       "version_major": 2,
       "version_minor": 0,
       "model_id": "ea321a5824d74e28a09f1e80d726e2b5"
      }
     },
     "metadata": {},
     "output_type": "display_data"
    },
    {
     "data": {
      "text/plain": "  0%|          | 0/800 [00:00<?, ?it/s]",
      "application/vnd.jupyter.widget-view+json": {
       "version_major": 2,
       "version_minor": 0,
       "model_id": "4103d0fc81e643419fdda9e27559f5ab"
      }
     },
     "metadata": {},
     "output_type": "display_data"
    },
    {
     "data": {
      "text/plain": "  0%|          | 0/800 [00:00<?, ?it/s]",
      "application/vnd.jupyter.widget-view+json": {
       "version_major": 2,
       "version_minor": 0,
       "model_id": "451fd983c942495a8872410b15b16fc8"
      }
     },
     "metadata": {},
     "output_type": "display_data"
    },
    {
     "data": {
      "text/plain": "  0%|          | 0/800 [00:00<?, ?it/s]",
      "application/vnd.jupyter.widget-view+json": {
       "version_major": 2,
       "version_minor": 0,
       "model_id": "c4eb9dab42624f95a185b93a64c26f1b"
      }
     },
     "metadata": {},
     "output_type": "display_data"
    },
    {
     "data": {
      "text/plain": "  0%|          | 0/800 [00:00<?, ?it/s]",
      "application/vnd.jupyter.widget-view+json": {
       "version_major": 2,
       "version_minor": 0,
       "model_id": "8080735b06ec4cbb84b1ed3b6cbfc48a"
      }
     },
     "metadata": {},
     "output_type": "display_data"
    },
    {
     "data": {
      "text/plain": "  0%|          | 0/800 [00:00<?, ?it/s]",
      "application/vnd.jupyter.widget-view+json": {
       "version_major": 2,
       "version_minor": 0,
       "model_id": "d7c998629f154b89890a380133d529fe"
      }
     },
     "metadata": {},
     "output_type": "display_data"
    },
    {
     "data": {
      "text/plain": "  0%|          | 0/800 [00:00<?, ?it/s]",
      "application/vnd.jupyter.widget-view+json": {
       "version_major": 2,
       "version_minor": 0,
       "model_id": "a30d857ff8eb498abfd60a28ba838158"
      }
     },
     "metadata": {},
     "output_type": "display_data"
    },
    {
     "data": {
      "text/plain": "  0%|          | 0/800 [00:00<?, ?it/s]",
      "application/vnd.jupyter.widget-view+json": {
       "version_major": 2,
       "version_minor": 0,
       "model_id": "8bb4c406088a4f468c06aec1799a0984"
      }
     },
     "metadata": {},
     "output_type": "display_data"
    },
    {
     "data": {
      "text/plain": "  0%|          | 0/800 [00:00<?, ?it/s]",
      "application/vnd.jupyter.widget-view+json": {
       "version_major": 2,
       "version_minor": 0,
       "model_id": "8caa6da33c044d5a83ba3913debf22c6"
      }
     },
     "metadata": {},
     "output_type": "display_data"
    },
    {
     "data": {
      "text/plain": "  0%|          | 0/800 [00:00<?, ?it/s]",
      "application/vnd.jupyter.widget-view+json": {
       "version_major": 2,
       "version_minor": 0,
       "model_id": "0d734c7949d5424585de678d9c2ed2ae"
      }
     },
     "metadata": {},
     "output_type": "display_data"
    },
    {
     "data": {
      "text/plain": "  0%|          | 0/800 [00:00<?, ?it/s]",
      "application/vnd.jupyter.widget-view+json": {
       "version_major": 2,
       "version_minor": 0,
       "model_id": "05dcdb3539a94ee8afd2e7ffb05b5744"
      }
     },
     "metadata": {},
     "output_type": "display_data"
    },
    {
     "data": {
      "text/plain": "  0%|          | 0/800 [00:00<?, ?it/s]",
      "application/vnd.jupyter.widget-view+json": {
       "version_major": 2,
       "version_minor": 0,
       "model_id": "acbf17bf3b2e4759b209e86390280121"
      }
     },
     "metadata": {},
     "output_type": "display_data"
    },
    {
     "data": {
      "text/plain": "  0%|          | 0/800 [00:00<?, ?it/s]",
      "application/vnd.jupyter.widget-view+json": {
       "version_major": 2,
       "version_minor": 0,
       "model_id": "8e3be9c67ffe4b6b8378b7d6a6d34045"
      }
     },
     "metadata": {},
     "output_type": "display_data"
    },
    {
     "data": {
      "text/plain": "  0%|          | 0/800 [00:00<?, ?it/s]",
      "application/vnd.jupyter.widget-view+json": {
       "version_major": 2,
       "version_minor": 0,
       "model_id": "521a9c7ff926429d8be477ef96c43c17"
      }
     },
     "metadata": {},
     "output_type": "display_data"
    },
    {
     "data": {
      "text/plain": "  0%|          | 0/800 [00:00<?, ?it/s]",
      "application/vnd.jupyter.widget-view+json": {
       "version_major": 2,
       "version_minor": 0,
       "model_id": "74372edc3c224bb1848a48b677dc7fff"
      }
     },
     "metadata": {},
     "output_type": "display_data"
    },
    {
     "data": {
      "text/plain": "  0%|          | 0/800 [00:00<?, ?it/s]",
      "application/vnd.jupyter.widget-view+json": {
       "version_major": 2,
       "version_minor": 0,
       "model_id": "9a034f1ecc5d4e74878d2897d950e2c8"
      }
     },
     "metadata": {},
     "output_type": "display_data"
    },
    {
     "data": {
      "text/plain": "  0%|          | 0/800 [00:00<?, ?it/s]",
      "application/vnd.jupyter.widget-view+json": {
       "version_major": 2,
       "version_minor": 0,
       "model_id": "151e7abb54784a3fa030786d8008e4ce"
      }
     },
     "metadata": {},
     "output_type": "display_data"
    },
    {
     "data": {
      "text/plain": "  0%|          | 0/800 [00:00<?, ?it/s]",
      "application/vnd.jupyter.widget-view+json": {
       "version_major": 2,
       "version_minor": 0,
       "model_id": "55f1f7d0ca09441d80172808dbf58dcb"
      }
     },
     "metadata": {},
     "output_type": "display_data"
    },
    {
     "data": {
      "text/plain": "  0%|          | 0/800 [00:00<?, ?it/s]",
      "application/vnd.jupyter.widget-view+json": {
       "version_major": 2,
       "version_minor": 0,
       "model_id": "05e69d574e7b45759df39fd2deee9beb"
      }
     },
     "metadata": {},
     "output_type": "display_data"
    },
    {
     "data": {
      "text/plain": "  0%|          | 0/800 [00:00<?, ?it/s]",
      "application/vnd.jupyter.widget-view+json": {
       "version_major": 2,
       "version_minor": 0,
       "model_id": "9989e8088228493fa6f99ca82ab407fe"
      }
     },
     "metadata": {},
     "output_type": "display_data"
    },
    {
     "data": {
      "text/plain": "  0%|          | 0/800 [00:00<?, ?it/s]",
      "application/vnd.jupyter.widget-view+json": {
       "version_major": 2,
       "version_minor": 0,
       "model_id": "892d04a7fc7241ee910e7ee3f9493287"
      }
     },
     "metadata": {},
     "output_type": "display_data"
    },
    {
     "data": {
      "text/plain": "  0%|          | 0/800 [00:00<?, ?it/s]",
      "application/vnd.jupyter.widget-view+json": {
       "version_major": 2,
       "version_minor": 0,
       "model_id": "a3a352600a1e41a79f7092d034d76e84"
      }
     },
     "metadata": {},
     "output_type": "display_data"
    },
    {
     "data": {
      "text/plain": "  0%|          | 0/800 [00:00<?, ?it/s]",
      "application/vnd.jupyter.widget-view+json": {
       "version_major": 2,
       "version_minor": 0,
       "model_id": "3b1c91170f01476cb3b33343b2abb16c"
      }
     },
     "metadata": {},
     "output_type": "display_data"
    },
    {
     "data": {
      "text/plain": "  0%|          | 0/800 [00:00<?, ?it/s]",
      "application/vnd.jupyter.widget-view+json": {
       "version_major": 2,
       "version_minor": 0,
       "model_id": "5cea82676b054cc79f7a366245f583a3"
      }
     },
     "metadata": {},
     "output_type": "display_data"
    },
    {
     "data": {
      "text/plain": "  0%|          | 0/800 [00:00<?, ?it/s]",
      "application/vnd.jupyter.widget-view+json": {
       "version_major": 2,
       "version_minor": 0,
       "model_id": "b3525c824cc141cb80dd856421377bcd"
      }
     },
     "metadata": {},
     "output_type": "display_data"
    },
    {
     "data": {
      "text/plain": "  0%|          | 0/800 [00:00<?, ?it/s]",
      "application/vnd.jupyter.widget-view+json": {
       "version_major": 2,
       "version_minor": 0,
       "model_id": "5109135568ea48e0a24b5bb34d2df067"
      }
     },
     "metadata": {},
     "output_type": "display_data"
    },
    {
     "data": {
      "text/plain": "  0%|          | 0/800 [00:00<?, ?it/s]",
      "application/vnd.jupyter.widget-view+json": {
       "version_major": 2,
       "version_minor": 0,
       "model_id": "f87f24be41fb402482a9aa83c2c6ecf5"
      }
     },
     "metadata": {},
     "output_type": "display_data"
    },
    {
     "data": {
      "text/plain": "  0%|          | 0/800 [00:00<?, ?it/s]",
      "application/vnd.jupyter.widget-view+json": {
       "version_major": 2,
       "version_minor": 0,
       "model_id": "5fd39dc956cd4dc2808a3d6241a60b97"
      }
     },
     "metadata": {},
     "output_type": "display_data"
    },
    {
     "data": {
      "text/plain": "  0%|          | 0/800 [00:00<?, ?it/s]",
      "application/vnd.jupyter.widget-view+json": {
       "version_major": 2,
       "version_minor": 0,
       "model_id": "3a810ed5aafd4d1fb8231ca6f669fe4b"
      }
     },
     "metadata": {},
     "output_type": "display_data"
    },
    {
     "data": {
      "text/plain": "  0%|          | 0/800 [00:00<?, ?it/s]",
      "application/vnd.jupyter.widget-view+json": {
       "version_major": 2,
       "version_minor": 0,
       "model_id": "a2b2910a11cc476784602bb89f60d4be"
      }
     },
     "metadata": {},
     "output_type": "display_data"
    },
    {
     "data": {
      "text/plain": "  0%|          | 0/800 [00:00<?, ?it/s]",
      "application/vnd.jupyter.widget-view+json": {
       "version_major": 2,
       "version_minor": 0,
       "model_id": "4a62c79debaf4518a0036d7587ef7dd0"
      }
     },
     "metadata": {},
     "output_type": "display_data"
    },
    {
     "data": {
      "text/plain": "  0%|          | 0/800 [00:00<?, ?it/s]",
      "application/vnd.jupyter.widget-view+json": {
       "version_major": 2,
       "version_minor": 0,
       "model_id": "40e70ab92edb4e3a8e7dd913712d835b"
      }
     },
     "metadata": {},
     "output_type": "display_data"
    },
    {
     "data": {
      "text/plain": "  0%|          | 0/800 [00:00<?, ?it/s]",
      "application/vnd.jupyter.widget-view+json": {
       "version_major": 2,
       "version_minor": 0,
       "model_id": "e739ad7d7f8c491e8089634a50f764c2"
      }
     },
     "metadata": {},
     "output_type": "display_data"
    },
    {
     "data": {
      "text/plain": "  0%|          | 0/800 [00:00<?, ?it/s]",
      "application/vnd.jupyter.widget-view+json": {
       "version_major": 2,
       "version_minor": 0,
       "model_id": "a420cfbf88034eb88bef1e15b42526b4"
      }
     },
     "metadata": {},
     "output_type": "display_data"
    },
    {
     "data": {
      "text/plain": "  0%|          | 0/800 [00:00<?, ?it/s]",
      "application/vnd.jupyter.widget-view+json": {
       "version_major": 2,
       "version_minor": 0,
       "model_id": "4731ef05579846d8806075232faa997d"
      }
     },
     "metadata": {},
     "output_type": "display_data"
    },
    {
     "data": {
      "text/plain": "  0%|          | 0/800 [00:00<?, ?it/s]",
      "application/vnd.jupyter.widget-view+json": {
       "version_major": 2,
       "version_minor": 0,
       "model_id": "ae2e4f5a34254c77a3c2528f0809b1ad"
      }
     },
     "metadata": {},
     "output_type": "display_data"
    },
    {
     "data": {
      "text/plain": "  0%|          | 0/800 [00:00<?, ?it/s]",
      "application/vnd.jupyter.widget-view+json": {
       "version_major": 2,
       "version_minor": 0,
       "model_id": "578240c177094b739865a9c9529b3946"
      }
     },
     "metadata": {},
     "output_type": "display_data"
    },
    {
     "data": {
      "text/plain": "  0%|          | 0/800 [00:00<?, ?it/s]",
      "application/vnd.jupyter.widget-view+json": {
       "version_major": 2,
       "version_minor": 0,
       "model_id": "48723a9e5e1c4651a7e14f29d3fdd802"
      }
     },
     "metadata": {},
     "output_type": "display_data"
    },
    {
     "data": {
      "text/plain": "  0%|          | 0/800 [00:00<?, ?it/s]",
      "application/vnd.jupyter.widget-view+json": {
       "version_major": 2,
       "version_minor": 0,
       "model_id": "b029b264cc6842a6a57d71481a5bab80"
      }
     },
     "metadata": {},
     "output_type": "display_data"
    },
    {
     "data": {
      "text/plain": "  0%|          | 0/800 [00:00<?, ?it/s]",
      "application/vnd.jupyter.widget-view+json": {
       "version_major": 2,
       "version_minor": 0,
       "model_id": "1a47499712664d23b41e14e698e06045"
      }
     },
     "metadata": {},
     "output_type": "display_data"
    },
    {
     "data": {
      "text/plain": "  0%|          | 0/800 [00:00<?, ?it/s]",
      "application/vnd.jupyter.widget-view+json": {
       "version_major": 2,
       "version_minor": 0,
       "model_id": "89551919d86046719fdd48ecb7d03cf8"
      }
     },
     "metadata": {},
     "output_type": "display_data"
    },
    {
     "data": {
      "text/plain": "  0%|          | 0/800 [00:00<?, ?it/s]",
      "application/vnd.jupyter.widget-view+json": {
       "version_major": 2,
       "version_minor": 0,
       "model_id": "1b4b1750c7ea4db8954c115a08f2f0fa"
      }
     },
     "metadata": {},
     "output_type": "display_data"
    },
    {
     "data": {
      "text/plain": "  0%|          | 0/800 [00:00<?, ?it/s]",
      "application/vnd.jupyter.widget-view+json": {
       "version_major": 2,
       "version_minor": 0,
       "model_id": "0c0b40ba3173457aa6ce39fd8636da72"
      }
     },
     "metadata": {},
     "output_type": "display_data"
    },
    {
     "data": {
      "text/plain": "  0%|          | 0/800 [00:00<?, ?it/s]",
      "application/vnd.jupyter.widget-view+json": {
       "version_major": 2,
       "version_minor": 0,
       "model_id": "e0de558c832f4a79ae0339f38fb554a0"
      }
     },
     "metadata": {},
     "output_type": "display_data"
    },
    {
     "data": {
      "text/plain": "  0%|          | 0/800 [00:00<?, ?it/s]",
      "application/vnd.jupyter.widget-view+json": {
       "version_major": 2,
       "version_minor": 0,
       "model_id": "3ad0890893804a4caacee15dd8c7684a"
      }
     },
     "metadata": {},
     "output_type": "display_data"
    },
    {
     "data": {
      "text/plain": "  0%|          | 0/800 [00:00<?, ?it/s]",
      "application/vnd.jupyter.widget-view+json": {
       "version_major": 2,
       "version_minor": 0,
       "model_id": "85cb61ea736144d597f10f526edbb44f"
      }
     },
     "metadata": {},
     "output_type": "display_data"
    },
    {
     "data": {
      "text/plain": "  0%|          | 0/800 [00:00<?, ?it/s]",
      "application/vnd.jupyter.widget-view+json": {
       "version_major": 2,
       "version_minor": 0,
       "model_id": "a592173448384fefa9b38e3c101495b9"
      }
     },
     "metadata": {},
     "output_type": "display_data"
    },
    {
     "data": {
      "text/plain": "  0%|          | 0/800 [00:00<?, ?it/s]",
      "application/vnd.jupyter.widget-view+json": {
       "version_major": 2,
       "version_minor": 0,
       "model_id": "2aa8adb89299459babf3e2d55ab6aebd"
      }
     },
     "metadata": {},
     "output_type": "display_data"
    },
    {
     "data": {
      "text/plain": "  0%|          | 0/800 [00:00<?, ?it/s]",
      "application/vnd.jupyter.widget-view+json": {
       "version_major": 2,
       "version_minor": 0,
       "model_id": "a73c1301c52f46d0a8af5044094c8829"
      }
     },
     "metadata": {},
     "output_type": "display_data"
    },
    {
     "data": {
      "text/plain": "  0%|          | 0/800 [00:00<?, ?it/s]",
      "application/vnd.jupyter.widget-view+json": {
       "version_major": 2,
       "version_minor": 0,
       "model_id": "8ccbf43da0b54c66bd86dfa4d75adf06"
      }
     },
     "metadata": {},
     "output_type": "display_data"
    },
    {
     "data": {
      "text/plain": "  0%|          | 0/800 [00:00<?, ?it/s]",
      "application/vnd.jupyter.widget-view+json": {
       "version_major": 2,
       "version_minor": 0,
       "model_id": "d850b32f71e14f3ea2273b412407cd1a"
      }
     },
     "metadata": {},
     "output_type": "display_data"
    },
    {
     "data": {
      "text/plain": "  0%|          | 0/800 [00:00<?, ?it/s]",
      "application/vnd.jupyter.widget-view+json": {
       "version_major": 2,
       "version_minor": 0,
       "model_id": "e07ce86bb75b42208184ad5e4d6979d6"
      }
     },
     "metadata": {},
     "output_type": "display_data"
    },
    {
     "data": {
      "text/plain": "  0%|          | 0/800 [00:00<?, ?it/s]",
      "application/vnd.jupyter.widget-view+json": {
       "version_major": 2,
       "version_minor": 0,
       "model_id": "7de1deb309b2487a8792f9e0228f50ae"
      }
     },
     "metadata": {},
     "output_type": "display_data"
    },
    {
     "data": {
      "text/plain": "  0%|          | 0/800 [00:00<?, ?it/s]",
      "application/vnd.jupyter.widget-view+json": {
       "version_major": 2,
       "version_minor": 0,
       "model_id": "792f81caec3e466cbcc1d5841153bed5"
      }
     },
     "metadata": {},
     "output_type": "display_data"
    },
    {
     "data": {
      "text/plain": "  0%|          | 0/800 [00:00<?, ?it/s]",
      "application/vnd.jupyter.widget-view+json": {
       "version_major": 2,
       "version_minor": 0,
       "model_id": "10a4ed71874f46c49ef2c3b5e8e1fd19"
      }
     },
     "metadata": {},
     "output_type": "display_data"
    },
    {
     "data": {
      "text/plain": "  0%|          | 0/800 [00:00<?, ?it/s]",
      "application/vnd.jupyter.widget-view+json": {
       "version_major": 2,
       "version_minor": 0,
       "model_id": "a98e41081edc43b9a4eb8928460c4cf1"
      }
     },
     "metadata": {},
     "output_type": "display_data"
    },
    {
     "data": {
      "text/plain": "  0%|          | 0/800 [00:00<?, ?it/s]",
      "application/vnd.jupyter.widget-view+json": {
       "version_major": 2,
       "version_minor": 0,
       "model_id": "9470a35884b24591a45e19595d438d94"
      }
     },
     "metadata": {},
     "output_type": "display_data"
    },
    {
     "data": {
      "text/plain": "  0%|          | 0/800 [00:00<?, ?it/s]",
      "application/vnd.jupyter.widget-view+json": {
       "version_major": 2,
       "version_minor": 0,
       "model_id": "ef6ec960339140a38393e427c477f3dd"
      }
     },
     "metadata": {},
     "output_type": "display_data"
    },
    {
     "data": {
      "text/plain": "  0%|          | 0/800 [00:00<?, ?it/s]",
      "application/vnd.jupyter.widget-view+json": {
       "version_major": 2,
       "version_minor": 0,
       "model_id": "e4dc48a762f444ed8b0677275d89e599"
      }
     },
     "metadata": {},
     "output_type": "display_data"
    },
    {
     "data": {
      "text/plain": "  0%|          | 0/800 [00:00<?, ?it/s]",
      "application/vnd.jupyter.widget-view+json": {
       "version_major": 2,
       "version_minor": 0,
       "model_id": "7b5e88de467a4418a1d0b579352ab838"
      }
     },
     "metadata": {},
     "output_type": "display_data"
    },
    {
     "data": {
      "text/plain": "  0%|          | 0/800 [00:00<?, ?it/s]",
      "application/vnd.jupyter.widget-view+json": {
       "version_major": 2,
       "version_minor": 0,
       "model_id": "dced296193384a7b90b50f80232300b1"
      }
     },
     "metadata": {},
     "output_type": "display_data"
    },
    {
     "data": {
      "text/plain": "  0%|          | 0/800 [00:00<?, ?it/s]",
      "application/vnd.jupyter.widget-view+json": {
       "version_major": 2,
       "version_minor": 0,
       "model_id": "a8a1d6723c264d629ee10b70245299e8"
      }
     },
     "metadata": {},
     "output_type": "display_data"
    },
    {
     "data": {
      "text/plain": "  0%|          | 0/800 [00:00<?, ?it/s]",
      "application/vnd.jupyter.widget-view+json": {
       "version_major": 2,
       "version_minor": 0,
       "model_id": "1167885bf17f4c40b77716f46512320c"
      }
     },
     "metadata": {},
     "output_type": "display_data"
    },
    {
     "data": {
      "text/plain": "  0%|          | 0/800 [00:00<?, ?it/s]",
      "application/vnd.jupyter.widget-view+json": {
       "version_major": 2,
       "version_minor": 0,
       "model_id": "29c3f433d5e944f3a33550414435307f"
      }
     },
     "metadata": {},
     "output_type": "display_data"
    },
    {
     "data": {
      "text/plain": "  0%|          | 0/800 [00:00<?, ?it/s]",
      "application/vnd.jupyter.widget-view+json": {
       "version_major": 2,
       "version_minor": 0,
       "model_id": "07113be05c9649c2ad9214d85d6f36af"
      }
     },
     "metadata": {},
     "output_type": "display_data"
    },
    {
     "data": {
      "text/plain": "  0%|          | 0/800 [00:00<?, ?it/s]",
      "application/vnd.jupyter.widget-view+json": {
       "version_major": 2,
       "version_minor": 0,
       "model_id": "dc94d3a1b9764e869958dc4b4cd8f124"
      }
     },
     "metadata": {},
     "output_type": "display_data"
    },
    {
     "data": {
      "text/plain": "  0%|          | 0/800 [00:00<?, ?it/s]",
      "application/vnd.jupyter.widget-view+json": {
       "version_major": 2,
       "version_minor": 0,
       "model_id": "37f1ea49488f4edb951b1c4960b0e57b"
      }
     },
     "metadata": {},
     "output_type": "display_data"
    },
    {
     "data": {
      "text/plain": "  0%|          | 0/800 [00:00<?, ?it/s]",
      "application/vnd.jupyter.widget-view+json": {
       "version_major": 2,
       "version_minor": 0,
       "model_id": "a9c9dbc665444396999da18acdf6b242"
      }
     },
     "metadata": {},
     "output_type": "display_data"
    },
    {
     "data": {
      "text/plain": "  0%|          | 0/800 [00:00<?, ?it/s]",
      "application/vnd.jupyter.widget-view+json": {
       "version_major": 2,
       "version_minor": 0,
       "model_id": "9690af351a4d4213827cc2e7e7a36412"
      }
     },
     "metadata": {},
     "output_type": "display_data"
    },
    {
     "data": {
      "text/plain": "  0%|          | 0/800 [00:00<?, ?it/s]",
      "application/vnd.jupyter.widget-view+json": {
       "version_major": 2,
       "version_minor": 0,
       "model_id": "194a08cf062a40158eb93f8adc159fd2"
      }
     },
     "metadata": {},
     "output_type": "display_data"
    },
    {
     "data": {
      "text/plain": "  0%|          | 0/800 [00:00<?, ?it/s]",
      "application/vnd.jupyter.widget-view+json": {
       "version_major": 2,
       "version_minor": 0,
       "model_id": "5d0b05022ec0488e80d4a829aefb134e"
      }
     },
     "metadata": {},
     "output_type": "display_data"
    },
    {
     "data": {
      "text/plain": "  0%|          | 0/800 [00:00<?, ?it/s]",
      "application/vnd.jupyter.widget-view+json": {
       "version_major": 2,
       "version_minor": 0,
       "model_id": "eca9a6bf576344779c495d23881676d7"
      }
     },
     "metadata": {},
     "output_type": "display_data"
    },
    {
     "data": {
      "text/plain": "  0%|          | 0/800 [00:00<?, ?it/s]",
      "application/vnd.jupyter.widget-view+json": {
       "version_major": 2,
       "version_minor": 0,
       "model_id": "d9c23252a67445ba8f965922816fa993"
      }
     },
     "metadata": {},
     "output_type": "display_data"
    },
    {
     "data": {
      "text/plain": "  0%|          | 0/800 [00:00<?, ?it/s]",
      "application/vnd.jupyter.widget-view+json": {
       "version_major": 2,
       "version_minor": 0,
       "model_id": "8499becd5b0e4e7e854ec0d9efa7c63d"
      }
     },
     "metadata": {},
     "output_type": "display_data"
    },
    {
     "data": {
      "text/plain": "  0%|          | 0/800 [00:00<?, ?it/s]",
      "application/vnd.jupyter.widget-view+json": {
       "version_major": 2,
       "version_minor": 0,
       "model_id": "a9bf2c978e69488f9ac6485a54fd9a43"
      }
     },
     "metadata": {},
     "output_type": "display_data"
    },
    {
     "data": {
      "text/plain": "  0%|          | 0/800 [00:00<?, ?it/s]",
      "application/vnd.jupyter.widget-view+json": {
       "version_major": 2,
       "version_minor": 0,
       "model_id": "2876339afee648e688b9ffdafc3561ad"
      }
     },
     "metadata": {},
     "output_type": "display_data"
    },
    {
     "data": {
      "text/plain": "  0%|          | 0/800 [00:00<?, ?it/s]",
      "application/vnd.jupyter.widget-view+json": {
       "version_major": 2,
       "version_minor": 0,
       "model_id": "71203c47f61140968fb443741dfa22c2"
      }
     },
     "metadata": {},
     "output_type": "display_data"
    },
    {
     "data": {
      "text/plain": "  0%|          | 0/800 [00:00<?, ?it/s]",
      "application/vnd.jupyter.widget-view+json": {
       "version_major": 2,
       "version_minor": 0,
       "model_id": "4fec7590d6d2420dbd20cb99e2da8217"
      }
     },
     "metadata": {},
     "output_type": "display_data"
    },
    {
     "data": {
      "text/plain": "  0%|          | 0/800 [00:00<?, ?it/s]",
      "application/vnd.jupyter.widget-view+json": {
       "version_major": 2,
       "version_minor": 0,
       "model_id": "a77a9895a81a4b20a744f991a5e65574"
      }
     },
     "metadata": {},
     "output_type": "display_data"
    },
    {
     "data": {
      "text/plain": "  0%|          | 0/800 [00:00<?, ?it/s]",
      "application/vnd.jupyter.widget-view+json": {
       "version_major": 2,
       "version_minor": 0,
       "model_id": "f05fea0c0ee84a3ba638cbf785ae7b8f"
      }
     },
     "metadata": {},
     "output_type": "display_data"
    },
    {
     "data": {
      "text/plain": "  0%|          | 0/800 [00:00<?, ?it/s]",
      "application/vnd.jupyter.widget-view+json": {
       "version_major": 2,
       "version_minor": 0,
       "model_id": "cbcccd81762740838282685ccd32c8be"
      }
     },
     "metadata": {},
     "output_type": "display_data"
    },
    {
     "data": {
      "text/plain": "  0%|          | 0/800 [00:00<?, ?it/s]",
      "application/vnd.jupyter.widget-view+json": {
       "version_major": 2,
       "version_minor": 0,
       "model_id": "602c5870d9124f0bb74af2c84321deb8"
      }
     },
     "metadata": {},
     "output_type": "display_data"
    },
    {
     "data": {
      "text/plain": "  0%|          | 0/800 [00:00<?, ?it/s]",
      "application/vnd.jupyter.widget-view+json": {
       "version_major": 2,
       "version_minor": 0,
       "model_id": "83e719eb5b004821a0ce227f48be81be"
      }
     },
     "metadata": {},
     "output_type": "display_data"
    },
    {
     "data": {
      "text/plain": "  0%|          | 0/800 [00:00<?, ?it/s]",
      "application/vnd.jupyter.widget-view+json": {
       "version_major": 2,
       "version_minor": 0,
       "model_id": "ae29fc130f0b4d9386c1a198e725e0df"
      }
     },
     "metadata": {},
     "output_type": "display_data"
    },
    {
     "data": {
      "text/plain": "  0%|          | 0/800 [00:00<?, ?it/s]",
      "application/vnd.jupyter.widget-view+json": {
       "version_major": 2,
       "version_minor": 0,
       "model_id": "6f59bc3f4bd5438b88a390b70fc21bb1"
      }
     },
     "metadata": {},
     "output_type": "display_data"
    },
    {
     "data": {
      "text/plain": "  0%|          | 0/800 [00:00<?, ?it/s]",
      "application/vnd.jupyter.widget-view+json": {
       "version_major": 2,
       "version_minor": 0,
       "model_id": "66116985d02045d49237bb0b52b0e060"
      }
     },
     "metadata": {},
     "output_type": "display_data"
    },
    {
     "data": {
      "text/plain": "  0%|          | 0/800 [00:00<?, ?it/s]",
      "application/vnd.jupyter.widget-view+json": {
       "version_major": 2,
       "version_minor": 0,
       "model_id": "fcffaa0def954d69b04c7e32ad672c12"
      }
     },
     "metadata": {},
     "output_type": "display_data"
    },
    {
     "data": {
      "text/plain": "  0%|          | 0/800 [00:00<?, ?it/s]",
      "application/vnd.jupyter.widget-view+json": {
       "version_major": 2,
       "version_minor": 0,
       "model_id": "2a7034f0144642b9a64d41ff370cf585"
      }
     },
     "metadata": {},
     "output_type": "display_data"
    },
    {
     "data": {
      "text/plain": "  0%|          | 0/800 [00:00<?, ?it/s]",
      "application/vnd.jupyter.widget-view+json": {
       "version_major": 2,
       "version_minor": 0,
       "model_id": "bb65d68d25984df98373c86bc85a01ca"
      }
     },
     "metadata": {},
     "output_type": "display_data"
    },
    {
     "data": {
      "text/plain": "  0%|          | 0/800 [00:00<?, ?it/s]",
      "application/vnd.jupyter.widget-view+json": {
       "version_major": 2,
       "version_minor": 0,
       "model_id": "719f5799adf04e9fa4d03c097516c82d"
      }
     },
     "metadata": {},
     "output_type": "display_data"
    },
    {
     "data": {
      "text/plain": "  0%|          | 0/800 [00:00<?, ?it/s]",
      "application/vnd.jupyter.widget-view+json": {
       "version_major": 2,
       "version_minor": 0,
       "model_id": "c988fe41fa184b7bb76a188f355fc2c9"
      }
     },
     "metadata": {},
     "output_type": "display_data"
    },
    {
     "data": {
      "text/plain": "  0%|          | 0/800 [00:00<?, ?it/s]",
      "application/vnd.jupyter.widget-view+json": {
       "version_major": 2,
       "version_minor": 0,
       "model_id": "9a7b0d77ec69413298edca9315502520"
      }
     },
     "metadata": {},
     "output_type": "display_data"
    },
    {
     "data": {
      "text/plain": "  0%|          | 0/800 [00:00<?, ?it/s]",
      "application/vnd.jupyter.widget-view+json": {
       "version_major": 2,
       "version_minor": 0,
       "model_id": "8a42a0416cc84be6a9824606945d4c58"
      }
     },
     "metadata": {},
     "output_type": "display_data"
    },
    {
     "data": {
      "text/plain": "  0%|          | 0/800 [00:00<?, ?it/s]",
      "application/vnd.jupyter.widget-view+json": {
       "version_major": 2,
       "version_minor": 0,
       "model_id": "7b25a1a855d54f978d579e2524e686cf"
      }
     },
     "metadata": {},
     "output_type": "display_data"
    },
    {
     "data": {
      "text/plain": "  0%|          | 0/800 [00:00<?, ?it/s]",
      "application/vnd.jupyter.widget-view+json": {
       "version_major": 2,
       "version_minor": 0,
       "model_id": "8aafda2d4dd8459d9e8d9ac0672809bc"
      }
     },
     "metadata": {},
     "output_type": "display_data"
    },
    {
     "data": {
      "text/plain": "  0%|          | 0/800 [00:00<?, ?it/s]",
      "application/vnd.jupyter.widget-view+json": {
       "version_major": 2,
       "version_minor": 0,
       "model_id": "1f6d0748c93b44be9838acbc6a9fce51"
      }
     },
     "metadata": {},
     "output_type": "display_data"
    },
    {
     "data": {
      "text/plain": "  0%|          | 0/800 [00:00<?, ?it/s]",
      "application/vnd.jupyter.widget-view+json": {
       "version_major": 2,
       "version_minor": 0,
       "model_id": "c6874a02633a496b9bb981f927d168c7"
      }
     },
     "metadata": {},
     "output_type": "display_data"
    },
    {
     "data": {
      "text/plain": "  0%|          | 0/800 [00:00<?, ?it/s]",
      "application/vnd.jupyter.widget-view+json": {
       "version_major": 2,
       "version_minor": 0,
       "model_id": "fbbb353685614f99a20f993d0669ce69"
      }
     },
     "metadata": {},
     "output_type": "display_data"
    },
    {
     "data": {
      "text/plain": "  0%|          | 0/800 [00:00<?, ?it/s]",
      "application/vnd.jupyter.widget-view+json": {
       "version_major": 2,
       "version_minor": 0,
       "model_id": "aa265f6f558c4a8ba646923c8a74994c"
      }
     },
     "metadata": {},
     "output_type": "display_data"
    },
    {
     "data": {
      "text/plain": "  0%|          | 0/800 [00:00<?, ?it/s]",
      "application/vnd.jupyter.widget-view+json": {
       "version_major": 2,
       "version_minor": 0,
       "model_id": "96ff617e023a431481903d4f0b8d2573"
      }
     },
     "metadata": {},
     "output_type": "display_data"
    },
    {
     "data": {
      "text/plain": "  0%|          | 0/800 [00:00<?, ?it/s]",
      "application/vnd.jupyter.widget-view+json": {
       "version_major": 2,
       "version_minor": 0,
       "model_id": "8aee03673b9e43279321d0d94b30cd99"
      }
     },
     "metadata": {},
     "output_type": "display_data"
    },
    {
     "data": {
      "text/plain": "  0%|          | 0/800 [00:00<?, ?it/s]",
      "application/vnd.jupyter.widget-view+json": {
       "version_major": 2,
       "version_minor": 0,
       "model_id": "2755b3917dd04b26809fad74478de503"
      }
     },
     "metadata": {},
     "output_type": "display_data"
    },
    {
     "data": {
      "text/plain": "  0%|          | 0/800 [00:00<?, ?it/s]",
      "application/vnd.jupyter.widget-view+json": {
       "version_major": 2,
       "version_minor": 0,
       "model_id": "2e597031271c449e914e6f9d8a49dee8"
      }
     },
     "metadata": {},
     "output_type": "display_data"
    },
    {
     "data": {
      "text/plain": "  0%|          | 0/800 [00:00<?, ?it/s]",
      "application/vnd.jupyter.widget-view+json": {
       "version_major": 2,
       "version_minor": 0,
       "model_id": "b62750c6197842d4be9b4aab447b6f44"
      }
     },
     "metadata": {},
     "output_type": "display_data"
    },
    {
     "data": {
      "text/plain": "  0%|          | 0/800 [00:00<?, ?it/s]",
      "application/vnd.jupyter.widget-view+json": {
       "version_major": 2,
       "version_minor": 0,
       "model_id": "b89dddf076934c0ca03e1421c8a6c0b1"
      }
     },
     "metadata": {},
     "output_type": "display_data"
    },
    {
     "data": {
      "text/plain": "  0%|          | 0/800 [00:00<?, ?it/s]",
      "application/vnd.jupyter.widget-view+json": {
       "version_major": 2,
       "version_minor": 0,
       "model_id": "2afd797c71d34f2eb496ce89857742f7"
      }
     },
     "metadata": {},
     "output_type": "display_data"
    },
    {
     "data": {
      "text/plain": "  0%|          | 0/800 [00:00<?, ?it/s]",
      "application/vnd.jupyter.widget-view+json": {
       "version_major": 2,
       "version_minor": 0,
       "model_id": "d52a77f5abb64693a050b44c55e27bca"
      }
     },
     "metadata": {},
     "output_type": "display_data"
    },
    {
     "data": {
      "text/plain": "  0%|          | 0/800 [00:00<?, ?it/s]",
      "application/vnd.jupyter.widget-view+json": {
       "version_major": 2,
       "version_minor": 0,
       "model_id": "36cb6e7de078495595e74865813426f0"
      }
     },
     "metadata": {},
     "output_type": "display_data"
    },
    {
     "data": {
      "text/plain": "  0%|          | 0/800 [00:00<?, ?it/s]",
      "application/vnd.jupyter.widget-view+json": {
       "version_major": 2,
       "version_minor": 0,
       "model_id": "9265644a3ced4b2bb4ea14193f82e802"
      }
     },
     "metadata": {},
     "output_type": "display_data"
    },
    {
     "data": {
      "text/plain": "  0%|          | 0/800 [00:00<?, ?it/s]",
      "application/vnd.jupyter.widget-view+json": {
       "version_major": 2,
       "version_minor": 0,
       "model_id": "cdd43bfa99f1430dbe374b7fc601eda5"
      }
     },
     "metadata": {},
     "output_type": "display_data"
    },
    {
     "data": {
      "text/plain": "  0%|          | 0/800 [00:00<?, ?it/s]",
      "application/vnd.jupyter.widget-view+json": {
       "version_major": 2,
       "version_minor": 0,
       "model_id": "f34c4beaec00462aba98f39860336b78"
      }
     },
     "metadata": {},
     "output_type": "display_data"
    },
    {
     "data": {
      "text/plain": "  0%|          | 0/800 [00:00<?, ?it/s]",
      "application/vnd.jupyter.widget-view+json": {
       "version_major": 2,
       "version_minor": 0,
       "model_id": "620d560d763c455e944fb149bfd4b416"
      }
     },
     "metadata": {},
     "output_type": "display_data"
    },
    {
     "data": {
      "text/plain": "  0%|          | 0/800 [00:00<?, ?it/s]",
      "application/vnd.jupyter.widget-view+json": {
       "version_major": 2,
       "version_minor": 0,
       "model_id": "6de167f7147b4c62844d7711a0a4ec60"
      }
     },
     "metadata": {},
     "output_type": "display_data"
    },
    {
     "data": {
      "text/plain": "  0%|          | 0/800 [00:00<?, ?it/s]",
      "application/vnd.jupyter.widget-view+json": {
       "version_major": 2,
       "version_minor": 0,
       "model_id": "50e0f4ce93c44dd0ab1eaad89f86c1b2"
      }
     },
     "metadata": {},
     "output_type": "display_data"
    },
    {
     "data": {
      "text/plain": "  0%|          | 0/800 [00:00<?, ?it/s]",
      "application/vnd.jupyter.widget-view+json": {
       "version_major": 2,
       "version_minor": 0,
       "model_id": "2c34ab51335c4787a7c5969e29ac649f"
      }
     },
     "metadata": {},
     "output_type": "display_data"
    },
    {
     "data": {
      "text/plain": "  0%|          | 0/800 [00:00<?, ?it/s]",
      "application/vnd.jupyter.widget-view+json": {
       "version_major": 2,
       "version_minor": 0,
       "model_id": "322eddebcd3b46b28a725f5ae25b07e8"
      }
     },
     "metadata": {},
     "output_type": "display_data"
    },
    {
     "data": {
      "text/plain": "  0%|          | 0/800 [00:00<?, ?it/s]",
      "application/vnd.jupyter.widget-view+json": {
       "version_major": 2,
       "version_minor": 0,
       "model_id": "e2304611c0de476c9b32a4d251f311be"
      }
     },
     "metadata": {},
     "output_type": "display_data"
    },
    {
     "data": {
      "text/plain": "  0%|          | 0/800 [00:00<?, ?it/s]",
      "application/vnd.jupyter.widget-view+json": {
       "version_major": 2,
       "version_minor": 0,
       "model_id": "943eda09a8b346e98a39dccd0207aa26"
      }
     },
     "metadata": {},
     "output_type": "display_data"
    },
    {
     "data": {
      "text/plain": "  0%|          | 0/800 [00:00<?, ?it/s]",
      "application/vnd.jupyter.widget-view+json": {
       "version_major": 2,
       "version_minor": 0,
       "model_id": "8a1c816bdcc740359945a813a4878708"
      }
     },
     "metadata": {},
     "output_type": "display_data"
    },
    {
     "data": {
      "text/plain": "  0%|          | 0/800 [00:00<?, ?it/s]",
      "application/vnd.jupyter.widget-view+json": {
       "version_major": 2,
       "version_minor": 0,
       "model_id": "d0903ca5c97545a1b177a49677e734f0"
      }
     },
     "metadata": {},
     "output_type": "display_data"
    },
    {
     "data": {
      "text/plain": "  0%|          | 0/800 [00:00<?, ?it/s]",
      "application/vnd.jupyter.widget-view+json": {
       "version_major": 2,
       "version_minor": 0,
       "model_id": "847001af26654d928d0500f893c053bd"
      }
     },
     "metadata": {},
     "output_type": "display_data"
    },
    {
     "data": {
      "text/plain": "  0%|          | 0/800 [00:00<?, ?it/s]",
      "application/vnd.jupyter.widget-view+json": {
       "version_major": 2,
       "version_minor": 0,
       "model_id": "48a26117ca70434cb854f92ada45c896"
      }
     },
     "metadata": {},
     "output_type": "display_data"
    },
    {
     "data": {
      "text/plain": "  0%|          | 0/800 [00:00<?, ?it/s]",
      "application/vnd.jupyter.widget-view+json": {
       "version_major": 2,
       "version_minor": 0,
       "model_id": "d3c52fd75be343a398fbe95b0e1e75ea"
      }
     },
     "metadata": {},
     "output_type": "display_data"
    },
    {
     "data": {
      "text/plain": "  0%|          | 0/800 [00:00<?, ?it/s]",
      "application/vnd.jupyter.widget-view+json": {
       "version_major": 2,
       "version_minor": 0,
       "model_id": "514b74bca79c44f8af5ea745271ecf44"
      }
     },
     "metadata": {},
     "output_type": "display_data"
    },
    {
     "data": {
      "text/plain": "  0%|          | 0/800 [00:00<?, ?it/s]",
      "application/vnd.jupyter.widget-view+json": {
       "version_major": 2,
       "version_minor": 0,
       "model_id": "31239d29f760492a8fd5ec6969f80e99"
      }
     },
     "metadata": {},
     "output_type": "display_data"
    },
    {
     "data": {
      "text/plain": "  0%|          | 0/800 [00:00<?, ?it/s]",
      "application/vnd.jupyter.widget-view+json": {
       "version_major": 2,
       "version_minor": 0,
       "model_id": "66a59e2f838f48cc879189d113d14cef"
      }
     },
     "metadata": {},
     "output_type": "display_data"
    },
    {
     "data": {
      "text/plain": "  0%|          | 0/800 [00:00<?, ?it/s]",
      "application/vnd.jupyter.widget-view+json": {
       "version_major": 2,
       "version_minor": 0,
       "model_id": "66e8550ca29a43fd97d4fd6bc03e485e"
      }
     },
     "metadata": {},
     "output_type": "display_data"
    },
    {
     "data": {
      "text/plain": "  0%|          | 0/800 [00:00<?, ?it/s]",
      "application/vnd.jupyter.widget-view+json": {
       "version_major": 2,
       "version_minor": 0,
       "model_id": "8c814b7ad5e14edcaebe99cd0d4d85b8"
      }
     },
     "metadata": {},
     "output_type": "display_data"
    },
    {
     "data": {
      "text/plain": "  0%|          | 0/800 [00:00<?, ?it/s]",
      "application/vnd.jupyter.widget-view+json": {
       "version_major": 2,
       "version_minor": 0,
       "model_id": "642efdef4ee141819fed4ff1acb766dd"
      }
     },
     "metadata": {},
     "output_type": "display_data"
    },
    {
     "data": {
      "text/plain": "  0%|          | 0/800 [00:00<?, ?it/s]",
      "application/vnd.jupyter.widget-view+json": {
       "version_major": 2,
       "version_minor": 0,
       "model_id": "71721ddc75c14a83aa85945593d858be"
      }
     },
     "metadata": {},
     "output_type": "display_data"
    },
    {
     "data": {
      "text/plain": "  0%|          | 0/800 [00:00<?, ?it/s]",
      "application/vnd.jupyter.widget-view+json": {
       "version_major": 2,
       "version_minor": 0,
       "model_id": "6e96668293d3455798b259ead5021b0c"
      }
     },
     "metadata": {},
     "output_type": "display_data"
    },
    {
     "data": {
      "text/plain": "  0%|          | 0/800 [00:00<?, ?it/s]",
      "application/vnd.jupyter.widget-view+json": {
       "version_major": 2,
       "version_minor": 0,
       "model_id": "f053960afd5a4b55ac4ab98beda435a1"
      }
     },
     "metadata": {},
     "output_type": "display_data"
    },
    {
     "data": {
      "text/plain": "  0%|          | 0/800 [00:00<?, ?it/s]",
      "application/vnd.jupyter.widget-view+json": {
       "version_major": 2,
       "version_minor": 0,
       "model_id": "d9b59de3f90c40cdad9b83dda26987cc"
      }
     },
     "metadata": {},
     "output_type": "display_data"
    },
    {
     "data": {
      "text/plain": "  0%|          | 0/800 [00:00<?, ?it/s]",
      "application/vnd.jupyter.widget-view+json": {
       "version_major": 2,
       "version_minor": 0,
       "model_id": "a74ad71c592e42fda84edf4604a57617"
      }
     },
     "metadata": {},
     "output_type": "display_data"
    },
    {
     "data": {
      "text/plain": "  0%|          | 0/800 [00:00<?, ?it/s]",
      "application/vnd.jupyter.widget-view+json": {
       "version_major": 2,
       "version_minor": 0,
       "model_id": "b887c62e0d9c4c55ba751b6a616e878b"
      }
     },
     "metadata": {},
     "output_type": "display_data"
    },
    {
     "data": {
      "text/plain": "  0%|          | 0/800 [00:00<?, ?it/s]",
      "application/vnd.jupyter.widget-view+json": {
       "version_major": 2,
       "version_minor": 0,
       "model_id": "d0feb16a87e34609a7a25287a22e9754"
      }
     },
     "metadata": {},
     "output_type": "display_data"
    },
    {
     "data": {
      "text/plain": "  0%|          | 0/800 [00:00<?, ?it/s]",
      "application/vnd.jupyter.widget-view+json": {
       "version_major": 2,
       "version_minor": 0,
       "model_id": "8e8f0534776544ce80eff13166964e08"
      }
     },
     "metadata": {},
     "output_type": "display_data"
    },
    {
     "data": {
      "text/plain": "  0%|          | 0/800 [00:00<?, ?it/s]",
      "application/vnd.jupyter.widget-view+json": {
       "version_major": 2,
       "version_minor": 0,
       "model_id": "4151d20d7fb745ddbd52b5ddbecc30a8"
      }
     },
     "metadata": {},
     "output_type": "display_data"
    },
    {
     "data": {
      "text/plain": "  0%|          | 0/800 [00:00<?, ?it/s]",
      "application/vnd.jupyter.widget-view+json": {
       "version_major": 2,
       "version_minor": 0,
       "model_id": "e1a46d10e79749ed81c737d9dd216999"
      }
     },
     "metadata": {},
     "output_type": "display_data"
    },
    {
     "data": {
      "text/plain": "  0%|          | 0/800 [00:00<?, ?it/s]",
      "application/vnd.jupyter.widget-view+json": {
       "version_major": 2,
       "version_minor": 0,
       "model_id": "6603494f63494be7af8927163a2e719a"
      }
     },
     "metadata": {},
     "output_type": "display_data"
    },
    {
     "data": {
      "text/plain": "  0%|          | 0/800 [00:00<?, ?it/s]",
      "application/vnd.jupyter.widget-view+json": {
       "version_major": 2,
       "version_minor": 0,
       "model_id": "b684114cb5394186808ce7fdbea87e29"
      }
     },
     "metadata": {},
     "output_type": "display_data"
    },
    {
     "data": {
      "text/plain": "  0%|          | 0/800 [00:00<?, ?it/s]",
      "application/vnd.jupyter.widget-view+json": {
       "version_major": 2,
       "version_minor": 0,
       "model_id": "da99108b95be4264b4230c6557c014e5"
      }
     },
     "metadata": {},
     "output_type": "display_data"
    },
    {
     "data": {
      "text/plain": "  0%|          | 0/800 [00:00<?, ?it/s]",
      "application/vnd.jupyter.widget-view+json": {
       "version_major": 2,
       "version_minor": 0,
       "model_id": "f8921e56d81b41778983bf25077c9b89"
      }
     },
     "metadata": {},
     "output_type": "display_data"
    },
    {
     "data": {
      "text/plain": "  0%|          | 0/800 [00:00<?, ?it/s]",
      "application/vnd.jupyter.widget-view+json": {
       "version_major": 2,
       "version_minor": 0,
       "model_id": "84fda2cbcd7541c4becf889728004e73"
      }
     },
     "metadata": {},
     "output_type": "display_data"
    },
    {
     "data": {
      "text/plain": "  0%|          | 0/800 [00:00<?, ?it/s]",
      "application/vnd.jupyter.widget-view+json": {
       "version_major": 2,
       "version_minor": 0,
       "model_id": "f7dbc6542a334d20838a133ee4b35ffc"
      }
     },
     "metadata": {},
     "output_type": "display_data"
    },
    {
     "data": {
      "text/plain": "  0%|          | 0/800 [00:00<?, ?it/s]",
      "application/vnd.jupyter.widget-view+json": {
       "version_major": 2,
       "version_minor": 0,
       "model_id": "aa731648ea07417a8a8b1e9c12fb6969"
      }
     },
     "metadata": {},
     "output_type": "display_data"
    },
    {
     "data": {
      "text/plain": "  0%|          | 0/800 [00:00<?, ?it/s]",
      "application/vnd.jupyter.widget-view+json": {
       "version_major": 2,
       "version_minor": 0,
       "model_id": "7e66285d2f8a442da07b1a704f5808d2"
      }
     },
     "metadata": {},
     "output_type": "display_data"
    },
    {
     "data": {
      "text/plain": "  0%|          | 0/800 [00:00<?, ?it/s]",
      "application/vnd.jupyter.widget-view+json": {
       "version_major": 2,
       "version_minor": 0,
       "model_id": "22874c18adb24f0db10e098ab01fcd7c"
      }
     },
     "metadata": {},
     "output_type": "display_data"
    },
    {
     "data": {
      "text/plain": "  0%|          | 0/800 [00:00<?, ?it/s]",
      "application/vnd.jupyter.widget-view+json": {
       "version_major": 2,
       "version_minor": 0,
       "model_id": "46b6af5de99744c38a3e655ca310b4c3"
      }
     },
     "metadata": {},
     "output_type": "display_data"
    },
    {
     "data": {
      "text/plain": "  0%|          | 0/800 [00:00<?, ?it/s]",
      "application/vnd.jupyter.widget-view+json": {
       "version_major": 2,
       "version_minor": 0,
       "model_id": "ce8a9063a17a498d98d3bb80943e569a"
      }
     },
     "metadata": {},
     "output_type": "display_data"
    },
    {
     "data": {
      "text/plain": "  0%|          | 0/800 [00:00<?, ?it/s]",
      "application/vnd.jupyter.widget-view+json": {
       "version_major": 2,
       "version_minor": 0,
       "model_id": "224023df04e748dc9d1e15541ddb2f33"
      }
     },
     "metadata": {},
     "output_type": "display_data"
    },
    {
     "data": {
      "text/plain": "  0%|          | 0/800 [00:00<?, ?it/s]",
      "application/vnd.jupyter.widget-view+json": {
       "version_major": 2,
       "version_minor": 0,
       "model_id": "72adc99382cc46dca24acbd28e2eca48"
      }
     },
     "metadata": {},
     "output_type": "display_data"
    },
    {
     "data": {
      "text/plain": "  0%|          | 0/800 [00:00<?, ?it/s]",
      "application/vnd.jupyter.widget-view+json": {
       "version_major": 2,
       "version_minor": 0,
       "model_id": "46953830fcdb48fabe75531da370c924"
      }
     },
     "metadata": {},
     "output_type": "display_data"
    },
    {
     "data": {
      "text/plain": "  0%|          | 0/800 [00:00<?, ?it/s]",
      "application/vnd.jupyter.widget-view+json": {
       "version_major": 2,
       "version_minor": 0,
       "model_id": "bdd047bfcdec4168a839c5a6054d67ea"
      }
     },
     "metadata": {},
     "output_type": "display_data"
    },
    {
     "data": {
      "text/plain": "  0%|          | 0/800 [00:00<?, ?it/s]",
      "application/vnd.jupyter.widget-view+json": {
       "version_major": 2,
       "version_minor": 0,
       "model_id": "4d489558c78f4b2bb5e6127a0f090ed9"
      }
     },
     "metadata": {},
     "output_type": "display_data"
    },
    {
     "data": {
      "text/plain": "  0%|          | 0/800 [00:00<?, ?it/s]",
      "application/vnd.jupyter.widget-view+json": {
       "version_major": 2,
       "version_minor": 0,
       "model_id": "585edc45843442eb94aee4aae8a7613b"
      }
     },
     "metadata": {},
     "output_type": "display_data"
    },
    {
     "data": {
      "text/plain": "  0%|          | 0/800 [00:00<?, ?it/s]",
      "application/vnd.jupyter.widget-view+json": {
       "version_major": 2,
       "version_minor": 0,
       "model_id": "8fd9eb0ae8f94c4fb694ca651dcf4a63"
      }
     },
     "metadata": {},
     "output_type": "display_data"
    },
    {
     "data": {
      "text/plain": "  0%|          | 0/800 [00:00<?, ?it/s]",
      "application/vnd.jupyter.widget-view+json": {
       "version_major": 2,
       "version_minor": 0,
       "model_id": "41a70ac16527424c88df76e3bb5e0d63"
      }
     },
     "metadata": {},
     "output_type": "display_data"
    },
    {
     "data": {
      "text/plain": "  0%|          | 0/800 [00:00<?, ?it/s]",
      "application/vnd.jupyter.widget-view+json": {
       "version_major": 2,
       "version_minor": 0,
       "model_id": "04d1c8e6541d4e139278aa7e77f35557"
      }
     },
     "metadata": {},
     "output_type": "display_data"
    },
    {
     "data": {
      "text/plain": "  0%|          | 0/800 [00:00<?, ?it/s]",
      "application/vnd.jupyter.widget-view+json": {
       "version_major": 2,
       "version_minor": 0,
       "model_id": "71b9ca862fc74a05b6ead4364bb45492"
      }
     },
     "metadata": {},
     "output_type": "display_data"
    },
    {
     "data": {
      "text/plain": "  0%|          | 0/800 [00:00<?, ?it/s]",
      "application/vnd.jupyter.widget-view+json": {
       "version_major": 2,
       "version_minor": 0,
       "model_id": "a0c59374734e4029b3897898f4474e7f"
      }
     },
     "metadata": {},
     "output_type": "display_data"
    },
    {
     "data": {
      "text/plain": "  0%|          | 0/800 [00:00<?, ?it/s]",
      "application/vnd.jupyter.widget-view+json": {
       "version_major": 2,
       "version_minor": 0,
       "model_id": "ca5890ac7044464885651193da1a1358"
      }
     },
     "metadata": {},
     "output_type": "display_data"
    },
    {
     "data": {
      "text/plain": "  0%|          | 0/800 [00:00<?, ?it/s]",
      "application/vnd.jupyter.widget-view+json": {
       "version_major": 2,
       "version_minor": 0,
       "model_id": "c9de5ff023ed475fa19a7d24204d686e"
      }
     },
     "metadata": {},
     "output_type": "display_data"
    },
    {
     "data": {
      "text/plain": "  0%|          | 0/800 [00:00<?, ?it/s]",
      "application/vnd.jupyter.widget-view+json": {
       "version_major": 2,
       "version_minor": 0,
       "model_id": "ec54c78a409f435baa0272d1ce22cd69"
      }
     },
     "metadata": {},
     "output_type": "display_data"
    },
    {
     "data": {
      "text/plain": "  0%|          | 0/800 [00:00<?, ?it/s]",
      "application/vnd.jupyter.widget-view+json": {
       "version_major": 2,
       "version_minor": 0,
       "model_id": "a63932bb492b4080b149aced64a48914"
      }
     },
     "metadata": {},
     "output_type": "display_data"
    },
    {
     "data": {
      "text/plain": "  0%|          | 0/800 [00:00<?, ?it/s]",
      "application/vnd.jupyter.widget-view+json": {
       "version_major": 2,
       "version_minor": 0,
       "model_id": "1b65625912484cc5b3198b12c37f51a3"
      }
     },
     "metadata": {},
     "output_type": "display_data"
    },
    {
     "data": {
      "text/plain": "  0%|          | 0/800 [00:00<?, ?it/s]",
      "application/vnd.jupyter.widget-view+json": {
       "version_major": 2,
       "version_minor": 0,
       "model_id": "5fba51a9c7f644d5a90daa9dc5877420"
      }
     },
     "metadata": {},
     "output_type": "display_data"
    },
    {
     "data": {
      "text/plain": "  0%|          | 0/800 [00:00<?, ?it/s]",
      "application/vnd.jupyter.widget-view+json": {
       "version_major": 2,
       "version_minor": 0,
       "model_id": "587cec01b1034bdf8782948babf3f999"
      }
     },
     "metadata": {},
     "output_type": "display_data"
    },
    {
     "data": {
      "text/plain": "  0%|          | 0/800 [00:00<?, ?it/s]",
      "application/vnd.jupyter.widget-view+json": {
       "version_major": 2,
       "version_minor": 0,
       "model_id": "33c8814ebb9c4122ac39c6cee56386d2"
      }
     },
     "metadata": {},
     "output_type": "display_data"
    },
    {
     "data": {
      "text/plain": "  0%|          | 0/800 [00:00<?, ?it/s]",
      "application/vnd.jupyter.widget-view+json": {
       "version_major": 2,
       "version_minor": 0,
       "model_id": "57fb97e9f4614d93b917a72097dc4c94"
      }
     },
     "metadata": {},
     "output_type": "display_data"
    },
    {
     "data": {
      "text/plain": "  0%|          | 0/800 [00:00<?, ?it/s]",
      "application/vnd.jupyter.widget-view+json": {
       "version_major": 2,
       "version_minor": 0,
       "model_id": "a44f0256f2534e5ba817cf31efd99e5c"
      }
     },
     "metadata": {},
     "output_type": "display_data"
    },
    {
     "data": {
      "text/plain": "  0%|          | 0/800 [00:00<?, ?it/s]",
      "application/vnd.jupyter.widget-view+json": {
       "version_major": 2,
       "version_minor": 0,
       "model_id": "53792408f7554741a127770544addfb1"
      }
     },
     "metadata": {},
     "output_type": "display_data"
    },
    {
     "data": {
      "text/plain": "  0%|          | 0/800 [00:00<?, ?it/s]",
      "application/vnd.jupyter.widget-view+json": {
       "version_major": 2,
       "version_minor": 0,
       "model_id": "65f45254de0c4f2bb0178b696ea15921"
      }
     },
     "metadata": {},
     "output_type": "display_data"
    },
    {
     "data": {
      "text/plain": "  0%|          | 0/800 [00:00<?, ?it/s]",
      "application/vnd.jupyter.widget-view+json": {
       "version_major": 2,
       "version_minor": 0,
       "model_id": "8354f297d3d74647aaaf6da2d29cb7e5"
      }
     },
     "metadata": {},
     "output_type": "display_data"
    },
    {
     "data": {
      "text/plain": "  0%|          | 0/800 [00:00<?, ?it/s]",
      "application/vnd.jupyter.widget-view+json": {
       "version_major": 2,
       "version_minor": 0,
       "model_id": "c01b1d12720b40e984ca121f63838126"
      }
     },
     "metadata": {},
     "output_type": "display_data"
    },
    {
     "data": {
      "text/plain": "  0%|          | 0/800 [00:00<?, ?it/s]",
      "application/vnd.jupyter.widget-view+json": {
       "version_major": 2,
       "version_minor": 0,
       "model_id": "2811dd744b5c4bf9b42daefbf87d948c"
      }
     },
     "metadata": {},
     "output_type": "display_data"
    },
    {
     "data": {
      "text/plain": "  0%|          | 0/800 [00:00<?, ?it/s]",
      "application/vnd.jupyter.widget-view+json": {
       "version_major": 2,
       "version_minor": 0,
       "model_id": "1464f9813cd94d5a95697a056f0cbd28"
      }
     },
     "metadata": {},
     "output_type": "display_data"
    },
    {
     "data": {
      "text/plain": "  0%|          | 0/800 [00:00<?, ?it/s]",
      "application/vnd.jupyter.widget-view+json": {
       "version_major": 2,
       "version_minor": 0,
       "model_id": "5865c9c5577d4ef887e8c071077ec09a"
      }
     },
     "metadata": {},
     "output_type": "display_data"
    },
    {
     "data": {
      "text/plain": "  0%|          | 0/800 [00:00<?, ?it/s]",
      "application/vnd.jupyter.widget-view+json": {
       "version_major": 2,
       "version_minor": 0,
       "model_id": "63e9ef6826a941a490ae248490921d27"
      }
     },
     "metadata": {},
     "output_type": "display_data"
    },
    {
     "data": {
      "text/plain": "  0%|          | 0/800 [00:00<?, ?it/s]",
      "application/vnd.jupyter.widget-view+json": {
       "version_major": 2,
       "version_minor": 0,
       "model_id": "cfbe09d14f9342b48a900d96997a537d"
      }
     },
     "metadata": {},
     "output_type": "display_data"
    },
    {
     "data": {
      "text/plain": "  0%|          | 0/800 [00:00<?, ?it/s]",
      "application/vnd.jupyter.widget-view+json": {
       "version_major": 2,
       "version_minor": 0,
       "model_id": "8daf9c331f23459bb5beace2c256a6f1"
      }
     },
     "metadata": {},
     "output_type": "display_data"
    },
    {
     "data": {
      "text/plain": "  0%|          | 0/800 [00:00<?, ?it/s]",
      "application/vnd.jupyter.widget-view+json": {
       "version_major": 2,
       "version_minor": 0,
       "model_id": "a3c215ad0f8f4f63893a56683723ac34"
      }
     },
     "metadata": {},
     "output_type": "display_data"
    },
    {
     "data": {
      "text/plain": "  0%|          | 0/800 [00:00<?, ?it/s]",
      "application/vnd.jupyter.widget-view+json": {
       "version_major": 2,
       "version_minor": 0,
       "model_id": "379e2d26a7874cf0b6a85b9fbb11ec9a"
      }
     },
     "metadata": {},
     "output_type": "display_data"
    },
    {
     "data": {
      "text/plain": "  0%|          | 0/800 [00:00<?, ?it/s]",
      "application/vnd.jupyter.widget-view+json": {
       "version_major": 2,
       "version_minor": 0,
       "model_id": "fc4f4dab8255447da022d9b6eeb82ba0"
      }
     },
     "metadata": {},
     "output_type": "display_data"
    },
    {
     "data": {
      "text/plain": "  0%|          | 0/800 [00:00<?, ?it/s]",
      "application/vnd.jupyter.widget-view+json": {
       "version_major": 2,
       "version_minor": 0,
       "model_id": "f9f9220bdd9d49ac878431100e85a6ae"
      }
     },
     "metadata": {},
     "output_type": "display_data"
    },
    {
     "data": {
      "text/plain": "  0%|          | 0/800 [00:00<?, ?it/s]",
      "application/vnd.jupyter.widget-view+json": {
       "version_major": 2,
       "version_minor": 0,
       "model_id": "6852def99c0e41089575758d2cdd725a"
      }
     },
     "metadata": {},
     "output_type": "display_data"
    },
    {
     "data": {
      "text/plain": "  0%|          | 0/800 [00:00<?, ?it/s]",
      "application/vnd.jupyter.widget-view+json": {
       "version_major": 2,
       "version_minor": 0,
       "model_id": "ca1904e9d1e04794b58a5c3bcacf6114"
      }
     },
     "metadata": {},
     "output_type": "display_data"
    },
    {
     "data": {
      "text/plain": "  0%|          | 0/800 [00:00<?, ?it/s]",
      "application/vnd.jupyter.widget-view+json": {
       "version_major": 2,
       "version_minor": 0,
       "model_id": "4e471ccb5b004f7c9c254d0bf08a2387"
      }
     },
     "metadata": {},
     "output_type": "display_data"
    },
    {
     "data": {
      "text/plain": "  0%|          | 0/800 [00:00<?, ?it/s]",
      "application/vnd.jupyter.widget-view+json": {
       "version_major": 2,
       "version_minor": 0,
       "model_id": "1e2ae8be0fce41dfb7b8236bf5e31e71"
      }
     },
     "metadata": {},
     "output_type": "display_data"
    },
    {
     "data": {
      "text/plain": "  0%|          | 0/800 [00:00<?, ?it/s]",
      "application/vnd.jupyter.widget-view+json": {
       "version_major": 2,
       "version_minor": 0,
       "model_id": "42ffa4c02fc84c6c9e597b54f78c435b"
      }
     },
     "metadata": {},
     "output_type": "display_data"
    },
    {
     "data": {
      "text/plain": "  0%|          | 0/800 [00:00<?, ?it/s]",
      "application/vnd.jupyter.widget-view+json": {
       "version_major": 2,
       "version_minor": 0,
       "model_id": "466db604ed984c29baa9fe83abc8b794"
      }
     },
     "metadata": {},
     "output_type": "display_data"
    },
    {
     "data": {
      "text/plain": "  0%|          | 0/800 [00:00<?, ?it/s]",
      "application/vnd.jupyter.widget-view+json": {
       "version_major": 2,
       "version_minor": 0,
       "model_id": "0307868cb5cf40d3b1a3c986c8244082"
      }
     },
     "metadata": {},
     "output_type": "display_data"
    },
    {
     "data": {
      "text/plain": "  0%|          | 0/800 [00:00<?, ?it/s]",
      "application/vnd.jupyter.widget-view+json": {
       "version_major": 2,
       "version_minor": 0,
       "model_id": "d52ae13a08eb4c8a88cfa597993b860f"
      }
     },
     "metadata": {},
     "output_type": "display_data"
    },
    {
     "data": {
      "text/plain": "  0%|          | 0/800 [00:00<?, ?it/s]",
      "application/vnd.jupyter.widget-view+json": {
       "version_major": 2,
       "version_minor": 0,
       "model_id": "7930de3c28b14e7e983a8ef125f7073f"
      }
     },
     "metadata": {},
     "output_type": "display_data"
    },
    {
     "data": {
      "text/plain": "  0%|          | 0/800 [00:00<?, ?it/s]",
      "application/vnd.jupyter.widget-view+json": {
       "version_major": 2,
       "version_minor": 0,
       "model_id": "fbd13f0d1c574db4a404f3bf788b47f3"
      }
     },
     "metadata": {},
     "output_type": "display_data"
    },
    {
     "data": {
      "text/plain": "  0%|          | 0/800 [00:00<?, ?it/s]",
      "application/vnd.jupyter.widget-view+json": {
       "version_major": 2,
       "version_minor": 0,
       "model_id": "04890aa9d0a34b10bf027452f4ddcccf"
      }
     },
     "metadata": {},
     "output_type": "display_data"
    },
    {
     "data": {
      "text/plain": "  0%|          | 0/800 [00:00<?, ?it/s]",
      "application/vnd.jupyter.widget-view+json": {
       "version_major": 2,
       "version_minor": 0,
       "model_id": "b549e23800ae4890af0692d8b6cd0435"
      }
     },
     "metadata": {},
     "output_type": "display_data"
    },
    {
     "data": {
      "text/plain": "  0%|          | 0/800 [00:00<?, ?it/s]",
      "application/vnd.jupyter.widget-view+json": {
       "version_major": 2,
       "version_minor": 0,
       "model_id": "3d1d49fefc8d43158d2eb23e18edc459"
      }
     },
     "metadata": {},
     "output_type": "display_data"
    },
    {
     "data": {
      "text/plain": "  0%|          | 0/800 [00:00<?, ?it/s]",
      "application/vnd.jupyter.widget-view+json": {
       "version_major": 2,
       "version_minor": 0,
       "model_id": "16cba5cfebcc42c5a0752bd24838b8c2"
      }
     },
     "metadata": {},
     "output_type": "display_data"
    },
    {
     "data": {
      "text/plain": "  0%|          | 0/800 [00:00<?, ?it/s]",
      "application/vnd.jupyter.widget-view+json": {
       "version_major": 2,
       "version_minor": 0,
       "model_id": "1ad21824f6b343bb82cd778ea92af479"
      }
     },
     "metadata": {},
     "output_type": "display_data"
    },
    {
     "data": {
      "text/plain": "  0%|          | 0/800 [00:00<?, ?it/s]",
      "application/vnd.jupyter.widget-view+json": {
       "version_major": 2,
       "version_minor": 0,
       "model_id": "a07f1cf82120418f871f9e5c24d814a0"
      }
     },
     "metadata": {},
     "output_type": "display_data"
    },
    {
     "data": {
      "text/plain": "  0%|          | 0/800 [00:00<?, ?it/s]",
      "application/vnd.jupyter.widget-view+json": {
       "version_major": 2,
       "version_minor": 0,
       "model_id": "14df74384c30422ab7ee76ed2ed60f6e"
      }
     },
     "metadata": {},
     "output_type": "display_data"
    }
   ],
   "source": [
    "import json\n",
    "loss_value_disc = {}\n",
    "loss_value_gen = {}\n",
    "total_epoch = 0\n",
    "epoch_step = 100\n",
    "for i in range(10):\n",
    "    disc_loss, gen_loss = training_bce(gen, disc, z_dim, epoch_step, my_dataloader,\n",
    "                                       device, disc_opt, gen_opt, display_step)\n",
    "    total_epoch += epoch_step\n",
    "    pro_out.save_model(gen, disc, 'model', total_epoch)\n",
    "    loss_value_disc[f'epoch{total_epoch}'] = disc_loss\n",
    "    loss_value_gen[f'epoch{total_epoch}'] = gen_loss\n",
    "with open('gen_loss.json', 'w') as fp:\n",
    "    json.dump(loss_value_gen, fp)\n",
    "with open('disc_loss.json', 'w') as fp:\n",
    "    json.dump(loss_value_disc, fp)"
   ],
   "metadata": {
    "collapsed": false,
    "pycharm": {
     "name": "#%%\n"
    }
   }
  },
  {
   "cell_type": "code",
   "execution_count": null,
   "outputs": [],
   "source": [],
   "metadata": {
    "collapsed": false,
    "pycharm": {
     "name": "#%%\n"
    }
   }
  }
 ],
 "metadata": {
  "kernelspec": {
   "display_name": "Python 3",
   "language": "python",
   "name": "python3"
  },
  "language_info": {
   "codemirror_mode": {
    "name": "ipython",
    "version": 2
   },
   "file_extension": ".py",
   "mimetype": "text/x-python",
   "name": "python",
   "nbconvert_exporter": "python",
   "pygments_lexer": "ipython2",
   "version": "2.7.6"
  }
 },
 "nbformat": 4,
 "nbformat_minor": 0
}
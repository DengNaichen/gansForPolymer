{
 "cells": [
  {
   "cell_type": "code",
   "execution_count": 1,
   "metadata": {
    "collapsed": true
   },
   "outputs": [],
   "source": [
    "import torch\n",
    "import matplotlib.pyplot as plt\n",
    "import six_layers as model\n",
    "import Naicheng.res.process_data.process_output as pro_out\n",
    "import Naicheng.res.process_data.process_raw_data as pr\n",
    "import Naicheng.res.process_data.dire_and_coor as dc\n",
    "import Naicheng.res.process_data.loop_overlap as lp\n",
    "from Naicheng.res.process_data.dataset import tensor_dataset\n",
    "from torch.utils.data import DataLoader\n",
    "import seaborn as sns\n",
    "import Naicheng.res.fnn.functions as func\n",
    "import Naicheng.res.process_data.analysis_model as am\n",
    "import numpy as np\n",
    "import json\n",
    "import Naicheng.res.process_data.rg2 as rg\n",
    "from Naicheng.res.fnn.training import training_bce\n",
    "import Naicheng.res.process_data.one_hot as oh"
   ]
  },
  {
   "cell_type": "code",
   "execution_count": 2,
   "outputs": [],
   "source": [
    "three_direction = np.load('../../data/three_sixteen_fourteen.npy')\n",
    "three_direction_input = np.load('../../data/three_directions.npy')\n",
    "input_coordinates = np.load('../../data/coordinates.npy')"
   ],
   "metadata": {
    "collapsed": false,
    "pycharm": {
     "name": "#%%\n"
    }
   }
  },
  {
   "cell_type": "code",
   "execution_count": 3,
   "outputs": [],
   "source": [
    "three_one_hot = oh.one_hot_three(three_direction_input)\n",
    "np.save('../../data/one_hot_three.npy', three_one_hot)"
   ],
   "metadata": {
    "collapsed": false,
    "pycharm": {
     "name": "#%%\n"
    }
   }
  },
  {
   "cell_type": "code",
   "execution_count": 4,
   "outputs": [],
   "source": [
    "shuffle = True\n",
    "batch_size = 125\n",
    "num_worker = 0\n",
    "pin_memory = True\n",
    "input_tensor = torch.Tensor(three_one_hot)\n",
    "my_dataset = tensor_dataset(input_tensor, 45, 1)\n",
    "my_dataloader = DataLoader(dataset= my_dataset,\n",
    "                            shuffle=shuffle,\n",
    "                            batch_size=batch_size,\n",
    "                            num_workers=num_worker,\n",
    "                            pin_memory=pin_memory)"
   ],
   "metadata": {
    "collapsed": false,
    "pycharm": {
     "name": "#%%\n"
    }
   }
  },
  {
   "cell_type": "code",
   "execution_count": 5,
   "outputs": [],
   "source": [
    "device = 'cuda' if torch.cuda.is_available() else 'cpu'\n",
    "z_dim = 8\n",
    "lr = 0.0001\n",
    "gen = model.GeneratorNet()\n",
    "gen_opt = torch.optim.Adam(gen.parameters(), lr = lr)\n",
    "disc = model.DiscriminatorNet()\n",
    "disc_opt = torch.optim.Adam(disc.parameters(), lr = lr)"
   ],
   "metadata": {
    "collapsed": false,
    "pycharm": {
     "name": "#%%\n"
    }
   }
  },
  {
   "cell_type": "code",
   "execution_count": 6,
   "outputs": [
    {
     "data": {
      "text/plain": "<All keys matched successfully>"
     },
     "execution_count": 6,
     "metadata": {},
     "output_type": "execute_result"
    }
   ],
   "source": [
    "display_step = 782\n",
    "epoch = 1300\n",
    "model_name = f'model_gan_{epoch}.pth.tar'\n",
    "check_point_gen = torch.load(f'model_gan_{epoch}.pth.tar')\n",
    "check_point_disc = torch.load(f'model_disc_{epoch}.pth.tar')\n",
    "gen.load_state_dict(check_point_gen['gen_state_dict'])\n",
    "disc.load_state_dict(check_point_disc['disc_state_dict'])"
   ],
   "metadata": {
    "collapsed": false,
    "pycharm": {
     "name": "#%%\n"
    }
   }
  },
  {
   "cell_type": "code",
   "execution_count": 7,
   "outputs": [
    {
     "data": {
      "text/plain": "  0%|          | 0/800 [00:00<?, ?it/s]",
      "application/vnd.jupyter.widget-view+json": {
       "version_major": 2,
       "version_minor": 0,
       "model_id": "3e43275107ac4341a3e864ca9d01396b"
      }
     },
     "metadata": {},
     "output_type": "display_data"
    },
    {
     "name": "stdout",
     "output_type": "stream",
     "text": [
      "Epoch 0, step 782: Generator loss: 5.5318423787041455, discriminator loss: 0.022359999942074014\n",
      "Epoch 1, step 1564: Generator loss: 5.476074332776277, discriminator loss: 0.022804223559260865\n",
      "Epoch 2, step 2346: Generator loss: 5.489755996962641, discriminator loss: 0.022332834237066997\n",
      "Epoch 3, step 3128: Generator loss: 5.529941894209299, discriminator loss: 0.022312863343133288\n",
      "Epoch 4, step 3910: Generator loss: 5.489834861072432, discriminator loss: 0.022429648074297648\n",
      "Epoch 5, step 4692: Generator loss: 5.511711654760642, discriminator loss: 0.02243533708206365\n",
      "Epoch 6, step 5474: Generator loss: 5.502976896817729, discriminator loss: 0.022273541499605712\n",
      "Epoch 7, step 6256: Generator loss: 5.5059897454498365, discriminator loss: 0.022414467304937832\n",
      "Epoch 8, step 7038: Generator loss: 5.507407081096683, discriminator loss: 0.02264233687809191\n",
      "Epoch 9, step 7820: Generator loss: 5.4926638737359, discriminator loss: 0.022591699234536307\n",
      "Epoch 10, step 8602: Generator loss: 5.489864244485452, discriminator loss: 0.021957605383763804\n",
      "Epoch 11, step 9384: Generator loss: 5.459469898277541, discriminator loss: 0.023031535665290273\n",
      "Epoch 12, step 10166: Generator loss: 5.481675519967625, discriminator loss: 0.022551488200359803\n",
      "Epoch 13, step 10948: Generator loss: 5.535783460987813, discriminator loss: 0.021730077490472538\n",
      "Epoch 14, step 11730: Generator loss: 5.498975825736585, discriminator loss: 0.02246915806969749\n",
      "Epoch 15, step 12512: Generator loss: 5.534803174645698, discriminator loss: 0.02210326903753337\n",
      "Epoch 16, step 13294: Generator loss: 5.475118326713976, discriminator loss: 0.022198426657203896\n",
      "Epoch 17, step 14076: Generator loss: 5.521563194596859, discriminator loss: 0.022962360519289425\n",
      "Epoch 18, step 14858: Generator loss: 5.526363431950049, discriminator loss: 0.022244834384280706\n",
      "Epoch 19, step 15640: Generator loss: 5.49489796618976, discriminator loss: 0.02245059839087776\n",
      "Epoch 20, step 16422: Generator loss: 5.486308855778715, discriminator loss: 0.02279993335482998\n",
      "Epoch 21, step 17204: Generator loss: 5.565393688733618, discriminator loss: 0.021841096234164883\n",
      "Epoch 22, step 17986: Generator loss: 5.484773315127237, discriminator loss: 0.022526335373432706\n",
      "Epoch 23, step 18768: Generator loss: 5.485371842103843, discriminator loss: 0.022496583161141993\n",
      "Epoch 24, step 19550: Generator loss: 5.498730821682667, discriminator loss: 0.022630732400519084\n",
      "Epoch 25, step 20332: Generator loss: 5.489948608076479, discriminator loss: 0.022386947669067438\n",
      "Epoch 26, step 21114: Generator loss: 5.481996188688156, discriminator loss: 0.02258000944418324\n",
      "Epoch 27, step 21896: Generator loss: 5.457756560781725, discriminator loss: 0.02286208185749582\n",
      "Epoch 28, step 22678: Generator loss: 5.518931637029826, discriminator loss: 0.022024151181940326\n",
      "Epoch 29, step 23460: Generator loss: 5.49453558336439, discriminator loss: 0.022490471294518945\n",
      "Epoch 30, step 24242: Generator loss: 5.49883301483701, discriminator loss: 0.021985603823645727\n",
      "Epoch 31, step 25024: Generator loss: 5.436592959382046, discriminator loss: 0.023184051344175935\n",
      "Epoch 32, step 25806: Generator loss: 5.522139767551666, discriminator loss: 0.022150730842526736\n",
      "Epoch 33, step 26588: Generator loss: 5.442138973099502, discriminator loss: 0.022656187655992532\n",
      "Epoch 34, step 27370: Generator loss: 5.494259424526679, discriminator loss: 0.022419557710180563\n",
      "Epoch 35, step 28152: Generator loss: 5.500138185823058, discriminator loss: 0.022492478028787774\n",
      "Epoch 36, step 28934: Generator loss: 5.513174933850609, discriminator loss: 0.022023918748776083\n",
      "Epoch 37, step 29716: Generator loss: 5.528145975469025, discriminator loss: 0.022346818176827033\n",
      "Epoch 38, step 30498: Generator loss: 5.5139513973079906, discriminator loss: 0.021926874717664142\n",
      "Epoch 39, step 31280: Generator loss: 5.471722328449452, discriminator loss: 0.022585048949431703\n",
      "Epoch 40, step 32062: Generator loss: 5.575252291491581, discriminator loss: 0.022234135580694543\n",
      "Epoch 41, step 32844: Generator loss: 5.526610434817543, discriminator loss: 0.022187669815071632\n",
      "Epoch 42, step 33626: Generator loss: 5.4923966961443655, discriminator loss: 0.02241153939766451\n",
      "Epoch 43, step 34408: Generator loss: 5.528282428336572, discriminator loss: 0.02203073676900643\n",
      "Epoch 43, step 35190: Generator loss: 5.5359548888243095, discriminator loss: 0.022315970111383417\n",
      "Epoch 44, step 35972: Generator loss: 5.501194035000821, discriminator loss: 0.02234279459444782\n",
      "Epoch 45, step 36754: Generator loss: 5.511057136613697, discriminator loss: 0.022439166549486012\n",
      "Epoch 46, step 37536: Generator loss: 5.491215565015599, discriminator loss: 0.022172516425642802\n",
      "Epoch 47, step 38318: Generator loss: 5.5205586157796365, discriminator loss: 0.022063338846537505\n",
      "Epoch 48, step 39100: Generator loss: 5.483501483717234, discriminator loss: 0.022877327167688664\n",
      "Epoch 49, step 39882: Generator loss: 5.4969618808277945, discriminator loss: 0.022431338897577525\n",
      "Epoch 50, step 40664: Generator loss: 5.541179971012008, discriminator loss: 0.02194051466175995\n",
      "Epoch 51, step 41446: Generator loss: 5.525092054206078, discriminator loss: 0.02177406006160399\n",
      "Epoch 52, step 42228: Generator loss: 5.480227639912949, discriminator loss: 0.022818117896738033\n",
      "Epoch 53, step 43010: Generator loss: 5.535267581110412, discriminator loss: 0.02212828848257308\n",
      "Epoch 54, step 43792: Generator loss: 5.461375638956913, discriminator loss: 0.023023315715184327\n",
      "Epoch 55, step 44574: Generator loss: 5.496307162677541, discriminator loss: 0.022469133692745877\n",
      "Epoch 56, step 45356: Generator loss: 5.49871466348848, discriminator loss: 0.022291891684736657\n",
      "Epoch 57, step 46138: Generator loss: 5.513041176759369, discriminator loss: 0.022089686228648372\n",
      "Epoch 58, step 46920: Generator loss: 5.504784989539927, discriminator loss: 0.022404350747075672\n",
      "Epoch 59, step 47702: Generator loss: 5.47412651335187, discriminator loss: 0.022606796477837972\n",
      "Epoch 60, step 48484: Generator loss: 5.540200925544101, discriminator loss: 0.02247786478948117\n",
      "Epoch 61, step 49266: Generator loss: 5.476504583188031, discriminator loss: 0.02283247834865878\n",
      "Epoch 62, step 50048: Generator loss: 5.4792176012492835, discriminator loss: 0.022665940658629976\n",
      "Epoch 63, step 50830: Generator loss: 5.521704964625565, discriminator loss: 0.021817843314222155\n",
      "Epoch 64, step 51612: Generator loss: 5.532222986831087, discriminator loss: 0.02241171337961867\n",
      "Epoch 65, step 52394: Generator loss: 5.526445365622828, discriminator loss: 0.022070115538733174\n",
      "Epoch 66, step 53176: Generator loss: 5.517667768556444, discriminator loss: 0.022500558764628503\n",
      "Epoch 67, step 53958: Generator loss: 5.48734305520802, discriminator loss: 0.02250980787798573\n",
      "Epoch 68, step 54740: Generator loss: 5.514863631304571, discriminator loss: 0.02232311213748706\n",
      "Epoch 69, step 55522: Generator loss: 5.497849594906468, discriminator loss: 0.02207908150055171\n",
      "Epoch 70, step 56304: Generator loss: 5.527576270920543, discriminator loss: 0.022453664969045495\n",
      "Epoch 71, step 57086: Generator loss: 5.492900735581927, discriminator loss: 0.0225055042968091\n",
      "Epoch 72, step 57868: Generator loss: 5.5418376166497305, discriminator loss: 0.02179822382365908\n",
      "Epoch 73, step 58650: Generator loss: 5.512329846696785, discriminator loss: 0.02239013378820418\n",
      "Epoch 74, step 59432: Generator loss: 5.511049393802653, discriminator loss: 0.022870524053383245\n",
      "Epoch 75, step 60214: Generator loss: 5.596531003332498, discriminator loss: 0.021363948956858423\n",
      "Epoch 76, step 60996: Generator loss: 5.529361244967528, discriminator loss: 0.022661064107142512\n",
      "Epoch 77, step 61778: Generator loss: 5.527780914550544, discriminator loss: 0.02214024497804652\n",
      "Epoch 78, step 62560: Generator loss: 5.579203370891872, discriminator loss: 0.02156569068069996\n",
      "Epoch 79, step 63342: Generator loss: 5.523606361330629, discriminator loss: 0.022877980422590618\n",
      "Epoch 80, step 64124: Generator loss: 5.54761255915512, discriminator loss: 0.022288613932152455\n",
      "Epoch 81, step 64906: Generator loss: 5.531985313386261, discriminator loss: 0.02209514891550112\n",
      "Epoch 82, step 65688: Generator loss: 5.551636136706232, discriminator loss: 0.02191710815130187\n",
      "Epoch 83, step 66470: Generator loss: 5.511982620219745, discriminator loss: 0.022449014142698676\n",
      "Epoch 84, step 67252: Generator loss: 5.520556766358787, discriminator loss: 0.022261473736392253\n",
      "Epoch 85, step 68034: Generator loss: 5.465853402681667, discriminator loss: 0.022765469172840818\n",
      "Epoch 86, step 68816: Generator loss: 5.519177229508103, discriminator loss: 0.02232350914976075\n",
      "Epoch 86, step 69598: Generator loss: 5.471278093659968, discriminator loss: 0.022604829798478724\n",
      "Epoch 87, step 70380: Generator loss: 5.505369047374682, discriminator loss: 0.022486233150662678\n",
      "Epoch 88, step 71162: Generator loss: 5.508870740680743, discriminator loss: 0.022400030578055497\n",
      "Epoch 89, step 71944: Generator loss: 5.515081905647921, discriminator loss: 0.02246632644385003\n",
      "Epoch 90, step 72726: Generator loss: 5.473954066596065, discriminator loss: 0.022631826460399594\n",
      "Epoch 91, step 73508: Generator loss: 5.505439757691018, discriminator loss: 0.0220242022671272\n",
      "Epoch 92, step 74290: Generator loss: 5.496800379375059, discriminator loss: 0.02263365751531338\n",
      "Epoch 93, step 75072: Generator loss: 5.524282151780774, discriminator loss: 0.02205066817015878\n",
      "Epoch 94, step 75854: Generator loss: 5.525172606758452, discriminator loss: 0.02232500151349971\n",
      "Epoch 95, step 76636: Generator loss: 5.513692842420108, discriminator loss: 0.022487094571642437\n",
      "Epoch 96, step 77418: Generator loss: 5.528579291785166, discriminator loss: 0.02201242591766521\n",
      "Epoch 97, step 78200: Generator loss: 5.477543885140763, discriminator loss: 0.022395157865594\n",
      "Epoch 98, step 78982: Generator loss: 5.532625610566204, discriminator loss: 0.0220276421487398\n",
      "Epoch 99, step 79764: Generator loss: 5.548686533632789, discriminator loss: 0.021857184545217945\n",
      "Epoch 0, step 782: Generator loss: 5.522458130136481, discriminator loss: 0.02239125039990599\n",
      "Epoch 1, step 1564: Generator loss: 5.486549267073737, discriminator loss: 0.022365431780652992\n",
      "Epoch 2, step 2346: Generator loss: 5.527883257097603, discriminator loss: 0.022428970890241175\n",
      "Epoch 3, step 3128: Generator loss: 5.539022824343516, discriminator loss: 0.022099864515809368\n",
      "Epoch 4, step 3910: Generator loss: 5.451401340382178, discriminator loss: 0.02238071076613626\n",
      "Epoch 5, step 4692: Generator loss: 5.496558083902536, discriminator loss: 0.022674599860418507\n",
      "Epoch 6, step 5474: Generator loss: 5.506366217532732, discriminator loss: 0.022072028775420735\n",
      "Epoch 7, step 6256: Generator loss: 5.479122678946962, discriminator loss: 0.02242570879745303\n",
      "Epoch 8, step 7038: Generator loss: 5.488231989428815, discriminator loss: 0.021989686586096194\n",
      "Epoch 9, step 7820: Generator loss: 5.471795468684052, discriminator loss: 0.02256852608141931\n",
      "Epoch 10, step 8602: Generator loss: 5.531378287488546, discriminator loss: 0.021670038896419868\n",
      "Epoch 11, step 9384: Generator loss: 5.472871862713938, discriminator loss: 0.022867571745339394\n",
      "Epoch 12, step 10166: Generator loss: 5.5210909483682835, discriminator loss: 0.02196800689060535\n",
      "Epoch 13, step 10948: Generator loss: 5.461944891668645, discriminator loss: 0.02321530073670351\n",
      "Epoch 14, step 11730: Generator loss: 5.482048855413259, discriminator loss: 0.022981417596416392\n",
      "Epoch 15, step 12512: Generator loss: 5.511615143407645, discriminator loss: 0.0219944172781175\n",
      "Epoch 16, step 13294: Generator loss: 5.515932145326026, discriminator loss: 0.02223421451832167\n",
      "Epoch 17, step 14076: Generator loss: 5.513563331130822, discriminator loss: 0.022572529269680095\n",
      "Epoch 18, step 14858: Generator loss: 5.56223994020916, discriminator loss: 0.021866409012469026\n",
      "Epoch 19, step 15640: Generator loss: 5.520293541271663, discriminator loss: 0.022385421723825287\n",
      "Epoch 20, step 16422: Generator loss: 5.518706796724168, discriminator loss: 0.02253934087367524\n",
      "Epoch 21, step 17204: Generator loss: 5.565257430991246, discriminator loss: 0.02173587613765273\n",
      "Epoch 22, step 17986: Generator loss: 5.499926242682032, discriminator loss: 0.022267660812672466\n",
      "Epoch 23, step 18768: Generator loss: 5.487844055570915, discriminator loss: 0.022645579561081406\n",
      "Epoch 24, step 19550: Generator loss: 5.498157983545753, discriminator loss: 0.022325556867879758\n",
      "Epoch 25, step 20332: Generator loss: 5.479650301091811, discriminator loss: 0.0227166112914891\n",
      "Epoch 26, step 21114: Generator loss: 5.539860156490983, discriminator loss: 0.022244955507426268\n",
      "Epoch 27, step 21896: Generator loss: 5.534711421908015, discriminator loss: 0.0218413101802187\n",
      "Epoch 28, step 22678: Generator loss: 5.532905970692937, discriminator loss: 0.022039278391319916\n",
      "Epoch 29, step 23460: Generator loss: 5.494679808921527, discriminator loss: 0.022336149400950463\n",
      "Epoch 30, step 24242: Generator loss: 5.522629026256858, discriminator loss: 0.02260931516947493\n",
      "Epoch 31, step 25024: Generator loss: 5.4233665155327815, discriminator loss: 0.022617067684374194\n",
      "Epoch 32, step 25806: Generator loss: 5.462795559402629, discriminator loss: 0.022957277037929755\n",
      "Epoch 33, step 26588: Generator loss: 5.483195642071309, discriminator loss: 0.022396089600832624\n",
      "Epoch 34, step 27370: Generator loss: 5.502385129709076, discriminator loss: 0.022064421243151024\n",
      "Epoch 35, step 28152: Generator loss: 5.4898476265275615, discriminator loss: 0.0226266146842938\n",
      "Epoch 36, step 28934: Generator loss: 5.468219904033731, discriminator loss: 0.022194747321779264\n",
      "Epoch 37, step 29716: Generator loss: 5.471145022555697, discriminator loss: 0.022440080084930855\n",
      "Epoch 38, step 30498: Generator loss: 5.488128804184896, discriminator loss: 0.022436426175684386\n",
      "Epoch 39, step 31280: Generator loss: 5.481204144485167, discriminator loss: 0.022597114945871414\n",
      "Epoch 40, step 32062: Generator loss: 5.498434046650183, discriminator loss: 0.022494343729318095\n",
      "Epoch 41, step 32844: Generator loss: 5.527406469940227, discriminator loss: 0.022071912134413983\n",
      "Epoch 42, step 33626: Generator loss: 5.558977894161063, discriminator loss: 0.021897480613790224\n",
      "Epoch 43, step 34408: Generator loss: 5.492073637750142, discriminator loss: 0.022858043009227114\n",
      "Epoch 43, step 35190: Generator loss: 5.529715822175943, discriminator loss: 0.022199264965127318\n",
      "Epoch 44, step 35972: Generator loss: 5.540272742586059, discriminator loss: 0.022032760109578515\n",
      "Epoch 45, step 36754: Generator loss: 5.513605503779848, discriminator loss: 0.022598580017511992\n",
      "Epoch 46, step 37536: Generator loss: 5.547067541600494, discriminator loss: 0.0220446488507392\n",
      "Epoch 47, step 38318: Generator loss: 5.524829743158491, discriminator loss: 0.02200316933824508\n",
      "Epoch 48, step 39100: Generator loss: 5.5216229132679135, discriminator loss: 0.022607965922147488\n",
      "Epoch 49, step 39882: Generator loss: 5.4969145202880725, discriminator loss: 0.022039305717955846\n",
      "Epoch 50, step 40664: Generator loss: 5.467191016277697, discriminator loss: 0.023092240564372663\n",
      "Epoch 51, step 41446: Generator loss: 5.531639846694447, discriminator loss: 0.021974264254348123\n",
      "Epoch 52, step 42228: Generator loss: 5.524892104556184, discriminator loss: 0.022212820914228593\n",
      "Epoch 53, step 43010: Generator loss: 5.577117933946491, discriminator loss: 0.021299826624967592\n",
      "Epoch 54, step 43792: Generator loss: 5.471854315999218, discriminator loss: 0.023075203128132854\n",
      "Epoch 55, step 44574: Generator loss: 5.530312643636522, discriminator loss: 0.02231397039895337\n",
      "Epoch 56, step 45356: Generator loss: 5.534038802851809, discriminator loss: 0.022305262109498143\n",
      "Epoch 57, step 46138: Generator loss: 5.531576807236733, discriminator loss: 0.021735531634346255\n",
      "Epoch 58, step 46920: Generator loss: 5.513418719591695, discriminator loss: 0.02186982051583717\n",
      "Epoch 59, step 47702: Generator loss: 5.485824650815685, discriminator loss: 0.02316077720746637\n",
      "Epoch 60, step 48484: Generator loss: 5.515848437233658, discriminator loss: 0.022317904675298404\n",
      "Epoch 61, step 49266: Generator loss: 5.472947219448626, discriminator loss: 0.02257496769905635\n",
      "Epoch 62, step 50048: Generator loss: 5.484056703879714, discriminator loss: 0.022234483135809335\n",
      "Epoch 63, step 50830: Generator loss: 5.514862780680752, discriminator loss: 0.021949465035537102\n",
      "Epoch 64, step 51612: Generator loss: 5.471397930398928, discriminator loss: 0.0228741515101508\n",
      "Epoch 65, step 52394: Generator loss: 5.453703896773748, discriminator loss: 0.02274354611930754\n",
      "Epoch 66, step 53176: Generator loss: 5.4825922156233835, discriminator loss: 0.021960979921843284\n",
      "Epoch 67, step 53958: Generator loss: 5.5094790940394525, discriminator loss: 0.02253752112920967\n",
      "Epoch 68, step 54740: Generator loss: 5.461829019629443, discriminator loss: 0.022588857795264268\n",
      "Epoch 69, step 55522: Generator loss: 5.494867636419629, discriminator loss: 0.022337032205727702\n",
      "Epoch 70, step 56304: Generator loss: 5.5054540274393196, discriminator loss: 0.022085409565611995\n",
      "Epoch 71, step 57086: Generator loss: 5.570810871660869, discriminator loss: 0.021659774620912467\n",
      "Epoch 72, step 57868: Generator loss: 5.4830883573693106, discriminator loss: 0.022720748382677684\n",
      "Epoch 73, step 58650: Generator loss: 5.5235283905282975, discriminator loss: 0.022239463456520503\n",
      "Epoch 74, step 59432: Generator loss: 5.493164194209504, discriminator loss: 0.02222378817571522\n",
      "Epoch 75, step 60214: Generator loss: 5.5119930642949955, discriminator loss: 0.022324786540847328\n",
      "Epoch 76, step 60996: Generator loss: 5.510322631167642, discriminator loss: 0.022211702015308123\n",
      "Epoch 77, step 61778: Generator loss: 5.5570617155040845, discriminator loss: 0.02199573830261952\n",
      "Epoch 78, step 62560: Generator loss: 5.504362399620777, discriminator loss: 0.022471025015365628\n",
      "Epoch 79, step 63342: Generator loss: 5.537928521480711, discriminator loss: 0.02273371100813973\n",
      "Epoch 80, step 64124: Generator loss: 5.55055345842601, discriminator loss: 0.021584016416231398\n",
      "Epoch 81, step 64906: Generator loss: 5.516824027156598, discriminator loss: 0.02240011953395049\n",
      "Epoch 82, step 65688: Generator loss: 5.516324121933761, discriminator loss: 0.022155033824655713\n",
      "Epoch 83, step 66470: Generator loss: 5.532994572768733, discriminator loss: 0.022229959468638327\n",
      "Epoch 84, step 67252: Generator loss: 5.525281601244841, discriminator loss: 0.022175247596976973\n",
      "Epoch 85, step 68034: Generator loss: 5.561139098213758, discriminator loss: 0.021835307023771438\n",
      "Epoch 86, step 68816: Generator loss: 5.566761914421527, discriminator loss: 0.022465825262789174\n",
      "Epoch 86, step 69598: Generator loss: 5.48122675095677, discriminator loss: 0.022225825111274498\n",
      "Epoch 87, step 70380: Generator loss: 5.582116043476191, discriminator loss: 0.02214948134645676\n",
      "Epoch 88, step 71162: Generator loss: 5.509080355734476, discriminator loss: 0.022287182831753276\n",
      "Epoch 89, step 71944: Generator loss: 5.493204881468083, discriminator loss: 0.02290496195796304\n",
      "Epoch 90, step 72726: Generator loss: 5.555801255013938, discriminator loss: 0.021775455288219826\n",
      "Epoch 91, step 73508: Generator loss: 5.521571116679164, discriminator loss: 0.02296953780613502\n",
      "Epoch 92, step 74290: Generator loss: 5.519125971342897, discriminator loss: 0.02224945962783949\n",
      "Epoch 93, step 75072: Generator loss: 5.516503501731105, discriminator loss: 0.022119860923158312\n",
      "Epoch 94, step 75854: Generator loss: 5.485290549295337, discriminator loss: 0.022408751458229733\n",
      "Epoch 95, step 76636: Generator loss: 5.488017476733081, discriminator loss: 0.02212097623702282\n",
      "Epoch 96, step 77418: Generator loss: 5.488828796255009, discriminator loss: 0.02236897145580175\n",
      "Epoch 97, step 78200: Generator loss: 5.540101917198548, discriminator loss: 0.02230490914538805\n",
      "Epoch 98, step 78982: Generator loss: 5.455599946439118, discriminator loss: 0.0226143908149818\n",
      "Epoch 99, step 79764: Generator loss: 5.544318378428971, discriminator loss: 0.021775248340185713\n",
      "Epoch 0, step 782: Generator loss: 5.510832517653166, discriminator loss: 0.02181194358549373\n",
      "Epoch 1, step 1564: Generator loss: 5.503254529460311, discriminator loss: 0.022252708786021924\n",
      "Epoch 2, step 2346: Generator loss: 5.540634757112665, discriminator loss: 0.02198367203881157\n",
      "Epoch 3, step 3128: Generator loss: 5.478798203456127, discriminator loss: 0.022362171895885394\n",
      "Epoch 4, step 3910: Generator loss: 5.500832010717944, discriminator loss: 0.022374666944417664\n",
      "Epoch 5, step 4692: Generator loss: 5.534269292641179, discriminator loss: 0.02220351668729747\n",
      "Epoch 6, step 5474: Generator loss: 5.528495420275445, discriminator loss: 0.021878545789126697\n",
      "Epoch 7, step 6256: Generator loss: 5.50466976812124, discriminator loss: 0.02266935447392907\n",
      "Epoch 8, step 7038: Generator loss: 5.486132470543126, discriminator loss: 0.022723700635342393\n",
      "Epoch 9, step 7820: Generator loss: 5.490852359005859, discriminator loss: 0.02241022324891013\n",
      "Epoch 10, step 8602: Generator loss: 5.632306095279392, discriminator loss: 0.02123134807252403\n",
      "Epoch 11, step 9384: Generator loss: 5.485728629104932, discriminator loss: 0.023036064214759143\n",
      "Epoch 12, step 10166: Generator loss: 5.528349471519054, discriminator loss: 0.022103073148657105\n",
      "Epoch 13, step 10948: Generator loss: 5.5197538567321045, discriminator loss: 0.02213785751148713\n",
      "Epoch 14, step 11730: Generator loss: 5.492711307447587, discriminator loss: 0.022585450625761682\n",
      "Epoch 15, step 12512: Generator loss: 5.551246982706177, discriminator loss: 0.02166978089029294\n",
      "Epoch 16, step 13294: Generator loss: 5.552879036539965, discriminator loss: 0.022816337135922918\n",
      "Epoch 17, step 14076: Generator loss: 5.473939021225169, discriminator loss: 0.022551484011790107\n",
      "Epoch 18, step 14858: Generator loss: 5.5625263089719, discriminator loss: 0.022117386575338092\n",
      "Epoch 19, step 15640: Generator loss: 5.532080585084606, discriminator loss: 0.022027723522752025\n",
      "Epoch 20, step 16422: Generator loss: 5.5087672042115035, discriminator loss: 0.021917370441869914\n",
      "Epoch 21, step 17204: Generator loss: 5.489700791171136, discriminator loss: 0.023045811541330872\n",
      "Epoch 22, step 17986: Generator loss: 5.579341956111782, discriminator loss: 0.021257944785587263\n",
      "Epoch 23, step 18768: Generator loss: 5.498545072267724, discriminator loss: 0.02247066815625494\n",
      "Epoch 24, step 19550: Generator loss: 5.516768059157355, discriminator loss: 0.022579663675492793\n",
      "Epoch 25, step 20332: Generator loss: 5.530635913619607, discriminator loss: 0.021845967333782895\n",
      "Epoch 26, step 21114: Generator loss: 5.549098538010937, discriminator loss: 0.022090322332983116\n",
      "Epoch 27, step 21896: Generator loss: 5.47616463914857, discriminator loss: 0.022403650979042206\n",
      "Epoch 28, step 22678: Generator loss: 5.519416053581722, discriminator loss: 0.02251732443391446\n",
      "Epoch 29, step 23460: Generator loss: 5.550820401867336, discriminator loss: 0.02232339718829261\n",
      "Epoch 30, step 24242: Generator loss: 5.515147525636126, discriminator loss: 0.022142122327552523\n",
      "Epoch 31, step 25024: Generator loss: 5.471485936733163, discriminator loss: 0.02259663616031971\n",
      "Epoch 32, step 25806: Generator loss: 5.512016040284919, discriminator loss: 0.021961344857676347\n",
      "Epoch 33, step 26588: Generator loss: 5.472645940073315, discriminator loss: 0.022923500078213407\n",
      "Epoch 34, step 27370: Generator loss: 5.496374922945064, discriminator loss: 0.02235740188257934\n",
      "Epoch 35, step 28152: Generator loss: 5.536313598418178, discriminator loss: 0.02197247679086871\n",
      "Epoch 36, step 28934: Generator loss: 5.582569837570201, discriminator loss: 0.021599091013031237\n",
      "Epoch 37, step 29716: Generator loss: 5.547967584541692, discriminator loss: 0.022613740223043084\n",
      "Epoch 38, step 30498: Generator loss: 5.512305604222484, discriminator loss: 0.02195534206208681\n",
      "Epoch 39, step 31280: Generator loss: 5.522539282698772, discriminator loss: 0.02215096790669843\n",
      "Epoch 40, step 32062: Generator loss: 5.552181515852202, discriminator loss: 0.022214227679657153\n",
      "Epoch 41, step 32844: Generator loss: 5.519898110948255, discriminator loss: 0.022340174491071826\n",
      "Epoch 42, step 33626: Generator loss: 5.515199799062048, discriminator loss: 0.022349175901504686\n",
      "Epoch 43, step 34408: Generator loss: 5.5182201965995485, discriminator loss: 0.022141042209523367\n",
      "Epoch 43, step 35190: Generator loss: 5.512425110468166, discriminator loss: 0.022134896873346417\n",
      "Epoch 44, step 35972: Generator loss: 5.5901411439451705, discriminator loss: 0.02181972777667453\n",
      "Epoch 45, step 36754: Generator loss: 5.4858336698673495, discriminator loss: 0.02257434765348579\n",
      "Epoch 46, step 37536: Generator loss: 5.506306433006932, discriminator loss: 0.022555129082404247\n",
      "Epoch 47, step 38318: Generator loss: 5.520457558619704, discriminator loss: 0.022402121730403658\n",
      "Epoch 48, step 39100: Generator loss: 5.515501925402592, discriminator loss: 0.02224358681367849\n",
      "Epoch 49, step 39882: Generator loss: 5.527065525884215, discriminator loss: 0.022111133409692632\n",
      "Epoch 50, step 40664: Generator loss: 5.588196981288592, discriminator loss: 0.02202370336286419\n",
      "Epoch 51, step 41446: Generator loss: 5.60160220370573, discriminator loss: 0.021759704321675274\n",
      "Epoch 52, step 42228: Generator loss: 5.4910680247694685, discriminator loss: 0.022993852893221648\n",
      "Epoch 53, step 43010: Generator loss: 5.587350198374983, discriminator loss: 0.02160980477613513\n",
      "Epoch 54, step 43792: Generator loss: 5.496672162009625, discriminator loss: 0.022781074622317276\n",
      "Epoch 55, step 44574: Generator loss: 5.5432888668821265, discriminator loss: 0.02178188952435133\n",
      "Epoch 56, step 45356: Generator loss: 5.516128721139631, discriminator loss: 0.022391580209871986\n",
      "Epoch 57, step 46138: Generator loss: 5.539901811448517, discriminator loss: 0.021889293352868468\n",
      "Epoch 58, step 46920: Generator loss: 5.526070059412877, discriminator loss: 0.022708048785576973\n",
      "Epoch 59, step 47702: Generator loss: 5.530841393239056, discriminator loss: 0.021796977547619056\n",
      "Epoch 60, step 48484: Generator loss: 5.439238375105209, discriminator loss: 0.02268387704356419\n",
      "Epoch 61, step 49266: Generator loss: 5.517040034999007, discriminator loss: 0.02232972981558299\n",
      "Epoch 62, step 50048: Generator loss: 5.547326580642734, discriminator loss: 0.0219818846729901\n",
      "Epoch 63, step 50830: Generator loss: 5.497998988232039, discriminator loss: 0.02306561437739141\n",
      "Epoch 64, step 51612: Generator loss: 5.528588752307551, discriminator loss: 0.02161330284575796\n",
      "Epoch 65, step 52394: Generator loss: 5.517993352602194, discriminator loss: 0.022223726211203863\n",
      "Epoch 66, step 53176: Generator loss: 5.5884312077251534, discriminator loss: 0.021225325572078138\n",
      "Epoch 67, step 53958: Generator loss: 5.486884473839682, discriminator loss: 0.02320973552874217\n",
      "Epoch 68, step 54740: Generator loss: 5.540857279697039, discriminator loss: 0.021427323998850025\n",
      "Epoch 69, step 55522: Generator loss: 5.529375376298897, discriminator loss: 0.022464153788867115\n",
      "Epoch 70, step 56304: Generator loss: 5.525930364418516, discriminator loss: 0.022390007240283283\n",
      "Epoch 71, step 57086: Generator loss: 5.474309770042639, discriminator loss: 0.02217963697654349\n",
      "Epoch 72, step 57868: Generator loss: 5.492008323864559, discriminator loss: 0.022524361358419596\n",
      "Epoch 73, step 58650: Generator loss: 5.507316624112141, discriminator loss: 0.021819502482955323\n",
      "Epoch 74, step 59432: Generator loss: 5.488957570946737, discriminator loss: 0.022223669851896714\n",
      "Epoch 75, step 60214: Generator loss: 5.5075390521827465, discriminator loss: 0.02214622980101591\n",
      "Epoch 76, step 60996: Generator loss: 5.521849159694384, discriminator loss: 0.021918751180583992\n",
      "Epoch 77, step 61778: Generator loss: 5.4875561837345215, discriminator loss: 0.022550422104273254\n",
      "Epoch 78, step 62560: Generator loss: 5.513099543578787, discriminator loss: 0.022470176145803593\n",
      "Epoch 79, step 63342: Generator loss: 5.513054600152217, discriminator loss: 0.022062876625903557\n",
      "Epoch 80, step 64124: Generator loss: 5.501904807127346, discriminator loss: 0.022120389931351705\n",
      "Epoch 81, step 64906: Generator loss: 5.509347391250504, discriminator loss: 0.02245447162004034\n",
      "Epoch 82, step 65688: Generator loss: 5.522520111649857, discriminator loss: 0.021949059523158523\n",
      "Epoch 83, step 66470: Generator loss: 5.508302030660917, discriminator loss: 0.022283312265256254\n",
      "Epoch 84, step 67252: Generator loss: 5.546889186820108, discriminator loss: 0.02213801604920709\n",
      "Epoch 85, step 68034: Generator loss: 5.494639332032264, discriminator loss: 0.022259088240854433\n",
      "Epoch 86, step 68816: Generator loss: 5.4849168235993435, discriminator loss: 0.022728362566103107\n",
      "Epoch 86, step 69598: Generator loss: 5.515606143590436, discriminator loss: 0.0220798861290164\n",
      "Epoch 87, step 70380: Generator loss: 5.560767653043313, discriminator loss: 0.0219046092131282\n",
      "Epoch 88, step 71162: Generator loss: 5.544461565554295, discriminator loss: 0.022275466212581214\n",
      "Epoch 89, step 71944: Generator loss: 5.524772923925648, discriminator loss: 0.022226408751004997\n",
      "Epoch 90, step 72726: Generator loss: 5.4640191089161805, discriminator loss: 0.02257149913908006\n",
      "Epoch 91, step 73508: Generator loss: 5.544091321013467, discriminator loss: 0.021766490926739757\n",
      "Epoch 92, step 74290: Generator loss: 5.532235210813828, discriminator loss: 0.022744078304656717\n",
      "Epoch 93, step 75072: Generator loss: 5.543708697609279, discriminator loss: 0.021753014850756505\n",
      "Epoch 94, step 75854: Generator loss: 5.485416067835622, discriminator loss: 0.0229993296838949\n",
      "Epoch 95, step 76636: Generator loss: 5.55499345811127, discriminator loss: 0.02177621056924182\n",
      "Epoch 96, step 77418: Generator loss: 5.5501381174072995, discriminator loss: 0.022191425194115884\n",
      "Epoch 97, step 78200: Generator loss: 5.593520465104483, discriminator loss: 0.021434828940340704\n",
      "Epoch 98, step 78982: Generator loss: 5.531182911085039, discriminator loss: 0.022973838219088053\n",
      "Epoch 99, step 79764: Generator loss: 5.537210915704522, discriminator loss: 0.021988104332162216\n",
      "Epoch 0, step 782: Generator loss: 5.568000117226326, discriminator loss: 0.022269876329633235\n",
      "Epoch 1, step 1564: Generator loss: 5.566495672211314, discriminator loss: 0.022068042716290096\n",
      "Epoch 2, step 2346: Generator loss: 5.466780911321236, discriminator loss: 0.022308389571092824\n",
      "Epoch 3, step 3128: Generator loss: 5.549077960841181, discriminator loss: 0.022075690404104686\n",
      "Epoch 4, step 3910: Generator loss: 5.519797422696861, discriminator loss: 0.02188769868775113\n",
      "Epoch 5, step 4692: Generator loss: 5.496162188937289, discriminator loss: 0.022305484450853327\n",
      "Epoch 6, step 5474: Generator loss: 5.5742517182284255, discriminator loss: 0.02201455190826604\n",
      "Epoch 7, step 6256: Generator loss: 5.5400017893222895, discriminator loss: 0.022476083047323618\n",
      "Epoch 8, step 7038: Generator loss: 5.513005248725873, discriminator loss: 0.022448726496814068\n",
      "Epoch 9, step 7820: Generator loss: 5.549088120155622, discriminator loss: 0.02156924572654184\n",
      "Epoch 10, step 8602: Generator loss: 5.513679114144177, discriminator loss: 0.02281258310354495\n",
      "Epoch 11, step 9384: Generator loss: 5.544192775131185, discriminator loss: 0.021536546621455\n",
      "Epoch 12, step 10166: Generator loss: 5.543197794033742, discriminator loss: 0.02211975860153385\n",
      "Epoch 13, step 10948: Generator loss: 5.562203010329806, discriminator loss: 0.021833988314177735\n",
      "Epoch 14, step 11730: Generator loss: 5.563298897974935, discriminator loss: 0.022073180058642314\n",
      "Epoch 15, step 12512: Generator loss: 5.483213710662962, discriminator loss: 0.022695829310571156\n",
      "Epoch 16, step 13294: Generator loss: 5.509589751358233, discriminator loss: 0.022368073570029897\n",
      "Epoch 17, step 14076: Generator loss: 5.581123276439775, discriminator loss: 0.022103725614852732\n",
      "Epoch 18, step 14858: Generator loss: 5.534501112940367, discriminator loss: 0.0219779878951814\n",
      "Epoch 19, step 15640: Generator loss: 5.6022433734610875, discriminator loss: 0.0213153042373202\n",
      "Epoch 20, step 16422: Generator loss: 5.537587078026186, discriminator loss: 0.0223136874320119\n",
      "Epoch 21, step 17204: Generator loss: 5.492658772431983, discriminator loss: 0.022821712295424762\n",
      "Epoch 22, step 17986: Generator loss: 5.494876111559856, discriminator loss: 0.02222498536111117\n",
      "Epoch 23, step 18768: Generator loss: 5.578925127873338, discriminator loss: 0.021341362552445797\n",
      "Epoch 24, step 19550: Generator loss: 5.472647240094816, discriminator loss: 0.02263722960632342\n",
      "Epoch 25, step 20332: Generator loss: 5.5902720570869135, discriminator loss: 0.02179845620531469\n",
      "Epoch 26, step 21114: Generator loss: 5.497983080651754, discriminator loss: 0.022275251908051557\n",
      "Epoch 27, step 21896: Generator loss: 5.474511648382987, discriminator loss: 0.022900469992083512\n",
      "Epoch 28, step 22678: Generator loss: 5.523785485026171, discriminator loss: 0.02206133322610432\n",
      "Epoch 29, step 23460: Generator loss: 5.5162991843260185, discriminator loss: 0.02260571576701358\n",
      "Epoch 30, step 24242: Generator loss: 5.560784380759125, discriminator loss: 0.02195658656897124\n",
      "Epoch 31, step 25024: Generator loss: 5.56067404600665, discriminator loss: 0.021713397709790947\n",
      "Epoch 32, step 25806: Generator loss: 5.542231816464983, discriminator loss: 0.022700263754776722\n",
      "Epoch 33, step 26588: Generator loss: 5.51615853870616, discriminator loss: 0.02197724089795806\n",
      "Epoch 34, step 27370: Generator loss: 5.568472501871839, discriminator loss: 0.02196441154511377\n",
      "Epoch 35, step 28152: Generator loss: 5.521315548426051, discriminator loss: 0.02214129566741377\n",
      "Epoch 36, step 28934: Generator loss: 5.490231963374721, discriminator loss: 0.022674763060110605\n",
      "Epoch 37, step 29716: Generator loss: 5.52094223005387, discriminator loss: 0.022289476843307874\n",
      "Epoch 38, step 30498: Generator loss: 5.528036921835316, discriminator loss: 0.022042016350471292\n",
      "Epoch 39, step 31280: Generator loss: 5.5158628752774295, discriminator loss: 0.022405774472817223\n",
      "Epoch 40, step 32062: Generator loss: 5.509882978161283, discriminator loss: 0.022384225818700147\n",
      "Epoch 41, step 32844: Generator loss: 5.549327002157034, discriminator loss: 0.021978823164396987\n",
      "Epoch 42, step 33626: Generator loss: 5.514616107086995, discriminator loss: 0.022758233845662657\n",
      "Epoch 43, step 34408: Generator loss: 5.530936015536412, discriminator loss: 0.022144634239709065\n",
      "Epoch 43, step 35190: Generator loss: 5.477043527471437, discriminator loss: 0.02200029846733374\n",
      "Epoch 44, step 35972: Generator loss: 5.475231384682227, discriminator loss: 0.022594962962498143\n",
      "Epoch 45, step 36754: Generator loss: 5.511097392157822, discriminator loss: 0.02213824949914453\n",
      "Epoch 46, step 37536: Generator loss: 5.560750174095565, discriminator loss: 0.02185709557979534\n",
      "Epoch 47, step 38318: Generator loss: 5.526462529321461, discriminator loss: 0.02262636078039272\n",
      "Epoch 48, step 39100: Generator loss: 5.51309342518487, discriminator loss: 0.022139451307509\n",
      "Epoch 49, step 39882: Generator loss: 5.545555978175018, discriminator loss: 0.022258192685175482\n",
      "Epoch 50, step 40664: Generator loss: 5.548539013508944, discriminator loss: 0.022310539918696845\n",
      "Epoch 51, step 41446: Generator loss: 5.563397337408625, discriminator loss: 0.021678639227188552\n",
      "Epoch 52, step 42228: Generator loss: 5.499934109885367, discriminator loss: 0.022669533994096505\n",
      "Epoch 53, step 43010: Generator loss: 5.588253123680956, discriminator loss: 0.021446550603481992\n",
      "Epoch 54, step 43792: Generator loss: 5.51184237399675, discriminator loss: 0.02305942209070675\n",
      "Epoch 55, step 44574: Generator loss: 5.547762417122541, discriminator loss: 0.021449277943829094\n",
      "Epoch 56, step 45356: Generator loss: 5.536045864110107, discriminator loss: 0.022210167937964452\n",
      "Epoch 57, step 46138: Generator loss: 5.562616678759881, discriminator loss: 0.022022771478756826\n",
      "Epoch 58, step 46920: Generator loss: 5.476695035119796, discriminator loss: 0.022876749703924996\n",
      "Epoch 59, step 47702: Generator loss: 5.56168873047889, discriminator loss: 0.02182604991795156\n",
      "Epoch 60, step 48484: Generator loss: 5.489395337946281, discriminator loss: 0.022713969733454097\n",
      "Epoch 61, step 49266: Generator loss: 5.502945984111111, discriminator loss: 0.022592587133004893\n",
      "Epoch 62, step 50048: Generator loss: 5.538583022554204, discriminator loss: 0.021731356401508556\n",
      "Epoch 63, step 50830: Generator loss: 5.511093969540222, discriminator loss: 0.02185211528081906\n",
      "Epoch 64, step 51612: Generator loss: 5.533757284779074, discriminator loss: 0.02236618728989071\n",
      "Epoch 65, step 52394: Generator loss: 5.548343758448919, discriminator loss: 0.022600536384736487\n",
      "Epoch 66, step 53176: Generator loss: 5.522700662198282, discriminator loss: 0.02259109198988732\n",
      "Epoch 67, step 53958: Generator loss: 5.519153032766276, discriminator loss: 0.02250189327514586\n",
      "Epoch 68, step 54740: Generator loss: 5.543268382396844, discriminator loss: 0.021648386790169387\n",
      "Epoch 69, step 55522: Generator loss: 5.535053136708482, discriminator loss: 0.021921401472447807\n",
      "Epoch 70, step 56304: Generator loss: 5.5222356319427535, discriminator loss: 0.02204101163324661\n",
      "Epoch 71, step 57086: Generator loss: 5.501122362473428, discriminator loss: 0.02250679385731629\n",
      "Epoch 72, step 57868: Generator loss: 5.5161762835119665, discriminator loss: 0.02214446896270317\n",
      "Epoch 73, step 58650: Generator loss: 5.540277677423814, discriminator loss: 0.0222105829237515\n",
      "Epoch 74, step 59432: Generator loss: 5.529609686273444, discriminator loss: 0.022101108116083432\n",
      "Epoch 75, step 60214: Generator loss: 5.513984307608643, discriminator loss: 0.022186185390500327\n",
      "Epoch 76, step 60996: Generator loss: 5.5756150609087145, discriminator loss: 0.02144121558314945\n",
      "Epoch 77, step 61778: Generator loss: 5.530126706413601, discriminator loss: 0.022357658389003\n",
      "Epoch 78, step 62560: Generator loss: 5.501609439435214, discriminator loss: 0.022630552583805214\n",
      "Epoch 79, step 63342: Generator loss: 5.511610611625348, discriminator loss: 0.022087687743194123\n",
      "Epoch 80, step 64124: Generator loss: 5.484755040434622, discriminator loss: 0.022607367905571375\n",
      "Epoch 81, step 64906: Generator loss: 5.520453446966302, discriminator loss: 0.02216627265301667\n",
      "Epoch 82, step 65688: Generator loss: 5.551008776325709, discriminator loss: 0.02199436890114994\n",
      "Epoch 83, step 66470: Generator loss: 5.5460602749339145, discriminator loss: 0.02169507223358878\n",
      "Epoch 84, step 67252: Generator loss: 5.4986360426753995, discriminator loss: 0.022562043335827085\n",
      "Epoch 85, step 68034: Generator loss: 5.485406740852018, discriminator loss: 0.022475512977570406\n",
      "Epoch 86, step 68816: Generator loss: 5.541621869177467, discriminator loss: 0.021940873778911046\n",
      "Epoch 86, step 69598: Generator loss: 5.545759892524669, discriminator loss: 0.02235194295376794\n",
      "Epoch 87, step 70380: Generator loss: 5.542760050815085, discriminator loss: 0.022087340532859198\n",
      "Epoch 88, step 71162: Generator loss: 5.520720931270239, discriminator loss: 0.02235622006698326\n",
      "Epoch 89, step 71944: Generator loss: 5.536221050545369, discriminator loss: 0.022039804674918374\n",
      "Epoch 90, step 72726: Generator loss: 5.541668774221859, discriminator loss: 0.022021183463901986\n",
      "Epoch 91, step 73508: Generator loss: 5.5152159981105635, discriminator loss: 0.02227442238725189\n",
      "Epoch 92, step 74290: Generator loss: 5.535647459347226, discriminator loss: 0.02222254645892793\n",
      "Epoch 93, step 75072: Generator loss: 5.516099577974484, discriminator loss: 0.022357068242817232\n",
      "Epoch 94, step 75854: Generator loss: 5.484503476516057, discriminator loss: 0.022545051666886525\n",
      "Epoch 95, step 76636: Generator loss: 5.532651212819099, discriminator loss: 0.022140208669268854\n",
      "Epoch 96, step 77418: Generator loss: 5.576009516825767, discriminator loss: 0.02179161310636572\n",
      "Epoch 97, step 78200: Generator loss: 5.510678993161682, discriminator loss: 0.022292770410809307\n",
      "Epoch 98, step 78982: Generator loss: 5.584765023282722, discriminator loss: 0.021834179341002277\n",
      "Epoch 99, step 79764: Generator loss: 5.554442730096291, discriminator loss: 0.022061923472329856\n",
      "Epoch 0, step 782: Generator loss: 5.554269644305532, discriminator loss: 0.02211729814107897\n",
      "Epoch 1, step 1564: Generator loss: 5.542734760152711, discriminator loss: 0.02214571521343553\n",
      "Epoch 2, step 2346: Generator loss: 5.519569479291089, discriminator loss: 0.02211857654477048\n",
      "Epoch 3, step 3128: Generator loss: 5.501559054455183, discriminator loss: 0.021982488239688947\n",
      "Epoch 4, step 3910: Generator loss: 5.513212393616771, discriminator loss: 0.022173018889654172\n",
      "Epoch 5, step 4692: Generator loss: 5.5190281020406, discriminator loss: 0.022679982309127253\n",
      "Epoch 6, step 5474: Generator loss: 5.530606409472887, discriminator loss: 0.02147509398616498\n",
      "Epoch 7, step 6256: Generator loss: 5.538063095658639, discriminator loss: 0.02237904255035453\n",
      "Epoch 8, step 7038: Generator loss: 5.548726173313079, discriminator loss: 0.021666109839411425\n",
      "Epoch 9, step 7820: Generator loss: 5.484461309964695, discriminator loss: 0.022698876666217113\n",
      "Epoch 10, step 8602: Generator loss: 5.603429179667207, discriminator loss: 0.02138029151033999\n",
      "Epoch 11, step 9384: Generator loss: 5.543193154322829, discriminator loss: 0.022026431658650602\n",
      "Epoch 12, step 10166: Generator loss: 5.5851777337701165, discriminator loss: 0.021555496741484024\n",
      "Epoch 13, step 10948: Generator loss: 5.508788730787198, discriminator loss: 0.022853826102979317\n",
      "Epoch 14, step 11730: Generator loss: 5.532212543365593, discriminator loss: 0.02169724375448998\n",
      "Epoch 15, step 12512: Generator loss: 5.5790257155133105, discriminator loss: 0.021724880196015983\n",
      "Epoch 16, step 13294: Generator loss: 5.574591641535837, discriminator loss: 0.021905271303387448\n",
      "Epoch 17, step 14076: Generator loss: 5.510532662691667, discriminator loss: 0.022083880036802558\n",
      "Epoch 18, step 14858: Generator loss: 5.506123796448381, discriminator loss: 0.022621208886125253\n",
      "Epoch 19, step 15640: Generator loss: 5.441724579047672, discriminator loss: 0.022473332063054376\n",
      "Epoch 20, step 16422: Generator loss: 5.472911873132064, discriminator loss: 0.022659628338220977\n",
      "Epoch 21, step 17204: Generator loss: 5.524894710087105, discriminator loss: 0.022652907111227052\n",
      "Epoch 22, step 17986: Generator loss: 5.560567305825862, discriminator loss: 0.021771231576588335\n",
      "Epoch 23, step 18768: Generator loss: 5.508375173334577, discriminator loss: 0.021858781787252462\n",
      "Epoch 24, step 19550: Generator loss: 5.52538731031101, discriminator loss: 0.02279740973415035\n",
      "Epoch 25, step 20332: Generator loss: 5.555679993861158, discriminator loss: 0.02130229264983665\n",
      "Epoch 26, step 21114: Generator loss: 5.539634136287758, discriminator loss: 0.02201548889737881\n",
      "Epoch 27, step 21896: Generator loss: 5.545448296515219, discriminator loss: 0.02233702503204289\n",
      "Epoch 28, step 22678: Generator loss: 5.551717511223405, discriminator loss: 0.02196007137052249\n",
      "Epoch 29, step 23460: Generator loss: 5.4842678421293645, discriminator loss: 0.02298995211412012\n",
      "Epoch 30, step 24242: Generator loss: 5.572293372410332, discriminator loss: 0.02124647529768372\n",
      "Epoch 31, step 25024: Generator loss: 5.601747951849038, discriminator loss: 0.021298846201923544\n",
      "Epoch 32, step 25806: Generator loss: 5.4983269930495595, discriminator loss: 0.022682893271569915\n",
      "Epoch 33, step 26588: Generator loss: 5.564374183449903, discriminator loss: 0.021840079111413915\n",
      "Epoch 34, step 27370: Generator loss: 5.599088334671371, discriminator loss: 0.021703303780566292\n",
      "Epoch 35, step 28152: Generator loss: 5.489647623218231, discriminator loss: 0.022254075683519975\n",
      "Epoch 36, step 28934: Generator loss: 5.601357808198474, discriminator loss: 0.021244327133983533\n",
      "Epoch 37, step 29716: Generator loss: 5.545118848990906, discriminator loss: 0.02262912603759723\n",
      "Epoch 38, step 30498: Generator loss: 5.530400817046684, discriminator loss: 0.022031340043922733\n",
      "Epoch 39, step 31280: Generator loss: 5.53253008154652, discriminator loss: 0.022400087453341565\n",
      "Epoch 40, step 32062: Generator loss: 5.547640727304137, discriminator loss: 0.02170430271751713\n",
      "Epoch 41, step 32844: Generator loss: 5.505306667683986, discriminator loss: 0.022385377969826224\n",
      "Epoch 42, step 33626: Generator loss: 5.521106991316657, discriminator loss: 0.02195857706970396\n",
      "Epoch 43, step 34408: Generator loss: 5.5323045637906425, discriminator loss: 0.021954419196742934\n",
      "Epoch 43, step 35190: Generator loss: 5.531417166180624, discriminator loss: 0.022180467744862875\n",
      "Epoch 44, step 35972: Generator loss: 5.520202631840617, discriminator loss: 0.022524756160886273\n",
      "Epoch 45, step 36754: Generator loss: 5.5766536396787565, discriminator loss: 0.021719052804672085\n",
      "Epoch 46, step 37536: Generator loss: 5.588643780754651, discriminator loss: 0.02217409722036573\n",
      "Epoch 47, step 38318: Generator loss: 5.549805080189417, discriminator loss: 0.02246994108332042\n",
      "Epoch 48, step 39100: Generator loss: 5.499737907858457, discriminator loss: 0.022461743057703102\n",
      "Epoch 49, step 39882: Generator loss: 5.480441564794081, discriminator loss: 0.02207916358585857\n",
      "Epoch 50, step 40664: Generator loss: 5.492819670825969, discriminator loss: 0.021889141312374003\n",
      "Epoch 51, step 41446: Generator loss: 5.51832605688773, discriminator loss: 0.022105640346181964\n",
      "Epoch 52, step 42228: Generator loss: 5.547444419787665, discriminator loss: 0.02239443115321941\n",
      "Epoch 53, step 43010: Generator loss: 5.587975236156106, discriminator loss: 0.02181552866291577\n",
      "Epoch 54, step 43792: Generator loss: 5.535031267444195, discriminator loss: 0.022497669105892047\n",
      "Epoch 55, step 44574: Generator loss: 5.569232004072971, discriminator loss: 0.02124049435036204\n",
      "Epoch 56, step 45356: Generator loss: 5.488488795507281, discriminator loss: 0.023114332935803776\n",
      "Epoch 57, step 46138: Generator loss: 5.569544678149018, discriminator loss: 0.021723340649534115\n",
      "Epoch 58, step 46920: Generator loss: 5.562622586784458, discriminator loss: 0.021771393353988863\n",
      "Epoch 59, step 47702: Generator loss: 5.4619397848768285, discriminator loss: 0.022622959548369275\n",
      "Epoch 60, step 48484: Generator loss: 5.5459322819624415, discriminator loss: 0.0219557884707809\n",
      "Epoch 61, step 49266: Generator loss: 5.577979536617506, discriminator loss: 0.02184485517682793\n",
      "Epoch 62, step 50048: Generator loss: 5.519259422941281, discriminator loss: 0.022134522130341283\n",
      "Epoch 63, step 50830: Generator loss: 5.557198104955964, discriminator loss: 0.021834273759187527\n",
      "Epoch 64, step 51612: Generator loss: 5.544309631333025, discriminator loss: 0.022183462755595018\n",
      "Epoch 65, step 52394: Generator loss: 5.53374344491592, discriminator loss: 0.021997827862072585\n",
      "Epoch 66, step 53176: Generator loss: 5.528467764330031, discriminator loss: 0.022429300578134827\n",
      "Epoch 67, step 53958: Generator loss: 5.492630439646103, discriminator loss: 0.022849172306702\n",
      "Epoch 68, step 54740: Generator loss: 5.546673813134513, discriminator loss: 0.02116727935777894\n",
      "Epoch 69, step 55522: Generator loss: 5.5240403172914965, discriminator loss: 0.02220531351610666\n",
      "Epoch 70, step 56304: Generator loss: 5.486935192971576, discriminator loss: 0.02231744719821668\n",
      "Epoch 71, step 57086: Generator loss: 5.528038299297127, discriminator loss: 0.022372041940581906\n",
      "Epoch 72, step 57868: Generator loss: 5.530309511267616, discriminator loss: 0.021846692363047936\n",
      "Epoch 73, step 58650: Generator loss: 5.543184423690551, discriminator loss: 0.021799409488404215\n",
      "Epoch 74, step 59432: Generator loss: 5.535581751552688, discriminator loss: 0.0220607245934036\n",
      "Epoch 75, step 60214: Generator loss: 5.50545302681301, discriminator loss: 0.02279528418717825\n",
      "Epoch 76, step 60996: Generator loss: 5.566490354440401, discriminator loss: 0.021742066090373914\n",
      "Epoch 77, step 61778: Generator loss: 5.511355406792875, discriminator loss: 0.022240083029879558\n",
      "Epoch 78, step 62560: Generator loss: 5.510614075624119, discriminator loss: 0.022419247856658997\n",
      "Epoch 79, step 63342: Generator loss: 5.545541345615824, discriminator loss: 0.021824805079089956\n",
      "Epoch 80, step 64124: Generator loss: 5.552946622414352, discriminator loss: 0.022103139859400316\n",
      "Epoch 81, step 64906: Generator loss: 5.554961249041743, discriminator loss: 0.021914449871143753\n",
      "Epoch 82, step 65688: Generator loss: 5.513903484320089, discriminator loss: 0.022700810298511787\n",
      "Epoch 83, step 66470: Generator loss: 5.5083736787976525, discriminator loss: 0.021806183512575093\n",
      "Epoch 84, step 67252: Generator loss: 5.560812179389816, discriminator loss: 0.021918529973906035\n",
      "Epoch 85, step 68034: Generator loss: 5.571274439697069, discriminator loss: 0.022097659234167132\n",
      "Epoch 86, step 68816: Generator loss: 5.534337818165264, discriminator loss: 0.021815584008427136\n",
      "Epoch 86, step 69598: Generator loss: 5.5498416448188275, discriminator loss: 0.022279715610315557\n",
      "Epoch 87, step 70380: Generator loss: 5.543220995027387, discriminator loss: 0.02219772940862425\n",
      "Epoch 88, step 71162: Generator loss: 5.524326525685727, discriminator loss: 0.022128233184402008\n",
      "Epoch 89, step 71944: Generator loss: 5.535177277786953, discriminator loss: 0.021945396318550574\n",
      "Epoch 90, step 72726: Generator loss: 5.546960180677726, discriminator loss: 0.021878666495439868\n",
      "Epoch 91, step 73508: Generator loss: 5.488525062570789, discriminator loss: 0.022497036598522733\n",
      "Epoch 92, step 74290: Generator loss: 5.538360454847135, discriminator loss: 0.022162701710082045\n",
      "Epoch 93, step 75072: Generator loss: 5.554520146621155, discriminator loss: 0.021869739756057178\n",
      "Epoch 94, step 75854: Generator loss: 5.51275695925175, discriminator loss: 0.022328998997112003\n",
      "Epoch 95, step 76636: Generator loss: 5.565292883407129, discriminator loss: 0.022193776504636824\n",
      "Epoch 96, step 77418: Generator loss: 5.531526082616936, discriminator loss: 0.022413107711533563\n",
      "Epoch 97, step 78200: Generator loss: 5.544244787577171, discriminator loss: 0.022102448826386616\n",
      "Epoch 98, step 78982: Generator loss: 5.572780405468958, discriminator loss: 0.021999291000504247\n",
      "Epoch 99, step 79764: Generator loss: 5.460050209708837, discriminator loss: 0.022213231865673925\n",
      "Epoch 0, step 782: Generator loss: 5.532188694800259, discriminator loss: 0.02222522601301849\n",
      "Epoch 1, step 1564: Generator loss: 5.487623931196954, discriminator loss: 0.02241456628594871\n",
      "Epoch 2, step 2346: Generator loss: 5.521358674749393, discriminator loss: 0.02202431870329065\n",
      "Epoch 3, step 3128: Generator loss: 5.5220763232092125, discriminator loss: 0.02191714373419582\n",
      "Epoch 4, step 3910: Generator loss: 5.5305711040106535, discriminator loss: 0.02245910597138603\n",
      "Epoch 5, step 4692: Generator loss: 5.573884948135333, discriminator loss: 0.02156500108903295\n",
      "Epoch 6, step 5474: Generator loss: 5.560750691177287, discriminator loss: 0.02162516364247761\n",
      "Epoch 7, step 6256: Generator loss: 5.51415120000424, discriminator loss: 0.022532757441036874\n",
      "Epoch 8, step 7038: Generator loss: 5.618315228415877, discriminator loss: 0.021656713667301868\n",
      "Epoch 9, step 7820: Generator loss: 5.529368695090802, discriminator loss: 0.02215277144144696\n",
      "Epoch 10, step 8602: Generator loss: 5.54328196128006, discriminator loss: 0.021927231679494282\n",
      "Epoch 11, step 9384: Generator loss: 5.502251096393753, discriminator loss: 0.022902653749991696\n",
      "Epoch 12, step 10166: Generator loss: 5.576249878729704, discriminator loss: 0.02130785780509844\n",
      "Epoch 13, step 10948: Generator loss: 5.502044851517741, discriminator loss: 0.02212370833938181\n",
      "Epoch 14, step 11730: Generator loss: 5.577791918269209, discriminator loss: 0.021730431721455234\n",
      "Epoch 15, step 12512: Generator loss: 5.517196641858579, discriminator loss: 0.02247110236456373\n",
      "Epoch 16, step 13294: Generator loss: 5.508266828858947, discriminator loss: 0.022322745474181657\n",
      "Epoch 17, step 14076: Generator loss: 5.601705640173326, discriminator loss: 0.020920936471087143\n",
      "Epoch 18, step 14858: Generator loss: 5.46982579341021, discriminator loss: 0.022993251990379254\n",
      "Epoch 19, step 15640: Generator loss: 5.561275648034138, discriminator loss: 0.021477184781526007\n",
      "Epoch 20, step 16422: Generator loss: 5.48719100513117, discriminator loss: 0.022597018104401484\n",
      "Epoch 21, step 17204: Generator loss: 5.592076739386822, discriminator loss: 0.021837105471676565\n",
      "Epoch 22, step 17986: Generator loss: 5.503491927900578, discriminator loss: 0.022341285711344912\n",
      "Epoch 23, step 18768: Generator loss: 5.568912121341049, discriminator loss: 0.02208115829064337\n",
      "Epoch 24, step 19550: Generator loss: 5.5460162699374935, discriminator loss: 0.0218242677282947\n",
      "Epoch 25, step 20332: Generator loss: 5.4996073178927904, discriminator loss: 0.0219992188337233\n",
      "Epoch 26, step 21114: Generator loss: 5.4879198787767285, discriminator loss: 0.02254249345477853\n",
      "Epoch 27, step 21896: Generator loss: 5.475417037144346, discriminator loss: 0.022665000958618294\n",
      "Epoch 28, step 22678: Generator loss: 5.510067326943288, discriminator loss: 0.021944521415128315\n",
      "Epoch 29, step 23460: Generator loss: 5.557672953666624, discriminator loss: 0.021367090850975573\n",
      "Epoch 30, step 24242: Generator loss: 5.478832677197265, discriminator loss: 0.02282140381179293\n",
      "Epoch 31, step 25024: Generator loss: 5.5243965115998455, discriminator loss: 0.022396720118422895\n",
      "Epoch 32, step 25806: Generator loss: 5.529033944429947, discriminator loss: 0.021683453678694172\n",
      "Epoch 33, step 26588: Generator loss: 5.5099425895134875, discriminator loss: 0.022254337143698382\n",
      "Epoch 34, step 27370: Generator loss: 5.509298512392949, discriminator loss: 0.02203567849699637\n",
      "Epoch 35, step 28152: Generator loss: 5.53905336753182, discriminator loss: 0.02227497394845753\n",
      "Epoch 36, step 28934: Generator loss: 5.516744299617863, discriminator loss: 0.021936511946008423\n",
      "Epoch 37, step 29716: Generator loss: 5.522946789441516, discriminator loss: 0.022389456680666234\n",
      "Epoch 38, step 30498: Generator loss: 5.499987548574461, discriminator loss: 0.02191023887170815\n",
      "Epoch 39, step 31280: Generator loss: 5.524033115952821, discriminator loss: 0.02198437393715611\n",
      "Epoch 40, step 32062: Generator loss: 5.510779128355146, discriminator loss: 0.021979839448719413\n",
      "Epoch 41, step 32844: Generator loss: 5.526338698613984, discriminator loss: 0.021989006339215085\n",
      "Epoch 42, step 33626: Generator loss: 5.557982965503511, discriminator loss: 0.02198880194814975\n",
      "Epoch 43, step 34408: Generator loss: 5.5302859047794675, discriminator loss: 0.02213275836497222\n",
      "Epoch 43, step 35190: Generator loss: 5.5360431835779496, discriminator loss: 0.021985325975405503\n",
      "Epoch 44, step 35972: Generator loss: 5.503060684789481, discriminator loss: 0.02196519851983497\n",
      "Epoch 45, step 36754: Generator loss: 5.510623650782551, discriminator loss: 0.022373315704929276\n",
      "Epoch 46, step 37536: Generator loss: 5.566932898348251, discriminator loss: 0.02153353364852343\n",
      "Epoch 47, step 38318: Generator loss: 5.478640764265718, discriminator loss: 0.022909125754111866\n",
      "Epoch 48, step 39100: Generator loss: 5.538052646705264, discriminator loss: 0.021893232131896118\n",
      "Epoch 49, step 39882: Generator loss: 5.525334719196908, discriminator loss: 0.021249280913490015\n",
      "Epoch 50, step 40664: Generator loss: 5.538571362605181, discriminator loss: 0.022541738357311557\n",
      "Epoch 51, step 41446: Generator loss: 5.585168097635061, discriminator loss: 0.021830905138638782\n",
      "Epoch 52, step 42228: Generator loss: 5.5047411144237035, discriminator loss: 0.022552650968801425\n",
      "Epoch 53, step 43010: Generator loss: 5.493195704486974, discriminator loss: 0.022366741166600142\n",
      "Epoch 54, step 43792: Generator loss: 5.521501169180322, discriminator loss: 0.02199827883597415\n",
      "Epoch 55, step 44574: Generator loss: 5.574753027742784, discriminator loss: 0.022055332643001357\n",
      "Epoch 56, step 45356: Generator loss: 5.591952716603004, discriminator loss: 0.021143739111423795\n",
      "Epoch 57, step 46138: Generator loss: 5.5017914058607245, discriminator loss: 0.02214607616911508\n",
      "Epoch 58, step 46920: Generator loss: 5.541435149624524, discriminator loss: 0.022337525109391253\n",
      "Epoch 59, step 47702: Generator loss: 5.553636296021059, discriminator loss: 0.02152397509698833\n",
      "Epoch 60, step 48484: Generator loss: 5.518345154154944, discriminator loss: 0.022627551860981105\n",
      "Epoch 61, step 49266: Generator loss: 5.573655235797852, discriminator loss: 0.02170266479234715\n",
      "Epoch 62, step 50048: Generator loss: 5.547634152195344, discriminator loss: 0.021984573651957866\n",
      "Epoch 63, step 50830: Generator loss: 5.5402333016895575, discriminator loss: 0.021701089288715433\n",
      "Epoch 64, step 51612: Generator loss: 5.5902920940038205, discriminator loss: 0.021742752770169193\n",
      "Epoch 65, step 52394: Generator loss: 5.520261160857842, discriminator loss: 0.022566318699537492\n",
      "Epoch 66, step 53176: Generator loss: 5.5053494427819984, discriminator loss: 0.02236743290346508\n",
      "Epoch 67, step 53958: Generator loss: 5.4934754743600465, discriminator loss: 0.022313700160881068\n",
      "Epoch 68, step 54740: Generator loss: 5.514755034995504, discriminator loss: 0.021798303150726686\n",
      "Epoch 69, step 55522: Generator loss: 5.518118341255678, discriminator loss: 0.021856476708203378\n",
      "Epoch 70, step 56304: Generator loss: 5.564623618064942, discriminator loss: 0.022118024322885534\n",
      "Epoch 71, step 57086: Generator loss: 5.557295065706643, discriminator loss: 0.021851400620258792\n",
      "Epoch 72, step 57868: Generator loss: 5.541228762672981, discriminator loss: 0.02191196613536571\n",
      "Epoch 73, step 58650: Generator loss: 5.4717138587971155, discriminator loss: 0.022668470778619217\n",
      "Epoch 74, step 59432: Generator loss: 5.5605250173212655, discriminator loss: 0.022324824482714615\n",
      "Epoch 75, step 60214: Generator loss: 5.5093445875455584, discriminator loss: 0.022072431508122988\n",
      "Epoch 76, step 60996: Generator loss: 5.534103206966239, discriminator loss: 0.02188747383349236\n",
      "Epoch 77, step 61778: Generator loss: 5.536114494513978, discriminator loss: 0.021659740374859463\n",
      "Epoch 78, step 62560: Generator loss: 5.504673118786427, discriminator loss: 0.021815632922215188\n",
      "Epoch 79, step 63342: Generator loss: 5.504119032179293, discriminator loss: 0.02248143537900152\n",
      "Epoch 80, step 64124: Generator loss: 5.513934045801378, discriminator loss: 0.02243551951767568\n",
      "Epoch 81, step 64906: Generator loss: 5.552981454698024, discriminator loss: 0.02156828139233345\n",
      "Epoch 82, step 65688: Generator loss: 5.526479505821865, discriminator loss: 0.022363274331118864\n",
      "Epoch 83, step 66470: Generator loss: 5.549284634992591, discriminator loss: 0.021653838546486944\n",
      "Epoch 84, step 67252: Generator loss: 5.529476929808509, discriminator loss: 0.02249978781726015\n",
      "Epoch 85, step 68034: Generator loss: 5.515825250264628, discriminator loss: 0.022128366758627713\n",
      "Epoch 86, step 68816: Generator loss: 5.480280717620458, discriminator loss: 0.02233329653570816\n",
      "Epoch 86, step 69598: Generator loss: 5.531909647500113, discriminator loss: 0.021955483540942615\n",
      "Epoch 87, step 70380: Generator loss: 5.577881792927033, discriminator loss: 0.02178890754074534\n",
      "Epoch 88, step 71162: Generator loss: 5.572165001993591, discriminator loss: 0.021735069048686235\n",
      "Epoch 89, step 71944: Generator loss: 5.55335162545714, discriminator loss: 0.022218088643825462\n",
      "Epoch 90, step 72726: Generator loss: 5.558756045978092, discriminator loss: 0.02201630823853692\n",
      "Epoch 91, step 73508: Generator loss: 5.517290942809154, discriminator loss: 0.021840214068332045\n",
      "Epoch 92, step 74290: Generator loss: 5.514375186027469, discriminator loss: 0.022560171677869136\n",
      "Epoch 93, step 75072: Generator loss: 5.517696818427365, discriminator loss: 0.022124895443687266\n",
      "Epoch 94, step 75854: Generator loss: 5.550492207412518, discriminator loss: 0.0217602140674501\n",
      "Epoch 95, step 76636: Generator loss: 5.545242785797703, discriminator loss: 0.022082444091025014\n",
      "Epoch 96, step 77418: Generator loss: 5.5820885308258354, discriminator loss: 0.021443858383344887\n",
      "Epoch 97, step 78200: Generator loss: 5.511894505956897, discriminator loss: 0.022868755126438642\n",
      "Epoch 98, step 78982: Generator loss: 5.567366395764953, discriminator loss: 0.02149669257947777\n",
      "Epoch 99, step 79764: Generator loss: 5.559553003067252, discriminator loss: 0.02184132783187795\n",
      "Epoch 0, step 782: Generator loss: 5.52245804964734, discriminator loss: 0.0225022648776169\n",
      "Epoch 1, step 1564: Generator loss: 5.539685517625739, discriminator loss: 0.021652676920761407\n",
      "Epoch 2, step 2346: Generator loss: 5.553810400731119, discriminator loss: 0.021739482913282985\n",
      "Epoch 3, step 3128: Generator loss: 5.543808051692249, discriminator loss: 0.022306036834112013\n",
      "Epoch 4, step 3910: Generator loss: 5.5391711578954546, discriminator loss: 0.021962947321727003\n",
      "Epoch 5, step 4692: Generator loss: 5.51628601032755, discriminator loss: 0.02261869139377449\n",
      "Epoch 6, step 5474: Generator loss: 5.556681701899174, discriminator loss: 0.021711495222912068\n",
      "Epoch 7, step 6256: Generator loss: 5.573006473233937, discriminator loss: 0.02159832840186333\n",
      "Epoch 8, step 7038: Generator loss: 5.481139068408394, discriminator loss: 0.022909577897525922\n",
      "Epoch 9, step 7820: Generator loss: 5.540434522092192, discriminator loss: 0.02153391645842556\n",
      "Epoch 10, step 8602: Generator loss: 5.6021743308552745, discriminator loss: 0.02104620695324934\n",
      "Epoch 11, step 9384: Generator loss: 5.514641731291481, discriminator loss: 0.0226836867658469\n",
      "Epoch 12, step 10166: Generator loss: 5.544626970730164, discriminator loss: 0.021942286538984383\n",
      "Epoch 13, step 10948: Generator loss: 5.524777070335723, discriminator loss: 0.021567028455014636\n",
      "Epoch 14, step 11730: Generator loss: 5.547424033474744, discriminator loss: 0.022430879311026313\n",
      "Epoch 15, step 12512: Generator loss: 5.5834670761966985, discriminator loss: 0.021273874323707892\n",
      "Epoch 16, step 13294: Generator loss: 5.569122879706384, discriminator loss: 0.02177102084341874\n",
      "Epoch 17, step 14076: Generator loss: 5.508219271974494, discriminator loss: 0.022359158056240308\n",
      "Epoch 18, step 14858: Generator loss: 5.546329278165425, discriminator loss: 0.02187557707098849\n",
      "Epoch 19, step 15640: Generator loss: 5.496454196817726, discriminator loss: 0.02288998866273935\n",
      "Epoch 20, step 16422: Generator loss: 5.5695936868867575, discriminator loss: 0.02143704413276765\n",
      "Epoch 21, step 17204: Generator loss: 5.526584600243726, discriminator loss: 0.021968267329544513\n",
      "Epoch 22, step 17986: Generator loss: 5.502502474943385, discriminator loss: 0.022080125016234162\n",
      "Epoch 23, step 18768: Generator loss: 5.513195300041258, discriminator loss: 0.02207703816840218\n",
      "Epoch 24, step 19550: Generator loss: 5.538157764298234, discriminator loss: 0.021591743428731693\n",
      "Epoch 25, step 20332: Generator loss: 5.573611657637774, discriminator loss: 0.02198920554488593\n",
      "Epoch 26, step 21114: Generator loss: 5.594685590480606, discriminator loss: 0.021478020687006348\n",
      "Epoch 27, step 21896: Generator loss: 5.581849850047288, discriminator loss: 0.021459986229755857\n",
      "Epoch 28, step 22678: Generator loss: 5.513183444967048, discriminator loss: 0.022330795794658714\n",
      "Epoch 29, step 23460: Generator loss: 5.577666852175431, discriminator loss: 0.021491295468393214\n",
      "Epoch 30, step 24242: Generator loss: 5.549879683253099, discriminator loss: 0.021842632362025972\n",
      "Epoch 31, step 25024: Generator loss: 5.57774802973813, discriminator loss: 0.021840001039309415\n",
      "Epoch 32, step 25806: Generator loss: 5.582802665203123, discriminator loss: 0.022267000159889472\n",
      "Epoch 33, step 26588: Generator loss: 5.528085192146195, discriminator loss: 0.02188278218198935\n",
      "Epoch 34, step 27370: Generator loss: 5.54946259159566, discriminator loss: 0.02190994553457316\n",
      "Epoch 35, step 28152: Generator loss: 5.578574518413501, discriminator loss: 0.021404071076227653\n",
      "Epoch 36, step 28934: Generator loss: 5.545847181164088, discriminator loss: 0.02199798739691505\n",
      "Epoch 37, step 29716: Generator loss: 5.551601498328213, discriminator loss: 0.021525647796397467\n",
      "Epoch 38, step 30498: Generator loss: 5.54505474610097, discriminator loss: 0.022199877992134225\n",
      "Epoch 39, step 31280: Generator loss: 5.566966936106573, discriminator loss: 0.02180092009004736\n",
      "Epoch 40, step 32062: Generator loss: 5.569935673033177, discriminator loss: 0.02218733342719333\n",
      "Epoch 41, step 32844: Generator loss: 5.553303457586972, discriminator loss: 0.021905576607183844\n",
      "Epoch 42, step 33626: Generator loss: 5.560444397694615, discriminator loss: 0.021756054803757644\n",
      "Epoch 43, step 34408: Generator loss: 5.532710363797828, discriminator loss: 0.0220215969142573\n",
      "Epoch 43, step 35190: Generator loss: 5.557575908158433, discriminator loss: 0.021942756485308305\n",
      "Epoch 44, step 35972: Generator loss: 5.521859491572665, discriminator loss: 0.02200518820293088\n",
      "Epoch 45, step 36754: Generator loss: 5.572152037144925, discriminator loss: 0.021895188331792204\n",
      "Epoch 46, step 37536: Generator loss: 5.527755041561473, discriminator loss: 0.02208526745049134\n",
      "Epoch 47, step 38318: Generator loss: 5.577153297336511, discriminator loss: 0.022045411147496405\n",
      "Epoch 48, step 39100: Generator loss: 5.48505884851032, discriminator loss: 0.022235421805054247\n",
      "Epoch 49, step 39882: Generator loss: 5.56261170306779, discriminator loss: 0.021812514188494593\n",
      "Epoch 50, step 40664: Generator loss: 5.541446237612869, discriminator loss: 0.022177218197835365\n",
      "Epoch 51, step 41446: Generator loss: 5.5265770367039435, discriminator loss: 0.02223580456136361\n",
      "Epoch 52, step 42228: Generator loss: 5.565734508397326, discriminator loss: 0.02132402507581118\n",
      "Epoch 53, step 43010: Generator loss: 5.568228997232973, discriminator loss: 0.02222244543007925\n",
      "Epoch 54, step 43792: Generator loss: 5.481094981093544, discriminator loss: 0.022843379593725812\n",
      "Epoch 55, step 44574: Generator loss: 5.602088510532815, discriminator loss: 0.02121865906058321\n",
      "Epoch 56, step 45356: Generator loss: 5.562376334539159, discriminator loss: 0.022014266470997412\n",
      "Epoch 57, step 46138: Generator loss: 5.5422984273232565, discriminator loss: 0.021519300864313917\n",
      "Epoch 58, step 46920: Generator loss: 5.557762186850431, discriminator loss: 0.021760589640547078\n",
      "Epoch 59, step 47702: Generator loss: 5.5367289632177705, discriminator loss: 0.022117071617406565\n",
      "Epoch 60, step 48484: Generator loss: 5.604596016657014, discriminator loss: 0.02127562495320083\n",
      "Epoch 61, step 49266: Generator loss: 5.520778922473687, discriminator loss: 0.02285044310647813\n",
      "Epoch 62, step 50048: Generator loss: 5.546623942187378, discriminator loss: 0.021792757409134077\n",
      "Epoch 63, step 50830: Generator loss: 5.576869573739482, discriminator loss: 0.021749617300553685\n",
      "Epoch 64, step 51612: Generator loss: 5.595615750993303, discriminator loss: 0.021945351281601105\n",
      "Epoch 65, step 52394: Generator loss: 5.546288172607226, discriminator loss: 0.02233036475487129\n",
      "Epoch 66, step 53176: Generator loss: 5.566488134891481, discriminator loss: 0.021691616938111218\n",
      "Epoch 67, step 53958: Generator loss: 5.552885534818218, discriminator loss: 0.021679885053645147\n",
      "Epoch 68, step 54740: Generator loss: 5.575038516003154, discriminator loss: 0.021700273828862037\n",
      "Epoch 69, step 55522: Generator loss: 5.545563346589623, discriminator loss: 0.022303483621014857\n",
      "Epoch 70, step 56304: Generator loss: 5.526357314775667, discriminator loss: 0.02184798320858974\n",
      "Epoch 71, step 57086: Generator loss: 5.453924788233565, discriminator loss: 0.022683129240365717\n",
      "Epoch 72, step 57868: Generator loss: 5.545402811006518, discriminator loss: 0.02205227618165258\n",
      "Epoch 73, step 58650: Generator loss: 5.4878783116255265, discriminator loss: 0.022006753738016804\n",
      "Epoch 74, step 59432: Generator loss: 5.542772563217239, discriminator loss: 0.02151393267663097\n",
      "Epoch 75, step 60214: Generator loss: 5.513938189772394, discriminator loss: 0.022471151055941996\n",
      "Epoch 76, step 60996: Generator loss: 5.545694366440447, discriminator loss: 0.021602243439013326\n",
      "Epoch 77, step 61778: Generator loss: 5.534843757634277, discriminator loss: 0.02237005972826278\n",
      "Epoch 78, step 62560: Generator loss: 5.535086688483153, discriminator loss: 0.02238282219916488\n",
      "Epoch 79, step 63342: Generator loss: 5.541634084623482, discriminator loss: 0.021536161102440318\n",
      "Epoch 80, step 64124: Generator loss: 5.501351737610215, discriminator loss: 0.02241709767370378\n",
      "Epoch 81, step 64906: Generator loss: 5.603094477177888, discriminator loss: 0.021109212684454624\n",
      "Epoch 82, step 65688: Generator loss: 5.577533380454767, discriminator loss: 0.02158774499414619\n",
      "Epoch 83, step 66470: Generator loss: 5.5267303398503085, discriminator loss: 0.022464919258313988\n",
      "Epoch 84, step 67252: Generator loss: 5.549750910390681, discriminator loss: 0.02175437806047915\n",
      "Epoch 85, step 68034: Generator loss: 5.568242777948802, discriminator loss: 0.022458361570135022\n",
      "Epoch 86, step 68816: Generator loss: 5.5258684243692455, discriminator loss: 0.022000222794992672\n",
      "Epoch 86, step 69598: Generator loss: 5.51501822349665, discriminator loss: 0.022080023828393688\n",
      "Epoch 87, step 70380: Generator loss: 5.548283969044999, discriminator loss: 0.022011437564087886\n",
      "Epoch 88, step 71162: Generator loss: 5.506150837139706, discriminator loss: 0.022235955564838726\n",
      "Epoch 89, step 71944: Generator loss: 5.573674218429022, discriminator loss: 0.02169145305243216\n",
      "Epoch 90, step 72726: Generator loss: 5.5696346235397165, discriminator loss: 0.02174814497126632\n",
      "Epoch 91, step 73508: Generator loss: 5.54480890544784, discriminator loss: 0.02208193240370457\n",
      "Epoch 92, step 74290: Generator loss: 5.551825541059684, discriminator loss: 0.022197098834761654\n",
      "Epoch 93, step 75072: Generator loss: 5.584131114013363, discriminator loss: 0.021503317109999892\n",
      "Epoch 94, step 75854: Generator loss: 5.5532823651647885, discriminator loss: 0.022032325861968422\n",
      "Epoch 95, step 76636: Generator loss: 5.550235991587717, discriminator loss: 0.02160664666545291\n",
      "Epoch 96, step 77418: Generator loss: 5.593200893353309, discriminator loss: 0.021436972432541158\n",
      "Epoch 97, step 78200: Generator loss: 5.541062184306971, discriminator loss: 0.022039334126271733\n",
      "Epoch 98, step 78982: Generator loss: 5.5298256111876745, discriminator loss: 0.022270195689016618\n",
      "Epoch 99, step 79764: Generator loss: 5.537624840846147, discriminator loss: 0.022249956883530566\n",
      "Epoch 0, step 782: Generator loss: 5.550923335887587, discriminator loss: 0.0221003865399767\n",
      "Epoch 1, step 1564: Generator loss: 5.51831711771543, discriminator loss: 0.021807800823598726\n",
      "Epoch 2, step 2346: Generator loss: 5.585963018105157, discriminator loss: 0.021909899190854287\n",
      "Epoch 3, step 3128: Generator loss: 5.567720191253119, discriminator loss: 0.02159377016023494\n",
      "Epoch 4, step 3910: Generator loss: 5.557117034712106, discriminator loss: 0.022138545193466478\n",
      "Epoch 5, step 4692: Generator loss: 5.531094344985462, discriminator loss: 0.02215735450901491\n",
      "Epoch 6, step 5474: Generator loss: 5.541556790661625, discriminator loss: 0.021982149961178223\n",
      "Epoch 7, step 6256: Generator loss: 5.573412715321612, discriminator loss: 0.02140165136173087\n",
      "Epoch 8, step 7038: Generator loss: 5.4997192008416125, discriminator loss: 0.022143053745700837\n",
      "Epoch 9, step 7820: Generator loss: 5.494472590248895, discriminator loss: 0.022507877730409576\n",
      "Epoch 10, step 8602: Generator loss: 5.5109018102631255, discriminator loss: 0.02198640424061492\n",
      "Epoch 11, step 9384: Generator loss: 5.542905925179996, discriminator loss: 0.022331004346901905\n",
      "Epoch 12, step 10166: Generator loss: 5.571173183143592, discriminator loss: 0.0212740377839202\n",
      "Epoch 13, step 10948: Generator loss: 5.526883171037641, discriminator loss: 0.02269957501731832\n",
      "Epoch 14, step 11730: Generator loss: 5.585180228323588, discriminator loss: 0.021202476544524847\n",
      "Epoch 15, step 12512: Generator loss: 5.517665428273816, discriminator loss: 0.022563595777017838\n",
      "Epoch 16, step 13294: Generator loss: 5.572612280126118, discriminator loss: 0.021457707426032008\n",
      "Epoch 17, step 14076: Generator loss: 5.49648142287798, discriminator loss: 0.0226452723735005\n",
      "Epoch 18, step 14858: Generator loss: 5.506191040243941, discriminator loss: 0.022319452805549405\n",
      "Epoch 19, step 15640: Generator loss: 5.606190988169912, discriminator loss: 0.021755214144602006\n",
      "Epoch 20, step 16422: Generator loss: 5.539691480529287, discriminator loss: 0.022414296707662464\n",
      "Epoch 21, step 17204: Generator loss: 5.549348461658451, discriminator loss: 0.02104128924016235\n",
      "Epoch 22, step 17986: Generator loss: 5.561207002386107, discriminator loss: 0.022471565736548224\n",
      "Epoch 23, step 18768: Generator loss: 5.495930106438643, discriminator loss: 0.022460301169384824\n",
      "Epoch 24, step 19550: Generator loss: 5.561585740969918, discriminator loss: 0.02152518301135134\n",
      "Epoch 25, step 20332: Generator loss: 5.534887735800978, discriminator loss: 0.021880502088169294\n",
      "Epoch 26, step 21114: Generator loss: 5.531524196610123, discriminator loss: 0.021734542169612958\n",
      "Epoch 27, step 21896: Generator loss: 5.549385756787743, discriminator loss: 0.021705832944818492\n",
      "Epoch 28, step 22678: Generator loss: 5.544071158484731, discriminator loss: 0.02237669263711519\n",
      "Epoch 29, step 23460: Generator loss: 5.514265845803659, discriminator loss: 0.021634685773285728\n",
      "Epoch 30, step 24242: Generator loss: 5.56597061840165, discriminator loss: 0.0219714842144819\n",
      "Epoch 31, step 25024: Generator loss: 5.480070220235064, discriminator loss: 0.022126367103065467\n",
      "Epoch 32, step 25806: Generator loss: 5.5617991786478775, discriminator loss: 0.022012077857290046\n",
      "Epoch 33, step 26588: Generator loss: 5.5089306624039365, discriminator loss: 0.02225236605187104\n",
      "Epoch 34, step 27370: Generator loss: 5.52814911149652, discriminator loss: 0.021732659285466503\n",
      "Epoch 35, step 28152: Generator loss: 5.533196723674562, discriminator loss: 0.02256932089467297\n",
      "Epoch 36, step 28934: Generator loss: 5.533535430498449, discriminator loss: 0.021677180886795034\n",
      "Epoch 37, step 29716: Generator loss: 5.556971605476515, discriminator loss: 0.021790905835349914\n",
      "Epoch 38, step 30498: Generator loss: 5.539023470085908, discriminator loss: 0.022178603015551853\n",
      "Epoch 39, step 31280: Generator loss: 5.518522997951254, discriminator loss: 0.0218888896653224\n",
      "Epoch 40, step 32062: Generator loss: 5.557650200241369, discriminator loss: 0.02174826150032385\n",
      "Epoch 41, step 32844: Generator loss: 5.540405758811383, discriminator loss: 0.02205285882813111\n",
      "Epoch 42, step 33626: Generator loss: 5.541110314371635, discriminator loss: 0.02193014525815539\n",
      "Epoch 43, step 34408: Generator loss: 5.4936858418652434, discriminator loss: 0.02200942319970284\n",
      "Epoch 43, step 35190: Generator loss: 5.563990039288843, discriminator loss: 0.02179643565483985\n",
      "Epoch 44, step 35972: Generator loss: 5.571119217006751, discriminator loss: 0.02214994630984763\n",
      "Epoch 45, step 36754: Generator loss: 5.516603336309839, discriminator loss: 0.0218787017877421\n",
      "Epoch 46, step 37536: Generator loss: 5.507102240686829, discriminator loss: 0.02257862931017375\n",
      "Epoch 47, step 38318: Generator loss: 5.507387223451032, discriminator loss: 0.021904658838508725\n",
      "Epoch 48, step 39100: Generator loss: 5.564786986011988, discriminator loss: 0.021580553731209394\n",
      "Epoch 49, step 39882: Generator loss: 5.534560800513343, discriminator loss: 0.022274802535083946\n",
      "Epoch 50, step 40664: Generator loss: 5.626284521863901, discriminator loss: 0.02092560083019402\n",
      "Epoch 51, step 41446: Generator loss: 5.476233787853692, discriminator loss: 0.022930388736640998\n",
      "Epoch 52, step 42228: Generator loss: 5.569086063243536, discriminator loss: 0.021153404740640498\n",
      "Epoch 53, step 43010: Generator loss: 5.5499073312715455, discriminator loss: 0.022282864499475124\n",
      "Epoch 54, step 43792: Generator loss: 5.615677919534169, discriminator loss: 0.021284398064255458\n",
      "Epoch 55, step 44574: Generator loss: 5.53808305086687, discriminator loss: 0.022179641048102366\n",
      "Epoch 56, step 45356: Generator loss: 5.526681346356711, discriminator loss: 0.0224010510348698\n",
      "Epoch 57, step 46138: Generator loss: 5.520635122533339, discriminator loss: 0.022244001971259992\n",
      "Epoch 58, step 46920: Generator loss: 5.622596568158828, discriminator loss: 0.02109802466914861\n",
      "Epoch 59, step 47702: Generator loss: 5.506878531497453, discriminator loss: 0.022268274631363147\n",
      "Epoch 60, step 48484: Generator loss: 5.539879612910472, discriminator loss: 0.022058053648687594\n",
      "Epoch 61, step 49266: Generator loss: 5.55906121627144, discriminator loss: 0.022282361979786863\n",
      "Epoch 62, step 50048: Generator loss: 5.534638007278629, discriminator loss: 0.021863218772646652\n",
      "Epoch 63, step 50830: Generator loss: 5.482626850342812, discriminator loss: 0.02285216387886497\n",
      "Epoch 64, step 51612: Generator loss: 5.611164160091856, discriminator loss: 0.021135642545481146\n",
      "Epoch 65, step 52394: Generator loss: 5.6167142702185595, discriminator loss: 0.02141828698736121\n",
      "Epoch 66, step 53176: Generator loss: 5.539236888251345, discriminator loss: 0.022531328718666303\n",
      "Epoch 67, step 53958: Generator loss: 5.556381136560077, discriminator loss: 0.021961907052870887\n",
      "Epoch 68, step 54740: Generator loss: 5.52904708489127, discriminator loss: 0.022091918235794743\n",
      "Epoch 69, step 55522: Generator loss: 5.546923211163565, discriminator loss: 0.021630037002220198\n",
      "Epoch 70, step 56304: Generator loss: 5.518990165437275, discriminator loss: 0.022664972546431822\n",
      "Epoch 71, step 57086: Generator loss: 5.564776115100407, discriminator loss: 0.021399017241771543\n",
      "Epoch 72, step 57868: Generator loss: 5.552036240887463, discriminator loss: 0.022322352033268072\n",
      "Epoch 73, step 58650: Generator loss: 5.556125108543257, discriminator loss: 0.02153834946575046\n",
      "Epoch 74, step 59432: Generator loss: 5.478772577422354, discriminator loss: 0.022622964918360935\n",
      "Epoch 75, step 60214: Generator loss: 5.558744401882984, discriminator loss: 0.021796613553827116\n",
      "Epoch 76, step 60996: Generator loss: 5.611724297408862, discriminator loss: 0.021281823194335636\n",
      "Epoch 77, step 61778: Generator loss: 5.533715563357024, discriminator loss: 0.022725253481753742\n",
      "Epoch 78, step 62560: Generator loss: 5.556463153770809, discriminator loss: 0.021845787930328535\n",
      "Epoch 79, step 63342: Generator loss: 5.518331382585616, discriminator loss: 0.022269060493737457\n",
      "Epoch 80, step 64124: Generator loss: 5.5088695821249845, discriminator loss: 0.021961669129726778\n",
      "Epoch 81, step 64906: Generator loss: 5.53863097090855, discriminator loss: 0.021776481785828132\n",
      "Epoch 82, step 65688: Generator loss: 5.519508128275964, discriminator loss: 0.022451605027913123\n",
      "Epoch 83, step 66470: Generator loss: 5.546916703129058, discriminator loss: 0.02202476469723654\n",
      "Epoch 84, step 67252: Generator loss: 5.563964652283415, discriminator loss: 0.02179905081458409\n",
      "Epoch 85, step 68034: Generator loss: 5.5389371192668655, discriminator loss: 0.022014408891298888\n",
      "Epoch 86, step 68816: Generator loss: 5.536091659380041, discriminator loss: 0.021727589670332857\n",
      "Epoch 86, step 69598: Generator loss: 5.566323912662006, discriminator loss: 0.02187383570648787\n",
      "Epoch 87, step 70380: Generator loss: 5.539883252604845, discriminator loss: 0.02213764659967512\n",
      "Epoch 88, step 71162: Generator loss: 5.541776393685501, discriminator loss: 0.021705974027981273\n",
      "Epoch 89, step 71944: Generator loss: 5.5753392996385625, discriminator loss: 0.022097193964404478\n",
      "Epoch 90, step 72726: Generator loss: 5.5567023815096555, discriminator loss: 0.022078211863508532\n",
      "Epoch 91, step 73508: Generator loss: 5.592214429469977, discriminator loss: 0.022013834514178775\n",
      "Epoch 92, step 74290: Generator loss: 5.605560390540704, discriminator loss: 0.02174891857043281\n",
      "Epoch 93, step 75072: Generator loss: 5.53019644293334, discriminator loss: 0.02251719428634846\n",
      "Epoch 94, step 75854: Generator loss: 5.55110161505697, discriminator loss: 0.021612533697170106\n",
      "Epoch 95, step 76636: Generator loss: 5.557004081623635, discriminator loss: 0.021995079247495303\n",
      "Epoch 96, step 77418: Generator loss: 5.522381138008881, discriminator loss: 0.02251841152584668\n",
      "Epoch 97, step 78200: Generator loss: 5.548098881836127, discriminator loss: 0.021774771479208546\n",
      "Epoch 98, step 78982: Generator loss: 5.577439770369277, discriminator loss: 0.02164789951523135\n",
      "Epoch 99, step 79764: Generator loss: 5.562510338585698, discriminator loss: 0.021530863080445266\n",
      "Epoch 0, step 782: Generator loss: 5.589466175459841, discriminator loss: 0.021978244771097135\n",
      "Epoch 1, step 1564: Generator loss: 5.565888479847434, discriminator loss: 0.02193222391565597\n",
      "Epoch 2, step 2346: Generator loss: 5.501893906337213, discriminator loss: 0.022387752078397362\n",
      "Epoch 3, step 3128: Generator loss: 5.517995452636953, discriminator loss: 0.021891939147706638\n",
      "Epoch 4, step 3910: Generator loss: 5.558498753915968, discriminator loss: 0.02172666976509418\n",
      "Epoch 5, step 4692: Generator loss: 5.532702744159557, discriminator loss: 0.022289983992514844\n",
      "Epoch 6, step 5474: Generator loss: 5.546856405180132, discriminator loss: 0.02189148594017913\n",
      "Epoch 7, step 6256: Generator loss: 5.5428574012063665, discriminator loss: 0.021281738017621406\n",
      "Epoch 8, step 7038: Generator loss: 5.520360277132002, discriminator loss: 0.02230526864185663\n",
      "Epoch 9, step 7820: Generator loss: 5.540111248450512, discriminator loss: 0.022263136329700985\n",
      "Epoch 10, step 8602: Generator loss: 5.493892392234122, discriminator loss: 0.022135119610394605\n",
      "Epoch 11, step 9384: Generator loss: 5.561478366632291, discriminator loss: 0.022399312016837602\n",
      "Epoch 12, step 10166: Generator loss: 5.529906340572224, discriminator loss: 0.02120624031559531\n",
      "Epoch 13, step 10948: Generator loss: 5.448567711178911, discriminator loss: 0.023085499686115122\n",
      "Epoch 14, step 11730: Generator loss: 5.546026029245321, discriminator loss: 0.021627620995745014\n",
      "Epoch 15, step 12512: Generator loss: 5.558914234571129, discriminator loss: 0.02177998070370481\n",
      "Epoch 16, step 13294: Generator loss: 5.5938992164933845, discriminator loss: 0.02199127851887736\n",
      "Epoch 17, step 14076: Generator loss: 5.616655993034775, discriminator loss: 0.020990267993234432\n",
      "Epoch 18, step 14858: Generator loss: 5.532737049605229, discriminator loss: 0.022758655748187154\n",
      "Epoch 19, step 15640: Generator loss: 5.533063410493111, discriminator loss: 0.021850547354008598\n",
      "Epoch 20, step 16422: Generator loss: 5.630635221900847, discriminator loss: 0.021217409747323984\n",
      "Epoch 21, step 17204: Generator loss: 5.509126618695069, discriminator loss: 0.023139358410323527\n",
      "Epoch 22, step 17986: Generator loss: 5.5689311417777265, discriminator loss: 0.021893186076982506\n",
      "Epoch 23, step 18768: Generator loss: 5.583138542102124, discriminator loss: 0.021206123015100165\n",
      "Epoch 24, step 19550: Generator loss: 5.545365321971572, discriminator loss: 0.02232868285805625\n",
      "Epoch 25, step 20332: Generator loss: 5.55917868589806, discriminator loss: 0.02175405827652227\n",
      "Epoch 26, step 21114: Generator loss: 5.543785808641281, discriminator loss: 0.021752595211036247\n",
      "Epoch 27, step 21896: Generator loss: 5.552928047107003, discriminator loss: 0.022000750619382187\n",
      "Epoch 28, step 22678: Generator loss: 5.55077005591234, discriminator loss: 0.022554742157771295\n",
      "Epoch 29, step 23460: Generator loss: 5.5980063698175915, discriminator loss: 0.021351675501764963\n",
      "Epoch 30, step 24242: Generator loss: 5.587511401652075, discriminator loss: 0.021886179539853747\n",
      "Epoch 31, step 25024: Generator loss: 5.538410656287547, discriminator loss: 0.022243531364852256\n",
      "Epoch 32, step 25806: Generator loss: 5.537683179616316, discriminator loss: 0.022162379270605256\n",
      "Epoch 33, step 26588: Generator loss: 5.564917332071181, discriminator loss: 0.021733950976582483\n",
      "Epoch 34, step 27370: Generator loss: 5.570382659697479, discriminator loss: 0.022023594125395514\n",
      "Epoch 35, step 28152: Generator loss: 5.59319533350522, discriminator loss: 0.02174039300777675\n",
      "Epoch 36, step 28934: Generator loss: 5.4687128829224365, discriminator loss: 0.0228997296612005\n",
      "Epoch 37, step 29716: Generator loss: 5.535897297627479, discriminator loss: 0.021560208322039653\n",
      "Epoch 38, step 30498: Generator loss: 5.548636604757867, discriminator loss: 0.021786218105346138\n",
      "Epoch 39, step 31280: Generator loss: 5.56571702152262, discriminator loss: 0.021748311394561202\n",
      "Epoch 40, step 32062: Generator loss: 5.53380540508748, discriminator loss: 0.021847111805666092\n",
      "Epoch 41, step 32844: Generator loss: 5.535327141852033, discriminator loss: 0.021881990960044104\n",
      "Epoch 42, step 33626: Generator loss: 5.563621896002299, discriminator loss: 0.02194903903614606\n",
      "Epoch 43, step 34408: Generator loss: 5.606775232593113, discriminator loss: 0.02165708444087199\n",
      "Epoch 43, step 35190: Generator loss: 5.544746003797291, discriminator loss: 0.0220034565131092\n",
      "Epoch 44, step 35972: Generator loss: 5.560106004290573, discriminator loss: 0.022029504694444767\n",
      "Epoch 45, step 36754: Generator loss: 5.5442689257814575, discriminator loss: 0.021567415388877423\n",
      "Epoch 46, step 37536: Generator loss: 5.520782492044942, discriminator loss: 0.022512527251177836\n",
      "Epoch 47, step 38318: Generator loss: 5.5811385773027045, discriminator loss: 0.0217338151127562\n",
      "Epoch 48, step 39100: Generator loss: 5.5250970256298135, discriminator loss: 0.021821538494337732\n",
      "Epoch 49, step 39882: Generator loss: 5.49878470367178, discriminator loss: 0.022187213592059784\n",
      "Epoch 50, step 40664: Generator loss: 5.563139436799842, discriminator loss: 0.021409233602697534\n",
      "Epoch 51, step 41446: Generator loss: 5.494408240403664, discriminator loss: 0.022446735960650537\n",
      "Epoch 52, step 42228: Generator loss: 5.484031738832473, discriminator loss: 0.022648171859655224\n",
      "Epoch 53, step 43010: Generator loss: 5.489173904404311, discriminator loss: 0.021919255925263857\n",
      "Epoch 54, step 43792: Generator loss: 5.50307141179624, discriminator loss: 0.021847294173989437\n",
      "Epoch 55, step 44574: Generator loss: 5.522416033098455, discriminator loss: 0.022044131411430065\n",
      "Epoch 56, step 45356: Generator loss: 5.580881610855727, discriminator loss: 0.021481066060614517\n",
      "Epoch 57, step 46138: Generator loss: 5.480118574693686, discriminator loss: 0.022947422482128083\n",
      "Epoch 58, step 46920: Generator loss: 5.565052949559045, discriminator loss: 0.021205628756433708\n",
      "Epoch 59, step 47702: Generator loss: 5.571385642146823, discriminator loss: 0.02158175422625421\n",
      "Epoch 60, step 48484: Generator loss: 5.528313056282378, discriminator loss: 0.02181542637523341\n",
      "Epoch 61, step 49266: Generator loss: 5.528987286340855, discriminator loss: 0.022323265884016806\n",
      "Epoch 62, step 50048: Generator loss: 5.554787514459751, discriminator loss: 0.022345316693987084\n",
      "Epoch 63, step 50830: Generator loss: 5.565362591267854, discriminator loss: 0.021647724216235786\n",
      "Epoch 64, step 51612: Generator loss: 5.532191585701745, discriminator loss: 0.02195260016654934\n",
      "Epoch 65, step 52394: Generator loss: 5.575988821971143, discriminator loss: 0.02149543518830529\n",
      "Epoch 66, step 53176: Generator loss: 5.577693047730821, discriminator loss: 0.02187697425284577\n",
      "Epoch 67, step 53958: Generator loss: 5.6035264007880565, discriminator loss: 0.02131757016032888\n",
      "Epoch 68, step 54740: Generator loss: 5.591217422119497, discriminator loss: 0.021786070032202474\n",
      "Epoch 69, step 55522: Generator loss: 5.51646790602018, discriminator loss: 0.022725355796530247\n",
      "Epoch 70, step 56304: Generator loss: 5.550207111841579, discriminator loss: 0.022349388127231883\n",
      "Epoch 71, step 57086: Generator loss: 5.566096891832473, discriminator loss: 0.02118898752738561\n",
      "Epoch 72, step 57868: Generator loss: 5.5139879503518365, discriminator loss: 0.021959384266451436\n",
      "Epoch 73, step 58650: Generator loss: 5.51928244039531, discriminator loss: 0.022184014616622234\n",
      "Epoch 74, step 59432: Generator loss: 5.562008735164043, discriminator loss: 0.02194929333216725\n",
      "Epoch 75, step 60214: Generator loss: 5.555492374293339, discriminator loss: 0.02197736187342585\n",
      "Epoch 76, step 60996: Generator loss: 5.5401284749550594, discriminator loss: 0.021925793886256144\n",
      "Epoch 77, step 61778: Generator loss: 5.570521174184496, discriminator loss: 0.021655163224226778\n",
      "Epoch 78, step 62560: Generator loss: 5.555851775971833, discriminator loss: 0.021536891983436147\n",
      "Epoch 79, step 63342: Generator loss: 5.548327009391293, discriminator loss: 0.022099038573813214\n",
      "Epoch 80, step 64124: Generator loss: 5.485095442408496, discriminator loss: 0.022787506071626742\n",
      "Epoch 81, step 64906: Generator loss: 5.521351804513764, discriminator loss: 0.021954920361428282\n",
      "Epoch 82, step 65688: Generator loss: 5.529307145901651, discriminator loss: 0.021492455248742378\n",
      "Epoch 83, step 66470: Generator loss: 5.542852704787187, discriminator loss: 0.02222994900882585\n",
      "Epoch 84, step 67252: Generator loss: 5.572094516680976, discriminator loss: 0.021282646003836656\n",
      "Epoch 85, step 68034: Generator loss: 5.597100626782074, discriminator loss: 0.022027309505207007\n",
      "Epoch 86, step 68816: Generator loss: 5.526566335307364, discriminator loss: 0.021908752370716218\n",
      "Epoch 86, step 69598: Generator loss: 5.534266367592779, discriminator loss: 0.02196169132604966\n",
      "Epoch 87, step 70380: Generator loss: 5.534277590949214, discriminator loss: 0.021876379085021096\n",
      "Epoch 88, step 71162: Generator loss: 5.514832427739497, discriminator loss: 0.022161818553676917\n",
      "Epoch 89, step 71944: Generator loss: 5.527452674363278, discriminator loss: 0.02206683477483299\n",
      "Epoch 90, step 72726: Generator loss: 5.579168500802709, discriminator loss: 0.0216092778668415\n",
      "Epoch 91, step 73508: Generator loss: 5.536425845397403, discriminator loss: 0.02227459884846532\n",
      "Epoch 92, step 74290: Generator loss: 5.58807009199392, discriminator loss: 0.021747686483068344\n",
      "Epoch 93, step 75072: Generator loss: 5.496305076057645, discriminator loss: 0.022338446256194886\n",
      "Epoch 94, step 75854: Generator loss: 5.601790140961748, discriminator loss: 0.02102601934609044\n",
      "Epoch 95, step 76636: Generator loss: 5.571301515754836, discriminator loss: 0.022270876603127168\n",
      "Epoch 96, step 77418: Generator loss: 5.497438667375408, discriminator loss: 0.02229643981579854\n",
      "Epoch 97, step 78200: Generator loss: 5.586870885566073, discriminator loss: 0.021772205252009787\n",
      "Epoch 98, step 78982: Generator loss: 5.498186673044848, discriminator loss: 0.021913291580374805\n",
      "Epoch 99, step 79764: Generator loss: 5.586588449795236, discriminator loss: 0.021658386308354503\n",
      "Epoch 0, step 782: Generator loss: 5.568102567092237, discriminator loss: 0.02193709345096173\n",
      "Epoch 1, step 1564: Generator loss: 5.6004941530544725, discriminator loss: 0.021621464927177043\n",
      "Epoch 2, step 2346: Generator loss: 5.56109189560346, discriminator loss: 0.02194700259810596\n",
      "Epoch 3, step 3128: Generator loss: 5.564375832257676, discriminator loss: 0.02162105258782883\n",
      "Epoch 4, step 3910: Generator loss: 5.508675780137797, discriminator loss: 0.021928397910026324\n",
      "Epoch 5, step 4692: Generator loss: 5.537242330858473, discriminator loss: 0.022103902943375168\n",
      "Epoch 6, step 5474: Generator loss: 5.594819400011738, discriminator loss: 0.021881101990614046\n",
      "Epoch 7, step 6256: Generator loss: 5.59419937999657, discriminator loss: 0.021515208360193546\n",
      "Epoch 8, step 7038: Generator loss: 5.534021125730037, discriminator loss: 0.02218956543106461\n",
      "Epoch 9, step 7820: Generator loss: 5.550947869830128, discriminator loss: 0.02162127832428354\n",
      "Epoch 10, step 8602: Generator loss: 5.5363711530290285, discriminator loss: 0.02190255153003625\n",
      "Epoch 11, step 9384: Generator loss: 5.602757251476082, discriminator loss: 0.02158899965238714\n",
      "Epoch 12, step 10166: Generator loss: 5.522912090086871, discriminator loss: 0.022431741881272435\n",
      "Epoch 13, step 10948: Generator loss: 5.475652437990581, discriminator loss: 0.022262642845747253\n",
      "Epoch 14, step 11730: Generator loss: 5.503351107887595, discriminator loss: 0.02229014808184624\n",
      "Epoch 15, step 12512: Generator loss: 5.522524517820314, discriminator loss: 0.021818937580732372\n",
      "Epoch 16, step 13294: Generator loss: 5.452087162705641, discriminator loss: 0.022810524504017247\n",
      "Epoch 17, step 14076: Generator loss: 5.54033544484307, discriminator loss: 0.021669353210174328\n",
      "Epoch 18, step 14858: Generator loss: 5.523012280769055, discriminator loss: 0.02173767921745852\n",
      "Epoch 19, step 15640: Generator loss: 5.552155069682911, discriminator loss: 0.02175792525885653\n",
      "Epoch 20, step 16422: Generator loss: 5.575287672564809, discriminator loss: 0.021302290858350743\n",
      "Epoch 21, step 17204: Generator loss: 5.555284283655078, discriminator loss: 0.02211230346406609\n",
      "Epoch 22, step 17986: Generator loss: 5.558997703025411, discriminator loss: 0.021434372190333645\n",
      "Epoch 23, step 18768: Generator loss: 5.545330734813913, discriminator loss: 0.022469295662782555\n",
      "Epoch 24, step 19550: Generator loss: 5.545940096116117, discriminator loss: 0.02191420249424188\n",
      "Epoch 25, step 20332: Generator loss: 5.586183685780791, discriminator loss: 0.021600555942948827\n",
      "Epoch 26, step 21114: Generator loss: 5.52835861618257, discriminator loss: 0.021984316831421283\n",
      "Epoch 27, step 21896: Generator loss: 5.507760999147853, discriminator loss: 0.02245781670712756\n",
      "Epoch 28, step 22678: Generator loss: 5.559002203709628, discriminator loss: 0.021748546387671566\n",
      "Epoch 29, step 23460: Generator loss: 5.573871766209907, discriminator loss: 0.02181157879168147\n",
      "Epoch 30, step 24242: Generator loss: 5.562179622747711, discriminator loss: 0.021550427913568128\n",
      "Epoch 31, step 25024: Generator loss: 5.580856390316465, discriminator loss: 0.021888040494747813\n",
      "Epoch 32, step 25806: Generator loss: 5.528572278254481, discriminator loss: 0.021838868777636803\n",
      "Epoch 33, step 26588: Generator loss: 5.564557834049627, discriminator loss: 0.021617369630726538\n",
      "Epoch 34, step 27370: Generator loss: 5.545352492491, discriminator loss: 0.022117243300530276\n",
      "Epoch 35, step 28152: Generator loss: 5.594925427375852, discriminator loss: 0.02148903442798015\n",
      "Epoch 36, step 28934: Generator loss: 5.594220950475433, discriminator loss: 0.02208207391858662\n",
      "Epoch 37, step 29716: Generator loss: 5.557706639589871, discriminator loss: 0.021528640516933616\n",
      "Epoch 38, step 30498: Generator loss: 5.528218861431122, discriminator loss: 0.022690571067483185\n",
      "Epoch 39, step 31280: Generator loss: 5.583623023899011, discriminator loss: 0.021244656795080828\n",
      "Epoch 40, step 32062: Generator loss: 5.582620832316408, discriminator loss: 0.021326615132422396\n",
      "Epoch 41, step 32844: Generator loss: 5.5483347247628725, discriminator loss: 0.022661868470323185\n",
      "Epoch 42, step 33626: Generator loss: 5.5402289943012155, discriminator loss: 0.0218188557362951\n",
      "Epoch 43, step 34408: Generator loss: 5.5060886306226084, discriminator loss: 0.0217805925594128\n",
      "Epoch 43, step 35190: Generator loss: 5.534492482309751, discriminator loss: 0.02206840091908966\n",
      "Epoch 44, step 35972: Generator loss: 5.530058724191185, discriminator loss: 0.022199087849189395\n",
      "Epoch 45, step 36754: Generator loss: 5.533929727266508, discriminator loss: 0.021948465342333315\n",
      "Epoch 46, step 37536: Generator loss: 5.509220553785949, discriminator loss: 0.02167237049702299\n",
      "Epoch 47, step 38318: Generator loss: 5.4923024579996955, discriminator loss: 0.02234058324819254\n",
      "Epoch 48, step 39100: Generator loss: 5.573979854583743, discriminator loss: 0.021114171668410765\n",
      "Epoch 49, step 39882: Generator loss: 5.537891819044146, discriminator loss: 0.022319373806588404\n",
      "Epoch 50, step 40664: Generator loss: 5.566977308839184, discriminator loss: 0.02171320875253901\n",
      "Epoch 51, step 41446: Generator loss: 5.609190585973011, discriminator loss: 0.021433390921715395\n",
      "Epoch 52, step 42228: Generator loss: 5.506132992332238, discriminator loss: 0.022403631963447943\n",
      "Epoch 53, step 43010: Generator loss: 5.571556363874077, discriminator loss: 0.02106979864311838\n",
      "Epoch 54, step 43792: Generator loss: 5.4889632143328, discriminator loss: 0.022687245728424232\n",
      "Epoch 55, step 44574: Generator loss: 5.615359455118396, discriminator loss: 0.021168953253496985\n",
      "Epoch 56, step 45356: Generator loss: 5.576597371064794, discriminator loss: 0.02170408189521811\n",
      "Epoch 57, step 46138: Generator loss: 5.55369272500353, discriminator loss: 0.021837724567167094\n",
      "Epoch 58, step 46920: Generator loss: 5.552010971566911, discriminator loss: 0.022097931809775786\n",
      "Epoch 59, step 47702: Generator loss: 5.5526345574947245, discriminator loss: 0.022225669384195606\n",
      "Epoch 60, step 48484: Generator loss: 5.489784772438777, discriminator loss: 0.02263942968113408\n",
      "Epoch 61, step 49266: Generator loss: 5.5218767113697815, discriminator loss: 0.021939981179466675\n",
      "Epoch 62, step 50048: Generator loss: 5.510540163425534, discriminator loss: 0.02227426665183633\n",
      "Epoch 63, step 50830: Generator loss: 5.628127002350213, discriminator loss: 0.021217210316861437\n",
      "Epoch 64, step 51612: Generator loss: 5.5778684963655625, discriminator loss: 0.02177638000281065\n",
      "Epoch 65, step 52394: Generator loss: 5.532073719727111, discriminator loss: 0.02221400735428189\n",
      "Epoch 66, step 53176: Generator loss: 5.576024096335286, discriminator loss: 0.021277722491718373\n",
      "Epoch 67, step 53958: Generator loss: 5.5039901641933495, discriminator loss: 0.022372797572487453\n",
      "Epoch 68, step 54740: Generator loss: 5.506332678563155, discriminator loss: 0.02204704286513939\n",
      "Epoch 69, step 55522: Generator loss: 5.513976592237081, discriminator loss: 0.02197568998356468\n",
      "Epoch 70, step 56304: Generator loss: 5.511056264038282, discriminator loss: 0.022153354544952382\n",
      "Epoch 71, step 57086: Generator loss: 5.549822714627552, discriminator loss: 0.021701834585262803\n",
      "Epoch 72, step 57868: Generator loss: 5.612647710858707, discriminator loss: 0.021636236993753163\n",
      "Epoch 73, step 58650: Generator loss: 5.5097039209302405, discriminator loss: 0.02201985288813324\n",
      "Epoch 74, step 59432: Generator loss: 5.595078268319443, discriminator loss: 0.021906902123649926\n",
      "Epoch 75, step 60214: Generator loss: 5.553511981159218, discriminator loss: 0.021938712534713824\n",
      "Epoch 76, step 60996: Generator loss: 5.568331868447308, discriminator loss: 0.021490850331633345\n"
     ]
    },
    {
     "data": {
      "text/plain": "  0%|          | 0/800 [00:00<?, ?it/s]",
      "application/vnd.jupyter.widget-view+json": {
       "version_major": 2,
       "version_minor": 0,
       "model_id": "278c9e1a7ba14d0f98ce2cd98d21d7a4"
      }
     },
     "metadata": {},
     "output_type": "display_data"
    },
    {
     "data": {
      "text/plain": "  0%|          | 0/800 [00:00<?, ?it/s]",
      "application/vnd.jupyter.widget-view+json": {
       "version_major": 2,
       "version_minor": 0,
       "model_id": "24047a064769460d89f1c5afb32359a5"
      }
     },
     "metadata": {},
     "output_type": "display_data"
    },
    {
     "data": {
      "text/plain": "  0%|          | 0/800 [00:00<?, ?it/s]",
      "application/vnd.jupyter.widget-view+json": {
       "version_major": 2,
       "version_minor": 0,
       "model_id": "18fd22fa6d084980a3954daede89d43a"
      }
     },
     "metadata": {},
     "output_type": "display_data"
    },
    {
     "data": {
      "text/plain": "  0%|          | 0/800 [00:00<?, ?it/s]",
      "application/vnd.jupyter.widget-view+json": {
       "version_major": 2,
       "version_minor": 0,
       "model_id": "432c1eb3e99d42ea887c01e146a31a1a"
      }
     },
     "metadata": {},
     "output_type": "display_data"
    },
    {
     "data": {
      "text/plain": "  0%|          | 0/800 [00:00<?, ?it/s]",
      "application/vnd.jupyter.widget-view+json": {
       "version_major": 2,
       "version_minor": 0,
       "model_id": "22943b31fadd406a8cd10d3d620ca78a"
      }
     },
     "metadata": {},
     "output_type": "display_data"
    },
    {
     "data": {
      "text/plain": "  0%|          | 0/800 [00:00<?, ?it/s]",
      "application/vnd.jupyter.widget-view+json": {
       "version_major": 2,
       "version_minor": 0,
       "model_id": "fc7fa23ade014dd2aa3727903a8dc56c"
      }
     },
     "metadata": {},
     "output_type": "display_data"
    },
    {
     "data": {
      "text/plain": "  0%|          | 0/800 [00:00<?, ?it/s]",
      "application/vnd.jupyter.widget-view+json": {
       "version_major": 2,
       "version_minor": 0,
       "model_id": "fc8d04bfcc394fd2b0e105fce2574b3e"
      }
     },
     "metadata": {},
     "output_type": "display_data"
    },
    {
     "data": {
      "text/plain": "  0%|          | 0/800 [00:00<?, ?it/s]",
      "application/vnd.jupyter.widget-view+json": {
       "version_major": 2,
       "version_minor": 0,
       "model_id": "81c792ccc0894cafac01aaf40eb46bcf"
      }
     },
     "metadata": {},
     "output_type": "display_data"
    },
    {
     "data": {
      "text/plain": "  0%|          | 0/800 [00:00<?, ?it/s]",
      "application/vnd.jupyter.widget-view+json": {
       "version_major": 2,
       "version_minor": 0,
       "model_id": "32b8fcd9a8664d538c70ac89f145a965"
      }
     },
     "metadata": {},
     "output_type": "display_data"
    },
    {
     "data": {
      "text/plain": "  0%|          | 0/800 [00:00<?, ?it/s]",
      "application/vnd.jupyter.widget-view+json": {
       "version_major": 2,
       "version_minor": 0,
       "model_id": "eccdaa9211744930a050a3c07051b040"
      }
     },
     "metadata": {},
     "output_type": "display_data"
    },
    {
     "data": {
      "text/plain": "  0%|          | 0/800 [00:00<?, ?it/s]",
      "application/vnd.jupyter.widget-view+json": {
       "version_major": 2,
       "version_minor": 0,
       "model_id": "e0e542435bdd4cf3b8a5f2a7d6c64fe9"
      }
     },
     "metadata": {},
     "output_type": "display_data"
    },
    {
     "data": {
      "text/plain": "  0%|          | 0/800 [00:00<?, ?it/s]",
      "application/vnd.jupyter.widget-view+json": {
       "version_major": 2,
       "version_minor": 0,
       "model_id": "689281837d314c8e915270af6d44e4e7"
      }
     },
     "metadata": {},
     "output_type": "display_data"
    },
    {
     "data": {
      "text/plain": "  0%|          | 0/800 [00:00<?, ?it/s]",
      "application/vnd.jupyter.widget-view+json": {
       "version_major": 2,
       "version_minor": 0,
       "model_id": "226ffd305d0e46fea335217299a91d2c"
      }
     },
     "metadata": {},
     "output_type": "display_data"
    },
    {
     "data": {
      "text/plain": "  0%|          | 0/800 [00:00<?, ?it/s]",
      "application/vnd.jupyter.widget-view+json": {
       "version_major": 2,
       "version_minor": 0,
       "model_id": "a54ad78929d74ac4a6bcd73f80d023c3"
      }
     },
     "metadata": {},
     "output_type": "display_data"
    },
    {
     "data": {
      "text/plain": "  0%|          | 0/800 [00:00<?, ?it/s]",
      "application/vnd.jupyter.widget-view+json": {
       "version_major": 2,
       "version_minor": 0,
       "model_id": "57a203a198574b5398d1f4f5f7d5ce47"
      }
     },
     "metadata": {},
     "output_type": "display_data"
    },
    {
     "data": {
      "text/plain": "  0%|          | 0/800 [00:00<?, ?it/s]",
      "application/vnd.jupyter.widget-view+json": {
       "version_major": 2,
       "version_minor": 0,
       "model_id": "46a6c16a659a41178bf8e90dd1b93967"
      }
     },
     "metadata": {},
     "output_type": "display_data"
    },
    {
     "data": {
      "text/plain": "  0%|          | 0/800 [00:00<?, ?it/s]",
      "application/vnd.jupyter.widget-view+json": {
       "version_major": 2,
       "version_minor": 0,
       "model_id": "42564b3530fb4dcfa61ce6f1dce2a7c3"
      }
     },
     "metadata": {},
     "output_type": "display_data"
    },
    {
     "data": {
      "text/plain": "  0%|          | 0/800 [00:00<?, ?it/s]",
      "application/vnd.jupyter.widget-view+json": {
       "version_major": 2,
       "version_minor": 0,
       "model_id": "27f658a175ec4afe9cfa2f59cb310e5e"
      }
     },
     "metadata": {},
     "output_type": "display_data"
    },
    {
     "data": {
      "text/plain": "  0%|          | 0/800 [00:00<?, ?it/s]",
      "application/vnd.jupyter.widget-view+json": {
       "version_major": 2,
       "version_minor": 0,
       "model_id": "066ad943054f4b6f9f0b515f2797b450"
      }
     },
     "metadata": {},
     "output_type": "display_data"
    },
    {
     "data": {
      "text/plain": "  0%|          | 0/800 [00:00<?, ?it/s]",
      "application/vnd.jupyter.widget-view+json": {
       "version_major": 2,
       "version_minor": 0,
       "model_id": "8ce4659b8720485297d328e3a7f7794b"
      }
     },
     "metadata": {},
     "output_type": "display_data"
    },
    {
     "data": {
      "text/plain": "  0%|          | 0/800 [00:00<?, ?it/s]",
      "application/vnd.jupyter.widget-view+json": {
       "version_major": 2,
       "version_minor": 0,
       "model_id": "5322c4b20745432b996ff5d81f134789"
      }
     },
     "metadata": {},
     "output_type": "display_data"
    },
    {
     "data": {
      "text/plain": "  0%|          | 0/800 [00:00<?, ?it/s]",
      "application/vnd.jupyter.widget-view+json": {
       "version_major": 2,
       "version_minor": 0,
       "model_id": "9be661000fcf4c6ba38620f5df8b6f49"
      }
     },
     "metadata": {},
     "output_type": "display_data"
    },
    {
     "data": {
      "text/plain": "  0%|          | 0/800 [00:00<?, ?it/s]",
      "application/vnd.jupyter.widget-view+json": {
       "version_major": 2,
       "version_minor": 0,
       "model_id": "71dbedf7ad204792b1a48c4b8afe7c89"
      }
     },
     "metadata": {},
     "output_type": "display_data"
    },
    {
     "data": {
      "text/plain": "  0%|          | 0/800 [00:00<?, ?it/s]",
      "application/vnd.jupyter.widget-view+json": {
       "version_major": 2,
       "version_minor": 0,
       "model_id": "56a38f0697374096be12db3ae49e2cfb"
      }
     },
     "metadata": {},
     "output_type": "display_data"
    },
    {
     "data": {
      "text/plain": "  0%|          | 0/800 [00:00<?, ?it/s]",
      "application/vnd.jupyter.widget-view+json": {
       "version_major": 2,
       "version_minor": 0,
       "model_id": "d0347c22ac594db09860e4a69fa74b97"
      }
     },
     "metadata": {},
     "output_type": "display_data"
    },
    {
     "data": {
      "text/plain": "  0%|          | 0/800 [00:00<?, ?it/s]",
      "application/vnd.jupyter.widget-view+json": {
       "version_major": 2,
       "version_minor": 0,
       "model_id": "11119bace0e14097ba43a36a0626f8fa"
      }
     },
     "metadata": {},
     "output_type": "display_data"
    },
    {
     "data": {
      "text/plain": "  0%|          | 0/800 [00:00<?, ?it/s]",
      "application/vnd.jupyter.widget-view+json": {
       "version_major": 2,
       "version_minor": 0,
       "model_id": "7f4d4bac58d9471889fc8c6632a7213e"
      }
     },
     "metadata": {},
     "output_type": "display_data"
    },
    {
     "data": {
      "text/plain": "  0%|          | 0/800 [00:00<?, ?it/s]",
      "application/vnd.jupyter.widget-view+json": {
       "version_major": 2,
       "version_minor": 0,
       "model_id": "e1c4301570ac435eafa08d039412e961"
      }
     },
     "metadata": {},
     "output_type": "display_data"
    },
    {
     "data": {
      "text/plain": "  0%|          | 0/800 [00:00<?, ?it/s]",
      "application/vnd.jupyter.widget-view+json": {
       "version_major": 2,
       "version_minor": 0,
       "model_id": "9e2e0db1e6c146ce802454a100402cee"
      }
     },
     "metadata": {},
     "output_type": "display_data"
    },
    {
     "data": {
      "text/plain": "  0%|          | 0/800 [00:00<?, ?it/s]",
      "application/vnd.jupyter.widget-view+json": {
       "version_major": 2,
       "version_minor": 0,
       "model_id": "9c61bbfa644d4d8bada51d3d1387814e"
      }
     },
     "metadata": {},
     "output_type": "display_data"
    },
    {
     "data": {
      "text/plain": "  0%|          | 0/800 [00:00<?, ?it/s]",
      "application/vnd.jupyter.widget-view+json": {
       "version_major": 2,
       "version_minor": 0,
       "model_id": "0a50efa2ccf34339b6dd775627caaa02"
      }
     },
     "metadata": {},
     "output_type": "display_data"
    },
    {
     "data": {
      "text/plain": "  0%|          | 0/800 [00:00<?, ?it/s]",
      "application/vnd.jupyter.widget-view+json": {
       "version_major": 2,
       "version_minor": 0,
       "model_id": "c68095f6d9ec4817a600c3251138482b"
      }
     },
     "metadata": {},
     "output_type": "display_data"
    },
    {
     "data": {
      "text/plain": "  0%|          | 0/800 [00:00<?, ?it/s]",
      "application/vnd.jupyter.widget-view+json": {
       "version_major": 2,
       "version_minor": 0,
       "model_id": "7ab6c5f7e52142e9b68a5d6b7575fd0d"
      }
     },
     "metadata": {},
     "output_type": "display_data"
    },
    {
     "data": {
      "text/plain": "  0%|          | 0/800 [00:00<?, ?it/s]",
      "application/vnd.jupyter.widget-view+json": {
       "version_major": 2,
       "version_minor": 0,
       "model_id": "e3cd0608a34a4010ba78a7a51903e953"
      }
     },
     "metadata": {},
     "output_type": "display_data"
    },
    {
     "data": {
      "text/plain": "  0%|          | 0/800 [00:00<?, ?it/s]",
      "application/vnd.jupyter.widget-view+json": {
       "version_major": 2,
       "version_minor": 0,
       "model_id": "5ef752c8f36141de9b18336b22789488"
      }
     },
     "metadata": {},
     "output_type": "display_data"
    },
    {
     "data": {
      "text/plain": "  0%|          | 0/800 [00:00<?, ?it/s]",
      "application/vnd.jupyter.widget-view+json": {
       "version_major": 2,
       "version_minor": 0,
       "model_id": "4d7baa186faa44638dad90b0e97a84e6"
      }
     },
     "metadata": {},
     "output_type": "display_data"
    },
    {
     "data": {
      "text/plain": "  0%|          | 0/800 [00:00<?, ?it/s]",
      "application/vnd.jupyter.widget-view+json": {
       "version_major": 2,
       "version_minor": 0,
       "model_id": "c294ac6bfb2244359f7217d10ee90ad5"
      }
     },
     "metadata": {},
     "output_type": "display_data"
    },
    {
     "data": {
      "text/plain": "  0%|          | 0/800 [00:00<?, ?it/s]",
      "application/vnd.jupyter.widget-view+json": {
       "version_major": 2,
       "version_minor": 0,
       "model_id": "1ec3eecbfea64b48b1c04e2294d1d5fd"
      }
     },
     "metadata": {},
     "output_type": "display_data"
    },
    {
     "data": {
      "text/plain": "  0%|          | 0/800 [00:00<?, ?it/s]",
      "application/vnd.jupyter.widget-view+json": {
       "version_major": 2,
       "version_minor": 0,
       "model_id": "a01d52db87b74284ae28e7c5f438448c"
      }
     },
     "metadata": {},
     "output_type": "display_data"
    },
    {
     "data": {
      "text/plain": "  0%|          | 0/800 [00:00<?, ?it/s]",
      "application/vnd.jupyter.widget-view+json": {
       "version_major": 2,
       "version_minor": 0,
       "model_id": "b84aba53002b4537acbc79eb093a8f6f"
      }
     },
     "metadata": {},
     "output_type": "display_data"
    },
    {
     "data": {
      "text/plain": "  0%|          | 0/800 [00:00<?, ?it/s]",
      "application/vnd.jupyter.widget-view+json": {
       "version_major": 2,
       "version_minor": 0,
       "model_id": "2a6e03dd4fa9486a8b4a2fbf7a048d2a"
      }
     },
     "metadata": {},
     "output_type": "display_data"
    },
    {
     "data": {
      "text/plain": "  0%|          | 0/800 [00:00<?, ?it/s]",
      "application/vnd.jupyter.widget-view+json": {
       "version_major": 2,
       "version_minor": 0,
       "model_id": "4b1f971b468f416c8a4c8639eec31f5c"
      }
     },
     "metadata": {},
     "output_type": "display_data"
    },
    {
     "data": {
      "text/plain": "  0%|          | 0/800 [00:00<?, ?it/s]",
      "application/vnd.jupyter.widget-view+json": {
       "version_major": 2,
       "version_minor": 0,
       "model_id": "2afc7925cb2f4e4bbf22ece1b6df36ca"
      }
     },
     "metadata": {},
     "output_type": "display_data"
    },
    {
     "data": {
      "text/plain": "  0%|          | 0/800 [00:00<?, ?it/s]",
      "application/vnd.jupyter.widget-view+json": {
       "version_major": 2,
       "version_minor": 0,
       "model_id": "2bc00738e00048ee9fddfbf103236135"
      }
     },
     "metadata": {},
     "output_type": "display_data"
    },
    {
     "data": {
      "text/plain": "  0%|          | 0/800 [00:00<?, ?it/s]",
      "application/vnd.jupyter.widget-view+json": {
       "version_major": 2,
       "version_minor": 0,
       "model_id": "22b25813efbe4a33b16dd8d3411425ea"
      }
     },
     "metadata": {},
     "output_type": "display_data"
    },
    {
     "data": {
      "text/plain": "  0%|          | 0/800 [00:00<?, ?it/s]",
      "application/vnd.jupyter.widget-view+json": {
       "version_major": 2,
       "version_minor": 0,
       "model_id": "d7b84c05332542d28005f91658f52ae6"
      }
     },
     "metadata": {},
     "output_type": "display_data"
    },
    {
     "data": {
      "text/plain": "  0%|          | 0/800 [00:00<?, ?it/s]",
      "application/vnd.jupyter.widget-view+json": {
       "version_major": 2,
       "version_minor": 0,
       "model_id": "5fa057c93dc94db7a9bf4f09b2151a44"
      }
     },
     "metadata": {},
     "output_type": "display_data"
    },
    {
     "data": {
      "text/plain": "  0%|          | 0/800 [00:00<?, ?it/s]",
      "application/vnd.jupyter.widget-view+json": {
       "version_major": 2,
       "version_minor": 0,
       "model_id": "ccc414be4cea4e0fbe5a4c39ca65c8b5"
      }
     },
     "metadata": {},
     "output_type": "display_data"
    },
    {
     "data": {
      "text/plain": "  0%|          | 0/800 [00:00<?, ?it/s]",
      "application/vnd.jupyter.widget-view+json": {
       "version_major": 2,
       "version_minor": 0,
       "model_id": "c54a9ef202ed4613a651973dd9f06e44"
      }
     },
     "metadata": {},
     "output_type": "display_data"
    },
    {
     "data": {
      "text/plain": "  0%|          | 0/800 [00:00<?, ?it/s]",
      "application/vnd.jupyter.widget-view+json": {
       "version_major": 2,
       "version_minor": 0,
       "model_id": "6007da13a0b8405aa4055777bf4fdee9"
      }
     },
     "metadata": {},
     "output_type": "display_data"
    },
    {
     "data": {
      "text/plain": "  0%|          | 0/800 [00:00<?, ?it/s]",
      "application/vnd.jupyter.widget-view+json": {
       "version_major": 2,
       "version_minor": 0,
       "model_id": "2f9f86086ac140be99c8e586ea49e459"
      }
     },
     "metadata": {},
     "output_type": "display_data"
    },
    {
     "data": {
      "text/plain": "  0%|          | 0/800 [00:00<?, ?it/s]",
      "application/vnd.jupyter.widget-view+json": {
       "version_major": 2,
       "version_minor": 0,
       "model_id": "f3ae7a39931a4013b1df42728efa005a"
      }
     },
     "metadata": {},
     "output_type": "display_data"
    },
    {
     "data": {
      "text/plain": "  0%|          | 0/800 [00:00<?, ?it/s]",
      "application/vnd.jupyter.widget-view+json": {
       "version_major": 2,
       "version_minor": 0,
       "model_id": "704a5bbe70934070b50590c3f9135617"
      }
     },
     "metadata": {},
     "output_type": "display_data"
    },
    {
     "data": {
      "text/plain": "  0%|          | 0/800 [00:00<?, ?it/s]",
      "application/vnd.jupyter.widget-view+json": {
       "version_major": 2,
       "version_minor": 0,
       "model_id": "53ea8449104d41feae612224e4cac005"
      }
     },
     "metadata": {},
     "output_type": "display_data"
    },
    {
     "data": {
      "text/plain": "  0%|          | 0/800 [00:00<?, ?it/s]",
      "application/vnd.jupyter.widget-view+json": {
       "version_major": 2,
       "version_minor": 0,
       "model_id": "6074a8d06d1444e2ade908413fdedb45"
      }
     },
     "metadata": {},
     "output_type": "display_data"
    },
    {
     "data": {
      "text/plain": "  0%|          | 0/800 [00:00<?, ?it/s]",
      "application/vnd.jupyter.widget-view+json": {
       "version_major": 2,
       "version_minor": 0,
       "model_id": "f7928ea7a6e640839700b47341e4dff3"
      }
     },
     "metadata": {},
     "output_type": "display_data"
    },
    {
     "data": {
      "text/plain": "  0%|          | 0/800 [00:00<?, ?it/s]",
      "application/vnd.jupyter.widget-view+json": {
       "version_major": 2,
       "version_minor": 0,
       "model_id": "23518caf6ec340a6a5ef85a1591af093"
      }
     },
     "metadata": {},
     "output_type": "display_data"
    },
    {
     "data": {
      "text/plain": "  0%|          | 0/800 [00:00<?, ?it/s]",
      "application/vnd.jupyter.widget-view+json": {
       "version_major": 2,
       "version_minor": 0,
       "model_id": "b60ad12b4b524bcd8a168af719587127"
      }
     },
     "metadata": {},
     "output_type": "display_data"
    },
    {
     "data": {
      "text/plain": "  0%|          | 0/800 [00:00<?, ?it/s]",
      "application/vnd.jupyter.widget-view+json": {
       "version_major": 2,
       "version_minor": 0,
       "model_id": "56280f0fad624e5fbab8d9ada0a7cd08"
      }
     },
     "metadata": {},
     "output_type": "display_data"
    },
    {
     "data": {
      "text/plain": "  0%|          | 0/800 [00:00<?, ?it/s]",
      "application/vnd.jupyter.widget-view+json": {
       "version_major": 2,
       "version_minor": 0,
       "model_id": "cb4fb2e7a7754dabb68b26159470ed1b"
      }
     },
     "metadata": {},
     "output_type": "display_data"
    },
    {
     "data": {
      "text/plain": "  0%|          | 0/800 [00:00<?, ?it/s]",
      "application/vnd.jupyter.widget-view+json": {
       "version_major": 2,
       "version_minor": 0,
       "model_id": "1125dfcd41d0425aa6dc20ee8c0ca19f"
      }
     },
     "metadata": {},
     "output_type": "display_data"
    },
    {
     "data": {
      "text/plain": "  0%|          | 0/800 [00:00<?, ?it/s]",
      "application/vnd.jupyter.widget-view+json": {
       "version_major": 2,
       "version_minor": 0,
       "model_id": "07a2d1accf394e16b0fbc151c2a04cd4"
      }
     },
     "metadata": {},
     "output_type": "display_data"
    },
    {
     "data": {
      "text/plain": "  0%|          | 0/800 [00:00<?, ?it/s]",
      "application/vnd.jupyter.widget-view+json": {
       "version_major": 2,
       "version_minor": 0,
       "model_id": "a07dc96df81844f68935128e43e3a3a2"
      }
     },
     "metadata": {},
     "output_type": "display_data"
    },
    {
     "data": {
      "text/plain": "  0%|          | 0/800 [00:00<?, ?it/s]",
      "application/vnd.jupyter.widget-view+json": {
       "version_major": 2,
       "version_minor": 0,
       "model_id": "64e24697df0947998eb1aa1c3c8e7d99"
      }
     },
     "metadata": {},
     "output_type": "display_data"
    },
    {
     "data": {
      "text/plain": "  0%|          | 0/800 [00:00<?, ?it/s]",
      "application/vnd.jupyter.widget-view+json": {
       "version_major": 2,
       "version_minor": 0,
       "model_id": "d13a5ef941b94f6d885eca52d2fdb3b4"
      }
     },
     "metadata": {},
     "output_type": "display_data"
    },
    {
     "data": {
      "text/plain": "  0%|          | 0/800 [00:00<?, ?it/s]",
      "application/vnd.jupyter.widget-view+json": {
       "version_major": 2,
       "version_minor": 0,
       "model_id": "9ad82099a647482d83b748c2c6ad659b"
      }
     },
     "metadata": {},
     "output_type": "display_data"
    },
    {
     "data": {
      "text/plain": "  0%|          | 0/800 [00:00<?, ?it/s]",
      "application/vnd.jupyter.widget-view+json": {
       "version_major": 2,
       "version_minor": 0,
       "model_id": "cde9bb125c764bbca90d859646dd3060"
      }
     },
     "metadata": {},
     "output_type": "display_data"
    },
    {
     "data": {
      "text/plain": "  0%|          | 0/800 [00:00<?, ?it/s]",
      "application/vnd.jupyter.widget-view+json": {
       "version_major": 2,
       "version_minor": 0,
       "model_id": "313e53b9c6e246839a73d56622375d16"
      }
     },
     "metadata": {},
     "output_type": "display_data"
    },
    {
     "data": {
      "text/plain": "  0%|          | 0/800 [00:00<?, ?it/s]",
      "application/vnd.jupyter.widget-view+json": {
       "version_major": 2,
       "version_minor": 0,
       "model_id": "52a6a9c8909140a097508ab7a66ec6f4"
      }
     },
     "metadata": {},
     "output_type": "display_data"
    },
    {
     "data": {
      "text/plain": "  0%|          | 0/800 [00:00<?, ?it/s]",
      "application/vnd.jupyter.widget-view+json": {
       "version_major": 2,
       "version_minor": 0,
       "model_id": "50787dee57a445eba84f4e0a22796b56"
      }
     },
     "metadata": {},
     "output_type": "display_data"
    },
    {
     "data": {
      "text/plain": "  0%|          | 0/800 [00:00<?, ?it/s]",
      "application/vnd.jupyter.widget-view+json": {
       "version_major": 2,
       "version_minor": 0,
       "model_id": "b6a9b25626864b59b70a38bb66efec77"
      }
     },
     "metadata": {},
     "output_type": "display_data"
    },
    {
     "data": {
      "text/plain": "  0%|          | 0/800 [00:00<?, ?it/s]",
      "application/vnd.jupyter.widget-view+json": {
       "version_major": 2,
       "version_minor": 0,
       "model_id": "e747e721ea2a41c4a85ada744c19d092"
      }
     },
     "metadata": {},
     "output_type": "display_data"
    },
    {
     "data": {
      "text/plain": "  0%|          | 0/800 [00:00<?, ?it/s]",
      "application/vnd.jupyter.widget-view+json": {
       "version_major": 2,
       "version_minor": 0,
       "model_id": "64f73bb6a27f436b825d3cf5e7bc3bde"
      }
     },
     "metadata": {},
     "output_type": "display_data"
    },
    {
     "data": {
      "text/plain": "  0%|          | 0/800 [00:00<?, ?it/s]",
      "application/vnd.jupyter.widget-view+json": {
       "version_major": 2,
       "version_minor": 0,
       "model_id": "f74e7ab64cb040c6914d1d4e7b598329"
      }
     },
     "metadata": {},
     "output_type": "display_data"
    },
    {
     "data": {
      "text/plain": "  0%|          | 0/800 [00:00<?, ?it/s]",
      "application/vnd.jupyter.widget-view+json": {
       "version_major": 2,
       "version_minor": 0,
       "model_id": "ef71c8a97e0049e68ba340477b3b3905"
      }
     },
     "metadata": {},
     "output_type": "display_data"
    },
    {
     "data": {
      "text/plain": "  0%|          | 0/800 [00:00<?, ?it/s]",
      "application/vnd.jupyter.widget-view+json": {
       "version_major": 2,
       "version_minor": 0,
       "model_id": "9b9d20750a8f452aa8a9a177cebfda8a"
      }
     },
     "metadata": {},
     "output_type": "display_data"
    },
    {
     "data": {
      "text/plain": "  0%|          | 0/800 [00:00<?, ?it/s]",
      "application/vnd.jupyter.widget-view+json": {
       "version_major": 2,
       "version_minor": 0,
       "model_id": "fda6d95f5c5645aaa8b8d1127b58717f"
      }
     },
     "metadata": {},
     "output_type": "display_data"
    },
    {
     "data": {
      "text/plain": "  0%|          | 0/800 [00:00<?, ?it/s]",
      "application/vnd.jupyter.widget-view+json": {
       "version_major": 2,
       "version_minor": 0,
       "model_id": "0eed412704f64862b54906b82e7b53c3"
      }
     },
     "metadata": {},
     "output_type": "display_data"
    },
    {
     "data": {
      "text/plain": "  0%|          | 0/800 [00:00<?, ?it/s]",
      "application/vnd.jupyter.widget-view+json": {
       "version_major": 2,
       "version_minor": 0,
       "model_id": "98977cbc266e41ea856e93806538f27f"
      }
     },
     "metadata": {},
     "output_type": "display_data"
    },
    {
     "data": {
      "text/plain": "  0%|          | 0/800 [00:00<?, ?it/s]",
      "application/vnd.jupyter.widget-view+json": {
       "version_major": 2,
       "version_minor": 0,
       "model_id": "f1392cdf0ec344d5bda931b17c6983c1"
      }
     },
     "metadata": {},
     "output_type": "display_data"
    },
    {
     "data": {
      "text/plain": "  0%|          | 0/800 [00:00<?, ?it/s]",
      "application/vnd.jupyter.widget-view+json": {
       "version_major": 2,
       "version_minor": 0,
       "model_id": "3319a4b229904293b84678867bd2f4e0"
      }
     },
     "metadata": {},
     "output_type": "display_data"
    },
    {
     "data": {
      "text/plain": "  0%|          | 0/800 [00:00<?, ?it/s]",
      "application/vnd.jupyter.widget-view+json": {
       "version_major": 2,
       "version_minor": 0,
       "model_id": "571790828ffd415fb7a4df22b070125c"
      }
     },
     "metadata": {},
     "output_type": "display_data"
    },
    {
     "data": {
      "text/plain": "  0%|          | 0/800 [00:00<?, ?it/s]",
      "application/vnd.jupyter.widget-view+json": {
       "version_major": 2,
       "version_minor": 0,
       "model_id": "0733312e5e634fbc9c4cd3e5a274fa82"
      }
     },
     "metadata": {},
     "output_type": "display_data"
    },
    {
     "data": {
      "text/plain": "  0%|          | 0/800 [00:00<?, ?it/s]",
      "application/vnd.jupyter.widget-view+json": {
       "version_major": 2,
       "version_minor": 0,
       "model_id": "4b7cfaaf267f430fb549ef112107dbc0"
      }
     },
     "metadata": {},
     "output_type": "display_data"
    },
    {
     "data": {
      "text/plain": "  0%|          | 0/800 [00:00<?, ?it/s]",
      "application/vnd.jupyter.widget-view+json": {
       "version_major": 2,
       "version_minor": 0,
       "model_id": "fe4fabc0e5f942ad87099861fc76f24e"
      }
     },
     "metadata": {},
     "output_type": "display_data"
    },
    {
     "data": {
      "text/plain": "  0%|          | 0/800 [00:00<?, ?it/s]",
      "application/vnd.jupyter.widget-view+json": {
       "version_major": 2,
       "version_minor": 0,
       "model_id": "0c3fd987dab2448c9822a25476203941"
      }
     },
     "metadata": {},
     "output_type": "display_data"
    },
    {
     "data": {
      "text/plain": "  0%|          | 0/800 [00:00<?, ?it/s]",
      "application/vnd.jupyter.widget-view+json": {
       "version_major": 2,
       "version_minor": 0,
       "model_id": "8ae9342635cf4f6281e22a57e07983a9"
      }
     },
     "metadata": {},
     "output_type": "display_data"
    },
    {
     "data": {
      "text/plain": "  0%|          | 0/800 [00:00<?, ?it/s]",
      "application/vnd.jupyter.widget-view+json": {
       "version_major": 2,
       "version_minor": 0,
       "model_id": "6de1235a57994d49a9020043001d56df"
      }
     },
     "metadata": {},
     "output_type": "display_data"
    },
    {
     "data": {
      "text/plain": "  0%|          | 0/800 [00:00<?, ?it/s]",
      "application/vnd.jupyter.widget-view+json": {
       "version_major": 2,
       "version_minor": 0,
       "model_id": "e7e5bfa7ab44470e89fd13b2d290607f"
      }
     },
     "metadata": {},
     "output_type": "display_data"
    },
    {
     "data": {
      "text/plain": "  0%|          | 0/800 [00:00<?, ?it/s]",
      "application/vnd.jupyter.widget-view+json": {
       "version_major": 2,
       "version_minor": 0,
       "model_id": "555a3750c116475c8133912fd19a2191"
      }
     },
     "metadata": {},
     "output_type": "display_data"
    },
    {
     "data": {
      "text/plain": "  0%|          | 0/800 [00:00<?, ?it/s]",
      "application/vnd.jupyter.widget-view+json": {
       "version_major": 2,
       "version_minor": 0,
       "model_id": "35970bc514384782ba71d1774e3f23af"
      }
     },
     "metadata": {},
     "output_type": "display_data"
    },
    {
     "data": {
      "text/plain": "  0%|          | 0/800 [00:00<?, ?it/s]",
      "application/vnd.jupyter.widget-view+json": {
       "version_major": 2,
       "version_minor": 0,
       "model_id": "9e143bcc883246129ae2e3da25b8b534"
      }
     },
     "metadata": {},
     "output_type": "display_data"
    },
    {
     "data": {
      "text/plain": "  0%|          | 0/800 [00:00<?, ?it/s]",
      "application/vnd.jupyter.widget-view+json": {
       "version_major": 2,
       "version_minor": 0,
       "model_id": "1bbaaf2d273e4a9ea6dfad3dc27f8aba"
      }
     },
     "metadata": {},
     "output_type": "display_data"
    },
    {
     "data": {
      "text/plain": "  0%|          | 0/800 [00:00<?, ?it/s]",
      "application/vnd.jupyter.widget-view+json": {
       "version_major": 2,
       "version_minor": 0,
       "model_id": "43859a3d30d74aadbc3f9863be824a90"
      }
     },
     "metadata": {},
     "output_type": "display_data"
    },
    {
     "data": {
      "text/plain": "  0%|          | 0/800 [00:00<?, ?it/s]",
      "application/vnd.jupyter.widget-view+json": {
       "version_major": 2,
       "version_minor": 0,
       "model_id": "d8356e88d02349488342215146f91346"
      }
     },
     "metadata": {},
     "output_type": "display_data"
    },
    {
     "data": {
      "text/plain": "  0%|          | 0/800 [00:00<?, ?it/s]",
      "application/vnd.jupyter.widget-view+json": {
       "version_major": 2,
       "version_minor": 0,
       "model_id": "7310f4c0242644f98251820eb2b7bc0e"
      }
     },
     "metadata": {},
     "output_type": "display_data"
    },
    {
     "data": {
      "text/plain": "  0%|          | 0/800 [00:00<?, ?it/s]",
      "application/vnd.jupyter.widget-view+json": {
       "version_major": 2,
       "version_minor": 0,
       "model_id": "e369df5b2b30468180da6350366bd8f8"
      }
     },
     "metadata": {},
     "output_type": "display_data"
    },
    {
     "data": {
      "text/plain": "  0%|          | 0/800 [00:00<?, ?it/s]",
      "application/vnd.jupyter.widget-view+json": {
       "version_major": 2,
       "version_minor": 0,
       "model_id": "9d3e1cb8aa73494fb0f5114a6a44777c"
      }
     },
     "metadata": {},
     "output_type": "display_data"
    },
    {
     "data": {
      "text/plain": "  0%|          | 0/800 [00:00<?, ?it/s]",
      "application/vnd.jupyter.widget-view+json": {
       "version_major": 2,
       "version_minor": 0,
       "model_id": "986a78ec83fe47d0b0723056b78d714c"
      }
     },
     "metadata": {},
     "output_type": "display_data"
    },
    {
     "data": {
      "text/plain": "  0%|          | 0/800 [00:00<?, ?it/s]",
      "application/vnd.jupyter.widget-view+json": {
       "version_major": 2,
       "version_minor": 0,
       "model_id": "7d44b04d23b045aa8afb24df8e603678"
      }
     },
     "metadata": {},
     "output_type": "display_data"
    },
    {
     "data": {
      "text/plain": "  0%|          | 0/800 [00:00<?, ?it/s]",
      "application/vnd.jupyter.widget-view+json": {
       "version_major": 2,
       "version_minor": 0,
       "model_id": "073b3bafe7d14043a2d462e4a922065b"
      }
     },
     "metadata": {},
     "output_type": "display_data"
    },
    {
     "data": {
      "text/plain": "  0%|          | 0/800 [00:00<?, ?it/s]",
      "application/vnd.jupyter.widget-view+json": {
       "version_major": 2,
       "version_minor": 0,
       "model_id": "9d59e548f0e543ca9cb9abc1024c7fa1"
      }
     },
     "metadata": {},
     "output_type": "display_data"
    },
    {
     "data": {
      "text/plain": "  0%|          | 0/800 [00:00<?, ?it/s]",
      "application/vnd.jupyter.widget-view+json": {
       "version_major": 2,
       "version_minor": 0,
       "model_id": "b6ac32255211495f8c38bb5d72b0e045"
      }
     },
     "metadata": {},
     "output_type": "display_data"
    },
    {
     "data": {
      "text/plain": "  0%|          | 0/800 [00:00<?, ?it/s]",
      "application/vnd.jupyter.widget-view+json": {
       "version_major": 2,
       "version_minor": 0,
       "model_id": "08aec17592c74182b2b360dad5aedc1a"
      }
     },
     "metadata": {},
     "output_type": "display_data"
    },
    {
     "data": {
      "text/plain": "  0%|          | 0/800 [00:00<?, ?it/s]",
      "application/vnd.jupyter.widget-view+json": {
       "version_major": 2,
       "version_minor": 0,
       "model_id": "6a5eabf728bf48b68d173652cc9aa9ca"
      }
     },
     "metadata": {},
     "output_type": "display_data"
    },
    {
     "data": {
      "text/plain": "  0%|          | 0/800 [00:00<?, ?it/s]",
      "application/vnd.jupyter.widget-view+json": {
       "version_major": 2,
       "version_minor": 0,
       "model_id": "ae6bd6a0cf0046a8aedad1cd4a58beb4"
      }
     },
     "metadata": {},
     "output_type": "display_data"
    },
    {
     "data": {
      "text/plain": "  0%|          | 0/800 [00:00<?, ?it/s]",
      "application/vnd.jupyter.widget-view+json": {
       "version_major": 2,
       "version_minor": 0,
       "model_id": "1c773af87e5a4e8daaf7a40f23097850"
      }
     },
     "metadata": {},
     "output_type": "display_data"
    },
    {
     "data": {
      "text/plain": "  0%|          | 0/800 [00:00<?, ?it/s]",
      "application/vnd.jupyter.widget-view+json": {
       "version_major": 2,
       "version_minor": 0,
       "model_id": "ee658d8d0c724f1eb640d9ad952027bf"
      }
     },
     "metadata": {},
     "output_type": "display_data"
    },
    {
     "data": {
      "text/plain": "  0%|          | 0/800 [00:00<?, ?it/s]",
      "application/vnd.jupyter.widget-view+json": {
       "version_major": 2,
       "version_minor": 0,
       "model_id": "d389e68167da407fa5f75c0a6d6fd94b"
      }
     },
     "metadata": {},
     "output_type": "display_data"
    },
    {
     "data": {
      "text/plain": "  0%|          | 0/800 [00:00<?, ?it/s]",
      "application/vnd.jupyter.widget-view+json": {
       "version_major": 2,
       "version_minor": 0,
       "model_id": "8276415540be47b9b020702cafe15eb0"
      }
     },
     "metadata": {},
     "output_type": "display_data"
    },
    {
     "data": {
      "text/plain": "  0%|          | 0/800 [00:00<?, ?it/s]",
      "application/vnd.jupyter.widget-view+json": {
       "version_major": 2,
       "version_minor": 0,
       "model_id": "5f58bc3875414dfa9f23c6c117f31940"
      }
     },
     "metadata": {},
     "output_type": "display_data"
    },
    {
     "data": {
      "text/plain": "  0%|          | 0/800 [00:00<?, ?it/s]",
      "application/vnd.jupyter.widget-view+json": {
       "version_major": 2,
       "version_minor": 0,
       "model_id": "dbd3cba78d924815b27d2142c24f5ba7"
      }
     },
     "metadata": {},
     "output_type": "display_data"
    },
    {
     "data": {
      "text/plain": "  0%|          | 0/800 [00:00<?, ?it/s]",
      "application/vnd.jupyter.widget-view+json": {
       "version_major": 2,
       "version_minor": 0,
       "model_id": "bafafe1fcaa7492186584b5a7a07b0cb"
      }
     },
     "metadata": {},
     "output_type": "display_data"
    },
    {
     "data": {
      "text/plain": "  0%|          | 0/800 [00:00<?, ?it/s]",
      "application/vnd.jupyter.widget-view+json": {
       "version_major": 2,
       "version_minor": 0,
       "model_id": "f3fec31ebf8a4d34a394ff245a368bbe"
      }
     },
     "metadata": {},
     "output_type": "display_data"
    },
    {
     "data": {
      "text/plain": "  0%|          | 0/800 [00:00<?, ?it/s]",
      "application/vnd.jupyter.widget-view+json": {
       "version_major": 2,
       "version_minor": 0,
       "model_id": "0f3f9358428244f589497aec135b4284"
      }
     },
     "metadata": {},
     "output_type": "display_data"
    },
    {
     "data": {
      "text/plain": "  0%|          | 0/800 [00:00<?, ?it/s]",
      "application/vnd.jupyter.widget-view+json": {
       "version_major": 2,
       "version_minor": 0,
       "model_id": "4922beb025f04d7ca777d90266729a98"
      }
     },
     "metadata": {},
     "output_type": "display_data"
    },
    {
     "data": {
      "text/plain": "  0%|          | 0/800 [00:00<?, ?it/s]",
      "application/vnd.jupyter.widget-view+json": {
       "version_major": 2,
       "version_minor": 0,
       "model_id": "a75bb84844e541449801e7dbcdaf83e9"
      }
     },
     "metadata": {},
     "output_type": "display_data"
    },
    {
     "data": {
      "text/plain": "  0%|          | 0/800 [00:00<?, ?it/s]",
      "application/vnd.jupyter.widget-view+json": {
       "version_major": 2,
       "version_minor": 0,
       "model_id": "50143c0744844c8284723f856f64402d"
      }
     },
     "metadata": {},
     "output_type": "display_data"
    },
    {
     "data": {
      "text/plain": "  0%|          | 0/800 [00:00<?, ?it/s]",
      "application/vnd.jupyter.widget-view+json": {
       "version_major": 2,
       "version_minor": 0,
       "model_id": "fb32b01ef98f436a80951da34b024e36"
      }
     },
     "metadata": {},
     "output_type": "display_data"
    },
    {
     "data": {
      "text/plain": "  0%|          | 0/800 [00:00<?, ?it/s]",
      "application/vnd.jupyter.widget-view+json": {
       "version_major": 2,
       "version_minor": 0,
       "model_id": "c7f2d44fc1c1473aa7d5331457f4fe93"
      }
     },
     "metadata": {},
     "output_type": "display_data"
    },
    {
     "data": {
      "text/plain": "  0%|          | 0/800 [00:00<?, ?it/s]",
      "application/vnd.jupyter.widget-view+json": {
       "version_major": 2,
       "version_minor": 0,
       "model_id": "b59d883dbfa74359be1a5014043925ad"
      }
     },
     "metadata": {},
     "output_type": "display_data"
    },
    {
     "data": {
      "text/plain": "  0%|          | 0/800 [00:00<?, ?it/s]",
      "application/vnd.jupyter.widget-view+json": {
       "version_major": 2,
       "version_minor": 0,
       "model_id": "54283060090c4a63a7500a582442b6fb"
      }
     },
     "metadata": {},
     "output_type": "display_data"
    },
    {
     "data": {
      "text/plain": "  0%|          | 0/800 [00:00<?, ?it/s]",
      "application/vnd.jupyter.widget-view+json": {
       "version_major": 2,
       "version_minor": 0,
       "model_id": "f1e6f2e743334a94a8d541882f95da1d"
      }
     },
     "metadata": {},
     "output_type": "display_data"
    },
    {
     "data": {
      "text/plain": "  0%|          | 0/800 [00:00<?, ?it/s]",
      "application/vnd.jupyter.widget-view+json": {
       "version_major": 2,
       "version_minor": 0,
       "model_id": "7f9448ba798e48e29155c721acef80cd"
      }
     },
     "metadata": {},
     "output_type": "display_data"
    },
    {
     "data": {
      "text/plain": "  0%|          | 0/800 [00:00<?, ?it/s]",
      "application/vnd.jupyter.widget-view+json": {
       "version_major": 2,
       "version_minor": 0,
       "model_id": "55bbe8cfbb0f4c039ae508734b77938e"
      }
     },
     "metadata": {},
     "output_type": "display_data"
    },
    {
     "data": {
      "text/plain": "  0%|          | 0/800 [00:00<?, ?it/s]",
      "application/vnd.jupyter.widget-view+json": {
       "version_major": 2,
       "version_minor": 0,
       "model_id": "a9a00aa30cf943dcbd26bb284cd74bce"
      }
     },
     "metadata": {},
     "output_type": "display_data"
    },
    {
     "data": {
      "text/plain": "  0%|          | 0/800 [00:00<?, ?it/s]",
      "application/vnd.jupyter.widget-view+json": {
       "version_major": 2,
       "version_minor": 0,
       "model_id": "85138ce7c089412ba518a151f4a48d65"
      }
     },
     "metadata": {},
     "output_type": "display_data"
    },
    {
     "data": {
      "text/plain": "  0%|          | 0/800 [00:00<?, ?it/s]",
      "application/vnd.jupyter.widget-view+json": {
       "version_major": 2,
       "version_minor": 0,
       "model_id": "1154438773c14e9bbc928bc55435293b"
      }
     },
     "metadata": {},
     "output_type": "display_data"
    },
    {
     "data": {
      "text/plain": "  0%|          | 0/800 [00:00<?, ?it/s]",
      "application/vnd.jupyter.widget-view+json": {
       "version_major": 2,
       "version_minor": 0,
       "model_id": "8be2bd2ac7fa4f378323b29f8f02b193"
      }
     },
     "metadata": {},
     "output_type": "display_data"
    },
    {
     "data": {
      "text/plain": "  0%|          | 0/800 [00:00<?, ?it/s]",
      "application/vnd.jupyter.widget-view+json": {
       "version_major": 2,
       "version_minor": 0,
       "model_id": "6263f90ee09c43eeacb269509aba6b70"
      }
     },
     "metadata": {},
     "output_type": "display_data"
    },
    {
     "data": {
      "text/plain": "  0%|          | 0/800 [00:00<?, ?it/s]",
      "application/vnd.jupyter.widget-view+json": {
       "version_major": 2,
       "version_minor": 0,
       "model_id": "60a5cd5d0fe747c4bc58abaa9eb6d436"
      }
     },
     "metadata": {},
     "output_type": "display_data"
    },
    {
     "data": {
      "text/plain": "  0%|          | 0/800 [00:00<?, ?it/s]",
      "application/vnd.jupyter.widget-view+json": {
       "version_major": 2,
       "version_minor": 0,
       "model_id": "7bc6bbb1dc1b4adba53f488148e9f6d7"
      }
     },
     "metadata": {},
     "output_type": "display_data"
    },
    {
     "data": {
      "text/plain": "  0%|          | 0/800 [00:00<?, ?it/s]",
      "application/vnd.jupyter.widget-view+json": {
       "version_major": 2,
       "version_minor": 0,
       "model_id": "195d4116d759446499fb32923e559830"
      }
     },
     "metadata": {},
     "output_type": "display_data"
    },
    {
     "data": {
      "text/plain": "  0%|          | 0/800 [00:00<?, ?it/s]",
      "application/vnd.jupyter.widget-view+json": {
       "version_major": 2,
       "version_minor": 0,
       "model_id": "628faaeebc8b42508ef433e84a08c2ae"
      }
     },
     "metadata": {},
     "output_type": "display_data"
    },
    {
     "data": {
      "text/plain": "  0%|          | 0/800 [00:00<?, ?it/s]",
      "application/vnd.jupyter.widget-view+json": {
       "version_major": 2,
       "version_minor": 0,
       "model_id": "717a7ee77aad48b5a79511eb19173223"
      }
     },
     "metadata": {},
     "output_type": "display_data"
    },
    {
     "data": {
      "text/plain": "  0%|          | 0/800 [00:00<?, ?it/s]",
      "application/vnd.jupyter.widget-view+json": {
       "version_major": 2,
       "version_minor": 0,
       "model_id": "59c12e0ddfbf4d20af6d5b2dbaf9e937"
      }
     },
     "metadata": {},
     "output_type": "display_data"
    },
    {
     "data": {
      "text/plain": "  0%|          | 0/800 [00:00<?, ?it/s]",
      "application/vnd.jupyter.widget-view+json": {
       "version_major": 2,
       "version_minor": 0,
       "model_id": "10396b21e46b42d7a35a8aad0e90cd1b"
      }
     },
     "metadata": {},
     "output_type": "display_data"
    },
    {
     "data": {
      "text/plain": "  0%|          | 0/800 [00:00<?, ?it/s]",
      "application/vnd.jupyter.widget-view+json": {
       "version_major": 2,
       "version_minor": 0,
       "model_id": "6feab111e8a0492b822b2c8db86cedfb"
      }
     },
     "metadata": {},
     "output_type": "display_data"
    },
    {
     "data": {
      "text/plain": "  0%|          | 0/800 [00:00<?, ?it/s]",
      "application/vnd.jupyter.widget-view+json": {
       "version_major": 2,
       "version_minor": 0,
       "model_id": "6f6d63e1075a45bf809f6d8f6929d5d2"
      }
     },
     "metadata": {},
     "output_type": "display_data"
    },
    {
     "data": {
      "text/plain": "  0%|          | 0/800 [00:00<?, ?it/s]",
      "application/vnd.jupyter.widget-view+json": {
       "version_major": 2,
       "version_minor": 0,
       "model_id": "6c0d752d16f24f2db370bc0621efd885"
      }
     },
     "metadata": {},
     "output_type": "display_data"
    },
    {
     "data": {
      "text/plain": "  0%|          | 0/800 [00:00<?, ?it/s]",
      "application/vnd.jupyter.widget-view+json": {
       "version_major": 2,
       "version_minor": 0,
       "model_id": "7bed84e6033e477098b82c4ccd5f4cc5"
      }
     },
     "metadata": {},
     "output_type": "display_data"
    },
    {
     "data": {
      "text/plain": "  0%|          | 0/800 [00:00<?, ?it/s]",
      "application/vnd.jupyter.widget-view+json": {
       "version_major": 2,
       "version_minor": 0,
       "model_id": "295a4fe71a574aa7b7afe3ad4fac6376"
      }
     },
     "metadata": {},
     "output_type": "display_data"
    },
    {
     "data": {
      "text/plain": "  0%|          | 0/800 [00:00<?, ?it/s]",
      "application/vnd.jupyter.widget-view+json": {
       "version_major": 2,
       "version_minor": 0,
       "model_id": "c1300f8cb7cc4dd388dc368f336b1a24"
      }
     },
     "metadata": {},
     "output_type": "display_data"
    },
    {
     "data": {
      "text/plain": "  0%|          | 0/800 [00:00<?, ?it/s]",
      "application/vnd.jupyter.widget-view+json": {
       "version_major": 2,
       "version_minor": 0,
       "model_id": "19f90dd68e8646b097e282636f864086"
      }
     },
     "metadata": {},
     "output_type": "display_data"
    },
    {
     "data": {
      "text/plain": "  0%|          | 0/800 [00:00<?, ?it/s]",
      "application/vnd.jupyter.widget-view+json": {
       "version_major": 2,
       "version_minor": 0,
       "model_id": "491963b288774bd3b870614ac028cb06"
      }
     },
     "metadata": {},
     "output_type": "display_data"
    },
    {
     "data": {
      "text/plain": "  0%|          | 0/800 [00:00<?, ?it/s]",
      "application/vnd.jupyter.widget-view+json": {
       "version_major": 2,
       "version_minor": 0,
       "model_id": "259d5bbe0a484f4783ac8ae6c2301f07"
      }
     },
     "metadata": {},
     "output_type": "display_data"
    },
    {
     "data": {
      "text/plain": "  0%|          | 0/800 [00:00<?, ?it/s]",
      "application/vnd.jupyter.widget-view+json": {
       "version_major": 2,
       "version_minor": 0,
       "model_id": "01d06e89a49f49379a7dfb3d6a453849"
      }
     },
     "metadata": {},
     "output_type": "display_data"
    },
    {
     "data": {
      "text/plain": "  0%|          | 0/800 [00:00<?, ?it/s]",
      "application/vnd.jupyter.widget-view+json": {
       "version_major": 2,
       "version_minor": 0,
       "model_id": "983c231d18f8400283f1ec96b8fdbe72"
      }
     },
     "metadata": {},
     "output_type": "display_data"
    },
    {
     "data": {
      "text/plain": "  0%|          | 0/800 [00:00<?, ?it/s]",
      "application/vnd.jupyter.widget-view+json": {
       "version_major": 2,
       "version_minor": 0,
       "model_id": "c8c4ad49cc934a69a9b5eca9376d0aeb"
      }
     },
     "metadata": {},
     "output_type": "display_data"
    },
    {
     "data": {
      "text/plain": "  0%|          | 0/800 [00:00<?, ?it/s]",
      "application/vnd.jupyter.widget-view+json": {
       "version_major": 2,
       "version_minor": 0,
       "model_id": "1be3e4b588fb4442b40f05ceda327b17"
      }
     },
     "metadata": {},
     "output_type": "display_data"
    },
    {
     "data": {
      "text/plain": "  0%|          | 0/800 [00:00<?, ?it/s]",
      "application/vnd.jupyter.widget-view+json": {
       "version_major": 2,
       "version_minor": 0,
       "model_id": "3fcd4b80747d4b978dabd98e83f3b296"
      }
     },
     "metadata": {},
     "output_type": "display_data"
    },
    {
     "data": {
      "text/plain": "  0%|          | 0/800 [00:00<?, ?it/s]",
      "application/vnd.jupyter.widget-view+json": {
       "version_major": 2,
       "version_minor": 0,
       "model_id": "c10fff9a39fc4bb4a8e2c1780fb852cd"
      }
     },
     "metadata": {},
     "output_type": "display_data"
    },
    {
     "data": {
      "text/plain": "  0%|          | 0/800 [00:00<?, ?it/s]",
      "application/vnd.jupyter.widget-view+json": {
       "version_major": 2,
       "version_minor": 0,
       "model_id": "6dead212092d42a4b93dc95c776d7a99"
      }
     },
     "metadata": {},
     "output_type": "display_data"
    },
    {
     "data": {
      "text/plain": "  0%|          | 0/800 [00:00<?, ?it/s]",
      "application/vnd.jupyter.widget-view+json": {
       "version_major": 2,
       "version_minor": 0,
       "model_id": "1ebfe895c5134daeb668a1d1bb157d2d"
      }
     },
     "metadata": {},
     "output_type": "display_data"
    },
    {
     "data": {
      "text/plain": "  0%|          | 0/800 [00:00<?, ?it/s]",
      "application/vnd.jupyter.widget-view+json": {
       "version_major": 2,
       "version_minor": 0,
       "model_id": "a604b0c1532e4ade9f3c314bebea020e"
      }
     },
     "metadata": {},
     "output_type": "display_data"
    },
    {
     "data": {
      "text/plain": "  0%|          | 0/800 [00:00<?, ?it/s]",
      "application/vnd.jupyter.widget-view+json": {
       "version_major": 2,
       "version_minor": 0,
       "model_id": "6107b8ef34424a2aa00a1c8567191c88"
      }
     },
     "metadata": {},
     "output_type": "display_data"
    },
    {
     "data": {
      "text/plain": "  0%|          | 0/800 [00:00<?, ?it/s]",
      "application/vnd.jupyter.widget-view+json": {
       "version_major": 2,
       "version_minor": 0,
       "model_id": "52ccc2f219544aa594f01342325ba899"
      }
     },
     "metadata": {},
     "output_type": "display_data"
    },
    {
     "data": {
      "text/plain": "  0%|          | 0/800 [00:00<?, ?it/s]",
      "application/vnd.jupyter.widget-view+json": {
       "version_major": 2,
       "version_minor": 0,
       "model_id": "00a1da2490764573aacea929130f754b"
      }
     },
     "metadata": {},
     "output_type": "display_data"
    },
    {
     "data": {
      "text/plain": "  0%|          | 0/800 [00:00<?, ?it/s]",
      "application/vnd.jupyter.widget-view+json": {
       "version_major": 2,
       "version_minor": 0,
       "model_id": "937a064b3bc7455ca292014d128f2eb6"
      }
     },
     "metadata": {},
     "output_type": "display_data"
    },
    {
     "data": {
      "text/plain": "  0%|          | 0/800 [00:00<?, ?it/s]",
      "application/vnd.jupyter.widget-view+json": {
       "version_major": 2,
       "version_minor": 0,
       "model_id": "f09eaf02d32641b8aac71a342383bf4d"
      }
     },
     "metadata": {},
     "output_type": "display_data"
    },
    {
     "data": {
      "text/plain": "  0%|          | 0/800 [00:00<?, ?it/s]",
      "application/vnd.jupyter.widget-view+json": {
       "version_major": 2,
       "version_minor": 0,
       "model_id": "1321c20d71614972a9030dc4c42d1207"
      }
     },
     "metadata": {},
     "output_type": "display_data"
    },
    {
     "data": {
      "text/plain": "  0%|          | 0/800 [00:00<?, ?it/s]",
      "application/vnd.jupyter.widget-view+json": {
       "version_major": 2,
       "version_minor": 0,
       "model_id": "3e11d017946546c598b46ebaf286d9c8"
      }
     },
     "metadata": {},
     "output_type": "display_data"
    },
    {
     "data": {
      "text/plain": "  0%|          | 0/800 [00:00<?, ?it/s]",
      "application/vnd.jupyter.widget-view+json": {
       "version_major": 2,
       "version_minor": 0,
       "model_id": "84f834591f3645919118baa2fae942d1"
      }
     },
     "metadata": {},
     "output_type": "display_data"
    },
    {
     "data": {
      "text/plain": "  0%|          | 0/800 [00:00<?, ?it/s]",
      "application/vnd.jupyter.widget-view+json": {
       "version_major": 2,
       "version_minor": 0,
       "model_id": "feb804d37c584ea4bf7d60f21611f48f"
      }
     },
     "metadata": {},
     "output_type": "display_data"
    },
    {
     "data": {
      "text/plain": "  0%|          | 0/800 [00:00<?, ?it/s]",
      "application/vnd.jupyter.widget-view+json": {
       "version_major": 2,
       "version_minor": 0,
       "model_id": "17478ce12db14590ad895e388880660c"
      }
     },
     "metadata": {},
     "output_type": "display_data"
    },
    {
     "data": {
      "text/plain": "  0%|          | 0/800 [00:00<?, ?it/s]",
      "application/vnd.jupyter.widget-view+json": {
       "version_major": 2,
       "version_minor": 0,
       "model_id": "a1ac62318a574d4ba3efda03594423d9"
      }
     },
     "metadata": {},
     "output_type": "display_data"
    },
    {
     "data": {
      "text/plain": "  0%|          | 0/800 [00:00<?, ?it/s]",
      "application/vnd.jupyter.widget-view+json": {
       "version_major": 2,
       "version_minor": 0,
       "model_id": "98f160d788954877a0e352f5e87c2742"
      }
     },
     "metadata": {},
     "output_type": "display_data"
    },
    {
     "data": {
      "text/plain": "  0%|          | 0/800 [00:00<?, ?it/s]",
      "application/vnd.jupyter.widget-view+json": {
       "version_major": 2,
       "version_minor": 0,
       "model_id": "bc076e9c22b549a5a9b467f640e80a6b"
      }
     },
     "metadata": {},
     "output_type": "display_data"
    },
    {
     "data": {
      "text/plain": "  0%|          | 0/800 [00:00<?, ?it/s]",
      "application/vnd.jupyter.widget-view+json": {
       "version_major": 2,
       "version_minor": 0,
       "model_id": "c92fe04dfadd46a5bccf4dc812bce478"
      }
     },
     "metadata": {},
     "output_type": "display_data"
    },
    {
     "data": {
      "text/plain": "  0%|          | 0/800 [00:00<?, ?it/s]",
      "application/vnd.jupyter.widget-view+json": {
       "version_major": 2,
       "version_minor": 0,
       "model_id": "8f8271afcf534ffba0483dd57a0a5eb8"
      }
     },
     "metadata": {},
     "output_type": "display_data"
    },
    {
     "data": {
      "text/plain": "  0%|          | 0/800 [00:00<?, ?it/s]",
      "application/vnd.jupyter.widget-view+json": {
       "version_major": 2,
       "version_minor": 0,
       "model_id": "573d83ca3ad84129aed2e87a16b3285f"
      }
     },
     "metadata": {},
     "output_type": "display_data"
    },
    {
     "data": {
      "text/plain": "  0%|          | 0/800 [00:00<?, ?it/s]",
      "application/vnd.jupyter.widget-view+json": {
       "version_major": 2,
       "version_minor": 0,
       "model_id": "9265f5dc8d03446b8aa040b17764eed9"
      }
     },
     "metadata": {},
     "output_type": "display_data"
    },
    {
     "data": {
      "text/plain": "  0%|          | 0/800 [00:00<?, ?it/s]",
      "application/vnd.jupyter.widget-view+json": {
       "version_major": 2,
       "version_minor": 0,
       "model_id": "006937a05dfc46d3854a7f3388a0db41"
      }
     },
     "metadata": {},
     "output_type": "display_data"
    },
    {
     "data": {
      "text/plain": "  0%|          | 0/800 [00:00<?, ?it/s]",
      "application/vnd.jupyter.widget-view+json": {
       "version_major": 2,
       "version_minor": 0,
       "model_id": "74165ad902d348838fc8033973287ec3"
      }
     },
     "metadata": {},
     "output_type": "display_data"
    },
    {
     "data": {
      "text/plain": "  0%|          | 0/800 [00:00<?, ?it/s]",
      "application/vnd.jupyter.widget-view+json": {
       "version_major": 2,
       "version_minor": 0,
       "model_id": "b245224e251545f697f22106510fb560"
      }
     },
     "metadata": {},
     "output_type": "display_data"
    },
    {
     "data": {
      "text/plain": "  0%|          | 0/800 [00:00<?, ?it/s]",
      "application/vnd.jupyter.widget-view+json": {
       "version_major": 2,
       "version_minor": 0,
       "model_id": "f61c7b19f9884dad8c01e35c1f138d96"
      }
     },
     "metadata": {},
     "output_type": "display_data"
    },
    {
     "data": {
      "text/plain": "  0%|          | 0/800 [00:00<?, ?it/s]",
      "application/vnd.jupyter.widget-view+json": {
       "version_major": 2,
       "version_minor": 0,
       "model_id": "0308ce9268fc4526a389d0e3e8cf00c6"
      }
     },
     "metadata": {},
     "output_type": "display_data"
    },
    {
     "data": {
      "text/plain": "  0%|          | 0/800 [00:00<?, ?it/s]",
      "application/vnd.jupyter.widget-view+json": {
       "version_major": 2,
       "version_minor": 0,
       "model_id": "03a1660f126540b1a0c0ab61a1a88edd"
      }
     },
     "metadata": {},
     "output_type": "display_data"
    },
    {
     "data": {
      "text/plain": "  0%|          | 0/800 [00:00<?, ?it/s]",
      "application/vnd.jupyter.widget-view+json": {
       "version_major": 2,
       "version_minor": 0,
       "model_id": "97a726492d81464fb007373257c0c364"
      }
     },
     "metadata": {},
     "output_type": "display_data"
    },
    {
     "data": {
      "text/plain": "  0%|          | 0/800 [00:00<?, ?it/s]",
      "application/vnd.jupyter.widget-view+json": {
       "version_major": 2,
       "version_minor": 0,
       "model_id": "7478173b219f4ef3be36626d9dc7d39d"
      }
     },
     "metadata": {},
     "output_type": "display_data"
    },
    {
     "data": {
      "text/plain": "  0%|          | 0/800 [00:00<?, ?it/s]",
      "application/vnd.jupyter.widget-view+json": {
       "version_major": 2,
       "version_minor": 0,
       "model_id": "38ced9959add4144b3e5c69b56fb1c70"
      }
     },
     "metadata": {},
     "output_type": "display_data"
    },
    {
     "data": {
      "text/plain": "  0%|          | 0/800 [00:00<?, ?it/s]",
      "application/vnd.jupyter.widget-view+json": {
       "version_major": 2,
       "version_minor": 0,
       "model_id": "fd0cd9adcc7f41aa98a4e10236890483"
      }
     },
     "metadata": {},
     "output_type": "display_data"
    },
    {
     "data": {
      "text/plain": "  0%|          | 0/800 [00:00<?, ?it/s]",
      "application/vnd.jupyter.widget-view+json": {
       "version_major": 2,
       "version_minor": 0,
       "model_id": "dddcb1aa69124d75bd052324533b0355"
      }
     },
     "metadata": {},
     "output_type": "display_data"
    },
    {
     "data": {
      "text/plain": "  0%|          | 0/800 [00:00<?, ?it/s]",
      "application/vnd.jupyter.widget-view+json": {
       "version_major": 2,
       "version_minor": 0,
       "model_id": "9d2a5834112e4081b90de376954f83cd"
      }
     },
     "metadata": {},
     "output_type": "display_data"
    },
    {
     "data": {
      "text/plain": "  0%|          | 0/800 [00:00<?, ?it/s]",
      "application/vnd.jupyter.widget-view+json": {
       "version_major": 2,
       "version_minor": 0,
       "model_id": "869889245a6f4970a316666f10854930"
      }
     },
     "metadata": {},
     "output_type": "display_data"
    },
    {
     "data": {
      "text/plain": "  0%|          | 0/800 [00:00<?, ?it/s]",
      "application/vnd.jupyter.widget-view+json": {
       "version_major": 2,
       "version_minor": 0,
       "model_id": "ba7ab15462ed494e82676e21656e54b1"
      }
     },
     "metadata": {},
     "output_type": "display_data"
    },
    {
     "data": {
      "text/plain": "  0%|          | 0/800 [00:00<?, ?it/s]",
      "application/vnd.jupyter.widget-view+json": {
       "version_major": 2,
       "version_minor": 0,
       "model_id": "b88ee6fc48fe43a58563efeb474ad4ec"
      }
     },
     "metadata": {},
     "output_type": "display_data"
    },
    {
     "data": {
      "text/plain": "  0%|          | 0/800 [00:00<?, ?it/s]",
      "application/vnd.jupyter.widget-view+json": {
       "version_major": 2,
       "version_minor": 0,
       "model_id": "f7d23ae5510744f2b51294ed7d8a7034"
      }
     },
     "metadata": {},
     "output_type": "display_data"
    },
    {
     "data": {
      "text/plain": "  0%|          | 0/800 [00:00<?, ?it/s]",
      "application/vnd.jupyter.widget-view+json": {
       "version_major": 2,
       "version_minor": 0,
       "model_id": "b9a8f9ac200d41fcb8351fbbedfd1cab"
      }
     },
     "metadata": {},
     "output_type": "display_data"
    },
    {
     "data": {
      "text/plain": "  0%|          | 0/800 [00:00<?, ?it/s]",
      "application/vnd.jupyter.widget-view+json": {
       "version_major": 2,
       "version_minor": 0,
       "model_id": "029161c9fc9e4ae2964d296d3ceecdef"
      }
     },
     "metadata": {},
     "output_type": "display_data"
    },
    {
     "data": {
      "text/plain": "  0%|          | 0/800 [00:00<?, ?it/s]",
      "application/vnd.jupyter.widget-view+json": {
       "version_major": 2,
       "version_minor": 0,
       "model_id": "b3b17a5a8e5d420db5d66330d8876548"
      }
     },
     "metadata": {},
     "output_type": "display_data"
    },
    {
     "data": {
      "text/plain": "  0%|          | 0/800 [00:00<?, ?it/s]",
      "application/vnd.jupyter.widget-view+json": {
       "version_major": 2,
       "version_minor": 0,
       "model_id": "d4a4ba4a4228489291dfbc57d0b49ea6"
      }
     },
     "metadata": {},
     "output_type": "display_data"
    },
    {
     "data": {
      "text/plain": "  0%|          | 0/800 [00:00<?, ?it/s]",
      "application/vnd.jupyter.widget-view+json": {
       "version_major": 2,
       "version_minor": 0,
       "model_id": "0174d2fa8c9d45df8a8dde4d08e39e81"
      }
     },
     "metadata": {},
     "output_type": "display_data"
    },
    {
     "data": {
      "text/plain": "  0%|          | 0/800 [00:00<?, ?it/s]",
      "application/vnd.jupyter.widget-view+json": {
       "version_major": 2,
       "version_minor": 0,
       "model_id": "f1e718e0e8b8486d964d6e2926776cd1"
      }
     },
     "metadata": {},
     "output_type": "display_data"
    },
    {
     "data": {
      "text/plain": "  0%|          | 0/800 [00:00<?, ?it/s]",
      "application/vnd.jupyter.widget-view+json": {
       "version_major": 2,
       "version_minor": 0,
       "model_id": "4bd125b52d274acaaf39149be59d3c90"
      }
     },
     "metadata": {},
     "output_type": "display_data"
    },
    {
     "data": {
      "text/plain": "  0%|          | 0/800 [00:00<?, ?it/s]",
      "application/vnd.jupyter.widget-view+json": {
       "version_major": 2,
       "version_minor": 0,
       "model_id": "7ec98e7eb2da4e03a0a848d713e8865f"
      }
     },
     "metadata": {},
     "output_type": "display_data"
    },
    {
     "data": {
      "text/plain": "  0%|          | 0/800 [00:00<?, ?it/s]",
      "application/vnd.jupyter.widget-view+json": {
       "version_major": 2,
       "version_minor": 0,
       "model_id": "b6cbaab755cf4ce0a735d2fa4b2ca92b"
      }
     },
     "metadata": {},
     "output_type": "display_data"
    },
    {
     "data": {
      "text/plain": "  0%|          | 0/800 [00:00<?, ?it/s]",
      "application/vnd.jupyter.widget-view+json": {
       "version_major": 2,
       "version_minor": 0,
       "model_id": "7aa8d425f9a64c94b15425f821509bd0"
      }
     },
     "metadata": {},
     "output_type": "display_data"
    },
    {
     "data": {
      "text/plain": "  0%|          | 0/800 [00:00<?, ?it/s]",
      "application/vnd.jupyter.widget-view+json": {
       "version_major": 2,
       "version_minor": 0,
       "model_id": "c1ddf1b9abfa401482e4f27bbbb0d84c"
      }
     },
     "metadata": {},
     "output_type": "display_data"
    },
    {
     "data": {
      "text/plain": "  0%|          | 0/800 [00:00<?, ?it/s]",
      "application/vnd.jupyter.widget-view+json": {
       "version_major": 2,
       "version_minor": 0,
       "model_id": "f94f293b980e4651ac25e501f6f4b17a"
      }
     },
     "metadata": {},
     "output_type": "display_data"
    },
    {
     "data": {
      "text/plain": "  0%|          | 0/800 [00:00<?, ?it/s]",
      "application/vnd.jupyter.widget-view+json": {
       "version_major": 2,
       "version_minor": 0,
       "model_id": "af9a0f08aeee4df4923ea4e34c783d7f"
      }
     },
     "metadata": {},
     "output_type": "display_data"
    },
    {
     "data": {
      "text/plain": "  0%|          | 0/800 [00:00<?, ?it/s]",
      "application/vnd.jupyter.widget-view+json": {
       "version_major": 2,
       "version_minor": 0,
       "model_id": "3d6e6909c1d94805a2ac1fbaf817a99f"
      }
     },
     "metadata": {},
     "output_type": "display_data"
    },
    {
     "data": {
      "text/plain": "  0%|          | 0/800 [00:00<?, ?it/s]",
      "application/vnd.jupyter.widget-view+json": {
       "version_major": 2,
       "version_minor": 0,
       "model_id": "48e98d3cb93d4093867731077ccde95f"
      }
     },
     "metadata": {},
     "output_type": "display_data"
    },
    {
     "data": {
      "text/plain": "  0%|          | 0/800 [00:00<?, ?it/s]",
      "application/vnd.jupyter.widget-view+json": {
       "version_major": 2,
       "version_minor": 0,
       "model_id": "fbe872f3b67043b4b28e63deb21a7706"
      }
     },
     "metadata": {},
     "output_type": "display_data"
    },
    {
     "data": {
      "text/plain": "  0%|          | 0/800 [00:00<?, ?it/s]",
      "application/vnd.jupyter.widget-view+json": {
       "version_major": 2,
       "version_minor": 0,
       "model_id": "03dbb081a9b64fed819953f677c32848"
      }
     },
     "metadata": {},
     "output_type": "display_data"
    },
    {
     "data": {
      "text/plain": "  0%|          | 0/800 [00:00<?, ?it/s]",
      "application/vnd.jupyter.widget-view+json": {
       "version_major": 2,
       "version_minor": 0,
       "model_id": "5d16e92e7ab54e6b9a26ac4d5546abc2"
      }
     },
     "metadata": {},
     "output_type": "display_data"
    },
    {
     "data": {
      "text/plain": "  0%|          | 0/800 [00:00<?, ?it/s]",
      "application/vnd.jupyter.widget-view+json": {
       "version_major": 2,
       "version_minor": 0,
       "model_id": "a271aa590c454f969792a8777ba6cc5c"
      }
     },
     "metadata": {},
     "output_type": "display_data"
    },
    {
     "data": {
      "text/plain": "  0%|          | 0/800 [00:00<?, ?it/s]",
      "application/vnd.jupyter.widget-view+json": {
       "version_major": 2,
       "version_minor": 0,
       "model_id": "15bef56cb6f2421b854f24a3fc9b13bd"
      }
     },
     "metadata": {},
     "output_type": "display_data"
    },
    {
     "data": {
      "text/plain": "  0%|          | 0/800 [00:00<?, ?it/s]",
      "application/vnd.jupyter.widget-view+json": {
       "version_major": 2,
       "version_minor": 0,
       "model_id": "868b49cef10848af888f39003558288d"
      }
     },
     "metadata": {},
     "output_type": "display_data"
    },
    {
     "data": {
      "text/plain": "  0%|          | 0/800 [00:00<?, ?it/s]",
      "application/vnd.jupyter.widget-view+json": {
       "version_major": 2,
       "version_minor": 0,
       "model_id": "36cd4a61d7e14538a3db89c44ea6bb69"
      }
     },
     "metadata": {},
     "output_type": "display_data"
    },
    {
     "data": {
      "text/plain": "  0%|          | 0/800 [00:00<?, ?it/s]",
      "application/vnd.jupyter.widget-view+json": {
       "version_major": 2,
       "version_minor": 0,
       "model_id": "cfa76c54319f403c8aa209882c41ee20"
      }
     },
     "metadata": {},
     "output_type": "display_data"
    },
    {
     "data": {
      "text/plain": "  0%|          | 0/800 [00:00<?, ?it/s]",
      "application/vnd.jupyter.widget-view+json": {
       "version_major": 2,
       "version_minor": 0,
       "model_id": "b7eeefda9c4342a7b842a38ca344b637"
      }
     },
     "metadata": {},
     "output_type": "display_data"
    },
    {
     "data": {
      "text/plain": "  0%|          | 0/800 [00:00<?, ?it/s]",
      "application/vnd.jupyter.widget-view+json": {
       "version_major": 2,
       "version_minor": 0,
       "model_id": "61b11940d2f04ef88d2768aa27200d71"
      }
     },
     "metadata": {},
     "output_type": "display_data"
    },
    {
     "data": {
      "text/plain": "  0%|          | 0/800 [00:00<?, ?it/s]",
      "application/vnd.jupyter.widget-view+json": {
       "version_major": 2,
       "version_minor": 0,
       "model_id": "f24ce660cd9b489e8b85288c69f9b0ff"
      }
     },
     "metadata": {},
     "output_type": "display_data"
    },
    {
     "data": {
      "text/plain": "  0%|          | 0/800 [00:00<?, ?it/s]",
      "application/vnd.jupyter.widget-view+json": {
       "version_major": 2,
       "version_minor": 0,
       "model_id": "8ee32902810f42a99ac3e557d52cb657"
      }
     },
     "metadata": {},
     "output_type": "display_data"
    },
    {
     "data": {
      "text/plain": "  0%|          | 0/800 [00:00<?, ?it/s]",
      "application/vnd.jupyter.widget-view+json": {
       "version_major": 2,
       "version_minor": 0,
       "model_id": "d423aa4254754dbcb4038cb6f1a25923"
      }
     },
     "metadata": {},
     "output_type": "display_data"
    },
    {
     "data": {
      "text/plain": "  0%|          | 0/800 [00:00<?, ?it/s]",
      "application/vnd.jupyter.widget-view+json": {
       "version_major": 2,
       "version_minor": 0,
       "model_id": "718d5f7ee701425397fe6468e2063ed7"
      }
     },
     "metadata": {},
     "output_type": "display_data"
    },
    {
     "data": {
      "text/plain": "  0%|          | 0/800 [00:00<?, ?it/s]",
      "application/vnd.jupyter.widget-view+json": {
       "version_major": 2,
       "version_minor": 0,
       "model_id": "d7405d1b6cc54a918b54d3705fd9555b"
      }
     },
     "metadata": {},
     "output_type": "display_data"
    },
    {
     "data": {
      "text/plain": "  0%|          | 0/800 [00:00<?, ?it/s]",
      "application/vnd.jupyter.widget-view+json": {
       "version_major": 2,
       "version_minor": 0,
       "model_id": "dd0f6b87130e4fdabcce965e1d909730"
      }
     },
     "metadata": {},
     "output_type": "display_data"
    },
    {
     "data": {
      "text/plain": "  0%|          | 0/800 [00:00<?, ?it/s]",
      "application/vnd.jupyter.widget-view+json": {
       "version_major": 2,
       "version_minor": 0,
       "model_id": "7e189a56fa96414fab821a0bb4f42892"
      }
     },
     "metadata": {},
     "output_type": "display_data"
    },
    {
     "data": {
      "text/plain": "  0%|          | 0/800 [00:00<?, ?it/s]",
      "application/vnd.jupyter.widget-view+json": {
       "version_major": 2,
       "version_minor": 0,
       "model_id": "dba4e24ff9da4857994a2b4a2057cdf7"
      }
     },
     "metadata": {},
     "output_type": "display_data"
    },
    {
     "data": {
      "text/plain": "  0%|          | 0/800 [00:00<?, ?it/s]",
      "application/vnd.jupyter.widget-view+json": {
       "version_major": 2,
       "version_minor": 0,
       "model_id": "071bdcc8d94a4c3a81cf17ccc6223e7e"
      }
     },
     "metadata": {},
     "output_type": "display_data"
    },
    {
     "data": {
      "text/plain": "  0%|          | 0/800 [00:00<?, ?it/s]",
      "application/vnd.jupyter.widget-view+json": {
       "version_major": 2,
       "version_minor": 0,
       "model_id": "fb6fe8b1cd23407e8db6b0cc8e2ee42a"
      }
     },
     "metadata": {},
     "output_type": "display_data"
    },
    {
     "data": {
      "text/plain": "  0%|          | 0/800 [00:00<?, ?it/s]",
      "application/vnd.jupyter.widget-view+json": {
       "version_major": 2,
       "version_minor": 0,
       "model_id": "abd4bf06cc0e4da0af11ed843fd9c59f"
      }
     },
     "metadata": {},
     "output_type": "display_data"
    },
    {
     "data": {
      "text/plain": "  0%|          | 0/800 [00:00<?, ?it/s]",
      "application/vnd.jupyter.widget-view+json": {
       "version_major": 2,
       "version_minor": 0,
       "model_id": "72010a9f49804a07843eec686e093ce0"
      }
     },
     "metadata": {},
     "output_type": "display_data"
    },
    {
     "data": {
      "text/plain": "  0%|          | 0/800 [00:00<?, ?it/s]",
      "application/vnd.jupyter.widget-view+json": {
       "version_major": 2,
       "version_minor": 0,
       "model_id": "53d1486f31e447a4a4ea6567d6b1545b"
      }
     },
     "metadata": {},
     "output_type": "display_data"
    },
    {
     "data": {
      "text/plain": "  0%|          | 0/800 [00:00<?, ?it/s]",
      "application/vnd.jupyter.widget-view+json": {
       "version_major": 2,
       "version_minor": 0,
       "model_id": "d5582332745541bf8aeff916cb7af6b4"
      }
     },
     "metadata": {},
     "output_type": "display_data"
    },
    {
     "data": {
      "text/plain": "  0%|          | 0/800 [00:00<?, ?it/s]",
      "application/vnd.jupyter.widget-view+json": {
       "version_major": 2,
       "version_minor": 0,
       "model_id": "0d3515668d364b3c881a09ef9164144a"
      }
     },
     "metadata": {},
     "output_type": "display_data"
    },
    {
     "data": {
      "text/plain": "  0%|          | 0/800 [00:00<?, ?it/s]",
      "application/vnd.jupyter.widget-view+json": {
       "version_major": 2,
       "version_minor": 0,
       "model_id": "92b457863d644f29a13da93878ad1a66"
      }
     },
     "metadata": {},
     "output_type": "display_data"
    },
    {
     "data": {
      "text/plain": "  0%|          | 0/800 [00:00<?, ?it/s]",
      "application/vnd.jupyter.widget-view+json": {
       "version_major": 2,
       "version_minor": 0,
       "model_id": "0efb8219d3264ab590f8cc6c2dac1766"
      }
     },
     "metadata": {},
     "output_type": "display_data"
    },
    {
     "data": {
      "text/plain": "  0%|          | 0/800 [00:00<?, ?it/s]",
      "application/vnd.jupyter.widget-view+json": {
       "version_major": 2,
       "version_minor": 0,
       "model_id": "f4c345c601c242f2843bf0aeadc3b659"
      }
     },
     "metadata": {},
     "output_type": "display_data"
    },
    {
     "data": {
      "text/plain": "  0%|          | 0/800 [00:00<?, ?it/s]",
      "application/vnd.jupyter.widget-view+json": {
       "version_major": 2,
       "version_minor": 0,
       "model_id": "07b3edcb4e05442e83ae81bf21c71c8a"
      }
     },
     "metadata": {},
     "output_type": "display_data"
    },
    {
     "data": {
      "text/plain": "  0%|          | 0/800 [00:00<?, ?it/s]",
      "application/vnd.jupyter.widget-view+json": {
       "version_major": 2,
       "version_minor": 0,
       "model_id": "75ece5e03b644564839d9465e4e9899b"
      }
     },
     "metadata": {},
     "output_type": "display_data"
    },
    {
     "data": {
      "text/plain": "  0%|          | 0/800 [00:00<?, ?it/s]",
      "application/vnd.jupyter.widget-view+json": {
       "version_major": 2,
       "version_minor": 0,
       "model_id": "09a50447f5594cbda6d2245513f61ca9"
      }
     },
     "metadata": {},
     "output_type": "display_data"
    },
    {
     "data": {
      "text/plain": "  0%|          | 0/800 [00:00<?, ?it/s]",
      "application/vnd.jupyter.widget-view+json": {
       "version_major": 2,
       "version_minor": 0,
       "model_id": "2f3ed4b3abab46f98cd2104cd8fbf177"
      }
     },
     "metadata": {},
     "output_type": "display_data"
    },
    {
     "data": {
      "text/plain": "  0%|          | 0/800 [00:00<?, ?it/s]",
      "application/vnd.jupyter.widget-view+json": {
       "version_major": 2,
       "version_minor": 0,
       "model_id": "da0812d4754848c3858963eebe37cf12"
      }
     },
     "metadata": {},
     "output_type": "display_data"
    },
    {
     "data": {
      "text/plain": "  0%|          | 0/800 [00:00<?, ?it/s]",
      "application/vnd.jupyter.widget-view+json": {
       "version_major": 2,
       "version_minor": 0,
       "model_id": "c389de37514148aa8dc1eaa45569deb7"
      }
     },
     "metadata": {},
     "output_type": "display_data"
    },
    {
     "data": {
      "text/plain": "  0%|          | 0/800 [00:00<?, ?it/s]",
      "application/vnd.jupyter.widget-view+json": {
       "version_major": 2,
       "version_minor": 0,
       "model_id": "c9f319f34edb407f8e3a2ae4dd07780d"
      }
     },
     "metadata": {},
     "output_type": "display_data"
    },
    {
     "data": {
      "text/plain": "  0%|          | 0/800 [00:00<?, ?it/s]",
      "application/vnd.jupyter.widget-view+json": {
       "version_major": 2,
       "version_minor": 0,
       "model_id": "d20621b586b74b4b98a91dffa623c468"
      }
     },
     "metadata": {},
     "output_type": "display_data"
    },
    {
     "data": {
      "text/plain": "  0%|          | 0/800 [00:00<?, ?it/s]",
      "application/vnd.jupyter.widget-view+json": {
       "version_major": 2,
       "version_minor": 0,
       "model_id": "1864ed406ad5485fa43f1eb5e558cbab"
      }
     },
     "metadata": {},
     "output_type": "display_data"
    },
    {
     "data": {
      "text/plain": "  0%|          | 0/800 [00:00<?, ?it/s]",
      "application/vnd.jupyter.widget-view+json": {
       "version_major": 2,
       "version_minor": 0,
       "model_id": "06c482ef666d44ccbff1e24d7188b8ba"
      }
     },
     "metadata": {},
     "output_type": "display_data"
    },
    {
     "data": {
      "text/plain": "  0%|          | 0/800 [00:00<?, ?it/s]",
      "application/vnd.jupyter.widget-view+json": {
       "version_major": 2,
       "version_minor": 0,
       "model_id": "22ec7799cda445169b94f40558d31de5"
      }
     },
     "metadata": {},
     "output_type": "display_data"
    },
    {
     "data": {
      "text/plain": "  0%|          | 0/800 [00:00<?, ?it/s]",
      "application/vnd.jupyter.widget-view+json": {
       "version_major": 2,
       "version_minor": 0,
       "model_id": "97d8025573e24e7183dd999054308610"
      }
     },
     "metadata": {},
     "output_type": "display_data"
    },
    {
     "data": {
      "text/plain": "  0%|          | 0/800 [00:00<?, ?it/s]",
      "application/vnd.jupyter.widget-view+json": {
       "version_major": 2,
       "version_minor": 0,
       "model_id": "1661a6f8219a4810a1c8695f402e33bf"
      }
     },
     "metadata": {},
     "output_type": "display_data"
    },
    {
     "data": {
      "text/plain": "  0%|          | 0/800 [00:00<?, ?it/s]",
      "application/vnd.jupyter.widget-view+json": {
       "version_major": 2,
       "version_minor": 0,
       "model_id": "85e12db5a997431491c5326409f7cb7e"
      }
     },
     "metadata": {},
     "output_type": "display_data"
    },
    {
     "data": {
      "text/plain": "  0%|          | 0/800 [00:00<?, ?it/s]",
      "application/vnd.jupyter.widget-view+json": {
       "version_major": 2,
       "version_minor": 0,
       "model_id": "3da541bc82b5419ca13fa45a28e8135f"
      }
     },
     "metadata": {},
     "output_type": "display_data"
    },
    {
     "data": {
      "text/plain": "  0%|          | 0/800 [00:00<?, ?it/s]",
      "application/vnd.jupyter.widget-view+json": {
       "version_major": 2,
       "version_minor": 0,
       "model_id": "ad8b237fb03c450b9d0e41f2d426bb68"
      }
     },
     "metadata": {},
     "output_type": "display_data"
    },
    {
     "data": {
      "text/plain": "  0%|          | 0/800 [00:00<?, ?it/s]",
      "application/vnd.jupyter.widget-view+json": {
       "version_major": 2,
       "version_minor": 0,
       "model_id": "ac1883ffe7794774b4b8850fb17b1821"
      }
     },
     "metadata": {},
     "output_type": "display_data"
    },
    {
     "data": {
      "text/plain": "  0%|          | 0/800 [00:00<?, ?it/s]",
      "application/vnd.jupyter.widget-view+json": {
       "version_major": 2,
       "version_minor": 0,
       "model_id": "5c7594323b0e4ecc9340077e3a6928ff"
      }
     },
     "metadata": {},
     "output_type": "display_data"
    },
    {
     "data": {
      "text/plain": "  0%|          | 0/800 [00:00<?, ?it/s]",
      "application/vnd.jupyter.widget-view+json": {
       "version_major": 2,
       "version_minor": 0,
       "model_id": "eb14692095914173a75b0caa3bcc4102"
      }
     },
     "metadata": {},
     "output_type": "display_data"
    },
    {
     "data": {
      "text/plain": "  0%|          | 0/800 [00:00<?, ?it/s]",
      "application/vnd.jupyter.widget-view+json": {
       "version_major": 2,
       "version_minor": 0,
       "model_id": "24e2dad7ac3e4f848dd8a336d86bcca4"
      }
     },
     "metadata": {},
     "output_type": "display_data"
    },
    {
     "data": {
      "text/plain": "  0%|          | 0/800 [00:00<?, ?it/s]",
      "application/vnd.jupyter.widget-view+json": {
       "version_major": 2,
       "version_minor": 0,
       "model_id": "b6e0155c22e846b9bb774826e6654d2a"
      }
     },
     "metadata": {},
     "output_type": "display_data"
    },
    {
     "data": {
      "text/plain": "  0%|          | 0/800 [00:00<?, ?it/s]",
      "application/vnd.jupyter.widget-view+json": {
       "version_major": 2,
       "version_minor": 0,
       "model_id": "e15554c7d8dd4d1a979acfac84a7a65d"
      }
     },
     "metadata": {},
     "output_type": "display_data"
    },
    {
     "data": {
      "text/plain": "  0%|          | 0/800 [00:00<?, ?it/s]",
      "application/vnd.jupyter.widget-view+json": {
       "version_major": 2,
       "version_minor": 0,
       "model_id": "653b4fbcd21c465d9a6f4b457a827630"
      }
     },
     "metadata": {},
     "output_type": "display_data"
    },
    {
     "data": {
      "text/plain": "  0%|          | 0/800 [00:00<?, ?it/s]",
      "application/vnd.jupyter.widget-view+json": {
       "version_major": 2,
       "version_minor": 0,
       "model_id": "ac6f1867f67a4db0b6397b70a2d1ba77"
      }
     },
     "metadata": {},
     "output_type": "display_data"
    },
    {
     "data": {
      "text/plain": "  0%|          | 0/800 [00:00<?, ?it/s]",
      "application/vnd.jupyter.widget-view+json": {
       "version_major": 2,
       "version_minor": 0,
       "model_id": "24f020ef166943f3a63015f3a38b69b6"
      }
     },
     "metadata": {},
     "output_type": "display_data"
    },
    {
     "data": {
      "text/plain": "  0%|          | 0/800 [00:00<?, ?it/s]",
      "application/vnd.jupyter.widget-view+json": {
       "version_major": 2,
       "version_minor": 0,
       "model_id": "82cdc30a5a454e57a047b2b214eb01bc"
      }
     },
     "metadata": {},
     "output_type": "display_data"
    },
    {
     "data": {
      "text/plain": "  0%|          | 0/800 [00:00<?, ?it/s]",
      "application/vnd.jupyter.widget-view+json": {
       "version_major": 2,
       "version_minor": 0,
       "model_id": "30653d48044543ccaa97ed0e3f5be95a"
      }
     },
     "metadata": {},
     "output_type": "display_data"
    },
    {
     "data": {
      "text/plain": "  0%|          | 0/800 [00:00<?, ?it/s]",
      "application/vnd.jupyter.widget-view+json": {
       "version_major": 2,
       "version_minor": 0,
       "model_id": "1255077aaee6405a8947ec9f10099107"
      }
     },
     "metadata": {},
     "output_type": "display_data"
    },
    {
     "data": {
      "text/plain": "  0%|          | 0/800 [00:00<?, ?it/s]",
      "application/vnd.jupyter.widget-view+json": {
       "version_major": 2,
       "version_minor": 0,
       "model_id": "5683cb0a9a694ec2aee7a34a05ceb6fa"
      }
     },
     "metadata": {},
     "output_type": "display_data"
    },
    {
     "data": {
      "text/plain": "  0%|          | 0/800 [00:00<?, ?it/s]",
      "application/vnd.jupyter.widget-view+json": {
       "version_major": 2,
       "version_minor": 0,
       "model_id": "c202ee68e87c4606865886a16408d963"
      }
     },
     "metadata": {},
     "output_type": "display_data"
    },
    {
     "data": {
      "text/plain": "  0%|          | 0/800 [00:00<?, ?it/s]",
      "application/vnd.jupyter.widget-view+json": {
       "version_major": 2,
       "version_minor": 0,
       "model_id": "5f15cc39460b4011ad2e520ceb35e3cc"
      }
     },
     "metadata": {},
     "output_type": "display_data"
    },
    {
     "data": {
      "text/plain": "  0%|          | 0/800 [00:00<?, ?it/s]",
      "application/vnd.jupyter.widget-view+json": {
       "version_major": 2,
       "version_minor": 0,
       "model_id": "ba3647e7f739469c876ed60d6406fc4c"
      }
     },
     "metadata": {},
     "output_type": "display_data"
    },
    {
     "data": {
      "text/plain": "  0%|          | 0/800 [00:00<?, ?it/s]",
      "application/vnd.jupyter.widget-view+json": {
       "version_major": 2,
       "version_minor": 0,
       "model_id": "06ad468e957443d39b3a167571463202"
      }
     },
     "metadata": {},
     "output_type": "display_data"
    },
    {
     "data": {
      "text/plain": "  0%|          | 0/800 [00:00<?, ?it/s]",
      "application/vnd.jupyter.widget-view+json": {
       "version_major": 2,
       "version_minor": 0,
       "model_id": "5a75ea837e34454d8b163bc92f08c7d6"
      }
     },
     "metadata": {},
     "output_type": "display_data"
    },
    {
     "data": {
      "text/plain": "  0%|          | 0/800 [00:00<?, ?it/s]",
      "application/vnd.jupyter.widget-view+json": {
       "version_major": 2,
       "version_minor": 0,
       "model_id": "b5b332e2503247348c970b9943fa91db"
      }
     },
     "metadata": {},
     "output_type": "display_data"
    },
    {
     "data": {
      "text/plain": "  0%|          | 0/800 [00:00<?, ?it/s]",
      "application/vnd.jupyter.widget-view+json": {
       "version_major": 2,
       "version_minor": 0,
       "model_id": "36a5b2ba1b994443b625f3cd8e41d3ae"
      }
     },
     "metadata": {},
     "output_type": "display_data"
    },
    {
     "data": {
      "text/plain": "  0%|          | 0/800 [00:00<?, ?it/s]",
      "application/vnd.jupyter.widget-view+json": {
       "version_major": 2,
       "version_minor": 0,
       "model_id": "3c2f3985baaa48e7be6dee9286d37b24"
      }
     },
     "metadata": {},
     "output_type": "display_data"
    },
    {
     "data": {
      "text/plain": "  0%|          | 0/800 [00:00<?, ?it/s]",
      "application/vnd.jupyter.widget-view+json": {
       "version_major": 2,
       "version_minor": 0,
       "model_id": "c8695bd5af89459784971e0acaa3e060"
      }
     },
     "metadata": {},
     "output_type": "display_data"
    },
    {
     "data": {
      "text/plain": "  0%|          | 0/800 [00:00<?, ?it/s]",
      "application/vnd.jupyter.widget-view+json": {
       "version_major": 2,
       "version_minor": 0,
       "model_id": "a1b067ebe77a4f81b76b95c944e99c75"
      }
     },
     "metadata": {},
     "output_type": "display_data"
    },
    {
     "data": {
      "text/plain": "  0%|          | 0/800 [00:00<?, ?it/s]",
      "application/vnd.jupyter.widget-view+json": {
       "version_major": 2,
       "version_minor": 0,
       "model_id": "ccb3f4012d1e41a18d95c7645fcfec69"
      }
     },
     "metadata": {},
     "output_type": "display_data"
    },
    {
     "data": {
      "text/plain": "  0%|          | 0/800 [00:00<?, ?it/s]",
      "application/vnd.jupyter.widget-view+json": {
       "version_major": 2,
       "version_minor": 0,
       "model_id": "208385ac92be4449b003b90e5703bebb"
      }
     },
     "metadata": {},
     "output_type": "display_data"
    },
    {
     "data": {
      "text/plain": "  0%|          | 0/800 [00:00<?, ?it/s]",
      "application/vnd.jupyter.widget-view+json": {
       "version_major": 2,
       "version_minor": 0,
       "model_id": "9f0fc0ac52a7420ca3b60198c6f6fbe5"
      }
     },
     "metadata": {},
     "output_type": "display_data"
    },
    {
     "data": {
      "text/plain": "  0%|          | 0/800 [00:00<?, ?it/s]",
      "application/vnd.jupyter.widget-view+json": {
       "version_major": 2,
       "version_minor": 0,
       "model_id": "d4ac1888a6d443308603ee91dfb98514"
      }
     },
     "metadata": {},
     "output_type": "display_data"
    },
    {
     "data": {
      "text/plain": "  0%|          | 0/800 [00:00<?, ?it/s]",
      "application/vnd.jupyter.widget-view+json": {
       "version_major": 2,
       "version_minor": 0,
       "model_id": "143c4c727dbf4508b20903e5233e1178"
      }
     },
     "metadata": {},
     "output_type": "display_data"
    },
    {
     "data": {
      "text/plain": "  0%|          | 0/800 [00:00<?, ?it/s]",
      "application/vnd.jupyter.widget-view+json": {
       "version_major": 2,
       "version_minor": 0,
       "model_id": "b1442353058644aab7d61504bd22287d"
      }
     },
     "metadata": {},
     "output_type": "display_data"
    },
    {
     "data": {
      "text/plain": "  0%|          | 0/800 [00:00<?, ?it/s]",
      "application/vnd.jupyter.widget-view+json": {
       "version_major": 2,
       "version_minor": 0,
       "model_id": "0bf232ab39d44ce9963b28c5793a3cee"
      }
     },
     "metadata": {},
     "output_type": "display_data"
    },
    {
     "data": {
      "text/plain": "  0%|          | 0/800 [00:00<?, ?it/s]",
      "application/vnd.jupyter.widget-view+json": {
       "version_major": 2,
       "version_minor": 0,
       "model_id": "609994fab7a842c996ee3163a7f5ac20"
      }
     },
     "metadata": {},
     "output_type": "display_data"
    },
    {
     "data": {
      "text/plain": "  0%|          | 0/800 [00:00<?, ?it/s]",
      "application/vnd.jupyter.widget-view+json": {
       "version_major": 2,
       "version_minor": 0,
       "model_id": "09350e527a1241bcb9bfc32e91cff0cf"
      }
     },
     "metadata": {},
     "output_type": "display_data"
    },
    {
     "data": {
      "text/plain": "  0%|          | 0/800 [00:00<?, ?it/s]",
      "application/vnd.jupyter.widget-view+json": {
       "version_major": 2,
       "version_minor": 0,
       "model_id": "770361e50ab446b9be77ded03cab0519"
      }
     },
     "metadata": {},
     "output_type": "display_data"
    },
    {
     "data": {
      "text/plain": "  0%|          | 0/800 [00:00<?, ?it/s]",
      "application/vnd.jupyter.widget-view+json": {
       "version_major": 2,
       "version_minor": 0,
       "model_id": "6cfc8e1a3d9c4a89bdcfcf87bc186346"
      }
     },
     "metadata": {},
     "output_type": "display_data"
    },
    {
     "data": {
      "text/plain": "  0%|          | 0/800 [00:00<?, ?it/s]",
      "application/vnd.jupyter.widget-view+json": {
       "version_major": 2,
       "version_minor": 0,
       "model_id": "6dc272635178497792bb264d320aadae"
      }
     },
     "metadata": {},
     "output_type": "display_data"
    },
    {
     "data": {
      "text/plain": "  0%|          | 0/800 [00:00<?, ?it/s]",
      "application/vnd.jupyter.widget-view+json": {
       "version_major": 2,
       "version_minor": 0,
       "model_id": "306c7e4b91de4eb2a683d49dd8e6a7a3"
      }
     },
     "metadata": {},
     "output_type": "display_data"
    },
    {
     "data": {
      "text/plain": "  0%|          | 0/800 [00:00<?, ?it/s]",
      "application/vnd.jupyter.widget-view+json": {
       "version_major": 2,
       "version_minor": 0,
       "model_id": "1c3e1bca308347759827e50e33f59636"
      }
     },
     "metadata": {},
     "output_type": "display_data"
    },
    {
     "data": {
      "text/plain": "  0%|          | 0/800 [00:00<?, ?it/s]",
      "application/vnd.jupyter.widget-view+json": {
       "version_major": 2,
       "version_minor": 0,
       "model_id": "8c51626aa16641569416a52adebd5716"
      }
     },
     "metadata": {},
     "output_type": "display_data"
    },
    {
     "data": {
      "text/plain": "  0%|          | 0/800 [00:00<?, ?it/s]",
      "application/vnd.jupyter.widget-view+json": {
       "version_major": 2,
       "version_minor": 0,
       "model_id": "f8c0764dc530484c8df62016b3c68ada"
      }
     },
     "metadata": {},
     "output_type": "display_data"
    },
    {
     "data": {
      "text/plain": "  0%|          | 0/800 [00:00<?, ?it/s]",
      "application/vnd.jupyter.widget-view+json": {
       "version_major": 2,
       "version_minor": 0,
       "model_id": "8ad5c230bbcf473d83262ca6fea3fee8"
      }
     },
     "metadata": {},
     "output_type": "display_data"
    },
    {
     "data": {
      "text/plain": "  0%|          | 0/800 [00:00<?, ?it/s]",
      "application/vnd.jupyter.widget-view+json": {
       "version_major": 2,
       "version_minor": 0,
       "model_id": "8e5b502d103a47dca71f646bdbab2370"
      }
     },
     "metadata": {},
     "output_type": "display_data"
    },
    {
     "data": {
      "text/plain": "  0%|          | 0/800 [00:00<?, ?it/s]",
      "application/vnd.jupyter.widget-view+json": {
       "version_major": 2,
       "version_minor": 0,
       "model_id": "3a0c761dbad043e78244c4ae7770d113"
      }
     },
     "metadata": {},
     "output_type": "display_data"
    },
    {
     "data": {
      "text/plain": "  0%|          | 0/800 [00:00<?, ?it/s]",
      "application/vnd.jupyter.widget-view+json": {
       "version_major": 2,
       "version_minor": 0,
       "model_id": "fdbfed989a4347c49cb652208feec677"
      }
     },
     "metadata": {},
     "output_type": "display_data"
    },
    {
     "data": {
      "text/plain": "  0%|          | 0/800 [00:00<?, ?it/s]",
      "application/vnd.jupyter.widget-view+json": {
       "version_major": 2,
       "version_minor": 0,
       "model_id": "cbd922069aa043159f3b7e01528d327a"
      }
     },
     "metadata": {},
     "output_type": "display_data"
    },
    {
     "data": {
      "text/plain": "  0%|          | 0/800 [00:00<?, ?it/s]",
      "application/vnd.jupyter.widget-view+json": {
       "version_major": 2,
       "version_minor": 0,
       "model_id": "bb51daa3cd7c4e09893fe4ba05dd8959"
      }
     },
     "metadata": {},
     "output_type": "display_data"
    },
    {
     "data": {
      "text/plain": "  0%|          | 0/800 [00:00<?, ?it/s]",
      "application/vnd.jupyter.widget-view+json": {
       "version_major": 2,
       "version_minor": 0,
       "model_id": "5b95b208d5de4b8e8348932d0145263a"
      }
     },
     "metadata": {},
     "output_type": "display_data"
    },
    {
     "data": {
      "text/plain": "  0%|          | 0/800 [00:00<?, ?it/s]",
      "application/vnd.jupyter.widget-view+json": {
       "version_major": 2,
       "version_minor": 0,
       "model_id": "12142964a7e946a99d5fb72ef6d9237b"
      }
     },
     "metadata": {},
     "output_type": "display_data"
    },
    {
     "data": {
      "text/plain": "  0%|          | 0/800 [00:00<?, ?it/s]",
      "application/vnd.jupyter.widget-view+json": {
       "version_major": 2,
       "version_minor": 0,
       "model_id": "0ed26b3d919d431f9e12eda095c95cef"
      }
     },
     "metadata": {},
     "output_type": "display_data"
    },
    {
     "data": {
      "text/plain": "  0%|          | 0/800 [00:00<?, ?it/s]",
      "application/vnd.jupyter.widget-view+json": {
       "version_major": 2,
       "version_minor": 0,
       "model_id": "786dba2dd6eb47e6802641e214c27382"
      }
     },
     "metadata": {},
     "output_type": "display_data"
    },
    {
     "data": {
      "text/plain": "  0%|          | 0/800 [00:00<?, ?it/s]",
      "application/vnd.jupyter.widget-view+json": {
       "version_major": 2,
       "version_minor": 0,
       "model_id": "1a173b02434b4a0a82306459ce19b18d"
      }
     },
     "metadata": {},
     "output_type": "display_data"
    },
    {
     "data": {
      "text/plain": "  0%|          | 0/800 [00:00<?, ?it/s]",
      "application/vnd.jupyter.widget-view+json": {
       "version_major": 2,
       "version_minor": 0,
       "model_id": "4f233d3a5a084732a081d092e3af346f"
      }
     },
     "metadata": {},
     "output_type": "display_data"
    },
    {
     "data": {
      "text/plain": "  0%|          | 0/800 [00:00<?, ?it/s]",
      "application/vnd.jupyter.widget-view+json": {
       "version_major": 2,
       "version_minor": 0,
       "model_id": "5bf6bfdcfe00429fa5400663b2b250b4"
      }
     },
     "metadata": {},
     "output_type": "display_data"
    },
    {
     "data": {
      "text/plain": "  0%|          | 0/800 [00:00<?, ?it/s]",
      "application/vnd.jupyter.widget-view+json": {
       "version_major": 2,
       "version_minor": 0,
       "model_id": "1ee3a7736e724d088e391f8aad30181b"
      }
     },
     "metadata": {},
     "output_type": "display_data"
    },
    {
     "data": {
      "text/plain": "  0%|          | 0/800 [00:00<?, ?it/s]",
      "application/vnd.jupyter.widget-view+json": {
       "version_major": 2,
       "version_minor": 0,
       "model_id": "d279be7bf4e6426aad7be42940701c2b"
      }
     },
     "metadata": {},
     "output_type": "display_data"
    },
    {
     "data": {
      "text/plain": "  0%|          | 0/800 [00:00<?, ?it/s]",
      "application/vnd.jupyter.widget-view+json": {
       "version_major": 2,
       "version_minor": 0,
       "model_id": "f6148077e85e450bb46199c56281640c"
      }
     },
     "metadata": {},
     "output_type": "display_data"
    },
    {
     "data": {
      "text/plain": "  0%|          | 0/800 [00:00<?, ?it/s]",
      "application/vnd.jupyter.widget-view+json": {
       "version_major": 2,
       "version_minor": 0,
       "model_id": "ff32318ac9d1426690c7b40aba897fa8"
      }
     },
     "metadata": {},
     "output_type": "display_data"
    },
    {
     "data": {
      "text/plain": "  0%|          | 0/800 [00:00<?, ?it/s]",
      "application/vnd.jupyter.widget-view+json": {
       "version_major": 2,
       "version_minor": 0,
       "model_id": "7260d63d896947788875aed01031ceb2"
      }
     },
     "metadata": {},
     "output_type": "display_data"
    },
    {
     "data": {
      "text/plain": "  0%|          | 0/800 [00:00<?, ?it/s]",
      "application/vnd.jupyter.widget-view+json": {
       "version_major": 2,
       "version_minor": 0,
       "model_id": "e8b19707269c439fa085e8e81ffd1c28"
      }
     },
     "metadata": {},
     "output_type": "display_data"
    },
    {
     "data": {
      "text/plain": "  0%|          | 0/800 [00:00<?, ?it/s]",
      "application/vnd.jupyter.widget-view+json": {
       "version_major": 2,
       "version_minor": 0,
       "model_id": "8854bb9735fc4c2aa761edbcd7beb456"
      }
     },
     "metadata": {},
     "output_type": "display_data"
    },
    {
     "data": {
      "text/plain": "  0%|          | 0/800 [00:00<?, ?it/s]",
      "application/vnd.jupyter.widget-view+json": {
       "version_major": 2,
       "version_minor": 0,
       "model_id": "2d3c029c536d4e2b946b19e047b0d260"
      }
     },
     "metadata": {},
     "output_type": "display_data"
    },
    {
     "data": {
      "text/plain": "  0%|          | 0/800 [00:00<?, ?it/s]",
      "application/vnd.jupyter.widget-view+json": {
       "version_major": 2,
       "version_minor": 0,
       "model_id": "aa45dfbb81834518803f70d7d54299fc"
      }
     },
     "metadata": {},
     "output_type": "display_data"
    },
    {
     "data": {
      "text/plain": "  0%|          | 0/800 [00:00<?, ?it/s]",
      "application/vnd.jupyter.widget-view+json": {
       "version_major": 2,
       "version_minor": 0,
       "model_id": "9f56ae2aa5414e7c96aefc30bd03029b"
      }
     },
     "metadata": {},
     "output_type": "display_data"
    },
    {
     "data": {
      "text/plain": "  0%|          | 0/800 [00:00<?, ?it/s]",
      "application/vnd.jupyter.widget-view+json": {
       "version_major": 2,
       "version_minor": 0,
       "model_id": "01778fad36a9465c80ec87964efb0045"
      }
     },
     "metadata": {},
     "output_type": "display_data"
    },
    {
     "data": {
      "text/plain": "  0%|          | 0/800 [00:00<?, ?it/s]",
      "application/vnd.jupyter.widget-view+json": {
       "version_major": 2,
       "version_minor": 0,
       "model_id": "59f7defa9e864731aac51cc92c1eb13d"
      }
     },
     "metadata": {},
     "output_type": "display_data"
    },
    {
     "data": {
      "text/plain": "  0%|          | 0/800 [00:00<?, ?it/s]",
      "application/vnd.jupyter.widget-view+json": {
       "version_major": 2,
       "version_minor": 0,
       "model_id": "84d9ffc9c800459f93a5fc7aa70f492d"
      }
     },
     "metadata": {},
     "output_type": "display_data"
    },
    {
     "data": {
      "text/plain": "  0%|          | 0/800 [00:00<?, ?it/s]",
      "application/vnd.jupyter.widget-view+json": {
       "version_major": 2,
       "version_minor": 0,
       "model_id": "11d8cf85ef5b44559d8bea51b799c159"
      }
     },
     "metadata": {},
     "output_type": "display_data"
    },
    {
     "data": {
      "text/plain": "  0%|          | 0/800 [00:00<?, ?it/s]",
      "application/vnd.jupyter.widget-view+json": {
       "version_major": 2,
       "version_minor": 0,
       "model_id": "e94b9682912c414dba4efa0f04f4893f"
      }
     },
     "metadata": {},
     "output_type": "display_data"
    },
    {
     "data": {
      "text/plain": "  0%|          | 0/800 [00:00<?, ?it/s]",
      "application/vnd.jupyter.widget-view+json": {
       "version_major": 2,
       "version_minor": 0,
       "model_id": "d5a3ef9f017343f485e93fe415d69382"
      }
     },
     "metadata": {},
     "output_type": "display_data"
    },
    {
     "data": {
      "text/plain": "  0%|          | 0/800 [00:00<?, ?it/s]",
      "application/vnd.jupyter.widget-view+json": {
       "version_major": 2,
       "version_minor": 0,
       "model_id": "49ccfde56234441596ca33b00e9b5e02"
      }
     },
     "metadata": {},
     "output_type": "display_data"
    },
    {
     "data": {
      "text/plain": "  0%|          | 0/800 [00:00<?, ?it/s]",
      "application/vnd.jupyter.widget-view+json": {
       "version_major": 2,
       "version_minor": 0,
       "model_id": "801f483872ee476c93b581b8b76648ff"
      }
     },
     "metadata": {},
     "output_type": "display_data"
    },
    {
     "data": {
      "text/plain": "  0%|          | 0/800 [00:00<?, ?it/s]",
      "application/vnd.jupyter.widget-view+json": {
       "version_major": 2,
       "version_minor": 0,
       "model_id": "a09aa6551096460aaffc4798ef607d02"
      }
     },
     "metadata": {},
     "output_type": "display_data"
    },
    {
     "data": {
      "text/plain": "  0%|          | 0/800 [00:00<?, ?it/s]",
      "application/vnd.jupyter.widget-view+json": {
       "version_major": 2,
       "version_minor": 0,
       "model_id": "eefe73ec7a1f489a939898b8271ee033"
      }
     },
     "metadata": {},
     "output_type": "display_data"
    },
    {
     "data": {
      "text/plain": "  0%|          | 0/800 [00:00<?, ?it/s]",
      "application/vnd.jupyter.widget-view+json": {
       "version_major": 2,
       "version_minor": 0,
       "model_id": "699e53e2470a45bf8fa17533dfdc091f"
      }
     },
     "metadata": {},
     "output_type": "display_data"
    },
    {
     "data": {
      "text/plain": "  0%|          | 0/800 [00:00<?, ?it/s]",
      "application/vnd.jupyter.widget-view+json": {
       "version_major": 2,
       "version_minor": 0,
       "model_id": "c2b3ef8505704666b44a1027a3a62a49"
      }
     },
     "metadata": {},
     "output_type": "display_data"
    },
    {
     "data": {
      "text/plain": "  0%|          | 0/800 [00:00<?, ?it/s]",
      "application/vnd.jupyter.widget-view+json": {
       "version_major": 2,
       "version_minor": 0,
       "model_id": "9881581e5a1c4e85a3d6e36abf6bd160"
      }
     },
     "metadata": {},
     "output_type": "display_data"
    },
    {
     "data": {
      "text/plain": "  0%|          | 0/800 [00:00<?, ?it/s]",
      "application/vnd.jupyter.widget-view+json": {
       "version_major": 2,
       "version_minor": 0,
       "model_id": "86838c98b92348f982723282b22e4b92"
      }
     },
     "metadata": {},
     "output_type": "display_data"
    },
    {
     "data": {
      "text/plain": "  0%|          | 0/800 [00:00<?, ?it/s]",
      "application/vnd.jupyter.widget-view+json": {
       "version_major": 2,
       "version_minor": 0,
       "model_id": "b76a234f3ce6463f9c81d77ba7d3a65a"
      }
     },
     "metadata": {},
     "output_type": "display_data"
    },
    {
     "data": {
      "text/plain": "  0%|          | 0/800 [00:00<?, ?it/s]",
      "application/vnd.jupyter.widget-view+json": {
       "version_major": 2,
       "version_minor": 0,
       "model_id": "41bb55c15ea84a3e94f0446803c1eaf9"
      }
     },
     "metadata": {},
     "output_type": "display_data"
    },
    {
     "data": {
      "text/plain": "  0%|          | 0/800 [00:00<?, ?it/s]",
      "application/vnd.jupyter.widget-view+json": {
       "version_major": 2,
       "version_minor": 0,
       "model_id": "22af701eb1d04196b162902af43ca519"
      }
     },
     "metadata": {},
     "output_type": "display_data"
    },
    {
     "data": {
      "text/plain": "  0%|          | 0/800 [00:00<?, ?it/s]",
      "application/vnd.jupyter.widget-view+json": {
       "version_major": 2,
       "version_minor": 0,
       "model_id": "1d11b3908ef74c4a8be27b95cd2fb404"
      }
     },
     "metadata": {},
     "output_type": "display_data"
    },
    {
     "data": {
      "text/plain": "  0%|          | 0/800 [00:00<?, ?it/s]",
      "application/vnd.jupyter.widget-view+json": {
       "version_major": 2,
       "version_minor": 0,
       "model_id": "d4e6739b48e4406f82f3de70ac9f56ff"
      }
     },
     "metadata": {},
     "output_type": "display_data"
    },
    {
     "data": {
      "text/plain": "  0%|          | 0/800 [00:00<?, ?it/s]",
      "application/vnd.jupyter.widget-view+json": {
       "version_major": 2,
       "version_minor": 0,
       "model_id": "655d17f7144b4767bfb5426fa5fea41d"
      }
     },
     "metadata": {},
     "output_type": "display_data"
    },
    {
     "data": {
      "text/plain": "  0%|          | 0/800 [00:00<?, ?it/s]",
      "application/vnd.jupyter.widget-view+json": {
       "version_major": 2,
       "version_minor": 0,
       "model_id": "916d72f29d3b4434b1d8d3508d5f3a09"
      }
     },
     "metadata": {},
     "output_type": "display_data"
    },
    {
     "data": {
      "text/plain": "  0%|          | 0/800 [00:00<?, ?it/s]",
      "application/vnd.jupyter.widget-view+json": {
       "version_major": 2,
       "version_minor": 0,
       "model_id": "cfd90711921a4c6d8830d41537e33de9"
      }
     },
     "metadata": {},
     "output_type": "display_data"
    },
    {
     "data": {
      "text/plain": "  0%|          | 0/800 [00:00<?, ?it/s]",
      "application/vnd.jupyter.widget-view+json": {
       "version_major": 2,
       "version_minor": 0,
       "model_id": "9f167637769b4a0783575ab32938dfed"
      }
     },
     "metadata": {},
     "output_type": "display_data"
    },
    {
     "data": {
      "text/plain": "  0%|          | 0/800 [00:00<?, ?it/s]",
      "application/vnd.jupyter.widget-view+json": {
       "version_major": 2,
       "version_minor": 0,
       "model_id": "2ed1c33a43be4a5186dd9fd713268b51"
      }
     },
     "metadata": {},
     "output_type": "display_data"
    },
    {
     "data": {
      "text/plain": "  0%|          | 0/800 [00:00<?, ?it/s]",
      "application/vnd.jupyter.widget-view+json": {
       "version_major": 2,
       "version_minor": 0,
       "model_id": "674f5d3a1bee4af39ff5427bea92a5d2"
      }
     },
     "metadata": {},
     "output_type": "display_data"
    },
    {
     "data": {
      "text/plain": "  0%|          | 0/800 [00:00<?, ?it/s]",
      "application/vnd.jupyter.widget-view+json": {
       "version_major": 2,
       "version_minor": 0,
       "model_id": "3c0a6692e56d4620a19ebc6f74b88c0d"
      }
     },
     "metadata": {},
     "output_type": "display_data"
    },
    {
     "data": {
      "text/plain": "  0%|          | 0/800 [00:00<?, ?it/s]",
      "application/vnd.jupyter.widget-view+json": {
       "version_major": 2,
       "version_minor": 0,
       "model_id": "06f2f4ec63ff41ec82593ba76b077120"
      }
     },
     "metadata": {},
     "output_type": "display_data"
    },
    {
     "data": {
      "text/plain": "  0%|          | 0/800 [00:00<?, ?it/s]",
      "application/vnd.jupyter.widget-view+json": {
       "version_major": 2,
       "version_minor": 0,
       "model_id": "b6ddc1cdf9954f56ad2d3b3e821fefc9"
      }
     },
     "metadata": {},
     "output_type": "display_data"
    },
    {
     "data": {
      "text/plain": "  0%|          | 0/800 [00:00<?, ?it/s]",
      "application/vnd.jupyter.widget-view+json": {
       "version_major": 2,
       "version_minor": 0,
       "model_id": "268720336008436e883572e40fa2a499"
      }
     },
     "metadata": {},
     "output_type": "display_data"
    },
    {
     "data": {
      "text/plain": "  0%|          | 0/800 [00:00<?, ?it/s]",
      "application/vnd.jupyter.widget-view+json": {
       "version_major": 2,
       "version_minor": 0,
       "model_id": "0689734fc0c641c08c4e856ec2a722c0"
      }
     },
     "metadata": {},
     "output_type": "display_data"
    },
    {
     "data": {
      "text/plain": "  0%|          | 0/800 [00:00<?, ?it/s]",
      "application/vnd.jupyter.widget-view+json": {
       "version_major": 2,
       "version_minor": 0,
       "model_id": "73f68603a2c742f0bcd3b3fca93a962d"
      }
     },
     "metadata": {},
     "output_type": "display_data"
    },
    {
     "data": {
      "text/plain": "  0%|          | 0/800 [00:00<?, ?it/s]",
      "application/vnd.jupyter.widget-view+json": {
       "version_major": 2,
       "version_minor": 0,
       "model_id": "8a614c2cbde84540bf4d2294c6d74f7b"
      }
     },
     "metadata": {},
     "output_type": "display_data"
    },
    {
     "data": {
      "text/plain": "  0%|          | 0/800 [00:00<?, ?it/s]",
      "application/vnd.jupyter.widget-view+json": {
       "version_major": 2,
       "version_minor": 0,
       "model_id": "328b75c22023466cb885ec0970f15b47"
      }
     },
     "metadata": {},
     "output_type": "display_data"
    },
    {
     "data": {
      "text/plain": "  0%|          | 0/800 [00:00<?, ?it/s]",
      "application/vnd.jupyter.widget-view+json": {
       "version_major": 2,
       "version_minor": 0,
       "model_id": "14406c53807943648166b8b5ecdddf01"
      }
     },
     "metadata": {},
     "output_type": "display_data"
    },
    {
     "data": {
      "text/plain": "  0%|          | 0/800 [00:00<?, ?it/s]",
      "application/vnd.jupyter.widget-view+json": {
       "version_major": 2,
       "version_minor": 0,
       "model_id": "5b25336e0a75422aa3a248aed298c0e0"
      }
     },
     "metadata": {},
     "output_type": "display_data"
    },
    {
     "data": {
      "text/plain": "  0%|          | 0/800 [00:00<?, ?it/s]",
      "application/vnd.jupyter.widget-view+json": {
       "version_major": 2,
       "version_minor": 0,
       "model_id": "a9dd418cdddf4edba48ffd11821f2188"
      }
     },
     "metadata": {},
     "output_type": "display_data"
    },
    {
     "data": {
      "text/plain": "  0%|          | 0/800 [00:00<?, ?it/s]",
      "application/vnd.jupyter.widget-view+json": {
       "version_major": 2,
       "version_minor": 0,
       "model_id": "5346dc150f634343b88cc5059e46f882"
      }
     },
     "metadata": {},
     "output_type": "display_data"
    },
    {
     "data": {
      "text/plain": "  0%|          | 0/800 [00:00<?, ?it/s]",
      "application/vnd.jupyter.widget-view+json": {
       "version_major": 2,
       "version_minor": 0,
       "model_id": "7e654955fc9b404e83f069b1cb87c154"
      }
     },
     "metadata": {},
     "output_type": "display_data"
    },
    {
     "data": {
      "text/plain": "  0%|          | 0/800 [00:00<?, ?it/s]",
      "application/vnd.jupyter.widget-view+json": {
       "version_major": 2,
       "version_minor": 0,
       "model_id": "32c2789c47bd45f889407bc38dca7396"
      }
     },
     "metadata": {},
     "output_type": "display_data"
    },
    {
     "data": {
      "text/plain": "  0%|          | 0/800 [00:00<?, ?it/s]",
      "application/vnd.jupyter.widget-view+json": {
       "version_major": 2,
       "version_minor": 0,
       "model_id": "4c13bd6c072544d3a26cb1d1f7e8ebfc"
      }
     },
     "metadata": {},
     "output_type": "display_data"
    },
    {
     "data": {
      "text/plain": "  0%|          | 0/800 [00:00<?, ?it/s]",
      "application/vnd.jupyter.widget-view+json": {
       "version_major": 2,
       "version_minor": 0,
       "model_id": "fc52af95c2d44354ad0ea113897bb705"
      }
     },
     "metadata": {},
     "output_type": "display_data"
    },
    {
     "data": {
      "text/plain": "  0%|          | 0/800 [00:00<?, ?it/s]",
      "application/vnd.jupyter.widget-view+json": {
       "version_major": 2,
       "version_minor": 0,
       "model_id": "94cdd366f0604452ac43052ebac9a723"
      }
     },
     "metadata": {},
     "output_type": "display_data"
    },
    {
     "data": {
      "text/plain": "  0%|          | 0/800 [00:00<?, ?it/s]",
      "application/vnd.jupyter.widget-view+json": {
       "version_major": 2,
       "version_minor": 0,
       "model_id": "882094f6368b4f5ab362ea30b449fae9"
      }
     },
     "metadata": {},
     "output_type": "display_data"
    },
    {
     "data": {
      "text/plain": "  0%|          | 0/800 [00:00<?, ?it/s]",
      "application/vnd.jupyter.widget-view+json": {
       "version_major": 2,
       "version_minor": 0,
       "model_id": "7d028c9563f44e459937325ace65025b"
      }
     },
     "metadata": {},
     "output_type": "display_data"
    },
    {
     "data": {
      "text/plain": "  0%|          | 0/800 [00:00<?, ?it/s]",
      "application/vnd.jupyter.widget-view+json": {
       "version_major": 2,
       "version_minor": 0,
       "model_id": "9723c67b5ecb477e9d3686e4da62fffc"
      }
     },
     "metadata": {},
     "output_type": "display_data"
    },
    {
     "data": {
      "text/plain": "  0%|          | 0/800 [00:00<?, ?it/s]",
      "application/vnd.jupyter.widget-view+json": {
       "version_major": 2,
       "version_minor": 0,
       "model_id": "f1b72ce872e94626a2e2991f6edb48bb"
      }
     },
     "metadata": {},
     "output_type": "display_data"
    },
    {
     "data": {
      "text/plain": "  0%|          | 0/800 [00:00<?, ?it/s]",
      "application/vnd.jupyter.widget-view+json": {
       "version_major": 2,
       "version_minor": 0,
       "model_id": "767f6a9f39654a56b14d0cc658ade7a2"
      }
     },
     "metadata": {},
     "output_type": "display_data"
    },
    {
     "data": {
      "text/plain": "  0%|          | 0/800 [00:00<?, ?it/s]",
      "application/vnd.jupyter.widget-view+json": {
       "version_major": 2,
       "version_minor": 0,
       "model_id": "d9b7d382ae484466a3d5c222852ee177"
      }
     },
     "metadata": {},
     "output_type": "display_data"
    },
    {
     "data": {
      "text/plain": "  0%|          | 0/800 [00:00<?, ?it/s]",
      "application/vnd.jupyter.widget-view+json": {
       "version_major": 2,
       "version_minor": 0,
       "model_id": "973e9c4267d44c9ba5aaf060c7b9301a"
      }
     },
     "metadata": {},
     "output_type": "display_data"
    },
    {
     "data": {
      "text/plain": "  0%|          | 0/800 [00:00<?, ?it/s]",
      "application/vnd.jupyter.widget-view+json": {
       "version_major": 2,
       "version_minor": 0,
       "model_id": "7209cc7463e74ca7a03c6766de0903e2"
      }
     },
     "metadata": {},
     "output_type": "display_data"
    },
    {
     "data": {
      "text/plain": "  0%|          | 0/800 [00:00<?, ?it/s]",
      "application/vnd.jupyter.widget-view+json": {
       "version_major": 2,
       "version_minor": 0,
       "model_id": "4cda9d74fe984a46bdcc12fc52007b92"
      }
     },
     "metadata": {},
     "output_type": "display_data"
    },
    {
     "data": {
      "text/plain": "  0%|          | 0/800 [00:00<?, ?it/s]",
      "application/vnd.jupyter.widget-view+json": {
       "version_major": 2,
       "version_minor": 0,
       "model_id": "02f2b91959484a45b7a2107cd320b8a4"
      }
     },
     "metadata": {},
     "output_type": "display_data"
    },
    {
     "data": {
      "text/plain": "  0%|          | 0/800 [00:00<?, ?it/s]",
      "application/vnd.jupyter.widget-view+json": {
       "version_major": 2,
       "version_minor": 0,
       "model_id": "98244988a23e4695ae754160c9ad2cce"
      }
     },
     "metadata": {},
     "output_type": "display_data"
    },
    {
     "data": {
      "text/plain": "  0%|          | 0/800 [00:00<?, ?it/s]",
      "application/vnd.jupyter.widget-view+json": {
       "version_major": 2,
       "version_minor": 0,
       "model_id": "1bdb2e4463ee46c28d561df17179b7e7"
      }
     },
     "metadata": {},
     "output_type": "display_data"
    },
    {
     "data": {
      "text/plain": "  0%|          | 0/800 [00:00<?, ?it/s]",
      "application/vnd.jupyter.widget-view+json": {
       "version_major": 2,
       "version_minor": 0,
       "model_id": "be1682eb25894669a80ed1f0893b41b9"
      }
     },
     "metadata": {},
     "output_type": "display_data"
    },
    {
     "data": {
      "text/plain": "  0%|          | 0/800 [00:00<?, ?it/s]",
      "application/vnd.jupyter.widget-view+json": {
       "version_major": 2,
       "version_minor": 0,
       "model_id": "29347cd9d41f4c499f888003c74d3f25"
      }
     },
     "metadata": {},
     "output_type": "display_data"
    },
    {
     "data": {
      "text/plain": "  0%|          | 0/800 [00:00<?, ?it/s]",
      "application/vnd.jupyter.widget-view+json": {
       "version_major": 2,
       "version_minor": 0,
       "model_id": "12ede7e88ac34563a02068dd844daeef"
      }
     },
     "metadata": {},
     "output_type": "display_data"
    },
    {
     "data": {
      "text/plain": "  0%|          | 0/800 [00:00<?, ?it/s]",
      "application/vnd.jupyter.widget-view+json": {
       "version_major": 2,
       "version_minor": 0,
       "model_id": "08056bbcffed40c5b562b1d310e6e2a3"
      }
     },
     "metadata": {},
     "output_type": "display_data"
    },
    {
     "data": {
      "text/plain": "  0%|          | 0/800 [00:00<?, ?it/s]",
      "application/vnd.jupyter.widget-view+json": {
       "version_major": 2,
       "version_minor": 0,
       "model_id": "fd09853dc91545ea8e1e93371fa4cafc"
      }
     },
     "metadata": {},
     "output_type": "display_data"
    },
    {
     "data": {
      "text/plain": "  0%|          | 0/800 [00:00<?, ?it/s]",
      "application/vnd.jupyter.widget-view+json": {
       "version_major": 2,
       "version_minor": 0,
       "model_id": "b952f32255664f6b9bd1b1444abe6f61"
      }
     },
     "metadata": {},
     "output_type": "display_data"
    },
    {
     "data": {
      "text/plain": "  0%|          | 0/800 [00:00<?, ?it/s]",
      "application/vnd.jupyter.widget-view+json": {
       "version_major": 2,
       "version_minor": 0,
       "model_id": "39e04dc6af844c0c9b3ca1daca23ec73"
      }
     },
     "metadata": {},
     "output_type": "display_data"
    },
    {
     "data": {
      "text/plain": "  0%|          | 0/800 [00:00<?, ?it/s]",
      "application/vnd.jupyter.widget-view+json": {
       "version_major": 2,
       "version_minor": 0,
       "model_id": "e3e0a94d95a744749c76a11d7c5d2e04"
      }
     },
     "metadata": {},
     "output_type": "display_data"
    },
    {
     "data": {
      "text/plain": "  0%|          | 0/800 [00:00<?, ?it/s]",
      "application/vnd.jupyter.widget-view+json": {
       "version_major": 2,
       "version_minor": 0,
       "model_id": "ab3ee613afc94af7bb31c1de711024aa"
      }
     },
     "metadata": {},
     "output_type": "display_data"
    },
    {
     "data": {
      "text/plain": "  0%|          | 0/800 [00:00<?, ?it/s]",
      "application/vnd.jupyter.widget-view+json": {
       "version_major": 2,
       "version_minor": 0,
       "model_id": "8001f723621943838d85cf2e2efe8081"
      }
     },
     "metadata": {},
     "output_type": "display_data"
    },
    {
     "data": {
      "text/plain": "  0%|          | 0/800 [00:00<?, ?it/s]",
      "application/vnd.jupyter.widget-view+json": {
       "version_major": 2,
       "version_minor": 0,
       "model_id": "f54ef505de9d4f6e904eb809a800ec42"
      }
     },
     "metadata": {},
     "output_type": "display_data"
    },
    {
     "data": {
      "text/plain": "  0%|          | 0/800 [00:00<?, ?it/s]",
      "application/vnd.jupyter.widget-view+json": {
       "version_major": 2,
       "version_minor": 0,
       "model_id": "df4cea5f1fa442fe8567957b017cc33c"
      }
     },
     "metadata": {},
     "output_type": "display_data"
    },
    {
     "data": {
      "text/plain": "  0%|          | 0/800 [00:00<?, ?it/s]",
      "application/vnd.jupyter.widget-view+json": {
       "version_major": 2,
       "version_minor": 0,
       "model_id": "86170a77cc83428fa40cf7be4ab3919f"
      }
     },
     "metadata": {},
     "output_type": "display_data"
    },
    {
     "data": {
      "text/plain": "  0%|          | 0/800 [00:00<?, ?it/s]",
      "application/vnd.jupyter.widget-view+json": {
       "version_major": 2,
       "version_minor": 0,
       "model_id": "89ced3b19d0f4bb5a231f18132a3f0cf"
      }
     },
     "metadata": {},
     "output_type": "display_data"
    },
    {
     "data": {
      "text/plain": "  0%|          | 0/800 [00:00<?, ?it/s]",
      "application/vnd.jupyter.widget-view+json": {
       "version_major": 2,
       "version_minor": 0,
       "model_id": "549fe62ced914eb9b5c665da73f08849"
      }
     },
     "metadata": {},
     "output_type": "display_data"
    },
    {
     "data": {
      "text/plain": "  0%|          | 0/800 [00:00<?, ?it/s]",
      "application/vnd.jupyter.widget-view+json": {
       "version_major": 2,
       "version_minor": 0,
       "model_id": "c13cda6071f641d8ab73a5a57b56b768"
      }
     },
     "metadata": {},
     "output_type": "display_data"
    },
    {
     "data": {
      "text/plain": "  0%|          | 0/800 [00:00<?, ?it/s]",
      "application/vnd.jupyter.widget-view+json": {
       "version_major": 2,
       "version_minor": 0,
       "model_id": "6d9bd310e8624db8bce82cf3b0a8805f"
      }
     },
     "metadata": {},
     "output_type": "display_data"
    },
    {
     "data": {
      "text/plain": "  0%|          | 0/800 [00:00<?, ?it/s]",
      "application/vnd.jupyter.widget-view+json": {
       "version_major": 2,
       "version_minor": 0,
       "model_id": "1ee338f9b9ab4518a4dd2d28e65cb702"
      }
     },
     "metadata": {},
     "output_type": "display_data"
    },
    {
     "data": {
      "text/plain": "  0%|          | 0/800 [00:00<?, ?it/s]",
      "application/vnd.jupyter.widget-view+json": {
       "version_major": 2,
       "version_minor": 0,
       "model_id": "4aecb9af14bd494a90f5bb00d31173d3"
      }
     },
     "metadata": {},
     "output_type": "display_data"
    },
    {
     "data": {
      "text/plain": "  0%|          | 0/800 [00:00<?, ?it/s]",
      "application/vnd.jupyter.widget-view+json": {
       "version_major": 2,
       "version_minor": 0,
       "model_id": "cbaf838cb5ae4e54b7a1c5677af6903a"
      }
     },
     "metadata": {},
     "output_type": "display_data"
    },
    {
     "data": {
      "text/plain": "  0%|          | 0/800 [00:00<?, ?it/s]",
      "application/vnd.jupyter.widget-view+json": {
       "version_major": 2,
       "version_minor": 0,
       "model_id": "64066d3fcd164d55b1e684a270e0f23b"
      }
     },
     "metadata": {},
     "output_type": "display_data"
    },
    {
     "data": {
      "text/plain": "  0%|          | 0/800 [00:00<?, ?it/s]",
      "application/vnd.jupyter.widget-view+json": {
       "version_major": 2,
       "version_minor": 0,
       "model_id": "d54c1fb4bf454c34ad496653d39878bb"
      }
     },
     "metadata": {},
     "output_type": "display_data"
    },
    {
     "data": {
      "text/plain": "  0%|          | 0/800 [00:00<?, ?it/s]",
      "application/vnd.jupyter.widget-view+json": {
       "version_major": 2,
       "version_minor": 0,
       "model_id": "7e6b6627cc5948e4a761ec3fcc295cf3"
      }
     },
     "metadata": {},
     "output_type": "display_data"
    },
    {
     "data": {
      "text/plain": "  0%|          | 0/800 [00:00<?, ?it/s]",
      "application/vnd.jupyter.widget-view+json": {
       "version_major": 2,
       "version_minor": 0,
       "model_id": "e45ddfaf16f14c928c33895dc1059284"
      }
     },
     "metadata": {},
     "output_type": "display_data"
    },
    {
     "data": {
      "text/plain": "  0%|          | 0/800 [00:00<?, ?it/s]",
      "application/vnd.jupyter.widget-view+json": {
       "version_major": 2,
       "version_minor": 0,
       "model_id": "c3f75ac18d6041cfbd83580d4fd2f298"
      }
     },
     "metadata": {},
     "output_type": "display_data"
    },
    {
     "data": {
      "text/plain": "  0%|          | 0/800 [00:00<?, ?it/s]",
      "application/vnd.jupyter.widget-view+json": {
       "version_major": 2,
       "version_minor": 0,
       "model_id": "1db5aa7cd64449169da0da0a4ba2f879"
      }
     },
     "metadata": {},
     "output_type": "display_data"
    },
    {
     "data": {
      "text/plain": "  0%|          | 0/800 [00:00<?, ?it/s]",
      "application/vnd.jupyter.widget-view+json": {
       "version_major": 2,
       "version_minor": 0,
       "model_id": "39e2ebbbcab648589e459e2296a37f65"
      }
     },
     "metadata": {},
     "output_type": "display_data"
    },
    {
     "data": {
      "text/plain": "  0%|          | 0/800 [00:00<?, ?it/s]",
      "application/vnd.jupyter.widget-view+json": {
       "version_major": 2,
       "version_minor": 0,
       "model_id": "a91da41f33874a568acc4c247bc5e459"
      }
     },
     "metadata": {},
     "output_type": "display_data"
    },
    {
     "data": {
      "text/plain": "  0%|          | 0/800 [00:00<?, ?it/s]",
      "application/vnd.jupyter.widget-view+json": {
       "version_major": 2,
       "version_minor": 0,
       "model_id": "307f53b5b40e43f083b60471283069c5"
      }
     },
     "metadata": {},
     "output_type": "display_data"
    },
    {
     "data": {
      "text/plain": "  0%|          | 0/800 [00:00<?, ?it/s]",
      "application/vnd.jupyter.widget-view+json": {
       "version_major": 2,
       "version_minor": 0,
       "model_id": "2c0120dacba4406fb6ce42faaea42a75"
      }
     },
     "metadata": {},
     "output_type": "display_data"
    },
    {
     "data": {
      "text/plain": "  0%|          | 0/800 [00:00<?, ?it/s]",
      "application/vnd.jupyter.widget-view+json": {
       "version_major": 2,
       "version_minor": 0,
       "model_id": "9c26c26e3b294076899db55d85bc482e"
      }
     },
     "metadata": {},
     "output_type": "display_data"
    },
    {
     "data": {
      "text/plain": "  0%|          | 0/800 [00:00<?, ?it/s]",
      "application/vnd.jupyter.widget-view+json": {
       "version_major": 2,
       "version_minor": 0,
       "model_id": "1cc25e4f451042c3832efe1fcae4c74f"
      }
     },
     "metadata": {},
     "output_type": "display_data"
    },
    {
     "data": {
      "text/plain": "  0%|          | 0/800 [00:00<?, ?it/s]",
      "application/vnd.jupyter.widget-view+json": {
       "version_major": 2,
       "version_minor": 0,
       "model_id": "7dd128cae27b4fdfb75ea18e9b4dbd6f"
      }
     },
     "metadata": {},
     "output_type": "display_data"
    },
    {
     "data": {
      "text/plain": "  0%|          | 0/800 [00:00<?, ?it/s]",
      "application/vnd.jupyter.widget-view+json": {
       "version_major": 2,
       "version_minor": 0,
       "model_id": "ff69bdbb63a240b0a129c9b51b36d48b"
      }
     },
     "metadata": {},
     "output_type": "display_data"
    },
    {
     "data": {
      "text/plain": "  0%|          | 0/800 [00:00<?, ?it/s]",
      "application/vnd.jupyter.widget-view+json": {
       "version_major": 2,
       "version_minor": 0,
       "model_id": "fbb861f2292f4db890ec689bea42a978"
      }
     },
     "metadata": {},
     "output_type": "display_data"
    },
    {
     "data": {
      "text/plain": "  0%|          | 0/800 [00:00<?, ?it/s]",
      "application/vnd.jupyter.widget-view+json": {
       "version_major": 2,
       "version_minor": 0,
       "model_id": "39d1068725c54b5cb7d6d624ae2fb62b"
      }
     },
     "metadata": {},
     "output_type": "display_data"
    },
    {
     "data": {
      "text/plain": "  0%|          | 0/800 [00:00<?, ?it/s]",
      "application/vnd.jupyter.widget-view+json": {
       "version_major": 2,
       "version_minor": 0,
       "model_id": "026a16fe46aa4005a7236c897cc6de25"
      }
     },
     "metadata": {},
     "output_type": "display_data"
    },
    {
     "data": {
      "text/plain": "  0%|          | 0/800 [00:00<?, ?it/s]",
      "application/vnd.jupyter.widget-view+json": {
       "version_major": 2,
       "version_minor": 0,
       "model_id": "71f4caf95dd445f8b102545e372cac9f"
      }
     },
     "metadata": {},
     "output_type": "display_data"
    },
    {
     "data": {
      "text/plain": "  0%|          | 0/800 [00:00<?, ?it/s]",
      "application/vnd.jupyter.widget-view+json": {
       "version_major": 2,
       "version_minor": 0,
       "model_id": "e18b2c45a4204491a18411b3d73ec8c7"
      }
     },
     "metadata": {},
     "output_type": "display_data"
    },
    {
     "data": {
      "text/plain": "  0%|          | 0/800 [00:00<?, ?it/s]",
      "application/vnd.jupyter.widget-view+json": {
       "version_major": 2,
       "version_minor": 0,
       "model_id": "b985eb8de6734867b6016319ab3b1a18"
      }
     },
     "metadata": {},
     "output_type": "display_data"
    },
    {
     "data": {
      "text/plain": "  0%|          | 0/800 [00:00<?, ?it/s]",
      "application/vnd.jupyter.widget-view+json": {
       "version_major": 2,
       "version_minor": 0,
       "model_id": "56c0cdadce1b4e0db1f175467c69aadf"
      }
     },
     "metadata": {},
     "output_type": "display_data"
    },
    {
     "data": {
      "text/plain": "  0%|          | 0/800 [00:00<?, ?it/s]",
      "application/vnd.jupyter.widget-view+json": {
       "version_major": 2,
       "version_minor": 0,
       "model_id": "4a861633c9614ba29987680cb1131e61"
      }
     },
     "metadata": {},
     "output_type": "display_data"
    },
    {
     "data": {
      "text/plain": "  0%|          | 0/800 [00:00<?, ?it/s]",
      "application/vnd.jupyter.widget-view+json": {
       "version_major": 2,
       "version_minor": 0,
       "model_id": "0cc5225c68c74a29835dcb928f526eac"
      }
     },
     "metadata": {},
     "output_type": "display_data"
    },
    {
     "data": {
      "text/plain": "  0%|          | 0/800 [00:00<?, ?it/s]",
      "application/vnd.jupyter.widget-view+json": {
       "version_major": 2,
       "version_minor": 0,
       "model_id": "5f6fd3166c164b4bb5e1fba4df8cdf74"
      }
     },
     "metadata": {},
     "output_type": "display_data"
    },
    {
     "data": {
      "text/plain": "  0%|          | 0/800 [00:00<?, ?it/s]",
      "application/vnd.jupyter.widget-view+json": {
       "version_major": 2,
       "version_minor": 0,
       "model_id": "08a5290bad0f4aff8c86f53bb0223d25"
      }
     },
     "metadata": {},
     "output_type": "display_data"
    },
    {
     "data": {
      "text/plain": "  0%|          | 0/800 [00:00<?, ?it/s]",
      "application/vnd.jupyter.widget-view+json": {
       "version_major": 2,
       "version_minor": 0,
       "model_id": "c50f09b8879c49aba53f028eb6685d0d"
      }
     },
     "metadata": {},
     "output_type": "display_data"
    },
    {
     "data": {
      "text/plain": "  0%|          | 0/800 [00:00<?, ?it/s]",
      "application/vnd.jupyter.widget-view+json": {
       "version_major": 2,
       "version_minor": 0,
       "model_id": "2040e9a270ae44a389b9dfc4c0fb0166"
      }
     },
     "metadata": {},
     "output_type": "display_data"
    },
    {
     "data": {
      "text/plain": "  0%|          | 0/800 [00:00<?, ?it/s]",
      "application/vnd.jupyter.widget-view+json": {
       "version_major": 2,
       "version_minor": 0,
       "model_id": "3b36bb2a8d0a463592ae57c8ff08cdd9"
      }
     },
     "metadata": {},
     "output_type": "display_data"
    },
    {
     "data": {
      "text/plain": "  0%|          | 0/800 [00:00<?, ?it/s]",
      "application/vnd.jupyter.widget-view+json": {
       "version_major": 2,
       "version_minor": 0,
       "model_id": "906346f2fcc844f6ae663032f6869c36"
      }
     },
     "metadata": {},
     "output_type": "display_data"
    },
    {
     "data": {
      "text/plain": "  0%|          | 0/800 [00:00<?, ?it/s]",
      "application/vnd.jupyter.widget-view+json": {
       "version_major": 2,
       "version_minor": 0,
       "model_id": "bbbb38c0d76d448c9f5b9c0ecfb23f78"
      }
     },
     "metadata": {},
     "output_type": "display_data"
    },
    {
     "data": {
      "text/plain": "  0%|          | 0/800 [00:00<?, ?it/s]",
      "application/vnd.jupyter.widget-view+json": {
       "version_major": 2,
       "version_minor": 0,
       "model_id": "6c9b095b3bfe4065b879ae51cb8cd448"
      }
     },
     "metadata": {},
     "output_type": "display_data"
    },
    {
     "data": {
      "text/plain": "  0%|          | 0/800 [00:00<?, ?it/s]",
      "application/vnd.jupyter.widget-view+json": {
       "version_major": 2,
       "version_minor": 0,
       "model_id": "bb78dbe0808d4de4afa84081c6ad92ed"
      }
     },
     "metadata": {},
     "output_type": "display_data"
    },
    {
     "data": {
      "text/plain": "  0%|          | 0/800 [00:00<?, ?it/s]",
      "application/vnd.jupyter.widget-view+json": {
       "version_major": 2,
       "version_minor": 0,
       "model_id": "93d3cc16d11a432fa5b0ae5522c566b9"
      }
     },
     "metadata": {},
     "output_type": "display_data"
    },
    {
     "data": {
      "text/plain": "  0%|          | 0/800 [00:00<?, ?it/s]",
      "application/vnd.jupyter.widget-view+json": {
       "version_major": 2,
       "version_minor": 0,
       "model_id": "c702bbfe92f34093aa2a47f5dd2eb88f"
      }
     },
     "metadata": {},
     "output_type": "display_data"
    },
    {
     "data": {
      "text/plain": "  0%|          | 0/800 [00:00<?, ?it/s]",
      "application/vnd.jupyter.widget-view+json": {
       "version_major": 2,
       "version_minor": 0,
       "model_id": "f0b00181cbed4b4482029922369072e5"
      }
     },
     "metadata": {},
     "output_type": "display_data"
    },
    {
     "data": {
      "text/plain": "  0%|          | 0/800 [00:00<?, ?it/s]",
      "application/vnd.jupyter.widget-view+json": {
       "version_major": 2,
       "version_minor": 0,
       "model_id": "f7ee7c0040174d58a27e50ff6edef75e"
      }
     },
     "metadata": {},
     "output_type": "display_data"
    },
    {
     "data": {
      "text/plain": "  0%|          | 0/800 [00:00<?, ?it/s]",
      "application/vnd.jupyter.widget-view+json": {
       "version_major": 2,
       "version_minor": 0,
       "model_id": "18a6328aceaa49d98bdebb5427abbad8"
      }
     },
     "metadata": {},
     "output_type": "display_data"
    },
    {
     "data": {
      "text/plain": "  0%|          | 0/800 [00:00<?, ?it/s]",
      "application/vnd.jupyter.widget-view+json": {
       "version_major": 2,
       "version_minor": 0,
       "model_id": "b3b26a19d8ec4fe18ef02d5d3c821c49"
      }
     },
     "metadata": {},
     "output_type": "display_data"
    },
    {
     "data": {
      "text/plain": "  0%|          | 0/800 [00:00<?, ?it/s]",
      "application/vnd.jupyter.widget-view+json": {
       "version_major": 2,
       "version_minor": 0,
       "model_id": "414ad56a4d1d4631871d801331bfaca4"
      }
     },
     "metadata": {},
     "output_type": "display_data"
    },
    {
     "data": {
      "text/plain": "  0%|          | 0/800 [00:00<?, ?it/s]",
      "application/vnd.jupyter.widget-view+json": {
       "version_major": 2,
       "version_minor": 0,
       "model_id": "c088a9a1f9ea4d5385afd1fbe363448e"
      }
     },
     "metadata": {},
     "output_type": "display_data"
    },
    {
     "data": {
      "text/plain": "  0%|          | 0/800 [00:00<?, ?it/s]",
      "application/vnd.jupyter.widget-view+json": {
       "version_major": 2,
       "version_minor": 0,
       "model_id": "d44d00e4d5fb459987d64f5d4f0ae2d2"
      }
     },
     "metadata": {},
     "output_type": "display_data"
    },
    {
     "data": {
      "text/plain": "  0%|          | 0/800 [00:00<?, ?it/s]",
      "application/vnd.jupyter.widget-view+json": {
       "version_major": 2,
       "version_minor": 0,
       "model_id": "8b0a9b6e739c4329b7ba438190f17378"
      }
     },
     "metadata": {},
     "output_type": "display_data"
    },
    {
     "data": {
      "text/plain": "  0%|          | 0/800 [00:00<?, ?it/s]",
      "application/vnd.jupyter.widget-view+json": {
       "version_major": 2,
       "version_minor": 0,
       "model_id": "dfc27d4c30634d79a6d5704b12a4d6a8"
      }
     },
     "metadata": {},
     "output_type": "display_data"
    },
    {
     "data": {
      "text/plain": "  0%|          | 0/800 [00:00<?, ?it/s]",
      "application/vnd.jupyter.widget-view+json": {
       "version_major": 2,
       "version_minor": 0,
       "model_id": "aa00c94faae2417c9a2361da23a13a10"
      }
     },
     "metadata": {},
     "output_type": "display_data"
    },
    {
     "data": {
      "text/plain": "  0%|          | 0/800 [00:00<?, ?it/s]",
      "application/vnd.jupyter.widget-view+json": {
       "version_major": 2,
       "version_minor": 0,
       "model_id": "67cb70cf13cb4f85a78e7fb2dbf59c0f"
      }
     },
     "metadata": {},
     "output_type": "display_data"
    },
    {
     "data": {
      "text/plain": "  0%|          | 0/800 [00:00<?, ?it/s]",
      "application/vnd.jupyter.widget-view+json": {
       "version_major": 2,
       "version_minor": 0,
       "model_id": "457769c103b44b829b72dcd0a03005fd"
      }
     },
     "metadata": {},
     "output_type": "display_data"
    },
    {
     "data": {
      "text/plain": "  0%|          | 0/800 [00:00<?, ?it/s]",
      "application/vnd.jupyter.widget-view+json": {
       "version_major": 2,
       "version_minor": 0,
       "model_id": "425f857e43f34b03b964c30dd9e736f5"
      }
     },
     "metadata": {},
     "output_type": "display_data"
    },
    {
     "data": {
      "text/plain": "  0%|          | 0/800 [00:00<?, ?it/s]",
      "application/vnd.jupyter.widget-view+json": {
       "version_major": 2,
       "version_minor": 0,
       "model_id": "fe7457e959394b1ea22cc89571fa54d8"
      }
     },
     "metadata": {},
     "output_type": "display_data"
    },
    {
     "data": {
      "text/plain": "  0%|          | 0/800 [00:00<?, ?it/s]",
      "application/vnd.jupyter.widget-view+json": {
       "version_major": 2,
       "version_minor": 0,
       "model_id": "91ed6364df1a43719c3ea9dd606f0975"
      }
     },
     "metadata": {},
     "output_type": "display_data"
    },
    {
     "data": {
      "text/plain": "  0%|          | 0/800 [00:00<?, ?it/s]",
      "application/vnd.jupyter.widget-view+json": {
       "version_major": 2,
       "version_minor": 0,
       "model_id": "46ab4fb2916b426fbd3d602a2479a024"
      }
     },
     "metadata": {},
     "output_type": "display_data"
    },
    {
     "data": {
      "text/plain": "  0%|          | 0/800 [00:00<?, ?it/s]",
      "application/vnd.jupyter.widget-view+json": {
       "version_major": 2,
       "version_minor": 0,
       "model_id": "d6214df3447e4fc9a52fc17e8af6dde9"
      }
     },
     "metadata": {},
     "output_type": "display_data"
    },
    {
     "data": {
      "text/plain": "  0%|          | 0/800 [00:00<?, ?it/s]",
      "application/vnd.jupyter.widget-view+json": {
       "version_major": 2,
       "version_minor": 0,
       "model_id": "3ed368b5b5f14011ab6f500e9937cad3"
      }
     },
     "metadata": {},
     "output_type": "display_data"
    },
    {
     "data": {
      "text/plain": "  0%|          | 0/800 [00:00<?, ?it/s]",
      "application/vnd.jupyter.widget-view+json": {
       "version_major": 2,
       "version_minor": 0,
       "model_id": "fabbfd8f417845a5a5cb03bf8d63256a"
      }
     },
     "metadata": {},
     "output_type": "display_data"
    },
    {
     "data": {
      "text/plain": "  0%|          | 0/800 [00:00<?, ?it/s]",
      "application/vnd.jupyter.widget-view+json": {
       "version_major": 2,
       "version_minor": 0,
       "model_id": "061c733eab6d4008bbd179fe02a4fb12"
      }
     },
     "metadata": {},
     "output_type": "display_data"
    },
    {
     "data": {
      "text/plain": "  0%|          | 0/800 [00:00<?, ?it/s]",
      "application/vnd.jupyter.widget-view+json": {
       "version_major": 2,
       "version_minor": 0,
       "model_id": "9fe8712b6a23465699a1520ec1fea429"
      }
     },
     "metadata": {},
     "output_type": "display_data"
    },
    {
     "data": {
      "text/plain": "  0%|          | 0/800 [00:00<?, ?it/s]",
      "application/vnd.jupyter.widget-view+json": {
       "version_major": 2,
       "version_minor": 0,
       "model_id": "b236c67382f1459187bce1757b648802"
      }
     },
     "metadata": {},
     "output_type": "display_data"
    },
    {
     "data": {
      "text/plain": "  0%|          | 0/800 [00:00<?, ?it/s]",
      "application/vnd.jupyter.widget-view+json": {
       "version_major": 2,
       "version_minor": 0,
       "model_id": "35b174a057cc47b4ba96edb16eb58e62"
      }
     },
     "metadata": {},
     "output_type": "display_data"
    },
    {
     "data": {
      "text/plain": "  0%|          | 0/800 [00:00<?, ?it/s]",
      "application/vnd.jupyter.widget-view+json": {
       "version_major": 2,
       "version_minor": 0,
       "model_id": "9dd2de30fa714473b6e592edb7566152"
      }
     },
     "metadata": {},
     "output_type": "display_data"
    },
    {
     "data": {
      "text/plain": "  0%|          | 0/800 [00:00<?, ?it/s]",
      "application/vnd.jupyter.widget-view+json": {
       "version_major": 2,
       "version_minor": 0,
       "model_id": "5c9969b16b5b4a2180383c35775b0da1"
      }
     },
     "metadata": {},
     "output_type": "display_data"
    },
    {
     "data": {
      "text/plain": "  0%|          | 0/800 [00:00<?, ?it/s]",
      "application/vnd.jupyter.widget-view+json": {
       "version_major": 2,
       "version_minor": 0,
       "model_id": "d41a4bbe41634954b10726a3c08a9862"
      }
     },
     "metadata": {},
     "output_type": "display_data"
    },
    {
     "data": {
      "text/plain": "  0%|          | 0/800 [00:00<?, ?it/s]",
      "application/vnd.jupyter.widget-view+json": {
       "version_major": 2,
       "version_minor": 0,
       "model_id": "ee9066c8ed104a209d8c45a584b795b7"
      }
     },
     "metadata": {},
     "output_type": "display_data"
    },
    {
     "data": {
      "text/plain": "  0%|          | 0/800 [00:00<?, ?it/s]",
      "application/vnd.jupyter.widget-view+json": {
       "version_major": 2,
       "version_minor": 0,
       "model_id": "3ff435126d8d4f5483cd8f320d4286dd"
      }
     },
     "metadata": {},
     "output_type": "display_data"
    },
    {
     "data": {
      "text/plain": "  0%|          | 0/800 [00:00<?, ?it/s]",
      "application/vnd.jupyter.widget-view+json": {
       "version_major": 2,
       "version_minor": 0,
       "model_id": "cc3a5c243c364eeb9313b7986ff16c2a"
      }
     },
     "metadata": {},
     "output_type": "display_data"
    },
    {
     "data": {
      "text/plain": "  0%|          | 0/800 [00:00<?, ?it/s]",
      "application/vnd.jupyter.widget-view+json": {
       "version_major": 2,
       "version_minor": 0,
       "model_id": "2038b9b2712a4f6f900ab514aa062d52"
      }
     },
     "metadata": {},
     "output_type": "display_data"
    },
    {
     "data": {
      "text/plain": "  0%|          | 0/800 [00:00<?, ?it/s]",
      "application/vnd.jupyter.widget-view+json": {
       "version_major": 2,
       "version_minor": 0,
       "model_id": "f3b8b5e747674094b2a12ac7e95c9b03"
      }
     },
     "metadata": {},
     "output_type": "display_data"
    },
    {
     "data": {
      "text/plain": "  0%|          | 0/800 [00:00<?, ?it/s]",
      "application/vnd.jupyter.widget-view+json": {
       "version_major": 2,
       "version_minor": 0,
       "model_id": "7d99b8db5b00444ea91e7adaef89c4dc"
      }
     },
     "metadata": {},
     "output_type": "display_data"
    },
    {
     "data": {
      "text/plain": "  0%|          | 0/800 [00:00<?, ?it/s]",
      "application/vnd.jupyter.widget-view+json": {
       "version_major": 2,
       "version_minor": 0,
       "model_id": "300f675d6eb3416aa0eaa1b3af97a16e"
      }
     },
     "metadata": {},
     "output_type": "display_data"
    },
    {
     "data": {
      "text/plain": "  0%|          | 0/800 [00:00<?, ?it/s]",
      "application/vnd.jupyter.widget-view+json": {
       "version_major": 2,
       "version_minor": 0,
       "model_id": "fcfc5734dc234d94b7b27def074ce5de"
      }
     },
     "metadata": {},
     "output_type": "display_data"
    },
    {
     "data": {
      "text/plain": "  0%|          | 0/800 [00:00<?, ?it/s]",
      "application/vnd.jupyter.widget-view+json": {
       "version_major": 2,
       "version_minor": 0,
       "model_id": "8e7fb76c0cc54434b37bb0e206eaa9db"
      }
     },
     "metadata": {},
     "output_type": "display_data"
    },
    {
     "data": {
      "text/plain": "  0%|          | 0/800 [00:00<?, ?it/s]",
      "application/vnd.jupyter.widget-view+json": {
       "version_major": 2,
       "version_minor": 0,
       "model_id": "c26823055d25433ebc5b20087f985122"
      }
     },
     "metadata": {},
     "output_type": "display_data"
    },
    {
     "data": {
      "text/plain": "  0%|          | 0/800 [00:00<?, ?it/s]",
      "application/vnd.jupyter.widget-view+json": {
       "version_major": 2,
       "version_minor": 0,
       "model_id": "e5328ad2f14b4c2ba3078c7fe3ac252b"
      }
     },
     "metadata": {},
     "output_type": "display_data"
    },
    {
     "data": {
      "text/plain": "  0%|          | 0/800 [00:00<?, ?it/s]",
      "application/vnd.jupyter.widget-view+json": {
       "version_major": 2,
       "version_minor": 0,
       "model_id": "910cfc885aeb4b78a9717b56d4af1e0e"
      }
     },
     "metadata": {},
     "output_type": "display_data"
    },
    {
     "data": {
      "text/plain": "  0%|          | 0/800 [00:00<?, ?it/s]",
      "application/vnd.jupyter.widget-view+json": {
       "version_major": 2,
       "version_minor": 0,
       "model_id": "60537fcab6404a6692e2dfecc8f13359"
      }
     },
     "metadata": {},
     "output_type": "display_data"
    },
    {
     "data": {
      "text/plain": "  0%|          | 0/800 [00:00<?, ?it/s]",
      "application/vnd.jupyter.widget-view+json": {
       "version_major": 2,
       "version_minor": 0,
       "model_id": "acbe54566a304399845a02cc93519147"
      }
     },
     "metadata": {},
     "output_type": "display_data"
    },
    {
     "data": {
      "text/plain": "  0%|          | 0/800 [00:00<?, ?it/s]",
      "application/vnd.jupyter.widget-view+json": {
       "version_major": 2,
       "version_minor": 0,
       "model_id": "875f971bbfec40519d47276624c95f3d"
      }
     },
     "metadata": {},
     "output_type": "display_data"
    },
    {
     "data": {
      "text/plain": "  0%|          | 0/800 [00:00<?, ?it/s]",
      "application/vnd.jupyter.widget-view+json": {
       "version_major": 2,
       "version_minor": 0,
       "model_id": "e6380457fe5c42e4acf0ecb4c49e9147"
      }
     },
     "metadata": {},
     "output_type": "display_data"
    },
    {
     "data": {
      "text/plain": "  0%|          | 0/800 [00:00<?, ?it/s]",
      "application/vnd.jupyter.widget-view+json": {
       "version_major": 2,
       "version_minor": 0,
       "model_id": "80e9ab749e1e4287bf69a6d9d15379dd"
      }
     },
     "metadata": {},
     "output_type": "display_data"
    },
    {
     "data": {
      "text/plain": "  0%|          | 0/800 [00:00<?, ?it/s]",
      "application/vnd.jupyter.widget-view+json": {
       "version_major": 2,
       "version_minor": 0,
       "model_id": "4abb9bf225b3456bb3dd208fc1b71d82"
      }
     },
     "metadata": {},
     "output_type": "display_data"
    },
    {
     "data": {
      "text/plain": "  0%|          | 0/800 [00:00<?, ?it/s]",
      "application/vnd.jupyter.widget-view+json": {
       "version_major": 2,
       "version_minor": 0,
       "model_id": "277a80ac6ad9425ebb46f402cf5baa52"
      }
     },
     "metadata": {},
     "output_type": "display_data"
    },
    {
     "data": {
      "text/plain": "  0%|          | 0/800 [00:00<?, ?it/s]",
      "application/vnd.jupyter.widget-view+json": {
       "version_major": 2,
       "version_minor": 0,
       "model_id": "3fa556aee4b246848955a7107d325ec5"
      }
     },
     "metadata": {},
     "output_type": "display_data"
    },
    {
     "data": {
      "text/plain": "  0%|          | 0/800 [00:00<?, ?it/s]",
      "application/vnd.jupyter.widget-view+json": {
       "version_major": 2,
       "version_minor": 0,
       "model_id": "ad0d73f0989d405091acd6dfed4de12d"
      }
     },
     "metadata": {},
     "output_type": "display_data"
    },
    {
     "data": {
      "text/plain": "  0%|          | 0/800 [00:00<?, ?it/s]",
      "application/vnd.jupyter.widget-view+json": {
       "version_major": 2,
       "version_minor": 0,
       "model_id": "cd958ba994cf455ea9e92ab7b2c32c4f"
      }
     },
     "metadata": {},
     "output_type": "display_data"
    },
    {
     "data": {
      "text/plain": "  0%|          | 0/800 [00:00<?, ?it/s]",
      "application/vnd.jupyter.widget-view+json": {
       "version_major": 2,
       "version_minor": 0,
       "model_id": "b090f100fd364c8f886061ee0f3ba5c1"
      }
     },
     "metadata": {},
     "output_type": "display_data"
    },
    {
     "data": {
      "text/plain": "  0%|          | 0/800 [00:00<?, ?it/s]",
      "application/vnd.jupyter.widget-view+json": {
       "version_major": 2,
       "version_minor": 0,
       "model_id": "76c5987da2dd44199c923cc2a40d0061"
      }
     },
     "metadata": {},
     "output_type": "display_data"
    },
    {
     "data": {
      "text/plain": "  0%|          | 0/800 [00:00<?, ?it/s]",
      "application/vnd.jupyter.widget-view+json": {
       "version_major": 2,
       "version_minor": 0,
       "model_id": "5568d45d37b542dd9bd4f6b337f3b5a0"
      }
     },
     "metadata": {},
     "output_type": "display_data"
    },
    {
     "data": {
      "text/plain": "  0%|          | 0/800 [00:00<?, ?it/s]",
      "application/vnd.jupyter.widget-view+json": {
       "version_major": 2,
       "version_minor": 0,
       "model_id": "b484073e485b48c38a73f6322303663f"
      }
     },
     "metadata": {},
     "output_type": "display_data"
    },
    {
     "data": {
      "text/plain": "  0%|          | 0/800 [00:00<?, ?it/s]",
      "application/vnd.jupyter.widget-view+json": {
       "version_major": 2,
       "version_minor": 0,
       "model_id": "0291d3d6c9b74fd29fe0ec5ec2a7d60f"
      }
     },
     "metadata": {},
     "output_type": "display_data"
    },
    {
     "data": {
      "text/plain": "  0%|          | 0/800 [00:00<?, ?it/s]",
      "application/vnd.jupyter.widget-view+json": {
       "version_major": 2,
       "version_minor": 0,
       "model_id": "f0b1b0cb6c1349edb711cc4b70bfa094"
      }
     },
     "metadata": {},
     "output_type": "display_data"
    },
    {
     "data": {
      "text/plain": "  0%|          | 0/800 [00:00<?, ?it/s]",
      "application/vnd.jupyter.widget-view+json": {
       "version_major": 2,
       "version_minor": 0,
       "model_id": "8bafb8bbab324116a824169413cf2599"
      }
     },
     "metadata": {},
     "output_type": "display_data"
    },
    {
     "data": {
      "text/plain": "  0%|          | 0/800 [00:00<?, ?it/s]",
      "application/vnd.jupyter.widget-view+json": {
       "version_major": 2,
       "version_minor": 0,
       "model_id": "a9c0c97a7d864cbe96e16dfd8baefe1d"
      }
     },
     "metadata": {},
     "output_type": "display_data"
    },
    {
     "data": {
      "text/plain": "  0%|          | 0/800 [00:00<?, ?it/s]",
      "application/vnd.jupyter.widget-view+json": {
       "version_major": 2,
       "version_minor": 0,
       "model_id": "2f701b16e4e64badb4de6077d756f0ab"
      }
     },
     "metadata": {},
     "output_type": "display_data"
    },
    {
     "data": {
      "text/plain": "  0%|          | 0/800 [00:00<?, ?it/s]",
      "application/vnd.jupyter.widget-view+json": {
       "version_major": 2,
       "version_minor": 0,
       "model_id": "17fccc31199245139c22fdd871901142"
      }
     },
     "metadata": {},
     "output_type": "display_data"
    },
    {
     "data": {
      "text/plain": "  0%|          | 0/800 [00:00<?, ?it/s]",
      "application/vnd.jupyter.widget-view+json": {
       "version_major": 2,
       "version_minor": 0,
       "model_id": "0c3c41c5dd394cbea9861611825f5c72"
      }
     },
     "metadata": {},
     "output_type": "display_data"
    },
    {
     "data": {
      "text/plain": "  0%|          | 0/800 [00:00<?, ?it/s]",
      "application/vnd.jupyter.widget-view+json": {
       "version_major": 2,
       "version_minor": 0,
       "model_id": "f6828f3c342f4be792a7959d1647264e"
      }
     },
     "metadata": {},
     "output_type": "display_data"
    },
    {
     "data": {
      "text/plain": "  0%|          | 0/800 [00:00<?, ?it/s]",
      "application/vnd.jupyter.widget-view+json": {
       "version_major": 2,
       "version_minor": 0,
       "model_id": "23e5f80f7fc6439391f35bb39f06c669"
      }
     },
     "metadata": {},
     "output_type": "display_data"
    },
    {
     "data": {
      "text/plain": "  0%|          | 0/800 [00:00<?, ?it/s]",
      "application/vnd.jupyter.widget-view+json": {
       "version_major": 2,
       "version_minor": 0,
       "model_id": "97215a747cb84ba5a7fa771396c4af18"
      }
     },
     "metadata": {},
     "output_type": "display_data"
    },
    {
     "data": {
      "text/plain": "  0%|          | 0/800 [00:00<?, ?it/s]",
      "application/vnd.jupyter.widget-view+json": {
       "version_major": 2,
       "version_minor": 0,
       "model_id": "14ab3e7832dc4946b81a3665222a1778"
      }
     },
     "metadata": {},
     "output_type": "display_data"
    },
    {
     "data": {
      "text/plain": "  0%|          | 0/800 [00:00<?, ?it/s]",
      "application/vnd.jupyter.widget-view+json": {
       "version_major": 2,
       "version_minor": 0,
       "model_id": "6e9af7fbecdc4395b313b57af5513cdc"
      }
     },
     "metadata": {},
     "output_type": "display_data"
    },
    {
     "data": {
      "text/plain": "  0%|          | 0/800 [00:00<?, ?it/s]",
      "application/vnd.jupyter.widget-view+json": {
       "version_major": 2,
       "version_minor": 0,
       "model_id": "bfd754d96b3e470e81a0d86465c49b5a"
      }
     },
     "metadata": {},
     "output_type": "display_data"
    },
    {
     "data": {
      "text/plain": "  0%|          | 0/800 [00:00<?, ?it/s]",
      "application/vnd.jupyter.widget-view+json": {
       "version_major": 2,
       "version_minor": 0,
       "model_id": "45bb1631c8cc4238a0207aa2ac6cea0a"
      }
     },
     "metadata": {},
     "output_type": "display_data"
    },
    {
     "data": {
      "text/plain": "  0%|          | 0/800 [00:00<?, ?it/s]",
      "application/vnd.jupyter.widget-view+json": {
       "version_major": 2,
       "version_minor": 0,
       "model_id": "42d81adc14024c168375a6dc8aed0f87"
      }
     },
     "metadata": {},
     "output_type": "display_data"
    },
    {
     "data": {
      "text/plain": "  0%|          | 0/800 [00:00<?, ?it/s]",
      "application/vnd.jupyter.widget-view+json": {
       "version_major": 2,
       "version_minor": 0,
       "model_id": "14b763c8d54c4c07b155bbcfc1007f26"
      }
     },
     "metadata": {},
     "output_type": "display_data"
    },
    {
     "data": {
      "text/plain": "  0%|          | 0/800 [00:00<?, ?it/s]",
      "application/vnd.jupyter.widget-view+json": {
       "version_major": 2,
       "version_minor": 0,
       "model_id": "0e357808dbff403c9a8ec947b3c15b27"
      }
     },
     "metadata": {},
     "output_type": "display_data"
    },
    {
     "data": {
      "text/plain": "  0%|          | 0/800 [00:00<?, ?it/s]",
      "application/vnd.jupyter.widget-view+json": {
       "version_major": 2,
       "version_minor": 0,
       "model_id": "58fd7d2a11e14fc5b42eaec93d7f1b2d"
      }
     },
     "metadata": {},
     "output_type": "display_data"
    },
    {
     "data": {
      "text/plain": "  0%|          | 0/800 [00:00<?, ?it/s]",
      "application/vnd.jupyter.widget-view+json": {
       "version_major": 2,
       "version_minor": 0,
       "model_id": "246d790aedcf477aa6b51807a145124d"
      }
     },
     "metadata": {},
     "output_type": "display_data"
    },
    {
     "data": {
      "text/plain": "  0%|          | 0/800 [00:00<?, ?it/s]",
      "application/vnd.jupyter.widget-view+json": {
       "version_major": 2,
       "version_minor": 0,
       "model_id": "2b7bea1b810849a4b3fc947b7f4981d9"
      }
     },
     "metadata": {},
     "output_type": "display_data"
    },
    {
     "data": {
      "text/plain": "  0%|          | 0/800 [00:00<?, ?it/s]",
      "application/vnd.jupyter.widget-view+json": {
       "version_major": 2,
       "version_minor": 0,
       "model_id": "aea21045d8644d4bbd048a0ec78a11f7"
      }
     },
     "metadata": {},
     "output_type": "display_data"
    },
    {
     "data": {
      "text/plain": "  0%|          | 0/800 [00:00<?, ?it/s]",
      "application/vnd.jupyter.widget-view+json": {
       "version_major": 2,
       "version_minor": 0,
       "model_id": "1fdcab2a4016461ab739d1c955449b61"
      }
     },
     "metadata": {},
     "output_type": "display_data"
    },
    {
     "data": {
      "text/plain": "  0%|          | 0/800 [00:00<?, ?it/s]",
      "application/vnd.jupyter.widget-view+json": {
       "version_major": 2,
       "version_minor": 0,
       "model_id": "6f302d607f42451ab644ab257256ad85"
      }
     },
     "metadata": {},
     "output_type": "display_data"
    },
    {
     "data": {
      "text/plain": "  0%|          | 0/800 [00:00<?, ?it/s]",
      "application/vnd.jupyter.widget-view+json": {
       "version_major": 2,
       "version_minor": 0,
       "model_id": "64adc6f1339f4cbfb3627a184c57f83b"
      }
     },
     "metadata": {},
     "output_type": "display_data"
    },
    {
     "data": {
      "text/plain": "  0%|          | 0/800 [00:00<?, ?it/s]",
      "application/vnd.jupyter.widget-view+json": {
       "version_major": 2,
       "version_minor": 0,
       "model_id": "9433b6cfc10841df8f5c9a8f8e044051"
      }
     },
     "metadata": {},
     "output_type": "display_data"
    },
    {
     "data": {
      "text/plain": "  0%|          | 0/800 [00:00<?, ?it/s]",
      "application/vnd.jupyter.widget-view+json": {
       "version_major": 2,
       "version_minor": 0,
       "model_id": "d724043afec84cac9ceff5ede0674756"
      }
     },
     "metadata": {},
     "output_type": "display_data"
    },
    {
     "data": {
      "text/plain": "  0%|          | 0/800 [00:00<?, ?it/s]",
      "application/vnd.jupyter.widget-view+json": {
       "version_major": 2,
       "version_minor": 0,
       "model_id": "f5ee189001464a39ac92d05d500e2798"
      }
     },
     "metadata": {},
     "output_type": "display_data"
    },
    {
     "data": {
      "text/plain": "  0%|          | 0/800 [00:00<?, ?it/s]",
      "application/vnd.jupyter.widget-view+json": {
       "version_major": 2,
       "version_minor": 0,
       "model_id": "f032274eb78f4a2595144d63b370c5b3"
      }
     },
     "metadata": {},
     "output_type": "display_data"
    },
    {
     "data": {
      "text/plain": "  0%|          | 0/800 [00:00<?, ?it/s]",
      "application/vnd.jupyter.widget-view+json": {
       "version_major": 2,
       "version_minor": 0,
       "model_id": "16284c6debcc4c83b7ff14230f0bb53a"
      }
     },
     "metadata": {},
     "output_type": "display_data"
    },
    {
     "data": {
      "text/plain": "  0%|          | 0/800 [00:00<?, ?it/s]",
      "application/vnd.jupyter.widget-view+json": {
       "version_major": 2,
       "version_minor": 0,
       "model_id": "ab40f3a4916244d693e299e29312f363"
      }
     },
     "metadata": {},
     "output_type": "display_data"
    },
    {
     "data": {
      "text/plain": "  0%|          | 0/800 [00:00<?, ?it/s]",
      "application/vnd.jupyter.widget-view+json": {
       "version_major": 2,
       "version_minor": 0,
       "model_id": "4cc8ea99424546c9b1478ff2850273aa"
      }
     },
     "metadata": {},
     "output_type": "display_data"
    },
    {
     "data": {
      "text/plain": "  0%|          | 0/800 [00:00<?, ?it/s]",
      "application/vnd.jupyter.widget-view+json": {
       "version_major": 2,
       "version_minor": 0,
       "model_id": "6337ea026a7441288774befa5c74fe4a"
      }
     },
     "metadata": {},
     "output_type": "display_data"
    },
    {
     "data": {
      "text/plain": "  0%|          | 0/800 [00:00<?, ?it/s]",
      "application/vnd.jupyter.widget-view+json": {
       "version_major": 2,
       "version_minor": 0,
       "model_id": "3e0530a3f5514291b9b18b08d73bc73a"
      }
     },
     "metadata": {},
     "output_type": "display_data"
    },
    {
     "data": {
      "text/plain": "  0%|          | 0/800 [00:00<?, ?it/s]",
      "application/vnd.jupyter.widget-view+json": {
       "version_major": 2,
       "version_minor": 0,
       "model_id": "a0bb587a3fd5483c8af6c5b1cf27cbf9"
      }
     },
     "metadata": {},
     "output_type": "display_data"
    },
    {
     "data": {
      "text/plain": "  0%|          | 0/800 [00:00<?, ?it/s]",
      "application/vnd.jupyter.widget-view+json": {
       "version_major": 2,
       "version_minor": 0,
       "model_id": "a910f450d1d241758d825ff813d1c749"
      }
     },
     "metadata": {},
     "output_type": "display_data"
    },
    {
     "data": {
      "text/plain": "  0%|          | 0/800 [00:00<?, ?it/s]",
      "application/vnd.jupyter.widget-view+json": {
       "version_major": 2,
       "version_minor": 0,
       "model_id": "ec3cd1bbc11b47acab7943bfe3a8d9fd"
      }
     },
     "metadata": {},
     "output_type": "display_data"
    },
    {
     "data": {
      "text/plain": "  0%|          | 0/800 [00:00<?, ?it/s]",
      "application/vnd.jupyter.widget-view+json": {
       "version_major": 2,
       "version_minor": 0,
       "model_id": "81f358458e754c29a3eed6586b7d1340"
      }
     },
     "metadata": {},
     "output_type": "display_data"
    },
    {
     "data": {
      "text/plain": "  0%|          | 0/800 [00:00<?, ?it/s]",
      "application/vnd.jupyter.widget-view+json": {
       "version_major": 2,
       "version_minor": 0,
       "model_id": "d45d136fd4f2458d9bff5525bdf881a2"
      }
     },
     "metadata": {},
     "output_type": "display_data"
    },
    {
     "data": {
      "text/plain": "  0%|          | 0/800 [00:00<?, ?it/s]",
      "application/vnd.jupyter.widget-view+json": {
       "version_major": 2,
       "version_minor": 0,
       "model_id": "f6d97fec0b8a483fb8fb1aa92655bdd0"
      }
     },
     "metadata": {},
     "output_type": "display_data"
    },
    {
     "data": {
      "text/plain": "  0%|          | 0/800 [00:00<?, ?it/s]",
      "application/vnd.jupyter.widget-view+json": {
       "version_major": 2,
       "version_minor": 0,
       "model_id": "a5d87ad9d00947379774fa1c91463880"
      }
     },
     "metadata": {},
     "output_type": "display_data"
    },
    {
     "data": {
      "text/plain": "  0%|          | 0/800 [00:00<?, ?it/s]",
      "application/vnd.jupyter.widget-view+json": {
       "version_major": 2,
       "version_minor": 0,
       "model_id": "ee2803a4e2d1443da0e45f955ee7c31c"
      }
     },
     "metadata": {},
     "output_type": "display_data"
    },
    {
     "data": {
      "text/plain": "  0%|          | 0/800 [00:00<?, ?it/s]",
      "application/vnd.jupyter.widget-view+json": {
       "version_major": 2,
       "version_minor": 0,
       "model_id": "2fa341349ecf454b9c1494b1bad98175"
      }
     },
     "metadata": {},
     "output_type": "display_data"
    },
    {
     "data": {
      "text/plain": "  0%|          | 0/800 [00:00<?, ?it/s]",
      "application/vnd.jupyter.widget-view+json": {
       "version_major": 2,
       "version_minor": 0,
       "model_id": "e39e444fee364b70801d7ec07cf04c9f"
      }
     },
     "metadata": {},
     "output_type": "display_data"
    },
    {
     "data": {
      "text/plain": "  0%|          | 0/800 [00:00<?, ?it/s]",
      "application/vnd.jupyter.widget-view+json": {
       "version_major": 2,
       "version_minor": 0,
       "model_id": "06d86351601d4eb7b411691a778a3b7f"
      }
     },
     "metadata": {},
     "output_type": "display_data"
    },
    {
     "data": {
      "text/plain": "  0%|          | 0/800 [00:00<?, ?it/s]",
      "application/vnd.jupyter.widget-view+json": {
       "version_major": 2,
       "version_minor": 0,
       "model_id": "a0aea48d55bb475eb9054bcb2e47bd5c"
      }
     },
     "metadata": {},
     "output_type": "display_data"
    },
    {
     "data": {
      "text/plain": "  0%|          | 0/800 [00:00<?, ?it/s]",
      "application/vnd.jupyter.widget-view+json": {
       "version_major": 2,
       "version_minor": 0,
       "model_id": "565cdce44f79491791519aea7ef9dfaa"
      }
     },
     "metadata": {},
     "output_type": "display_data"
    },
    {
     "data": {
      "text/plain": "  0%|          | 0/800 [00:00<?, ?it/s]",
      "application/vnd.jupyter.widget-view+json": {
       "version_major": 2,
       "version_minor": 0,
       "model_id": "ca6a95f3dc524b378cc6ec14469ba3ac"
      }
     },
     "metadata": {},
     "output_type": "display_data"
    },
    {
     "data": {
      "text/plain": "  0%|          | 0/800 [00:00<?, ?it/s]",
      "application/vnd.jupyter.widget-view+json": {
       "version_major": 2,
       "version_minor": 0,
       "model_id": "b05f0b2b2abf4ddb910fb901ce08db01"
      }
     },
     "metadata": {},
     "output_type": "display_data"
    },
    {
     "data": {
      "text/plain": "  0%|          | 0/800 [00:00<?, ?it/s]",
      "application/vnd.jupyter.widget-view+json": {
       "version_major": 2,
       "version_minor": 0,
       "model_id": "85d20f6d474d47aca60ba63708792168"
      }
     },
     "metadata": {},
     "output_type": "display_data"
    },
    {
     "data": {
      "text/plain": "  0%|          | 0/800 [00:00<?, ?it/s]",
      "application/vnd.jupyter.widget-view+json": {
       "version_major": 2,
       "version_minor": 0,
       "model_id": "f4cb59b230d94c8a929f85d0746deb77"
      }
     },
     "metadata": {},
     "output_type": "display_data"
    },
    {
     "data": {
      "text/plain": "  0%|          | 0/800 [00:00<?, ?it/s]",
      "application/vnd.jupyter.widget-view+json": {
       "version_major": 2,
       "version_minor": 0,
       "model_id": "b8ef0c3d610d4922a46240f0a3a5323b"
      }
     },
     "metadata": {},
     "output_type": "display_data"
    },
    {
     "data": {
      "text/plain": "  0%|          | 0/800 [00:00<?, ?it/s]",
      "application/vnd.jupyter.widget-view+json": {
       "version_major": 2,
       "version_minor": 0,
       "model_id": "6288afd7b2884f59a46f86e1d9925d6e"
      }
     },
     "metadata": {},
     "output_type": "display_data"
    },
    {
     "data": {
      "text/plain": "  0%|          | 0/800 [00:00<?, ?it/s]",
      "application/vnd.jupyter.widget-view+json": {
       "version_major": 2,
       "version_minor": 0,
       "model_id": "4ad3002393304ae4b9397ede1e7156cd"
      }
     },
     "metadata": {},
     "output_type": "display_data"
    },
    {
     "data": {
      "text/plain": "  0%|          | 0/800 [00:00<?, ?it/s]",
      "application/vnd.jupyter.widget-view+json": {
       "version_major": 2,
       "version_minor": 0,
       "model_id": "f2fd9eac069a454fa2b30b3ad235482a"
      }
     },
     "metadata": {},
     "output_type": "display_data"
    },
    {
     "data": {
      "text/plain": "  0%|          | 0/800 [00:00<?, ?it/s]",
      "application/vnd.jupyter.widget-view+json": {
       "version_major": 2,
       "version_minor": 0,
       "model_id": "346c0aea38474a859101c61ddbd6e50c"
      }
     },
     "metadata": {},
     "output_type": "display_data"
    },
    {
     "data": {
      "text/plain": "  0%|          | 0/800 [00:00<?, ?it/s]",
      "application/vnd.jupyter.widget-view+json": {
       "version_major": 2,
       "version_minor": 0,
       "model_id": "34a0a2cbadd542a48cd504da20d34075"
      }
     },
     "metadata": {},
     "output_type": "display_data"
    },
    {
     "data": {
      "text/plain": "  0%|          | 0/800 [00:00<?, ?it/s]",
      "application/vnd.jupyter.widget-view+json": {
       "version_major": 2,
       "version_minor": 0,
       "model_id": "c79130f15c7b40f982f4fbba4d06f520"
      }
     },
     "metadata": {},
     "output_type": "display_data"
    },
    {
     "data": {
      "text/plain": "  0%|          | 0/800 [00:00<?, ?it/s]",
      "application/vnd.jupyter.widget-view+json": {
       "version_major": 2,
       "version_minor": 0,
       "model_id": "fe56c3a4c2b049b6a7649b7cc1138ec6"
      }
     },
     "metadata": {},
     "output_type": "display_data"
    },
    {
     "data": {
      "text/plain": "  0%|          | 0/800 [00:00<?, ?it/s]",
      "application/vnd.jupyter.widget-view+json": {
       "version_major": 2,
       "version_minor": 0,
       "model_id": "3593e2e324da4f56b37a0ea43a042e89"
      }
     },
     "metadata": {},
     "output_type": "display_data"
    },
    {
     "data": {
      "text/plain": "  0%|          | 0/800 [00:00<?, ?it/s]",
      "application/vnd.jupyter.widget-view+json": {
       "version_major": 2,
       "version_minor": 0,
       "model_id": "d21b364c0e0f4f178e003729d8b78f33"
      }
     },
     "metadata": {},
     "output_type": "display_data"
    },
    {
     "data": {
      "text/plain": "  0%|          | 0/800 [00:00<?, ?it/s]",
      "application/vnd.jupyter.widget-view+json": {
       "version_major": 2,
       "version_minor": 0,
       "model_id": "4798c0078f6c42179fe404ff8ff94058"
      }
     },
     "metadata": {},
     "output_type": "display_data"
    },
    {
     "data": {
      "text/plain": "  0%|          | 0/800 [00:00<?, ?it/s]",
      "application/vnd.jupyter.widget-view+json": {
       "version_major": 2,
       "version_minor": 0,
       "model_id": "50d5a5f0e6f24f2c844eb925e13fa27b"
      }
     },
     "metadata": {},
     "output_type": "display_data"
    },
    {
     "data": {
      "text/plain": "  0%|          | 0/800 [00:00<?, ?it/s]",
      "application/vnd.jupyter.widget-view+json": {
       "version_major": 2,
       "version_minor": 0,
       "model_id": "22fd74b236464417878c4eb28b735321"
      }
     },
     "metadata": {},
     "output_type": "display_data"
    },
    {
     "data": {
      "text/plain": "  0%|          | 0/800 [00:00<?, ?it/s]",
      "application/vnd.jupyter.widget-view+json": {
       "version_major": 2,
       "version_minor": 0,
       "model_id": "677527ae79b04893b2da6bea8af45bb4"
      }
     },
     "metadata": {},
     "output_type": "display_data"
    },
    {
     "data": {
      "text/plain": "  0%|          | 0/800 [00:00<?, ?it/s]",
      "application/vnd.jupyter.widget-view+json": {
       "version_major": 2,
       "version_minor": 0,
       "model_id": "40fa1f3b56524a64a75869fc88d42236"
      }
     },
     "metadata": {},
     "output_type": "display_data"
    },
    {
     "data": {
      "text/plain": "  0%|          | 0/800 [00:00<?, ?it/s]",
      "application/vnd.jupyter.widget-view+json": {
       "version_major": 2,
       "version_minor": 0,
       "model_id": "4f811083a3374545accf19399e7013d5"
      }
     },
     "metadata": {},
     "output_type": "display_data"
    },
    {
     "data": {
      "text/plain": "  0%|          | 0/800 [00:00<?, ?it/s]",
      "application/vnd.jupyter.widget-view+json": {
       "version_major": 2,
       "version_minor": 0,
       "model_id": "c828ccab6d864e60aa0662bfc3d41f8d"
      }
     },
     "metadata": {},
     "output_type": "display_data"
    },
    {
     "data": {
      "text/plain": "  0%|          | 0/800 [00:00<?, ?it/s]",
      "application/vnd.jupyter.widget-view+json": {
       "version_major": 2,
       "version_minor": 0,
       "model_id": "2ff5e6140e55466c9a3abb29901f2f2c"
      }
     },
     "metadata": {},
     "output_type": "display_data"
    },
    {
     "data": {
      "text/plain": "  0%|          | 0/800 [00:00<?, ?it/s]",
      "application/vnd.jupyter.widget-view+json": {
       "version_major": 2,
       "version_minor": 0,
       "model_id": "211b1ea600594f399b42a554df231d17"
      }
     },
     "metadata": {},
     "output_type": "display_data"
    },
    {
     "data": {
      "text/plain": "  0%|          | 0/800 [00:00<?, ?it/s]",
      "application/vnd.jupyter.widget-view+json": {
       "version_major": 2,
       "version_minor": 0,
       "model_id": "85c9296a634a42bb89648dc9c704bbf9"
      }
     },
     "metadata": {},
     "output_type": "display_data"
    },
    {
     "data": {
      "text/plain": "  0%|          | 0/800 [00:00<?, ?it/s]",
      "application/vnd.jupyter.widget-view+json": {
       "version_major": 2,
       "version_minor": 0,
       "model_id": "015333dbc8d94bf190282a9b1fe41d31"
      }
     },
     "metadata": {},
     "output_type": "display_data"
    },
    {
     "data": {
      "text/plain": "  0%|          | 0/800 [00:00<?, ?it/s]",
      "application/vnd.jupyter.widget-view+json": {
       "version_major": 2,
       "version_minor": 0,
       "model_id": "ea53d66646b04504a0b95c2a871aba68"
      }
     },
     "metadata": {},
     "output_type": "display_data"
    },
    {
     "data": {
      "text/plain": "  0%|          | 0/800 [00:00<?, ?it/s]",
      "application/vnd.jupyter.widget-view+json": {
       "version_major": 2,
       "version_minor": 0,
       "model_id": "0e7ededacc15404ca464c35dc43e9057"
      }
     },
     "metadata": {},
     "output_type": "display_data"
    },
    {
     "data": {
      "text/plain": "  0%|          | 0/800 [00:00<?, ?it/s]",
      "application/vnd.jupyter.widget-view+json": {
       "version_major": 2,
       "version_minor": 0,
       "model_id": "368b2a3136a041e58a7a7e0cd34924b0"
      }
     },
     "metadata": {},
     "output_type": "display_data"
    },
    {
     "data": {
      "text/plain": "  0%|          | 0/800 [00:00<?, ?it/s]",
      "application/vnd.jupyter.widget-view+json": {
       "version_major": 2,
       "version_minor": 0,
       "model_id": "cd5c1a6057484c94b4db0f6273555c5c"
      }
     },
     "metadata": {},
     "output_type": "display_data"
    },
    {
     "data": {
      "text/plain": "  0%|          | 0/800 [00:00<?, ?it/s]",
      "application/vnd.jupyter.widget-view+json": {
       "version_major": 2,
       "version_minor": 0,
       "model_id": "7a137d0f6def4b33a55a3c892a820f88"
      }
     },
     "metadata": {},
     "output_type": "display_data"
    },
    {
     "data": {
      "text/plain": "  0%|          | 0/800 [00:00<?, ?it/s]",
      "application/vnd.jupyter.widget-view+json": {
       "version_major": 2,
       "version_minor": 0,
       "model_id": "ffb21bd10ced4c459f31d5167695d500"
      }
     },
     "metadata": {},
     "output_type": "display_data"
    },
    {
     "data": {
      "text/plain": "  0%|          | 0/800 [00:00<?, ?it/s]",
      "application/vnd.jupyter.widget-view+json": {
       "version_major": 2,
       "version_minor": 0,
       "model_id": "2e3179011a774df694717a727cf4b17c"
      }
     },
     "metadata": {},
     "output_type": "display_data"
    },
    {
     "data": {
      "text/plain": "  0%|          | 0/800 [00:00<?, ?it/s]",
      "application/vnd.jupyter.widget-view+json": {
       "version_major": 2,
       "version_minor": 0,
       "model_id": "bbe551fe8e0f47f895a8e18709f081a1"
      }
     },
     "metadata": {},
     "output_type": "display_data"
    },
    {
     "data": {
      "text/plain": "  0%|          | 0/800 [00:00<?, ?it/s]",
      "application/vnd.jupyter.widget-view+json": {
       "version_major": 2,
       "version_minor": 0,
       "model_id": "3e931d6a909047d79ac1d63de77d151d"
      }
     },
     "metadata": {},
     "output_type": "display_data"
    },
    {
     "data": {
      "text/plain": "  0%|          | 0/800 [00:00<?, ?it/s]",
      "application/vnd.jupyter.widget-view+json": {
       "version_major": 2,
       "version_minor": 0,
       "model_id": "3597f30fa321455a94838df32102c90e"
      }
     },
     "metadata": {},
     "output_type": "display_data"
    },
    {
     "data": {
      "text/plain": "  0%|          | 0/800 [00:00<?, ?it/s]",
      "application/vnd.jupyter.widget-view+json": {
       "version_major": 2,
       "version_minor": 0,
       "model_id": "51f9385abf024dc092dd1bc7405fc793"
      }
     },
     "metadata": {},
     "output_type": "display_data"
    },
    {
     "data": {
      "text/plain": "  0%|          | 0/800 [00:00<?, ?it/s]",
      "application/vnd.jupyter.widget-view+json": {
       "version_major": 2,
       "version_minor": 0,
       "model_id": "9c0eb1cba99f4bff81ed2381b387a320"
      }
     },
     "metadata": {},
     "output_type": "display_data"
    },
    {
     "data": {
      "text/plain": "  0%|          | 0/800 [00:00<?, ?it/s]",
      "application/vnd.jupyter.widget-view+json": {
       "version_major": 2,
       "version_minor": 0,
       "model_id": "e579b804eef849c08c71518551ff31ab"
      }
     },
     "metadata": {},
     "output_type": "display_data"
    },
    {
     "data": {
      "text/plain": "  0%|          | 0/800 [00:00<?, ?it/s]",
      "application/vnd.jupyter.widget-view+json": {
       "version_major": 2,
       "version_minor": 0,
       "model_id": "4c5d3fd9f78348ce9def3ca14ced69a3"
      }
     },
     "metadata": {},
     "output_type": "display_data"
    },
    {
     "data": {
      "text/plain": "  0%|          | 0/800 [00:00<?, ?it/s]",
      "application/vnd.jupyter.widget-view+json": {
       "version_major": 2,
       "version_minor": 0,
       "model_id": "70b09cefb1fd424ba2348cb335f5abdc"
      }
     },
     "metadata": {},
     "output_type": "display_data"
    },
    {
     "data": {
      "text/plain": "  0%|          | 0/800 [00:00<?, ?it/s]",
      "application/vnd.jupyter.widget-view+json": {
       "version_major": 2,
       "version_minor": 0,
       "model_id": "ca198f9b626245d39e7c979cff0367df"
      }
     },
     "metadata": {},
     "output_type": "display_data"
    },
    {
     "data": {
      "text/plain": "  0%|          | 0/800 [00:00<?, ?it/s]",
      "application/vnd.jupyter.widget-view+json": {
       "version_major": 2,
       "version_minor": 0,
       "model_id": "f06662b3dc164f0984f47a9081ecc52e"
      }
     },
     "metadata": {},
     "output_type": "display_data"
    },
    {
     "data": {
      "text/plain": "  0%|          | 0/800 [00:00<?, ?it/s]",
      "application/vnd.jupyter.widget-view+json": {
       "version_major": 2,
       "version_minor": 0,
       "model_id": "e162b3487def414b813c69c0f96aa068"
      }
     },
     "metadata": {},
     "output_type": "display_data"
    },
    {
     "data": {
      "text/plain": "  0%|          | 0/800 [00:00<?, ?it/s]",
      "application/vnd.jupyter.widget-view+json": {
       "version_major": 2,
       "version_minor": 0,
       "model_id": "4ff199d6f1664c4fa08f9f1b4b5f821f"
      }
     },
     "metadata": {},
     "output_type": "display_data"
    },
    {
     "data": {
      "text/plain": "  0%|          | 0/800 [00:00<?, ?it/s]",
      "application/vnd.jupyter.widget-view+json": {
       "version_major": 2,
       "version_minor": 0,
       "model_id": "5852ed85b5924639a4c1eded64cabc7b"
      }
     },
     "metadata": {},
     "output_type": "display_data"
    },
    {
     "data": {
      "text/plain": "  0%|          | 0/800 [00:00<?, ?it/s]",
      "application/vnd.jupyter.widget-view+json": {
       "version_major": 2,
       "version_minor": 0,
       "model_id": "781770866b16476b88cd43dab00dd37a"
      }
     },
     "metadata": {},
     "output_type": "display_data"
    },
    {
     "data": {
      "text/plain": "  0%|          | 0/800 [00:00<?, ?it/s]",
      "application/vnd.jupyter.widget-view+json": {
       "version_major": 2,
       "version_minor": 0,
       "model_id": "b311dc626cd74ac7a3834e58ff8e7e6c"
      }
     },
     "metadata": {},
     "output_type": "display_data"
    },
    {
     "data": {
      "text/plain": "  0%|          | 0/800 [00:00<?, ?it/s]",
      "application/vnd.jupyter.widget-view+json": {
       "version_major": 2,
       "version_minor": 0,
       "model_id": "093d8310274d46a28c4f0b677ca7d8db"
      }
     },
     "metadata": {},
     "output_type": "display_data"
    },
    {
     "data": {
      "text/plain": "  0%|          | 0/800 [00:00<?, ?it/s]",
      "application/vnd.jupyter.widget-view+json": {
       "version_major": 2,
       "version_minor": 0,
       "model_id": "c0a1853be0984b079d9e5e97f8f8a478"
      }
     },
     "metadata": {},
     "output_type": "display_data"
    },
    {
     "data": {
      "text/plain": "  0%|          | 0/800 [00:00<?, ?it/s]",
      "application/vnd.jupyter.widget-view+json": {
       "version_major": 2,
       "version_minor": 0,
       "model_id": "b1be5c5d5085491a9c69df74be972c08"
      }
     },
     "metadata": {},
     "output_type": "display_data"
    },
    {
     "data": {
      "text/plain": "  0%|          | 0/800 [00:00<?, ?it/s]",
      "application/vnd.jupyter.widget-view+json": {
       "version_major": 2,
       "version_minor": 0,
       "model_id": "b11fc25343e04dba99c16758b1091351"
      }
     },
     "metadata": {},
     "output_type": "display_data"
    },
    {
     "data": {
      "text/plain": "  0%|          | 0/800 [00:00<?, ?it/s]",
      "application/vnd.jupyter.widget-view+json": {
       "version_major": 2,
       "version_minor": 0,
       "model_id": "33ecac390a1f45d28a3184d46b27a080"
      }
     },
     "metadata": {},
     "output_type": "display_data"
    },
    {
     "data": {
      "text/plain": "  0%|          | 0/800 [00:00<?, ?it/s]",
      "application/vnd.jupyter.widget-view+json": {
       "version_major": 2,
       "version_minor": 0,
       "model_id": "accc05ffddec44e48c2532d1f73e62c5"
      }
     },
     "metadata": {},
     "output_type": "display_data"
    },
    {
     "data": {
      "text/plain": "  0%|          | 0/800 [00:00<?, ?it/s]",
      "application/vnd.jupyter.widget-view+json": {
       "version_major": 2,
       "version_minor": 0,
       "model_id": "e5fd20afe5de4d39a593264128aae4b3"
      }
     },
     "metadata": {},
     "output_type": "display_data"
    },
    {
     "data": {
      "text/plain": "  0%|          | 0/800 [00:00<?, ?it/s]",
      "application/vnd.jupyter.widget-view+json": {
       "version_major": 2,
       "version_minor": 0,
       "model_id": "9d253ef6bd2f41c59a6e30fcc60808cb"
      }
     },
     "metadata": {},
     "output_type": "display_data"
    },
    {
     "data": {
      "text/plain": "  0%|          | 0/800 [00:00<?, ?it/s]",
      "application/vnd.jupyter.widget-view+json": {
       "version_major": 2,
       "version_minor": 0,
       "model_id": "e25dcdf05ccb4d9fbcef12d9ba06ed40"
      }
     },
     "metadata": {},
     "output_type": "display_data"
    },
    {
     "data": {
      "text/plain": "  0%|          | 0/800 [00:00<?, ?it/s]",
      "application/vnd.jupyter.widget-view+json": {
       "version_major": 2,
       "version_minor": 0,
       "model_id": "b465edc02db74bbfbe18074d061da423"
      }
     },
     "metadata": {},
     "output_type": "display_data"
    },
    {
     "data": {
      "text/plain": "  0%|          | 0/800 [00:00<?, ?it/s]",
      "application/vnd.jupyter.widget-view+json": {
       "version_major": 2,
       "version_minor": 0,
       "model_id": "2e02b99d204f454089109c6f0ae38e07"
      }
     },
     "metadata": {},
     "output_type": "display_data"
    },
    {
     "data": {
      "text/plain": "  0%|          | 0/800 [00:00<?, ?it/s]",
      "application/vnd.jupyter.widget-view+json": {
       "version_major": 2,
       "version_minor": 0,
       "model_id": "de6cb74028f34660a033dc9899c6a612"
      }
     },
     "metadata": {},
     "output_type": "display_data"
    },
    {
     "data": {
      "text/plain": "  0%|          | 0/800 [00:00<?, ?it/s]",
      "application/vnd.jupyter.widget-view+json": {
       "version_major": 2,
       "version_minor": 0,
       "model_id": "2790f3b664774e308f9c46f2bbae5883"
      }
     },
     "metadata": {},
     "output_type": "display_data"
    },
    {
     "data": {
      "text/plain": "  0%|          | 0/800 [00:00<?, ?it/s]",
      "application/vnd.jupyter.widget-view+json": {
       "version_major": 2,
       "version_minor": 0,
       "model_id": "29a47c216815437e91bcc2202d7de7e7"
      }
     },
     "metadata": {},
     "output_type": "display_data"
    },
    {
     "data": {
      "text/plain": "  0%|          | 0/800 [00:00<?, ?it/s]",
      "application/vnd.jupyter.widget-view+json": {
       "version_major": 2,
       "version_minor": 0,
       "model_id": "ec47d618bb994856a4b1dc3ea59a1131"
      }
     },
     "metadata": {},
     "output_type": "display_data"
    },
    {
     "data": {
      "text/plain": "  0%|          | 0/800 [00:00<?, ?it/s]",
      "application/vnd.jupyter.widget-view+json": {
       "version_major": 2,
       "version_minor": 0,
       "model_id": "e8f65ced1aa544cab2b4f906e868df56"
      }
     },
     "metadata": {},
     "output_type": "display_data"
    },
    {
     "data": {
      "text/plain": "  0%|          | 0/800 [00:00<?, ?it/s]",
      "application/vnd.jupyter.widget-view+json": {
       "version_major": 2,
       "version_minor": 0,
       "model_id": "d8187e9fb54f4e198f78d154e8a28516"
      }
     },
     "metadata": {},
     "output_type": "display_data"
    },
    {
     "data": {
      "text/plain": "  0%|          | 0/800 [00:00<?, ?it/s]",
      "application/vnd.jupyter.widget-view+json": {
       "version_major": 2,
       "version_minor": 0,
       "model_id": "221445c99abc449a856d9ea0a762f4e1"
      }
     },
     "metadata": {},
     "output_type": "display_data"
    },
    {
     "data": {
      "text/plain": "  0%|          | 0/800 [00:00<?, ?it/s]",
      "application/vnd.jupyter.widget-view+json": {
       "version_major": 2,
       "version_minor": 0,
       "model_id": "0d5dadaad3a84a828a52c64a848912f9"
      }
     },
     "metadata": {},
     "output_type": "display_data"
    },
    {
     "data": {
      "text/plain": "  0%|          | 0/800 [00:00<?, ?it/s]",
      "application/vnd.jupyter.widget-view+json": {
       "version_major": 2,
       "version_minor": 0,
       "model_id": "c68cd4e54e14485ab4bfcf6c82964b96"
      }
     },
     "metadata": {},
     "output_type": "display_data"
    },
    {
     "data": {
      "text/plain": "  0%|          | 0/800 [00:00<?, ?it/s]",
      "application/vnd.jupyter.widget-view+json": {
       "version_major": 2,
       "version_minor": 0,
       "model_id": "0acfb7291300447cb857f473e625f91b"
      }
     },
     "metadata": {},
     "output_type": "display_data"
    },
    {
     "data": {
      "text/plain": "  0%|          | 0/800 [00:00<?, ?it/s]",
      "application/vnd.jupyter.widget-view+json": {
       "version_major": 2,
       "version_minor": 0,
       "model_id": "4fb60b0213cc43a485c1069235f37a28"
      }
     },
     "metadata": {},
     "output_type": "display_data"
    },
    {
     "data": {
      "text/plain": "  0%|          | 0/800 [00:00<?, ?it/s]",
      "application/vnd.jupyter.widget-view+json": {
       "version_major": 2,
       "version_minor": 0,
       "model_id": "b50ccc7a21bf42918db48817304fb2cb"
      }
     },
     "metadata": {},
     "output_type": "display_data"
    },
    {
     "data": {
      "text/plain": "  0%|          | 0/800 [00:00<?, ?it/s]",
      "application/vnd.jupyter.widget-view+json": {
       "version_major": 2,
       "version_minor": 0,
       "model_id": "49bafa7d78364c10969ed50a8bf602d7"
      }
     },
     "metadata": {},
     "output_type": "display_data"
    },
    {
     "data": {
      "text/plain": "  0%|          | 0/800 [00:00<?, ?it/s]",
      "application/vnd.jupyter.widget-view+json": {
       "version_major": 2,
       "version_minor": 0,
       "model_id": "77ca0a36cbc6422dafa92901d7868414"
      }
     },
     "metadata": {},
     "output_type": "display_data"
    },
    {
     "data": {
      "text/plain": "  0%|          | 0/800 [00:00<?, ?it/s]",
      "application/vnd.jupyter.widget-view+json": {
       "version_major": 2,
       "version_minor": 0,
       "model_id": "e8c67defa4754bd49e6a04b247eda795"
      }
     },
     "metadata": {},
     "output_type": "display_data"
    },
    {
     "data": {
      "text/plain": "  0%|          | 0/800 [00:00<?, ?it/s]",
      "application/vnd.jupyter.widget-view+json": {
       "version_major": 2,
       "version_minor": 0,
       "model_id": "f91e7f2523b647598633389cae9a80c2"
      }
     },
     "metadata": {},
     "output_type": "display_data"
    },
    {
     "data": {
      "text/plain": "  0%|          | 0/800 [00:00<?, ?it/s]",
      "application/vnd.jupyter.widget-view+json": {
       "version_major": 2,
       "version_minor": 0,
       "model_id": "be541cf5a90a4206b3d91bad7503a834"
      }
     },
     "metadata": {},
     "output_type": "display_data"
    },
    {
     "data": {
      "text/plain": "  0%|          | 0/800 [00:00<?, ?it/s]",
      "application/vnd.jupyter.widget-view+json": {
       "version_major": 2,
       "version_minor": 0,
       "model_id": "2cacf2e4330248c5aba254e359e0aeca"
      }
     },
     "metadata": {},
     "output_type": "display_data"
    },
    {
     "data": {
      "text/plain": "  0%|          | 0/800 [00:00<?, ?it/s]",
      "application/vnd.jupyter.widget-view+json": {
       "version_major": 2,
       "version_minor": 0,
       "model_id": "6421633d6a6645f4af4673d9224be56b"
      }
     },
     "metadata": {},
     "output_type": "display_data"
    },
    {
     "data": {
      "text/plain": "  0%|          | 0/800 [00:00<?, ?it/s]",
      "application/vnd.jupyter.widget-view+json": {
       "version_major": 2,
       "version_minor": 0,
       "model_id": "7fad3db1567d4231af82a1d311a583ae"
      }
     },
     "metadata": {},
     "output_type": "display_data"
    },
    {
     "data": {
      "text/plain": "  0%|          | 0/800 [00:00<?, ?it/s]",
      "application/vnd.jupyter.widget-view+json": {
       "version_major": 2,
       "version_minor": 0,
       "model_id": "108acd7db3c44b0487c5295038880aea"
      }
     },
     "metadata": {},
     "output_type": "display_data"
    },
    {
     "data": {
      "text/plain": "  0%|          | 0/800 [00:00<?, ?it/s]",
      "application/vnd.jupyter.widget-view+json": {
       "version_major": 2,
       "version_minor": 0,
       "model_id": "c696e9a2d0b7470cbb49b275b23b048f"
      }
     },
     "metadata": {},
     "output_type": "display_data"
    },
    {
     "data": {
      "text/plain": "  0%|          | 0/800 [00:00<?, ?it/s]",
      "application/vnd.jupyter.widget-view+json": {
       "version_major": 2,
       "version_minor": 0,
       "model_id": "05694acf02c54293bbe9b1a3cc030201"
      }
     },
     "metadata": {},
     "output_type": "display_data"
    },
    {
     "data": {
      "text/plain": "  0%|          | 0/800 [00:00<?, ?it/s]",
      "application/vnd.jupyter.widget-view+json": {
       "version_major": 2,
       "version_minor": 0,
       "model_id": "28db5ec94e4845de9a0567ba5a0535d5"
      }
     },
     "metadata": {},
     "output_type": "display_data"
    },
    {
     "data": {
      "text/plain": "  0%|          | 0/800 [00:00<?, ?it/s]",
      "application/vnd.jupyter.widget-view+json": {
       "version_major": 2,
       "version_minor": 0,
       "model_id": "b4c65509a4fe44f1858bffbf8edb4bca"
      }
     },
     "metadata": {},
     "output_type": "display_data"
    },
    {
     "data": {
      "text/plain": "  0%|          | 0/800 [00:00<?, ?it/s]",
      "application/vnd.jupyter.widget-view+json": {
       "version_major": 2,
       "version_minor": 0,
       "model_id": "29ea43f098384968b8dde7dd21ca6e13"
      }
     },
     "metadata": {},
     "output_type": "display_data"
    },
    {
     "data": {
      "text/plain": "  0%|          | 0/800 [00:00<?, ?it/s]",
      "application/vnd.jupyter.widget-view+json": {
       "version_major": 2,
       "version_minor": 0,
       "model_id": "b8636cfcbad54d8b835595ec895d1f24"
      }
     },
     "metadata": {},
     "output_type": "display_data"
    },
    {
     "data": {
      "text/plain": "  0%|          | 0/800 [00:00<?, ?it/s]",
      "application/vnd.jupyter.widget-view+json": {
       "version_major": 2,
       "version_minor": 0,
       "model_id": "50f69092f46743ec83413a20253d64df"
      }
     },
     "metadata": {},
     "output_type": "display_data"
    },
    {
     "data": {
      "text/plain": "  0%|          | 0/800 [00:00<?, ?it/s]",
      "application/vnd.jupyter.widget-view+json": {
       "version_major": 2,
       "version_minor": 0,
       "model_id": "3cc7e2004bdf432fa12f8f0f016129c5"
      }
     },
     "metadata": {},
     "output_type": "display_data"
    },
    {
     "data": {
      "text/plain": "  0%|          | 0/800 [00:00<?, ?it/s]",
      "application/vnd.jupyter.widget-view+json": {
       "version_major": 2,
       "version_minor": 0,
       "model_id": "d8928c58ee9547f19a3af037c2fce611"
      }
     },
     "metadata": {},
     "output_type": "display_data"
    },
    {
     "data": {
      "text/plain": "  0%|          | 0/800 [00:00<?, ?it/s]",
      "application/vnd.jupyter.widget-view+json": {
       "version_major": 2,
       "version_minor": 0,
       "model_id": "20ca433315da48e3a459316f7109731e"
      }
     },
     "metadata": {},
     "output_type": "display_data"
    },
    {
     "data": {
      "text/plain": "  0%|          | 0/800 [00:00<?, ?it/s]",
      "application/vnd.jupyter.widget-view+json": {
       "version_major": 2,
       "version_minor": 0,
       "model_id": "8cbb3c155d784dc883dfc01cdf6083f0"
      }
     },
     "metadata": {},
     "output_type": "display_data"
    },
    {
     "data": {
      "text/plain": "  0%|          | 0/800 [00:00<?, ?it/s]",
      "application/vnd.jupyter.widget-view+json": {
       "version_major": 2,
       "version_minor": 0,
       "model_id": "2e9e9cb11f4240fe9db823b680d4e777"
      }
     },
     "metadata": {},
     "output_type": "display_data"
    },
    {
     "data": {
      "text/plain": "  0%|          | 0/800 [00:00<?, ?it/s]",
      "application/vnd.jupyter.widget-view+json": {
       "version_major": 2,
       "version_minor": 0,
       "model_id": "d000a68cf3c849c889a44aea60e21112"
      }
     },
     "metadata": {},
     "output_type": "display_data"
    },
    {
     "data": {
      "text/plain": "  0%|          | 0/800 [00:00<?, ?it/s]",
      "application/vnd.jupyter.widget-view+json": {
       "version_major": 2,
       "version_minor": 0,
       "model_id": "7307e0dc57414e9fba2c2508314339b9"
      }
     },
     "metadata": {},
     "output_type": "display_data"
    },
    {
     "data": {
      "text/plain": "  0%|          | 0/800 [00:00<?, ?it/s]",
      "application/vnd.jupyter.widget-view+json": {
       "version_major": 2,
       "version_minor": 0,
       "model_id": "2f8b11c12e894ed4af5279aac3182e58"
      }
     },
     "metadata": {},
     "output_type": "display_data"
    },
    {
     "data": {
      "text/plain": "  0%|          | 0/800 [00:00<?, ?it/s]",
      "application/vnd.jupyter.widget-view+json": {
       "version_major": 2,
       "version_minor": 0,
       "model_id": "07b66dceb5d040f9a3ee219bace8487a"
      }
     },
     "metadata": {},
     "output_type": "display_data"
    },
    {
     "data": {
      "text/plain": "  0%|          | 0/800 [00:00<?, ?it/s]",
      "application/vnd.jupyter.widget-view+json": {
       "version_major": 2,
       "version_minor": 0,
       "model_id": "6e15e57340454d81a26e64a2c95a05ec"
      }
     },
     "metadata": {},
     "output_type": "display_data"
    },
    {
     "data": {
      "text/plain": "  0%|          | 0/800 [00:00<?, ?it/s]",
      "application/vnd.jupyter.widget-view+json": {
       "version_major": 2,
       "version_minor": 0,
       "model_id": "7bf2b2592cf94a0cb74fac7d67765339"
      }
     },
     "metadata": {},
     "output_type": "display_data"
    },
    {
     "data": {
      "text/plain": "  0%|          | 0/800 [00:00<?, ?it/s]",
      "application/vnd.jupyter.widget-view+json": {
       "version_major": 2,
       "version_minor": 0,
       "model_id": "924bdccdaf5a42a8a13c92407f10d343"
      }
     },
     "metadata": {},
     "output_type": "display_data"
    },
    {
     "data": {
      "text/plain": "  0%|          | 0/800 [00:00<?, ?it/s]",
      "application/vnd.jupyter.widget-view+json": {
       "version_major": 2,
       "version_minor": 0,
       "model_id": "e1f157d839c64d75b5752da96bef3181"
      }
     },
     "metadata": {},
     "output_type": "display_data"
    },
    {
     "data": {
      "text/plain": "  0%|          | 0/800 [00:00<?, ?it/s]",
      "application/vnd.jupyter.widget-view+json": {
       "version_major": 2,
       "version_minor": 0,
       "model_id": "ee79d827ae9b4c46916b403fc2a8550a"
      }
     },
     "metadata": {},
     "output_type": "display_data"
    },
    {
     "data": {
      "text/plain": "  0%|          | 0/800 [00:00<?, ?it/s]",
      "application/vnd.jupyter.widget-view+json": {
       "version_major": 2,
       "version_minor": 0,
       "model_id": "e15a07b8b57b487ab25f77a9aba2092d"
      }
     },
     "metadata": {},
     "output_type": "display_data"
    },
    {
     "data": {
      "text/plain": "  0%|          | 0/800 [00:00<?, ?it/s]",
      "application/vnd.jupyter.widget-view+json": {
       "version_major": 2,
       "version_minor": 0,
       "model_id": "720f0856d1f542d281b4be6b3f319ff1"
      }
     },
     "metadata": {},
     "output_type": "display_data"
    },
    {
     "data": {
      "text/plain": "  0%|          | 0/800 [00:00<?, ?it/s]",
      "application/vnd.jupyter.widget-view+json": {
       "version_major": 2,
       "version_minor": 0,
       "model_id": "5112533b8c0d4691a73ec0e3380296cd"
      }
     },
     "metadata": {},
     "output_type": "display_data"
    },
    {
     "data": {
      "text/plain": "  0%|          | 0/800 [00:00<?, ?it/s]",
      "application/vnd.jupyter.widget-view+json": {
       "version_major": 2,
       "version_minor": 0,
       "model_id": "83a7bda7903b47df9970a2eadc7b351d"
      }
     },
     "metadata": {},
     "output_type": "display_data"
    },
    {
     "data": {
      "text/plain": "  0%|          | 0/800 [00:00<?, ?it/s]",
      "application/vnd.jupyter.widget-view+json": {
       "version_major": 2,
       "version_minor": 0,
       "model_id": "5838f4892ae845a8a954dd046b266ade"
      }
     },
     "metadata": {},
     "output_type": "display_data"
    },
    {
     "data": {
      "text/plain": "  0%|          | 0/800 [00:00<?, ?it/s]",
      "application/vnd.jupyter.widget-view+json": {
       "version_major": 2,
       "version_minor": 0,
       "model_id": "d8ec3dfe68954df6996966180523196c"
      }
     },
     "metadata": {},
     "output_type": "display_data"
    },
    {
     "data": {
      "text/plain": "  0%|          | 0/800 [00:00<?, ?it/s]",
      "application/vnd.jupyter.widget-view+json": {
       "version_major": 2,
       "version_minor": 0,
       "model_id": "70c5f75a7f3a40329bd3d052d7a0852f"
      }
     },
     "metadata": {},
     "output_type": "display_data"
    },
    {
     "data": {
      "text/plain": "  0%|          | 0/800 [00:00<?, ?it/s]",
      "application/vnd.jupyter.widget-view+json": {
       "version_major": 2,
       "version_minor": 0,
       "model_id": "276a083cafb94dd2adefdd51a36103ef"
      }
     },
     "metadata": {},
     "output_type": "display_data"
    },
    {
     "data": {
      "text/plain": "  0%|          | 0/800 [00:00<?, ?it/s]",
      "application/vnd.jupyter.widget-view+json": {
       "version_major": 2,
       "version_minor": 0,
       "model_id": "4b66c93a0f7c49e69fe53ce86af78afb"
      }
     },
     "metadata": {},
     "output_type": "display_data"
    },
    {
     "data": {
      "text/plain": "  0%|          | 0/800 [00:00<?, ?it/s]",
      "application/vnd.jupyter.widget-view+json": {
       "version_major": 2,
       "version_minor": 0,
       "model_id": "daab4a5edd14406a8495e16b1f2705e3"
      }
     },
     "metadata": {},
     "output_type": "display_data"
    },
    {
     "data": {
      "text/plain": "  0%|          | 0/800 [00:00<?, ?it/s]",
      "application/vnd.jupyter.widget-view+json": {
       "version_major": 2,
       "version_minor": 0,
       "model_id": "95688665c47448199b0bcd0a3c80e087"
      }
     },
     "metadata": {},
     "output_type": "display_data"
    },
    {
     "data": {
      "text/plain": "  0%|          | 0/800 [00:00<?, ?it/s]",
      "application/vnd.jupyter.widget-view+json": {
       "version_major": 2,
       "version_minor": 0,
       "model_id": "7f148b0a62ea4be1824506de8cb523e1"
      }
     },
     "metadata": {},
     "output_type": "display_data"
    },
    {
     "data": {
      "text/plain": "  0%|          | 0/800 [00:00<?, ?it/s]",
      "application/vnd.jupyter.widget-view+json": {
       "version_major": 2,
       "version_minor": 0,
       "model_id": "2c4a4503de1b44f186bc7484d644be4c"
      }
     },
     "metadata": {},
     "output_type": "display_data"
    },
    {
     "data": {
      "text/plain": "  0%|          | 0/800 [00:00<?, ?it/s]",
      "application/vnd.jupyter.widget-view+json": {
       "version_major": 2,
       "version_minor": 0,
       "model_id": "81acc51ea4694d6a874e2d4cfc952c35"
      }
     },
     "metadata": {},
     "output_type": "display_data"
    },
    {
     "data": {
      "text/plain": "  0%|          | 0/800 [00:00<?, ?it/s]",
      "application/vnd.jupyter.widget-view+json": {
       "version_major": 2,
       "version_minor": 0,
       "model_id": "b51407101feb474498ce01666e039cef"
      }
     },
     "metadata": {},
     "output_type": "display_data"
    },
    {
     "data": {
      "text/plain": "  0%|          | 0/800 [00:00<?, ?it/s]",
      "application/vnd.jupyter.widget-view+json": {
       "version_major": 2,
       "version_minor": 0,
       "model_id": "de74b4bd207540f2b1fb785ab0f851d7"
      }
     },
     "metadata": {},
     "output_type": "display_data"
    },
    {
     "data": {
      "text/plain": "  0%|          | 0/800 [00:00<?, ?it/s]",
      "application/vnd.jupyter.widget-view+json": {
       "version_major": 2,
       "version_minor": 0,
       "model_id": "1b44d779f47a456baff023fd0de53e5d"
      }
     },
     "metadata": {},
     "output_type": "display_data"
    },
    {
     "data": {
      "text/plain": "  0%|          | 0/800 [00:00<?, ?it/s]",
      "application/vnd.jupyter.widget-view+json": {
       "version_major": 2,
       "version_minor": 0,
       "model_id": "fea15f97516247b59a09648fc8c0c310"
      }
     },
     "metadata": {},
     "output_type": "display_data"
    },
    {
     "data": {
      "text/plain": "  0%|          | 0/800 [00:00<?, ?it/s]",
      "application/vnd.jupyter.widget-view+json": {
       "version_major": 2,
       "version_minor": 0,
       "model_id": "5376c5003b0f4e59a242beb7db55db45"
      }
     },
     "metadata": {},
     "output_type": "display_data"
    },
    {
     "data": {
      "text/plain": "  0%|          | 0/800 [00:00<?, ?it/s]",
      "application/vnd.jupyter.widget-view+json": {
       "version_major": 2,
       "version_minor": 0,
       "model_id": "b13dc1a51cca4caa972a9cfa4a7f1905"
      }
     },
     "metadata": {},
     "output_type": "display_data"
    },
    {
     "data": {
      "text/plain": "  0%|          | 0/800 [00:00<?, ?it/s]",
      "application/vnd.jupyter.widget-view+json": {
       "version_major": 2,
       "version_minor": 0,
       "model_id": "2139c662a30040aea787a4f550aa2509"
      }
     },
     "metadata": {},
     "output_type": "display_data"
    },
    {
     "data": {
      "text/plain": "  0%|          | 0/800 [00:00<?, ?it/s]",
      "application/vnd.jupyter.widget-view+json": {
       "version_major": 2,
       "version_minor": 0,
       "model_id": "0ba6a4fcdbc240698af45d9659a8fc5c"
      }
     },
     "metadata": {},
     "output_type": "display_data"
    },
    {
     "data": {
      "text/plain": "  0%|          | 0/800 [00:00<?, ?it/s]",
      "application/vnd.jupyter.widget-view+json": {
       "version_major": 2,
       "version_minor": 0,
       "model_id": "e97aec07bb2940c1a057e1c6423c8dfc"
      }
     },
     "metadata": {},
     "output_type": "display_data"
    },
    {
     "data": {
      "text/plain": "  0%|          | 0/800 [00:00<?, ?it/s]",
      "application/vnd.jupyter.widget-view+json": {
       "version_major": 2,
       "version_minor": 0,
       "model_id": "89957c24ef5f49f598120d0bb0c743b2"
      }
     },
     "metadata": {},
     "output_type": "display_data"
    },
    {
     "data": {
      "text/plain": "  0%|          | 0/800 [00:00<?, ?it/s]",
      "application/vnd.jupyter.widget-view+json": {
       "version_major": 2,
       "version_minor": 0,
       "model_id": "0a54c34cca234501937f04adc4f4b9c7"
      }
     },
     "metadata": {},
     "output_type": "display_data"
    },
    {
     "data": {
      "text/plain": "  0%|          | 0/800 [00:00<?, ?it/s]",
      "application/vnd.jupyter.widget-view+json": {
       "version_major": 2,
       "version_minor": 0,
       "model_id": "699e911f50d94045b4e12708c30c83fc"
      }
     },
     "metadata": {},
     "output_type": "display_data"
    },
    {
     "data": {
      "text/plain": "  0%|          | 0/800 [00:00<?, ?it/s]",
      "application/vnd.jupyter.widget-view+json": {
       "version_major": 2,
       "version_minor": 0,
       "model_id": "f1122c4173b140e68767b65f1d697fec"
      }
     },
     "metadata": {},
     "output_type": "display_data"
    },
    {
     "data": {
      "text/plain": "  0%|          | 0/800 [00:00<?, ?it/s]",
      "application/vnd.jupyter.widget-view+json": {
       "version_major": 2,
       "version_minor": 0,
       "model_id": "4e02c7e490824e03a390d09c031e479c"
      }
     },
     "metadata": {},
     "output_type": "display_data"
    },
    {
     "data": {
      "text/plain": "  0%|          | 0/800 [00:00<?, ?it/s]",
      "application/vnd.jupyter.widget-view+json": {
       "version_major": 2,
       "version_minor": 0,
       "model_id": "fea3389469b443adb2ae99e9e162ffde"
      }
     },
     "metadata": {},
     "output_type": "display_data"
    },
    {
     "data": {
      "text/plain": "  0%|          | 0/800 [00:00<?, ?it/s]",
      "application/vnd.jupyter.widget-view+json": {
       "version_major": 2,
       "version_minor": 0,
       "model_id": "36d103209c414f3d9702c5796c432ccd"
      }
     },
     "metadata": {},
     "output_type": "display_data"
    },
    {
     "data": {
      "text/plain": "  0%|          | 0/800 [00:00<?, ?it/s]",
      "application/vnd.jupyter.widget-view+json": {
       "version_major": 2,
       "version_minor": 0,
       "model_id": "d343a8e2aa154091bee647562122387a"
      }
     },
     "metadata": {},
     "output_type": "display_data"
    },
    {
     "data": {
      "text/plain": "  0%|          | 0/800 [00:00<?, ?it/s]",
      "application/vnd.jupyter.widget-view+json": {
       "version_major": 2,
       "version_minor": 0,
       "model_id": "0fcc7c90a68d4efb9cb4a86359954b64"
      }
     },
     "metadata": {},
     "output_type": "display_data"
    },
    {
     "data": {
      "text/plain": "  0%|          | 0/800 [00:00<?, ?it/s]",
      "application/vnd.jupyter.widget-view+json": {
       "version_major": 2,
       "version_minor": 0,
       "model_id": "e052f11003454c479bf0712ea1a1e32f"
      }
     },
     "metadata": {},
     "output_type": "display_data"
    },
    {
     "data": {
      "text/plain": "  0%|          | 0/800 [00:00<?, ?it/s]",
      "application/vnd.jupyter.widget-view+json": {
       "version_major": 2,
       "version_minor": 0,
       "model_id": "b5ff09d604324e15b9e9de5baa9fe615"
      }
     },
     "metadata": {},
     "output_type": "display_data"
    },
    {
     "data": {
      "text/plain": "  0%|          | 0/800 [00:00<?, ?it/s]",
      "application/vnd.jupyter.widget-view+json": {
       "version_major": 2,
       "version_minor": 0,
       "model_id": "aa1f7c30e1b94a3caa49402df8cda5a6"
      }
     },
     "metadata": {},
     "output_type": "display_data"
    },
    {
     "data": {
      "text/plain": "  0%|          | 0/800 [00:00<?, ?it/s]",
      "application/vnd.jupyter.widget-view+json": {
       "version_major": 2,
       "version_minor": 0,
       "model_id": "2152d864247e4d568074f7326adbbe84"
      }
     },
     "metadata": {},
     "output_type": "display_data"
    },
    {
     "data": {
      "text/plain": "  0%|          | 0/800 [00:00<?, ?it/s]",
      "application/vnd.jupyter.widget-view+json": {
       "version_major": 2,
       "version_minor": 0,
       "model_id": "8ff653b8012f49bfab51de98a85b40b5"
      }
     },
     "metadata": {},
     "output_type": "display_data"
    },
    {
     "data": {
      "text/plain": "  0%|          | 0/800 [00:00<?, ?it/s]",
      "application/vnd.jupyter.widget-view+json": {
       "version_major": 2,
       "version_minor": 0,
       "model_id": "5951d7d0dd2d4e20b310fde7e9c08a68"
      }
     },
     "metadata": {},
     "output_type": "display_data"
    },
    {
     "data": {
      "text/plain": "  0%|          | 0/800 [00:00<?, ?it/s]",
      "application/vnd.jupyter.widget-view+json": {
       "version_major": 2,
       "version_minor": 0,
       "model_id": "570a2f1d000a4582876ff3e314f13e60"
      }
     },
     "metadata": {},
     "output_type": "display_data"
    },
    {
     "data": {
      "text/plain": "  0%|          | 0/800 [00:00<?, ?it/s]",
      "application/vnd.jupyter.widget-view+json": {
       "version_major": 2,
       "version_minor": 0,
       "model_id": "a5b4d749861c4af5b28fa6e4e304d355"
      }
     },
     "metadata": {},
     "output_type": "display_data"
    },
    {
     "data": {
      "text/plain": "  0%|          | 0/800 [00:00<?, ?it/s]",
      "application/vnd.jupyter.widget-view+json": {
       "version_major": 2,
       "version_minor": 0,
       "model_id": "871b432ae4d547eeb98c7f5332f079d8"
      }
     },
     "metadata": {},
     "output_type": "display_data"
    },
    {
     "data": {
      "text/plain": "  0%|          | 0/800 [00:00<?, ?it/s]",
      "application/vnd.jupyter.widget-view+json": {
       "version_major": 2,
       "version_minor": 0,
       "model_id": "7f0866437d414f018368c1e789fb4ca9"
      }
     },
     "metadata": {},
     "output_type": "display_data"
    },
    {
     "data": {
      "text/plain": "  0%|          | 0/800 [00:00<?, ?it/s]",
      "application/vnd.jupyter.widget-view+json": {
       "version_major": 2,
       "version_minor": 0,
       "model_id": "fd132984e3c542d6b6d728bf24617184"
      }
     },
     "metadata": {},
     "output_type": "display_data"
    },
    {
     "data": {
      "text/plain": "  0%|          | 0/800 [00:00<?, ?it/s]",
      "application/vnd.jupyter.widget-view+json": {
       "version_major": 2,
       "version_minor": 0,
       "model_id": "a8c1bf53b0924a73be36c448dc0000f3"
      }
     },
     "metadata": {},
     "output_type": "display_data"
    },
    {
     "data": {
      "text/plain": "  0%|          | 0/800 [00:00<?, ?it/s]",
      "application/vnd.jupyter.widget-view+json": {
       "version_major": 2,
       "version_minor": 0,
       "model_id": "11aae460a90941cd84d08287136bb525"
      }
     },
     "metadata": {},
     "output_type": "display_data"
    },
    {
     "data": {
      "text/plain": "  0%|          | 0/800 [00:00<?, ?it/s]",
      "application/vnd.jupyter.widget-view+json": {
       "version_major": 2,
       "version_minor": 0,
       "model_id": "a808f084696c410eb0361c78e7ac81a6"
      }
     },
     "metadata": {},
     "output_type": "display_data"
    },
    {
     "data": {
      "text/plain": "  0%|          | 0/800 [00:00<?, ?it/s]",
      "application/vnd.jupyter.widget-view+json": {
       "version_major": 2,
       "version_minor": 0,
       "model_id": "09733e32493c47bcbb83601252a160c3"
      }
     },
     "metadata": {},
     "output_type": "display_data"
    },
    {
     "data": {
      "text/plain": "  0%|          | 0/800 [00:00<?, ?it/s]",
      "application/vnd.jupyter.widget-view+json": {
       "version_major": 2,
       "version_minor": 0,
       "model_id": "a8904655772d4c6baf87884e5f162eb5"
      }
     },
     "metadata": {},
     "output_type": "display_data"
    },
    {
     "data": {
      "text/plain": "  0%|          | 0/800 [00:00<?, ?it/s]",
      "application/vnd.jupyter.widget-view+json": {
       "version_major": 2,
       "version_minor": 0,
       "model_id": "a4f0591dd15b48859b5cb58bab500fb1"
      }
     },
     "metadata": {},
     "output_type": "display_data"
    },
    {
     "data": {
      "text/plain": "  0%|          | 0/800 [00:00<?, ?it/s]",
      "application/vnd.jupyter.widget-view+json": {
       "version_major": 2,
       "version_minor": 0,
       "model_id": "8c6dfd1dcc444c109127eb9ebea08065"
      }
     },
     "metadata": {},
     "output_type": "display_data"
    },
    {
     "data": {
      "text/plain": "  0%|          | 0/800 [00:00<?, ?it/s]",
      "application/vnd.jupyter.widget-view+json": {
       "version_major": 2,
       "version_minor": 0,
       "model_id": "1531a63d4a674c118b8252829b158389"
      }
     },
     "metadata": {},
     "output_type": "display_data"
    },
    {
     "data": {
      "text/plain": "  0%|          | 0/800 [00:00<?, ?it/s]",
      "application/vnd.jupyter.widget-view+json": {
       "version_major": 2,
       "version_minor": 0,
       "model_id": "2f32d1576078456bafee9291d39bc4c2"
      }
     },
     "metadata": {},
     "output_type": "display_data"
    },
    {
     "data": {
      "text/plain": "  0%|          | 0/800 [00:00<?, ?it/s]",
      "application/vnd.jupyter.widget-view+json": {
       "version_major": 2,
       "version_minor": 0,
       "model_id": "54dfeb0518df4e0095fdfef3d6cde65c"
      }
     },
     "metadata": {},
     "output_type": "display_data"
    },
    {
     "data": {
      "text/plain": "  0%|          | 0/800 [00:00<?, ?it/s]",
      "application/vnd.jupyter.widget-view+json": {
       "version_major": 2,
       "version_minor": 0,
       "model_id": "b8b07123742d408cab1168d3566ac692"
      }
     },
     "metadata": {},
     "output_type": "display_data"
    },
    {
     "data": {
      "text/plain": "  0%|          | 0/800 [00:00<?, ?it/s]",
      "application/vnd.jupyter.widget-view+json": {
       "version_major": 2,
       "version_minor": 0,
       "model_id": "c4fe5498123c471681036b383c467feb"
      }
     },
     "metadata": {},
     "output_type": "display_data"
    },
    {
     "data": {
      "text/plain": "  0%|          | 0/800 [00:00<?, ?it/s]",
      "application/vnd.jupyter.widget-view+json": {
       "version_major": 2,
       "version_minor": 0,
       "model_id": "1368ad9fa4df4d698c9821eb27b4cdd1"
      }
     },
     "metadata": {},
     "output_type": "display_data"
    },
    {
     "data": {
      "text/plain": "  0%|          | 0/800 [00:00<?, ?it/s]",
      "application/vnd.jupyter.widget-view+json": {
       "version_major": 2,
       "version_minor": 0,
       "model_id": "0305c49c62844cd2b806ae3cf3279dfd"
      }
     },
     "metadata": {},
     "output_type": "display_data"
    },
    {
     "data": {
      "text/plain": "  0%|          | 0/800 [00:00<?, ?it/s]",
      "application/vnd.jupyter.widget-view+json": {
       "version_major": 2,
       "version_minor": 0,
       "model_id": "89838aaa2a13459d9d4936eb3d913176"
      }
     },
     "metadata": {},
     "output_type": "display_data"
    },
    {
     "data": {
      "text/plain": "  0%|          | 0/800 [00:00<?, ?it/s]",
      "application/vnd.jupyter.widget-view+json": {
       "version_major": 2,
       "version_minor": 0,
       "model_id": "4add4b25ea084275854081398f33d06c"
      }
     },
     "metadata": {},
     "output_type": "display_data"
    },
    {
     "data": {
      "text/plain": "  0%|          | 0/800 [00:00<?, ?it/s]",
      "application/vnd.jupyter.widget-view+json": {
       "version_major": 2,
       "version_minor": 0,
       "model_id": "6be11f9d53904b9bba40f4e1a8891c37"
      }
     },
     "metadata": {},
     "output_type": "display_data"
    },
    {
     "data": {
      "text/plain": "  0%|          | 0/800 [00:00<?, ?it/s]",
      "application/vnd.jupyter.widget-view+json": {
       "version_major": 2,
       "version_minor": 0,
       "model_id": "24f0fe468e134a47bcc0ed55cd1167d9"
      }
     },
     "metadata": {},
     "output_type": "display_data"
    },
    {
     "data": {
      "text/plain": "  0%|          | 0/800 [00:00<?, ?it/s]",
      "application/vnd.jupyter.widget-view+json": {
       "version_major": 2,
       "version_minor": 0,
       "model_id": "0cbcdfbb4c774bb29f22456e4067a971"
      }
     },
     "metadata": {},
     "output_type": "display_data"
    },
    {
     "data": {
      "text/plain": "  0%|          | 0/800 [00:00<?, ?it/s]",
      "application/vnd.jupyter.widget-view+json": {
       "version_major": 2,
       "version_minor": 0,
       "model_id": "f5a59e30595041edaef0a2e97bbbaaa9"
      }
     },
     "metadata": {},
     "output_type": "display_data"
    },
    {
     "data": {
      "text/plain": "  0%|          | 0/800 [00:00<?, ?it/s]",
      "application/vnd.jupyter.widget-view+json": {
       "version_major": 2,
       "version_minor": 0,
       "model_id": "ad77e2b475fc4ece840c46038ecd47ce"
      }
     },
     "metadata": {},
     "output_type": "display_data"
    },
    {
     "data": {
      "text/plain": "  0%|          | 0/800 [00:00<?, ?it/s]",
      "application/vnd.jupyter.widget-view+json": {
       "version_major": 2,
       "version_minor": 0,
       "model_id": "6dbae711bd24467eaa3d48cdbfb4211e"
      }
     },
     "metadata": {},
     "output_type": "display_data"
    },
    {
     "data": {
      "text/plain": "  0%|          | 0/800 [00:00<?, ?it/s]",
      "application/vnd.jupyter.widget-view+json": {
       "version_major": 2,
       "version_minor": 0,
       "model_id": "2691f3a562a840718f6648f5a0bf7847"
      }
     },
     "metadata": {},
     "output_type": "display_data"
    },
    {
     "data": {
      "text/plain": "  0%|          | 0/800 [00:00<?, ?it/s]",
      "application/vnd.jupyter.widget-view+json": {
       "version_major": 2,
       "version_minor": 0,
       "model_id": "f2a5ba0c4e724f2aa6fd11af726c2ead"
      }
     },
     "metadata": {},
     "output_type": "display_data"
    },
    {
     "data": {
      "text/plain": "  0%|          | 0/800 [00:00<?, ?it/s]",
      "application/vnd.jupyter.widget-view+json": {
       "version_major": 2,
       "version_minor": 0,
       "model_id": "acc6ff39b7c446368bc40529fec159c3"
      }
     },
     "metadata": {},
     "output_type": "display_data"
    },
    {
     "data": {
      "text/plain": "  0%|          | 0/800 [00:00<?, ?it/s]",
      "application/vnd.jupyter.widget-view+json": {
       "version_major": 2,
       "version_minor": 0,
       "model_id": "f2180cdbad6a44409dc033891c4888c3"
      }
     },
     "metadata": {},
     "output_type": "display_data"
    },
    {
     "data": {
      "text/plain": "  0%|          | 0/800 [00:00<?, ?it/s]",
      "application/vnd.jupyter.widget-view+json": {
       "version_major": 2,
       "version_minor": 0,
       "model_id": "2b1ddd08ff67406c9fcd85f2b6ca271a"
      }
     },
     "metadata": {},
     "output_type": "display_data"
    },
    {
     "data": {
      "text/plain": "  0%|          | 0/800 [00:00<?, ?it/s]",
      "application/vnd.jupyter.widget-view+json": {
       "version_major": 2,
       "version_minor": 0,
       "model_id": "56cc9d42eba94807bf45d034e3180b8d"
      }
     },
     "metadata": {},
     "output_type": "display_data"
    },
    {
     "data": {
      "text/plain": "  0%|          | 0/800 [00:00<?, ?it/s]",
      "application/vnd.jupyter.widget-view+json": {
       "version_major": 2,
       "version_minor": 0,
       "model_id": "0a81edfbb95a4c5182f700322ec2b821"
      }
     },
     "metadata": {},
     "output_type": "display_data"
    },
    {
     "data": {
      "text/plain": "  0%|          | 0/800 [00:00<?, ?it/s]",
      "application/vnd.jupyter.widget-view+json": {
       "version_major": 2,
       "version_minor": 0,
       "model_id": "50f206b2cf7b484da2f56ca4477f64f9"
      }
     },
     "metadata": {},
     "output_type": "display_data"
    },
    {
     "data": {
      "text/plain": "  0%|          | 0/800 [00:00<?, ?it/s]",
      "application/vnd.jupyter.widget-view+json": {
       "version_major": 2,
       "version_minor": 0,
       "model_id": "b0e29e17a7544c3da9b841cb38ca619f"
      }
     },
     "metadata": {},
     "output_type": "display_data"
    },
    {
     "data": {
      "text/plain": "  0%|          | 0/800 [00:00<?, ?it/s]",
      "application/vnd.jupyter.widget-view+json": {
       "version_major": 2,
       "version_minor": 0,
       "model_id": "f517454bba63435f85c230c846fcf01c"
      }
     },
     "metadata": {},
     "output_type": "display_data"
    },
    {
     "data": {
      "text/plain": "  0%|          | 0/800 [00:00<?, ?it/s]",
      "application/vnd.jupyter.widget-view+json": {
       "version_major": 2,
       "version_minor": 0,
       "model_id": "973763759a434010b41e9f9815e7526b"
      }
     },
     "metadata": {},
     "output_type": "display_data"
    },
    {
     "data": {
      "text/plain": "  0%|          | 0/800 [00:00<?, ?it/s]",
      "application/vnd.jupyter.widget-view+json": {
       "version_major": 2,
       "version_minor": 0,
       "model_id": "3ae89145e52842cf868623029359b946"
      }
     },
     "metadata": {},
     "output_type": "display_data"
    },
    {
     "data": {
      "text/plain": "  0%|          | 0/800 [00:00<?, ?it/s]",
      "application/vnd.jupyter.widget-view+json": {
       "version_major": 2,
       "version_minor": 0,
       "model_id": "68e052095e344b678e0b4481f58c593f"
      }
     },
     "metadata": {},
     "output_type": "display_data"
    },
    {
     "data": {
      "text/plain": "  0%|          | 0/800 [00:00<?, ?it/s]",
      "application/vnd.jupyter.widget-view+json": {
       "version_major": 2,
       "version_minor": 0,
       "model_id": "7263a19b2b9f4408af4e7e5dfef796db"
      }
     },
     "metadata": {},
     "output_type": "display_data"
    },
    {
     "data": {
      "text/plain": "  0%|          | 0/800 [00:00<?, ?it/s]",
      "application/vnd.jupyter.widget-view+json": {
       "version_major": 2,
       "version_minor": 0,
       "model_id": "f0592bd018eb42beaa1885e96c016290"
      }
     },
     "metadata": {},
     "output_type": "display_data"
    },
    {
     "data": {
      "text/plain": "  0%|          | 0/800 [00:00<?, ?it/s]",
      "application/vnd.jupyter.widget-view+json": {
       "version_major": 2,
       "version_minor": 0,
       "model_id": "2d22a28ed19a4397857fb7ffd2794148"
      }
     },
     "metadata": {},
     "output_type": "display_data"
    },
    {
     "data": {
      "text/plain": "  0%|          | 0/800 [00:00<?, ?it/s]",
      "application/vnd.jupyter.widget-view+json": {
       "version_major": 2,
       "version_minor": 0,
       "model_id": "93c5097cace54cf8b3b412deca16a25a"
      }
     },
     "metadata": {},
     "output_type": "display_data"
    },
    {
     "data": {
      "text/plain": "  0%|          | 0/800 [00:00<?, ?it/s]",
      "application/vnd.jupyter.widget-view+json": {
       "version_major": 2,
       "version_minor": 0,
       "model_id": "c7464551666243b0b105225ed0437918"
      }
     },
     "metadata": {},
     "output_type": "display_data"
    },
    {
     "data": {
      "text/plain": "  0%|          | 0/800 [00:00<?, ?it/s]",
      "application/vnd.jupyter.widget-view+json": {
       "version_major": 2,
       "version_minor": 0,
       "model_id": "b7f4a7c0ead041148ba3a45c02b617bc"
      }
     },
     "metadata": {},
     "output_type": "display_data"
    },
    {
     "data": {
      "text/plain": "  0%|          | 0/800 [00:00<?, ?it/s]",
      "application/vnd.jupyter.widget-view+json": {
       "version_major": 2,
       "version_minor": 0,
       "model_id": "6518f51c96ed46f398f82968501438e7"
      }
     },
     "metadata": {},
     "output_type": "display_data"
    },
    {
     "data": {
      "text/plain": "  0%|          | 0/800 [00:00<?, ?it/s]",
      "application/vnd.jupyter.widget-view+json": {
       "version_major": 2,
       "version_minor": 0,
       "model_id": "16ae274092084a9ca8e4f85c514f67ca"
      }
     },
     "metadata": {},
     "output_type": "display_data"
    },
    {
     "data": {
      "text/plain": "  0%|          | 0/800 [00:00<?, ?it/s]",
      "application/vnd.jupyter.widget-view+json": {
       "version_major": 2,
       "version_minor": 0,
       "model_id": "9728b6d6e1b34287abce6f9fc6b6131f"
      }
     },
     "metadata": {},
     "output_type": "display_data"
    },
    {
     "data": {
      "text/plain": "  0%|          | 0/800 [00:00<?, ?it/s]",
      "application/vnd.jupyter.widget-view+json": {
       "version_major": 2,
       "version_minor": 0,
       "model_id": "a05a115daa2e455db7a173e9d0d5da82"
      }
     },
     "metadata": {},
     "output_type": "display_data"
    },
    {
     "data": {
      "text/plain": "  0%|          | 0/800 [00:00<?, ?it/s]",
      "application/vnd.jupyter.widget-view+json": {
       "version_major": 2,
       "version_minor": 0,
       "model_id": "4ab0a5fc0cce4965a7997a80723045d9"
      }
     },
     "metadata": {},
     "output_type": "display_data"
    },
    {
     "data": {
      "text/plain": "  0%|          | 0/800 [00:00<?, ?it/s]",
      "application/vnd.jupyter.widget-view+json": {
       "version_major": 2,
       "version_minor": 0,
       "model_id": "570d847cd5b6409fab1ee4fccb7a2e70"
      }
     },
     "metadata": {},
     "output_type": "display_data"
    },
    {
     "data": {
      "text/plain": "  0%|          | 0/800 [00:00<?, ?it/s]",
      "application/vnd.jupyter.widget-view+json": {
       "version_major": 2,
       "version_minor": 0,
       "model_id": "70bb33d0a3f240a9b0a086ef2d60016c"
      }
     },
     "metadata": {},
     "output_type": "display_data"
    },
    {
     "data": {
      "text/plain": "  0%|          | 0/800 [00:00<?, ?it/s]",
      "application/vnd.jupyter.widget-view+json": {
       "version_major": 2,
       "version_minor": 0,
       "model_id": "e5b01b65610949779a32cfd985dfca57"
      }
     },
     "metadata": {},
     "output_type": "display_data"
    },
    {
     "data": {
      "text/plain": "  0%|          | 0/800 [00:00<?, ?it/s]",
      "application/vnd.jupyter.widget-view+json": {
       "version_major": 2,
       "version_minor": 0,
       "model_id": "2da176c047674b0e8fbc2dc2905fb9b6"
      }
     },
     "metadata": {},
     "output_type": "display_data"
    },
    {
     "data": {
      "text/plain": "  0%|          | 0/800 [00:00<?, ?it/s]",
      "application/vnd.jupyter.widget-view+json": {
       "version_major": 2,
       "version_minor": 0,
       "model_id": "dd59d87de278417eb2c50dfc84776e3f"
      }
     },
     "metadata": {},
     "output_type": "display_data"
    },
    {
     "data": {
      "text/plain": "  0%|          | 0/800 [00:00<?, ?it/s]",
      "application/vnd.jupyter.widget-view+json": {
       "version_major": 2,
       "version_minor": 0,
       "model_id": "f2a28bdb286244c19c804d47589d9a59"
      }
     },
     "metadata": {},
     "output_type": "display_data"
    },
    {
     "data": {
      "text/plain": "  0%|          | 0/800 [00:00<?, ?it/s]",
      "application/vnd.jupyter.widget-view+json": {
       "version_major": 2,
       "version_minor": 0,
       "model_id": "04419e0005944e93ba382715c83ee278"
      }
     },
     "metadata": {},
     "output_type": "display_data"
    },
    {
     "data": {
      "text/plain": "  0%|          | 0/800 [00:00<?, ?it/s]",
      "application/vnd.jupyter.widget-view+json": {
       "version_major": 2,
       "version_minor": 0,
       "model_id": "2d1132d9ba644c86afe80bf756021271"
      }
     },
     "metadata": {},
     "output_type": "display_data"
    },
    {
     "data": {
      "text/plain": "  0%|          | 0/800 [00:00<?, ?it/s]",
      "application/vnd.jupyter.widget-view+json": {
       "version_major": 2,
       "version_minor": 0,
       "model_id": "14bccb438bcf41219a285ce90f1de021"
      }
     },
     "metadata": {},
     "output_type": "display_data"
    },
    {
     "data": {
      "text/plain": "  0%|          | 0/800 [00:00<?, ?it/s]",
      "application/vnd.jupyter.widget-view+json": {
       "version_major": 2,
       "version_minor": 0,
       "model_id": "b893648f0d094569875e3604542a8472"
      }
     },
     "metadata": {},
     "output_type": "display_data"
    },
    {
     "data": {
      "text/plain": "  0%|          | 0/800 [00:00<?, ?it/s]",
      "application/vnd.jupyter.widget-view+json": {
       "version_major": 2,
       "version_minor": 0,
       "model_id": "96e6e18417f94bb8a892915b1a70f327"
      }
     },
     "metadata": {},
     "output_type": "display_data"
    },
    {
     "data": {
      "text/plain": "  0%|          | 0/800 [00:00<?, ?it/s]",
      "application/vnd.jupyter.widget-view+json": {
       "version_major": 2,
       "version_minor": 0,
       "model_id": "bacde1a15aed435a81dcffcf68e52e41"
      }
     },
     "metadata": {},
     "output_type": "display_data"
    },
    {
     "data": {
      "text/plain": "  0%|          | 0/800 [00:00<?, ?it/s]",
      "application/vnd.jupyter.widget-view+json": {
       "version_major": 2,
       "version_minor": 0,
       "model_id": "b156ab15d8474f3cb0c658fce8cf5f40"
      }
     },
     "metadata": {},
     "output_type": "display_data"
    },
    {
     "data": {
      "text/plain": "  0%|          | 0/800 [00:00<?, ?it/s]",
      "application/vnd.jupyter.widget-view+json": {
       "version_major": 2,
       "version_minor": 0,
       "model_id": "611c8616b5b24847b53a440b8f40fe42"
      }
     },
     "metadata": {},
     "output_type": "display_data"
    },
    {
     "data": {
      "text/plain": "  0%|          | 0/800 [00:00<?, ?it/s]",
      "application/vnd.jupyter.widget-view+json": {
       "version_major": 2,
       "version_minor": 0,
       "model_id": "3beeded1260a44ed81de29923a8d9551"
      }
     },
     "metadata": {},
     "output_type": "display_data"
    },
    {
     "data": {
      "text/plain": "  0%|          | 0/800 [00:00<?, ?it/s]",
      "application/vnd.jupyter.widget-view+json": {
       "version_major": 2,
       "version_minor": 0,
       "model_id": "75b973d2b76e4a3fa6d086b2ccf25358"
      }
     },
     "metadata": {},
     "output_type": "display_data"
    },
    {
     "data": {
      "text/plain": "  0%|          | 0/800 [00:00<?, ?it/s]",
      "application/vnd.jupyter.widget-view+json": {
       "version_major": 2,
       "version_minor": 0,
       "model_id": "8be7e081a6d14df2afe6fe4a2090c414"
      }
     },
     "metadata": {},
     "output_type": "display_data"
    },
    {
     "data": {
      "text/plain": "  0%|          | 0/800 [00:00<?, ?it/s]",
      "application/vnd.jupyter.widget-view+json": {
       "version_major": 2,
       "version_minor": 0,
       "model_id": "8c4c019ba0714228abdacd49872f2f41"
      }
     },
     "metadata": {},
     "output_type": "display_data"
    },
    {
     "data": {
      "text/plain": "  0%|          | 0/800 [00:00<?, ?it/s]",
      "application/vnd.jupyter.widget-view+json": {
       "version_major": 2,
       "version_minor": 0,
       "model_id": "a64aa5a6017743edb8d760be06aee1b7"
      }
     },
     "metadata": {},
     "output_type": "display_data"
    },
    {
     "data": {
      "text/plain": "  0%|          | 0/800 [00:00<?, ?it/s]",
      "application/vnd.jupyter.widget-view+json": {
       "version_major": 2,
       "version_minor": 0,
       "model_id": "33afed13a1724d8aba26b032a78436d0"
      }
     },
     "metadata": {},
     "output_type": "display_data"
    },
    {
     "data": {
      "text/plain": "  0%|          | 0/800 [00:00<?, ?it/s]",
      "application/vnd.jupyter.widget-view+json": {
       "version_major": 2,
       "version_minor": 0,
       "model_id": "45d7ea3120ac49f0a08c077607b39c1e"
      }
     },
     "metadata": {},
     "output_type": "display_data"
    },
    {
     "data": {
      "text/plain": "  0%|          | 0/800 [00:00<?, ?it/s]",
      "application/vnd.jupyter.widget-view+json": {
       "version_major": 2,
       "version_minor": 0,
       "model_id": "bf44ece44b1c437297762fcd7a27ae62"
      }
     },
     "metadata": {},
     "output_type": "display_data"
    },
    {
     "data": {
      "text/plain": "  0%|          | 0/800 [00:00<?, ?it/s]",
      "application/vnd.jupyter.widget-view+json": {
       "version_major": 2,
       "version_minor": 0,
       "model_id": "19c6ccba5e7e4c69a5bcce879d98464b"
      }
     },
     "metadata": {},
     "output_type": "display_data"
    },
    {
     "data": {
      "text/plain": "  0%|          | 0/800 [00:00<?, ?it/s]",
      "application/vnd.jupyter.widget-view+json": {
       "version_major": 2,
       "version_minor": 0,
       "model_id": "8eeb1d2f24d14461aeeac2c7cce5c2ed"
      }
     },
     "metadata": {},
     "output_type": "display_data"
    },
    {
     "data": {
      "text/plain": "  0%|          | 0/800 [00:00<?, ?it/s]",
      "application/vnd.jupyter.widget-view+json": {
       "version_major": 2,
       "version_minor": 0,
       "model_id": "430f87fbdab54fbaa8c17f85e4f1eac4"
      }
     },
     "metadata": {},
     "output_type": "display_data"
    },
    {
     "data": {
      "text/plain": "  0%|          | 0/800 [00:00<?, ?it/s]",
      "application/vnd.jupyter.widget-view+json": {
       "version_major": 2,
       "version_minor": 0,
       "model_id": "f084447676a44e4797bc80572c106e81"
      }
     },
     "metadata": {},
     "output_type": "display_data"
    },
    {
     "data": {
      "text/plain": "  0%|          | 0/800 [00:00<?, ?it/s]",
      "application/vnd.jupyter.widget-view+json": {
       "version_major": 2,
       "version_minor": 0,
       "model_id": "1ea3e077c93e49ddb9e37432d57bde3b"
      }
     },
     "metadata": {},
     "output_type": "display_data"
    },
    {
     "data": {
      "text/plain": "  0%|          | 0/800 [00:00<?, ?it/s]",
      "application/vnd.jupyter.widget-view+json": {
       "version_major": 2,
       "version_minor": 0,
       "model_id": "a11a7dbedb244cb2b9f9802013841909"
      }
     },
     "metadata": {},
     "output_type": "display_data"
    },
    {
     "data": {
      "text/plain": "  0%|          | 0/800 [00:00<?, ?it/s]",
      "application/vnd.jupyter.widget-view+json": {
       "version_major": 2,
       "version_minor": 0,
       "model_id": "04db66c2d4994ceb83a67752e67b0a25"
      }
     },
     "metadata": {},
     "output_type": "display_data"
    },
    {
     "data": {
      "text/plain": "  0%|          | 0/800 [00:00<?, ?it/s]",
      "application/vnd.jupyter.widget-view+json": {
       "version_major": 2,
       "version_minor": 0,
       "model_id": "cec86f94d5c34bfb8719d4015e644cc7"
      }
     },
     "metadata": {},
     "output_type": "display_data"
    },
    {
     "data": {
      "text/plain": "  0%|          | 0/800 [00:00<?, ?it/s]",
      "application/vnd.jupyter.widget-view+json": {
       "version_major": 2,
       "version_minor": 0,
       "model_id": "743f6e0fb7f84998b035e18c7ed3161c"
      }
     },
     "metadata": {},
     "output_type": "display_data"
    },
    {
     "data": {
      "text/plain": "  0%|          | 0/800 [00:00<?, ?it/s]",
      "application/vnd.jupyter.widget-view+json": {
       "version_major": 2,
       "version_minor": 0,
       "model_id": "dac4afb15f1d4124b71381624ae734db"
      }
     },
     "metadata": {},
     "output_type": "display_data"
    },
    {
     "data": {
      "text/plain": "  0%|          | 0/800 [00:00<?, ?it/s]",
      "application/vnd.jupyter.widget-view+json": {
       "version_major": 2,
       "version_minor": 0,
       "model_id": "afc62e31ea6c438b82c77beba77210d6"
      }
     },
     "metadata": {},
     "output_type": "display_data"
    },
    {
     "data": {
      "text/plain": "  0%|          | 0/800 [00:00<?, ?it/s]",
      "application/vnd.jupyter.widget-view+json": {
       "version_major": 2,
       "version_minor": 0,
       "model_id": "dd0007afb90a4ea9911b549664ec1b89"
      }
     },
     "metadata": {},
     "output_type": "display_data"
    },
    {
     "data": {
      "text/plain": "  0%|          | 0/800 [00:00<?, ?it/s]",
      "application/vnd.jupyter.widget-view+json": {
       "version_major": 2,
       "version_minor": 0,
       "model_id": "da62305444cc48b797d587a88cc2011d"
      }
     },
     "metadata": {},
     "output_type": "display_data"
    },
    {
     "data": {
      "text/plain": "  0%|          | 0/800 [00:00<?, ?it/s]",
      "application/vnd.jupyter.widget-view+json": {
       "version_major": 2,
       "version_minor": 0,
       "model_id": "e2721fe52b574696a3374f304d598b60"
      }
     },
     "metadata": {},
     "output_type": "display_data"
    },
    {
     "data": {
      "text/plain": "  0%|          | 0/800 [00:00<?, ?it/s]",
      "application/vnd.jupyter.widget-view+json": {
       "version_major": 2,
       "version_minor": 0,
       "model_id": "6efa29a1d74549d29da3f8bd87f119f5"
      }
     },
     "metadata": {},
     "output_type": "display_data"
    },
    {
     "data": {
      "text/plain": "  0%|          | 0/800 [00:00<?, ?it/s]",
      "application/vnd.jupyter.widget-view+json": {
       "version_major": 2,
       "version_minor": 0,
       "model_id": "4d8cfe6134234559b0aa7712c2728c8e"
      }
     },
     "metadata": {},
     "output_type": "display_data"
    },
    {
     "data": {
      "text/plain": "  0%|          | 0/800 [00:00<?, ?it/s]",
      "application/vnd.jupyter.widget-view+json": {
       "version_major": 2,
       "version_minor": 0,
       "model_id": "02bd007eb2af4e90b1b228ff2c8c412e"
      }
     },
     "metadata": {},
     "output_type": "display_data"
    },
    {
     "data": {
      "text/plain": "  0%|          | 0/800 [00:00<?, ?it/s]",
      "application/vnd.jupyter.widget-view+json": {
       "version_major": 2,
       "version_minor": 0,
       "model_id": "79cfef61a83d4784bcdd0dbe651e9d67"
      }
     },
     "metadata": {},
     "output_type": "display_data"
    },
    {
     "data": {
      "text/plain": "  0%|          | 0/800 [00:00<?, ?it/s]",
      "application/vnd.jupyter.widget-view+json": {
       "version_major": 2,
       "version_minor": 0,
       "model_id": "e0ebeca2f0b1470c9769a50145af6f3b"
      }
     },
     "metadata": {},
     "output_type": "display_data"
    },
    {
     "data": {
      "text/plain": "  0%|          | 0/800 [00:00<?, ?it/s]",
      "application/vnd.jupyter.widget-view+json": {
       "version_major": 2,
       "version_minor": 0,
       "model_id": "23e636ccf0f24b778fbb84c90e7961f7"
      }
     },
     "metadata": {},
     "output_type": "display_data"
    },
    {
     "data": {
      "text/plain": "  0%|          | 0/800 [00:00<?, ?it/s]",
      "application/vnd.jupyter.widget-view+json": {
       "version_major": 2,
       "version_minor": 0,
       "model_id": "ea4d1ba957fa4a86a912c858fc4f9d86"
      }
     },
     "metadata": {},
     "output_type": "display_data"
    },
    {
     "data": {
      "text/plain": "  0%|          | 0/800 [00:00<?, ?it/s]",
      "application/vnd.jupyter.widget-view+json": {
       "version_major": 2,
       "version_minor": 0,
       "model_id": "98d7b7bcc8be435eae92695656b1e4b6"
      }
     },
     "metadata": {},
     "output_type": "display_data"
    },
    {
     "data": {
      "text/plain": "  0%|          | 0/800 [00:00<?, ?it/s]",
      "application/vnd.jupyter.widget-view+json": {
       "version_major": 2,
       "version_minor": 0,
       "model_id": "7a64dd5e8bbd40b691e8fa3c40860c7d"
      }
     },
     "metadata": {},
     "output_type": "display_data"
    },
    {
     "data": {
      "text/plain": "  0%|          | 0/800 [00:00<?, ?it/s]",
      "application/vnd.jupyter.widget-view+json": {
       "version_major": 2,
       "version_minor": 0,
       "model_id": "7bcd69bfdd484f6b9d73459fcd05aeb5"
      }
     },
     "metadata": {},
     "output_type": "display_data"
    },
    {
     "data": {
      "text/plain": "  0%|          | 0/800 [00:00<?, ?it/s]",
      "application/vnd.jupyter.widget-view+json": {
       "version_major": 2,
       "version_minor": 0,
       "model_id": "497038b97d3a47a4aae038451d1844fa"
      }
     },
     "metadata": {},
     "output_type": "display_data"
    },
    {
     "data": {
      "text/plain": "  0%|          | 0/800 [00:00<?, ?it/s]",
      "application/vnd.jupyter.widget-view+json": {
       "version_major": 2,
       "version_minor": 0,
       "model_id": "ca8a0a793eee4692af82a8679ddf11c0"
      }
     },
     "metadata": {},
     "output_type": "display_data"
    },
    {
     "data": {
      "text/plain": "  0%|          | 0/800 [00:00<?, ?it/s]",
      "application/vnd.jupyter.widget-view+json": {
       "version_major": 2,
       "version_minor": 0,
       "model_id": "19dd31121ae847be80f8f1a7163ee92d"
      }
     },
     "metadata": {},
     "output_type": "display_data"
    },
    {
     "data": {
      "text/plain": "  0%|          | 0/800 [00:00<?, ?it/s]",
      "application/vnd.jupyter.widget-view+json": {
       "version_major": 2,
       "version_minor": 0,
       "model_id": "0291bcbe7a7f40c99ecbf6afdccca63f"
      }
     },
     "metadata": {},
     "output_type": "display_data"
    },
    {
     "data": {
      "text/plain": "  0%|          | 0/800 [00:00<?, ?it/s]",
      "application/vnd.jupyter.widget-view+json": {
       "version_major": 2,
       "version_minor": 0,
       "model_id": "6fa8f0b890e64306a97998575bc8332a"
      }
     },
     "metadata": {},
     "output_type": "display_data"
    },
    {
     "data": {
      "text/plain": "  0%|          | 0/800 [00:00<?, ?it/s]",
      "application/vnd.jupyter.widget-view+json": {
       "version_major": 2,
       "version_minor": 0,
       "model_id": "662cd12b245a4ef096a689a2b1a46db0"
      }
     },
     "metadata": {},
     "output_type": "display_data"
    },
    {
     "data": {
      "text/plain": "  0%|          | 0/800 [00:00<?, ?it/s]",
      "application/vnd.jupyter.widget-view+json": {
       "version_major": 2,
       "version_minor": 0,
       "model_id": "afbb41b366554007a7a533f88e4efafe"
      }
     },
     "metadata": {},
     "output_type": "display_data"
    },
    {
     "data": {
      "text/plain": "  0%|          | 0/800 [00:00<?, ?it/s]",
      "application/vnd.jupyter.widget-view+json": {
       "version_major": 2,
       "version_minor": 0,
       "model_id": "b35723c184dc4ebb8eb344dba28d3262"
      }
     },
     "metadata": {},
     "output_type": "display_data"
    },
    {
     "data": {
      "text/plain": "  0%|          | 0/800 [00:00<?, ?it/s]",
      "application/vnd.jupyter.widget-view+json": {
       "version_major": 2,
       "version_minor": 0,
       "model_id": "ab732cf7bfbf4bf18393175be413f9d4"
      }
     },
     "metadata": {},
     "output_type": "display_data"
    },
    {
     "data": {
      "text/plain": "  0%|          | 0/800 [00:00<?, ?it/s]",
      "application/vnd.jupyter.widget-view+json": {
       "version_major": 2,
       "version_minor": 0,
       "model_id": "e9ca16edbe8241eda8b3daf873b35d37"
      }
     },
     "metadata": {},
     "output_type": "display_data"
    },
    {
     "data": {
      "text/plain": "  0%|          | 0/800 [00:00<?, ?it/s]",
      "application/vnd.jupyter.widget-view+json": {
       "version_major": 2,
       "version_minor": 0,
       "model_id": "b60b585db0444a02abff6d1e0cf6f999"
      }
     },
     "metadata": {},
     "output_type": "display_data"
    },
    {
     "data": {
      "text/plain": "  0%|          | 0/800 [00:00<?, ?it/s]",
      "application/vnd.jupyter.widget-view+json": {
       "version_major": 2,
       "version_minor": 0,
       "model_id": "85ed421ff58d4fd6879bb010a90558a9"
      }
     },
     "metadata": {},
     "output_type": "display_data"
    },
    {
     "data": {
      "text/plain": "  0%|          | 0/800 [00:00<?, ?it/s]",
      "application/vnd.jupyter.widget-view+json": {
       "version_major": 2,
       "version_minor": 0,
       "model_id": "f7b0e2864f4f42aaa3652adb9dd9fd06"
      }
     },
     "metadata": {},
     "output_type": "display_data"
    },
    {
     "data": {
      "text/plain": "  0%|          | 0/800 [00:00<?, ?it/s]",
      "application/vnd.jupyter.widget-view+json": {
       "version_major": 2,
       "version_minor": 0,
       "model_id": "f3281b8cb2e34594bd75110fe6376699"
      }
     },
     "metadata": {},
     "output_type": "display_data"
    },
    {
     "data": {
      "text/plain": "  0%|          | 0/800 [00:00<?, ?it/s]",
      "application/vnd.jupyter.widget-view+json": {
       "version_major": 2,
       "version_minor": 0,
       "model_id": "09d27f261b9c4b8e90ab3ebcbae444c7"
      }
     },
     "metadata": {},
     "output_type": "display_data"
    },
    {
     "data": {
      "text/plain": "  0%|          | 0/800 [00:00<?, ?it/s]",
      "application/vnd.jupyter.widget-view+json": {
       "version_major": 2,
       "version_minor": 0,
       "model_id": "95ac247d550d46858163f331e67a9110"
      }
     },
     "metadata": {},
     "output_type": "display_data"
    },
    {
     "data": {
      "text/plain": "  0%|          | 0/800 [00:00<?, ?it/s]",
      "application/vnd.jupyter.widget-view+json": {
       "version_major": 2,
       "version_minor": 0,
       "model_id": "2ff7caba6beb4dabb075696b2bff12c4"
      }
     },
     "metadata": {},
     "output_type": "display_data"
    },
    {
     "data": {
      "text/plain": "  0%|          | 0/800 [00:00<?, ?it/s]",
      "application/vnd.jupyter.widget-view+json": {
       "version_major": 2,
       "version_minor": 0,
       "model_id": "3f82f98dce1045e38ffcaa229b62f70a"
      }
     },
     "metadata": {},
     "output_type": "display_data"
    },
    {
     "data": {
      "text/plain": "  0%|          | 0/800 [00:00<?, ?it/s]",
      "application/vnd.jupyter.widget-view+json": {
       "version_major": 2,
       "version_minor": 0,
       "model_id": "b5f2628d690646cc88723d9315246602"
      }
     },
     "metadata": {},
     "output_type": "display_data"
    },
    {
     "data": {
      "text/plain": "  0%|          | 0/800 [00:00<?, ?it/s]",
      "application/vnd.jupyter.widget-view+json": {
       "version_major": 2,
       "version_minor": 0,
       "model_id": "b2025270192546679962bd8de35e9ebd"
      }
     },
     "metadata": {},
     "output_type": "display_data"
    },
    {
     "data": {
      "text/plain": "  0%|          | 0/800 [00:00<?, ?it/s]",
      "application/vnd.jupyter.widget-view+json": {
       "version_major": 2,
       "version_minor": 0,
       "model_id": "ef365cb30e314d8186aaaad0c8e10f4a"
      }
     },
     "metadata": {},
     "output_type": "display_data"
    },
    {
     "data": {
      "text/plain": "  0%|          | 0/800 [00:00<?, ?it/s]",
      "application/vnd.jupyter.widget-view+json": {
       "version_major": 2,
       "version_minor": 0,
       "model_id": "5aeb6776917946d385d0570236be8d3b"
      }
     },
     "metadata": {},
     "output_type": "display_data"
    },
    {
     "data": {
      "text/plain": "  0%|          | 0/800 [00:00<?, ?it/s]",
      "application/vnd.jupyter.widget-view+json": {
       "version_major": 2,
       "version_minor": 0,
       "model_id": "1cb2e64b93b54280a454a4a6bdf33baf"
      }
     },
     "metadata": {},
     "output_type": "display_data"
    },
    {
     "data": {
      "text/plain": "  0%|          | 0/800 [00:00<?, ?it/s]",
      "application/vnd.jupyter.widget-view+json": {
       "version_major": 2,
       "version_minor": 0,
       "model_id": "f2f51eabc47746d18aa9bf3008ae21dc"
      }
     },
     "metadata": {},
     "output_type": "display_data"
    },
    {
     "data": {
      "text/plain": "  0%|          | 0/800 [00:00<?, ?it/s]",
      "application/vnd.jupyter.widget-view+json": {
       "version_major": 2,
       "version_minor": 0,
       "model_id": "1a8f8d57e47043ecbf7e3ba9f2c137fb"
      }
     },
     "metadata": {},
     "output_type": "display_data"
    },
    {
     "data": {
      "text/plain": "  0%|          | 0/800 [00:00<?, ?it/s]",
      "application/vnd.jupyter.widget-view+json": {
       "version_major": 2,
       "version_minor": 0,
       "model_id": "b1a826a3b88441a08036d96994609efb"
      }
     },
     "metadata": {},
     "output_type": "display_data"
    },
    {
     "data": {
      "text/plain": "  0%|          | 0/800 [00:00<?, ?it/s]",
      "application/vnd.jupyter.widget-view+json": {
       "version_major": 2,
       "version_minor": 0,
       "model_id": "96be703079994538b90999222e680ec5"
      }
     },
     "metadata": {},
     "output_type": "display_data"
    },
    {
     "data": {
      "text/plain": "  0%|          | 0/800 [00:00<?, ?it/s]",
      "application/vnd.jupyter.widget-view+json": {
       "version_major": 2,
       "version_minor": 0,
       "model_id": "0c5a4be4642b45f7bc05f07e3f1d73e8"
      }
     },
     "metadata": {},
     "output_type": "display_data"
    },
    {
     "data": {
      "text/plain": "  0%|          | 0/800 [00:00<?, ?it/s]",
      "application/vnd.jupyter.widget-view+json": {
       "version_major": 2,
       "version_minor": 0,
       "model_id": "ffb1f450437e40729b9d640bcc4f595f"
      }
     },
     "metadata": {},
     "output_type": "display_data"
    },
    {
     "data": {
      "text/plain": "  0%|          | 0/800 [00:00<?, ?it/s]",
      "application/vnd.jupyter.widget-view+json": {
       "version_major": 2,
       "version_minor": 0,
       "model_id": "1df7ec9d849b43e5b6bbbd22ef0c0d77"
      }
     },
     "metadata": {},
     "output_type": "display_data"
    },
    {
     "data": {
      "text/plain": "  0%|          | 0/800 [00:00<?, ?it/s]",
      "application/vnd.jupyter.widget-view+json": {
       "version_major": 2,
       "version_minor": 0,
       "model_id": "5399624e062f486ab25075bcabd4095c"
      }
     },
     "metadata": {},
     "output_type": "display_data"
    },
    {
     "data": {
      "text/plain": "  0%|          | 0/800 [00:00<?, ?it/s]",
      "application/vnd.jupyter.widget-view+json": {
       "version_major": 2,
       "version_minor": 0,
       "model_id": "9496b02114f548bcb12c73927d1e183a"
      }
     },
     "metadata": {},
     "output_type": "display_data"
    },
    {
     "data": {
      "text/plain": "  0%|          | 0/800 [00:00<?, ?it/s]",
      "application/vnd.jupyter.widget-view+json": {
       "version_major": 2,
       "version_minor": 0,
       "model_id": "34e754dd86254a9799b5dc9f9e57734b"
      }
     },
     "metadata": {},
     "output_type": "display_data"
    },
    {
     "data": {
      "text/plain": "  0%|          | 0/800 [00:00<?, ?it/s]",
      "application/vnd.jupyter.widget-view+json": {
       "version_major": 2,
       "version_minor": 0,
       "model_id": "af96ae66c7614eb0963073ff92c90478"
      }
     },
     "metadata": {},
     "output_type": "display_data"
    },
    {
     "data": {
      "text/plain": "  0%|          | 0/800 [00:00<?, ?it/s]",
      "application/vnd.jupyter.widget-view+json": {
       "version_major": 2,
       "version_minor": 0,
       "model_id": "6818d0ec529545adbce1182374153a44"
      }
     },
     "metadata": {},
     "output_type": "display_data"
    },
    {
     "data": {
      "text/plain": "  0%|          | 0/800 [00:00<?, ?it/s]",
      "application/vnd.jupyter.widget-view+json": {
       "version_major": 2,
       "version_minor": 0,
       "model_id": "0c4d1f7b11c14571a3688f5a87c92cfd"
      }
     },
     "metadata": {},
     "output_type": "display_data"
    },
    {
     "data": {
      "text/plain": "  0%|          | 0/800 [00:00<?, ?it/s]",
      "application/vnd.jupyter.widget-view+json": {
       "version_major": 2,
       "version_minor": 0,
       "model_id": "4379b580247945c68ad956b764bf43b7"
      }
     },
     "metadata": {},
     "output_type": "display_data"
    },
    {
     "data": {
      "text/plain": "  0%|          | 0/800 [00:00<?, ?it/s]",
      "application/vnd.jupyter.widget-view+json": {
       "version_major": 2,
       "version_minor": 0,
       "model_id": "e7543ec2878448e6bc4abf1236945529"
      }
     },
     "metadata": {},
     "output_type": "display_data"
    },
    {
     "data": {
      "text/plain": "  0%|          | 0/800 [00:00<?, ?it/s]",
      "application/vnd.jupyter.widget-view+json": {
       "version_major": 2,
       "version_minor": 0,
       "model_id": "ce3db0d7f56a45a6ada7a91bb4e771b2"
      }
     },
     "metadata": {},
     "output_type": "display_data"
    },
    {
     "data": {
      "text/plain": "  0%|          | 0/800 [00:00<?, ?it/s]",
      "application/vnd.jupyter.widget-view+json": {
       "version_major": 2,
       "version_minor": 0,
       "model_id": "4eae9309e4fd4d9ab98fd01a5f64d811"
      }
     },
     "metadata": {},
     "output_type": "display_data"
    },
    {
     "data": {
      "text/plain": "  0%|          | 0/800 [00:00<?, ?it/s]",
      "application/vnd.jupyter.widget-view+json": {
       "version_major": 2,
       "version_minor": 0,
       "model_id": "7edf239e78d449b6992e788ef34bea56"
      }
     },
     "metadata": {},
     "output_type": "display_data"
    },
    {
     "data": {
      "text/plain": "  0%|          | 0/800 [00:00<?, ?it/s]",
      "application/vnd.jupyter.widget-view+json": {
       "version_major": 2,
       "version_minor": 0,
       "model_id": "303a1bd38b4d4f07811403eb6eb08037"
      }
     },
     "metadata": {},
     "output_type": "display_data"
    },
    {
     "data": {
      "text/plain": "  0%|          | 0/800 [00:00<?, ?it/s]",
      "application/vnd.jupyter.widget-view+json": {
       "version_major": 2,
       "version_minor": 0,
       "model_id": "056f05625fef413bb264e610d53f7b70"
      }
     },
     "metadata": {},
     "output_type": "display_data"
    },
    {
     "data": {
      "text/plain": "  0%|          | 0/800 [00:00<?, ?it/s]",
      "application/vnd.jupyter.widget-view+json": {
       "version_major": 2,
       "version_minor": 0,
       "model_id": "91f50bc24ebf46ceb3425a8493262398"
      }
     },
     "metadata": {},
     "output_type": "display_data"
    },
    {
     "data": {
      "text/plain": "  0%|          | 0/800 [00:00<?, ?it/s]",
      "application/vnd.jupyter.widget-view+json": {
       "version_major": 2,
       "version_minor": 0,
       "model_id": "acf11330158d44458d49c052961ab1ce"
      }
     },
     "metadata": {},
     "output_type": "display_data"
    },
    {
     "data": {
      "text/plain": "  0%|          | 0/800 [00:00<?, ?it/s]",
      "application/vnd.jupyter.widget-view+json": {
       "version_major": 2,
       "version_minor": 0,
       "model_id": "332706d0b7cf419383a1cd00b039d2b1"
      }
     },
     "metadata": {},
     "output_type": "display_data"
    },
    {
     "data": {
      "text/plain": "  0%|          | 0/800 [00:00<?, ?it/s]",
      "application/vnd.jupyter.widget-view+json": {
       "version_major": 2,
       "version_minor": 0,
       "model_id": "38f26def736d4cbf92419436a3def6eb"
      }
     },
     "metadata": {},
     "output_type": "display_data"
    },
    {
     "data": {
      "text/plain": "  0%|          | 0/800 [00:00<?, ?it/s]",
      "application/vnd.jupyter.widget-view+json": {
       "version_major": 2,
       "version_minor": 0,
       "model_id": "16e484eebe1c406d8bb637569172d453"
      }
     },
     "metadata": {},
     "output_type": "display_data"
    },
    {
     "data": {
      "text/plain": "  0%|          | 0/800 [00:00<?, ?it/s]",
      "application/vnd.jupyter.widget-view+json": {
       "version_major": 2,
       "version_minor": 0,
       "model_id": "5b6c6926644f4e2caaa1f24f130570fc"
      }
     },
     "metadata": {},
     "output_type": "display_data"
    },
    {
     "data": {
      "text/plain": "  0%|          | 0/800 [00:00<?, ?it/s]",
      "application/vnd.jupyter.widget-view+json": {
       "version_major": 2,
       "version_minor": 0,
       "model_id": "48827cd4b9ba4858bfdc7eed1382348f"
      }
     },
     "metadata": {},
     "output_type": "display_data"
    },
    {
     "data": {
      "text/plain": "  0%|          | 0/800 [00:00<?, ?it/s]",
      "application/vnd.jupyter.widget-view+json": {
       "version_major": 2,
       "version_minor": 0,
       "model_id": "e461b65ea9e442d8a5b6e4488223fa33"
      }
     },
     "metadata": {},
     "output_type": "display_data"
    },
    {
     "data": {
      "text/plain": "  0%|          | 0/800 [00:00<?, ?it/s]",
      "application/vnd.jupyter.widget-view+json": {
       "version_major": 2,
       "version_minor": 0,
       "model_id": "5406740e7b2d4a32a124126c0037ebd2"
      }
     },
     "metadata": {},
     "output_type": "display_data"
    },
    {
     "data": {
      "text/plain": "  0%|          | 0/800 [00:00<?, ?it/s]",
      "application/vnd.jupyter.widget-view+json": {
       "version_major": 2,
       "version_minor": 0,
       "model_id": "79bf66cae1584171ad5da35b51863ec0"
      }
     },
     "metadata": {},
     "output_type": "display_data"
    },
    {
     "data": {
      "text/plain": "  0%|          | 0/800 [00:00<?, ?it/s]",
      "application/vnd.jupyter.widget-view+json": {
       "version_major": 2,
       "version_minor": 0,
       "model_id": "dd5cbf4c2ee34620b5513d047642f9dc"
      }
     },
     "metadata": {},
     "output_type": "display_data"
    },
    {
     "data": {
      "text/plain": "  0%|          | 0/800 [00:00<?, ?it/s]",
      "application/vnd.jupyter.widget-view+json": {
       "version_major": 2,
       "version_minor": 0,
       "model_id": "674e608884974e9c89594c5de9d1c6b5"
      }
     },
     "metadata": {},
     "output_type": "display_data"
    },
    {
     "data": {
      "text/plain": "  0%|          | 0/800 [00:00<?, ?it/s]",
      "application/vnd.jupyter.widget-view+json": {
       "version_major": 2,
       "version_minor": 0,
       "model_id": "f3bbeb21f5e543dfb0b18959ba00330b"
      }
     },
     "metadata": {},
     "output_type": "display_data"
    },
    {
     "data": {
      "text/plain": "  0%|          | 0/800 [00:00<?, ?it/s]",
      "application/vnd.jupyter.widget-view+json": {
       "version_major": 2,
       "version_minor": 0,
       "model_id": "91e9bdcecfe344068bec90f6b1c6ebd4"
      }
     },
     "metadata": {},
     "output_type": "display_data"
    },
    {
     "data": {
      "text/plain": "  0%|          | 0/800 [00:00<?, ?it/s]",
      "application/vnd.jupyter.widget-view+json": {
       "version_major": 2,
       "version_minor": 0,
       "model_id": "24fc4a705911449c8c69c64f11edf329"
      }
     },
     "metadata": {},
     "output_type": "display_data"
    },
    {
     "data": {
      "text/plain": "  0%|          | 0/800 [00:00<?, ?it/s]",
      "application/vnd.jupyter.widget-view+json": {
       "version_major": 2,
       "version_minor": 0,
       "model_id": "92e654a6aba044e98ab195061a2ef0df"
      }
     },
     "metadata": {},
     "output_type": "display_data"
    },
    {
     "data": {
      "text/plain": "  0%|          | 0/800 [00:00<?, ?it/s]",
      "application/vnd.jupyter.widget-view+json": {
       "version_major": 2,
       "version_minor": 0,
       "model_id": "b63c598aad7c4a70a2ee1462bdf47083"
      }
     },
     "metadata": {},
     "output_type": "display_data"
    },
    {
     "data": {
      "text/plain": "  0%|          | 0/800 [00:00<?, ?it/s]",
      "application/vnd.jupyter.widget-view+json": {
       "version_major": 2,
       "version_minor": 0,
       "model_id": "6808094a304f4c78adaa0e99cb403151"
      }
     },
     "metadata": {},
     "output_type": "display_data"
    },
    {
     "data": {
      "text/plain": "  0%|          | 0/800 [00:00<?, ?it/s]",
      "application/vnd.jupyter.widget-view+json": {
       "version_major": 2,
       "version_minor": 0,
       "model_id": "bda3540093b64c3b873227b708551866"
      }
     },
     "metadata": {},
     "output_type": "display_data"
    },
    {
     "data": {
      "text/plain": "  0%|          | 0/800 [00:00<?, ?it/s]",
      "application/vnd.jupyter.widget-view+json": {
       "version_major": 2,
       "version_minor": 0,
       "model_id": "ecd28bb3555f454e9171572aedac113a"
      }
     },
     "metadata": {},
     "output_type": "display_data"
    },
    {
     "data": {
      "text/plain": "  0%|          | 0/800 [00:00<?, ?it/s]",
      "application/vnd.jupyter.widget-view+json": {
       "version_major": 2,
       "version_minor": 0,
       "model_id": "ecd97609fe734213ad39e066cb1f9553"
      }
     },
     "metadata": {},
     "output_type": "display_data"
    },
    {
     "data": {
      "text/plain": "  0%|          | 0/800 [00:00<?, ?it/s]",
      "application/vnd.jupyter.widget-view+json": {
       "version_major": 2,
       "version_minor": 0,
       "model_id": "f7bc366a5d884c02a6167ec4d009d7e2"
      }
     },
     "metadata": {},
     "output_type": "display_data"
    },
    {
     "data": {
      "text/plain": "  0%|          | 0/800 [00:00<?, ?it/s]",
      "application/vnd.jupyter.widget-view+json": {
       "version_major": 2,
       "version_minor": 0,
       "model_id": "60e85f6435b949d4bdb79f22eb1a1316"
      }
     },
     "metadata": {},
     "output_type": "display_data"
    },
    {
     "data": {
      "text/plain": "  0%|          | 0/800 [00:00<?, ?it/s]",
      "application/vnd.jupyter.widget-view+json": {
       "version_major": 2,
       "version_minor": 0,
       "model_id": "42c7316e591a41ebba14514c854989bc"
      }
     },
     "metadata": {},
     "output_type": "display_data"
    },
    {
     "data": {
      "text/plain": "  0%|          | 0/800 [00:00<?, ?it/s]",
      "application/vnd.jupyter.widget-view+json": {
       "version_major": 2,
       "version_minor": 0,
       "model_id": "b76f91f6e4a14d47a34fe6b3c98d028a"
      }
     },
     "metadata": {},
     "output_type": "display_data"
    },
    {
     "data": {
      "text/plain": "  0%|          | 0/800 [00:00<?, ?it/s]",
      "application/vnd.jupyter.widget-view+json": {
       "version_major": 2,
       "version_minor": 0,
       "model_id": "cd14d3b3e5f04ee0ac2a6e0dd53f931d"
      }
     },
     "metadata": {},
     "output_type": "display_data"
    },
    {
     "data": {
      "text/plain": "  0%|          | 0/800 [00:00<?, ?it/s]",
      "application/vnd.jupyter.widget-view+json": {
       "version_major": 2,
       "version_minor": 0,
       "model_id": "830b15b581ef44a3b0a3607096d7b655"
      }
     },
     "metadata": {},
     "output_type": "display_data"
    },
    {
     "data": {
      "text/plain": "  0%|          | 0/800 [00:00<?, ?it/s]",
      "application/vnd.jupyter.widget-view+json": {
       "version_major": 2,
       "version_minor": 0,
       "model_id": "a537700861c84919b4968226a64ff241"
      }
     },
     "metadata": {},
     "output_type": "display_data"
    },
    {
     "data": {
      "text/plain": "  0%|          | 0/800 [00:00<?, ?it/s]",
      "application/vnd.jupyter.widget-view+json": {
       "version_major": 2,
       "version_minor": 0,
       "model_id": "80a504c9539542f2ab7099505ecf23a2"
      }
     },
     "metadata": {},
     "output_type": "display_data"
    },
    {
     "data": {
      "text/plain": "  0%|          | 0/800 [00:00<?, ?it/s]",
      "application/vnd.jupyter.widget-view+json": {
       "version_major": 2,
       "version_minor": 0,
       "model_id": "5f1daee6bff54e8b92e28c0d88a71b34"
      }
     },
     "metadata": {},
     "output_type": "display_data"
    },
    {
     "data": {
      "text/plain": "  0%|          | 0/800 [00:00<?, ?it/s]",
      "application/vnd.jupyter.widget-view+json": {
       "version_major": 2,
       "version_minor": 0,
       "model_id": "bb0401c4b2d54ed28571d7c85763638c"
      }
     },
     "metadata": {},
     "output_type": "display_data"
    },
    {
     "data": {
      "text/plain": "  0%|          | 0/800 [00:00<?, ?it/s]",
      "application/vnd.jupyter.widget-view+json": {
       "version_major": 2,
       "version_minor": 0,
       "model_id": "75d1acf6c57d43c7a0057203a523e568"
      }
     },
     "metadata": {},
     "output_type": "display_data"
    },
    {
     "data": {
      "text/plain": "  0%|          | 0/800 [00:00<?, ?it/s]",
      "application/vnd.jupyter.widget-view+json": {
       "version_major": 2,
       "version_minor": 0,
       "model_id": "2af3cf42289a429c97a6ca2b81818ee9"
      }
     },
     "metadata": {},
     "output_type": "display_data"
    },
    {
     "data": {
      "text/plain": "  0%|          | 0/800 [00:00<?, ?it/s]",
      "application/vnd.jupyter.widget-view+json": {
       "version_major": 2,
       "version_minor": 0,
       "model_id": "5b80946be9214ae9a97845f5d1a7e2ee"
      }
     },
     "metadata": {},
     "output_type": "display_data"
    },
    {
     "data": {
      "text/plain": "  0%|          | 0/800 [00:00<?, ?it/s]",
      "application/vnd.jupyter.widget-view+json": {
       "version_major": 2,
       "version_minor": 0,
       "model_id": "0598ac574ab54ce1bc463b73d0328d62"
      }
     },
     "metadata": {},
     "output_type": "display_data"
    },
    {
     "data": {
      "text/plain": "  0%|          | 0/800 [00:00<?, ?it/s]",
      "application/vnd.jupyter.widget-view+json": {
       "version_major": 2,
       "version_minor": 0,
       "model_id": "c31951dbf0bf477dbfae665c1df2dc95"
      }
     },
     "metadata": {},
     "output_type": "display_data"
    },
    {
     "data": {
      "text/plain": "  0%|          | 0/800 [00:00<?, ?it/s]",
      "application/vnd.jupyter.widget-view+json": {
       "version_major": 2,
       "version_minor": 0,
       "model_id": "5ea3dc55aee34f68b25ac5edeb29207a"
      }
     },
     "metadata": {},
     "output_type": "display_data"
    },
    {
     "data": {
      "text/plain": "  0%|          | 0/800 [00:00<?, ?it/s]",
      "application/vnd.jupyter.widget-view+json": {
       "version_major": 2,
       "version_minor": 0,
       "model_id": "f7b28da5ec1d420e8f30d4bab64869fa"
      }
     },
     "metadata": {},
     "output_type": "display_data"
    },
    {
     "data": {
      "text/plain": "  0%|          | 0/800 [00:00<?, ?it/s]",
      "application/vnd.jupyter.widget-view+json": {
       "version_major": 2,
       "version_minor": 0,
       "model_id": "2110cc88b0284f22a6986635076f730b"
      }
     },
     "metadata": {},
     "output_type": "display_data"
    },
    {
     "data": {
      "text/plain": "  0%|          | 0/800 [00:00<?, ?it/s]",
      "application/vnd.jupyter.widget-view+json": {
       "version_major": 2,
       "version_minor": 0,
       "model_id": "410df8aa012c4bf5a083774c8c4b5912"
      }
     },
     "metadata": {},
     "output_type": "display_data"
    },
    {
     "data": {
      "text/plain": "  0%|          | 0/800 [00:00<?, ?it/s]",
      "application/vnd.jupyter.widget-view+json": {
       "version_major": 2,
       "version_minor": 0,
       "model_id": "a7cab46dce684b92ac5327aea2f34535"
      }
     },
     "metadata": {},
     "output_type": "display_data"
    },
    {
     "data": {
      "text/plain": "  0%|          | 0/800 [00:00<?, ?it/s]",
      "application/vnd.jupyter.widget-view+json": {
       "version_major": 2,
       "version_minor": 0,
       "model_id": "08275bd2900f481f97f74ef70915b2ad"
      }
     },
     "metadata": {},
     "output_type": "display_data"
    },
    {
     "data": {
      "text/plain": "  0%|          | 0/800 [00:00<?, ?it/s]",
      "application/vnd.jupyter.widget-view+json": {
       "version_major": 2,
       "version_minor": 0,
       "model_id": "3785d56c349f46d6bdf82b3a31ff176f"
      }
     },
     "metadata": {},
     "output_type": "display_data"
    },
    {
     "data": {
      "text/plain": "  0%|          | 0/800 [00:00<?, ?it/s]",
      "application/vnd.jupyter.widget-view+json": {
       "version_major": 2,
       "version_minor": 0,
       "model_id": "6c34bbbb10cd49daa8b7c2f8e842ff28"
      }
     },
     "metadata": {},
     "output_type": "display_data"
    },
    {
     "data": {
      "text/plain": "  0%|          | 0/800 [00:00<?, ?it/s]",
      "application/vnd.jupyter.widget-view+json": {
       "version_major": 2,
       "version_minor": 0,
       "model_id": "c15bb973a6714a278261527a3bde2d76"
      }
     },
     "metadata": {},
     "output_type": "display_data"
    },
    {
     "data": {
      "text/plain": "  0%|          | 0/800 [00:00<?, ?it/s]",
      "application/vnd.jupyter.widget-view+json": {
       "version_major": 2,
       "version_minor": 0,
       "model_id": "d733994facb54cd4883d7c9a2503926b"
      }
     },
     "metadata": {},
     "output_type": "display_data"
    },
    {
     "data": {
      "text/plain": "  0%|          | 0/800 [00:00<?, ?it/s]",
      "application/vnd.jupyter.widget-view+json": {
       "version_major": 2,
       "version_minor": 0,
       "model_id": "706b3582502841ad8f814c8009c590f1"
      }
     },
     "metadata": {},
     "output_type": "display_data"
    },
    {
     "data": {
      "text/plain": "  0%|          | 0/800 [00:00<?, ?it/s]",
      "application/vnd.jupyter.widget-view+json": {
       "version_major": 2,
       "version_minor": 0,
       "model_id": "a9e893365ca2477393cf3df6beaa8ec2"
      }
     },
     "metadata": {},
     "output_type": "display_data"
    },
    {
     "data": {
      "text/plain": "  0%|          | 0/800 [00:00<?, ?it/s]",
      "application/vnd.jupyter.widget-view+json": {
       "version_major": 2,
       "version_minor": 0,
       "model_id": "a92c07e379af4899a38b78b11c68fca6"
      }
     },
     "metadata": {},
     "output_type": "display_data"
    },
    {
     "data": {
      "text/plain": "  0%|          | 0/800 [00:00<?, ?it/s]",
      "application/vnd.jupyter.widget-view+json": {
       "version_major": 2,
       "version_minor": 0,
       "model_id": "79b1f6816a4f41bdbfa93ca9340a1bc1"
      }
     },
     "metadata": {},
     "output_type": "display_data"
    },
    {
     "data": {
      "text/plain": "  0%|          | 0/800 [00:00<?, ?it/s]",
      "application/vnd.jupyter.widget-view+json": {
       "version_major": 2,
       "version_minor": 0,
       "model_id": "0aa5fc6d08d344e0abf88c739d0b67e2"
      }
     },
     "metadata": {},
     "output_type": "display_data"
    },
    {
     "data": {
      "text/plain": "  0%|          | 0/800 [00:00<?, ?it/s]",
      "application/vnd.jupyter.widget-view+json": {
       "version_major": 2,
       "version_minor": 0,
       "model_id": "b0cdfa6679ba444fa48f2b6d3b101d3a"
      }
     },
     "metadata": {},
     "output_type": "display_data"
    },
    {
     "data": {
      "text/plain": "  0%|          | 0/800 [00:00<?, ?it/s]",
      "application/vnd.jupyter.widget-view+json": {
       "version_major": 2,
       "version_minor": 0,
       "model_id": "95878ece9d634d9fa8dc9c28b6f75559"
      }
     },
     "metadata": {},
     "output_type": "display_data"
    },
    {
     "data": {
      "text/plain": "  0%|          | 0/800 [00:00<?, ?it/s]",
      "application/vnd.jupyter.widget-view+json": {
       "version_major": 2,
       "version_minor": 0,
       "model_id": "f2c23e82c3c64465b7976ff6281c4eec"
      }
     },
     "metadata": {},
     "output_type": "display_data"
    },
    {
     "data": {
      "text/plain": "  0%|          | 0/800 [00:00<?, ?it/s]",
      "application/vnd.jupyter.widget-view+json": {
       "version_major": 2,
       "version_minor": 0,
       "model_id": "7ad01a734bf74fadb3814949c9a8c675"
      }
     },
     "metadata": {},
     "output_type": "display_data"
    },
    {
     "data": {
      "text/plain": "  0%|          | 0/800 [00:00<?, ?it/s]",
      "application/vnd.jupyter.widget-view+json": {
       "version_major": 2,
       "version_minor": 0,
       "model_id": "56db7515bf5b4c78a0e605bb52acdd4a"
      }
     },
     "metadata": {},
     "output_type": "display_data"
    },
    {
     "data": {
      "text/plain": "  0%|          | 0/800 [00:00<?, ?it/s]",
      "application/vnd.jupyter.widget-view+json": {
       "version_major": 2,
       "version_minor": 0,
       "model_id": "86075666c554457bb22d692a3a935798"
      }
     },
     "metadata": {},
     "output_type": "display_data"
    },
    {
     "data": {
      "text/plain": "  0%|          | 0/800 [00:00<?, ?it/s]",
      "application/vnd.jupyter.widget-view+json": {
       "version_major": 2,
       "version_minor": 0,
       "model_id": "ea4f80d9df3d4a91890ec861af5151af"
      }
     },
     "metadata": {},
     "output_type": "display_data"
    },
    {
     "data": {
      "text/plain": "  0%|          | 0/800 [00:00<?, ?it/s]",
      "application/vnd.jupyter.widget-view+json": {
       "version_major": 2,
       "version_minor": 0,
       "model_id": "c451e970198949d38d23914cfc1cb3d3"
      }
     },
     "metadata": {},
     "output_type": "display_data"
    },
    {
     "data": {
      "text/plain": "  0%|          | 0/800 [00:00<?, ?it/s]",
      "application/vnd.jupyter.widget-view+json": {
       "version_major": 2,
       "version_minor": 0,
       "model_id": "0f1268139f874307b8b35e2c0e05475d"
      }
     },
     "metadata": {},
     "output_type": "display_data"
    },
    {
     "data": {
      "text/plain": "  0%|          | 0/800 [00:00<?, ?it/s]",
      "application/vnd.jupyter.widget-view+json": {
       "version_major": 2,
       "version_minor": 0,
       "model_id": "440af9e2999b4d009abaa33b297eedd2"
      }
     },
     "metadata": {},
     "output_type": "display_data"
    },
    {
     "data": {
      "text/plain": "  0%|          | 0/800 [00:00<?, ?it/s]",
      "application/vnd.jupyter.widget-view+json": {
       "version_major": 2,
       "version_minor": 0,
       "model_id": "acdbd448a994464596368be0c0762b01"
      }
     },
     "metadata": {},
     "output_type": "display_data"
    },
    {
     "data": {
      "text/plain": "  0%|          | 0/800 [00:00<?, ?it/s]",
      "application/vnd.jupyter.widget-view+json": {
       "version_major": 2,
       "version_minor": 0,
       "model_id": "06fe9cd8ac7f489db78bfd7195339266"
      }
     },
     "metadata": {},
     "output_type": "display_data"
    },
    {
     "data": {
      "text/plain": "  0%|          | 0/800 [00:00<?, ?it/s]",
      "application/vnd.jupyter.widget-view+json": {
       "version_major": 2,
       "version_minor": 0,
       "model_id": "456fe65e907743f7b47bc05b5b63a412"
      }
     },
     "metadata": {},
     "output_type": "display_data"
    },
    {
     "data": {
      "text/plain": "  0%|          | 0/800 [00:00<?, ?it/s]",
      "application/vnd.jupyter.widget-view+json": {
       "version_major": 2,
       "version_minor": 0,
       "model_id": "9b10b06806014a16aef1dd9ae364a5ba"
      }
     },
     "metadata": {},
     "output_type": "display_data"
    },
    {
     "data": {
      "text/plain": "  0%|          | 0/800 [00:00<?, ?it/s]",
      "application/vnd.jupyter.widget-view+json": {
       "version_major": 2,
       "version_minor": 0,
       "model_id": "5e261531a0914ee9b12d5708c91c2b85"
      }
     },
     "metadata": {},
     "output_type": "display_data"
    },
    {
     "data": {
      "text/plain": "  0%|          | 0/800 [00:00<?, ?it/s]",
      "application/vnd.jupyter.widget-view+json": {
       "version_major": 2,
       "version_minor": 0,
       "model_id": "6db79197dfe64cb99b5185f7d72795ee"
      }
     },
     "metadata": {},
     "output_type": "display_data"
    },
    {
     "data": {
      "text/plain": "  0%|          | 0/800 [00:00<?, ?it/s]",
      "application/vnd.jupyter.widget-view+json": {
       "version_major": 2,
       "version_minor": 0,
       "model_id": "1e68152ed986422d928451b2180af577"
      }
     },
     "metadata": {},
     "output_type": "display_data"
    },
    {
     "data": {
      "text/plain": "  0%|          | 0/800 [00:00<?, ?it/s]",
      "application/vnd.jupyter.widget-view+json": {
       "version_major": 2,
       "version_minor": 0,
       "model_id": "3e5508c0802c4fa49ada3871efe3ed71"
      }
     },
     "metadata": {},
     "output_type": "display_data"
    },
    {
     "data": {
      "text/plain": "  0%|          | 0/800 [00:00<?, ?it/s]",
      "application/vnd.jupyter.widget-view+json": {
       "version_major": 2,
       "version_minor": 0,
       "model_id": "e124f27df3ef4649aa56ec55109361b6"
      }
     },
     "metadata": {},
     "output_type": "display_data"
    },
    {
     "data": {
      "text/plain": "  0%|          | 0/800 [00:00<?, ?it/s]",
      "application/vnd.jupyter.widget-view+json": {
       "version_major": 2,
       "version_minor": 0,
       "model_id": "2545fd01358b466b910ddbd33d0f0e65"
      }
     },
     "metadata": {},
     "output_type": "display_data"
    },
    {
     "data": {
      "text/plain": "  0%|          | 0/800 [00:00<?, ?it/s]",
      "application/vnd.jupyter.widget-view+json": {
       "version_major": 2,
       "version_minor": 0,
       "model_id": "01e5f5e94a96499290c1031581d0d87d"
      }
     },
     "metadata": {},
     "output_type": "display_data"
    },
    {
     "data": {
      "text/plain": "  0%|          | 0/800 [00:00<?, ?it/s]",
      "application/vnd.jupyter.widget-view+json": {
       "version_major": 2,
       "version_minor": 0,
       "model_id": "a06efc50ab12428092c0799d9878ebd0"
      }
     },
     "metadata": {},
     "output_type": "display_data"
    },
    {
     "data": {
      "text/plain": "  0%|          | 0/800 [00:00<?, ?it/s]",
      "application/vnd.jupyter.widget-view+json": {
       "version_major": 2,
       "version_minor": 0,
       "model_id": "4481cabcbf274d8f9a0f5ccc6e5f6eb8"
      }
     },
     "metadata": {},
     "output_type": "display_data"
    },
    {
     "data": {
      "text/plain": "  0%|          | 0/800 [00:00<?, ?it/s]",
      "application/vnd.jupyter.widget-view+json": {
       "version_major": 2,
       "version_minor": 0,
       "model_id": "4565e54e37974e1086b49c45e2ae6d1e"
      }
     },
     "metadata": {},
     "output_type": "display_data"
    },
    {
     "data": {
      "text/plain": "  0%|          | 0/800 [00:00<?, ?it/s]",
      "application/vnd.jupyter.widget-view+json": {
       "version_major": 2,
       "version_minor": 0,
       "model_id": "86d3e4953dae41939b51c97866d4f2d5"
      }
     },
     "metadata": {},
     "output_type": "display_data"
    },
    {
     "data": {
      "text/plain": "  0%|          | 0/800 [00:00<?, ?it/s]",
      "application/vnd.jupyter.widget-view+json": {
       "version_major": 2,
       "version_minor": 0,
       "model_id": "dfd56c4ce0594d48a5774d2482cd3aec"
      }
     },
     "metadata": {},
     "output_type": "display_data"
    },
    {
     "data": {
      "text/plain": "  0%|          | 0/800 [00:00<?, ?it/s]",
      "application/vnd.jupyter.widget-view+json": {
       "version_major": 2,
       "version_minor": 0,
       "model_id": "8d6e738dd6024b9d9ac63ce9b216e932"
      }
     },
     "metadata": {},
     "output_type": "display_data"
    },
    {
     "data": {
      "text/plain": "  0%|          | 0/800 [00:00<?, ?it/s]",
      "application/vnd.jupyter.widget-view+json": {
       "version_major": 2,
       "version_minor": 0,
       "model_id": "66d036dbd1a94002b49111c4dd745b45"
      }
     },
     "metadata": {},
     "output_type": "display_data"
    },
    {
     "data": {
      "text/plain": "  0%|          | 0/800 [00:00<?, ?it/s]",
      "application/vnd.jupyter.widget-view+json": {
       "version_major": 2,
       "version_minor": 0,
       "model_id": "880921d44e0542bfa412db2fdf2ecddd"
      }
     },
     "metadata": {},
     "output_type": "display_data"
    },
    {
     "data": {
      "text/plain": "  0%|          | 0/800 [00:00<?, ?it/s]",
      "application/vnd.jupyter.widget-view+json": {
       "version_major": 2,
       "version_minor": 0,
       "model_id": "c4353bb8059b49b8aabd18271ec0d8ee"
      }
     },
     "metadata": {},
     "output_type": "display_data"
    },
    {
     "data": {
      "text/plain": "  0%|          | 0/800 [00:00<?, ?it/s]",
      "application/vnd.jupyter.widget-view+json": {
       "version_major": 2,
       "version_minor": 0,
       "model_id": "492be6a9044241ac94bf5c895bf1b56a"
      }
     },
     "metadata": {},
     "output_type": "display_data"
    },
    {
     "data": {
      "text/plain": "  0%|          | 0/800 [00:00<?, ?it/s]",
      "application/vnd.jupyter.widget-view+json": {
       "version_major": 2,
       "version_minor": 0,
       "model_id": "c8a9e696a6724ccb82bd2e982df57777"
      }
     },
     "metadata": {},
     "output_type": "display_data"
    },
    {
     "data": {
      "text/plain": "  0%|          | 0/800 [00:00<?, ?it/s]",
      "application/vnd.jupyter.widget-view+json": {
       "version_major": 2,
       "version_minor": 0,
       "model_id": "e5ffba65cab443a9b7bad3a22de051d8"
      }
     },
     "metadata": {},
     "output_type": "display_data"
    },
    {
     "data": {
      "text/plain": "  0%|          | 0/800 [00:00<?, ?it/s]",
      "application/vnd.jupyter.widget-view+json": {
       "version_major": 2,
       "version_minor": 0,
       "model_id": "ee949405e22e431382d3018f17b63b77"
      }
     },
     "metadata": {},
     "output_type": "display_data"
    },
    {
     "data": {
      "text/plain": "  0%|          | 0/800 [00:00<?, ?it/s]",
      "application/vnd.jupyter.widget-view+json": {
       "version_major": 2,
       "version_minor": 0,
       "model_id": "b044b113af3a48eda9ac629f677f0ccd"
      }
     },
     "metadata": {},
     "output_type": "display_data"
    },
    {
     "data": {
      "text/plain": "  0%|          | 0/800 [00:00<?, ?it/s]",
      "application/vnd.jupyter.widget-view+json": {
       "version_major": 2,
       "version_minor": 0,
       "model_id": "24aa409981894fcaa51da99571a3f824"
      }
     },
     "metadata": {},
     "output_type": "display_data"
    },
    {
     "data": {
      "text/plain": "  0%|          | 0/800 [00:00<?, ?it/s]",
      "application/vnd.jupyter.widget-view+json": {
       "version_major": 2,
       "version_minor": 0,
       "model_id": "f0c5571c64974f8fa5046a0c35b9db17"
      }
     },
     "metadata": {},
     "output_type": "display_data"
    },
    {
     "data": {
      "text/plain": "  0%|          | 0/800 [00:00<?, ?it/s]",
      "application/vnd.jupyter.widget-view+json": {
       "version_major": 2,
       "version_minor": 0,
       "model_id": "63792b89dae24d74805d278e347136c7"
      }
     },
     "metadata": {},
     "output_type": "display_data"
    },
    {
     "data": {
      "text/plain": "  0%|          | 0/800 [00:00<?, ?it/s]",
      "application/vnd.jupyter.widget-view+json": {
       "version_major": 2,
       "version_minor": 0,
       "model_id": "07728b45e8124c47b97b6567d7ba7b62"
      }
     },
     "metadata": {},
     "output_type": "display_data"
    },
    {
     "data": {
      "text/plain": "  0%|          | 0/800 [00:00<?, ?it/s]",
      "application/vnd.jupyter.widget-view+json": {
       "version_major": 2,
       "version_minor": 0,
       "model_id": "5a317aeb4ad1482a9aab3bcba35aa95c"
      }
     },
     "metadata": {},
     "output_type": "display_data"
    },
    {
     "data": {
      "text/plain": "  0%|          | 0/800 [00:00<?, ?it/s]",
      "application/vnd.jupyter.widget-view+json": {
       "version_major": 2,
       "version_minor": 0,
       "model_id": "c07dd44089194b8ab1333946a746d366"
      }
     },
     "metadata": {},
     "output_type": "display_data"
    },
    {
     "data": {
      "text/plain": "  0%|          | 0/800 [00:00<?, ?it/s]",
      "application/vnd.jupyter.widget-view+json": {
       "version_major": 2,
       "version_minor": 0,
       "model_id": "ca08062a37fa42e89bb7f445ded9346f"
      }
     },
     "metadata": {},
     "output_type": "display_data"
    },
    {
     "data": {
      "text/plain": "  0%|          | 0/800 [00:00<?, ?it/s]",
      "application/vnd.jupyter.widget-view+json": {
       "version_major": 2,
       "version_minor": 0,
       "model_id": "f53099fb78b44d8eaa114bdb8e0850f3"
      }
     },
     "metadata": {},
     "output_type": "display_data"
    },
    {
     "data": {
      "text/plain": "  0%|          | 0/800 [00:00<?, ?it/s]",
      "application/vnd.jupyter.widget-view+json": {
       "version_major": 2,
       "version_minor": 0,
       "model_id": "a3d887d3c0b44b62a3e28ac35e8dad79"
      }
     },
     "metadata": {},
     "output_type": "display_data"
    },
    {
     "data": {
      "text/plain": "  0%|          | 0/800 [00:00<?, ?it/s]",
      "application/vnd.jupyter.widget-view+json": {
       "version_major": 2,
       "version_minor": 0,
       "model_id": "638a3db51aa94d46af9063fd06e60c4b"
      }
     },
     "metadata": {},
     "output_type": "display_data"
    },
    {
     "data": {
      "text/plain": "  0%|          | 0/800 [00:00<?, ?it/s]",
      "application/vnd.jupyter.widget-view+json": {
       "version_major": 2,
       "version_minor": 0,
       "model_id": "220b7b1fcd6546b18ec6d7ea6cfbb38e"
      }
     },
     "metadata": {},
     "output_type": "display_data"
    },
    {
     "data": {
      "text/plain": "  0%|          | 0/800 [00:00<?, ?it/s]",
      "application/vnd.jupyter.widget-view+json": {
       "version_major": 2,
       "version_minor": 0,
       "model_id": "769118e096d5408bb2ebaebb444e80ce"
      }
     },
     "metadata": {},
     "output_type": "display_data"
    },
    {
     "data": {
      "text/plain": "  0%|          | 0/800 [00:00<?, ?it/s]",
      "application/vnd.jupyter.widget-view+json": {
       "version_major": 2,
       "version_minor": 0,
       "model_id": "d268425463f840c48de99af2bcfaadb3"
      }
     },
     "metadata": {},
     "output_type": "display_data"
    },
    {
     "data": {
      "text/plain": "  0%|          | 0/800 [00:00<?, ?it/s]",
      "application/vnd.jupyter.widget-view+json": {
       "version_major": 2,
       "version_minor": 0,
       "model_id": "243ffc449c304c8087397aac5474b1c0"
      }
     },
     "metadata": {},
     "output_type": "display_data"
    },
    {
     "data": {
      "text/plain": "  0%|          | 0/800 [00:00<?, ?it/s]",
      "application/vnd.jupyter.widget-view+json": {
       "version_major": 2,
       "version_minor": 0,
       "model_id": "881ccfed0ed84467a0683fc82a59cbe1"
      }
     },
     "metadata": {},
     "output_type": "display_data"
    },
    {
     "data": {
      "text/plain": "  0%|          | 0/800 [00:00<?, ?it/s]",
      "application/vnd.jupyter.widget-view+json": {
       "version_major": 2,
       "version_minor": 0,
       "model_id": "d2b1b9bb0d2f47d9b57722fe944aed69"
      }
     },
     "metadata": {},
     "output_type": "display_data"
    },
    {
     "data": {
      "text/plain": "  0%|          | 0/800 [00:00<?, ?it/s]",
      "application/vnd.jupyter.widget-view+json": {
       "version_major": 2,
       "version_minor": 0,
       "model_id": "9dacecff622847af9a82e1fb548bbfd8"
      }
     },
     "metadata": {},
     "output_type": "display_data"
    },
    {
     "data": {
      "text/plain": "  0%|          | 0/800 [00:00<?, ?it/s]",
      "application/vnd.jupyter.widget-view+json": {
       "version_major": 2,
       "version_minor": 0,
       "model_id": "2a196f1e58d54dfdb687a993ac95ef84"
      }
     },
     "metadata": {},
     "output_type": "display_data"
    },
    {
     "data": {
      "text/plain": "  0%|          | 0/800 [00:00<?, ?it/s]",
      "application/vnd.jupyter.widget-view+json": {
       "version_major": 2,
       "version_minor": 0,
       "model_id": "2d76974e0a8a4b6c83446f91fdc0790b"
      }
     },
     "metadata": {},
     "output_type": "display_data"
    },
    {
     "data": {
      "text/plain": "  0%|          | 0/800 [00:00<?, ?it/s]",
      "application/vnd.jupyter.widget-view+json": {
       "version_major": 2,
       "version_minor": 0,
       "model_id": "e57be91557d24d88b86f80e180177a21"
      }
     },
     "metadata": {},
     "output_type": "display_data"
    },
    {
     "data": {
      "text/plain": "  0%|          | 0/800 [00:00<?, ?it/s]",
      "application/vnd.jupyter.widget-view+json": {
       "version_major": 2,
       "version_minor": 0,
       "model_id": "51003ebe6ed54ecc8c30a62d381b8609"
      }
     },
     "metadata": {},
     "output_type": "display_data"
    },
    {
     "data": {
      "text/plain": "  0%|          | 0/800 [00:00<?, ?it/s]",
      "application/vnd.jupyter.widget-view+json": {
       "version_major": 2,
       "version_minor": 0,
       "model_id": "1f43bae31cbf4a14b32f13d95f6af50e"
      }
     },
     "metadata": {},
     "output_type": "display_data"
    },
    {
     "data": {
      "text/plain": "  0%|          | 0/800 [00:00<?, ?it/s]",
      "application/vnd.jupyter.widget-view+json": {
       "version_major": 2,
       "version_minor": 0,
       "model_id": "d3ebddd0d3bd41049b3edc812a1add5f"
      }
     },
     "metadata": {},
     "output_type": "display_data"
    },
    {
     "data": {
      "text/plain": "  0%|          | 0/800 [00:00<?, ?it/s]",
      "application/vnd.jupyter.widget-view+json": {
       "version_major": 2,
       "version_minor": 0,
       "model_id": "74975969981640c8b2605dd9fa12af82"
      }
     },
     "metadata": {},
     "output_type": "display_data"
    },
    {
     "data": {
      "text/plain": "  0%|          | 0/800 [00:00<?, ?it/s]",
      "application/vnd.jupyter.widget-view+json": {
       "version_major": 2,
       "version_minor": 0,
       "model_id": "7cbfbc9170a649ecb0ae7b4cd8a86d33"
      }
     },
     "metadata": {},
     "output_type": "display_data"
    },
    {
     "data": {
      "text/plain": "  0%|          | 0/800 [00:00<?, ?it/s]",
      "application/vnd.jupyter.widget-view+json": {
       "version_major": 2,
       "version_minor": 0,
       "model_id": "92a6ac03476546f4afbad0a3a1978e2a"
      }
     },
     "metadata": {},
     "output_type": "display_data"
    },
    {
     "data": {
      "text/plain": "  0%|          | 0/800 [00:00<?, ?it/s]",
      "application/vnd.jupyter.widget-view+json": {
       "version_major": 2,
       "version_minor": 0,
       "model_id": "1099129b339f471a920074ac54db72c7"
      }
     },
     "metadata": {},
     "output_type": "display_data"
    },
    {
     "data": {
      "text/plain": "  0%|          | 0/800 [00:00<?, ?it/s]",
      "application/vnd.jupyter.widget-view+json": {
       "version_major": 2,
       "version_minor": 0,
       "model_id": "2e46a953972b447c84dbf910047a3aba"
      }
     },
     "metadata": {},
     "output_type": "display_data"
    },
    {
     "data": {
      "text/plain": "  0%|          | 0/800 [00:00<?, ?it/s]",
      "application/vnd.jupyter.widget-view+json": {
       "version_major": 2,
       "version_minor": 0,
       "model_id": "476278da61ec477b80d2a35ce33272df"
      }
     },
     "metadata": {},
     "output_type": "display_data"
    },
    {
     "data": {
      "text/plain": "  0%|          | 0/800 [00:00<?, ?it/s]",
      "application/vnd.jupyter.widget-view+json": {
       "version_major": 2,
       "version_minor": 0,
       "model_id": "8ffebf904f704f73841daa4488632011"
      }
     },
     "metadata": {},
     "output_type": "display_data"
    },
    {
     "data": {
      "text/plain": "  0%|          | 0/800 [00:00<?, ?it/s]",
      "application/vnd.jupyter.widget-view+json": {
       "version_major": 2,
       "version_minor": 0,
       "model_id": "1c0d2edc6f7f49c8a1a1677562b1d708"
      }
     },
     "metadata": {},
     "output_type": "display_data"
    },
    {
     "data": {
      "text/plain": "  0%|          | 0/800 [00:00<?, ?it/s]",
      "application/vnd.jupyter.widget-view+json": {
       "version_major": 2,
       "version_minor": 0,
       "model_id": "8629597ab87d4a9a9a86111caea6474c"
      }
     },
     "metadata": {},
     "output_type": "display_data"
    },
    {
     "data": {
      "text/plain": "  0%|          | 0/800 [00:00<?, ?it/s]",
      "application/vnd.jupyter.widget-view+json": {
       "version_major": 2,
       "version_minor": 0,
       "model_id": "1eedb823b1a64df98f863e7e81387e12"
      }
     },
     "metadata": {},
     "output_type": "display_data"
    },
    {
     "data": {
      "text/plain": "  0%|          | 0/800 [00:00<?, ?it/s]",
      "application/vnd.jupyter.widget-view+json": {
       "version_major": 2,
       "version_minor": 0,
       "model_id": "0f757a74f618432e9b5b86aba57a014d"
      }
     },
     "metadata": {},
     "output_type": "display_data"
    },
    {
     "data": {
      "text/plain": "  0%|          | 0/800 [00:00<?, ?it/s]",
      "application/vnd.jupyter.widget-view+json": {
       "version_major": 2,
       "version_minor": 0,
       "model_id": "485d8ec3c79e464a912ee94b03ebd204"
      }
     },
     "metadata": {},
     "output_type": "display_data"
    },
    {
     "data": {
      "text/plain": "  0%|          | 0/800 [00:00<?, ?it/s]",
      "application/vnd.jupyter.widget-view+json": {
       "version_major": 2,
       "version_minor": 0,
       "model_id": "a830af8486f446bda841fc7d30229db6"
      }
     },
     "metadata": {},
     "output_type": "display_data"
    },
    {
     "data": {
      "text/plain": "  0%|          | 0/800 [00:00<?, ?it/s]",
      "application/vnd.jupyter.widget-view+json": {
       "version_major": 2,
       "version_minor": 0,
       "model_id": "9aa677029b6d4f768604dfe692c75e00"
      }
     },
     "metadata": {},
     "output_type": "display_data"
    },
    {
     "data": {
      "text/plain": "  0%|          | 0/800 [00:00<?, ?it/s]",
      "application/vnd.jupyter.widget-view+json": {
       "version_major": 2,
       "version_minor": 0,
       "model_id": "643bd5ff710e4c39884203896b2c2d75"
      }
     },
     "metadata": {},
     "output_type": "display_data"
    },
    {
     "data": {
      "text/plain": "  0%|          | 0/800 [00:00<?, ?it/s]",
      "application/vnd.jupyter.widget-view+json": {
       "version_major": 2,
       "version_minor": 0,
       "model_id": "ffb32d4bc516400c9fa6b162714753ee"
      }
     },
     "metadata": {},
     "output_type": "display_data"
    },
    {
     "data": {
      "text/plain": "  0%|          | 0/800 [00:00<?, ?it/s]",
      "application/vnd.jupyter.widget-view+json": {
       "version_major": 2,
       "version_minor": 0,
       "model_id": "a8fdb0dbbacc4ab8be9844085b21ed0f"
      }
     },
     "metadata": {},
     "output_type": "display_data"
    },
    {
     "data": {
      "text/plain": "  0%|          | 0/800 [00:00<?, ?it/s]",
      "application/vnd.jupyter.widget-view+json": {
       "version_major": 2,
       "version_minor": 0,
       "model_id": "107c5a7e53ff4dcca6007e7482d85204"
      }
     },
     "metadata": {},
     "output_type": "display_data"
    },
    {
     "data": {
      "text/plain": "  0%|          | 0/800 [00:00<?, ?it/s]",
      "application/vnd.jupyter.widget-view+json": {
       "version_major": 2,
       "version_minor": 0,
       "model_id": "eab94275fa7b496fabd0b67fd6723b84"
      }
     },
     "metadata": {},
     "output_type": "display_data"
    },
    {
     "data": {
      "text/plain": "  0%|          | 0/800 [00:00<?, ?it/s]",
      "application/vnd.jupyter.widget-view+json": {
       "version_major": 2,
       "version_minor": 0,
       "model_id": "19bb49cf11af4115a17a4d5d7d5ab849"
      }
     },
     "metadata": {},
     "output_type": "display_data"
    },
    {
     "data": {
      "text/plain": "  0%|          | 0/800 [00:00<?, ?it/s]",
      "application/vnd.jupyter.widget-view+json": {
       "version_major": 2,
       "version_minor": 0,
       "model_id": "5c84a2802923469f81289b7f66500ebb"
      }
     },
     "metadata": {},
     "output_type": "display_data"
    },
    {
     "data": {
      "text/plain": "  0%|          | 0/800 [00:00<?, ?it/s]",
      "application/vnd.jupyter.widget-view+json": {
       "version_major": 2,
       "version_minor": 0,
       "model_id": "ca9423ee2db7455eb6440a11154cead5"
      }
     },
     "metadata": {},
     "output_type": "display_data"
    },
    {
     "data": {
      "text/plain": "  0%|          | 0/800 [00:00<?, ?it/s]",
      "application/vnd.jupyter.widget-view+json": {
       "version_major": 2,
       "version_minor": 0,
       "model_id": "0f1073d6512547119be85924c65208e2"
      }
     },
     "metadata": {},
     "output_type": "display_data"
    },
    {
     "data": {
      "text/plain": "  0%|          | 0/800 [00:00<?, ?it/s]",
      "application/vnd.jupyter.widget-view+json": {
       "version_major": 2,
       "version_minor": 0,
       "model_id": "1325cc17565e4ad790531cae0a381582"
      }
     },
     "metadata": {},
     "output_type": "display_data"
    },
    {
     "data": {
      "text/plain": "  0%|          | 0/800 [00:00<?, ?it/s]",
      "application/vnd.jupyter.widget-view+json": {
       "version_major": 2,
       "version_minor": 0,
       "model_id": "a5d7c9facb4f4c75904913900a23a428"
      }
     },
     "metadata": {},
     "output_type": "display_data"
    },
    {
     "data": {
      "text/plain": "  0%|          | 0/800 [00:00<?, ?it/s]",
      "application/vnd.jupyter.widget-view+json": {
       "version_major": 2,
       "version_minor": 0,
       "model_id": "b6169979dc374715ad63f4ea283d96ff"
      }
     },
     "metadata": {},
     "output_type": "display_data"
    },
    {
     "data": {
      "text/plain": "  0%|          | 0/800 [00:00<?, ?it/s]",
      "application/vnd.jupyter.widget-view+json": {
       "version_major": 2,
       "version_minor": 0,
       "model_id": "3f8832d7304643f0b63aed1ea8de5d2c"
      }
     },
     "metadata": {},
     "output_type": "display_data"
    },
    {
     "data": {
      "text/plain": "  0%|          | 0/800 [00:00<?, ?it/s]",
      "application/vnd.jupyter.widget-view+json": {
       "version_major": 2,
       "version_minor": 0,
       "model_id": "0ad1535fef074556be4644e099d5985a"
      }
     },
     "metadata": {},
     "output_type": "display_data"
    },
    {
     "data": {
      "text/plain": "  0%|          | 0/800 [00:00<?, ?it/s]",
      "application/vnd.jupyter.widget-view+json": {
       "version_major": 2,
       "version_minor": 0,
       "model_id": "b3631fa2390944bc99b7db0e8357a0f4"
      }
     },
     "metadata": {},
     "output_type": "display_data"
    },
    {
     "data": {
      "text/plain": "  0%|          | 0/800 [00:00<?, ?it/s]",
      "application/vnd.jupyter.widget-view+json": {
       "version_major": 2,
       "version_minor": 0,
       "model_id": "ec15f2b4ff434877b33d9934cb5448e3"
      }
     },
     "metadata": {},
     "output_type": "display_data"
    },
    {
     "data": {
      "text/plain": "  0%|          | 0/800 [00:00<?, ?it/s]",
      "application/vnd.jupyter.widget-view+json": {
       "version_major": 2,
       "version_minor": 0,
       "model_id": "3c97fd76b3c84ea9895720e5e1163e5a"
      }
     },
     "metadata": {},
     "output_type": "display_data"
    },
    {
     "data": {
      "text/plain": "  0%|          | 0/800 [00:00<?, ?it/s]",
      "application/vnd.jupyter.widget-view+json": {
       "version_major": 2,
       "version_minor": 0,
       "model_id": "a24299d1a30d404098272228ce00ad48"
      }
     },
     "metadata": {},
     "output_type": "display_data"
    },
    {
     "data": {
      "text/plain": "  0%|          | 0/800 [00:00<?, ?it/s]",
      "application/vnd.jupyter.widget-view+json": {
       "version_major": 2,
       "version_minor": 0,
       "model_id": "02db90c4045144cabf5c6a85c69d70dd"
      }
     },
     "metadata": {},
     "output_type": "display_data"
    },
    {
     "data": {
      "text/plain": "  0%|          | 0/800 [00:00<?, ?it/s]",
      "application/vnd.jupyter.widget-view+json": {
       "version_major": 2,
       "version_minor": 0,
       "model_id": "c4038f1126f84a0e8e5cadfa65204543"
      }
     },
     "metadata": {},
     "output_type": "display_data"
    },
    {
     "data": {
      "text/plain": "  0%|          | 0/800 [00:00<?, ?it/s]",
      "application/vnd.jupyter.widget-view+json": {
       "version_major": 2,
       "version_minor": 0,
       "model_id": "6b2ff91a67504507a7891974d1c74a91"
      }
     },
     "metadata": {},
     "output_type": "display_data"
    },
    {
     "data": {
      "text/plain": "  0%|          | 0/800 [00:00<?, ?it/s]",
      "application/vnd.jupyter.widget-view+json": {
       "version_major": 2,
       "version_minor": 0,
       "model_id": "5cec730e854343aca76e28ff00817534"
      }
     },
     "metadata": {},
     "output_type": "display_data"
    },
    {
     "data": {
      "text/plain": "  0%|          | 0/800 [00:00<?, ?it/s]",
      "application/vnd.jupyter.widget-view+json": {
       "version_major": 2,
       "version_minor": 0,
       "model_id": "11e86b7edad34f789c3e400201370780"
      }
     },
     "metadata": {},
     "output_type": "display_data"
    },
    {
     "data": {
      "text/plain": "  0%|          | 0/800 [00:00<?, ?it/s]",
      "application/vnd.jupyter.widget-view+json": {
       "version_major": 2,
       "version_minor": 0,
       "model_id": "da4ceddb5056426eae916fb2bbb82c2b"
      }
     },
     "metadata": {},
     "output_type": "display_data"
    },
    {
     "data": {
      "text/plain": "  0%|          | 0/800 [00:00<?, ?it/s]",
      "application/vnd.jupyter.widget-view+json": {
       "version_major": 2,
       "version_minor": 0,
       "model_id": "137363dae9a74214bcb99c417630b803"
      }
     },
     "metadata": {},
     "output_type": "display_data"
    },
    {
     "data": {
      "text/plain": "  0%|          | 0/800 [00:00<?, ?it/s]",
      "application/vnd.jupyter.widget-view+json": {
       "version_major": 2,
       "version_minor": 0,
       "model_id": "f9b97d7518294745ad34bc14b7bf5a38"
      }
     },
     "metadata": {},
     "output_type": "display_data"
    },
    {
     "data": {
      "text/plain": "  0%|          | 0/800 [00:00<?, ?it/s]",
      "application/vnd.jupyter.widget-view+json": {
       "version_major": 2,
       "version_minor": 0,
       "model_id": "37dc8ef84d754228a9002b287130625d"
      }
     },
     "metadata": {},
     "output_type": "display_data"
    },
    {
     "data": {
      "text/plain": "  0%|          | 0/800 [00:00<?, ?it/s]",
      "application/vnd.jupyter.widget-view+json": {
       "version_major": 2,
       "version_minor": 0,
       "model_id": "7ca35159bebb4b2e8a86c60d3914c37c"
      }
     },
     "metadata": {},
     "output_type": "display_data"
    },
    {
     "data": {
      "text/plain": "  0%|          | 0/800 [00:00<?, ?it/s]",
      "application/vnd.jupyter.widget-view+json": {
       "version_major": 2,
       "version_minor": 0,
       "model_id": "20338d1613c040769570e49e8ea64500"
      }
     },
     "metadata": {},
     "output_type": "display_data"
    },
    {
     "data": {
      "text/plain": "  0%|          | 0/800 [00:00<?, ?it/s]",
      "application/vnd.jupyter.widget-view+json": {
       "version_major": 2,
       "version_minor": 0,
       "model_id": "3985647810724b1081bc91b5f9661435"
      }
     },
     "metadata": {},
     "output_type": "display_data"
    },
    {
     "data": {
      "text/plain": "  0%|          | 0/800 [00:00<?, ?it/s]",
      "application/vnd.jupyter.widget-view+json": {
       "version_major": 2,
       "version_minor": 0,
       "model_id": "6bf08638ec844cb481c1715faa9d5a69"
      }
     },
     "metadata": {},
     "output_type": "display_data"
    },
    {
     "data": {
      "text/plain": "  0%|          | 0/800 [00:00<?, ?it/s]",
      "application/vnd.jupyter.widget-view+json": {
       "version_major": 2,
       "version_minor": 0,
       "model_id": "cda1eec646fa407aa74da62140e6d639"
      }
     },
     "metadata": {},
     "output_type": "display_data"
    },
    {
     "data": {
      "text/plain": "  0%|          | 0/800 [00:00<?, ?it/s]",
      "application/vnd.jupyter.widget-view+json": {
       "version_major": 2,
       "version_minor": 0,
       "model_id": "92a7b325db4d41aead168e73a56361de"
      }
     },
     "metadata": {},
     "output_type": "display_data"
    },
    {
     "data": {
      "text/plain": "  0%|          | 0/800 [00:00<?, ?it/s]",
      "application/vnd.jupyter.widget-view+json": {
       "version_major": 2,
       "version_minor": 0,
       "model_id": "aebcffd1b1094701b284fa4116a1c8f3"
      }
     },
     "metadata": {},
     "output_type": "display_data"
    },
    {
     "data": {
      "text/plain": "  0%|          | 0/800 [00:00<?, ?it/s]",
      "application/vnd.jupyter.widget-view+json": {
       "version_major": 2,
       "version_minor": 0,
       "model_id": "a85938fb8baa4f77b1a4f8531d0ffc8a"
      }
     },
     "metadata": {},
     "output_type": "display_data"
    },
    {
     "data": {
      "text/plain": "  0%|          | 0/800 [00:00<?, ?it/s]",
      "application/vnd.jupyter.widget-view+json": {
       "version_major": 2,
       "version_minor": 0,
       "model_id": "af1cd2f4692240c7bf1a7d53e3db8add"
      }
     },
     "metadata": {},
     "output_type": "display_data"
    },
    {
     "data": {
      "text/plain": "  0%|          | 0/800 [00:00<?, ?it/s]",
      "application/vnd.jupyter.widget-view+json": {
       "version_major": 2,
       "version_minor": 0,
       "model_id": "630ba47fee4e48c28eabce82298a7c9a"
      }
     },
     "metadata": {},
     "output_type": "display_data"
    },
    {
     "data": {
      "text/plain": "  0%|          | 0/800 [00:00<?, ?it/s]",
      "application/vnd.jupyter.widget-view+json": {
       "version_major": 2,
       "version_minor": 0,
       "model_id": "4d0e779bcebf48f29e5936a1a6145198"
      }
     },
     "metadata": {},
     "output_type": "display_data"
    },
    {
     "data": {
      "text/plain": "  0%|          | 0/800 [00:00<?, ?it/s]",
      "application/vnd.jupyter.widget-view+json": {
       "version_major": 2,
       "version_minor": 0,
       "model_id": "885648a1810c4e66982bd68e80fb4057"
      }
     },
     "metadata": {},
     "output_type": "display_data"
    },
    {
     "data": {
      "text/plain": "  0%|          | 0/800 [00:00<?, ?it/s]",
      "application/vnd.jupyter.widget-view+json": {
       "version_major": 2,
       "version_minor": 0,
       "model_id": "ecadd737ad4847f593acf4382b6406d6"
      }
     },
     "metadata": {},
     "output_type": "display_data"
    },
    {
     "data": {
      "text/plain": "  0%|          | 0/800 [00:00<?, ?it/s]",
      "application/vnd.jupyter.widget-view+json": {
       "version_major": 2,
       "version_minor": 0,
       "model_id": "42c8e54e7e9b42e28366db6417f59c9d"
      }
     },
     "metadata": {},
     "output_type": "display_data"
    },
    {
     "data": {
      "text/plain": "  0%|          | 0/800 [00:00<?, ?it/s]",
      "application/vnd.jupyter.widget-view+json": {
       "version_major": 2,
       "version_minor": 0,
       "model_id": "76609c1791444da4956763f7aa5e2fa8"
      }
     },
     "metadata": {},
     "output_type": "display_data"
    },
    {
     "data": {
      "text/plain": "  0%|          | 0/800 [00:00<?, ?it/s]",
      "application/vnd.jupyter.widget-view+json": {
       "version_major": 2,
       "version_minor": 0,
       "model_id": "5425355b45954a9d9bb3def807463bf5"
      }
     },
     "metadata": {},
     "output_type": "display_data"
    },
    {
     "data": {
      "text/plain": "  0%|          | 0/800 [00:00<?, ?it/s]",
      "application/vnd.jupyter.widget-view+json": {
       "version_major": 2,
       "version_minor": 0,
       "model_id": "52a00bdbf8394aeea93abc747534bbff"
      }
     },
     "metadata": {},
     "output_type": "display_data"
    },
    {
     "data": {
      "text/plain": "  0%|          | 0/800 [00:00<?, ?it/s]",
      "application/vnd.jupyter.widget-view+json": {
       "version_major": 2,
       "version_minor": 0,
       "model_id": "19be9bb9900d4fa9be11f6668e700abe"
      }
     },
     "metadata": {},
     "output_type": "display_data"
    },
    {
     "data": {
      "text/plain": "  0%|          | 0/800 [00:00<?, ?it/s]",
      "application/vnd.jupyter.widget-view+json": {
       "version_major": 2,
       "version_minor": 0,
       "model_id": "effc6f9eed8841b4903ab4410424c3a2"
      }
     },
     "metadata": {},
     "output_type": "display_data"
    },
    {
     "data": {
      "text/plain": "  0%|          | 0/800 [00:00<?, ?it/s]",
      "application/vnd.jupyter.widget-view+json": {
       "version_major": 2,
       "version_minor": 0,
       "model_id": "049206872b304d3d824eced9b4b63e21"
      }
     },
     "metadata": {},
     "output_type": "display_data"
    },
    {
     "data": {
      "text/plain": "  0%|          | 0/800 [00:00<?, ?it/s]",
      "application/vnd.jupyter.widget-view+json": {
       "version_major": 2,
       "version_minor": 0,
       "model_id": "a3ab23e12f8f477997573eb44d6ae401"
      }
     },
     "metadata": {},
     "output_type": "display_data"
    },
    {
     "data": {
      "text/plain": "  0%|          | 0/800 [00:00<?, ?it/s]",
      "application/vnd.jupyter.widget-view+json": {
       "version_major": 2,
       "version_minor": 0,
       "model_id": "7a871f97b8d64f2c9692297c830bb94b"
      }
     },
     "metadata": {},
     "output_type": "display_data"
    },
    {
     "data": {
      "text/plain": "  0%|          | 0/800 [00:00<?, ?it/s]",
      "application/vnd.jupyter.widget-view+json": {
       "version_major": 2,
       "version_minor": 0,
       "model_id": "8a8285dadfa941968054b775c6e6531f"
      }
     },
     "metadata": {},
     "output_type": "display_data"
    },
    {
     "data": {
      "text/plain": "  0%|          | 0/800 [00:00<?, ?it/s]",
      "application/vnd.jupyter.widget-view+json": {
       "version_major": 2,
       "version_minor": 0,
       "model_id": "7885e8dbecaa4fa1b1bb6e3c36e191fa"
      }
     },
     "metadata": {},
     "output_type": "display_data"
    },
    {
     "data": {
      "text/plain": "  0%|          | 0/800 [00:00<?, ?it/s]",
      "application/vnd.jupyter.widget-view+json": {
       "version_major": 2,
       "version_minor": 0,
       "model_id": "6d2a45b6969a4661abdc81a8c9303042"
      }
     },
     "metadata": {},
     "output_type": "display_data"
    },
    {
     "data": {
      "text/plain": "  0%|          | 0/800 [00:00<?, ?it/s]",
      "application/vnd.jupyter.widget-view+json": {
       "version_major": 2,
       "version_minor": 0,
       "model_id": "799dc9bf6aa64ae0aafb48307e736460"
      }
     },
     "metadata": {},
     "output_type": "display_data"
    },
    {
     "data": {
      "text/plain": "  0%|          | 0/800 [00:00<?, ?it/s]",
      "application/vnd.jupyter.widget-view+json": {
       "version_major": 2,
       "version_minor": 0,
       "model_id": "d0dc999b86b4439293762a5e7b0f6df1"
      }
     },
     "metadata": {},
     "output_type": "display_data"
    },
    {
     "data": {
      "text/plain": "  0%|          | 0/800 [00:00<?, ?it/s]",
      "application/vnd.jupyter.widget-view+json": {
       "version_major": 2,
       "version_minor": 0,
       "model_id": "149d09f2a81d4b74bf3c28cc8bdabcdc"
      }
     },
     "metadata": {},
     "output_type": "display_data"
    },
    {
     "data": {
      "text/plain": "  0%|          | 0/800 [00:00<?, ?it/s]",
      "application/vnd.jupyter.widget-view+json": {
       "version_major": 2,
       "version_minor": 0,
       "model_id": "6fece0174451443e87337f36d77584af"
      }
     },
     "metadata": {},
     "output_type": "display_data"
    },
    {
     "data": {
      "text/plain": "  0%|          | 0/800 [00:00<?, ?it/s]",
      "application/vnd.jupyter.widget-view+json": {
       "version_major": 2,
       "version_minor": 0,
       "model_id": "a0d2134fbdd144dc862d5cb655954e8d"
      }
     },
     "metadata": {},
     "output_type": "display_data"
    },
    {
     "data": {
      "text/plain": "  0%|          | 0/800 [00:00<?, ?it/s]",
      "application/vnd.jupyter.widget-view+json": {
       "version_major": 2,
       "version_minor": 0,
       "model_id": "c979819811f346cb90aac954acc9aeae"
      }
     },
     "metadata": {},
     "output_type": "display_data"
    },
    {
     "data": {
      "text/plain": "  0%|          | 0/800 [00:00<?, ?it/s]",
      "application/vnd.jupyter.widget-view+json": {
       "version_major": 2,
       "version_minor": 0,
       "model_id": "0ab7bab194f1481b88fe441ecb5e6359"
      }
     },
     "metadata": {},
     "output_type": "display_data"
    },
    {
     "data": {
      "text/plain": "  0%|          | 0/800 [00:00<?, ?it/s]",
      "application/vnd.jupyter.widget-view+json": {
       "version_major": 2,
       "version_minor": 0,
       "model_id": "15f990580b324a7695a5008f6a003b09"
      }
     },
     "metadata": {},
     "output_type": "display_data"
    },
    {
     "ename": "KeyboardInterrupt",
     "evalue": "",
     "output_type": "error",
     "traceback": [
      "\u001B[0;31m---------------------------------------------------------------------------\u001B[0m",
      "\u001B[0;31mKeyboardInterrupt\u001B[0m                         Traceback (most recent call last)",
      "\u001B[0;32m<ipython-input-7-1d7e6ae2c2e5>\u001B[0m in \u001B[0;36m<module>\u001B[0;34m\u001B[0m\n\u001B[1;32m      6\u001B[0m \u001B[0;32mfor\u001B[0m \u001B[0mi\u001B[0m \u001B[0;32min\u001B[0m \u001B[0mrange\u001B[0m\u001B[0;34m(\u001B[0m\u001B[0;36m10\u001B[0m\u001B[0;34m)\u001B[0m\u001B[0;34m:\u001B[0m\u001B[0;34m\u001B[0m\u001B[0;34m\u001B[0m\u001B[0m\n\u001B[1;32m      7\u001B[0m     disc_loss, gen_loss = training_bce(gen, disc, z_dim, epoch_step, my_dataloader,\n\u001B[0;32m----> 8\u001B[0;31m                                        device, disc_opt, gen_opt, display_step)\n\u001B[0m\u001B[1;32m      9\u001B[0m     \u001B[0mtotal_epoch\u001B[0m \u001B[0;34m+=\u001B[0m \u001B[0mepoch_step\u001B[0m\u001B[0;34m\u001B[0m\u001B[0;34m\u001B[0m\u001B[0m\n\u001B[1;32m     10\u001B[0m     \u001B[0mpro_out\u001B[0m\u001B[0;34m.\u001B[0m\u001B[0msave_model\u001B[0m\u001B[0;34m(\u001B[0m\u001B[0mgen\u001B[0m\u001B[0;34m,\u001B[0m \u001B[0mdisc\u001B[0m\u001B[0;34m,\u001B[0m \u001B[0;34m'model'\u001B[0m\u001B[0;34m,\u001B[0m \u001B[0mtotal_epoch\u001B[0m\u001B[0;34m)\u001B[0m\u001B[0;34m\u001B[0m\u001B[0;34m\u001B[0m\u001B[0m\n",
      "\u001B[0;32m~/Developer/intro_GANs/gansForPolymer/Naicheng/res/fnn/training.py\u001B[0m in \u001B[0;36mtraining_bce\u001B[0;34m(gen, disc, z_dim, n_epochs, dataloader, device, disc_opt, gen_opt, display_step)\u001B[0m\n\u001B[1;32m     26\u001B[0m             \u001B[0;31m# update discriminator\u001B[0m\u001B[0;34m\u001B[0m\u001B[0;34m\u001B[0m\u001B[0;34m\u001B[0m\u001B[0m\n\u001B[1;32m     27\u001B[0m             \u001B[0mdisc_opt\u001B[0m\u001B[0;34m.\u001B[0m\u001B[0mzero_grad\u001B[0m\u001B[0;34m(\u001B[0m\u001B[0;34m)\u001B[0m\u001B[0;34m\u001B[0m\u001B[0;34m\u001B[0m\u001B[0m\n\u001B[0;32m---> 28\u001B[0;31m             \u001B[0mdisc_loss\u001B[0m \u001B[0;34m=\u001B[0m \u001B[0mfunc\u001B[0m\u001B[0;34m.\u001B[0m\u001B[0mget_disc_loss\u001B[0m\u001B[0;34m(\u001B[0m\u001B[0mgen\u001B[0m\u001B[0;34m,\u001B[0m \u001B[0mdisc\u001B[0m\u001B[0;34m,\u001B[0m \u001B[0;34m\"bce\"\u001B[0m\u001B[0;34m,\u001B[0m \u001B[0mreal\u001B[0m\u001B[0;34m,\u001B[0m \u001B[0mcur_batch_size\u001B[0m\u001B[0;34m,\u001B[0m \u001B[0mz_dim\u001B[0m\u001B[0;34m,\u001B[0m \u001B[0mdevice\u001B[0m\u001B[0;34m)\u001B[0m\u001B[0;34m\u001B[0m\u001B[0;34m\u001B[0m\u001B[0m\n\u001B[0m\u001B[1;32m     29\u001B[0m             \u001B[0mdisc_loss\u001B[0m\u001B[0;34m.\u001B[0m\u001B[0mbackward\u001B[0m\u001B[0;34m(\u001B[0m\u001B[0mretain_graph\u001B[0m\u001B[0;34m=\u001B[0m\u001B[0;32mTrue\u001B[0m\u001B[0;34m)\u001B[0m\u001B[0;34m\u001B[0m\u001B[0;34m\u001B[0m\u001B[0m\n\u001B[1;32m     30\u001B[0m             \u001B[0mdisc_opt\u001B[0m\u001B[0;34m.\u001B[0m\u001B[0mstep\u001B[0m\u001B[0;34m(\u001B[0m\u001B[0;34m)\u001B[0m\u001B[0;34m\u001B[0m\u001B[0;34m\u001B[0m\u001B[0m\n",
      "\u001B[0;32m~/Developer/intro_GANs/gansForPolymer/Naicheng/res/fnn/functions.py\u001B[0m in \u001B[0;36mget_disc_loss\u001B[0;34m(gen, disc, loss_func, real, num_images, z_dim, device, c_lambda)\u001B[0m\n\u001B[1;32m     26\u001B[0m     \u001B[0mnoise\u001B[0m \u001B[0;34m=\u001B[0m \u001B[0mget_noise\u001B[0m\u001B[0;34m(\u001B[0m\u001B[0mnum_images\u001B[0m\u001B[0;34m,\u001B[0m \u001B[0mz_dim\u001B[0m\u001B[0;34m,\u001B[0m \u001B[0mdevice\u001B[0m\u001B[0;34m=\u001B[0m\u001B[0mdevice\u001B[0m\u001B[0;34m)\u001B[0m\u001B[0;34m\u001B[0m\u001B[0;34m\u001B[0m\u001B[0m\n\u001B[1;32m     27\u001B[0m     \u001B[0mfake\u001B[0m \u001B[0;34m=\u001B[0m \u001B[0mgen\u001B[0m\u001B[0;34m(\u001B[0m\u001B[0mnoise\u001B[0m\u001B[0;34m)\u001B[0m\u001B[0;34m\u001B[0m\u001B[0;34m\u001B[0m\u001B[0m\n\u001B[0;32m---> 28\u001B[0;31m     \u001B[0mdisc_fake_pred\u001B[0m \u001B[0;34m=\u001B[0m \u001B[0mdisc\u001B[0m\u001B[0;34m(\u001B[0m\u001B[0mfake\u001B[0m\u001B[0;34m.\u001B[0m\u001B[0mdetach\u001B[0m\u001B[0;34m(\u001B[0m\u001B[0;34m)\u001B[0m\u001B[0;34m)\u001B[0m\u001B[0;34m\u001B[0m\u001B[0;34m\u001B[0m\u001B[0m\n\u001B[0m\u001B[1;32m     29\u001B[0m     \u001B[0mdisc_real_pred\u001B[0m \u001B[0;34m=\u001B[0m \u001B[0mdisc\u001B[0m\u001B[0;34m(\u001B[0m\u001B[0mreal\u001B[0m\u001B[0;34m)\u001B[0m\u001B[0;34m\u001B[0m\u001B[0;34m\u001B[0m\u001B[0m\n\u001B[1;32m     30\u001B[0m \u001B[0;34m\u001B[0m\u001B[0m\n",
      "\u001B[0;32m~/opt/anaconda3/envs/nn/lib/python3.7/site-packages/torch/nn/modules/module.py\u001B[0m in \u001B[0;36m_call_impl\u001B[0;34m(self, *input, **kwargs)\u001B[0m\n\u001B[1;32m    887\u001B[0m             \u001B[0mresult\u001B[0m \u001B[0;34m=\u001B[0m \u001B[0mself\u001B[0m\u001B[0;34m.\u001B[0m\u001B[0m_slow_forward\u001B[0m\u001B[0;34m(\u001B[0m\u001B[0;34m*\u001B[0m\u001B[0minput\u001B[0m\u001B[0;34m,\u001B[0m \u001B[0;34m**\u001B[0m\u001B[0mkwargs\u001B[0m\u001B[0;34m)\u001B[0m\u001B[0;34m\u001B[0m\u001B[0;34m\u001B[0m\u001B[0m\n\u001B[1;32m    888\u001B[0m         \u001B[0;32melse\u001B[0m\u001B[0;34m:\u001B[0m\u001B[0;34m\u001B[0m\u001B[0;34m\u001B[0m\u001B[0m\n\u001B[0;32m--> 889\u001B[0;31m             \u001B[0mresult\u001B[0m \u001B[0;34m=\u001B[0m \u001B[0mself\u001B[0m\u001B[0;34m.\u001B[0m\u001B[0mforward\u001B[0m\u001B[0;34m(\u001B[0m\u001B[0;34m*\u001B[0m\u001B[0minput\u001B[0m\u001B[0;34m,\u001B[0m \u001B[0;34m**\u001B[0m\u001B[0mkwargs\u001B[0m\u001B[0;34m)\u001B[0m\u001B[0;34m\u001B[0m\u001B[0;34m\u001B[0m\u001B[0m\n\u001B[0m\u001B[1;32m    890\u001B[0m         for hook in itertools.chain(\n\u001B[1;32m    891\u001B[0m                 \u001B[0m_global_forward_hooks\u001B[0m\u001B[0;34m.\u001B[0m\u001B[0mvalues\u001B[0m\u001B[0;34m(\u001B[0m\u001B[0;34m)\u001B[0m\u001B[0;34m,\u001B[0m\u001B[0;34m\u001B[0m\u001B[0;34m\u001B[0m\u001B[0m\n",
      "\u001B[0;32m~/Developer/intro_GANs/gansForPolymer/Naicheng/experiments/7_20/six_layers.py\u001B[0m in \u001B[0;36mforward\u001B[0;34m(self, z)\u001B[0m\n\u001B[1;32m     51\u001B[0m     \u001B[0;32mdef\u001B[0m \u001B[0mforward\u001B[0m\u001B[0;34m(\u001B[0m\u001B[0mself\u001B[0m\u001B[0;34m,\u001B[0m \u001B[0mz\u001B[0m\u001B[0;34m)\u001B[0m\u001B[0;34m:\u001B[0m\u001B[0;34m\u001B[0m\u001B[0;34m\u001B[0m\u001B[0m\n\u001B[1;32m     52\u001B[0m         \u001B[0mz\u001B[0m \u001B[0;34m=\u001B[0m \u001B[0mself\u001B[0m\u001B[0;34m.\u001B[0m\u001B[0mhidden0\u001B[0m\u001B[0;34m(\u001B[0m\u001B[0mz\u001B[0m\u001B[0;34m)\u001B[0m\u001B[0;34m\u001B[0m\u001B[0;34m\u001B[0m\u001B[0m\n\u001B[0;32m---> 53\u001B[0;31m         \u001B[0mz\u001B[0m \u001B[0;34m=\u001B[0m \u001B[0mself\u001B[0m\u001B[0;34m.\u001B[0m\u001B[0mhidden1\u001B[0m\u001B[0;34m(\u001B[0m\u001B[0mz\u001B[0m\u001B[0;34m)\u001B[0m\u001B[0;34m\u001B[0m\u001B[0;34m\u001B[0m\u001B[0m\n\u001B[0m\u001B[1;32m     54\u001B[0m         \u001B[0mz\u001B[0m \u001B[0;34m=\u001B[0m \u001B[0mself\u001B[0m\u001B[0;34m.\u001B[0m\u001B[0mhidden2\u001B[0m\u001B[0;34m(\u001B[0m\u001B[0mz\u001B[0m\u001B[0;34m)\u001B[0m\u001B[0;34m\u001B[0m\u001B[0;34m\u001B[0m\u001B[0m\n\u001B[1;32m     55\u001B[0m         \u001B[0mz\u001B[0m \u001B[0;34m=\u001B[0m \u001B[0mself\u001B[0m\u001B[0;34m.\u001B[0m\u001B[0mhidden3\u001B[0m\u001B[0;34m(\u001B[0m\u001B[0mz\u001B[0m\u001B[0;34m)\u001B[0m\u001B[0;34m\u001B[0m\u001B[0;34m\u001B[0m\u001B[0m\n",
      "\u001B[0;32m~/opt/anaconda3/envs/nn/lib/python3.7/site-packages/torch/nn/modules/module.py\u001B[0m in \u001B[0;36m_call_impl\u001B[0;34m(self, *input, **kwargs)\u001B[0m\n\u001B[1;32m    887\u001B[0m             \u001B[0mresult\u001B[0m \u001B[0;34m=\u001B[0m \u001B[0mself\u001B[0m\u001B[0;34m.\u001B[0m\u001B[0m_slow_forward\u001B[0m\u001B[0;34m(\u001B[0m\u001B[0;34m*\u001B[0m\u001B[0minput\u001B[0m\u001B[0;34m,\u001B[0m \u001B[0;34m**\u001B[0m\u001B[0mkwargs\u001B[0m\u001B[0;34m)\u001B[0m\u001B[0;34m\u001B[0m\u001B[0;34m\u001B[0m\u001B[0m\n\u001B[1;32m    888\u001B[0m         \u001B[0;32melse\u001B[0m\u001B[0;34m:\u001B[0m\u001B[0;34m\u001B[0m\u001B[0;34m\u001B[0m\u001B[0m\n\u001B[0;32m--> 889\u001B[0;31m             \u001B[0mresult\u001B[0m \u001B[0;34m=\u001B[0m \u001B[0mself\u001B[0m\u001B[0;34m.\u001B[0m\u001B[0mforward\u001B[0m\u001B[0;34m(\u001B[0m\u001B[0;34m*\u001B[0m\u001B[0minput\u001B[0m\u001B[0;34m,\u001B[0m \u001B[0;34m**\u001B[0m\u001B[0mkwargs\u001B[0m\u001B[0;34m)\u001B[0m\u001B[0;34m\u001B[0m\u001B[0;34m\u001B[0m\u001B[0m\n\u001B[0m\u001B[1;32m    890\u001B[0m         for hook in itertools.chain(\n\u001B[1;32m    891\u001B[0m                 \u001B[0m_global_forward_hooks\u001B[0m\u001B[0;34m.\u001B[0m\u001B[0mvalues\u001B[0m\u001B[0;34m(\u001B[0m\u001B[0;34m)\u001B[0m\u001B[0;34m,\u001B[0m\u001B[0;34m\u001B[0m\u001B[0;34m\u001B[0m\u001B[0m\n",
      "\u001B[0;32m~/opt/anaconda3/envs/nn/lib/python3.7/site-packages/torch/nn/modules/container.py\u001B[0m in \u001B[0;36mforward\u001B[0;34m(self, input)\u001B[0m\n\u001B[1;32m    117\u001B[0m     \u001B[0;32mdef\u001B[0m \u001B[0mforward\u001B[0m\u001B[0;34m(\u001B[0m\u001B[0mself\u001B[0m\u001B[0;34m,\u001B[0m \u001B[0minput\u001B[0m\u001B[0;34m)\u001B[0m\u001B[0;34m:\u001B[0m\u001B[0;34m\u001B[0m\u001B[0;34m\u001B[0m\u001B[0m\n\u001B[1;32m    118\u001B[0m         \u001B[0;32mfor\u001B[0m \u001B[0mmodule\u001B[0m \u001B[0;32min\u001B[0m \u001B[0mself\u001B[0m\u001B[0;34m:\u001B[0m\u001B[0;34m\u001B[0m\u001B[0;34m\u001B[0m\u001B[0m\n\u001B[0;32m--> 119\u001B[0;31m             \u001B[0minput\u001B[0m \u001B[0;34m=\u001B[0m \u001B[0mmodule\u001B[0m\u001B[0;34m(\u001B[0m\u001B[0minput\u001B[0m\u001B[0;34m)\u001B[0m\u001B[0;34m\u001B[0m\u001B[0;34m\u001B[0m\u001B[0m\n\u001B[0m\u001B[1;32m    120\u001B[0m         \u001B[0;32mreturn\u001B[0m \u001B[0minput\u001B[0m\u001B[0;34m\u001B[0m\u001B[0;34m\u001B[0m\u001B[0m\n\u001B[1;32m    121\u001B[0m \u001B[0;34m\u001B[0m\u001B[0m\n",
      "\u001B[0;32m~/opt/anaconda3/envs/nn/lib/python3.7/site-packages/torch/nn/modules/module.py\u001B[0m in \u001B[0;36m_call_impl\u001B[0;34m(self, *input, **kwargs)\u001B[0m\n\u001B[1;32m    887\u001B[0m             \u001B[0mresult\u001B[0m \u001B[0;34m=\u001B[0m \u001B[0mself\u001B[0m\u001B[0;34m.\u001B[0m\u001B[0m_slow_forward\u001B[0m\u001B[0;34m(\u001B[0m\u001B[0;34m*\u001B[0m\u001B[0minput\u001B[0m\u001B[0;34m,\u001B[0m \u001B[0;34m**\u001B[0m\u001B[0mkwargs\u001B[0m\u001B[0;34m)\u001B[0m\u001B[0;34m\u001B[0m\u001B[0;34m\u001B[0m\u001B[0m\n\u001B[1;32m    888\u001B[0m         \u001B[0;32melse\u001B[0m\u001B[0;34m:\u001B[0m\u001B[0;34m\u001B[0m\u001B[0;34m\u001B[0m\u001B[0m\n\u001B[0;32m--> 889\u001B[0;31m             \u001B[0mresult\u001B[0m \u001B[0;34m=\u001B[0m \u001B[0mself\u001B[0m\u001B[0;34m.\u001B[0m\u001B[0mforward\u001B[0m\u001B[0;34m(\u001B[0m\u001B[0;34m*\u001B[0m\u001B[0minput\u001B[0m\u001B[0;34m,\u001B[0m \u001B[0;34m**\u001B[0m\u001B[0mkwargs\u001B[0m\u001B[0;34m)\u001B[0m\u001B[0;34m\u001B[0m\u001B[0;34m\u001B[0m\u001B[0m\n\u001B[0m\u001B[1;32m    890\u001B[0m         for hook in itertools.chain(\n\u001B[1;32m    891\u001B[0m                 \u001B[0m_global_forward_hooks\u001B[0m\u001B[0;34m.\u001B[0m\u001B[0mvalues\u001B[0m\u001B[0;34m(\u001B[0m\u001B[0;34m)\u001B[0m\u001B[0;34m,\u001B[0m\u001B[0;34m\u001B[0m\u001B[0;34m\u001B[0m\u001B[0m\n",
      "\u001B[0;32m~/opt/anaconda3/envs/nn/lib/python3.7/site-packages/torch/nn/modules/linear.py\u001B[0m in \u001B[0;36mforward\u001B[0;34m(self, input)\u001B[0m\n\u001B[1;32m     92\u001B[0m \u001B[0;34m\u001B[0m\u001B[0m\n\u001B[1;32m     93\u001B[0m     \u001B[0;32mdef\u001B[0m \u001B[0mforward\u001B[0m\u001B[0;34m(\u001B[0m\u001B[0mself\u001B[0m\u001B[0;34m,\u001B[0m \u001B[0minput\u001B[0m\u001B[0;34m:\u001B[0m \u001B[0mTensor\u001B[0m\u001B[0;34m)\u001B[0m \u001B[0;34m->\u001B[0m \u001B[0mTensor\u001B[0m\u001B[0;34m:\u001B[0m\u001B[0;34m\u001B[0m\u001B[0;34m\u001B[0m\u001B[0m\n\u001B[0;32m---> 94\u001B[0;31m         \u001B[0;32mreturn\u001B[0m \u001B[0mF\u001B[0m\u001B[0;34m.\u001B[0m\u001B[0mlinear\u001B[0m\u001B[0;34m(\u001B[0m\u001B[0minput\u001B[0m\u001B[0;34m,\u001B[0m \u001B[0mself\u001B[0m\u001B[0;34m.\u001B[0m\u001B[0mweight\u001B[0m\u001B[0;34m,\u001B[0m \u001B[0mself\u001B[0m\u001B[0;34m.\u001B[0m\u001B[0mbias\u001B[0m\u001B[0;34m)\u001B[0m\u001B[0;34m\u001B[0m\u001B[0;34m\u001B[0m\u001B[0m\n\u001B[0m\u001B[1;32m     95\u001B[0m \u001B[0;34m\u001B[0m\u001B[0m\n\u001B[1;32m     96\u001B[0m     \u001B[0;32mdef\u001B[0m \u001B[0mextra_repr\u001B[0m\u001B[0;34m(\u001B[0m\u001B[0mself\u001B[0m\u001B[0;34m)\u001B[0m \u001B[0;34m->\u001B[0m \u001B[0mstr\u001B[0m\u001B[0;34m:\u001B[0m\u001B[0;34m\u001B[0m\u001B[0;34m\u001B[0m\u001B[0m\n",
      "\u001B[0;32m~/opt/anaconda3/envs/nn/lib/python3.7/site-packages/torch/nn/functional.py\u001B[0m in \u001B[0;36mlinear\u001B[0;34m(input, weight, bias)\u001B[0m\n\u001B[1;32m   1751\u001B[0m     \u001B[0;32mif\u001B[0m \u001B[0mhas_torch_function_variadic\u001B[0m\u001B[0;34m(\u001B[0m\u001B[0minput\u001B[0m\u001B[0;34m,\u001B[0m \u001B[0mweight\u001B[0m\u001B[0;34m)\u001B[0m\u001B[0;34m:\u001B[0m\u001B[0;34m\u001B[0m\u001B[0;34m\u001B[0m\u001B[0m\n\u001B[1;32m   1752\u001B[0m         \u001B[0;32mreturn\u001B[0m \u001B[0mhandle_torch_function\u001B[0m\u001B[0;34m(\u001B[0m\u001B[0mlinear\u001B[0m\u001B[0;34m,\u001B[0m \u001B[0;34m(\u001B[0m\u001B[0minput\u001B[0m\u001B[0;34m,\u001B[0m \u001B[0mweight\u001B[0m\u001B[0;34m)\u001B[0m\u001B[0;34m,\u001B[0m \u001B[0minput\u001B[0m\u001B[0;34m,\u001B[0m \u001B[0mweight\u001B[0m\u001B[0;34m,\u001B[0m \u001B[0mbias\u001B[0m\u001B[0;34m=\u001B[0m\u001B[0mbias\u001B[0m\u001B[0;34m)\u001B[0m\u001B[0;34m\u001B[0m\u001B[0;34m\u001B[0m\u001B[0m\n\u001B[0;32m-> 1753\u001B[0;31m     \u001B[0;32mreturn\u001B[0m \u001B[0mtorch\u001B[0m\u001B[0;34m.\u001B[0m\u001B[0m_C\u001B[0m\u001B[0;34m.\u001B[0m\u001B[0m_nn\u001B[0m\u001B[0;34m.\u001B[0m\u001B[0mlinear\u001B[0m\u001B[0;34m(\u001B[0m\u001B[0minput\u001B[0m\u001B[0;34m,\u001B[0m \u001B[0mweight\u001B[0m\u001B[0;34m,\u001B[0m \u001B[0mbias\u001B[0m\u001B[0;34m)\u001B[0m\u001B[0;34m\u001B[0m\u001B[0;34m\u001B[0m\u001B[0m\n\u001B[0m\u001B[1;32m   1754\u001B[0m \u001B[0;34m\u001B[0m\u001B[0m\n\u001B[1;32m   1755\u001B[0m \u001B[0;34m\u001B[0m\u001B[0m\n",
      "\u001B[0;31mKeyboardInterrupt\u001B[0m: "
     ]
    }
   ],
   "source": [
    "import json\n",
    "loss_value_disc = {}\n",
    "loss_value_gen = {}\n",
    "total_epoch = 1300\n",
    "epoch_step = 100\n",
    "for i in range(10):\n",
    "    disc_loss, gen_loss = training_bce(gen, disc, z_dim, epoch_step, my_dataloader,\n",
    "                                       device, disc_opt, gen_opt, display_step)\n",
    "    total_epoch += epoch_step\n",
    "    pro_out.save_model(gen, disc, 'model', total_epoch)\n",
    "    loss_value_disc[f'epoch{total_epoch}'] = disc_loss\n",
    "    loss_value_gen[f'epoch{total_epoch}'] = gen_loss\n",
    "with open('gen_loss.json', 'w') as fp:\n",
    "    json.dump(loss_value_gen, fp)\n",
    "with open('disc_loss.json', 'w') as fp:\n",
    "    json.dump(loss_value_disc, fp)"
   ],
   "metadata": {
    "collapsed": false,
    "pycharm": {
     "name": "#%%\n"
    }
   }
  },
  {
   "cell_type": "code",
   "execution_count": null,
   "outputs": [],
   "source": [
    "epoch = 100\n",
    "model_name = f'model_gan_{epoch}.pth.tar'\n",
    "check_point_gen = torch.load(model_name)\n",
    "gen.load_state_dict(check_point_gen['gen_state_dict'])"
   ],
   "metadata": {
    "collapsed": false,
    "pycharm": {
     "name": "#%%\n"
    }
   }
  },
  {
   "cell_type": "code",
   "execution_count": 24,
   "outputs": [
    {
     "data": {
      "text/plain": "{'count_0': 100583,\n 'count_0.5': 32911,\n 'count_1': 59890,\n 'unique': 15372,\n 'overlap': 276,\n 'crossing': 5146,\n 'self_avoid': 10854,\n 'loop4': 2459,\n 'loop6': 3235,\n 'loop8': 2273,\n 'loop10': 1391,\n 'loop12': 874,\n 'loop14': 350,\n 'rg2': 7.936912658927584,\n 'rg4': 113.94381848263745,\n 'rg6': 2233.4550004593243}"
     },
     "execution_count": 24,
     "metadata": {},
     "output_type": "execute_result"
    }
   ],
   "source": [
    "am.process_scalar_model({}, gen, three_direction_input, 14)"
   ],
   "metadata": {
    "collapsed": false,
    "pycharm": {
     "name": "#%%\n"
    }
   }
  },
  {
   "cell_type": "code",
   "execution_count": null,
   "outputs": [],
   "source": [],
   "metadata": {
    "collapsed": false,
    "pycharm": {
     "name": "#%%\n"
    }
   }
  }
 ],
 "metadata": {
  "kernelspec": {
   "display_name": "Python 3",
   "language": "python",
   "name": "python3"
  },
  "language_info": {
   "codemirror_mode": {
    "name": "ipython",
    "version": 2
   },
   "file_extension": ".py",
   "mimetype": "text/x-python",
   "name": "python",
   "nbconvert_exporter": "python",
   "pygments_lexer": "ipython2",
   "version": "2.7.6"
  }
 },
 "nbformat": 4,
 "nbformat_minor": 0
}
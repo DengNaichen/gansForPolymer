{
 "cells": [
  {
   "cell_type": "code",
   "execution_count": 8,
   "metadata": {
    "collapsed": true
   },
   "outputs": [],
   "source": [
    "import torch\n",
    "import matplotlib.pyplot as plt\n",
    "import six_four_layers as model\n",
    "import Naicheng.res.process_data.process_output as pro_out\n",
    "import Naicheng.res.process_data.process_raw_data as pr\n",
    "import Naicheng.res.process_data.dire_and_coor as dc\n",
    "import Naicheng.res.process_data.loop_overlap as lp\n",
    "from Naicheng.res.process_data.dataset import tensor_dataset\n",
    "from torch.utils.data import DataLoader\n",
    "import seaborn as sns\n",
    "import Naicheng.res.fnn.functions as func\n",
    "import Naicheng.res.process_data.analysis_model as am\n",
    "import numpy as np\n",
    "import json\n",
    "import Naicheng.res.process_data.rg2 as rg\n",
    "from Naicheng.res.fnn.training import training_bce\n",
    "import Naicheng.res.process_data.one_hot as oh"
   ]
  },
  {
   "cell_type": "code",
   "execution_count": 9,
   "outputs": [],
   "source": [
    "four_direction = np.load('../../data/four_directions.npy')\n",
    "# three_direction_input = np.load('../../data/three_directions.npy')\n",
    "# input_coordinates = np.load('../../data/coordinates.npy')"
   ],
   "metadata": {
    "collapsed": false,
    "pycharm": {
     "name": "#%%\n"
    }
   }
  },
  {
   "cell_type": "code",
   "execution_count": 15,
   "outputs": [],
   "source": [
    "four_one_hot = oh.one_hots_four(four_direction)\n",
    "np.save('../../data/one_hot_four.npy', four_one_hot)\n",
    "four_one_hot = np.load('../../data/one_hot_four.npy')"
   ],
   "metadata": {
    "collapsed": false,
    "pycharm": {
     "name": "#%%\n"
    }
   }
  },
  {
   "cell_type": "code",
   "execution_count": 16,
   "outputs": [],
   "source": [
    "shuffle = True\n",
    "batch_size = 125\n",
    "num_worker = 0\n",
    "pin_memory = True\n",
    "input_tensor = torch.Tensor(four_one_hot)\n",
    "my_dataset = tensor_dataset(input_tensor, 60, 1)\n",
    "my_dataloader = DataLoader(dataset= my_dataset,\n",
    "                            shuffle=shuffle,\n",
    "                            batch_size=batch_size,\n",
    "                            num_workers=num_worker,\n",
    "                            pin_memory=pin_memory)"
   ],
   "metadata": {
    "collapsed": false,
    "pycharm": {
     "name": "#%%\n"
    }
   }
  },
  {
   "cell_type": "code",
   "execution_count": 17,
   "outputs": [],
   "source": [
    "device = 'cuda' if torch.cuda.is_available() else 'cpu'\n",
    "z_dim = 8\n",
    "lr = 0.0001\n",
    "gen = model.GeneratorNet()\n",
    "gen_opt = torch.optim.Adam(gen.parameters(), lr = lr)\n",
    "disc = model.DiscriminatorNet()\n",
    "disc_opt = torch.optim.Adam(disc.parameters(), lr = lr)"
   ],
   "metadata": {
    "collapsed": false,
    "pycharm": {
     "name": "#%%\n"
    }
   }
  },
  {
   "cell_type": "code",
   "execution_count": 18,
   "outputs": [],
   "source": [
    "# display_step = 782\n",
    "# epoch = 1000\n",
    "# model_name = f'model_gan_{epoch}.pth.tar'\n",
    "# check_point_gen = torch.load(f'model_gan_{epoch}.pth.tar')\n",
    "# check_point_disc = torch.load(f'model_disc_{epoch}.pth.tar')\n",
    "# gen.load_state_dict(check_point_gen['gen_state_dict'])\n",
    "# disc.load_state_dict(check_point_disc['disc_state_dict'])"
   ],
   "metadata": {
    "collapsed": false,
    "pycharm": {
     "name": "#%%\n"
    }
   }
  },
  {
   "cell_type": "code",
   "execution_count": 21,
   "outputs": [
    {
     "data": {
      "text/plain": "  0%|          | 0/800 [00:00<?, ?it/s]",
      "application/vnd.jupyter.widget-view+json": {
       "version_major": 2,
       "version_minor": 0,
       "model_id": "063c56bfb0cb43058d1cd76e657cbf04"
      }
     },
     "metadata": {},
     "output_type": "display_data"
    },
    {
     "name": "stdout",
     "output_type": "stream",
     "text": [
      "Epoch 0, step 782: Generator loss: 11.704406254126903, discriminator loss: 0.0026471016305114744\n",
      "Epoch 1, step 1564: Generator loss: 11.763472132060821, discriminator loss: 0.00720304500078047\n",
      "Epoch 2, step 2346: Generator loss: 11.069876879377428, discriminator loss: 0.004303362680239264\n",
      "Epoch 3, step 3128: Generator loss: 11.051011256244765, discriminator loss: 0.0024099794093944416\n",
      "Epoch 4, step 3910: Generator loss: 9.498100449666952, discriminator loss: 0.009061617239382046\n",
      "Epoch 5, step 4692: Generator loss: 9.921838165853943, discriminator loss: 0.006407294581100719\n",
      "Epoch 6, step 5474: Generator loss: 10.291691182519463, discriminator loss: 0.007010249350036631\n",
      "Epoch 7, step 6256: Generator loss: 11.17554054235863, discriminator loss: 0.003929097632332628\n",
      "Epoch 8, step 7038: Generator loss: 10.917885875458001, discriminator loss: 0.002894158170873851\n",
      "Epoch 9, step 7820: Generator loss: 11.100077607137777, discriminator loss: 0.005767600416494857\n",
      "Epoch 10, step 8602: Generator loss: 11.129135618429366, discriminator loss: 0.005817869906206531\n",
      "Epoch 11, step 9384: Generator loss: 10.631539433813463, discriminator loss: 0.0061549821587288675\n",
      "Epoch 12, step 10166: Generator loss: 12.131755347142125, discriminator loss: 0.0031398356838800265\n",
      "Epoch 13, step 10948: Generator loss: 13.129800563578115, discriminator loss: 0.0013483867502387496\n",
      "Epoch 14, step 11730: Generator loss: 12.819473758073109, discriminator loss: 0.0016843504081977333\n",
      "Epoch 15, step 12512: Generator loss: 11.897938557597971, discriminator loss: 0.002178981678389159\n",
      "Epoch 16, step 13294: Generator loss: 11.037645028985066, discriminator loss: 0.0038831161219602494\n",
      "Epoch 17, step 14076: Generator loss: 10.374281566161333, discriminator loss: 0.009809138034540721\n",
      "Epoch 18, step 14858: Generator loss: 12.106635414425993, discriminator loss: 0.0036978047429652625\n",
      "Epoch 19, step 15640: Generator loss: 10.793892670165558, discriminator loss: 0.007917127550232635\n",
      "Epoch 20, step 16422: Generator loss: 10.293252898604065, discriminator loss: 0.004450341028690501\n",
      "Epoch 21, step 17204: Generator loss: 11.974170545787782, discriminator loss: 0.0013105514447923506\n",
      "Epoch 22, step 17986: Generator loss: 11.927735607947216, discriminator loss: 0.0017028023291710487\n",
      "Epoch 23, step 18768: Generator loss: 12.949128188745442, discriminator loss: 0.001502322370159679\n",
      "Epoch 24, step 19550: Generator loss: 12.480886475204505, discriminator loss: 0.0031446468320153785\n",
      "Epoch 25, step 20332: Generator loss: 11.733207453852103, discriminator loss: 0.0009574216278358743\n",
      "Epoch 26, step 21114: Generator loss: 12.111304814858219, discriminator loss: 0.006188742903694968\n",
      "Epoch 27, step 21896: Generator loss: 10.04597460705302, discriminator loss: 0.007682250431862206\n",
      "Epoch 28, step 22678: Generator loss: 10.499812656656255, discriminator loss: 0.005906985053834689\n",
      "Epoch 29, step 23460: Generator loss: 11.293709763480582, discriminator loss: 0.0024607505589892397\n",
      "Epoch 30, step 24242: Generator loss: 10.691170891837393, discriminator loss: 0.004021896809492243\n",
      "Epoch 31, step 25024: Generator loss: 9.888875858862994, discriminator loss: 0.010763019775016631\n",
      "Epoch 32, step 25806: Generator loss: 9.457675717980653, discriminator loss: 0.009325132397243308\n",
      "Epoch 33, step 26588: Generator loss: 11.937983982398372, discriminator loss: 0.005807207031768926\n",
      "Epoch 34, step 27370: Generator loss: 11.749780507343802, discriminator loss: 0.004659751178798352\n",
      "Epoch 35, step 28152: Generator loss: 11.218221665648247, discriminator loss: 0.004232118616563064\n",
      "Epoch 36, step 28934: Generator loss: 10.837312328845949, discriminator loss: 0.005104588392182293\n",
      "Epoch 37, step 29716: Generator loss: 9.998251843635384, discriminator loss: 0.005896703483092245\n",
      "Epoch 38, step 30498: Generator loss: 11.752406341035638, discriminator loss: 0.004383223945289802\n",
      "Epoch 39, step 31280: Generator loss: 10.650408071630151, discriminator loss: 0.0032250443399256586\n",
      "Epoch 40, step 32062: Generator loss: 11.08551395640655, discriminator loss: 0.004697937813167097\n",
      "Epoch 41, step 32844: Generator loss: 9.801463058232653, discriminator loss: 0.008444559811193157\n",
      "Epoch 42, step 33626: Generator loss: 10.543874582061381, discriminator loss: 0.0038260453537384415\n",
      "Epoch 43, step 34408: Generator loss: 10.870034623328984, discriminator loss: 0.0064770611026032186\n",
      "Epoch 43, step 35190: Generator loss: 11.380842217399026, discriminator loss: 0.0045836744718360765\n",
      "Epoch 44, step 35972: Generator loss: 11.135818315588907, discriminator loss: 0.004563444384156823\n",
      "Epoch 45, step 36754: Generator loss: 11.162405162821036, discriminator loss: 0.007999205032826955\n",
      "Epoch 46, step 37536: Generator loss: 11.832217657962417, discriminator loss: 0.0035428959646636392\n",
      "Epoch 47, step 38318: Generator loss: 12.752214678108238, discriminator loss: 0.003285422556486726\n",
      "Epoch 48, step 39100: Generator loss: 11.638163436099388, discriminator loss: 0.0039929110294543565\n",
      "Epoch 49, step 39882: Generator loss: 11.29967062430613, discriminator loss: 0.0036805589147975546\n",
      "Epoch 50, step 40664: Generator loss: 11.471493334416545, discriminator loss: 0.002300766470042338\n",
      "Epoch 51, step 41446: Generator loss: 10.12323386528912, discriminator loss: 0.00898646568428915\n",
      "Epoch 52, step 42228: Generator loss: 10.326476345891532, discriminator loss: 0.007885148385376267\n",
      "Epoch 53, step 43010: Generator loss: 9.66001443423883, discriminator loss: 0.004464127349543238\n",
      "Epoch 54, step 43792: Generator loss: 10.005398591156204, discriminator loss: 0.003173004504332062\n",
      "Epoch 55, step 44574: Generator loss: 10.617214939478414, discriminator loss: 0.005425962707302052\n",
      "Epoch 56, step 45356: Generator loss: 9.80832208452932, discriminator loss: 0.009208419256817178\n",
      "Epoch 57, step 46138: Generator loss: 10.608061523998476, discriminator loss: 0.0043669047384755615\n",
      "Epoch 58, step 46920: Generator loss: 11.235055421014582, discriminator loss: 0.004993083404907248\n",
      "Epoch 59, step 47702: Generator loss: 9.888244009993572, discriminator loss: 0.00713851135727279\n",
      "Epoch 60, step 48484: Generator loss: 11.040815155829307, discriminator loss: 0.0039391610932335355\n",
      "Epoch 61, step 49266: Generator loss: 9.379893895000443, discriminator loss: 0.006102519770733784\n",
      "Epoch 62, step 50048: Generator loss: 10.883315865645939, discriminator loss: 0.0012718214701312248\n",
      "Epoch 63, step 50830: Generator loss: 10.626927186765935, discriminator loss: 0.0036577103372207958\n",
      "Epoch 64, step 51612: Generator loss: 11.3136284942822, discriminator loss: 0.0030846536779334877\n",
      "Epoch 65, step 52394: Generator loss: 10.860877221197732, discriminator loss: 0.007953420111967403\n",
      "Epoch 66, step 53176: Generator loss: 9.220048534290868, discriminator loss: 0.010394974533376032\n",
      "Epoch 67, step 53958: Generator loss: 9.849843499605619, discriminator loss: 0.003993408308299172\n",
      "Epoch 68, step 54740: Generator loss: 10.50931969201168, discriminator loss: 0.002364918275986111\n",
      "Epoch 69, step 55522: Generator loss: 10.842470043455547, discriminator loss: 0.008299803000527326\n",
      "Epoch 70, step 56304: Generator loss: 10.6517259166064, discriminator loss: 0.0026631586485733974\n",
      "Epoch 71, step 57086: Generator loss: 12.520683275159374, discriminator loss: 0.0035785595093325282\n",
      "Epoch 72, step 57868: Generator loss: 10.774021146242566, discriminator loss: 0.007171100310390559\n",
      "Epoch 73, step 58650: Generator loss: 10.693734061077727, discriminator loss: 0.006319623586334918\n",
      "Epoch 74, step 59432: Generator loss: 10.05571993415617, discriminator loss: 0.004520508400231907\n",
      "Epoch 75, step 60214: Generator loss: 10.753254484337614, discriminator loss: 0.0027950720425224678\n",
      "Epoch 76, step 60996: Generator loss: 10.795748085012205, discriminator loss: 0.007976784314115972\n",
      "Epoch 77, step 61778: Generator loss: 11.370225197213996, discriminator loss: 0.004333726020234017\n",
      "Epoch 78, step 62560: Generator loss: 9.780261570840228, discriminator loss: 0.0055347207793802235\n",
      "Epoch 79, step 63342: Generator loss: 10.314222968142953, discriminator loss: 0.005084828574383756\n",
      "Epoch 80, step 64124: Generator loss: 10.84341309686451, discriminator loss: 0.002278615569040359\n",
      "Epoch 81, step 64906: Generator loss: 11.406593010553628, discriminator loss: 0.00304242263995003\n",
      "Epoch 82, step 65688: Generator loss: 10.3727844846828, discriminator loss: 0.00677452539917222\n",
      "Epoch 83, step 66470: Generator loss: 8.932624998604856, discriminator loss: 0.00870535053796452\n",
      "Epoch 84, step 67252: Generator loss: 10.723647824943535, discriminator loss: 0.004457792884706042\n",
      "Epoch 85, step 68034: Generator loss: 9.390934236214283, discriminator loss: 0.005213256097950853\n",
      "Epoch 86, step 68816: Generator loss: 10.27266082373422, discriminator loss: 0.003915860745396074\n",
      "Epoch 86, step 69598: Generator loss: 11.54048868701281, discriminator loss: 0.007354897978535887\n",
      "Epoch 87, step 70380: Generator loss: 10.124228873216275, discriminator loss: 0.0056943485198500225\n",
      "Epoch 88, step 71162: Generator loss: 11.310578240153122, discriminator loss: 0.0036394554224065726\n",
      "Epoch 89, step 71944: Generator loss: 10.870086255890627, discriminator loss: 0.004967501465765584\n",
      "Epoch 90, step 72726: Generator loss: 10.620973900455956, discriminator loss: 0.0052063788805293\n",
      "Epoch 91, step 73508: Generator loss: 9.943484711829953, discriminator loss: 0.008946216958684356\n",
      "Epoch 92, step 74290: Generator loss: 10.79376814676367, discriminator loss: 0.004881726583860657\n",
      "Epoch 93, step 75072: Generator loss: 10.381020941087955, discriminator loss: 0.0043599843229830395\n",
      "Epoch 94, step 75854: Generator loss: 9.618541926069332, discriminator loss: 0.003744811785709269\n",
      "Epoch 95, step 76636: Generator loss: 10.593742718781948, discriminator loss: 0.007580889373059707\n",
      "Epoch 96, step 77418: Generator loss: 9.721707997724517, discriminator loss: 0.0068342117046158125\n",
      "Epoch 97, step 78200: Generator loss: 9.560029554854875, discriminator loss: 0.006437002000512224\n",
      "Epoch 98, step 78982: Generator loss: 9.62336094361132, discriminator loss: 0.003077748969171389\n",
      "Epoch 99, step 79764: Generator loss: 10.169970392875964, discriminator loss: 0.0088699686117959\n",
      "Epoch 0, step 782: Generator loss: 9.567493848483581, discriminator loss: 0.008422081100862297\n",
      "Epoch 1, step 1564: Generator loss: 11.069092874941616, discriminator loss: 0.004068281634245721\n",
      "Epoch 2, step 2346: Generator loss: 10.29413786080792, discriminator loss: 0.006881187281385543\n",
      "Epoch 3, step 3128: Generator loss: 9.518893115050954, discriminator loss: 0.006464966056879446\n",
      "Epoch 4, step 3910: Generator loss: 9.838161074596906, discriminator loss: 0.0034225344669211923\n",
      "Epoch 5, step 4692: Generator loss: 11.32854898994231, discriminator loss: 0.004595144429269173\n",
      "Epoch 6, step 5474: Generator loss: 9.70995889905163, discriminator loss: 0.006365271946990685\n",
      "Epoch 7, step 6256: Generator loss: 9.23922232654698, discriminator loss: 0.009002473875581384\n",
      "Epoch 8, step 7038: Generator loss: 9.806763918503481, discriminator loss: 0.008041174926609277\n",
      "Epoch 9, step 7820: Generator loss: 10.42190970057416, discriminator loss: 0.004184805334934145\n",
      "Epoch 10, step 8602: Generator loss: 9.864450638861301, discriminator loss: 0.0048051612639284326\n",
      "Epoch 11, step 9384: Generator loss: 9.858665351672544, discriminator loss: 0.0036302698633435258\n",
      "Epoch 12, step 10166: Generator loss: 10.579007126791097, discriminator loss: 0.003924760142465062\n",
      "Epoch 13, step 10948: Generator loss: 10.569552053271034, discriminator loss: 0.0070315805810109615\n",
      "Epoch 14, step 11730: Generator loss: 10.335642952443383, discriminator loss: 0.006818370489372566\n",
      "Epoch 15, step 12512: Generator loss: 10.485632351902128, discriminator loss: 0.005765584909682113\n",
      "Epoch 16, step 13294: Generator loss: 11.073749267841531, discriminator loss: 0.004906432399570862\n",
      "Epoch 17, step 14076: Generator loss: 11.110867483231715, discriminator loss: 0.0025570590654044752\n",
      "Epoch 18, step 14858: Generator loss: 11.944117894867809, discriminator loss: 0.0007743431697689373\n",
      "Epoch 19, step 15640: Generator loss: 11.06273618683485, discriminator loss: 0.0022078196239943377\n",
      "Epoch 20, step 16422: Generator loss: 10.886830176233932, discriminator loss: 0.004502900908916422\n",
      "Epoch 21, step 17204: Generator loss: 10.010038192314884, discriminator loss: 0.008453692646020264\n",
      "Epoch 22, step 17986: Generator loss: 10.211743756023521, discriminator loss: 0.005533857800445367\n",
      "Epoch 23, step 18768: Generator loss: 9.156598895407091, discriminator loss: 0.009055592383768204\n",
      "Epoch 24, step 19550: Generator loss: 10.366506998496291, discriminator loss: 0.008262531696203942\n",
      "Epoch 25, step 20332: Generator loss: 9.654835883918631, discriminator loss: 0.0061031949664394755\n",
      "Epoch 26, step 21114: Generator loss: 10.522109580466816, discriminator loss: 0.0014167427268969562\n",
      "Epoch 27, step 21896: Generator loss: 11.266231917359338, discriminator loss: 0.00409739557816258\n",
      "Epoch 28, step 22678: Generator loss: 9.816791625278992, discriminator loss: 0.005901897735975224\n",
      "Epoch 29, step 23460: Generator loss: 10.528940841060168, discriminator loss: 0.003125237435918223\n",
      "Epoch 30, step 24242: Generator loss: 9.582822699680959, discriminator loss: 0.008065794510921693\n",
      "Epoch 31, step 25024: Generator loss: 9.95864233824298, discriminator loss: 0.006878143473327135\n",
      "Epoch 32, step 25806: Generator loss: 10.075691315219219, discriminator loss: 0.006255028771453408\n",
      "Epoch 33, step 26588: Generator loss: 9.403622307740813, discriminator loss: 0.004531733668459526\n",
      "Epoch 34, step 27370: Generator loss: 10.102418953195544, discriminator loss: 0.006003631362955395\n",
      "Epoch 35, step 28152: Generator loss: 10.125192638553312, discriminator loss: 0.007509263459956636\n",
      "Epoch 36, step 28934: Generator loss: 9.742555560968102, discriminator loss: 0.00743534609061622\n",
      "Epoch 37, step 29716: Generator loss: 8.752806675098741, discriminator loss: 0.010597409814765287\n",
      "Epoch 38, step 30498: Generator loss: 9.135871957939903, discriminator loss: 0.006614591079040787\n",
      "Epoch 39, step 31280: Generator loss: 8.698347313629688, discriminator loss: 0.01185323944588636\n",
      "Epoch 40, step 32062: Generator loss: 9.642876519571484, discriminator loss: 0.0022284663509731734\n",
      "Epoch 41, step 32844: Generator loss: 10.353427869889437, discriminator loss: 0.0009726952115219176\n",
      "Epoch 42, step 33626: Generator loss: 11.100223116862514, discriminator loss: 0.0006330602259472547\n",
      "Epoch 43, step 34408: Generator loss: 11.461235525053175, discriminator loss: 0.005794982732403115\n",
      "Epoch 43, step 35190: Generator loss: 12.021814530462866, discriminator loss: 0.005598049686071431\n",
      "Epoch 44, step 35972: Generator loss: 11.474663752729034, discriminator loss: 0.004301278160086963\n",
      "Epoch 45, step 36754: Generator loss: 9.384727414001878, discriminator loss: 0.009101139589236957\n",
      "Epoch 46, step 37536: Generator loss: 10.029452943436015, discriminator loss: 0.006492838429276954\n",
      "Epoch 47, step 38318: Generator loss: 11.383696260964477, discriminator loss: 0.004695015140710343\n",
      "Epoch 48, step 39100: Generator loss: 9.9926104515105, discriminator loss: 0.003958701433096504\n",
      "Epoch 49, step 39882: Generator loss: 9.442502690703057, discriminator loss: 0.004936834034159875\n",
      "Epoch 50, step 40664: Generator loss: 9.658122970015205, discriminator loss: 0.006922018645211279\n",
      "Epoch 51, step 41446: Generator loss: 9.9903252313814, discriminator loss: 0.004921290023076559\n",
      "Epoch 52, step 42228: Generator loss: 9.730387630974837, discriminator loss: 0.012045517352296075\n",
      "Epoch 53, step 43010: Generator loss: 9.28268668901585, discriminator loss: 0.010767085314130984\n",
      "Epoch 54, step 43792: Generator loss: 9.914932120486608, discriminator loss: 0.0040460530046560845\n",
      "Epoch 55, step 44574: Generator loss: 11.139224101210504, discriminator loss: 0.007747936133618196\n",
      "Epoch 56, step 45356: Generator loss: 13.374585200453646, discriminator loss: 0.002433775687042534\n",
      "Epoch 57, step 46138: Generator loss: 10.964518520228408, discriminator loss: 0.002920253144795346\n",
      "Epoch 58, step 46920: Generator loss: 11.02203846770479, discriminator loss: 0.004892365495876251\n",
      "Epoch 59, step 47702: Generator loss: 10.299476427190442, discriminator loss: 0.00455970645562233\n",
      "Epoch 60, step 48484: Generator loss: 9.130497884872327, discriminator loss: 0.01257344471632956\n",
      "Epoch 61, step 49266: Generator loss: 10.42145733089398, discriminator loss: 0.006208075345355035\n",
      "Epoch 62, step 50048: Generator loss: 8.9539650724367, discriminator loss: 0.0128531652202224\n",
      "Epoch 63, step 50830: Generator loss: 9.17696351224504, discriminator loss: 0.007538753344801774\n",
      "Epoch 64, step 51612: Generator loss: 10.42331488662975, discriminator loss: 0.005013715283589558\n",
      "Epoch 65, step 52394: Generator loss: 11.852860460500883, discriminator loss: 0.0044704339558587405\n",
      "Epoch 66, step 53176: Generator loss: 10.252182439769944, discriminator loss: 0.007716684946027199\n",
      "Epoch 67, step 53958: Generator loss: 8.59044178611483, discriminator loss: 0.009234215556944618\n",
      "Epoch 68, step 54740: Generator loss: 10.905674706944422, discriminator loss: 0.005818507238996471\n",
      "Epoch 69, step 55522: Generator loss: 9.032800321383863, discriminator loss: 0.009660367144673231\n",
      "Epoch 70, step 56304: Generator loss: 8.677713083184281, discriminator loss: 0.010530501857678018\n",
      "Epoch 71, step 57086: Generator loss: 9.281878115271052, discriminator loss: 0.008577678777409814\n",
      "Epoch 72, step 57868: Generator loss: 11.011295542387709, discriminator loss: 0.0054042729574333825\n",
      "Epoch 73, step 58650: Generator loss: 9.901659872830678, discriminator loss: 0.0040199043759902\n",
      "Epoch 74, step 59432: Generator loss: 8.918400055307268, discriminator loss: 0.007704039389305937\n",
      "Epoch 75, step 60214: Generator loss: 9.726066103371815, discriminator loss: 0.004562191813120146\n",
      "Epoch 76, step 60996: Generator loss: 8.767588346510594, discriminator loss: 0.012628050249330735\n",
      "Epoch 77, step 61778: Generator loss: 9.268702907025663, discriminator loss: 0.007775537468695213\n",
      "Epoch 78, step 62560: Generator loss: 9.328558224241437, discriminator loss: 0.005946838077322016\n",
      "Epoch 79, step 63342: Generator loss: 10.485424960055939, discriminator loss: 0.0041110985937225075\n",
      "Epoch 80, step 64124: Generator loss: 9.292903883682802, discriminator loss: 0.007585221489030128\n",
      "Epoch 81, step 64906: Generator loss: 9.979217617103222, discriminator loss: 0.009113606278077594\n",
      "Epoch 82, step 65688: Generator loss: 9.189874487459818, discriminator loss: 0.010676256857448113\n",
      "Epoch 83, step 66470: Generator loss: 10.41819660498967, discriminator loss: 0.0027342409319903297\n",
      "Epoch 84, step 67252: Generator loss: 10.2228897002042, discriminator loss: 0.004249899188730444\n",
      "Epoch 85, step 68034: Generator loss: 8.39824445473264, discriminator loss: 0.010752303659005744\n",
      "Epoch 86, step 68816: Generator loss: 11.196175255738861, discriminator loss: 0.004680592234718833\n",
      "Epoch 86, step 69598: Generator loss: 9.537724341882775, discriminator loss: 0.010737708547100894\n",
      "Epoch 87, step 70380: Generator loss: 9.0425303238432, discriminator loss: 0.00890723528506299\n",
      "Epoch 88, step 71162: Generator loss: 9.299803615531047, discriminator loss: 0.008390898920328129\n",
      "Epoch 89, step 71944: Generator loss: 11.740970685963736, discriminator loss: 0.003846428555581135\n",
      "Epoch 90, step 72726: Generator loss: 10.037825789293061, discriminator loss: 0.00786903447985827\n",
      "Epoch 91, step 73508: Generator loss: 9.398894635612708, discriminator loss: 0.005317362099879617\n",
      "Epoch 92, step 74290: Generator loss: 9.6828573481811, discriminator loss: 0.005374238973914539\n",
      "Epoch 93, step 75072: Generator loss: 10.186206587745108, discriminator loss: 0.008639912834600005\n",
      "Epoch 94, step 75854: Generator loss: 10.054281989021987, discriminator loss: 0.008737246612413065\n",
      "Epoch 95, step 76636: Generator loss: 7.824547436536127, discriminator loss: 0.01353987052565073\n",
      "Epoch 96, step 77418: Generator loss: 9.561637260115056, discriminator loss: 0.004327051720746427\n",
      "Epoch 97, step 78200: Generator loss: 11.403636434194055, discriminator loss: 0.004295524665545822\n",
      "Epoch 98, step 78982: Generator loss: 9.841163427933417, discriminator loss: 0.005397570611823956\n",
      "Epoch 99, step 79764: Generator loss: 9.282532271826662, discriminator loss: 0.010790147472086554\n",
      "Epoch 0, step 782: Generator loss: 10.154451789148647, discriminator loss: 0.007652610466109193\n",
      "Epoch 1, step 1564: Generator loss: 9.465833149297753, discriminator loss: 0.004604863610331772\n",
      "Epoch 2, step 2346: Generator loss: 10.294298162240809, discriminator loss: 0.00572954360269504\n",
      "Epoch 3, step 3128: Generator loss: 8.989004832094578, discriminator loss: 0.01195307121419494\n",
      "Epoch 4, step 3910: Generator loss: 9.916779235195943, discriminator loss: 0.005656619490978565\n",
      "Epoch 5, step 4692: Generator loss: 9.735572370421847, discriminator loss: 0.008959131999518507\n",
      "Epoch 6, step 5474: Generator loss: 10.438237820744817, discriminator loss: 0.005764052970092982\n",
      "Epoch 7, step 6256: Generator loss: 10.796812792873142, discriminator loss: 0.004401484106951051\n",
      "Epoch 8, step 7038: Generator loss: 9.537325409062376, discriminator loss: 0.007489478189178938\n",
      "Epoch 9, step 7820: Generator loss: 9.793447541458834, discriminator loss: 0.007672674642132044\n",
      "Epoch 10, step 8602: Generator loss: 10.407868234702685, discriminator loss: 0.004627579166676541\n",
      "Epoch 11, step 9384: Generator loss: 10.920424929665177, discriminator loss: 0.0037274950561747454\n",
      "Epoch 12, step 10166: Generator loss: 8.768613667744207, discriminator loss: 0.014205508061329683\n",
      "Epoch 13, step 10948: Generator loss: 9.73434718856422, discriminator loss: 0.006382742127071416\n",
      "Epoch 14, step 11730: Generator loss: 9.018267884583743, discriminator loss: 0.009735740702226357\n",
      "Epoch 15, step 12512: Generator loss: 9.435297344041906, discriminator loss: 0.006433190811579372\n",
      "Epoch 16, step 13294: Generator loss: 9.712592498725632, discriminator loss: 0.007836497128083122\n",
      "Epoch 17, step 14076: Generator loss: 9.044862861828415, discriminator loss: 0.007967640729745358\n",
      "Epoch 18, step 14858: Generator loss: 9.468998077885262, discriminator loss: 0.009993912169297889\n",
      "Epoch 19, step 15640: Generator loss: 9.995148383747901, discriminator loss: 0.004968135233868955\n",
      "Epoch 20, step 16422: Generator loss: 11.504509300222168, discriminator loss: 0.0043395530404866135\n",
      "Epoch 21, step 17204: Generator loss: 10.031844875086922, discriminator loss: 0.005445417918542345\n",
      "Epoch 22, step 17986: Generator loss: 8.881805641267007, discriminator loss: 0.012315329867838657\n",
      "Epoch 23, step 18768: Generator loss: 9.461684439188389, discriminator loss: 0.004707346280470367\n",
      "Epoch 24, step 19550: Generator loss: 9.452918543535132, discriminator loss: 0.009559216517562608\n",
      "Epoch 25, step 20332: Generator loss: 8.82712876888187, discriminator loss: 0.0075176611011873165\n",
      "Epoch 26, step 21114: Generator loss: 9.096493878937741, discriminator loss: 0.012250221008952211\n",
      "Epoch 27, step 21896: Generator loss: 9.611952744481513, discriminator loss: 0.008054688926772413\n",
      "Epoch 28, step 22678: Generator loss: 9.960796222052618, discriminator loss: 0.005606512757525626\n",
      "Epoch 29, step 23460: Generator loss: 9.016493965597707, discriminator loss: 0.010763903749027245\n",
      "Epoch 30, step 24242: Generator loss: 9.452184429558953, discriminator loss: 0.007690198224624722\n",
      "Epoch 31, step 25024: Generator loss: 9.023587749437294, discriminator loss: 0.010886035610366988\n",
      "Epoch 32, step 25806: Generator loss: 8.989696356341659, discriminator loss: 0.011061591694227957\n",
      "Epoch 33, step 26588: Generator loss: 9.653746578699488, discriminator loss: 0.006888008825645058\n",
      "Epoch 34, step 27370: Generator loss: 9.843080701120657, discriminator loss: 0.007901885246457104\n",
      "Epoch 35, step 28152: Generator loss: 9.322788941585815, discriminator loss: 0.0063386644622350705\n",
      "Epoch 36, step 28934: Generator loss: 11.089362079834993, discriminator loss: 0.00359515488462351\n",
      "Epoch 37, step 29716: Generator loss: 11.088536228365301, discriminator loss: 0.003129028395293048\n",
      "Epoch 38, step 30498: Generator loss: 8.601863118998537, discriminator loss: 0.012780616885878691\n",
      "Epoch 39, step 31280: Generator loss: 9.423719032341262, discriminator loss: 0.00722677288070994\n",
      "Epoch 40, step 32062: Generator loss: 9.191291876766067, discriminator loss: 0.013357299906441333\n",
      "Epoch 41, step 32844: Generator loss: 9.097956674483124, discriminator loss: 0.0064581799831272945\n",
      "Epoch 42, step 33626: Generator loss: 9.776091590866715, discriminator loss: 0.006194541776187553\n",
      "Epoch 43, step 34408: Generator loss: 8.450080669139655, discriminator loss: 0.013561103932975287\n",
      "Epoch 43, step 35190: Generator loss: 8.907186320980484, discriminator loss: 0.004024448384980199\n",
      "Epoch 44, step 35972: Generator loss: 11.574689655352742, discriminator loss: 0.002041341263286967\n",
      "Epoch 45, step 36754: Generator loss: 9.269528499954486, discriminator loss: 0.01316323351204022\n",
      "Epoch 46, step 37536: Generator loss: 9.81631772719379, discriminator loss: 0.010325733400747904\n",
      "Epoch 47, step 38318: Generator loss: 11.013790570866416, discriminator loss: 0.004268368799298944\n",
      "Epoch 48, step 39100: Generator loss: 12.43227474646799, discriminator loss: 0.005693386678159538\n",
      "Epoch 49, step 39882: Generator loss: 9.133444095206686, discriminator loss: 0.009498899695380104\n",
      "Epoch 50, step 40664: Generator loss: 9.091661957523709, discriminator loss: 0.005785578275587694\n",
      "Epoch 51, step 41446: Generator loss: 8.347838808508486, discriminator loss: 0.019049633249348365\n",
      "Epoch 52, step 42228: Generator loss: 9.991989386356094, discriminator loss: 0.007970401157947022\n",
      "Epoch 53, step 43010: Generator loss: 9.5717006241879, discriminator loss: 0.0025426942736192213\n",
      "Epoch 54, step 43792: Generator loss: 10.379106450263805, discriminator loss: 0.003442699779166607\n",
      "Epoch 55, step 44574: Generator loss: 9.593840550278768, discriminator loss: 0.011850215858812064\n",
      "Epoch 56, step 45356: Generator loss: 9.131320907636667, discriminator loss: 0.007634208713314882\n",
      "Epoch 57, step 46138: Generator loss: 10.550077740798516, discriminator loss: 0.002829245529686692\n",
      "Epoch 58, step 46920: Generator loss: 9.992809035893893, discriminator loss: 0.008239176688742083\n",
      "Epoch 59, step 47702: Generator loss: 9.059807426789227, discriminator loss: 0.009852060160650714\n",
      "Epoch 60, step 48484: Generator loss: 11.444570538942768, discriminator loss: 0.003019588468949626\n",
      "Epoch 61, step 49266: Generator loss: 9.66311642702889, discriminator loss: 0.010972121578789157\n",
      "Epoch 62, step 50048: Generator loss: 8.870638479052296, discriminator loss: 0.010191831251216607\n",
      "Epoch 63, step 50830: Generator loss: 9.111622215841741, discriminator loss: 0.009959206993319737\n",
      "Epoch 64, step 51612: Generator loss: 9.005765905770495, discriminator loss: 0.007095274899912712\n",
      "Epoch 65, step 52394: Generator loss: 10.933043078693277, discriminator loss: 0.0025352832452441923\n",
      "Epoch 66, step 53176: Generator loss: 11.622725613586734, discriminator loss: 0.0038282656111530296\n",
      "Epoch 67, step 53958: Generator loss: 8.15017695987925, discriminator loss: 0.015388084054870252\n",
      "Epoch 68, step 54740: Generator loss: 9.340497525451749, discriminator loss: 0.0056367603683518406\n",
      "Epoch 69, step 55522: Generator loss: 7.956395699240058, discriminator loss: 0.015186265075780721\n",
      "Epoch 70, step 56304: Generator loss: 10.39672786744355, discriminator loss: 0.003757090329483726\n",
      "Epoch 71, step 57086: Generator loss: 10.592574677503935, discriminator loss: 0.006633936658722052\n",
      "Epoch 72, step 57868: Generator loss: 10.456877076717278, discriminator loss: 0.004433642300696508\n",
      "Epoch 73, step 58650: Generator loss: 8.135687095125009, discriminator loss: 0.01344762598303759\n",
      "Epoch 74, step 59432: Generator loss: 8.981076440542864, discriminator loss: 0.007623332712896892\n",
      "Epoch 75, step 60214: Generator loss: 8.715857149085126, discriminator loss: 0.016785116512742237\n",
      "Epoch 76, step 60996: Generator loss: 10.827411341850112, discriminator loss: 0.005847211693132989\n",
      "Epoch 77, step 61778: Generator loss: 11.405888004376152, discriminator loss: 0.01093437729864758\n",
      "Epoch 78, step 62560: Generator loss: 9.414865814511426, discriminator loss: 0.008304809404983607\n",
      "Epoch 79, step 63342: Generator loss: 9.80224801512325, discriminator loss: 0.006865506126384251\n",
      "Epoch 80, step 64124: Generator loss: 7.8709512391053655, discriminator loss: 0.015959312438259515\n",
      "Epoch 81, step 64906: Generator loss: 8.49906184179399, discriminator loss: 0.007075091356245896\n",
      "Epoch 82, step 65688: Generator loss: 9.425843280904429, discriminator loss: 0.007393526591482564\n",
      "Epoch 83, step 66470: Generator loss: 10.891332458047295, discriminator loss: 0.006872101807171499\n",
      "Epoch 84, step 67252: Generator loss: 8.84795995197638, discriminator loss: 0.009075508715537684\n",
      "Epoch 85, step 68034: Generator loss: 7.7975243363539, discriminator loss: 0.015656810396214242\n",
      "Epoch 86, step 68816: Generator loss: 9.44241672464648, discriminator loss: 0.006018002623771768\n",
      "Epoch 86, step 69598: Generator loss: 9.547888642381828, discriminator loss: 0.010088602589518537\n",
      "Epoch 87, step 70380: Generator loss: 10.015244784562496, discriminator loss: 0.007549876385080571\n",
      "Epoch 88, step 71162: Generator loss: 11.427738722632908, discriminator loss: 0.0017805041144743153\n",
      "Epoch 89, step 71944: Generator loss: 12.194372691766684, discriminator loss: 0.0017397753565290875\n",
      "Epoch 90, step 72726: Generator loss: 9.926532460600512, discriminator loss: 0.011865245338375711\n",
      "Epoch 91, step 73508: Generator loss: 7.244216268934561, discriminator loss: 0.0190496855203117\n",
      "Epoch 92, step 74290: Generator loss: 10.172263883873642, discriminator loss: 0.007292165682455937\n",
      "Epoch 93, step 75072: Generator loss: 12.296388929762188, discriminator loss: 0.004803628473345343\n",
      "Epoch 94, step 75854: Generator loss: 11.356666852751033, discriminator loss: 0.0026702463167513264\n",
      "Epoch 95, step 76636: Generator loss: 8.534403604619639, discriminator loss: 0.016449305880747785\n",
      "Epoch 96, step 77418: Generator loss: 9.7206815984243, discriminator loss: 0.004359681700076929\n",
      "Epoch 97, step 78200: Generator loss: 9.195935695677456, discriminator loss: 0.012952200535321137\n",
      "Epoch 98, step 78982: Generator loss: 10.69760849103904, discriminator loss: 0.0034168122568461728\n",
      "Epoch 99, step 79764: Generator loss: 11.306839270969792, discriminator loss: 0.002371332408090805\n",
      "Epoch 0, step 782: Generator loss: 10.93055222162505, discriminator loss: 0.006042423775974636\n",
      "Epoch 1, step 1564: Generator loss: 9.580548362658762, discriminator loss: 0.005457133600858099\n",
      "Epoch 2, step 2346: Generator loss: 9.787668759255777, discriminator loss: 0.0062086626156255265\n",
      "Epoch 3, step 3128: Generator loss: 10.309544593781775, discriminator loss: 0.006320243619768023\n",
      "Epoch 4, step 3910: Generator loss: 8.906620473812914, discriminator loss: 0.012483334763782734\n",
      "Epoch 5, step 4692: Generator loss: 10.310061912097586, discriminator loss: 0.008423482127383973\n",
      "Epoch 6, step 5474: Generator loss: 9.165368577098599, discriminator loss: 0.009230781440086284\n",
      "Epoch 7, step 6256: Generator loss: 8.921731786654734, discriminator loss: 0.008982957201100868\n",
      "Epoch 8, step 7038: Generator loss: 8.338842952342908, discriminator loss: 0.014098894025850862\n",
      "Epoch 9, step 7820: Generator loss: 10.056185582104842, discriminator loss: 0.004098309029871104\n",
      "Epoch 10, step 8602: Generator loss: 11.209421376133214, discriminator loss: 0.0031231828485461465\n",
      "Epoch 11, step 9384: Generator loss: 8.755436228974093, discriminator loss: 0.018858183530758695\n",
      "Epoch 12, step 10166: Generator loss: 8.607971282261406, discriminator loss: 0.00780204300058348\n",
      "Epoch 13, step 10948: Generator loss: 8.836533290955714, discriminator loss: 0.01507414873973976\n",
      "Epoch 14, step 11730: Generator loss: 9.510194201603557, discriminator loss: 0.006694195058882024\n",
      "Epoch 15, step 12512: Generator loss: 10.391266975866277, discriminator loss: 0.00427792672525056\n",
      "Epoch 16, step 13294: Generator loss: 8.72480280381029, discriminator loss: 0.011472595381056107\n",
      "Epoch 17, step 14076: Generator loss: 9.06071346982971, discriminator loss: 0.006250318138916882\n",
      "Epoch 18, step 14858: Generator loss: 10.383813217777734, discriminator loss: 0.0026071104308901735\n",
      "Epoch 19, step 15640: Generator loss: 9.975420825621667, discriminator loss: 0.007221790637319999\n",
      "Epoch 20, step 16422: Generator loss: 7.378931977254958, discriminator loss: 0.018518207755679385\n",
      "Epoch 21, step 17204: Generator loss: 9.36723096169474, discriminator loss: 0.008528911821318494\n",
      "Epoch 22, step 17986: Generator loss: 7.8825461126654375, discriminator loss: 0.01889764833660935\n",
      "Epoch 23, step 18768: Generator loss: 8.381126162341188, discriminator loss: 0.016726977091825676\n",
      "Epoch 24, step 19550: Generator loss: 8.978361000490318, discriminator loss: 0.014387689421486795\n",
      "Epoch 25, step 20332: Generator loss: 9.812238203595069, discriminator loss: 0.007489477324977537\n",
      "Epoch 26, step 21114: Generator loss: 7.668320104594118, discriminator loss: 0.01894012038942689\n",
      "Epoch 27, step 21896: Generator loss: 8.954082415231962, discriminator loss: 0.007383434575378886\n",
      "Epoch 28, step 22678: Generator loss: 8.883100646231174, discriminator loss: 0.008329182290146809\n",
      "Epoch 29, step 23460: Generator loss: 8.977533802047107, discriminator loss: 0.009824921047347418\n",
      "Epoch 30, step 24242: Generator loss: 10.13443699578191, discriminator loss: 0.009389772915047721\n",
      "Epoch 31, step 25024: Generator loss: 8.59535620584513, discriminator loss: 0.01146692632640357\n",
      "Epoch 32, step 25806: Generator loss: 10.411393515594169, discriminator loss: 0.005836916757365904\n",
      "Epoch 33, step 26588: Generator loss: 9.454230671953368, discriminator loss: 0.011277825719051063\n",
      "Epoch 34, step 27370: Generator loss: 9.320704747343914, discriminator loss: 0.014191104539489461\n",
      "Epoch 35, step 28152: Generator loss: 8.26872711230422, discriminator loss: 0.01302337530109992\n",
      "Epoch 36, step 28934: Generator loss: 9.654753611215849, discriminator loss: 0.0033039567996268815\n",
      "Epoch 37, step 29716: Generator loss: 7.455083724482892, discriminator loss: 0.0264951442818284\n",
      "Epoch 38, step 30498: Generator loss: 7.638506442384653, discriminator loss: 0.016170388043974516\n",
      "Epoch 39, step 31280: Generator loss: 9.409725566654247, discriminator loss: 0.005822409201152905\n",
      "Epoch 40, step 32062: Generator loss: 7.845296718275455, discriminator loss: 0.019566977169805953\n",
      "Epoch 41, step 32844: Generator loss: 8.289206601164835, discriminator loss: 0.010122122238376002\n",
      "Epoch 42, step 33626: Generator loss: 7.716704096025822, discriminator loss: 0.020218565961105783\n",
      "Epoch 43, step 34408: Generator loss: 9.815356736292928, discriminator loss: 0.005155186892435082\n",
      "Epoch 43, step 35190: Generator loss: 9.973033130626256, discriminator loss: 0.00514820147777417\n",
      "Epoch 44, step 35972: Generator loss: 9.53471514514035, discriminator loss: 0.00527125200166416\n",
      "Epoch 45, step 36754: Generator loss: 8.832868648002206, discriminator loss: 0.011814937758514192\n",
      "Epoch 46, step 37536: Generator loss: 9.353422214917819, discriminator loss: 0.007054112793570236\n",
      "Epoch 47, step 38318: Generator loss: 8.326820976593915, discriminator loss: 0.013515094012293567\n",
      "Epoch 48, step 39100: Generator loss: 8.355380640005517, discriminator loss: 0.010468245454868264\n",
      "Epoch 49, step 39882: Generator loss: 9.295433348097154, discriminator loss: 0.011971284667613682\n",
      "Epoch 50, step 40664: Generator loss: 8.878028131811822, discriminator loss: 0.012729912354593595\n",
      "Epoch 51, step 41446: Generator loss: 9.632275950878181, discriminator loss: 0.008182233469525017\n",
      "Epoch 52, step 42228: Generator loss: 9.348162434595016, discriminator loss: 0.010109226094492439\n",
      "Epoch 53, step 43010: Generator loss: 10.172042928388365, discriminator loss: 0.006431596589388332\n",
      "Epoch 54, step 43792: Generator loss: 7.735053864281501, discriminator loss: 0.015152389954668664\n",
      "Epoch 55, step 44574: Generator loss: 8.881088070857254, discriminator loss: 0.01369162434891439\n",
      "Epoch 56, step 45356: Generator loss: 8.634530705869045, discriminator loss: 0.010675471543934067\n",
      "Epoch 57, step 46138: Generator loss: 8.569326107459295, discriminator loss: 0.013064815210389295\n",
      "Epoch 58, step 46920: Generator loss: 8.959287226962296, discriminator loss: 0.008014223798915199\n",
      "Epoch 59, step 47702: Generator loss: 9.916237326839079, discriminator loss: 0.006570103222864082\n",
      "Epoch 60, step 48484: Generator loss: 9.460029163019126, discriminator loss: 0.01095336004765272\n",
      "Epoch 61, step 49266: Generator loss: 8.84536577429614, discriminator loss: 0.012716386238816605\n",
      "Epoch 62, step 50048: Generator loss: 7.931445987023348, discriminator loss: 0.014171652961503732\n",
      "Epoch 63, step 50830: Generator loss: 8.046907926154567, discriminator loss: 0.016195167745540983\n",
      "Epoch 64, step 51612: Generator loss: 9.735781288512829, discriminator loss: 0.0050733590267466626\n",
      "Epoch 65, step 52394: Generator loss: 8.317672888641164, discriminator loss: 0.013089972189236451\n",
      "Epoch 66, step 53176: Generator loss: 9.296620948845165, discriminator loss: 0.007925594332729925\n",
      "Epoch 67, step 53958: Generator loss: 10.315456468430934, discriminator loss: 0.0033276657534810007\n",
      "Epoch 68, step 54740: Generator loss: 11.501700913509747, discriminator loss: 0.002343014643584024\n",
      "Epoch 69, step 55522: Generator loss: 9.101106160741939, discriminator loss: 0.018099613075954313\n",
      "Epoch 70, step 56304: Generator loss: 7.988966272919987, discriminator loss: 0.011735249235850953\n",
      "Epoch 71, step 57086: Generator loss: 7.132916648064739, discriminator loss: 0.027109319645026563\n",
      "Epoch 72, step 57868: Generator loss: 9.3298046692558, discriminator loss: 0.0038198713261066637\n",
      "Epoch 73, step 58650: Generator loss: 8.98784392995907, discriminator loss: 0.008071272157375952\n",
      "Epoch 74, step 59432: Generator loss: 8.067178093868758, discriminator loss: 0.015989532731474944\n",
      "Epoch 75, step 60214: Generator loss: 10.450582481101346, discriminator loss: 0.0036776708921373606\n",
      "Epoch 76, step 60996: Generator loss: 10.29546031317748, discriminator loss: 0.0053532502649252895\n",
      "Epoch 77, step 61778: Generator loss: 10.289788071761658, discriminator loss: 0.003870443716478542\n",
      "Epoch 78, step 62560: Generator loss: 7.705421626415397, discriminator loss: 0.02298034965366949\n",
      "Epoch 79, step 63342: Generator loss: 9.000371595782692, discriminator loss: 0.010412246987829225\n",
      "Epoch 80, step 64124: Generator loss: 8.283597912020086, discriminator loss: 0.018981436976966165\n",
      "Epoch 81, step 64906: Generator loss: 8.30674175899046, discriminator loss: 0.012696569467454982\n",
      "Epoch 82, step 65688: Generator loss: 8.272053456367434, discriminator loss: 0.013859060428142412\n",
      "Epoch 83, step 66470: Generator loss: 9.147423141752679, discriminator loss: 0.012518862464355143\n",
      "Epoch 84, step 67252: Generator loss: 8.652809393680325, discriminator loss: 0.013455335076724475\n",
      "Epoch 85, step 68034: Generator loss: 9.863724930512017, discriminator loss: 0.0048910557508252015\n",
      "Epoch 86, step 68816: Generator loss: 11.59284160509135, discriminator loss: 0.004469397023630475\n",
      "Epoch 86, step 69598: Generator loss: 8.426620038878893, discriminator loss: 0.01756332740091626\n",
      "Epoch 87, step 70380: Generator loss: 9.234060196620412, discriminator loss: 0.006967282234640745\n",
      "Epoch 88, step 71162: Generator loss: 10.770678162879657, discriminator loss: 0.0061551692050277555\n",
      "Epoch 89, step 71944: Generator loss: 9.43553066497569, discriminator loss: 0.005443527662020197\n",
      "Epoch 90, step 72726: Generator loss: 9.063417370057161, discriminator loss: 0.01585245795649824\n",
      "Epoch 91, step 73508: Generator loss: 8.185449816076957, discriminator loss: 0.013571256855199047\n",
      "Epoch 92, step 74290: Generator loss: 8.092296385704104, discriminator loss: 0.016600964447360454\n",
      "Epoch 93, step 75072: Generator loss: 7.963926712265408, discriminator loss: 0.014120987977709285\n",
      "Epoch 94, step 75854: Generator loss: 10.471415013608418, discriminator loss: 0.01049040752299512\n",
      "Epoch 95, step 76636: Generator loss: 9.012375520013496, discriminator loss: 0.010396481632603965\n",
      "Epoch 96, step 77418: Generator loss: 8.657705708842748, discriminator loss: 0.012746879139461357\n",
      "Epoch 97, step 78200: Generator loss: 9.69873538041663, discriminator loss: 0.007492189586958531\n",
      "Epoch 98, step 78982: Generator loss: 7.123661891273836, discriminator loss: 0.02097896519472854\n",
      "Epoch 99, step 79764: Generator loss: 7.97244005800818, discriminator loss: 0.015222094454424425\n",
      "Epoch 0, step 782: Generator loss: 6.798419047499558, discriminator loss: 0.02816930899060539\n",
      "Epoch 1, step 1564: Generator loss: 9.065102914410186, discriminator loss: 0.010541400070252482\n",
      "Epoch 2, step 2346: Generator loss: 7.782137029921003, discriminator loss: 0.02713067975514197\n",
      "Epoch 3, step 3128: Generator loss: 8.133272274070995, discriminator loss: 0.014103763908541733\n",
      "Epoch 4, step 3910: Generator loss: 7.8574556139729, discriminator loss: 0.021108124943808333\n",
      "Epoch 5, step 4692: Generator loss: 9.849871138477571, discriminator loss: 0.005085759369765468\n",
      "Epoch 6, step 5474: Generator loss: 9.489502538500549, discriminator loss: 0.009292283979950692\n",
      "Epoch 7, step 6256: Generator loss: 8.60329505793578, discriminator loss: 0.006663742482859746\n",
      "Epoch 8, step 7038: Generator loss: 8.248609958097452, discriminator loss: 0.014639179510849103\n",
      "Epoch 9, step 7820: Generator loss: 7.774726660355276, discriminator loss: 0.023134558664402883\n",
      "Epoch 10, step 8602: Generator loss: 7.9246235796252895, discriminator loss: 0.02229897643264105\n",
      "Epoch 11, step 9384: Generator loss: 8.894158023702522, discriminator loss: 0.012706034028411521\n",
      "Epoch 12, step 10166: Generator loss: 8.441350154559617, discriminator loss: 0.015811562329191144\n",
      "Epoch 13, step 10948: Generator loss: 8.867846798104084, discriminator loss: 0.015879921637528476\n",
      "Epoch 14, step 11730: Generator loss: 10.596653052912957, discriminator loss: 0.008845323380167882\n",
      "Epoch 15, step 12512: Generator loss: 9.482018731134325, discriminator loss: 0.00846066345434512\n",
      "Epoch 16, step 13294: Generator loss: 9.481017574324946, discriminator loss: 0.007474537759046364\n",
      "Epoch 17, step 14076: Generator loss: 9.965795573676033, discriminator loss: 0.0033442805429040436\n",
      "Epoch 18, step 14858: Generator loss: 9.98353331839033, discriminator loss: 0.005791244256203948\n",
      "Epoch 19, step 15640: Generator loss: 8.02512230927987, discriminator loss: 0.018200748680603677\n",
      "Epoch 20, step 16422: Generator loss: 7.937452662021609, discriminator loss: 0.015658541476734945\n",
      "Epoch 21, step 17204: Generator loss: 9.343917813142541, discriminator loss: 0.011506068786127427\n",
      "Epoch 22, step 17986: Generator loss: 9.016135833452422, discriminator loss: 0.01164988416119117\n",
      "Epoch 23, step 18768: Generator loss: 9.457012625301575, discriminator loss: 0.01036070942883523\n",
      "Epoch 24, step 19550: Generator loss: 8.042014657993752, discriminator loss: 0.01715532322874969\n",
      "Epoch 25, step 20332: Generator loss: 9.094717489788907, discriminator loss: 0.006500120607686035\n",
      "Epoch 26, step 21114: Generator loss: 10.50915367402079, discriminator loss: 0.0033042174748997588\n",
      "Epoch 27, step 21896: Generator loss: 7.185027076155329, discriminator loss: 0.02372077211348233\n",
      "Epoch 28, step 22678: Generator loss: 8.541294505833976, discriminator loss: 0.00966505270798619\n",
      "Epoch 29, step 23460: Generator loss: 8.315372398747208, discriminator loss: 0.018291334835151114\n",
      "Epoch 30, step 24242: Generator loss: 8.745589063600512, discriminator loss: 0.009992077222398067\n",
      "Epoch 31, step 25024: Generator loss: 9.381676040951858, discriminator loss: 0.007405023603533597\n",
      "Epoch 32, step 25806: Generator loss: 7.8216766811087926, discriminator loss: 0.015970787499695438\n",
      "Epoch 33, step 26588: Generator loss: 9.491686642322396, discriminator loss: 0.006973778953041984\n",
      "Epoch 34, step 27370: Generator loss: 8.62239470079428, discriminator loss: 0.014644127629660554\n",
      "Epoch 35, step 28152: Generator loss: 8.69423538583624, discriminator loss: 0.008799176524526345\n",
      "Epoch 36, step 28934: Generator loss: 8.95698289066324, discriminator loss: 0.006269287731455466\n",
      "Epoch 37, step 29716: Generator loss: 7.2707114555036885, discriminator loss: 0.021720029188796716\n",
      "Epoch 38, step 30498: Generator loss: 7.716329645317841, discriminator loss: 0.018033126457546688\n",
      "Epoch 39, step 31280: Generator loss: 7.725867709235469, discriminator loss: 0.017307531163676268\n",
      "Epoch 40, step 32062: Generator loss: 9.438597936459514, discriminator loss: 0.005015337209375346\n",
      "Epoch 41, step 32844: Generator loss: 9.892260911214684, discriminator loss: 0.006218125155331288\n",
      "Epoch 42, step 33626: Generator loss: 8.618055946076913, discriminator loss: 0.019866997792023475\n",
      "Epoch 43, step 34408: Generator loss: 8.687000953937739, discriminator loss: 0.012916587444156725\n",
      "Epoch 43, step 35190: Generator loss: 10.341509048896071, discriminator loss: 0.0046630376478587945\n",
      "Epoch 44, step 35972: Generator loss: 11.298310147222042, discriminator loss: 0.009992733131147428\n",
      "Epoch 45, step 36754: Generator loss: 8.748955657719955, discriminator loss: 0.008842118036792714\n",
      "Epoch 46, step 37536: Generator loss: 11.380487644458974, discriminator loss: 0.0051009119795340585\n",
      "Epoch 47, step 38318: Generator loss: 7.779478132877197, discriminator loss: 0.019315075895088345\n",
      "Epoch 48, step 39100: Generator loss: 9.688871611109773, discriminator loss: 0.006455732453695975\n",
      "Epoch 49, step 39882: Generator loss: 8.981397192191606, discriminator loss: 0.016176022438198\n",
      "Epoch 50, step 40664: Generator loss: 8.35368329057913, discriminator loss: 0.01164337486901637\n",
      "Epoch 51, step 41446: Generator loss: 9.1757212923006, discriminator loss: 0.010075951890383975\n",
      "Epoch 52, step 42228: Generator loss: 7.386358480929111, discriminator loss: 0.027841415038690226\n",
      "Epoch 53, step 43010: Generator loss: 9.171677385754615, discriminator loss: 0.006216022068495961\n",
      "Epoch 54, step 43792: Generator loss: 7.709647460971666, discriminator loss: 0.018650241458462207\n",
      "Epoch 55, step 44574: Generator loss: 9.153838094238125, discriminator loss: 0.01005944661788873\n",
      "Epoch 56, step 45356: Generator loss: 7.748263631635302, discriminator loss: 0.02341544626074035\n",
      "Epoch 57, step 46138: Generator loss: 8.230007408220136, discriminator loss: 0.008314569403696237\n",
      "Epoch 58, step 46920: Generator loss: 8.64204100086865, discriminator loss: 0.005064757699181106\n",
      "Epoch 59, step 47702: Generator loss: 7.118972642952224, discriminator loss: 0.028572626497011918\n",
      "Epoch 60, step 48484: Generator loss: 9.213794033850563, discriminator loss: 0.010828609466194695\n",
      "Epoch 61, step 49266: Generator loss: 9.150088251704151, discriminator loss: 0.010129428744349453\n",
      "Epoch 62, step 50048: Generator loss: 7.698814143305242, discriminator loss: 0.02683143233938462\n",
      "Epoch 63, step 50830: Generator loss: 8.68567878206063, discriminator loss: 0.013745513633000746\n",
      "Epoch 64, step 51612: Generator loss: 7.631430789027975, discriminator loss: 0.030654631143458438\n",
      "Epoch 65, step 52394: Generator loss: 8.436995986172603, discriminator loss: 0.019469645841869238\n",
      "Epoch 66, step 53176: Generator loss: 7.189485899932555, discriminator loss: 0.02086519382117244\n",
      "Epoch 67, step 53958: Generator loss: 8.4461283860609, discriminator loss: 0.008684660634476262\n",
      "Epoch 68, step 54740: Generator loss: 7.3452795978702285, discriminator loss: 0.018907047276281057\n",
      "Epoch 69, step 55522: Generator loss: 7.577087089533694, discriminator loss: 0.023348899868875506\n",
      "Epoch 70, step 56304: Generator loss: 9.242752064219518, discriminator loss: 0.009232275340969008\n",
      "Epoch 71, step 57086: Generator loss: 8.559088623432244, discriminator loss: 0.01911977893005524\n",
      "Epoch 72, step 57868: Generator loss: 8.040715245639563, discriminator loss: 0.015684758817851172\n",
      "Epoch 73, step 58650: Generator loss: 8.165750919400567, discriminator loss: 0.026127267997358188\n",
      "Epoch 74, step 59432: Generator loss: 8.133793462572802, discriminator loss: 0.025829845512716963\n",
      "Epoch 75, step 60214: Generator loss: 7.335639471897995, discriminator loss: 0.022216537644874666\n",
      "Epoch 76, step 60996: Generator loss: 8.001562993544743, discriminator loss: 0.013377904928812792\n",
      "Epoch 77, step 61778: Generator loss: 8.472840170116378, discriminator loss: 0.013499933008156363\n",
      "Epoch 78, step 62560: Generator loss: 9.776167386633047, discriminator loss: 0.009313202845292197\n",
      "Epoch 79, step 63342: Generator loss: 7.992511844391105, discriminator loss: 0.024319762194021818\n",
      "Epoch 80, step 64124: Generator loss: 7.959912181205458, discriminator loss: 0.01727581023786582\n",
      "Epoch 81, step 64906: Generator loss: 9.286657479108136, discriminator loss: 0.010177277665234845\n",
      "Epoch 82, step 65688: Generator loss: 8.189177600319127, discriminator loss: 0.019528294297749767\n",
      "Epoch 83, step 66470: Generator loss: 9.762935745136819, discriminator loss: 0.0054474653547994896\n",
      "Epoch 84, step 67252: Generator loss: 9.631210337514448, discriminator loss: 0.008264232155401112\n",
      "Epoch 85, step 68034: Generator loss: 7.047592977733562, discriminator loss: 0.030367308170580837\n",
      "Epoch 86, step 68816: Generator loss: 7.606192510756084, discriminator loss: 0.022585789616609144\n",
      "Epoch 86, step 69598: Generator loss: 8.77289741789289, discriminator loss: 0.010296000666884209\n",
      "Epoch 87, step 70380: Generator loss: 9.22353762860798, discriminator loss: 0.00816245553073074\n",
      "Epoch 88, step 71162: Generator loss: 8.001679074733769, discriminator loss: 0.014117120892767288\n",
      "Epoch 89, step 71944: Generator loss: 7.47523736343969, discriminator loss: 0.026759759161409657\n",
      "Epoch 90, step 72726: Generator loss: 6.96602179205327, discriminator loss: 0.02794766360926596\n",
      "Epoch 91, step 73508: Generator loss: 8.604653474924818, discriminator loss: 0.011626576020954313\n",
      "Epoch 92, step 74290: Generator loss: 9.214630362322875, discriminator loss: 0.010071702088657203\n",
      "Epoch 93, step 75072: Generator loss: 8.574886204946381, discriminator loss: 0.007791131352664852\n",
      "Epoch 94, step 75854: Generator loss: 7.936281161235113, discriminator loss: 0.029063402630989867\n",
      "Epoch 95, step 76636: Generator loss: 8.397226967165226, discriminator loss: 0.012482069966671627\n",
      "Epoch 96, step 77418: Generator loss: 6.936518662420981, discriminator loss: 0.026046212165035262\n",
      "Epoch 97, step 78200: Generator loss: 8.253401008103511, discriminator loss: 0.015649242593408552\n",
      "Epoch 98, step 78982: Generator loss: 9.083667086213456, discriminator loss: 0.008765682240489871\n",
      "Epoch 99, step 79764: Generator loss: 7.430428786350941, discriminator loss: 0.02080736809894424\n",
      "Epoch 0, step 782: Generator loss: 7.832086428961796, discriminator loss: 0.015866654636094223\n",
      "Epoch 1, step 1564: Generator loss: 8.048744553495247, discriminator loss: 0.02062597298610804\n",
      "Epoch 2, step 2346: Generator loss: 7.230099775907032, discriminator loss: 0.028194265831928782\n",
      "Epoch 3, step 3128: Generator loss: 9.763891702417826, discriminator loss: 0.005389784932677258\n",
      "Epoch 4, step 3910: Generator loss: 9.543994441361676, discriminator loss: 0.015248696071599425\n",
      "Epoch 5, step 4692: Generator loss: 6.675120878402529, discriminator loss: 0.03132726419965686\n",
      "Epoch 6, step 5474: Generator loss: 7.7962887305432895, discriminator loss: 0.013438988481401865\n",
      "Epoch 7, step 6256: Generator loss: 6.637970814009762, discriminator loss: 0.0354812172756744\n",
      "Epoch 8, step 7038: Generator loss: 7.994535486411556, discriminator loss: 0.008584070591600802\n",
      "Epoch 9, step 7820: Generator loss: 7.713964098249859, discriminator loss: 0.027117297511182775\n",
      "Epoch 10, step 8602: Generator loss: 7.838958472547019, discriminator loss: 0.0157855785214905\n",
      "Epoch 11, step 9384: Generator loss: 7.506440849255415, discriminator loss: 0.02259417796036157\n",
      "Epoch 12, step 10166: Generator loss: 7.605406487689291, discriminator loss: 0.033784779651156616\n",
      "Epoch 13, step 10948: Generator loss: 8.614092833550691, discriminator loss: 0.00994892037518874\n",
      "Epoch 14, step 11730: Generator loss: 8.022696524934704, discriminator loss: 0.021493544525694946\n",
      "Epoch 15, step 12512: Generator loss: 8.11992435321174, discriminator loss: 0.016100497595379924\n",
      "Epoch 16, step 13294: Generator loss: 9.071445070569169, discriminator loss: 0.014127486323829234\n",
      "Epoch 17, step 14076: Generator loss: 9.34188878444759, discriminator loss: 0.006724279397749723\n",
      "Epoch 18, step 14858: Generator loss: 8.31092286536761, discriminator loss: 0.021874261470047635\n",
      "Epoch 19, step 15640: Generator loss: 9.095283521105886, discriminator loss: 0.01357262290704845\n",
      "Epoch 20, step 16422: Generator loss: 9.391301247774791, discriminator loss: 0.014131942842066704\n",
      "Epoch 21, step 17204: Generator loss: 8.264874388799639, discriminator loss: 0.014570938005364319\n",
      "Epoch 22, step 17986: Generator loss: 8.070184078972668, discriminator loss: 0.01657106811956317\n",
      "Epoch 23, step 18768: Generator loss: 7.0218580116701155, discriminator loss: 0.026850360551523875\n",
      "Epoch 24, step 19550: Generator loss: 7.5780904225986045, discriminator loss: 0.020673139827929454\n",
      "Epoch 25, step 20332: Generator loss: 7.742271532487986, discriminator loss: 0.024425452738824512\n",
      "Epoch 26, step 21114: Generator loss: 6.83315166305093, discriminator loss: 0.026014984404022713\n",
      "Epoch 27, step 21896: Generator loss: 8.341318542085341, discriminator loss: 0.012055581448773275\n",
      "Epoch 28, step 22678: Generator loss: 9.897967827594503, discriminator loss: 0.004525324956024465\n",
      "Epoch 29, step 23460: Generator loss: 11.207401528077963, discriminator loss: 0.0023515331246584587\n",
      "Epoch 30, step 24242: Generator loss: 11.619999532504446, discriminator loss: 0.013806277419947263\n",
      "Epoch 31, step 25024: Generator loss: 8.07158267284598, discriminator loss: 0.016762203438637126\n",
      "Epoch 32, step 25806: Generator loss: 7.750900485021686, discriminator loss: 0.02056077869127107\n",
      "Epoch 33, step 26588: Generator loss: 9.65277291136935, discriminator loss: 0.009074289726571724\n",
      "Epoch 34, step 27370: Generator loss: 9.081699773783582, discriminator loss: 0.011644463682559265\n",
      "Epoch 35, step 28152: Generator loss: 8.189123127771458, discriminator loss: 0.023837577634485994\n",
      "Epoch 36, step 28934: Generator loss: 8.643656237960776, discriminator loss: 0.01123972243626864\n",
      "Epoch 37, step 29716: Generator loss: 8.44660577566727, discriminator loss: 0.013909165496471091\n",
      "Epoch 38, step 30498: Generator loss: 7.593772009510517, discriminator loss: 0.028838666888442763\n",
      "Epoch 39, step 31280: Generator loss: 10.521800560109765, discriminator loss: 0.005737052047047571\n",
      "Epoch 40, step 32062: Generator loss: 10.969231104911742, discriminator loss: 0.005247220069230873\n",
      "Epoch 41, step 32844: Generator loss: 10.33161105951078, discriminator loss: 0.008345195849625675\n",
      "Epoch 42, step 33626: Generator loss: 9.358968620105157, discriminator loss: 0.006938421831145742\n",
      "Epoch 43, step 34408: Generator loss: 9.721753053957848, discriminator loss: 0.0030865069943629957\n",
      "Epoch 43, step 35190: Generator loss: 10.948458576446285, discriminator loss: 0.0017584645359739078\n",
      "Epoch 44, step 35972: Generator loss: 10.517727910405231, discriminator loss: 0.004812481268733892\n",
      "Epoch 45, step 36754: Generator loss: 8.23149276694373, discriminator loss: 0.02189140906721194\n",
      "Epoch 46, step 37536: Generator loss: 9.884603106457265, discriminator loss: 0.006248930424392358\n",
      "Epoch 47, step 38318: Generator loss: 7.8621538569555245, discriminator loss: 0.01931838531896701\n",
      "Epoch 48, step 39100: Generator loss: 7.803610104124262, discriminator loss: 0.01619629945491066\n",
      "Epoch 49, step 39882: Generator loss: 9.017370747178422, discriminator loss: 0.010037796886708061\n",
      "Epoch 50, step 40664: Generator loss: 7.8984828373355285, discriminator loss: 0.02654486759825548\n",
      "Epoch 51, step 41446: Generator loss: 7.035455032077893, discriminator loss: 0.030473347075114995\n",
      "Epoch 52, step 42228: Generator loss: 9.904290946243371, discriminator loss: 0.008638875829662171\n",
      "Epoch 53, step 43010: Generator loss: 7.9184489780679685, discriminator loss: 0.0141428137439109\n",
      "Epoch 54, step 43792: Generator loss: 7.11121414201644, discriminator loss: 0.03120266803099045\n",
      "Epoch 55, step 44574: Generator loss: 7.057353311182589, discriminator loss: 0.022800912639624\n",
      "Epoch 56, step 45356: Generator loss: 7.514131152111558, discriminator loss: 0.017929972273885948\n",
      "Epoch 57, step 46138: Generator loss: 8.00652274573246, discriminator loss: 0.021465132820129344\n",
      "Epoch 58, step 46920: Generator loss: 7.7522109713395855, discriminator loss: 0.022647213437060026\n",
      "Epoch 59, step 47702: Generator loss: 9.291020231173757, discriminator loss: 0.009405296697594146\n",
      "Epoch 60, step 48484: Generator loss: 9.15595325606558, discriminator loss: 0.012655014946834646\n",
      "Epoch 61, step 49266: Generator loss: 9.078646437286421, discriminator loss: 0.008027685995330104\n",
      "Epoch 62, step 50048: Generator loss: 7.048276964051031, discriminator loss: 0.03771260496989053\n",
      "Epoch 63, step 50830: Generator loss: 8.145537839521227, discriminator loss: 0.020498743672274465\n",
      "Epoch 64, step 51612: Generator loss: 6.658253027654981, discriminator loss: 0.03907959606519914\n",
      "Epoch 65, step 52394: Generator loss: 10.454935153122134, discriminator loss: 0.003964405022751544\n",
      "Epoch 66, step 53176: Generator loss: 9.80182393066718, discriminator loss: 0.007482242722575922\n",
      "Epoch 67, step 53958: Generator loss: 7.734073624281629, discriminator loss: 0.01801370320882759\n",
      "Epoch 68, step 54740: Generator loss: 5.950144437877719, discriminator loss: 0.04242905725822057\n",
      "Epoch 69, step 55522: Generator loss: 7.464983366944289, discriminator loss: 0.022573668254337504\n",
      "Epoch 70, step 56304: Generator loss: 6.942576346799845, discriminator loss: 0.025182935057768866\n",
      "Epoch 71, step 57086: Generator loss: 6.715971627198821, discriminator loss: 0.03518850032253249\n",
      "Epoch 72, step 57868: Generator loss: 7.397510881619078, discriminator loss: 0.01690143357367342\n",
      "Epoch 73, step 58650: Generator loss: 6.874226087804343, discriminator loss: 0.02388647586680993\n",
      "Epoch 74, step 59432: Generator loss: 7.892067140935332, discriminator loss: 0.012376925172394403\n",
      "Epoch 75, step 60214: Generator loss: 6.533003810726459, discriminator loss: 0.0368201587270797\n",
      "Epoch 76, step 60996: Generator loss: 7.597163440016524, discriminator loss: 0.013340540840635844\n",
      "Epoch 77, step 61778: Generator loss: 7.738176507413235, discriminator loss: 0.019424515511777887\n",
      "Epoch 78, step 62560: Generator loss: 8.738576933551027, discriminator loss: 0.012499983526145222\n",
      "Epoch 79, step 63342: Generator loss: 8.577279036612156, discriminator loss: 0.017756491913484017\n",
      "Epoch 80, step 64124: Generator loss: 8.163387548588117, discriminator loss: 0.013369211312414657\n",
      "Epoch 81, step 64906: Generator loss: 8.200207547458541, discriminator loss: 0.013228656077149195\n",
      "Epoch 82, step 65688: Generator loss: 7.521227929903115, discriminator loss: 0.02543108461416072\n",
      "Epoch 83, step 66470: Generator loss: 8.21046837821336, discriminator loss: 0.011751352512004341\n",
      "Epoch 84, step 67252: Generator loss: 7.353742218383425, discriminator loss: 0.019536853317417543\n",
      "Epoch 85, step 68034: Generator loss: 8.150878517828941, discriminator loss: 0.016793306318164978\n",
      "Epoch 86, step 68816: Generator loss: 7.454161661055387, discriminator loss: 0.019211145991812624\n",
      "Epoch 86, step 69598: Generator loss: 7.039499584061407, discriminator loss: 0.023347433088520005\n",
      "Epoch 87, step 70380: Generator loss: 6.2766514037881, discriminator loss: 0.03237029581913986\n",
      "Epoch 88, step 71162: Generator loss: 8.011185824718618, discriminator loss: 0.012632073316214859\n",
      "Epoch 89, step 71944: Generator loss: 7.244524024636551, discriminator loss: 0.022037537933652967\n",
      "Epoch 90, step 72726: Generator loss: 8.173973153009435, discriminator loss: 0.01586038580860572\n",
      "Epoch 91, step 73508: Generator loss: 7.063077850414969, discriminator loss: 0.026976259324796106\n",
      "Epoch 92, step 74290: Generator loss: 8.110999337852462, discriminator loss: 0.00842250068474749\n",
      "Epoch 93, step 75072: Generator loss: 7.184999451612883, discriminator loss: 0.028109928064220694\n",
      "Epoch 94, step 75854: Generator loss: 7.818785004603586, discriminator loss: 0.013792286387613744\n",
      "Epoch 95, step 76636: Generator loss: 8.561775735577053, discriminator loss: 0.011288750224591648\n",
      "Epoch 96, step 77418: Generator loss: 8.565393269214475, discriminator loss: 0.015185745154811754\n",
      "Epoch 97, step 78200: Generator loss: 7.646341057079816, discriminator loss: 0.025347420107967783\n",
      "Epoch 98, step 78982: Generator loss: 6.578284474589946, discriminator loss: 0.028570118330670972\n",
      "Epoch 99, step 79764: Generator loss: 7.969396750335501, discriminator loss: 0.015252783763459987\n",
      "Epoch 0, step 782: Generator loss: 8.394125275599679, discriminator loss: 0.02018734360655772\n",
      "Epoch 1, step 1564: Generator loss: 9.38722047476513, discriminator loss: 0.0097238996563635\n",
      "Epoch 2, step 2346: Generator loss: 7.414752960814849, discriminator loss: 0.01731174699287763\n",
      "Epoch 3, step 3128: Generator loss: 9.998376118862424, discriminator loss: 0.0038759175286101457\n",
      "Epoch 4, step 3910: Generator loss: 11.964262187938244, discriminator loss: 0.0013391171762269663\n",
      "Epoch 5, step 4692: Generator loss: 11.606976242626407, discriminator loss: 0.007080558297685828\n",
      "Epoch 6, step 5474: Generator loss: 6.52455964478691, discriminator loss: 0.03325386016096388\n",
      "Epoch 7, step 6256: Generator loss: 7.533199289570683, discriminator loss: 0.013063866222161756\n",
      "Epoch 8, step 7038: Generator loss: 8.079510971713253, discriminator loss: 0.014651531795063014\n",
      "Epoch 9, step 7820: Generator loss: 7.069955939831952, discriminator loss: 0.040123990076371324\n",
      "Epoch 10, step 8602: Generator loss: 7.077302820542276, discriminator loss: 0.027469327019633526\n",
      "Epoch 11, step 9384: Generator loss: 7.483955287567484, discriminator loss: 0.016457502938271973\n",
      "Epoch 12, step 10166: Generator loss: 6.541118391029675, discriminator loss: 0.03149996567475095\n",
      "Epoch 13, step 10948: Generator loss: 6.484142552556284, discriminator loss: 0.027961479001672517\n",
      "Epoch 14, step 11730: Generator loss: 6.253953337364502, discriminator loss: 0.03899548283648323\n",
      "Epoch 15, step 12512: Generator loss: 6.084459398103787, discriminator loss: 0.0471887763880212\n",
      "Epoch 16, step 13294: Generator loss: 7.9380531146398345, discriminator loss: 0.0109585370279892\n",
      "Epoch 17, step 14076: Generator loss: 10.1806467231887, discriminator loss: 0.006421112675288106\n",
      "Epoch 18, step 14858: Generator loss: 9.27386051553593, discriminator loss: 0.007334127868840545\n",
      "Epoch 19, step 15640: Generator loss: 8.977259614583467, discriminator loss: 0.010280060529730978\n",
      "Epoch 20, step 16422: Generator loss: 6.6299949350869225, discriminator loss: 0.03366338955859243\n",
      "Epoch 21, step 17204: Generator loss: 8.172762704932166, discriminator loss: 0.01152536706567821\n",
      "Epoch 22, step 17986: Generator loss: 7.399176378384269, discriminator loss: 0.027673824015348878\n",
      "Epoch 23, step 18768: Generator loss: 7.921765697581689, discriminator loss: 0.015868178545575536\n",
      "Epoch 24, step 19550: Generator loss: 9.465679884566674, discriminator loss: 0.00911281688005774\n",
      "Epoch 25, step 20332: Generator loss: 7.752807654383243, discriminator loss: 0.015018088641599396\n",
      "Epoch 26, step 21114: Generator loss: 7.2040914284908535, discriminator loss: 0.02712107567923337\n",
      "Epoch 27, step 21896: Generator loss: 6.539461024886812, discriminator loss: 0.025082787903159154\n",
      "Epoch 28, step 22678: Generator loss: 7.35200292314105, discriminator loss: 0.02165489246020127\n",
      "Epoch 29, step 23460: Generator loss: 6.873542491737223, discriminator loss: 0.022196007497168584\n",
      "Epoch 30, step 24242: Generator loss: 6.485016314879718, discriminator loss: 0.043540615177697854\n",
      "Epoch 31, step 25024: Generator loss: 6.06388064540561, discriminator loss: 0.03940145391420052\n",
      "Epoch 32, step 25806: Generator loss: 7.188855221814211, discriminator loss: 0.01470790663949939\n",
      "Epoch 33, step 26588: Generator loss: 8.883520380615272, discriminator loss: 0.010349651532726415\n",
      "Epoch 34, step 27370: Generator loss: 10.283887014364636, discriminator loss: 0.007763200608227495\n",
      "Epoch 35, step 28152: Generator loss: 8.437186282004244, discriminator loss: 0.01109573136448808\n",
      "Epoch 36, step 28934: Generator loss: 6.744000812625642, discriminator loss: 0.0309918202331822\n",
      "Epoch 37, step 29716: Generator loss: 8.267951908623784, discriminator loss: 0.006989981374427044\n",
      "Epoch 38, step 30498: Generator loss: 9.68117830027704, discriminator loss: 0.006894147955639491\n",
      "Epoch 39, step 31280: Generator loss: 7.488354528651513, discriminator loss: 0.02355325722645925\n",
      "Epoch 40, step 32062: Generator loss: 10.968441219890806, discriminator loss: 0.008081704995044589\n",
      "Epoch 41, step 32844: Generator loss: 10.717897903583856, discriminator loss: 0.013029513090645695\n",
      "Epoch 42, step 33626: Generator loss: 8.947966145127632, discriminator loss: 0.008797876067816745\n",
      "Epoch 43, step 34408: Generator loss: 9.382421217915944, discriminator loss: 0.009609647553290987\n",
      "Epoch 43, step 35190: Generator loss: 6.596702932701693, discriminator loss: 0.04854750430808089\n",
      "Epoch 44, step 35972: Generator loss: 5.743981149495408, discriminator loss: 0.04913736868221278\n",
      "Epoch 45, step 36754: Generator loss: 8.538175149341981, discriminator loss: 0.0061688333106155865\n",
      "Epoch 46, step 37536: Generator loss: 9.149578738395501, discriminator loss: 0.011091041211469421\n",
      "Epoch 47, step 38318: Generator loss: 6.929013747998213, discriminator loss: 0.03565082552119594\n",
      "Epoch 48, step 39100: Generator loss: 8.42976126036681, discriminator loss: 0.022297056443194914\n",
      "Epoch 49, step 39882: Generator loss: 8.786403614541758, discriminator loss: 0.009061615655763355\n",
      "Epoch 50, step 40664: Generator loss: 8.15558760489344, discriminator loss: 0.012172928852628485\n",
      "Epoch 51, step 41446: Generator loss: 7.1134341607618135, discriminator loss: 0.03148680460794715\n",
      "Epoch 52, step 42228: Generator loss: 8.144650333067956, discriminator loss: 0.01263197898759271\n",
      "Epoch 53, step 43010: Generator loss: 8.926748942841044, discriminator loss: 0.008643443923039536\n",
      "Epoch 54, step 43792: Generator loss: 6.70654267423293, discriminator loss: 0.04954567629018999\n",
      "Epoch 55, step 44574: Generator loss: 8.426451515968491, discriminator loss: 0.021780074873093302\n",
      "Epoch 56, step 45356: Generator loss: 7.447294172423577, discriminator loss: 0.02056926095423819\n",
      "Epoch 57, step 46138: Generator loss: 6.7790680846289915, discriminator loss: 0.023952876364894394\n",
      "Epoch 58, step 46920: Generator loss: 6.508722801037758, discriminator loss: 0.02855953576391301\n",
      "Epoch 59, step 47702: Generator loss: 7.075893663384423, discriminator loss: 0.032070992224792594\n",
      "Epoch 60, step 48484: Generator loss: 8.563382421308155, discriminator loss: 0.015255997693623529\n",
      "Epoch 61, step 49266: Generator loss: 7.390499319871668, discriminator loss: 0.02911658522256415\n",
      "Epoch 62, step 50048: Generator loss: 7.592202976841448, discriminator loss: 0.016294279812148572\n",
      "Epoch 63, step 50830: Generator loss: 7.990129578753809, discriminator loss: 0.025069182382046758\n",
      "Epoch 64, step 51612: Generator loss: 6.773517357114015, discriminator loss: 0.033094085450611696\n",
      "Epoch 65, step 52394: Generator loss: 7.491899616578046, discriminator loss: 0.01489827820889491\n",
      "Epoch 66, step 53176: Generator loss: 7.415942174394413, discriminator loss: 0.02331816341319777\n",
      "Epoch 67, step 53958: Generator loss: 6.864734180138234, discriminator loss: 0.04180441200244151\n",
      "Epoch 68, step 54740: Generator loss: 6.319625331312793, discriminator loss: 0.04142648297974777\n",
      "Epoch 69, step 55522: Generator loss: 8.955712878185773, discriminator loss: 0.00781420432343778\n",
      "Epoch 70, step 56304: Generator loss: 8.924650655073275, discriminator loss: 0.00839465533440058\n",
      "Epoch 71, step 57086: Generator loss: 8.3284319294688, discriminator loss: 0.008359577913024692\n",
      "Epoch 72, step 57868: Generator loss: 7.356205338407352, discriminator loss: 0.02782897707129218\n",
      "Epoch 73, step 58650: Generator loss: 7.815665951775166, discriminator loss: 0.022639275171950007\n",
      "Epoch 74, step 59432: Generator loss: 6.531592620913017, discriminator loss: 0.03106362184422097\n",
      "Epoch 75, step 60214: Generator loss: 8.282199333390922, discriminator loss: 0.01144020489629972\n",
      "Epoch 76, step 60996: Generator loss: 6.995000443495144, discriminator loss: 0.0179461514747501\n",
      "Epoch 77, step 61778: Generator loss: 7.517613014601681, discriminator loss: 0.014893096904053004\n",
      "Epoch 78, step 62560: Generator loss: 6.086962754464218, discriminator loss: 0.03882450001407181\n",
      "Epoch 79, step 63342: Generator loss: 6.461443154098442, discriminator loss: 0.02716682884281516\n",
      "Epoch 80, step 64124: Generator loss: 6.432827461406087, discriminator loss: 0.03899050083511889\n",
      "Epoch 81, step 64906: Generator loss: 8.319292514830298, discriminator loss: 0.018070112426301976\n",
      "Epoch 82, step 65688: Generator loss: 7.01023550259182, discriminator loss: 0.025857391138233564\n",
      "Epoch 83, step 66470: Generator loss: 7.519337509599179, discriminator loss: 0.01535022536696405\n",
      "Epoch 84, step 67252: Generator loss: 6.9778846401692665, discriminator loss: 0.01618204319321424\n",
      "Epoch 85, step 68034: Generator loss: 6.818680605315189, discriminator loss: 0.019786097506648344\n",
      "Epoch 86, step 68816: Generator loss: 6.285459360808054, discriminator loss: 0.035503993050226286\n",
      "Epoch 86, step 69598: Generator loss: 7.075816042282997, discriminator loss: 0.02476337790677367\n",
      "Epoch 87, step 70380: Generator loss: 7.683565850757882, discriminator loss: 0.01986743972669211\n",
      "Epoch 88, step 71162: Generator loss: 7.197392220082491, discriminator loss: 0.036359001951077205\n",
      "Epoch 89, step 71944: Generator loss: 6.936677276021069, discriminator loss: 0.018059195043272608\n",
      "Epoch 90, step 72726: Generator loss: 7.896623116320046, discriminator loss: 0.019258397178265295\n",
      "Epoch 91, step 73508: Generator loss: 9.06629141883167, discriminator loss: 0.007368056761777532\n",
      "Epoch 92, step 74290: Generator loss: 7.686072594064588, discriminator loss: 0.016358464917484664\n",
      "Epoch 93, step 75072: Generator loss: 7.546040255700229, discriminator loss: 0.015374461750147377\n",
      "Epoch 94, step 75854: Generator loss: 6.889227961030458, discriminator loss: 0.027036596431366806\n",
      "Epoch 95, step 76636: Generator loss: 7.628557097271581, discriminator loss: 0.027529299921502576\n",
      "Epoch 96, step 77418: Generator loss: 6.538138719470911, discriminator loss: 0.022381117026877777\n"
     ]
    },
    {
     "data": {
      "text/plain": "  0%|          | 0/800 [00:00<?, ?it/s]",
      "application/vnd.jupyter.widget-view+json": {
       "version_major": 2,
       "version_minor": 0,
       "model_id": "1b98e4809afe4c68a73493bf1490af49"
      }
     },
     "metadata": {},
     "output_type": "display_data"
    },
    {
     "data": {
      "text/plain": "  0%|          | 0/800 [00:00<?, ?it/s]",
      "application/vnd.jupyter.widget-view+json": {
       "version_major": 2,
       "version_minor": 0,
       "model_id": "d5a9165cebbb47ea95544c12c037db9a"
      }
     },
     "metadata": {},
     "output_type": "display_data"
    },
    {
     "data": {
      "text/plain": "  0%|          | 0/800 [00:00<?, ?it/s]",
      "application/vnd.jupyter.widget-view+json": {
       "version_major": 2,
       "version_minor": 0,
       "model_id": "91a42c55be9741d99118d8ae749cb091"
      }
     },
     "metadata": {},
     "output_type": "display_data"
    },
    {
     "data": {
      "text/plain": "  0%|          | 0/800 [00:00<?, ?it/s]",
      "application/vnd.jupyter.widget-view+json": {
       "version_major": 2,
       "version_minor": 0,
       "model_id": "1343b4a37c904e6387b479b4230d8506"
      }
     },
     "metadata": {},
     "output_type": "display_data"
    },
    {
     "data": {
      "text/plain": "  0%|          | 0/800 [00:00<?, ?it/s]",
      "application/vnd.jupyter.widget-view+json": {
       "version_major": 2,
       "version_minor": 0,
       "model_id": "2ec5fdd410ba40f5ad3df46669d7289e"
      }
     },
     "metadata": {},
     "output_type": "display_data"
    },
    {
     "data": {
      "text/plain": "  0%|          | 0/800 [00:00<?, ?it/s]",
      "application/vnd.jupyter.widget-view+json": {
       "version_major": 2,
       "version_minor": 0,
       "model_id": "4f4b2e611f3a4e4c84f7964ff6ece381"
      }
     },
     "metadata": {},
     "output_type": "display_data"
    },
    {
     "data": {
      "text/plain": "  0%|          | 0/800 [00:00<?, ?it/s]",
      "application/vnd.jupyter.widget-view+json": {
       "version_major": 2,
       "version_minor": 0,
       "model_id": "d5774af2f8df4509ace36218adffd519"
      }
     },
     "metadata": {},
     "output_type": "display_data"
    },
    {
     "data": {
      "text/plain": "  0%|          | 0/800 [00:00<?, ?it/s]",
      "application/vnd.jupyter.widget-view+json": {
       "version_major": 2,
       "version_minor": 0,
       "model_id": "dc112b3f15754518a59413025e16c52d"
      }
     },
     "metadata": {},
     "output_type": "display_data"
    },
    {
     "data": {
      "text/plain": "  0%|          | 0/800 [00:00<?, ?it/s]",
      "application/vnd.jupyter.widget-view+json": {
       "version_major": 2,
       "version_minor": 0,
       "model_id": "841aefa374f54a45a27fe7594d5c6f31"
      }
     },
     "metadata": {},
     "output_type": "display_data"
    },
    {
     "data": {
      "text/plain": "  0%|          | 0/800 [00:00<?, ?it/s]",
      "application/vnd.jupyter.widget-view+json": {
       "version_major": 2,
       "version_minor": 0,
       "model_id": "cc1c2ab8c6224fc2b300923bfc7b6fc3"
      }
     },
     "metadata": {},
     "output_type": "display_data"
    },
    {
     "data": {
      "text/plain": "  0%|          | 0/800 [00:00<?, ?it/s]",
      "application/vnd.jupyter.widget-view+json": {
       "version_major": 2,
       "version_minor": 0,
       "model_id": "238b173891d84b98a24afb4a9124e8a7"
      }
     },
     "metadata": {},
     "output_type": "display_data"
    },
    {
     "data": {
      "text/plain": "  0%|          | 0/800 [00:00<?, ?it/s]",
      "application/vnd.jupyter.widget-view+json": {
       "version_major": 2,
       "version_minor": 0,
       "model_id": "0ef3d5e23ce946949df16e84fb0f116f"
      }
     },
     "metadata": {},
     "output_type": "display_data"
    },
    {
     "data": {
      "text/plain": "  0%|          | 0/800 [00:00<?, ?it/s]",
      "application/vnd.jupyter.widget-view+json": {
       "version_major": 2,
       "version_minor": 0,
       "model_id": "c1f061f03629440fad3ebc17f960c2f9"
      }
     },
     "metadata": {},
     "output_type": "display_data"
    },
    {
     "data": {
      "text/plain": "  0%|          | 0/800 [00:00<?, ?it/s]",
      "application/vnd.jupyter.widget-view+json": {
       "version_major": 2,
       "version_minor": 0,
       "model_id": "aea491c2578c4357a7c3e3e292a74bbc"
      }
     },
     "metadata": {},
     "output_type": "display_data"
    },
    {
     "data": {
      "text/plain": "  0%|          | 0/800 [00:00<?, ?it/s]",
      "application/vnd.jupyter.widget-view+json": {
       "version_major": 2,
       "version_minor": 0,
       "model_id": "9ec6301a5d9a4d0f9c2be43b782fece5"
      }
     },
     "metadata": {},
     "output_type": "display_data"
    },
    {
     "data": {
      "text/plain": "  0%|          | 0/800 [00:00<?, ?it/s]",
      "application/vnd.jupyter.widget-view+json": {
       "version_major": 2,
       "version_minor": 0,
       "model_id": "42cc97c6a97c4c18942f9f18cb1e1a08"
      }
     },
     "metadata": {},
     "output_type": "display_data"
    },
    {
     "data": {
      "text/plain": "  0%|          | 0/800 [00:00<?, ?it/s]",
      "application/vnd.jupyter.widget-view+json": {
       "version_major": 2,
       "version_minor": 0,
       "model_id": "689f07a85d774e2c88db8b900b7904f8"
      }
     },
     "metadata": {},
     "output_type": "display_data"
    },
    {
     "data": {
      "text/plain": "  0%|          | 0/800 [00:00<?, ?it/s]",
      "application/vnd.jupyter.widget-view+json": {
       "version_major": 2,
       "version_minor": 0,
       "model_id": "471364eac9c148a7a6ef6aba0f369383"
      }
     },
     "metadata": {},
     "output_type": "display_data"
    },
    {
     "data": {
      "text/plain": "  0%|          | 0/800 [00:00<?, ?it/s]",
      "application/vnd.jupyter.widget-view+json": {
       "version_major": 2,
       "version_minor": 0,
       "model_id": "e4ef075c01ae4c9396d00847c8a31b75"
      }
     },
     "metadata": {},
     "output_type": "display_data"
    },
    {
     "data": {
      "text/plain": "  0%|          | 0/800 [00:00<?, ?it/s]",
      "application/vnd.jupyter.widget-view+json": {
       "version_major": 2,
       "version_minor": 0,
       "model_id": "20a6d89a216c4d90962b5cce95a2ab5d"
      }
     },
     "metadata": {},
     "output_type": "display_data"
    },
    {
     "data": {
      "text/plain": "  0%|          | 0/800 [00:00<?, ?it/s]",
      "application/vnd.jupyter.widget-view+json": {
       "version_major": 2,
       "version_minor": 0,
       "model_id": "57b927eea96840aa95ee99b2bbf72ed8"
      }
     },
     "metadata": {},
     "output_type": "display_data"
    },
    {
     "data": {
      "text/plain": "  0%|          | 0/800 [00:00<?, ?it/s]",
      "application/vnd.jupyter.widget-view+json": {
       "version_major": 2,
       "version_minor": 0,
       "model_id": "c2ad403e54d74004bc6945fb5a830e22"
      }
     },
     "metadata": {},
     "output_type": "display_data"
    },
    {
     "data": {
      "text/plain": "  0%|          | 0/800 [00:00<?, ?it/s]",
      "application/vnd.jupyter.widget-view+json": {
       "version_major": 2,
       "version_minor": 0,
       "model_id": "b7837ae71e9143c2ad99f339dc3cdbed"
      }
     },
     "metadata": {},
     "output_type": "display_data"
    },
    {
     "data": {
      "text/plain": "  0%|          | 0/800 [00:00<?, ?it/s]",
      "application/vnd.jupyter.widget-view+json": {
       "version_major": 2,
       "version_minor": 0,
       "model_id": "3a6dd3d520ed4683a9af4eaa4639b5f8"
      }
     },
     "metadata": {},
     "output_type": "display_data"
    },
    {
     "data": {
      "text/plain": "  0%|          | 0/800 [00:00<?, ?it/s]",
      "application/vnd.jupyter.widget-view+json": {
       "version_major": 2,
       "version_minor": 0,
       "model_id": "6e88e6f3b14d4d0ba5a3615b1c4e66b5"
      }
     },
     "metadata": {},
     "output_type": "display_data"
    },
    {
     "data": {
      "text/plain": "  0%|          | 0/800 [00:00<?, ?it/s]",
      "application/vnd.jupyter.widget-view+json": {
       "version_major": 2,
       "version_minor": 0,
       "model_id": "202fa27e6c95414ca304bc5a08e8b005"
      }
     },
     "metadata": {},
     "output_type": "display_data"
    },
    {
     "data": {
      "text/plain": "  0%|          | 0/800 [00:00<?, ?it/s]",
      "application/vnd.jupyter.widget-view+json": {
       "version_major": 2,
       "version_minor": 0,
       "model_id": "030ea9d72c98457d9f78fe0e8ed398fb"
      }
     },
     "metadata": {},
     "output_type": "display_data"
    },
    {
     "data": {
      "text/plain": "  0%|          | 0/800 [00:00<?, ?it/s]",
      "application/vnd.jupyter.widget-view+json": {
       "version_major": 2,
       "version_minor": 0,
       "model_id": "87e4a87615b64e6dbb5e5a8fccbc651f"
      }
     },
     "metadata": {},
     "output_type": "display_data"
    },
    {
     "data": {
      "text/plain": "  0%|          | 0/800 [00:00<?, ?it/s]",
      "application/vnd.jupyter.widget-view+json": {
       "version_major": 2,
       "version_minor": 0,
       "model_id": "aea8197bba734f1b959b8b85cd3a3707"
      }
     },
     "metadata": {},
     "output_type": "display_data"
    },
    {
     "data": {
      "text/plain": "  0%|          | 0/800 [00:00<?, ?it/s]",
      "application/vnd.jupyter.widget-view+json": {
       "version_major": 2,
       "version_minor": 0,
       "model_id": "f0d3aa54ef3b401f9764a9d05a11a194"
      }
     },
     "metadata": {},
     "output_type": "display_data"
    },
    {
     "data": {
      "text/plain": "  0%|          | 0/800 [00:00<?, ?it/s]",
      "application/vnd.jupyter.widget-view+json": {
       "version_major": 2,
       "version_minor": 0,
       "model_id": "01d72c7bcea14eb5b0d30e66c0394af5"
      }
     },
     "metadata": {},
     "output_type": "display_data"
    },
    {
     "data": {
      "text/plain": "  0%|          | 0/800 [00:00<?, ?it/s]",
      "application/vnd.jupyter.widget-view+json": {
       "version_major": 2,
       "version_minor": 0,
       "model_id": "67729fc2f7674674868ea8cd351581f4"
      }
     },
     "metadata": {},
     "output_type": "display_data"
    },
    {
     "data": {
      "text/plain": "  0%|          | 0/800 [00:00<?, ?it/s]",
      "application/vnd.jupyter.widget-view+json": {
       "version_major": 2,
       "version_minor": 0,
       "model_id": "0c0660d85bea4632b7e56b3eec3bb88c"
      }
     },
     "metadata": {},
     "output_type": "display_data"
    },
    {
     "data": {
      "text/plain": "  0%|          | 0/800 [00:00<?, ?it/s]",
      "application/vnd.jupyter.widget-view+json": {
       "version_major": 2,
       "version_minor": 0,
       "model_id": "d6b64cb542334255b50498522ac43a99"
      }
     },
     "metadata": {},
     "output_type": "display_data"
    },
    {
     "data": {
      "text/plain": "  0%|          | 0/800 [00:00<?, ?it/s]",
      "application/vnd.jupyter.widget-view+json": {
       "version_major": 2,
       "version_minor": 0,
       "model_id": "42155fa755f540bb99c1ca48bff29900"
      }
     },
     "metadata": {},
     "output_type": "display_data"
    },
    {
     "data": {
      "text/plain": "  0%|          | 0/800 [00:00<?, ?it/s]",
      "application/vnd.jupyter.widget-view+json": {
       "version_major": 2,
       "version_minor": 0,
       "model_id": "7f079d3ce3664601b79e76c528f4d2a3"
      }
     },
     "metadata": {},
     "output_type": "display_data"
    },
    {
     "data": {
      "text/plain": "  0%|          | 0/800 [00:00<?, ?it/s]",
      "application/vnd.jupyter.widget-view+json": {
       "version_major": 2,
       "version_minor": 0,
       "model_id": "d305db3b62ee4675b3ee056cf3a369f3"
      }
     },
     "metadata": {},
     "output_type": "display_data"
    },
    {
     "data": {
      "text/plain": "  0%|          | 0/800 [00:00<?, ?it/s]",
      "application/vnd.jupyter.widget-view+json": {
       "version_major": 2,
       "version_minor": 0,
       "model_id": "fa1747c3ea6f446690ba5e78a27d8c84"
      }
     },
     "metadata": {},
     "output_type": "display_data"
    },
    {
     "data": {
      "text/plain": "  0%|          | 0/800 [00:00<?, ?it/s]",
      "application/vnd.jupyter.widget-view+json": {
       "version_major": 2,
       "version_minor": 0,
       "model_id": "54e2722fc1d545639cc7b4586a1541e4"
      }
     },
     "metadata": {},
     "output_type": "display_data"
    },
    {
     "data": {
      "text/plain": "  0%|          | 0/800 [00:00<?, ?it/s]",
      "application/vnd.jupyter.widget-view+json": {
       "version_major": 2,
       "version_minor": 0,
       "model_id": "f23b3f5bf0f444a190afa0074dde100c"
      }
     },
     "metadata": {},
     "output_type": "display_data"
    },
    {
     "data": {
      "text/plain": "  0%|          | 0/800 [00:00<?, ?it/s]",
      "application/vnd.jupyter.widget-view+json": {
       "version_major": 2,
       "version_minor": 0,
       "model_id": "ebfb4424c697447f8faa82d7eaafd642"
      }
     },
     "metadata": {},
     "output_type": "display_data"
    },
    {
     "data": {
      "text/plain": "  0%|          | 0/800 [00:00<?, ?it/s]",
      "application/vnd.jupyter.widget-view+json": {
       "version_major": 2,
       "version_minor": 0,
       "model_id": "b53726df14c744318cc825f2e831306c"
      }
     },
     "metadata": {},
     "output_type": "display_data"
    },
    {
     "data": {
      "text/plain": "  0%|          | 0/800 [00:00<?, ?it/s]",
      "application/vnd.jupyter.widget-view+json": {
       "version_major": 2,
       "version_minor": 0,
       "model_id": "8674dbab64564f3d9f67313f9b5911bb"
      }
     },
     "metadata": {},
     "output_type": "display_data"
    },
    {
     "data": {
      "text/plain": "  0%|          | 0/800 [00:00<?, ?it/s]",
      "application/vnd.jupyter.widget-view+json": {
       "version_major": 2,
       "version_minor": 0,
       "model_id": "aaa8157dabab4506b7686f142d2d357d"
      }
     },
     "metadata": {},
     "output_type": "display_data"
    },
    {
     "data": {
      "text/plain": "  0%|          | 0/800 [00:00<?, ?it/s]",
      "application/vnd.jupyter.widget-view+json": {
       "version_major": 2,
       "version_minor": 0,
       "model_id": "2b92231efad9443baac0c64f3e470539"
      }
     },
     "metadata": {},
     "output_type": "display_data"
    },
    {
     "data": {
      "text/plain": "  0%|          | 0/800 [00:00<?, ?it/s]",
      "application/vnd.jupyter.widget-view+json": {
       "version_major": 2,
       "version_minor": 0,
       "model_id": "8af8b65e55d242f0a04bb925132a2dc1"
      }
     },
     "metadata": {},
     "output_type": "display_data"
    },
    {
     "data": {
      "text/plain": "  0%|          | 0/800 [00:00<?, ?it/s]",
      "application/vnd.jupyter.widget-view+json": {
       "version_major": 2,
       "version_minor": 0,
       "model_id": "6166e38f56634ebcbd00aa87276e1a2a"
      }
     },
     "metadata": {},
     "output_type": "display_data"
    },
    {
     "data": {
      "text/plain": "  0%|          | 0/800 [00:00<?, ?it/s]",
      "application/vnd.jupyter.widget-view+json": {
       "version_major": 2,
       "version_minor": 0,
       "model_id": "b536ec1eaa3a42859b3f5e97c876ae20"
      }
     },
     "metadata": {},
     "output_type": "display_data"
    },
    {
     "data": {
      "text/plain": "  0%|          | 0/800 [00:00<?, ?it/s]",
      "application/vnd.jupyter.widget-view+json": {
       "version_major": 2,
       "version_minor": 0,
       "model_id": "abf139355da040e7a9e2a0749cbd4702"
      }
     },
     "metadata": {},
     "output_type": "display_data"
    },
    {
     "data": {
      "text/plain": "  0%|          | 0/800 [00:00<?, ?it/s]",
      "application/vnd.jupyter.widget-view+json": {
       "version_major": 2,
       "version_minor": 0,
       "model_id": "b3d651f129174c5193bf35fe5f977f66"
      }
     },
     "metadata": {},
     "output_type": "display_data"
    },
    {
     "data": {
      "text/plain": "  0%|          | 0/800 [00:00<?, ?it/s]",
      "application/vnd.jupyter.widget-view+json": {
       "version_major": 2,
       "version_minor": 0,
       "model_id": "0f26cdbbd8af41f4aa61f9d055f08f45"
      }
     },
     "metadata": {},
     "output_type": "display_data"
    },
    {
     "data": {
      "text/plain": "  0%|          | 0/800 [00:00<?, ?it/s]",
      "application/vnd.jupyter.widget-view+json": {
       "version_major": 2,
       "version_minor": 0,
       "model_id": "201a549d9a9e46cab1d1fb68404c2d2a"
      }
     },
     "metadata": {},
     "output_type": "display_data"
    },
    {
     "data": {
      "text/plain": "  0%|          | 0/800 [00:00<?, ?it/s]",
      "application/vnd.jupyter.widget-view+json": {
       "version_major": 2,
       "version_minor": 0,
       "model_id": "eeff85c01b0f46828c572248f8c5c6db"
      }
     },
     "metadata": {},
     "output_type": "display_data"
    },
    {
     "data": {
      "text/plain": "  0%|          | 0/800 [00:00<?, ?it/s]",
      "application/vnd.jupyter.widget-view+json": {
       "version_major": 2,
       "version_minor": 0,
       "model_id": "5790244927524ba988711f5666735a65"
      }
     },
     "metadata": {},
     "output_type": "display_data"
    },
    {
     "data": {
      "text/plain": "  0%|          | 0/800 [00:00<?, ?it/s]",
      "application/vnd.jupyter.widget-view+json": {
       "version_major": 2,
       "version_minor": 0,
       "model_id": "dec3b2055a9a4ce688206c15e1c7e138"
      }
     },
     "metadata": {},
     "output_type": "display_data"
    },
    {
     "data": {
      "text/plain": "  0%|          | 0/800 [00:00<?, ?it/s]",
      "application/vnd.jupyter.widget-view+json": {
       "version_major": 2,
       "version_minor": 0,
       "model_id": "c121b5ea87014d78a05ea76f049c7b4b"
      }
     },
     "metadata": {},
     "output_type": "display_data"
    },
    {
     "data": {
      "text/plain": "  0%|          | 0/800 [00:00<?, ?it/s]",
      "application/vnd.jupyter.widget-view+json": {
       "version_major": 2,
       "version_minor": 0,
       "model_id": "768a02460aa048e4b9957c6a6580d2ea"
      }
     },
     "metadata": {},
     "output_type": "display_data"
    },
    {
     "data": {
      "text/plain": "  0%|          | 0/800 [00:00<?, ?it/s]",
      "application/vnd.jupyter.widget-view+json": {
       "version_major": 2,
       "version_minor": 0,
       "model_id": "7ed8437b24124d42932130ec81a2ca30"
      }
     },
     "metadata": {},
     "output_type": "display_data"
    },
    {
     "data": {
      "text/plain": "  0%|          | 0/800 [00:00<?, ?it/s]",
      "application/vnd.jupyter.widget-view+json": {
       "version_major": 2,
       "version_minor": 0,
       "model_id": "a21c53eb926b44c5a1e39ab43d5c8390"
      }
     },
     "metadata": {},
     "output_type": "display_data"
    },
    {
     "data": {
      "text/plain": "  0%|          | 0/800 [00:00<?, ?it/s]",
      "application/vnd.jupyter.widget-view+json": {
       "version_major": 2,
       "version_minor": 0,
       "model_id": "3a9176010644421abb814d0a90466617"
      }
     },
     "metadata": {},
     "output_type": "display_data"
    },
    {
     "data": {
      "text/plain": "  0%|          | 0/800 [00:00<?, ?it/s]",
      "application/vnd.jupyter.widget-view+json": {
       "version_major": 2,
       "version_minor": 0,
       "model_id": "8e4029e3c86e4e8c94a84e1cb59813e9"
      }
     },
     "metadata": {},
     "output_type": "display_data"
    },
    {
     "data": {
      "text/plain": "  0%|          | 0/800 [00:00<?, ?it/s]",
      "application/vnd.jupyter.widget-view+json": {
       "version_major": 2,
       "version_minor": 0,
       "model_id": "d33dd7e5df3444809dacad9744a3f6c5"
      }
     },
     "metadata": {},
     "output_type": "display_data"
    },
    {
     "data": {
      "text/plain": "  0%|          | 0/800 [00:00<?, ?it/s]",
      "application/vnd.jupyter.widget-view+json": {
       "version_major": 2,
       "version_minor": 0,
       "model_id": "15edd8dffa824ff1867ade3190211978"
      }
     },
     "metadata": {},
     "output_type": "display_data"
    },
    {
     "data": {
      "text/plain": "  0%|          | 0/800 [00:00<?, ?it/s]",
      "application/vnd.jupyter.widget-view+json": {
       "version_major": 2,
       "version_minor": 0,
       "model_id": "38250a989d4c4c479f823612513a8529"
      }
     },
     "metadata": {},
     "output_type": "display_data"
    },
    {
     "data": {
      "text/plain": "  0%|          | 0/800 [00:00<?, ?it/s]",
      "application/vnd.jupyter.widget-view+json": {
       "version_major": 2,
       "version_minor": 0,
       "model_id": "540534a43ab344b6927836bc4141ea6c"
      }
     },
     "metadata": {},
     "output_type": "display_data"
    },
    {
     "data": {
      "text/plain": "  0%|          | 0/800 [00:00<?, ?it/s]",
      "application/vnd.jupyter.widget-view+json": {
       "version_major": 2,
       "version_minor": 0,
       "model_id": "5e9513704f5d48f7b23e7aae690e147f"
      }
     },
     "metadata": {},
     "output_type": "display_data"
    },
    {
     "data": {
      "text/plain": "  0%|          | 0/800 [00:00<?, ?it/s]",
      "application/vnd.jupyter.widget-view+json": {
       "version_major": 2,
       "version_minor": 0,
       "model_id": "4faf93206e744302bc3b3145f12076ba"
      }
     },
     "metadata": {},
     "output_type": "display_data"
    },
    {
     "data": {
      "text/plain": "  0%|          | 0/800 [00:00<?, ?it/s]",
      "application/vnd.jupyter.widget-view+json": {
       "version_major": 2,
       "version_minor": 0,
       "model_id": "db331de7b407436ca9df37f2acfda452"
      }
     },
     "metadata": {},
     "output_type": "display_data"
    },
    {
     "data": {
      "text/plain": "  0%|          | 0/800 [00:00<?, ?it/s]",
      "application/vnd.jupyter.widget-view+json": {
       "version_major": 2,
       "version_minor": 0,
       "model_id": "2bb5db68196d45748b037b6e7ccc03bf"
      }
     },
     "metadata": {},
     "output_type": "display_data"
    },
    {
     "data": {
      "text/plain": "  0%|          | 0/800 [00:00<?, ?it/s]",
      "application/vnd.jupyter.widget-view+json": {
       "version_major": 2,
       "version_minor": 0,
       "model_id": "90aaf332fdcb4fa9b5279f29c6202e04"
      }
     },
     "metadata": {},
     "output_type": "display_data"
    },
    {
     "data": {
      "text/plain": "  0%|          | 0/800 [00:00<?, ?it/s]",
      "application/vnd.jupyter.widget-view+json": {
       "version_major": 2,
       "version_minor": 0,
       "model_id": "385c0da3ae3c41c2b28f40bd0c09bac3"
      }
     },
     "metadata": {},
     "output_type": "display_data"
    },
    {
     "data": {
      "text/plain": "  0%|          | 0/800 [00:00<?, ?it/s]",
      "application/vnd.jupyter.widget-view+json": {
       "version_major": 2,
       "version_minor": 0,
       "model_id": "6ad49ace022b4708bfa0bbf8f47bb121"
      }
     },
     "metadata": {},
     "output_type": "display_data"
    },
    {
     "data": {
      "text/plain": "  0%|          | 0/800 [00:00<?, ?it/s]",
      "application/vnd.jupyter.widget-view+json": {
       "version_major": 2,
       "version_minor": 0,
       "model_id": "b8e737bd8c044c6993882b376f5a56c2"
      }
     },
     "metadata": {},
     "output_type": "display_data"
    },
    {
     "data": {
      "text/plain": "  0%|          | 0/800 [00:00<?, ?it/s]",
      "application/vnd.jupyter.widget-view+json": {
       "version_major": 2,
       "version_minor": 0,
       "model_id": "0e63992a71af4f2983e53b5d1ce79a34"
      }
     },
     "metadata": {},
     "output_type": "display_data"
    },
    {
     "data": {
      "text/plain": "  0%|          | 0/800 [00:00<?, ?it/s]",
      "application/vnd.jupyter.widget-view+json": {
       "version_major": 2,
       "version_minor": 0,
       "model_id": "616ee6e19b32432985c4bcd34d908572"
      }
     },
     "metadata": {},
     "output_type": "display_data"
    },
    {
     "data": {
      "text/plain": "  0%|          | 0/800 [00:00<?, ?it/s]",
      "application/vnd.jupyter.widget-view+json": {
       "version_major": 2,
       "version_minor": 0,
       "model_id": "953657c52bb7422182f99dcb9519b4dd"
      }
     },
     "metadata": {},
     "output_type": "display_data"
    },
    {
     "data": {
      "text/plain": "  0%|          | 0/800 [00:00<?, ?it/s]",
      "application/vnd.jupyter.widget-view+json": {
       "version_major": 2,
       "version_minor": 0,
       "model_id": "92c78cfeb5af44be8798321ecc931a37"
      }
     },
     "metadata": {},
     "output_type": "display_data"
    },
    {
     "data": {
      "text/plain": "  0%|          | 0/800 [00:00<?, ?it/s]",
      "application/vnd.jupyter.widget-view+json": {
       "version_major": 2,
       "version_minor": 0,
       "model_id": "6e34c7b96e74425da99d393cd6b6c7d2"
      }
     },
     "metadata": {},
     "output_type": "display_data"
    },
    {
     "data": {
      "text/plain": "  0%|          | 0/800 [00:00<?, ?it/s]",
      "application/vnd.jupyter.widget-view+json": {
       "version_major": 2,
       "version_minor": 0,
       "model_id": "74b19596595340f390704696c1e7c192"
      }
     },
     "metadata": {},
     "output_type": "display_data"
    },
    {
     "data": {
      "text/plain": "  0%|          | 0/800 [00:00<?, ?it/s]",
      "application/vnd.jupyter.widget-view+json": {
       "version_major": 2,
       "version_minor": 0,
       "model_id": "211add8fea7c45b58554c43fca98b3df"
      }
     },
     "metadata": {},
     "output_type": "display_data"
    },
    {
     "data": {
      "text/plain": "  0%|          | 0/800 [00:00<?, ?it/s]",
      "application/vnd.jupyter.widget-view+json": {
       "version_major": 2,
       "version_minor": 0,
       "model_id": "9fee6188c838453994e850f1ba905ee5"
      }
     },
     "metadata": {},
     "output_type": "display_data"
    },
    {
     "data": {
      "text/plain": "  0%|          | 0/800 [00:00<?, ?it/s]",
      "application/vnd.jupyter.widget-view+json": {
       "version_major": 2,
       "version_minor": 0,
       "model_id": "b3253e9d2faa4862b80712b17d1e34c7"
      }
     },
     "metadata": {},
     "output_type": "display_data"
    },
    {
     "data": {
      "text/plain": "  0%|          | 0/800 [00:00<?, ?it/s]",
      "application/vnd.jupyter.widget-view+json": {
       "version_major": 2,
       "version_minor": 0,
       "model_id": "b8140383cccb48b9b2fbd52646dc5140"
      }
     },
     "metadata": {},
     "output_type": "display_data"
    },
    {
     "data": {
      "text/plain": "  0%|          | 0/800 [00:00<?, ?it/s]",
      "application/vnd.jupyter.widget-view+json": {
       "version_major": 2,
       "version_minor": 0,
       "model_id": "1dcb9ce9ffab4408bd6972ed7b26e583"
      }
     },
     "metadata": {},
     "output_type": "display_data"
    },
    {
     "data": {
      "text/plain": "  0%|          | 0/800 [00:00<?, ?it/s]",
      "application/vnd.jupyter.widget-view+json": {
       "version_major": 2,
       "version_minor": 0,
       "model_id": "00474e42a7fc4cfd87913afff5c4cb42"
      }
     },
     "metadata": {},
     "output_type": "display_data"
    },
    {
     "data": {
      "text/plain": "  0%|          | 0/800 [00:00<?, ?it/s]",
      "application/vnd.jupyter.widget-view+json": {
       "version_major": 2,
       "version_minor": 0,
       "model_id": "850fa96d66f14fbda8d5283d7bd1a782"
      }
     },
     "metadata": {},
     "output_type": "display_data"
    },
    {
     "data": {
      "text/plain": "  0%|          | 0/800 [00:00<?, ?it/s]",
      "application/vnd.jupyter.widget-view+json": {
       "version_major": 2,
       "version_minor": 0,
       "model_id": "77e7b0c9a980442897e8d5fe365d0ffe"
      }
     },
     "metadata": {},
     "output_type": "display_data"
    },
    {
     "data": {
      "text/plain": "  0%|          | 0/800 [00:00<?, ?it/s]",
      "application/vnd.jupyter.widget-view+json": {
       "version_major": 2,
       "version_minor": 0,
       "model_id": "3fbc259d42fb4feba07f333fce8ed48f"
      }
     },
     "metadata": {},
     "output_type": "display_data"
    },
    {
     "data": {
      "text/plain": "  0%|          | 0/800 [00:00<?, ?it/s]",
      "application/vnd.jupyter.widget-view+json": {
       "version_major": 2,
       "version_minor": 0,
       "model_id": "87f6aa9a74af4b76a117ed11b6afb8e4"
      }
     },
     "metadata": {},
     "output_type": "display_data"
    },
    {
     "data": {
      "text/plain": "  0%|          | 0/800 [00:00<?, ?it/s]",
      "application/vnd.jupyter.widget-view+json": {
       "version_major": 2,
       "version_minor": 0,
       "model_id": "899d287123b242edbc859c938c1fa684"
      }
     },
     "metadata": {},
     "output_type": "display_data"
    },
    {
     "data": {
      "text/plain": "  0%|          | 0/800 [00:00<?, ?it/s]",
      "application/vnd.jupyter.widget-view+json": {
       "version_major": 2,
       "version_minor": 0,
       "model_id": "3854bcabd79c404d9cf02d8cd3c5fb89"
      }
     },
     "metadata": {},
     "output_type": "display_data"
    },
    {
     "data": {
      "text/plain": "  0%|          | 0/800 [00:00<?, ?it/s]",
      "application/vnd.jupyter.widget-view+json": {
       "version_major": 2,
       "version_minor": 0,
       "model_id": "b48812cad1344a64a849fcbeb9d11c9d"
      }
     },
     "metadata": {},
     "output_type": "display_data"
    },
    {
     "data": {
      "text/plain": "  0%|          | 0/800 [00:00<?, ?it/s]",
      "application/vnd.jupyter.widget-view+json": {
       "version_major": 2,
       "version_minor": 0,
       "model_id": "c26aa621f698422e9839d6ba007cb91b"
      }
     },
     "metadata": {},
     "output_type": "display_data"
    },
    {
     "data": {
      "text/plain": "  0%|          | 0/800 [00:00<?, ?it/s]",
      "application/vnd.jupyter.widget-view+json": {
       "version_major": 2,
       "version_minor": 0,
       "model_id": "771628c695f94e6087f5b93e7e91ba28"
      }
     },
     "metadata": {},
     "output_type": "display_data"
    },
    {
     "data": {
      "text/plain": "  0%|          | 0/800 [00:00<?, ?it/s]",
      "application/vnd.jupyter.widget-view+json": {
       "version_major": 2,
       "version_minor": 0,
       "model_id": "8337dbfecca64565baa61305ae178bea"
      }
     },
     "metadata": {},
     "output_type": "display_data"
    },
    {
     "data": {
      "text/plain": "  0%|          | 0/800 [00:00<?, ?it/s]",
      "application/vnd.jupyter.widget-view+json": {
       "version_major": 2,
       "version_minor": 0,
       "model_id": "0ef351d81f4342dbb2023bb3ba8bae51"
      }
     },
     "metadata": {},
     "output_type": "display_data"
    },
    {
     "data": {
      "text/plain": "  0%|          | 0/800 [00:00<?, ?it/s]",
      "application/vnd.jupyter.widget-view+json": {
       "version_major": 2,
       "version_minor": 0,
       "model_id": "afbbc2b8e9fb4fffa1cc6161a89d3eab"
      }
     },
     "metadata": {},
     "output_type": "display_data"
    },
    {
     "data": {
      "text/plain": "  0%|          | 0/800 [00:00<?, ?it/s]",
      "application/vnd.jupyter.widget-view+json": {
       "version_major": 2,
       "version_minor": 0,
       "model_id": "1ad646e6f0834a30963aee05798ab567"
      }
     },
     "metadata": {},
     "output_type": "display_data"
    },
    {
     "data": {
      "text/plain": "  0%|          | 0/800 [00:00<?, ?it/s]",
      "application/vnd.jupyter.widget-view+json": {
       "version_major": 2,
       "version_minor": 0,
       "model_id": "c8c6f658362e4716a0bdf4660f316b43"
      }
     },
     "metadata": {},
     "output_type": "display_data"
    },
    {
     "data": {
      "text/plain": "  0%|          | 0/800 [00:00<?, ?it/s]",
      "application/vnd.jupyter.widget-view+json": {
       "version_major": 2,
       "version_minor": 0,
       "model_id": "b81a81d7db1d4e84af752886484a0163"
      }
     },
     "metadata": {},
     "output_type": "display_data"
    },
    {
     "data": {
      "text/plain": "  0%|          | 0/800 [00:00<?, ?it/s]",
      "application/vnd.jupyter.widget-view+json": {
       "version_major": 2,
       "version_minor": 0,
       "model_id": "e4c398fe4c294e568dbd7a6b18b8bb68"
      }
     },
     "metadata": {},
     "output_type": "display_data"
    },
    {
     "data": {
      "text/plain": "  0%|          | 0/800 [00:00<?, ?it/s]",
      "application/vnd.jupyter.widget-view+json": {
       "version_major": 2,
       "version_minor": 0,
       "model_id": "bd5e05be3e7a41f6b0e7325341145d4c"
      }
     },
     "metadata": {},
     "output_type": "display_data"
    },
    {
     "data": {
      "text/plain": "  0%|          | 0/800 [00:00<?, ?it/s]",
      "application/vnd.jupyter.widget-view+json": {
       "version_major": 2,
       "version_minor": 0,
       "model_id": "5b173dc1a8884e6cb2923b9c7aecd65c"
      }
     },
     "metadata": {},
     "output_type": "display_data"
    },
    {
     "data": {
      "text/plain": "  0%|          | 0/800 [00:00<?, ?it/s]",
      "application/vnd.jupyter.widget-view+json": {
       "version_major": 2,
       "version_minor": 0,
       "model_id": "d5b4a2ac4c3e4b4dbeb4fcbdaf1e3814"
      }
     },
     "metadata": {},
     "output_type": "display_data"
    },
    {
     "data": {
      "text/plain": "  0%|          | 0/800 [00:00<?, ?it/s]",
      "application/vnd.jupyter.widget-view+json": {
       "version_major": 2,
       "version_minor": 0,
       "model_id": "afd34433b831428ab6f69f36fc5dce97"
      }
     },
     "metadata": {},
     "output_type": "display_data"
    },
    {
     "data": {
      "text/plain": "  0%|          | 0/800 [00:00<?, ?it/s]",
      "application/vnd.jupyter.widget-view+json": {
       "version_major": 2,
       "version_minor": 0,
       "model_id": "3cf2f94e8c0b4f6893fbcb164021c95f"
      }
     },
     "metadata": {},
     "output_type": "display_data"
    },
    {
     "data": {
      "text/plain": "  0%|          | 0/800 [00:00<?, ?it/s]",
      "application/vnd.jupyter.widget-view+json": {
       "version_major": 2,
       "version_minor": 0,
       "model_id": "1b67bb494d9a4a15b32945eaa39e1d42"
      }
     },
     "metadata": {},
     "output_type": "display_data"
    },
    {
     "data": {
      "text/plain": "  0%|          | 0/800 [00:00<?, ?it/s]",
      "application/vnd.jupyter.widget-view+json": {
       "version_major": 2,
       "version_minor": 0,
       "model_id": "150d2a2287bd4e89ab10ddd5bc3e9283"
      }
     },
     "metadata": {},
     "output_type": "display_data"
    },
    {
     "data": {
      "text/plain": "  0%|          | 0/800 [00:00<?, ?it/s]",
      "application/vnd.jupyter.widget-view+json": {
       "version_major": 2,
       "version_minor": 0,
       "model_id": "5e8ea4ba885f43f782d6f03f2f3b3b2b"
      }
     },
     "metadata": {},
     "output_type": "display_data"
    },
    {
     "data": {
      "text/plain": "  0%|          | 0/800 [00:00<?, ?it/s]",
      "application/vnd.jupyter.widget-view+json": {
       "version_major": 2,
       "version_minor": 0,
       "model_id": "fb563afb02f34c8ca9b36479004db100"
      }
     },
     "metadata": {},
     "output_type": "display_data"
    },
    {
     "data": {
      "text/plain": "  0%|          | 0/800 [00:00<?, ?it/s]",
      "application/vnd.jupyter.widget-view+json": {
       "version_major": 2,
       "version_minor": 0,
       "model_id": "7a0d3ba820ed4555a4fe058acf6304bf"
      }
     },
     "metadata": {},
     "output_type": "display_data"
    },
    {
     "data": {
      "text/plain": "  0%|          | 0/800 [00:00<?, ?it/s]",
      "application/vnd.jupyter.widget-view+json": {
       "version_major": 2,
       "version_minor": 0,
       "model_id": "c39c90eb1c314a07af09b27f00713474"
      }
     },
     "metadata": {},
     "output_type": "display_data"
    },
    {
     "data": {
      "text/plain": "  0%|          | 0/800 [00:00<?, ?it/s]",
      "application/vnd.jupyter.widget-view+json": {
       "version_major": 2,
       "version_minor": 0,
       "model_id": "9c5ab23d5fe944b08d6f2cd9418b50d0"
      }
     },
     "metadata": {},
     "output_type": "display_data"
    },
    {
     "data": {
      "text/plain": "  0%|          | 0/800 [00:00<?, ?it/s]",
      "application/vnd.jupyter.widget-view+json": {
       "version_major": 2,
       "version_minor": 0,
       "model_id": "48c3f1785f084630bbdd632fdeb3cf14"
      }
     },
     "metadata": {},
     "output_type": "display_data"
    },
    {
     "data": {
      "text/plain": "  0%|          | 0/800 [00:00<?, ?it/s]",
      "application/vnd.jupyter.widget-view+json": {
       "version_major": 2,
       "version_minor": 0,
       "model_id": "60c3890221074872b404a689cfc2057d"
      }
     },
     "metadata": {},
     "output_type": "display_data"
    },
    {
     "data": {
      "text/plain": "  0%|          | 0/800 [00:00<?, ?it/s]",
      "application/vnd.jupyter.widget-view+json": {
       "version_major": 2,
       "version_minor": 0,
       "model_id": "3202e9afdebd478a9226ca6dc40e1ad8"
      }
     },
     "metadata": {},
     "output_type": "display_data"
    },
    {
     "data": {
      "text/plain": "  0%|          | 0/800 [00:00<?, ?it/s]",
      "application/vnd.jupyter.widget-view+json": {
       "version_major": 2,
       "version_minor": 0,
       "model_id": "63c15b627da04527b6615fab76f84386"
      }
     },
     "metadata": {},
     "output_type": "display_data"
    },
    {
     "data": {
      "text/plain": "  0%|          | 0/800 [00:00<?, ?it/s]",
      "application/vnd.jupyter.widget-view+json": {
       "version_major": 2,
       "version_minor": 0,
       "model_id": "f3aaeb5fd4b24ccd8d5fa72224417948"
      }
     },
     "metadata": {},
     "output_type": "display_data"
    },
    {
     "data": {
      "text/plain": "  0%|          | 0/800 [00:00<?, ?it/s]",
      "application/vnd.jupyter.widget-view+json": {
       "version_major": 2,
       "version_minor": 0,
       "model_id": "9c6ddf9416b543e1aed1c5afb4902b62"
      }
     },
     "metadata": {},
     "output_type": "display_data"
    },
    {
     "data": {
      "text/plain": "  0%|          | 0/800 [00:00<?, ?it/s]",
      "application/vnd.jupyter.widget-view+json": {
       "version_major": 2,
       "version_minor": 0,
       "model_id": "99337445bfa94f3ab07792bcd34897ad"
      }
     },
     "metadata": {},
     "output_type": "display_data"
    },
    {
     "data": {
      "text/plain": "  0%|          | 0/800 [00:00<?, ?it/s]",
      "application/vnd.jupyter.widget-view+json": {
       "version_major": 2,
       "version_minor": 0,
       "model_id": "4099e6146b9741c6981d88db80d8e225"
      }
     },
     "metadata": {},
     "output_type": "display_data"
    },
    {
     "data": {
      "text/plain": "  0%|          | 0/800 [00:00<?, ?it/s]",
      "application/vnd.jupyter.widget-view+json": {
       "version_major": 2,
       "version_minor": 0,
       "model_id": "6f314fa956cc457faf366b1f0bd467bb"
      }
     },
     "metadata": {},
     "output_type": "display_data"
    },
    {
     "data": {
      "text/plain": "  0%|          | 0/800 [00:00<?, ?it/s]",
      "application/vnd.jupyter.widget-view+json": {
       "version_major": 2,
       "version_minor": 0,
       "model_id": "df679de418ef4ccaa59ade95f7616c46"
      }
     },
     "metadata": {},
     "output_type": "display_data"
    },
    {
     "data": {
      "text/plain": "  0%|          | 0/800 [00:00<?, ?it/s]",
      "application/vnd.jupyter.widget-view+json": {
       "version_major": 2,
       "version_minor": 0,
       "model_id": "cc5232d35c7541ccbad1651ac2bc039b"
      }
     },
     "metadata": {},
     "output_type": "display_data"
    },
    {
     "data": {
      "text/plain": "  0%|          | 0/800 [00:00<?, ?it/s]",
      "application/vnd.jupyter.widget-view+json": {
       "version_major": 2,
       "version_minor": 0,
       "model_id": "8c2817900026432fae9c6d018bbfe4f6"
      }
     },
     "metadata": {},
     "output_type": "display_data"
    },
    {
     "data": {
      "text/plain": "  0%|          | 0/800 [00:00<?, ?it/s]",
      "application/vnd.jupyter.widget-view+json": {
       "version_major": 2,
       "version_minor": 0,
       "model_id": "68eb034775b3469ea50f36dc317dedbb"
      }
     },
     "metadata": {},
     "output_type": "display_data"
    },
    {
     "data": {
      "text/plain": "  0%|          | 0/800 [00:00<?, ?it/s]",
      "application/vnd.jupyter.widget-view+json": {
       "version_major": 2,
       "version_minor": 0,
       "model_id": "2d825a54e58b41cf863be56ae8032465"
      }
     },
     "metadata": {},
     "output_type": "display_data"
    },
    {
     "data": {
      "text/plain": "  0%|          | 0/800 [00:00<?, ?it/s]",
      "application/vnd.jupyter.widget-view+json": {
       "version_major": 2,
       "version_minor": 0,
       "model_id": "cf52ba1332e8457ebbbfea72864ed590"
      }
     },
     "metadata": {},
     "output_type": "display_data"
    },
    {
     "data": {
      "text/plain": "  0%|          | 0/800 [00:00<?, ?it/s]",
      "application/vnd.jupyter.widget-view+json": {
       "version_major": 2,
       "version_minor": 0,
       "model_id": "464f9e5311e5408990ceaf10cd02b7cb"
      }
     },
     "metadata": {},
     "output_type": "display_data"
    },
    {
     "data": {
      "text/plain": "  0%|          | 0/800 [00:00<?, ?it/s]",
      "application/vnd.jupyter.widget-view+json": {
       "version_major": 2,
       "version_minor": 0,
       "model_id": "e5986700392048dcb1f12effeef4404a"
      }
     },
     "metadata": {},
     "output_type": "display_data"
    },
    {
     "data": {
      "text/plain": "  0%|          | 0/800 [00:00<?, ?it/s]",
      "application/vnd.jupyter.widget-view+json": {
       "version_major": 2,
       "version_minor": 0,
       "model_id": "3fc66d624cdf42e5a6b6dc14f4f5916d"
      }
     },
     "metadata": {},
     "output_type": "display_data"
    },
    {
     "data": {
      "text/plain": "  0%|          | 0/800 [00:00<?, ?it/s]",
      "application/vnd.jupyter.widget-view+json": {
       "version_major": 2,
       "version_minor": 0,
       "model_id": "81227243cdf544e6af956fa78f419583"
      }
     },
     "metadata": {},
     "output_type": "display_data"
    },
    {
     "data": {
      "text/plain": "  0%|          | 0/800 [00:00<?, ?it/s]",
      "application/vnd.jupyter.widget-view+json": {
       "version_major": 2,
       "version_minor": 0,
       "model_id": "fd2928575604422fbfa0ba3abfe2d27f"
      }
     },
     "metadata": {},
     "output_type": "display_data"
    },
    {
     "data": {
      "text/plain": "  0%|          | 0/800 [00:00<?, ?it/s]",
      "application/vnd.jupyter.widget-view+json": {
       "version_major": 2,
       "version_minor": 0,
       "model_id": "d7cac68ca6c7485e98237011e9dbed91"
      }
     },
     "metadata": {},
     "output_type": "display_data"
    },
    {
     "data": {
      "text/plain": "  0%|          | 0/800 [00:00<?, ?it/s]",
      "application/vnd.jupyter.widget-view+json": {
       "version_major": 2,
       "version_minor": 0,
       "model_id": "6ae21a7b61c54f4ea9309e73dae3cdd2"
      }
     },
     "metadata": {},
     "output_type": "display_data"
    },
    {
     "data": {
      "text/plain": "  0%|          | 0/800 [00:00<?, ?it/s]",
      "application/vnd.jupyter.widget-view+json": {
       "version_major": 2,
       "version_minor": 0,
       "model_id": "77155291e2a940d39364a4191254cbf2"
      }
     },
     "metadata": {},
     "output_type": "display_data"
    },
    {
     "data": {
      "text/plain": "  0%|          | 0/800 [00:00<?, ?it/s]",
      "application/vnd.jupyter.widget-view+json": {
       "version_major": 2,
       "version_minor": 0,
       "model_id": "0e3e58d3b1ad46fbab6a43e1949127ca"
      }
     },
     "metadata": {},
     "output_type": "display_data"
    },
    {
     "data": {
      "text/plain": "  0%|          | 0/800 [00:00<?, ?it/s]",
      "application/vnd.jupyter.widget-view+json": {
       "version_major": 2,
       "version_minor": 0,
       "model_id": "c0f4dd7129e647879089fd2e27aca6ed"
      }
     },
     "metadata": {},
     "output_type": "display_data"
    },
    {
     "data": {
      "text/plain": "  0%|          | 0/800 [00:00<?, ?it/s]",
      "application/vnd.jupyter.widget-view+json": {
       "version_major": 2,
       "version_minor": 0,
       "model_id": "fd13983fb3264eebb46226c55c7a9dd6"
      }
     },
     "metadata": {},
     "output_type": "display_data"
    },
    {
     "data": {
      "text/plain": "  0%|          | 0/800 [00:00<?, ?it/s]",
      "application/vnd.jupyter.widget-view+json": {
       "version_major": 2,
       "version_minor": 0,
       "model_id": "08bb4dd3bc1243fbb69a69ce1cc3356a"
      }
     },
     "metadata": {},
     "output_type": "display_data"
    },
    {
     "data": {
      "text/plain": "  0%|          | 0/800 [00:00<?, ?it/s]",
      "application/vnd.jupyter.widget-view+json": {
       "version_major": 2,
       "version_minor": 0,
       "model_id": "ee8ec9dfdc414edb96674a2596d17a55"
      }
     },
     "metadata": {},
     "output_type": "display_data"
    },
    {
     "data": {
      "text/plain": "  0%|          | 0/800 [00:00<?, ?it/s]",
      "application/vnd.jupyter.widget-view+json": {
       "version_major": 2,
       "version_minor": 0,
       "model_id": "3ea285ea2fd6450aa34d256de48cc1c1"
      }
     },
     "metadata": {},
     "output_type": "display_data"
    },
    {
     "data": {
      "text/plain": "  0%|          | 0/800 [00:00<?, ?it/s]",
      "application/vnd.jupyter.widget-view+json": {
       "version_major": 2,
       "version_minor": 0,
       "model_id": "fdd80cd7a9e845c7b67c24fbc3605556"
      }
     },
     "metadata": {},
     "output_type": "display_data"
    },
    {
     "data": {
      "text/plain": "  0%|          | 0/800 [00:00<?, ?it/s]",
      "application/vnd.jupyter.widget-view+json": {
       "version_major": 2,
       "version_minor": 0,
       "model_id": "ccb97dc2532947b583fd38ed1de684ce"
      }
     },
     "metadata": {},
     "output_type": "display_data"
    },
    {
     "data": {
      "text/plain": "  0%|          | 0/800 [00:00<?, ?it/s]",
      "application/vnd.jupyter.widget-view+json": {
       "version_major": 2,
       "version_minor": 0,
       "model_id": "f121797387a94f169666021320aa85a5"
      }
     },
     "metadata": {},
     "output_type": "display_data"
    },
    {
     "data": {
      "text/plain": "  0%|          | 0/800 [00:00<?, ?it/s]",
      "application/vnd.jupyter.widget-view+json": {
       "version_major": 2,
       "version_minor": 0,
       "model_id": "1712403aff824d92b89d93c683dc1bc7"
      }
     },
     "metadata": {},
     "output_type": "display_data"
    },
    {
     "data": {
      "text/plain": "  0%|          | 0/800 [00:00<?, ?it/s]",
      "application/vnd.jupyter.widget-view+json": {
       "version_major": 2,
       "version_minor": 0,
       "model_id": "67a0da4641a344cebddd54fc28cb0c7e"
      }
     },
     "metadata": {},
     "output_type": "display_data"
    },
    {
     "data": {
      "text/plain": "  0%|          | 0/800 [00:00<?, ?it/s]",
      "application/vnd.jupyter.widget-view+json": {
       "version_major": 2,
       "version_minor": 0,
       "model_id": "4b8ffeb3494147afa35dfda6937c1e21"
      }
     },
     "metadata": {},
     "output_type": "display_data"
    },
    {
     "data": {
      "text/plain": "  0%|          | 0/800 [00:00<?, ?it/s]",
      "application/vnd.jupyter.widget-view+json": {
       "version_major": 2,
       "version_minor": 0,
       "model_id": "24d2a4f16c4d42a8b5f6c09d0d63cfcb"
      }
     },
     "metadata": {},
     "output_type": "display_data"
    },
    {
     "data": {
      "text/plain": "  0%|          | 0/800 [00:00<?, ?it/s]",
      "application/vnd.jupyter.widget-view+json": {
       "version_major": 2,
       "version_minor": 0,
       "model_id": "0d41558b90a1432e81fe784b70ebb962"
      }
     },
     "metadata": {},
     "output_type": "display_data"
    },
    {
     "data": {
      "text/plain": "  0%|          | 0/800 [00:00<?, ?it/s]",
      "application/vnd.jupyter.widget-view+json": {
       "version_major": 2,
       "version_minor": 0,
       "model_id": "b9529d5a4d754cdb88802cefe0fb7b60"
      }
     },
     "metadata": {},
     "output_type": "display_data"
    },
    {
     "data": {
      "text/plain": "  0%|          | 0/800 [00:00<?, ?it/s]",
      "application/vnd.jupyter.widget-view+json": {
       "version_major": 2,
       "version_minor": 0,
       "model_id": "abbd1fe3a9e24f62a3eeb5a701447276"
      }
     },
     "metadata": {},
     "output_type": "display_data"
    },
    {
     "data": {
      "text/plain": "  0%|          | 0/800 [00:00<?, ?it/s]",
      "application/vnd.jupyter.widget-view+json": {
       "version_major": 2,
       "version_minor": 0,
       "model_id": "21338bfd98e54139b1b2ce62334945ba"
      }
     },
     "metadata": {},
     "output_type": "display_data"
    },
    {
     "data": {
      "text/plain": "  0%|          | 0/800 [00:00<?, ?it/s]",
      "application/vnd.jupyter.widget-view+json": {
       "version_major": 2,
       "version_minor": 0,
       "model_id": "715cc3c238f14f31a8759caac48801aa"
      }
     },
     "metadata": {},
     "output_type": "display_data"
    },
    {
     "data": {
      "text/plain": "  0%|          | 0/800 [00:00<?, ?it/s]",
      "application/vnd.jupyter.widget-view+json": {
       "version_major": 2,
       "version_minor": 0,
       "model_id": "7972e9ba35ca4ee5b5a31ab755c9ca4f"
      }
     },
     "metadata": {},
     "output_type": "display_data"
    },
    {
     "data": {
      "text/plain": "  0%|          | 0/800 [00:00<?, ?it/s]",
      "application/vnd.jupyter.widget-view+json": {
       "version_major": 2,
       "version_minor": 0,
       "model_id": "c1f47127031045ae804623835b8a4bac"
      }
     },
     "metadata": {},
     "output_type": "display_data"
    },
    {
     "data": {
      "text/plain": "  0%|          | 0/800 [00:00<?, ?it/s]",
      "application/vnd.jupyter.widget-view+json": {
       "version_major": 2,
       "version_minor": 0,
       "model_id": "495b7cdb8481492bbd1224be93bea841"
      }
     },
     "metadata": {},
     "output_type": "display_data"
    },
    {
     "data": {
      "text/plain": "  0%|          | 0/800 [00:00<?, ?it/s]",
      "application/vnd.jupyter.widget-view+json": {
       "version_major": 2,
       "version_minor": 0,
       "model_id": "d7ae7f98c3bd4065ad9f0cc5711f56c7"
      }
     },
     "metadata": {},
     "output_type": "display_data"
    },
    {
     "data": {
      "text/plain": "  0%|          | 0/800 [00:00<?, ?it/s]",
      "application/vnd.jupyter.widget-view+json": {
       "version_major": 2,
       "version_minor": 0,
       "model_id": "9fb29725b46b4fcd9ebd41a671c3d1ae"
      }
     },
     "metadata": {},
     "output_type": "display_data"
    },
    {
     "data": {
      "text/plain": "  0%|          | 0/800 [00:00<?, ?it/s]",
      "application/vnd.jupyter.widget-view+json": {
       "version_major": 2,
       "version_minor": 0,
       "model_id": "4c6c9175fe054d0ea205dbaca4e9d8f1"
      }
     },
     "metadata": {},
     "output_type": "display_data"
    },
    {
     "data": {
      "text/plain": "  0%|          | 0/800 [00:00<?, ?it/s]",
      "application/vnd.jupyter.widget-view+json": {
       "version_major": 2,
       "version_minor": 0,
       "model_id": "d6d8e9fd34e74461a00d959a34f21b14"
      }
     },
     "metadata": {},
     "output_type": "display_data"
    },
    {
     "data": {
      "text/plain": "  0%|          | 0/800 [00:00<?, ?it/s]",
      "application/vnd.jupyter.widget-view+json": {
       "version_major": 2,
       "version_minor": 0,
       "model_id": "a26210674c0b427d859445986066dc88"
      }
     },
     "metadata": {},
     "output_type": "display_data"
    },
    {
     "data": {
      "text/plain": "  0%|          | 0/800 [00:00<?, ?it/s]",
      "application/vnd.jupyter.widget-view+json": {
       "version_major": 2,
       "version_minor": 0,
       "model_id": "e4fdaded15804d8b8fabf25b443d50ce"
      }
     },
     "metadata": {},
     "output_type": "display_data"
    },
    {
     "data": {
      "text/plain": "  0%|          | 0/800 [00:00<?, ?it/s]",
      "application/vnd.jupyter.widget-view+json": {
       "version_major": 2,
       "version_minor": 0,
       "model_id": "672dc2eb17ce4b9dbe8b60e106f67c7f"
      }
     },
     "metadata": {},
     "output_type": "display_data"
    },
    {
     "data": {
      "text/plain": "  0%|          | 0/800 [00:00<?, ?it/s]",
      "application/vnd.jupyter.widget-view+json": {
       "version_major": 2,
       "version_minor": 0,
       "model_id": "fa9ff12c843143659970c51d7cc2285d"
      }
     },
     "metadata": {},
     "output_type": "display_data"
    },
    {
     "data": {
      "text/plain": "  0%|          | 0/800 [00:00<?, ?it/s]",
      "application/vnd.jupyter.widget-view+json": {
       "version_major": 2,
       "version_minor": 0,
       "model_id": "958ac1ab83464d4c9bbd3f2979c94b61"
      }
     },
     "metadata": {},
     "output_type": "display_data"
    },
    {
     "data": {
      "text/plain": "  0%|          | 0/800 [00:00<?, ?it/s]",
      "application/vnd.jupyter.widget-view+json": {
       "version_major": 2,
       "version_minor": 0,
       "model_id": "4b91bcefec3c4c039627abb83cee7373"
      }
     },
     "metadata": {},
     "output_type": "display_data"
    },
    {
     "data": {
      "text/plain": "  0%|          | 0/800 [00:00<?, ?it/s]",
      "application/vnd.jupyter.widget-view+json": {
       "version_major": 2,
       "version_minor": 0,
       "model_id": "f05890fb026a4b4092a100e4d56595e0"
      }
     },
     "metadata": {},
     "output_type": "display_data"
    },
    {
     "data": {
      "text/plain": "  0%|          | 0/800 [00:00<?, ?it/s]",
      "application/vnd.jupyter.widget-view+json": {
       "version_major": 2,
       "version_minor": 0,
       "model_id": "aed133a88eb44dd795cbf6cc610483cc"
      }
     },
     "metadata": {},
     "output_type": "display_data"
    },
    {
     "data": {
      "text/plain": "  0%|          | 0/800 [00:00<?, ?it/s]",
      "application/vnd.jupyter.widget-view+json": {
       "version_major": 2,
       "version_minor": 0,
       "model_id": "94950dac40784de18c896e5ce0a41acf"
      }
     },
     "metadata": {},
     "output_type": "display_data"
    },
    {
     "data": {
      "text/plain": "  0%|          | 0/800 [00:00<?, ?it/s]",
      "application/vnd.jupyter.widget-view+json": {
       "version_major": 2,
       "version_minor": 0,
       "model_id": "504d4eddf50649ee80307d6ef23afc17"
      }
     },
     "metadata": {},
     "output_type": "display_data"
    },
    {
     "data": {
      "text/plain": "  0%|          | 0/800 [00:00<?, ?it/s]",
      "application/vnd.jupyter.widget-view+json": {
       "version_major": 2,
       "version_minor": 0,
       "model_id": "d0a4936367fd4e7b9013aa3ddf00b606"
      }
     },
     "metadata": {},
     "output_type": "display_data"
    },
    {
     "data": {
      "text/plain": "  0%|          | 0/800 [00:00<?, ?it/s]",
      "application/vnd.jupyter.widget-view+json": {
       "version_major": 2,
       "version_minor": 0,
       "model_id": "996f2bc725f44eaea58f5c015e60db56"
      }
     },
     "metadata": {},
     "output_type": "display_data"
    },
    {
     "data": {
      "text/plain": "  0%|          | 0/800 [00:00<?, ?it/s]",
      "application/vnd.jupyter.widget-view+json": {
       "version_major": 2,
       "version_minor": 0,
       "model_id": "a2dd386748a148eca9cec6e24e26c2e2"
      }
     },
     "metadata": {},
     "output_type": "display_data"
    },
    {
     "data": {
      "text/plain": "  0%|          | 0/800 [00:00<?, ?it/s]",
      "application/vnd.jupyter.widget-view+json": {
       "version_major": 2,
       "version_minor": 0,
       "model_id": "02b6b5827af344598e6ef3a39002c462"
      }
     },
     "metadata": {},
     "output_type": "display_data"
    },
    {
     "data": {
      "text/plain": "  0%|          | 0/800 [00:00<?, ?it/s]",
      "application/vnd.jupyter.widget-view+json": {
       "version_major": 2,
       "version_minor": 0,
       "model_id": "037fcd25caff4903b2b8eb36df4872e8"
      }
     },
     "metadata": {},
     "output_type": "display_data"
    },
    {
     "data": {
      "text/plain": "  0%|          | 0/800 [00:00<?, ?it/s]",
      "application/vnd.jupyter.widget-view+json": {
       "version_major": 2,
       "version_minor": 0,
       "model_id": "bef9523a149f47af9c0b4bedf75c68ed"
      }
     },
     "metadata": {},
     "output_type": "display_data"
    },
    {
     "data": {
      "text/plain": "  0%|          | 0/800 [00:00<?, ?it/s]",
      "application/vnd.jupyter.widget-view+json": {
       "version_major": 2,
       "version_minor": 0,
       "model_id": "d642c1c7f4224be1b834a8085a461a2b"
      }
     },
     "metadata": {},
     "output_type": "display_data"
    },
    {
     "data": {
      "text/plain": "  0%|          | 0/800 [00:00<?, ?it/s]",
      "application/vnd.jupyter.widget-view+json": {
       "version_major": 2,
       "version_minor": 0,
       "model_id": "b3991bacaebf47af9615fcd662b621ee"
      }
     },
     "metadata": {},
     "output_type": "display_data"
    },
    {
     "data": {
      "text/plain": "  0%|          | 0/800 [00:00<?, ?it/s]",
      "application/vnd.jupyter.widget-view+json": {
       "version_major": 2,
       "version_minor": 0,
       "model_id": "ea1427512bb448f78400f1e12b9d3d66"
      }
     },
     "metadata": {},
     "output_type": "display_data"
    },
    {
     "data": {
      "text/plain": "  0%|          | 0/800 [00:00<?, ?it/s]",
      "application/vnd.jupyter.widget-view+json": {
       "version_major": 2,
       "version_minor": 0,
       "model_id": "41aeb0c8bcde4253a241b6e54d90736a"
      }
     },
     "metadata": {},
     "output_type": "display_data"
    },
    {
     "data": {
      "text/plain": "  0%|          | 0/800 [00:00<?, ?it/s]",
      "application/vnd.jupyter.widget-view+json": {
       "version_major": 2,
       "version_minor": 0,
       "model_id": "dac4da05e2d4482aa1c03b42f30001cd"
      }
     },
     "metadata": {},
     "output_type": "display_data"
    },
    {
     "data": {
      "text/plain": "  0%|          | 0/800 [00:00<?, ?it/s]",
      "application/vnd.jupyter.widget-view+json": {
       "version_major": 2,
       "version_minor": 0,
       "model_id": "9edc3ae1868d4afb8b5482106060bb83"
      }
     },
     "metadata": {},
     "output_type": "display_data"
    },
    {
     "data": {
      "text/plain": "  0%|          | 0/800 [00:00<?, ?it/s]",
      "application/vnd.jupyter.widget-view+json": {
       "version_major": 2,
       "version_minor": 0,
       "model_id": "61c018545ac147ad846a9ab7e6d6d371"
      }
     },
     "metadata": {},
     "output_type": "display_data"
    },
    {
     "data": {
      "text/plain": "  0%|          | 0/800 [00:00<?, ?it/s]",
      "application/vnd.jupyter.widget-view+json": {
       "version_major": 2,
       "version_minor": 0,
       "model_id": "4d1ae5b0bcc642e1ba5fecf6103983ff"
      }
     },
     "metadata": {},
     "output_type": "display_data"
    },
    {
     "data": {
      "text/plain": "  0%|          | 0/800 [00:00<?, ?it/s]",
      "application/vnd.jupyter.widget-view+json": {
       "version_major": 2,
       "version_minor": 0,
       "model_id": "8e959ab7d5524416810bd000b23f5e58"
      }
     },
     "metadata": {},
     "output_type": "display_data"
    },
    {
     "data": {
      "text/plain": "  0%|          | 0/800 [00:00<?, ?it/s]",
      "application/vnd.jupyter.widget-view+json": {
       "version_major": 2,
       "version_minor": 0,
       "model_id": "62153329e23f424c893ffb651e6cc017"
      }
     },
     "metadata": {},
     "output_type": "display_data"
    },
    {
     "data": {
      "text/plain": "  0%|          | 0/800 [00:00<?, ?it/s]",
      "application/vnd.jupyter.widget-view+json": {
       "version_major": 2,
       "version_minor": 0,
       "model_id": "0a64ccacab2443a8bc9c2e5cc5ecdbf5"
      }
     },
     "metadata": {},
     "output_type": "display_data"
    },
    {
     "data": {
      "text/plain": "  0%|          | 0/800 [00:00<?, ?it/s]",
      "application/vnd.jupyter.widget-view+json": {
       "version_major": 2,
       "version_minor": 0,
       "model_id": "414fdf27a8364dec8ef10ee3b3e3b168"
      }
     },
     "metadata": {},
     "output_type": "display_data"
    },
    {
     "data": {
      "text/plain": "  0%|          | 0/800 [00:00<?, ?it/s]",
      "application/vnd.jupyter.widget-view+json": {
       "version_major": 2,
       "version_minor": 0,
       "model_id": "012c52232cb446d292885452db86d014"
      }
     },
     "metadata": {},
     "output_type": "display_data"
    },
    {
     "data": {
      "text/plain": "  0%|          | 0/800 [00:00<?, ?it/s]",
      "application/vnd.jupyter.widget-view+json": {
       "version_major": 2,
       "version_minor": 0,
       "model_id": "f5a2a7f97ed643529a1122147e207fc5"
      }
     },
     "metadata": {},
     "output_type": "display_data"
    },
    {
     "data": {
      "text/plain": "  0%|          | 0/800 [00:00<?, ?it/s]",
      "application/vnd.jupyter.widget-view+json": {
       "version_major": 2,
       "version_minor": 0,
       "model_id": "5d042aab65fe4ea5b7fdcce65c3ab14e"
      }
     },
     "metadata": {},
     "output_type": "display_data"
    },
    {
     "data": {
      "text/plain": "  0%|          | 0/800 [00:00<?, ?it/s]",
      "application/vnd.jupyter.widget-view+json": {
       "version_major": 2,
       "version_minor": 0,
       "model_id": "9d18fd4f52fc4274a57b829d288ffae6"
      }
     },
     "metadata": {},
     "output_type": "display_data"
    },
    {
     "data": {
      "text/plain": "  0%|          | 0/800 [00:00<?, ?it/s]",
      "application/vnd.jupyter.widget-view+json": {
       "version_major": 2,
       "version_minor": 0,
       "model_id": "2c6eb3798e604ea3b379a2bf63d09b76"
      }
     },
     "metadata": {},
     "output_type": "display_data"
    },
    {
     "data": {
      "text/plain": "  0%|          | 0/800 [00:00<?, ?it/s]",
      "application/vnd.jupyter.widget-view+json": {
       "version_major": 2,
       "version_minor": 0,
       "model_id": "84c9aed7a64d47fa97988aef464f5bd1"
      }
     },
     "metadata": {},
     "output_type": "display_data"
    },
    {
     "data": {
      "text/plain": "  0%|          | 0/800 [00:00<?, ?it/s]",
      "application/vnd.jupyter.widget-view+json": {
       "version_major": 2,
       "version_minor": 0,
       "model_id": "ceeb686ffd58461a8fff89f8d6c0b743"
      }
     },
     "metadata": {},
     "output_type": "display_data"
    },
    {
     "data": {
      "text/plain": "  0%|          | 0/800 [00:00<?, ?it/s]",
      "application/vnd.jupyter.widget-view+json": {
       "version_major": 2,
       "version_minor": 0,
       "model_id": "517d061ece8f4d6196f06dae5f6ac9e2"
      }
     },
     "metadata": {},
     "output_type": "display_data"
    },
    {
     "data": {
      "text/plain": "  0%|          | 0/800 [00:00<?, ?it/s]",
      "application/vnd.jupyter.widget-view+json": {
       "version_major": 2,
       "version_minor": 0,
       "model_id": "6f3168b1084646e1a80bca9b7ddbb180"
      }
     },
     "metadata": {},
     "output_type": "display_data"
    },
    {
     "data": {
      "text/plain": "  0%|          | 0/800 [00:00<?, ?it/s]",
      "application/vnd.jupyter.widget-view+json": {
       "version_major": 2,
       "version_minor": 0,
       "model_id": "092a72cb103543709d9250c6bca459e1"
      }
     },
     "metadata": {},
     "output_type": "display_data"
    },
    {
     "data": {
      "text/plain": "  0%|          | 0/800 [00:00<?, ?it/s]",
      "application/vnd.jupyter.widget-view+json": {
       "version_major": 2,
       "version_minor": 0,
       "model_id": "b74b6e735661499e8cdc4b59acc058e3"
      }
     },
     "metadata": {},
     "output_type": "display_data"
    },
    {
     "data": {
      "text/plain": "  0%|          | 0/800 [00:00<?, ?it/s]",
      "application/vnd.jupyter.widget-view+json": {
       "version_major": 2,
       "version_minor": 0,
       "model_id": "7f2b110cdce0494f9c5b7cf3331e8a3d"
      }
     },
     "metadata": {},
     "output_type": "display_data"
    },
    {
     "data": {
      "text/plain": "  0%|          | 0/800 [00:00<?, ?it/s]",
      "application/vnd.jupyter.widget-view+json": {
       "version_major": 2,
       "version_minor": 0,
       "model_id": "bf7ac7e25e1d44f58cf5ab9438e14250"
      }
     },
     "metadata": {},
     "output_type": "display_data"
    },
    {
     "data": {
      "text/plain": "  0%|          | 0/800 [00:00<?, ?it/s]",
      "application/vnd.jupyter.widget-view+json": {
       "version_major": 2,
       "version_minor": 0,
       "model_id": "b85995dfd87447e3bf43d8183d45b95b"
      }
     },
     "metadata": {},
     "output_type": "display_data"
    },
    {
     "data": {
      "text/plain": "  0%|          | 0/800 [00:00<?, ?it/s]",
      "application/vnd.jupyter.widget-view+json": {
       "version_major": 2,
       "version_minor": 0,
       "model_id": "0bd8bd8e1ede4cb482186cc8858b47c0"
      }
     },
     "metadata": {},
     "output_type": "display_data"
    },
    {
     "data": {
      "text/plain": "  0%|          | 0/800 [00:00<?, ?it/s]",
      "application/vnd.jupyter.widget-view+json": {
       "version_major": 2,
       "version_minor": 0,
       "model_id": "da51b15584184bb68f5f23f1c551e789"
      }
     },
     "metadata": {},
     "output_type": "display_data"
    },
    {
     "data": {
      "text/plain": "  0%|          | 0/800 [00:00<?, ?it/s]",
      "application/vnd.jupyter.widget-view+json": {
       "version_major": 2,
       "version_minor": 0,
       "model_id": "9a86106b2fb2411c9a81023a47bc2d41"
      }
     },
     "metadata": {},
     "output_type": "display_data"
    },
    {
     "data": {
      "text/plain": "  0%|          | 0/800 [00:00<?, ?it/s]",
      "application/vnd.jupyter.widget-view+json": {
       "version_major": 2,
       "version_minor": 0,
       "model_id": "fc34bf0755524375bc137561ee164502"
      }
     },
     "metadata": {},
     "output_type": "display_data"
    },
    {
     "data": {
      "text/plain": "  0%|          | 0/800 [00:00<?, ?it/s]",
      "application/vnd.jupyter.widget-view+json": {
       "version_major": 2,
       "version_minor": 0,
       "model_id": "c8e3dd7b531840158f0f443999c9d2d4"
      }
     },
     "metadata": {},
     "output_type": "display_data"
    },
    {
     "data": {
      "text/plain": "  0%|          | 0/800 [00:00<?, ?it/s]",
      "application/vnd.jupyter.widget-view+json": {
       "version_major": 2,
       "version_minor": 0,
       "model_id": "43137c313c454930bece5ca4273c0247"
      }
     },
     "metadata": {},
     "output_type": "display_data"
    },
    {
     "data": {
      "text/plain": "  0%|          | 0/800 [00:00<?, ?it/s]",
      "application/vnd.jupyter.widget-view+json": {
       "version_major": 2,
       "version_minor": 0,
       "model_id": "d19cc111cd77442db88b6fdcaf38bdb6"
      }
     },
     "metadata": {},
     "output_type": "display_data"
    },
    {
     "data": {
      "text/plain": "  0%|          | 0/800 [00:00<?, ?it/s]",
      "application/vnd.jupyter.widget-view+json": {
       "version_major": 2,
       "version_minor": 0,
       "model_id": "134cd799fe8e4da68f2e4dee16c4d7b1"
      }
     },
     "metadata": {},
     "output_type": "display_data"
    },
    {
     "data": {
      "text/plain": "  0%|          | 0/800 [00:00<?, ?it/s]",
      "application/vnd.jupyter.widget-view+json": {
       "version_major": 2,
       "version_minor": 0,
       "model_id": "a9f9b412ed194768a6a811e951c0b4c6"
      }
     },
     "metadata": {},
     "output_type": "display_data"
    },
    {
     "data": {
      "text/plain": "  0%|          | 0/800 [00:00<?, ?it/s]",
      "application/vnd.jupyter.widget-view+json": {
       "version_major": 2,
       "version_minor": 0,
       "model_id": "ae527113b97e4d97b5de1180761f4f5d"
      }
     },
     "metadata": {},
     "output_type": "display_data"
    },
    {
     "data": {
      "text/plain": "  0%|          | 0/800 [00:00<?, ?it/s]",
      "application/vnd.jupyter.widget-view+json": {
       "version_major": 2,
       "version_minor": 0,
       "model_id": "683da43f5e1a4a4892abe220ccfaf7f4"
      }
     },
     "metadata": {},
     "output_type": "display_data"
    },
    {
     "data": {
      "text/plain": "  0%|          | 0/800 [00:00<?, ?it/s]",
      "application/vnd.jupyter.widget-view+json": {
       "version_major": 2,
       "version_minor": 0,
       "model_id": "3713695fc42145c7b4f80f2bfa8460b3"
      }
     },
     "metadata": {},
     "output_type": "display_data"
    },
    {
     "data": {
      "text/plain": "  0%|          | 0/800 [00:00<?, ?it/s]",
      "application/vnd.jupyter.widget-view+json": {
       "version_major": 2,
       "version_minor": 0,
       "model_id": "e779ac660e274b1d9f95bd6938241854"
      }
     },
     "metadata": {},
     "output_type": "display_data"
    },
    {
     "data": {
      "text/plain": "  0%|          | 0/800 [00:00<?, ?it/s]",
      "application/vnd.jupyter.widget-view+json": {
       "version_major": 2,
       "version_minor": 0,
       "model_id": "071df1101c1a429b9b8bb02314597c80"
      }
     },
     "metadata": {},
     "output_type": "display_data"
    },
    {
     "data": {
      "text/plain": "  0%|          | 0/800 [00:00<?, ?it/s]",
      "application/vnd.jupyter.widget-view+json": {
       "version_major": 2,
       "version_minor": 0,
       "model_id": "4af9b1c595e5494180dda6992740a953"
      }
     },
     "metadata": {},
     "output_type": "display_data"
    },
    {
     "data": {
      "text/plain": "  0%|          | 0/800 [00:00<?, ?it/s]",
      "application/vnd.jupyter.widget-view+json": {
       "version_major": 2,
       "version_minor": 0,
       "model_id": "ec72acffc4a740d99096c4dae96e7762"
      }
     },
     "metadata": {},
     "output_type": "display_data"
    },
    {
     "data": {
      "text/plain": "  0%|          | 0/800 [00:00<?, ?it/s]",
      "application/vnd.jupyter.widget-view+json": {
       "version_major": 2,
       "version_minor": 0,
       "model_id": "2df729507bf34876a9a2c61f74254771"
      }
     },
     "metadata": {},
     "output_type": "display_data"
    },
    {
     "data": {
      "text/plain": "  0%|          | 0/800 [00:00<?, ?it/s]",
      "application/vnd.jupyter.widget-view+json": {
       "version_major": 2,
       "version_minor": 0,
       "model_id": "ac9663bf3d9743ab9cad7362feb91eb9"
      }
     },
     "metadata": {},
     "output_type": "display_data"
    },
    {
     "data": {
      "text/plain": "  0%|          | 0/800 [00:00<?, ?it/s]",
      "application/vnd.jupyter.widget-view+json": {
       "version_major": 2,
       "version_minor": 0,
       "model_id": "0ec899924fbc41c4a75aa0636d3b1c9f"
      }
     },
     "metadata": {},
     "output_type": "display_data"
    },
    {
     "data": {
      "text/plain": "  0%|          | 0/800 [00:00<?, ?it/s]",
      "application/vnd.jupyter.widget-view+json": {
       "version_major": 2,
       "version_minor": 0,
       "model_id": "3be7e93b554d4db2a09b28cb91a3a198"
      }
     },
     "metadata": {},
     "output_type": "display_data"
    },
    {
     "data": {
      "text/plain": "  0%|          | 0/800 [00:00<?, ?it/s]",
      "application/vnd.jupyter.widget-view+json": {
       "version_major": 2,
       "version_minor": 0,
       "model_id": "61374c371ec74e3b927ad5fafdd850cd"
      }
     },
     "metadata": {},
     "output_type": "display_data"
    },
    {
     "data": {
      "text/plain": "  0%|          | 0/800 [00:00<?, ?it/s]",
      "application/vnd.jupyter.widget-view+json": {
       "version_major": 2,
       "version_minor": 0,
       "model_id": "df1cee9e56a7427982f953887327d97d"
      }
     },
     "metadata": {},
     "output_type": "display_data"
    },
    {
     "data": {
      "text/plain": "  0%|          | 0/800 [00:00<?, ?it/s]",
      "application/vnd.jupyter.widget-view+json": {
       "version_major": 2,
       "version_minor": 0,
       "model_id": "6b272eec8bdb49ffbdb05fb64c5c652d"
      }
     },
     "metadata": {},
     "output_type": "display_data"
    },
    {
     "data": {
      "text/plain": "  0%|          | 0/800 [00:00<?, ?it/s]",
      "application/vnd.jupyter.widget-view+json": {
       "version_major": 2,
       "version_minor": 0,
       "model_id": "cc6d472fd5954ce1b6d8dbee9322eeb6"
      }
     },
     "metadata": {},
     "output_type": "display_data"
    },
    {
     "data": {
      "text/plain": "  0%|          | 0/800 [00:00<?, ?it/s]",
      "application/vnd.jupyter.widget-view+json": {
       "version_major": 2,
       "version_minor": 0,
       "model_id": "e31e3ae8855541959da53292506c9cb7"
      }
     },
     "metadata": {},
     "output_type": "display_data"
    },
    {
     "data": {
      "text/plain": "  0%|          | 0/800 [00:00<?, ?it/s]",
      "application/vnd.jupyter.widget-view+json": {
       "version_major": 2,
       "version_minor": 0,
       "model_id": "01415616fad645bbbf4c944bd619e701"
      }
     },
     "metadata": {},
     "output_type": "display_data"
    },
    {
     "data": {
      "text/plain": "  0%|          | 0/800 [00:00<?, ?it/s]",
      "application/vnd.jupyter.widget-view+json": {
       "version_major": 2,
       "version_minor": 0,
       "model_id": "91e2d687ee824d36855e38dcb0cab4e3"
      }
     },
     "metadata": {},
     "output_type": "display_data"
    },
    {
     "data": {
      "text/plain": "  0%|          | 0/800 [00:00<?, ?it/s]",
      "application/vnd.jupyter.widget-view+json": {
       "version_major": 2,
       "version_minor": 0,
       "model_id": "0e9243679eb643a2b74c633b7b04e187"
      }
     },
     "metadata": {},
     "output_type": "display_data"
    },
    {
     "data": {
      "text/plain": "  0%|          | 0/800 [00:00<?, ?it/s]",
      "application/vnd.jupyter.widget-view+json": {
       "version_major": 2,
       "version_minor": 0,
       "model_id": "89111efb43a64b0f8325bcd1a9bf18a1"
      }
     },
     "metadata": {},
     "output_type": "display_data"
    },
    {
     "data": {
      "text/plain": "  0%|          | 0/800 [00:00<?, ?it/s]",
      "application/vnd.jupyter.widget-view+json": {
       "version_major": 2,
       "version_minor": 0,
       "model_id": "5201d87304bb46b782a9db0fcc47358c"
      }
     },
     "metadata": {},
     "output_type": "display_data"
    },
    {
     "data": {
      "text/plain": "  0%|          | 0/800 [00:00<?, ?it/s]",
      "application/vnd.jupyter.widget-view+json": {
       "version_major": 2,
       "version_minor": 0,
       "model_id": "b75ff23763f64d35910dc3c759d44767"
      }
     },
     "metadata": {},
     "output_type": "display_data"
    },
    {
     "data": {
      "text/plain": "  0%|          | 0/800 [00:00<?, ?it/s]",
      "application/vnd.jupyter.widget-view+json": {
       "version_major": 2,
       "version_minor": 0,
       "model_id": "99dfce0162d1455abfa0d338f07d9187"
      }
     },
     "metadata": {},
     "output_type": "display_data"
    },
    {
     "data": {
      "text/plain": "  0%|          | 0/800 [00:00<?, ?it/s]",
      "application/vnd.jupyter.widget-view+json": {
       "version_major": 2,
       "version_minor": 0,
       "model_id": "1c2e6a811d9241d5a5f4f72d01d83458"
      }
     },
     "metadata": {},
     "output_type": "display_data"
    },
    {
     "data": {
      "text/plain": "  0%|          | 0/800 [00:00<?, ?it/s]",
      "application/vnd.jupyter.widget-view+json": {
       "version_major": 2,
       "version_minor": 0,
       "model_id": "9bb8b29c05514e458b1432cb38403fcb"
      }
     },
     "metadata": {},
     "output_type": "display_data"
    },
    {
     "data": {
      "text/plain": "  0%|          | 0/800 [00:00<?, ?it/s]",
      "application/vnd.jupyter.widget-view+json": {
       "version_major": 2,
       "version_minor": 0,
       "model_id": "f46930dca7c84dfd8fc45cac99bab378"
      }
     },
     "metadata": {},
     "output_type": "display_data"
    },
    {
     "data": {
      "text/plain": "  0%|          | 0/800 [00:00<?, ?it/s]",
      "application/vnd.jupyter.widget-view+json": {
       "version_major": 2,
       "version_minor": 0,
       "model_id": "72ab0300a7184fc897fea6dedbd34c7c"
      }
     },
     "metadata": {},
     "output_type": "display_data"
    },
    {
     "data": {
      "text/plain": "  0%|          | 0/800 [00:00<?, ?it/s]",
      "application/vnd.jupyter.widget-view+json": {
       "version_major": 2,
       "version_minor": 0,
       "model_id": "eb59583cc2d640d08950602470da8e77"
      }
     },
     "metadata": {},
     "output_type": "display_data"
    },
    {
     "data": {
      "text/plain": "  0%|          | 0/800 [00:00<?, ?it/s]",
      "application/vnd.jupyter.widget-view+json": {
       "version_major": 2,
       "version_minor": 0,
       "model_id": "618a19f292534a71b1f914a2810e8520"
      }
     },
     "metadata": {},
     "output_type": "display_data"
    },
    {
     "data": {
      "text/plain": "  0%|          | 0/800 [00:00<?, ?it/s]",
      "application/vnd.jupyter.widget-view+json": {
       "version_major": 2,
       "version_minor": 0,
       "model_id": "1651461d29b74cc2a409d822d6771b17"
      }
     },
     "metadata": {},
     "output_type": "display_data"
    },
    {
     "data": {
      "text/plain": "  0%|          | 0/800 [00:00<?, ?it/s]",
      "application/vnd.jupyter.widget-view+json": {
       "version_major": 2,
       "version_minor": 0,
       "model_id": "f7c6ec1e82cf4f378a3c1f092014db76"
      }
     },
     "metadata": {},
     "output_type": "display_data"
    },
    {
     "data": {
      "text/plain": "  0%|          | 0/800 [00:00<?, ?it/s]",
      "application/vnd.jupyter.widget-view+json": {
       "version_major": 2,
       "version_minor": 0,
       "model_id": "f0e9a9fe196a425b8d67489eafc87d08"
      }
     },
     "metadata": {},
     "output_type": "display_data"
    },
    {
     "data": {
      "text/plain": "  0%|          | 0/800 [00:00<?, ?it/s]",
      "application/vnd.jupyter.widget-view+json": {
       "version_major": 2,
       "version_minor": 0,
       "model_id": "ed39143735ca45e1857506253e0065b1"
      }
     },
     "metadata": {},
     "output_type": "display_data"
    },
    {
     "data": {
      "text/plain": "  0%|          | 0/800 [00:00<?, ?it/s]",
      "application/vnd.jupyter.widget-view+json": {
       "version_major": 2,
       "version_minor": 0,
       "model_id": "a8f879add7714dc5af43e2dd101f9fc7"
      }
     },
     "metadata": {},
     "output_type": "display_data"
    },
    {
     "data": {
      "text/plain": "  0%|          | 0/800 [00:00<?, ?it/s]",
      "application/vnd.jupyter.widget-view+json": {
       "version_major": 2,
       "version_minor": 0,
       "model_id": "f4b6c95a0b0c46aeb856c59d41ed423d"
      }
     },
     "metadata": {},
     "output_type": "display_data"
    },
    {
     "data": {
      "text/plain": "  0%|          | 0/800 [00:00<?, ?it/s]",
      "application/vnd.jupyter.widget-view+json": {
       "version_major": 2,
       "version_minor": 0,
       "model_id": "90fe5f2459874ec3bc117bfcc1e3b4c6"
      }
     },
     "metadata": {},
     "output_type": "display_data"
    },
    {
     "data": {
      "text/plain": "  0%|          | 0/800 [00:00<?, ?it/s]",
      "application/vnd.jupyter.widget-view+json": {
       "version_major": 2,
       "version_minor": 0,
       "model_id": "56261545596149f899cf9a8d2d774226"
      }
     },
     "metadata": {},
     "output_type": "display_data"
    },
    {
     "data": {
      "text/plain": "  0%|          | 0/800 [00:00<?, ?it/s]",
      "application/vnd.jupyter.widget-view+json": {
       "version_major": 2,
       "version_minor": 0,
       "model_id": "0e931c47eb434786bc1069d826eac4a9"
      }
     },
     "metadata": {},
     "output_type": "display_data"
    },
    {
     "data": {
      "text/plain": "  0%|          | 0/800 [00:00<?, ?it/s]",
      "application/vnd.jupyter.widget-view+json": {
       "version_major": 2,
       "version_minor": 0,
       "model_id": "c266f7acb291481b85911ee70bfa1be3"
      }
     },
     "metadata": {},
     "output_type": "display_data"
    },
    {
     "data": {
      "text/plain": "  0%|          | 0/800 [00:00<?, ?it/s]",
      "application/vnd.jupyter.widget-view+json": {
       "version_major": 2,
       "version_minor": 0,
       "model_id": "ad1d88633ec54561a360264c0e263725"
      }
     },
     "metadata": {},
     "output_type": "display_data"
    },
    {
     "data": {
      "text/plain": "  0%|          | 0/800 [00:00<?, ?it/s]",
      "application/vnd.jupyter.widget-view+json": {
       "version_major": 2,
       "version_minor": 0,
       "model_id": "0924048a9c7e41929a30d88e3bd199da"
      }
     },
     "metadata": {},
     "output_type": "display_data"
    },
    {
     "data": {
      "text/plain": "  0%|          | 0/800 [00:00<?, ?it/s]",
      "application/vnd.jupyter.widget-view+json": {
       "version_major": 2,
       "version_minor": 0,
       "model_id": "a2ffac45ed0c4b1699fd8dc5ac168b54"
      }
     },
     "metadata": {},
     "output_type": "display_data"
    },
    {
     "data": {
      "text/plain": "  0%|          | 0/800 [00:00<?, ?it/s]",
      "application/vnd.jupyter.widget-view+json": {
       "version_major": 2,
       "version_minor": 0,
       "model_id": "27728eef72004034829f288a7cbf2163"
      }
     },
     "metadata": {},
     "output_type": "display_data"
    },
    {
     "data": {
      "text/plain": "  0%|          | 0/800 [00:00<?, ?it/s]",
      "application/vnd.jupyter.widget-view+json": {
       "version_major": 2,
       "version_minor": 0,
       "model_id": "fcc34850a5694934bddfbeb57d0f9f1e"
      }
     },
     "metadata": {},
     "output_type": "display_data"
    },
    {
     "data": {
      "text/plain": "  0%|          | 0/800 [00:00<?, ?it/s]",
      "application/vnd.jupyter.widget-view+json": {
       "version_major": 2,
       "version_minor": 0,
       "model_id": "abf9699fd3d44d66a01b7de948048a13"
      }
     },
     "metadata": {},
     "output_type": "display_data"
    },
    {
     "data": {
      "text/plain": "  0%|          | 0/800 [00:00<?, ?it/s]",
      "application/vnd.jupyter.widget-view+json": {
       "version_major": 2,
       "version_minor": 0,
       "model_id": "71c78d480818495bb11d034e644a0f1c"
      }
     },
     "metadata": {},
     "output_type": "display_data"
    },
    {
     "data": {
      "text/plain": "  0%|          | 0/800 [00:00<?, ?it/s]",
      "application/vnd.jupyter.widget-view+json": {
       "version_major": 2,
       "version_minor": 0,
       "model_id": "7c24697eb1c14873b8102a31afbb2b5f"
      }
     },
     "metadata": {},
     "output_type": "display_data"
    },
    {
     "data": {
      "text/plain": "  0%|          | 0/800 [00:00<?, ?it/s]",
      "application/vnd.jupyter.widget-view+json": {
       "version_major": 2,
       "version_minor": 0,
       "model_id": "20a86b748fae47ac86b92005364de861"
      }
     },
     "metadata": {},
     "output_type": "display_data"
    },
    {
     "data": {
      "text/plain": "  0%|          | 0/800 [00:00<?, ?it/s]",
      "application/vnd.jupyter.widget-view+json": {
       "version_major": 2,
       "version_minor": 0,
       "model_id": "4ced68aabd364282a2d304f5ef6de1cc"
      }
     },
     "metadata": {},
     "output_type": "display_data"
    },
    {
     "data": {
      "text/plain": "  0%|          | 0/800 [00:00<?, ?it/s]",
      "application/vnd.jupyter.widget-view+json": {
       "version_major": 2,
       "version_minor": 0,
       "model_id": "94881ee2314f495d89dfa9e4aa9eb390"
      }
     },
     "metadata": {},
     "output_type": "display_data"
    },
    {
     "data": {
      "text/plain": "  0%|          | 0/800 [00:00<?, ?it/s]",
      "application/vnd.jupyter.widget-view+json": {
       "version_major": 2,
       "version_minor": 0,
       "model_id": "2628be8f38ad4251abae29595b2104c0"
      }
     },
     "metadata": {},
     "output_type": "display_data"
    },
    {
     "data": {
      "text/plain": "  0%|          | 0/800 [00:00<?, ?it/s]",
      "application/vnd.jupyter.widget-view+json": {
       "version_major": 2,
       "version_minor": 0,
       "model_id": "69da20121aec4976b34e31a4e5b03f85"
      }
     },
     "metadata": {},
     "output_type": "display_data"
    },
    {
     "data": {
      "text/plain": "  0%|          | 0/800 [00:00<?, ?it/s]",
      "application/vnd.jupyter.widget-view+json": {
       "version_major": 2,
       "version_minor": 0,
       "model_id": "3410675a5d1f4134b2310fb52930da09"
      }
     },
     "metadata": {},
     "output_type": "display_data"
    },
    {
     "data": {
      "text/plain": "  0%|          | 0/800 [00:00<?, ?it/s]",
      "application/vnd.jupyter.widget-view+json": {
       "version_major": 2,
       "version_minor": 0,
       "model_id": "378b4a617a4d425fbf9abf71aa6130c0"
      }
     },
     "metadata": {},
     "output_type": "display_data"
    },
    {
     "data": {
      "text/plain": "  0%|          | 0/800 [00:00<?, ?it/s]",
      "application/vnd.jupyter.widget-view+json": {
       "version_major": 2,
       "version_minor": 0,
       "model_id": "73e8a92927e34774ae44546a83e3637f"
      }
     },
     "metadata": {},
     "output_type": "display_data"
    },
    {
     "data": {
      "text/plain": "  0%|          | 0/800 [00:00<?, ?it/s]",
      "application/vnd.jupyter.widget-view+json": {
       "version_major": 2,
       "version_minor": 0,
       "model_id": "90c1280af6b547f1bc432464543d0e13"
      }
     },
     "metadata": {},
     "output_type": "display_data"
    },
    {
     "data": {
      "text/plain": "  0%|          | 0/800 [00:00<?, ?it/s]",
      "application/vnd.jupyter.widget-view+json": {
       "version_major": 2,
       "version_minor": 0,
       "model_id": "5b1459cde3284d4fbe7f4ed468d5fe30"
      }
     },
     "metadata": {},
     "output_type": "display_data"
    },
    {
     "data": {
      "text/plain": "  0%|          | 0/800 [00:00<?, ?it/s]",
      "application/vnd.jupyter.widget-view+json": {
       "version_major": 2,
       "version_minor": 0,
       "model_id": "3b966d6f89bb48e49e721a22a20385a2"
      }
     },
     "metadata": {},
     "output_type": "display_data"
    },
    {
     "data": {
      "text/plain": "  0%|          | 0/800 [00:00<?, ?it/s]",
      "application/vnd.jupyter.widget-view+json": {
       "version_major": 2,
       "version_minor": 0,
       "model_id": "4dd38e287c8f449f8beaff6f0c34d7ff"
      }
     },
     "metadata": {},
     "output_type": "display_data"
    },
    {
     "data": {
      "text/plain": "  0%|          | 0/800 [00:00<?, ?it/s]",
      "application/vnd.jupyter.widget-view+json": {
       "version_major": 2,
       "version_minor": 0,
       "model_id": "0db5ef1450744d05801633a263e4c11a"
      }
     },
     "metadata": {},
     "output_type": "display_data"
    },
    {
     "data": {
      "text/plain": "  0%|          | 0/800 [00:00<?, ?it/s]",
      "application/vnd.jupyter.widget-view+json": {
       "version_major": 2,
       "version_minor": 0,
       "model_id": "6644ef9bf4f74b40b32033e6556de0b9"
      }
     },
     "metadata": {},
     "output_type": "display_data"
    },
    {
     "data": {
      "text/plain": "  0%|          | 0/800 [00:00<?, ?it/s]",
      "application/vnd.jupyter.widget-view+json": {
       "version_major": 2,
       "version_minor": 0,
       "model_id": "419e51bc804746f38f516e33d8385b2f"
      }
     },
     "metadata": {},
     "output_type": "display_data"
    },
    {
     "data": {
      "text/plain": "  0%|          | 0/800 [00:00<?, ?it/s]",
      "application/vnd.jupyter.widget-view+json": {
       "version_major": 2,
       "version_minor": 0,
       "model_id": "5ec950da96f242c5a0e1f07d05ac9c4b"
      }
     },
     "metadata": {},
     "output_type": "display_data"
    },
    {
     "data": {
      "text/plain": "  0%|          | 0/800 [00:00<?, ?it/s]",
      "application/vnd.jupyter.widget-view+json": {
       "version_major": 2,
       "version_minor": 0,
       "model_id": "eac34f51719a4dec9456d2afa67069ca"
      }
     },
     "metadata": {},
     "output_type": "display_data"
    },
    {
     "data": {
      "text/plain": "  0%|          | 0/800 [00:00<?, ?it/s]",
      "application/vnd.jupyter.widget-view+json": {
       "version_major": 2,
       "version_minor": 0,
       "model_id": "d37885eba93445b7a793dc86b96023c9"
      }
     },
     "metadata": {},
     "output_type": "display_data"
    },
    {
     "data": {
      "text/plain": "  0%|          | 0/800 [00:00<?, ?it/s]",
      "application/vnd.jupyter.widget-view+json": {
       "version_major": 2,
       "version_minor": 0,
       "model_id": "c1c4f2abeb074a119565fa286bba9f84"
      }
     },
     "metadata": {},
     "output_type": "display_data"
    },
    {
     "data": {
      "text/plain": "  0%|          | 0/800 [00:00<?, ?it/s]",
      "application/vnd.jupyter.widget-view+json": {
       "version_major": 2,
       "version_minor": 0,
       "model_id": "faa7afbe754c4b56b8380037582ed65a"
      }
     },
     "metadata": {},
     "output_type": "display_data"
    },
    {
     "data": {
      "text/plain": "  0%|          | 0/800 [00:00<?, ?it/s]",
      "application/vnd.jupyter.widget-view+json": {
       "version_major": 2,
       "version_minor": 0,
       "model_id": "dced46ffddac43f6b43d6e1b9b858282"
      }
     },
     "metadata": {},
     "output_type": "display_data"
    },
    {
     "data": {
      "text/plain": "  0%|          | 0/800 [00:00<?, ?it/s]",
      "application/vnd.jupyter.widget-view+json": {
       "version_major": 2,
       "version_minor": 0,
       "model_id": "8ff1359620904bfc8871f7e5b1df7dec"
      }
     },
     "metadata": {},
     "output_type": "display_data"
    },
    {
     "data": {
      "text/plain": "  0%|          | 0/800 [00:00<?, ?it/s]",
      "application/vnd.jupyter.widget-view+json": {
       "version_major": 2,
       "version_minor": 0,
       "model_id": "0ea5658f952f4ad9b1e3124ca40113fd"
      }
     },
     "metadata": {},
     "output_type": "display_data"
    },
    {
     "data": {
      "text/plain": "  0%|          | 0/800 [00:00<?, ?it/s]",
      "application/vnd.jupyter.widget-view+json": {
       "version_major": 2,
       "version_minor": 0,
       "model_id": "bf4144240baa48a7b15cfa9c98272cd8"
      }
     },
     "metadata": {},
     "output_type": "display_data"
    },
    {
     "data": {
      "text/plain": "  0%|          | 0/800 [00:00<?, ?it/s]",
      "application/vnd.jupyter.widget-view+json": {
       "version_major": 2,
       "version_minor": 0,
       "model_id": "bb7cc4fafd8b4f0289b17f6f9f81763b"
      }
     },
     "metadata": {},
     "output_type": "display_data"
    },
    {
     "data": {
      "text/plain": "  0%|          | 0/800 [00:00<?, ?it/s]",
      "application/vnd.jupyter.widget-view+json": {
       "version_major": 2,
       "version_minor": 0,
       "model_id": "95868cd6b2a84269889b174389dc928a"
      }
     },
     "metadata": {},
     "output_type": "display_data"
    },
    {
     "data": {
      "text/plain": "  0%|          | 0/800 [00:00<?, ?it/s]",
      "application/vnd.jupyter.widget-view+json": {
       "version_major": 2,
       "version_minor": 0,
       "model_id": "0e91630cd23945abb1c315b1ea3addf9"
      }
     },
     "metadata": {},
     "output_type": "display_data"
    },
    {
     "data": {
      "text/plain": "  0%|          | 0/800 [00:00<?, ?it/s]",
      "application/vnd.jupyter.widget-view+json": {
       "version_major": 2,
       "version_minor": 0,
       "model_id": "7cb19737137c4ee1aea84ea923e2803f"
      }
     },
     "metadata": {},
     "output_type": "display_data"
    },
    {
     "data": {
      "text/plain": "  0%|          | 0/800 [00:00<?, ?it/s]",
      "application/vnd.jupyter.widget-view+json": {
       "version_major": 2,
       "version_minor": 0,
       "model_id": "8acb52d153ea4b0287d985c46e81ba00"
      }
     },
     "metadata": {},
     "output_type": "display_data"
    },
    {
     "data": {
      "text/plain": "  0%|          | 0/800 [00:00<?, ?it/s]",
      "application/vnd.jupyter.widget-view+json": {
       "version_major": 2,
       "version_minor": 0,
       "model_id": "4cedbe2da59f4e5aa3f79972977a2715"
      }
     },
     "metadata": {},
     "output_type": "display_data"
    },
    {
     "data": {
      "text/plain": "  0%|          | 0/800 [00:00<?, ?it/s]",
      "application/vnd.jupyter.widget-view+json": {
       "version_major": 2,
       "version_minor": 0,
       "model_id": "e001e7566fa348f5a273ae892a789be5"
      }
     },
     "metadata": {},
     "output_type": "display_data"
    },
    {
     "data": {
      "text/plain": "  0%|          | 0/800 [00:00<?, ?it/s]",
      "application/vnd.jupyter.widget-view+json": {
       "version_major": 2,
       "version_minor": 0,
       "model_id": "4734baa59a2d4cd6b987efb5857508f9"
      }
     },
     "metadata": {},
     "output_type": "display_data"
    },
    {
     "data": {
      "text/plain": "  0%|          | 0/800 [00:00<?, ?it/s]",
      "application/vnd.jupyter.widget-view+json": {
       "version_major": 2,
       "version_minor": 0,
       "model_id": "ad19b928b5bf426f85fb6ac9ec4dae2c"
      }
     },
     "metadata": {},
     "output_type": "display_data"
    },
    {
     "data": {
      "text/plain": "  0%|          | 0/800 [00:00<?, ?it/s]",
      "application/vnd.jupyter.widget-view+json": {
       "version_major": 2,
       "version_minor": 0,
       "model_id": "b071203379d840328f9064bedfcf2cf6"
      }
     },
     "metadata": {},
     "output_type": "display_data"
    },
    {
     "data": {
      "text/plain": "  0%|          | 0/800 [00:00<?, ?it/s]",
      "application/vnd.jupyter.widget-view+json": {
       "version_major": 2,
       "version_minor": 0,
       "model_id": "533077b64cfc40f88837fa9ccd48deac"
      }
     },
     "metadata": {},
     "output_type": "display_data"
    },
    {
     "data": {
      "text/plain": "  0%|          | 0/800 [00:00<?, ?it/s]",
      "application/vnd.jupyter.widget-view+json": {
       "version_major": 2,
       "version_minor": 0,
       "model_id": "1828fb9fb1e3401f8625551aba9fead7"
      }
     },
     "metadata": {},
     "output_type": "display_data"
    },
    {
     "data": {
      "text/plain": "  0%|          | 0/800 [00:00<?, ?it/s]",
      "application/vnd.jupyter.widget-view+json": {
       "version_major": 2,
       "version_minor": 0,
       "model_id": "ba921dea2eb94ee4b8e256fa2d8ed54f"
      }
     },
     "metadata": {},
     "output_type": "display_data"
    },
    {
     "data": {
      "text/plain": "  0%|          | 0/800 [00:00<?, ?it/s]",
      "application/vnd.jupyter.widget-view+json": {
       "version_major": 2,
       "version_minor": 0,
       "model_id": "53c13ea77f984d23b2b5cfd8652d0a3e"
      }
     },
     "metadata": {},
     "output_type": "display_data"
    },
    {
     "data": {
      "text/plain": "  0%|          | 0/800 [00:00<?, ?it/s]",
      "application/vnd.jupyter.widget-view+json": {
       "version_major": 2,
       "version_minor": 0,
       "model_id": "9e4da6630bc8467f94c55a50c69e1fa1"
      }
     },
     "metadata": {},
     "output_type": "display_data"
    },
    {
     "data": {
      "text/plain": "  0%|          | 0/800 [00:00<?, ?it/s]",
      "application/vnd.jupyter.widget-view+json": {
       "version_major": 2,
       "version_minor": 0,
       "model_id": "80bb1cb2cedd44278bfed55914fe3958"
      }
     },
     "metadata": {},
     "output_type": "display_data"
    },
    {
     "data": {
      "text/plain": "  0%|          | 0/800 [00:00<?, ?it/s]",
      "application/vnd.jupyter.widget-view+json": {
       "version_major": 2,
       "version_minor": 0,
       "model_id": "1212803737c44810a0df3531024a41d8"
      }
     },
     "metadata": {},
     "output_type": "display_data"
    },
    {
     "data": {
      "text/plain": "  0%|          | 0/800 [00:00<?, ?it/s]",
      "application/vnd.jupyter.widget-view+json": {
       "version_major": 2,
       "version_minor": 0,
       "model_id": "0dd7f91b566d4945b179c494c1014d86"
      }
     },
     "metadata": {},
     "output_type": "display_data"
    },
    {
     "data": {
      "text/plain": "  0%|          | 0/800 [00:00<?, ?it/s]",
      "application/vnd.jupyter.widget-view+json": {
       "version_major": 2,
       "version_minor": 0,
       "model_id": "1d654f673edb49cd8f6445398c6d9897"
      }
     },
     "metadata": {},
     "output_type": "display_data"
    },
    {
     "data": {
      "text/plain": "  0%|          | 0/800 [00:00<?, ?it/s]",
      "application/vnd.jupyter.widget-view+json": {
       "version_major": 2,
       "version_minor": 0,
       "model_id": "1f7dee9863f9487d8d023938262e8dbf"
      }
     },
     "metadata": {},
     "output_type": "display_data"
    },
    {
     "data": {
      "text/plain": "  0%|          | 0/800 [00:00<?, ?it/s]",
      "application/vnd.jupyter.widget-view+json": {
       "version_major": 2,
       "version_minor": 0,
       "model_id": "4b7a08b183d54bdeb23f8accdc9d3e8d"
      }
     },
     "metadata": {},
     "output_type": "display_data"
    },
    {
     "data": {
      "text/plain": "  0%|          | 0/800 [00:00<?, ?it/s]",
      "application/vnd.jupyter.widget-view+json": {
       "version_major": 2,
       "version_minor": 0,
       "model_id": "527443a21b4444d38970a81db2d9a14b"
      }
     },
     "metadata": {},
     "output_type": "display_data"
    },
    {
     "data": {
      "text/plain": "  0%|          | 0/800 [00:00<?, ?it/s]",
      "application/vnd.jupyter.widget-view+json": {
       "version_major": 2,
       "version_minor": 0,
       "model_id": "f9ac57e74c89489d9b06f82084c1fbcc"
      }
     },
     "metadata": {},
     "output_type": "display_data"
    },
    {
     "data": {
      "text/plain": "  0%|          | 0/800 [00:00<?, ?it/s]",
      "application/vnd.jupyter.widget-view+json": {
       "version_major": 2,
       "version_minor": 0,
       "model_id": "db6716375b1d4b05b4e74f15ce6242d4"
      }
     },
     "metadata": {},
     "output_type": "display_data"
    },
    {
     "data": {
      "text/plain": "  0%|          | 0/800 [00:00<?, ?it/s]",
      "application/vnd.jupyter.widget-view+json": {
       "version_major": 2,
       "version_minor": 0,
       "model_id": "d904fd0ba5404ac0bac91b96bffb9626"
      }
     },
     "metadata": {},
     "output_type": "display_data"
    },
    {
     "data": {
      "text/plain": "  0%|          | 0/800 [00:00<?, ?it/s]",
      "application/vnd.jupyter.widget-view+json": {
       "version_major": 2,
       "version_minor": 0,
       "model_id": "01cda60f757041ed96fc0ed74d169cdb"
      }
     },
     "metadata": {},
     "output_type": "display_data"
    },
    {
     "data": {
      "text/plain": "  0%|          | 0/800 [00:00<?, ?it/s]",
      "application/vnd.jupyter.widget-view+json": {
       "version_major": 2,
       "version_minor": 0,
       "model_id": "654a38bf7b5841a2bf038038a6dfb2c0"
      }
     },
     "metadata": {},
     "output_type": "display_data"
    },
    {
     "data": {
      "text/plain": "  0%|          | 0/800 [00:00<?, ?it/s]",
      "application/vnd.jupyter.widget-view+json": {
       "version_major": 2,
       "version_minor": 0,
       "model_id": "45a57fe0c2ba406aa551f1ba81be7a0b"
      }
     },
     "metadata": {},
     "output_type": "display_data"
    },
    {
     "data": {
      "text/plain": "  0%|          | 0/800 [00:00<?, ?it/s]",
      "application/vnd.jupyter.widget-view+json": {
       "version_major": 2,
       "version_minor": 0,
       "model_id": "77c4f0928f13420eadf47a9fedf0dafd"
      }
     },
     "metadata": {},
     "output_type": "display_data"
    },
    {
     "data": {
      "text/plain": "  0%|          | 0/800 [00:00<?, ?it/s]",
      "application/vnd.jupyter.widget-view+json": {
       "version_major": 2,
       "version_minor": 0,
       "model_id": "a24ba75787494abfbf542f87cc623cb3"
      }
     },
     "metadata": {},
     "output_type": "display_data"
    },
    {
     "data": {
      "text/plain": "  0%|          | 0/800 [00:00<?, ?it/s]",
      "application/vnd.jupyter.widget-view+json": {
       "version_major": 2,
       "version_minor": 0,
       "model_id": "3b0a8b63cded4035bb854f1c362bae81"
      }
     },
     "metadata": {},
     "output_type": "display_data"
    },
    {
     "data": {
      "text/plain": "  0%|          | 0/800 [00:00<?, ?it/s]",
      "application/vnd.jupyter.widget-view+json": {
       "version_major": 2,
       "version_minor": 0,
       "model_id": "48d27abd639f4d2685a29deaed918a7b"
      }
     },
     "metadata": {},
     "output_type": "display_data"
    },
    {
     "data": {
      "text/plain": "  0%|          | 0/800 [00:00<?, ?it/s]",
      "application/vnd.jupyter.widget-view+json": {
       "version_major": 2,
       "version_minor": 0,
       "model_id": "b2b30bf538814fe4930f5d2970610570"
      }
     },
     "metadata": {},
     "output_type": "display_data"
    },
    {
     "data": {
      "text/plain": "  0%|          | 0/800 [00:00<?, ?it/s]",
      "application/vnd.jupyter.widget-view+json": {
       "version_major": 2,
       "version_minor": 0,
       "model_id": "a179488b453841cf8df4ff83cb197bdf"
      }
     },
     "metadata": {},
     "output_type": "display_data"
    },
    {
     "data": {
      "text/plain": "  0%|          | 0/800 [00:00<?, ?it/s]",
      "application/vnd.jupyter.widget-view+json": {
       "version_major": 2,
       "version_minor": 0,
       "model_id": "3eb561baa93b4b429a7459f186a6478a"
      }
     },
     "metadata": {},
     "output_type": "display_data"
    },
    {
     "data": {
      "text/plain": "  0%|          | 0/800 [00:00<?, ?it/s]",
      "application/vnd.jupyter.widget-view+json": {
       "version_major": 2,
       "version_minor": 0,
       "model_id": "12cd9225ab4f48f5bf07fafeaf3197b9"
      }
     },
     "metadata": {},
     "output_type": "display_data"
    },
    {
     "data": {
      "text/plain": "  0%|          | 0/800 [00:00<?, ?it/s]",
      "application/vnd.jupyter.widget-view+json": {
       "version_major": 2,
       "version_minor": 0,
       "model_id": "33f914b30bd444eba76096cde30ea225"
      }
     },
     "metadata": {},
     "output_type": "display_data"
    },
    {
     "data": {
      "text/plain": "  0%|          | 0/800 [00:00<?, ?it/s]",
      "application/vnd.jupyter.widget-view+json": {
       "version_major": 2,
       "version_minor": 0,
       "model_id": "207baf9a7f2647548dd0620a4e3f7262"
      }
     },
     "metadata": {},
     "output_type": "display_data"
    },
    {
     "data": {
      "text/plain": "  0%|          | 0/800 [00:00<?, ?it/s]",
      "application/vnd.jupyter.widget-view+json": {
       "version_major": 2,
       "version_minor": 0,
       "model_id": "c7e717e664b14a4eaa8e1bff057e1bc7"
      }
     },
     "metadata": {},
     "output_type": "display_data"
    },
    {
     "data": {
      "text/plain": "  0%|          | 0/800 [00:00<?, ?it/s]",
      "application/vnd.jupyter.widget-view+json": {
       "version_major": 2,
       "version_minor": 0,
       "model_id": "77bb1ce4823e41a2bf920834082638c9"
      }
     },
     "metadata": {},
     "output_type": "display_data"
    },
    {
     "data": {
      "text/plain": "  0%|          | 0/800 [00:00<?, ?it/s]",
      "application/vnd.jupyter.widget-view+json": {
       "version_major": 2,
       "version_minor": 0,
       "model_id": "e629583fcc004d04ab5985876a7ba686"
      }
     },
     "metadata": {},
     "output_type": "display_data"
    },
    {
     "data": {
      "text/plain": "  0%|          | 0/800 [00:00<?, ?it/s]",
      "application/vnd.jupyter.widget-view+json": {
       "version_major": 2,
       "version_minor": 0,
       "model_id": "5e995e89c15a4a78a3bda0c4f45827b1"
      }
     },
     "metadata": {},
     "output_type": "display_data"
    },
    {
     "data": {
      "text/plain": "  0%|          | 0/800 [00:00<?, ?it/s]",
      "application/vnd.jupyter.widget-view+json": {
       "version_major": 2,
       "version_minor": 0,
       "model_id": "d783f7b196514862832e7654c12f201b"
      }
     },
     "metadata": {},
     "output_type": "display_data"
    },
    {
     "data": {
      "text/plain": "  0%|          | 0/800 [00:00<?, ?it/s]",
      "application/vnd.jupyter.widget-view+json": {
       "version_major": 2,
       "version_minor": 0,
       "model_id": "70e34ac35acb46c38efd657a2f2c045e"
      }
     },
     "metadata": {},
     "output_type": "display_data"
    },
    {
     "data": {
      "text/plain": "  0%|          | 0/800 [00:00<?, ?it/s]",
      "application/vnd.jupyter.widget-view+json": {
       "version_major": 2,
       "version_minor": 0,
       "model_id": "7de7ea5244ef4e01af790593e1c27495"
      }
     },
     "metadata": {},
     "output_type": "display_data"
    },
    {
     "data": {
      "text/plain": "  0%|          | 0/800 [00:00<?, ?it/s]",
      "application/vnd.jupyter.widget-view+json": {
       "version_major": 2,
       "version_minor": 0,
       "model_id": "a004904d36e64ac5b78e63a7662c3f92"
      }
     },
     "metadata": {},
     "output_type": "display_data"
    },
    {
     "data": {
      "text/plain": "  0%|          | 0/800 [00:00<?, ?it/s]",
      "application/vnd.jupyter.widget-view+json": {
       "version_major": 2,
       "version_minor": 0,
       "model_id": "ec25345e516743569c5175ef70d6a0b8"
      }
     },
     "metadata": {},
     "output_type": "display_data"
    },
    {
     "data": {
      "text/plain": "  0%|          | 0/800 [00:00<?, ?it/s]",
      "application/vnd.jupyter.widget-view+json": {
       "version_major": 2,
       "version_minor": 0,
       "model_id": "1ab84f61ca6343d9998d490f274c519e"
      }
     },
     "metadata": {},
     "output_type": "display_data"
    },
    {
     "data": {
      "text/plain": "  0%|          | 0/800 [00:00<?, ?it/s]",
      "application/vnd.jupyter.widget-view+json": {
       "version_major": 2,
       "version_minor": 0,
       "model_id": "f7785d079fdf4ac58619b72f590b05c9"
      }
     },
     "metadata": {},
     "output_type": "display_data"
    },
    {
     "data": {
      "text/plain": "  0%|          | 0/800 [00:00<?, ?it/s]",
      "application/vnd.jupyter.widget-view+json": {
       "version_major": 2,
       "version_minor": 0,
       "model_id": "6de5ad6acb8c4115b409a263c242a563"
      }
     },
     "metadata": {},
     "output_type": "display_data"
    },
    {
     "data": {
      "text/plain": "  0%|          | 0/800 [00:00<?, ?it/s]",
      "application/vnd.jupyter.widget-view+json": {
       "version_major": 2,
       "version_minor": 0,
       "model_id": "81590f72fe2d46979223618a36bf91d3"
      }
     },
     "metadata": {},
     "output_type": "display_data"
    },
    {
     "data": {
      "text/plain": "  0%|          | 0/800 [00:00<?, ?it/s]",
      "application/vnd.jupyter.widget-view+json": {
       "version_major": 2,
       "version_minor": 0,
       "model_id": "6a5e82df8ef64d3792ff2c0270d5307a"
      }
     },
     "metadata": {},
     "output_type": "display_data"
    },
    {
     "data": {
      "text/plain": "  0%|          | 0/800 [00:00<?, ?it/s]",
      "application/vnd.jupyter.widget-view+json": {
       "version_major": 2,
       "version_minor": 0,
       "model_id": "c3afa1fbb4eb46818505dbf9b8e7a0dd"
      }
     },
     "metadata": {},
     "output_type": "display_data"
    },
    {
     "data": {
      "text/plain": "  0%|          | 0/800 [00:00<?, ?it/s]",
      "application/vnd.jupyter.widget-view+json": {
       "version_major": 2,
       "version_minor": 0,
       "model_id": "dd14d6e3b6c3466eb1c5d5b06fadb68e"
      }
     },
     "metadata": {},
     "output_type": "display_data"
    },
    {
     "data": {
      "text/plain": "  0%|          | 0/800 [00:00<?, ?it/s]",
      "application/vnd.jupyter.widget-view+json": {
       "version_major": 2,
       "version_minor": 0,
       "model_id": "5e5cdb927aaf4c03b8fb1ba7a9a7c0d7"
      }
     },
     "metadata": {},
     "output_type": "display_data"
    },
    {
     "data": {
      "text/plain": "  0%|          | 0/800 [00:00<?, ?it/s]",
      "application/vnd.jupyter.widget-view+json": {
       "version_major": 2,
       "version_minor": 0,
       "model_id": "f08f6d4968634341962664c9c963a078"
      }
     },
     "metadata": {},
     "output_type": "display_data"
    },
    {
     "data": {
      "text/plain": "  0%|          | 0/800 [00:00<?, ?it/s]",
      "application/vnd.jupyter.widget-view+json": {
       "version_major": 2,
       "version_minor": 0,
       "model_id": "fe9da39162a64a4dbbafe765264bfc7a"
      }
     },
     "metadata": {},
     "output_type": "display_data"
    },
    {
     "data": {
      "text/plain": "  0%|          | 0/800 [00:00<?, ?it/s]",
      "application/vnd.jupyter.widget-view+json": {
       "version_major": 2,
       "version_minor": 0,
       "model_id": "fca1ff587a2f42fdaafb8788909fc553"
      }
     },
     "metadata": {},
     "output_type": "display_data"
    },
    {
     "data": {
      "text/plain": "  0%|          | 0/800 [00:00<?, ?it/s]",
      "application/vnd.jupyter.widget-view+json": {
       "version_major": 2,
       "version_minor": 0,
       "model_id": "f8d14c070d324029bf14b015c6cc58a1"
      }
     },
     "metadata": {},
     "output_type": "display_data"
    },
    {
     "data": {
      "text/plain": "  0%|          | 0/800 [00:00<?, ?it/s]",
      "application/vnd.jupyter.widget-view+json": {
       "version_major": 2,
       "version_minor": 0,
       "model_id": "558cf8c926f44a4bbc759aa1a1567f8d"
      }
     },
     "metadata": {},
     "output_type": "display_data"
    },
    {
     "data": {
      "text/plain": "  0%|          | 0/800 [00:00<?, ?it/s]",
      "application/vnd.jupyter.widget-view+json": {
       "version_major": 2,
       "version_minor": 0,
       "model_id": "75f9947ca900406ca9e4a5a17788ad13"
      }
     },
     "metadata": {},
     "output_type": "display_data"
    },
    {
     "data": {
      "text/plain": "  0%|          | 0/800 [00:00<?, ?it/s]",
      "application/vnd.jupyter.widget-view+json": {
       "version_major": 2,
       "version_minor": 0,
       "model_id": "6495f32ea8424bfbad7e9a4b5c9af9ef"
      }
     },
     "metadata": {},
     "output_type": "display_data"
    },
    {
     "data": {
      "text/plain": "  0%|          | 0/800 [00:00<?, ?it/s]",
      "application/vnd.jupyter.widget-view+json": {
       "version_major": 2,
       "version_minor": 0,
       "model_id": "6394f31fe26a431daee2eadd52e1b43f"
      }
     },
     "metadata": {},
     "output_type": "display_data"
    },
    {
     "data": {
      "text/plain": "  0%|          | 0/800 [00:00<?, ?it/s]",
      "application/vnd.jupyter.widget-view+json": {
       "version_major": 2,
       "version_minor": 0,
       "model_id": "377a813eb0c74a97b5cff855523914de"
      }
     },
     "metadata": {},
     "output_type": "display_data"
    },
    {
     "data": {
      "text/plain": "  0%|          | 0/800 [00:00<?, ?it/s]",
      "application/vnd.jupyter.widget-view+json": {
       "version_major": 2,
       "version_minor": 0,
       "model_id": "20367005fc3542d7aa14febb4e519bdb"
      }
     },
     "metadata": {},
     "output_type": "display_data"
    },
    {
     "data": {
      "text/plain": "  0%|          | 0/800 [00:00<?, ?it/s]",
      "application/vnd.jupyter.widget-view+json": {
       "version_major": 2,
       "version_minor": 0,
       "model_id": "fe41413b8f69400fb011d654185cb453"
      }
     },
     "metadata": {},
     "output_type": "display_data"
    },
    {
     "data": {
      "text/plain": "  0%|          | 0/800 [00:00<?, ?it/s]",
      "application/vnd.jupyter.widget-view+json": {
       "version_major": 2,
       "version_minor": 0,
       "model_id": "f1b85f752738420596656cadf3e5699c"
      }
     },
     "metadata": {},
     "output_type": "display_data"
    },
    {
     "data": {
      "text/plain": "  0%|          | 0/800 [00:00<?, ?it/s]",
      "application/vnd.jupyter.widget-view+json": {
       "version_major": 2,
       "version_minor": 0,
       "model_id": "d3768b516ee84f0fbd741d77cb9b9baf"
      }
     },
     "metadata": {},
     "output_type": "display_data"
    },
    {
     "data": {
      "text/plain": "  0%|          | 0/800 [00:00<?, ?it/s]",
      "application/vnd.jupyter.widget-view+json": {
       "version_major": 2,
       "version_minor": 0,
       "model_id": "cb4c72b27abd416b9e6f01eb34ba4586"
      }
     },
     "metadata": {},
     "output_type": "display_data"
    },
    {
     "data": {
      "text/plain": "  0%|          | 0/800 [00:00<?, ?it/s]",
      "application/vnd.jupyter.widget-view+json": {
       "version_major": 2,
       "version_minor": 0,
       "model_id": "9f4ea6e397294386a659a16e07fb1cd2"
      }
     },
     "metadata": {},
     "output_type": "display_data"
    },
    {
     "data": {
      "text/plain": "  0%|          | 0/800 [00:00<?, ?it/s]",
      "application/vnd.jupyter.widget-view+json": {
       "version_major": 2,
       "version_minor": 0,
       "model_id": "5dc39e2229304f549a8b06341cff7f53"
      }
     },
     "metadata": {},
     "output_type": "display_data"
    },
    {
     "data": {
      "text/plain": "  0%|          | 0/800 [00:00<?, ?it/s]",
      "application/vnd.jupyter.widget-view+json": {
       "version_major": 2,
       "version_minor": 0,
       "model_id": "02875137d42145378365b7c29d3bdabc"
      }
     },
     "metadata": {},
     "output_type": "display_data"
    },
    {
     "data": {
      "text/plain": "  0%|          | 0/800 [00:00<?, ?it/s]",
      "application/vnd.jupyter.widget-view+json": {
       "version_major": 2,
       "version_minor": 0,
       "model_id": "efae880ac0e9453eaf8c0142c14d20f5"
      }
     },
     "metadata": {},
     "output_type": "display_data"
    },
    {
     "data": {
      "text/plain": "  0%|          | 0/800 [00:00<?, ?it/s]",
      "application/vnd.jupyter.widget-view+json": {
       "version_major": 2,
       "version_minor": 0,
       "model_id": "8a167b7f64f04cafb4386d1faf62e4e9"
      }
     },
     "metadata": {},
     "output_type": "display_data"
    },
    {
     "data": {
      "text/plain": "  0%|          | 0/800 [00:00<?, ?it/s]",
      "application/vnd.jupyter.widget-view+json": {
       "version_major": 2,
       "version_minor": 0,
       "model_id": "d3e4def207644030ad8b4a77272888b2"
      }
     },
     "metadata": {},
     "output_type": "display_data"
    },
    {
     "data": {
      "text/plain": "  0%|          | 0/800 [00:00<?, ?it/s]",
      "application/vnd.jupyter.widget-view+json": {
       "version_major": 2,
       "version_minor": 0,
       "model_id": "f0fe08fb768f404fab3400e60b44816e"
      }
     },
     "metadata": {},
     "output_type": "display_data"
    },
    {
     "data": {
      "text/plain": "  0%|          | 0/800 [00:00<?, ?it/s]",
      "application/vnd.jupyter.widget-view+json": {
       "version_major": 2,
       "version_minor": 0,
       "model_id": "b8bfa0abf9264fe3a9862e417461f691"
      }
     },
     "metadata": {},
     "output_type": "display_data"
    },
    {
     "data": {
      "text/plain": "  0%|          | 0/800 [00:00<?, ?it/s]",
      "application/vnd.jupyter.widget-view+json": {
       "version_major": 2,
       "version_minor": 0,
       "model_id": "a4c680109dc54b35845c68d91cbe9635"
      }
     },
     "metadata": {},
     "output_type": "display_data"
    },
    {
     "data": {
      "text/plain": "  0%|          | 0/800 [00:00<?, ?it/s]",
      "application/vnd.jupyter.widget-view+json": {
       "version_major": 2,
       "version_minor": 0,
       "model_id": "1c7cf42055aa46b7b64355de50617a44"
      }
     },
     "metadata": {},
     "output_type": "display_data"
    },
    {
     "data": {
      "text/plain": "  0%|          | 0/800 [00:00<?, ?it/s]",
      "application/vnd.jupyter.widget-view+json": {
       "version_major": 2,
       "version_minor": 0,
       "model_id": "d3331db4c87f454793fe76868da836a4"
      }
     },
     "metadata": {},
     "output_type": "display_data"
    },
    {
     "data": {
      "text/plain": "  0%|          | 0/800 [00:00<?, ?it/s]",
      "application/vnd.jupyter.widget-view+json": {
       "version_major": 2,
       "version_minor": 0,
       "model_id": "25799fc66a654ef581ab087061c92653"
      }
     },
     "metadata": {},
     "output_type": "display_data"
    },
    {
     "data": {
      "text/plain": "  0%|          | 0/800 [00:00<?, ?it/s]",
      "application/vnd.jupyter.widget-view+json": {
       "version_major": 2,
       "version_minor": 0,
       "model_id": "9c872c84e6dd40e1bb5b3895cf3261b3"
      }
     },
     "metadata": {},
     "output_type": "display_data"
    },
    {
     "data": {
      "text/plain": "  0%|          | 0/800 [00:00<?, ?it/s]",
      "application/vnd.jupyter.widget-view+json": {
       "version_major": 2,
       "version_minor": 0,
       "model_id": "1c232210704b497b9b84627d131fe6f7"
      }
     },
     "metadata": {},
     "output_type": "display_data"
    },
    {
     "data": {
      "text/plain": "  0%|          | 0/800 [00:00<?, ?it/s]",
      "application/vnd.jupyter.widget-view+json": {
       "version_major": 2,
       "version_minor": 0,
       "model_id": "1389ad6747c64c1491603cc3ca8c0fad"
      }
     },
     "metadata": {},
     "output_type": "display_data"
    },
    {
     "data": {
      "text/plain": "  0%|          | 0/800 [00:00<?, ?it/s]",
      "application/vnd.jupyter.widget-view+json": {
       "version_major": 2,
       "version_minor": 0,
       "model_id": "9e2a7c9807a049498f2085f8df87c270"
      }
     },
     "metadata": {},
     "output_type": "display_data"
    },
    {
     "data": {
      "text/plain": "  0%|          | 0/800 [00:00<?, ?it/s]",
      "application/vnd.jupyter.widget-view+json": {
       "version_major": 2,
       "version_minor": 0,
       "model_id": "0673b4563078453b8315a741d67dc82d"
      }
     },
     "metadata": {},
     "output_type": "display_data"
    },
    {
     "data": {
      "text/plain": "  0%|          | 0/800 [00:00<?, ?it/s]",
      "application/vnd.jupyter.widget-view+json": {
       "version_major": 2,
       "version_minor": 0,
       "model_id": "91259de283764f1eba1a22d71238ed84"
      }
     },
     "metadata": {},
     "output_type": "display_data"
    },
    {
     "data": {
      "text/plain": "  0%|          | 0/800 [00:00<?, ?it/s]",
      "application/vnd.jupyter.widget-view+json": {
       "version_major": 2,
       "version_minor": 0,
       "model_id": "7ed7946f44e84448b01e3f3b1fdd2987"
      }
     },
     "metadata": {},
     "output_type": "display_data"
    },
    {
     "data": {
      "text/plain": "  0%|          | 0/800 [00:00<?, ?it/s]",
      "application/vnd.jupyter.widget-view+json": {
       "version_major": 2,
       "version_minor": 0,
       "model_id": "fcfb63c8919b43a4909e634e7a0486ca"
      }
     },
     "metadata": {},
     "output_type": "display_data"
    },
    {
     "data": {
      "text/plain": "  0%|          | 0/800 [00:00<?, ?it/s]",
      "application/vnd.jupyter.widget-view+json": {
       "version_major": 2,
       "version_minor": 0,
       "model_id": "c27c35fe69cd41e8b46e242541b80ff2"
      }
     },
     "metadata": {},
     "output_type": "display_data"
    },
    {
     "data": {
      "text/plain": "  0%|          | 0/800 [00:00<?, ?it/s]",
      "application/vnd.jupyter.widget-view+json": {
       "version_major": 2,
       "version_minor": 0,
       "model_id": "0b4a55ecbc364a36901c34f0fcfb3cb1"
      }
     },
     "metadata": {},
     "output_type": "display_data"
    },
    {
     "data": {
      "text/plain": "  0%|          | 0/800 [00:00<?, ?it/s]",
      "application/vnd.jupyter.widget-view+json": {
       "version_major": 2,
       "version_minor": 0,
       "model_id": "8ec76618fcf34fdfab49c62e594fcd99"
      }
     },
     "metadata": {},
     "output_type": "display_data"
    },
    {
     "data": {
      "text/plain": "  0%|          | 0/800 [00:00<?, ?it/s]",
      "application/vnd.jupyter.widget-view+json": {
       "version_major": 2,
       "version_minor": 0,
       "model_id": "a68f1820c4814b7cafea8cb1eea38b8d"
      }
     },
     "metadata": {},
     "output_type": "display_data"
    },
    {
     "data": {
      "text/plain": "  0%|          | 0/800 [00:00<?, ?it/s]",
      "application/vnd.jupyter.widget-view+json": {
       "version_major": 2,
       "version_minor": 0,
       "model_id": "fadcec97c5d041c6aa511a6ff53bf5c0"
      }
     },
     "metadata": {},
     "output_type": "display_data"
    },
    {
     "data": {
      "text/plain": "  0%|          | 0/800 [00:00<?, ?it/s]",
      "application/vnd.jupyter.widget-view+json": {
       "version_major": 2,
       "version_minor": 0,
       "model_id": "53abfa6143c74961ad4c16e2c132988b"
      }
     },
     "metadata": {},
     "output_type": "display_data"
    },
    {
     "data": {
      "text/plain": "  0%|          | 0/800 [00:00<?, ?it/s]",
      "application/vnd.jupyter.widget-view+json": {
       "version_major": 2,
       "version_minor": 0,
       "model_id": "325613e5c65a48cfbb0e634ecb471452"
      }
     },
     "metadata": {},
     "output_type": "display_data"
    },
    {
     "data": {
      "text/plain": "  0%|          | 0/800 [00:00<?, ?it/s]",
      "application/vnd.jupyter.widget-view+json": {
       "version_major": 2,
       "version_minor": 0,
       "model_id": "180910dcb2784839bc2a1858401d7885"
      }
     },
     "metadata": {},
     "output_type": "display_data"
    },
    {
     "data": {
      "text/plain": "  0%|          | 0/800 [00:00<?, ?it/s]",
      "application/vnd.jupyter.widget-view+json": {
       "version_major": 2,
       "version_minor": 0,
       "model_id": "e3a08a5ff3724ad2b4e7d088fb85622e"
      }
     },
     "metadata": {},
     "output_type": "display_data"
    },
    {
     "data": {
      "text/plain": "  0%|          | 0/800 [00:00<?, ?it/s]",
      "application/vnd.jupyter.widget-view+json": {
       "version_major": 2,
       "version_minor": 0,
       "model_id": "f98569da45bf4d76ad9b00c5e97d34e9"
      }
     },
     "metadata": {},
     "output_type": "display_data"
    },
    {
     "data": {
      "text/plain": "  0%|          | 0/800 [00:00<?, ?it/s]",
      "application/vnd.jupyter.widget-view+json": {
       "version_major": 2,
       "version_minor": 0,
       "model_id": "5819615148624aafa4075ededb002599"
      }
     },
     "metadata": {},
     "output_type": "display_data"
    },
    {
     "data": {
      "text/plain": "  0%|          | 0/800 [00:00<?, ?it/s]",
      "application/vnd.jupyter.widget-view+json": {
       "version_major": 2,
       "version_minor": 0,
       "model_id": "b3e9ff652f124eccaaab7f5899250a15"
      }
     },
     "metadata": {},
     "output_type": "display_data"
    },
    {
     "data": {
      "text/plain": "  0%|          | 0/800 [00:00<?, ?it/s]",
      "application/vnd.jupyter.widget-view+json": {
       "version_major": 2,
       "version_minor": 0,
       "model_id": "9c8d7cb3c5dc4b398068c1b01dd44de2"
      }
     },
     "metadata": {},
     "output_type": "display_data"
    },
    {
     "data": {
      "text/plain": "  0%|          | 0/800 [00:00<?, ?it/s]",
      "application/vnd.jupyter.widget-view+json": {
       "version_major": 2,
       "version_minor": 0,
       "model_id": "0eb90faac4914d3489c2ee1e69c91df4"
      }
     },
     "metadata": {},
     "output_type": "display_data"
    },
    {
     "data": {
      "text/plain": "  0%|          | 0/800 [00:00<?, ?it/s]",
      "application/vnd.jupyter.widget-view+json": {
       "version_major": 2,
       "version_minor": 0,
       "model_id": "b6df2abdb0a24855b49bb75c3f6660b1"
      }
     },
     "metadata": {},
     "output_type": "display_data"
    },
    {
     "data": {
      "text/plain": "  0%|          | 0/800 [00:00<?, ?it/s]",
      "application/vnd.jupyter.widget-view+json": {
       "version_major": 2,
       "version_minor": 0,
       "model_id": "2edc7f2ca02c442cb8108b1b53f61f1b"
      }
     },
     "metadata": {},
     "output_type": "display_data"
    },
    {
     "data": {
      "text/plain": "  0%|          | 0/800 [00:00<?, ?it/s]",
      "application/vnd.jupyter.widget-view+json": {
       "version_major": 2,
       "version_minor": 0,
       "model_id": "71c07f00f89841a8948ea7e29ed9b99b"
      }
     },
     "metadata": {},
     "output_type": "display_data"
    },
    {
     "data": {
      "text/plain": "  0%|          | 0/800 [00:00<?, ?it/s]",
      "application/vnd.jupyter.widget-view+json": {
       "version_major": 2,
       "version_minor": 0,
       "model_id": "e87bdeeeba324d8999506cea711ecad1"
      }
     },
     "metadata": {},
     "output_type": "display_data"
    },
    {
     "data": {
      "text/plain": "  0%|          | 0/800 [00:00<?, ?it/s]",
      "application/vnd.jupyter.widget-view+json": {
       "version_major": 2,
       "version_minor": 0,
       "model_id": "cbbe969ee62441eb8b0003942cb3565e"
      }
     },
     "metadata": {},
     "output_type": "display_data"
    },
    {
     "data": {
      "text/plain": "  0%|          | 0/800 [00:00<?, ?it/s]",
      "application/vnd.jupyter.widget-view+json": {
       "version_major": 2,
       "version_minor": 0,
       "model_id": "e3db339b3be84dabadc0ff87179358e6"
      }
     },
     "metadata": {},
     "output_type": "display_data"
    },
    {
     "data": {
      "text/plain": "  0%|          | 0/800 [00:00<?, ?it/s]",
      "application/vnd.jupyter.widget-view+json": {
       "version_major": 2,
       "version_minor": 0,
       "model_id": "0b82baad25bd45d98ea9b2114469ad98"
      }
     },
     "metadata": {},
     "output_type": "display_data"
    },
    {
     "data": {
      "text/plain": "  0%|          | 0/800 [00:00<?, ?it/s]",
      "application/vnd.jupyter.widget-view+json": {
       "version_major": 2,
       "version_minor": 0,
       "model_id": "6389110b09164628a73abc67d93513d3"
      }
     },
     "metadata": {},
     "output_type": "display_data"
    },
    {
     "data": {
      "text/plain": "  0%|          | 0/800 [00:00<?, ?it/s]",
      "application/vnd.jupyter.widget-view+json": {
       "version_major": 2,
       "version_minor": 0,
       "model_id": "0e9eb76eedde4ae1bfe0335ec16305c5"
      }
     },
     "metadata": {},
     "output_type": "display_data"
    },
    {
     "data": {
      "text/plain": "  0%|          | 0/800 [00:00<?, ?it/s]",
      "application/vnd.jupyter.widget-view+json": {
       "version_major": 2,
       "version_minor": 0,
       "model_id": "2b4c0673b7d142a2a40eb81f9c18be72"
      }
     },
     "metadata": {},
     "output_type": "display_data"
    },
    {
     "data": {
      "text/plain": "  0%|          | 0/800 [00:00<?, ?it/s]",
      "application/vnd.jupyter.widget-view+json": {
       "version_major": 2,
       "version_minor": 0,
       "model_id": "7f7fc8c3796e44219f208398f25855e8"
      }
     },
     "metadata": {},
     "output_type": "display_data"
    },
    {
     "data": {
      "text/plain": "  0%|          | 0/800 [00:00<?, ?it/s]",
      "application/vnd.jupyter.widget-view+json": {
       "version_major": 2,
       "version_minor": 0,
       "model_id": "fc266dbd67444bea9ebfafdb6637a89f"
      }
     },
     "metadata": {},
     "output_type": "display_data"
    },
    {
     "data": {
      "text/plain": "  0%|          | 0/800 [00:00<?, ?it/s]",
      "application/vnd.jupyter.widget-view+json": {
       "version_major": 2,
       "version_minor": 0,
       "model_id": "3ebe2f59b31e4748b0028e269ac5b498"
      }
     },
     "metadata": {},
     "output_type": "display_data"
    },
    {
     "data": {
      "text/plain": "  0%|          | 0/800 [00:00<?, ?it/s]",
      "application/vnd.jupyter.widget-view+json": {
       "version_major": 2,
       "version_minor": 0,
       "model_id": "3872f558801840bba7651bd5feaa7815"
      }
     },
     "metadata": {},
     "output_type": "display_data"
    },
    {
     "data": {
      "text/plain": "  0%|          | 0/800 [00:00<?, ?it/s]",
      "application/vnd.jupyter.widget-view+json": {
       "version_major": 2,
       "version_minor": 0,
       "model_id": "269cd30bdc014a52a879d4cd646d4f40"
      }
     },
     "metadata": {},
     "output_type": "display_data"
    },
    {
     "data": {
      "text/plain": "  0%|          | 0/800 [00:00<?, ?it/s]",
      "application/vnd.jupyter.widget-view+json": {
       "version_major": 2,
       "version_minor": 0,
       "model_id": "1afb414c621649159bb13899800433aa"
      }
     },
     "metadata": {},
     "output_type": "display_data"
    },
    {
     "data": {
      "text/plain": "  0%|          | 0/800 [00:00<?, ?it/s]",
      "application/vnd.jupyter.widget-view+json": {
       "version_major": 2,
       "version_minor": 0,
       "model_id": "61d5b024fddc46ce8e8f518793b13c60"
      }
     },
     "metadata": {},
     "output_type": "display_data"
    },
    {
     "data": {
      "text/plain": "  0%|          | 0/800 [00:00<?, ?it/s]",
      "application/vnd.jupyter.widget-view+json": {
       "version_major": 2,
       "version_minor": 0,
       "model_id": "271db80f3e0c48cc83fbb16be03748c4"
      }
     },
     "metadata": {},
     "output_type": "display_data"
    },
    {
     "data": {
      "text/plain": "  0%|          | 0/800 [00:00<?, ?it/s]",
      "application/vnd.jupyter.widget-view+json": {
       "version_major": 2,
       "version_minor": 0,
       "model_id": "d7abc7ad9c504031b7fd14852df10e8a"
      }
     },
     "metadata": {},
     "output_type": "display_data"
    },
    {
     "data": {
      "text/plain": "  0%|          | 0/800 [00:00<?, ?it/s]",
      "application/vnd.jupyter.widget-view+json": {
       "version_major": 2,
       "version_minor": 0,
       "model_id": "dcf04422000142c99b6c7d57a016d2a7"
      }
     },
     "metadata": {},
     "output_type": "display_data"
    },
    {
     "data": {
      "text/plain": "  0%|          | 0/800 [00:00<?, ?it/s]",
      "application/vnd.jupyter.widget-view+json": {
       "version_major": 2,
       "version_minor": 0,
       "model_id": "526f5683e47649edbbd198e82541e87c"
      }
     },
     "metadata": {},
     "output_type": "display_data"
    },
    {
     "data": {
      "text/plain": "  0%|          | 0/800 [00:00<?, ?it/s]",
      "application/vnd.jupyter.widget-view+json": {
       "version_major": 2,
       "version_minor": 0,
       "model_id": "340e123b5d8746d4bd8d23a7b63cea6d"
      }
     },
     "metadata": {},
     "output_type": "display_data"
    },
    {
     "data": {
      "text/plain": "  0%|          | 0/800 [00:00<?, ?it/s]",
      "application/vnd.jupyter.widget-view+json": {
       "version_major": 2,
       "version_minor": 0,
       "model_id": "ef101317a29c4c219956eda48a4b7ff8"
      }
     },
     "metadata": {},
     "output_type": "display_data"
    },
    {
     "data": {
      "text/plain": "  0%|          | 0/800 [00:00<?, ?it/s]",
      "application/vnd.jupyter.widget-view+json": {
       "version_major": 2,
       "version_minor": 0,
       "model_id": "6a64a94793994087ae88aa6ff2dc9b18"
      }
     },
     "metadata": {},
     "output_type": "display_data"
    },
    {
     "data": {
      "text/plain": "  0%|          | 0/800 [00:00<?, ?it/s]",
      "application/vnd.jupyter.widget-view+json": {
       "version_major": 2,
       "version_minor": 0,
       "model_id": "27a11abbbd4c4cb3b8dc36790479f23a"
      }
     },
     "metadata": {},
     "output_type": "display_data"
    },
    {
     "data": {
      "text/plain": "  0%|          | 0/800 [00:00<?, ?it/s]",
      "application/vnd.jupyter.widget-view+json": {
       "version_major": 2,
       "version_minor": 0,
       "model_id": "2137cb4dbd674831976584ec510e3ec6"
      }
     },
     "metadata": {},
     "output_type": "display_data"
    },
    {
     "data": {
      "text/plain": "  0%|          | 0/800 [00:00<?, ?it/s]",
      "application/vnd.jupyter.widget-view+json": {
       "version_major": 2,
       "version_minor": 0,
       "model_id": "01bbd19070d14963bd20777e0362bdfa"
      }
     },
     "metadata": {},
     "output_type": "display_data"
    },
    {
     "data": {
      "text/plain": "  0%|          | 0/800 [00:00<?, ?it/s]",
      "application/vnd.jupyter.widget-view+json": {
       "version_major": 2,
       "version_minor": 0,
       "model_id": "550f082d804a4ba883c1e77d5fca10c8"
      }
     },
     "metadata": {},
     "output_type": "display_data"
    },
    {
     "data": {
      "text/plain": "  0%|          | 0/800 [00:00<?, ?it/s]",
      "application/vnd.jupyter.widget-view+json": {
       "version_major": 2,
       "version_minor": 0,
       "model_id": "549792c9c9454f5886055d1a71fda7a3"
      }
     },
     "metadata": {},
     "output_type": "display_data"
    },
    {
     "data": {
      "text/plain": "  0%|          | 0/800 [00:00<?, ?it/s]",
      "application/vnd.jupyter.widget-view+json": {
       "version_major": 2,
       "version_minor": 0,
       "model_id": "f3f462b6d3b747b5ba1e450b3527527f"
      }
     },
     "metadata": {},
     "output_type": "display_data"
    },
    {
     "data": {
      "text/plain": "  0%|          | 0/800 [00:00<?, ?it/s]",
      "application/vnd.jupyter.widget-view+json": {
       "version_major": 2,
       "version_minor": 0,
       "model_id": "1e5e4a097c71496c82761a2e7147f230"
      }
     },
     "metadata": {},
     "output_type": "display_data"
    },
    {
     "data": {
      "text/plain": "  0%|          | 0/800 [00:00<?, ?it/s]",
      "application/vnd.jupyter.widget-view+json": {
       "version_major": 2,
       "version_minor": 0,
       "model_id": "acc51d7076434d8486822fe15fe3dca7"
      }
     },
     "metadata": {},
     "output_type": "display_data"
    },
    {
     "data": {
      "text/plain": "  0%|          | 0/800 [00:00<?, ?it/s]",
      "application/vnd.jupyter.widget-view+json": {
       "version_major": 2,
       "version_minor": 0,
       "model_id": "ec9cc8d5aeb246be9e373072b2d0005a"
      }
     },
     "metadata": {},
     "output_type": "display_data"
    },
    {
     "data": {
      "text/plain": "  0%|          | 0/800 [00:00<?, ?it/s]",
      "application/vnd.jupyter.widget-view+json": {
       "version_major": 2,
       "version_minor": 0,
       "model_id": "a50252710a3c4526a87392d61b5d5403"
      }
     },
     "metadata": {},
     "output_type": "display_data"
    },
    {
     "data": {
      "text/plain": "  0%|          | 0/800 [00:00<?, ?it/s]",
      "application/vnd.jupyter.widget-view+json": {
       "version_major": 2,
       "version_minor": 0,
       "model_id": "fae066f02acc4f7d933618c6c4d0a187"
      }
     },
     "metadata": {},
     "output_type": "display_data"
    },
    {
     "data": {
      "text/plain": "  0%|          | 0/800 [00:00<?, ?it/s]",
      "application/vnd.jupyter.widget-view+json": {
       "version_major": 2,
       "version_minor": 0,
       "model_id": "1ffb53f1f6674e0b9bdbfa9fc54d9efb"
      }
     },
     "metadata": {},
     "output_type": "display_data"
    },
    {
     "data": {
      "text/plain": "  0%|          | 0/800 [00:00<?, ?it/s]",
      "application/vnd.jupyter.widget-view+json": {
       "version_major": 2,
       "version_minor": 0,
       "model_id": "4a39f0fffccc4979a67abcc84c4e96ee"
      }
     },
     "metadata": {},
     "output_type": "display_data"
    },
    {
     "data": {
      "text/plain": "  0%|          | 0/800 [00:00<?, ?it/s]",
      "application/vnd.jupyter.widget-view+json": {
       "version_major": 2,
       "version_minor": 0,
       "model_id": "7d01e8f0aa7349f59bc52521c14c0772"
      }
     },
     "metadata": {},
     "output_type": "display_data"
    },
    {
     "data": {
      "text/plain": "  0%|          | 0/800 [00:00<?, ?it/s]",
      "application/vnd.jupyter.widget-view+json": {
       "version_major": 2,
       "version_minor": 0,
       "model_id": "2d9e5cd619ed4956a80620e3dd21b5f5"
      }
     },
     "metadata": {},
     "output_type": "display_data"
    },
    {
     "data": {
      "text/plain": "  0%|          | 0/800 [00:00<?, ?it/s]",
      "application/vnd.jupyter.widget-view+json": {
       "version_major": 2,
       "version_minor": 0,
       "model_id": "256e9c14a57c47bb86a3a19f495e64da"
      }
     },
     "metadata": {},
     "output_type": "display_data"
    },
    {
     "data": {
      "text/plain": "  0%|          | 0/800 [00:00<?, ?it/s]",
      "application/vnd.jupyter.widget-view+json": {
       "version_major": 2,
       "version_minor": 0,
       "model_id": "09859e698adc48468dc7978880a2342b"
      }
     },
     "metadata": {},
     "output_type": "display_data"
    },
    {
     "data": {
      "text/plain": "  0%|          | 0/800 [00:00<?, ?it/s]",
      "application/vnd.jupyter.widget-view+json": {
       "version_major": 2,
       "version_minor": 0,
       "model_id": "027f087f0c304a86a67b7b35845e837c"
      }
     },
     "metadata": {},
     "output_type": "display_data"
    },
    {
     "data": {
      "text/plain": "  0%|          | 0/800 [00:00<?, ?it/s]",
      "application/vnd.jupyter.widget-view+json": {
       "version_major": 2,
       "version_minor": 0,
       "model_id": "f4e4f5392b1147d4a4193d0263adb546"
      }
     },
     "metadata": {},
     "output_type": "display_data"
    },
    {
     "data": {
      "text/plain": "  0%|          | 0/800 [00:00<?, ?it/s]",
      "application/vnd.jupyter.widget-view+json": {
       "version_major": 2,
       "version_minor": 0,
       "model_id": "bc5a24a92b9e44dd9ae7a7b075eb848a"
      }
     },
     "metadata": {},
     "output_type": "display_data"
    },
    {
     "data": {
      "text/plain": "  0%|          | 0/800 [00:00<?, ?it/s]",
      "application/vnd.jupyter.widget-view+json": {
       "version_major": 2,
       "version_minor": 0,
       "model_id": "2f3cff7503c54cc59d5af93265039fd0"
      }
     },
     "metadata": {},
     "output_type": "display_data"
    },
    {
     "data": {
      "text/plain": "  0%|          | 0/800 [00:00<?, ?it/s]",
      "application/vnd.jupyter.widget-view+json": {
       "version_major": 2,
       "version_minor": 0,
       "model_id": "04024bc321c44560af61ab31ca74e060"
      }
     },
     "metadata": {},
     "output_type": "display_data"
    },
    {
     "data": {
      "text/plain": "  0%|          | 0/800 [00:00<?, ?it/s]",
      "application/vnd.jupyter.widget-view+json": {
       "version_major": 2,
       "version_minor": 0,
       "model_id": "b67d1429538244cdae66fd4469fefaaa"
      }
     },
     "metadata": {},
     "output_type": "display_data"
    },
    {
     "data": {
      "text/plain": "  0%|          | 0/800 [00:00<?, ?it/s]",
      "application/vnd.jupyter.widget-view+json": {
       "version_major": 2,
       "version_minor": 0,
       "model_id": "f0843effe9cd4ff8ae6e616cd0d8d3b0"
      }
     },
     "metadata": {},
     "output_type": "display_data"
    },
    {
     "data": {
      "text/plain": "  0%|          | 0/800 [00:00<?, ?it/s]",
      "application/vnd.jupyter.widget-view+json": {
       "version_major": 2,
       "version_minor": 0,
       "model_id": "531fc53922a4423ba4d4a004343898f2"
      }
     },
     "metadata": {},
     "output_type": "display_data"
    },
    {
     "data": {
      "text/plain": "  0%|          | 0/800 [00:00<?, ?it/s]",
      "application/vnd.jupyter.widget-view+json": {
       "version_major": 2,
       "version_minor": 0,
       "model_id": "f03fd36118fe48b4810299b07c323a91"
      }
     },
     "metadata": {},
     "output_type": "display_data"
    },
    {
     "data": {
      "text/plain": "  0%|          | 0/800 [00:00<?, ?it/s]",
      "application/vnd.jupyter.widget-view+json": {
       "version_major": 2,
       "version_minor": 0,
       "model_id": "a19ecdd5306b4ea482bf92ff480dce2d"
      }
     },
     "metadata": {},
     "output_type": "display_data"
    },
    {
     "data": {
      "text/plain": "  0%|          | 0/800 [00:00<?, ?it/s]",
      "application/vnd.jupyter.widget-view+json": {
       "version_major": 2,
       "version_minor": 0,
       "model_id": "dfb1bf29df744a9ca09c4dc78235c717"
      }
     },
     "metadata": {},
     "output_type": "display_data"
    },
    {
     "data": {
      "text/plain": "  0%|          | 0/800 [00:00<?, ?it/s]",
      "application/vnd.jupyter.widget-view+json": {
       "version_major": 2,
       "version_minor": 0,
       "model_id": "bc3bb5a461f14e10ac98fdc31d612e92"
      }
     },
     "metadata": {},
     "output_type": "display_data"
    },
    {
     "data": {
      "text/plain": "  0%|          | 0/800 [00:00<?, ?it/s]",
      "application/vnd.jupyter.widget-view+json": {
       "version_major": 2,
       "version_minor": 0,
       "model_id": "367f7bfee0ef475eb275c3618db6350e"
      }
     },
     "metadata": {},
     "output_type": "display_data"
    },
    {
     "data": {
      "text/plain": "  0%|          | 0/800 [00:00<?, ?it/s]",
      "application/vnd.jupyter.widget-view+json": {
       "version_major": 2,
       "version_minor": 0,
       "model_id": "40893908bf434e878595bd633fe461b4"
      }
     },
     "metadata": {},
     "output_type": "display_data"
    },
    {
     "data": {
      "text/plain": "  0%|          | 0/800 [00:00<?, ?it/s]",
      "application/vnd.jupyter.widget-view+json": {
       "version_major": 2,
       "version_minor": 0,
       "model_id": "c27d4c7a619c4934b851c92e41e8f5a1"
      }
     },
     "metadata": {},
     "output_type": "display_data"
    },
    {
     "data": {
      "text/plain": "  0%|          | 0/800 [00:00<?, ?it/s]",
      "application/vnd.jupyter.widget-view+json": {
       "version_major": 2,
       "version_minor": 0,
       "model_id": "20cb772ab32346de940ea5368ba4e1bd"
      }
     },
     "metadata": {},
     "output_type": "display_data"
    },
    {
     "data": {
      "text/plain": "  0%|          | 0/800 [00:00<?, ?it/s]",
      "application/vnd.jupyter.widget-view+json": {
       "version_major": 2,
       "version_minor": 0,
       "model_id": "5f233e392c8b47c09e98257bfe9c6c94"
      }
     },
     "metadata": {},
     "output_type": "display_data"
    },
    {
     "data": {
      "text/plain": "  0%|          | 0/800 [00:00<?, ?it/s]",
      "application/vnd.jupyter.widget-view+json": {
       "version_major": 2,
       "version_minor": 0,
       "model_id": "f969fd6a80c0406b8d94e15d7eaf2919"
      }
     },
     "metadata": {},
     "output_type": "display_data"
    },
    {
     "data": {
      "text/plain": "  0%|          | 0/800 [00:00<?, ?it/s]",
      "application/vnd.jupyter.widget-view+json": {
       "version_major": 2,
       "version_minor": 0,
       "model_id": "ee9108e579fd4b7ab5423dee80f32d91"
      }
     },
     "metadata": {},
     "output_type": "display_data"
    },
    {
     "data": {
      "text/plain": "  0%|          | 0/800 [00:00<?, ?it/s]",
      "application/vnd.jupyter.widget-view+json": {
       "version_major": 2,
       "version_minor": 0,
       "model_id": "ee63b5fc00964bf3928b48a8a26d6adc"
      }
     },
     "metadata": {},
     "output_type": "display_data"
    },
    {
     "data": {
      "text/plain": "  0%|          | 0/800 [00:00<?, ?it/s]",
      "application/vnd.jupyter.widget-view+json": {
       "version_major": 2,
       "version_minor": 0,
       "model_id": "3ee655d277ab41f7a8e62a68ebbc5ec8"
      }
     },
     "metadata": {},
     "output_type": "display_data"
    },
    {
     "data": {
      "text/plain": "  0%|          | 0/800 [00:00<?, ?it/s]",
      "application/vnd.jupyter.widget-view+json": {
       "version_major": 2,
       "version_minor": 0,
       "model_id": "028010b289a54629ba2bb81ca6c6f7fc"
      }
     },
     "metadata": {},
     "output_type": "display_data"
    },
    {
     "data": {
      "text/plain": "  0%|          | 0/800 [00:00<?, ?it/s]",
      "application/vnd.jupyter.widget-view+json": {
       "version_major": 2,
       "version_minor": 0,
       "model_id": "979a3a53f5334ce2a1dce8a397e3c12b"
      }
     },
     "metadata": {},
     "output_type": "display_data"
    },
    {
     "data": {
      "text/plain": "  0%|          | 0/800 [00:00<?, ?it/s]",
      "application/vnd.jupyter.widget-view+json": {
       "version_major": 2,
       "version_minor": 0,
       "model_id": "ef9c74bd6ca6499ab09efbc6c8cdd6f3"
      }
     },
     "metadata": {},
     "output_type": "display_data"
    },
    {
     "data": {
      "text/plain": "  0%|          | 0/800 [00:00<?, ?it/s]",
      "application/vnd.jupyter.widget-view+json": {
       "version_major": 2,
       "version_minor": 0,
       "model_id": "9b2214a3d7c04d0093c9b4b06476c1d3"
      }
     },
     "metadata": {},
     "output_type": "display_data"
    },
    {
     "data": {
      "text/plain": "  0%|          | 0/800 [00:00<?, ?it/s]",
      "application/vnd.jupyter.widget-view+json": {
       "version_major": 2,
       "version_minor": 0,
       "model_id": "2a6fe469686f450dad6000ffc8e27783"
      }
     },
     "metadata": {},
     "output_type": "display_data"
    },
    {
     "data": {
      "text/plain": "  0%|          | 0/800 [00:00<?, ?it/s]",
      "application/vnd.jupyter.widget-view+json": {
       "version_major": 2,
       "version_minor": 0,
       "model_id": "ca52f289ac2a4b3baf73fa65572be302"
      }
     },
     "metadata": {},
     "output_type": "display_data"
    },
    {
     "data": {
      "text/plain": "  0%|          | 0/800 [00:00<?, ?it/s]",
      "application/vnd.jupyter.widget-view+json": {
       "version_major": 2,
       "version_minor": 0,
       "model_id": "984c1a413c5a496f8927b92c800b7114"
      }
     },
     "metadata": {},
     "output_type": "display_data"
    },
    {
     "data": {
      "text/plain": "  0%|          | 0/800 [00:00<?, ?it/s]",
      "application/vnd.jupyter.widget-view+json": {
       "version_major": 2,
       "version_minor": 0,
       "model_id": "7142e6bb14cb499d8b409d5ef5970c50"
      }
     },
     "metadata": {},
     "output_type": "display_data"
    },
    {
     "data": {
      "text/plain": "  0%|          | 0/800 [00:00<?, ?it/s]",
      "application/vnd.jupyter.widget-view+json": {
       "version_major": 2,
       "version_minor": 0,
       "model_id": "4c2400c128d74ff99929f365a0415088"
      }
     },
     "metadata": {},
     "output_type": "display_data"
    },
    {
     "data": {
      "text/plain": "  0%|          | 0/800 [00:00<?, ?it/s]",
      "application/vnd.jupyter.widget-view+json": {
       "version_major": 2,
       "version_minor": 0,
       "model_id": "50f0df772a094cf0b325607db3925162"
      }
     },
     "metadata": {},
     "output_type": "display_data"
    },
    {
     "data": {
      "text/plain": "  0%|          | 0/800 [00:00<?, ?it/s]",
      "application/vnd.jupyter.widget-view+json": {
       "version_major": 2,
       "version_minor": 0,
       "model_id": "1608cded383e444098595a57e279997d"
      }
     },
     "metadata": {},
     "output_type": "display_data"
    },
    {
     "data": {
      "text/plain": "  0%|          | 0/800 [00:00<?, ?it/s]",
      "application/vnd.jupyter.widget-view+json": {
       "version_major": 2,
       "version_minor": 0,
       "model_id": "5a873f698fd1457fab4f7700c73dbd79"
      }
     },
     "metadata": {},
     "output_type": "display_data"
    },
    {
     "data": {
      "text/plain": "  0%|          | 0/800 [00:00<?, ?it/s]",
      "application/vnd.jupyter.widget-view+json": {
       "version_major": 2,
       "version_minor": 0,
       "model_id": "34914f9055d84e558e590dd52eb85312"
      }
     },
     "metadata": {},
     "output_type": "display_data"
    },
    {
     "data": {
      "text/plain": "  0%|          | 0/800 [00:00<?, ?it/s]",
      "application/vnd.jupyter.widget-view+json": {
       "version_major": 2,
       "version_minor": 0,
       "model_id": "7d72a89338c0476898d585e1d02a74eb"
      }
     },
     "metadata": {},
     "output_type": "display_data"
    },
    {
     "data": {
      "text/plain": "  0%|          | 0/800 [00:00<?, ?it/s]",
      "application/vnd.jupyter.widget-view+json": {
       "version_major": 2,
       "version_minor": 0,
       "model_id": "3252738c41264013b8c019b4b60aa4a8"
      }
     },
     "metadata": {},
     "output_type": "display_data"
    },
    {
     "data": {
      "text/plain": "  0%|          | 0/800 [00:00<?, ?it/s]",
      "application/vnd.jupyter.widget-view+json": {
       "version_major": 2,
       "version_minor": 0,
       "model_id": "aeb81f7db95e4f5d8a0e844ccc27f929"
      }
     },
     "metadata": {},
     "output_type": "display_data"
    },
    {
     "data": {
      "text/plain": "  0%|          | 0/800 [00:00<?, ?it/s]",
      "application/vnd.jupyter.widget-view+json": {
       "version_major": 2,
       "version_minor": 0,
       "model_id": "c4c16c6b1d7e40a996de42fc446b93d1"
      }
     },
     "metadata": {},
     "output_type": "display_data"
    },
    {
     "data": {
      "text/plain": "  0%|          | 0/800 [00:00<?, ?it/s]",
      "application/vnd.jupyter.widget-view+json": {
       "version_major": 2,
       "version_minor": 0,
       "model_id": "55db651de71b4586ae25f7cc65b0aab5"
      }
     },
     "metadata": {},
     "output_type": "display_data"
    },
    {
     "data": {
      "text/plain": "  0%|          | 0/800 [00:00<?, ?it/s]",
      "application/vnd.jupyter.widget-view+json": {
       "version_major": 2,
       "version_minor": 0,
       "model_id": "21a942d9e20546fbb7380a7af97b04c3"
      }
     },
     "metadata": {},
     "output_type": "display_data"
    },
    {
     "data": {
      "text/plain": "  0%|          | 0/800 [00:00<?, ?it/s]",
      "application/vnd.jupyter.widget-view+json": {
       "version_major": 2,
       "version_minor": 0,
       "model_id": "16a1eb29a41341259afa64b5b50783ba"
      }
     },
     "metadata": {},
     "output_type": "display_data"
    },
    {
     "data": {
      "text/plain": "  0%|          | 0/800 [00:00<?, ?it/s]",
      "application/vnd.jupyter.widget-view+json": {
       "version_major": 2,
       "version_minor": 0,
       "model_id": "b6682d1174dd4827891bb789f0643db3"
      }
     },
     "metadata": {},
     "output_type": "display_data"
    },
    {
     "data": {
      "text/plain": "  0%|          | 0/800 [00:00<?, ?it/s]",
      "application/vnd.jupyter.widget-view+json": {
       "version_major": 2,
       "version_minor": 0,
       "model_id": "56a551ff5e1849ebaf309c4cd834b125"
      }
     },
     "metadata": {},
     "output_type": "display_data"
    },
    {
     "data": {
      "text/plain": "  0%|          | 0/800 [00:00<?, ?it/s]",
      "application/vnd.jupyter.widget-view+json": {
       "version_major": 2,
       "version_minor": 0,
       "model_id": "fae6fdf0d1ed44be86b61725fb4419a3"
      }
     },
     "metadata": {},
     "output_type": "display_data"
    },
    {
     "data": {
      "text/plain": "  0%|          | 0/800 [00:00<?, ?it/s]",
      "application/vnd.jupyter.widget-view+json": {
       "version_major": 2,
       "version_minor": 0,
       "model_id": "1977f1f36cb9431cbedd85043b8f0721"
      }
     },
     "metadata": {},
     "output_type": "display_data"
    },
    {
     "data": {
      "text/plain": "  0%|          | 0/800 [00:00<?, ?it/s]",
      "application/vnd.jupyter.widget-view+json": {
       "version_major": 2,
       "version_minor": 0,
       "model_id": "9317642ac5bd4bbd8d131a2afc32f957"
      }
     },
     "metadata": {},
     "output_type": "display_data"
    },
    {
     "data": {
      "text/plain": "  0%|          | 0/800 [00:00<?, ?it/s]",
      "application/vnd.jupyter.widget-view+json": {
       "version_major": 2,
       "version_minor": 0,
       "model_id": "2ac7db15a4e044fa9417af699bd8bc5b"
      }
     },
     "metadata": {},
     "output_type": "display_data"
    },
    {
     "data": {
      "text/plain": "  0%|          | 0/800 [00:00<?, ?it/s]",
      "application/vnd.jupyter.widget-view+json": {
       "version_major": 2,
       "version_minor": 0,
       "model_id": "4e5e72beffcb49c0a66a88d1c07b8b61"
      }
     },
     "metadata": {},
     "output_type": "display_data"
    },
    {
     "data": {
      "text/plain": "  0%|          | 0/800 [00:00<?, ?it/s]",
      "application/vnd.jupyter.widget-view+json": {
       "version_major": 2,
       "version_minor": 0,
       "model_id": "dc35693c086d454692f5686d1a7fa440"
      }
     },
     "metadata": {},
     "output_type": "display_data"
    },
    {
     "data": {
      "text/plain": "  0%|          | 0/800 [00:00<?, ?it/s]",
      "application/vnd.jupyter.widget-view+json": {
       "version_major": 2,
       "version_minor": 0,
       "model_id": "e60d7eb0ab5d4b3286827b376f729aa1"
      }
     },
     "metadata": {},
     "output_type": "display_data"
    },
    {
     "data": {
      "text/plain": "  0%|          | 0/800 [00:00<?, ?it/s]",
      "application/vnd.jupyter.widget-view+json": {
       "version_major": 2,
       "version_minor": 0,
       "model_id": "b2e7e09351a444258b58b530d3e48587"
      }
     },
     "metadata": {},
     "output_type": "display_data"
    },
    {
     "data": {
      "text/plain": "  0%|          | 0/800 [00:00<?, ?it/s]",
      "application/vnd.jupyter.widget-view+json": {
       "version_major": 2,
       "version_minor": 0,
       "model_id": "d1fb9fe4ec3b4893905861dc3129cda1"
      }
     },
     "metadata": {},
     "output_type": "display_data"
    },
    {
     "data": {
      "text/plain": "  0%|          | 0/800 [00:00<?, ?it/s]",
      "application/vnd.jupyter.widget-view+json": {
       "version_major": 2,
       "version_minor": 0,
       "model_id": "79a8f18f073f4f21bb3ac2ff3d9685f2"
      }
     },
     "metadata": {},
     "output_type": "display_data"
    },
    {
     "data": {
      "text/plain": "  0%|          | 0/800 [00:00<?, ?it/s]",
      "application/vnd.jupyter.widget-view+json": {
       "version_major": 2,
       "version_minor": 0,
       "model_id": "b306e0774ddd4f6fb235cdf363764331"
      }
     },
     "metadata": {},
     "output_type": "display_data"
    },
    {
     "data": {
      "text/plain": "  0%|          | 0/800 [00:00<?, ?it/s]",
      "application/vnd.jupyter.widget-view+json": {
       "version_major": 2,
       "version_minor": 0,
       "model_id": "befe20eb3f1845aeaf31cb809c371c75"
      }
     },
     "metadata": {},
     "output_type": "display_data"
    },
    {
     "data": {
      "text/plain": "  0%|          | 0/800 [00:00<?, ?it/s]",
      "application/vnd.jupyter.widget-view+json": {
       "version_major": 2,
       "version_minor": 0,
       "model_id": "f746f8fd45304affa26454ac6e5fee71"
      }
     },
     "metadata": {},
     "output_type": "display_data"
    },
    {
     "data": {
      "text/plain": "  0%|          | 0/800 [00:00<?, ?it/s]",
      "application/vnd.jupyter.widget-view+json": {
       "version_major": 2,
       "version_minor": 0,
       "model_id": "2fc80a46871f43f9bd27351bbe3f9c48"
      }
     },
     "metadata": {},
     "output_type": "display_data"
    },
    {
     "data": {
      "text/plain": "  0%|          | 0/800 [00:00<?, ?it/s]",
      "application/vnd.jupyter.widget-view+json": {
       "version_major": 2,
       "version_minor": 0,
       "model_id": "20f6a5a88b2441bda937fed2d31fac0b"
      }
     },
     "metadata": {},
     "output_type": "display_data"
    },
    {
     "data": {
      "text/plain": "  0%|          | 0/800 [00:00<?, ?it/s]",
      "application/vnd.jupyter.widget-view+json": {
       "version_major": 2,
       "version_minor": 0,
       "model_id": "7896fd99e7c54a23a5e59c792a4995ac"
      }
     },
     "metadata": {},
     "output_type": "display_data"
    },
    {
     "data": {
      "text/plain": "  0%|          | 0/800 [00:00<?, ?it/s]",
      "application/vnd.jupyter.widget-view+json": {
       "version_major": 2,
       "version_minor": 0,
       "model_id": "e922e6b4639640e583f4c1996b4d10e2"
      }
     },
     "metadata": {},
     "output_type": "display_data"
    },
    {
     "data": {
      "text/plain": "  0%|          | 0/800 [00:00<?, ?it/s]",
      "application/vnd.jupyter.widget-view+json": {
       "version_major": 2,
       "version_minor": 0,
       "model_id": "40aa5508e6d64dafb5b37f71bb15ae9b"
      }
     },
     "metadata": {},
     "output_type": "display_data"
    },
    {
     "data": {
      "text/plain": "  0%|          | 0/800 [00:00<?, ?it/s]",
      "application/vnd.jupyter.widget-view+json": {
       "version_major": 2,
       "version_minor": 0,
       "model_id": "4b88c2f3a7064ce885eea109ccaf6196"
      }
     },
     "metadata": {},
     "output_type": "display_data"
    },
    {
     "data": {
      "text/plain": "  0%|          | 0/800 [00:00<?, ?it/s]",
      "application/vnd.jupyter.widget-view+json": {
       "version_major": 2,
       "version_minor": 0,
       "model_id": "343cee095c5345f3bdb223e323e29c3b"
      }
     },
     "metadata": {},
     "output_type": "display_data"
    },
    {
     "data": {
      "text/plain": "  0%|          | 0/800 [00:00<?, ?it/s]",
      "application/vnd.jupyter.widget-view+json": {
       "version_major": 2,
       "version_minor": 0,
       "model_id": "c49d68d7382345de94cbcb63fe603aca"
      }
     },
     "metadata": {},
     "output_type": "display_data"
    },
    {
     "data": {
      "text/plain": "  0%|          | 0/800 [00:00<?, ?it/s]",
      "application/vnd.jupyter.widget-view+json": {
       "version_major": 2,
       "version_minor": 0,
       "model_id": "18b3c33c5a82454c9f93ee6bae87a6b8"
      }
     },
     "metadata": {},
     "output_type": "display_data"
    },
    {
     "data": {
      "text/plain": "  0%|          | 0/800 [00:00<?, ?it/s]",
      "application/vnd.jupyter.widget-view+json": {
       "version_major": 2,
       "version_minor": 0,
       "model_id": "e50a6b4039454e24a2aceb5cd8ab1a1b"
      }
     },
     "metadata": {},
     "output_type": "display_data"
    },
    {
     "data": {
      "text/plain": "  0%|          | 0/800 [00:00<?, ?it/s]",
      "application/vnd.jupyter.widget-view+json": {
       "version_major": 2,
       "version_minor": 0,
       "model_id": "e985035205884d3bbe9fcdc5b7845f69"
      }
     },
     "metadata": {},
     "output_type": "display_data"
    },
    {
     "data": {
      "text/plain": "  0%|          | 0/800 [00:00<?, ?it/s]",
      "application/vnd.jupyter.widget-view+json": {
       "version_major": 2,
       "version_minor": 0,
       "model_id": "206eaa7ac9484bd9afbb0aa14db75179"
      }
     },
     "metadata": {},
     "output_type": "display_data"
    },
    {
     "data": {
      "text/plain": "  0%|          | 0/800 [00:00<?, ?it/s]",
      "application/vnd.jupyter.widget-view+json": {
       "version_major": 2,
       "version_minor": 0,
       "model_id": "2ee30869023f49239f3af3bfbaa07424"
      }
     },
     "metadata": {},
     "output_type": "display_data"
    },
    {
     "data": {
      "text/plain": "  0%|          | 0/800 [00:00<?, ?it/s]",
      "application/vnd.jupyter.widget-view+json": {
       "version_major": 2,
       "version_minor": 0,
       "model_id": "8448e90dd5284e5da1e3ad9d68357298"
      }
     },
     "metadata": {},
     "output_type": "display_data"
    },
    {
     "data": {
      "text/plain": "  0%|          | 0/800 [00:00<?, ?it/s]",
      "application/vnd.jupyter.widget-view+json": {
       "version_major": 2,
       "version_minor": 0,
       "model_id": "7475d659daea494287bc7225c9960eae"
      }
     },
     "metadata": {},
     "output_type": "display_data"
    },
    {
     "data": {
      "text/plain": "  0%|          | 0/800 [00:00<?, ?it/s]",
      "application/vnd.jupyter.widget-view+json": {
       "version_major": 2,
       "version_minor": 0,
       "model_id": "90e666d7cdc940c08b6f2c4fa65a767e"
      }
     },
     "metadata": {},
     "output_type": "display_data"
    },
    {
     "data": {
      "text/plain": "  0%|          | 0/800 [00:00<?, ?it/s]",
      "application/vnd.jupyter.widget-view+json": {
       "version_major": 2,
       "version_minor": 0,
       "model_id": "626f61864efa44c6be7f13f5acd58916"
      }
     },
     "metadata": {},
     "output_type": "display_data"
    },
    {
     "data": {
      "text/plain": "  0%|          | 0/800 [00:00<?, ?it/s]",
      "application/vnd.jupyter.widget-view+json": {
       "version_major": 2,
       "version_minor": 0,
       "model_id": "b77ff4ddbdcf4c64938eca90b89f5b9d"
      }
     },
     "metadata": {},
     "output_type": "display_data"
    },
    {
     "data": {
      "text/plain": "  0%|          | 0/800 [00:00<?, ?it/s]",
      "application/vnd.jupyter.widget-view+json": {
       "version_major": 2,
       "version_minor": 0,
       "model_id": "0dbbd1288dd34f70912dbd190516af19"
      }
     },
     "metadata": {},
     "output_type": "display_data"
    },
    {
     "data": {
      "text/plain": "  0%|          | 0/800 [00:00<?, ?it/s]",
      "application/vnd.jupyter.widget-view+json": {
       "version_major": 2,
       "version_minor": 0,
       "model_id": "591abfa862334f869dfa2fd1fb3d7151"
      }
     },
     "metadata": {},
     "output_type": "display_data"
    },
    {
     "data": {
      "text/plain": "  0%|          | 0/800 [00:00<?, ?it/s]",
      "application/vnd.jupyter.widget-view+json": {
       "version_major": 2,
       "version_minor": 0,
       "model_id": "7fc35c6d3f8042f9b627352e5848a348"
      }
     },
     "metadata": {},
     "output_type": "display_data"
    },
    {
     "data": {
      "text/plain": "  0%|          | 0/800 [00:00<?, ?it/s]",
      "application/vnd.jupyter.widget-view+json": {
       "version_major": 2,
       "version_minor": 0,
       "model_id": "44c68a24d779466386450bd3c7173f65"
      }
     },
     "metadata": {},
     "output_type": "display_data"
    },
    {
     "data": {
      "text/plain": "  0%|          | 0/800 [00:00<?, ?it/s]",
      "application/vnd.jupyter.widget-view+json": {
       "version_major": 2,
       "version_minor": 0,
       "model_id": "1f7c959afc5543d8926fd10dcd17e13d"
      }
     },
     "metadata": {},
     "output_type": "display_data"
    },
    {
     "data": {
      "text/plain": "  0%|          | 0/800 [00:00<?, ?it/s]",
      "application/vnd.jupyter.widget-view+json": {
       "version_major": 2,
       "version_minor": 0,
       "model_id": "bd96f708c9c846069de25f0a1bef9908"
      }
     },
     "metadata": {},
     "output_type": "display_data"
    },
    {
     "data": {
      "text/plain": "  0%|          | 0/800 [00:00<?, ?it/s]",
      "application/vnd.jupyter.widget-view+json": {
       "version_major": 2,
       "version_minor": 0,
       "model_id": "08c452a6cd3340acb33d318919b9dab8"
      }
     },
     "metadata": {},
     "output_type": "display_data"
    },
    {
     "data": {
      "text/plain": "  0%|          | 0/800 [00:00<?, ?it/s]",
      "application/vnd.jupyter.widget-view+json": {
       "version_major": 2,
       "version_minor": 0,
       "model_id": "b93aa3e50db543908c483bac87c1e5b2"
      }
     },
     "metadata": {},
     "output_type": "display_data"
    },
    {
     "data": {
      "text/plain": "  0%|          | 0/800 [00:00<?, ?it/s]",
      "application/vnd.jupyter.widget-view+json": {
       "version_major": 2,
       "version_minor": 0,
       "model_id": "fd7d78238e474c8fa2750e0f0af319f3"
      }
     },
     "metadata": {},
     "output_type": "display_data"
    },
    {
     "data": {
      "text/plain": "  0%|          | 0/800 [00:00<?, ?it/s]",
      "application/vnd.jupyter.widget-view+json": {
       "version_major": 2,
       "version_minor": 0,
       "model_id": "9b62177d96654d09bdfe997cac78c372"
      }
     },
     "metadata": {},
     "output_type": "display_data"
    },
    {
     "data": {
      "text/plain": "  0%|          | 0/800 [00:00<?, ?it/s]",
      "application/vnd.jupyter.widget-view+json": {
       "version_major": 2,
       "version_minor": 0,
       "model_id": "217981c2b4e24491a256e53e5741de1a"
      }
     },
     "metadata": {},
     "output_type": "display_data"
    },
    {
     "data": {
      "text/plain": "  0%|          | 0/800 [00:00<?, ?it/s]",
      "application/vnd.jupyter.widget-view+json": {
       "version_major": 2,
       "version_minor": 0,
       "model_id": "c7c47b1c8d574dd5a2d1ff5804ba5c40"
      }
     },
     "metadata": {},
     "output_type": "display_data"
    },
    {
     "data": {
      "text/plain": "  0%|          | 0/800 [00:00<?, ?it/s]",
      "application/vnd.jupyter.widget-view+json": {
       "version_major": 2,
       "version_minor": 0,
       "model_id": "b9a4ea2a41944135bfb2497bc01b4335"
      }
     },
     "metadata": {},
     "output_type": "display_data"
    },
    {
     "data": {
      "text/plain": "  0%|          | 0/800 [00:00<?, ?it/s]",
      "application/vnd.jupyter.widget-view+json": {
       "version_major": 2,
       "version_minor": 0,
       "model_id": "d87544a3329e4533b2c906837ff7bb14"
      }
     },
     "metadata": {},
     "output_type": "display_data"
    },
    {
     "data": {
      "text/plain": "  0%|          | 0/800 [00:00<?, ?it/s]",
      "application/vnd.jupyter.widget-view+json": {
       "version_major": 2,
       "version_minor": 0,
       "model_id": "a58119dc8b774e91856662b9452a24a0"
      }
     },
     "metadata": {},
     "output_type": "display_data"
    },
    {
     "data": {
      "text/plain": "  0%|          | 0/800 [00:00<?, ?it/s]",
      "application/vnd.jupyter.widget-view+json": {
       "version_major": 2,
       "version_minor": 0,
       "model_id": "b3b2d5cc7606478d95057234e8230ca0"
      }
     },
     "metadata": {},
     "output_type": "display_data"
    },
    {
     "data": {
      "text/plain": "  0%|          | 0/800 [00:00<?, ?it/s]",
      "application/vnd.jupyter.widget-view+json": {
       "version_major": 2,
       "version_minor": 0,
       "model_id": "88408a3378004b56b2abdfa5e4fed12f"
      }
     },
     "metadata": {},
     "output_type": "display_data"
    },
    {
     "data": {
      "text/plain": "  0%|          | 0/800 [00:00<?, ?it/s]",
      "application/vnd.jupyter.widget-view+json": {
       "version_major": 2,
       "version_minor": 0,
       "model_id": "817b5d3caf014b85984b067ef8ffe7ec"
      }
     },
     "metadata": {},
     "output_type": "display_data"
    },
    {
     "data": {
      "text/plain": "  0%|          | 0/800 [00:00<?, ?it/s]",
      "application/vnd.jupyter.widget-view+json": {
       "version_major": 2,
       "version_minor": 0,
       "model_id": "86c36c94e3e9448b945fe153f9815a89"
      }
     },
     "metadata": {},
     "output_type": "display_data"
    },
    {
     "data": {
      "text/plain": "  0%|          | 0/800 [00:00<?, ?it/s]",
      "application/vnd.jupyter.widget-view+json": {
       "version_major": 2,
       "version_minor": 0,
       "model_id": "eeff5a70feff4e5b9398ac37dbadfb3e"
      }
     },
     "metadata": {},
     "output_type": "display_data"
    },
    {
     "data": {
      "text/plain": "  0%|          | 0/800 [00:00<?, ?it/s]",
      "application/vnd.jupyter.widget-view+json": {
       "version_major": 2,
       "version_minor": 0,
       "model_id": "396b05ee1eaa47868918bd25d270205c"
      }
     },
     "metadata": {},
     "output_type": "display_data"
    },
    {
     "data": {
      "text/plain": "  0%|          | 0/800 [00:00<?, ?it/s]",
      "application/vnd.jupyter.widget-view+json": {
       "version_major": 2,
       "version_minor": 0,
       "model_id": "e09e092acc1449278fac444bc659f5b6"
      }
     },
     "metadata": {},
     "output_type": "display_data"
    },
    {
     "data": {
      "text/plain": "  0%|          | 0/800 [00:00<?, ?it/s]",
      "application/vnd.jupyter.widget-view+json": {
       "version_major": 2,
       "version_minor": 0,
       "model_id": "f505a57066bb4cdbaf8813d60a21d2a4"
      }
     },
     "metadata": {},
     "output_type": "display_data"
    },
    {
     "data": {
      "text/plain": "  0%|          | 0/800 [00:00<?, ?it/s]",
      "application/vnd.jupyter.widget-view+json": {
       "version_major": 2,
       "version_minor": 0,
       "model_id": "9ef45734419e4adab89b844c91520a70"
      }
     },
     "metadata": {},
     "output_type": "display_data"
    },
    {
     "data": {
      "text/plain": "  0%|          | 0/800 [00:00<?, ?it/s]",
      "application/vnd.jupyter.widget-view+json": {
       "version_major": 2,
       "version_minor": 0,
       "model_id": "f0badcee3ed64e1c9728e683a7028a73"
      }
     },
     "metadata": {},
     "output_type": "display_data"
    },
    {
     "data": {
      "text/plain": "  0%|          | 0/800 [00:00<?, ?it/s]",
      "application/vnd.jupyter.widget-view+json": {
       "version_major": 2,
       "version_minor": 0,
       "model_id": "14c22b192b9a46a3b26c537cdfbb32ea"
      }
     },
     "metadata": {},
     "output_type": "display_data"
    },
    {
     "data": {
      "text/plain": "  0%|          | 0/800 [00:00<?, ?it/s]",
      "application/vnd.jupyter.widget-view+json": {
       "version_major": 2,
       "version_minor": 0,
       "model_id": "4b5fe15084354f9ab7f839e5d5678c15"
      }
     },
     "metadata": {},
     "output_type": "display_data"
    },
    {
     "data": {
      "text/plain": "  0%|          | 0/800 [00:00<?, ?it/s]",
      "application/vnd.jupyter.widget-view+json": {
       "version_major": 2,
       "version_minor": 0,
       "model_id": "896c785c517743258bd42328f0381adc"
      }
     },
     "metadata": {},
     "output_type": "display_data"
    },
    {
     "data": {
      "text/plain": "  0%|          | 0/800 [00:00<?, ?it/s]",
      "application/vnd.jupyter.widget-view+json": {
       "version_major": 2,
       "version_minor": 0,
       "model_id": "7dbe6b09203c40cbab28f830af215d36"
      }
     },
     "metadata": {},
     "output_type": "display_data"
    },
    {
     "data": {
      "text/plain": "  0%|          | 0/800 [00:00<?, ?it/s]",
      "application/vnd.jupyter.widget-view+json": {
       "version_major": 2,
       "version_minor": 0,
       "model_id": "03ce642ffec94a90afac6b2f1178003f"
      }
     },
     "metadata": {},
     "output_type": "display_data"
    },
    {
     "data": {
      "text/plain": "  0%|          | 0/800 [00:00<?, ?it/s]",
      "application/vnd.jupyter.widget-view+json": {
       "version_major": 2,
       "version_minor": 0,
       "model_id": "a2279296d8214e06a2193705d0d29a7f"
      }
     },
     "metadata": {},
     "output_type": "display_data"
    },
    {
     "data": {
      "text/plain": "  0%|          | 0/800 [00:00<?, ?it/s]",
      "application/vnd.jupyter.widget-view+json": {
       "version_major": 2,
       "version_minor": 0,
       "model_id": "ca1703ccaea646a089c0bbbca170ed74"
      }
     },
     "metadata": {},
     "output_type": "display_data"
    },
    {
     "data": {
      "text/plain": "  0%|          | 0/800 [00:00<?, ?it/s]",
      "application/vnd.jupyter.widget-view+json": {
       "version_major": 2,
       "version_minor": 0,
       "model_id": "177ba98ec6ab4caf9b37594daf19ad91"
      }
     },
     "metadata": {},
     "output_type": "display_data"
    },
    {
     "data": {
      "text/plain": "  0%|          | 0/800 [00:00<?, ?it/s]",
      "application/vnd.jupyter.widget-view+json": {
       "version_major": 2,
       "version_minor": 0,
       "model_id": "f8e3aebe9b9d4624bc584b697b948324"
      }
     },
     "metadata": {},
     "output_type": "display_data"
    },
    {
     "data": {
      "text/plain": "  0%|          | 0/800 [00:00<?, ?it/s]",
      "application/vnd.jupyter.widget-view+json": {
       "version_major": 2,
       "version_minor": 0,
       "model_id": "4d176e5f984e4e8b841c8bbdf00a9188"
      }
     },
     "metadata": {},
     "output_type": "display_data"
    },
    {
     "data": {
      "text/plain": "  0%|          | 0/800 [00:00<?, ?it/s]",
      "application/vnd.jupyter.widget-view+json": {
       "version_major": 2,
       "version_minor": 0,
       "model_id": "f9bc344707304d12aa972b8e9308df06"
      }
     },
     "metadata": {},
     "output_type": "display_data"
    },
    {
     "data": {
      "text/plain": "  0%|          | 0/800 [00:00<?, ?it/s]",
      "application/vnd.jupyter.widget-view+json": {
       "version_major": 2,
       "version_minor": 0,
       "model_id": "55809abf8d234d2180af97c1ce1a570f"
      }
     },
     "metadata": {},
     "output_type": "display_data"
    },
    {
     "data": {
      "text/plain": "  0%|          | 0/800 [00:00<?, ?it/s]",
      "application/vnd.jupyter.widget-view+json": {
       "version_major": 2,
       "version_minor": 0,
       "model_id": "e5ba359af80b49afb8705fc2c8227733"
      }
     },
     "metadata": {},
     "output_type": "display_data"
    },
    {
     "data": {
      "text/plain": "  0%|          | 0/800 [00:00<?, ?it/s]",
      "application/vnd.jupyter.widget-view+json": {
       "version_major": 2,
       "version_minor": 0,
       "model_id": "36f6845e4d1d42b1bb227007bf3b2861"
      }
     },
     "metadata": {},
     "output_type": "display_data"
    },
    {
     "data": {
      "text/plain": "  0%|          | 0/800 [00:00<?, ?it/s]",
      "application/vnd.jupyter.widget-view+json": {
       "version_major": 2,
       "version_minor": 0,
       "model_id": "ce839ac41c45424b9979571d351bd706"
      }
     },
     "metadata": {},
     "output_type": "display_data"
    },
    {
     "data": {
      "text/plain": "  0%|          | 0/800 [00:00<?, ?it/s]",
      "application/vnd.jupyter.widget-view+json": {
       "version_major": 2,
       "version_minor": 0,
       "model_id": "d1ad0892f28f46f68b4a0d92a8cb3f11"
      }
     },
     "metadata": {},
     "output_type": "display_data"
    },
    {
     "data": {
      "text/plain": "  0%|          | 0/800 [00:00<?, ?it/s]",
      "application/vnd.jupyter.widget-view+json": {
       "version_major": 2,
       "version_minor": 0,
       "model_id": "7311c5f44ef745409d72156f609b5a14"
      }
     },
     "metadata": {},
     "output_type": "display_data"
    },
    {
     "data": {
      "text/plain": "  0%|          | 0/800 [00:00<?, ?it/s]",
      "application/vnd.jupyter.widget-view+json": {
       "version_major": 2,
       "version_minor": 0,
       "model_id": "5c817e4838454eda81a2c36bb5cb8399"
      }
     },
     "metadata": {},
     "output_type": "display_data"
    },
    {
     "data": {
      "text/plain": "  0%|          | 0/800 [00:00<?, ?it/s]",
      "application/vnd.jupyter.widget-view+json": {
       "version_major": 2,
       "version_minor": 0,
       "model_id": "e4b2dafbdd284befa36e14aa5a9ef363"
      }
     },
     "metadata": {},
     "output_type": "display_data"
    },
    {
     "data": {
      "text/plain": "  0%|          | 0/800 [00:00<?, ?it/s]",
      "application/vnd.jupyter.widget-view+json": {
       "version_major": 2,
       "version_minor": 0,
       "model_id": "1c11b9b3fa244b3b89f49db62e11fe33"
      }
     },
     "metadata": {},
     "output_type": "display_data"
    },
    {
     "data": {
      "text/plain": "  0%|          | 0/800 [00:00<?, ?it/s]",
      "application/vnd.jupyter.widget-view+json": {
       "version_major": 2,
       "version_minor": 0,
       "model_id": "ea0171e8af20412090d4484a6f86bb1e"
      }
     },
     "metadata": {},
     "output_type": "display_data"
    },
    {
     "data": {
      "text/plain": "  0%|          | 0/800 [00:00<?, ?it/s]",
      "application/vnd.jupyter.widget-view+json": {
       "version_major": 2,
       "version_minor": 0,
       "model_id": "7cf7f71ed1ff4c3c9a70974b15c7600c"
      }
     },
     "metadata": {},
     "output_type": "display_data"
    },
    {
     "data": {
      "text/plain": "  0%|          | 0/800 [00:00<?, ?it/s]",
      "application/vnd.jupyter.widget-view+json": {
       "version_major": 2,
       "version_minor": 0,
       "model_id": "6d95f6a767e74d4cabb7ffa2e646cd12"
      }
     },
     "metadata": {},
     "output_type": "display_data"
    },
    {
     "data": {
      "text/plain": "  0%|          | 0/800 [00:00<?, ?it/s]",
      "application/vnd.jupyter.widget-view+json": {
       "version_major": 2,
       "version_minor": 0,
       "model_id": "cf63a07941ae4ac58e9c1d271cfc0023"
      }
     },
     "metadata": {},
     "output_type": "display_data"
    },
    {
     "data": {
      "text/plain": "  0%|          | 0/800 [00:00<?, ?it/s]",
      "application/vnd.jupyter.widget-view+json": {
       "version_major": 2,
       "version_minor": 0,
       "model_id": "8aa64f1608e1462f804780f3441efda1"
      }
     },
     "metadata": {},
     "output_type": "display_data"
    },
    {
     "data": {
      "text/plain": "  0%|          | 0/800 [00:00<?, ?it/s]",
      "application/vnd.jupyter.widget-view+json": {
       "version_major": 2,
       "version_minor": 0,
       "model_id": "9a5a91ad670d4692877d102a0e86534f"
      }
     },
     "metadata": {},
     "output_type": "display_data"
    },
    {
     "data": {
      "text/plain": "  0%|          | 0/800 [00:00<?, ?it/s]",
      "application/vnd.jupyter.widget-view+json": {
       "version_major": 2,
       "version_minor": 0,
       "model_id": "b6bae0ce17c349cd9bb0aec00b722be9"
      }
     },
     "metadata": {},
     "output_type": "display_data"
    },
    {
     "data": {
      "text/plain": "  0%|          | 0/800 [00:00<?, ?it/s]",
      "application/vnd.jupyter.widget-view+json": {
       "version_major": 2,
       "version_minor": 0,
       "model_id": "67e68c948ee448f88e3d3e73ff1ac247"
      }
     },
     "metadata": {},
     "output_type": "display_data"
    },
    {
     "data": {
      "text/plain": "  0%|          | 0/800 [00:00<?, ?it/s]",
      "application/vnd.jupyter.widget-view+json": {
       "version_major": 2,
       "version_minor": 0,
       "model_id": "c3c6db07429d4359824d4a132a9346c6"
      }
     },
     "metadata": {},
     "output_type": "display_data"
    },
    {
     "data": {
      "text/plain": "  0%|          | 0/800 [00:00<?, ?it/s]",
      "application/vnd.jupyter.widget-view+json": {
       "version_major": 2,
       "version_minor": 0,
       "model_id": "1f616ec836d1401c9ef722489399e061"
      }
     },
     "metadata": {},
     "output_type": "display_data"
    },
    {
     "data": {
      "text/plain": "  0%|          | 0/800 [00:00<?, ?it/s]",
      "application/vnd.jupyter.widget-view+json": {
       "version_major": 2,
       "version_minor": 0,
       "model_id": "772f1d19be9f4aacbb8303ec634dd853"
      }
     },
     "metadata": {},
     "output_type": "display_data"
    },
    {
     "data": {
      "text/plain": "  0%|          | 0/800 [00:00<?, ?it/s]",
      "application/vnd.jupyter.widget-view+json": {
       "version_major": 2,
       "version_minor": 0,
       "model_id": "41311862048a4870991e39e26701c294"
      }
     },
     "metadata": {},
     "output_type": "display_data"
    },
    {
     "data": {
      "text/plain": "  0%|          | 0/800 [00:00<?, ?it/s]",
      "application/vnd.jupyter.widget-view+json": {
       "version_major": 2,
       "version_minor": 0,
       "model_id": "d177d9c890ea4866a31d1665aee6d89f"
      }
     },
     "metadata": {},
     "output_type": "display_data"
    },
    {
     "data": {
      "text/plain": "  0%|          | 0/800 [00:00<?, ?it/s]",
      "application/vnd.jupyter.widget-view+json": {
       "version_major": 2,
       "version_minor": 0,
       "model_id": "eecf83a977274a3eb6a2d5a4135e5681"
      }
     },
     "metadata": {},
     "output_type": "display_data"
    },
    {
     "data": {
      "text/plain": "  0%|          | 0/800 [00:00<?, ?it/s]",
      "application/vnd.jupyter.widget-view+json": {
       "version_major": 2,
       "version_minor": 0,
       "model_id": "5cef462139294038b1979ce8ca22098d"
      }
     },
     "metadata": {},
     "output_type": "display_data"
    },
    {
     "data": {
      "text/plain": "  0%|          | 0/800 [00:00<?, ?it/s]",
      "application/vnd.jupyter.widget-view+json": {
       "version_major": 2,
       "version_minor": 0,
       "model_id": "55ddbc0b0fc34b8c8642cba098b5bd94"
      }
     },
     "metadata": {},
     "output_type": "display_data"
    },
    {
     "data": {
      "text/plain": "  0%|          | 0/800 [00:00<?, ?it/s]",
      "application/vnd.jupyter.widget-view+json": {
       "version_major": 2,
       "version_minor": 0,
       "model_id": "a4250b778bc94bc3a659853c2aeea3e3"
      }
     },
     "metadata": {},
     "output_type": "display_data"
    },
    {
     "data": {
      "text/plain": "  0%|          | 0/800 [00:00<?, ?it/s]",
      "application/vnd.jupyter.widget-view+json": {
       "version_major": 2,
       "version_minor": 0,
       "model_id": "f2412e5670f1461791e7bf5f6a6f9df0"
      }
     },
     "metadata": {},
     "output_type": "display_data"
    },
    {
     "data": {
      "text/plain": "  0%|          | 0/800 [00:00<?, ?it/s]",
      "application/vnd.jupyter.widget-view+json": {
       "version_major": 2,
       "version_minor": 0,
       "model_id": "bbabe3ebb062418c8cea4e845c63d3cb"
      }
     },
     "metadata": {},
     "output_type": "display_data"
    },
    {
     "data": {
      "text/plain": "  0%|          | 0/800 [00:00<?, ?it/s]",
      "application/vnd.jupyter.widget-view+json": {
       "version_major": 2,
       "version_minor": 0,
       "model_id": "5accb05759e04d8c89c0444069456b60"
      }
     },
     "metadata": {},
     "output_type": "display_data"
    },
    {
     "data": {
      "text/plain": "  0%|          | 0/800 [00:00<?, ?it/s]",
      "application/vnd.jupyter.widget-view+json": {
       "version_major": 2,
       "version_minor": 0,
       "model_id": "6891013832144b72a6a0254c794936b2"
      }
     },
     "metadata": {},
     "output_type": "display_data"
    },
    {
     "data": {
      "text/plain": "  0%|          | 0/800 [00:00<?, ?it/s]",
      "application/vnd.jupyter.widget-view+json": {
       "version_major": 2,
       "version_minor": 0,
       "model_id": "68784bc591bf41af9ea8bf92589d496a"
      }
     },
     "metadata": {},
     "output_type": "display_data"
    },
    {
     "data": {
      "text/plain": "  0%|          | 0/800 [00:00<?, ?it/s]",
      "application/vnd.jupyter.widget-view+json": {
       "version_major": 2,
       "version_minor": 0,
       "model_id": "2f455c901f4444d0934416cafb710251"
      }
     },
     "metadata": {},
     "output_type": "display_data"
    },
    {
     "data": {
      "text/plain": "  0%|          | 0/800 [00:00<?, ?it/s]",
      "application/vnd.jupyter.widget-view+json": {
       "version_major": 2,
       "version_minor": 0,
       "model_id": "3e9afbd4d4064dce8c5d0019c36f60f3"
      }
     },
     "metadata": {},
     "output_type": "display_data"
    },
    {
     "data": {
      "text/plain": "  0%|          | 0/800 [00:00<?, ?it/s]",
      "application/vnd.jupyter.widget-view+json": {
       "version_major": 2,
       "version_minor": 0,
       "model_id": "f97ced5d66fb4da3bc4abab87e3150ad"
      }
     },
     "metadata": {},
     "output_type": "display_data"
    },
    {
     "data": {
      "text/plain": "  0%|          | 0/800 [00:00<?, ?it/s]",
      "application/vnd.jupyter.widget-view+json": {
       "version_major": 2,
       "version_minor": 0,
       "model_id": "e2d0308655cb4eab89d0948a74545212"
      }
     },
     "metadata": {},
     "output_type": "display_data"
    },
    {
     "data": {
      "text/plain": "  0%|          | 0/800 [00:00<?, ?it/s]",
      "application/vnd.jupyter.widget-view+json": {
       "version_major": 2,
       "version_minor": 0,
       "model_id": "51cebab7e3864e988015d8a7103687f7"
      }
     },
     "metadata": {},
     "output_type": "display_data"
    },
    {
     "data": {
      "text/plain": "  0%|          | 0/800 [00:00<?, ?it/s]",
      "application/vnd.jupyter.widget-view+json": {
       "version_major": 2,
       "version_minor": 0,
       "model_id": "b5d062cd225b49a6b1245cda69c8ae42"
      }
     },
     "metadata": {},
     "output_type": "display_data"
    },
    {
     "data": {
      "text/plain": "  0%|          | 0/800 [00:00<?, ?it/s]",
      "application/vnd.jupyter.widget-view+json": {
       "version_major": 2,
       "version_minor": 0,
       "model_id": "133d5d9050f04b23ad95fb114155c56f"
      }
     },
     "metadata": {},
     "output_type": "display_data"
    },
    {
     "data": {
      "text/plain": "  0%|          | 0/800 [00:00<?, ?it/s]",
      "application/vnd.jupyter.widget-view+json": {
       "version_major": 2,
       "version_minor": 0,
       "model_id": "8dbccf1913f644bf913726a0e5891909"
      }
     },
     "metadata": {},
     "output_type": "display_data"
    },
    {
     "data": {
      "text/plain": "  0%|          | 0/800 [00:00<?, ?it/s]",
      "application/vnd.jupyter.widget-view+json": {
       "version_major": 2,
       "version_minor": 0,
       "model_id": "611a0cd0296f4965af26b373e3cba6f6"
      }
     },
     "metadata": {},
     "output_type": "display_data"
    },
    {
     "data": {
      "text/plain": "  0%|          | 0/800 [00:00<?, ?it/s]",
      "application/vnd.jupyter.widget-view+json": {
       "version_major": 2,
       "version_minor": 0,
       "model_id": "4cdd6e4535cf45e2b5babd89a53d3df3"
      }
     },
     "metadata": {},
     "output_type": "display_data"
    },
    {
     "data": {
      "text/plain": "  0%|          | 0/800 [00:00<?, ?it/s]",
      "application/vnd.jupyter.widget-view+json": {
       "version_major": 2,
       "version_minor": 0,
       "model_id": "ee637bfcd75c4153a9f29acc6c8c310e"
      }
     },
     "metadata": {},
     "output_type": "display_data"
    },
    {
     "data": {
      "text/plain": "  0%|          | 0/800 [00:00<?, ?it/s]",
      "application/vnd.jupyter.widget-view+json": {
       "version_major": 2,
       "version_minor": 0,
       "model_id": "0d9d5090c9bc4e4d86d70786429b243c"
      }
     },
     "metadata": {},
     "output_type": "display_data"
    },
    {
     "data": {
      "text/plain": "  0%|          | 0/800 [00:00<?, ?it/s]",
      "application/vnd.jupyter.widget-view+json": {
       "version_major": 2,
       "version_minor": 0,
       "model_id": "396887b592374c1bba18425f9947e3e6"
      }
     },
     "metadata": {},
     "output_type": "display_data"
    },
    {
     "data": {
      "text/plain": "  0%|          | 0/800 [00:00<?, ?it/s]",
      "application/vnd.jupyter.widget-view+json": {
       "version_major": 2,
       "version_minor": 0,
       "model_id": "d735805725ed422b85c543af7dbc97cd"
      }
     },
     "metadata": {},
     "output_type": "display_data"
    },
    {
     "data": {
      "text/plain": "  0%|          | 0/800 [00:00<?, ?it/s]",
      "application/vnd.jupyter.widget-view+json": {
       "version_major": 2,
       "version_minor": 0,
       "model_id": "89be73c2a4d34d2e9528c553518e2d0c"
      }
     },
     "metadata": {},
     "output_type": "display_data"
    },
    {
     "data": {
      "text/plain": "  0%|          | 0/800 [00:00<?, ?it/s]",
      "application/vnd.jupyter.widget-view+json": {
       "version_major": 2,
       "version_minor": 0,
       "model_id": "2c466cd4f15949c8b365712959521eb9"
      }
     },
     "metadata": {},
     "output_type": "display_data"
    },
    {
     "data": {
      "text/plain": "  0%|          | 0/800 [00:00<?, ?it/s]",
      "application/vnd.jupyter.widget-view+json": {
       "version_major": 2,
       "version_minor": 0,
       "model_id": "2cdff904745f44f59db26db22ea43af0"
      }
     },
     "metadata": {},
     "output_type": "display_data"
    },
    {
     "data": {
      "text/plain": "  0%|          | 0/800 [00:00<?, ?it/s]",
      "application/vnd.jupyter.widget-view+json": {
       "version_major": 2,
       "version_minor": 0,
       "model_id": "b0f6822cbdba40248485f5a0ed974085"
      }
     },
     "metadata": {},
     "output_type": "display_data"
    },
    {
     "data": {
      "text/plain": "  0%|          | 0/800 [00:00<?, ?it/s]",
      "application/vnd.jupyter.widget-view+json": {
       "version_major": 2,
       "version_minor": 0,
       "model_id": "16c3d5b79a1b4d5f9dee418db2776218"
      }
     },
     "metadata": {},
     "output_type": "display_data"
    },
    {
     "data": {
      "text/plain": "  0%|          | 0/800 [00:00<?, ?it/s]",
      "application/vnd.jupyter.widget-view+json": {
       "version_major": 2,
       "version_minor": 0,
       "model_id": "0d58bd55faa44ecd94e7001853eb4dcc"
      }
     },
     "metadata": {},
     "output_type": "display_data"
    },
    {
     "data": {
      "text/plain": "  0%|          | 0/800 [00:00<?, ?it/s]",
      "application/vnd.jupyter.widget-view+json": {
       "version_major": 2,
       "version_minor": 0,
       "model_id": "d3679241fbdc44b696b1c35a46b0cecd"
      }
     },
     "metadata": {},
     "output_type": "display_data"
    },
    {
     "data": {
      "text/plain": "  0%|          | 0/800 [00:00<?, ?it/s]",
      "application/vnd.jupyter.widget-view+json": {
       "version_major": 2,
       "version_minor": 0,
       "model_id": "f80fa7a06c614bbcb7aba597731f0ffe"
      }
     },
     "metadata": {},
     "output_type": "display_data"
    },
    {
     "data": {
      "text/plain": "  0%|          | 0/800 [00:00<?, ?it/s]",
      "application/vnd.jupyter.widget-view+json": {
       "version_major": 2,
       "version_minor": 0,
       "model_id": "55685ff5e981442faa181935a350daad"
      }
     },
     "metadata": {},
     "output_type": "display_data"
    },
    {
     "data": {
      "text/plain": "  0%|          | 0/800 [00:00<?, ?it/s]",
      "application/vnd.jupyter.widget-view+json": {
       "version_major": 2,
       "version_minor": 0,
       "model_id": "e8bdfec895654bccb2fea130fb22961b"
      }
     },
     "metadata": {},
     "output_type": "display_data"
    },
    {
     "data": {
      "text/plain": "  0%|          | 0/800 [00:00<?, ?it/s]",
      "application/vnd.jupyter.widget-view+json": {
       "version_major": 2,
       "version_minor": 0,
       "model_id": "ef0626d58ba34c56b9acb0d7dd6216cc"
      }
     },
     "metadata": {},
     "output_type": "display_data"
    },
    {
     "data": {
      "text/plain": "  0%|          | 0/800 [00:00<?, ?it/s]",
      "application/vnd.jupyter.widget-view+json": {
       "version_major": 2,
       "version_minor": 0,
       "model_id": "92a7667e5dee4b4387784b54ec56c7e0"
      }
     },
     "metadata": {},
     "output_type": "display_data"
    },
    {
     "data": {
      "text/plain": "  0%|          | 0/800 [00:00<?, ?it/s]",
      "application/vnd.jupyter.widget-view+json": {
       "version_major": 2,
       "version_minor": 0,
       "model_id": "bc02af1d57bd46b686624629a2a1acaa"
      }
     },
     "metadata": {},
     "output_type": "display_data"
    },
    {
     "data": {
      "text/plain": "  0%|          | 0/800 [00:00<?, ?it/s]",
      "application/vnd.jupyter.widget-view+json": {
       "version_major": 2,
       "version_minor": 0,
       "model_id": "b287408a6d6047038a9b6118976be879"
      }
     },
     "metadata": {},
     "output_type": "display_data"
    },
    {
     "data": {
      "text/plain": "  0%|          | 0/800 [00:00<?, ?it/s]",
      "application/vnd.jupyter.widget-view+json": {
       "version_major": 2,
       "version_minor": 0,
       "model_id": "8ad4d2a44c0a4df58aadc4dfc0fcd071"
      }
     },
     "metadata": {},
     "output_type": "display_data"
    },
    {
     "data": {
      "text/plain": "  0%|          | 0/800 [00:00<?, ?it/s]",
      "application/vnd.jupyter.widget-view+json": {
       "version_major": 2,
       "version_minor": 0,
       "model_id": "dcda089ea9ae4ee48993f9c5b772e14f"
      }
     },
     "metadata": {},
     "output_type": "display_data"
    },
    {
     "data": {
      "text/plain": "  0%|          | 0/800 [00:00<?, ?it/s]",
      "application/vnd.jupyter.widget-view+json": {
       "version_major": 2,
       "version_minor": 0,
       "model_id": "3a7ed843774f49798fe505a9bb9b0df2"
      }
     },
     "metadata": {},
     "output_type": "display_data"
    },
    {
     "data": {
      "text/plain": "  0%|          | 0/800 [00:00<?, ?it/s]",
      "application/vnd.jupyter.widget-view+json": {
       "version_major": 2,
       "version_minor": 0,
       "model_id": "8c7e8895a2cd4c4a848224bb2cb423a6"
      }
     },
     "metadata": {},
     "output_type": "display_data"
    },
    {
     "data": {
      "text/plain": "  0%|          | 0/800 [00:00<?, ?it/s]",
      "application/vnd.jupyter.widget-view+json": {
       "version_major": 2,
       "version_minor": 0,
       "model_id": "b02ee743a57341f1a9dd29af1dd0f637"
      }
     },
     "metadata": {},
     "output_type": "display_data"
    },
    {
     "data": {
      "text/plain": "  0%|          | 0/800 [00:00<?, ?it/s]",
      "application/vnd.jupyter.widget-view+json": {
       "version_major": 2,
       "version_minor": 0,
       "model_id": "cd84193e3235448b9ba26a1ca9375a72"
      }
     },
     "metadata": {},
     "output_type": "display_data"
    },
    {
     "data": {
      "text/plain": "  0%|          | 0/800 [00:00<?, ?it/s]",
      "application/vnd.jupyter.widget-view+json": {
       "version_major": 2,
       "version_minor": 0,
       "model_id": "41b6821758834427bbb429ffafea3588"
      }
     },
     "metadata": {},
     "output_type": "display_data"
    },
    {
     "data": {
      "text/plain": "  0%|          | 0/800 [00:00<?, ?it/s]",
      "application/vnd.jupyter.widget-view+json": {
       "version_major": 2,
       "version_minor": 0,
       "model_id": "dbede193f3da4892be9683b0d43a7446"
      }
     },
     "metadata": {},
     "output_type": "display_data"
    },
    {
     "data": {
      "text/plain": "  0%|          | 0/800 [00:00<?, ?it/s]",
      "application/vnd.jupyter.widget-view+json": {
       "version_major": 2,
       "version_minor": 0,
       "model_id": "25803463146f4b0abe61f096aeff3a2d"
      }
     },
     "metadata": {},
     "output_type": "display_data"
    },
    {
     "data": {
      "text/plain": "  0%|          | 0/800 [00:00<?, ?it/s]",
      "application/vnd.jupyter.widget-view+json": {
       "version_major": 2,
       "version_minor": 0,
       "model_id": "187d56dc1aa04c4db6466fcb66a31358"
      }
     },
     "metadata": {},
     "output_type": "display_data"
    },
    {
     "data": {
      "text/plain": "  0%|          | 0/800 [00:00<?, ?it/s]",
      "application/vnd.jupyter.widget-view+json": {
       "version_major": 2,
       "version_minor": 0,
       "model_id": "52095633414a4c07a2c4bff48da170fb"
      }
     },
     "metadata": {},
     "output_type": "display_data"
    },
    {
     "data": {
      "text/plain": "  0%|          | 0/800 [00:00<?, ?it/s]",
      "application/vnd.jupyter.widget-view+json": {
       "version_major": 2,
       "version_minor": 0,
       "model_id": "fc362d8a8ad142e890ed3ca05d2a780b"
      }
     },
     "metadata": {},
     "output_type": "display_data"
    },
    {
     "data": {
      "text/plain": "  0%|          | 0/800 [00:00<?, ?it/s]",
      "application/vnd.jupyter.widget-view+json": {
       "version_major": 2,
       "version_minor": 0,
       "model_id": "45d2c5d020b142e2b51335f74ded2013"
      }
     },
     "metadata": {},
     "output_type": "display_data"
    },
    {
     "data": {
      "text/plain": "  0%|          | 0/800 [00:00<?, ?it/s]",
      "application/vnd.jupyter.widget-view+json": {
       "version_major": 2,
       "version_minor": 0,
       "model_id": "90dbebfc74354a9087077b7355b16202"
      }
     },
     "metadata": {},
     "output_type": "display_data"
    },
    {
     "data": {
      "text/plain": "  0%|          | 0/800 [00:00<?, ?it/s]",
      "application/vnd.jupyter.widget-view+json": {
       "version_major": 2,
       "version_minor": 0,
       "model_id": "90851d3d702a47a79b8d9d1038f9a279"
      }
     },
     "metadata": {},
     "output_type": "display_data"
    },
    {
     "data": {
      "text/plain": "  0%|          | 0/800 [00:00<?, ?it/s]",
      "application/vnd.jupyter.widget-view+json": {
       "version_major": 2,
       "version_minor": 0,
       "model_id": "a9489fc9a386452eb1a6f28db674dc2b"
      }
     },
     "metadata": {},
     "output_type": "display_data"
    },
    {
     "data": {
      "text/plain": "  0%|          | 0/800 [00:00<?, ?it/s]",
      "application/vnd.jupyter.widget-view+json": {
       "version_major": 2,
       "version_minor": 0,
       "model_id": "cc80cc64b2bf4364b3d1fe0c8b0c6dfa"
      }
     },
     "metadata": {},
     "output_type": "display_data"
    },
    {
     "data": {
      "text/plain": "  0%|          | 0/800 [00:00<?, ?it/s]",
      "application/vnd.jupyter.widget-view+json": {
       "version_major": 2,
       "version_minor": 0,
       "model_id": "38c8cfc6aab54a3498984a089e68f31b"
      }
     },
     "metadata": {},
     "output_type": "display_data"
    },
    {
     "data": {
      "text/plain": "  0%|          | 0/800 [00:00<?, ?it/s]",
      "application/vnd.jupyter.widget-view+json": {
       "version_major": 2,
       "version_minor": 0,
       "model_id": "fe5358d262f64c17a1c0380f1774a09c"
      }
     },
     "metadata": {},
     "output_type": "display_data"
    },
    {
     "data": {
      "text/plain": "  0%|          | 0/800 [00:00<?, ?it/s]",
      "application/vnd.jupyter.widget-view+json": {
       "version_major": 2,
       "version_minor": 0,
       "model_id": "6bd1a109d1634d7bb7bee0eb2c498c8d"
      }
     },
     "metadata": {},
     "output_type": "display_data"
    },
    {
     "data": {
      "text/plain": "  0%|          | 0/800 [00:00<?, ?it/s]",
      "application/vnd.jupyter.widget-view+json": {
       "version_major": 2,
       "version_minor": 0,
       "model_id": "3d92a89a92c0453ea788ce02ce3e7a4b"
      }
     },
     "metadata": {},
     "output_type": "display_data"
    },
    {
     "data": {
      "text/plain": "  0%|          | 0/800 [00:00<?, ?it/s]",
      "application/vnd.jupyter.widget-view+json": {
       "version_major": 2,
       "version_minor": 0,
       "model_id": "ffb49b79f3764a0e82d80a6b360a3d2e"
      }
     },
     "metadata": {},
     "output_type": "display_data"
    },
    {
     "data": {
      "text/plain": "  0%|          | 0/800 [00:00<?, ?it/s]",
      "application/vnd.jupyter.widget-view+json": {
       "version_major": 2,
       "version_minor": 0,
       "model_id": "ee4364b4a9dd4905b09b6732b24864fa"
      }
     },
     "metadata": {},
     "output_type": "display_data"
    },
    {
     "data": {
      "text/plain": "  0%|          | 0/800 [00:00<?, ?it/s]",
      "application/vnd.jupyter.widget-view+json": {
       "version_major": 2,
       "version_minor": 0,
       "model_id": "c728ba3f90414d1bae96f376631bf634"
      }
     },
     "metadata": {},
     "output_type": "display_data"
    },
    {
     "data": {
      "text/plain": "  0%|          | 0/800 [00:00<?, ?it/s]",
      "application/vnd.jupyter.widget-view+json": {
       "version_major": 2,
       "version_minor": 0,
       "model_id": "4ad037a3ebf64fcd9c8e3c95d69af37b"
      }
     },
     "metadata": {},
     "output_type": "display_data"
    },
    {
     "data": {
      "text/plain": "  0%|          | 0/800 [00:00<?, ?it/s]",
      "application/vnd.jupyter.widget-view+json": {
       "version_major": 2,
       "version_minor": 0,
       "model_id": "58c8274ef8dc40bd8c8995b4f4181e85"
      }
     },
     "metadata": {},
     "output_type": "display_data"
    },
    {
     "data": {
      "text/plain": "  0%|          | 0/800 [00:00<?, ?it/s]",
      "application/vnd.jupyter.widget-view+json": {
       "version_major": 2,
       "version_minor": 0,
       "model_id": "51460854d2a94071a31f71bc3b385804"
      }
     },
     "metadata": {},
     "output_type": "display_data"
    },
    {
     "data": {
      "text/plain": "  0%|          | 0/800 [00:00<?, ?it/s]",
      "application/vnd.jupyter.widget-view+json": {
       "version_major": 2,
       "version_minor": 0,
       "model_id": "00e72d6e65f54bc09d384e5b1f5cfe0f"
      }
     },
     "metadata": {},
     "output_type": "display_data"
    },
    {
     "data": {
      "text/plain": "  0%|          | 0/800 [00:00<?, ?it/s]",
      "application/vnd.jupyter.widget-view+json": {
       "version_major": 2,
       "version_minor": 0,
       "model_id": "7b4683f075744abf9a3e25bfe37b839a"
      }
     },
     "metadata": {},
     "output_type": "display_data"
    },
    {
     "data": {
      "text/plain": "  0%|          | 0/800 [00:00<?, ?it/s]",
      "application/vnd.jupyter.widget-view+json": {
       "version_major": 2,
       "version_minor": 0,
       "model_id": "e5ffb951c0cd457b9cb4b2e7e459314a"
      }
     },
     "metadata": {},
     "output_type": "display_data"
    },
    {
     "data": {
      "text/plain": "  0%|          | 0/800 [00:00<?, ?it/s]",
      "application/vnd.jupyter.widget-view+json": {
       "version_major": 2,
       "version_minor": 0,
       "model_id": "9b87bcb70c124ee3822877ec8be91c98"
      }
     },
     "metadata": {},
     "output_type": "display_data"
    },
    {
     "data": {
      "text/plain": "  0%|          | 0/800 [00:00<?, ?it/s]",
      "application/vnd.jupyter.widget-view+json": {
       "version_major": 2,
       "version_minor": 0,
       "model_id": "7216c45636a6491b8e0b0ded7f52129e"
      }
     },
     "metadata": {},
     "output_type": "display_data"
    },
    {
     "data": {
      "text/plain": "  0%|          | 0/800 [00:00<?, ?it/s]",
      "application/vnd.jupyter.widget-view+json": {
       "version_major": 2,
       "version_minor": 0,
       "model_id": "d1ecd6f983a44967be9ad876537da762"
      }
     },
     "metadata": {},
     "output_type": "display_data"
    },
    {
     "data": {
      "text/plain": "  0%|          | 0/800 [00:00<?, ?it/s]",
      "application/vnd.jupyter.widget-view+json": {
       "version_major": 2,
       "version_minor": 0,
       "model_id": "88243eaaaa554fff84d9172c9d808760"
      }
     },
     "metadata": {},
     "output_type": "display_data"
    },
    {
     "data": {
      "text/plain": "  0%|          | 0/800 [00:00<?, ?it/s]",
      "application/vnd.jupyter.widget-view+json": {
       "version_major": 2,
       "version_minor": 0,
       "model_id": "764d979d51bc49739404efd4d2e2b6d4"
      }
     },
     "metadata": {},
     "output_type": "display_data"
    },
    {
     "data": {
      "text/plain": "  0%|          | 0/800 [00:00<?, ?it/s]",
      "application/vnd.jupyter.widget-view+json": {
       "version_major": 2,
       "version_minor": 0,
       "model_id": "bb477ff7ff894689904a9a92f8fe5842"
      }
     },
     "metadata": {},
     "output_type": "display_data"
    },
    {
     "data": {
      "text/plain": "  0%|          | 0/800 [00:00<?, ?it/s]",
      "application/vnd.jupyter.widget-view+json": {
       "version_major": 2,
       "version_minor": 0,
       "model_id": "32198ce179dd428ab2d6e4ad714cc2fd"
      }
     },
     "metadata": {},
     "output_type": "display_data"
    },
    {
     "data": {
      "text/plain": "  0%|          | 0/800 [00:00<?, ?it/s]",
      "application/vnd.jupyter.widget-view+json": {
       "version_major": 2,
       "version_minor": 0,
       "model_id": "3d3b260158e648918e358d99dd4a67c2"
      }
     },
     "metadata": {},
     "output_type": "display_data"
    },
    {
     "data": {
      "text/plain": "  0%|          | 0/800 [00:00<?, ?it/s]",
      "application/vnd.jupyter.widget-view+json": {
       "version_major": 2,
       "version_minor": 0,
       "model_id": "031ba2c273b14c9db19bf80acd953678"
      }
     },
     "metadata": {},
     "output_type": "display_data"
    },
    {
     "data": {
      "text/plain": "  0%|          | 0/800 [00:00<?, ?it/s]",
      "application/vnd.jupyter.widget-view+json": {
       "version_major": 2,
       "version_minor": 0,
       "model_id": "d2b2c8b2253b4ccc9cab166c3f432679"
      }
     },
     "metadata": {},
     "output_type": "display_data"
    },
    {
     "data": {
      "text/plain": "  0%|          | 0/800 [00:00<?, ?it/s]",
      "application/vnd.jupyter.widget-view+json": {
       "version_major": 2,
       "version_minor": 0,
       "model_id": "1fd8d4dfb32a443d944ec0728b1a55f3"
      }
     },
     "metadata": {},
     "output_type": "display_data"
    },
    {
     "data": {
      "text/plain": "  0%|          | 0/800 [00:00<?, ?it/s]",
      "application/vnd.jupyter.widget-view+json": {
       "version_major": 2,
       "version_minor": 0,
       "model_id": "656f1198f8904ecfb5f17cfd9c856d6b"
      }
     },
     "metadata": {},
     "output_type": "display_data"
    },
    {
     "data": {
      "text/plain": "  0%|          | 0/800 [00:00<?, ?it/s]",
      "application/vnd.jupyter.widget-view+json": {
       "version_major": 2,
       "version_minor": 0,
       "model_id": "8e90af720ae94eaeada002e241fa4379"
      }
     },
     "metadata": {},
     "output_type": "display_data"
    },
    {
     "data": {
      "text/plain": "  0%|          | 0/800 [00:00<?, ?it/s]",
      "application/vnd.jupyter.widget-view+json": {
       "version_major": 2,
       "version_minor": 0,
       "model_id": "54e39516ada6418886e39df95f5f1e9c"
      }
     },
     "metadata": {},
     "output_type": "display_data"
    },
    {
     "data": {
      "text/plain": "  0%|          | 0/800 [00:00<?, ?it/s]",
      "application/vnd.jupyter.widget-view+json": {
       "version_major": 2,
       "version_minor": 0,
       "model_id": "38f0cb1f7c4a4c3f81e65fbcf290bc4c"
      }
     },
     "metadata": {},
     "output_type": "display_data"
    },
    {
     "data": {
      "text/plain": "  0%|          | 0/800 [00:00<?, ?it/s]",
      "application/vnd.jupyter.widget-view+json": {
       "version_major": 2,
       "version_minor": 0,
       "model_id": "0925bc8922b74a65802b417a8e68da3b"
      }
     },
     "metadata": {},
     "output_type": "display_data"
    },
    {
     "data": {
      "text/plain": "  0%|          | 0/800 [00:00<?, ?it/s]",
      "application/vnd.jupyter.widget-view+json": {
       "version_major": 2,
       "version_minor": 0,
       "model_id": "b457572ea552464c893052607a25ca2d"
      }
     },
     "metadata": {},
     "output_type": "display_data"
    },
    {
     "data": {
      "text/plain": "  0%|          | 0/800 [00:00<?, ?it/s]",
      "application/vnd.jupyter.widget-view+json": {
       "version_major": 2,
       "version_minor": 0,
       "model_id": "2b4248f4017a496b9f1811ad23cabe87"
      }
     },
     "metadata": {},
     "output_type": "display_data"
    },
    {
     "data": {
      "text/plain": "  0%|          | 0/800 [00:00<?, ?it/s]",
      "application/vnd.jupyter.widget-view+json": {
       "version_major": 2,
       "version_minor": 0,
       "model_id": "511658e7dea343fa947cc50de2ff620c"
      }
     },
     "metadata": {},
     "output_type": "display_data"
    },
    {
     "data": {
      "text/plain": "  0%|          | 0/800 [00:00<?, ?it/s]",
      "application/vnd.jupyter.widget-view+json": {
       "version_major": 2,
       "version_minor": 0,
       "model_id": "956b5bdb2d0744ee9ac297a210500640"
      }
     },
     "metadata": {},
     "output_type": "display_data"
    },
    {
     "data": {
      "text/plain": "  0%|          | 0/800 [00:00<?, ?it/s]",
      "application/vnd.jupyter.widget-view+json": {
       "version_major": 2,
       "version_minor": 0,
       "model_id": "3912543a595d4c56bd718b8548028175"
      }
     },
     "metadata": {},
     "output_type": "display_data"
    },
    {
     "data": {
      "text/plain": "  0%|          | 0/800 [00:00<?, ?it/s]",
      "application/vnd.jupyter.widget-view+json": {
       "version_major": 2,
       "version_minor": 0,
       "model_id": "0514fe5d3a27474c857be30286754ffc"
      }
     },
     "metadata": {},
     "output_type": "display_data"
    },
    {
     "data": {
      "text/plain": "  0%|          | 0/800 [00:00<?, ?it/s]",
      "application/vnd.jupyter.widget-view+json": {
       "version_major": 2,
       "version_minor": 0,
       "model_id": "da578e239d674cd4bdfc9e931d11a700"
      }
     },
     "metadata": {},
     "output_type": "display_data"
    },
    {
     "data": {
      "text/plain": "  0%|          | 0/800 [00:00<?, ?it/s]",
      "application/vnd.jupyter.widget-view+json": {
       "version_major": 2,
       "version_minor": 0,
       "model_id": "61f0e4064ed845fcacb732045c9b47c1"
      }
     },
     "metadata": {},
     "output_type": "display_data"
    },
    {
     "data": {
      "text/plain": "  0%|          | 0/800 [00:00<?, ?it/s]",
      "application/vnd.jupyter.widget-view+json": {
       "version_major": 2,
       "version_minor": 0,
       "model_id": "3af0573a86634a578a19bcfc1c937093"
      }
     },
     "metadata": {},
     "output_type": "display_data"
    },
    {
     "data": {
      "text/plain": "  0%|          | 0/800 [00:00<?, ?it/s]",
      "application/vnd.jupyter.widget-view+json": {
       "version_major": 2,
       "version_minor": 0,
       "model_id": "ccfde21805fa4221b9720981f7b8b9dd"
      }
     },
     "metadata": {},
     "output_type": "display_data"
    },
    {
     "data": {
      "text/plain": "  0%|          | 0/800 [00:00<?, ?it/s]",
      "application/vnd.jupyter.widget-view+json": {
       "version_major": 2,
       "version_minor": 0,
       "model_id": "c3d9abeffab44266ab921dc3cb959538"
      }
     },
     "metadata": {},
     "output_type": "display_data"
    },
    {
     "data": {
      "text/plain": "  0%|          | 0/800 [00:00<?, ?it/s]",
      "application/vnd.jupyter.widget-view+json": {
       "version_major": 2,
       "version_minor": 0,
       "model_id": "e80051c876ce457b810d5c34c81b0494"
      }
     },
     "metadata": {},
     "output_type": "display_data"
    },
    {
     "data": {
      "text/plain": "  0%|          | 0/800 [00:00<?, ?it/s]",
      "application/vnd.jupyter.widget-view+json": {
       "version_major": 2,
       "version_minor": 0,
       "model_id": "b8ab661b246446c5a7aeef3e0f95df9b"
      }
     },
     "metadata": {},
     "output_type": "display_data"
    },
    {
     "data": {
      "text/plain": "  0%|          | 0/800 [00:00<?, ?it/s]",
      "application/vnd.jupyter.widget-view+json": {
       "version_major": 2,
       "version_minor": 0,
       "model_id": "dc4ee5e4b63841b89256161b5bb3ea8a"
      }
     },
     "metadata": {},
     "output_type": "display_data"
    },
    {
     "data": {
      "text/plain": "  0%|          | 0/800 [00:00<?, ?it/s]",
      "application/vnd.jupyter.widget-view+json": {
       "version_major": 2,
       "version_minor": 0,
       "model_id": "aad1814b2cd7469b9ee699e10e9089f3"
      }
     },
     "metadata": {},
     "output_type": "display_data"
    },
    {
     "data": {
      "text/plain": "  0%|          | 0/800 [00:00<?, ?it/s]",
      "application/vnd.jupyter.widget-view+json": {
       "version_major": 2,
       "version_minor": 0,
       "model_id": "1a28065c1dc54019a9934d5f9a742c3c"
      }
     },
     "metadata": {},
     "output_type": "display_data"
    },
    {
     "data": {
      "text/plain": "  0%|          | 0/800 [00:00<?, ?it/s]",
      "application/vnd.jupyter.widget-view+json": {
       "version_major": 2,
       "version_minor": 0,
       "model_id": "45ca805644a64fa2aa75e007b7e742d6"
      }
     },
     "metadata": {},
     "output_type": "display_data"
    },
    {
     "data": {
      "text/plain": "  0%|          | 0/800 [00:00<?, ?it/s]",
      "application/vnd.jupyter.widget-view+json": {
       "version_major": 2,
       "version_minor": 0,
       "model_id": "dbeca0d744c34fa18637b96086ea027c"
      }
     },
     "metadata": {},
     "output_type": "display_data"
    },
    {
     "data": {
      "text/plain": "  0%|          | 0/800 [00:00<?, ?it/s]",
      "application/vnd.jupyter.widget-view+json": {
       "version_major": 2,
       "version_minor": 0,
       "model_id": "6ccb3fda0e6f4182a77e53b9c0b855ab"
      }
     },
     "metadata": {},
     "output_type": "display_data"
    },
    {
     "data": {
      "text/plain": "  0%|          | 0/800 [00:00<?, ?it/s]",
      "application/vnd.jupyter.widget-view+json": {
       "version_major": 2,
       "version_minor": 0,
       "model_id": "b1356fa80db8454a9b2d69e16f932422"
      }
     },
     "metadata": {},
     "output_type": "display_data"
    },
    {
     "data": {
      "text/plain": "  0%|          | 0/800 [00:00<?, ?it/s]",
      "application/vnd.jupyter.widget-view+json": {
       "version_major": 2,
       "version_minor": 0,
       "model_id": "cd12a7dd8f7d44bbb5274514851b913a"
      }
     },
     "metadata": {},
     "output_type": "display_data"
    },
    {
     "data": {
      "text/plain": "  0%|          | 0/800 [00:00<?, ?it/s]",
      "application/vnd.jupyter.widget-view+json": {
       "version_major": 2,
       "version_minor": 0,
       "model_id": "94e7b78f331149969a53a303dda31f87"
      }
     },
     "metadata": {},
     "output_type": "display_data"
    },
    {
     "data": {
      "text/plain": "  0%|          | 0/800 [00:00<?, ?it/s]",
      "application/vnd.jupyter.widget-view+json": {
       "version_major": 2,
       "version_minor": 0,
       "model_id": "336f59897ad44f9787bdbac1a3506817"
      }
     },
     "metadata": {},
     "output_type": "display_data"
    },
    {
     "data": {
      "text/plain": "  0%|          | 0/800 [00:00<?, ?it/s]",
      "application/vnd.jupyter.widget-view+json": {
       "version_major": 2,
       "version_minor": 0,
       "model_id": "4fedc8ab025249908edcccd7088e34b1"
      }
     },
     "metadata": {},
     "output_type": "display_data"
    },
    {
     "data": {
      "text/plain": "  0%|          | 0/800 [00:00<?, ?it/s]",
      "application/vnd.jupyter.widget-view+json": {
       "version_major": 2,
       "version_minor": 0,
       "model_id": "4d88eb9eb6e64772b26b47a35292db24"
      }
     },
     "metadata": {},
     "output_type": "display_data"
    },
    {
     "data": {
      "text/plain": "  0%|          | 0/800 [00:00<?, ?it/s]",
      "application/vnd.jupyter.widget-view+json": {
       "version_major": 2,
       "version_minor": 0,
       "model_id": "a7fcc1b0413f4d68b3749a8b1a7a8a04"
      }
     },
     "metadata": {},
     "output_type": "display_data"
    },
    {
     "data": {
      "text/plain": "  0%|          | 0/800 [00:00<?, ?it/s]",
      "application/vnd.jupyter.widget-view+json": {
       "version_major": 2,
       "version_minor": 0,
       "model_id": "28ab98be9c704d9dafc2deb34bbe6ef4"
      }
     },
     "metadata": {},
     "output_type": "display_data"
    },
    {
     "data": {
      "text/plain": "  0%|          | 0/800 [00:00<?, ?it/s]",
      "application/vnd.jupyter.widget-view+json": {
       "version_major": 2,
       "version_minor": 0,
       "model_id": "5bb3cd1151b44770a4b24068e3a2ffe2"
      }
     },
     "metadata": {},
     "output_type": "display_data"
    },
    {
     "data": {
      "text/plain": "  0%|          | 0/800 [00:00<?, ?it/s]",
      "application/vnd.jupyter.widget-view+json": {
       "version_major": 2,
       "version_minor": 0,
       "model_id": "e86e3e91eabc4d2c87ae1d6b5ca5eb68"
      }
     },
     "metadata": {},
     "output_type": "display_data"
    },
    {
     "data": {
      "text/plain": "  0%|          | 0/800 [00:00<?, ?it/s]",
      "application/vnd.jupyter.widget-view+json": {
       "version_major": 2,
       "version_minor": 0,
       "model_id": "c6c0df5b40234cf4ab38bd55eb719d8f"
      }
     },
     "metadata": {},
     "output_type": "display_data"
    },
    {
     "data": {
      "text/plain": "  0%|          | 0/800 [00:00<?, ?it/s]",
      "application/vnd.jupyter.widget-view+json": {
       "version_major": 2,
       "version_minor": 0,
       "model_id": "4fb0c77f42c148258e07ed7d1af2fac0"
      }
     },
     "metadata": {},
     "output_type": "display_data"
    },
    {
     "data": {
      "text/plain": "  0%|          | 0/800 [00:00<?, ?it/s]",
      "application/vnd.jupyter.widget-view+json": {
       "version_major": 2,
       "version_minor": 0,
       "model_id": "16ca3c28624e49a58e0107a397b0ae35"
      }
     },
     "metadata": {},
     "output_type": "display_data"
    },
    {
     "data": {
      "text/plain": "  0%|          | 0/800 [00:00<?, ?it/s]",
      "application/vnd.jupyter.widget-view+json": {
       "version_major": 2,
       "version_minor": 0,
       "model_id": "172a53383fc74e588ed59065806c1f21"
      }
     },
     "metadata": {},
     "output_type": "display_data"
    },
    {
     "data": {
      "text/plain": "  0%|          | 0/800 [00:00<?, ?it/s]",
      "application/vnd.jupyter.widget-view+json": {
       "version_major": 2,
       "version_minor": 0,
       "model_id": "7c5890c5667d438cb470264b16d8df58"
      }
     },
     "metadata": {},
     "output_type": "display_data"
    },
    {
     "data": {
      "text/plain": "  0%|          | 0/800 [00:00<?, ?it/s]",
      "application/vnd.jupyter.widget-view+json": {
       "version_major": 2,
       "version_minor": 0,
       "model_id": "2dd578c57d734c82bca491dd7061012a"
      }
     },
     "metadata": {},
     "output_type": "display_data"
    },
    {
     "data": {
      "text/plain": "  0%|          | 0/800 [00:00<?, ?it/s]",
      "application/vnd.jupyter.widget-view+json": {
       "version_major": 2,
       "version_minor": 0,
       "model_id": "c0c82a1703b54657ac2f743723e3208d"
      }
     },
     "metadata": {},
     "output_type": "display_data"
    },
    {
     "data": {
      "text/plain": "  0%|          | 0/800 [00:00<?, ?it/s]",
      "application/vnd.jupyter.widget-view+json": {
       "version_major": 2,
       "version_minor": 0,
       "model_id": "55799e0f566d45c7baaac3ba04da8105"
      }
     },
     "metadata": {},
     "output_type": "display_data"
    },
    {
     "data": {
      "text/plain": "  0%|          | 0/800 [00:00<?, ?it/s]",
      "application/vnd.jupyter.widget-view+json": {
       "version_major": 2,
       "version_minor": 0,
       "model_id": "045efc2e13274f26adc2beae598fd10c"
      }
     },
     "metadata": {},
     "output_type": "display_data"
    },
    {
     "data": {
      "text/plain": "  0%|          | 0/800 [00:00<?, ?it/s]",
      "application/vnd.jupyter.widget-view+json": {
       "version_major": 2,
       "version_minor": 0,
       "model_id": "cc7bc618034a4fbeadad2400efb22d06"
      }
     },
     "metadata": {},
     "output_type": "display_data"
    },
    {
     "data": {
      "text/plain": "  0%|          | 0/800 [00:00<?, ?it/s]",
      "application/vnd.jupyter.widget-view+json": {
       "version_major": 2,
       "version_minor": 0,
       "model_id": "01fd2468962546bcbee7eef77058a72c"
      }
     },
     "metadata": {},
     "output_type": "display_data"
    },
    {
     "data": {
      "text/plain": "  0%|          | 0/800 [00:00<?, ?it/s]",
      "application/vnd.jupyter.widget-view+json": {
       "version_major": 2,
       "version_minor": 0,
       "model_id": "1bfc6dfdcb924d7ba4cd3c3dedc705d2"
      }
     },
     "metadata": {},
     "output_type": "display_data"
    },
    {
     "data": {
      "text/plain": "  0%|          | 0/800 [00:00<?, ?it/s]",
      "application/vnd.jupyter.widget-view+json": {
       "version_major": 2,
       "version_minor": 0,
       "model_id": "8ef33f98d55d4a81876604d517c42207"
      }
     },
     "metadata": {},
     "output_type": "display_data"
    },
    {
     "data": {
      "text/plain": "  0%|          | 0/800 [00:00<?, ?it/s]",
      "application/vnd.jupyter.widget-view+json": {
       "version_major": 2,
       "version_minor": 0,
       "model_id": "7a9cda7ff8f74c55b7eeb2733d0d2031"
      }
     },
     "metadata": {},
     "output_type": "display_data"
    },
    {
     "data": {
      "text/plain": "  0%|          | 0/800 [00:00<?, ?it/s]",
      "application/vnd.jupyter.widget-view+json": {
       "version_major": 2,
       "version_minor": 0,
       "model_id": "121dcee94055410aa960b61f31714943"
      }
     },
     "metadata": {},
     "output_type": "display_data"
    },
    {
     "data": {
      "text/plain": "  0%|          | 0/800 [00:00<?, ?it/s]",
      "application/vnd.jupyter.widget-view+json": {
       "version_major": 2,
       "version_minor": 0,
       "model_id": "11283fe08f6c49aaadd2c4d4e1d98532"
      }
     },
     "metadata": {},
     "output_type": "display_data"
    },
    {
     "data": {
      "text/plain": "  0%|          | 0/800 [00:00<?, ?it/s]",
      "application/vnd.jupyter.widget-view+json": {
       "version_major": 2,
       "version_minor": 0,
       "model_id": "8afbacdee5dc49b5a7219c215f7cbddb"
      }
     },
     "metadata": {},
     "output_type": "display_data"
    },
    {
     "data": {
      "text/plain": "  0%|          | 0/800 [00:00<?, ?it/s]",
      "application/vnd.jupyter.widget-view+json": {
       "version_major": 2,
       "version_minor": 0,
       "model_id": "610a6b0b50ce443fa90e61b86b533ddd"
      }
     },
     "metadata": {},
     "output_type": "display_data"
    },
    {
     "data": {
      "text/plain": "  0%|          | 0/800 [00:00<?, ?it/s]",
      "application/vnd.jupyter.widget-view+json": {
       "version_major": 2,
       "version_minor": 0,
       "model_id": "557c923f80a04fbd9a9b50fb29f40f2c"
      }
     },
     "metadata": {},
     "output_type": "display_data"
    },
    {
     "data": {
      "text/plain": "  0%|          | 0/800 [00:00<?, ?it/s]",
      "application/vnd.jupyter.widget-view+json": {
       "version_major": 2,
       "version_minor": 0,
       "model_id": "2ff629ed149e446e912609caa7e6c50a"
      }
     },
     "metadata": {},
     "output_type": "display_data"
    },
    {
     "data": {
      "text/plain": "  0%|          | 0/800 [00:00<?, ?it/s]",
      "application/vnd.jupyter.widget-view+json": {
       "version_major": 2,
       "version_minor": 0,
       "model_id": "b60dffca7f0b42118cd99c3b9b8c27e5"
      }
     },
     "metadata": {},
     "output_type": "display_data"
    },
    {
     "data": {
      "text/plain": "  0%|          | 0/800 [00:00<?, ?it/s]",
      "application/vnd.jupyter.widget-view+json": {
       "version_major": 2,
       "version_minor": 0,
       "model_id": "c1fe8fe738e647c5abc8f9623831bba4"
      }
     },
     "metadata": {},
     "output_type": "display_data"
    },
    {
     "data": {
      "text/plain": "  0%|          | 0/800 [00:00<?, ?it/s]",
      "application/vnd.jupyter.widget-view+json": {
       "version_major": 2,
       "version_minor": 0,
       "model_id": "6af6dbdcddb947279711c8d72a21c930"
      }
     },
     "metadata": {},
     "output_type": "display_data"
    },
    {
     "data": {
      "text/plain": "  0%|          | 0/800 [00:00<?, ?it/s]",
      "application/vnd.jupyter.widget-view+json": {
       "version_major": 2,
       "version_minor": 0,
       "model_id": "2a8aff96c4664734ba3379a224305ad3"
      }
     },
     "metadata": {},
     "output_type": "display_data"
    },
    {
     "data": {
      "text/plain": "  0%|          | 0/800 [00:00<?, ?it/s]",
      "application/vnd.jupyter.widget-view+json": {
       "version_major": 2,
       "version_minor": 0,
       "model_id": "02f20a34c35d4e3d99f8747218a01f2d"
      }
     },
     "metadata": {},
     "output_type": "display_data"
    },
    {
     "ename": "KeyboardInterrupt",
     "evalue": "",
     "output_type": "error",
     "traceback": [
      "\u001B[0;31m---------------------------------------------------------------------------\u001B[0m",
      "\u001B[0;31mKeyError\u001B[0m                                  Traceback (most recent call last)",
      "\u001B[0;32m~/opt/anaconda3/envs/nn/lib/python3.7/site-packages/traitlets/traitlets.py\u001B[0m in \u001B[0;36mget\u001B[0;34m(self, obj, cls)\u001B[0m\n\u001B[1;32m    534\u001B[0m         \u001B[0;32mtry\u001B[0m\u001B[0;34m:\u001B[0m\u001B[0;34m\u001B[0m\u001B[0;34m\u001B[0m\u001B[0m\n\u001B[0;32m--> 535\u001B[0;31m             \u001B[0mvalue\u001B[0m \u001B[0;34m=\u001B[0m \u001B[0mobj\u001B[0m\u001B[0;34m.\u001B[0m\u001B[0m_trait_values\u001B[0m\u001B[0;34m[\u001B[0m\u001B[0mself\u001B[0m\u001B[0;34m.\u001B[0m\u001B[0mname\u001B[0m\u001B[0;34m]\u001B[0m\u001B[0;34m\u001B[0m\u001B[0;34m\u001B[0m\u001B[0m\n\u001B[0m\u001B[1;32m    536\u001B[0m         \u001B[0;32mexcept\u001B[0m \u001B[0mKeyError\u001B[0m\u001B[0;34m:\u001B[0m\u001B[0;34m\u001B[0m\u001B[0;34m\u001B[0m\u001B[0m\n",
      "\u001B[0;31mKeyError\u001B[0m: 'layout'",
      "\nDuring handling of the above exception, another exception occurred:\n",
      "\u001B[0;31mKeyError\u001B[0m                                  Traceback (most recent call last)",
      "\u001B[0;32m~/opt/anaconda3/envs/nn/lib/python3.7/site-packages/traitlets/traitlets.py\u001B[0m in \u001B[0;36mget\u001B[0;34m(self, obj, cls)\u001B[0m\n\u001B[1;32m    534\u001B[0m         \u001B[0;32mtry\u001B[0m\u001B[0;34m:\u001B[0m\u001B[0;34m\u001B[0m\u001B[0;34m\u001B[0m\u001B[0m\n\u001B[0;32m--> 535\u001B[0;31m             \u001B[0mvalue\u001B[0m \u001B[0;34m=\u001B[0m \u001B[0mobj\u001B[0m\u001B[0;34m.\u001B[0m\u001B[0m_trait_values\u001B[0m\u001B[0;34m[\u001B[0m\u001B[0mself\u001B[0m\u001B[0;34m.\u001B[0m\u001B[0mname\u001B[0m\u001B[0;34m]\u001B[0m\u001B[0;34m\u001B[0m\u001B[0;34m\u001B[0m\u001B[0m\n\u001B[0m\u001B[1;32m    536\u001B[0m         \u001B[0;32mexcept\u001B[0m \u001B[0mKeyError\u001B[0m\u001B[0;34m:\u001B[0m\u001B[0;34m\u001B[0m\u001B[0;34m\u001B[0m\u001B[0m\n",
      "\u001B[0;31mKeyError\u001B[0m: 'keys'",
      "\nDuring handling of the above exception, another exception occurred:\n",
      "\u001B[0;31mKeyboardInterrupt\u001B[0m                         Traceback (most recent call last)",
      "\u001B[0;32m<ipython-input-21-31c1735ebdfc>\u001B[0m in \u001B[0;36m<module>\u001B[0;34m\u001B[0m\n\u001B[1;32m      6\u001B[0m \u001B[0;32mfor\u001B[0m \u001B[0mi\u001B[0m \u001B[0;32min\u001B[0m \u001B[0mrange\u001B[0m\u001B[0;34m(\u001B[0m\u001B[0;36m10\u001B[0m\u001B[0;34m)\u001B[0m\u001B[0;34m:\u001B[0m\u001B[0;34m\u001B[0m\u001B[0;34m\u001B[0m\u001B[0m\n\u001B[1;32m      7\u001B[0m     disc_loss, gen_loss = training_bce(gen, disc, z_dim, epoch_step, my_dataloader,\n\u001B[0;32m----> 8\u001B[0;31m                                        device, disc_opt, gen_opt, display_step)\n\u001B[0m\u001B[1;32m      9\u001B[0m     \u001B[0mtotal_epoch\u001B[0m \u001B[0;34m+=\u001B[0m \u001B[0mepoch_step\u001B[0m\u001B[0;34m\u001B[0m\u001B[0;34m\u001B[0m\u001B[0m\n\u001B[1;32m     10\u001B[0m     \u001B[0mpro_out\u001B[0m\u001B[0;34m.\u001B[0m\u001B[0msave_model\u001B[0m\u001B[0;34m(\u001B[0m\u001B[0mgen\u001B[0m\u001B[0;34m,\u001B[0m \u001B[0mdisc\u001B[0m\u001B[0;34m,\u001B[0m \u001B[0;34m'four_one_hot/model'\u001B[0m\u001B[0;34m,\u001B[0m \u001B[0mtotal_epoch\u001B[0m\u001B[0;34m)\u001B[0m\u001B[0;34m\u001B[0m\u001B[0;34m\u001B[0m\u001B[0m\n",
      "\u001B[0;32m~/Developer/intro_GANs/gansForPolymer/Naicheng/res/fnn/training.py\u001B[0m in \u001B[0;36mtraining_bce\u001B[0;34m(gen, disc, z_dim, n_epochs, dataloader, device, disc_opt, gen_opt, display_step)\u001B[0m\n\u001B[1;32m     20\u001B[0m     \u001B[0;32mfor\u001B[0m \u001B[0mepoch\u001B[0m \u001B[0;32min\u001B[0m \u001B[0mrange\u001B[0m\u001B[0;34m(\u001B[0m\u001B[0mn_epochs\u001B[0m\u001B[0;34m)\u001B[0m\u001B[0;34m:\u001B[0m\u001B[0;34m\u001B[0m\u001B[0;34m\u001B[0m\u001B[0m\n\u001B[1;32m     21\u001B[0m \u001B[0;34m\u001B[0m\u001B[0m\n\u001B[0;32m---> 22\u001B[0;31m         \u001B[0;32mfor\u001B[0m \u001B[0mreal\u001B[0m\u001B[0;34m,\u001B[0m \u001B[0m_\u001B[0m \u001B[0;32min\u001B[0m \u001B[0mtqdm\u001B[0m\u001B[0;34m(\u001B[0m\u001B[0mdataloader\u001B[0m\u001B[0;34m)\u001B[0m\u001B[0;34m:\u001B[0m\u001B[0;34m\u001B[0m\u001B[0;34m\u001B[0m\u001B[0m\n\u001B[0m\u001B[1;32m     23\u001B[0m             \u001B[0mcur_batch_size\u001B[0m \u001B[0;34m=\u001B[0m \u001B[0mlen\u001B[0m\u001B[0;34m(\u001B[0m\u001B[0mreal\u001B[0m\u001B[0;34m)\u001B[0m\u001B[0;34m\u001B[0m\u001B[0;34m\u001B[0m\u001B[0m\n\u001B[1;32m     24\u001B[0m             \u001B[0mreal\u001B[0m \u001B[0;34m=\u001B[0m \u001B[0mreal\u001B[0m\u001B[0;34m.\u001B[0m\u001B[0mview\u001B[0m\u001B[0;34m(\u001B[0m\u001B[0mcur_batch_size\u001B[0m\u001B[0;34m,\u001B[0m \u001B[0;34m-\u001B[0m\u001B[0;36m1\u001B[0m\u001B[0;34m)\u001B[0m\u001B[0;34m.\u001B[0m\u001B[0mto\u001B[0m\u001B[0;34m(\u001B[0m\u001B[0mdevice\u001B[0m\u001B[0;34m)\u001B[0m\u001B[0;34m\u001B[0m\u001B[0;34m\u001B[0m\u001B[0m\n",
      "\u001B[0;32m~/opt/anaconda3/envs/nn/lib/python3.7/site-packages/tqdm/notebook.py\u001B[0m in \u001B[0;36m__init__\u001B[0;34m(self, *args, **kwargs)\u001B[0m\n\u001B[1;32m    233\u001B[0m         \u001B[0munit_scale\u001B[0m \u001B[0;34m=\u001B[0m \u001B[0;36m1\u001B[0m \u001B[0;32mif\u001B[0m \u001B[0mself\u001B[0m\u001B[0;34m.\u001B[0m\u001B[0munit_scale\u001B[0m \u001B[0;32mis\u001B[0m \u001B[0;32mTrue\u001B[0m \u001B[0;32melse\u001B[0m \u001B[0mself\u001B[0m\u001B[0;34m.\u001B[0m\u001B[0munit_scale\u001B[0m \u001B[0;32mor\u001B[0m \u001B[0;36m1\u001B[0m\u001B[0;34m\u001B[0m\u001B[0;34m\u001B[0m\u001B[0m\n\u001B[1;32m    234\u001B[0m         \u001B[0mtotal\u001B[0m \u001B[0;34m=\u001B[0m \u001B[0mself\u001B[0m\u001B[0;34m.\u001B[0m\u001B[0mtotal\u001B[0m \u001B[0;34m*\u001B[0m \u001B[0munit_scale\u001B[0m \u001B[0;32mif\u001B[0m \u001B[0mself\u001B[0m\u001B[0;34m.\u001B[0m\u001B[0mtotal\u001B[0m \u001B[0;32melse\u001B[0m \u001B[0mself\u001B[0m\u001B[0;34m.\u001B[0m\u001B[0mtotal\u001B[0m\u001B[0;34m\u001B[0m\u001B[0;34m\u001B[0m\u001B[0m\n\u001B[0;32m--> 235\u001B[0;31m         \u001B[0mself\u001B[0m\u001B[0;34m.\u001B[0m\u001B[0mcontainer\u001B[0m \u001B[0;34m=\u001B[0m \u001B[0mself\u001B[0m\u001B[0;34m.\u001B[0m\u001B[0mstatus_printer\u001B[0m\u001B[0;34m(\u001B[0m\u001B[0mself\u001B[0m\u001B[0;34m.\u001B[0m\u001B[0mfp\u001B[0m\u001B[0;34m,\u001B[0m \u001B[0mtotal\u001B[0m\u001B[0;34m,\u001B[0m \u001B[0mself\u001B[0m\u001B[0;34m.\u001B[0m\u001B[0mdesc\u001B[0m\u001B[0;34m,\u001B[0m \u001B[0mself\u001B[0m\u001B[0;34m.\u001B[0m\u001B[0mncols\u001B[0m\u001B[0;34m)\u001B[0m\u001B[0;34m\u001B[0m\u001B[0;34m\u001B[0m\u001B[0m\n\u001B[0m\u001B[1;32m    236\u001B[0m         \u001B[0mself\u001B[0m\u001B[0;34m.\u001B[0m\u001B[0mcontainer\u001B[0m\u001B[0;34m.\u001B[0m\u001B[0mpbar\u001B[0m \u001B[0;34m=\u001B[0m \u001B[0mself\u001B[0m\u001B[0;34m\u001B[0m\u001B[0;34m\u001B[0m\u001B[0m\n\u001B[1;32m    237\u001B[0m         \u001B[0;32mif\u001B[0m \u001B[0mdisplay_here\u001B[0m\u001B[0;34m:\u001B[0m\u001B[0;34m\u001B[0m\u001B[0;34m\u001B[0m\u001B[0m\n",
      "\u001B[0;32m~/opt/anaconda3/envs/nn/lib/python3.7/site-packages/tqdm/notebook.py\u001B[0m in \u001B[0;36mstatus_printer\u001B[0;34m(_, total, desc, ncols)\u001B[0m\n\u001B[1;32m    127\u001B[0m         \u001B[0;32mif\u001B[0m \u001B[0mdesc\u001B[0m\u001B[0;34m:\u001B[0m\u001B[0;34m\u001B[0m\u001B[0;34m\u001B[0m\u001B[0m\n\u001B[1;32m    128\u001B[0m             \u001B[0mltext\u001B[0m\u001B[0;34m.\u001B[0m\u001B[0mvalue\u001B[0m \u001B[0;34m=\u001B[0m \u001B[0mdesc\u001B[0m\u001B[0;34m\u001B[0m\u001B[0;34m\u001B[0m\u001B[0m\n\u001B[0;32m--> 129\u001B[0;31m         \u001B[0mcontainer\u001B[0m \u001B[0;34m=\u001B[0m \u001B[0mTqdmHBox\u001B[0m\u001B[0;34m(\u001B[0m\u001B[0mchildren\u001B[0m\u001B[0;34m=\u001B[0m\u001B[0;34m[\u001B[0m\u001B[0mltext\u001B[0m\u001B[0;34m,\u001B[0m \u001B[0mpbar\u001B[0m\u001B[0;34m,\u001B[0m \u001B[0mrtext\u001B[0m\u001B[0;34m]\u001B[0m\u001B[0;34m)\u001B[0m\u001B[0;34m\u001B[0m\u001B[0;34m\u001B[0m\u001B[0m\n\u001B[0m\u001B[1;32m    130\u001B[0m         \u001B[0;31m# Prepare layout\u001B[0m\u001B[0;34m\u001B[0m\u001B[0;34m\u001B[0m\u001B[0;34m\u001B[0m\u001B[0m\n\u001B[1;32m    131\u001B[0m         \u001B[0;32mif\u001B[0m \u001B[0mncols\u001B[0m \u001B[0;32mis\u001B[0m \u001B[0;32mnot\u001B[0m \u001B[0;32mNone\u001B[0m\u001B[0;34m:\u001B[0m  \u001B[0;31m# use default style of ipywidgets\u001B[0m\u001B[0;34m\u001B[0m\u001B[0;34m\u001B[0m\u001B[0m\n",
      "\u001B[0;32m~/opt/anaconda3/envs/nn/lib/python3.7/site-packages/ipywidgets/widgets/widget_box.py\u001B[0m in \u001B[0;36m__init__\u001B[0;34m(self, children, **kwargs)\u001B[0m\n\u001B[1;32m     62\u001B[0m     \u001B[0;32mdef\u001B[0m \u001B[0m__init__\u001B[0m\u001B[0;34m(\u001B[0m\u001B[0mself\u001B[0m\u001B[0;34m,\u001B[0m \u001B[0mchildren\u001B[0m\u001B[0;34m=\u001B[0m\u001B[0;34m(\u001B[0m\u001B[0;34m)\u001B[0m\u001B[0;34m,\u001B[0m \u001B[0;34m**\u001B[0m\u001B[0mkwargs\u001B[0m\u001B[0;34m)\u001B[0m\u001B[0;34m:\u001B[0m\u001B[0;34m\u001B[0m\u001B[0;34m\u001B[0m\u001B[0m\n\u001B[1;32m     63\u001B[0m         \u001B[0mkwargs\u001B[0m\u001B[0;34m[\u001B[0m\u001B[0;34m'children'\u001B[0m\u001B[0;34m]\u001B[0m \u001B[0;34m=\u001B[0m \u001B[0mchildren\u001B[0m\u001B[0;34m\u001B[0m\u001B[0;34m\u001B[0m\u001B[0m\n\u001B[0;32m---> 64\u001B[0;31m         \u001B[0msuper\u001B[0m\u001B[0;34m(\u001B[0m\u001B[0mBox\u001B[0m\u001B[0;34m,\u001B[0m \u001B[0mself\u001B[0m\u001B[0;34m)\u001B[0m\u001B[0;34m.\u001B[0m\u001B[0m__init__\u001B[0m\u001B[0;34m(\u001B[0m\u001B[0;34m**\u001B[0m\u001B[0mkwargs\u001B[0m\u001B[0;34m)\u001B[0m\u001B[0;34m\u001B[0m\u001B[0;34m\u001B[0m\u001B[0m\n\u001B[0m\u001B[1;32m     65\u001B[0m         \u001B[0mself\u001B[0m\u001B[0;34m.\u001B[0m\u001B[0mon_displayed\u001B[0m\u001B[0;34m(\u001B[0m\u001B[0mBox\u001B[0m\u001B[0;34m.\u001B[0m\u001B[0m_fire_children_displayed\u001B[0m\u001B[0;34m)\u001B[0m\u001B[0;34m\u001B[0m\u001B[0;34m\u001B[0m\u001B[0m\n\u001B[1;32m     66\u001B[0m \u001B[0;34m\u001B[0m\u001B[0m\n",
      "\u001B[0;32m~/opt/anaconda3/envs/nn/lib/python3.7/site-packages/ipywidgets/widgets/widget.py\u001B[0m in \u001B[0;36m__init__\u001B[0;34m(self, **kwargs)\u001B[0m\n\u001B[1;32m    413\u001B[0m \u001B[0;34m\u001B[0m\u001B[0m\n\u001B[1;32m    414\u001B[0m         \u001B[0mWidget\u001B[0m\u001B[0;34m.\u001B[0m\u001B[0m_call_widget_constructed\u001B[0m\u001B[0;34m(\u001B[0m\u001B[0mself\u001B[0m\u001B[0;34m)\u001B[0m\u001B[0;34m\u001B[0m\u001B[0;34m\u001B[0m\u001B[0m\n\u001B[0;32m--> 415\u001B[0;31m         \u001B[0mself\u001B[0m\u001B[0;34m.\u001B[0m\u001B[0mopen\u001B[0m\u001B[0;34m(\u001B[0m\u001B[0;34m)\u001B[0m\u001B[0;34m\u001B[0m\u001B[0;34m\u001B[0m\u001B[0m\n\u001B[0m\u001B[1;32m    416\u001B[0m \u001B[0;34m\u001B[0m\u001B[0m\n\u001B[1;32m    417\u001B[0m     \u001B[0;32mdef\u001B[0m \u001B[0m__del__\u001B[0m\u001B[0;34m(\u001B[0m\u001B[0mself\u001B[0m\u001B[0;34m)\u001B[0m\u001B[0;34m:\u001B[0m\u001B[0;34m\u001B[0m\u001B[0;34m\u001B[0m\u001B[0m\n",
      "\u001B[0;32m~/opt/anaconda3/envs/nn/lib/python3.7/site-packages/ipywidgets/widgets/widget.py\u001B[0m in \u001B[0;36mopen\u001B[0;34m(self)\u001B[0m\n\u001B[1;32m    426\u001B[0m         \u001B[0;34m\"\"\"Open a comm to the frontend if one isn't already open.\"\"\"\u001B[0m\u001B[0;34m\u001B[0m\u001B[0;34m\u001B[0m\u001B[0m\n\u001B[1;32m    427\u001B[0m         \u001B[0;32mif\u001B[0m \u001B[0mself\u001B[0m\u001B[0;34m.\u001B[0m\u001B[0mcomm\u001B[0m \u001B[0;32mis\u001B[0m \u001B[0;32mNone\u001B[0m\u001B[0;34m:\u001B[0m\u001B[0;34m\u001B[0m\u001B[0;34m\u001B[0m\u001B[0m\n\u001B[0;32m--> 428\u001B[0;31m             \u001B[0mstate\u001B[0m\u001B[0;34m,\u001B[0m \u001B[0mbuffer_paths\u001B[0m\u001B[0;34m,\u001B[0m \u001B[0mbuffers\u001B[0m \u001B[0;34m=\u001B[0m \u001B[0m_remove_buffers\u001B[0m\u001B[0;34m(\u001B[0m\u001B[0mself\u001B[0m\u001B[0;34m.\u001B[0m\u001B[0mget_state\u001B[0m\u001B[0;34m(\u001B[0m\u001B[0;34m)\u001B[0m\u001B[0;34m)\u001B[0m\u001B[0;34m\u001B[0m\u001B[0;34m\u001B[0m\u001B[0m\n\u001B[0m\u001B[1;32m    429\u001B[0m \u001B[0;34m\u001B[0m\u001B[0m\n\u001B[1;32m    430\u001B[0m             args = dict(target_name='jupyter.widget',\n",
      "\u001B[0;32m~/opt/anaconda3/envs/nn/lib/python3.7/site-packages/ipywidgets/widgets/widget.py\u001B[0m in \u001B[0;36mget_state\u001B[0;34m(self, key, drop_defaults)\u001B[0m\n\u001B[1;32m    516\u001B[0m         \u001B[0;32mfor\u001B[0m \u001B[0mk\u001B[0m \u001B[0;32min\u001B[0m \u001B[0mkeys\u001B[0m\u001B[0;34m:\u001B[0m\u001B[0;34m\u001B[0m\u001B[0;34m\u001B[0m\u001B[0m\n\u001B[1;32m    517\u001B[0m             \u001B[0mto_json\u001B[0m \u001B[0;34m=\u001B[0m \u001B[0mself\u001B[0m\u001B[0;34m.\u001B[0m\u001B[0mtrait_metadata\u001B[0m\u001B[0;34m(\u001B[0m\u001B[0mk\u001B[0m\u001B[0;34m,\u001B[0m \u001B[0;34m'to_json'\u001B[0m\u001B[0;34m,\u001B[0m \u001B[0mself\u001B[0m\u001B[0;34m.\u001B[0m\u001B[0m_trait_to_json\u001B[0m\u001B[0;34m)\u001B[0m\u001B[0;34m\u001B[0m\u001B[0;34m\u001B[0m\u001B[0m\n\u001B[0;32m--> 518\u001B[0;31m             \u001B[0mvalue\u001B[0m \u001B[0;34m=\u001B[0m \u001B[0mto_json\u001B[0m\u001B[0;34m(\u001B[0m\u001B[0mgetattr\u001B[0m\u001B[0;34m(\u001B[0m\u001B[0mself\u001B[0m\u001B[0;34m,\u001B[0m \u001B[0mk\u001B[0m\u001B[0;34m)\u001B[0m\u001B[0;34m,\u001B[0m \u001B[0mself\u001B[0m\u001B[0;34m)\u001B[0m\u001B[0;34m\u001B[0m\u001B[0;34m\u001B[0m\u001B[0m\n\u001B[0m\u001B[1;32m    519\u001B[0m             \u001B[0;32mif\u001B[0m \u001B[0;32mnot\u001B[0m \u001B[0mPY3\u001B[0m \u001B[0;32mand\u001B[0m \u001B[0misinstance\u001B[0m\u001B[0;34m(\u001B[0m\u001B[0mtraits\u001B[0m\u001B[0;34m[\u001B[0m\u001B[0mk\u001B[0m\u001B[0;34m]\u001B[0m\u001B[0;34m,\u001B[0m \u001B[0mBytes\u001B[0m\u001B[0;34m)\u001B[0m \u001B[0;32mand\u001B[0m \u001B[0misinstance\u001B[0m\u001B[0;34m(\u001B[0m\u001B[0mvalue\u001B[0m\u001B[0;34m,\u001B[0m \u001B[0mbytes\u001B[0m\u001B[0;34m)\u001B[0m\u001B[0;34m:\u001B[0m\u001B[0;34m\u001B[0m\u001B[0;34m\u001B[0m\u001B[0m\n\u001B[1;32m    520\u001B[0m                 \u001B[0mvalue\u001B[0m \u001B[0;34m=\u001B[0m \u001B[0mmemoryview\u001B[0m\u001B[0;34m(\u001B[0m\u001B[0mvalue\u001B[0m\u001B[0;34m)\u001B[0m\u001B[0;34m\u001B[0m\u001B[0;34m\u001B[0m\u001B[0m\n",
      "\u001B[0;32m~/opt/anaconda3/envs/nn/lib/python3.7/site-packages/traitlets/traitlets.py\u001B[0m in \u001B[0;36m__get__\u001B[0;34m(self, obj, cls)\u001B[0m\n\u001B[1;32m    573\u001B[0m             \u001B[0;32mreturn\u001B[0m \u001B[0mself\u001B[0m\u001B[0;34m\u001B[0m\u001B[0;34m\u001B[0m\u001B[0m\n\u001B[1;32m    574\u001B[0m         \u001B[0;32melse\u001B[0m\u001B[0;34m:\u001B[0m\u001B[0;34m\u001B[0m\u001B[0;34m\u001B[0m\u001B[0m\n\u001B[0;32m--> 575\u001B[0;31m             \u001B[0;32mreturn\u001B[0m \u001B[0mself\u001B[0m\u001B[0;34m.\u001B[0m\u001B[0mget\u001B[0m\u001B[0;34m(\u001B[0m\u001B[0mobj\u001B[0m\u001B[0;34m,\u001B[0m \u001B[0mcls\u001B[0m\u001B[0;34m)\u001B[0m\u001B[0;34m\u001B[0m\u001B[0;34m\u001B[0m\u001B[0m\n\u001B[0m\u001B[1;32m    576\u001B[0m \u001B[0;34m\u001B[0m\u001B[0m\n\u001B[1;32m    577\u001B[0m     \u001B[0;32mdef\u001B[0m \u001B[0mset\u001B[0m\u001B[0;34m(\u001B[0m\u001B[0mself\u001B[0m\u001B[0;34m,\u001B[0m \u001B[0mobj\u001B[0m\u001B[0;34m,\u001B[0m \u001B[0mvalue\u001B[0m\u001B[0;34m)\u001B[0m\u001B[0;34m:\u001B[0m\u001B[0;34m\u001B[0m\u001B[0;34m\u001B[0m\u001B[0m\n",
      "\u001B[0;32m~/opt/anaconda3/envs/nn/lib/python3.7/site-packages/traitlets/traitlets.py\u001B[0m in \u001B[0;36mget\u001B[0;34m(self, obj, cls)\u001B[0m\n\u001B[1;32m    536\u001B[0m         \u001B[0;32mexcept\u001B[0m \u001B[0mKeyError\u001B[0m\u001B[0;34m:\u001B[0m\u001B[0;34m\u001B[0m\u001B[0;34m\u001B[0m\u001B[0m\n\u001B[1;32m    537\u001B[0m             \u001B[0;31m# Check for a dynamic initializer.\u001B[0m\u001B[0;34m\u001B[0m\u001B[0;34m\u001B[0m\u001B[0;34m\u001B[0m\u001B[0m\n\u001B[0;32m--> 538\u001B[0;31m             \u001B[0mdefault\u001B[0m \u001B[0;34m=\u001B[0m \u001B[0mobj\u001B[0m\u001B[0;34m.\u001B[0m\u001B[0mtrait_defaults\u001B[0m\u001B[0;34m(\u001B[0m\u001B[0mself\u001B[0m\u001B[0;34m.\u001B[0m\u001B[0mname\u001B[0m\u001B[0;34m)\u001B[0m\u001B[0;34m\u001B[0m\u001B[0;34m\u001B[0m\u001B[0m\n\u001B[0m\u001B[1;32m    539\u001B[0m             \u001B[0;32mif\u001B[0m \u001B[0mdefault\u001B[0m \u001B[0;32mis\u001B[0m \u001B[0mUndefined\u001B[0m\u001B[0;34m:\u001B[0m\u001B[0;34m\u001B[0m\u001B[0;34m\u001B[0m\u001B[0m\n\u001B[1;32m    540\u001B[0m                 warn(\n",
      "\u001B[0;32m~/opt/anaconda3/envs/nn/lib/python3.7/site-packages/traitlets/traitlets.py\u001B[0m in \u001B[0;36mtrait_defaults\u001B[0;34m(self, *names, **metadata)\u001B[0m\n\u001B[1;32m   1576\u001B[0m \u001B[0;34m\u001B[0m\u001B[0m\n\u001B[1;32m   1577\u001B[0m         \u001B[0;32mif\u001B[0m \u001B[0mlen\u001B[0m\u001B[0;34m(\u001B[0m\u001B[0mnames\u001B[0m\u001B[0;34m)\u001B[0m \u001B[0;34m==\u001B[0m \u001B[0;36m1\u001B[0m \u001B[0;32mand\u001B[0m \u001B[0mlen\u001B[0m\u001B[0;34m(\u001B[0m\u001B[0mmetadata\u001B[0m\u001B[0;34m)\u001B[0m \u001B[0;34m==\u001B[0m \u001B[0;36m0\u001B[0m\u001B[0;34m:\u001B[0m\u001B[0;34m\u001B[0m\u001B[0;34m\u001B[0m\u001B[0m\n\u001B[0;32m-> 1578\u001B[0;31m             \u001B[0;32mreturn\u001B[0m \u001B[0mself\u001B[0m\u001B[0;34m.\u001B[0m\u001B[0m_get_trait_default_generator\u001B[0m\u001B[0;34m(\u001B[0m\u001B[0mnames\u001B[0m\u001B[0;34m[\u001B[0m\u001B[0;36m0\u001B[0m\u001B[0;34m]\u001B[0m\u001B[0;34m)\u001B[0m\u001B[0;34m(\u001B[0m\u001B[0mself\u001B[0m\u001B[0;34m)\u001B[0m\u001B[0;34m\u001B[0m\u001B[0;34m\u001B[0m\u001B[0m\n\u001B[0m\u001B[1;32m   1579\u001B[0m \u001B[0;34m\u001B[0m\u001B[0m\n\u001B[1;32m   1580\u001B[0m         \u001B[0mtrait_names\u001B[0m \u001B[0;34m=\u001B[0m \u001B[0mself\u001B[0m\u001B[0;34m.\u001B[0m\u001B[0mtrait_names\u001B[0m\u001B[0;34m(\u001B[0m\u001B[0;34m**\u001B[0m\u001B[0mmetadata\u001B[0m\u001B[0;34m)\u001B[0m\u001B[0;34m\u001B[0m\u001B[0;34m\u001B[0m\u001B[0m\n",
      "\u001B[0;32m~/opt/anaconda3/envs/nn/lib/python3.7/site-packages/traitlets/traitlets.py\u001B[0m in \u001B[0;36mdefault\u001B[0;34m(self, obj)\u001B[0m\n\u001B[1;32m    509\u001B[0m             \u001B[0;32mreturn\u001B[0m \u001B[0mself\u001B[0m\u001B[0;34m.\u001B[0m\u001B[0mdefault_value\u001B[0m\u001B[0;34m\u001B[0m\u001B[0;34m\u001B[0m\u001B[0m\n\u001B[1;32m    510\u001B[0m         \u001B[0;32melif\u001B[0m \u001B[0mhasattr\u001B[0m\u001B[0;34m(\u001B[0m\u001B[0mself\u001B[0m\u001B[0;34m,\u001B[0m \u001B[0;34m'make_dynamic_default'\u001B[0m\u001B[0;34m)\u001B[0m\u001B[0;34m:\u001B[0m\u001B[0;34m\u001B[0m\u001B[0;34m\u001B[0m\u001B[0m\n\u001B[0;32m--> 511\u001B[0;31m             \u001B[0;32mreturn\u001B[0m \u001B[0mself\u001B[0m\u001B[0;34m.\u001B[0m\u001B[0mmake_dynamic_default\u001B[0m\u001B[0;34m(\u001B[0m\u001B[0;34m)\u001B[0m\u001B[0;34m\u001B[0m\u001B[0;34m\u001B[0m\u001B[0m\n\u001B[0m\u001B[1;32m    512\u001B[0m         \u001B[0;32melse\u001B[0m\u001B[0;34m:\u001B[0m\u001B[0;34m\u001B[0m\u001B[0;34m\u001B[0m\u001B[0m\n\u001B[1;32m    513\u001B[0m             \u001B[0;31m# Undefined will raise in TraitType.get\u001B[0m\u001B[0;34m\u001B[0m\u001B[0;34m\u001B[0m\u001B[0;34m\u001B[0m\u001B[0m\n",
      "\u001B[0;32m~/opt/anaconda3/envs/nn/lib/python3.7/site-packages/ipywidgets/widgets/trait_types.py\u001B[0m in \u001B[0;36mmake_dynamic_default\u001B[0;34m(self)\u001B[0m\n\u001B[1;32m    167\u001B[0m     \u001B[0;32mdef\u001B[0m \u001B[0mmake_dynamic_default\u001B[0m\u001B[0;34m(\u001B[0m\u001B[0mself\u001B[0m\u001B[0;34m)\u001B[0m\u001B[0;34m:\u001B[0m\u001B[0;34m\u001B[0m\u001B[0;34m\u001B[0m\u001B[0m\n\u001B[1;32m    168\u001B[0m         return self.klass(*(self.default_args or ()),\n\u001B[0;32m--> 169\u001B[0;31m                           **(self.default_kwargs or {}))\n\u001B[0m\u001B[1;32m    170\u001B[0m \u001B[0;34m\u001B[0m\u001B[0m\n\u001B[1;32m    171\u001B[0m \u001B[0;34m\u001B[0m\u001B[0m\n",
      "\u001B[0;32m~/opt/anaconda3/envs/nn/lib/python3.7/site-packages/ipywidgets/widgets/widget.py\u001B[0m in \u001B[0;36m__init__\u001B[0;34m(self, **kwargs)\u001B[0m\n\u001B[1;32m    413\u001B[0m \u001B[0;34m\u001B[0m\u001B[0m\n\u001B[1;32m    414\u001B[0m         \u001B[0mWidget\u001B[0m\u001B[0;34m.\u001B[0m\u001B[0m_call_widget_constructed\u001B[0m\u001B[0;34m(\u001B[0m\u001B[0mself\u001B[0m\u001B[0;34m)\u001B[0m\u001B[0;34m\u001B[0m\u001B[0;34m\u001B[0m\u001B[0m\n\u001B[0;32m--> 415\u001B[0;31m         \u001B[0mself\u001B[0m\u001B[0;34m.\u001B[0m\u001B[0mopen\u001B[0m\u001B[0;34m(\u001B[0m\u001B[0;34m)\u001B[0m\u001B[0;34m\u001B[0m\u001B[0;34m\u001B[0m\u001B[0m\n\u001B[0m\u001B[1;32m    416\u001B[0m \u001B[0;34m\u001B[0m\u001B[0m\n\u001B[1;32m    417\u001B[0m     \u001B[0;32mdef\u001B[0m \u001B[0m__del__\u001B[0m\u001B[0;34m(\u001B[0m\u001B[0mself\u001B[0m\u001B[0;34m)\u001B[0m\u001B[0;34m:\u001B[0m\u001B[0;34m\u001B[0m\u001B[0;34m\u001B[0m\u001B[0m\n",
      "\u001B[0;32m~/opt/anaconda3/envs/nn/lib/python3.7/site-packages/ipywidgets/widgets/widget.py\u001B[0m in \u001B[0;36mopen\u001B[0;34m(self)\u001B[0m\n\u001B[1;32m    426\u001B[0m         \u001B[0;34m\"\"\"Open a comm to the frontend if one isn't already open.\"\"\"\u001B[0m\u001B[0;34m\u001B[0m\u001B[0;34m\u001B[0m\u001B[0m\n\u001B[1;32m    427\u001B[0m         \u001B[0;32mif\u001B[0m \u001B[0mself\u001B[0m\u001B[0;34m.\u001B[0m\u001B[0mcomm\u001B[0m \u001B[0;32mis\u001B[0m \u001B[0;32mNone\u001B[0m\u001B[0;34m:\u001B[0m\u001B[0;34m\u001B[0m\u001B[0;34m\u001B[0m\u001B[0m\n\u001B[0;32m--> 428\u001B[0;31m             \u001B[0mstate\u001B[0m\u001B[0;34m,\u001B[0m \u001B[0mbuffer_paths\u001B[0m\u001B[0;34m,\u001B[0m \u001B[0mbuffers\u001B[0m \u001B[0;34m=\u001B[0m \u001B[0m_remove_buffers\u001B[0m\u001B[0;34m(\u001B[0m\u001B[0mself\u001B[0m\u001B[0;34m.\u001B[0m\u001B[0mget_state\u001B[0m\u001B[0;34m(\u001B[0m\u001B[0;34m)\u001B[0m\u001B[0;34m)\u001B[0m\u001B[0;34m\u001B[0m\u001B[0;34m\u001B[0m\u001B[0m\n\u001B[0m\u001B[1;32m    429\u001B[0m \u001B[0;34m\u001B[0m\u001B[0m\n\u001B[1;32m    430\u001B[0m             args = dict(target_name='jupyter.widget',\n",
      "\u001B[0;32m~/opt/anaconda3/envs/nn/lib/python3.7/site-packages/ipywidgets/widgets/widget.py\u001B[0m in \u001B[0;36mget_state\u001B[0;34m(self, key, drop_defaults)\u001B[0m\n\u001B[1;32m    505\u001B[0m         \"\"\"\n\u001B[1;32m    506\u001B[0m         \u001B[0;32mif\u001B[0m \u001B[0mkey\u001B[0m \u001B[0;32mis\u001B[0m \u001B[0;32mNone\u001B[0m\u001B[0;34m:\u001B[0m\u001B[0;34m\u001B[0m\u001B[0;34m\u001B[0m\u001B[0m\n\u001B[0;32m--> 507\u001B[0;31m             \u001B[0mkeys\u001B[0m \u001B[0;34m=\u001B[0m \u001B[0mself\u001B[0m\u001B[0;34m.\u001B[0m\u001B[0mkeys\u001B[0m\u001B[0;34m\u001B[0m\u001B[0;34m\u001B[0m\u001B[0m\n\u001B[0m\u001B[1;32m    508\u001B[0m         \u001B[0;32melif\u001B[0m \u001B[0misinstance\u001B[0m\u001B[0;34m(\u001B[0m\u001B[0mkey\u001B[0m\u001B[0;34m,\u001B[0m \u001B[0mstring_types\u001B[0m\u001B[0;34m)\u001B[0m\u001B[0;34m:\u001B[0m\u001B[0;34m\u001B[0m\u001B[0;34m\u001B[0m\u001B[0m\n\u001B[1;32m    509\u001B[0m             \u001B[0mkeys\u001B[0m \u001B[0;34m=\u001B[0m \u001B[0;34m[\u001B[0m\u001B[0mkey\u001B[0m\u001B[0;34m]\u001B[0m\u001B[0;34m\u001B[0m\u001B[0;34m\u001B[0m\u001B[0m\n",
      "\u001B[0;32m~/opt/anaconda3/envs/nn/lib/python3.7/site-packages/traitlets/traitlets.py\u001B[0m in \u001B[0;36m__get__\u001B[0;34m(self, obj, cls)\u001B[0m\n\u001B[1;32m    573\u001B[0m             \u001B[0;32mreturn\u001B[0m \u001B[0mself\u001B[0m\u001B[0;34m\u001B[0m\u001B[0;34m\u001B[0m\u001B[0m\n\u001B[1;32m    574\u001B[0m         \u001B[0;32melse\u001B[0m\u001B[0;34m:\u001B[0m\u001B[0;34m\u001B[0m\u001B[0;34m\u001B[0m\u001B[0m\n\u001B[0;32m--> 575\u001B[0;31m             \u001B[0;32mreturn\u001B[0m \u001B[0mself\u001B[0m\u001B[0;34m.\u001B[0m\u001B[0mget\u001B[0m\u001B[0;34m(\u001B[0m\u001B[0mobj\u001B[0m\u001B[0;34m,\u001B[0m \u001B[0mcls\u001B[0m\u001B[0;34m)\u001B[0m\u001B[0;34m\u001B[0m\u001B[0;34m\u001B[0m\u001B[0m\n\u001B[0m\u001B[1;32m    576\u001B[0m \u001B[0;34m\u001B[0m\u001B[0m\n\u001B[1;32m    577\u001B[0m     \u001B[0;32mdef\u001B[0m \u001B[0mset\u001B[0m\u001B[0;34m(\u001B[0m\u001B[0mself\u001B[0m\u001B[0;34m,\u001B[0m \u001B[0mobj\u001B[0m\u001B[0;34m,\u001B[0m \u001B[0mvalue\u001B[0m\u001B[0;34m)\u001B[0m\u001B[0;34m:\u001B[0m\u001B[0;34m\u001B[0m\u001B[0;34m\u001B[0m\u001B[0m\n",
      "\u001B[0;32m~/opt/anaconda3/envs/nn/lib/python3.7/site-packages/traitlets/traitlets.py\u001B[0m in \u001B[0;36mget\u001B[0;34m(self, obj, cls)\u001B[0m\n\u001B[1;32m    536\u001B[0m         \u001B[0;32mexcept\u001B[0m \u001B[0mKeyError\u001B[0m\u001B[0;34m:\u001B[0m\u001B[0;34m\u001B[0m\u001B[0;34m\u001B[0m\u001B[0m\n\u001B[1;32m    537\u001B[0m             \u001B[0;31m# Check for a dynamic initializer.\u001B[0m\u001B[0;34m\u001B[0m\u001B[0;34m\u001B[0m\u001B[0;34m\u001B[0m\u001B[0m\n\u001B[0;32m--> 538\u001B[0;31m             \u001B[0mdefault\u001B[0m \u001B[0;34m=\u001B[0m \u001B[0mobj\u001B[0m\u001B[0;34m.\u001B[0m\u001B[0mtrait_defaults\u001B[0m\u001B[0;34m(\u001B[0m\u001B[0mself\u001B[0m\u001B[0;34m.\u001B[0m\u001B[0mname\u001B[0m\u001B[0;34m)\u001B[0m\u001B[0;34m\u001B[0m\u001B[0;34m\u001B[0m\u001B[0m\n\u001B[0m\u001B[1;32m    539\u001B[0m             \u001B[0;32mif\u001B[0m \u001B[0mdefault\u001B[0m \u001B[0;32mis\u001B[0m \u001B[0mUndefined\u001B[0m\u001B[0;34m:\u001B[0m\u001B[0;34m\u001B[0m\u001B[0;34m\u001B[0m\u001B[0m\n\u001B[1;32m    540\u001B[0m                 warn(\n",
      "\u001B[0;32m~/opt/anaconda3/envs/nn/lib/python3.7/site-packages/traitlets/traitlets.py\u001B[0m in \u001B[0;36mtrait_defaults\u001B[0;34m(self, *names, **metadata)\u001B[0m\n\u001B[1;32m   1576\u001B[0m \u001B[0;34m\u001B[0m\u001B[0m\n\u001B[1;32m   1577\u001B[0m         \u001B[0;32mif\u001B[0m \u001B[0mlen\u001B[0m\u001B[0;34m(\u001B[0m\u001B[0mnames\u001B[0m\u001B[0;34m)\u001B[0m \u001B[0;34m==\u001B[0m \u001B[0;36m1\u001B[0m \u001B[0;32mand\u001B[0m \u001B[0mlen\u001B[0m\u001B[0;34m(\u001B[0m\u001B[0mmetadata\u001B[0m\u001B[0;34m)\u001B[0m \u001B[0;34m==\u001B[0m \u001B[0;36m0\u001B[0m\u001B[0;34m:\u001B[0m\u001B[0;34m\u001B[0m\u001B[0;34m\u001B[0m\u001B[0m\n\u001B[0;32m-> 1578\u001B[0;31m             \u001B[0;32mreturn\u001B[0m \u001B[0mself\u001B[0m\u001B[0;34m.\u001B[0m\u001B[0m_get_trait_default_generator\u001B[0m\u001B[0;34m(\u001B[0m\u001B[0mnames\u001B[0m\u001B[0;34m[\u001B[0m\u001B[0;36m0\u001B[0m\u001B[0;34m]\u001B[0m\u001B[0;34m)\u001B[0m\u001B[0;34m(\u001B[0m\u001B[0mself\u001B[0m\u001B[0;34m)\u001B[0m\u001B[0;34m\u001B[0m\u001B[0;34m\u001B[0m\u001B[0m\n\u001B[0m\u001B[1;32m   1579\u001B[0m \u001B[0;34m\u001B[0m\u001B[0m\n\u001B[1;32m   1580\u001B[0m         \u001B[0mtrait_names\u001B[0m \u001B[0;34m=\u001B[0m \u001B[0mself\u001B[0m\u001B[0;34m.\u001B[0m\u001B[0mtrait_names\u001B[0m\u001B[0;34m(\u001B[0m\u001B[0;34m**\u001B[0m\u001B[0mmetadata\u001B[0m\u001B[0;34m)\u001B[0m\u001B[0;34m\u001B[0m\u001B[0;34m\u001B[0m\u001B[0m\n",
      "\u001B[0;32m~/opt/anaconda3/envs/nn/lib/python3.7/site-packages/traitlets/traitlets.py\u001B[0m in \u001B[0;36m__call__\u001B[0;34m(self, *args, **kwargs)\u001B[0m\n\u001B[1;32m    973\u001B[0m         \u001B[0;34m\"\"\"Pass `*args` and `**kwargs` to the handler's function if it exists.\"\"\"\u001B[0m\u001B[0;34m\u001B[0m\u001B[0;34m\u001B[0m\u001B[0m\n\u001B[1;32m    974\u001B[0m         \u001B[0;32mif\u001B[0m \u001B[0mhasattr\u001B[0m\u001B[0;34m(\u001B[0m\u001B[0mself\u001B[0m\u001B[0;34m,\u001B[0m \u001B[0;34m'func'\u001B[0m\u001B[0;34m)\u001B[0m\u001B[0;34m:\u001B[0m\u001B[0;34m\u001B[0m\u001B[0;34m\u001B[0m\u001B[0m\n\u001B[0;32m--> 975\u001B[0;31m             \u001B[0;32mreturn\u001B[0m \u001B[0mself\u001B[0m\u001B[0;34m.\u001B[0m\u001B[0mfunc\u001B[0m\u001B[0;34m(\u001B[0m\u001B[0;34m*\u001B[0m\u001B[0margs\u001B[0m\u001B[0;34m,\u001B[0m \u001B[0;34m**\u001B[0m\u001B[0mkwargs\u001B[0m\u001B[0;34m)\u001B[0m\u001B[0;34m\u001B[0m\u001B[0;34m\u001B[0m\u001B[0m\n\u001B[0m\u001B[1;32m    976\u001B[0m         \u001B[0;32melse\u001B[0m\u001B[0;34m:\u001B[0m\u001B[0;34m\u001B[0m\u001B[0;34m\u001B[0m\u001B[0m\n\u001B[1;32m    977\u001B[0m             \u001B[0;32mreturn\u001B[0m \u001B[0mself\u001B[0m\u001B[0;34m.\u001B[0m\u001B[0m_init_call\u001B[0m\u001B[0;34m(\u001B[0m\u001B[0;34m*\u001B[0m\u001B[0margs\u001B[0m\u001B[0;34m,\u001B[0m \u001B[0;34m**\u001B[0m\u001B[0mkwargs\u001B[0m\u001B[0;34m)\u001B[0m\u001B[0;34m\u001B[0m\u001B[0;34m\u001B[0m\u001B[0m\n",
      "\u001B[0;32m~/opt/anaconda3/envs/nn/lib/python3.7/site-packages/ipywidgets/widgets/widget.py\u001B[0m in \u001B[0;36m_default_keys\u001B[0;34m(self)\u001B[0m\n\u001B[1;32m    396\u001B[0m     \u001B[0;34m@\u001B[0m\u001B[0mdefault\u001B[0m\u001B[0;34m(\u001B[0m\u001B[0;34m'keys'\u001B[0m\u001B[0;34m)\u001B[0m\u001B[0;34m\u001B[0m\u001B[0;34m\u001B[0m\u001B[0m\n\u001B[1;32m    397\u001B[0m     \u001B[0;32mdef\u001B[0m \u001B[0m_default_keys\u001B[0m\u001B[0;34m(\u001B[0m\u001B[0mself\u001B[0m\u001B[0;34m)\u001B[0m\u001B[0;34m:\u001B[0m\u001B[0;34m\u001B[0m\u001B[0;34m\u001B[0m\u001B[0m\n\u001B[0;32m--> 398\u001B[0;31m         \u001B[0;32mreturn\u001B[0m \u001B[0;34m[\u001B[0m\u001B[0mname\u001B[0m \u001B[0;32mfor\u001B[0m \u001B[0mname\u001B[0m \u001B[0;32min\u001B[0m \u001B[0mself\u001B[0m\u001B[0;34m.\u001B[0m\u001B[0mtraits\u001B[0m\u001B[0;34m(\u001B[0m\u001B[0msync\u001B[0m\u001B[0;34m=\u001B[0m\u001B[0;32mTrue\u001B[0m\u001B[0;34m)\u001B[0m\u001B[0;34m]\u001B[0m\u001B[0;34m\u001B[0m\u001B[0;34m\u001B[0m\u001B[0m\n\u001B[0m\u001B[1;32m    399\u001B[0m \u001B[0;34m\u001B[0m\u001B[0m\n\u001B[1;32m    400\u001B[0m     \u001B[0m_property_lock\u001B[0m \u001B[0;34m=\u001B[0m \u001B[0mDict\u001B[0m\u001B[0;34m(\u001B[0m\u001B[0;34m)\u001B[0m\u001B[0;34m\u001B[0m\u001B[0;34m\u001B[0m\u001B[0m\n",
      "\u001B[0;32m~/opt/anaconda3/envs/nn/lib/python3.7/site-packages/traitlets/traitlets.py\u001B[0m in \u001B[0;36mtraits\u001B[0;34m(self, **metadata)\u001B[0m\n\u001B[1;32m   1604\u001B[0m         \u001B[0mto\u001B[0m \u001B[0mthe\u001B[0m \u001B[0mfunction\u001B[0m\u001B[0;34m.\u001B[0m\u001B[0;34m\u001B[0m\u001B[0;34m\u001B[0m\u001B[0m\n\u001B[1;32m   1605\u001B[0m         \"\"\"\n\u001B[0;32m-> 1606\u001B[0;31m         traits = dict([memb for memb in getmembers(self.__class__) if\n\u001B[0m\u001B[1;32m   1607\u001B[0m                      isinstance(memb[1], TraitType)])\n\u001B[1;32m   1608\u001B[0m \u001B[0;34m\u001B[0m\u001B[0m\n",
      "\u001B[0;32m~/opt/anaconda3/envs/nn/lib/python3.7/site-packages/traitlets/traitlets.py\u001B[0m in \u001B[0;36m<listcomp>\u001B[0;34m(.0)\u001B[0m\n\u001B[1;32m   1604\u001B[0m         \u001B[0mto\u001B[0m \u001B[0mthe\u001B[0m \u001B[0mfunction\u001B[0m\u001B[0;34m.\u001B[0m\u001B[0;34m\u001B[0m\u001B[0;34m\u001B[0m\u001B[0m\n\u001B[1;32m   1605\u001B[0m         \"\"\"\n\u001B[0;32m-> 1606\u001B[0;31m         traits = dict([memb for memb in getmembers(self.__class__) if\n\u001B[0m\u001B[1;32m   1607\u001B[0m                      isinstance(memb[1], TraitType)])\n\u001B[1;32m   1608\u001B[0m \u001B[0;34m\u001B[0m\u001B[0m\n",
      "\u001B[0;31mKeyboardInterrupt\u001B[0m: "
     ]
    }
   ],
   "source": [
    "import json\n",
    "loss_value_disc = {}\n",
    "loss_value_gen = {}\n",
    "total_epoch = 100\n",
    "epoch_step = 100\n",
    "for i in range(10):\n",
    "    disc_loss, gen_loss = training_bce(gen, disc, z_dim, epoch_step, my_dataloader,\n",
    "                                       device, disc_opt, gen_opt, display_step)\n",
    "    total_epoch += epoch_step\n",
    "    pro_out.save_model(gen, disc, 'four_one_hot/model', total_epoch)\n",
    "    loss_value_disc[f'epoch{total_epoch}'] = disc_loss\n",
    "    loss_value_gen[f'epoch{total_epoch}'] = gen_loss\n",
    "with open('gen_loss.json', 'w') as fp:\n",
    "    json.dump(loss_value_gen, fp)\n",
    "with open('disc_loss.json', 'w') as fp:\n",
    "    json.dump(loss_value_disc, fp)"
   ],
   "metadata": {
    "collapsed": false,
    "pycharm": {
     "name": "#%%\n"
    }
   }
  },
  {
   "cell_type": "code",
   "execution_count": null,
   "outputs": [],
   "source": [
    "epoch = 100\n",
    "model_name = f'model_gan_{epoch}.pth.tar'\n",
    "check_point_gen = torch.load(model_name)\n",
    "gen.load_state_dict(check_point_gen['gen_state_dict'])"
   ],
   "metadata": {
    "collapsed": false,
    "pycharm": {
     "name": "#%%\n"
    }
   }
  },
  {
   "cell_type": "code",
   "execution_count": null,
   "outputs": [],
   "source": [
    "# am.process_scalar_model({}, gen, three_direction_input, 14)"
   ],
   "metadata": {
    "collapsed": false,
    "pycharm": {
     "name": "#%%\n"
    }
   }
  }
 ],
 "metadata": {
  "kernelspec": {
   "display_name": "Python 3",
   "language": "python",
   "name": "python3"
  },
  "language_info": {
   "codemirror_mode": {
    "name": "ipython",
    "version": 2
   },
   "file_extension": ".py",
   "mimetype": "text/x-python",
   "name": "python",
   "nbconvert_exporter": "python",
   "pygments_lexer": "ipython2",
   "version": "2.7.6"
  }
 },
 "nbformat": 4,
 "nbformat_minor": 0
}
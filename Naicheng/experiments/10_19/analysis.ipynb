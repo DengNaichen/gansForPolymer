{
 "cells": [
  {
   "cell_type": "code",
   "execution_count": 1,
   "metadata": {
    "collapsed": true
   },
   "outputs": [
    {
     "name": "stdout",
     "output_type": "stream",
     "text": [
      "0.0\n",
      "0.0\n",
      "[[0. 0.]\n",
      " [0. 1.]\n",
      " [0. 0.]\n",
      " [0. 1.]\n",
      " [0. 0.]\n",
      " [0. 0.]\n",
      " [0. 0.]\n",
      " [0. 0.]\n",
      " [0. 0.]\n",
      " [0. 0.]\n",
      " [0. 0.]\n",
      " [0. 0.]\n",
      " [0. 0.]\n",
      " [0. 0.]\n",
      " [0. 0.]\n",
      " [0. 0.]\n",
      " [0. 0.]\n",
      " [0. 0.]\n",
      " [0. 0.]\n",
      " [0. 0.]\n",
      " [0. 0.]\n",
      " [0. 0.]\n",
      " [0. 0.]\n",
      " [0. 0.]\n",
      " [0. 0.]\n",
      " [0. 0.]\n",
      " [0. 0.]\n",
      " [0. 0.]\n",
      " [0. 0.]\n",
      " [0. 0.]\n",
      " [0. 0.]\n",
      " [0. 0.]\n",
      " [0. 0.]\n",
      " [0. 0.]\n",
      " [0. 0.]\n",
      " [0. 0.]\n",
      " [0. 0.]\n",
      " [0. 0.]\n",
      " [0. 0.]\n",
      " [0. 0.]\n",
      " [0. 0.]\n",
      " [0. 0.]\n",
      " [0. 0.]\n",
      " [0. 0.]\n",
      " [0. 0.]\n",
      " [0. 0.]\n",
      " [0. 0.]\n",
      " [0. 0.]\n",
      " [0. 0.]\n",
      " [0. 0.]\n",
      " [0. 0.]\n",
      " [0. 0.]\n",
      " [0. 0.]\n",
      " [0. 0.]\n",
      " [0. 0.]\n",
      " [0. 0.]\n",
      " [0. 0.]\n",
      " [0. 0.]\n",
      " [0. 0.]\n",
      " [0. 0.]\n",
      " [0. 0.]\n",
      " [0. 0.]\n",
      " [0. 0.]\n",
      " [0. 0.]]\n"
     ]
    }
   ],
   "source": [
    "import numpy as np\n",
    "import torch\n",
    "import seaborn as sns\n",
    "import sys, os\n",
    "\n",
    "import matplotlib.pyplot as plt\n",
    "\n",
    "currentdir = os.path.dirname(os.path.abspath(''))\n",
    "parentdir = os.path.dirname(currentdir)\n",
    "grandparentdir = os.path.dirname(parentdir)\n",
    "sys.path.append(grandparentdir)\n",
    "import res.fnn.functions as func\n",
    "import res.process_data.n_n_distance as nn\n",
    "import res.process_data.dire_and_coor as dc"
   ]
  },
  {
   "cell_type": "code",
   "execution_count": 10,
   "outputs": [],
   "source": [
    "def check_output_hist(model_loaded, model_name, number_bin):\n",
    "    gen = model_loaded.GeneratorNet()\n",
    "    check_point = torch.load(model_name)\n",
    "    gen.load_state_dict(check_point[\"gen_state_dict\"])\n",
    "\n",
    "    noise = func.get_noise(100000, 8)\n",
    "    output = gen(noise).data.numpy()\n",
    "    output = output.reshape(1400000)\n",
    "\n",
    "    plt.hist(output, density=True, bins=number_bin)\n",
    "    plt.title('output of generator')\n",
    "    plt.show()\n",
    "\n",
    "    output = np.round(output * 4) / 4\n",
    "    sns.histplot(output)\n",
    "    plt.title('output of generator after round')\n",
    "    plt.show()\n",
    "\n",
    "\n",
    "def round_and_reshape(model, model_name):\n",
    "    # load model\n",
    "    gen = model.GeneratorNet()\n",
    "    check_point = torch.load(model_name)\n",
    "    gen.load_state_dict(check_point[\"gen_state_dict\"])\n",
    "    # get output\n",
    "    noise = func.get_noise(100000, 8)\n",
    "    output = gen(noise).data.numpy()\n",
    "    # round and reshape output\n",
    "    output = np.round(output * 4) / 4\n",
    "    for i in range(len(output)):\n",
    "        for j in range(len(output[i])):\n",
    "            if output[i][j] == 1.:\n",
    "                output[i][j] = 0\n",
    "    directions_14 = output.reshape((100000, 14, 1))\n",
    "    directions = np.zeros((100000, 15, 1))\n",
    "    for i in range(len(directions)):\n",
    "        directions[i] = np.vstack(([0], directions_14[i]))\n",
    "    return directions\n",
    "\n",
    "\n",
    "def check_overlap(directions, input_directions):\n",
    "    repeat = 0\n",
    "    for output in directions:\n",
    "        if output in input_directions:\n",
    "            repeat += 1\n",
    "    return repeat\n",
    "\n",
    "def print_result(nndistance, overlap_number):\n",
    "    print(f'n to n distance is {nndistance}')\n",
    "    print(f'square of n to n distance is {nndistance ** 2}')\n",
    "    print(f'# of overlap polymer {overlap_number}')\n",
    "    print(f'overlap percentage {overlap_number / 100000 * 100}%')"
   ],
   "metadata": {
    "collapsed": false,
    "pycharm": {
     "name": "#%%\n"
    }
   }
  },
  {
   "cell_type": "markdown",
   "source": [
    "## for input data"
   ],
   "metadata": {
    "collapsed": false,
    "pycharm": {
     "name": "#%% md\n"
    }
   }
  },
  {
   "cell_type": "code",
   "execution_count": 11,
   "outputs": [
    {
     "name": "stdout",
     "output_type": "stream",
     "text": [
      "n to n distance is 3.8775610891383776\n",
      "square of n to n distance is 15.035480000000002\n"
     ]
    }
   ],
   "source": [
    "input_coordinates = np.load('../../data/random/16monos/coordinates.npy')\n",
    "input_directions = np.load('../../data/random/16monos/directions.npy')\n",
    "nndistance = nn.n_n_distance(input_coordinates)\n",
    "print(f'n to n distance is {nndistance}')\n",
    "print(f'square of n to n distance is {nndistance ** 2}')"
   ],
   "metadata": {
    "collapsed": false,
    "pycharm": {
     "name": "#%%\n"
    }
   }
  },
  {
   "cell_type": "markdown",
   "source": [
    "## three layers model\n",
    "### output histogram"
   ],
   "metadata": {
    "collapsed": false,
    "pycharm": {
     "name": "#%% md\n"
    }
   }
  },
  {
   "cell_type": "code",
   "execution_count": 12,
   "outputs": [
    {
     "data": {
      "text/plain": "<Figure size 432x288 with 1 Axes>",
      "image/png": "[encoded data removed]"
     },
     "metadata": {
      "needs_background": "light"
     },
     "output_type": "display_data"
    },
    {
     "data": {
      "text/plain": "<Figure size 432x288 with 1 Axes>",
      "image/png": "[encoded data removed]"
     },
     "metadata": {
      "needs_background": "light"
     },
     "output_type": "display_data"
    },
    {
     "name": "stderr",
     "output_type": "stream",
     "text": [
      "/Users/dengnaicheng/opt/anaconda3/envs/nn/lib/python3.7/site-packages/ipykernel_launcher.py:44: DeprecationWarning: elementwise comparison failed; this will raise an error in the future.\n"
     ]
    },
    {
     "name": "stdout",
     "output_type": "stream",
     "text": [
      "n to n distance is 3.5925144397761297\n",
      "square of n to n distance is 12.90616\n",
      "# of overlap polymer 0\n",
      "overlap percentage 0.0%\n"
     ]
    }
   ],
   "source": [
    "import models.source.three_layers as model\n",
    "model_name = 'models/three_layers/three_layers_gan_4000.pth.tar'\n",
    "check_output_hist(model, model_name, number_bin=100)\n",
    "directions = round_and_reshape(model, model_name)\n",
    "coordinates = dc.direction_coordinate_three(directions, 16)\n",
    "nndistance = nn.n_n_distance(coordinates)\n",
    "overlap_number = check_overlap(directions, input_directions)\n",
    "print_result(nndistance, overlap_number)"
   ],
   "metadata": {
    "collapsed": false,
    "pycharm": {
     "name": "#%%\n"
    }
   }
  },
  {
   "cell_type": "markdown",
   "source": [
    "## check the output for four layers model"
   ],
   "metadata": {
    "collapsed": false
   }
  },
  {
   "cell_type": "code",
   "execution_count": 13,
   "outputs": [
    {
     "data": {
      "text/plain": "<Figure size 432x288 with 1 Axes>",
      "image/png": "[encoded data removed]"
     },
     "metadata": {
      "needs_background": "light"
     },
     "output_type": "display_data"
    },
    {
     "data": {
      "text/plain": "<Figure size 432x288 with 1 Axes>",
      "image/png": "[encoded data removed]"
     },
     "metadata": {
      "needs_background": "light"
     },
     "output_type": "display_data"
    },
    {
     "name": "stderr",
     "output_type": "stream",
     "text": [
      "/Users/dengnaicheng/opt/anaconda3/envs/nn/lib/python3.7/site-packages/ipykernel_launcher.py:44: DeprecationWarning: elementwise comparison failed; this will raise an error in the future.\n"
     ]
    },
    {
     "name": "stdout",
     "output_type": "stream",
     "text": [
      "n to n distance is 3.5241736620092943\n",
      "square of n to n distance is 12.419799999999999\n",
      "# of overlap polymer 0\n",
      "overlap percentage 0.0%\n"
     ]
    }
   ],
   "source": [
    "import models.source.four_layers as model\n",
    "model_name = 'models/four_layers/four_layers_gan_4000.pth.tar'\n",
    "check_output_hist(model, model_name, number_bin=100)\n",
    "directions = round_and_reshape(model, model_name)\n",
    "coordinates = dc.direction_coordinate_three(directions, 16)\n",
    "nndistance = nn.n_n_distance(coordinates)\n",
    "overlap_number = check_overlap(directions, input_directions)\n",
    "print_result(nndistance, overlap_number)"
   ],
   "metadata": {
    "collapsed": false,
    "pycharm": {
     "name": "#%%\n"
    }
   }
  },
  {
   "cell_type": "markdown",
   "source": [
    "## five half"
   ],
   "metadata": {
    "collapsed": false,
    "pycharm": {
     "name": "#%% md\n"
    }
   }
  },
  {
   "cell_type": "code",
   "execution_count": 14,
   "outputs": [
    {
     "data": {
      "text/plain": "<Figure size 432x288 with 1 Axes>",
      "image/png": "[encoded data removed]"
     },
     "metadata": {
      "needs_background": "light"
     },
     "output_type": "display_data"
    },
    {
     "data": {
      "text/plain": "<Figure size 432x288 with 1 Axes>",
      "image/png": "[encoded data removed]"
     },
     "metadata": {
      "needs_background": "light"
     },
     "output_type": "display_data"
    },
    {
     "name": "stderr",
     "output_type": "stream",
     "text": [
      "/Users/dengnaicheng/opt/anaconda3/envs/nn/lib/python3.7/site-packages/ipykernel_launcher.py:44: DeprecationWarning: elementwise comparison failed; this will raise an error in the future.\n"
     ]
    },
    {
     "name": "stdout",
     "output_type": "stream",
     "text": [
      "n to n distance is 3.765819963832578\n",
      "square of n to n distance is 14.1814\n",
      "# of overlap polymer 0\n",
      "overlap percentage 0.0%\n"
     ]
    }
   ],
   "source": [
    "import models.source.five_half as model\n",
    "model_name = 'models/five_half/five_half_gan_4000.pth.tar'\n",
    "check_output_hist(model, model_name, number_bin=100)\n",
    "directions = round_and_reshape(model, model_name)\n",
    "coordinates = dc.direction_coordinate_three(directions, 16)\n",
    "nndistance = nn.n_n_distance(coordinates)\n",
    "overlap_number = check_overlap(directions, input_directions)\n",
    "print_result(nndistance, overlap_number)"
   ],
   "metadata": {
    "collapsed": false,
    "pycharm": {
     "name": "#%%\n"
    }
   }
  },
  {
   "cell_type": "markdown",
   "source": [
    "## check the output for five layers model"
   ],
   "metadata": {
    "collapsed": false
   }
  },
  {
   "cell_type": "code",
   "execution_count": 15,
   "outputs": [
    {
     "data": {
      "text/plain": "<Figure size 432x288 with 1 Axes>",
      "image/png": "[encoded data removed]"
     },
     "metadata": {
      "needs_background": "light"
     },
     "output_type": "display_data"
    },
    {
     "data": {
      "text/plain": "<Figure size 432x288 with 1 Axes>",
      "image/png": "[encoded data removed]"
     },
     "metadata": {
      "needs_background": "light"
     },
     "output_type": "display_data"
    },
    {
     "name": "stderr",
     "output_type": "stream",
     "text": [
      "/Users/dengnaicheng/opt/anaconda3/envs/nn/lib/python3.7/site-packages/ipykernel_launcher.py:44: DeprecationWarning: elementwise comparison failed; this will raise an error in the future.\n"
     ]
    },
    {
     "name": "stdout",
     "output_type": "stream",
     "text": [
      "n to n distance is 3.741331313850726\n",
      "square of n to n distance is 13.99756\n",
      "# of overlap polymer 0\n",
      "overlap percentage 0.0%\n"
     ]
    }
   ],
   "source": [
    "import models.source.five_layers as model\n",
    "model_name = 'models/five_layers/five_layers_gan_4000.pth.tar'\n",
    "check_output_hist(model, model_name, number_bin=100)\n",
    "directions = round_and_reshape(model, model_name)\n",
    "coordinates = dc.direction_coordinate_three(directions, 16)\n",
    "nndistance = nn.n_n_distance(coordinates)\n",
    "overlap_number = check_overlap(directions, input_directions)\n",
    "print_result(nndistance, overlap_number)"
   ],
   "metadata": {
    "collapsed": false,
    "pycharm": {
     "name": "#%%\n"
    }
   }
  },
  {
   "cell_type": "markdown",
   "source": [
    "## check the output for five double model"
   ],
   "metadata": {
    "collapsed": false
   }
  },
  {
   "cell_type": "code",
   "execution_count": 16,
   "outputs": [
    {
     "data": {
      "text/plain": "<Figure size 432x288 with 1 Axes>",
      "image/png": "[encoded data removed]"
     },
     "metadata": {
      "needs_background": "light"
     },
     "output_type": "display_data"
    },
    {
     "data": {
      "text/plain": "<Figure size 432x288 with 1 Axes>",
      "image/png": "[encoded data removed]"
     },
     "metadata": {
      "needs_background": "light"
     },
     "output_type": "display_data"
    },
    {
     "name": "stderr",
     "output_type": "stream",
     "text": [
      "/Users/dengnaicheng/opt/anaconda3/envs/nn/lib/python3.7/site-packages/ipykernel_launcher.py:44: DeprecationWarning: elementwise comparison failed; this will raise an error in the future.\n"
     ]
    },
    {
     "name": "stdout",
     "output_type": "stream",
     "text": [
      "n to n distance is 3.681412772292724\n",
      "square of n to n distance is 13.5528\n",
      "# of overlap polymer 0\n",
      "overlap percentage 0.0%\n"
     ]
    }
   ],
   "source": [
    "import models.source.five_double as model\n",
    "model_name = 'models/five_double/five_double_gan_3000.pth.tar'\n",
    "check_output_hist(model, model_name, number_bin=100)\n",
    "directions = round_and_reshape(model, model_name)\n",
    "coordinates = dc.direction_coordinate_three(directions, 16)\n",
    "nndistance = nn.n_n_distance(coordinates)\n",
    "overlap_number = check_overlap(directions, input_directions)\n",
    "print_result(nndistance, overlap_number)"
   ],
   "metadata": {
    "collapsed": false,
    "pycharm": {
     "name": "#%%\n"
    }
   }
  },
  {
   "cell_type": "markdown",
   "source": [
    "## check the output for six layers model"
   ],
   "metadata": {
    "collapsed": false
   }
  },
  {
   "cell_type": "code",
   "execution_count": 17,
   "outputs": [
    {
     "data": {
      "text/plain": "<Figure size 432x288 with 1 Axes>",
      "image/png": "[encoded data removed]"
     },
     "metadata": {
      "needs_background": "light"
     },
     "output_type": "display_data"
    },
    {
     "data": {
      "text/plain": "<Figure size 432x288 with 1 Axes>",
      "image/png": "[encoded data removed]"
     },
     "metadata": {
      "needs_background": "light"
     },
     "output_type": "display_data"
    },
    {
     "name": "stderr",
     "output_type": "stream",
     "text": [
      "/Users/dengnaicheng/opt/anaconda3/envs/nn/lib/python3.7/site-packages/ipykernel_launcher.py:44: DeprecationWarning: elementwise comparison failed; this will raise an error in the future.\n"
     ]
    },
    {
     "name": "stdout",
     "output_type": "stream",
     "text": [
      "n to n distance is 3.745685518032714\n",
      "square of n to n distance is 14.03016\n",
      "# of overlap polymer 0\n",
      "overlap percentage 0.0%\n"
     ]
    }
   ],
   "source": [
    "import models.source.six_layers as model\n",
    "model_name = 'models/six_layers/six_layers_gan_4000.pth.tar'\n",
    "check_output_hist(model, model_name, number_bin=100)\n",
    "directions = round_and_reshape(model, model_name)\n",
    "coordinates = dc.direction_coordinate_three(directions, 16)\n",
    "nndistance = nn.n_n_distance(coordinates)\n",
    "overlap_number = check_overlap(directions, input_directions)\n",
    "print_result(nndistance, overlap_number)"
   ],
   "metadata": {
    "collapsed": false,
    "pycharm": {
     "name": "#%%\n"
    }
   }
  },
  {
   "cell_type": "code",
   "execution_count": 2,
   "outputs": [
    {
     "data": {
      "text/plain": "<AxesSubplot:ylabel='Count'>"
     },
     "execution_count": 2,
     "metadata": {},
     "output_type": "execute_result"
    },
    {
     "data": {
      "text/plain": "<Figure size 432x288 with 1 Axes>",
      "image/png": "[encoded data removed]"
     },
     "metadata": {
      "needs_background": "light"
     },
     "output_type": "display_data"
    }
   ],
   "source": [
    "a = func.get_noise(100000, 8)\n",
    "a = a.reshape(800000)\n",
    "sns.histplot(a)"
   ],
   "metadata": {
    "collapsed": false,
    "pycharm": {
     "name": "#%%\n"
    }
   }
  },
  {
   "cell_type": "code",
   "execution_count": null,
   "outputs": [],
   "source": [],
   "metadata": {
    "collapsed": false,
    "pycharm": {
     "name": "#%%\n"
    }
   }
  }
 ],
 "metadata": {
  "kernelspec": {
   "display_name": "Python 3",
   "language": "python",
   "name": "python3"
  },
  "language_info": {
   "codemirror_mode": {
    "name": "ipython",
    "version": 2
   },
   "file_extension": ".py",
   "mimetype": "text/x-python",
   "name": "python",
   "nbconvert_exporter": "python",
   "pygments_lexer": "ipython2",
   "version": "2.7.6"
  }
 },
 "nbformat": 4,
 "nbformat_minor": 0
}